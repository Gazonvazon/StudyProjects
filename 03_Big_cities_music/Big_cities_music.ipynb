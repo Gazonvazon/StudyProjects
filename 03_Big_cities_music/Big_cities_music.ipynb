{
 "cells": [
  {
   "cell_type": "markdown",
   "metadata": {
    "id": "E0vqbgi9ay0H"
   },
   "source": [
    "# Яндекс.Музыка"
   ]
  },
  {
   "cell_type": "markdown",
   "metadata": {},
   "source": [
    "**Название проекта**\n",
    "\n",
    "Музыка больших городов\n",
    "_____\n",
    "**Описание исследования.**\n",
    "\n",
    "Сравнение Москвы и Петербурга окружено мифами:\n",
    "\n",
    "    Москва — мегаполис, подчинённый жёсткому ритму рабочей недели;\n",
    "    Петербург — город своеобразной культуры, непохожий на Москву.    \n",
    "    \n",
    "Некоторые мифы отражают действительность. Другие — пустые стереотипы. Бизнес должен отличать первые от вторых, чтобы принимать рациональные решения.\n",
    "_____\n",
    "**Цель исследования.**\n",
    "\n",
    "На реальных данных Яндекс Музыки проверить гипотезы и сравнить поведение пользователей двух столиц.\n",
    "_____\n",
    "**Задачи исследования.**\n",
    "\n",
    "Проверить гипотезы:\n",
    "* Активность пользователей зависит от дня недели. Причём в Москве и Петербурге это проявляется по-разному.\n",
    "* Утром в понедельник в Москве преобладают одни жанры музыки, а в Петербурге — другие. Это верно и для вечера пятницы.\n",
    "* Москва и Петербург предпочитают разные жанры музыки. В Москве чаще слушают поп-музыку, в Петербурге — русский рэп.\n",
    "_____\n",
    "**Исходные данные.**\n",
    " \n",
    "Данные хранятся в файле yandex_music_project.csv\n",
    "\n",
    "Описание колонок:\n",
    "\n",
    "    userID — идентификатор пользователя;\n",
    "    Track — название трека;\n",
    "    artist — имя исполнителя;\n",
    "    genre — название жанра;\n",
    "    City — город пользователя;\n",
    "    time — время начала прослушивания;\n",
    "    Day — день недели.\n",
    "\n",
    "______\n",
    "\n",
    "**Данное исследование разделим на несколько частей:**\n",
    "\n",
    "Исследование пройдёт в три этапа:\n",
    " 1. Обзор данных.\n",
    " 2. Предобработка данных.\n",
    " 3. Проверка гипотез."
   ]
  },
  {
   "cell_type": "markdown",
   "metadata": {
    "id": "Ml1hmfXC_Zcs"
   },
   "source": [
    "## Обзор данных\n",
    "\n",
    "Составим первое представление о данных Яндекс.Музыки."
   ]
  },
  {
   "cell_type": "markdown",
   "metadata": {
    "id": "57eAOGIz_Zcs"
   },
   "source": [
    "Основной инструмент аналитика — `pandas`. Импортируйте эту библиотеку."
   ]
  },
  {
   "cell_type": "code",
   "execution_count": 1,
   "metadata": {
    "id": "AXN7PHPN_Zcs"
   },
   "outputs": [],
   "source": [
    "# импорт библиотеки pandas\n",
    "import pandas as pd"
   ]
  },
  {
   "cell_type": "markdown",
   "metadata": {
    "id": "SG23P8tt_Zcs"
   },
   "source": [
    "Прочитаем файл `yandex_music_project.csv` из папки `/datasets` и сохраните его в переменной `df`:"
   ]
  },
  {
   "cell_type": "code",
   "execution_count": 2,
   "metadata": {
    "id": "fFVu7vqh_Zct"
   },
   "outputs": [],
   "source": [
    "# чтение файла с данными и сохранение в df\n",
    "df = pd.read_csv('datasets/yandex_music_project.csv')"
   ]
  },
  {
   "cell_type": "code",
   "execution_count": 3,
   "metadata": {
    "id": "oWTVX3gW_Zct",
    "scrolled": true
   },
   "outputs": [
    {
     "data": {
      "text/html": [
       "<div>\n",
       "<style scoped>\n",
       "    .dataframe tbody tr th:only-of-type {\n",
       "        vertical-align: middle;\n",
       "    }\n",
       "\n",
       "    .dataframe tbody tr th {\n",
       "        vertical-align: top;\n",
       "    }\n",
       "\n",
       "    .dataframe thead th {\n",
       "        text-align: right;\n",
       "    }\n",
       "</style>\n",
       "<table border=\"1\" class=\"dataframe\">\n",
       "  <thead>\n",
       "    <tr style=\"text-align: right;\">\n",
       "      <th></th>\n",
       "      <th>Unnamed: 0</th>\n",
       "      <th>userID</th>\n",
       "      <th>Track</th>\n",
       "      <th>artist</th>\n",
       "      <th>genre</th>\n",
       "      <th>City</th>\n",
       "      <th>time</th>\n",
       "      <th>Day</th>\n",
       "    </tr>\n",
       "  </thead>\n",
       "  <tbody>\n",
       "    <tr>\n",
       "      <th>0</th>\n",
       "      <td>0</td>\n",
       "      <td>FFB692EC</td>\n",
       "      <td>Kamigata To Boots</td>\n",
       "      <td>The Mass Missile</td>\n",
       "      <td>rock</td>\n",
       "      <td>Saint-Petersburg</td>\n",
       "      <td>20:28:33</td>\n",
       "      <td>Wednesday</td>\n",
       "    </tr>\n",
       "    <tr>\n",
       "      <th>1</th>\n",
       "      <td>1</td>\n",
       "      <td>55204538</td>\n",
       "      <td>Delayed Because of Accident</td>\n",
       "      <td>Andreas Rönnberg</td>\n",
       "      <td>rock</td>\n",
       "      <td>Moscow</td>\n",
       "      <td>14:07:09</td>\n",
       "      <td>Friday</td>\n",
       "    </tr>\n",
       "    <tr>\n",
       "      <th>2</th>\n",
       "      <td>2</td>\n",
       "      <td>20EC38</td>\n",
       "      <td>Funiculì funiculà</td>\n",
       "      <td>Mario Lanza</td>\n",
       "      <td>pop</td>\n",
       "      <td>Saint-Petersburg</td>\n",
       "      <td>20:58:07</td>\n",
       "      <td>Wednesday</td>\n",
       "    </tr>\n",
       "    <tr>\n",
       "      <th>3</th>\n",
       "      <td>3</td>\n",
       "      <td>A3DD03C9</td>\n",
       "      <td>Dragons in the Sunset</td>\n",
       "      <td>Fire + Ice</td>\n",
       "      <td>folk</td>\n",
       "      <td>Saint-Petersburg</td>\n",
       "      <td>08:37:09</td>\n",
       "      <td>Monday</td>\n",
       "    </tr>\n",
       "    <tr>\n",
       "      <th>4</th>\n",
       "      <td>4</td>\n",
       "      <td>E2DC1FAE</td>\n",
       "      <td>Soul People</td>\n",
       "      <td>Space Echo</td>\n",
       "      <td>dance</td>\n",
       "      <td>Moscow</td>\n",
       "      <td>08:34:34</td>\n",
       "      <td>Monday</td>\n",
       "    </tr>\n",
       "    <tr>\n",
       "      <th>5</th>\n",
       "      <td>5</td>\n",
       "      <td>842029A1</td>\n",
       "      <td>Преданная</td>\n",
       "      <td>IMPERVTOR</td>\n",
       "      <td>rusrap</td>\n",
       "      <td>Saint-Petersburg</td>\n",
       "      <td>13:09:41</td>\n",
       "      <td>Friday</td>\n",
       "    </tr>\n",
       "    <tr>\n",
       "      <th>6</th>\n",
       "      <td>6</td>\n",
       "      <td>4CB90AA5</td>\n",
       "      <td>True</td>\n",
       "      <td>Roman Messer</td>\n",
       "      <td>dance</td>\n",
       "      <td>Moscow</td>\n",
       "      <td>13:00:07</td>\n",
       "      <td>Wednesday</td>\n",
       "    </tr>\n",
       "    <tr>\n",
       "      <th>7</th>\n",
       "      <td>7</td>\n",
       "      <td>F03E1C1F</td>\n",
       "      <td>Feeling This Way</td>\n",
       "      <td>Polina Griffith</td>\n",
       "      <td>dance</td>\n",
       "      <td>Moscow</td>\n",
       "      <td>20:47:49</td>\n",
       "      <td>Wednesday</td>\n",
       "    </tr>\n",
       "    <tr>\n",
       "      <th>8</th>\n",
       "      <td>8</td>\n",
       "      <td>8FA1D3BE</td>\n",
       "      <td>И вновь продолжается бой</td>\n",
       "      <td>NaN</td>\n",
       "      <td>ruspop</td>\n",
       "      <td>Moscow</td>\n",
       "      <td>09:17:40</td>\n",
       "      <td>Friday</td>\n",
       "    </tr>\n",
       "    <tr>\n",
       "      <th>9</th>\n",
       "      <td>9</td>\n",
       "      <td>E772D5C0</td>\n",
       "      <td>Pessimist</td>\n",
       "      <td>NaN</td>\n",
       "      <td>dance</td>\n",
       "      <td>Saint-Petersburg</td>\n",
       "      <td>21:20:49</td>\n",
       "      <td>Wednesday</td>\n",
       "    </tr>\n",
       "  </tbody>\n",
       "</table>\n",
       "</div>"
      ],
      "text/plain": [
       "   Unnamed: 0    userID                        Track            artist  \\\n",
       "0           0  FFB692EC            Kamigata To Boots  The Mass Missile   \n",
       "1           1  55204538  Delayed Because of Accident  Andreas Rönnberg   \n",
       "2           2    20EC38            Funiculì funiculà       Mario Lanza   \n",
       "3           3  A3DD03C9        Dragons in the Sunset        Fire + Ice   \n",
       "4           4  E2DC1FAE                  Soul People        Space Echo   \n",
       "5           5  842029A1                    Преданная         IMPERVTOR   \n",
       "6           6  4CB90AA5                         True      Roman Messer   \n",
       "7           7  F03E1C1F             Feeling This Way   Polina Griffith   \n",
       "8           8  8FA1D3BE     И вновь продолжается бой               NaN   \n",
       "9           9  E772D5C0                    Pessimist               NaN   \n",
       "\n",
       "    genre            City        time        Day  \n",
       "0    rock  Saint-Petersburg  20:28:33  Wednesday  \n",
       "1    rock            Moscow  14:07:09     Friday  \n",
       "2     pop  Saint-Petersburg  20:58:07  Wednesday  \n",
       "3    folk  Saint-Petersburg  08:37:09     Monday  \n",
       "4   dance            Moscow  08:34:34     Monday  \n",
       "5  rusrap  Saint-Petersburg  13:09:41     Friday  \n",
       "6   dance            Moscow  13:00:07  Wednesday  \n",
       "7   dance            Moscow  20:47:49  Wednesday  \n",
       "8  ruspop            Moscow  09:17:40     Friday  \n",
       "9   dance  Saint-Petersburg  21:20:49  Wednesday  "
      ]
     },
     "execution_count": 3,
     "metadata": {},
     "output_type": "execute_result"
    }
   ],
   "source": [
    "df.head(10)"
   ]
  },
  {
   "cell_type": "markdown",
   "metadata": {
    "id": "EO73Kwic_Zct"
   },
   "source": [
    "Получим общую информацию о таблице:"
   ]
  },
  {
   "cell_type": "code",
   "execution_count": 4,
   "metadata": {
    "id": "DSf2kIb-_Zct"
   },
   "outputs": [
    {
     "name": "stdout",
     "output_type": "stream",
     "text": [
      "<class 'pandas.core.frame.DataFrame'>\n",
      "RangeIndex: 65079 entries, 0 to 65078\n",
      "Data columns (total 8 columns):\n",
      " #   Column      Non-Null Count  Dtype \n",
      "---  ------      --------------  ----- \n",
      " 0   Unnamed: 0  65079 non-null  int64 \n",
      " 1     userID    65079 non-null  object\n",
      " 2   Track       63848 non-null  object\n",
      " 3   artist      57876 non-null  object\n",
      " 4   genre       63881 non-null  object\n",
      " 5     City      65079 non-null  object\n",
      " 6   time        65079 non-null  object\n",
      " 7   Day         65079 non-null  object\n",
      "dtypes: int64(1), object(7)\n",
      "memory usage: 4.0+ MB\n"
     ]
    }
   ],
   "source": [
    "# получение общей информации о данных в таблице df\n",
    "df.info()"
   ]
  },
  {
   "cell_type": "markdown",
   "metadata": {
    "id": "TaQ2Iwbr_Zct"
   },
   "source": [
    "Итак, в таблице семь столбцов. Тип данных во всех столбцах — `object`.\n",
    "\n",
    "Согласно документации к данным:\n",
    "* `userID` — идентификатор пользователя;\n",
    "* `Track` — название трека;  \n",
    "* `artist` — имя исполнителя;\n",
    "* `genre` — название жанра;\n",
    "* `City` — город пользователя;\n",
    "* `time` — время начала прослушивания;\n",
    "* `Day` — день недели.\n",
    "\n",
    "В названиях колонок видны три нарушения стиля:\n",
    "1. Строчные буквы сочетаются с прописными.\n",
    "2. Встречаются пробелы.\n",
    "3. Найдите ещё одну проблему в названии колонок и опишите её в этом пункте.\n",
    "\n",
    "\n",
    "\n",
    "Количество значений в столбцах различается. Значит, в данных есть пропущенные значения.\n"
   ]
  },
  {
   "cell_type": "markdown",
   "metadata": {
    "id": "MCB6-dXG_Zct"
   },
   "source": [
    "**Выводы**\n",
    "\n",
    "В каждой строке таблицы — данные о прослушанном треке. Часть колонок описывает саму композицию: название, исполнителя и жанр. Остальные данные рассказывают о пользователе: из какого он города, когда он слушал музыку. \n",
    "\n",
    "Предварительно можно утверждать, что, данных достаточно для проверки гипотез. Но встречаются пропуски в данных, а в названиях колонок — расхождения с хорошим стилем.\n",
    "\n",
    "Чтобы двигаться дальше, нужно устранить проблемы в данных."
   ]
  },
  {
   "cell_type": "markdown",
   "metadata": {
    "id": "SjYF6Ub9_Zct"
   },
   "source": [
    "## Предобработка данных\n",
    "Исправим стиль в заголовках столбцов, исключим пропуски. Затем проверим данные на дубликаты."
   ]
  },
  {
   "cell_type": "markdown",
   "metadata": {
    "id": "dIaKXr29_Zct"
   },
   "source": [
    "### Стиль заголовков\n",
    "Выведем на экран названия столбцов:"
   ]
  },
  {
   "cell_type": "code",
   "execution_count": 5,
   "metadata": {
    "id": "oKOTdF_Q_Zct"
   },
   "outputs": [
    {
     "data": {
      "text/plain": [
       "Index(['Unnamed: 0', '  userID', 'Track', 'artist', 'genre', '  City  ',\n",
       "       'time', 'Day'],\n",
       "      dtype='object')"
      ]
     },
     "execution_count": 5,
     "metadata": {},
     "output_type": "execute_result"
    }
   ],
   "source": [
    "# перечень названий столбцов таблицы df\n",
    "df.columns"
   ]
  },
  {
   "cell_type": "markdown",
   "metadata": {
    "id": "zj5534cv_Zct"
   },
   "source": [
    "Привед названия в соответствие с хорошим стилем:\n",
    "* несколько слов в названии запишите в «змеином_регистре»,\n",
    "* все символы сделайте строчными,\n",
    "* устраните пробелы.\n",
    "\n",
    "Для этого переименуйте колонки так:\n",
    "* `'  userID'` → `'user_id'`;\n",
    "* `'Track'` → `'track'`;\n",
    "* `'  City  '` → `'city'`;\n",
    "* `'Day'` → `'day'`."
   ]
  },
  {
   "cell_type": "code",
   "execution_count": 6,
   "metadata": {
    "id": "ISlFqs5y_Zct"
   },
   "outputs": [],
   "source": [
    "# переименование столбцов\n",
    "df = df.iloc[:, 1:]\n",
    "df.columns = [ 'user_id', 'track', 'artist', 'genre', 'city', 'time', 'day']\n",
    "#df.drop(['Unnamed: 0'], )\n"
   ]
  },
  {
   "cell_type": "markdown",
   "metadata": {
    "id": "1dqbh00J_Zct"
   },
   "source": [
    "Проверьте результат. Для этого ещё раз выведите на экран названия столбцов:"
   ]
  },
  {
   "cell_type": "code",
   "execution_count": 7,
   "metadata": {
    "id": "d4NOAmTW_Zct"
   },
   "outputs": [
    {
     "data": {
      "text/plain": [
       "Index(['user_id', 'track', 'artist', 'genre', 'city', 'time', 'day'], dtype='object')"
      ]
     },
     "execution_count": 7,
     "metadata": {},
     "output_type": "execute_result"
    }
   ],
   "source": [
    "# проверка результатов - перечень названий столбцов\n",
    "df.columns"
   ]
  },
  {
   "cell_type": "markdown",
   "metadata": {
    "id": "5ISfbcfY_Zct"
   },
   "source": [
    "### Пропуски значений\n",
    "Сначала посчитайте, сколько в таблице пропущенных значений. Для этого достаточно двух методов `pandas`:"
   ]
  },
  {
   "cell_type": "code",
   "execution_count": 8,
   "metadata": {
    "id": "RskX29qr_Zct"
   },
   "outputs": [
    {
     "data": {
      "text/plain": [
       "user_id       0\n",
       "track      1231\n",
       "artist     7203\n",
       "genre      1198\n",
       "city          0\n",
       "time          0\n",
       "day           0\n",
       "dtype: int64"
      ]
     },
     "execution_count": 8,
     "metadata": {},
     "output_type": "execute_result"
    }
   ],
   "source": [
    "# подсчёт пропусков\n",
    "df.isna().sum()"
   ]
  },
  {
   "cell_type": "markdown",
   "metadata": {
    "id": "qubhgnlO_Zct"
   },
   "source": [
    "Не все пропущенные значения влияют на исследование. Так в `track` и `artist` пропуски не важны для вашей работы. Достаточно заменить их явными обозначениями.\n",
    "\n",
    "Но пропуски в `genre` могут помешать сравнению музыкальных вкусов в Москве и Санкт-Петербурге. На практике было бы правильно установить причину пропусков и восстановить данные. Такой возможности нет в учебном проекте. Придётся:\n",
    "* заполнить и эти пропуски явными обозначениями,\n",
    "* оценить, насколько они повредят расчётам. "
   ]
  },
  {
   "cell_type": "markdown",
   "metadata": {
    "id": "fSv2laPA_Zct"
   },
   "source": [
    "Замените пропущенные значения в столбцах `track`, `artist` и `genre` на строку `'unknown'`. Для этого создайте список `columns_to_replace`, переберите его элементы циклом `for` и для каждого столбца выполните замену пропущенных значений:"
   ]
  },
  {
   "cell_type": "code",
   "execution_count": 9,
   "metadata": {
    "id": "KplB5qWs_Zct"
   },
   "outputs": [],
   "source": [
    "# перебор названий столбцов в цикле и замена пропущенных значений на 'unknown'\n",
    "columns_to_replace = ['track', 'artist', 'genre']\n",
    "for col_name in columns_to_replace:\n",
    "    df[col_name] = df[col_name].fillna('unknown')"
   ]
  },
  {
   "cell_type": "markdown",
   "metadata": {
    "id": "Ilsm-MZo_Zct"
   },
   "source": [
    "Убедитесь, что в таблице не осталось пропусков. Для этого ещё раз посчитайте пропущенные значения."
   ]
  },
  {
   "cell_type": "code",
   "execution_count": 10,
   "metadata": {
    "id": "Tq4nYRX4_Zct"
   },
   "outputs": [
    {
     "data": {
      "text/plain": [
       "user_id    0\n",
       "track      0\n",
       "artist     0\n",
       "genre      0\n",
       "city       0\n",
       "time       0\n",
       "day        0\n",
       "dtype: int64"
      ]
     },
     "execution_count": 10,
     "metadata": {},
     "output_type": "execute_result"
    }
   ],
   "source": [
    "# подсчёт пропусков\n",
    "df.isna().sum()"
   ]
  },
  {
   "cell_type": "markdown",
   "metadata": {
    "id": "BWKRtBJ3_Zct"
   },
   "source": [
    "### Дубликаты\n",
    "Посчитайте явные дубликаты в таблице одной командой:"
   ]
  },
  {
   "cell_type": "code",
   "execution_count": 11,
   "metadata": {
    "id": "36eES_S0_Zct"
   },
   "outputs": [
    {
     "name": "stdout",
     "output_type": "stream",
     "text": [
      "Явных дубликатов: 3826\n"
     ]
    }
   ],
   "source": [
    "# подсчёт явных дубликатов\n",
    "print(\"Явных дубликатов:\", df.duplicated().sum())"
   ]
  },
  {
   "cell_type": "markdown",
   "metadata": {
    "id": "Ot25h6XR_Zct"
   },
   "source": [
    "Вызовите специальный метод `pandas`, чтобы удалить явные дубликаты:"
   ]
  },
  {
   "cell_type": "code",
   "execution_count": 12,
   "metadata": {
    "id": "exFHq6tt_Zct"
   },
   "outputs": [],
   "source": [
    "# удаление явных дубликатов (с удалением старых индексов и формированием новых)\n",
    "df = df.drop_duplicates().reset_index(drop = True)"
   ]
  },
  {
   "cell_type": "markdown",
   "metadata": {
    "id": "Im2YwBEG_Zct"
   },
   "source": [
    "Ещё раз посчитайте явные дубликаты в таблице — убедитесь, что полностью от них избавились:"
   ]
  },
  {
   "cell_type": "code",
   "execution_count": 13,
   "metadata": {
    "id": "-8PuNWQ0_Zct",
    "scrolled": true
   },
   "outputs": [
    {
     "name": "stdout",
     "output_type": "stream",
     "text": [
      "Явных дубликатов: 0\n"
     ]
    }
   ],
   "source": [
    "# проверка на отсутствие дубликатов\n",
    "print(\"Явных дубликатов:\", df.duplicated().sum())"
   ]
  },
  {
   "cell_type": "markdown",
   "metadata": {
    "id": "QlFBsxAr_Zct"
   },
   "source": [
    "Теперь избавьтесь от неявных дубликатов в колонке `genre`. Например, название одного и того же жанра может быть записано немного по-разному. Такие ошибки тоже повлияют на результат исследования."
   ]
  },
  {
   "cell_type": "markdown",
   "metadata": {
    "id": "eSjWwsOh_Zct"
   },
   "source": [
    "Выведите на экран список уникальных названий жанров, отсортированный в алфавитном порядке. Для этого:\n",
    "* извлеките нужный столбец датафрейма, \n",
    "* примените к нему метод сортировки,\n",
    "* для отсортированного столбца вызовите метод, который вернёт уникальные значения из столбца."
   ]
  },
  {
   "cell_type": "code",
   "execution_count": 14,
   "metadata": {
    "id": "JIUcqzZN_Zct",
    "scrolled": true
   },
   "outputs": [
    {
     "data": {
      "text/plain": [
       "array(['acid', 'acoustic', 'action', 'adult', 'africa', 'afrikaans',\n",
       "       'alternative', 'alternativepunk', 'ambient', 'americana',\n",
       "       'animated', 'anime', 'arabesk', 'arabic', 'arena',\n",
       "       'argentinetango', 'art', 'audiobook', 'author', 'avantgarde',\n",
       "       'axé', 'baile', 'balkan', 'beats', 'bigroom', 'black', 'bluegrass',\n",
       "       'blues', 'bollywood', 'bossa', 'brazilian', 'breakbeat', 'breaks',\n",
       "       'broadway', 'cantautori', 'cantopop', 'canzone', 'caribbean',\n",
       "       'caucasian', 'celtic', 'chamber', 'chanson', 'children', 'chill',\n",
       "       'chinese', 'choral', 'christian', 'christmas', 'classical',\n",
       "       'classicmetal', 'club', 'colombian', 'comedy', 'conjazz',\n",
       "       'contemporary', 'country', 'cuban', 'dance', 'dancehall',\n",
       "       'dancepop', 'dark', 'death', 'deep', 'deutschrock', 'deutschspr',\n",
       "       'dirty', 'disco', 'dnb', 'documentary', 'downbeat', 'downtempo',\n",
       "       'drum', 'dub', 'dubstep', 'eastern', 'easy', 'electronic',\n",
       "       'electropop', 'emo', 'entehno', 'epicmetal', 'estrada', 'ethnic',\n",
       "       'eurofolk', 'european', 'experimental', 'extrememetal', 'fado',\n",
       "       'fairytail', 'film', 'fitness', 'flamenco', 'folk', 'folklore',\n",
       "       'folkmetal', 'folkrock', 'folktronica', 'forró', 'frankreich',\n",
       "       'französisch', 'french', 'funk', 'future', 'gangsta', 'garage',\n",
       "       'german', 'ghazal', 'gitarre', 'glitch', 'gospel', 'gothic',\n",
       "       'grime', 'grunge', 'gypsy', 'handsup', \"hard'n'heavy\", 'hardcore',\n",
       "       'hardstyle', 'hardtechno', 'hip', 'hip-hop', 'hiphop',\n",
       "       'historisch', 'holiday', 'hop', 'horror', 'house', 'hymn', 'idm',\n",
       "       'independent', 'indian', 'indie', 'indipop', 'industrial',\n",
       "       'inspirational', 'instrumental', 'international', 'irish', 'jam',\n",
       "       'japanese', 'jazz', 'jewish', 'jpop', 'jungle', 'k-pop',\n",
       "       'karadeniz', 'karaoke', 'kayokyoku', 'korean', 'laiko', 'latin',\n",
       "       'latino', 'leftfield', 'local', 'lounge', 'loungeelectronic',\n",
       "       'lovers', 'malaysian', 'mandopop', 'marschmusik', 'meditative',\n",
       "       'mediterranean', 'melodic', 'metal', 'metalcore', 'mexican',\n",
       "       'middle', 'minimal', 'miscellaneous', 'modern', 'mood', 'mpb',\n",
       "       'muslim', 'native', 'neoklassik', 'neue', 'new', 'newage',\n",
       "       'newwave', 'nu', 'nujazz', 'numetal', 'oceania', 'old', 'opera',\n",
       "       'orchestral', 'other', 'piano', 'podcasts', 'pop', 'popdance',\n",
       "       'popelectronic', 'popeurodance', 'poprussian', 'post',\n",
       "       'posthardcore', 'postrock', 'power', 'progmetal', 'progressive',\n",
       "       'psychedelic', 'punjabi', 'punk', 'quebecois', 'ragga', 'ram',\n",
       "       'rancheras', 'rap', 'rave', 'reggae', 'reggaeton', 'regional',\n",
       "       'relax', 'religious', 'retro', 'rhythm', 'rnb', 'rnr', 'rock',\n",
       "       'rockabilly', 'rockalternative', 'rockindie', 'rockother',\n",
       "       'romance', 'roots', 'ruspop', 'rusrap', 'rusrock', 'russian',\n",
       "       'salsa', 'samba', 'scenic', 'schlager', 'self', 'sertanejo',\n",
       "       'shanson', 'shoegazing', 'showtunes', 'singer', 'ska', 'skarock',\n",
       "       'slow', 'smooth', 'soft', 'soul', 'soulful', 'sound', 'soundtrack',\n",
       "       'southern', 'specialty', 'speech', 'spiritual', 'sport',\n",
       "       'stonerrock', 'surf', 'swing', 'synthpop', 'synthrock',\n",
       "       'sängerportrait', 'tango', 'tanzorchester', 'taraftar', 'tatar',\n",
       "       'tech', 'techno', 'teen', 'thrash', 'top', 'traditional',\n",
       "       'tradjazz', 'trance', 'tribal', 'trip', 'triphop', 'tropical',\n",
       "       'türk', 'türkçe', 'ukrrock', 'unknown', 'urban', 'uzbek',\n",
       "       'variété', 'vi', 'videogame', 'vocal', 'western', 'world',\n",
       "       'worldbeat', 'ïîï', 'электроника'], dtype=object)"
      ]
     },
     "execution_count": 14,
     "metadata": {},
     "output_type": "execute_result"
    }
   ],
   "source": [
    "# Просмотр уникальных названий жанров\n",
    "df['genre'].sort_values().unique()"
   ]
  },
  {
   "cell_type": "markdown",
   "metadata": {
    "id": "qej-Qmuo_Zct"
   },
   "source": [
    "Просмотрите список и найдите неявные дубликаты названия `hiphop`. Это могут быть названия с ошибками или альтернативные названия того же жанра.\n",
    "\n",
    "Вы увидите следующие неявные дубликаты:\n",
    "* *hip*,\n",
    "* *hop*,\n",
    "* *hip-hop*.\n",
    "\n",
    "Чтобы очистить от них таблицу, напишите функцию `replace_wrong_genres()` с двумя параметрами: \n",
    "* `wrong_genres` — список дубликатов,\n",
    "* `correct_genre` — строка с правильным значением.\n",
    "\n",
    "Функция должна исправить колонку `genre` в таблице `df`: заменить каждое значение из списка `wrong_genres` на значение из `correct_genre`."
   ]
  },
  {
   "cell_type": "code",
   "execution_count": 15,
   "metadata": {
    "id": "ErNDkmns_Zct"
   },
   "outputs": [],
   "source": [
    "# Функция для замены неявных дубликатов\n",
    "def replace_wrong_genres(wrong_genres, correct_genre):\n",
    "    for wrong_genre in wrong_genres:\n",
    "        df['genre'] = df['genre'].replace(wrong_genre, correct_genre)        \n"
   ]
  },
  {
   "cell_type": "markdown",
   "metadata": {
    "id": "aDoBJxbA_Zct"
   },
   "source": [
    "Вызовите `replace_wrong_genres()` и передайте ей такие аргументы, чтобы она устранила неявные дубликаты: вместо `hip`, `hop` и `hip-hop` в таблице должно быть значение `hiphop`:"
   ]
  },
  {
   "cell_type": "code",
   "execution_count": 16,
   "metadata": {
    "id": "YN5i2hpmSo09"
   },
   "outputs": [],
   "source": [
    "# Устранение неявных дубликатов\n",
    "replace_wrong_genres(['hip-hop', 'hip', 'hop'], 'hiphop')\n",
    "replace_wrong_genres(['ïîï'], 'pop')\n",
    "replace_wrong_genres(['электроника'], 'electronic')"
   ]
  },
  {
   "cell_type": "markdown",
   "metadata": {
    "id": "zQKF16_RG15m"
   },
   "source": [
    "Проверьте, что заменили неправильные названия:\n",
    "\n",
    "*   hip\n",
    "*   hop\n",
    "*   hip-hop\n",
    "\n",
    "Выведите отсортированный список уникальных значений столбца `genre`:"
   ]
  },
  {
   "cell_type": "code",
   "execution_count": 17,
   "metadata": {
    "id": "wvixALnFG15m",
    "scrolled": true
   },
   "outputs": [
    {
     "data": {
      "text/plain": [
       "array(['acid', 'acoustic', 'action', 'adult', 'africa', 'afrikaans',\n",
       "       'alternative', 'alternativepunk', 'ambient', 'americana',\n",
       "       'animated', 'anime', 'arabesk', 'arabic', 'arena',\n",
       "       'argentinetango', 'art', 'audiobook', 'author', 'avantgarde',\n",
       "       'axé', 'baile', 'balkan', 'beats', 'bigroom', 'black', 'bluegrass',\n",
       "       'blues', 'bollywood', 'bossa', 'brazilian', 'breakbeat', 'breaks',\n",
       "       'broadway', 'cantautori', 'cantopop', 'canzone', 'caribbean',\n",
       "       'caucasian', 'celtic', 'chamber', 'chanson', 'children', 'chill',\n",
       "       'chinese', 'choral', 'christian', 'christmas', 'classical',\n",
       "       'classicmetal', 'club', 'colombian', 'comedy', 'conjazz',\n",
       "       'contemporary', 'country', 'cuban', 'dance', 'dancehall',\n",
       "       'dancepop', 'dark', 'death', 'deep', 'deutschrock', 'deutschspr',\n",
       "       'dirty', 'disco', 'dnb', 'documentary', 'downbeat', 'downtempo',\n",
       "       'drum', 'dub', 'dubstep', 'eastern', 'easy', 'electronic',\n",
       "       'electropop', 'emo', 'entehno', 'epicmetal', 'estrada', 'ethnic',\n",
       "       'eurofolk', 'european', 'experimental', 'extrememetal', 'fado',\n",
       "       'fairytail', 'film', 'fitness', 'flamenco', 'folk', 'folklore',\n",
       "       'folkmetal', 'folkrock', 'folktronica', 'forró', 'frankreich',\n",
       "       'französisch', 'french', 'funk', 'future', 'gangsta', 'garage',\n",
       "       'german', 'ghazal', 'gitarre', 'glitch', 'gospel', 'gothic',\n",
       "       'grime', 'grunge', 'gypsy', 'handsup', \"hard'n'heavy\", 'hardcore',\n",
       "       'hardstyle', 'hardtechno', 'hiphop', 'historisch', 'holiday',\n",
       "       'horror', 'house', 'hymn', 'idm', 'independent', 'indian', 'indie',\n",
       "       'indipop', 'industrial', 'inspirational', 'instrumental',\n",
       "       'international', 'irish', 'jam', 'japanese', 'jazz', 'jewish',\n",
       "       'jpop', 'jungle', 'k-pop', 'karadeniz', 'karaoke', 'kayokyoku',\n",
       "       'korean', 'laiko', 'latin', 'latino', 'leftfield', 'local',\n",
       "       'lounge', 'loungeelectronic', 'lovers', 'malaysian', 'mandopop',\n",
       "       'marschmusik', 'meditative', 'mediterranean', 'melodic', 'metal',\n",
       "       'metalcore', 'mexican', 'middle', 'minimal', 'miscellaneous',\n",
       "       'modern', 'mood', 'mpb', 'muslim', 'native', 'neoklassik', 'neue',\n",
       "       'new', 'newage', 'newwave', 'nu', 'nujazz', 'numetal', 'oceania',\n",
       "       'old', 'opera', 'orchestral', 'other', 'piano', 'podcasts', 'pop',\n",
       "       'popdance', 'popelectronic', 'popeurodance', 'poprussian', 'post',\n",
       "       'posthardcore', 'postrock', 'power', 'progmetal', 'progressive',\n",
       "       'psychedelic', 'punjabi', 'punk', 'quebecois', 'ragga', 'ram',\n",
       "       'rancheras', 'rap', 'rave', 'reggae', 'reggaeton', 'regional',\n",
       "       'relax', 'religious', 'retro', 'rhythm', 'rnb', 'rnr', 'rock',\n",
       "       'rockabilly', 'rockalternative', 'rockindie', 'rockother',\n",
       "       'romance', 'roots', 'ruspop', 'rusrap', 'rusrock', 'russian',\n",
       "       'salsa', 'samba', 'scenic', 'schlager', 'self', 'sertanejo',\n",
       "       'shanson', 'shoegazing', 'showtunes', 'singer', 'ska', 'skarock',\n",
       "       'slow', 'smooth', 'soft', 'soul', 'soulful', 'sound', 'soundtrack',\n",
       "       'southern', 'specialty', 'speech', 'spiritual', 'sport',\n",
       "       'stonerrock', 'surf', 'swing', 'synthpop', 'synthrock',\n",
       "       'sängerportrait', 'tango', 'tanzorchester', 'taraftar', 'tatar',\n",
       "       'tech', 'techno', 'teen', 'thrash', 'top', 'traditional',\n",
       "       'tradjazz', 'trance', 'tribal', 'trip', 'triphop', 'tropical',\n",
       "       'türk', 'türkçe', 'ukrrock', 'unknown', 'urban', 'uzbek',\n",
       "       'variété', 'vi', 'videogame', 'vocal', 'western', 'world',\n",
       "       'worldbeat'], dtype=object)"
      ]
     },
     "execution_count": 17,
     "metadata": {},
     "output_type": "execute_result"
    }
   ],
   "source": [
    "# Проверка на неявные дубликаты\n",
    "df['genre'].sort_values().unique()"
   ]
  },
  {
   "cell_type": "markdown",
   "metadata": {
    "id": "jz6a9-7HQUDd"
   },
   "source": [
    "**Выводы**\n",
    "\n",
    "Предобработка обнаружила три проблемы в данных:\n",
    "\n",
    "- нарушения в стиле заголовков,\n",
    "- пропущенные значения,\n",
    "- дубликаты — явные и неявные.\n",
    "\n",
    "Вы исправили заголовки, чтобы упростить работу с таблицей. Без дубликатов исследование станет более точным.\n",
    "\n",
    "Пропущенные значения вы заменили на `'unknown'`. Ещё предстоит увидеть, не повредят ли исследованию пропуски в колонке `genre`.\n",
    "\n",
    "Теперь можно перейти к проверке гипотез. "
   ]
  },
  {
   "cell_type": "markdown",
   "metadata": {
    "id": "WttZHXH0SqKk"
   },
   "source": [
    "## Проверка гипотез"
   ]
  },
  {
   "cell_type": "markdown",
   "metadata": {
    "id": "Im936VVi_Zcu"
   },
   "source": [
    "### Сравнение поведения пользователей двух столиц"
   ]
  },
  {
   "cell_type": "markdown",
   "metadata": {
    "id": "nwt_MuaL_Zcu"
   },
   "source": [
    "Первая гипотеза утверждает, что пользователи по-разному слушают музыку в Москве и Санкт-Петербурге. Проверьте это предположение по данным о трёх днях недели — понедельнике, среде и пятнице. Для этого:\n",
    "\n",
    "* Разделите пользователей Москвы и Санкт-Петербурга\n",
    "* Сравните, сколько треков послушала каждая группа пользователей в понедельник, среду и пятницу.\n"
   ]
  },
  {
   "cell_type": "markdown",
   "metadata": {
    "id": "8Dw_YMmT_Zcu"
   },
   "source": [
    "Для тренировки сначала выполните каждый из расчётов по отдельности. \n",
    "\n",
    "Оцените активность пользователей в каждом городе. Сгруппируйте данные по городу и посчитайте прослушивания в каждой группе.\n",
    "\n"
   ]
  },
  {
   "cell_type": "code",
   "execution_count": 18,
   "metadata": {
    "id": "0_Qs96oh_Zcu"
   },
   "outputs": [
    {
     "data": {
      "text/plain": [
       "city\n",
       "Moscow              42741\n",
       "Saint-Petersburg    18512\n",
       "Name: user_id, dtype: int64"
      ]
     },
     "execution_count": 18,
     "metadata": {},
     "output_type": "execute_result"
    }
   ],
   "source": [
    "# Подсчёт прослушиваний в каждом городе\n",
    "df.groupby('city')['user_id'].count()"
   ]
  },
  {
   "cell_type": "markdown",
   "metadata": {
    "id": "dzli3w8o_Zcu"
   },
   "source": [
    "В Москве прослушиваний больше, чем в Петербурге. Из этого не следует, что московские пользователи чаще слушают музыку. Просто самих пользователей в Москве больше.\n",
    "\n",
    "Теперь сгруппируйте данные по дню недели и подсчитайте прослушивания в понедельник, среду и пятницу. Учтите, что в данных есть информация только о прослушиваниях только за эти дни.\n"
   ]
  },
  {
   "cell_type": "code",
   "execution_count": 19,
   "metadata": {
    "id": "uZMKjiJz_Zcu"
   },
   "outputs": [
    {
     "data": {
      "text/plain": [
       "day\n",
       "Friday       21840\n",
       "Monday       21354\n",
       "Wednesday    18059\n",
       "Name: user_id, dtype: int64"
      ]
     },
     "execution_count": 19,
     "metadata": {},
     "output_type": "execute_result"
    }
   ],
   "source": [
    "# Подсчёт прослушиваний в каждый из трёх дней\n",
    "df.groupby('day')['user_id'].count()"
   ]
  },
  {
   "cell_type": "markdown",
   "metadata": {
    "id": "cC2tNrlL_Zcu"
   },
   "source": [
    "В среднем пользователи из двух городов менее активны по средам. Но картина может измениться, если рассмотреть каждый город в отдельности."
   ]
  },
  {
   "cell_type": "markdown",
   "metadata": {
    "id": "POzs8bGa_Zcu"
   },
   "source": [
    "Вы видели, как работает группировка по городу и по дням недели. Теперь напишите функцию, которая объединит два эти расчёта.\n",
    "\n",
    "Создайте функцию `number_tracks()`, которая посчитает прослушивания для заданного дня и города. Ей понадобятся два параметра:\n",
    "* день недели,\n",
    "* название города.\n",
    "\n",
    "В функции сохраните в переменную строки исходной таблицы, у которых значение:\n",
    "  * в колонке `day` равно параметру `day`,\n",
    "  * в колонке `city` равно параметру `city`.\n",
    "\n",
    "Для этого примените последовательную фильтрацию с логической индексацией.\n",
    "\n",
    "Затем посчитайте значения в столбце `user_id` получившейся таблицы. Результат сохраните в новую переменную. Верните эту переменную из функции."
   ]
  },
  {
   "cell_type": "code",
   "execution_count": 20,
   "metadata": {
    "id": "Nz3GdQB1_Zcu"
   },
   "outputs": [],
   "source": [
    "# <создание функции number_tracks()>\n",
    "# Объявляется функция с двумя параметрами: day, city.\n",
    "# В переменной track_list сохраняются те строки таблицы df, для которых \n",
    "# значение в столбце 'day' равно параметру day и одновременно значение\n",
    "# в столбце 'city' равно параметру city (используйте последовательную фильтрацию\n",
    "# с помощью логической индексации).\n",
    "# В переменной track_list_count сохраняется число значений столбца 'user_id',\n",
    "# рассчитанное методом count() для таблицы track_list.\n",
    "# Функция возвращает число - значение track_list_count.\n",
    "# Функция для подсчёта прослушиваний для конкретного города и дня.\n",
    "# С помощью последовательной фильтрации с логической индексацией она \n",
    "# сначала получит из исходной таблицы строки с нужным днём,\n",
    "# затем из результата отфильтрует строки с нужным городом,\n",
    "# методом count() посчитает количество значений в колонке user_id. \n",
    "# Это количество функция вернёт в качестве результата\n",
    "\n",
    "def number_tracks(day, city):\n",
    "    track_list = df[(df['city'] == city) & (df['day'] == day)]\n",
    "    track_list_count = track_list['user_id'].count()\n",
    "    return track_list_count"
   ]
  },
  {
   "cell_type": "markdown",
   "metadata": {
    "id": "ytf7xFrFJQ2r"
   },
   "source": [
    "Вызовите `number_tracks()` шесть раз, меняя значение параметров — так, чтобы получить данные для каждого города в каждый из трёх дней."
   ]
  },
  {
   "cell_type": "code",
   "execution_count": 21,
   "metadata": {
    "id": "rJcRATNQ_Zcu"
   },
   "outputs": [],
   "source": [
    "# количество прослушиваний в Москве по понедельникам\n",
    "mos_mon = number_tracks('Monday', 'Moscow')"
   ]
  },
  {
   "cell_type": "code",
   "execution_count": 22,
   "metadata": {
    "id": "hq_ncZ5T_Zcu"
   },
   "outputs": [],
   "source": [
    "# количество прослушиваний в Санкт-Петербурге по понедельникам\n",
    "spb_mon = number_tracks('Monday', 'Saint-Petersburg')"
   ]
  },
  {
   "cell_type": "code",
   "execution_count": 23,
   "metadata": {
    "id": "_NTy2VPU_Zcu"
   },
   "outputs": [],
   "source": [
    "# количество прослушиваний в Москве по средам\n",
    "mos_wed = number_tracks('Wednesday', 'Moscow')"
   ]
  },
  {
   "cell_type": "code",
   "execution_count": 24,
   "metadata": {
    "id": "j2y3TAwo_Zcu"
   },
   "outputs": [],
   "source": [
    "# количество прослушиваний в Санкт-Петербурге по средам\n",
    "spb_wed = number_tracks('Wednesday', 'Saint-Petersburg')"
   ]
  },
  {
   "cell_type": "code",
   "execution_count": 25,
   "metadata": {
    "id": "vYDw5u_K_Zcu"
   },
   "outputs": [],
   "source": [
    "# количество прослушиваний в Москве по пятницам\n",
    "mos_fri = number_tracks('Friday', 'Moscow')"
   ]
  },
  {
   "cell_type": "code",
   "execution_count": 26,
   "metadata": {
    "id": "8_yzFtW3_Zcu"
   },
   "outputs": [],
   "source": [
    "# количество прослушиваний в Санкт-Петербурге по пятницам\n",
    "spb_fri = number_tracks('Friday', 'Saint-Petersburg')"
   ]
  },
  {
   "cell_type": "markdown",
   "metadata": {
    "id": "7QXffbO-_Zcu"
   },
   "source": [
    "Создайте c помощью конструктора `pd.DataFrame` таблицу, где\n",
    "* названия колонок — `['city', 'monday', 'wednesday', 'friday']`;\n",
    "* данные — результаты, которые вы получили с помощью `number_tracks`."
   ]
  },
  {
   "cell_type": "code",
   "execution_count": 27,
   "metadata": {
    "id": "APAcLpOr_Zcu"
   },
   "outputs": [
    {
     "data": {
      "text/html": [
       "<div>\n",
       "<style scoped>\n",
       "    .dataframe tbody tr th:only-of-type {\n",
       "        vertical-align: middle;\n",
       "    }\n",
       "\n",
       "    .dataframe tbody tr th {\n",
       "        vertical-align: top;\n",
       "    }\n",
       "\n",
       "    .dataframe thead th {\n",
       "        text-align: right;\n",
       "    }\n",
       "</style>\n",
       "<table border=\"1\" class=\"dataframe\">\n",
       "  <thead>\n",
       "    <tr style=\"text-align: right;\">\n",
       "      <th></th>\n",
       "      <th>city</th>\n",
       "      <th>monday</th>\n",
       "      <th>wednesday</th>\n",
       "      <th>friday</th>\n",
       "    </tr>\n",
       "  </thead>\n",
       "  <tbody>\n",
       "    <tr>\n",
       "      <th>0</th>\n",
       "      <td>Москва</td>\n",
       "      <td>15740</td>\n",
       "      <td>11056</td>\n",
       "      <td>15945</td>\n",
       "    </tr>\n",
       "    <tr>\n",
       "      <th>1</th>\n",
       "      <td>Петербург</td>\n",
       "      <td>5614</td>\n",
       "      <td>7003</td>\n",
       "      <td>5895</td>\n",
       "    </tr>\n",
       "  </tbody>\n",
       "</table>\n",
       "</div>"
      ],
      "text/plain": [
       "        city  monday  wednesday  friday\n",
       "0     Москва   15740      11056   15945\n",
       "1  Петербург    5614       7003    5895"
      ]
     },
     "execution_count": 27,
     "metadata": {},
     "output_type": "execute_result"
    }
   ],
   "source": [
    "# Таблица с результатами\n",
    "table_values = [['Москва', mos_mon, mos_wed, mos_fri], ['Петербург', spb_mon, spb_wed, spb_fri]]\n",
    "pd.DataFrame(columns = ['city', 'monday', 'wednesday', 'friday'], data = table_values)"
   ]
  },
  {
   "cell_type": "markdown",
   "metadata": {
    "id": "-EgPIHYu_Zcu"
   },
   "source": [
    "**Выводы**\n",
    "\n",
    "Данные показывают разницу поведения пользователей:\n",
    "\n",
    "- В Москве пик прослушиваний приходится на понедельник и пятницу, а в среду заметен спад.\n",
    "- В Петербурге, наоборот, больше слушают музыку по средам. Активность в понедельник и пятницу здесь почти в равной мере уступает среде.\n",
    "\n",
    "Значит, данные говорят в пользу первой гипотезы."
   ]
  },
  {
   "cell_type": "markdown",
   "metadata": {
    "id": "atZAxtq4_Zcu"
   },
   "source": [
    "### Музыка в начале и в конце недели"
   ]
  },
  {
   "cell_type": "markdown",
   "metadata": {
    "id": "eXrQqXFH_Zcu"
   },
   "source": [
    "Согласно второй гипотезе, утром в понедельник в Москве преобладают одни жанры, а в Петербурге — другие. Так же и вечером пятницы преобладают разные жанры — в зависимости от города."
   ]
  },
  {
   "cell_type": "markdown",
   "metadata": {
    "id": "S8UcW6Hw_Zcu"
   },
   "source": [
    "Сохраните таблицы с данными в две переменные:\n",
    "* по Москве — в `moscow_general`;\n",
    "* по Санкт-Петербургу — в `spb_general`."
   ]
  },
  {
   "cell_type": "code",
   "execution_count": 28,
   "metadata": {
    "id": "qeaFfM_P_Zcu"
   },
   "outputs": [],
   "source": [
    "# получение таблицы moscow_general из тех строк таблицы df, \n",
    "# для которых значение в столбце 'city' равно 'Moscow'\n",
    "moscow_general = df[df['city'] == 'Moscow']"
   ]
  },
  {
   "cell_type": "code",
   "execution_count": 29,
   "metadata": {
    "id": "ORaVRKto_Zcu"
   },
   "outputs": [],
   "source": [
    "# получение таблицы spb_general из тех строк таблицы df,\n",
    "# для которых значение в столбце 'city' равно 'Saint-Petersburg'\n",
    "spb_general = df[df['city'] == 'Saint-Petersburg']"
   ]
  },
  {
   "cell_type": "markdown",
   "metadata": {
    "id": "MEJV-CX2_Zcu"
   },
   "source": [
    "Создайте функцию `genre_weekday()` с четырьмя параметрами:\n",
    "* таблица (датафрейм) с данными,\n",
    "* день недели,\n",
    "* начальная временная метка в формате 'hh:mm', \n",
    "* последняя временная метка в формате 'hh:mm'.\n",
    "\n",
    "Функция должна вернуть информацию о топ-10 жанров тех треков, которые прослушивали в указанный день, в промежутке между двумя отметками времени."
   ]
  },
  {
   "cell_type": "code",
   "execution_count": 30,
   "metadata": {
    "id": "laJT9BYl_Zcu"
   },
   "outputs": [],
   "source": [
    "# Объявление функции genre_weekday() с параметрами table, day, time1, time2,\n",
    "# которая возвращает информацию о самых популярных жанрах в указанный день в\n",
    "# заданное время:\n",
    "# 1) в переменную genre_df сохраняются те строки переданного датафрейма table, для\n",
    "#    которых одновременно:\n",
    "#    - значение в столбце day равно значению аргумента day\n",
    "#    - значение в столбце time больше значения аргумента time1\n",
    "#    - значение в столбце time меньше значения аргумента time2\n",
    "#    Используйте последовательную фильтрацию с помощью логической индексации.\n",
    "# 2) сгруппировать датафрейм genre_df по столбцу genre, взять один из его\n",
    "#    столбцов и посчитать методом count() количество записей для каждого из\n",
    "#    присутствующих жанров, получившийся Series записать в переменную\n",
    "#    genre_df_count\n",
    "# 3) отсортировать genre_df_count по убыванию встречаемости и сохранить\n",
    "#    в переменную genre_df_sorted\n",
    "# 4) вернуть Series из 10 первых значений genre_df_sorted, это будут топ-10\n",
    "#    популярных жанров (в указанный день, в заданное время)\n",
    "\n",
    "def genre_weekday(table, day, time1, time2):\n",
    "    genre_df = table[(table['day'] == day)\n",
    "                     & (table['time'] > time1)\n",
    "                     & (table['time'] < time2)]\n",
    "    genre_df_count = genre_df.groupby('genre')['user_id'].count()\n",
    "    genre_df_sorted = genre_df_count.sort_values(ascending = False)\n",
    "    return genre_df_sorted.head(10)\n"
   ]
  },
  {
   "cell_type": "markdown",
   "metadata": {
    "id": "la2s2_PF_Zcu"
   },
   "source": [
    "Cравните результаты функции `genre_weekday()` для Москвы и Санкт-Петербурга в понедельник утром (с 7:00 до 11:00) и в пятницу вечером (с 17:00 до 23:00):"
   ]
  },
  {
   "cell_type": "code",
   "execution_count": 31,
   "metadata": {
    "id": "yz7itPUQ_Zcu"
   },
   "outputs": [
    {
     "data": {
      "text/plain": [
       "'Утро понедельника в Москве'"
      ]
     },
     "metadata": {},
     "output_type": "display_data"
    },
    {
     "data": {
      "text/plain": [
       "genre\n",
       "pop            781\n",
       "dance          549\n",
       "electronic     480\n",
       "rock           474\n",
       "hiphop         286\n",
       "ruspop         186\n",
       "world          181\n",
       "rusrap         175\n",
       "alternative    164\n",
       "unknown        161\n",
       "Name: user_id, dtype: int64"
      ]
     },
     "metadata": {},
     "output_type": "display_data"
    }
   ],
   "source": [
    "# вызов функции для утра понедельника в Москве (вместо df — таблица moscow_general)\n",
    "# объекты, хранящие время, являются строками и сравниваются как строки\n",
    "# пример вызова: genre_weekday(moscow_general, 'Monday', '07:00', '11:00')\n",
    "result_table = genre_weekday(moscow_general, 'Monday', '07:00', '11:00')\n",
    "display(\"Утро понедельника в Москве\", result_table)"
   ]
  },
  {
   "cell_type": "code",
   "execution_count": 32,
   "metadata": {
    "id": "kwUcHPdy_Zcu"
   },
   "outputs": [
    {
     "data": {
      "text/plain": [
       "'Утро понедельника в Петербурге'"
      ]
     },
     "metadata": {},
     "output_type": "display_data"
    },
    {
     "data": {
      "text/plain": [
       "genre\n",
       "pop            218\n",
       "dance          182\n",
       "rock           162\n",
       "electronic     147\n",
       "hiphop          80\n",
       "ruspop          64\n",
       "alternative     58\n",
       "rusrap          55\n",
       "jazz            44\n",
       "classical       40\n",
       "Name: user_id, dtype: int64"
      ]
     },
     "metadata": {},
     "output_type": "display_data"
    }
   ],
   "source": [
    "# вызов функции для утра понедельника в Петербурге (вместо df — таблица spb_general)\n",
    "result_table = genre_weekday(spb_general, 'Monday', '07:00', '11:00')\n",
    "display(\"Утро понедельника в Петербурге\", result_table)"
   ]
  },
  {
   "cell_type": "code",
   "execution_count": 33,
   "metadata": {
    "id": "EzXVRE1o_Zcu",
    "scrolled": true
   },
   "outputs": [
    {
     "data": {
      "text/plain": [
       "'Вечер пятницы в Москве'"
      ]
     },
     "metadata": {},
     "output_type": "display_data"
    },
    {
     "data": {
      "text/plain": [
       "genre\n",
       "pop            713\n",
       "rock           517\n",
       "dance          495\n",
       "electronic     482\n",
       "hiphop         273\n",
       "world          208\n",
       "ruspop         170\n",
       "alternative    163\n",
       "classical      163\n",
       "rusrap         142\n",
       "Name: user_id, dtype: int64"
      ]
     },
     "metadata": {},
     "output_type": "display_data"
    }
   ],
   "source": [
    "# вызов функции для вечера пятницы в Москве\n",
    "result_table = genre_weekday(moscow_general, 'Friday', '17:00', '23:00')\n",
    "display(\"Вечер пятницы в Москве\", result_table)"
   ]
  },
  {
   "cell_type": "code",
   "execution_count": 34,
   "metadata": {
    "id": "JZaEKu5v_Zcu",
    "scrolled": true
   },
   "outputs": [
    {
     "data": {
      "text/plain": [
       "'Вечер пятницы в Петербурге'"
      ]
     },
     "metadata": {},
     "output_type": "display_data"
    },
    {
     "data": {
      "text/plain": [
       "genre\n",
       "pop            256\n",
       "electronic     216\n",
       "rock           216\n",
       "dance          210\n",
       "hiphop          97\n",
       "alternative     63\n",
       "jazz            61\n",
       "classical       60\n",
       "rusrap          59\n",
       "world           54\n",
       "Name: user_id, dtype: int64"
      ]
     },
     "metadata": {},
     "output_type": "display_data"
    }
   ],
   "source": [
    "# вызов функции для вечера пятницы в Петербурге\n",
    "result_table = genre_weekday(spb_general, 'Friday', '17:00', '23:00')\n",
    "display(\"Вечер пятницы в Петербурге\", result_table)"
   ]
  },
  {
   "cell_type": "markdown",
   "metadata": {
    "id": "wrCe4MNX_Zcu"
   },
   "source": [
    "**Выводы**\n",
    "\n",
    "Если сравнить топ-10 жанров в понедельник утром, можно сделать такие выводы:\n",
    "\n",
    "1. В Москве и Петербурге слушают похожую музыку. Единственное отличие — в московский рейтинг вошёл жанр “world”, а в петербургский — джаз и классика.\n",
    "\n",
    "2. В Москве пропущенных значений оказалось так много, что значение `'unknown'` заняло десятое место среди самых популярных жанров. Значит, пропущенные значения занимают существенную долю в данных и угрожают достоверности исследования.\n",
    "\n",
    "Вечер пятницы в целом не меняет эту картину. Некоторые жанры поднимаются немного выше, другие спускаются.\n",
    "\n",
    "Отдельно замечено, что в пятницу вечером в Санкт-Петербурге значительно меньше дают предпочтение жанру 'русский поп' по сравнению с другими рассматриваемыми выборками.\n",
    "И всё же в целом топ-10 остаётся почти тем же самым.\n",
    "\n",
    "Таким образом, вторая гипотеза подтвердилась лишь частично:\n",
    "* Пользователи слушают похожую музыку в начале недели и в конце.\n",
    "* Разница между Москвой и Петербургом не слишком выражена. В Москве чаще слушают русскую популярную музыку, в Петербурге — джаз.\n",
    "\n",
    "Однако пропуски в данных ставят под сомнение этот результат. В Москве их так много, что рейтинг топ-10 мог бы выглядеть иначе, если бы не утерянные  данные о жанрах."
   ]
  },
  {
   "cell_type": "markdown",
   "metadata": {
    "id": "JolODAqr_Zcu"
   },
   "source": [
    "### Жанровые предпочтения в Москве и Петербурге\n",
    "\n",
    "Гипотеза: Петербург — столица рэпа, музыку этого жанра там слушают чаще, чем в Москве.  А Москва — город контрастов, в котором, тем не менее, преобладает поп-музыка."
   ]
  },
  {
   "cell_type": "markdown",
   "metadata": {
    "id": "DlegSvaT_Zcu"
   },
   "source": [
    "Сгруппируйте таблицу `moscow_general` по жанру и посчитайте прослушивания треков каждого жанра методом `count()`. Затем отсортируйте результат в порядке убывания и сохраните его в таблице `moscow_genres`."
   ]
  },
  {
   "cell_type": "code",
   "execution_count": 35,
   "metadata": {
    "id": "r19lIPke_Zcu"
   },
   "outputs": [],
   "source": [
    "# одной строкой: группировка таблицы moscow_general по столбцу 'genre', \n",
    "# подсчёт числа значений 'genre' в этой группировке методом count(), \n",
    "# сортировка получившегося Series в порядке убывания и сохранение в moscow_genres\n",
    "moscow_genres = moscow_general.groupby('genre').count().sort_values( by = 'user_id', ascending = False)"
   ]
  },
  {
   "cell_type": "markdown",
   "metadata": {
    "id": "6kMuomxTiIr8"
   },
   "source": [
    "Выведите на экран первые десять строк `moscow_genres`:"
   ]
  },
  {
   "cell_type": "code",
   "execution_count": 36,
   "metadata": {
    "id": "WhCSooF8_Zcv"
   },
   "outputs": [
    {
     "data": {
      "text/plain": [
       "'Топ 10 жанров в Москве'"
      ]
     },
     "metadata": {},
     "output_type": "display_data"
    },
    {
     "data": {
      "text/plain": [
       "genre\n",
       "pop            5893\n",
       "dance          4435\n",
       "rock           3965\n",
       "electronic     3786\n",
       "hiphop         2096\n",
       "classical      1616\n",
       "world          1432\n",
       "alternative    1379\n",
       "ruspop         1372\n",
       "rusrap         1161\n",
       "Name: user_id, dtype: int64"
      ]
     },
     "metadata": {},
     "output_type": "display_data"
    }
   ],
   "source": [
    "# просмотр первых 10 строк moscow_genres\n",
    "display(\"Топ 10 жанров в Москве\", moscow_genres['user_id'].head(10))"
   ]
  },
  {
   "cell_type": "markdown",
   "metadata": {
    "id": "cnPG2vnN_Zcv"
   },
   "source": [
    "Теперь повторите то же и для Петербурга.\n",
    "\n",
    "Сгруппируйте таблицу `spb_general` по жанру. Посчитайте прослушивания треков каждого жанра. Результат отсортируйте в порядке убывания и сохраните в таблице `spb_genres`:\n"
   ]
  },
  {
   "cell_type": "code",
   "execution_count": 37,
   "metadata": {
    "id": "gluLIpE7_Zcv"
   },
   "outputs": [],
   "source": [
    "# одной строкой: группировка таблицы spb_general по столбцу 'genre', \n",
    "# подсчёт числа значений 'genre' в этой группировке методом count(), \n",
    "# сортировка получившегося Series в порядке убывания и сохранение в spb_genres\n",
    "spb_genres = spb_general.groupby('genre').count().sort_values( by = 'user_id', ascending = False)"
   ]
  },
  {
   "cell_type": "markdown",
   "metadata": {
    "id": "5Doha_ODgyQ8"
   },
   "source": [
    "Выведите на экран первые десять строк `spb_genres`:"
   ]
  },
  {
   "cell_type": "code",
   "execution_count": 38,
   "metadata": {
    "id": "uaGJHjVU_Zcv"
   },
   "outputs": [
    {
     "data": {
      "text/plain": [
       "'Топ 10 жанров в Петербурге'"
      ]
     },
     "metadata": {},
     "output_type": "display_data"
    },
    {
     "data": {
      "text/plain": [
       "genre\n",
       "pop            2431\n",
       "dance          1932\n",
       "rock           1879\n",
       "electronic     1737\n",
       "hiphop          960\n",
       "alternative     649\n",
       "classical       646\n",
       "rusrap          564\n",
       "ruspop          538\n",
       "world           515\n",
       "Name: user_id, dtype: int64"
      ]
     },
     "metadata": {},
     "output_type": "display_data"
    }
   ],
   "source": [
    "# просмотр первых 10 строк spb_genres\n",
    "display(\"Топ 10 жанров в Петербурге\", spb_genres['user_id'].head(10))"
   ]
  },
  {
   "cell_type": "markdown",
   "metadata": {
    "id": "RY51YJYu_Zcv"
   },
   "source": [
    "**Выводы**"
   ]
  },
  {
   "cell_type": "markdown",
   "metadata": {
    "id": "nVhnJEm__Zcv"
   },
   "source": [
    "Гипотеза частично подтвердилась:\n",
    "* Поп-музыка — самый популярный жанр в Москве, как и предполагала гипотеза. Более того, в топ-10 жанров встречается близкий жанр — русская популярная музыка.\n",
    "* Вопреки ожиданиям, рэп одинаково популярен в Москве и Петербурге. \n"
   ]
  },
  {
   "cell_type": "markdown",
   "metadata": {
    "id": "ykKQ0N65_Zcv"
   },
   "source": [
    "## Итоги исследования"
   ]
  },
  {
   "cell_type": "markdown",
   "metadata": {
    "id": "tjUwbHb3_Zcv"
   },
   "source": [
    "Мы проверили три гипотезы и установили:\n",
    "\n",
    "1. День недели по-разному влияет на активность пользователей в Москве и Петербурге. \n",
    "\n",
    "Первая гипотеза полностью подтвердилась.\n",
    "\n",
    "2. Музыкальные предпочтения не сильно меняются в течение недели — будь то Москва или Петербург. Небольшие различия заметны в начале недели, по понедельникам:\n",
    "* в Москве слушают музыку жанра “world”,\n",
    "* в Петербурге — джаз и классику.\n",
    "\n",
    "Также замечено, что в пятницу вечером в Петербурге значительно меньше слушают 'русский поп' по сравнению с другими рассматриваемыми выборками.\n",
    "\n",
    "Таким образом, вторая гипотеза подтвердилась лишь отчасти. Этот результат мог оказаться иным, если бы не пропуски в данных.\n",
    "\n",
    "3. Во вкусах пользователей Москвы и Петербурга больше общего чем различий. Вопреки ожиданиям, предпочтения жанров в Петербурге напоминают московские.\n",
    "\n",
    "Третья гипотеза не подтвердилась. Если различия в предпочтениях и существуют, на основной массе пользователей они незаметны.\n"
   ]
  }
 ],
 "metadata": {
  "ExecuteTimeLog": [
   {
    "duration": 382,
    "start_time": "2021-11-08T08:44:03.898Z"
   },
   {
    "duration": 671,
    "start_time": "2021-11-08T08:44:07.167Z"
   },
   {
    "duration": 148,
    "start_time": "2021-11-08T08:44:08.858Z"
   },
   {
    "duration": 16,
    "start_time": "2021-11-08T08:44:11.647Z"
   },
   {
    "duration": 10,
    "start_time": "2021-11-08T08:44:20.078Z"
   },
   {
    "duration": 24,
    "start_time": "2021-11-08T08:46:25.038Z"
   },
   {
    "duration": 4,
    "start_time": "2021-11-08T10:13:43.907Z"
   },
   {
    "duration": 4,
    "start_time": "2021-11-08T10:13:55.137Z"
   },
   {
    "duration": 3,
    "start_time": "2021-11-08T10:14:00.248Z"
   },
   {
    "duration": 4,
    "start_time": "2021-11-08T10:15:57.527Z"
   },
   {
    "duration": 4,
    "start_time": "2021-11-08T10:16:05.877Z"
   },
   {
    "duration": 5,
    "start_time": "2021-11-08T10:16:20.277Z"
   },
   {
    "duration": 4,
    "start_time": "2021-11-08T10:16:35.697Z"
   },
   {
    "duration": 24,
    "start_time": "2021-11-08T10:17:10.637Z"
   },
   {
    "duration": 38,
    "start_time": "2021-11-08T10:25:16.645Z"
   },
   {
    "duration": 9609,
    "start_time": "2021-11-08T10:25:25.364Z"
   },
   {
    "duration": 4626,
    "start_time": "2021-11-08T10:25:38.098Z"
   },
   {
    "duration": 8,
    "start_time": "2021-11-08T10:25:48.817Z"
   },
   {
    "duration": 5381,
    "start_time": "2021-11-08T10:25:51.629Z"
   },
   {
    "duration": 4421,
    "start_time": "2021-11-08T10:26:36.088Z"
   },
   {
    "duration": 6433,
    "start_time": "2021-11-08T10:28:22.957Z"
   },
   {
    "duration": 4876,
    "start_time": "2021-11-08T10:28:30.587Z"
   },
   {
    "duration": 4540,
    "start_time": "2021-11-08T10:29:29.355Z"
   },
   {
    "duration": 4450,
    "start_time": "2021-11-08T10:29:37.028Z"
   },
   {
    "duration": 4542,
    "start_time": "2021-11-08T10:29:50.555Z"
   },
   {
    "duration": 6806,
    "start_time": "2021-11-08T10:30:08.877Z"
   },
   {
    "duration": 1663,
    "start_time": "2021-11-08T10:30:28.116Z"
   },
   {
    "duration": 148,
    "start_time": "2021-11-08T10:30:29.781Z"
   },
   {
    "duration": 17,
    "start_time": "2021-11-08T10:30:29.931Z"
   },
   {
    "duration": 32,
    "start_time": "2021-11-08T10:30:29.950Z"
   },
   {
    "duration": 7,
    "start_time": "2021-11-08T10:30:29.984Z"
   },
   {
    "duration": 43,
    "start_time": "2021-11-08T10:30:29.993Z"
   },
   {
    "duration": 39,
    "start_time": "2021-11-08T10:30:30.038Z"
   },
   {
    "duration": 42,
    "start_time": "2021-11-08T10:30:30.079Z"
   },
   {
    "duration": 43,
    "start_time": "2021-11-08T10:30:30.124Z"
   },
   {
    "duration": 21,
    "start_time": "2021-11-08T10:30:30.170Z"
   },
   {
    "duration": 35,
    "start_time": "2021-11-08T10:30:30.193Z"
   },
   {
    "duration": 101,
    "start_time": "2021-11-08T10:30:30.230Z"
   },
   {
    "duration": 26,
    "start_time": "2021-11-08T10:30:30.333Z"
   },
   {
    "duration": 25,
    "start_time": "2021-11-08T10:30:30.361Z"
   },
   {
    "duration": 31,
    "start_time": "2021-11-08T10:30:30.388Z"
   },
   {
    "duration": 26,
    "start_time": "2021-11-08T10:30:30.421Z"
   },
   {
    "duration": 36,
    "start_time": "2021-11-08T10:30:30.449Z"
   },
   {
    "duration": 21,
    "start_time": "2021-11-08T10:30:30.487Z"
   },
   {
    "duration": 27,
    "start_time": "2021-11-08T10:30:30.510Z"
   },
   {
    "duration": 27,
    "start_time": "2021-11-08T10:30:30.539Z"
   },
   {
    "duration": 31,
    "start_time": "2021-11-08T10:30:30.568Z"
   },
   {
    "duration": 55,
    "start_time": "2021-11-08T10:30:30.601Z"
   },
   {
    "duration": 27,
    "start_time": "2021-11-08T10:30:30.658Z"
   },
   {
    "duration": 36,
    "start_time": "2021-11-08T10:30:30.687Z"
   },
   {
    "duration": 30,
    "start_time": "2021-11-08T10:30:30.725Z"
   },
   {
    "duration": 43,
    "start_time": "2021-11-08T10:30:30.757Z"
   },
   {
    "duration": 12,
    "start_time": "2021-11-08T10:30:30.804Z"
   },
   {
    "duration": 27,
    "start_time": "2021-11-08T10:30:30.818Z"
   },
   {
    "duration": 21,
    "start_time": "2021-11-08T10:30:30.847Z"
   },
   {
    "duration": 24,
    "start_time": "2021-11-08T10:30:30.870Z"
   },
   {
    "duration": 32,
    "start_time": "2021-11-08T10:30:30.896Z"
   },
   {
    "duration": 27,
    "start_time": "2021-11-08T10:30:30.930Z"
   },
   {
    "duration": 23,
    "start_time": "2021-11-08T10:30:30.959Z"
   },
   {
    "duration": 35,
    "start_time": "2021-11-08T10:30:30.984Z"
   },
   {
    "duration": 26,
    "start_time": "2021-11-08T10:30:31.021Z"
   },
   {
    "duration": 19,
    "start_time": "2021-11-08T10:30:31.050Z"
   },
   {
    "duration": 24,
    "start_time": "2021-11-08T10:30:31.071Z"
   },
   {
    "duration": 25,
    "start_time": "2021-11-08T10:30:31.097Z"
   },
   {
    "duration": 40,
    "start_time": "2021-11-08T10:30:52.937Z"
   },
   {
    "duration": 112,
    "start_time": "2021-11-08T10:32:03.537Z"
   },
   {
    "duration": 38,
    "start_time": "2021-11-08T10:32:08.218Z"
   },
   {
    "duration": 40,
    "start_time": "2021-11-08T10:32:34.585Z"
   },
   {
    "duration": 22,
    "start_time": "2021-11-08T10:32:55.266Z"
   },
   {
    "duration": 61,
    "start_time": "2021-11-08T10:33:59.798Z"
   },
   {
    "duration": 58,
    "start_time": "2021-11-08T10:34:29.697Z"
   },
   {
    "duration": 57,
    "start_time": "2021-11-08T10:34:45.957Z"
   },
   {
    "duration": 425,
    "start_time": "2021-11-08T10:35:38.958Z"
   },
   {
    "duration": 411,
    "start_time": "2021-11-08T10:36:07.028Z"
   },
   {
    "duration": 70,
    "start_time": "2021-11-08T10:36:15.819Z"
   },
   {
    "duration": 57,
    "start_time": "2021-11-08T10:36:23.137Z"
   },
   {
    "duration": 54,
    "start_time": "2021-11-08T10:37:04.238Z"
   },
   {
    "duration": 52,
    "start_time": "2021-11-08T10:37:14.588Z"
   },
   {
    "duration": 9547,
    "start_time": "2021-11-08T10:40:55.412Z"
   },
   {
    "duration": 8972,
    "start_time": "2021-11-08T10:41:10.107Z"
   },
   {
    "duration": 9551,
    "start_time": "2021-11-08T10:41:09.531Z"
   },
   {
    "duration": 9544,
    "start_time": "2021-11-08T10:41:09.538Z"
   },
   {
    "duration": 55,
    "start_time": "2021-11-08T10:41:20.998Z"
   },
   {
    "duration": 8651,
    "start_time": "2021-11-08T10:41:23.394Z"
   },
   {
    "duration": 629,
    "start_time": "2021-11-08T10:42:08.267Z"
   },
   {
    "duration": 148,
    "start_time": "2021-11-08T10:42:08.897Z"
   },
   {
    "duration": 17,
    "start_time": "2021-11-08T10:42:09.047Z"
   },
   {
    "duration": 44,
    "start_time": "2021-11-08T10:42:09.066Z"
   },
   {
    "duration": 29,
    "start_time": "2021-11-08T10:42:09.112Z"
   },
   {
    "duration": 19,
    "start_time": "2021-11-08T10:42:09.143Z"
   },
   {
    "duration": 14,
    "start_time": "2021-11-08T10:42:09.164Z"
   },
   {
    "duration": 33,
    "start_time": "2021-11-08T10:42:09.181Z"
   },
   {
    "duration": 25,
    "start_time": "2021-11-08T10:42:09.216Z"
   },
   {
    "duration": 21,
    "start_time": "2021-11-08T10:42:09.243Z"
   },
   {
    "duration": 78,
    "start_time": "2021-11-08T10:42:09.266Z"
   },
   {
    "duration": 84,
    "start_time": "2021-11-08T10:42:09.346Z"
   },
   {
    "duration": 55,
    "start_time": "2021-11-08T10:42:09.432Z"
   },
   {
    "duration": 9793,
    "start_time": "2021-11-08T10:42:09.489Z"
   },
   {
    "duration": 9536,
    "start_time": "2021-11-08T10:42:09.749Z"
   },
   {
    "duration": 9523,
    "start_time": "2021-11-08T10:42:09.763Z"
   },
   {
    "duration": 9516,
    "start_time": "2021-11-08T10:42:09.770Z"
   },
   {
    "duration": 9509,
    "start_time": "2021-11-08T10:42:09.778Z"
   },
   {
    "duration": 9506,
    "start_time": "2021-11-08T10:42:09.782Z"
   },
   {
    "duration": 9499,
    "start_time": "2021-11-08T10:42:09.790Z"
   },
   {
    "duration": 9495,
    "start_time": "2021-11-08T10:42:09.795Z"
   },
   {
    "duration": 9492,
    "start_time": "2021-11-08T10:42:09.799Z"
   },
   {
    "duration": 9485,
    "start_time": "2021-11-08T10:42:09.807Z"
   },
   {
    "duration": 9481,
    "start_time": "2021-11-08T10:42:09.812Z"
   },
   {
    "duration": 9478,
    "start_time": "2021-11-08T10:42:09.816Z"
   },
   {
    "duration": 9472,
    "start_time": "2021-11-08T10:42:09.823Z"
   },
   {
    "duration": 9467,
    "start_time": "2021-11-08T10:42:09.829Z"
   },
   {
    "duration": 9464,
    "start_time": "2021-11-08T10:42:09.833Z"
   },
   {
    "duration": 9445,
    "start_time": "2021-11-08T10:42:09.853Z"
   },
   {
    "duration": 9434,
    "start_time": "2021-11-08T10:42:09.865Z"
   },
   {
    "duration": 9422,
    "start_time": "2021-11-08T10:42:09.878Z"
   },
   {
    "duration": 9419,
    "start_time": "2021-11-08T10:42:09.882Z"
   },
   {
    "duration": 9411,
    "start_time": "2021-11-08T10:42:09.891Z"
   },
   {
    "duration": 9408,
    "start_time": "2021-11-08T10:42:09.895Z"
   },
   {
    "duration": 9405,
    "start_time": "2021-11-08T10:42:09.899Z"
   },
   {
    "duration": 9396,
    "start_time": "2021-11-08T10:42:09.908Z"
   },
   {
    "duration": 9393,
    "start_time": "2021-11-08T10:42:09.912Z"
   },
   {
    "duration": 9390,
    "start_time": "2021-11-08T10:42:09.916Z"
   },
   {
    "duration": 8979,
    "start_time": "2021-11-08T10:42:28.625Z"
   },
   {
    "duration": 43,
    "start_time": "2021-11-08T10:42:49.388Z"
   },
   {
    "duration": 354,
    "start_time": "2021-11-08T10:50:08.417Z"
   },
   {
    "duration": 3,
    "start_time": "2021-11-08T10:50:28.146Z"
   },
   {
    "duration": 11,
    "start_time": "2021-11-08T10:50:30.064Z"
   },
   {
    "duration": 42,
    "start_time": "2021-11-08T10:51:35.346Z"
   },
   {
    "duration": 12,
    "start_time": "2021-11-08T10:55:57.817Z"
   },
   {
    "duration": 41,
    "start_time": "2021-11-08T10:56:00.516Z"
   },
   {
    "duration": 16,
    "start_time": "2021-11-08T11:00:39.488Z"
   },
   {
    "duration": 41,
    "start_time": "2021-11-08T11:00:42.235Z"
   },
   {
    "duration": 131,
    "start_time": "2021-11-08T11:01:39.234Z"
   },
   {
    "duration": 42,
    "start_time": "2021-11-08T11:01:55.097Z"
   },
   {
    "duration": 820,
    "start_time": "2021-11-08T11:02:21.076Z"
   },
   {
    "duration": 14,
    "start_time": "2021-11-08T11:02:35.016Z"
   },
   {
    "duration": 8558,
    "start_time": "2021-11-08T11:02:51.196Z"
   },
   {
    "duration": 8551,
    "start_time": "2021-11-08T11:03:11.636Z"
   },
   {
    "duration": 10,
    "start_time": "2021-11-08T11:03:39.808Z"
   },
   {
    "duration": 350,
    "start_time": "2021-11-08T11:03:45.617Z"
   },
   {
    "duration": 120,
    "start_time": "2021-11-08T11:03:57.616Z"
   },
   {
    "duration": 436,
    "start_time": "2021-11-08T11:04:01.677Z"
   },
   {
    "duration": 42,
    "start_time": "2021-11-08T11:04:28.346Z"
   },
   {
    "duration": 125,
    "start_time": "2021-11-08T11:05:36.817Z"
   },
   {
    "duration": 9,
    "start_time": "2021-11-08T11:05:40.582Z"
   },
   {
    "duration": 676,
    "start_time": "2021-11-08T11:05:50.385Z"
   },
   {
    "duration": 153,
    "start_time": "2021-11-08T11:05:51.063Z"
   },
   {
    "duration": 18,
    "start_time": "2021-11-08T11:05:51.219Z"
   },
   {
    "duration": 35,
    "start_time": "2021-11-08T11:05:51.239Z"
   },
   {
    "duration": 4,
    "start_time": "2021-11-08T11:05:51.276Z"
   },
   {
    "duration": 12,
    "start_time": "2021-11-08T11:05:51.282Z"
   },
   {
    "duration": 12,
    "start_time": "2021-11-08T11:05:51.296Z"
   },
   {
    "duration": 27,
    "start_time": "2021-11-08T11:05:51.311Z"
   },
   {
    "duration": 20,
    "start_time": "2021-11-08T11:05:51.342Z"
   },
   {
    "duration": 49,
    "start_time": "2021-11-08T11:05:51.365Z"
   },
   {
    "duration": 66,
    "start_time": "2021-11-08T11:05:51.416Z"
   },
   {
    "duration": 90,
    "start_time": "2021-11-08T11:05:51.484Z"
   },
   {
    "duration": 64,
    "start_time": "2021-11-08T11:05:51.576Z"
   },
   {
    "duration": 9,
    "start_time": "2021-11-08T11:05:51.641Z"
   },
   {
    "duration": 7,
    "start_time": "2021-11-08T11:05:51.652Z"
   },
   {
    "duration": 27,
    "start_time": "2021-11-08T11:05:51.661Z"
   },
   {
    "duration": 55,
    "start_time": "2021-11-08T11:05:51.690Z"
   },
   {
    "duration": 3,
    "start_time": "2021-11-08T11:05:51.747Z"
   },
   {
    "duration": 4,
    "start_time": "2021-11-08T11:05:51.752Z"
   },
   {
    "duration": 4,
    "start_time": "2021-11-08T11:05:51.758Z"
   },
   {
    "duration": 9,
    "start_time": "2021-11-08T11:05:51.764Z"
   },
   {
    "duration": 7,
    "start_time": "2021-11-08T11:05:51.775Z"
   },
   {
    "duration": 23,
    "start_time": "2021-11-08T11:05:51.785Z"
   },
   {
    "duration": 6,
    "start_time": "2021-11-08T11:05:51.810Z"
   },
   {
    "duration": 9,
    "start_time": "2021-11-08T11:05:51.817Z"
   },
   {
    "duration": 9,
    "start_time": "2021-11-08T11:05:51.828Z"
   },
   {
    "duration": 3,
    "start_time": "2021-11-08T11:05:51.841Z"
   },
   {
    "duration": 6,
    "start_time": "2021-11-08T11:05:51.846Z"
   },
   {
    "duration": 9,
    "start_time": "2021-11-08T11:05:51.854Z"
   },
   {
    "duration": 7,
    "start_time": "2021-11-08T11:05:51.865Z"
   },
   {
    "duration": 11,
    "start_time": "2021-11-08T11:05:51.873Z"
   },
   {
    "duration": 13,
    "start_time": "2021-11-08T11:05:51.886Z"
   },
   {
    "duration": 26,
    "start_time": "2021-11-08T11:05:51.901Z"
   },
   {
    "duration": 9,
    "start_time": "2021-11-08T11:05:51.928Z"
   },
   {
    "duration": 11,
    "start_time": "2021-11-08T11:05:51.939Z"
   },
   {
    "duration": 9,
    "start_time": "2021-11-08T11:05:51.951Z"
   },
   {
    "duration": 6,
    "start_time": "2021-11-08T11:05:51.962Z"
   },
   {
    "duration": 11,
    "start_time": "2021-11-08T11:05:51.969Z"
   },
   {
    "duration": 8,
    "start_time": "2021-11-08T11:06:07.876Z"
   },
   {
    "duration": 9,
    "start_time": "2021-11-08T11:06:14.327Z"
   },
   {
    "duration": 8,
    "start_time": "2021-11-08T11:06:27.657Z"
   },
   {
    "duration": 7,
    "start_time": "2021-11-08T11:06:41.007Z"
   },
   {
    "duration": 8,
    "start_time": "2021-11-08T11:06:54.456Z"
   },
   {
    "duration": 14,
    "start_time": "2021-11-08T11:07:08.496Z"
   },
   {
    "duration": 14,
    "start_time": "2021-11-08T11:07:18.546Z"
   },
   {
    "duration": 16,
    "start_time": "2021-11-08T11:07:21.636Z"
   },
   {
    "duration": 42,
    "start_time": "2021-11-08T11:07:52.917Z"
   },
   {
    "duration": 37,
    "start_time": "2021-11-08T11:27:51.237Z"
   },
   {
    "duration": 48,
    "start_time": "2021-11-08T11:28:52.865Z"
   },
   {
    "duration": 46,
    "start_time": "2021-11-08T11:29:03.938Z"
   },
   {
    "duration": 59,
    "start_time": "2021-11-08T11:30:03.227Z"
   },
   {
    "duration": 62,
    "start_time": "2021-11-08T11:30:11.117Z"
   },
   {
    "duration": 133,
    "start_time": "2021-11-08T11:31:26.027Z"
   },
   {
    "duration": 440,
    "start_time": "2021-11-08T11:31:52.317Z"
   },
   {
    "duration": 64,
    "start_time": "2021-11-08T11:32:04.275Z"
   },
   {
    "duration": 43,
    "start_time": "2021-11-08T11:32:15.765Z"
   },
   {
    "duration": 11,
    "start_time": "2021-11-08T11:32:29.797Z"
   },
   {
    "duration": 32,
    "start_time": "2021-11-08T11:34:35.038Z"
   },
   {
    "duration": 7,
    "start_time": "2021-11-08T11:35:41.868Z"
   },
   {
    "duration": 356,
    "start_time": "2021-11-08T11:35:59.095Z"
   },
   {
    "duration": 361,
    "start_time": "2021-11-08T11:36:12.205Z"
   },
   {
    "duration": 351,
    "start_time": "2021-11-08T11:36:32.078Z"
   },
   {
    "duration": 30,
    "start_time": "2021-11-08T11:36:41.017Z"
   },
   {
    "duration": 12,
    "start_time": "2021-11-08T11:37:02.094Z"
   },
   {
    "duration": 23,
    "start_time": "2021-11-08T11:43:43.909Z"
   },
   {
    "duration": 18,
    "start_time": "2021-11-08T11:44:09.866Z"
   },
   {
    "duration": 17,
    "start_time": "2021-11-08T11:48:51.938Z"
   },
   {
    "duration": 3,
    "start_time": "2021-11-08T11:48:57.715Z"
   },
   {
    "duration": 17,
    "start_time": "2021-11-08T11:49:00.282Z"
   },
   {
    "duration": 17,
    "start_time": "2021-11-08T11:49:09.955Z"
   },
   {
    "duration": 4,
    "start_time": "2021-11-08T11:49:12.995Z"
   },
   {
    "duration": 17,
    "start_time": "2021-11-08T11:49:14.586Z"
   },
   {
    "duration": 14,
    "start_time": "2021-11-08T11:49:16.944Z"
   },
   {
    "duration": 16,
    "start_time": "2021-11-08T11:49:18.785Z"
   },
   {
    "duration": 15,
    "start_time": "2021-11-08T11:49:36.297Z"
   },
   {
    "duration": 16,
    "start_time": "2021-11-08T11:49:37.888Z"
   },
   {
    "duration": 14,
    "start_time": "2021-11-08T11:49:39.508Z"
   },
   {
    "duration": 11,
    "start_time": "2021-11-08T11:49:50.525Z"
   },
   {
    "duration": 11,
    "start_time": "2021-11-08T11:49:54.657Z"
   },
   {
    "duration": 352,
    "start_time": "2021-11-08T11:52:53.911Z"
   },
   {
    "duration": 357,
    "start_time": "2021-11-08T11:52:59.891Z"
   },
   {
    "duration": 6,
    "start_time": "2021-11-08T11:53:33.721Z"
   },
   {
    "duration": 12,
    "start_time": "2021-11-08T11:54:05.357Z"
   },
   {
    "duration": 883,
    "start_time": "2021-11-08T11:54:15.311Z"
   },
   {
    "duration": 380,
    "start_time": "2021-11-08T11:54:20.040Z"
   },
   {
    "duration": 360,
    "start_time": "2021-11-08T11:54:54.823Z"
   },
   {
    "duration": 8636,
    "start_time": "2021-11-08T11:55:47.126Z"
   },
   {
    "duration": 716,
    "start_time": "2021-11-08T11:56:13.750Z"
   },
   {
    "duration": 345,
    "start_time": "2021-11-08T11:57:32.863Z"
   },
   {
    "duration": 113,
    "start_time": "2021-11-08T11:58:11.422Z"
   },
   {
    "duration": 10,
    "start_time": "2021-11-08T11:58:20.111Z"
   },
   {
    "duration": 9,
    "start_time": "2021-11-08T11:58:35.303Z"
   },
   {
    "duration": 33,
    "start_time": "2021-11-08T12:03:25.939Z"
   },
   {
    "duration": 19,
    "start_time": "2021-11-08T12:03:48.902Z"
   },
   {
    "duration": 17,
    "start_time": "2021-11-08T12:04:27.151Z"
   },
   {
    "duration": 9,
    "start_time": "2021-11-08T12:04:49.570Z"
   },
   {
    "duration": 138,
    "start_time": "2021-11-08T12:12:07.600Z"
   },
   {
    "duration": 130,
    "start_time": "2021-11-08T12:12:41.122Z"
   },
   {
    "duration": 121,
    "start_time": "2021-11-08T12:17:08.186Z"
   },
   {
    "duration": 4,
    "start_time": "2021-11-08T12:17:16.859Z"
   },
   {
    "duration": 17,
    "start_time": "2021-11-08T12:18:37.202Z"
   },
   {
    "duration": 18,
    "start_time": "2021-11-08T12:18:48.942Z"
   },
   {
    "duration": 17,
    "start_time": "2021-11-08T12:18:57.942Z"
   },
   {
    "duration": 16,
    "start_time": "2021-11-08T12:27:28.102Z"
   },
   {
    "duration": 12,
    "start_time": "2021-11-08T12:27:39.403Z"
   },
   {
    "duration": 12,
    "start_time": "2021-11-08T12:28:25.133Z"
   },
   {
    "duration": 16,
    "start_time": "2021-11-08T12:28:26.603Z"
   },
   {
    "duration": 13,
    "start_time": "2021-11-08T12:33:17.873Z"
   },
   {
    "duration": 20,
    "start_time": "2021-11-08T12:33:20.020Z"
   },
   {
    "duration": 12,
    "start_time": "2021-11-08T12:33:33.941Z"
   },
   {
    "duration": 18,
    "start_time": "2021-11-08T12:33:39.403Z"
   },
   {
    "duration": 589,
    "start_time": "2021-11-08T12:38:05.962Z"
   },
   {
    "duration": 139,
    "start_time": "2021-11-08T12:38:06.553Z"
   },
   {
    "duration": 17,
    "start_time": "2021-11-08T12:38:06.695Z"
   },
   {
    "duration": 27,
    "start_time": "2021-11-08T12:38:06.714Z"
   },
   {
    "duration": 4,
    "start_time": "2021-11-08T12:38:06.743Z"
   },
   {
    "duration": 5,
    "start_time": "2021-11-08T12:38:06.749Z"
   },
   {
    "duration": 6,
    "start_time": "2021-11-08T12:38:06.756Z"
   },
   {
    "duration": 49,
    "start_time": "2021-11-08T12:38:06.764Z"
   },
   {
    "duration": 21,
    "start_time": "2021-11-08T12:38:06.816Z"
   },
   {
    "duration": 24,
    "start_time": "2021-11-08T12:38:06.839Z"
   },
   {
    "duration": 84,
    "start_time": "2021-11-08T12:38:06.865Z"
   },
   {
    "duration": 80,
    "start_time": "2021-11-08T12:38:06.951Z"
   },
   {
    "duration": 56,
    "start_time": "2021-11-08T12:38:07.033Z"
   },
   {
    "duration": 56,
    "start_time": "2021-11-08T12:38:07.091Z"
   },
   {
    "duration": 13,
    "start_time": "2021-11-08T12:38:07.149Z"
   },
   {
    "duration": 32,
    "start_time": "2021-11-08T12:38:07.164Z"
   },
   {
    "duration": 46,
    "start_time": "2021-11-08T12:38:07.198Z"
   },
   {
    "duration": 23,
    "start_time": "2021-11-08T12:38:07.245Z"
   },
   {
    "duration": 23,
    "start_time": "2021-11-08T12:38:07.270Z"
   },
   {
    "duration": 25,
    "start_time": "2021-11-08T12:38:07.295Z"
   },
   {
    "duration": 37,
    "start_time": "2021-11-08T12:38:07.322Z"
   },
   {
    "duration": 23,
    "start_time": "2021-11-08T12:38:07.361Z"
   },
   {
    "duration": 38,
    "start_time": "2021-11-08T12:38:07.386Z"
   },
   {
    "duration": 23,
    "start_time": "2021-11-08T12:38:07.426Z"
   },
   {
    "duration": 21,
    "start_time": "2021-11-08T12:38:07.451Z"
   },
   {
    "duration": 34,
    "start_time": "2021-11-08T12:38:07.474Z"
   },
   {
    "duration": 17,
    "start_time": "2021-11-08T12:38:07.512Z"
   },
   {
    "duration": 26,
    "start_time": "2021-11-08T12:38:07.531Z"
   },
   {
    "duration": 15,
    "start_time": "2021-11-08T12:38:07.559Z"
   },
   {
    "duration": 4,
    "start_time": "2021-11-08T12:38:07.576Z"
   },
   {
    "duration": 27,
    "start_time": "2021-11-08T12:38:07.582Z"
   },
   {
    "duration": 13,
    "start_time": "2021-11-08T12:38:07.611Z"
   },
   {
    "duration": 28,
    "start_time": "2021-11-08T12:38:07.626Z"
   },
   {
    "duration": 12,
    "start_time": "2021-11-08T12:38:07.655Z"
   },
   {
    "duration": 7,
    "start_time": "2021-11-08T12:38:07.669Z"
   },
   {
    "duration": 8,
    "start_time": "2021-11-08T12:38:07.677Z"
   },
   {
    "duration": 12,
    "start_time": "2021-11-08T12:38:07.686Z"
   },
   {
    "duration": 8,
    "start_time": "2021-11-08T12:38:07.700Z"
   },
   {
    "duration": 16,
    "start_time": "2021-11-08T12:40:26.302Z"
   },
   {
    "duration": 426,
    "start_time": "2021-11-08T13:05:36.663Z"
   },
   {
    "duration": 363,
    "start_time": "2021-11-08T13:05:48.263Z"
   },
   {
    "duration": 31,
    "start_time": "2021-11-08T13:05:54.780Z"
   },
   {
    "duration": 62,
    "start_time": "2021-11-08T13:06:15.122Z"
   },
   {
    "duration": 127,
    "start_time": "2021-11-08T13:06:48.193Z"
   },
   {
    "duration": 27,
    "start_time": "2021-11-08T13:07:00.800Z"
   },
   {
    "duration": 9299,
    "start_time": "2021-11-08T13:07:44.231Z"
   },
   {
    "duration": 9290,
    "start_time": "2021-11-08T13:07:44.241Z"
   },
   {
    "duration": 13,
    "start_time": "2021-11-08T13:17:36.760Z"
   },
   {
    "duration": 11,
    "start_time": "2021-11-08T13:17:44.624Z"
   },
   {
    "duration": 8,
    "start_time": "2021-11-08T13:17:52.981Z"
   },
   {
    "duration": 5,
    "start_time": "2021-11-08T13:18:10.400Z"
   },
   {
    "duration": 344,
    "start_time": "2021-11-08T13:18:19.349Z"
   },
   {
    "duration": 16,
    "start_time": "2021-11-08T13:18:34.423Z"
   },
   {
    "duration": 6,
    "start_time": "2021-11-08T13:18:36.070Z"
   },
   {
    "duration": 416,
    "start_time": "2021-11-09T07:07:33.364Z"
   },
   {
    "duration": 363,
    "start_time": "2021-11-09T07:07:38.334Z"
   },
   {
    "duration": 664,
    "start_time": "2021-11-09T07:07:43.969Z"
   },
   {
    "duration": 148,
    "start_time": "2021-11-09T07:07:44.635Z"
   },
   {
    "duration": 20,
    "start_time": "2021-11-09T07:07:44.785Z"
   },
   {
    "duration": 26,
    "start_time": "2021-11-09T07:07:44.807Z"
   },
   {
    "duration": 4,
    "start_time": "2021-11-09T07:07:44.835Z"
   },
   {
    "duration": 8,
    "start_time": "2021-11-09T07:07:44.840Z"
   },
   {
    "duration": 8,
    "start_time": "2021-11-09T07:07:44.850Z"
   },
   {
    "duration": 44,
    "start_time": "2021-11-09T07:07:44.862Z"
   },
   {
    "duration": 20,
    "start_time": "2021-11-09T07:07:44.909Z"
   },
   {
    "duration": 24,
    "start_time": "2021-11-09T07:07:44.931Z"
   },
   {
    "duration": 94,
    "start_time": "2021-11-09T07:07:44.957Z"
   },
   {
    "duration": 79,
    "start_time": "2021-11-09T07:07:45.053Z"
   },
   {
    "duration": 57,
    "start_time": "2021-11-09T07:07:45.134Z"
   },
   {
    "duration": 55,
    "start_time": "2021-11-09T07:07:45.192Z"
   },
   {
    "duration": 3,
    "start_time": "2021-11-09T07:07:45.249Z"
   },
   {
    "duration": 21,
    "start_time": "2021-11-09T07:07:45.254Z"
   },
   {
    "duration": 54,
    "start_time": "2021-11-09T07:07:45.277Z"
   },
   {
    "duration": 11,
    "start_time": "2021-11-09T07:07:45.333Z"
   },
   {
    "duration": 11,
    "start_time": "2021-11-09T07:07:45.346Z"
   },
   {
    "duration": 4,
    "start_time": "2021-11-09T07:07:45.358Z"
   },
   {
    "duration": 49,
    "start_time": "2021-11-09T07:07:45.364Z"
   },
   {
    "duration": 17,
    "start_time": "2021-11-09T07:07:45.415Z"
   },
   {
    "duration": 37,
    "start_time": "2021-11-09T07:07:45.436Z"
   },
   {
    "duration": 31,
    "start_time": "2021-11-09T07:07:45.475Z"
   },
   {
    "duration": 37,
    "start_time": "2021-11-09T07:07:45.508Z"
   },
   {
    "duration": 22,
    "start_time": "2021-11-09T07:07:45.547Z"
   },
   {
    "duration": 28,
    "start_time": "2021-11-09T07:07:45.571Z"
   },
   {
    "duration": 28,
    "start_time": "2021-11-09T07:07:45.601Z"
   },
   {
    "duration": 45,
    "start_time": "2021-11-09T07:07:45.630Z"
   },
   {
    "duration": 26,
    "start_time": "2021-11-09T07:07:45.677Z"
   },
   {
    "duration": 42,
    "start_time": "2021-11-09T07:07:45.705Z"
   },
   {
    "duration": 19,
    "start_time": "2021-11-09T07:07:45.749Z"
   },
   {
    "duration": 30,
    "start_time": "2021-11-09T07:07:45.770Z"
   },
   {
    "duration": 29,
    "start_time": "2021-11-09T07:07:45.802Z"
   },
   {
    "duration": 36,
    "start_time": "2021-11-09T07:07:45.833Z"
   },
   {
    "duration": 5,
    "start_time": "2021-11-09T07:07:45.871Z"
   },
   {
    "duration": 33,
    "start_time": "2021-11-09T07:07:45.878Z"
   },
   {
    "duration": 5,
    "start_time": "2021-11-09T07:07:45.913Z"
   },
   {
    "duration": 4,
    "start_time": "2021-11-09T07:08:00.948Z"
   },
   {
    "duration": 7,
    "start_time": "2021-11-09T07:08:06.499Z"
   },
   {
    "duration": 6,
    "start_time": "2021-11-09T07:08:17.500Z"
   },
   {
    "duration": 5,
    "start_time": "2021-11-09T07:08:37.942Z"
   },
   {
    "duration": 7,
    "start_time": "2021-11-09T07:08:56.229Z"
   },
   {
    "duration": 5,
    "start_time": "2021-11-09T07:09:16.351Z"
   },
   {
    "duration": 6,
    "start_time": "2021-11-09T07:09:19.260Z"
   },
   {
    "duration": 7,
    "start_time": "2021-11-09T07:09:58.859Z"
   },
   {
    "duration": 14,
    "start_time": "2021-11-09T07:10:24.160Z"
   },
   {
    "duration": 14,
    "start_time": "2021-11-09T07:10:34.878Z"
   },
   {
    "duration": 20,
    "start_time": "2021-11-09T07:10:56.396Z"
   },
   {
    "duration": 21,
    "start_time": "2021-11-09T07:11:26.790Z"
   },
   {
    "duration": 15,
    "start_time": "2021-11-09T07:11:28.220Z"
   },
   {
    "duration": 15,
    "start_time": "2021-11-09T07:13:18.369Z"
   },
   {
    "duration": 14,
    "start_time": "2021-11-09T07:13:21.548Z"
   },
   {
    "duration": 20,
    "start_time": "2021-11-09T07:14:13.451Z"
   },
   {
    "duration": 15,
    "start_time": "2021-11-09T07:14:15.797Z"
   },
   {
    "duration": 14,
    "start_time": "2021-11-09T07:14:58.910Z"
   },
   {
    "duration": 20,
    "start_time": "2021-11-09T07:15:21.931Z"
   },
   {
    "duration": 16,
    "start_time": "2021-11-09T07:50:19.541Z"
   },
   {
    "duration": 17,
    "start_time": "2021-11-09T07:50:29.220Z"
   },
   {
    "duration": 22,
    "start_time": "2021-11-09T07:50:52.328Z"
   },
   {
    "duration": 43,
    "start_time": "2021-11-09T07:51:44.666Z"
   },
   {
    "duration": 42,
    "start_time": "2021-11-09T07:52:02.079Z"
   },
   {
    "duration": 24,
    "start_time": "2021-11-09T07:55:07.960Z"
   },
   {
    "duration": 23,
    "start_time": "2021-11-09T07:55:14.740Z"
   },
   {
    "duration": 4,
    "start_time": "2021-11-09T07:56:34.701Z"
   },
   {
    "duration": 3,
    "start_time": "2021-11-09T07:56:42.370Z"
   },
   {
    "duration": 5,
    "start_time": "2021-11-09T07:56:48.760Z"
   },
   {
    "duration": 4,
    "start_time": "2021-11-09T07:57:02.480Z"
   },
   {
    "duration": 52,
    "start_time": "2021-11-09T07:59:45.356Z"
   },
   {
    "duration": 9,
    "start_time": "2021-11-09T08:15:40.820Z"
   },
   {
    "duration": 9,
    "start_time": "2021-11-09T08:15:45.840Z"
   },
   {
    "duration": 4,
    "start_time": "2021-11-09T08:17:16.320Z"
   },
   {
    "duration": 4,
    "start_time": "2021-11-09T08:17:20.869Z"
   },
   {
    "duration": 4,
    "start_time": "2021-11-09T08:17:35.891Z"
   },
   {
    "duration": 415,
    "start_time": "2021-11-09T08:22:48.409Z"
   },
   {
    "duration": 663,
    "start_time": "2021-11-09T08:36:17.570Z"
   },
   {
    "duration": 140,
    "start_time": "2021-11-09T08:36:18.235Z"
   },
   {
    "duration": 18,
    "start_time": "2021-11-09T08:36:18.377Z"
   },
   {
    "duration": 58,
    "start_time": "2021-11-09T08:36:18.397Z"
   },
   {
    "duration": 18,
    "start_time": "2021-11-09T08:36:18.457Z"
   },
   {
    "duration": 27,
    "start_time": "2021-11-09T08:36:18.477Z"
   },
   {
    "duration": 9,
    "start_time": "2021-11-09T08:36:18.506Z"
   },
   {
    "duration": 25,
    "start_time": "2021-11-09T08:36:18.519Z"
   },
   {
    "duration": 19,
    "start_time": "2021-11-09T08:36:18.547Z"
   },
   {
    "duration": 38,
    "start_time": "2021-11-09T08:36:18.568Z"
   },
   {
    "duration": 63,
    "start_time": "2021-11-09T08:36:18.608Z"
   },
   {
    "duration": 92,
    "start_time": "2021-11-09T08:36:18.673Z"
   },
   {
    "duration": 68,
    "start_time": "2021-11-09T08:36:18.767Z"
   },
   {
    "duration": 42,
    "start_time": "2021-11-09T08:36:18.838Z"
   },
   {
    "duration": 3,
    "start_time": "2021-11-09T08:36:18.883Z"
   },
   {
    "duration": 30,
    "start_time": "2021-11-09T08:36:18.888Z"
   },
   {
    "duration": 53,
    "start_time": "2021-11-09T08:36:18.920Z"
   },
   {
    "duration": 11,
    "start_time": "2021-11-09T08:36:18.975Z"
   },
   {
    "duration": 27,
    "start_time": "2021-11-09T08:36:18.987Z"
   },
   {
    "duration": 3,
    "start_time": "2021-11-09T08:36:19.016Z"
   },
   {
    "duration": 23,
    "start_time": "2021-11-09T08:36:19.021Z"
   },
   {
    "duration": 14,
    "start_time": "2021-11-09T08:36:19.046Z"
   },
   {
    "duration": 14,
    "start_time": "2021-11-09T08:36:19.064Z"
   },
   {
    "duration": 35,
    "start_time": "2021-11-09T08:36:19.080Z"
   },
   {
    "duration": 17,
    "start_time": "2021-11-09T08:36:19.117Z"
   },
   {
    "duration": 25,
    "start_time": "2021-11-09T08:36:19.136Z"
   },
   {
    "duration": 9,
    "start_time": "2021-11-09T08:36:19.163Z"
   },
   {
    "duration": 37,
    "start_time": "2021-11-09T08:36:19.174Z"
   },
   {
    "duration": 9,
    "start_time": "2021-11-09T08:36:19.213Z"
   },
   {
    "duration": 5,
    "start_time": "2021-11-09T08:36:19.223Z"
   },
   {
    "duration": 28,
    "start_time": "2021-11-09T08:36:19.229Z"
   },
   {
    "duration": 14,
    "start_time": "2021-11-09T08:36:19.259Z"
   },
   {
    "duration": 45,
    "start_time": "2021-11-09T08:36:19.275Z"
   },
   {
    "duration": 14,
    "start_time": "2021-11-09T08:36:19.322Z"
   },
   {
    "duration": 27,
    "start_time": "2021-11-09T08:36:19.338Z"
   },
   {
    "duration": 6,
    "start_time": "2021-11-09T08:36:19.366Z"
   },
   {
    "duration": 42,
    "start_time": "2021-11-09T08:36:19.374Z"
   },
   {
    "duration": 8,
    "start_time": "2021-11-09T08:36:19.418Z"
   },
   {
    "duration": 8,
    "start_time": "2021-11-09T08:41:03.999Z"
   },
   {
    "duration": 884,
    "start_time": "2021-11-09T10:37:47.883Z"
   },
   {
    "duration": 267,
    "start_time": "2021-11-09T10:37:48.771Z"
   },
   {
    "duration": 45,
    "start_time": "2021-11-09T10:37:49.042Z"
   },
   {
    "duration": 53,
    "start_time": "2021-11-09T10:37:49.091Z"
   },
   {
    "duration": 5,
    "start_time": "2021-11-09T10:37:49.167Z"
   },
   {
    "duration": 5,
    "start_time": "2021-11-09T10:37:49.175Z"
   },
   {
    "duration": 8,
    "start_time": "2021-11-09T10:37:49.184Z"
   },
   {
    "duration": 34,
    "start_time": "2021-11-09T10:37:49.195Z"
   },
   {
    "duration": 57,
    "start_time": "2021-11-09T10:37:49.233Z"
   },
   {
    "duration": 32,
    "start_time": "2021-11-09T10:37:49.293Z"
   },
   {
    "duration": 111,
    "start_time": "2021-11-09T10:37:49.328Z"
   },
   {
    "duration": 120,
    "start_time": "2021-11-09T10:37:49.441Z"
   },
   {
    "duration": 81,
    "start_time": "2021-11-09T10:37:49.563Z"
   },
   {
    "duration": 73,
    "start_time": "2021-11-09T10:37:49.647Z"
   },
   {
    "duration": 5,
    "start_time": "2021-11-09T10:37:49.722Z"
   },
   {
    "duration": 45,
    "start_time": "2021-11-09T10:37:49.729Z"
   },
   {
    "duration": 59,
    "start_time": "2021-11-09T10:37:49.776Z"
   },
   {
    "duration": 30,
    "start_time": "2021-11-09T10:37:49.837Z"
   },
   {
    "duration": 15,
    "start_time": "2021-11-09T10:37:49.869Z"
   },
   {
    "duration": 5,
    "start_time": "2021-11-09T10:37:49.887Z"
   },
   {
    "duration": 34,
    "start_time": "2021-11-09T10:37:49.894Z"
   },
   {
    "duration": 44,
    "start_time": "2021-11-09T10:37:49.930Z"
   },
   {
    "duration": 19,
    "start_time": "2021-11-09T10:37:49.976Z"
   },
   {
    "duration": 20,
    "start_time": "2021-11-09T10:37:49.998Z"
   },
   {
    "duration": 67,
    "start_time": "2021-11-09T10:37:50.021Z"
   },
   {
    "duration": 27,
    "start_time": "2021-11-09T10:37:50.091Z"
   },
   {
    "duration": 42,
    "start_time": "2021-11-09T10:37:50.126Z"
   },
   {
    "duration": 21,
    "start_time": "2021-11-09T10:37:50.172Z"
   },
   {
    "duration": 13,
    "start_time": "2021-11-09T10:37:50.195Z"
   },
   {
    "duration": 8,
    "start_time": "2021-11-09T10:37:50.211Z"
   },
   {
    "duration": 74,
    "start_time": "2021-11-09T10:37:50.222Z"
   },
   {
    "duration": 19,
    "start_time": "2021-11-09T10:37:50.299Z"
   },
   {
    "duration": 48,
    "start_time": "2021-11-09T10:37:50.320Z"
   },
   {
    "duration": 18,
    "start_time": "2021-11-09T10:37:50.371Z"
   },
   {
    "duration": 76,
    "start_time": "2021-11-09T10:37:50.392Z"
   },
   {
    "duration": 11,
    "start_time": "2021-11-09T10:37:50.471Z"
   },
   {
    "duration": 18,
    "start_time": "2021-11-09T10:37:50.484Z"
   },
   {
    "duration": 7,
    "start_time": "2021-11-09T10:37:50.505Z"
   },
   {
    "duration": 19,
    "start_time": "2021-11-09T10:38:05.070Z"
   },
   {
    "duration": 430,
    "start_time": "2021-11-09T13:06:36.252Z"
   },
   {
    "duration": 984,
    "start_time": "2021-11-09T13:06:42.995Z"
   },
   {
    "duration": 199,
    "start_time": "2021-11-09T13:06:43.983Z"
   },
   {
    "duration": 27,
    "start_time": "2021-11-09T13:06:44.185Z"
   },
   {
    "duration": 59,
    "start_time": "2021-11-09T13:06:44.215Z"
   },
   {
    "duration": 6,
    "start_time": "2021-11-09T13:06:44.276Z"
   },
   {
    "duration": 10,
    "start_time": "2021-11-09T13:06:44.284Z"
   },
   {
    "duration": 10,
    "start_time": "2021-11-09T13:06:44.297Z"
   },
   {
    "duration": 66,
    "start_time": "2021-11-09T13:06:44.309Z"
   },
   {
    "duration": 26,
    "start_time": "2021-11-09T13:06:44.379Z"
   },
   {
    "duration": 33,
    "start_time": "2021-11-09T13:06:44.408Z"
   },
   {
    "duration": 102,
    "start_time": "2021-11-09T13:06:44.467Z"
   },
   {
    "duration": 120,
    "start_time": "2021-11-09T13:06:44.571Z"
   },
   {
    "duration": 87,
    "start_time": "2021-11-09T13:06:44.694Z"
   },
   {
    "duration": 61,
    "start_time": "2021-11-09T13:06:44.783Z"
   },
   {
    "duration": 22,
    "start_time": "2021-11-09T13:06:44.847Z"
   },
   {
    "duration": 39,
    "start_time": "2021-11-09T13:06:44.873Z"
   },
   {
    "duration": 113,
    "start_time": "2021-11-09T13:06:44.915Z"
   },
   {
    "duration": 19,
    "start_time": "2021-11-09T13:06:45.031Z"
   },
   {
    "duration": 27,
    "start_time": "2021-11-09T13:06:45.053Z"
   },
   {
    "duration": 6,
    "start_time": "2021-11-09T13:06:45.082Z"
   },
   {
    "duration": 30,
    "start_time": "2021-11-09T13:06:45.091Z"
   },
   {
    "duration": 45,
    "start_time": "2021-11-09T13:06:45.124Z"
   },
   {
    "duration": 29,
    "start_time": "2021-11-09T13:06:45.172Z"
   },
   {
    "duration": 18,
    "start_time": "2021-11-09T13:06:45.204Z"
   },
   {
    "duration": 43,
    "start_time": "2021-11-09T13:06:45.224Z"
   },
   {
    "duration": 20,
    "start_time": "2021-11-09T13:06:45.270Z"
   },
   {
    "duration": 12,
    "start_time": "2021-11-09T13:06:45.298Z"
   },
   {
    "duration": 58,
    "start_time": "2021-11-09T13:06:45.314Z"
   },
   {
    "duration": 15,
    "start_time": "2021-11-09T13:06:45.375Z"
   },
   {
    "duration": 9,
    "start_time": "2021-11-09T13:06:45.393Z"
   },
   {
    "duration": 37,
    "start_time": "2021-11-09T13:06:45.404Z"
   },
   {
    "duration": 22,
    "start_time": "2021-11-09T13:06:45.468Z"
   },
   {
    "duration": 27,
    "start_time": "2021-11-09T13:06:45.492Z"
   },
   {
    "duration": 55,
    "start_time": "2021-11-09T13:06:45.521Z"
   },
   {
    "duration": 31,
    "start_time": "2021-11-09T13:06:45.578Z"
   },
   {
    "duration": 7,
    "start_time": "2021-11-09T13:06:45.612Z"
   },
   {
    "duration": 68,
    "start_time": "2021-11-09T13:06:45.622Z"
   },
   {
    "duration": 10,
    "start_time": "2021-11-09T13:06:45.693Z"
   },
   {
    "duration": 99,
    "start_time": "2021-11-09T13:07:14.875Z"
   },
   {
    "duration": 98,
    "start_time": "2021-11-09T13:07:28.508Z"
   },
   {
    "duration": 16,
    "start_time": "2021-11-09T13:07:36.008Z"
   },
   {
    "duration": 14,
    "start_time": "2021-11-09T13:07:40.358Z"
   },
   {
    "duration": 22,
    "start_time": "2021-11-09T13:07:48.848Z"
   },
   {
    "duration": 18,
    "start_time": "2021-11-09T13:07:52.488Z"
   },
   {
    "duration": 21,
    "start_time": "2021-11-09T13:07:59.128Z"
   },
   {
    "duration": 18,
    "start_time": "2021-11-09T13:08:02.848Z"
   },
   {
    "duration": 23,
    "start_time": "2021-11-09T13:08:06.348Z"
   },
   {
    "duration": 20,
    "start_time": "2021-11-09T13:08:11.868Z"
   },
   {
    "duration": 12,
    "start_time": "2021-11-09T13:08:34.698Z"
   },
   {
    "duration": 18,
    "start_time": "2021-11-09T13:10:16.947Z"
   },
   {
    "duration": 17,
    "start_time": "2021-11-09T13:10:19.186Z"
   },
   {
    "duration": 20,
    "start_time": "2021-11-09T13:10:26.978Z"
   },
   {
    "duration": 21,
    "start_time": "2021-11-09T13:11:00.979Z"
   },
   {
    "duration": 17,
    "start_time": "2021-11-09T13:11:02.528Z"
   },
   {
    "duration": 20,
    "start_time": "2021-11-09T13:11:42.555Z"
   },
   {
    "duration": 21,
    "start_time": "2021-11-09T13:12:04.557Z"
   },
   {
    "duration": 21,
    "start_time": "2021-11-09T13:12:17.506Z"
   },
   {
    "duration": 362,
    "start_time": "2021-11-09T13:13:40.848Z"
   },
   {
    "duration": 799,
    "start_time": "2021-11-09T13:13:52.756Z"
   },
   {
    "duration": 201,
    "start_time": "2021-11-09T13:13:53.558Z"
   },
   {
    "duration": 25,
    "start_time": "2021-11-09T13:13:53.762Z"
   },
   {
    "duration": 59,
    "start_time": "2021-11-09T13:13:53.789Z"
   },
   {
    "duration": 11,
    "start_time": "2021-11-09T13:13:53.851Z"
   },
   {
    "duration": 15,
    "start_time": "2021-11-09T13:13:53.867Z"
   },
   {
    "duration": 10,
    "start_time": "2021-11-09T13:13:53.885Z"
   },
   {
    "duration": 37,
    "start_time": "2021-11-09T13:13:53.897Z"
   },
   {
    "duration": 41,
    "start_time": "2021-11-09T13:13:53.938Z"
   },
   {
    "duration": 30,
    "start_time": "2021-11-09T13:13:53.983Z"
   },
   {
    "duration": 153,
    "start_time": "2021-11-09T13:13:54.017Z"
   },
   {
    "duration": 161,
    "start_time": "2021-11-09T13:13:54.173Z"
   },
   {
    "duration": 124,
    "start_time": "2021-11-09T13:13:54.338Z"
   },
   {
    "duration": 115,
    "start_time": "2021-11-09T13:13:54.468Z"
   },
   {
    "duration": 5,
    "start_time": "2021-11-09T13:13:54.586Z"
   },
   {
    "duration": 30,
    "start_time": "2021-11-09T13:13:54.594Z"
   },
   {
    "duration": 123,
    "start_time": "2021-11-09T13:13:54.627Z"
   },
   {
    "duration": 31,
    "start_time": "2021-11-09T13:13:54.753Z"
   },
   {
    "duration": 21,
    "start_time": "2021-11-09T13:13:54.787Z"
   },
   {
    "duration": 7,
    "start_time": "2021-11-09T13:13:54.811Z"
   },
   {
    "duration": 71,
    "start_time": "2021-11-09T13:13:54.821Z"
   },
   {
    "duration": 28,
    "start_time": "2021-11-09T13:13:54.894Z"
   },
   {
    "duration": 23,
    "start_time": "2021-11-09T13:13:54.925Z"
   },
   {
    "duration": 17,
    "start_time": "2021-11-09T13:13:54.966Z"
   },
   {
    "duration": 25,
    "start_time": "2021-11-09T13:13:54.986Z"
   },
   {
    "duration": 17,
    "start_time": "2021-11-09T13:13:55.013Z"
   },
   {
    "duration": 41,
    "start_time": "2021-11-09T13:13:55.035Z"
   },
   {
    "duration": 17,
    "start_time": "2021-11-09T13:13:55.079Z"
   },
   {
    "duration": 14,
    "start_time": "2021-11-09T13:13:55.098Z"
   },
   {
    "duration": 7,
    "start_time": "2021-11-09T13:13:55.115Z"
   },
   {
    "duration": 65,
    "start_time": "2021-11-09T13:13:55.125Z"
   },
   {
    "duration": 19,
    "start_time": "2021-11-09T13:13:55.193Z"
   },
   {
    "duration": 57,
    "start_time": "2021-11-09T13:13:55.215Z"
   },
   {
    "duration": 21,
    "start_time": "2021-11-09T13:13:55.274Z"
   },
   {
    "duration": 36,
    "start_time": "2021-11-09T13:13:55.298Z"
   },
   {
    "duration": 37,
    "start_time": "2021-11-09T13:13:55.336Z"
   },
   {
    "duration": 21,
    "start_time": "2021-11-09T13:13:55.375Z"
   },
   {
    "duration": 8,
    "start_time": "2021-11-09T13:13:55.399Z"
   },
   {
    "duration": 20,
    "start_time": "2021-11-09T13:14:28.537Z"
   },
   {
    "duration": 22,
    "start_time": "2021-11-09T13:14:34.507Z"
   },
   {
    "duration": 22,
    "start_time": "2021-11-09T13:14:48.858Z"
   },
   {
    "duration": 20,
    "start_time": "2021-11-09T13:14:51.187Z"
   },
   {
    "duration": 23,
    "start_time": "2021-11-09T13:14:55.659Z"
   },
   {
    "duration": 383,
    "start_time": "2021-11-09T13:15:06.467Z"
   },
   {
    "duration": 24,
    "start_time": "2021-11-09T13:15:16.165Z"
   },
   {
    "duration": 16,
    "start_time": "2021-11-09T13:23:51.475Z"
   },
   {
    "duration": 7,
    "start_time": "2021-11-09T13:24:00.974Z"
   },
   {
    "duration": 7,
    "start_time": "2021-11-09T13:24:07.863Z"
   },
   {
    "duration": 46,
    "start_time": "2021-11-09T13:24:13.635Z"
   },
   {
    "duration": 46,
    "start_time": "2021-11-09T13:24:23.256Z"
   },
   {
    "duration": 28,
    "start_time": "2021-11-09T13:25:37.263Z"
   },
   {
    "duration": 26,
    "start_time": "2021-11-09T13:25:44.095Z"
   },
   {
    "duration": 29,
    "start_time": "2021-11-09T13:25:46.015Z"
   },
   {
    "duration": 26,
    "start_time": "2021-11-09T13:25:47.706Z"
   },
   {
    "duration": 28,
    "start_time": "2021-11-09T13:25:49.356Z"
   },
   {
    "duration": 27,
    "start_time": "2021-11-09T13:25:51.278Z"
   },
   {
    "duration": 103,
    "start_time": "2021-11-09T13:26:09.003Z"
   },
   {
    "duration": 326,
    "start_time": "2021-11-09T16:24:18.284Z"
   },
   {
    "duration": 294,
    "start_time": "2021-11-09T16:24:24.123Z"
   },
   {
    "duration": 737,
    "start_time": "2021-11-09T16:24:32.944Z"
   },
   {
    "duration": 181,
    "start_time": "2021-11-09T16:24:33.684Z"
   },
   {
    "duration": 28,
    "start_time": "2021-11-09T16:24:33.868Z"
   },
   {
    "duration": 56,
    "start_time": "2021-11-09T16:24:33.899Z"
   },
   {
    "duration": 5,
    "start_time": "2021-11-09T16:24:33.957Z"
   },
   {
    "duration": 5,
    "start_time": "2021-11-09T16:24:33.964Z"
   },
   {
    "duration": 8,
    "start_time": "2021-11-09T16:24:33.971Z"
   },
   {
    "duration": 65,
    "start_time": "2021-11-09T16:24:33.983Z"
   },
   {
    "duration": 24,
    "start_time": "2021-11-09T16:24:34.051Z"
   },
   {
    "duration": 53,
    "start_time": "2021-11-09T16:24:34.077Z"
   },
   {
    "duration": 97,
    "start_time": "2021-11-09T16:24:34.132Z"
   },
   {
    "duration": 112,
    "start_time": "2021-11-09T16:24:34.232Z"
   },
   {
    "duration": 91,
    "start_time": "2021-11-09T16:24:34.346Z"
   },
   {
    "duration": 60,
    "start_time": "2021-11-09T16:24:34.440Z"
   },
   {
    "duration": 26,
    "start_time": "2021-11-09T16:24:34.503Z"
   },
   {
    "duration": 21,
    "start_time": "2021-11-09T16:24:34.532Z"
   },
   {
    "duration": 82,
    "start_time": "2021-11-09T16:24:34.556Z"
   },
   {
    "duration": 17,
    "start_time": "2021-11-09T16:24:34.640Z"
   },
   {
    "duration": 15,
    "start_time": "2021-11-09T16:24:34.660Z"
   },
   {
    "duration": 5,
    "start_time": "2021-11-09T16:24:34.677Z"
   },
   {
    "duration": 55,
    "start_time": "2021-11-09T16:24:34.685Z"
   },
   {
    "duration": 16,
    "start_time": "2021-11-09T16:24:34.742Z"
   },
   {
    "duration": 22,
    "start_time": "2021-11-09T16:24:34.762Z"
   },
   {
    "duration": 19,
    "start_time": "2021-11-09T16:24:34.787Z"
   },
   {
    "duration": 37,
    "start_time": "2021-11-09T16:24:34.809Z"
   },
   {
    "duration": 17,
    "start_time": "2021-11-09T16:24:34.848Z"
   },
   {
    "duration": 12,
    "start_time": "2021-11-09T16:24:34.867Z"
   },
   {
    "duration": 50,
    "start_time": "2021-11-09T16:24:34.881Z"
   },
   {
    "duration": 12,
    "start_time": "2021-11-09T16:24:34.934Z"
   },
   {
    "duration": 5,
    "start_time": "2021-11-09T16:24:34.949Z"
   },
   {
    "duration": 30,
    "start_time": "2021-11-09T16:24:34.956Z"
   },
   {
    "duration": 50,
    "start_time": "2021-11-09T16:24:34.988Z"
   },
   {
    "duration": 25,
    "start_time": "2021-11-09T16:24:35.041Z"
   },
   {
    "duration": 21,
    "start_time": "2021-11-09T16:24:35.069Z"
   },
   {
    "duration": 33,
    "start_time": "2021-11-09T16:24:35.130Z"
   },
   {
    "duration": 7,
    "start_time": "2021-11-09T16:24:35.166Z"
   },
   {
    "duration": 18,
    "start_time": "2021-11-09T16:24:35.175Z"
   },
   {
    "duration": 7,
    "start_time": "2021-11-09T16:24:35.230Z"
   },
   {
    "duration": 79,
    "start_time": "2021-11-09T16:24:49.540Z"
   },
   {
    "duration": 81,
    "start_time": "2021-11-09T16:24:55.387Z"
   },
   {
    "duration": 94,
    "start_time": "2021-11-09T16:25:18.482Z"
   },
   {
    "duration": 75,
    "start_time": "2021-11-09T16:25:23.169Z"
   },
   {
    "duration": 80,
    "start_time": "2021-11-09T16:25:31.928Z"
   },
   {
    "duration": 5,
    "start_time": "2021-11-09T16:28:26.889Z"
   },
   {
    "duration": 130,
    "start_time": "2021-11-09T16:29:18.681Z"
   },
   {
    "duration": 95,
    "start_time": "2021-11-09T16:37:16.641Z"
   },
   {
    "duration": 707,
    "start_time": "2021-11-09T16:46:26.681Z"
   },
   {
    "duration": 181,
    "start_time": "2021-11-09T16:46:27.391Z"
   },
   {
    "duration": 26,
    "start_time": "2021-11-09T16:46:27.575Z"
   },
   {
    "duration": 45,
    "start_time": "2021-11-09T16:46:27.603Z"
   },
   {
    "duration": 7,
    "start_time": "2021-11-09T16:46:27.651Z"
   },
   {
    "duration": 10,
    "start_time": "2021-11-09T16:46:27.660Z"
   },
   {
    "duration": 13,
    "start_time": "2021-11-09T16:46:27.672Z"
   },
   {
    "duration": 54,
    "start_time": "2021-11-09T16:46:27.687Z"
   },
   {
    "duration": 24,
    "start_time": "2021-11-09T16:46:27.745Z"
   },
   {
    "duration": 30,
    "start_time": "2021-11-09T16:46:27.773Z"
   },
   {
    "duration": 106,
    "start_time": "2021-11-09T16:46:27.805Z"
   },
   {
    "duration": 122,
    "start_time": "2021-11-09T16:46:27.913Z"
   },
   {
    "duration": 76,
    "start_time": "2021-11-09T16:46:28.038Z"
   },
   {
    "duration": 65,
    "start_time": "2021-11-09T16:46:28.117Z"
   },
   {
    "duration": 4,
    "start_time": "2021-11-09T16:46:28.185Z"
   },
   {
    "duration": 45,
    "start_time": "2021-11-09T16:46:28.191Z"
   },
   {
    "duration": 55,
    "start_time": "2021-11-09T16:46:28.238Z"
   },
   {
    "duration": 35,
    "start_time": "2021-11-09T16:46:28.295Z"
   },
   {
    "duration": 14,
    "start_time": "2021-11-09T16:46:28.332Z"
   },
   {
    "duration": 6,
    "start_time": "2021-11-09T16:46:28.348Z"
   },
   {
    "duration": 32,
    "start_time": "2021-11-09T16:46:28.357Z"
   },
   {
    "duration": 37,
    "start_time": "2021-11-09T16:46:28.392Z"
   },
   {
    "duration": 18,
    "start_time": "2021-11-09T16:46:28.431Z"
   },
   {
    "duration": 17,
    "start_time": "2021-11-09T16:46:28.451Z"
   },
   {
    "duration": 19,
    "start_time": "2021-11-09T16:46:28.471Z"
   },
   {
    "duration": 45,
    "start_time": "2021-11-09T16:46:28.492Z"
   },
   {
    "duration": 12,
    "start_time": "2021-11-09T16:46:28.542Z"
   },
   {
    "duration": 17,
    "start_time": "2021-11-09T16:46:28.557Z"
   },
   {
    "duration": 13,
    "start_time": "2021-11-09T16:46:28.577Z"
   },
   {
    "duration": 37,
    "start_time": "2021-11-09T16:46:28.593Z"
   },
   {
    "duration": 34,
    "start_time": "2021-11-09T16:46:28.632Z"
   },
   {
    "duration": 19,
    "start_time": "2021-11-09T16:46:28.668Z"
   },
   {
    "duration": 51,
    "start_time": "2021-11-09T16:46:28.689Z"
   },
   {
    "duration": 19,
    "start_time": "2021-11-09T16:46:28.742Z"
   },
   {
    "duration": 64,
    "start_time": "2021-11-09T16:46:28.764Z"
   },
   {
    "duration": 9,
    "start_time": "2021-11-09T16:46:28.830Z"
   },
   {
    "duration": 19,
    "start_time": "2021-11-09T16:46:28.841Z"
   },
   {
    "duration": 8,
    "start_time": "2021-11-09T16:46:28.862Z"
   },
   {
    "duration": 6,
    "start_time": "2021-11-09T16:49:20.475Z"
   },
   {
    "duration": 5,
    "start_time": "2021-11-09T16:49:25.689Z"
   },
   {
    "duration": 19,
    "start_time": "2021-11-09T16:50:22.581Z"
   },
   {
    "duration": 341,
    "start_time": "2021-11-09T16:55:06.350Z"
   },
   {
    "duration": 20,
    "start_time": "2021-11-09T16:55:13.910Z"
   },
   {
    "duration": 736,
    "start_time": "2021-11-09T16:57:20.373Z"
   },
   {
    "duration": 199,
    "start_time": "2021-11-09T16:57:21.112Z"
   },
   {
    "duration": 34,
    "start_time": "2021-11-09T16:57:21.315Z"
   },
   {
    "duration": 44,
    "start_time": "2021-11-09T16:57:21.352Z"
   },
   {
    "duration": 10,
    "start_time": "2021-11-09T16:57:21.398Z"
   },
   {
    "duration": 23,
    "start_time": "2021-11-09T16:57:21.410Z"
   },
   {
    "duration": 32,
    "start_time": "2021-11-09T16:57:21.436Z"
   },
   {
    "duration": 57,
    "start_time": "2021-11-09T16:57:21.470Z"
   },
   {
    "duration": 44,
    "start_time": "2021-11-09T16:57:21.532Z"
   },
   {
    "duration": 38,
    "start_time": "2021-11-09T16:57:21.580Z"
   },
   {
    "duration": 105,
    "start_time": "2021-11-09T16:57:21.620Z"
   },
   {
    "duration": 109,
    "start_time": "2021-11-09T16:57:21.727Z"
   },
   {
    "duration": 90,
    "start_time": "2021-11-09T16:57:21.839Z"
   },
   {
    "duration": 57,
    "start_time": "2021-11-09T16:57:21.932Z"
   },
   {
    "duration": 4,
    "start_time": "2021-11-09T16:57:21.991Z"
   },
   {
    "duration": 46,
    "start_time": "2021-11-09T16:57:21.997Z"
   },
   {
    "duration": 57,
    "start_time": "2021-11-09T16:57:22.045Z"
   },
   {
    "duration": 31,
    "start_time": "2021-11-09T16:57:22.104Z"
   },
   {
    "duration": 13,
    "start_time": "2021-11-09T16:57:22.138Z"
   },
   {
    "duration": 7,
    "start_time": "2021-11-09T16:57:22.154Z"
   },
   {
    "duration": 40,
    "start_time": "2021-11-09T16:57:22.163Z"
   },
   {
    "duration": 36,
    "start_time": "2021-11-09T16:57:22.206Z"
   },
   {
    "duration": 24,
    "start_time": "2021-11-09T16:57:22.244Z"
   },
   {
    "duration": 20,
    "start_time": "2021-11-09T16:57:22.271Z"
   },
   {
    "duration": 40,
    "start_time": "2021-11-09T16:57:22.294Z"
   },
   {
    "duration": 17,
    "start_time": "2021-11-09T16:57:22.336Z"
   },
   {
    "duration": 22,
    "start_time": "2021-11-09T16:57:22.360Z"
   },
   {
    "duration": 20,
    "start_time": "2021-11-09T16:57:22.386Z"
   },
   {
    "duration": 33,
    "start_time": "2021-11-09T16:57:22.409Z"
   },
   {
    "duration": 18,
    "start_time": "2021-11-09T16:57:22.445Z"
   },
   {
    "duration": 44,
    "start_time": "2021-11-09T16:57:22.465Z"
   },
   {
    "duration": 31,
    "start_time": "2021-11-09T16:57:22.512Z"
   },
   {
    "duration": 45,
    "start_time": "2021-11-09T16:57:22.545Z"
   },
   {
    "duration": 36,
    "start_time": "2021-11-09T16:57:22.593Z"
   },
   {
    "duration": 32,
    "start_time": "2021-11-09T16:57:22.632Z"
   },
   {
    "duration": 9,
    "start_time": "2021-11-09T16:57:22.666Z"
   },
   {
    "duration": 52,
    "start_time": "2021-11-09T16:57:22.677Z"
   },
   {
    "duration": 8,
    "start_time": "2021-11-09T16:57:22.731Z"
   },
   {
    "duration": 19,
    "start_time": "2021-11-09T16:59:12.004Z"
   },
   {
    "duration": 775,
    "start_time": "2021-11-09T16:59:30.313Z"
   },
   {
    "duration": 195,
    "start_time": "2021-11-09T16:59:31.090Z"
   },
   {
    "duration": 25,
    "start_time": "2021-11-09T16:59:31.288Z"
   },
   {
    "duration": 47,
    "start_time": "2021-11-09T16:59:31.315Z"
   },
   {
    "duration": 6,
    "start_time": "2021-11-09T16:59:31.364Z"
   },
   {
    "duration": 25,
    "start_time": "2021-11-09T16:59:31.373Z"
   },
   {
    "duration": 23,
    "start_time": "2021-11-09T16:59:31.401Z"
   },
   {
    "duration": 35,
    "start_time": "2021-11-09T16:59:31.429Z"
   },
   {
    "duration": 30,
    "start_time": "2021-11-09T16:59:31.467Z"
   },
   {
    "duration": 49,
    "start_time": "2021-11-09T16:59:31.499Z"
   },
   {
    "duration": 103,
    "start_time": "2021-11-09T16:59:31.550Z"
   },
   {
    "duration": 111,
    "start_time": "2021-11-09T16:59:31.656Z"
   },
   {
    "duration": 91,
    "start_time": "2021-11-09T16:59:31.769Z"
   },
   {
    "duration": 72,
    "start_time": "2021-11-09T16:59:31.862Z"
   },
   {
    "duration": 4,
    "start_time": "2021-11-09T16:59:31.936Z"
   },
   {
    "duration": 23,
    "start_time": "2021-11-09T16:59:31.943Z"
   },
   {
    "duration": 79,
    "start_time": "2021-11-09T16:59:31.968Z"
   },
   {
    "duration": 16,
    "start_time": "2021-11-09T16:59:32.050Z"
   },
   {
    "duration": 15,
    "start_time": "2021-11-09T16:59:32.068Z"
   },
   {
    "duration": 5,
    "start_time": "2021-11-09T16:59:32.085Z"
   },
   {
    "duration": 21,
    "start_time": "2021-11-09T16:59:32.129Z"
   },
   {
    "duration": 17,
    "start_time": "2021-11-09T16:59:32.152Z"
   },
   {
    "duration": 27,
    "start_time": "2021-11-09T16:59:32.174Z"
   },
   {
    "duration": 34,
    "start_time": "2021-11-09T16:59:32.204Z"
   },
   {
    "duration": 20,
    "start_time": "2021-11-09T16:59:32.240Z"
   },
   {
    "duration": 22,
    "start_time": "2021-11-09T16:59:32.262Z"
   },
   {
    "duration": 12,
    "start_time": "2021-11-09T16:59:32.287Z"
   },
   {
    "duration": 17,
    "start_time": "2021-11-09T16:59:32.330Z"
   },
   {
    "duration": 18,
    "start_time": "2021-11-09T16:59:32.349Z"
   },
   {
    "duration": 6,
    "start_time": "2021-11-09T16:59:32.369Z"
   },
   {
    "duration": 56,
    "start_time": "2021-11-09T16:59:32.377Z"
   },
   {
    "duration": 18,
    "start_time": "2021-11-09T16:59:32.435Z"
   },
   {
    "duration": 25,
    "start_time": "2021-11-09T16:59:32.456Z"
   },
   {
    "duration": 56,
    "start_time": "2021-11-09T16:59:32.483Z"
   },
   {
    "duration": 33,
    "start_time": "2021-11-09T16:59:32.541Z"
   },
   {
    "duration": 8,
    "start_time": "2021-11-09T16:59:32.577Z"
   },
   {
    "duration": 52,
    "start_time": "2021-11-09T16:59:32.588Z"
   },
   {
    "duration": 8,
    "start_time": "2021-11-09T16:59:32.643Z"
   }
  ],
  "colab": {
   "collapsed_sections": [
    "E0vqbgi9ay0H",
    "VUC88oWjTJw2"
   ],
   "name": "yandex_music_project_2021.2.ipynb",
   "provenance": []
  },
  "kernelspec": {
   "display_name": "Python 3 (ipykernel)",
   "language": "python",
   "name": "python3"
  },
  "language_info": {
   "codemirror_mode": {
    "name": "ipython",
    "version": 3
   },
   "file_extension": ".py",
   "mimetype": "text/x-python",
   "name": "python",
   "nbconvert_exporter": "python",
   "pygments_lexer": "ipython3",
   "version": "3.9.12"
  },
  "toc": {
   "base_numbering": 1,
   "nav_menu": {},
   "number_sections": true,
   "sideBar": true,
   "skip_h1_title": true,
   "title_cell": "Table of Contents",
   "title_sidebar": "Contents",
   "toc_cell": false,
   "toc_position": {
    "height": "calc(100% - 180px)",
    "left": "10px",
    "top": "150px",
    "width": "244px"
   },
   "toc_section_display": true,
   "toc_window_display": false
  }
 },
 "nbformat": 4,
 "nbformat_minor": 4
}
