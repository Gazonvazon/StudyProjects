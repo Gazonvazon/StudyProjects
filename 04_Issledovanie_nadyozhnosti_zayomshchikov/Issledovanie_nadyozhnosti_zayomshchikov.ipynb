{
 "cells": [
  {
   "cell_type": "markdown",
   "metadata": {},
   "source": [
    "# Исследование надёжности заёмщиков"
   ]
  },
  {
   "cell_type": "markdown",
   "metadata": {},
   "source": [
    "**Название проекта**\n",
    "\n",
    "Исследование надёжности заёмщиков\n",
    "_____\n",
    "**Описание исследования.**\n",
    "Заказчик — кредитный отдел банка. Нужно разобраться, влияет ли семейное положение и количество детей клиента на факт погашения кредита в срок.  \n",
    "Результаты исследования будут учтены при построении модели кредитного скоринга — специальной системы, которая оценивает способность потенциального заёмщика вернуть кредит банку.\n",
    "_____\n",
    "**Цель исследования.**\n",
    "Исследовать, влияет ли семейное положение и количество детей клиента на факт погашения кредита в срок.  \n",
    "\n",
    "_____\n",
    "**Задачи исследования.**\n",
    "* научиться прогнозировать вероятность оттока (на уровне следующего месяца) для каждого клиента;\n",
    "* сформировать типичные портреты клиентов: выделить несколько наиболее ярких групп и охарактеризовать их основные свойства;\n",
    "* проанализировать основные признаки, наиболее сильно влияющие на отток;\n",
    "* сформулировать основные выводы и разработать рекомендации по повышению качества работы с клиентами: \n",
    "  * 1) выделить целевые группы клиентов;\n",
    "  * 2) предложить меры по снижению оттока;\n",
    "  * 3) определить другие особенности взаимодействия с клиентами.\n",
    "\n",
    "**Исходные данные.**\n",
    "    \n",
    "Набор данных включает следующие поля:\n",
    "\n",
    "* children — количество детей в семье\n",
    "* days_employed — общий трудовой стаж в днях\n",
    "* dob_years — возраст клиента в годах\n",
    "* education — уровень образования клиента\n",
    "* education_id — идентификатор уровня образования\n",
    "* family_status — семейное положение\n",
    "* family_status_id — идентификатор семейного положения\n",
    "* gender — пол клиента\n",
    "* income_type — тип занятости\n",
    "* debt — имел ли задолженность по возврату кредитов\n",
    "* total_income — ежемесячный доход\n",
    "* purpose — цель получения кредита\n",
    "\n"
   ]
  },
  {
   "cell_type": "markdown",
   "metadata": {
    "tags": []
   },
   "source": [
    "## Шаг 1. Откроем файл с данными и изучим общую информацию"
   ]
  },
  {
   "cell_type": "code",
   "execution_count": null,
   "metadata": {},
   "outputs": [],
   "source": [
    "#pip install pymystem3"
   ]
  },
  {
   "cell_type": "code",
   "execution_count": 2,
   "metadata": {},
   "outputs": [],
   "source": [
    "# imports\n",
    "import pandas as pd\n",
    "from pymystem3 import Mystem"
   ]
  },
  {
   "cell_type": "code",
   "execution_count": 3,
   "metadata": {
    "scrolled": true
   },
   "outputs": [
    {
     "name": "stdout",
     "output_type": "stream",
     "text": [
      "<class 'pandas.core.frame.DataFrame'>\n",
      "RangeIndex: 21525 entries, 0 to 21524\n",
      "Data columns (total 12 columns):\n",
      " #   Column            Non-Null Count  Dtype  \n",
      "---  ------            --------------  -----  \n",
      " 0   children          21525 non-null  int64  \n",
      " 1   days_employed     19351 non-null  float64\n",
      " 2   dob_years         21525 non-null  int64  \n",
      " 3   education         21525 non-null  object \n",
      " 4   education_id      21525 non-null  int64  \n",
      " 5   family_status     21525 non-null  object \n",
      " 6   family_status_id  21525 non-null  int64  \n",
      " 7   gender            21525 non-null  object \n",
      " 8   income_type       21525 non-null  object \n",
      " 9   debt              21525 non-null  int64  \n",
      " 10  total_income      19351 non-null  float64\n",
      " 11  purpose           21525 non-null  object \n",
      "dtypes: float64(2), int64(5), object(5)\n",
      "memory usage: 2.0+ MB\n"
     ]
    }
   ],
   "source": [
    "data = pd.read_csv('data.csv')\n",
    "\n",
    "# общая информация о таблице\n",
    "data.info()"
   ]
  },
  {
   "cell_type": "markdown",
   "metadata": {},
   "source": [
    "Ознакомимся с данными (в конце в этой таблице более показательные)"
   ]
  },
  {
   "cell_type": "code",
   "execution_count": 4,
   "metadata": {},
   "outputs": [
    {
     "data": {
      "text/html": [
       "<div>\n",
       "<style scoped>\n",
       "    .dataframe tbody tr th:only-of-type {\n",
       "        vertical-align: middle;\n",
       "    }\n",
       "\n",
       "    .dataframe tbody tr th {\n",
       "        vertical-align: top;\n",
       "    }\n",
       "\n",
       "    .dataframe thead th {\n",
       "        text-align: right;\n",
       "    }\n",
       "</style>\n",
       "<table border=\"1\" class=\"dataframe\">\n",
       "  <thead>\n",
       "    <tr style=\"text-align: right;\">\n",
       "      <th></th>\n",
       "      <th>children</th>\n",
       "      <th>days_employed</th>\n",
       "      <th>dob_years</th>\n",
       "      <th>education</th>\n",
       "      <th>education_id</th>\n",
       "      <th>family_status</th>\n",
       "      <th>family_status_id</th>\n",
       "      <th>gender</th>\n",
       "      <th>income_type</th>\n",
       "      <th>debt</th>\n",
       "      <th>total_income</th>\n",
       "      <th>purpose</th>\n",
       "    </tr>\n",
       "  </thead>\n",
       "  <tbody>\n",
       "    <tr>\n",
       "      <th>21515</th>\n",
       "      <td>1</td>\n",
       "      <td>-467.685130</td>\n",
       "      <td>28</td>\n",
       "      <td>среднее</td>\n",
       "      <td>1</td>\n",
       "      <td>женат / замужем</td>\n",
       "      <td>0</td>\n",
       "      <td>F</td>\n",
       "      <td>сотрудник</td>\n",
       "      <td>1</td>\n",
       "      <td>109486.327999</td>\n",
       "      <td>заняться образованием</td>\n",
       "    </tr>\n",
       "    <tr>\n",
       "      <th>21516</th>\n",
       "      <td>0</td>\n",
       "      <td>-914.391429</td>\n",
       "      <td>42</td>\n",
       "      <td>высшее</td>\n",
       "      <td>0</td>\n",
       "      <td>женат / замужем</td>\n",
       "      <td>0</td>\n",
       "      <td>F</td>\n",
       "      <td>компаньон</td>\n",
       "      <td>0</td>\n",
       "      <td>322807.776603</td>\n",
       "      <td>покупка своего жилья</td>\n",
       "    </tr>\n",
       "    <tr>\n",
       "      <th>21517</th>\n",
       "      <td>0</td>\n",
       "      <td>-404.679034</td>\n",
       "      <td>42</td>\n",
       "      <td>высшее</td>\n",
       "      <td>0</td>\n",
       "      <td>гражданский брак</td>\n",
       "      <td>1</td>\n",
       "      <td>F</td>\n",
       "      <td>компаньон</td>\n",
       "      <td>0</td>\n",
       "      <td>178059.553491</td>\n",
       "      <td>на покупку своего автомобиля</td>\n",
       "    </tr>\n",
       "    <tr>\n",
       "      <th>21518</th>\n",
       "      <td>0</td>\n",
       "      <td>373995.710838</td>\n",
       "      <td>59</td>\n",
       "      <td>СРЕДНЕЕ</td>\n",
       "      <td>1</td>\n",
       "      <td>женат / замужем</td>\n",
       "      <td>0</td>\n",
       "      <td>F</td>\n",
       "      <td>пенсионер</td>\n",
       "      <td>0</td>\n",
       "      <td>153864.650328</td>\n",
       "      <td>сделка с автомобилем</td>\n",
       "    </tr>\n",
       "    <tr>\n",
       "      <th>21519</th>\n",
       "      <td>1</td>\n",
       "      <td>-2351.431934</td>\n",
       "      <td>37</td>\n",
       "      <td>ученая степень</td>\n",
       "      <td>4</td>\n",
       "      <td>в разводе</td>\n",
       "      <td>3</td>\n",
       "      <td>M</td>\n",
       "      <td>сотрудник</td>\n",
       "      <td>0</td>\n",
       "      <td>115949.039788</td>\n",
       "      <td>покупка коммерческой недвижимости</td>\n",
       "    </tr>\n",
       "    <tr>\n",
       "      <th>21520</th>\n",
       "      <td>1</td>\n",
       "      <td>-4529.316663</td>\n",
       "      <td>43</td>\n",
       "      <td>среднее</td>\n",
       "      <td>1</td>\n",
       "      <td>гражданский брак</td>\n",
       "      <td>1</td>\n",
       "      <td>F</td>\n",
       "      <td>компаньон</td>\n",
       "      <td>0</td>\n",
       "      <td>224791.862382</td>\n",
       "      <td>операции с жильем</td>\n",
       "    </tr>\n",
       "    <tr>\n",
       "      <th>21521</th>\n",
       "      <td>0</td>\n",
       "      <td>343937.404131</td>\n",
       "      <td>67</td>\n",
       "      <td>среднее</td>\n",
       "      <td>1</td>\n",
       "      <td>женат / замужем</td>\n",
       "      <td>0</td>\n",
       "      <td>F</td>\n",
       "      <td>пенсионер</td>\n",
       "      <td>0</td>\n",
       "      <td>155999.806512</td>\n",
       "      <td>сделка с автомобилем</td>\n",
       "    </tr>\n",
       "    <tr>\n",
       "      <th>21522</th>\n",
       "      <td>1</td>\n",
       "      <td>-2113.346888</td>\n",
       "      <td>38</td>\n",
       "      <td>среднее</td>\n",
       "      <td>1</td>\n",
       "      <td>гражданский брак</td>\n",
       "      <td>1</td>\n",
       "      <td>M</td>\n",
       "      <td>сотрудник</td>\n",
       "      <td>1</td>\n",
       "      <td>89672.561153</td>\n",
       "      <td>недвижимость</td>\n",
       "    </tr>\n",
       "    <tr>\n",
       "      <th>21523</th>\n",
       "      <td>3</td>\n",
       "      <td>-3112.481705</td>\n",
       "      <td>38</td>\n",
       "      <td>среднее</td>\n",
       "      <td>1</td>\n",
       "      <td>женат / замужем</td>\n",
       "      <td>0</td>\n",
       "      <td>M</td>\n",
       "      <td>сотрудник</td>\n",
       "      <td>1</td>\n",
       "      <td>244093.050500</td>\n",
       "      <td>на покупку своего автомобиля</td>\n",
       "    </tr>\n",
       "    <tr>\n",
       "      <th>21524</th>\n",
       "      <td>2</td>\n",
       "      <td>-1984.507589</td>\n",
       "      <td>40</td>\n",
       "      <td>среднее</td>\n",
       "      <td>1</td>\n",
       "      <td>женат / замужем</td>\n",
       "      <td>0</td>\n",
       "      <td>F</td>\n",
       "      <td>сотрудник</td>\n",
       "      <td>0</td>\n",
       "      <td>82047.418899</td>\n",
       "      <td>на покупку автомобиля</td>\n",
       "    </tr>\n",
       "  </tbody>\n",
       "</table>\n",
       "</div>"
      ],
      "text/plain": [
       "       children  days_employed  dob_years       education  education_id  \\\n",
       "21515         1    -467.685130         28         среднее             1   \n",
       "21516         0    -914.391429         42          высшее             0   \n",
       "21517         0    -404.679034         42          высшее             0   \n",
       "21518         0  373995.710838         59         СРЕДНЕЕ             1   \n",
       "21519         1   -2351.431934         37  ученая степень             4   \n",
       "21520         1   -4529.316663         43         среднее             1   \n",
       "21521         0  343937.404131         67         среднее             1   \n",
       "21522         1   -2113.346888         38         среднее             1   \n",
       "21523         3   -3112.481705         38         среднее             1   \n",
       "21524         2   -1984.507589         40         среднее             1   \n",
       "\n",
       "          family_status  family_status_id gender income_type  debt  \\\n",
       "21515   женат / замужем                 0      F   сотрудник     1   \n",
       "21516   женат / замужем                 0      F   компаньон     0   \n",
       "21517  гражданский брак                 1      F   компаньон     0   \n",
       "21518   женат / замужем                 0      F   пенсионер     0   \n",
       "21519         в разводе                 3      M   сотрудник     0   \n",
       "21520  гражданский брак                 1      F   компаньон     0   \n",
       "21521   женат / замужем                 0      F   пенсионер     0   \n",
       "21522  гражданский брак                 1      M   сотрудник     1   \n",
       "21523   женат / замужем                 0      M   сотрудник     1   \n",
       "21524   женат / замужем                 0      F   сотрудник     0   \n",
       "\n",
       "        total_income                            purpose  \n",
       "21515  109486.327999              заняться образованием  \n",
       "21516  322807.776603               покупка своего жилья  \n",
       "21517  178059.553491       на покупку своего автомобиля  \n",
       "21518  153864.650328               сделка с автомобилем  \n",
       "21519  115949.039788  покупка коммерческой недвижимости  \n",
       "21520  224791.862382                  операции с жильем  \n",
       "21521  155999.806512               сделка с автомобилем  \n",
       "21522   89672.561153                       недвижимость  \n",
       "21523  244093.050500       на покупку своего автомобиля  \n",
       "21524   82047.418899              на покупку автомобиля  "
      ]
     },
     "execution_count": 4,
     "metadata": {},
     "output_type": "execute_result"
    }
   ],
   "source": [
    "data.tail(10)"
   ]
  },
  {
   "cell_type": "markdown",
   "metadata": {},
   "source": [
    "**Вывод**\n",
    "\n",
    "При первом взгляде данные строго типизированны и имеют тип соответствующий содержимому. Не совсем понятны отрицательные значения в столбце 'days_employed' и очень большие положительные цифры у пенсионеров. В столбце 'education' данные в разном регистре.  "
   ]
  },
  {
   "cell_type": "markdown",
   "metadata": {},
   "source": [
    "## Шаг 2. Предобработка данных"
   ]
  },
  {
   "cell_type": "markdown",
   "metadata": {},
   "source": [
    "### Обработка пропусков"
   ]
  },
  {
   "cell_type": "code",
   "execution_count": 5,
   "metadata": {
    "scrolled": true
   },
   "outputs": [
    {
     "data": {
      "text/plain": [
       "children               0\n",
       "days_employed       2174\n",
       "dob_years              0\n",
       "education              0\n",
       "education_id           0\n",
       "family_status          0\n",
       "family_status_id       0\n",
       "gender                 0\n",
       "income_type            0\n",
       "debt                   0\n",
       "total_income        2174\n",
       "purpose                0\n",
       "dtype: int64"
      ]
     },
     "execution_count": 5,
     "metadata": {},
     "output_type": "execute_result"
    }
   ],
   "source": [
    "# колиество пропусков (NaN или None) в каждом столбце\n",
    "data.isna().sum()"
   ]
  },
  {
   "cell_type": "markdown",
   "metadata": {},
   "source": [
    "**Вывод**\n",
    "\n",
    "Как видим пропуски есть только в 2х колонках: 'days_employed' и 'total_income' и их одинаковое количество. Логично предположить, что пропуски в 'days_employed' на тех же строках что и в 'total_income'. Но всё же проверим это"
   ]
  },
  {
   "cell_type": "code",
   "execution_count": 6,
   "metadata": {
    "scrolled": true
   },
   "outputs": [
    {
     "name": "stdout",
     "output_type": "stream",
     "text": [
      "Количество строк с пропуском только в одном столбце: 0\n"
     ]
    }
   ],
   "source": [
    "# проверим что пропуски в 'days_employed' на тех же строках что и в 'total_income' \n",
    "locs_with_nan = data[data['days_employed'].isna()]\n",
    "print('Количество строк с пропуском только в одном столбце:', len(locs_with_nan[locs_with_nan['total_income'].notna()]))"
   ]
  },
  {
   "cell_type": "code",
   "execution_count": 7,
   "metadata": {},
   "outputs": [
    {
     "name": "stdout",
     "output_type": "stream",
     "text": [
      "10.10%\n"
     ]
    }
   ],
   "source": [
    "# также посчитаем процент пропусков от общего числа строк\n",
    "print(\"{:.2%}\".format(len(locs_with_nan) / len(data)))"
   ]
  },
  {
   "cell_type": "markdown",
   "metadata": {},
   "source": [
    "**Вывод**"
   ]
  },
  {
   "cell_type": "markdown",
   "metadata": {},
   "source": [
    "Предположение оказалось верным - каждому пропуску в 'days_employed' соответствует пропуск в total_income.\n",
    "Тип данных в обоих столбцах 'float'.\n",
    "\n",
    "Отсюда возможные причины появления пропусков:\n",
    "* человеческий фактор: при вводе данных был несоблюден формат ввода 'float' (например введен в ковычках или с запятой/точкой вместо точки/запятой в качестве разделителя целой и дробной части), то есть кто-то из сотрудников неверно осведомлен о формате ввода данных столбцов\n",
    "* программная: возможно, данные попадают в базу из разных модулей и эти строки приходили в БД из модуля, который имеет ошибку в формировании значений.\n",
    "\n",
    "Процент пропусков относительно большой - больше 10%, поэтому попробуем заполнить данные. Пропуски можно заполнить средними значениями по группам: income_type и purpose. Для более точных результатов заполнять будем уже после категоризации значений из столбца 'purpose'."
   ]
  },
  {
   "cell_type": "markdown",
   "metadata": {},
   "source": [
    "### Предобработка данных\n"
   ]
  },
  {
   "cell_type": "code",
   "execution_count": 8,
   "metadata": {
    "scrolled": true
   },
   "outputs": [
    {
     "data": {
      "text/plain": [
       "'CHILDREN'"
      ]
     },
     "metadata": {},
     "output_type": "display_data"
    },
    {
     "data": {
      "text/plain": [
       "[-1, 0, 1, 2, 3, 4, 5, 20]"
      ]
     },
     "metadata": {},
     "output_type": "display_data"
    },
    {
     "data": {
      "text/plain": [
       "'DAYS_EMPLOYED'"
      ]
     },
     "metadata": {},
     "output_type": "display_data"
    },
    {
     "data": {
      "text/plain": [
       "[-18388.949900568383,\n",
       " -17615.563265627912,\n",
       " -16593.472817263817,\n",
       " -15835.725774811905,\n",
       " -15785.678893355003]"
      ]
     },
     "metadata": {},
     "output_type": "display_data"
    },
    {
     "data": {
      "text/plain": [
       "[401663.8500458008,\n",
       " 401674.4666333656,\n",
       " 401675.093433862,\n",
       " 401715.8117488882,\n",
       " 401755.40047533]"
      ]
     },
     "metadata": {},
     "output_type": "display_data"
    },
    {
     "data": {
      "text/plain": [
       "'DOB_YEARS'"
      ]
     },
     "metadata": {},
     "output_type": "display_data"
    },
    {
     "data": {
      "text/plain": [
       "[0, 19, 20, 21, 22]"
      ]
     },
     "metadata": {},
     "output_type": "display_data"
    },
    {
     "data": {
      "text/plain": [
       "[71, 72, 73, 74, 75]"
      ]
     },
     "metadata": {},
     "output_type": "display_data"
    },
    {
     "data": {
      "text/plain": [
       "'EDUCATION'"
      ]
     },
     "metadata": {},
     "output_type": "display_data"
    },
    {
     "data": {
      "text/plain": [
       "['ВЫСШЕЕ', 'Высшее', 'НАЧАЛЬНОЕ', 'НЕОКОНЧЕННОЕ ВЫСШЕЕ', 'Начальное']"
      ]
     },
     "metadata": {},
     "output_type": "display_data"
    },
    {
     "data": {
      "text/plain": [
       "['высшее', 'начальное', 'неоконченное высшее', 'среднее', 'ученая степень']"
      ]
     },
     "metadata": {},
     "output_type": "display_data"
    },
    {
     "data": {
      "text/plain": [
       "'EDUCATION_ID'"
      ]
     },
     "metadata": {},
     "output_type": "display_data"
    },
    {
     "data": {
      "text/plain": [
       "[0, 1, 2, 3, 4]"
      ]
     },
     "metadata": {},
     "output_type": "display_data"
    },
    {
     "data": {
      "text/plain": [
       "'FAMILY_STATUS'"
      ]
     },
     "metadata": {},
     "output_type": "display_data"
    },
    {
     "data": {
      "text/plain": [
       "['Не женат / не замужем',\n",
       " 'в разводе',\n",
       " 'вдовец / вдова',\n",
       " 'гражданский брак',\n",
       " 'женат / замужем']"
      ]
     },
     "metadata": {},
     "output_type": "display_data"
    },
    {
     "data": {
      "text/plain": [
       "'FAMILY_STATUS_ID'"
      ]
     },
     "metadata": {},
     "output_type": "display_data"
    },
    {
     "data": {
      "text/plain": [
       "[0, 1, 2, 3, 4]"
      ]
     },
     "metadata": {},
     "output_type": "display_data"
    },
    {
     "data": {
      "text/plain": [
       "'GENDER'"
      ]
     },
     "metadata": {},
     "output_type": "display_data"
    },
    {
     "data": {
      "text/plain": [
       "['F', 'M', 'XNA']"
      ]
     },
     "metadata": {},
     "output_type": "display_data"
    },
    {
     "data": {
      "text/plain": [
       "'INCOME_TYPE'"
      ]
     },
     "metadata": {},
     "output_type": "display_data"
    },
    {
     "data": {
      "text/plain": [
       "['безработный',\n",
       " 'в декрете',\n",
       " 'госслужащий',\n",
       " 'компаньон',\n",
       " 'пенсионер',\n",
       " 'предприниматель',\n",
       " 'сотрудник',\n",
       " 'студент']"
      ]
     },
     "metadata": {},
     "output_type": "display_data"
    },
    {
     "data": {
      "text/plain": [
       "'DEBT'"
      ]
     },
     "metadata": {},
     "output_type": "display_data"
    },
    {
     "data": {
      "text/plain": [
       "[0, 1]"
      ]
     },
     "metadata": {},
     "output_type": "display_data"
    },
    {
     "data": {
      "text/plain": [
       "'TOTAL_INCOME'"
      ]
     },
     "metadata": {},
     "output_type": "display_data"
    },
    {
     "data": {
      "text/plain": [
       "[20667.26379327158,\n",
       " 24457.666662383825,\n",
       " 29154.025210694654,\n",
       " 29426.692554024463,\n",
       " 29749.813177053536]"
      ]
     },
     "metadata": {},
     "output_type": "display_data"
    },
    {
     "data": {
      "text/plain": [
       "[1711309.267674351,\n",
       " 1715018.3928324457,\n",
       " 1726276.0143316735,\n",
       " 2200852.210258896,\n",
       " 2265604.028722744]"
      ]
     },
     "metadata": {},
     "output_type": "display_data"
    },
    {
     "data": {
      "text/plain": [
       "'PURPOSE'"
      ]
     },
     "metadata": {},
     "output_type": "display_data"
    },
    {
     "data": {
      "text/plain": [
       "['автомобили',\n",
       " 'автомобиль',\n",
       " 'высшее образование',\n",
       " 'дополнительное образование',\n",
       " 'жилье']"
      ]
     },
     "metadata": {},
     "output_type": "display_data"
    },
    {
     "data": {
      "text/plain": [
       "['сделка с подержанным автомобилем',\n",
       " 'строительство жилой недвижимости',\n",
       " 'строительство недвижимости',\n",
       " 'строительство собственной недвижимости',\n",
       " 'сыграть свадьбу']"
      ]
     },
     "metadata": {},
     "output_type": "display_data"
    }
   ],
   "source": [
    "# выведем уникальные значения по всем столбцам - посмотрим есть ли какие-то аномалии\n",
    "for col in data.columns:    \n",
    "    values = sorted(data[col].unique())\n",
    "    # если больше 10 значений, выведем только первые и последние 5\n",
    "    if len(values) > 10:\n",
    "        display(col.upper(), values[:5], values[-5:])\n",
    "    else: display(col.upper(), values)\n",
    "        "
   ]
  },
  {
   "cell_type": "code",
   "execution_count": 9,
   "metadata": {},
   "outputs": [
    {
     "name": "stdout",
     "output_type": "stream",
     "text": [
      "Максимальный стаж:     1101 лет\n"
     ]
    }
   ],
   "source": [
    "# подозрительно большие максимальные значения в 'days_employed', проверим:\n",
    "print('Максимальный стаж: {:8.0f} лет'.format(data['days_employed'].max() / 365))"
   ]
  },
  {
   "cell_type": "markdown",
   "metadata": {},
   "source": [
    "**Вывод**\n",
    "\n",
    "Выявлены следующие аномалии:\n",
    "* в столбце 'days_employed' вещественный тип, а должен быть целочисленный\n",
    "* в столбце 'children' есть отрицательное значение\n",
    "* в столбце 'days_employed' странно записаны данные: часть из них отрицательные, часть положительные\n",
    "* также в столбце 'days_employed' положительные значения слишком велики (похоже записаны в часах)\n",
    "* в столбце 'education' значения записаны в разном регистре\n",
    "* в столбце 'purpose' есть похожие записи, написанные в разных падежах. Нужно произвести лемматизацию для лучшего выделения групп\n",
    "\n"
   ]
  },
  {
   "cell_type": "code",
   "execution_count": 10,
   "metadata": {
    "scrolled": true
   },
   "outputs": [
    {
     "data": {
      "text/plain": [
       "array([ 1,  0,  3,  2,  4, 20,  5], dtype=int64)"
      ]
     },
     "metadata": {},
     "output_type": "display_data"
    },
    {
     "data": {
      "text/plain": [
       "array(['высшее', 'среднее', 'неоконченное высшее', 'начальное',\n",
       "       'ученая степень'], dtype=object)"
      ]
     },
     "metadata": {},
     "output_type": "display_data"
    },
    {
     "name": "stdout",
     "output_type": "stream",
     "text": [
      "Минимальный стаж:       24 дней\n",
      "Максимальный стаж:       50 лет\n"
     ]
    }
   ],
   "source": [
    "# поделим положительный стаж на 24 (как выраженный в часах)\n",
    "data.loc[data['days_employed'] > 0, 'days_employed' ] = data['days_employed'] / 24\n",
    "\n",
    "# заменим отрицательные на положительные\n",
    "data['children'] = abs(data['children'])\n",
    "data['days_employed'] = abs(data['days_employed'])\n",
    "\n",
    "# заменим регистр в 'education'\n",
    "data['education'] = data['education'].str.lower()\n",
    "\n",
    "display(data['children'].unique())\n",
    "display(data['education'].unique())\n",
    "print('Минимальный стаж: {:8.0f} дней'.format(data['days_employed'].min()))\n",
    "print('Максимальный стаж: {:8.0f} лет'.format(data['days_employed'].max() / 365))"
   ]
  },
  {
   "cell_type": "markdown",
   "metadata": {},
   "source": [
    "**Вывод**\n",
    "\n",
    "Отрицательные значения заменены, регистр выровнен, стаж нормализован."
   ]
  },
  {
   "cell_type": "markdown",
   "metadata": {},
   "source": [
    "### Обработка дубликатов"
   ]
  },
  {
   "cell_type": "code",
   "execution_count": 11,
   "metadata": {},
   "outputs": [
    {
     "name": "stdout",
     "output_type": "stream",
     "text": [
      "Явных дубликатов: 71\n"
     ]
    }
   ],
   "source": [
    "print(\"Явных дубликатов:\", data.duplicated().sum())"
   ]
  },
  {
   "cell_type": "code",
   "execution_count": 12,
   "metadata": {},
   "outputs": [
    {
     "name": "stdout",
     "output_type": "stream",
     "text": [
      "Теперь явных дубликатов: 0\n"
     ]
    }
   ],
   "source": [
    "# удалим явные дубликаты \n",
    "data = data.drop_duplicates().reset_index(drop=True)\n",
    "print(\"Теперь явных дубликатов:\", data.duplicated().sum())"
   ]
  },
  {
   "cell_type": "markdown",
   "metadata": {},
   "source": [
    "**Оставим только нужные колонки**"
   ]
  },
  {
   "cell_type": "code",
   "execution_count": 13,
   "metadata": {},
   "outputs": [
    {
     "data": {
      "text/plain": [
       "family_status_id  family_status        \n",
       "0                 женат / замужем          11143\n",
       "1                 гражданский брак          3735\n",
       "2                 вдовец / вдова             865\n",
       "3                 в разводе                 1083\n",
       "4                 Не женат / не замужем     2525\n",
       "Name: total_income, dtype: int64"
      ]
     },
     "execution_count": 13,
     "metadata": {},
     "output_type": "execute_result"
    }
   ],
   "source": [
    "data.groupby(['family_status_id', 'family_status'])['total_income'].count()"
   ]
  },
  {
   "cell_type": "markdown",
   "metadata": {},
   "source": [
    "Как видно кол-во уникальных 'family_status_id' соответствует уникальным 'family_status', значит для нашей задачи можем 'family_status_id' не использовать"
   ]
  },
  {
   "cell_type": "code",
   "execution_count": 14,
   "metadata": {},
   "outputs": [
    {
     "data": {
      "text/html": [
       "<div>\n",
       "<style scoped>\n",
       "    .dataframe tbody tr th:only-of-type {\n",
       "        vertical-align: middle;\n",
       "    }\n",
       "\n",
       "    .dataframe tbody tr th {\n",
       "        vertical-align: top;\n",
       "    }\n",
       "\n",
       "    .dataframe thead th {\n",
       "        text-align: right;\n",
       "    }\n",
       "</style>\n",
       "<table border=\"1\" class=\"dataframe\">\n",
       "  <thead>\n",
       "    <tr style=\"text-align: right;\">\n",
       "      <th></th>\n",
       "      <th>children</th>\n",
       "      <th>dob_years</th>\n",
       "      <th>family_status</th>\n",
       "      <th>income_type</th>\n",
       "      <th>debt</th>\n",
       "      <th>total_income</th>\n",
       "      <th>purpose</th>\n",
       "    </tr>\n",
       "  </thead>\n",
       "  <tbody>\n",
       "    <tr>\n",
       "      <th>0</th>\n",
       "      <td>1</td>\n",
       "      <td>42</td>\n",
       "      <td>женат / замужем</td>\n",
       "      <td>сотрудник</td>\n",
       "      <td>0</td>\n",
       "      <td>253875.639453</td>\n",
       "      <td>покупка жилья</td>\n",
       "    </tr>\n",
       "    <tr>\n",
       "      <th>1</th>\n",
       "      <td>1</td>\n",
       "      <td>36</td>\n",
       "      <td>женат / замужем</td>\n",
       "      <td>сотрудник</td>\n",
       "      <td>0</td>\n",
       "      <td>112080.014102</td>\n",
       "      <td>приобретение автомобиля</td>\n",
       "    </tr>\n",
       "    <tr>\n",
       "      <th>2</th>\n",
       "      <td>0</td>\n",
       "      <td>33</td>\n",
       "      <td>женат / замужем</td>\n",
       "      <td>сотрудник</td>\n",
       "      <td>0</td>\n",
       "      <td>145885.952297</td>\n",
       "      <td>покупка жилья</td>\n",
       "    </tr>\n",
       "    <tr>\n",
       "      <th>3</th>\n",
       "      <td>3</td>\n",
       "      <td>32</td>\n",
       "      <td>женат / замужем</td>\n",
       "      <td>сотрудник</td>\n",
       "      <td>0</td>\n",
       "      <td>267628.550329</td>\n",
       "      <td>дополнительное образование</td>\n",
       "    </tr>\n",
       "    <tr>\n",
       "      <th>4</th>\n",
       "      <td>0</td>\n",
       "      <td>53</td>\n",
       "      <td>гражданский брак</td>\n",
       "      <td>пенсионер</td>\n",
       "      <td>0</td>\n",
       "      <td>158616.077870</td>\n",
       "      <td>сыграть свадьбу</td>\n",
       "    </tr>\n",
       "  </tbody>\n",
       "</table>\n",
       "</div>"
      ],
      "text/plain": [
       "   children  dob_years     family_status income_type  debt   total_income  \\\n",
       "0         1         42   женат / замужем   сотрудник     0  253875.639453   \n",
       "1         1         36   женат / замужем   сотрудник     0  112080.014102   \n",
       "2         0         33   женат / замужем   сотрудник     0  145885.952297   \n",
       "3         3         32   женат / замужем   сотрудник     0  267628.550329   \n",
       "4         0         53  гражданский брак   пенсионер     0  158616.077870   \n",
       "\n",
       "                      purpose  \n",
       "0               покупка жилья  \n",
       "1     приобретение автомобиля  \n",
       "2               покупка жилья  \n",
       "3  дополнительное образование  \n",
       "4             сыграть свадьбу  "
      ]
     },
     "execution_count": 14,
     "metadata": {},
     "output_type": "execute_result"
    }
   ],
   "source": [
    "# теперь оставим только нужные колонки\n",
    "data = data[['children', 'dob_years', 'family_status', 'income_type', 'debt', 'total_income', 'purpose']]\n",
    "data.head()"
   ]
  },
  {
   "cell_type": "code",
   "execution_count": 15,
   "metadata": {},
   "outputs": [
    {
     "data": {
      "text/html": [
       "<div>\n",
       "<style scoped>\n",
       "    .dataframe tbody tr th:only-of-type {\n",
       "        vertical-align: middle;\n",
       "    }\n",
       "\n",
       "    .dataframe tbody tr th {\n",
       "        vertical-align: top;\n",
       "    }\n",
       "\n",
       "    .dataframe thead th {\n",
       "        text-align: right;\n",
       "    }\n",
       "</style>\n",
       "<table border=\"1\" class=\"dataframe\">\n",
       "  <thead>\n",
       "    <tr style=\"text-align: right;\">\n",
       "      <th></th>\n",
       "      <th>children</th>\n",
       "      <th>dob_years</th>\n",
       "      <th>family_status</th>\n",
       "      <th>income_type</th>\n",
       "      <th>debt</th>\n",
       "      <th>total_income</th>\n",
       "      <th>purpose</th>\n",
       "    </tr>\n",
       "  </thead>\n",
       "  <tbody>\n",
       "    <tr>\n",
       "      <th>0</th>\n",
       "      <td>1</td>\n",
       "      <td>42</td>\n",
       "      <td>женат / замужем</td>\n",
       "      <td>сотрудник</td>\n",
       "      <td>0</td>\n",
       "      <td>253875.639453</td>\n",
       "      <td>покупка жилья</td>\n",
       "    </tr>\n",
       "    <tr>\n",
       "      <th>1</th>\n",
       "      <td>1</td>\n",
       "      <td>36</td>\n",
       "      <td>женат / замужем</td>\n",
       "      <td>сотрудник</td>\n",
       "      <td>0</td>\n",
       "      <td>112080.014102</td>\n",
       "      <td>приобретение автомобиля</td>\n",
       "    </tr>\n",
       "    <tr>\n",
       "      <th>2</th>\n",
       "      <td>0</td>\n",
       "      <td>33</td>\n",
       "      <td>женат / замужем</td>\n",
       "      <td>сотрудник</td>\n",
       "      <td>0</td>\n",
       "      <td>145885.952297</td>\n",
       "      <td>покупка жилья</td>\n",
       "    </tr>\n",
       "    <tr>\n",
       "      <th>3</th>\n",
       "      <td>3</td>\n",
       "      <td>32</td>\n",
       "      <td>женат / замужем</td>\n",
       "      <td>сотрудник</td>\n",
       "      <td>0</td>\n",
       "      <td>267628.550329</td>\n",
       "      <td>дополнительное образование</td>\n",
       "    </tr>\n",
       "    <tr>\n",
       "      <th>4</th>\n",
       "      <td>0</td>\n",
       "      <td>53</td>\n",
       "      <td>гражданский брак</td>\n",
       "      <td>пенсионер</td>\n",
       "      <td>0</td>\n",
       "      <td>158616.077870</td>\n",
       "      <td>сыграть свадьбу</td>\n",
       "    </tr>\n",
       "    <tr>\n",
       "      <th>...</th>\n",
       "      <td>...</td>\n",
       "      <td>...</td>\n",
       "      <td>...</td>\n",
       "      <td>...</td>\n",
       "      <td>...</td>\n",
       "      <td>...</td>\n",
       "      <td>...</td>\n",
       "    </tr>\n",
       "    <tr>\n",
       "      <th>21449</th>\n",
       "      <td>1</td>\n",
       "      <td>43</td>\n",
       "      <td>гражданский брак</td>\n",
       "      <td>компаньон</td>\n",
       "      <td>0</td>\n",
       "      <td>224791.862382</td>\n",
       "      <td>операции с жильем</td>\n",
       "    </tr>\n",
       "    <tr>\n",
       "      <th>21450</th>\n",
       "      <td>0</td>\n",
       "      <td>67</td>\n",
       "      <td>женат / замужем</td>\n",
       "      <td>пенсионер</td>\n",
       "      <td>0</td>\n",
       "      <td>155999.806512</td>\n",
       "      <td>сделка с автомобилем</td>\n",
       "    </tr>\n",
       "    <tr>\n",
       "      <th>21451</th>\n",
       "      <td>1</td>\n",
       "      <td>38</td>\n",
       "      <td>гражданский брак</td>\n",
       "      <td>сотрудник</td>\n",
       "      <td>1</td>\n",
       "      <td>89672.561153</td>\n",
       "      <td>недвижимость</td>\n",
       "    </tr>\n",
       "    <tr>\n",
       "      <th>21452</th>\n",
       "      <td>3</td>\n",
       "      <td>38</td>\n",
       "      <td>женат / замужем</td>\n",
       "      <td>сотрудник</td>\n",
       "      <td>1</td>\n",
       "      <td>244093.050500</td>\n",
       "      <td>на покупку своего автомобиля</td>\n",
       "    </tr>\n",
       "    <tr>\n",
       "      <th>21453</th>\n",
       "      <td>2</td>\n",
       "      <td>40</td>\n",
       "      <td>женат / замужем</td>\n",
       "      <td>сотрудник</td>\n",
       "      <td>0</td>\n",
       "      <td>82047.418899</td>\n",
       "      <td>на покупку автомобиля</td>\n",
       "    </tr>\n",
       "  </tbody>\n",
       "</table>\n",
       "<p>21454 rows × 7 columns</p>\n",
       "</div>"
      ],
      "text/plain": [
       "       children  dob_years     family_status income_type  debt   total_income  \\\n",
       "0             1         42   женат / замужем   сотрудник     0  253875.639453   \n",
       "1             1         36   женат / замужем   сотрудник     0  112080.014102   \n",
       "2             0         33   женат / замужем   сотрудник     0  145885.952297   \n",
       "3             3         32   женат / замужем   сотрудник     0  267628.550329   \n",
       "4             0         53  гражданский брак   пенсионер     0  158616.077870   \n",
       "...         ...        ...               ...         ...   ...            ...   \n",
       "21449         1         43  гражданский брак   компаньон     0  224791.862382   \n",
       "21450         0         67   женат / замужем   пенсионер     0  155999.806512   \n",
       "21451         1         38  гражданский брак   сотрудник     1   89672.561153   \n",
       "21452         3         38   женат / замужем   сотрудник     1  244093.050500   \n",
       "21453         2         40   женат / замужем   сотрудник     0   82047.418899   \n",
       "\n",
       "                            purpose  \n",
       "0                     покупка жилья  \n",
       "1           приобретение автомобиля  \n",
       "2                     покупка жилья  \n",
       "3        дополнительное образование  \n",
       "4                   сыграть свадьбу  \n",
       "...                             ...  \n",
       "21449             операции с жильем  \n",
       "21450          сделка с автомобилем  \n",
       "21451                  недвижимость  \n",
       "21452  на покупку своего автомобиля  \n",
       "21453         на покупку автомобиля  \n",
       "\n",
       "[21454 rows x 7 columns]"
      ]
     },
     "execution_count": 15,
     "metadata": {},
     "output_type": "execute_result"
    }
   ],
   "source": [
    "data\n",
    "m = Mystem()\n",
    "\n",
    "data"
   ]
  },
  {
   "cell_type": "markdown",
   "metadata": {},
   "source": [
    "**Вывод**"
   ]
  },
  {
   "cell_type": "markdown",
   "metadata": {},
   "source": [
    "Дубликаты удалили. Хоть у нас и нет точного идентификатора клиента, но по совокупности данных из всех колонок слишком вероятно, что одинаковые строки являются именно дубликатами."
   ]
  },
  {
   "cell_type": "markdown",
   "metadata": {},
   "source": [
    "### Лемматизация"
   ]
  },
  {
   "cell_type": "code",
   "execution_count": null,
   "metadata": {},
   "outputs": [],
   "source": [
    "# проведем лемматизацию колонки 'purpose'\n",
    "m = Mystem() \n",
    "\n",
    "def get_lemmated_text(text):\n",
    "    try:\n",
    "        return ''.join(m.lemmatize(text)[:-1]) # [:-1] - это чтобы не брать '\\n' в конце\n",
    "    except: return ''\n",
    "\n",
    "data['purpose'] = data['purpose'].apply(get_lemmated_text)\n",
    "data['purpose'].head()"
   ]
  },
  {
   "cell_type": "markdown",
   "metadata": {},
   "source": [
    "Готово, теперь можно произвести категоризацию."
   ]
  },
  {
   "cell_type": "markdown",
   "metadata": {},
   "source": [
    "### Категоризация данных"
   ]
  },
  {
   "cell_type": "markdown",
   "metadata": {},
   "source": [
    "Для категоризации по доходу напишем метод. Числа категорий были выбраны подбором по примерно сопоставимому кол-ву клиентов в каждой группе и удобству восприятия круглых чисел. Применим метод позже, когда заполним пропущенные значения в 'total_income'."
   ]
  },
  {
   "cell_type": "code",
   "execution_count": null,
   "metadata": {
    "scrolled": true
   },
   "outputs": [],
   "source": [
    "# метод для категоризации по доходу\n",
    "def total_income_group(income_val):    \n",
    "    if income_val < 100000:\n",
    "        return 'до 100000'\n",
    "    if income_val < 150000:\n",
    "        return 'от 100000 до 150000'\n",
    "    if income_val < 200000:\n",
    "        return 'от 150000 до 200000'\n",
    "    if income_val < 300000:\n",
    "        return 'от 200000 до 300000'\n",
    "    else: return 'от 300000'    "
   ]
  },
  {
   "cell_type": "markdown",
   "metadata": {},
   "source": [
    "Каталогизируем по столбцу 'purpose'. Для начала посмотрим какие категории там есть:"
   ]
  },
  {
   "cell_type": "code",
   "execution_count": null,
   "metadata": {},
   "outputs": [],
   "source": [
    "data['purpose'].unique()"
   ]
  },
  {
   "cell_type": "markdown",
   "metadata": {},
   "source": [
    "**Вывод**\n",
    "\n",
    "Прочитав все названия можно заметно выделить несколько категорий: жилье/недвижимость, автомобиль, свадьба, образование."
   ]
  },
  {
   "cell_type": "markdown",
   "metadata": {},
   "source": [
    "Теперь напишем метод и выделим эти категории"
   ]
  },
  {
   "cell_type": "code",
   "execution_count": null,
   "metadata": {},
   "outputs": [],
   "source": [
    "# метод для выделения категорий в столбце 'purpose'\n",
    "def set_purpose_category(purpose):\n",
    "    if 'жилье' in purpose or 'недвижимость' in purpose:\n",
    "        return 'жилье/недвижимость'\n",
    "    if 'автомобиль' in purpose:\n",
    "        return 'автомобиль'\n",
    "    if 'свадьба' in purpose:\n",
    "        return 'свадьба'\n",
    "    if 'образование' in purpose:\n",
    "            return 'образование'\n",
    "    else: return 'другое'\n",
    "    \n",
    "    \n",
    "data['purpose'] = data['purpose'].apply(set_purpose_category)\n",
    "data['purpose'].value_counts()      "
   ]
  },
  {
   "cell_type": "markdown",
   "metadata": {},
   "source": [
    "Теперь, имея категории, можем лучше заполнить пропуски в столбце 'total_income'.\n",
    "Заполним медианой по группам 'purpose' в группах 'income_type'. Если останутся незаполненные заполним медианой только из группы 'income_type'."
   ]
  },
  {
   "cell_type": "code",
   "execution_count": null,
   "metadata": {},
   "outputs": [],
   "source": [
    "data['total_income'] = data['total_income'].fillna(data.groupby(['income_type', 'purpose'])['total_income'].transform('median'))\n",
    "data['total_income'] = data['total_income'].fillna(data.groupby('income_type')['total_income'].transform('median'))\n",
    "\n",
    "data[data['total_income'].isna()]"
   ]
  },
  {
   "cell_type": "markdown",
   "metadata": {},
   "source": [
    "## Шаг 3. Ответим на вопросы"
   ]
  },
  {
   "cell_type": "markdown",
   "metadata": {},
   "source": [
    "- Есть ли зависимость между наличием детей и возвратом кредита в срок?"
   ]
  },
  {
   "cell_type": "code",
   "execution_count": null,
   "metadata": {},
   "outputs": [],
   "source": [
    "# тут вспомогательные методы\n",
    "\n",
    "# метод возвращает DataFrame в котором по указанному полю выводится\n",
    "# отношение клиентов с задолжностью/к клиентам без задолности по кредиту  \n",
    "def get_debt_ratio_df(groupby_field):\n",
    "    debt0 = data[data['debt'] == 0].groupby(groupby_field)['debt'].count()\n",
    "    debt1 = data[data['debt'] == 1].groupby(groupby_field)['debt'].count()\n",
    "\n",
    "    result_table = (debt1 / debt0).sort_values()\n",
    "\n",
    "    df = pd.DataFrame(result_table)\n",
    "    df.rename(columns = {'debt' : 'ratio_debt0_to_debt1'}, inplace=True)  \n",
    "    return df\n",
    "\n",
    "\n",
    "# метод для отображения максимального расхождения между минимальным и максимальным значениями\n",
    "def show_max_difference(selection):\n",
    "    result = 100 - (100 * (selection.min() / selection.max()))\n",
    "    display('Максимальное расхождение между минимумом и максимумом: {:8.3}%'.format(result))\n",
    "    return result"
   ]
  },
  {
   "cell_type": "code",
   "execution_count": null,
   "metadata": {},
   "outputs": [],
   "source": [
    "display('Количество клиентов с данным ко-вом детей', data.groupby('children')['debt'].value_counts())\n",
    "result_table = get_debt_ratio_df('children')\n",
    "display(result_table)\n",
    "selection = result_table['ratio_debt0_to_debt1']\n",
    "child_diff = show_max_difference(selection)"
   ]
  },
  {
   "cell_type": "markdown",
   "metadata": {},
   "source": [
    "**Вывод**\n",
    "\n",
    "Наблюдается следующая зависимость: самые невозвращающие клиенты те у кого 20 детей(возможно тут цифрой 20 выделены все, у кого больше 5 детей), самые возвращающие те у кого нет детей или 3 ребенка. Для тех, у кого 5 детей данных для статистики еще недостаточно."
   ]
  },
  {
   "cell_type": "markdown",
   "metadata": {},
   "source": [
    "- Есть ли зависимость между семейным положением и возвратом кредита в срок?"
   ]
  },
  {
   "cell_type": "code",
   "execution_count": null,
   "metadata": {},
   "outputs": [],
   "source": [
    "display('Количество клиентов с данным семейным положением', pd.DataFrame(data.groupby('family_status')['debt'].value_counts()))\n",
    "\n",
    "display(get_debt_ratio_df('family_status'))\n",
    "\n",
    "selection = get_debt_ratio_df('family_status')['ratio_debt0_to_debt1']\n",
    "family_diff = show_max_difference(selection)"
   ]
  },
  {
   "cell_type": "markdown",
   "metadata": {},
   "source": [
    "**Вывод**"
   ]
  },
  {
   "cell_type": "markdown",
   "metadata": {},
   "source": [
    "Интересная зависимость: самые необязательные клиенты те, кто никогда не был женат/замужем либо живут в гражданском браке. Самые же обязательные, те кто успел пожить в браке, но овдовел либо развелся."
   ]
  },
  {
   "cell_type": "markdown",
   "metadata": {},
   "source": [
    "- Есть ли зависимость между уровнем дохода и возвратом кредита в срок?"
   ]
  },
  {
   "cell_type": "code",
   "execution_count": null,
   "metadata": {},
   "outputs": [],
   "source": [
    "# применим категоризацию по доходу\n",
    "data['total_income_groups'] = data['total_income'].apply(total_income_group)\n",
    "# выводим, чтобы сразу видеть количество\n",
    "display('Количество клиентов с данным уровнем дохода', data.groupby('total_income_groups')['debt'].count())\n",
    "\n",
    "display(get_debt_ratio_df('total_income_groups'))\n",
    "\n",
    "selection = get_debt_ratio_df('total_income_groups')['ratio_debt0_to_debt1']\n",
    "income_diff = show_max_difference(selection)"
   ]
  },
  {
   "cell_type": "markdown",
   "metadata": {},
   "source": [
    "**Вывод**\n",
    "\n",
    "Зависимость выходит такой: меньше всего задолжностей у клиентов с доходом от 200 000 р., далее по надежности идут клиенты с доходом до 100 000 р. А вот менее всего возвращают с доходом от 100 000 р. до 200 000 р."
   ]
  },
  {
   "cell_type": "markdown",
   "metadata": {},
   "source": [
    "- Как разные цели кредита влияют на его возврат в срок?"
   ]
  },
  {
   "cell_type": "code",
   "execution_count": null,
   "metadata": {
    "scrolled": true
   },
   "outputs": [],
   "source": [
    "# проверим количество в каждой категории\n",
    "display('Количество клиентов с данной целевой категорией', data.groupby('purpose')['debt'].count().sort_values())\n",
    "\n",
    "# выведем итоговую таблицу\n",
    "display(get_debt_ratio_df('purpose'))\n",
    "selection = get_debt_ratio_df('purpose')['ratio_debt0_to_debt1']\n",
    "purpose_diff = show_max_difference(selection)"
   ]
  },
  {
   "cell_type": "markdown",
   "metadata": {},
   "source": [
    "**Вывод**\n",
    "\n",
    "Интересно, что те кто берут деньги на жилье/недвижимость и на свадьбу охотнее возвращают деньги, чем те кто берет их на образование и автомобили."
   ]
  },
  {
   "cell_type": "code",
   "execution_count": null,
   "metadata": {},
   "outputs": [],
   "source": [
    "# суммарно выведем расхождения между мин и макс по каждой гипотезе\n",
    "print('Семейное положение:', family_diff)\n",
    "print('Кол-во детей в семье:', child_diff)\n",
    "print('Цель получения кредита:', purpose_diff)\n",
    "print('Ежемесячный доход:', income_diff)"
   ]
  },
  {
   "cell_type": "markdown",
   "metadata": {},
   "source": [
    "## Шаг 4. Общий вывод"
   ]
  },
  {
   "cell_type": "markdown",
   "metadata": {},
   "source": [
    "Мы проверили четыре гипотезы и установили что присутствует влияние по каждой из них в таком порядке (по убыванию):\n",
    "* Семейное положение наиболее влияет на возврат долгов (до **35%** разницы между разными группами )\n",
    "* Чуть меньше влияет количество детей в семье (до **30%** разницы между разными группами )\n",
    "* Еще чуть меньше важна цель получени кредита (до **24%** разницы между разными группами )\n",
    "* И, как ни странно, на последнем месте оказался ежемесячный доход. Этот показатель на последнем месте, но все также значительно видна зависимость и от него. (до **20%** разницы между разными группами )\n",
    "\n",
    "Из данных выводов можно предположить, что наиболее удобный клиент такой: \n",
    "человек без детей, овдовевший либо разведенный, получающий от 200000 т.р., покупающий жиль/недвижимость\n",
    "А вот тот с кем лучше дела не иметь в плане выдачи кредита:\n",
    "многодетный человек, ни разу не состоящий в браке, с доходом между 100000 и 200000 т.р., \n",
    "собирающийся купить автомобиль или получить образование.\n",
    "\n",
    "\n",
    "\n",
    "\n",
    "\n",
    "\n",
    "\n"
   ]
  }
 ],
 "metadata": {
  "ExecuteTimeLog": [
   {
    "duration": 677,
    "start_time": "2021-11-22T11:00:31.248Z"
   },
   {
    "duration": 50,
    "start_time": "2021-11-22T11:00:36.624Z"
   },
   {
    "duration": 50,
    "start_time": "2021-11-22T11:00:38.968Z"
   },
   {
    "duration": 60,
    "start_time": "2021-11-22T11:01:11.698Z"
   },
   {
    "duration": 78,
    "start_time": "2021-11-22T11:32:02.817Z"
   },
   {
    "duration": 74,
    "start_time": "2021-11-22T11:32:22.589Z"
   },
   {
    "duration": 71,
    "start_time": "2021-11-22T11:32:38.008Z"
   },
   {
    "duration": 85,
    "start_time": "2021-11-22T11:33:06.439Z"
   },
   {
    "duration": 68,
    "start_time": "2021-11-22T11:33:10.027Z"
   },
   {
    "duration": 114,
    "start_time": "2021-11-22T11:33:55.407Z"
   },
   {
    "duration": 67,
    "start_time": "2021-11-22T11:34:04.889Z"
   },
   {
    "duration": 69,
    "start_time": "2021-11-22T11:34:21.568Z"
   },
   {
    "duration": 73,
    "start_time": "2021-11-22T11:45:43.321Z"
   },
   {
    "duration": 69,
    "start_time": "2021-11-22T11:52:15.929Z"
   },
   {
    "duration": 69,
    "start_time": "2021-11-22T11:53:37.869Z"
   },
   {
    "duration": 10,
    "start_time": "2021-11-22T11:59:09.349Z"
   },
   {
    "duration": 9,
    "start_time": "2021-11-22T11:59:31.209Z"
   },
   {
    "duration": 20,
    "start_time": "2021-11-22T11:59:41.579Z"
   },
   {
    "duration": 11,
    "start_time": "2021-11-22T11:59:50.081Z"
   },
   {
    "duration": 10,
    "start_time": "2021-11-22T11:59:57.000Z"
   },
   {
    "duration": 33,
    "start_time": "2021-11-22T12:02:11.519Z"
   },
   {
    "duration": 48,
    "start_time": "2021-11-22T12:02:17.787Z"
   },
   {
    "duration": 24,
    "start_time": "2021-11-22T12:02:27.269Z"
   },
   {
    "duration": 15,
    "start_time": "2021-11-22T12:03:53.179Z"
   },
   {
    "duration": 83,
    "start_time": "2021-11-22T12:07:23.649Z"
   },
   {
    "duration": 27,
    "start_time": "2021-11-22T12:09:25.628Z"
   },
   {
    "duration": 28,
    "start_time": "2021-11-22T12:11:43.109Z"
   },
   {
    "duration": 340,
    "start_time": "2021-11-22T12:12:11.067Z"
   },
   {
    "duration": 20,
    "start_time": "2021-11-22T12:12:24.359Z"
   },
   {
    "duration": 20,
    "start_time": "2021-11-22T12:13:11.017Z"
   },
   {
    "duration": 19,
    "start_time": "2021-11-22T12:13:25.089Z"
   },
   {
    "duration": 20,
    "start_time": "2021-11-22T12:13:52.316Z"
   },
   {
    "duration": 21,
    "start_time": "2021-11-22T12:14:05.448Z"
   },
   {
    "duration": 21,
    "start_time": "2021-11-22T12:14:34.886Z"
   },
   {
    "duration": 14,
    "start_time": "2021-11-22T12:14:57.090Z"
   },
   {
    "duration": 13,
    "start_time": "2021-11-22T12:15:14.678Z"
   },
   {
    "duration": 9,
    "start_time": "2021-11-22T12:18:15.177Z"
   },
   {
    "duration": 82,
    "start_time": "2021-11-22T12:19:35.728Z"
   },
   {
    "duration": 85,
    "start_time": "2021-11-22T12:19:46.376Z"
   },
   {
    "duration": 92,
    "start_time": "2021-11-22T12:20:03.359Z"
   },
   {
    "duration": 6,
    "start_time": "2021-11-22T12:20:30.537Z"
   },
   {
    "duration": 4,
    "start_time": "2021-11-22T12:20:35.718Z"
   },
   {
    "duration": 5,
    "start_time": "2021-11-22T12:20:41.398Z"
   },
   {
    "duration": 5,
    "start_time": "2021-11-22T12:22:08.840Z"
   },
   {
    "duration": 7,
    "start_time": "2021-11-22T12:28:43.358Z"
   },
   {
    "duration": 14,
    "start_time": "2021-11-22T12:28:48.459Z"
   },
   {
    "duration": 12,
    "start_time": "2021-11-22T12:29:45.549Z"
   },
   {
    "duration": 16,
    "start_time": "2021-11-22T12:29:56.967Z"
   },
   {
    "duration": 274,
    "start_time": "2021-11-22T12:30:17.869Z"
   },
   {
    "duration": 12,
    "start_time": "2021-11-22T12:30:30.919Z"
   },
   {
    "duration": 12,
    "start_time": "2021-11-22T12:30:55.859Z"
   },
   {
    "duration": 10,
    "start_time": "2021-11-22T12:33:13.659Z"
   },
   {
    "duration": 109,
    "start_time": "2021-11-22T12:33:19.389Z"
   },
   {
    "duration": 233,
    "start_time": "2021-11-22T12:33:23.319Z"
   },
   {
    "duration": 78,
    "start_time": "2021-11-22T12:33:29.578Z"
   },
   {
    "duration": 1184,
    "start_time": "2021-11-22T12:33:37.388Z"
   },
   {
    "duration": 6,
    "start_time": "2021-11-22T12:35:06.939Z"
   },
   {
    "duration": 232,
    "start_time": "2021-11-22T12:35:14.632Z"
   },
   {
    "duration": 6,
    "start_time": "2021-11-22T12:35:26.433Z"
   },
   {
    "duration": 237,
    "start_time": "2021-11-22T12:35:31.499Z"
   },
   {
    "duration": 6,
    "start_time": "2021-11-22T12:35:34.706Z"
   },
   {
    "duration": 87,
    "start_time": "2021-11-22T12:35:50.159Z"
   },
   {
    "duration": 112,
    "start_time": "2021-11-22T12:35:54.606Z"
   },
   {
    "duration": 294,
    "start_time": "2021-11-22T12:36:03.089Z"
   },
   {
    "duration": 234,
    "start_time": "2021-11-22T12:36:08.670Z"
   },
   {
    "duration": 7,
    "start_time": "2021-11-22T12:37:50.539Z"
   },
   {
    "duration": 6,
    "start_time": "2021-11-22T12:38:06.177Z"
   },
   {
    "duration": 5,
    "start_time": "2021-11-22T12:40:09.229Z"
   },
   {
    "duration": 5,
    "start_time": "2021-11-22T12:40:15.911Z"
   },
   {
    "duration": 4,
    "start_time": "2021-11-22T12:40:28.747Z"
   },
   {
    "duration": 4,
    "start_time": "2021-11-22T12:40:32.849Z"
   },
   {
    "duration": 4,
    "start_time": "2021-11-22T12:40:48.207Z"
   },
   {
    "duration": 8,
    "start_time": "2021-11-22T12:41:03.879Z"
   },
   {
    "duration": 6,
    "start_time": "2021-11-22T12:41:22.969Z"
   },
   {
    "duration": 6,
    "start_time": "2021-11-22T12:41:27.257Z"
   },
   {
    "duration": 6,
    "start_time": "2021-11-22T12:41:34.737Z"
   },
   {
    "duration": 7,
    "start_time": "2021-11-22T12:41:42.780Z"
   },
   {
    "duration": 5,
    "start_time": "2021-11-22T12:41:48.106Z"
   },
   {
    "duration": 6,
    "start_time": "2021-11-22T12:41:54.189Z"
   },
   {
    "duration": 8,
    "start_time": "2021-11-22T12:42:09.279Z"
   },
   {
    "duration": 8,
    "start_time": "2021-11-22T12:42:14.080Z"
   },
   {
    "duration": 22,
    "start_time": "2021-11-22T12:42:41.788Z"
   },
   {
    "duration": 9,
    "start_time": "2021-11-22T12:42:48.508Z"
   },
   {
    "duration": 6,
    "start_time": "2021-11-22T12:42:56.439Z"
   },
   {
    "duration": 7,
    "start_time": "2021-11-22T12:43:02.589Z"
   },
   {
    "duration": 7,
    "start_time": "2021-11-22T12:43:15.478Z"
   },
   {
    "duration": 7,
    "start_time": "2021-11-22T12:43:19.200Z"
   },
   {
    "duration": 8,
    "start_time": "2021-11-22T12:43:22.560Z"
   },
   {
    "duration": 8,
    "start_time": "2021-11-22T12:43:37.028Z"
   },
   {
    "duration": 10,
    "start_time": "2021-11-22T12:43:40.429Z"
   },
   {
    "duration": 3795,
    "start_time": "2021-11-22T12:43:58.519Z"
   },
   {
    "duration": 8,
    "start_time": "2021-11-22T12:44:10.859Z"
   },
   {
    "duration": 9,
    "start_time": "2021-11-22T12:44:29.389Z"
   },
   {
    "duration": 8,
    "start_time": "2021-11-22T12:45:57.429Z"
   },
   {
    "duration": 242,
    "start_time": "2021-11-22T12:49:51.909Z"
   },
   {
    "duration": 6,
    "start_time": "2021-11-22T12:50:00.439Z"
   },
   {
    "duration": 6,
    "start_time": "2021-11-22T12:50:05.489Z"
   },
   {
    "duration": 6,
    "start_time": "2021-11-22T12:50:23.070Z"
   },
   {
    "duration": 8,
    "start_time": "2021-11-22T12:50:27.226Z"
   },
   {
    "duration": 7,
    "start_time": "2021-11-22T12:50:30.869Z"
   },
   {
    "duration": 238,
    "start_time": "2021-11-22T12:50:38.769Z"
   },
   {
    "duration": 239,
    "start_time": "2021-11-22T12:50:41.548Z"
   },
   {
    "duration": 75,
    "start_time": "2021-11-22T12:50:51.796Z"
   },
   {
    "duration": 8,
    "start_time": "2021-11-22T12:50:54.997Z"
   },
   {
    "duration": 7,
    "start_time": "2021-11-22T12:50:59.266Z"
   },
   {
    "duration": 6,
    "start_time": "2021-11-22T12:51:04.463Z"
   },
   {
    "duration": 6,
    "start_time": "2021-11-22T12:54:14.916Z"
   },
   {
    "duration": 5,
    "start_time": "2021-11-22T12:56:15.919Z"
   },
   {
    "duration": 311,
    "start_time": "2021-11-22T13:00:04.959Z"
   },
   {
    "duration": 14,
    "start_time": "2021-11-22T13:00:29.128Z"
   },
   {
    "duration": 13,
    "start_time": "2021-11-22T13:00:42.070Z"
   },
   {
    "duration": 13,
    "start_time": "2021-11-22T13:00:46.850Z"
   },
   {
    "duration": 12,
    "start_time": "2021-11-22T13:00:54.118Z"
   },
   {
    "duration": 228,
    "start_time": "2021-11-23T07:12:11.108Z"
   },
   {
    "duration": 173,
    "start_time": "2021-11-23T07:12:19.909Z"
   },
   {
    "duration": 172,
    "start_time": "2021-11-23T07:12:37.326Z"
   },
   {
    "duration": 618,
    "start_time": "2021-11-23T07:12:47.524Z"
   },
   {
    "duration": 8,
    "start_time": "2021-11-23T07:12:48.145Z"
   },
   {
    "duration": 7,
    "start_time": "2021-11-23T07:12:48.155Z"
   },
   {
    "duration": 29,
    "start_time": "2021-11-23T07:12:48.164Z"
   },
   {
    "duration": 23,
    "start_time": "2021-11-23T07:12:48.195Z"
   },
   {
    "duration": 20,
    "start_time": "2021-11-23T07:24:08.930Z"
   },
   {
    "duration": 20,
    "start_time": "2021-11-23T07:24:18.410Z"
   },
   {
    "duration": 17,
    "start_time": "2021-11-23T07:24:29.080Z"
   },
   {
    "duration": 18,
    "start_time": "2021-11-23T07:25:00.320Z"
   },
   {
    "duration": 241,
    "start_time": "2021-11-23T07:27:53.388Z"
   },
   {
    "duration": 172,
    "start_time": "2021-11-23T07:27:58.299Z"
   },
   {
    "duration": 18,
    "start_time": "2021-11-23T07:28:15.239Z"
   },
   {
    "duration": 17,
    "start_time": "2021-11-23T07:28:45.419Z"
   },
   {
    "duration": 18,
    "start_time": "2021-11-23T07:28:56.809Z"
   },
   {
    "duration": 18,
    "start_time": "2021-11-23T07:29:10.747Z"
   },
   {
    "duration": 18,
    "start_time": "2021-11-23T07:29:26.129Z"
   },
   {
    "duration": 17,
    "start_time": "2021-11-23T07:30:03.659Z"
   },
   {
    "duration": 18,
    "start_time": "2021-11-23T07:30:26.809Z"
   },
   {
    "duration": 21,
    "start_time": "2021-11-23T07:33:05.308Z"
   },
   {
    "duration": 17,
    "start_time": "2021-11-23T07:33:28.439Z"
   },
   {
    "duration": 17,
    "start_time": "2021-11-23T07:34:34.058Z"
   },
   {
    "duration": 415,
    "start_time": "2021-11-23T07:34:45.831Z"
   },
   {
    "duration": 18,
    "start_time": "2021-11-23T07:34:54.894Z"
   },
   {
    "duration": 26,
    "start_time": "2021-11-23T07:35:33.598Z"
   },
   {
    "duration": 197,
    "start_time": "2021-11-23T07:37:28.588Z"
   },
   {
    "duration": 18,
    "start_time": "2021-11-23T07:37:40.382Z"
   },
   {
    "duration": 20,
    "start_time": "2021-11-23T07:38:10.198Z"
   },
   {
    "duration": 21,
    "start_time": "2021-11-23T07:38:30.137Z"
   },
   {
    "duration": 20,
    "start_time": "2021-11-23T07:39:01.928Z"
   },
   {
    "duration": 5,
    "start_time": "2021-11-23T07:39:13.496Z"
   },
   {
    "duration": 14,
    "start_time": "2021-11-23T07:39:16.477Z"
   },
   {
    "duration": 12,
    "start_time": "2021-11-23T07:39:27.488Z"
   },
   {
    "duration": 12,
    "start_time": "2021-11-23T07:39:33.986Z"
   },
   {
    "duration": 15,
    "start_time": "2021-11-23T07:39:36.465Z"
   },
   {
    "duration": 12,
    "start_time": "2021-11-23T07:39:43.769Z"
   },
   {
    "duration": 17,
    "start_time": "2021-11-23T07:40:15.648Z"
   },
   {
    "duration": 14,
    "start_time": "2021-11-23T07:40:38.095Z"
   },
   {
    "duration": 24,
    "start_time": "2021-11-23T07:40:41.635Z"
   },
   {
    "duration": 14,
    "start_time": "2021-11-23T07:40:48.155Z"
   },
   {
    "duration": 13,
    "start_time": "2021-11-23T07:40:52.547Z"
   },
   {
    "duration": 22,
    "start_time": "2021-11-23T07:43:00.641Z"
   },
   {
    "duration": 14,
    "start_time": "2021-11-23T07:43:14.951Z"
   },
   {
    "duration": 53,
    "start_time": "2021-11-23T07:43:19.665Z"
   },
   {
    "duration": 6,
    "start_time": "2021-11-23T07:43:24.279Z"
   },
   {
    "duration": 10,
    "start_time": "2021-11-23T07:43:31.392Z"
   },
   {
    "duration": 14,
    "start_time": "2021-11-23T07:43:41.945Z"
   },
   {
    "duration": 15,
    "start_time": "2021-11-23T07:43:45.377Z"
   },
   {
    "duration": 14,
    "start_time": "2021-11-23T07:43:49.065Z"
   },
   {
    "duration": 14,
    "start_time": "2021-11-23T07:43:55.745Z"
   },
   {
    "duration": 14,
    "start_time": "2021-11-23T07:43:59.339Z"
   },
   {
    "duration": 14,
    "start_time": "2021-11-23T07:44:04.145Z"
   },
   {
    "duration": 17,
    "start_time": "2021-11-23T07:44:48.740Z"
   },
   {
    "duration": 30,
    "start_time": "2021-11-23T07:44:57.737Z"
   },
   {
    "duration": 8,
    "start_time": "2021-11-23T07:45:12.247Z"
   },
   {
    "duration": 10,
    "start_time": "2021-11-23T07:45:15.205Z"
   },
   {
    "duration": 186,
    "start_time": "2021-11-23T07:45:31.997Z"
   },
   {
    "duration": 198,
    "start_time": "2021-11-23T07:45:37.937Z"
   },
   {
    "duration": 66,
    "start_time": "2021-11-23T07:45:40.697Z"
   },
   {
    "duration": 13,
    "start_time": "2021-11-23T07:45:44.477Z"
   },
   {
    "duration": 9,
    "start_time": "2021-11-23T07:48:21.557Z"
   },
   {
    "duration": 16,
    "start_time": "2021-11-23T07:48:31.598Z"
   },
   {
    "duration": 21,
    "start_time": "2021-11-23T07:48:55.897Z"
   },
   {
    "duration": 4,
    "start_time": "2021-11-23T07:57:27.859Z"
   },
   {
    "duration": 4,
    "start_time": "2021-11-23T07:57:39.348Z"
   },
   {
    "duration": 4,
    "start_time": "2021-11-23T07:58:14.380Z"
   },
   {
    "duration": 4,
    "start_time": "2021-11-23T07:58:39.939Z"
   },
   {
    "duration": 4,
    "start_time": "2021-11-23T07:59:01.000Z"
   },
   {
    "duration": 5,
    "start_time": "2021-11-23T07:59:54.200Z"
   },
   {
    "duration": 35,
    "start_time": "2021-11-23T08:00:04.420Z"
   },
   {
    "duration": 23,
    "start_time": "2021-11-23T08:02:43.998Z"
   },
   {
    "duration": 24,
    "start_time": "2021-11-23T08:02:56.319Z"
   },
   {
    "duration": 24,
    "start_time": "2021-11-23T08:03:38.968Z"
   },
   {
    "duration": 30,
    "start_time": "2021-11-23T08:03:46.986Z"
   },
   {
    "duration": 6,
    "start_time": "2021-11-23T08:04:37.077Z"
   },
   {
    "duration": 20,
    "start_time": "2021-11-23T08:04:47.218Z"
   },
   {
    "duration": 22,
    "start_time": "2021-11-23T08:05:45.457Z"
   },
   {
    "duration": 23,
    "start_time": "2021-11-23T08:06:01.277Z"
   },
   {
    "duration": 27,
    "start_time": "2021-11-23T08:06:24.703Z"
   },
   {
    "duration": 58,
    "start_time": "2021-11-23T08:38:46.705Z"
   },
   {
    "duration": 62,
    "start_time": "2021-11-23T08:38:57.784Z"
   },
   {
    "duration": 151,
    "start_time": "2021-11-23T08:39:09.345Z"
   },
   {
    "duration": 12,
    "start_time": "2021-11-23T08:39:17.804Z"
   },
   {
    "duration": 18,
    "start_time": "2021-11-23T08:39:25.404Z"
   },
   {
    "duration": 22,
    "start_time": "2021-11-23T08:40:12.506Z"
   },
   {
    "duration": 7,
    "start_time": "2021-11-23T08:40:29.953Z"
   },
   {
    "duration": 7,
    "start_time": "2021-11-23T08:40:33.464Z"
   },
   {
    "duration": 7,
    "start_time": "2021-11-23T08:40:37.842Z"
   },
   {
    "duration": 7,
    "start_time": "2021-11-23T08:40:46.753Z"
   },
   {
    "duration": 7,
    "start_time": "2021-11-23T08:41:01.075Z"
   },
   {
    "duration": 58,
    "start_time": "2021-11-23T08:42:46.482Z"
   },
   {
    "duration": 60,
    "start_time": "2021-11-23T08:42:57.520Z"
   },
   {
    "duration": 7,
    "start_time": "2021-11-23T08:43:01.803Z"
   },
   {
    "duration": 60,
    "start_time": "2021-11-23T08:49:49.665Z"
   },
   {
    "duration": 1877,
    "start_time": "2021-11-23T08:49:56.153Z"
   },
   {
    "duration": 229,
    "start_time": "2021-11-23T08:49:59.496Z"
   },
   {
    "duration": 232,
    "start_time": "2021-11-23T08:50:07.394Z"
   },
   {
    "duration": 183,
    "start_time": "2021-11-23T08:50:23.583Z"
   },
   {
    "duration": 217,
    "start_time": "2021-11-23T08:50:33.445Z"
   },
   {
    "duration": 230,
    "start_time": "2021-11-23T08:50:48.855Z"
   },
   {
    "duration": 19,
    "start_time": "2021-11-23T08:50:52.696Z"
   },
   {
    "duration": 21,
    "start_time": "2021-11-23T08:50:55.885Z"
   },
   {
    "duration": 15,
    "start_time": "2021-11-23T08:51:12.650Z"
   },
   {
    "duration": 41,
    "start_time": "2021-11-23T08:51:16.766Z"
   },
   {
    "duration": 190,
    "start_time": "2021-11-23T08:51:57.384Z"
   },
   {
    "duration": 22,
    "start_time": "2021-11-23T08:52:04.516Z"
   },
   {
    "duration": 27,
    "start_time": "2021-11-23T08:52:14.794Z"
   },
   {
    "duration": 22,
    "start_time": "2021-11-23T08:52:34.756Z"
   },
   {
    "duration": 25,
    "start_time": "2021-11-23T08:52:39.876Z"
   },
   {
    "duration": 22,
    "start_time": "2021-11-23T08:52:51.514Z"
   },
   {
    "duration": 19,
    "start_time": "2021-11-23T08:53:09.113Z"
   },
   {
    "duration": 576,
    "start_time": "2021-11-23T10:23:40.424Z"
   },
   {
    "duration": 25,
    "start_time": "2021-11-23T10:23:41.002Z"
   },
   {
    "duration": 9,
    "start_time": "2021-11-23T10:23:41.029Z"
   },
   {
    "duration": 220,
    "start_time": "2021-11-23T10:23:41.040Z"
   },
   {
    "duration": 42770,
    "start_time": "2021-11-23T10:22:58.492Z"
   },
   {
    "duration": 42765,
    "start_time": "2021-11-23T10:22:58.498Z"
   },
   {
    "duration": 21,
    "start_time": "2021-11-23T10:23:47.055Z"
   },
   {
    "duration": 20,
    "start_time": "2021-11-23T10:23:52.166Z"
   },
   {
    "duration": 172,
    "start_time": "2021-11-23T10:27:10.692Z"
   },
   {
    "duration": 42664,
    "start_time": "2021-11-23T10:26:40.003Z"
   },
   {
    "duration": 19,
    "start_time": "2021-11-23T10:27:35.375Z"
   },
   {
    "duration": 397,
    "start_time": "2021-11-23T10:27:48.784Z"
   },
   {
    "duration": 25,
    "start_time": "2021-11-23T10:29:48.576Z"
   },
   {
    "duration": 19,
    "start_time": "2021-11-23T10:29:53.215Z"
   },
   {
    "duration": 24,
    "start_time": "2021-11-23T10:30:03.896Z"
   },
   {
    "duration": 18,
    "start_time": "2021-11-23T10:30:12.375Z"
   },
   {
    "duration": 23,
    "start_time": "2021-11-23T10:30:25.115Z"
   },
   {
    "duration": 21,
    "start_time": "2021-11-23T10:30:37.375Z"
   },
   {
    "duration": 20,
    "start_time": "2021-11-23T10:30:43.643Z"
   },
   {
    "duration": 19,
    "start_time": "2021-11-23T10:30:47.905Z"
   },
   {
    "duration": 19,
    "start_time": "2021-11-23T10:31:02.225Z"
   },
   {
    "duration": 17,
    "start_time": "2021-11-23T10:31:15.375Z"
   },
   {
    "duration": 22,
    "start_time": "2021-11-23T10:31:33.025Z"
   },
   {
    "duration": 42659,
    "start_time": "2021-11-23T10:31:09.185Z"
   },
   {
    "duration": 21,
    "start_time": "2021-11-23T10:31:55.523Z"
   },
   {
    "duration": 17,
    "start_time": "2021-11-23T10:32:01.300Z"
   },
   {
    "duration": 18,
    "start_time": "2021-11-23T10:32:18.485Z"
   },
   {
    "duration": 42654,
    "start_time": "2021-11-23T10:31:48.542Z"
   },
   {
    "duration": 18,
    "start_time": "2021-11-23T10:32:35.226Z"
   },
   {
    "duration": 244,
    "start_time": "2021-11-23T10:33:56.726Z"
   },
   {
    "duration": 20,
    "start_time": "2021-11-23T10:34:33.396Z"
   },
   {
    "duration": 17,
    "start_time": "2021-11-23T10:34:49.325Z"
   },
   {
    "duration": 14,
    "start_time": "2021-11-23T10:37:16.936Z"
   },
   {
    "duration": 21,
    "start_time": "2021-11-23T10:37:34.856Z"
   },
   {
    "duration": 20,
    "start_time": "2021-11-23T10:37:41.676Z"
   },
   {
    "duration": 13,
    "start_time": "2021-11-23T10:37:50.326Z"
   },
   {
    "duration": 22,
    "start_time": "2021-11-23T10:37:58.215Z"
   },
   {
    "duration": 12,
    "start_time": "2021-11-23T10:38:49.532Z"
   },
   {
    "duration": 20,
    "start_time": "2021-11-23T10:39:01.546Z"
   },
   {
    "duration": 22,
    "start_time": "2021-11-23T10:39:33.186Z"
   },
   {
    "duration": 24,
    "start_time": "2021-11-23T10:39:44.554Z"
   },
   {
    "duration": 15,
    "start_time": "2021-11-23T10:40:01.145Z"
   },
   {
    "duration": 26,
    "start_time": "2021-11-23T10:40:19.664Z"
   },
   {
    "duration": 26,
    "start_time": "2021-11-23T10:40:39.904Z"
   },
   {
    "duration": 625,
    "start_time": "2021-11-23T10:40:51.670Z"
   },
   {
    "duration": 26,
    "start_time": "2021-11-23T10:40:52.297Z"
   },
   {
    "duration": 9,
    "start_time": "2021-11-23T10:40:52.325Z"
   },
   {
    "duration": 17,
    "start_time": "2021-11-23T10:40:52.335Z"
   },
   {
    "duration": 43,
    "start_time": "2021-11-23T10:40:52.354Z"
   },
   {
    "duration": 19,
    "start_time": "2021-11-23T10:40:52.399Z"
   },
   {
    "duration": 20,
    "start_time": "2021-11-23T10:40:59.416Z"
   },
   {
    "duration": 13,
    "start_time": "2021-11-23T10:41:06.870Z"
   },
   {
    "duration": 12,
    "start_time": "2021-11-23T10:41:55.776Z"
   },
   {
    "duration": 22,
    "start_time": "2021-11-23T10:42:00.629Z"
   },
   {
    "duration": 12,
    "start_time": "2021-11-23T10:42:09.580Z"
   },
   {
    "duration": 627,
    "start_time": "2021-11-23T10:42:16.291Z"
   },
   {
    "duration": 25,
    "start_time": "2021-11-23T10:42:16.920Z"
   },
   {
    "duration": 8,
    "start_time": "2021-11-23T10:42:16.947Z"
   },
   {
    "duration": 37,
    "start_time": "2021-11-23T10:42:16.957Z"
   },
   {
    "duration": 12,
    "start_time": "2021-11-23T10:42:16.996Z"
   },
   {
    "duration": 629,
    "start_time": "2021-11-23T10:42:46.589Z"
   },
   {
    "duration": 10,
    "start_time": "2021-11-23T10:42:47.219Z"
   },
   {
    "duration": 15,
    "start_time": "2021-11-23T10:42:47.231Z"
   },
   {
    "duration": 11,
    "start_time": "2021-11-23T10:42:47.248Z"
   },
   {
    "duration": 11,
    "start_time": "2021-11-23T10:43:07.308Z"
   },
   {
    "duration": 14,
    "start_time": "2021-11-23T10:43:31.199Z"
   },
   {
    "duration": 14,
    "start_time": "2021-11-23T10:44:21.220Z"
   },
   {
    "duration": 230,
    "start_time": "2021-11-23T10:45:10.888Z"
   },
   {
    "duration": 190,
    "start_time": "2021-11-23T10:45:20.670Z"
   },
   {
    "duration": 17,
    "start_time": "2021-11-23T10:45:35.966Z"
   },
   {
    "duration": 15,
    "start_time": "2021-11-23T10:45:46.130Z"
   },
   {
    "duration": 17,
    "start_time": "2021-11-23T10:46:42.278Z"
   },
   {
    "duration": 574,
    "start_time": "2021-11-23T10:46:51.754Z"
   },
   {
    "duration": 8,
    "start_time": "2021-11-23T10:46:52.330Z"
   },
   {
    "duration": 15,
    "start_time": "2021-11-23T10:46:52.340Z"
   },
   {
    "duration": 14,
    "start_time": "2021-11-23T10:46:52.356Z"
   },
   {
    "duration": 26,
    "start_time": "2021-11-23T10:48:25.196Z"
   },
   {
    "duration": 14,
    "start_time": "2021-11-23T10:48:46.162Z"
   },
   {
    "duration": 72,
    "start_time": "2021-11-23T10:50:42.026Z"
   },
   {
    "duration": 240,
    "start_time": "2021-11-23T10:50:46.976Z"
   },
   {
    "duration": 191,
    "start_time": "2021-11-23T10:57:02.297Z"
   },
   {
    "duration": 15,
    "start_time": "2021-11-23T10:57:06.397Z"
   },
   {
    "duration": 15,
    "start_time": "2021-11-23T10:57:53.487Z"
   },
   {
    "duration": 24,
    "start_time": "2021-11-23T10:59:21.107Z"
   },
   {
    "duration": 16,
    "start_time": "2021-11-23T10:59:46.907Z"
   },
   {
    "duration": 16,
    "start_time": "2021-11-23T10:59:57.332Z"
   },
   {
    "duration": 257,
    "start_time": "2021-11-23T11:00:23.687Z"
   },
   {
    "duration": 225,
    "start_time": "2021-11-23T11:00:26.396Z"
   },
   {
    "duration": 211,
    "start_time": "2021-11-23T11:00:33.425Z"
   },
   {
    "duration": 18,
    "start_time": "2021-11-23T11:00:41.605Z"
   },
   {
    "duration": 18,
    "start_time": "2021-11-23T11:00:47.717Z"
   },
   {
    "duration": 194,
    "start_time": "2021-11-23T11:09:27.573Z"
   },
   {
    "duration": 187,
    "start_time": "2021-11-23T11:09:54.683Z"
   },
   {
    "duration": 30,
    "start_time": "2021-11-23T11:10:00.543Z"
   },
   {
    "duration": 6,
    "start_time": "2021-11-23T11:10:38.464Z"
   },
   {
    "duration": 68,
    "start_time": "2021-11-23T11:11:43.124Z"
   },
   {
    "duration": 58,
    "start_time": "2021-11-23T11:11:46.513Z"
   },
   {
    "duration": 5,
    "start_time": "2021-11-23T11:12:00.804Z"
   },
   {
    "duration": 33,
    "start_time": "2021-11-23T11:12:04.994Z"
   },
   {
    "duration": 7,
    "start_time": "2021-11-23T11:12:28.034Z"
   },
   {
    "duration": 7,
    "start_time": "2021-11-23T11:12:40.981Z"
   },
   {
    "duration": 20,
    "start_time": "2021-11-23T11:12:43.143Z"
   },
   {
    "duration": 16,
    "start_time": "2021-11-23T11:12:51.064Z"
   },
   {
    "duration": 20,
    "start_time": "2021-11-23T11:12:57.084Z"
   },
   {
    "duration": 15,
    "start_time": "2021-11-23T11:13:06.703Z"
   },
   {
    "duration": 15,
    "start_time": "2021-11-23T11:13:09.143Z"
   },
   {
    "duration": 16,
    "start_time": "2021-11-23T11:13:10.763Z"
   },
   {
    "duration": 18,
    "start_time": "2021-11-23T11:13:16.153Z"
   },
   {
    "duration": 191,
    "start_time": "2021-11-23T11:37:35.344Z"
   },
   {
    "duration": 630,
    "start_time": "2021-11-23T11:37:52.652Z"
   },
   {
    "duration": 649,
    "start_time": "2021-11-23T11:37:56.644Z"
   },
   {
    "duration": 258,
    "start_time": "2021-11-23T11:38:03.435Z"
   },
   {
    "duration": 58,
    "start_time": "2021-11-23T11:38:43.154Z"
   },
   {
    "duration": 169,
    "start_time": "2021-11-23T11:38:47.943Z"
   },
   {
    "duration": 204,
    "start_time": "2021-11-23T11:40:11.535Z"
   },
   {
    "duration": 633,
    "start_time": "2021-11-23T11:40:37.442Z"
   },
   {
    "duration": 181,
    "start_time": "2021-11-23T11:41:38.064Z"
   },
   {
    "duration": 178,
    "start_time": "2021-11-23T11:42:07.305Z"
   },
   {
    "duration": 191,
    "start_time": "2021-11-23T11:42:40.195Z"
   },
   {
    "duration": 181,
    "start_time": "2021-11-23T11:43:42.893Z"
   },
   {
    "duration": 192,
    "start_time": "2021-11-23T11:43:48.497Z"
   },
   {
    "duration": 190,
    "start_time": "2021-11-23T11:44:05.614Z"
   },
   {
    "duration": 175,
    "start_time": "2021-11-23T11:49:47.651Z"
   },
   {
    "duration": 225,
    "start_time": "2021-11-23T11:53:16.963Z"
   },
   {
    "duration": 27,
    "start_time": "2021-11-23T11:53:23.303Z"
   },
   {
    "duration": 16,
    "start_time": "2021-11-23T11:53:29.492Z"
   },
   {
    "duration": 617,
    "start_time": "2021-11-23T11:53:43.962Z"
   },
   {
    "duration": 9,
    "start_time": "2021-11-23T11:53:44.581Z"
   },
   {
    "duration": 17,
    "start_time": "2021-11-23T11:53:44.592Z"
   },
   {
    "duration": 7,
    "start_time": "2021-11-23T11:53:44.611Z"
   },
   {
    "duration": 31,
    "start_time": "2021-11-23T11:53:44.620Z"
   },
   {
    "duration": 43,
    "start_time": "2021-11-23T11:53:44.653Z"
   },
   {
    "duration": 249,
    "start_time": "2021-11-23T11:53:44.697Z"
   },
   {
    "duration": 20,
    "start_time": "2021-11-23T11:55:47.756Z"
   },
   {
    "duration": 299,
    "start_time": "2021-11-23T11:57:47.424Z"
   },
   {
    "duration": 176,
    "start_time": "2021-11-23T11:57:54.616Z"
   },
   {
    "duration": 194,
    "start_time": "2021-11-23T11:58:00.194Z"
   },
   {
    "duration": 197,
    "start_time": "2021-11-23T11:58:10.424Z"
   },
   {
    "duration": 246,
    "start_time": "2021-11-23T11:58:39.016Z"
   },
   {
    "duration": 6,
    "start_time": "2021-11-23T11:58:44.704Z"
   },
   {
    "duration": 4,
    "start_time": "2021-11-23T11:58:50.744Z"
   },
   {
    "duration": 4,
    "start_time": "2021-11-23T11:58:53.919Z"
   },
   {
    "duration": 6,
    "start_time": "2021-11-23T11:58:59.255Z"
   },
   {
    "duration": 6,
    "start_time": "2021-11-23T11:59:01.295Z"
   },
   {
    "duration": 1909,
    "start_time": "2021-11-23T12:02:06.404Z"
   },
   {
    "duration": 1807,
    "start_time": "2021-11-23T12:02:10.593Z"
   },
   {
    "duration": 686,
    "start_time": "2021-11-23T12:02:39.299Z"
   },
   {
    "duration": 9,
    "start_time": "2021-11-23T12:02:39.987Z"
   },
   {
    "duration": 17,
    "start_time": "2021-11-23T12:02:39.998Z"
   },
   {
    "duration": 10,
    "start_time": "2021-11-23T12:02:40.018Z"
   },
   {
    "duration": 28,
    "start_time": "2021-11-23T12:02:40.030Z"
   },
   {
    "duration": 44,
    "start_time": "2021-11-23T12:02:40.060Z"
   },
   {
    "duration": 3972,
    "start_time": "2021-11-23T12:02:40.106Z"
   },
   {
    "duration": 3643,
    "start_time": "2021-11-23T12:02:48.550Z"
   },
   {
    "duration": 3490,
    "start_time": "2021-11-23T12:07:42.381Z"
   },
   {
    "duration": 902,
    "start_time": "2021-11-23T12:10:06.022Z"
   },
   {
    "duration": 1752,
    "start_time": "2021-11-23T12:10:12.921Z"
   },
   {
    "duration": 3306,
    "start_time": "2021-11-23T12:13:08.713Z"
   },
   {
    "duration": 4629,
    "start_time": "2021-11-23T12:13:34.152Z"
   },
   {
    "duration": 3463,
    "start_time": "2021-11-23T12:14:12.352Z"
   },
   {
    "duration": 3402,
    "start_time": "2021-11-23T12:17:09.463Z"
   },
   {
    "duration": 58,
    "start_time": "2021-11-23T12:50:45.499Z"
   },
   {
    "duration": 3,
    "start_time": "2021-11-23T12:50:50.109Z"
   },
   {
    "duration": 3,
    "start_time": "2021-11-23T12:50:56.057Z"
   },
   {
    "duration": 550,
    "start_time": "2021-11-23T12:57:27.603Z"
   },
   {
    "duration": 708,
    "start_time": "2021-11-23T12:57:40.988Z"
   },
   {
    "duration": 60,
    "start_time": "2021-11-23T12:57:46.171Z"
   },
   {
    "duration": 3,
    "start_time": "2021-11-23T12:58:18.710Z"
   },
   {
    "duration": 4,
    "start_time": "2021-11-23T13:00:15.272Z"
   },
   {
    "duration": 4,
    "start_time": "2021-11-23T13:00:34.437Z"
   },
   {
    "duration": 286,
    "start_time": "2021-11-24T06:51:10.493Z"
   },
   {
    "duration": 639,
    "start_time": "2021-11-24T06:51:17.274Z"
   },
   {
    "duration": 8,
    "start_time": "2021-11-24T06:51:17.914Z"
   },
   {
    "duration": 26,
    "start_time": "2021-11-24T06:51:17.923Z"
   },
   {
    "duration": 4,
    "start_time": "2021-11-24T06:51:17.951Z"
   },
   {
    "duration": 32,
    "start_time": "2021-11-24T06:51:17.956Z"
   },
   {
    "duration": 16,
    "start_time": "2021-11-24T06:51:17.989Z"
   },
   {
    "duration": 3100,
    "start_time": "2021-11-24T06:51:18.006Z"
   },
   {
    "duration": 3043,
    "start_time": "2021-11-24T06:51:44.999Z"
   },
   {
    "duration": 2,
    "start_time": "2021-11-24T06:57:33.700Z"
   },
   {
    "duration": 97,
    "start_time": "2021-11-24T06:57:42.680Z"
   },
   {
    "duration": 55,
    "start_time": "2021-11-24T06:58:01.671Z"
   },
   {
    "duration": 11,
    "start_time": "2021-11-24T06:58:09.029Z"
   },
   {
    "duration": 11,
    "start_time": "2021-11-24T06:59:40.300Z"
   },
   {
    "duration": 12,
    "start_time": "2021-11-24T07:05:07.320Z"
   },
   {
    "duration": 9,
    "start_time": "2021-11-24T07:05:16.889Z"
   },
   {
    "duration": 14,
    "start_time": "2021-11-24T07:05:23.647Z"
   },
   {
    "duration": 14,
    "start_time": "2021-11-24T07:06:34.010Z"
   },
   {
    "duration": 14,
    "start_time": "2021-11-24T07:06:52.680Z"
   },
   {
    "duration": 14,
    "start_time": "2021-11-24T07:06:56.919Z"
   },
   {
    "duration": 282,
    "start_time": "2021-11-24T07:07:17.300Z"
   },
   {
    "duration": 75,
    "start_time": "2021-11-24T07:07:22.780Z"
   },
   {
    "duration": 92,
    "start_time": "2021-11-24T07:07:27.930Z"
   },
   {
    "duration": 7,
    "start_time": "2021-11-24T07:07:40.680Z"
   },
   {
    "duration": 294,
    "start_time": "2021-11-24T07:07:50.238Z"
   },
   {
    "duration": 7,
    "start_time": "2021-11-24T07:08:06.450Z"
   },
   {
    "duration": 9,
    "start_time": "2021-11-24T07:10:46.529Z"
   },
   {
    "duration": 13,
    "start_time": "2021-11-24T07:11:34.718Z"
   },
   {
    "duration": 14,
    "start_time": "2021-11-24T07:12:22.810Z"
   },
   {
    "duration": 5,
    "start_time": "2021-11-24T07:12:37.231Z"
   },
   {
    "duration": 11,
    "start_time": "2021-11-24T07:12:44.950Z"
   },
   {
    "duration": 5,
    "start_time": "2021-11-24T07:13:08.390Z"
   },
   {
    "duration": 4,
    "start_time": "2021-11-24T07:13:17.110Z"
   },
   {
    "duration": 5,
    "start_time": "2021-11-24T07:14:55.040Z"
   },
   {
    "duration": 5,
    "start_time": "2021-11-24T07:15:22.899Z"
   },
   {
    "duration": 5,
    "start_time": "2021-11-24T07:16:27.809Z"
   },
   {
    "duration": 4,
    "start_time": "2021-11-24T07:17:20.080Z"
   },
   {
    "duration": 4,
    "start_time": "2021-11-24T07:17:36.641Z"
   },
   {
    "duration": 5,
    "start_time": "2021-11-24T07:17:42.569Z"
   },
   {
    "duration": 5,
    "start_time": "2021-11-24T07:18:09.630Z"
   },
   {
    "duration": 5,
    "start_time": "2021-11-24T07:18:12.760Z"
   },
   {
    "duration": 5,
    "start_time": "2021-11-24T07:18:55.380Z"
   },
   {
    "duration": 4,
    "start_time": "2021-11-24T07:19:01.688Z"
   },
   {
    "duration": 6,
    "start_time": "2021-11-24T07:20:09.628Z"
   },
   {
    "duration": 4,
    "start_time": "2021-11-24T07:20:24.440Z"
   },
   {
    "duration": 4,
    "start_time": "2021-11-24T07:20:36.670Z"
   },
   {
    "duration": 80,
    "start_time": "2021-11-24T07:22:39.591Z"
   },
   {
    "duration": 77,
    "start_time": "2021-11-24T07:22:49.568Z"
   },
   {
    "duration": 59,
    "start_time": "2021-11-24T07:56:27.494Z"
   },
   {
    "duration": 16,
    "start_time": "2021-11-24T07:57:25.806Z"
   },
   {
    "duration": 17,
    "start_time": "2021-11-24T07:57:40.956Z"
   },
   {
    "duration": 16,
    "start_time": "2021-11-24T07:58:07.677Z"
   },
   {
    "duration": 15,
    "start_time": "2021-11-24T07:58:13.376Z"
   },
   {
    "duration": 614,
    "start_time": "2021-11-24T07:58:29.574Z"
   },
   {
    "duration": 16,
    "start_time": "2021-11-24T07:58:30.190Z"
   },
   {
    "duration": 9,
    "start_time": "2021-11-24T07:58:30.208Z"
   },
   {
    "duration": 17,
    "start_time": "2021-11-24T07:58:30.219Z"
   },
   {
    "duration": 3,
    "start_time": "2021-11-24T07:58:30.237Z"
   },
   {
    "duration": 13,
    "start_time": "2021-11-24T07:58:30.242Z"
   },
   {
    "duration": 31,
    "start_time": "2021-11-24T07:58:30.257Z"
   },
   {
    "duration": 5,
    "start_time": "2021-11-24T07:58:30.290Z"
   },
   {
    "duration": 16,
    "start_time": "2021-11-24T07:58:30.297Z"
   },
   {
    "duration": 24,
    "start_time": "2021-11-24T07:58:30.315Z"
   },
   {
    "duration": 17,
    "start_time": "2021-11-24T07:58:30.341Z"
   },
   {
    "duration": 3291,
    "start_time": "2021-11-24T07:58:30.359Z"
   },
   {
    "duration": 3,
    "start_time": "2021-11-24T07:58:33.651Z"
   },
   {
    "duration": 302,
    "start_time": "2021-11-24T07:58:45.342Z"
   },
   {
    "duration": 247,
    "start_time": "2021-11-24T08:00:32.453Z"
   },
   {
    "duration": 431,
    "start_time": "2021-11-24T08:00:57.564Z"
   },
   {
    "duration": 620,
    "start_time": "2021-11-24T08:01:03.975Z"
   },
   {
    "duration": 18,
    "start_time": "2021-11-24T08:01:04.597Z"
   },
   {
    "duration": 17,
    "start_time": "2021-11-24T08:01:04.617Z"
   },
   {
    "duration": 25,
    "start_time": "2021-11-24T08:01:04.636Z"
   },
   {
    "duration": 24,
    "start_time": "2021-11-24T08:01:04.662Z"
   },
   {
    "duration": 23,
    "start_time": "2021-11-24T08:01:04.688Z"
   },
   {
    "duration": 9,
    "start_time": "2021-11-24T08:01:04.712Z"
   },
   {
    "duration": 24,
    "start_time": "2021-11-24T08:01:04.723Z"
   },
   {
    "duration": 334,
    "start_time": "2021-11-24T08:01:04.749Z"
   },
   {
    "duration": 45005,
    "start_time": "2021-11-24T08:00:20.080Z"
   },
   {
    "duration": 44999,
    "start_time": "2021-11-24T08:00:20.087Z"
   },
   {
    "duration": 44996,
    "start_time": "2021-11-24T08:00:20.091Z"
   },
   {
    "duration": 44994,
    "start_time": "2021-11-24T08:00:20.094Z"
   },
   {
    "duration": 238,
    "start_time": "2021-11-24T08:02:35.104Z"
   },
   {
    "duration": 273,
    "start_time": "2021-11-24T08:02:39.212Z"
   },
   {
    "duration": 5,
    "start_time": "2021-11-24T08:03:07.624Z"
   },
   {
    "duration": 256,
    "start_time": "2021-11-24T08:03:11.554Z"
   },
   {
    "duration": 297,
    "start_time": "2021-11-24T08:03:18.325Z"
   },
   {
    "duration": 233,
    "start_time": "2021-11-24T08:03:36.613Z"
   },
   {
    "duration": 7,
    "start_time": "2021-11-24T08:03:43.904Z"
   },
   {
    "duration": 336,
    "start_time": "2021-11-24T08:03:49.784Z"
   },
   {
    "duration": 7,
    "start_time": "2021-11-24T08:03:53.964Z"
   },
   {
    "duration": 8,
    "start_time": "2021-11-24T08:04:02.804Z"
   },
   {
    "duration": 14,
    "start_time": "2021-11-24T08:07:01.344Z"
   },
   {
    "duration": 14,
    "start_time": "2021-11-24T08:07:06.114Z"
   },
   {
    "duration": 13,
    "start_time": "2021-11-24T08:07:49.586Z"
   },
   {
    "duration": 593,
    "start_time": "2021-11-24T08:07:55.748Z"
   },
   {
    "duration": 18,
    "start_time": "2021-11-24T08:07:56.343Z"
   },
   {
    "duration": 9,
    "start_time": "2021-11-24T08:07:56.363Z"
   },
   {
    "duration": 23,
    "start_time": "2021-11-24T08:07:56.374Z"
   },
   {
    "duration": 2,
    "start_time": "2021-11-24T08:07:56.399Z"
   },
   {
    "duration": 19,
    "start_time": "2021-11-24T08:07:56.403Z"
   },
   {
    "duration": 5,
    "start_time": "2021-11-24T08:07:56.424Z"
   },
   {
    "duration": 7,
    "start_time": "2021-11-24T08:07:56.430Z"
   },
   {
    "duration": 24,
    "start_time": "2021-11-24T08:07:56.439Z"
   },
   {
    "duration": 32,
    "start_time": "2021-11-24T08:07:56.465Z"
   },
   {
    "duration": 16,
    "start_time": "2021-11-24T08:07:56.498Z"
   },
   {
    "duration": 3330,
    "start_time": "2021-11-24T08:07:56.516Z"
   },
   {
    "duration": 2,
    "start_time": "2021-11-24T08:07:59.847Z"
   },
   {
    "duration": 12,
    "start_time": "2021-11-24T08:11:07.757Z"
   },
   {
    "duration": 8,
    "start_time": "2021-11-24T08:11:53.290Z"
   },
   {
    "duration": 7,
    "start_time": "2021-11-24T08:12:01.928Z"
   },
   {
    "duration": 289,
    "start_time": "2021-11-24T08:12:59.511Z"
   },
   {
    "duration": 242,
    "start_time": "2021-11-24T08:13:03.630Z"
   },
   {
    "duration": 239,
    "start_time": "2021-11-24T08:13:26.994Z"
   },
   {
    "duration": 12,
    "start_time": "2021-11-24T08:13:46.938Z"
   },
   {
    "duration": 10,
    "start_time": "2021-11-24T08:13:54.820Z"
   },
   {
    "duration": 605,
    "start_time": "2021-11-24T08:15:23.115Z"
   },
   {
    "duration": 17,
    "start_time": "2021-11-24T08:15:23.722Z"
   },
   {
    "duration": 29,
    "start_time": "2021-11-24T08:15:23.741Z"
   },
   {
    "duration": 28,
    "start_time": "2021-11-24T08:15:23.772Z"
   },
   {
    "duration": 16,
    "start_time": "2021-11-24T08:15:23.802Z"
   },
   {
    "duration": 44,
    "start_time": "2021-11-24T08:15:23.820Z"
   },
   {
    "duration": 6,
    "start_time": "2021-11-24T08:15:23.866Z"
   },
   {
    "duration": 30,
    "start_time": "2021-11-24T08:15:23.873Z"
   },
   {
    "duration": 22,
    "start_time": "2021-11-24T08:15:23.905Z"
   },
   {
    "duration": 34,
    "start_time": "2021-11-24T08:15:23.929Z"
   },
   {
    "duration": 29,
    "start_time": "2021-11-24T08:15:23.965Z"
   },
   {
    "duration": 3435,
    "start_time": "2021-11-24T08:15:23.996Z"
   },
   {
    "duration": 2,
    "start_time": "2021-11-24T08:15:27.433Z"
   },
   {
    "duration": 21,
    "start_time": "2021-11-24T08:17:48.555Z"
   },
   {
    "duration": 13,
    "start_time": "2021-11-24T08:18:08.088Z"
   },
   {
    "duration": 9,
    "start_time": "2021-11-24T08:40:07.485Z"
   },
   {
    "duration": 8,
    "start_time": "2021-11-24T08:42:05.271Z"
   },
   {
    "duration": 9,
    "start_time": "2021-11-24T08:42:08.615Z"
   },
   {
    "duration": 8,
    "start_time": "2021-11-24T08:42:44.435Z"
   },
   {
    "duration": 613,
    "start_time": "2021-11-24T08:42:50.751Z"
   },
   {
    "duration": 17,
    "start_time": "2021-11-24T08:42:51.366Z"
   },
   {
    "duration": 8,
    "start_time": "2021-11-24T08:42:51.385Z"
   },
   {
    "duration": 14,
    "start_time": "2021-11-24T08:42:51.395Z"
   },
   {
    "duration": 3,
    "start_time": "2021-11-24T08:42:51.410Z"
   },
   {
    "duration": 14,
    "start_time": "2021-11-24T08:42:51.414Z"
   },
   {
    "duration": 4,
    "start_time": "2021-11-24T08:42:51.429Z"
   },
   {
    "duration": 4,
    "start_time": "2021-11-24T08:42:51.435Z"
   },
   {
    "duration": 7,
    "start_time": "2021-11-24T08:42:51.441Z"
   },
   {
    "duration": 56,
    "start_time": "2021-11-24T08:42:51.450Z"
   },
   {
    "duration": 15,
    "start_time": "2021-11-24T08:42:51.507Z"
   },
   {
    "duration": 3207,
    "start_time": "2021-11-24T08:42:51.524Z"
   },
   {
    "duration": 3,
    "start_time": "2021-11-24T08:42:54.732Z"
   },
   {
    "duration": 13,
    "start_time": "2021-11-24T08:46:03.414Z"
   },
   {
    "duration": 131,
    "start_time": "2021-11-24T08:46:57.534Z"
   },
   {
    "duration": 99,
    "start_time": "2021-11-24T08:47:01.354Z"
   },
   {
    "duration": 131,
    "start_time": "2021-11-24T08:48:54.775Z"
   },
   {
    "duration": 123,
    "start_time": "2021-11-24T08:49:03.504Z"
   },
   {
    "duration": 714,
    "start_time": "2021-11-24T08:49:19.018Z"
   },
   {
    "duration": 9,
    "start_time": "2021-11-24T08:49:29.276Z"
   },
   {
    "duration": 8,
    "start_time": "2021-11-24T08:49:36.335Z"
   },
   {
    "duration": 8,
    "start_time": "2021-11-24T08:49:39.594Z"
   },
   {
    "duration": 7,
    "start_time": "2021-11-24T08:49:43.705Z"
   },
   {
    "duration": 8,
    "start_time": "2021-11-24T08:50:07.642Z"
   },
   {
    "duration": 8,
    "start_time": "2021-11-24T08:50:25.655Z"
   },
   {
    "duration": 8,
    "start_time": "2021-11-24T08:50:28.814Z"
   },
   {
    "duration": 323,
    "start_time": "2021-11-24T08:50:33.744Z"
   },
   {
    "duration": 7,
    "start_time": "2021-11-24T08:50:36.734Z"
   },
   {
    "duration": 8,
    "start_time": "2021-11-24T08:50:42.065Z"
   },
   {
    "duration": 7,
    "start_time": "2021-11-24T08:50:46.694Z"
   },
   {
    "duration": 8,
    "start_time": "2021-11-24T08:51:23.427Z"
   },
   {
    "duration": 357,
    "start_time": "2021-11-24T08:51:48.275Z"
   },
   {
    "duration": 229,
    "start_time": "2021-11-24T08:51:51.875Z"
   },
   {
    "duration": 8,
    "start_time": "2021-11-24T08:52:00.834Z"
   },
   {
    "duration": 8,
    "start_time": "2021-11-24T08:52:04.354Z"
   },
   {
    "duration": 279,
    "start_time": "2021-11-24T08:52:11.365Z"
   },
   {
    "duration": 387,
    "start_time": "2021-11-24T08:52:14.455Z"
   },
   {
    "duration": 623,
    "start_time": "2021-11-24T08:52:17.684Z"
   },
   {
    "duration": 234,
    "start_time": "2021-11-24T08:52:25.564Z"
   },
   {
    "duration": 8,
    "start_time": "2021-11-24T08:52:34.873Z"
   },
   {
    "duration": 7,
    "start_time": "2021-11-24T08:52:38.874Z"
   },
   {
    "duration": 257,
    "start_time": "2021-11-24T08:53:28.443Z"
   },
   {
    "duration": 7,
    "start_time": "2021-11-24T08:53:34.135Z"
   },
   {
    "duration": 529,
    "start_time": "2021-11-24T10:28:38.670Z"
   },
   {
    "duration": 334,
    "start_time": "2021-11-24T10:28:46.970Z"
   },
   {
    "duration": 306,
    "start_time": "2021-11-24T10:28:57.850Z"
   },
   {
    "duration": 1174,
    "start_time": "2021-11-24T10:29:03.243Z"
   },
   {
    "duration": 29,
    "start_time": "2021-11-24T10:29:04.420Z"
   },
   {
    "duration": 31,
    "start_time": "2021-11-24T10:29:04.452Z"
   },
   {
    "duration": 24,
    "start_time": "2021-11-24T10:29:04.486Z"
   },
   {
    "duration": 5,
    "start_time": "2021-11-24T10:29:04.512Z"
   },
   {
    "duration": 21,
    "start_time": "2021-11-24T10:29:04.520Z"
   },
   {
    "duration": 11,
    "start_time": "2021-11-24T10:29:04.583Z"
   },
   {
    "duration": 10,
    "start_time": "2021-11-24T10:29:04.597Z"
   },
   {
    "duration": 18,
    "start_time": "2021-11-24T10:29:04.611Z"
   },
   {
    "duration": 67,
    "start_time": "2021-11-24T10:29:04.632Z"
   },
   {
    "duration": 26,
    "start_time": "2021-11-24T10:29:04.701Z"
   },
   {
    "duration": 5225,
    "start_time": "2021-11-24T10:29:04.729Z"
   },
   {
    "duration": 42,
    "start_time": "2021-11-24T10:29:09.956Z"
   },
   {
    "duration": 48,
    "start_time": "2021-11-24T10:29:17.250Z"
   },
   {
    "duration": 36,
    "start_time": "2021-11-24T10:29:26.789Z"
   },
   {
    "duration": 30,
    "start_time": "2021-11-24T10:29:46.719Z"
   },
   {
    "duration": 792,
    "start_time": "2021-11-24T10:32:09.407Z"
   },
   {
    "duration": 29,
    "start_time": "2021-11-24T10:32:10.201Z"
   },
   {
    "duration": 19,
    "start_time": "2021-11-24T10:32:10.234Z"
   },
   {
    "duration": 38,
    "start_time": "2021-11-24T10:32:10.283Z"
   },
   {
    "duration": 8,
    "start_time": "2021-11-24T10:32:10.324Z"
   },
   {
    "duration": 54,
    "start_time": "2021-11-24T10:32:10.334Z"
   },
   {
    "duration": 7,
    "start_time": "2021-11-24T10:32:10.391Z"
   },
   {
    "duration": 9,
    "start_time": "2021-11-24T10:32:10.401Z"
   },
   {
    "duration": 18,
    "start_time": "2021-11-24T10:32:10.414Z"
   },
   {
    "duration": 99,
    "start_time": "2021-11-24T10:32:10.435Z"
   },
   {
    "duration": 47,
    "start_time": "2021-11-24T10:32:10.537Z"
   },
   {
    "duration": 5750,
    "start_time": "2021-11-24T10:32:10.586Z"
   },
   {
    "duration": 46,
    "start_time": "2021-11-24T10:32:16.416Z"
   },
   {
    "duration": 45,
    "start_time": "2021-11-24T10:32:42.938Z"
   },
   {
    "duration": 31,
    "start_time": "2021-11-24T10:32:55.607Z"
   },
   {
    "duration": 30,
    "start_time": "2021-11-24T10:33:47.996Z"
   },
   {
    "duration": 24,
    "start_time": "2021-11-24T10:34:06.918Z"
   },
   {
    "duration": 26,
    "start_time": "2021-11-24T10:34:10.866Z"
   },
   {
    "duration": 36,
    "start_time": "2021-11-24T10:34:29.566Z"
   },
   {
    "duration": 72,
    "start_time": "2021-11-24T10:42:09.338Z"
   },
   {
    "duration": 71,
    "start_time": "2021-11-24T10:42:24.189Z"
   },
   {
    "duration": 43,
    "start_time": "2021-11-24T10:42:33.919Z"
   },
   {
    "duration": 78,
    "start_time": "2021-11-24T10:42:45.019Z"
   },
   {
    "duration": 73,
    "start_time": "2021-11-24T10:42:54.128Z"
   },
   {
    "duration": 44697,
    "start_time": "2021-11-24T10:43:54.174Z"
   },
   {
    "duration": 2292,
    "start_time": "2021-11-24T10:44:42.398Z"
   },
   {
    "duration": 921,
    "start_time": "2021-11-24T10:44:50.454Z"
   },
   {
    "duration": 45,
    "start_time": "2021-11-24T10:44:51.379Z"
   },
   {
    "duration": 21,
    "start_time": "2021-11-24T10:44:51.428Z"
   },
   {
    "duration": 34,
    "start_time": "2021-11-24T10:44:51.451Z"
   },
   {
    "duration": 4,
    "start_time": "2021-11-24T10:44:51.487Z"
   },
   {
    "duration": 38,
    "start_time": "2021-11-24T10:44:51.495Z"
   },
   {
    "duration": 11,
    "start_time": "2021-11-24T10:44:51.536Z"
   },
   {
    "duration": 20,
    "start_time": "2021-11-24T10:44:51.550Z"
   },
   {
    "duration": 17,
    "start_time": "2021-11-24T10:44:51.574Z"
   },
   {
    "duration": 62,
    "start_time": "2021-11-24T10:44:51.594Z"
   },
   {
    "duration": 43,
    "start_time": "2021-11-24T10:44:51.659Z"
   },
   {
    "duration": 5567,
    "start_time": "2021-11-24T10:44:51.706Z"
   },
   {
    "duration": 8857,
    "start_time": "2021-11-24T10:44:57.276Z"
   },
   {
    "duration": 8792,
    "start_time": "2021-11-24T10:45:18.057Z"
   },
   {
    "duration": 8884,
    "start_time": "2021-11-24T10:45:31.357Z"
   },
   {
    "duration": 39,
    "start_time": "2021-11-24T10:46:03.539Z"
   },
   {
    "duration": 25,
    "start_time": "2021-11-24T10:46:12.527Z"
   },
   {
    "duration": 40,
    "start_time": "2021-11-24T10:47:08.338Z"
   },
   {
    "duration": 610,
    "start_time": "2021-11-24T10:47:31.507Z"
   },
   {
    "duration": 12,
    "start_time": "2021-11-24T10:47:44.323Z"
   },
   {
    "duration": 4481,
    "start_time": "2021-11-24T10:50:00.637Z"
   },
   {
    "duration": 295,
    "start_time": "2021-11-24T10:51:23.685Z"
   },
   {
    "duration": 18,
    "start_time": "2021-11-24T10:51:33.515Z"
   },
   {
    "duration": 58,
    "start_time": "2021-11-24T10:52:02.868Z"
   },
   {
    "duration": 84,
    "start_time": "2021-11-24T10:52:30.916Z"
   },
   {
    "duration": 400,
    "start_time": "2021-11-24T10:53:10.937Z"
   },
   {
    "duration": 35,
    "start_time": "2021-11-24T10:53:14.365Z"
   },
   {
    "duration": 34,
    "start_time": "2021-11-24T10:53:40.218Z"
   },
   {
    "duration": 32,
    "start_time": "2021-11-24T10:53:49.945Z"
   },
   {
    "duration": 33,
    "start_time": "2021-11-24T10:53:56.476Z"
   },
   {
    "duration": 38,
    "start_time": "2021-11-24T10:54:05.925Z"
   },
   {
    "duration": 36,
    "start_time": "2021-11-24T10:54:20.297Z"
   },
   {
    "duration": 15,
    "start_time": "2021-11-24T10:54:29.746Z"
   },
   {
    "duration": 896,
    "start_time": "2021-11-24T10:54:34.870Z"
   },
   {
    "duration": 30,
    "start_time": "2021-11-24T10:54:35.769Z"
   },
   {
    "duration": 14,
    "start_time": "2021-11-24T10:54:35.805Z"
   },
   {
    "duration": 68,
    "start_time": "2021-11-24T10:54:35.822Z"
   },
   {
    "duration": 5,
    "start_time": "2021-11-24T10:54:35.893Z"
   },
   {
    "duration": 32,
    "start_time": "2021-11-24T10:54:35.901Z"
   },
   {
    "duration": 49,
    "start_time": "2021-11-24T10:54:35.935Z"
   },
   {
    "duration": 7,
    "start_time": "2021-11-24T10:54:35.988Z"
   },
   {
    "duration": 34,
    "start_time": "2021-11-24T10:54:35.997Z"
   },
   {
    "duration": 62,
    "start_time": "2021-11-24T10:54:36.033Z"
   },
   {
    "duration": 29,
    "start_time": "2021-11-24T10:54:36.097Z"
   },
   {
    "duration": 5267,
    "start_time": "2021-11-24T10:54:36.129Z"
   },
   {
    "duration": 35,
    "start_time": "2021-11-24T10:54:41.447Z"
   },
   {
    "duration": 9,
    "start_time": "2021-11-24T10:54:48.804Z"
   },
   {
    "duration": 10,
    "start_time": "2021-11-24T10:55:02.134Z"
   },
   {
    "duration": 8,
    "start_time": "2021-11-24T10:55:16.172Z"
   },
   {
    "duration": 944,
    "start_time": "2021-11-24T10:55:22.899Z"
   },
   {
    "duration": 38,
    "start_time": "2021-11-24T10:55:23.846Z"
   },
   {
    "duration": 18,
    "start_time": "2021-11-24T10:55:23.887Z"
   },
   {
    "duration": 27,
    "start_time": "2021-11-24T10:55:23.908Z"
   },
   {
    "duration": 6,
    "start_time": "2021-11-24T10:55:23.938Z"
   },
   {
    "duration": 61,
    "start_time": "2021-11-24T10:55:23.946Z"
   },
   {
    "duration": 10,
    "start_time": "2021-11-24T10:55:24.010Z"
   },
   {
    "duration": 6,
    "start_time": "2021-11-24T10:55:24.025Z"
   },
   {
    "duration": 57,
    "start_time": "2021-11-24T10:55:24.035Z"
   },
   {
    "duration": 43,
    "start_time": "2021-11-24T10:55:24.095Z"
   },
   {
    "duration": 51,
    "start_time": "2021-11-24T10:55:24.140Z"
   },
   {
    "duration": 5924,
    "start_time": "2021-11-24T10:55:24.194Z"
   },
   {
    "duration": 67,
    "start_time": "2021-11-24T10:55:30.231Z"
   },
   {
    "duration": 44598,
    "start_time": "2021-11-24T10:55:22.451Z"
   },
   {
    "duration": 863,
    "start_time": "2021-11-24T10:56:12.231Z"
   },
   {
    "duration": 31,
    "start_time": "2021-11-24T10:56:13.097Z"
   },
   {
    "duration": 14,
    "start_time": "2021-11-24T10:56:13.132Z"
   },
   {
    "duration": 55,
    "start_time": "2021-11-24T10:56:13.150Z"
   },
   {
    "duration": 5,
    "start_time": "2021-11-24T10:56:13.208Z"
   },
   {
    "duration": 27,
    "start_time": "2021-11-24T10:56:13.216Z"
   },
   {
    "duration": 42,
    "start_time": "2021-11-24T10:56:13.246Z"
   },
   {
    "duration": 11,
    "start_time": "2021-11-24T10:56:13.291Z"
   },
   {
    "duration": 19,
    "start_time": "2021-11-24T10:56:13.305Z"
   },
   {
    "duration": 78,
    "start_time": "2021-11-24T10:56:13.327Z"
   },
   {
    "duration": 28,
    "start_time": "2021-11-24T10:56:13.408Z"
   },
   {
    "duration": 5786,
    "start_time": "2021-11-24T10:56:13.439Z"
   },
   {
    "duration": 44627,
    "start_time": "2021-11-24T10:55:42.579Z"
   },
   {
    "duration": 862,
    "start_time": "2021-11-24T10:57:34.663Z"
   },
   {
    "duration": 29,
    "start_time": "2021-11-24T10:57:35.528Z"
   },
   {
    "duration": 24,
    "start_time": "2021-11-24T10:57:35.560Z"
   },
   {
    "duration": 37,
    "start_time": "2021-11-24T10:57:35.587Z"
   },
   {
    "duration": 5,
    "start_time": "2021-11-24T10:57:35.628Z"
   },
   {
    "duration": 69,
    "start_time": "2021-11-24T10:57:35.636Z"
   },
   {
    "duration": 9,
    "start_time": "2021-11-24T10:57:35.708Z"
   },
   {
    "duration": 14,
    "start_time": "2021-11-24T10:57:35.719Z"
   },
   {
    "duration": 13,
    "start_time": "2021-11-24T10:57:35.736Z"
   },
   {
    "duration": 68,
    "start_time": "2021-11-24T10:57:35.752Z"
   },
   {
    "duration": 28,
    "start_time": "2021-11-24T10:57:35.823Z"
   },
   {
    "duration": 4972,
    "start_time": "2021-11-24T10:57:35.854Z"
   },
   {
    "duration": 55,
    "start_time": "2021-11-24T10:57:40.828Z"
   },
   {
    "duration": 12,
    "start_time": "2021-11-24T10:57:41.994Z"
   },
   {
    "duration": 18,
    "start_time": "2021-11-24T10:57:49.711Z"
   },
   {
    "duration": 15,
    "start_time": "2021-11-24T10:58:11.643Z"
   },
   {
    "duration": 63,
    "start_time": "2021-11-24T10:58:18.382Z"
   },
   {
    "duration": 45,
    "start_time": "2021-11-24T10:59:11.982Z"
   },
   {
    "duration": 15,
    "start_time": "2021-11-24T10:59:36.162Z"
   },
   {
    "duration": 846,
    "start_time": "2021-11-24T11:01:46.257Z"
   },
   {
    "duration": 487,
    "start_time": "2021-11-24T11:02:03.702Z"
   },
   {
    "duration": 512,
    "start_time": "2021-11-24T11:13:44.538Z"
   },
   {
    "duration": 515,
    "start_time": "2021-11-24T11:13:52.925Z"
   },
   {
    "duration": 741,
    "start_time": "2021-11-24T11:14:46.842Z"
   },
   {
    "duration": 490,
    "start_time": "2021-11-24T11:14:56.311Z"
   },
   {
    "duration": 523,
    "start_time": "2021-11-24T11:15:07.214Z"
   },
   {
    "duration": 480,
    "start_time": "2021-11-24T11:15:48.314Z"
   },
   {
    "duration": 361,
    "start_time": "2021-11-24T11:35:45.636Z"
   },
   {
    "duration": 348,
    "start_time": "2021-11-24T11:36:36.812Z"
   },
   {
    "duration": 304,
    "start_time": "2021-11-24T11:37:06.222Z"
   },
   {
    "duration": 427,
    "start_time": "2021-11-24T11:50:26.983Z"
   },
   {
    "duration": 700,
    "start_time": "2021-11-24T11:50:49.414Z"
   },
   {
    "duration": 904,
    "start_time": "2021-11-24T11:51:02.764Z"
   },
   {
    "duration": 35,
    "start_time": "2021-11-24T11:51:03.671Z"
   },
   {
    "duration": 14,
    "start_time": "2021-11-24T11:51:03.709Z"
   },
   {
    "duration": 24,
    "start_time": "2021-11-24T11:51:03.727Z"
   },
   {
    "duration": 7,
    "start_time": "2021-11-24T11:51:03.781Z"
   },
   {
    "duration": 40,
    "start_time": "2021-11-24T11:51:03.791Z"
   },
   {
    "duration": 11,
    "start_time": "2021-11-24T11:51:03.835Z"
   },
   {
    "duration": 36,
    "start_time": "2021-11-24T11:51:03.851Z"
   },
   {
    "duration": 20,
    "start_time": "2021-11-24T11:51:03.890Z"
   },
   {
    "duration": 42,
    "start_time": "2021-11-24T11:51:03.913Z"
   },
   {
    "duration": 37,
    "start_time": "2021-11-24T11:51:03.982Z"
   },
   {
    "duration": 5020,
    "start_time": "2021-11-24T11:51:04.022Z"
   },
   {
    "duration": 402,
    "start_time": "2021-11-24T11:51:09.045Z"
   },
   {
    "duration": 319,
    "start_time": "2021-11-24T11:52:25.675Z"
   },
   {
    "duration": 14,
    "start_time": "2021-11-24T11:52:42.214Z"
   },
   {
    "duration": 14,
    "start_time": "2021-11-24T11:52:58.734Z"
   },
   {
    "duration": 44479,
    "start_time": "2021-11-24T11:52:43.366Z"
   },
   {
    "duration": 12865,
    "start_time": "2021-11-24T12:00:00.735Z"
   },
   {
    "duration": 44350,
    "start_time": "2021-11-24T12:00:00.056Z"
   },
   {
    "duration": 7574,
    "start_time": "2021-11-24T12:00:48.392Z"
   },
   {
    "duration": 1035,
    "start_time": "2021-11-24T12:05:37.647Z"
   },
   {
    "duration": 46,
    "start_time": "2021-11-24T12:05:38.685Z"
   },
   {
    "duration": 20,
    "start_time": "2021-11-24T12:05:38.736Z"
   },
   {
    "duration": 37,
    "start_time": "2021-11-24T12:05:38.784Z"
   },
   {
    "duration": 4,
    "start_time": "2021-11-24T12:05:38.824Z"
   },
   {
    "duration": 52,
    "start_time": "2021-11-24T12:05:38.831Z"
   },
   {
    "duration": 9,
    "start_time": "2021-11-24T12:05:38.886Z"
   },
   {
    "duration": 8,
    "start_time": "2021-11-24T12:05:38.897Z"
   },
   {
    "duration": 27,
    "start_time": "2021-11-24T12:05:38.908Z"
   },
   {
    "duration": 79,
    "start_time": "2021-11-24T12:05:38.938Z"
   },
   {
    "duration": 38,
    "start_time": "2021-11-24T12:05:39.020Z"
   },
   {
    "duration": 4646,
    "start_time": "2021-11-24T12:05:39.061Z"
   },
   {
    "duration": 60,
    "start_time": "2021-11-24T12:05:43.754Z"
   },
   {
    "duration": 4601,
    "start_time": "2021-11-24T12:14:55.255Z"
   },
   {
    "duration": 3925,
    "start_time": "2021-11-24T12:16:54.146Z"
   },
   {
    "duration": 4284,
    "start_time": "2021-11-24T12:18:01.026Z"
   },
   {
    "duration": 928,
    "start_time": "2021-11-24T12:18:39.742Z"
   },
   {
    "duration": 31,
    "start_time": "2021-11-24T12:18:40.673Z"
   },
   {
    "duration": 13,
    "start_time": "2021-11-24T12:18:40.707Z"
   },
   {
    "duration": 59,
    "start_time": "2021-11-24T12:18:40.723Z"
   },
   {
    "duration": 4,
    "start_time": "2021-11-24T12:18:40.784Z"
   },
   {
    "duration": 27,
    "start_time": "2021-11-24T12:18:40.790Z"
   },
   {
    "duration": 8,
    "start_time": "2021-11-24T12:18:40.819Z"
   },
   {
    "duration": 10,
    "start_time": "2021-11-24T12:18:40.830Z"
   },
   {
    "duration": 55,
    "start_time": "2021-11-24T12:18:40.842Z"
   },
   {
    "duration": 39,
    "start_time": "2021-11-24T12:18:40.899Z"
   },
   {
    "duration": 51,
    "start_time": "2021-11-24T12:18:40.941Z"
   },
   {
    "duration": 4776,
    "start_time": "2021-11-24T12:18:40.995Z"
   },
   {
    "duration": 44379,
    "start_time": "2021-11-24T12:18:06.649Z"
   },
   {
    "duration": 4256,
    "start_time": "2021-11-24T12:19:10.455Z"
   },
   {
    "duration": 4846,
    "start_time": "2021-11-24T12:19:16.456Z"
   },
   {
    "duration": 15884,
    "start_time": "2021-11-24T12:19:40.824Z"
   },
   {
    "duration": 18220,
    "start_time": "2021-11-24T12:20:49.836Z"
   },
   {
    "duration": 15257,
    "start_time": "2021-11-24T12:23:11.137Z"
   },
   {
    "duration": 14646,
    "start_time": "2021-11-24T12:27:40.654Z"
   },
   {
    "duration": 1028,
    "start_time": "2021-11-24T12:28:00.108Z"
   },
   {
    "duration": 55,
    "start_time": "2021-11-24T12:28:01.139Z"
   },
   {
    "duration": 73,
    "start_time": "2021-11-24T12:28:01.199Z"
   },
   {
    "duration": 34,
    "start_time": "2021-11-24T12:28:01.275Z"
   },
   {
    "duration": 54,
    "start_time": "2021-11-24T12:28:01.312Z"
   },
   {
    "duration": 46,
    "start_time": "2021-11-24T12:28:01.369Z"
   },
   {
    "duration": 38,
    "start_time": "2021-11-24T12:28:01.417Z"
   },
   {
    "duration": 25,
    "start_time": "2021-11-24T12:28:01.458Z"
   },
   {
    "duration": 37,
    "start_time": "2021-11-24T12:28:01.487Z"
   },
   {
    "duration": 49,
    "start_time": "2021-11-24T12:28:01.527Z"
   },
   {
    "duration": 41,
    "start_time": "2021-11-24T12:28:01.579Z"
   },
   {
    "duration": 5074,
    "start_time": "2021-11-24T12:28:01.623Z"
   },
   {
    "duration": 15776,
    "start_time": "2021-11-24T12:28:22.397Z"
   },
   {
    "duration": 15262,
    "start_time": "2021-11-24T12:29:37.680Z"
   },
   {
    "duration": 975,
    "start_time": "2021-11-24T12:30:37.700Z"
   },
   {
    "duration": 36,
    "start_time": "2021-11-24T12:30:38.678Z"
   },
   {
    "duration": 17,
    "start_time": "2021-11-24T12:30:38.717Z"
   },
   {
    "duration": 45,
    "start_time": "2021-11-24T12:30:38.737Z"
   },
   {
    "duration": 6,
    "start_time": "2021-11-24T12:30:38.785Z"
   },
   {
    "duration": 43,
    "start_time": "2021-11-24T12:30:38.794Z"
   },
   {
    "duration": 16,
    "start_time": "2021-11-24T12:30:38.840Z"
   },
   {
    "duration": 9,
    "start_time": "2021-11-24T12:30:38.883Z"
   },
   {
    "duration": 28,
    "start_time": "2021-11-24T12:30:38.895Z"
   },
   {
    "duration": 65,
    "start_time": "2021-11-24T12:30:38.926Z"
   },
   {
    "duration": 31,
    "start_time": "2021-11-24T12:30:38.994Z"
   },
   {
    "duration": 6004,
    "start_time": "2021-11-24T12:30:39.028Z"
   },
   {
    "duration": 44441,
    "start_time": "2021-11-24T12:30:00.601Z"
   },
   {
    "duration": 5,
    "start_time": "2021-11-24T12:31:12.756Z"
   },
   {
    "duration": 886,
    "start_time": "2021-11-24T12:31:52.984Z"
   },
   {
    "duration": 37,
    "start_time": "2021-11-24T12:31:53.874Z"
   },
   {
    "duration": 13,
    "start_time": "2021-11-24T12:31:53.915Z"
   },
   {
    "duration": 55,
    "start_time": "2021-11-24T12:31:53.931Z"
   },
   {
    "duration": 12,
    "start_time": "2021-11-24T12:31:53.990Z"
   },
   {
    "duration": 28,
    "start_time": "2021-11-24T12:31:54.005Z"
   },
   {
    "duration": 9,
    "start_time": "2021-11-24T12:31:54.036Z"
   },
   {
    "duration": 7,
    "start_time": "2021-11-24T12:31:54.083Z"
   },
   {
    "duration": 21,
    "start_time": "2021-11-24T12:31:54.093Z"
   },
   {
    "duration": 70,
    "start_time": "2021-11-24T12:31:54.117Z"
   },
   {
    "duration": 33,
    "start_time": "2021-11-24T12:31:54.190Z"
   },
   {
    "duration": 5670,
    "start_time": "2021-11-24T12:31:54.226Z"
   },
   {
    "duration": 908,
    "start_time": "2021-11-24T12:33:18.404Z"
   },
   {
    "duration": 36,
    "start_time": "2021-11-24T12:33:19.315Z"
   },
   {
    "duration": 34,
    "start_time": "2021-11-24T12:33:19.355Z"
   },
   {
    "duration": 36,
    "start_time": "2021-11-24T12:33:19.392Z"
   },
   {
    "duration": 6,
    "start_time": "2021-11-24T12:33:19.431Z"
   },
   {
    "duration": 67,
    "start_time": "2021-11-24T12:33:19.440Z"
   },
   {
    "duration": 10,
    "start_time": "2021-11-24T12:33:19.510Z"
   },
   {
    "duration": 6,
    "start_time": "2021-11-24T12:33:19.526Z"
   },
   {
    "duration": 51,
    "start_time": "2021-11-24T12:33:19.535Z"
   },
   {
    "duration": 59,
    "start_time": "2021-11-24T12:33:19.589Z"
   },
   {
    "duration": 62,
    "start_time": "2021-11-24T12:33:19.651Z"
   },
   {
    "duration": 5550,
    "start_time": "2021-11-24T12:33:19.716Z"
   },
   {
    "duration": 44499,
    "start_time": "2021-11-24T12:32:40.924Z"
   },
   {
    "duration": 102,
    "start_time": "2021-11-24T12:33:31.580Z"
   },
   {
    "duration": 874,
    "start_time": "2021-11-24T12:36:27.756Z"
   },
   {
    "duration": 30,
    "start_time": "2021-11-24T12:36:28.634Z"
   },
   {
    "duration": 27,
    "start_time": "2021-11-24T12:36:28.669Z"
   },
   {
    "duration": 31,
    "start_time": "2021-11-24T12:36:28.699Z"
   },
   {
    "duration": 4,
    "start_time": "2021-11-24T12:36:28.733Z"
   },
   {
    "duration": 59,
    "start_time": "2021-11-24T12:36:28.740Z"
   },
   {
    "duration": 11,
    "start_time": "2021-11-24T12:36:28.802Z"
   },
   {
    "duration": 6,
    "start_time": "2021-11-24T12:36:28.816Z"
   },
   {
    "duration": 58,
    "start_time": "2021-11-24T12:36:28.826Z"
   },
   {
    "duration": 50,
    "start_time": "2021-11-24T12:36:28.887Z"
   },
   {
    "duration": 55,
    "start_time": "2021-11-24T12:36:28.940Z"
   },
   {
    "duration": 5224,
    "start_time": "2021-11-24T12:36:28.999Z"
   },
   {
    "duration": 12084,
    "start_time": "2021-11-24T12:36:34.226Z"
   },
   {
    "duration": 986,
    "start_time": "2021-11-24T12:38:11.269Z"
   },
   {
    "duration": 37,
    "start_time": "2021-11-24T12:38:12.259Z"
   },
   {
    "duration": 32,
    "start_time": "2021-11-24T12:38:12.300Z"
   },
   {
    "duration": 31,
    "start_time": "2021-11-24T12:38:12.334Z"
   },
   {
    "duration": 16,
    "start_time": "2021-11-24T12:38:12.368Z"
   },
   {
    "duration": 65,
    "start_time": "2021-11-24T12:38:12.388Z"
   },
   {
    "duration": 34,
    "start_time": "2021-11-24T12:38:12.456Z"
   },
   {
    "duration": 53,
    "start_time": "2021-11-24T12:38:12.493Z"
   },
   {
    "duration": 55,
    "start_time": "2021-11-24T12:38:12.550Z"
   },
   {
    "duration": 69,
    "start_time": "2021-11-24T12:38:12.609Z"
   },
   {
    "duration": 37,
    "start_time": "2021-11-24T12:38:12.680Z"
   },
   {
    "duration": 5899,
    "start_time": "2021-11-24T12:38:12.720Z"
   },
   {
    "duration": 53,
    "start_time": "2021-11-24T12:40:17.170Z"
   },
   {
    "duration": 15160,
    "start_time": "2021-11-24T12:40:38.031Z"
   },
   {
    "duration": 22711,
    "start_time": "2021-11-24T12:51:20.259Z"
   },
   {
    "duration": 6806,
    "start_time": "2021-11-24T12:53:08.095Z"
   },
   {
    "duration": 958,
    "start_time": "2021-11-24T12:53:28.099Z"
   },
   {
    "duration": 39,
    "start_time": "2021-11-24T12:53:29.060Z"
   },
   {
    "duration": 15,
    "start_time": "2021-11-24T12:53:29.104Z"
   },
   {
    "duration": 28,
    "start_time": "2021-11-24T12:53:29.122Z"
   },
   {
    "duration": 31,
    "start_time": "2021-11-24T12:53:29.153Z"
   },
   {
    "duration": 27,
    "start_time": "2021-11-24T12:53:29.186Z"
   },
   {
    "duration": 9,
    "start_time": "2021-11-24T12:53:29.216Z"
   },
   {
    "duration": 7,
    "start_time": "2021-11-24T12:53:29.228Z"
   },
   {
    "duration": 14,
    "start_time": "2021-11-24T12:53:29.282Z"
   },
   {
    "duration": 41,
    "start_time": "2021-11-24T12:53:29.300Z"
   },
   {
    "duration": 61,
    "start_time": "2021-11-24T12:53:29.344Z"
   },
   {
    "duration": 5141,
    "start_time": "2021-11-24T12:53:29.408Z"
   },
   {
    "duration": 4816,
    "start_time": "2021-11-24T12:53:55.624Z"
   },
   {
    "duration": 1065,
    "start_time": "2021-11-24T12:54:08.417Z"
   },
   {
    "duration": 42,
    "start_time": "2021-11-24T12:54:09.486Z"
   },
   {
    "duration": 17,
    "start_time": "2021-11-24T12:54:09.531Z"
   },
   {
    "duration": 44,
    "start_time": "2021-11-24T12:54:09.551Z"
   },
   {
    "duration": 6,
    "start_time": "2021-11-24T12:54:09.598Z"
   },
   {
    "duration": 29,
    "start_time": "2021-11-24T12:54:09.606Z"
   },
   {
    "duration": 45,
    "start_time": "2021-11-24T12:54:09.637Z"
   },
   {
    "duration": 7,
    "start_time": "2021-11-24T12:54:09.684Z"
   },
   {
    "duration": 18,
    "start_time": "2021-11-24T12:54:09.695Z"
   },
   {
    "duration": 82,
    "start_time": "2021-11-24T12:54:09.716Z"
   },
   {
    "duration": 29,
    "start_time": "2021-11-24T12:54:09.801Z"
   },
   {
    "duration": 5206,
    "start_time": "2021-11-24T12:54:09.832Z"
   },
   {
    "duration": 4045,
    "start_time": "2021-11-24T12:54:31.131Z"
   },
   {
    "duration": 865,
    "start_time": "2021-11-24T13:16:03.152Z"
   },
   {
    "duration": 28,
    "start_time": "2021-11-24T13:16:04.020Z"
   },
   {
    "duration": 33,
    "start_time": "2021-11-24T13:16:04.052Z"
   },
   {
    "duration": 25,
    "start_time": "2021-11-24T13:16:04.088Z"
   },
   {
    "duration": 5,
    "start_time": "2021-11-24T13:16:04.116Z"
   },
   {
    "duration": 60,
    "start_time": "2021-11-24T13:16:04.123Z"
   },
   {
    "duration": 9,
    "start_time": "2021-11-24T13:16:04.186Z"
   },
   {
    "duration": 12,
    "start_time": "2021-11-24T13:16:04.199Z"
   },
   {
    "duration": 19,
    "start_time": "2021-11-24T13:16:04.214Z"
   },
   {
    "duration": 69,
    "start_time": "2021-11-24T13:16:04.236Z"
   },
   {
    "duration": 26,
    "start_time": "2021-11-24T13:16:04.307Z"
   },
   {
    "duration": 4779,
    "start_time": "2021-11-24T13:16:04.335Z"
   },
   {
    "duration": 4115,
    "start_time": "2021-11-24T13:16:23.931Z"
   },
   {
    "duration": 17,
    "start_time": "2021-11-24T13:16:51.837Z"
   },
   {
    "duration": 17,
    "start_time": "2021-11-24T13:16:58.111Z"
   },
   {
    "duration": 1142,
    "start_time": "2021-11-24T13:17:03.436Z"
   },
   {
    "duration": 29,
    "start_time": "2021-11-24T13:17:04.581Z"
   },
   {
    "duration": 12,
    "start_time": "2021-11-24T13:17:04.613Z"
   },
   {
    "duration": 57,
    "start_time": "2021-11-24T13:17:04.628Z"
   },
   {
    "duration": 5,
    "start_time": "2021-11-24T13:17:04.687Z"
   },
   {
    "duration": 27,
    "start_time": "2021-11-24T13:17:04.694Z"
   },
   {
    "duration": 8,
    "start_time": "2021-11-24T13:17:04.723Z"
   },
   {
    "duration": 11,
    "start_time": "2021-11-24T13:17:04.734Z"
   },
   {
    "duration": 16,
    "start_time": "2021-11-24T13:17:04.782Z"
   },
   {
    "duration": 40,
    "start_time": "2021-11-24T13:17:04.802Z"
   },
   {
    "duration": 61,
    "start_time": "2021-11-24T13:17:04.844Z"
   },
   {
    "duration": 4742,
    "start_time": "2021-11-24T13:17:04.907Z"
   },
   {
    "duration": 59,
    "start_time": "2021-11-24T13:17:09.652Z"
   },
   {
    "duration": 15482,
    "start_time": "2021-11-24T13:17:26.794Z"
   },
   {
    "duration": 4054,
    "start_time": "2021-11-24T13:18:24.564Z"
   },
   {
    "duration": 99,
    "start_time": "2021-11-24T13:19:49.424Z"
   },
   {
    "duration": 4711,
    "start_time": "2021-11-24T13:19:53.771Z"
   },
   {
    "duration": 981,
    "start_time": "2021-11-24T13:20:03.993Z"
   },
   {
    "duration": 30,
    "start_time": "2021-11-24T13:20:04.976Z"
   },
   {
    "duration": 16,
    "start_time": "2021-11-24T13:20:05.010Z"
   },
   {
    "duration": 52,
    "start_time": "2021-11-24T13:20:05.030Z"
   },
   {
    "duration": 4,
    "start_time": "2021-11-24T13:20:05.085Z"
   },
   {
    "duration": 28,
    "start_time": "2021-11-24T13:20:05.093Z"
   },
   {
    "duration": 7,
    "start_time": "2021-11-24T13:20:05.124Z"
   },
   {
    "duration": 12,
    "start_time": "2021-11-24T13:20:05.134Z"
   },
   {
    "duration": 16,
    "start_time": "2021-11-24T13:20:05.183Z"
   },
   {
    "duration": 40,
    "start_time": "2021-11-24T13:20:05.202Z"
   },
   {
    "duration": 59,
    "start_time": "2021-11-24T13:20:05.244Z"
   },
   {
    "duration": 5242,
    "start_time": "2021-11-24T13:20:05.305Z"
   },
   {
    "duration": 15094,
    "start_time": "2021-11-24T13:20:25.768Z"
   },
   {
    "duration": 15276,
    "start_time": "2021-11-24T13:20:49.564Z"
   },
   {
    "duration": 10957,
    "start_time": "2021-11-24T13:24:30.092Z"
   },
   {
    "duration": 2715,
    "start_time": "2021-11-24T13:25:16.866Z"
   },
   {
    "duration": 2550,
    "start_time": "2021-11-24T13:25:40.372Z"
   },
   {
    "duration": 2555,
    "start_time": "2021-11-24T13:25:50.192Z"
   },
   {
    "duration": 4025,
    "start_time": "2021-11-24T13:26:00.683Z"
   },
   {
    "duration": 9790,
    "start_time": "2021-11-24T13:28:13.833Z"
   },
   {
    "duration": 99,
    "start_time": "2021-11-24T13:28:32.882Z"
   },
   {
    "duration": 100,
    "start_time": "2021-11-24T13:28:36.284Z"
   },
   {
    "duration": 2414,
    "start_time": "2021-11-24T13:28:41.852Z"
   },
   {
    "duration": 4027,
    "start_time": "2021-11-24T13:29:59.872Z"
   },
   {
    "duration": 7,
    "start_time": "2021-11-24T13:31:55.373Z"
   },
   {
    "duration": 392,
    "start_time": "2021-11-24T13:32:06.703Z"
   },
   {
    "duration": 7,
    "start_time": "2021-11-24T13:32:09.573Z"
   },
   {
    "duration": 384,
    "start_time": "2021-11-24T13:32:31.242Z"
   },
   {
    "duration": 3797,
    "start_time": "2021-11-24T13:32:35.601Z"
   },
   {
    "duration": 2974,
    "start_time": "2021-11-24T13:33:23.785Z"
   },
   {
    "duration": 15,
    "start_time": "2021-11-24T13:36:14.685Z"
   },
   {
    "duration": 21,
    "start_time": "2021-11-24T13:37:31.534Z"
   },
   {
    "duration": 13,
    "start_time": "2021-11-24T13:39:28.814Z"
   },
   {
    "duration": 11,
    "start_time": "2021-11-24T13:39:31.664Z"
   },
   {
    "duration": 21,
    "start_time": "2021-11-24T13:39:40.544Z"
   },
   {
    "duration": 15,
    "start_time": "2021-11-24T13:46:04.243Z"
   },
   {
    "duration": 9598,
    "start_time": "2021-11-24T13:46:47.485Z"
   },
   {
    "duration": 8710,
    "start_time": "2021-11-24T13:47:11.314Z"
   },
   {
    "duration": 14,
    "start_time": "2021-11-24T13:47:27.385Z"
   },
   {
    "duration": 14,
    "start_time": "2021-11-24T13:47:30.946Z"
   },
   {
    "duration": 17,
    "start_time": "2021-11-24T13:47:38.654Z"
   },
   {
    "duration": 21,
    "start_time": "2021-11-24T13:51:08.819Z"
   },
   {
    "duration": 25,
    "start_time": "2021-11-24T13:51:12.805Z"
   },
   {
    "duration": 31,
    "start_time": "2021-11-24T13:51:25.905Z"
   },
   {
    "duration": 40,
    "start_time": "2021-11-24T13:51:32.865Z"
   },
   {
    "duration": 32,
    "start_time": "2021-11-24T13:51:46.446Z"
   },
   {
    "duration": 26,
    "start_time": "2021-11-24T13:51:51.426Z"
   },
   {
    "duration": 329,
    "start_time": "2021-11-25T05:44:56.991Z"
   },
   {
    "duration": 801,
    "start_time": "2021-11-25T05:45:05.482Z"
   },
   {
    "duration": 29,
    "start_time": "2021-11-25T05:45:06.287Z"
   },
   {
    "duration": 27,
    "start_time": "2021-11-25T05:45:06.330Z"
   },
   {
    "duration": 65,
    "start_time": "2021-11-25T05:45:06.360Z"
   },
   {
    "duration": 19,
    "start_time": "2021-11-25T05:45:06.427Z"
   },
   {
    "duration": 63,
    "start_time": "2021-11-25T05:45:06.448Z"
   },
   {
    "duration": 22,
    "start_time": "2021-11-25T05:45:06.513Z"
   },
   {
    "duration": 33,
    "start_time": "2021-11-25T05:45:06.537Z"
   },
   {
    "duration": 46,
    "start_time": "2021-11-25T05:45:06.574Z"
   },
   {
    "duration": 76,
    "start_time": "2021-11-25T05:45:06.622Z"
   },
   {
    "duration": 45,
    "start_time": "2021-11-25T05:45:06.700Z"
   },
   {
    "duration": 4711,
    "start_time": "2021-11-25T05:45:06.747Z"
   },
   {
    "duration": 11500,
    "start_time": "2021-11-25T05:45:11.460Z"
   },
   {
    "duration": 35,
    "start_time": "2021-11-25T05:45:23.009Z"
   },
   {
    "duration": 17,
    "start_time": "2021-11-25T05:46:35.105Z"
   },
   {
    "duration": 364,
    "start_time": "2021-11-25T05:46:50.375Z"
   },
   {
    "duration": 17,
    "start_time": "2021-11-25T05:47:05.965Z"
   },
   {
    "duration": 324,
    "start_time": "2021-11-25T05:48:02.536Z"
   },
   {
    "duration": 18,
    "start_time": "2021-11-25T05:48:17.026Z"
   },
   {
    "duration": 16,
    "start_time": "2021-11-25T05:48:57.306Z"
   },
   {
    "duration": 17,
    "start_time": "2021-11-25T05:49:35.005Z"
   },
   {
    "duration": 16,
    "start_time": "2021-11-25T05:49:44.007Z"
   },
   {
    "duration": 15,
    "start_time": "2021-11-25T05:49:49.605Z"
   },
   {
    "duration": 18,
    "start_time": "2021-11-25T05:50:05.435Z"
   },
   {
    "duration": 283,
    "start_time": "2021-11-25T05:51:05.445Z"
   },
   {
    "duration": 24,
    "start_time": "2021-11-25T05:51:12.493Z"
   },
   {
    "duration": 21,
    "start_time": "2021-11-25T05:53:01.215Z"
   },
   {
    "duration": 47499,
    "start_time": "2021-11-25T05:52:30.184Z"
   },
   {
    "duration": 110,
    "start_time": "2021-11-25T05:53:26.784Z"
   },
   {
    "duration": 16,
    "start_time": "2021-11-25T05:53:29.205Z"
   },
   {
    "duration": 241,
    "start_time": "2021-11-25T05:53:43.525Z"
   },
   {
    "duration": 244,
    "start_time": "2021-11-25T05:53:48.685Z"
   },
   {
    "duration": 16,
    "start_time": "2021-11-25T05:53:56.695Z"
   },
   {
    "duration": 277,
    "start_time": "2021-11-25T05:54:16.805Z"
   },
   {
    "duration": 17,
    "start_time": "2021-11-25T06:12:07.790Z"
   },
   {
    "duration": 15,
    "start_time": "2021-11-25T06:13:22.429Z"
   },
   {
    "duration": 19,
    "start_time": "2021-11-25T06:13:30.620Z"
   },
   {
    "duration": 14,
    "start_time": "2021-11-25T06:13:33.639Z"
   },
   {
    "duration": 16,
    "start_time": "2021-11-25T06:13:56.740Z"
   },
   {
    "duration": 389,
    "start_time": "2021-11-25T06:14:05.758Z"
   },
   {
    "duration": 14,
    "start_time": "2021-11-25T06:14:25.859Z"
   },
   {
    "duration": 14,
    "start_time": "2021-11-25T06:14:48.229Z"
   },
   {
    "duration": 290,
    "start_time": "2021-11-25T06:14:56.019Z"
   },
   {
    "duration": 15,
    "start_time": "2021-11-25T06:14:59.929Z"
   },
   {
    "duration": 320,
    "start_time": "2021-11-25T06:16:17.339Z"
   },
   {
    "duration": 306,
    "start_time": "2021-11-25T06:16:20.237Z"
   },
   {
    "duration": 15,
    "start_time": "2021-11-25T06:16:36.750Z"
   },
   {
    "duration": 16,
    "start_time": "2021-11-25T06:16:45.389Z"
   },
   {
    "duration": 13,
    "start_time": "2021-11-25T06:19:56.269Z"
   },
   {
    "duration": 16,
    "start_time": "2021-11-25T06:20:02.050Z"
   },
   {
    "duration": 19,
    "start_time": "2021-11-25T06:20:23.521Z"
   },
   {
    "duration": 24,
    "start_time": "2021-11-25T06:20:31.259Z"
   },
   {
    "duration": 24,
    "start_time": "2021-11-25T06:20:50.561Z"
   },
   {
    "duration": 21,
    "start_time": "2021-11-25T06:21:00.480Z"
   },
   {
    "duration": 29,
    "start_time": "2021-11-25T06:21:08.377Z"
   },
   {
    "duration": 22,
    "start_time": "2021-11-25T06:22:11.619Z"
   },
   {
    "duration": 21,
    "start_time": "2021-11-25T06:22:36.749Z"
   },
   {
    "duration": 293,
    "start_time": "2021-11-25T06:22:48.599Z"
   },
   {
    "duration": 21,
    "start_time": "2021-11-25T06:22:51.509Z"
   },
   {
    "duration": 343,
    "start_time": "2021-11-25T06:22:56.748Z"
   },
   {
    "duration": 20,
    "start_time": "2021-11-25T06:23:05.560Z"
   },
   {
    "duration": 17,
    "start_time": "2021-11-25T06:23:30.831Z"
   },
   {
    "duration": 442,
    "start_time": "2021-11-25T06:24:06.069Z"
   },
   {
    "duration": 20,
    "start_time": "2021-11-25T06:24:17.361Z"
   },
   {
    "duration": 19,
    "start_time": "2021-11-25T06:24:32.510Z"
   },
   {
    "duration": 105,
    "start_time": "2021-11-25T06:24:43.870Z"
   },
   {
    "duration": 21,
    "start_time": "2021-11-25T06:24:46.290Z"
   },
   {
    "duration": 24,
    "start_time": "2021-11-25T06:25:13.990Z"
   },
   {
    "duration": 28,
    "start_time": "2021-11-25T06:29:16.250Z"
   },
   {
    "duration": 15,
    "start_time": "2021-11-25T06:30:31.610Z"
   },
   {
    "duration": 13,
    "start_time": "2021-11-25T06:30:35.389Z"
   },
   {
    "duration": 10,
    "start_time": "2021-11-25T06:32:41.919Z"
   },
   {
    "duration": 58,
    "start_time": "2021-11-25T06:33:29.482Z"
   },
   {
    "duration": 81,
    "start_time": "2021-11-25T06:33:39.119Z"
   },
   {
    "duration": 112,
    "start_time": "2021-11-25T06:33:55.557Z"
   },
   {
    "duration": 54,
    "start_time": "2021-11-25T06:34:49.414Z"
   },
   {
    "duration": 136,
    "start_time": "2021-11-25T06:35:09.399Z"
   },
   {
    "duration": 102,
    "start_time": "2021-11-25T06:38:23.358Z"
   },
   {
    "duration": 107,
    "start_time": "2021-11-25T06:38:49.939Z"
   },
   {
    "duration": 264,
    "start_time": "2021-11-25T06:39:35.639Z"
   },
   {
    "duration": 83,
    "start_time": "2021-11-25T06:40:09.249Z"
   },
   {
    "duration": 163,
    "start_time": "2021-11-25T06:40:15.029Z"
   },
   {
    "duration": 101,
    "start_time": "2021-11-25T06:40:24.930Z"
   },
   {
    "duration": 29,
    "start_time": "2021-11-25T06:40:43.399Z"
   },
   {
    "duration": 77,
    "start_time": "2021-11-25T06:40:53.263Z"
   },
   {
    "duration": 190,
    "start_time": "2021-11-25T06:41:00.680Z"
   },
   {
    "duration": 77,
    "start_time": "2021-11-25T06:42:09.471Z"
   },
   {
    "duration": 817,
    "start_time": "2021-11-25T06:42:44.109Z"
   },
   {
    "duration": 28,
    "start_time": "2021-11-25T06:42:44.929Z"
   },
   {
    "duration": 17,
    "start_time": "2021-11-25T06:42:44.960Z"
   },
   {
    "duration": 23,
    "start_time": "2021-11-25T06:42:44.980Z"
   },
   {
    "duration": 5,
    "start_time": "2021-11-25T06:42:45.029Z"
   },
   {
    "duration": 25,
    "start_time": "2021-11-25T06:42:45.036Z"
   },
   {
    "duration": 8,
    "start_time": "2021-11-25T06:42:45.064Z"
   },
   {
    "duration": 10,
    "start_time": "2021-11-25T06:42:45.075Z"
   },
   {
    "duration": 56,
    "start_time": "2021-11-25T06:42:45.088Z"
   },
   {
    "duration": 102,
    "start_time": "2021-11-25T06:42:45.146Z"
   },
   {
    "duration": 39,
    "start_time": "2021-11-25T06:42:45.250Z"
   },
   {
    "duration": 26,
    "start_time": "2021-11-25T06:42:45.329Z"
   },
   {
    "duration": 4611,
    "start_time": "2021-11-25T06:42:45.358Z"
   },
   {
    "duration": 11419,
    "start_time": "2021-11-25T06:42:49.971Z"
   },
   {
    "duration": 36,
    "start_time": "2021-11-25T06:43:01.393Z"
   },
   {
    "duration": 434,
    "start_time": "2021-11-25T06:44:04.850Z"
   },
   {
    "duration": 86,
    "start_time": "2021-11-25T06:44:21.580Z"
   },
   {
    "duration": 146,
    "start_time": "2021-11-25T06:44:54.326Z"
   },
   {
    "duration": 831,
    "start_time": "2021-11-25T06:46:40.615Z"
   },
   {
    "duration": 28,
    "start_time": "2021-11-25T06:46:41.448Z"
   },
   {
    "duration": 16,
    "start_time": "2021-11-25T06:46:41.479Z"
   },
   {
    "duration": 45,
    "start_time": "2021-11-25T06:46:41.497Z"
   },
   {
    "duration": 4,
    "start_time": "2021-11-25T06:46:41.544Z"
   },
   {
    "duration": 32,
    "start_time": "2021-11-25T06:46:41.550Z"
   },
   {
    "duration": 7,
    "start_time": "2021-11-25T06:46:41.584Z"
   },
   {
    "duration": 35,
    "start_time": "2021-11-25T06:46:41.595Z"
   },
   {
    "duration": 39,
    "start_time": "2021-11-25T06:46:41.633Z"
   },
   {
    "duration": 160,
    "start_time": "2021-11-25T06:46:41.674Z"
   },
   {
    "duration": 39,
    "start_time": "2021-11-25T06:46:41.836Z"
   },
   {
    "duration": 60,
    "start_time": "2021-11-25T06:46:41.878Z"
   },
   {
    "duration": 4517,
    "start_time": "2021-11-25T06:46:41.940Z"
   },
   {
    "duration": 11138,
    "start_time": "2021-11-25T06:46:46.460Z"
   },
   {
    "duration": 30,
    "start_time": "2021-11-25T06:46:57.600Z"
   },
   {
    "duration": 452,
    "start_time": "2021-11-25T06:48:56.394Z"
   },
   {
    "duration": 357,
    "start_time": "2021-11-25T06:49:10.484Z"
   },
   {
    "duration": 107,
    "start_time": "2021-11-25T06:49:39.555Z"
   },
   {
    "duration": 138,
    "start_time": "2021-11-25T06:52:32.433Z"
   },
   {
    "duration": 806,
    "start_time": "2021-11-25T06:52:48.835Z"
   },
   {
    "duration": 28,
    "start_time": "2021-11-25T06:52:49.644Z"
   },
   {
    "duration": 19,
    "start_time": "2021-11-25T06:52:49.676Z"
   },
   {
    "duration": 49,
    "start_time": "2021-11-25T06:52:49.698Z"
   },
   {
    "duration": 3,
    "start_time": "2021-11-25T06:52:49.750Z"
   },
   {
    "duration": 26,
    "start_time": "2021-11-25T06:52:49.756Z"
   },
   {
    "duration": 7,
    "start_time": "2021-11-25T06:52:49.784Z"
   },
   {
    "duration": 40,
    "start_time": "2021-11-25T06:52:49.794Z"
   },
   {
    "duration": 28,
    "start_time": "2021-11-25T06:52:49.839Z"
   },
   {
    "duration": 175,
    "start_time": "2021-11-25T06:52:49.870Z"
   },
   {
    "duration": 38,
    "start_time": "2021-11-25T06:52:50.047Z"
   },
   {
    "duration": 55,
    "start_time": "2021-11-25T06:52:50.088Z"
   },
   {
    "duration": 4468,
    "start_time": "2021-11-25T06:52:50.145Z"
   },
   {
    "duration": 10937,
    "start_time": "2021-11-25T06:52:54.616Z"
   },
   {
    "duration": 26,
    "start_time": "2021-11-25T06:53:05.555Z"
   },
   {
    "duration": 112,
    "start_time": "2021-11-25T06:58:17.155Z"
   },
   {
    "duration": 835,
    "start_time": "2021-11-25T06:58:22.632Z"
   },
   {
    "duration": 33,
    "start_time": "2021-11-25T06:58:23.471Z"
   },
   {
    "duration": 30,
    "start_time": "2021-11-25T06:58:23.507Z"
   },
   {
    "duration": 27,
    "start_time": "2021-11-25T06:58:23.540Z"
   },
   {
    "duration": 5,
    "start_time": "2021-11-25T06:58:23.569Z"
   },
   {
    "duration": 166,
    "start_time": "2021-11-25T06:58:23.576Z"
   },
   {
    "duration": 24,
    "start_time": "2021-11-25T06:58:23.745Z"
   },
   {
    "duration": 22,
    "start_time": "2021-11-25T06:58:23.772Z"
   },
   {
    "duration": 35,
    "start_time": "2021-11-25T06:58:23.798Z"
   },
   {
    "duration": 19,
    "start_time": "2021-11-25T06:58:23.835Z"
   },
   {
    "duration": 48,
    "start_time": "2021-11-25T06:58:23.856Z"
   },
   {
    "duration": 38,
    "start_time": "2021-11-25T06:58:23.907Z"
   },
   {
    "duration": 4563,
    "start_time": "2021-11-25T06:58:23.948Z"
   },
   {
    "duration": 11174,
    "start_time": "2021-11-25T06:58:28.514Z"
   },
   {
    "duration": 23,
    "start_time": "2021-11-25T06:58:39.690Z"
   },
   {
    "duration": 6,
    "start_time": "2021-11-25T06:59:55.263Z"
   },
   {
    "duration": 805,
    "start_time": "2021-11-25T07:02:06.922Z"
   },
   {
    "duration": 29,
    "start_time": "2021-11-25T07:02:07.730Z"
   },
   {
    "duration": 14,
    "start_time": "2021-11-25T07:02:07.762Z"
   },
   {
    "duration": 55,
    "start_time": "2021-11-25T07:02:07.779Z"
   },
   {
    "duration": 5,
    "start_time": "2021-11-25T07:02:07.836Z"
   },
   {
    "duration": 133,
    "start_time": "2021-11-25T07:02:07.844Z"
   },
   {
    "duration": 50,
    "start_time": "2021-11-25T07:02:07.979Z"
   },
   {
    "duration": 23,
    "start_time": "2021-11-25T07:02:08.033Z"
   },
   {
    "duration": 7,
    "start_time": "2021-11-25T07:02:08.059Z"
   },
   {
    "duration": 11,
    "start_time": "2021-11-25T07:02:08.069Z"
   },
   {
    "duration": 49,
    "start_time": "2021-11-25T07:02:08.082Z"
   },
   {
    "duration": 38,
    "start_time": "2021-11-25T07:02:08.133Z"
   },
   {
    "duration": 26,
    "start_time": "2021-11-25T07:02:08.174Z"
   },
   {
    "duration": 4434,
    "start_time": "2021-11-25T07:02:08.202Z"
   },
   {
    "duration": 10928,
    "start_time": "2021-11-25T07:02:12.638Z"
   },
   {
    "duration": 24,
    "start_time": "2021-11-25T07:02:23.569Z"
   },
   {
    "duration": 81,
    "start_time": "2021-11-25T07:06:47.589Z"
   },
   {
    "duration": 2450,
    "start_time": "2021-11-25T07:19:56.029Z"
   },
   {
    "duration": 768,
    "start_time": "2021-11-25T07:22:58.463Z"
   },
   {
    "duration": 27,
    "start_time": "2021-11-25T07:22:59.234Z"
   },
   {
    "duration": 15,
    "start_time": "2021-11-25T07:22:59.264Z"
   },
   {
    "duration": 52,
    "start_time": "2021-11-25T07:22:59.282Z"
   },
   {
    "duration": 4,
    "start_time": "2021-11-25T07:22:59.336Z"
   },
   {
    "duration": 123,
    "start_time": "2021-11-25T07:22:59.343Z"
   },
   {
    "duration": 5,
    "start_time": "2021-11-25T07:22:59.469Z"
   },
   {
    "duration": 69,
    "start_time": "2021-11-25T07:22:59.476Z"
   },
   {
    "duration": 15,
    "start_time": "2021-11-25T07:22:59.548Z"
   },
   {
    "duration": 13,
    "start_time": "2021-11-25T07:22:59.566Z"
   },
   {
    "duration": 22,
    "start_time": "2021-11-25T07:22:59.582Z"
   },
   {
    "duration": 56,
    "start_time": "2021-11-25T07:22:59.606Z"
   },
   {
    "duration": 26,
    "start_time": "2021-11-25T07:22:59.665Z"
   },
   {
    "duration": 4535,
    "start_time": "2021-11-25T07:22:59.693Z"
   },
   {
    "duration": 11114,
    "start_time": "2021-11-25T07:23:04.231Z"
   },
   {
    "duration": 24,
    "start_time": "2021-11-25T07:23:15.347Z"
   },
   {
    "duration": 2535,
    "start_time": "2021-11-25T07:23:39.894Z"
   },
   {
    "duration": 384,
    "start_time": "2021-11-25T07:26:37.780Z"
   },
   {
    "duration": 94,
    "start_time": "2021-11-25T07:26:48.031Z"
   },
   {
    "duration": 249,
    "start_time": "2021-11-25T07:31:25.953Z"
   },
   {
    "duration": 303,
    "start_time": "2021-11-25T07:41:26.333Z"
   },
   {
    "duration": 5,
    "start_time": "2021-11-25T07:41:37.892Z"
   },
   {
    "duration": 5,
    "start_time": "2021-11-25T07:42:07.923Z"
   },
   {
    "duration": 14,
    "start_time": "2021-11-25T07:44:19.224Z"
   },
   {
    "duration": 1022,
    "start_time": "2021-11-25T07:45:32.135Z"
   },
   {
    "duration": 1027,
    "start_time": "2021-11-25T07:45:49.492Z"
   },
   {
    "duration": 1024,
    "start_time": "2021-11-25T07:46:10.473Z"
   },
   {
    "duration": 251,
    "start_time": "2021-11-25T07:48:09.683Z"
   },
   {
    "duration": 13,
    "start_time": "2021-11-25T07:48:27.574Z"
   },
   {
    "duration": 16,
    "start_time": "2021-11-25T07:48:41.903Z"
   },
   {
    "duration": 15,
    "start_time": "2021-11-25T07:51:29.891Z"
   },
   {
    "duration": 16,
    "start_time": "2021-11-25T07:52:05.143Z"
   },
   {
    "duration": 15,
    "start_time": "2021-11-25T07:52:14.782Z"
   },
   {
    "duration": 274,
    "start_time": "2021-11-25T07:52:25.363Z"
   },
   {
    "duration": 289,
    "start_time": "2021-11-25T07:52:28.673Z"
   },
   {
    "duration": 265,
    "start_time": "2021-11-25T07:52:34.573Z"
   },
   {
    "duration": 822,
    "start_time": "2021-11-25T07:52:43.744Z"
   },
   {
    "duration": 29,
    "start_time": "2021-11-25T07:52:44.569Z"
   },
   {
    "duration": 36,
    "start_time": "2021-11-25T07:52:44.602Z"
   },
   {
    "duration": 29,
    "start_time": "2021-11-25T07:52:44.641Z"
   },
   {
    "duration": 30,
    "start_time": "2021-11-25T07:52:44.672Z"
   },
   {
    "duration": 157,
    "start_time": "2021-11-25T07:52:44.705Z"
   },
   {
    "duration": 5,
    "start_time": "2021-11-25T07:52:44.864Z"
   },
   {
    "duration": 462,
    "start_time": "2021-11-25T07:52:44.872Z"
   },
   {
    "duration": 47442,
    "start_time": "2021-11-25T07:51:57.896Z"
   },
   {
    "duration": 47440,
    "start_time": "2021-11-25T07:51:57.900Z"
   },
   {
    "duration": 47432,
    "start_time": "2021-11-25T07:51:57.909Z"
   },
   {
    "duration": 47431,
    "start_time": "2021-11-25T07:51:57.912Z"
   },
   {
    "duration": 47430,
    "start_time": "2021-11-25T07:51:57.915Z"
   },
   {
    "duration": 31,
    "start_time": "2021-11-25T07:53:00.275Z"
   },
   {
    "duration": 100,
    "start_time": "2021-11-25T07:56:10.713Z"
   },
   {
    "duration": 275,
    "start_time": "2021-11-25T07:56:15.054Z"
   },
   {
    "duration": 30,
    "start_time": "2021-11-25T07:56:22.561Z"
   },
   {
    "duration": 37,
    "start_time": "2021-11-25T07:56:26.426Z"
   },
   {
    "duration": 32,
    "start_time": "2021-11-25T07:56:29.744Z"
   },
   {
    "duration": 336,
    "start_time": "2021-11-25T07:56:42.805Z"
   },
   {
    "duration": 295,
    "start_time": "2021-11-25T07:56:53.954Z"
   },
   {
    "duration": 435,
    "start_time": "2021-11-25T07:57:03.564Z"
   },
   {
    "duration": 340,
    "start_time": "2021-11-25T07:57:10.696Z"
   },
   {
    "duration": 36,
    "start_time": "2021-11-25T07:57:18.923Z"
   },
   {
    "duration": 33,
    "start_time": "2021-11-25T07:57:25.735Z"
   },
   {
    "duration": 33,
    "start_time": "2021-11-25T07:57:30.934Z"
   },
   {
    "duration": 31,
    "start_time": "2021-11-25T07:57:33.534Z"
   },
   {
    "duration": 30,
    "start_time": "2021-11-25T07:57:48.576Z"
   },
   {
    "duration": 34,
    "start_time": "2021-11-25T07:58:01.965Z"
   },
   {
    "duration": 50,
    "start_time": "2021-11-25T07:58:11.955Z"
   },
   {
    "duration": 32,
    "start_time": "2021-11-25T07:58:22.674Z"
   },
   {
    "duration": 42,
    "start_time": "2021-11-25T08:06:18.294Z"
   },
   {
    "duration": 80,
    "start_time": "2021-11-25T08:06:27.234Z"
   },
   {
    "duration": 32,
    "start_time": "2021-11-25T08:06:31.454Z"
   },
   {
    "duration": 23,
    "start_time": "2021-11-25T08:07:09.382Z"
   },
   {
    "duration": 23,
    "start_time": "2021-11-25T08:08:14.204Z"
   },
   {
    "duration": 288,
    "start_time": "2021-11-25T08:11:41.917Z"
   },
   {
    "duration": 263,
    "start_time": "2021-11-25T08:11:59.674Z"
   },
   {
    "duration": 298,
    "start_time": "2021-11-25T08:12:35.635Z"
   },
   {
    "duration": 21,
    "start_time": "2021-11-25T08:12:58.897Z"
   },
   {
    "duration": 21,
    "start_time": "2021-11-25T08:13:56.281Z"
   },
   {
    "duration": 3905,
    "start_time": "2021-11-25T08:20:47.331Z"
   },
   {
    "duration": 28,
    "start_time": "2021-11-25T08:21:05.715Z"
   },
   {
    "duration": 30,
    "start_time": "2021-11-25T08:21:23.394Z"
   },
   {
    "duration": 25,
    "start_time": "2021-11-25T08:22:03.592Z"
   },
   {
    "duration": 33,
    "start_time": "2021-11-25T08:22:12.796Z"
   },
   {
    "duration": 29,
    "start_time": "2021-11-25T08:22:21.014Z"
   },
   {
    "duration": 3838,
    "start_time": "2021-11-25T08:23:16.206Z"
   },
   {
    "duration": 3334,
    "start_time": "2021-11-25T08:23:23.411Z"
   },
   {
    "duration": 3508,
    "start_time": "2021-11-25T08:23:34.146Z"
   },
   {
    "duration": 27,
    "start_time": "2021-11-25T08:24:00.156Z"
   },
   {
    "duration": 262,
    "start_time": "2021-11-25T08:24:37.425Z"
   },
   {
    "duration": 27,
    "start_time": "2021-11-25T08:24:53.156Z"
   },
   {
    "duration": 305,
    "start_time": "2021-11-25T08:26:38.266Z"
   },
   {
    "duration": 314,
    "start_time": "2021-11-25T08:26:43.524Z"
   },
   {
    "duration": 22,
    "start_time": "2021-11-25T08:26:50.275Z"
   },
   {
    "duration": 22,
    "start_time": "2021-11-25T08:27:24.415Z"
   },
   {
    "duration": 315,
    "start_time": "2021-11-25T08:27:35.215Z"
   },
   {
    "duration": 29,
    "start_time": "2021-11-25T08:27:53.385Z"
   },
   {
    "duration": 379,
    "start_time": "2021-11-25T08:32:29.213Z"
   },
   {
    "duration": 274,
    "start_time": "2021-11-25T08:35:20.344Z"
   },
   {
    "duration": 29,
    "start_time": "2021-11-25T08:35:30.964Z"
   },
   {
    "duration": 39,
    "start_time": "2021-11-25T08:36:33.404Z"
   },
   {
    "duration": 33,
    "start_time": "2021-11-25T08:37:26.802Z"
   },
   {
    "duration": 30,
    "start_time": "2021-11-25T08:38:16.694Z"
   },
   {
    "duration": 29,
    "start_time": "2021-11-25T08:39:48.862Z"
   },
   {
    "duration": 31,
    "start_time": "2021-11-25T08:41:30.484Z"
   },
   {
    "duration": 31,
    "start_time": "2021-11-25T08:41:58.715Z"
   },
   {
    "duration": 36,
    "start_time": "2021-11-25T08:43:03.064Z"
   },
   {
    "duration": 32,
    "start_time": "2021-11-25T08:45:48.135Z"
   },
   {
    "duration": 272,
    "start_time": "2021-11-25T08:46:46.204Z"
   },
   {
    "duration": 35,
    "start_time": "2021-11-25T08:50:23.305Z"
   },
   {
    "duration": 33,
    "start_time": "2021-11-25T08:50:34.817Z"
   },
   {
    "duration": 33,
    "start_time": "2021-11-25T08:50:49.483Z"
   },
   {
    "duration": 34,
    "start_time": "2021-11-25T08:51:11.765Z"
   },
   {
    "duration": 27,
    "start_time": "2021-11-25T10:05:28.433Z"
   },
   {
    "duration": 9,
    "start_time": "2021-11-25T10:11:48.535Z"
   },
   {
    "duration": 259,
    "start_time": "2021-11-25T10:11:56.483Z"
   },
   {
    "duration": 11,
    "start_time": "2021-11-25T10:12:05.481Z"
   },
   {
    "duration": 9,
    "start_time": "2021-11-25T10:12:50.745Z"
   },
   {
    "duration": 16,
    "start_time": "2021-11-25T10:12:53.764Z"
   },
   {
    "duration": 99,
    "start_time": "2021-11-25T10:13:28.851Z"
   },
   {
    "duration": 86,
    "start_time": "2021-11-25T10:13:40.924Z"
   },
   {
    "duration": 266,
    "start_time": "2021-11-25T10:13:48.293Z"
   },
   {
    "duration": 229,
    "start_time": "2021-11-25T10:13:55.282Z"
   },
   {
    "duration": 11,
    "start_time": "2021-11-25T10:14:10.383Z"
   },
   {
    "duration": 23,
    "start_time": "2021-11-25T10:14:48.934Z"
   },
   {
    "duration": 21,
    "start_time": "2021-11-25T10:15:01.754Z"
   },
   {
    "duration": 21,
    "start_time": "2021-11-25T10:16:36.754Z"
   },
   {
    "duration": 272,
    "start_time": "2021-11-25T10:17:15.073Z"
   },
   {
    "duration": 268,
    "start_time": "2021-11-25T10:17:21.505Z"
   },
   {
    "duration": 80,
    "start_time": "2021-11-25T10:17:36.444Z"
   },
   {
    "duration": 21,
    "start_time": "2021-11-25T10:17:39.714Z"
   },
   {
    "duration": 19,
    "start_time": "2021-11-25T10:17:51.155Z"
   },
   {
    "duration": 264,
    "start_time": "2021-11-25T10:18:10.092Z"
   },
   {
    "duration": 268,
    "start_time": "2021-11-25T10:18:12.603Z"
   },
   {
    "duration": 22,
    "start_time": "2021-11-25T10:18:23.154Z"
   },
   {
    "duration": 21,
    "start_time": "2021-11-25T10:23:55.768Z"
   },
   {
    "duration": 19,
    "start_time": "2021-11-25T10:24:48.373Z"
   },
   {
    "duration": 24,
    "start_time": "2021-11-25T10:25:09.884Z"
   },
   {
    "duration": 27,
    "start_time": "2021-11-25T10:25:20.114Z"
   },
   {
    "duration": 26,
    "start_time": "2021-11-25T10:25:29.334Z"
   },
   {
    "duration": 88,
    "start_time": "2021-11-25T10:35:55.773Z"
   },
   {
    "duration": 113,
    "start_time": "2021-11-25T10:36:08.075Z"
   },
   {
    "duration": 1338,
    "start_time": "2021-11-25T10:39:15.246Z"
   },
   {
    "duration": 278,
    "start_time": "2021-11-25T10:39:22.027Z"
   },
   {
    "duration": 306,
    "start_time": "2021-11-25T10:39:39.954Z"
   },
   {
    "duration": 335,
    "start_time": "2021-11-25T10:40:48.285Z"
   },
   {
    "duration": 3110,
    "start_time": "2021-11-25T10:41:19.785Z"
   },
   {
    "duration": 7164,
    "start_time": "2021-11-25T10:41:46.865Z"
   },
   {
    "duration": 274,
    "start_time": "2021-11-25T10:41:59.896Z"
   },
   {
    "duration": 274,
    "start_time": "2021-11-25T10:42:04.485Z"
   },
   {
    "duration": 33,
    "start_time": "2021-11-25T10:42:08.354Z"
   },
   {
    "duration": 26,
    "start_time": "2021-11-25T10:42:16.386Z"
   },
   {
    "duration": 31,
    "start_time": "2021-11-25T10:42:24.665Z"
   },
   {
    "duration": 266,
    "start_time": "2021-11-25T10:42:38.516Z"
   },
   {
    "duration": 51,
    "start_time": "2021-11-25T10:43:34.413Z"
   },
   {
    "duration": 49,
    "start_time": "2021-11-25T10:43:40.754Z"
   },
   {
    "duration": 119,
    "start_time": "2021-11-25T10:43:43.785Z"
   },
   {
    "duration": 61,
    "start_time": "2021-11-25T10:43:51.386Z"
   },
   {
    "duration": 58,
    "start_time": "2021-11-25T10:49:29.315Z"
   },
   {
    "duration": 39,
    "start_time": "2021-11-25T10:50:31.296Z"
   },
   {
    "duration": 37,
    "start_time": "2021-11-25T10:50:35.925Z"
   },
   {
    "duration": 29,
    "start_time": "2021-11-25T10:50:52.036Z"
   },
   {
    "duration": 24,
    "start_time": "2021-11-25T10:51:02.097Z"
   },
   {
    "duration": 25,
    "start_time": "2021-11-25T10:51:10.714Z"
   },
   {
    "duration": 29,
    "start_time": "2021-11-25T10:51:25.534Z"
   },
   {
    "duration": 42,
    "start_time": "2021-11-25T10:51:37.335Z"
   },
   {
    "duration": 33,
    "start_time": "2021-11-25T10:52:24.964Z"
   },
   {
    "duration": 37,
    "start_time": "2021-11-25T10:52:33.024Z"
   },
   {
    "duration": 37,
    "start_time": "2021-11-25T10:52:36.685Z"
   },
   {
    "duration": 50,
    "start_time": "2021-11-25T10:53:00.536Z"
   },
   {
    "duration": 54,
    "start_time": "2021-11-25T10:53:32.284Z"
   },
   {
    "duration": 56,
    "start_time": "2021-11-25T10:54:11.715Z"
   },
   {
    "duration": 53,
    "start_time": "2021-11-25T10:54:51.184Z"
   },
   {
    "duration": 265,
    "start_time": "2021-11-25T10:55:15.720Z"
   },
   {
    "duration": 43,
    "start_time": "2021-11-25T10:56:07.111Z"
   },
   {
    "duration": 41,
    "start_time": "2021-11-25T10:56:39.114Z"
   },
   {
    "duration": 43,
    "start_time": "2021-11-25T10:56:55.603Z"
   },
   {
    "duration": 44,
    "start_time": "2021-11-25T10:57:00.674Z"
   },
   {
    "duration": 44,
    "start_time": "2021-11-25T10:57:20.273Z"
   },
   {
    "duration": 44,
    "start_time": "2021-11-25T10:57:23.673Z"
   },
   {
    "duration": 41,
    "start_time": "2021-11-25T10:57:39.906Z"
   },
   {
    "duration": 42,
    "start_time": "2021-11-25T10:58:08.633Z"
   },
   {
    "duration": 42,
    "start_time": "2021-11-25T10:58:50.594Z"
   },
   {
    "duration": 42,
    "start_time": "2021-11-25T10:59:55.602Z"
   },
   {
    "duration": 49,
    "start_time": "2021-11-25T11:03:57.531Z"
   },
   {
    "duration": 49,
    "start_time": "2021-11-25T11:04:12.305Z"
   },
   {
    "duration": 269,
    "start_time": "2021-11-25T11:06:55.134Z"
   },
   {
    "duration": 248,
    "start_time": "2021-11-25T11:07:23.966Z"
   },
   {
    "duration": 1017,
    "start_time": "2021-11-25T11:07:33.556Z"
   },
   {
    "duration": 51,
    "start_time": "2021-11-25T11:07:39.035Z"
   },
   {
    "duration": 53,
    "start_time": "2021-11-25T11:08:38.124Z"
   },
   {
    "duration": 246,
    "start_time": "2021-11-25T11:09:47.784Z"
   },
   {
    "duration": 49,
    "start_time": "2021-11-25T11:09:51.454Z"
   },
   {
    "duration": 53,
    "start_time": "2021-11-25T11:10:26.754Z"
   },
   {
    "duration": 52,
    "start_time": "2021-11-25T11:13:32.175Z"
   },
   {
    "duration": 102,
    "start_time": "2021-11-25T11:14:29.994Z"
   },
   {
    "duration": 52,
    "start_time": "2021-11-25T11:14:46.344Z"
   },
   {
    "duration": 266,
    "start_time": "2021-11-25T11:15:45.055Z"
   },
   {
    "duration": 273,
    "start_time": "2021-11-25T11:15:49.934Z"
   },
   {
    "duration": 288,
    "start_time": "2021-11-25T11:16:11.826Z"
   },
   {
    "duration": 38,
    "start_time": "2021-11-25T11:16:17.649Z"
   },
   {
    "duration": 47,
    "start_time": "2021-11-25T11:16:33.315Z"
   },
   {
    "duration": 43,
    "start_time": "2021-11-25T11:16:48.825Z"
   },
   {
    "duration": 6441,
    "start_time": "2021-11-25T12:36:45.532Z"
   },
   {
    "duration": 6473,
    "start_time": "2021-11-25T12:36:55.084Z"
   },
   {
    "duration": 6406,
    "start_time": "2021-11-25T12:37:25.892Z"
   },
   {
    "duration": 1287,
    "start_time": "2021-11-25T12:38:16.614Z"
   },
   {
    "duration": 6509,
    "start_time": "2021-11-25T12:38:21.862Z"
   },
   {
    "duration": 6447,
    "start_time": "2021-11-25T12:38:46.223Z"
   },
   {
    "duration": 6224,
    "start_time": "2021-11-25T12:39:01.001Z"
   },
   {
    "duration": 6343,
    "start_time": "2021-11-25T12:40:58.194Z"
   },
   {
    "duration": 41,
    "start_time": "2021-11-25T12:42:02.544Z"
   },
   {
    "duration": 40,
    "start_time": "2021-11-25T12:42:44.045Z"
   },
   {
    "duration": 82,
    "start_time": "2021-11-25T12:47:20.964Z"
   },
   {
    "duration": 83,
    "start_time": "2021-11-25T12:47:29.633Z"
   },
   {
    "duration": 7,
    "start_time": "2021-11-25T12:47:46.113Z"
   },
   {
    "duration": 8,
    "start_time": "2021-11-25T12:48:05.143Z"
   },
   {
    "duration": 8,
    "start_time": "2021-11-25T12:48:10.113Z"
   },
   {
    "duration": 17,
    "start_time": "2021-11-25T12:48:41.213Z"
   },
   {
    "duration": 83,
    "start_time": "2021-11-25T12:48:57.123Z"
   },
   {
    "duration": 8,
    "start_time": "2021-11-25T12:49:00.264Z"
   },
   {
    "duration": 6432,
    "start_time": "2021-11-25T12:50:07.234Z"
   },
   {
    "duration": 29,
    "start_time": "2021-11-25T12:50:24.212Z"
   },
   {
    "duration": 825,
    "start_time": "2021-11-25T12:50:57.516Z"
   },
   {
    "duration": 28,
    "start_time": "2021-11-25T12:50:58.344Z"
   },
   {
    "duration": 13,
    "start_time": "2021-11-25T12:50:58.375Z"
   },
   {
    "duration": 50,
    "start_time": "2021-11-25T12:50:58.391Z"
   },
   {
    "duration": 6,
    "start_time": "2021-11-25T12:50:58.444Z"
   },
   {
    "duration": 120,
    "start_time": "2021-11-25T12:50:58.453Z"
   },
   {
    "duration": 4,
    "start_time": "2021-11-25T12:50:58.575Z"
   },
   {
    "duration": 85,
    "start_time": "2021-11-25T12:50:58.582Z"
   },
   {
    "duration": 65,
    "start_time": "2021-11-25T12:50:58.670Z"
   },
   {
    "duration": 27,
    "start_time": "2021-11-25T12:50:58.737Z"
   },
   {
    "duration": 4599,
    "start_time": "2021-11-25T12:50:58.767Z"
   },
   {
    "duration": 15661,
    "start_time": "2021-11-25T12:51:03.369Z"
   },
   {
    "duration": 80,
    "start_time": "2021-11-25T12:51:19.069Z"
   },
   {
    "duration": 8,
    "start_time": "2021-11-25T12:51:19.152Z"
   },
   {
    "duration": 56,
    "start_time": "2021-11-25T12:51:19.164Z"
   },
   {
    "duration": 48,
    "start_time": "2021-11-25T12:51:39.613Z"
   },
   {
    "duration": 9,
    "start_time": "2021-11-25T12:51:48.336Z"
   },
   {
    "duration": 10,
    "start_time": "2021-11-25T12:52:00.106Z"
   },
   {
    "duration": 19,
    "start_time": "2021-11-25T13:15:16.373Z"
   },
   {
    "duration": 19,
    "start_time": "2021-11-25T13:15:25.398Z"
   },
   {
    "duration": 18,
    "start_time": "2021-11-25T13:15:32.316Z"
   },
   {
    "duration": 21,
    "start_time": "2021-11-25T13:15:41.964Z"
   },
   {
    "duration": 21,
    "start_time": "2021-11-25T13:17:09.037Z"
   },
   {
    "duration": 411,
    "start_time": "2021-11-25T16:06:54.025Z"
   },
   {
    "duration": 374,
    "start_time": "2021-11-25T16:07:03.289Z"
   },
   {
    "duration": 844,
    "start_time": "2021-11-25T16:07:09.719Z"
   },
   {
    "duration": 29,
    "start_time": "2021-11-25T16:07:10.565Z"
   },
   {
    "duration": 19,
    "start_time": "2021-11-25T16:07:10.597Z"
   },
   {
    "duration": 49,
    "start_time": "2021-11-25T16:07:10.618Z"
   },
   {
    "duration": 5,
    "start_time": "2021-11-25T16:07:10.670Z"
   },
   {
    "duration": 124,
    "start_time": "2021-11-25T16:07:10.677Z"
   },
   {
    "duration": 5,
    "start_time": "2021-11-25T16:07:10.804Z"
   },
   {
    "duration": 35,
    "start_time": "2021-11-25T16:07:10.860Z"
   },
   {
    "duration": 63,
    "start_time": "2021-11-25T16:07:10.898Z"
   },
   {
    "duration": 27,
    "start_time": "2021-11-25T16:07:10.964Z"
   },
   {
    "duration": 4853,
    "start_time": "2021-11-25T16:07:10.994Z"
   },
   {
    "duration": 15210,
    "start_time": "2021-11-25T16:07:15.859Z"
   },
   {
    "duration": 36,
    "start_time": "2021-11-25T16:07:31.071Z"
   },
   {
    "duration": 78,
    "start_time": "2021-11-25T16:07:31.109Z"
   },
   {
    "duration": 1062,
    "start_time": "2021-11-25T16:07:30.604Z"
   },
   {
    "duration": 373,
    "start_time": "2021-11-25T16:07:36.295Z"
   },
   {
    "duration": 4710,
    "start_time": "2021-11-25T16:08:16.560Z"
   },
   {
    "duration": 367,
    "start_time": "2021-11-25T16:08:54.269Z"
   },
   {
    "duration": 24,
    "start_time": "2021-11-25T16:08:55.286Z"
   },
   {
    "duration": 26,
    "start_time": "2021-11-25T16:09:40.489Z"
   },
   {
    "duration": 31,
    "start_time": "2021-11-25T16:09:44.272Z"
   },
   {
    "duration": 29,
    "start_time": "2021-11-25T16:10:18.945Z"
   },
   {
    "duration": 29,
    "start_time": "2021-11-25T16:10:22.256Z"
   },
   {
    "duration": 28,
    "start_time": "2021-11-25T16:10:41.179Z"
   },
   {
    "duration": 130,
    "start_time": "2021-11-25T16:10:54.006Z"
   },
   {
    "duration": 28,
    "start_time": "2021-11-25T16:11:12.401Z"
   },
   {
    "duration": 33,
    "start_time": "2021-11-25T16:11:37.327Z"
   },
   {
    "duration": 28,
    "start_time": "2021-11-25T16:11:52.177Z"
   },
   {
    "duration": 34,
    "start_time": "2021-11-25T16:13:55.404Z"
   },
   {
    "duration": 28,
    "start_time": "2021-11-25T16:14:18.181Z"
   },
   {
    "duration": 28,
    "start_time": "2021-11-25T16:14:50.954Z"
   },
   {
    "duration": 41,
    "start_time": "2021-11-25T16:17:15.810Z"
   },
   {
    "duration": 601,
    "start_time": "2021-11-25T16:20:03.910Z"
   },
   {
    "duration": 35,
    "start_time": "2021-11-25T16:20:29.666Z"
   },
   {
    "duration": 34,
    "start_time": "2021-11-25T16:20:34.648Z"
   },
   {
    "duration": 36,
    "start_time": "2021-11-25T16:20:42.693Z"
   },
   {
    "duration": 40,
    "start_time": "2021-11-25T16:20:55.816Z"
   },
   {
    "duration": 46,
    "start_time": "2021-11-25T16:22:51.092Z"
   },
   {
    "duration": 39,
    "start_time": "2021-11-25T16:26:54.275Z"
   },
   {
    "duration": 41,
    "start_time": "2021-11-25T16:27:42.356Z"
   },
   {
    "duration": 39,
    "start_time": "2021-11-25T16:28:32.245Z"
   },
   {
    "duration": 59,
    "start_time": "2021-11-25T16:30:08.596Z"
   },
   {
    "duration": 54,
    "start_time": "2021-11-25T16:30:45.998Z"
   },
   {
    "duration": 40,
    "start_time": "2021-11-25T16:31:01.507Z"
   },
   {
    "duration": 43,
    "start_time": "2021-11-25T16:31:09.370Z"
   },
   {
    "duration": 40,
    "start_time": "2021-11-25T16:31:20.704Z"
   },
   {
    "duration": 40,
    "start_time": "2021-11-25T16:32:42.829Z"
   },
   {
    "duration": 40,
    "start_time": "2021-11-25T16:32:47.996Z"
   },
   {
    "duration": 45,
    "start_time": "2021-11-25T16:33:36.915Z"
   },
   {
    "duration": 45,
    "start_time": "2021-11-25T16:33:42.016Z"
   },
   {
    "duration": 44,
    "start_time": "2021-11-25T16:33:58.924Z"
   },
   {
    "duration": 46,
    "start_time": "2021-11-25T16:34:19.097Z"
   },
   {
    "duration": 42,
    "start_time": "2021-11-25T16:34:33.076Z"
   },
   {
    "duration": 44,
    "start_time": "2021-11-25T16:38:24.822Z"
   },
   {
    "duration": 42,
    "start_time": "2021-11-25T16:38:45.050Z"
   },
   {
    "duration": 44,
    "start_time": "2021-11-25T16:45:31.164Z"
   },
   {
    "duration": 44,
    "start_time": "2021-11-25T16:45:33.843Z"
   },
   {
    "duration": 38,
    "start_time": "2021-11-25T16:45:46.852Z"
   },
   {
    "duration": 45,
    "start_time": "2021-11-25T16:46:33.342Z"
   },
   {
    "duration": 4696,
    "start_time": "2021-11-25T16:47:55.042Z"
   },
   {
    "duration": 41,
    "start_time": "2021-11-25T16:48:41.048Z"
   },
   {
    "duration": 889,
    "start_time": "2021-11-25T16:49:01.841Z"
   },
   {
    "duration": 32,
    "start_time": "2021-11-25T16:49:02.733Z"
   },
   {
    "duration": 18,
    "start_time": "2021-11-25T16:49:02.768Z"
   },
   {
    "duration": 28,
    "start_time": "2021-11-25T16:49:02.789Z"
   },
   {
    "duration": 40,
    "start_time": "2021-11-25T16:49:02.820Z"
   },
   {
    "duration": 136,
    "start_time": "2021-11-25T16:49:02.863Z"
   },
   {
    "duration": 7,
    "start_time": "2021-11-25T16:49:03.002Z"
   },
   {
    "duration": 96,
    "start_time": "2021-11-25T16:49:03.012Z"
   },
   {
    "duration": 76,
    "start_time": "2021-11-25T16:49:03.111Z"
   },
   {
    "duration": 28,
    "start_time": "2021-11-25T16:49:03.189Z"
   },
   {
    "duration": 39,
    "start_time": "2021-11-25T16:49:03.220Z"
   },
   {
    "duration": 16277,
    "start_time": "2021-11-25T16:49:03.262Z"
   },
   {
    "duration": 52,
    "start_time": "2021-11-25T16:49:19.542Z"
   },
   {
    "duration": 86,
    "start_time": "2021-11-25T16:49:19.597Z"
   },
   {
    "duration": 47,
    "start_time": "2021-11-25T16:49:19.686Z"
   },
   {
    "duration": 4935,
    "start_time": "2021-11-25T16:50:59.447Z"
   },
   {
    "duration": 31,
    "start_time": "2021-11-25T16:56:01.106Z"
   },
   {
    "duration": 39,
    "start_time": "2021-11-25T16:57:56.817Z"
   },
   {
    "duration": 43,
    "start_time": "2021-11-25T16:58:25.051Z"
   },
   {
    "duration": 36,
    "start_time": "2021-11-25T16:58:43.701Z"
   },
   {
    "duration": 34,
    "start_time": "2021-11-25T16:59:03.139Z"
   },
   {
    "duration": 35,
    "start_time": "2021-11-25T17:00:15.897Z"
   },
   {
    "duration": 4764,
    "start_time": "2021-11-25T17:03:46.727Z"
   },
   {
    "duration": 15,
    "start_time": "2021-11-25T17:05:10.894Z"
   },
   {
    "duration": 13,
    "start_time": "2021-11-25T17:05:18.119Z"
   },
   {
    "duration": 18,
    "start_time": "2021-11-25T17:05:35.914Z"
   },
   {
    "duration": 20,
    "start_time": "2021-11-25T17:05:46.606Z"
   },
   {
    "duration": 21,
    "start_time": "2021-11-25T17:06:58.714Z"
   },
   {
    "duration": 14,
    "start_time": "2021-11-25T17:08:41.594Z"
   },
   {
    "duration": 10,
    "start_time": "2021-11-25T17:09:22.514Z"
   },
   {
    "duration": 1806,
    "start_time": "2021-11-25T17:17:29.939Z"
   },
   {
    "duration": 1810,
    "start_time": "2021-11-25T17:18:59.649Z"
   },
   {
    "duration": 21,
    "start_time": "2021-11-25T17:20:15.546Z"
   },
   {
    "duration": 20,
    "start_time": "2021-11-25T17:20:41.195Z"
   },
   {
    "duration": 23,
    "start_time": "2021-11-25T17:20:48.120Z"
   },
   {
    "duration": 12,
    "start_time": "2021-11-25T17:26:57.289Z"
   },
   {
    "duration": 8,
    "start_time": "2021-11-25T17:27:16.408Z"
   },
   {
    "duration": 4881,
    "start_time": "2021-11-25T17:33:56.562Z"
   },
   {
    "duration": 9229,
    "start_time": "2021-11-25T17:37:33.340Z"
   },
   {
    "duration": 4045,
    "start_time": "2021-11-25T17:39:18.726Z"
   },
   {
    "duration": 4098,
    "start_time": "2021-11-25T17:39:56.020Z"
   },
   {
    "duration": 21,
    "start_time": "2021-11-25T17:40:28.008Z"
   },
   {
    "duration": 3833,
    "start_time": "2021-11-25T17:40:30.367Z"
   },
   {
    "duration": 893,
    "start_time": "2021-11-25T17:40:54.632Z"
   },
   {
    "duration": 38,
    "start_time": "2021-11-25T17:40:55.529Z"
   },
   {
    "duration": 26,
    "start_time": "2021-11-25T17:40:55.571Z"
   },
   {
    "duration": 24,
    "start_time": "2021-11-25T17:40:55.600Z"
   },
   {
    "duration": 4,
    "start_time": "2021-11-25T17:40:55.626Z"
   },
   {
    "duration": 156,
    "start_time": "2021-11-25T17:40:55.633Z"
   },
   {
    "duration": 5,
    "start_time": "2021-11-25T17:40:55.791Z"
   },
   {
    "duration": 74,
    "start_time": "2021-11-25T17:40:55.799Z"
   },
   {
    "duration": 6,
    "start_time": "2021-11-25T17:40:55.876Z"
   },
   {
    "duration": 27,
    "start_time": "2021-11-25T17:40:55.885Z"
   },
   {
    "duration": 4968,
    "start_time": "2021-11-25T17:40:55.914Z"
   },
   {
    "duration": 28,
    "start_time": "2021-11-25T17:41:00.885Z"
   },
   {
    "duration": 16,
    "start_time": "2021-11-25T17:41:00.916Z"
   },
   {
    "duration": 25,
    "start_time": "2021-11-25T17:41:00.961Z"
   },
   {
    "duration": 14783,
    "start_time": "2021-11-25T17:41:00.990Z"
   },
   {
    "duration": 28,
    "start_time": "2021-11-25T17:41:15.775Z"
   },
   {
    "duration": 73,
    "start_time": "2021-11-25T17:41:15.806Z"
   },
   {
    "duration": 20,
    "start_time": "2021-11-25T17:41:15.882Z"
   },
   {
    "duration": 55,
    "start_time": "2021-11-25T17:41:15.905Z"
   },
   {
    "duration": 14952,
    "start_time": "2021-11-25T17:42:03.598Z"
   },
   {
    "duration": 36,
    "start_time": "2021-11-25T17:44:54.345Z"
   },
   {
    "duration": 135,
    "start_time": "2021-11-25T17:46:24.886Z"
   },
   {
    "duration": 20,
    "start_time": "2021-11-25T17:46:38.063Z"
   },
   {
    "duration": 22,
    "start_time": "2021-11-25T17:47:35.658Z"
   },
   {
    "duration": 521,
    "start_time": "2021-11-25T17:48:37.536Z"
   },
   {
    "duration": 1065,
    "start_time": "2021-11-25T17:48:36.995Z"
   },
   {
    "duration": 880,
    "start_time": "2021-11-25T17:48:40.026Z"
   },
   {
    "duration": 32,
    "start_time": "2021-11-25T17:48:40.909Z"
   },
   {
    "duration": 13,
    "start_time": "2021-11-25T17:48:40.959Z"
   },
   {
    "duration": 30,
    "start_time": "2021-11-25T17:48:40.974Z"
   },
   {
    "duration": 8,
    "start_time": "2021-11-25T17:48:41.007Z"
   },
   {
    "duration": 174,
    "start_time": "2021-11-25T17:48:41.018Z"
   },
   {
    "duration": 6,
    "start_time": "2021-11-25T17:48:41.195Z"
   },
   {
    "duration": 77,
    "start_time": "2021-11-25T17:48:41.205Z"
   },
   {
    "duration": 5,
    "start_time": "2021-11-25T17:48:41.285Z"
   },
   {
    "duration": 27,
    "start_time": "2021-11-25T17:48:41.292Z"
   },
   {
    "duration": 4813,
    "start_time": "2021-11-25T17:48:41.321Z"
   },
   {
    "duration": 6,
    "start_time": "2021-11-25T17:48:46.137Z"
   },
   {
    "duration": 18,
    "start_time": "2021-11-25T17:48:46.160Z"
   },
   {
    "duration": 38,
    "start_time": "2021-11-25T17:48:46.181Z"
   },
   {
    "duration": 14649,
    "start_time": "2021-11-25T17:48:46.222Z"
   },
   {
    "duration": 29,
    "start_time": "2021-11-25T17:49:00.873Z"
   },
   {
    "duration": 74,
    "start_time": "2021-11-25T17:49:00.904Z"
   },
   {
    "duration": 41,
    "start_time": "2021-11-25T17:49:00.981Z"
   },
   {
    "duration": 59,
    "start_time": "2021-11-25T17:49:01.025Z"
   },
   {
    "duration": 952,
    "start_time": "2021-11-25T17:49:32.949Z"
   },
   {
    "duration": 29,
    "start_time": "2021-11-25T17:49:33.904Z"
   },
   {
    "duration": 25,
    "start_time": "2021-11-25T17:49:33.935Z"
   },
   {
    "duration": 24,
    "start_time": "2021-11-25T17:49:33.963Z"
   },
   {
    "duration": 4,
    "start_time": "2021-11-25T17:49:33.989Z"
   },
   {
    "duration": 164,
    "start_time": "2021-11-25T17:49:33.995Z"
   },
   {
    "duration": 5,
    "start_time": "2021-11-25T17:49:36.560Z"
   },
   {
    "duration": 39,
    "start_time": "2021-11-25T17:49:36.794Z"
   },
   {
    "duration": 6,
    "start_time": "2021-11-25T17:49:36.836Z"
   },
   {
    "duration": 32,
    "start_time": "2021-11-25T17:49:36.845Z"
   },
   {
    "duration": 4960,
    "start_time": "2021-11-25T17:49:36.880Z"
   },
   {
    "duration": 17,
    "start_time": "2021-11-25T17:49:41.843Z"
   },
   {
    "duration": 28,
    "start_time": "2021-11-25T17:49:41.863Z"
   },
   {
    "duration": 24,
    "start_time": "2021-11-25T17:49:41.894Z"
   },
   {
    "duration": 14551,
    "start_time": "2021-11-25T17:49:41.921Z"
   },
   {
    "duration": 29,
    "start_time": "2021-11-25T17:49:56.475Z"
   },
   {
    "duration": 73,
    "start_time": "2021-11-25T17:49:56.506Z"
   },
   {
    "duration": 38,
    "start_time": "2021-11-25T17:49:56.581Z"
   },
   {
    "duration": 51,
    "start_time": "2021-11-25T17:49:56.621Z"
   },
   {
    "duration": 978,
    "start_time": "2021-11-25T17:51:58.310Z"
   },
   {
    "duration": 961,
    "start_time": "2021-11-25T17:52:29.420Z"
   },
   {
    "duration": 10709,
    "start_time": "2021-11-25T17:52:33.102Z"
   },
   {
    "duration": 884,
    "start_time": "2021-11-25T17:53:00.331Z"
   },
   {
    "duration": 41,
    "start_time": "2021-11-25T17:53:01.218Z"
   },
   {
    "duration": 19,
    "start_time": "2021-11-25T17:53:01.264Z"
   },
   {
    "duration": 20,
    "start_time": "2021-11-25T17:53:01.286Z"
   },
   {
    "duration": 6,
    "start_time": "2021-11-25T17:53:01.309Z"
   },
   {
    "duration": 185,
    "start_time": "2021-11-25T17:53:01.318Z"
   },
   {
    "duration": 54,
    "start_time": "2021-11-25T17:53:01.506Z"
   },
   {
    "duration": 35,
    "start_time": "2021-11-25T17:53:01.562Z"
   },
   {
    "duration": 7,
    "start_time": "2021-11-25T17:53:01.601Z"
   },
   {
    "duration": 62,
    "start_time": "2021-11-25T17:53:01.610Z"
   },
   {
    "duration": 4938,
    "start_time": "2021-11-25T17:53:01.674Z"
   },
   {
    "duration": 4,
    "start_time": "2021-11-25T17:53:06.615Z"
   },
   {
    "duration": 28,
    "start_time": "2021-11-25T17:53:06.621Z"
   },
   {
    "duration": 34,
    "start_time": "2021-11-25T17:53:06.651Z"
   },
   {
    "duration": 15141,
    "start_time": "2021-11-25T17:53:06.688Z"
   },
   {
    "duration": 40,
    "start_time": "2021-11-25T17:53:21.831Z"
   },
   {
    "duration": 91,
    "start_time": "2021-11-25T17:53:21.873Z"
   },
   {
    "duration": 39,
    "start_time": "2021-11-25T17:53:21.966Z"
   },
   {
    "duration": 55,
    "start_time": "2021-11-25T17:53:22.007Z"
   },
   {
    "duration": 1105,
    "start_time": "2021-11-25T17:53:33.438Z"
   },
   {
    "duration": 29,
    "start_time": "2021-11-25T17:53:34.546Z"
   },
   {
    "duration": 13,
    "start_time": "2021-11-25T17:53:34.579Z"
   },
   {
    "duration": 17,
    "start_time": "2021-11-25T17:53:34.595Z"
   },
   {
    "duration": 4,
    "start_time": "2021-11-25T17:53:34.615Z"
   },
   {
    "duration": 145,
    "start_time": "2021-11-25T17:53:34.660Z"
   },
   {
    "duration": 5,
    "start_time": "2021-11-25T17:53:34.808Z"
   },
   {
    "duration": 37,
    "start_time": "2021-11-25T17:53:34.863Z"
   },
   {
    "duration": 7,
    "start_time": "2021-11-25T17:53:34.903Z"
   },
   {
    "duration": 68,
    "start_time": "2021-11-25T17:53:34.913Z"
   },
   {
    "duration": 4716,
    "start_time": "2021-11-25T17:53:34.984Z"
   },
   {
    "duration": 5,
    "start_time": "2021-11-25T17:53:39.702Z"
   },
   {
    "duration": 19,
    "start_time": "2021-11-25T17:53:39.709Z"
   },
   {
    "duration": 40,
    "start_time": "2021-11-25T17:53:39.731Z"
   },
   {
    "duration": 14700,
    "start_time": "2021-11-25T17:53:39.774Z"
   },
   {
    "duration": 28,
    "start_time": "2021-11-25T17:53:54.476Z"
   },
   {
    "duration": 70,
    "start_time": "2021-11-25T17:53:54.506Z"
   },
   {
    "duration": 36,
    "start_time": "2021-11-25T17:53:54.578Z"
   },
   {
    "duration": 58,
    "start_time": "2021-11-25T17:53:54.616Z"
   },
   {
    "duration": 134,
    "start_time": "2021-11-25T17:57:24.976Z"
   },
   {
    "duration": 23,
    "start_time": "2021-11-25T17:57:31.556Z"
   },
   {
    "duration": 113,
    "start_time": "2021-11-25T18:03:12.186Z"
   },
   {
    "duration": 126,
    "start_time": "2021-11-25T18:07:20.555Z"
   },
   {
    "duration": 7394,
    "start_time": "2021-11-25T18:12:10.915Z"
   },
   {
    "duration": 7313,
    "start_time": "2021-11-25T18:12:42.151Z"
   },
   {
    "duration": 12764,
    "start_time": "2021-11-25T18:12:55.911Z"
   },
   {
    "duration": 11328,
    "start_time": "2021-11-25T18:13:52.019Z"
   },
   {
    "duration": 7405,
    "start_time": "2021-11-25T18:14:07.185Z"
   },
   {
    "duration": 7696,
    "start_time": "2021-11-25T18:15:03.732Z"
   },
   {
    "duration": 5540,
    "start_time": "2021-11-25T18:16:29.869Z"
   },
   {
    "duration": 7688,
    "start_time": "2021-11-25T18:16:40.902Z"
   },
   {
    "duration": 47,
    "start_time": "2021-11-25T18:18:03.935Z"
   },
   {
    "duration": 49,
    "start_time": "2021-11-25T18:19:07.084Z"
   },
   {
    "duration": 57,
    "start_time": "2021-11-25T18:19:16.461Z"
   },
   {
    "duration": 659,
    "start_time": "2021-11-25T18:20:12.408Z"
   },
   {
    "duration": 244,
    "start_time": "2021-11-25T18:20:16.611Z"
   },
   {
    "duration": 29,
    "start_time": "2021-11-25T18:20:19.663Z"
   },
   {
    "duration": 28,
    "start_time": "2021-11-25T18:21:23.902Z"
   },
   {
    "duration": 65,
    "start_time": "2021-11-25T18:25:10.543Z"
   },
   {
    "duration": 54,
    "start_time": "2021-11-25T18:25:31.181Z"
   },
   {
    "duration": 52,
    "start_time": "2021-11-25T18:26:04.306Z"
   },
   {
    "duration": 41,
    "start_time": "2021-11-25T18:27:12.463Z"
   },
   {
    "duration": 40,
    "start_time": "2021-11-25T18:28:48.997Z"
   },
   {
    "duration": 40,
    "start_time": "2021-11-25T18:29:16.274Z"
   },
   {
    "duration": 43,
    "start_time": "2021-11-25T18:29:30.437Z"
   },
   {
    "duration": 114,
    "start_time": "2021-11-25T18:30:43.099Z"
   },
   {
    "duration": 38,
    "start_time": "2021-11-25T18:30:56.967Z"
   },
   {
    "duration": 38,
    "start_time": "2021-11-25T18:31:05.627Z"
   },
   {
    "duration": 40,
    "start_time": "2021-11-25T18:31:16.778Z"
   },
   {
    "duration": 42,
    "start_time": "2021-11-25T18:31:31.932Z"
   },
   {
    "duration": 40,
    "start_time": "2021-11-25T18:31:33.377Z"
   },
   {
    "duration": 46,
    "start_time": "2021-11-25T18:31:50.190Z"
   },
   {
    "duration": 55,
    "start_time": "2021-11-25T18:32:00.988Z"
   },
   {
    "duration": 40,
    "start_time": "2021-11-25T18:32:06.356Z"
   },
   {
    "duration": 38,
    "start_time": "2021-11-25T18:32:12.131Z"
   },
   {
    "duration": 388,
    "start_time": "2021-11-25T18:32:50.732Z"
   },
   {
    "duration": 39,
    "start_time": "2021-11-25T18:32:57.643Z"
   },
   {
    "duration": 40,
    "start_time": "2021-11-25T18:33:15.471Z"
   },
   {
    "duration": 41,
    "start_time": "2021-11-25T18:33:34.394Z"
   },
   {
    "duration": 45,
    "start_time": "2021-11-25T18:33:52.055Z"
   },
   {
    "duration": 120,
    "start_time": "2021-11-25T18:33:54.866Z"
   },
   {
    "duration": 45,
    "start_time": "2021-11-25T18:34:00.954Z"
   },
   {
    "duration": 41,
    "start_time": "2021-11-25T18:34:08.859Z"
   },
   {
    "duration": 450,
    "start_time": "2021-11-25T18:36:32.024Z"
   },
   {
    "duration": 39,
    "start_time": "2021-11-25T18:36:36.862Z"
   },
   {
    "duration": 28,
    "start_time": "2021-11-25T18:41:32.982Z"
   },
   {
    "duration": 9,
    "start_time": "2021-11-25T18:43:54.594Z"
   },
   {
    "duration": 473,
    "start_time": "2021-11-25T18:44:10.673Z"
   },
   {
    "duration": 26,
    "start_time": "2021-11-25T18:44:16.603Z"
   },
   {
    "duration": 13,
    "start_time": "2021-11-25T18:44:39.114Z"
   },
   {
    "duration": 406,
    "start_time": "2021-11-25T18:44:47.764Z"
   },
   {
    "duration": 398,
    "start_time": "2021-11-25T18:44:55.994Z"
   },
   {
    "duration": 28,
    "start_time": "2021-11-25T18:44:59.990Z"
   },
   {
    "duration": 15,
    "start_time": "2021-11-25T18:45:24.720Z"
   },
   {
    "duration": 6,
    "start_time": "2021-11-25T18:48:27.546Z"
   },
   {
    "duration": 446,
    "start_time": "2021-11-25T18:48:35.989Z"
   },
   {
    "duration": 457,
    "start_time": "2021-11-25T18:48:45.684Z"
   },
   {
    "duration": 367,
    "start_time": "2021-11-25T18:48:51.765Z"
   },
   {
    "duration": 135,
    "start_time": "2021-11-25T18:49:36.937Z"
   },
   {
    "duration": 123,
    "start_time": "2021-11-25T18:50:09.336Z"
   },
   {
    "duration": 151,
    "start_time": "2021-11-25T18:50:18.935Z"
   },
   {
    "duration": 120,
    "start_time": "2021-11-25T18:50:40.481Z"
   },
   {
    "duration": 123,
    "start_time": "2021-11-25T18:50:47.916Z"
   },
   {
    "duration": 830,
    "start_time": "2021-11-25T18:50:57.378Z"
   },
   {
    "duration": 31,
    "start_time": "2021-11-25T18:50:58.211Z"
   },
   {
    "duration": 22,
    "start_time": "2021-11-25T18:50:58.245Z"
   },
   {
    "duration": 16,
    "start_time": "2021-11-25T18:50:58.270Z"
   },
   {
    "duration": 4,
    "start_time": "2021-11-25T18:50:58.288Z"
   },
   {
    "duration": 175,
    "start_time": "2021-11-25T18:50:58.294Z"
   },
   {
    "duration": 5,
    "start_time": "2021-11-25T18:50:58.472Z"
   },
   {
    "duration": 35,
    "start_time": "2021-11-25T18:50:58.479Z"
   },
   {
    "duration": 52,
    "start_time": "2021-11-25T18:50:58.518Z"
   },
   {
    "duration": 171,
    "start_time": "2021-11-25T18:50:58.572Z"
   },
   {
    "duration": 921,
    "start_time": "2021-11-25T18:50:57.824Z"
   },
   {
    "duration": 905,
    "start_time": "2021-11-25T18:50:57.842Z"
   },
   {
    "duration": 898,
    "start_time": "2021-11-25T18:50:57.851Z"
   },
   {
    "duration": 894,
    "start_time": "2021-11-25T18:50:57.856Z"
   },
   {
    "duration": 761,
    "start_time": "2021-11-25T18:50:57.991Z"
   },
   {
    "duration": 754,
    "start_time": "2021-11-25T18:50:57.999Z"
   },
   {
    "duration": 750,
    "start_time": "2021-11-25T18:50:58.005Z"
   },
   {
    "duration": 742,
    "start_time": "2021-11-25T18:50:58.014Z"
   },
   {
    "duration": 739,
    "start_time": "2021-11-25T18:50:58.019Z"
   },
   {
    "duration": 733,
    "start_time": "2021-11-25T18:50:58.026Z"
   },
   {
    "duration": 727,
    "start_time": "2021-11-25T18:50:58.034Z"
   },
   {
    "duration": 17,
    "start_time": "2021-11-25T18:51:32.693Z"
   },
   {
    "duration": 6,
    "start_time": "2021-11-25T18:51:41.582Z"
   },
   {
    "duration": 14,
    "start_time": "2021-11-25T18:51:44.819Z"
   },
   {
    "duration": 4,
    "start_time": "2021-11-25T18:52:40.601Z"
   },
   {
    "duration": 4759,
    "start_time": "2021-11-25T18:53:15.061Z"
   },
   {
    "duration": 5090,
    "start_time": "2021-11-25T18:53:49.917Z"
   },
   {
    "duration": 216,
    "start_time": "2021-11-26T07:53:03.051Z"
   },
   {
    "duration": 156,
    "start_time": "2021-11-26T07:53:11.944Z"
   },
   {
    "duration": 558,
    "start_time": "2021-11-26T09:47:13.633Z"
   },
   {
    "duration": 19,
    "start_time": "2021-11-26T09:47:14.193Z"
   },
   {
    "duration": 8,
    "start_time": "2021-11-26T09:47:14.214Z"
   },
   {
    "duration": 10,
    "start_time": "2021-11-26T09:47:14.224Z"
   },
   {
    "duration": 6,
    "start_time": "2021-11-26T09:47:14.236Z"
   },
   {
    "duration": 95,
    "start_time": "2021-11-26T09:47:14.244Z"
   },
   {
    "duration": 51,
    "start_time": "2021-11-26T09:47:14.341Z"
   },
   {
    "duration": 25,
    "start_time": "2021-11-26T09:47:14.395Z"
   },
   {
    "duration": 10,
    "start_time": "2021-11-26T09:47:14.422Z"
   },
   {
    "duration": 6,
    "start_time": "2021-11-26T09:47:14.433Z"
   },
   {
    "duration": 17,
    "start_time": "2021-11-26T09:47:14.440Z"
   },
   {
    "duration": 3311,
    "start_time": "2021-11-26T09:47:14.458Z"
   },
   {
    "duration": 3,
    "start_time": "2021-11-26T09:47:17.771Z"
   },
   {
    "duration": 23,
    "start_time": "2021-11-26T09:47:17.775Z"
   },
   {
    "duration": 15,
    "start_time": "2021-11-26T09:47:17.800Z"
   },
   {
    "duration": 7076,
    "start_time": "2021-11-26T09:47:17.816Z"
   },
   {
    "duration": 4,
    "start_time": "2021-11-26T09:47:24.894Z"
   },
   {
    "duration": 26,
    "start_time": "2021-11-26T09:47:24.900Z"
   },
   {
    "duration": 246,
    "start_time": "2021-11-26T09:47:24.928Z"
   },
   {
    "duration": 171,
    "start_time": "2021-11-26T09:47:25.005Z"
   },
   {
    "duration": 168,
    "start_time": "2021-11-26T09:47:25.010Z"
   },
   {
    "duration": 628,
    "start_time": "2021-11-26T10:27:37.790Z"
   },
   {
    "duration": 7,
    "start_time": "2021-11-26T10:28:22.441Z"
   },
   {
    "duration": 85,
    "start_time": "2021-11-26T10:29:32.309Z"
   },
   {
    "duration": 30,
    "start_time": "2021-11-26T10:30:13.770Z"
   },
   {
    "duration": 25,
    "start_time": "2021-11-26T10:31:20.070Z"
   },
   {
    "duration": 32,
    "start_time": "2021-11-26T10:31:28.005Z"
   },
   {
    "duration": 9,
    "start_time": "2021-11-26T10:32:00.119Z"
   },
   {
    "duration": 5,
    "start_time": "2021-11-26T10:32:22.329Z"
   },
   {
    "duration": 5,
    "start_time": "2021-11-26T10:32:26.294Z"
   },
   {
    "duration": 14,
    "start_time": "2021-11-26T10:32:37.376Z"
   },
   {
    "duration": 12,
    "start_time": "2021-11-26T10:33:15.432Z"
   },
   {
    "duration": 3719,
    "start_time": "2021-11-26T10:33:29.723Z"
   },
   {
    "duration": 3,
    "start_time": "2021-11-26T10:33:40.688Z"
   },
   {
    "duration": 7837,
    "start_time": "2021-11-26T10:34:33.485Z"
   },
   {
    "duration": 7,
    "start_time": "2021-11-26T10:35:14.532Z"
   },
   {
    "duration": 44,
    "start_time": "2021-11-26T10:35:22.437Z"
   },
   {
    "duration": 38,
    "start_time": "2021-11-26T10:35:51.651Z"
   },
   {
    "duration": 43,
    "start_time": "2021-11-26T10:36:22.547Z"
   },
   {
    "duration": 42,
    "start_time": "2021-11-26T10:36:42.235Z"
   },
   {
    "duration": 6,
    "start_time": "2021-11-26T10:37:18.232Z"
   },
   {
    "duration": 872,
    "start_time": "2021-11-27T10:16:51.202Z"
   },
   {
    "duration": 29,
    "start_time": "2021-11-27T10:16:52.077Z"
   },
   {
    "duration": 13,
    "start_time": "2021-11-27T10:16:52.113Z"
   },
   {
    "duration": 8,
    "start_time": "2021-11-27T10:16:52.128Z"
   },
   {
    "duration": 4,
    "start_time": "2021-11-27T10:16:52.139Z"
   },
   {
    "duration": 176,
    "start_time": "2021-11-27T10:16:52.146Z"
   },
   {
    "duration": 5,
    "start_time": "2021-11-27T10:16:52.325Z"
   },
   {
    "duration": 71,
    "start_time": "2021-11-27T10:16:52.333Z"
   },
   {
    "duration": 24,
    "start_time": "2021-11-27T10:16:52.407Z"
   },
   {
    "duration": 75,
    "start_time": "2021-11-27T10:16:52.434Z"
   },
   {
    "duration": 12,
    "start_time": "2021-11-27T10:16:52.512Z"
   },
   {
    "duration": 19,
    "start_time": "2021-11-27T10:16:52.526Z"
   },
   {
    "duration": 4477,
    "start_time": "2021-11-27T10:16:52.548Z"
   },
   {
    "duration": 4,
    "start_time": "2021-11-27T10:16:57.028Z"
   },
   {
    "duration": 18,
    "start_time": "2021-11-27T10:16:57.034Z"
   },
   {
    "duration": 46,
    "start_time": "2021-11-27T10:16:57.054Z"
   },
   {
    "duration": 12064,
    "start_time": "2021-11-27T10:16:57.103Z"
   },
   {
    "duration": 7,
    "start_time": "2021-11-27T10:17:09.169Z"
   },
   {
    "duration": 59,
    "start_time": "2021-11-27T10:17:09.178Z"
   },
   {
    "duration": 77,
    "start_time": "2021-11-27T10:17:09.239Z"
   },
   {
    "duration": 86,
    "start_time": "2021-11-27T10:17:09.319Z"
   },
   {
    "duration": 51,
    "start_time": "2021-11-27T10:17:09.409Z"
   },
   {
    "duration": 6,
    "start_time": "2021-11-27T10:17:09.463Z"
   },
   {
    "duration": 295,
    "start_time": "2021-11-27T13:54:55.649Z"
   },
   {
    "duration": 605,
    "start_time": "2021-11-27T13:55:02.560Z"
   },
   {
    "duration": 57,
    "start_time": "2021-11-27T13:55:03.167Z"
   },
   {
    "duration": 17,
    "start_time": "2021-11-27T13:55:03.226Z"
   },
   {
    "duration": 34,
    "start_time": "2021-11-27T13:55:03.245Z"
   },
   {
    "duration": 29,
    "start_time": "2021-11-27T13:55:03.281Z"
   },
   {
    "duration": 27,
    "start_time": "2021-11-27T13:55:03.311Z"
   },
   {
    "duration": 82,
    "start_time": "2021-11-27T13:55:03.340Z"
   },
   {
    "duration": 4,
    "start_time": "2021-11-27T13:55:03.425Z"
   },
   {
    "duration": 41,
    "start_time": "2021-11-27T13:55:03.445Z"
   },
   {
    "duration": 47,
    "start_time": "2021-11-27T13:55:03.488Z"
   },
   {
    "duration": 54,
    "start_time": "2021-11-27T13:55:03.537Z"
   },
   {
    "duration": 26,
    "start_time": "2021-11-27T13:55:03.593Z"
   },
   {
    "duration": 31,
    "start_time": "2021-11-27T13:55:03.621Z"
   },
   {
    "duration": 3462,
    "start_time": "2021-11-27T13:55:03.653Z"
   },
   {
    "duration": 3,
    "start_time": "2021-11-27T13:55:07.117Z"
   },
   {
    "duration": 44,
    "start_time": "2021-11-27T13:55:07.121Z"
   },
   {
    "duration": 28,
    "start_time": "2021-11-27T13:55:07.166Z"
   },
   {
    "duration": 7251,
    "start_time": "2021-11-27T13:55:07.195Z"
   },
   {
    "duration": 4,
    "start_time": "2021-11-27T13:55:14.448Z"
   },
   {
    "duration": 54,
    "start_time": "2021-11-27T13:55:14.454Z"
   },
   {
    "duration": 31,
    "start_time": "2021-11-27T13:55:14.509Z"
   },
   {
    "duration": 39,
    "start_time": "2021-11-27T13:55:14.541Z"
   },
   {
    "duration": 27,
    "start_time": "2021-11-27T13:55:14.583Z"
   },
   {
    "duration": 5,
    "start_time": "2021-11-27T13:55:14.611Z"
   },
   {
    "duration": 6599,
    "start_time": "2021-11-27T14:02:28.952Z"
   },
   {
    "duration": 14,
    "start_time": "2021-11-27T14:11:47.652Z"
   },
   {
    "duration": 11,
    "start_time": "2021-11-27T14:13:52.628Z"
   },
   {
    "duration": 273,
    "start_time": "2021-11-27T14:15:28.692Z"
   },
   {
    "duration": 10,
    "start_time": "2021-11-27T14:15:40.392Z"
   },
   {
    "duration": 12,
    "start_time": "2021-11-27T14:15:50.472Z"
   },
   {
    "duration": 847,
    "start_time": "2021-11-27T14:17:03.933Z"
   },
   {
    "duration": 59,
    "start_time": "2021-11-27T14:17:04.781Z"
   },
   {
    "duration": 19,
    "start_time": "2021-11-27T14:17:04.842Z"
   },
   {
    "duration": 9,
    "start_time": "2021-11-27T14:17:04.863Z"
   },
   {
    "duration": 6,
    "start_time": "2021-11-27T14:17:04.873Z"
   },
   {
    "duration": 3,
    "start_time": "2021-11-27T14:17:04.881Z"
   },
   {
    "duration": 90,
    "start_time": "2021-11-27T14:17:04.886Z"
   },
   {
    "duration": 3,
    "start_time": "2021-11-27T14:17:04.978Z"
   },
   {
    "duration": 67,
    "start_time": "2021-11-27T14:17:04.984Z"
   },
   {
    "duration": 15,
    "start_time": "2021-11-27T14:17:05.052Z"
   },
   {
    "duration": 28,
    "start_time": "2021-11-27T14:17:05.069Z"
   },
   {
    "duration": 9,
    "start_time": "2021-11-27T14:17:05.098Z"
   },
   {
    "duration": 38,
    "start_time": "2021-11-27T14:17:05.108Z"
   },
   {
    "duration": 565,
    "start_time": "2021-11-27T14:17:55.908Z"
   },
   {
    "duration": 57,
    "start_time": "2021-11-27T14:17:56.475Z"
   },
   {
    "duration": 18,
    "start_time": "2021-11-27T14:17:56.535Z"
   },
   {
    "duration": 12,
    "start_time": "2021-11-27T14:17:56.555Z"
   },
   {
    "duration": 7,
    "start_time": "2021-11-27T14:17:56.569Z"
   },
   {
    "duration": 3,
    "start_time": "2021-11-27T14:17:56.579Z"
   },
   {
    "duration": 102,
    "start_time": "2021-11-27T14:17:56.584Z"
   },
   {
    "duration": 3,
    "start_time": "2021-11-27T14:17:56.688Z"
   },
   {
    "duration": 73,
    "start_time": "2021-11-27T14:17:56.693Z"
   },
   {
    "duration": 22,
    "start_time": "2021-11-27T14:17:56.769Z"
   },
   {
    "duration": 64,
    "start_time": "2021-11-27T14:17:56.793Z"
   },
   {
    "duration": 12,
    "start_time": "2021-11-27T14:17:56.859Z"
   },
   {
    "duration": 16,
    "start_time": "2021-11-27T14:17:56.873Z"
   },
   {
    "duration": 3582,
    "start_time": "2021-11-27T14:17:56.891Z"
   },
   {
    "duration": 3,
    "start_time": "2021-11-27T14:18:00.475Z"
   },
   {
    "duration": 18,
    "start_time": "2021-11-27T14:18:00.480Z"
   },
   {
    "duration": 16,
    "start_time": "2021-11-27T14:18:00.500Z"
   },
   {
    "duration": 7482,
    "start_time": "2021-11-27T14:18:00.518Z"
   },
   {
    "duration": 5,
    "start_time": "2021-11-27T14:18:08.002Z"
   },
   {
    "duration": 38,
    "start_time": "2021-11-27T14:18:08.009Z"
   },
   {
    "duration": 30,
    "start_time": "2021-11-27T14:18:08.049Z"
   },
   {
    "duration": 31,
    "start_time": "2021-11-27T14:18:08.081Z"
   },
   {
    "duration": 57,
    "start_time": "2021-11-27T14:18:08.115Z"
   },
   {
    "duration": 4,
    "start_time": "2021-11-27T14:18:08.174Z"
   },
   {
    "duration": 2101,
    "start_time": "2021-11-27T14:21:08.008Z"
   },
   {
    "duration": 567,
    "start_time": "2021-11-27T14:21:19.164Z"
   },
   {
    "duration": 57,
    "start_time": "2021-11-27T14:21:19.733Z"
   },
   {
    "duration": 20,
    "start_time": "2021-11-27T14:21:19.793Z"
   },
   {
    "duration": 9,
    "start_time": "2021-11-27T14:21:19.815Z"
   },
   {
    "duration": 20,
    "start_time": "2021-11-27T14:21:19.826Z"
   },
   {
    "duration": 3,
    "start_time": "2021-11-27T14:21:19.848Z"
   },
   {
    "duration": 112,
    "start_time": "2021-11-27T14:21:19.853Z"
   },
   {
    "duration": 6,
    "start_time": "2021-11-27T14:21:19.967Z"
   },
   {
    "duration": 26,
    "start_time": "2021-11-27T14:21:19.977Z"
   },
   {
    "duration": 55,
    "start_time": "2021-11-27T14:21:20.004Z"
   },
   {
    "duration": 29,
    "start_time": "2021-11-27T14:21:20.061Z"
   },
   {
    "duration": 9,
    "start_time": "2021-11-27T14:21:20.092Z"
   },
   {
    "duration": 11,
    "start_time": "2021-11-27T14:21:20.102Z"
   },
   {
    "duration": 3561,
    "start_time": "2021-11-27T14:21:20.115Z"
   },
   {
    "duration": 3,
    "start_time": "2021-11-27T14:21:23.678Z"
   },
   {
    "duration": 13,
    "start_time": "2021-11-27T14:21:23.683Z"
   },
   {
    "duration": 17,
    "start_time": "2021-11-27T14:21:23.698Z"
   },
   {
    "duration": 7338,
    "start_time": "2021-11-27T14:21:23.717Z"
   },
   {
    "duration": 4,
    "start_time": "2021-11-27T14:21:31.057Z"
   },
   {
    "duration": 50,
    "start_time": "2021-11-27T14:21:31.063Z"
   },
   {
    "duration": 30,
    "start_time": "2021-11-27T14:21:31.115Z"
   },
   {
    "duration": 33,
    "start_time": "2021-11-27T14:21:31.147Z"
   },
   {
    "duration": 26,
    "start_time": "2021-11-27T14:21:31.182Z"
   },
   {
    "duration": 4,
    "start_time": "2021-11-27T14:21:31.210Z"
   },
   {
    "duration": 3,
    "start_time": "2021-11-27T14:25:27.690Z"
   },
   {
    "duration": 5,
    "start_time": "2021-11-27T14:25:36.569Z"
   },
   {
    "duration": 13,
    "start_time": "2021-11-27T14:26:39.778Z"
   },
   {
    "duration": 13,
    "start_time": "2021-11-27T14:26:56.471Z"
   },
   {
    "duration": 13,
    "start_time": "2021-11-27T14:27:08.549Z"
   },
   {
    "duration": 99,
    "start_time": "2021-11-27T14:27:57.480Z"
   },
   {
    "duration": 4,
    "start_time": "2021-11-27T14:44:50.730Z"
   },
   {
    "duration": 639,
    "start_time": "2021-11-27T14:44:55.450Z"
   },
   {
    "duration": 616,
    "start_time": "2021-11-27T14:45:02.710Z"
   },
   {
    "duration": 58,
    "start_time": "2021-11-27T14:45:03.329Z"
   },
   {
    "duration": 19,
    "start_time": "2021-11-27T14:45:03.389Z"
   },
   {
    "duration": 31,
    "start_time": "2021-11-27T14:45:03.411Z"
   },
   {
    "duration": 23,
    "start_time": "2021-11-27T14:45:03.444Z"
   },
   {
    "duration": 31,
    "start_time": "2021-11-27T14:45:03.469Z"
   },
   {
    "duration": 74,
    "start_time": "2021-11-27T14:45:03.502Z"
   },
   {
    "duration": 4,
    "start_time": "2021-11-27T14:45:03.577Z"
   },
   {
    "duration": 63,
    "start_time": "2021-11-27T14:45:03.583Z"
   },
   {
    "duration": 21,
    "start_time": "2021-11-27T14:45:03.648Z"
   },
   {
    "duration": 38,
    "start_time": "2021-11-27T14:45:03.670Z"
   },
   {
    "duration": 8,
    "start_time": "2021-11-27T14:45:03.710Z"
   },
   {
    "duration": 38,
    "start_time": "2021-11-27T14:45:03.720Z"
   },
   {
    "duration": 3533,
    "start_time": "2021-11-27T14:45:03.760Z"
   },
   {
    "duration": 3,
    "start_time": "2021-11-27T14:45:07.295Z"
   },
   {
    "duration": 44,
    "start_time": "2021-11-27T14:45:07.299Z"
   },
   {
    "duration": 33,
    "start_time": "2021-11-27T14:45:07.344Z"
   },
   {
    "duration": 7397,
    "start_time": "2021-11-27T14:45:07.378Z"
   },
   {
    "duration": 5,
    "start_time": "2021-11-27T14:45:14.776Z"
   },
   {
    "duration": 599,
    "start_time": "2021-11-27T14:45:14.782Z"
   },
   {
    "duration": 1814,
    "start_time": "2021-11-27T14:45:13.569Z"
   },
   {
    "duration": 1807,
    "start_time": "2021-11-27T14:45:13.577Z"
   },
   {
    "duration": 1803,
    "start_time": "2021-11-27T14:45:13.582Z"
   },
   {
    "duration": 1799,
    "start_time": "2021-11-27T14:45:13.586Z"
   },
   {
    "duration": 4,
    "start_time": "2021-11-27T14:45:31.291Z"
   },
   {
    "duration": 24,
    "start_time": "2021-11-27T14:45:52.210Z"
   },
   {
    "duration": 4,
    "start_time": "2021-11-27T14:46:13.300Z"
   },
   {
    "duration": 6799,
    "start_time": "2021-11-27T14:46:14.991Z"
   },
   {
    "duration": 4,
    "start_time": "2021-11-27T14:46:30.555Z"
   },
   {
    "duration": 23,
    "start_time": "2021-11-27T14:46:34.089Z"
   },
   {
    "duration": 90,
    "start_time": "2021-11-27T14:57:35.409Z"
   },
   {
    "duration": 63,
    "start_time": "2021-11-27T14:57:58.389Z"
   },
   {
    "duration": 59,
    "start_time": "2021-11-27T14:58:06.130Z"
   },
   {
    "duration": 61,
    "start_time": "2021-11-27T14:58:44.829Z"
   },
   {
    "duration": 10,
    "start_time": "2021-11-27T14:58:55.411Z"
   },
   {
    "duration": 9,
    "start_time": "2021-11-27T14:59:03.278Z"
   },
   {
    "duration": 7,
    "start_time": "2021-11-27T14:59:10.669Z"
   },
   {
    "duration": 14,
    "start_time": "2021-11-27T15:06:46.838Z"
   },
   {
    "duration": 13,
    "start_time": "2021-11-27T15:06:53.634Z"
   },
   {
    "duration": 7550,
    "start_time": "2021-11-27T15:07:22.478Z"
   },
   {
    "duration": 13,
    "start_time": "2021-11-27T15:07:51.509Z"
   },
   {
    "duration": 14,
    "start_time": "2021-11-27T15:09:24.950Z"
   },
   {
    "duration": 10,
    "start_time": "2021-11-27T15:10:04.798Z"
   },
   {
    "duration": 112,
    "start_time": "2021-11-27T15:11:25.699Z"
   },
   {
    "duration": 290,
    "start_time": "2021-11-27T15:11:37.789Z"
   },
   {
    "duration": 86,
    "start_time": "2021-11-27T15:11:56.290Z"
   },
   {
    "duration": 85,
    "start_time": "2021-11-27T15:11:59.598Z"
   },
   {
    "duration": 91,
    "start_time": "2021-11-27T15:12:01.770Z"
   },
   {
    "duration": 287,
    "start_time": "2021-11-27T15:12:16.237Z"
   },
   {
    "duration": 296,
    "start_time": "2021-11-27T15:12:23.297Z"
   },
   {
    "duration": 312,
    "start_time": "2021-11-27T15:12:27.978Z"
   },
   {
    "duration": 333,
    "start_time": "2021-11-27T15:12:50.937Z"
   },
   {
    "duration": 14,
    "start_time": "2021-11-27T15:13:12.689Z"
   },
   {
    "duration": 17,
    "start_time": "2021-11-27T15:13:29.349Z"
   },
   {
    "duration": 24,
    "start_time": "2021-11-27T15:13:39.049Z"
   },
   {
    "duration": 600,
    "start_time": "2021-11-27T15:14:15.749Z"
   },
   {
    "duration": 58,
    "start_time": "2021-11-27T15:14:16.350Z"
   },
   {
    "duration": 17,
    "start_time": "2021-11-27T15:14:16.410Z"
   },
   {
    "duration": 15,
    "start_time": "2021-11-27T15:14:16.429Z"
   },
   {
    "duration": 6,
    "start_time": "2021-11-27T15:14:16.445Z"
   },
   {
    "duration": 5,
    "start_time": "2021-11-27T15:14:16.453Z"
   },
   {
    "duration": 107,
    "start_time": "2021-11-27T15:14:16.460Z"
   },
   {
    "duration": 3,
    "start_time": "2021-11-27T15:14:16.571Z"
   },
   {
    "duration": 29,
    "start_time": "2021-11-27T15:14:16.577Z"
   },
   {
    "duration": 51,
    "start_time": "2021-11-27T15:14:16.607Z"
   },
   {
    "duration": 30,
    "start_time": "2021-11-27T15:14:16.660Z"
   },
   {
    "duration": 9,
    "start_time": "2021-11-27T15:14:16.691Z"
   },
   {
    "duration": 12,
    "start_time": "2021-11-27T15:14:16.702Z"
   },
   {
    "duration": 3660,
    "start_time": "2021-11-27T15:14:16.745Z"
   },
   {
    "duration": 3,
    "start_time": "2021-11-27T15:14:20.407Z"
   },
   {
    "duration": 44,
    "start_time": "2021-11-27T15:14:20.411Z"
   },
   {
    "duration": 37,
    "start_time": "2021-11-27T15:14:20.457Z"
   },
   {
    "duration": 6645,
    "start_time": "2021-11-27T15:14:20.496Z"
   },
   {
    "duration": 1752,
    "start_time": "2021-11-27T15:14:25.391Z"
   },
   {
    "duration": 1745,
    "start_time": "2021-11-27T15:14:25.399Z"
   },
   {
    "duration": 1741,
    "start_time": "2021-11-27T15:14:25.404Z"
   },
   {
    "duration": 1736,
    "start_time": "2021-11-27T15:14:25.410Z"
   },
   {
    "duration": 1733,
    "start_time": "2021-11-27T15:14:25.414Z"
   },
   {
    "duration": 1730,
    "start_time": "2021-11-27T15:14:25.419Z"
   },
   {
    "duration": 1723,
    "start_time": "2021-11-27T15:14:25.427Z"
   },
   {
    "duration": 595,
    "start_time": "2021-11-27T15:14:54.852Z"
   },
   {
    "duration": 68,
    "start_time": "2021-11-27T15:14:55.450Z"
   },
   {
    "duration": 19,
    "start_time": "2021-11-27T15:14:55.520Z"
   },
   {
    "duration": 23,
    "start_time": "2021-11-27T15:14:55.544Z"
   },
   {
    "duration": 26,
    "start_time": "2021-11-27T15:14:55.570Z"
   },
   {
    "duration": 21,
    "start_time": "2021-11-27T15:14:55.598Z"
   },
   {
    "duration": 124,
    "start_time": "2021-11-27T15:14:55.621Z"
   },
   {
    "duration": 4,
    "start_time": "2021-11-27T15:14:55.748Z"
   },
   {
    "duration": 31,
    "start_time": "2021-11-27T15:14:55.754Z"
   },
   {
    "duration": 15,
    "start_time": "2021-11-27T15:14:55.787Z"
   },
   {
    "duration": 66,
    "start_time": "2021-11-27T15:14:55.804Z"
   },
   {
    "duration": 8,
    "start_time": "2021-11-27T15:14:55.871Z"
   },
   {
    "duration": 10,
    "start_time": "2021-11-27T15:14:55.881Z"
   },
   {
    "duration": 3403,
    "start_time": "2021-11-27T15:14:55.893Z"
   },
   {
    "duration": 3,
    "start_time": "2021-11-27T15:14:59.298Z"
   },
   {
    "duration": 17,
    "start_time": "2021-11-27T15:14:59.302Z"
   },
   {
    "duration": 29,
    "start_time": "2021-11-27T15:14:59.320Z"
   },
   {
    "duration": 31,
    "start_time": "2021-11-27T15:14:59.350Z"
   },
   {
    "duration": 7427,
    "start_time": "2021-11-27T15:14:59.382Z"
   },
   {
    "duration": 4,
    "start_time": "2021-11-27T15:15:06.810Z"
   },
   {
    "duration": 56,
    "start_time": "2021-11-27T15:15:06.816Z"
   },
   {
    "duration": 29,
    "start_time": "2021-11-27T15:15:06.873Z"
   },
   {
    "duration": 50,
    "start_time": "2021-11-27T15:15:06.905Z"
   },
   {
    "duration": 27,
    "start_time": "2021-11-27T15:15:06.957Z"
   },
   {
    "duration": 4,
    "start_time": "2021-11-27T15:15:06.985Z"
   },
   {
    "duration": 349,
    "start_time": "2021-11-27T15:15:57.010Z"
   },
   {
    "duration": 312,
    "start_time": "2021-11-27T15:16:27.798Z"
   },
   {
    "duration": 25,
    "start_time": "2021-11-27T15:17:14.271Z"
   },
   {
    "duration": 284,
    "start_time": "2021-11-27T15:17:49.831Z"
   },
   {
    "duration": 290,
    "start_time": "2021-11-27T15:18:06.051Z"
   },
   {
    "duration": 31,
    "start_time": "2021-11-27T15:18:40.050Z"
   },
   {
    "duration": 56,
    "start_time": "2021-11-27T15:19:11.610Z"
   },
   {
    "duration": 28,
    "start_time": "2021-11-27T15:19:18.911Z"
   },
   {
    "duration": 31,
    "start_time": "2021-11-27T15:19:28.510Z"
   },
   {
    "duration": 35,
    "start_time": "2021-11-27T15:19:43.050Z"
   },
   {
    "duration": 610,
    "start_time": "2021-11-27T15:19:53.531Z"
   },
   {
    "duration": 57,
    "start_time": "2021-11-27T15:19:54.143Z"
   },
   {
    "duration": 17,
    "start_time": "2021-11-27T15:19:54.202Z"
   },
   {
    "duration": 10,
    "start_time": "2021-11-27T15:19:54.221Z"
   },
   {
    "duration": 14,
    "start_time": "2021-11-27T15:19:54.232Z"
   },
   {
    "duration": 2,
    "start_time": "2021-11-27T15:19:54.248Z"
   },
   {
    "duration": 99,
    "start_time": "2021-11-27T15:19:54.252Z"
   },
   {
    "duration": 3,
    "start_time": "2021-11-27T15:19:54.354Z"
   },
   {
    "duration": 23,
    "start_time": "2021-11-27T15:19:54.359Z"
   },
   {
    "duration": 15,
    "start_time": "2021-11-27T15:19:54.383Z"
   },
   {
    "duration": 67,
    "start_time": "2021-11-27T15:19:54.400Z"
   },
   {
    "duration": 11,
    "start_time": "2021-11-27T15:19:54.469Z"
   },
   {
    "duration": 13,
    "start_time": "2021-11-27T15:19:54.482Z"
   },
   {
    "duration": 3463,
    "start_time": "2021-11-27T15:19:54.497Z"
   },
   {
    "duration": 4,
    "start_time": "2021-11-27T15:19:57.962Z"
   },
   {
    "duration": 13,
    "start_time": "2021-11-27T15:19:57.968Z"
   },
   {
    "duration": 17,
    "start_time": "2021-11-27T15:19:57.983Z"
   },
   {
    "duration": 58,
    "start_time": "2021-11-27T15:19:58.002Z"
   },
   {
    "duration": 7336,
    "start_time": "2021-11-27T15:19:58.062Z"
   },
   {
    "duration": 5,
    "start_time": "2021-11-27T15:20:05.399Z"
   },
   {
    "duration": 39,
    "start_time": "2021-11-27T15:20:05.405Z"
   },
   {
    "duration": 30,
    "start_time": "2021-11-27T15:20:05.446Z"
   },
   {
    "duration": 33,
    "start_time": "2021-11-27T15:20:05.479Z"
   },
   {
    "duration": 50,
    "start_time": "2021-11-27T15:20:05.514Z"
   },
   {
    "duration": 3,
    "start_time": "2021-11-27T15:20:05.566Z"
   },
   {
    "duration": 33,
    "start_time": "2021-11-27T15:20:41.127Z"
   },
   {
    "duration": 32,
    "start_time": "2021-11-27T15:22:07.609Z"
   },
   {
    "duration": 26,
    "start_time": "2021-11-27T15:23:32.609Z"
   },
   {
    "duration": 451,
    "start_time": "2021-11-27T15:24:02.298Z"
   },
   {
    "duration": 1765,
    "start_time": "2021-11-27T15:24:42.352Z"
   },
   {
    "duration": 1773,
    "start_time": "2021-11-27T15:24:49.112Z"
   },
   {
    "duration": 7338,
    "start_time": "2021-11-27T15:25:00.450Z"
   },
   {
    "duration": 6478,
    "start_time": "2021-11-27T15:25:08.030Z"
   },
   {
    "duration": 38,
    "start_time": "2021-11-27T15:27:09.131Z"
   },
   {
    "duration": 45,
    "start_time": "2021-11-27T15:27:25.729Z"
   },
   {
    "duration": 40,
    "start_time": "2021-11-27T15:28:02.989Z"
   },
   {
    "duration": 40,
    "start_time": "2021-11-27T15:28:23.453Z"
   },
   {
    "duration": 297,
    "start_time": "2021-11-27T15:29:33.451Z"
   },
   {
    "duration": 43,
    "start_time": "2021-11-27T15:29:45.608Z"
   },
   {
    "duration": 602,
    "start_time": "2021-11-27T15:29:52.719Z"
   },
   {
    "duration": 55,
    "start_time": "2021-11-27T15:29:53.323Z"
   },
   {
    "duration": 17,
    "start_time": "2021-11-27T15:29:53.379Z"
   },
   {
    "duration": 10,
    "start_time": "2021-11-27T15:29:53.398Z"
   },
   {
    "duration": 6,
    "start_time": "2021-11-27T15:29:53.410Z"
   },
   {
    "duration": 16,
    "start_time": "2021-11-27T15:29:53.418Z"
   },
   {
    "duration": 59,
    "start_time": "2021-11-27T15:29:53.436Z"
   },
   {
    "duration": 3,
    "start_time": "2021-11-27T15:29:53.497Z"
   },
   {
    "duration": 63,
    "start_time": "2021-11-27T15:29:53.502Z"
   },
   {
    "duration": 14,
    "start_time": "2021-11-27T15:29:53.567Z"
   },
   {
    "duration": 26,
    "start_time": "2021-11-27T15:29:53.583Z"
   },
   {
    "duration": 8,
    "start_time": "2021-11-27T15:29:53.610Z"
   },
   {
    "duration": 11,
    "start_time": "2021-11-27T15:29:53.645Z"
   },
   {
    "duration": 3346,
    "start_time": "2021-11-27T15:29:53.657Z"
   },
   {
    "duration": 3,
    "start_time": "2021-11-27T15:29:57.005Z"
   },
   {
    "duration": 34,
    "start_time": "2021-11-27T15:29:57.010Z"
   },
   {
    "duration": 26,
    "start_time": "2021-11-27T15:29:57.046Z"
   },
   {
    "duration": 44,
    "start_time": "2021-11-27T15:29:57.074Z"
   },
   {
    "duration": 6664,
    "start_time": "2021-11-27T15:29:57.120Z"
   },
   {
    "duration": 6,
    "start_time": "2021-11-27T15:30:03.786Z"
   },
   {
    "duration": 41,
    "start_time": "2021-11-27T15:30:03.794Z"
   },
   {
    "duration": 37,
    "start_time": "2021-11-27T15:30:03.837Z"
   },
   {
    "duration": 34,
    "start_time": "2021-11-27T15:30:03.877Z"
   },
   {
    "duration": 54,
    "start_time": "2021-11-27T15:30:03.913Z"
   },
   {
    "duration": 4,
    "start_time": "2021-11-27T15:30:03.969Z"
   },
   {
    "duration": 89,
    "start_time": "2021-11-27T15:30:22.313Z"
   },
   {
    "duration": 29,
    "start_time": "2021-11-27T15:30:28.869Z"
   },
   {
    "duration": 13,
    "start_time": "2021-11-27T15:34:08.447Z"
   },
   {
    "duration": 574,
    "start_time": "2021-11-27T15:34:15.670Z"
   },
   {
    "duration": 58,
    "start_time": "2021-11-27T15:34:16.247Z"
   },
   {
    "duration": 18,
    "start_time": "2021-11-27T15:34:16.307Z"
   },
   {
    "duration": 19,
    "start_time": "2021-11-27T15:34:16.326Z"
   },
   {
    "duration": 6,
    "start_time": "2021-11-27T15:34:16.346Z"
   },
   {
    "duration": 6,
    "start_time": "2021-11-27T15:34:16.354Z"
   },
   {
    "duration": 100,
    "start_time": "2021-11-27T15:34:16.362Z"
   },
   {
    "duration": 4,
    "start_time": "2021-11-27T15:34:16.464Z"
   },
   {
    "duration": 23,
    "start_time": "2021-11-27T15:34:16.471Z"
   },
   {
    "duration": 48,
    "start_time": "2021-11-27T15:34:16.496Z"
   },
   {
    "duration": 28,
    "start_time": "2021-11-27T15:34:16.546Z"
   },
   {
    "duration": 8,
    "start_time": "2021-11-27T15:34:16.575Z"
   },
   {
    "duration": 10,
    "start_time": "2021-11-27T15:34:16.585Z"
   },
   {
    "duration": 3362,
    "start_time": "2021-11-27T15:34:16.597Z"
   },
   {
    "duration": 3,
    "start_time": "2021-11-27T15:34:19.961Z"
   },
   {
    "duration": 34,
    "start_time": "2021-11-27T15:34:19.965Z"
   },
   {
    "duration": 26,
    "start_time": "2021-11-27T15:34:20.001Z"
   },
   {
    "duration": 36,
    "start_time": "2021-11-27T15:34:20.029Z"
   },
   {
    "duration": 7442,
    "start_time": "2021-11-27T15:34:20.067Z"
   },
   {
    "duration": 4,
    "start_time": "2021-11-27T15:34:27.510Z"
   },
   {
    "duration": 33,
    "start_time": "2021-11-27T15:34:27.516Z"
   },
   {
    "duration": 31,
    "start_time": "2021-11-27T15:34:27.550Z"
   },
   {
    "duration": 31,
    "start_time": "2021-11-27T15:34:27.582Z"
   },
   {
    "duration": 49,
    "start_time": "2021-11-27T15:34:27.615Z"
   },
   {
    "duration": 4,
    "start_time": "2021-11-27T15:34:27.665Z"
   },
   {
    "duration": 27,
    "start_time": "2021-11-27T15:34:49.350Z"
   },
   {
    "duration": 333,
    "start_time": "2021-11-27T15:35:35.910Z"
   },
   {
    "duration": 18,
    "start_time": "2021-11-27T15:35:39.527Z"
   },
   {
    "duration": 19,
    "start_time": "2021-11-27T15:36:52.550Z"
   },
   {
    "duration": 19,
    "start_time": "2021-11-27T15:38:03.361Z"
   },
   {
    "duration": 638,
    "start_time": "2021-11-27T15:38:30.046Z"
   },
   {
    "duration": 59,
    "start_time": "2021-11-27T15:38:30.685Z"
   },
   {
    "duration": 18,
    "start_time": "2021-11-27T15:38:30.746Z"
   },
   {
    "duration": 12,
    "start_time": "2021-11-27T15:38:30.766Z"
   },
   {
    "duration": 11,
    "start_time": "2021-11-27T15:38:30.779Z"
   },
   {
    "duration": 12,
    "start_time": "2021-11-27T15:38:30.791Z"
   },
   {
    "duration": 77,
    "start_time": "2021-11-27T15:38:30.805Z"
   },
   {
    "duration": 5,
    "start_time": "2021-11-27T15:38:30.883Z"
   },
   {
    "duration": 68,
    "start_time": "2021-11-27T15:38:30.891Z"
   },
   {
    "duration": 16,
    "start_time": "2021-11-27T15:38:30.962Z"
   },
   {
    "duration": 29,
    "start_time": "2021-11-27T15:38:30.980Z"
   },
   {
    "duration": 38,
    "start_time": "2021-11-27T15:38:31.011Z"
   },
   {
    "duration": 11,
    "start_time": "2021-11-27T15:38:31.050Z"
   },
   {
    "duration": 3447,
    "start_time": "2021-11-27T15:38:31.063Z"
   },
   {
    "duration": 3,
    "start_time": "2021-11-27T15:38:34.513Z"
   },
   {
    "duration": 28,
    "start_time": "2021-11-27T15:38:34.518Z"
   },
   {
    "duration": 20,
    "start_time": "2021-11-27T15:38:34.548Z"
   },
   {
    "duration": 23,
    "start_time": "2021-11-27T15:38:34.569Z"
   },
   {
    "duration": 4,
    "start_time": "2021-11-27T15:38:34.594Z"
   },
   {
    "duration": 51,
    "start_time": "2021-11-27T15:38:34.599Z"
   },
   {
    "duration": 31,
    "start_time": "2021-11-27T15:38:34.652Z"
   },
   {
    "duration": 60,
    "start_time": "2021-11-27T15:38:34.685Z"
   },
   {
    "duration": 26,
    "start_time": "2021-11-27T15:38:34.747Z"
   },
   {
    "duration": 4,
    "start_time": "2021-11-27T15:38:34.774Z"
   },
   {
    "duration": 85,
    "start_time": "2021-11-27T15:41:57.936Z"
   },
   {
    "duration": 92,
    "start_time": "2021-11-27T15:42:00.966Z"
   },
   {
    "duration": 87,
    "start_time": "2021-11-27T15:42:19.593Z"
   },
   {
    "duration": 88,
    "start_time": "2021-11-27T15:42:53.350Z"
   },
   {
    "duration": 18,
    "start_time": "2021-11-27T15:43:51.775Z"
   },
   {
    "duration": 21,
    "start_time": "2021-11-27T15:44:13.375Z"
   },
   {
    "duration": 327,
    "start_time": "2021-11-27T15:45:15.877Z"
   },
   {
    "duration": 21,
    "start_time": "2021-11-27T15:45:24.806Z"
   },
   {
    "duration": 23,
    "start_time": "2021-11-27T15:45:43.646Z"
   },
   {
    "duration": 13,
    "start_time": "2021-11-27T15:46:31.716Z"
   },
   {
    "duration": 606,
    "start_time": "2021-11-27T15:46:52.649Z"
   },
   {
    "duration": 58,
    "start_time": "2021-11-27T15:46:53.257Z"
   },
   {
    "duration": 18,
    "start_time": "2021-11-27T15:46:53.317Z"
   },
   {
    "duration": 11,
    "start_time": "2021-11-27T15:46:53.337Z"
   },
   {
    "duration": 6,
    "start_time": "2021-11-27T15:46:53.350Z"
   },
   {
    "duration": 4,
    "start_time": "2021-11-27T15:46:53.358Z"
   },
   {
    "duration": 106,
    "start_time": "2021-11-27T15:46:53.364Z"
   },
   {
    "duration": 3,
    "start_time": "2021-11-27T15:46:53.473Z"
   },
   {
    "duration": 27,
    "start_time": "2021-11-27T15:46:53.478Z"
   },
   {
    "duration": 54,
    "start_time": "2021-11-27T15:46:53.507Z"
   },
   {
    "duration": 32,
    "start_time": "2021-11-27T15:46:53.563Z"
   },
   {
    "duration": 8,
    "start_time": "2021-11-27T15:46:53.597Z"
   },
   {
    "duration": 11,
    "start_time": "2021-11-27T15:46:53.607Z"
   },
   {
    "duration": 3753,
    "start_time": "2021-11-27T15:46:53.620Z"
   },
   {
    "duration": 4,
    "start_time": "2021-11-27T15:46:57.375Z"
   },
   {
    "duration": 15,
    "start_time": "2021-11-27T15:46:57.381Z"
   },
   {
    "duration": 19,
    "start_time": "2021-11-27T15:46:57.398Z"
   },
   {
    "duration": 37,
    "start_time": "2021-11-27T15:46:57.419Z"
   },
   {
    "duration": 6,
    "start_time": "2021-11-27T15:46:57.458Z"
   },
   {
    "duration": 27,
    "start_time": "2021-11-27T15:46:57.466Z"
   },
   {
    "duration": 72,
    "start_time": "2021-11-27T15:46:57.495Z"
   },
   {
    "duration": 34,
    "start_time": "2021-11-27T15:46:57.569Z"
   },
   {
    "duration": 57,
    "start_time": "2021-11-27T15:46:57.606Z"
   },
   {
    "duration": 4,
    "start_time": "2021-11-27T15:46:57.665Z"
   },
   {
    "duration": 13,
    "start_time": "2021-11-27T15:48:32.525Z"
   },
   {
    "duration": 17,
    "start_time": "2021-11-27T15:51:40.686Z"
   },
   {
    "duration": 628,
    "start_time": "2021-11-27T15:53:21.211Z"
   },
   {
    "duration": 60,
    "start_time": "2021-11-27T15:53:21.841Z"
   },
   {
    "duration": 19,
    "start_time": "2021-11-27T15:53:21.903Z"
   },
   {
    "duration": 36,
    "start_time": "2021-11-27T15:53:21.924Z"
   },
   {
    "duration": 19,
    "start_time": "2021-11-27T15:53:21.962Z"
   },
   {
    "duration": 19,
    "start_time": "2021-11-27T15:53:21.983Z"
   },
   {
    "duration": 82,
    "start_time": "2021-11-27T15:53:22.004Z"
   },
   {
    "duration": 4,
    "start_time": "2021-11-27T15:53:22.089Z"
   },
   {
    "duration": 71,
    "start_time": "2021-11-27T15:53:22.095Z"
   },
   {
    "duration": 17,
    "start_time": "2021-11-27T15:53:22.168Z"
   },
   {
    "duration": 31,
    "start_time": "2021-11-27T15:53:22.186Z"
   },
   {
    "duration": 33,
    "start_time": "2021-11-27T15:53:22.219Z"
   },
   {
    "duration": 13,
    "start_time": "2021-11-27T15:53:22.253Z"
   },
   {
    "duration": 3714,
    "start_time": "2021-11-27T15:53:22.268Z"
   },
   {
    "duration": 4,
    "start_time": "2021-11-27T15:53:25.984Z"
   },
   {
    "duration": 14,
    "start_time": "2021-11-27T15:53:25.990Z"
   },
   {
    "duration": 17,
    "start_time": "2021-11-27T15:53:26.006Z"
   },
   {
    "duration": 39,
    "start_time": "2021-11-27T15:53:26.025Z"
   },
   {
    "duration": 4,
    "start_time": "2021-11-27T15:53:26.066Z"
   },
   {
    "duration": 25,
    "start_time": "2021-11-27T15:53:26.072Z"
   },
   {
    "duration": 60,
    "start_time": "2021-11-27T15:53:26.099Z"
   },
   {
    "duration": 36,
    "start_time": "2021-11-27T15:53:26.161Z"
   },
   {
    "duration": 56,
    "start_time": "2021-11-27T15:53:26.200Z"
   },
   {
    "duration": 4,
    "start_time": "2021-11-27T15:53:26.257Z"
   },
   {
    "duration": 6473,
    "start_time": "2021-11-27T16:04:04.812Z"
   },
   {
    "duration": 614,
    "start_time": "2021-11-27T16:04:22.422Z"
   },
   {
    "duration": 58,
    "start_time": "2021-11-27T16:04:23.037Z"
   },
   {
    "duration": 17,
    "start_time": "2021-11-27T16:04:23.098Z"
   },
   {
    "duration": 44,
    "start_time": "2021-11-27T16:04:23.117Z"
   },
   {
    "duration": 23,
    "start_time": "2021-11-27T16:04:23.163Z"
   },
   {
    "duration": 30,
    "start_time": "2021-11-27T16:04:23.188Z"
   },
   {
    "duration": 79,
    "start_time": "2021-11-27T16:04:23.220Z"
   },
   {
    "duration": 4,
    "start_time": "2021-11-27T16:04:23.302Z"
   },
   {
    "duration": 23,
    "start_time": "2021-11-27T16:04:23.345Z"
   },
   {
    "duration": 26,
    "start_time": "2021-11-27T16:04:23.370Z"
   },
   {
    "duration": 48,
    "start_time": "2021-11-27T16:04:23.398Z"
   },
   {
    "duration": 11,
    "start_time": "2021-11-27T16:04:23.448Z"
   },
   {
    "duration": 33,
    "start_time": "2021-11-27T16:04:23.461Z"
   },
   {
    "duration": 3495,
    "start_time": "2021-11-27T16:04:23.496Z"
   },
   {
    "duration": 3,
    "start_time": "2021-11-27T16:04:26.993Z"
   },
   {
    "duration": 32,
    "start_time": "2021-11-27T16:04:26.998Z"
   },
   {
    "duration": 33,
    "start_time": "2021-11-27T16:04:27.032Z"
   },
   {
    "duration": 17,
    "start_time": "2021-11-27T16:04:27.067Z"
   },
   {
    "duration": 17,
    "start_time": "2021-11-27T16:04:27.085Z"
   },
   {
    "duration": 61,
    "start_time": "2021-11-27T16:04:27.103Z"
   },
   {
    "duration": 30,
    "start_time": "2021-11-27T16:04:27.165Z"
   },
   {
    "duration": 54,
    "start_time": "2021-11-27T16:04:27.196Z"
   },
   {
    "duration": 27,
    "start_time": "2021-11-27T16:04:27.253Z"
   },
   {
    "duration": 4,
    "start_time": "2021-11-27T16:04:27.281Z"
   },
   {
    "duration": 644,
    "start_time": "2021-11-27T16:07:28.754Z"
   },
   {
    "duration": 60,
    "start_time": "2021-11-27T16:07:29.400Z"
   },
   {
    "duration": 20,
    "start_time": "2021-11-27T16:07:29.463Z"
   },
   {
    "duration": 10,
    "start_time": "2021-11-27T16:07:29.485Z"
   },
   {
    "duration": 7,
    "start_time": "2021-11-27T16:07:29.496Z"
   },
   {
    "duration": 3,
    "start_time": "2021-11-27T16:07:29.505Z"
   },
   {
    "duration": 86,
    "start_time": "2021-11-27T16:07:29.510Z"
   },
   {
    "duration": 49,
    "start_time": "2021-11-27T16:07:29.598Z"
   },
   {
    "duration": 32,
    "start_time": "2021-11-27T16:07:29.649Z"
   },
   {
    "duration": 16,
    "start_time": "2021-11-27T16:07:29.683Z"
   },
   {
    "duration": 63,
    "start_time": "2021-11-27T16:07:29.701Z"
   },
   {
    "duration": 10,
    "start_time": "2021-11-27T16:07:29.766Z"
   },
   {
    "duration": 12,
    "start_time": "2021-11-27T16:07:29.778Z"
   },
   {
    "duration": 3824,
    "start_time": "2021-11-27T16:07:29.792Z"
   },
   {
    "duration": 3,
    "start_time": "2021-11-27T16:07:33.618Z"
   },
   {
    "duration": 29,
    "start_time": "2021-11-27T16:07:33.623Z"
   },
   {
    "duration": 20,
    "start_time": "2021-11-27T16:07:33.654Z"
   },
   {
    "duration": 23,
    "start_time": "2021-11-27T16:07:33.676Z"
   },
   {
    "duration": 4,
    "start_time": "2021-11-27T16:07:33.701Z"
   },
   {
    "duration": 52,
    "start_time": "2021-11-27T16:07:33.707Z"
   },
   {
    "duration": 31,
    "start_time": "2021-11-27T16:07:33.760Z"
   },
   {
    "duration": 65,
    "start_time": "2021-11-27T16:07:33.793Z"
   },
   {
    "duration": 29,
    "start_time": "2021-11-27T16:07:33.861Z"
   },
   {
    "duration": 5,
    "start_time": "2021-11-27T16:07:33.892Z"
   },
   {
    "duration": 590,
    "start_time": "2021-11-27T16:07:46.345Z"
   },
   {
    "duration": 60,
    "start_time": "2021-11-27T16:07:46.937Z"
   },
   {
    "duration": 19,
    "start_time": "2021-11-27T16:07:46.999Z"
   },
   {
    "duration": 10,
    "start_time": "2021-11-27T16:07:47.020Z"
   },
   {
    "duration": 18,
    "start_time": "2021-11-27T16:07:47.032Z"
   },
   {
    "duration": 4,
    "start_time": "2021-11-27T16:07:47.052Z"
   },
   {
    "duration": 112,
    "start_time": "2021-11-27T16:07:47.058Z"
   },
   {
    "duration": 4,
    "start_time": "2021-11-27T16:07:47.173Z"
   },
   {
    "duration": 87,
    "start_time": "2021-11-27T16:07:47.180Z"
   },
   {
    "duration": 18,
    "start_time": "2021-11-27T16:07:47.269Z"
   },
   {
    "duration": 36,
    "start_time": "2021-11-27T16:07:47.289Z"
   },
   {
    "duration": 21,
    "start_time": "2021-11-27T16:07:47.327Z"
   },
   {
    "duration": 12,
    "start_time": "2021-11-27T16:07:47.350Z"
   },
   {
    "duration": 3505,
    "start_time": "2021-11-27T16:07:47.364Z"
   },
   {
    "duration": 3,
    "start_time": "2021-11-27T16:07:50.870Z"
   },
   {
    "duration": 30,
    "start_time": "2021-11-27T16:07:50.875Z"
   },
   {
    "duration": 22,
    "start_time": "2021-11-27T16:07:50.906Z"
   },
   {
    "duration": 30,
    "start_time": "2021-11-27T16:07:50.930Z"
   },
   {
    "duration": 5,
    "start_time": "2021-11-27T16:07:50.961Z"
   },
   {
    "duration": 23,
    "start_time": "2021-11-27T16:07:50.967Z"
   },
   {
    "duration": 56,
    "start_time": "2021-11-27T16:07:50.992Z"
   },
   {
    "duration": 33,
    "start_time": "2021-11-27T16:07:51.049Z"
   },
   {
    "duration": 27,
    "start_time": "2021-11-27T16:07:51.085Z"
   },
   {
    "duration": 5,
    "start_time": "2021-11-27T16:07:51.113Z"
   },
   {
    "duration": 7633,
    "start_time": "2021-11-27T16:08:21.150Z"
   },
   {
    "duration": 555,
    "start_time": "2021-11-27T16:09:27.377Z"
   },
   {
    "duration": 59,
    "start_time": "2021-11-27T16:09:27.934Z"
   },
   {
    "duration": 18,
    "start_time": "2021-11-27T16:09:27.996Z"
   },
   {
    "duration": 33,
    "start_time": "2021-11-27T16:09:28.015Z"
   },
   {
    "duration": 27,
    "start_time": "2021-11-27T16:09:28.049Z"
   },
   {
    "duration": 10,
    "start_time": "2021-11-27T16:09:28.078Z"
   },
   {
    "duration": 72,
    "start_time": "2021-11-27T16:09:28.090Z"
   },
   {
    "duration": 3,
    "start_time": "2021-11-27T16:09:28.164Z"
   },
   {
    "duration": 586,
    "start_time": "2021-11-27T16:09:28.169Z"
   },
   {
    "duration": 1674,
    "start_time": "2021-11-27T16:09:27.083Z"
   },
   {
    "duration": 1655,
    "start_time": "2021-11-27T16:09:27.103Z"
   },
   {
    "duration": 1652,
    "start_time": "2021-11-27T16:09:27.107Z"
   },
   {
    "duration": 1648,
    "start_time": "2021-11-27T16:09:27.111Z"
   },
   {
    "duration": 1639,
    "start_time": "2021-11-27T16:09:27.121Z"
   },
   {
    "duration": 1635,
    "start_time": "2021-11-27T16:09:27.126Z"
   },
   {
    "duration": 1628,
    "start_time": "2021-11-27T16:09:27.134Z"
   },
   {
    "duration": 1623,
    "start_time": "2021-11-27T16:09:27.139Z"
   },
   {
    "duration": 1619,
    "start_time": "2021-11-27T16:09:27.144Z"
   },
   {
    "duration": 1611,
    "start_time": "2021-11-27T16:09:27.153Z"
   },
   {
    "duration": 1608,
    "start_time": "2021-11-27T16:09:27.157Z"
   },
   {
    "duration": 1605,
    "start_time": "2021-11-27T16:09:27.161Z"
   },
   {
    "duration": 1595,
    "start_time": "2021-11-27T16:09:27.171Z"
   },
   {
    "duration": 1592,
    "start_time": "2021-11-27T16:09:27.175Z"
   },
   {
    "duration": 1587,
    "start_time": "2021-11-27T16:09:27.181Z"
   },
   {
    "duration": 303,
    "start_time": "2021-11-27T16:10:44.181Z"
   },
   {
    "duration": 584,
    "start_time": "2021-11-27T16:10:48.760Z"
   },
   {
    "duration": 61,
    "start_time": "2021-11-27T16:10:49.346Z"
   },
   {
    "duration": 20,
    "start_time": "2021-11-27T16:10:49.409Z"
   },
   {
    "duration": 16,
    "start_time": "2021-11-27T16:10:49.431Z"
   },
   {
    "duration": 13,
    "start_time": "2021-11-27T16:10:49.449Z"
   },
   {
    "duration": 17,
    "start_time": "2021-11-27T16:10:49.464Z"
   },
   {
    "duration": 83,
    "start_time": "2021-11-27T16:10:49.483Z"
   },
   {
    "duration": 4,
    "start_time": "2021-11-27T16:10:49.568Z"
   },
   {
    "duration": 373,
    "start_time": "2021-11-27T16:10:49.575Z"
   },
   {
    "duration": 1673,
    "start_time": "2021-11-27T16:10:48.277Z"
   },
   {
    "duration": 1668,
    "start_time": "2021-11-27T16:10:48.283Z"
   },
   {
    "duration": 1662,
    "start_time": "2021-11-27T16:10:48.290Z"
   },
   {
    "duration": 1658,
    "start_time": "2021-11-27T16:10:48.295Z"
   },
   {
    "duration": 1653,
    "start_time": "2021-11-27T16:10:48.301Z"
   },
   {
    "duration": 1649,
    "start_time": "2021-11-27T16:10:48.306Z"
   },
   {
    "duration": 1623,
    "start_time": "2021-11-27T16:10:48.333Z"
   },
   {
    "duration": 1613,
    "start_time": "2021-11-27T16:10:48.344Z"
   },
   {
    "duration": 1605,
    "start_time": "2021-11-27T16:10:48.353Z"
   },
   {
    "duration": 1600,
    "start_time": "2021-11-27T16:10:48.359Z"
   },
   {
    "duration": 1593,
    "start_time": "2021-11-27T16:10:48.366Z"
   },
   {
    "duration": 1588,
    "start_time": "2021-11-27T16:10:48.372Z"
   },
   {
    "duration": 1580,
    "start_time": "2021-11-27T16:10:48.381Z"
   },
   {
    "duration": 1578,
    "start_time": "2021-11-27T16:10:48.384Z"
   },
   {
    "duration": 1573,
    "start_time": "2021-11-27T16:10:48.390Z"
   },
   {
    "duration": 306,
    "start_time": "2021-11-27T16:11:53.076Z"
   },
   {
    "duration": 46,
    "start_time": "2021-11-27T16:12:00.809Z"
   },
   {
    "duration": 609,
    "start_time": "2021-11-27T16:12:08.537Z"
   },
   {
    "duration": 59,
    "start_time": "2021-11-27T16:12:09.148Z"
   },
   {
    "duration": 18,
    "start_time": "2021-11-27T16:12:09.208Z"
   },
   {
    "duration": 10,
    "start_time": "2021-11-27T16:12:09.228Z"
   },
   {
    "duration": 8,
    "start_time": "2021-11-27T16:12:09.240Z"
   },
   {
    "duration": 3,
    "start_time": "2021-11-27T16:12:09.250Z"
   },
   {
    "duration": 100,
    "start_time": "2021-11-27T16:12:09.254Z"
   },
   {
    "duration": 4,
    "start_time": "2021-11-27T16:12:09.356Z"
   },
   {
    "duration": 46,
    "start_time": "2021-11-27T16:12:09.362Z"
   },
   {
    "duration": 48,
    "start_time": "2021-11-27T16:12:09.410Z"
   },
   {
    "duration": 29,
    "start_time": "2021-11-27T16:12:09.460Z"
   },
   {
    "duration": 8,
    "start_time": "2021-11-27T16:12:09.491Z"
   },
   {
    "duration": 30,
    "start_time": "2021-11-27T16:12:09.501Z"
   },
   {
    "duration": 3521,
    "start_time": "2021-11-27T16:12:09.533Z"
   },
   {
    "duration": 3,
    "start_time": "2021-11-27T16:12:13.056Z"
   },
   {
    "duration": 25,
    "start_time": "2021-11-27T16:12:13.061Z"
   },
   {
    "duration": 39,
    "start_time": "2021-11-27T16:12:13.088Z"
   },
   {
    "duration": 36,
    "start_time": "2021-11-27T16:12:13.129Z"
   },
   {
    "duration": 11,
    "start_time": "2021-11-27T16:12:13.167Z"
   },
   {
    "duration": 56,
    "start_time": "2021-11-27T16:12:13.179Z"
   },
   {
    "duration": 34,
    "start_time": "2021-11-27T16:12:13.237Z"
   },
   {
    "duration": 34,
    "start_time": "2021-11-27T16:12:13.273Z"
   },
   {
    "duration": 51,
    "start_time": "2021-11-27T16:12:13.308Z"
   },
   {
    "duration": 4,
    "start_time": "2021-11-27T16:12:13.361Z"
   },
   {
    "duration": 7864,
    "start_time": "2021-11-27T16:12:34.486Z"
   },
   {
    "duration": 564,
    "start_time": "2021-11-27T16:14:04.692Z"
   },
   {
    "duration": 57,
    "start_time": "2021-11-27T16:14:05.258Z"
   },
   {
    "duration": 18,
    "start_time": "2021-11-27T16:14:05.317Z"
   },
   {
    "duration": 21,
    "start_time": "2021-11-27T16:14:05.336Z"
   },
   {
    "duration": 28,
    "start_time": "2021-11-27T16:14:05.358Z"
   },
   {
    "duration": 13,
    "start_time": "2021-11-27T16:14:05.388Z"
   },
   {
    "duration": 72,
    "start_time": "2021-11-27T16:14:05.403Z"
   },
   {
    "duration": 3,
    "start_time": "2021-11-27T16:14:05.476Z"
   },
   {
    "duration": 22,
    "start_time": "2021-11-27T16:14:05.482Z"
   },
   {
    "duration": 53,
    "start_time": "2021-11-27T16:14:05.506Z"
   },
   {
    "duration": 29,
    "start_time": "2021-11-27T16:14:05.560Z"
   },
   {
    "duration": 10,
    "start_time": "2021-11-27T16:14:05.591Z"
   },
   {
    "duration": 12,
    "start_time": "2021-11-27T16:14:05.603Z"
   },
   {
    "duration": 3531,
    "start_time": "2021-11-27T16:14:05.645Z"
   },
   {
    "duration": 3,
    "start_time": "2021-11-27T16:14:09.178Z"
   },
   {
    "duration": 11,
    "start_time": "2021-11-27T16:14:09.183Z"
   },
   {
    "duration": 17,
    "start_time": "2021-11-27T16:14:09.196Z"
   },
   {
    "duration": 43,
    "start_time": "2021-11-27T16:14:09.215Z"
   },
   {
    "duration": 3,
    "start_time": "2021-11-27T16:14:09.260Z"
   },
   {
    "duration": 25,
    "start_time": "2021-11-27T16:14:09.265Z"
   },
   {
    "duration": 30,
    "start_time": "2021-11-27T16:14:09.291Z"
   },
   {
    "duration": 34,
    "start_time": "2021-11-27T16:14:09.345Z"
   },
   {
    "duration": 27,
    "start_time": "2021-11-27T16:14:09.381Z"
   },
   {
    "duration": 4,
    "start_time": "2021-11-27T16:14:09.409Z"
   },
   {
    "duration": 122,
    "start_time": "2021-11-27T16:15:09.223Z"
   },
   {
    "duration": 159,
    "start_time": "2021-11-27T16:15:11.970Z"
   },
   {
    "duration": 86,
    "start_time": "2021-11-27T16:16:07.790Z"
   },
   {
    "duration": 123,
    "start_time": "2021-11-27T16:16:32.954Z"
   },
   {
    "duration": 87,
    "start_time": "2021-11-27T16:18:23.073Z"
   },
   {
    "duration": 604,
    "start_time": "2021-11-27T16:20:16.105Z"
   },
   {
    "duration": 58,
    "start_time": "2021-11-27T16:20:16.710Z"
   },
   {
    "duration": 18,
    "start_time": "2021-11-27T16:20:16.770Z"
   },
   {
    "duration": 31,
    "start_time": "2021-11-27T16:20:16.790Z"
   },
   {
    "duration": 21,
    "start_time": "2021-11-27T16:20:16.823Z"
   },
   {
    "duration": 14,
    "start_time": "2021-11-27T16:20:16.846Z"
   },
   {
    "duration": 84,
    "start_time": "2021-11-27T16:20:16.862Z"
   },
   {
    "duration": 4,
    "start_time": "2021-11-27T16:20:16.949Z"
   },
   {
    "duration": 48,
    "start_time": "2021-11-27T16:20:16.954Z"
   },
   {
    "duration": 36,
    "start_time": "2021-11-27T16:20:17.003Z"
   },
   {
    "duration": 32,
    "start_time": "2021-11-27T16:20:17.040Z"
   },
   {
    "duration": 8,
    "start_time": "2021-11-27T16:20:17.073Z"
   },
   {
    "duration": 11,
    "start_time": "2021-11-27T16:20:17.083Z"
   },
   {
    "duration": 3250,
    "start_time": "2021-11-27T16:20:17.095Z"
   },
   {
    "duration": 3,
    "start_time": "2021-11-27T16:20:20.347Z"
   },
   {
    "duration": 31,
    "start_time": "2021-11-27T16:20:20.351Z"
   },
   {
    "duration": 30,
    "start_time": "2021-11-27T16:20:20.383Z"
   },
   {
    "duration": 45,
    "start_time": "2021-11-27T16:20:20.415Z"
   },
   {
    "duration": 4,
    "start_time": "2021-11-27T16:20:20.462Z"
   },
   {
    "duration": 42,
    "start_time": "2021-11-27T16:20:20.468Z"
   },
   {
    "duration": 32,
    "start_time": "2021-11-27T16:20:20.511Z"
   },
   {
    "duration": 34,
    "start_time": "2021-11-27T16:20:20.545Z"
   },
   {
    "duration": 29,
    "start_time": "2021-11-27T16:20:20.582Z"
   },
   {
    "duration": 32,
    "start_time": "2021-11-27T16:20:20.612Z"
   },
   {
    "duration": 257,
    "start_time": "2021-12-15T07:56:59.368Z"
   }
  ],
  "kernelspec": {
   "display_name": "Python 3 (ipykernel)",
   "language": "python",
   "name": "python3"
  },
  "language_info": {
   "codemirror_mode": {
    "name": "ipython",
    "version": 3
   },
   "file_extension": ".py",
   "mimetype": "text/x-python",
   "name": "python",
   "nbconvert_exporter": "python",
   "pygments_lexer": "ipython3",
   "version": "3.9.12"
  },
  "toc": {
   "base_numbering": 1,
   "nav_menu": {},
   "number_sections": true,
   "sideBar": true,
   "skip_h1_title": true,
   "title_cell": "Table of Contents",
   "title_sidebar": "Contents",
   "toc_cell": false,
   "toc_position": {},
   "toc_section_display": true,
   "toc_window_display": false
  }
 },
 "nbformat": 4,
 "nbformat_minor": 4
}
