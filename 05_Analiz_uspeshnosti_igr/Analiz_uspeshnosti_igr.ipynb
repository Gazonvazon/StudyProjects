{
 "cells": [
  {
   "cell_type": "markdown",
   "metadata": {},
   "source": [
    "# Изучение закономерностей, определяющих успешность игр"
   ]
  },
  {
   "cell_type": "markdown",
   "metadata": {},
   "source": [
    "**Описание исследования**\n",
    "\n",
    "Интернет-магазин «Стримчик» продаёт по всему миру компьютерные игры. Из открытых источников доступны исторические данные о продажах игр, оценки пользователей и экспертов, жанры и платформы (например, Xbox или PlayStation)\n",
    "\n",
    "_____\n",
    "**Цели исследования**\n",
    "\n",
    "* выявить определяющие успешность игры закономерности.\n",
    "* получить возможность делать ставку на потенциально популярный продукт и планировать рекламные кампании.\n",
    "_____\n",
    "**Задачи исследования.**\n",
    "\n",
    "*  провести исследовательский анализ данных\n",
    "*  составить портрет пользователя каждого региона\n",
    "*  выявить определяющие успешность игры закономерности.\n",
    "\n",
    "**Исходные данные.**\n",
    "    \n",
    "Перед нами данные до 2016 года, где:\n",
    "\n",
    "*\tName — название игры\n",
    "*\tPlatform — платформа\n",
    "*\tYear_of_Release — год выпуска\n",
    "*\tGenre — жанр игры\n",
    "*\tNA_sales — продажи в Северной Америке (миллионы проданных копий)\n",
    "*\tEU_sales — продажи в Европе (миллионы проданных копий)\n",
    "*\tJP_sales — продажи в Японии (миллионы проданных копий)\n",
    "*\tOther_sales — продажи в других странах (миллионы проданных копий)\n",
    "*\tCritic_Score — оценка критиков (максимум 100)\n",
    "*\tUser_Score — оценка пользователей (максимум 10)\n",
    "*\tRating — рейтинг от организации ESRB (англ. Entertainment Software Rating Board). Эта ассоциация определяет рейтинг компьютерных игр и присваивает им подходящую возрастную категорию\n",
    "\n",
    "\n",
    "\n",
    "______\n",
    "\n",
    "**Данное исследование разделим на несколько частей:**\n",
    "\n",
    "* [Изучение общей информации](#main_info)\n",
    "* [Подготовка данных](#preparing)\n",
    "* [Исследовательский анализ данных](#explore_data)\n",
    "* [Портрет пользователя каждого региона](#portret)\n",
    "* [Проверка гипотез](#check_hypothysis)\n",
    "* [Общий вывод](#summary)"
   ]
  },
  {
   "cell_type": "markdown",
   "metadata": {},
   "source": [
    "<a id='main_info'></a>\n",
    "# 1. Изучение общей информации"
   ]
  },
  {
   "cell_type": "code",
   "execution_count": 1,
   "metadata": {},
   "outputs": [],
   "source": [
    "import pandas as pd\n",
    "import matplotlib.pyplot as plt\n",
    "from scipy import stats as st\n",
    "\n",
    "pd.set_option('display.float_format', '{:,.2f}'.format)"
   ]
  },
  {
   "cell_type": "code",
   "execution_count": 3,
   "metadata": {},
   "outputs": [
    {
     "name": "stdout",
     "output_type": "stream",
     "text": [
      "<class 'pandas.core.frame.DataFrame'>\n",
      "RangeIndex: 16715 entries, 0 to 16714\n",
      "Data columns (total 11 columns):\n",
      " #   Column           Non-Null Count  Dtype  \n",
      "---  ------           --------------  -----  \n",
      " 0   Name             16713 non-null  object \n",
      " 1   Platform         16715 non-null  object \n",
      " 2   Year_of_Release  16446 non-null  float64\n",
      " 3   Genre            16713 non-null  object \n",
      " 4   NA_sales         16715 non-null  float64\n",
      " 5   EU_sales         16715 non-null  float64\n",
      " 6   JP_sales         16715 non-null  float64\n",
      " 7   Other_sales      16715 non-null  float64\n",
      " 8   Critic_Score     8137 non-null   float64\n",
      " 9   User_Score       10014 non-null  object \n",
      " 10  Rating           9949 non-null   object \n",
      "dtypes: float64(6), object(5)\n",
      "memory usage: 1.4+ MB\n"
     ]
    }
   ],
   "source": [
    "data = pd.read_csv('games.csv')\n",
    "data.info()"
   ]
  },
  {
   "cell_type": "markdown",
   "metadata": {},
   "source": [
    "Выведем уникальные значения по всем столбцам - посмотрим есть ли какие-то аномалии"
   ]
  },
  {
   "cell_type": "code",
   "execution_count": null,
   "metadata": {},
   "outputs": [],
   "source": [
    "# выведем уникальные значения по всем столбцам - посмотрим есть ли какие-то аномалии\n",
    "def show_data_values(data):\n",
    "    for col in data.columns:    \n",
    "        try:\n",
    "            values = sorted(data[col].unique())\n",
    "            # если больше 10 значений, выведем только первые и последние 5\n",
    "            if len(values) > 10:\n",
    "                display (col, values[:5], values[-5:])\n",
    "            else: display(col, values)\n",
    "        except:\n",
    "            display(f'После except: {col}', data[col].unique()) \n",
    "            \n",
    "            \n",
    "show_data_values(data)"
   ]
  },
  {
   "cell_type": "markdown",
   "metadata": {},
   "source": [
    "***Вывод:*** Найдены следующие аномалии:\n",
    "* названия столбцов в написаны разном регистре\n",
    "* в 'User_Score' есть нечисловое значение 'tbd' \n",
    "* в 'User_Score' тип столюбца нужно заменить на числовой"
   ]
  },
  {
   "cell_type": "markdown",
   "metadata": {},
   "source": [
    "<a id='preparing'></a>\n",
    "# 2. Подготовка данных"
   ]
  },
  {
   "cell_type": "markdown",
   "metadata": {},
   "source": [
    "**На этом шаге**\n",
    "* исправим аномалии\n",
    "* обработаем пропуски\n",
    "* добавим столбец с суммарными продажами во всех регионах"
   ]
  },
  {
   "cell_type": "markdown",
   "metadata": {},
   "source": [
    "Приведем названия столбцов в нижний регистр"
   ]
  },
  {
   "cell_type": "code",
   "execution_count": null,
   "metadata": {},
   "outputs": [],
   "source": [
    "data.columns = data.columns.str.lower()\n",
    "data.columns"
   ]
  },
  {
   "cell_type": "markdown",
   "metadata": {},
   "source": [
    "Ячейки, где значения 'user_score' равно 'tbd' заполним как 'nan', потому что это аббревиатура, означающая, что еще не определено значение."
   ]
  },
  {
   "cell_type": "code",
   "execution_count": null,
   "metadata": {},
   "outputs": [],
   "source": [
    "data.loc[data['user_score'] == 'tbd', 'user_score' ] = float('nan')\n",
    "data['user_score'] = pd.to_numeric(data['user_score'])\n"
   ]
  },
  {
   "cell_type": "markdown",
   "metadata": {},
   "source": [
    "**Обработка пропусков**\n",
    "\n",
    "Теперь проверим пропуски"
   ]
  },
  {
   "cell_type": "code",
   "execution_count": null,
   "metadata": {
    "scrolled": true
   },
   "outputs": [],
   "source": [
    "data.isna().sum()"
   ]
  },
  {
   "cell_type": "markdown",
   "metadata": {},
   "source": [
    "Заполним пропущенные значения рейтингов на 'unknown', так как восстановить их не получится, а эта информация принцыпиальна для исследования"
   ]
  },
  {
   "cell_type": "code",
   "execution_count": null,
   "metadata": {},
   "outputs": [],
   "source": [
    "data['critic_score'] = data['critic_score'].fillna(-1)\n",
    "data['user_score'] = data['user_score'].fillna(-1)\n",
    "data['rating'] = data['rating'].fillna('unknown')\n",
    "\n",
    "data.isna().sum()"
   ]
  },
  {
   "cell_type": "markdown",
   "metadata": {},
   "source": [
    "Теперь посмотрим, что делать с годами."
   ]
  },
  {
   "cell_type": "code",
   "execution_count": null,
   "metadata": {},
   "outputs": [],
   "source": [
    "print('Доля строк с незаполненным годом:', len(data[data['year_of_release'].isna()]) / len(data))"
   ]
  },
  {
   "cell_type": "markdown",
   "metadata": {},
   "source": [
    "Поскольку доля таких строк всего 1.6%, можем просто их не использовать. То же самое с названиями и жанрами."
   ]
  },
  {
   "cell_type": "code",
   "execution_count": null,
   "metadata": {
    "scrolled": true
   },
   "outputs": [],
   "source": [
    "data = data[~data['year_of_release'].isna()]\n",
    "data = data[~data['name'].isna()]\n",
    "data = data[~data['genre'].isna()]\n",
    "\n",
    "data.isna().sum()"
   ]
  },
  {
   "cell_type": "markdown",
   "metadata": {},
   "source": [
    "Добавим столбец с суммарными продажами во всех регионах."
   ]
  },
  {
   "cell_type": "code",
   "execution_count": null,
   "metadata": {},
   "outputs": [],
   "source": [
    "data['all_regions_sales'] = data[\"na_sales\"] + data[\"eu_sales\"] + data[\"jp_sales\"] + data[\"other_sales\"]\n",
    "data.head()"
   ]
  },
  {
   "cell_type": "markdown",
   "metadata": {},
   "source": [
    "***Вывод:*** Аномалии исправлены, пропуски обработаны, столбец с суммарными продажами во всех регионах добавлен"
   ]
  },
  {
   "cell_type": "markdown",
   "metadata": {},
   "source": [
    "<a id='explore_data'></a>\n",
    "# 3. Исследовательский анализ данных"
   ]
  },
  {
   "cell_type": "markdown",
   "metadata": {},
   "source": [
    "На этом шаге:\n",
    "* Посмотрим, сколько игр выпускалось в разные годы. Важны ли данные за все периоды?\n",
    "* Посмотрим, как менялись продажи по платформам. Выберите платформы с наибольшими суммарными продажами и постройте распределение по годам. За какой характерный срок появляются новые и исчезают старые платформы?\n",
    "* Определим актуальный период для достаточного прогнозирования\n",
    "* Определим, какие платформы лидируют по продажам, растут или падают? Выбем несколько потенциально прибыльных платформ.\n",
    "* Построем график «ящик с усами» по глобальным продажам игр в разбивке по платформам.\n",
    "* Посмотрим, как влияют на продажи внутри одной популярной платформы отзывы пользователей и критиков.\n",
    "* Построим диаграмму рассеяния и посчитаем корреляцию между отзывами и продажами.\n",
    "* Соотнесем выводы с продажами игр на других платформах.\n",
    "* Посмотрим на общее распределение игр по жанрам.\n"
   ]
  },
  {
   "cell_type": "markdown",
   "metadata": {},
   "source": [
    "Посмотрим, сколько игр выпускалось в разные годы"
   ]
  },
  {
   "cell_type": "code",
   "execution_count": null,
   "metadata": {
    "scrolled": true
   },
   "outputs": [],
   "source": [
    "years_counts = data['year_of_release'].value_counts()\n",
    "years_counts = pd.DataFrame({'year':years_counts.index, 'games_count':years_counts.values})\n",
    "#display(years_counts.sort_values(by='year'))\n",
    "\n",
    "\n",
    "years_counts.sort_values(by='year').plot(x='year', y='games_count', kind='bar', title='Количество игр по годам', figsize=(10,5))\n",
    "max_games_year = years_counts[years_counts['games_count'] == years_counts['games_count'].max()]['year'][0]\n",
    "print('Максимум игр выпущено в', max_games_year , 'году')\n",
    "    "
   ]
  },
  {
   "cell_type": "markdown",
   "metadata": {},
   "source": [
    "***Вывод:*** Общая тенденция на графике видна довольно отчетливо: после 1990х пошло равномерное увеличение кол-ва выпускаемых игр вплоть до 2008, далее пошел аналогичный спад, причем в 2012 очень резкий."
   ]
  },
  {
   "cell_type": "markdown",
   "metadata": {},
   "source": [
    "Посмотрим, как менялись продажи по платформам. Выберим платформы с наибольшими суммарными продажами и построим распределение по годам. "
   ]
  },
  {
   "cell_type": "code",
   "execution_count": null,
   "metadata": {},
   "outputs": [],
   "source": [
    "top_platforms = data.groupby('platform')['all_regions_sales'].sum().sort_values(ascending=False)[:10]\n",
    "top_platforms = data[data['platform'].isin(top_platforms.index)]\n",
    "\n",
    "top_platforms.pivot_table(index='year_of_release', columns='platform', values='all_regions_sales', aggfunc='sum').plot(figsize=(15,8))"
   ]
  },
  {
   "cell_type": "markdown",
   "metadata": {},
   "source": [
    "***Вывод:*** По графикам продаж 10 топовых платформ можно сделать некоторые выводы:\n",
    "* у большинства платформ график продаж имеют резкий рост продаж и аналогично резкий спад после некоторого периода удержания на высоких позициях продаж. Обычно можно выделить 1 или 2 пиковые точки\n",
    "* характерная продолжительность жизни большинства платформ окло 8-10 лет\n",
    "* каждые 5-7 лет появляются новые платформы (но тут слишком мало данных чтобы это точно сказать)"
   ]
  },
  {
   "cell_type": "markdown",
   "metadata": {},
   "source": [
    "Определим актульный период для прогнозирования"
   ]
  },
  {
   "cell_type": "markdown",
   "metadata": {},
   "source": [
    "Чтобы узнать актульный период для прогнозирования определим среднее время жизни платформ более точно. Для отсеивания мелких выделим плафтформы, у которых сумма продаж больше 1 млн в год и посчитаем как долго такие платформы держатся на плаву с таким кол-вом продаж."
   ]
  },
  {
   "cell_type": "code",
   "execution_count": null,
   "metadata": {
    "scrolled": true
   },
   "outputs": [],
   "source": [
    "# платформы с продажами более 1 млн в год, еще актуальные в 2016\n",
    "platforms_2016_actual = data.query('year_of_release == 2016 and all_regions_sales >= 1').groupby('platform')['year_of_release'].first()\n",
    "display(platforms_2016_actual.index)\n",
    "\n",
    "# платформы с продажами более 1 млн в год и которые уже не актульны в 2016\n",
    "platfroms_top_sales = data[(~data['platform'].isin(platforms_2016_actual.index)) & (data['all_regions_sales'] >= 1)].groupby('platform')\n",
    "platforms_billion_sales = (platfroms_top_sales['year_of_release'].max() - platfroms_top_sales['year_of_release'].min()).sort_values(ascending=False)\n",
    "platforms_billion_sales"
   ]
  },
  {
   "cell_type": "markdown",
   "metadata": {},
   "source": [
    "Теперь узнаем среднее время жизни таких платформ, исключив PC, как сильно выбивающиеся"
   ]
  },
  {
   "cell_type": "code",
   "execution_count": null,
   "metadata": {},
   "outputs": [],
   "source": [
    "print('Среднее время жизни платформ:', platforms_billion_sales[1:].mean(), 'лет')"
   ]
  },
  {
   "cell_type": "markdown",
   "metadata": {},
   "source": [
    "***Вывод:*** Среднее время жизни платформ около 6 лет, но поскольку игровая индустрия - очень динамично меняющаяяся, возмем половину от этого - 3 года, значит для нас актуальные данные будут с 2014г."
   ]
  },
  {
   "cell_type": "code",
   "execution_count": null,
   "metadata": {},
   "outputs": [],
   "source": [
    "platforms_actual = data.query('year_of_release >= 2014')"
   ]
  },
  {
   "cell_type": "markdown",
   "metadata": {},
   "source": [
    "Опредлим платформы, лидирующие по продажам, растущие и падающие, посмотрим по среднему значению."
   ]
  },
  {
   "cell_type": "code",
   "execution_count": null,
   "metadata": {},
   "outputs": [],
   "source": [
    "platforms_actual.groupby('platform')['all_regions_sales'].mean().sort_values(ascending=False)"
   ]
  },
  {
   "cell_type": "markdown",
   "metadata": {},
   "source": [
    "***Вывод:*** Лидируют по продажам с 2014 на данный момент:  PS4, XOne, WiiU, Wii, X360 и 3Ds"
   ]
  },
  {
   "cell_type": "markdown",
   "metadata": {},
   "source": [
    "Теперь посмортим по графку у кого растут суммарные продажи"
   ]
  },
  {
   "cell_type": "code",
   "execution_count": null,
   "metadata": {},
   "outputs": [],
   "source": [
    "platforms_actual.pivot_table(index='year_of_release', columns='platform', values='all_regions_sales', aggfunc='sum').plot(grid=True, figsize=(15,10))"
   ]
  },
  {
   "cell_type": "markdown",
   "metadata": {},
   "source": [
    "***Вывод:*** По сравнению с 2014г с 2015г на данный момент продажи упали у всех. самые высокие по продажам на данный момент - PS4 и XOne, еще чуть ниже 3Ds, у большинства остальных платформ все примерно одинаково несладко."
   ]
  },
  {
   "cell_type": "markdown",
   "metadata": {},
   "source": [
    "Построим график «ящик с усами» по глобальным продажам игр в разбивке по платформам."
   ]
  },
  {
   "cell_type": "code",
   "execution_count": null,
   "metadata": {},
   "outputs": [],
   "source": [
    "platforms_actual.boxplot(column='all_regions_sales', by='platform', figsize=(15,7))\n",
    "plt.ylim(0,1)\n",
    "\n",
    "plt.show()"
   ]
  },
  {
   "cell_type": "markdown",
   "metadata": {},
   "source": [
    "***Вывод:*** Посмотрев на боксплоты, можем сказать, что разброс по продажам в каждой платформе довольно сильно различается. Поэтому сравним наиболее типичные продажи по платформам, глядя на медианы. И в этом случае лидирует XOne, чуть ниже идет WiiU и далее почти наравне идут PS4, Wii и X360. PSP и PSV отстают больше всех."
   ]
  },
  {
   "cell_type": "markdown",
   "metadata": {},
   "source": [
    "Посмотрим, как влияют на продажи внутри одной популярной платформы, например 'XOne' (как популярную, но не самую) отзывы пользователей и критиков. Также посчитаем корреляцию"
   ]
  },
  {
   "cell_type": "code",
   "execution_count": null,
   "metadata": {},
   "outputs": [],
   "source": [
    "# метод для вывода графика зависимоти и корреляций отзывов и продаж для выбранной платформы\n",
    "def show_corr_score_sales(name_platform):\n",
    "    selected_platform = platforms_actual.query('platform == @name_platform & critic_score > -1 & user_score > -1')    \n",
    "    if len(selected_platform) > 0:\n",
    "        print(f\"Корреляция между отзывами критиков и продажами {name_platform}:\", selected_platform['critic_score'].corr(selected_platform['all_regions_sales']))\n",
    "        print(f\"Корреляция между отзывами пользователей и продажами {name_platform}:\", selected_platform['user_score'].corr(selected_platform['all_regions_sales']))    \n",
    "        print('\\nГрафики корреляции отзывов и продаж на платформе', name_platform)\n",
    "        selected_platform.plot(x='critic_score', y='all_regions_sales', kind='scatter') \n",
    "        plt.show()\n",
    "        selected_platform.plot(x='user_score', y='all_regions_sales', kind='scatter')\n",
    "        plt.show()"
   ]
  },
  {
   "cell_type": "code",
   "execution_count": null,
   "metadata": {},
   "outputs": [],
   "source": [
    "show_corr_score_sales('X360')"
   ]
  },
  {
   "cell_type": "markdown",
   "metadata": {},
   "source": [
    "Коэффициэнты корреляции говорят о том, что линейая связь практически не прослеживается. А по графикам мы видим, что зависимость продаж от отзывов критиков явно имеется и идет на пользу уже после оценки 60. Оценки пользователей вляиют меньше, и даже с очень низкими оценками есть неплохие продажи."
   ]
  },
  {
   "cell_type": "markdown",
   "metadata": {},
   "source": [
    "Проверим наши выводы на других платформах"
   ]
  },
  {
   "cell_type": "code",
   "execution_count": null,
   "metadata": {},
   "outputs": [],
   "source": [
    "for pl in platforms_actual['platform'].unique():\n",
    "    show_corr_score_sales(pl)"
   ]
  },
  {
   "cell_type": "markdown",
   "metadata": {},
   "source": [
    "***Вывод:*** Посмотрев все графики и коэффициенты корреляции можено сделать вывод, что наши выводы верны только для платформ: PS3, X360, PS4, XOne, PC. На 3DS, WiiU, PSV влияние оценок пользователей чуть больше. На остальных же платформах слишком мало данных для данной оценки."
   ]
  },
  {
   "cell_type": "markdown",
   "metadata": {},
   "source": [
    "Посмотрим на общее распределение игр по жанрам. Для этого рассмотрим медианные продажи:"
   ]
  },
  {
   "cell_type": "code",
   "execution_count": null,
   "metadata": {
    "scrolled": true
   },
   "outputs": [],
   "source": [
    "platforms_actual['genre'].unique()\n",
    "platforms_actual.groupby('genre')['all_regions_sales'].agg('median').sort_values(ascending=False).plot(kind='bar', x='genre', y='all_regions_sales', grid=True)"
   ]
  },
  {
   "cell_type": "markdown",
   "metadata": {},
   "source": [
    "***Вывод:*** видно, что самые прибыльный жанр это 'Shooter' - с большим отрывом. Далее отставнием почти в 3 раза идет Sports и далее с плавным убыванием Platform, Fighting, Role-Playing, Simulation. Самые меньшие продажи выходят от Adventure, Puzzle и Strategy."
   ]
  },
  {
   "cell_type": "markdown",
   "metadata": {},
   "source": [
    "**Что получили в данном шаге**\n",
    "* общая тенденция выпуска игр по годам найдена\n",
    "* продажи по платформам проанализированы: общая тенденция продаж и ее изменения по годам, найдены платформы с наибольшими суммарными и средними продажами, узнали среднее время жизни платформ\n",
    "* проанализированы продажи по платформам за выбранный период с 2014г: определены лидеры по продажам за период (по среднему и медианному значениям), узнали у кого растут, а кого падают медианные продажи, \n",
    "* на примере одной платформы выяснили влияние отзывов пользователей и критиков на продажи, а также сравнили данные выводы с другими платформами\n",
    "* узнали распределение по жанрам медианных продаж"
   ]
  },
  {
   "cell_type": "markdown",
   "metadata": {},
   "source": [
    "<a id='portret'></a>\n",
    "# 4. Портрет пользователя каждого региона"
   ]
  },
  {
   "cell_type": "markdown",
   "metadata": {},
   "source": [
    "В этом разделе определим для пользователя каждого региона (NA, EU, JP):\n",
    "* Самые популярные платформы (топ-5)\n",
    "* Самые популярные жанры (топ-5)\n",
    "* Посмотрим влияет ли рейтинг ESRB на продажи в отдельном регионе"
   ]
  },
  {
   "cell_type": "markdown",
   "metadata": {},
   "source": [
    "Топ 5 популярных платформ"
   ]
  },
  {
   "cell_type": "code",
   "execution_count": null,
   "metadata": {},
   "outputs": [],
   "source": [
    "platforms_actual.head()"
   ]
  },
  {
   "cell_type": "code",
   "execution_count": null,
   "metadata": {},
   "outputs": [],
   "source": [
    "# отображает доли продаж для 3х регионов по переданному полю группировки. Вид - круговые диаграммы\n",
    "def show_pies_for_regions(grouping_field):\n",
    "    for region in ['na_sales', 'eu_sales', 'jp_sales']:        \n",
    "        platforms_actual.groupby(grouping_field)[region].sum().sort_values(ascending=False)[:5].plot.pie(subplots=True, legend=True, figsize=(15,5), autopct='%1.1f%%', title=region)\n",
    "        plt.show()"
   ]
  },
  {
   "cell_type": "code",
   "execution_count": null,
   "metadata": {
    "scrolled": true
   },
   "outputs": [],
   "source": [
    "show_pies_for_regions('platform')"
   ]
  },
  {
   "cell_type": "markdown",
   "metadata": {},
   "source": [
    "***Вывод:*** В разных регионах свои любимчики: в Северной Америке - X360 (33%), в Европе - PS3 (30%), в Японии - 3DS (47%). Интересно, что X360 топовый для Северной Америки, совсем не попал в топ 5 в Японии. При этом PS3 во всех регионах на 1-ом или на 2-ом месте, а PS4 и 3DS вошли в топ 5 всех регионов. XOne входит в 5 лидеров только в Северной Америке."
   ]
  },
  {
   "cell_type": "code",
   "execution_count": null,
   "metadata": {
    "scrolled": true
   },
   "outputs": [],
   "source": [
    "show_pies_for_regions('genre')"
   ]
  },
  {
   "cell_type": "markdown",
   "metadata": {},
   "source": [
    "***Вывод:*** Северная Америка и Европа имеют почти идентичное распределение первых 4х топовых жанров (Action, Shooter, Sports и Role-Playing).\n",
    "А Япония отличилась: у них Role-Playing на 1м месте (вместо 4го), а также добавились 2 жанра не свойственных двум другим регионам: Fighting и Platform."
   ]
  },
  {
   "cell_type": "markdown",
   "metadata": {},
   "source": [
    "Рассмотрим влияние рейтинга ESRB на продажи в отдельном регионе"
   ]
  },
  {
   "cell_type": "code",
   "execution_count": null,
   "metadata": {},
   "outputs": [],
   "source": [
    "platforms_actual.pivot_table(index='rating', values=['na_sales', 'eu_sales', 'jp_sales'], aggfunc='sum').sort_values(by='na_sales',  ascending=False).plot(kind='bar', figsize=(15,8), title='Продажи в зависимости от рейтинга ESRB по регионам')"
   ]
  },
  {
   "cell_type": "markdown",
   "metadata": {},
   "source": [
    "***Вывод:*** По известным рейтингам можно сказать, что в Северной америке и Европе зависимость продаж от рейтинга примерно одинаковая: рейтинг М явно лидирует, Е определенно имеет 2-ое место, а ретинги E10 и T имеют почти равный приоритет. А вот в Японии лидерство имеет рейтинг T, далее рейтинг E и пости такой же M, E10 - самый непопулярный.\n",
    "\n",
    "Также очень заметное влияние неизвестных рейтингов, доля даже на глаз очень большая, особенно это сказывается на японских рейтингах. Поэтому очень желательно эти данные узнать, если возможно.\n",
    "\n",
    "Получается, что в Северной Америке и Европе очень сильно склонны к играм, содержащим насилие и непристойности, а в Японии это прявляется в значительно меньшей степени."
   ]
  },
  {
   "cell_type": "markdown",
   "metadata": {},
   "source": [
    "**Что получили в данном шаге**\n",
    "* узнали, что в разных регионах свои любимые платформы\n",
    "* узнали распределение по жанрам - Япония особенно отличилась\n",
    "* узнали влияние рейтинга ESRB на продажи в отдельных регионах. Тут же поняли, что слишком много неизвестных рейтингов, желательно их уточнить"
   ]
  },
  {
   "cell_type": "markdown",
   "metadata": {},
   "source": [
    "<a id='check_hypothysis'></a>\n",
    "# 5. Проверка гипотез"
   ]
  },
  {
   "cell_type": "markdown",
   "metadata": {},
   "source": [
    "В этом разделе проверим утверждения:\n",
    "* Средние пользовательские рейтинги платформ Xbox One и PC одинаковые\n",
    "* Средние пользовательские рейтинги жанров Action и Sports разные"
   ]
  },
  {
   "cell_type": "markdown",
   "metadata": {},
   "source": [
    "Нулевые гипотезы сформулируем так, что в каждом рассматриваемом случае рейтинги равны. А альтернативные - что рейтинги различаются\n",
    "Проверим нулевые гипотезы и сравним полученный уровень значимости (p-значение) с общепринятым alpha=0.05"
   ]
  },
  {
   "cell_type": "markdown",
   "metadata": {},
   "source": [
    "***Нулевая гипотеза 1:*** Средние пользовательские рейтинги платформ Xbox One и PC **одинаковые**\n",
    "\n",
    "***Альтернативная гипотеза 1:*** Средние пользовательские рейтинги платформ Xbox One и PC **различаются**"
   ]
  },
  {
   "cell_type": "markdown",
   "metadata": {},
   "source": [
    "Проверим. При проверкой гипотез из проверяемых данных также пропуски"
   ]
  },
  {
   "cell_type": "code",
   "execution_count": null,
   "metadata": {},
   "outputs": [],
   "source": [
    "results = st.ttest_ind(platforms_actual.query('platform == \"XOne\"')['user_score'].dropna() , platforms_actual.query('platform == \"PC\"')['user_score'].dropna() ,  equal_var = False)\n",
    "print('p-значение: ', results.pvalue)"
   ]
  },
  {
   "cell_type": "markdown",
   "metadata": {},
   "source": [
    "***Вывод:*** p-значение намного больше выбранного alpha=0.05, поэтому склоняемся к нулевой гипотезе и утверждению: средние пользовательские рейтинги платформ Xbox One и PC одинаковые"
   ]
  },
  {
   "cell_type": "markdown",
   "metadata": {},
   "source": [
    "***Нулевая гипотеза 2:*** Средние пользовательские рейтинги жанров Action и Sports **одинаковые**\n",
    "\n",
    "***Альтернативная гипотеза 2:*** Средние пользовательские рейтинги жанров Action и Sports **разные**"
   ]
  },
  {
   "cell_type": "code",
   "execution_count": null,
   "metadata": {
    "scrolled": true
   },
   "outputs": [],
   "source": [
    "results = st.ttest_ind(platforms_actual.query('genre == \"Action\"')['user_score'].dropna(), platforms_actual.query('genre == \"Sports\"')['user_score'].dropna(), equal_var = False)\n",
    "print('p-значение: ', results.pvalue)"
   ]
  },
  {
   "cell_type": "markdown",
   "metadata": {},
   "source": [
    "***Вывод***  p-значение значительно меньше выбранного alpha=0.05, поэтому склоняемся к альтернативной гипотезе и утверждению: средние пользовательские рейтинги жанров Action и Sports разные"
   ]
  },
  {
   "cell_type": "markdown",
   "metadata": {},
   "source": [
    "<a id='summary'></a>\n",
    "#  Общий вывод"
   ]
  },
  {
   "cell_type": "markdown",
   "metadata": {},
   "source": [
    "Выведем отдельно выводы, сделанные выше:\n",
    "* после 1990х пошло равномерное увеличение кол-ва выпускаемых игр вплоть до 2008-2009, далее пошел аналогичный спад\n",
    "* у большинства платформ график продаж имеют резкий рост продаж и аналогично резкий спад после некоторого периода удержания на высоких позициях продаж. Обычно можно выделить 1 или 2 пиковые точки\n",
    "* Среднее время жизни платформ около 6 лет, но поскольку игровая индустрия - очень динамично меняющаяяся, возмем половину от этого - 3 года, значит для нас актуальные данные будут с 2014г.\n",
    "* Платформы, лидирующе по продажам с 2011 на данный момент:  PS3, X360, PS4, 3DS и XOne\n",
    "* По сравнению с 2014г с 2015г на данный момент продажи упали у всех. самые высокие по продажам на данный момент - PS4 и XOne, еще чуть ниже 3Ds, у большинства остальных платформ все примерно одинаково несладко.\n",
    "* Разброс по продажам в каждой платформе довольно сильно различается. Поэтому сравним наиболее типичные продажи по платформам, глядя на медианы. И в этом случае лидирует XOne, чуть ниже идет WiiU и далее почти наравне идут PS4, Wii и X360. PSP и PSV отстают больше всех.\n",
    "* Зависимость продаж от отзывов критиков явно имеется для платформ: PS3, X360, PS4, XOne, PC. Для них же оценки пользователей влияют меньше, и даже с очень низкими оценками есть неплохие продажи. На 3DS, WiiU, PSV влияние отзывов критиков такое же высокое, а также влияние оценок пользователей  больше, чем у вышеназванных платформ.\n",
    "* самый прибыльный жанр это 'Shooter' - с большим отрывом. Далее отставнием почти в 3 раза идет Sports и далее с плавным убыванием Platform, Fighting, Role-Playing, Simulation. Самые меньшие продажи выходят от Adventure, Puzzle и Strategy.\n",
    "* В разных регионах свои любимые платформы: в Северной Америке - X360 (33%), в Европе - PS3 (30%), в Японии - 3DS (47%). Интересно, что X360 топовый для Северной Америки, совсем не попал в топ 5 в Японии. При этом PS3 во всех регионах на 1-ом или на 2-ом месте, а PS4 и 3DS вошли в топ 5 всех регионов. XOne входит в 5 лидеров только в Северной Америке.\n",
    "* Северная Америка и Европа имеют почти идентичное распределение первых 4х топовых жанров (Action, Shooter, Sports и Role-Playing). А Япония отличилась: у них Role-Playing на 1м месте (вместо 4го), а также добавились 2 жанра не свойственных двум другим регионам: Fighting и Platform.\n",
    "* в Северной америке и Европе зависимость продаж от рейтинга примерно одинаковая: рейтинг М явно лидирует, Е определенно имеет 2-ое место, а ретинги E10 и T имеют почти равный приоритет. А вот в Японии лидерство делят рейтин E и T, М идет только на 3-ем месте и E10 - самый непопулярный.\n",
    "* вероятно: средние пользовательские рейтинги платформ Xbox One и PC одинаковые\n",
    "* вероятно: средние пользовательские рейтинги жанров Action и Sports разные\n",
    "\n"
   ]
  },
  {
   "cell_type": "markdown",
   "metadata": {},
   "source": [
    "***Вывод:*** Написанные выше выводы показывают как общие закономерности, так и конкретные показатели, актуальные на данный момент. Например игра вероятно будет иметь успех, если написана для платформы PS4, у нее высоки оценки критиков, она в жанре 'Shooter', продажи осуществляются в Европе, имеет ESRB рейтинг 'M'.\n",
    "\n",
    "Данные выводы помогут как оценить конкретную игру, так и понять какие параметры важно рассаматривать для поиска новых игры."
   ]
  }
 ],
 "metadata": {
  "ExecuteTimeLog": [
   {
    "duration": 1390,
    "start_time": "2022-01-22T16:00:44.884Z"
   },
   {
    "duration": 53,
    "start_time": "2022-01-22T16:00:57.145Z"
   },
   {
    "duration": 16,
    "start_time": "2022-01-22T16:01:07.324Z"
   },
   {
    "duration": 48,
    "start_time": "2022-01-22T16:01:12.744Z"
   },
   {
    "duration": 64,
    "start_time": "2022-01-22T16:01:17.625Z"
   },
   {
    "duration": 127,
    "start_time": "2022-01-22T16:01:35.024Z"
   },
   {
    "duration": 118,
    "start_time": "2022-01-22T16:01:46.345Z"
   },
   {
    "duration": 114,
    "start_time": "2022-01-22T16:02:02.265Z"
   },
   {
    "duration": 108,
    "start_time": "2022-01-22T16:02:29.624Z"
   },
   {
    "duration": 110,
    "start_time": "2022-01-22T16:02:42.885Z"
   },
   {
    "duration": 8,
    "start_time": "2022-01-22T16:02:57.405Z"
   },
   {
    "duration": 216,
    "start_time": "2022-01-22T16:03:05.905Z"
   },
   {
    "duration": 24,
    "start_time": "2022-01-22T16:03:35.245Z"
   },
   {
    "duration": 14,
    "start_time": "2022-01-22T16:04:01.545Z"
   },
   {
    "duration": 1309,
    "start_time": "2022-01-22T16:04:48.701Z"
   },
   {
    "duration": 57,
    "start_time": "2022-01-22T16:04:50.013Z"
   },
   {
    "duration": 110,
    "start_time": "2022-01-22T16:04:50.074Z"
   },
   {
    "duration": 6,
    "start_time": "2022-01-22T16:04:50.187Z"
   },
   {
    "duration": 67,
    "start_time": "2022-01-22T16:04:50.196Z"
   },
   {
    "duration": 11,
    "start_time": "2022-01-22T16:04:50.266Z"
   },
   {
    "duration": 4,
    "start_time": "2022-01-22T16:09:45.763Z"
   },
   {
    "duration": 56,
    "start_time": "2022-01-22T16:09:47.503Z"
   },
   {
    "duration": 64,
    "start_time": "2022-01-22T16:10:00.163Z"
   },
   {
    "duration": 12,
    "start_time": "2022-01-22T16:10:17.150Z"
   },
   {
    "duration": -712,
    "start_time": "2022-01-22T16:11:35.135Z"
   },
   {
    "duration": 13,
    "start_time": "2022-01-22T16:11:34.560Z"
   },
   {
    "duration": -558,
    "start_time": "2022-01-22T16:11:47.811Z"
   },
   {
    "duration": 9178,
    "start_time": "2022-01-22T16:11:51.923Z"
   },
   {
    "duration": 8128,
    "start_time": "2022-01-22T16:12:08.702Z"
   },
   {
    "duration": 1712,
    "start_time": "2022-01-22T16:13:53.004Z"
   },
   {
    "duration": 60,
    "start_time": "2022-01-22T16:13:54.719Z"
   },
   {
    "duration": 114,
    "start_time": "2022-01-22T16:13:54.783Z"
   },
   {
    "duration": 7,
    "start_time": "2022-01-22T16:13:54.900Z"
   },
   {
    "duration": 75,
    "start_time": "2022-01-22T16:13:54.910Z"
   },
   {
    "duration": 14,
    "start_time": "2022-01-22T16:13:54.988Z"
   },
   {
    "duration": 7,
    "start_time": "2022-01-22T16:13:55.004Z"
   },
   {
    "duration": 102,
    "start_time": "2022-01-22T16:14:11.705Z"
   },
   {
    "duration": 18,
    "start_time": "2022-01-22T16:14:19.036Z"
   },
   {
    "duration": 1339,
    "start_time": "2022-01-22T16:14:25.985Z"
   },
   {
    "duration": 58,
    "start_time": "2022-01-22T16:14:27.327Z"
   },
   {
    "duration": 170,
    "start_time": "2022-01-22T16:14:27.389Z"
   },
   {
    "duration": 7,
    "start_time": "2022-01-22T16:14:27.561Z"
   },
   {
    "duration": 24,
    "start_time": "2022-01-22T16:14:27.570Z"
   },
   {
    "duration": 13,
    "start_time": "2022-01-22T16:14:27.596Z"
   },
   {
    "duration": 47,
    "start_time": "2022-01-22T16:14:27.612Z"
   },
   {
    "duration": 121,
    "start_time": "2022-01-22T16:14:27.661Z"
   },
   {
    "duration": 12,
    "start_time": "2022-01-22T16:14:38.066Z"
   },
   {
    "duration": 6,
    "start_time": "2022-01-22T16:14:40.487Z"
   },
   {
    "duration": 83,
    "start_time": "2022-01-22T16:14:43.722Z"
   },
   {
    "duration": 5,
    "start_time": "2022-01-22T16:14:45.876Z"
   },
   {
    "duration": 75,
    "start_time": "2022-01-22T16:14:47.867Z"
   },
   {
    "duration": 19,
    "start_time": "2022-01-22T16:14:51.487Z"
   },
   {
    "duration": 1431,
    "start_time": "2022-01-22T16:15:04.427Z"
   },
   {
    "duration": 72,
    "start_time": "2022-01-22T16:15:05.861Z"
   },
   {
    "duration": 145,
    "start_time": "2022-01-22T16:15:05.936Z"
   },
   {
    "duration": 7,
    "start_time": "2022-01-22T16:15:06.084Z"
   },
   {
    "duration": 68,
    "start_time": "2022-01-22T16:15:06.094Z"
   },
   {
    "duration": 19,
    "start_time": "2022-01-22T16:15:06.165Z"
   },
   {
    "duration": 8,
    "start_time": "2022-01-22T16:15:06.186Z"
   },
   {
    "duration": 76,
    "start_time": "2022-01-22T16:15:58.006Z"
   },
   {
    "duration": 1360,
    "start_time": "2022-01-22T16:32:19.863Z"
   },
   {
    "duration": 59,
    "start_time": "2022-01-22T16:32:21.226Z"
   },
   {
    "duration": 103,
    "start_time": "2022-01-22T16:32:21.288Z"
   },
   {
    "duration": 6,
    "start_time": "2022-01-22T16:32:21.395Z"
   },
   {
    "duration": 70,
    "start_time": "2022-01-22T16:32:21.404Z"
   },
   {
    "duration": 14,
    "start_time": "2022-01-22T16:32:21.477Z"
   },
   {
    "duration": 7,
    "start_time": "2022-01-22T16:32:21.493Z"
   },
   {
    "duration": 39,
    "start_time": "2022-01-22T16:32:37.931Z"
   },
   {
    "duration": 1346,
    "start_time": "2022-01-22T16:32:44.579Z"
   },
   {
    "duration": 61,
    "start_time": "2022-01-22T16:32:45.928Z"
   },
   {
    "duration": 104,
    "start_time": "2022-01-22T16:32:45.996Z"
   },
   {
    "duration": 58,
    "start_time": "2022-01-22T16:32:46.103Z"
   },
   {
    "duration": 45,
    "start_time": "2022-01-22T16:32:46.163Z"
   },
   {
    "duration": 13,
    "start_time": "2022-01-22T16:32:46.210Z"
   },
   {
    "duration": 40,
    "start_time": "2022-01-22T16:32:46.225Z"
   },
   {
    "duration": 11,
    "start_time": "2022-01-22T16:32:49.623Z"
   },
   {
    "duration": 1396,
    "start_time": "2022-01-22T16:34:06.923Z"
   },
   {
    "duration": 59,
    "start_time": "2022-01-22T16:34:08.322Z"
   },
   {
    "duration": 107,
    "start_time": "2022-01-22T16:34:08.384Z"
   },
   {
    "duration": 6,
    "start_time": "2022-01-22T16:34:08.494Z"
   },
   {
    "duration": 104,
    "start_time": "2022-01-22T16:34:08.502Z"
   },
   {
    "duration": 14,
    "start_time": "2022-01-22T16:34:08.609Z"
   },
   {
    "duration": 34,
    "start_time": "2022-01-22T16:34:08.625Z"
   },
   {
    "duration": 12,
    "start_time": "2022-01-22T16:34:16.222Z"
   },
   {
    "duration": 4,
    "start_time": "2022-01-22T16:34:28.863Z"
   },
   {
    "duration": 57,
    "start_time": "2022-01-22T16:34:29.784Z"
   },
   {
    "duration": 117,
    "start_time": "2022-01-22T16:34:31.442Z"
   },
   {
    "duration": 6,
    "start_time": "2022-01-22T16:34:34.602Z"
   },
   {
    "duration": 21,
    "start_time": "2022-01-22T16:34:35.805Z"
   },
   {
    "duration": 12,
    "start_time": "2022-01-22T16:34:39.257Z"
   },
   {
    "duration": 8,
    "start_time": "2022-01-22T16:35:04.090Z"
   },
   {
    "duration": 527,
    "start_time": "2022-01-22T16:36:06.422Z"
   },
   {
    "duration": 8,
    "start_time": "2022-01-22T16:36:13.411Z"
   },
   {
    "duration": 12,
    "start_time": "2022-01-22T16:36:15.422Z"
   },
   {
    "duration": 1403,
    "start_time": "2022-01-22T16:36:19.824Z"
   },
   {
    "duration": 60,
    "start_time": "2022-01-22T16:36:21.230Z"
   },
   {
    "duration": 105,
    "start_time": "2022-01-22T16:36:21.298Z"
   },
   {
    "duration": 60,
    "start_time": "2022-01-22T16:36:21.405Z"
   },
   {
    "duration": 15,
    "start_time": "2022-01-22T16:36:21.467Z"
   },
   {
    "duration": 13,
    "start_time": "2022-01-22T16:36:21.484Z"
   },
   {
    "duration": 6,
    "start_time": "2022-01-22T16:36:21.500Z"
   },
   {
    "duration": 22,
    "start_time": "2022-01-22T16:41:25.363Z"
   },
   {
    "duration": 49,
    "start_time": "2022-01-22T16:41:56.262Z"
   },
   {
    "duration": 10,
    "start_time": "2022-01-22T16:42:31.688Z"
   },
   {
    "duration": 9,
    "start_time": "2022-01-22T16:43:06.123Z"
   },
   {
    "duration": 25,
    "start_time": "2022-01-22T16:44:28.163Z"
   },
   {
    "duration": 648,
    "start_time": "2022-01-22T16:45:26.651Z"
   },
   {
    "duration": 577,
    "start_time": "2022-01-22T16:46:04.451Z"
   },
   {
    "duration": 27,
    "start_time": "2022-01-22T16:47:19.682Z"
   },
   {
    "duration": 6,
    "start_time": "2022-01-22T16:47:48.583Z"
   },
   {
    "duration": 7,
    "start_time": "2022-01-22T16:48:07.564Z"
   },
   {
    "duration": 11,
    "start_time": "2022-01-22T16:48:31.383Z"
   },
   {
    "duration": 643,
    "start_time": "2022-01-22T16:49:07.863Z"
   },
   {
    "duration": 564,
    "start_time": "2022-01-22T16:49:48.764Z"
   },
   {
    "duration": 105,
    "start_time": "2022-01-22T16:50:27.851Z"
   },
   {
    "duration": 6,
    "start_time": "2022-01-22T16:50:41.824Z"
   },
   {
    "duration": 810,
    "start_time": "2022-01-22T16:50:50.343Z"
   },
   {
    "duration": 9737,
    "start_time": "2022-01-22T16:51:31.711Z"
   },
   {
    "duration": 298,
    "start_time": "2022-01-22T16:52:14.123Z"
   },
   {
    "duration": 17,
    "start_time": "2022-01-22T16:54:10.863Z"
   },
   {
    "duration": 7,
    "start_time": "2022-01-22T16:54:21.024Z"
   },
   {
    "duration": 5,
    "start_time": "2022-01-22T16:54:27.472Z"
   },
   {
    "duration": 749,
    "start_time": "2022-01-22T16:54:36.590Z"
   },
   {
    "duration": 6,
    "start_time": "2022-01-22T16:55:06.583Z"
   },
   {
    "duration": 694,
    "start_time": "2022-01-22T16:55:22.383Z"
   },
   {
    "duration": 558,
    "start_time": "2022-01-22T16:55:57.283Z"
   },
   {
    "duration": 334,
    "start_time": "2022-01-22T16:56:12.623Z"
   },
   {
    "duration": 547,
    "start_time": "2022-01-22T16:57:57.903Z"
   },
   {
    "duration": 374,
    "start_time": "2022-01-22T16:58:39.123Z"
   },
   {
    "duration": 1306,
    "start_time": "2022-01-22T17:00:44.717Z"
   },
   {
    "duration": 60,
    "start_time": "2022-01-22T17:00:46.026Z"
   },
   {
    "duration": 108,
    "start_time": "2022-01-22T17:00:46.089Z"
   },
   {
    "duration": 61,
    "start_time": "2022-01-22T17:00:46.200Z"
   },
   {
    "duration": 20,
    "start_time": "2022-01-22T17:00:46.264Z"
   },
   {
    "duration": 16,
    "start_time": "2022-01-22T17:00:46.287Z"
   },
   {
    "duration": 90,
    "start_time": "2022-01-22T17:00:46.305Z"
   },
   {
    "duration": 12,
    "start_time": "2022-01-22T17:00:46.399Z"
   },
   {
    "duration": 8,
    "start_time": "2022-01-22T17:00:46.414Z"
   },
   {
    "duration": 58,
    "start_time": "2022-01-22T17:00:46.425Z"
   },
   {
    "duration": 30,
    "start_time": "2022-01-22T17:00:46.486Z"
   },
   {
    "duration": 681,
    "start_time": "2022-01-22T17:00:46.519Z"
   },
   {
    "duration": 598,
    "start_time": "2022-01-22T17:00:47.203Z"
   },
   {
    "duration": 24,
    "start_time": "2022-01-22T17:00:47.804Z"
   },
   {
    "duration": 29,
    "start_time": "2022-01-22T17:00:47.830Z"
   },
   {
    "duration": 8,
    "start_time": "2022-01-22T17:00:47.862Z"
   },
   {
    "duration": 10,
    "start_time": "2022-01-22T17:00:47.872Z"
   },
   {
    "duration": 675,
    "start_time": "2022-01-22T17:00:47.884Z"
   },
   {
    "duration": 577,
    "start_time": "2022-01-22T17:00:48.562Z"
   },
   {
    "duration": 5,
    "start_time": "2022-01-22T17:00:49.141Z"
   },
   {
    "duration": 841,
    "start_time": "2022-01-22T17:00:49.160Z"
   },
   {
    "duration": 10020,
    "start_time": "2022-01-22T17:00:50.005Z"
   },
   {
    "duration": 320,
    "start_time": "2022-01-22T17:01:00.029Z"
   },
   {
    "duration": 20,
    "start_time": "2022-01-22T17:01:00.352Z"
   },
   {
    "duration": 7,
    "start_time": "2022-01-22T17:01:00.375Z"
   },
   {
    "duration": 810,
    "start_time": "2022-01-22T17:01:00.384Z"
   },
   {
    "duration": 749,
    "start_time": "2022-01-22T17:01:01.196Z"
   },
   {
    "duration": 537,
    "start_time": "2022-01-22T17:01:01.948Z"
   },
   {
    "duration": 430,
    "start_time": "2022-01-22T17:01:02.488Z"
   },
   {
    "duration": -586,
    "start_time": "2022-01-22T17:01:03.507Z"
   },
   {
    "duration": 4,
    "start_time": "2022-01-22T17:01:12.388Z"
   },
   {
    "duration": 14,
    "start_time": "2022-01-22T17:01:21.267Z"
   },
   {
    "duration": 16,
    "start_time": "2022-01-22T17:01:23.709Z"
   },
   {
    "duration": 996,
    "start_time": "2022-01-28T11:02:54.937Z"
   },
   {
    "duration": 44,
    "start_time": "2022-01-28T11:02:55.934Z"
   },
   {
    "duration": 59,
    "start_time": "2022-01-28T11:02:55.980Z"
   },
   {
    "duration": 5,
    "start_time": "2022-01-28T11:02:56.040Z"
   },
   {
    "duration": 14,
    "start_time": "2022-01-28T11:02:56.047Z"
   },
   {
    "duration": 9,
    "start_time": "2022-01-28T11:02:56.063Z"
   },
   {
    "duration": 58,
    "start_time": "2022-01-28T11:02:56.073Z"
   },
   {
    "duration": 7,
    "start_time": "2022-01-28T11:02:56.133Z"
   },
   {
    "duration": 5,
    "start_time": "2022-01-28T11:02:56.142Z"
   },
   {
    "duration": 13,
    "start_time": "2022-01-28T11:02:56.149Z"
   },
   {
    "duration": 15,
    "start_time": "2022-01-28T11:02:56.164Z"
   },
   {
    "duration": 393,
    "start_time": "2022-01-28T11:02:56.180Z"
   },
   {
    "duration": 368,
    "start_time": "2022-01-28T11:02:56.575Z"
   },
   {
    "duration": 17,
    "start_time": "2022-01-28T11:02:56.945Z"
   },
   {
    "duration": 5,
    "start_time": "2022-01-28T11:02:56.964Z"
   },
   {
    "duration": 15,
    "start_time": "2022-01-28T11:02:56.971Z"
   },
   {
    "duration": 9,
    "start_time": "2022-01-28T11:02:56.988Z"
   },
   {
    "duration": 397,
    "start_time": "2022-01-28T11:02:56.999Z"
   },
   {
    "duration": 345,
    "start_time": "2022-01-28T11:02:57.397Z"
   },
   {
    "duration": 4,
    "start_time": "2022-01-28T11:02:57.744Z"
   },
   {
    "duration": 569,
    "start_time": "2022-01-28T11:02:57.749Z"
   },
   {
    "duration": 6670,
    "start_time": "2022-01-28T11:02:58.320Z"
   },
   {
    "duration": 179,
    "start_time": "2022-01-28T11:03:04.993Z"
   },
   {
    "duration": 9,
    "start_time": "2022-01-28T11:03:05.174Z"
   },
   {
    "duration": 4,
    "start_time": "2022-01-28T11:03:05.185Z"
   },
   {
    "duration": 462,
    "start_time": "2022-01-28T11:03:05.190Z"
   },
   {
    "duration": 407,
    "start_time": "2022-01-28T11:03:05.654Z"
   },
   {
    "duration": 282,
    "start_time": "2022-01-28T11:03:06.063Z"
   },
   {
    "duration": 9,
    "start_time": "2022-01-28T11:03:06.347Z"
   },
   {
    "duration": 10,
    "start_time": "2022-01-28T11:03:06.357Z"
   },
   {
    "duration": 269,
    "start_time": "2022-01-29T09:06:04.825Z"
   },
   {
    "duration": 1170,
    "start_time": "2022-01-29T09:06:10.598Z"
   },
   {
    "duration": 50,
    "start_time": "2022-01-29T09:06:11.770Z"
   },
   {
    "duration": 86,
    "start_time": "2022-01-29T09:06:11.822Z"
   },
   {
    "duration": 5,
    "start_time": "2022-01-29T09:06:11.910Z"
   },
   {
    "duration": 13,
    "start_time": "2022-01-29T09:06:11.917Z"
   },
   {
    "duration": 11,
    "start_time": "2022-01-29T09:06:11.932Z"
   },
   {
    "duration": 72,
    "start_time": "2022-01-29T09:06:11.945Z"
   },
   {
    "duration": 10,
    "start_time": "2022-01-29T09:06:12.019Z"
   },
   {
    "duration": 11,
    "start_time": "2022-01-29T09:06:12.032Z"
   },
   {
    "duration": 17,
    "start_time": "2022-01-29T09:06:12.046Z"
   },
   {
    "duration": 42,
    "start_time": "2022-01-29T09:06:12.065Z"
   },
   {
    "duration": 467,
    "start_time": "2022-01-29T09:06:12.109Z"
   },
   {
    "duration": 443,
    "start_time": "2022-01-29T09:06:12.578Z"
   },
   {
    "duration": 19,
    "start_time": "2022-01-29T09:06:13.024Z"
   },
   {
    "duration": 23,
    "start_time": "2022-01-29T09:06:13.045Z"
   },
   {
    "duration": 18,
    "start_time": "2022-01-29T09:06:13.070Z"
   },
   {
    "duration": 30,
    "start_time": "2022-01-29T09:06:13.090Z"
   },
   {
    "duration": 459,
    "start_time": "2022-01-29T09:06:13.122Z"
   },
   {
    "duration": 438,
    "start_time": "2022-01-29T09:06:13.583Z"
   },
   {
    "duration": 5,
    "start_time": "2022-01-29T09:06:14.023Z"
   },
   {
    "duration": 686,
    "start_time": "2022-01-29T09:06:14.030Z"
   },
   {
    "duration": 7594,
    "start_time": "2022-01-29T09:06:14.718Z"
   },
   {
    "duration": 229,
    "start_time": "2022-01-29T09:06:22.314Z"
   },
   {
    "duration": 10,
    "start_time": "2022-01-29T09:06:22.545Z"
   },
   {
    "duration": 6,
    "start_time": "2022-01-29T09:06:22.557Z"
   },
   {
    "duration": 577,
    "start_time": "2022-01-29T09:06:22.565Z"
   },
   {
    "duration": 513,
    "start_time": "2022-01-29T09:06:23.145Z"
   },
   {
    "duration": 366,
    "start_time": "2022-01-29T09:06:23.660Z"
   },
   {
    "duration": 11,
    "start_time": "2022-01-29T09:06:24.028Z"
   },
   {
    "duration": 18,
    "start_time": "2022-01-29T09:06:24.041Z"
   },
   {
    "duration": 19,
    "start_time": "2022-01-29T13:12:58.011Z"
   },
   {
    "duration": 6,
    "start_time": "2022-01-29T13:14:49.772Z"
   },
   {
    "duration": 234,
    "start_time": "2022-01-29T13:18:55.892Z"
   },
   {
    "duration": 222,
    "start_time": "2022-01-29T13:19:11.972Z"
   },
   {
    "duration": 241,
    "start_time": "2022-01-29T13:19:35.932Z"
   },
   {
    "duration": 228,
    "start_time": "2022-01-29T13:20:17.572Z"
   },
   {
    "duration": 8,
    "start_time": "2022-01-29T13:35:29.400Z"
   },
   {
    "duration": 6,
    "start_time": "2022-01-29T13:35:51.729Z"
   },
   {
    "duration": 7,
    "start_time": "2022-01-29T13:36:07.843Z"
   },
   {
    "duration": 8,
    "start_time": "2022-01-29T13:36:22.212Z"
   },
   {
    "duration": 6,
    "start_time": "2022-01-29T13:36:53.892Z"
   },
   {
    "duration": 7,
    "start_time": "2022-01-29T13:36:55.732Z"
   },
   {
    "duration": 6,
    "start_time": "2022-01-29T13:36:59.331Z"
   },
   {
    "duration": 7,
    "start_time": "2022-01-29T13:37:01.172Z"
   },
   {
    "duration": 6,
    "start_time": "2022-01-29T13:37:09.452Z"
   },
   {
    "duration": 7,
    "start_time": "2022-01-29T13:37:11.772Z"
   },
   {
    "duration": 448,
    "start_time": "2022-01-29T13:38:05.949Z"
   },
   {
    "duration": 512,
    "start_time": "2022-01-29T13:39:08.831Z"
   },
   {
    "duration": 459,
    "start_time": "2022-01-29T13:40:02.649Z"
   },
   {
    "duration": 397,
    "start_time": "2022-01-29T13:50:01.331Z"
   },
   {
    "duration": 353,
    "start_time": "2022-01-29T13:52:11.271Z"
   },
   {
    "duration": 409,
    "start_time": "2022-01-29T13:52:19.732Z"
   },
   {
    "duration": 334,
    "start_time": "2022-01-29T13:52:23.471Z"
   },
   {
    "duration": 455,
    "start_time": "2022-01-29T13:52:27.191Z"
   },
   {
    "duration": 367,
    "start_time": "2022-01-29T13:52:31.331Z"
   },
   {
    "duration": 441,
    "start_time": "2022-01-29T13:52:38.073Z"
   },
   {
    "duration": 525,
    "start_time": "2022-01-29T13:52:51.311Z"
   },
   {
    "duration": 520,
    "start_time": "2022-01-29T13:52:58.191Z"
   },
   {
    "duration": 459,
    "start_time": "2022-01-29T13:53:09.951Z"
   },
   {
    "duration": 574,
    "start_time": "2022-01-29T13:55:13.131Z"
   },
   {
    "duration": 461,
    "start_time": "2022-01-29T13:55:20.271Z"
   },
   {
    "duration": 1084,
    "start_time": "2022-01-31T10:51:03.465Z"
   },
   {
    "duration": 47,
    "start_time": "2022-01-31T10:51:04.550Z"
   },
   {
    "duration": 74,
    "start_time": "2022-01-31T10:51:04.599Z"
   },
   {
    "duration": 4,
    "start_time": "2022-01-31T10:51:04.676Z"
   },
   {
    "duration": 16,
    "start_time": "2022-01-31T10:51:04.682Z"
   },
   {
    "duration": 11,
    "start_time": "2022-01-31T10:51:04.700Z"
   },
   {
    "duration": 52,
    "start_time": "2022-01-31T10:51:04.712Z"
   },
   {
    "duration": 8,
    "start_time": "2022-01-31T10:51:04.766Z"
   },
   {
    "duration": 5,
    "start_time": "2022-01-31T10:51:04.777Z"
   },
   {
    "duration": 21,
    "start_time": "2022-01-31T10:51:04.784Z"
   },
   {
    "duration": 18,
    "start_time": "2022-01-31T10:51:04.806Z"
   },
   {
    "duration": 418,
    "start_time": "2022-01-31T10:51:04.860Z"
   },
   {
    "duration": 400,
    "start_time": "2022-01-31T10:51:05.280Z"
   },
   {
    "duration": 18,
    "start_time": "2022-01-31T10:51:05.681Z"
   },
   {
    "duration": 4,
    "start_time": "2022-01-31T10:51:05.700Z"
   },
   {
    "duration": 7,
    "start_time": "2022-01-31T10:51:05.706Z"
   },
   {
    "duration": 8,
    "start_time": "2022-01-31T10:51:05.715Z"
   },
   {
    "duration": 423,
    "start_time": "2022-01-31T10:51:05.725Z"
   },
   {
    "duration": 415,
    "start_time": "2022-01-31T10:51:06.149Z"
   },
   {
    "duration": 4,
    "start_time": "2022-01-31T10:51:06.566Z"
   },
   {
    "duration": 768,
    "start_time": "2022-01-31T10:51:06.572Z"
   },
   {
    "duration": 14180,
    "start_time": "2022-01-31T10:50:53.163Z"
   },
   {
    "duration": 14167,
    "start_time": "2022-01-31T10:50:53.177Z"
   },
   {
    "duration": 14166,
    "start_time": "2022-01-31T10:50:53.180Z"
   },
   {
    "duration": 14163,
    "start_time": "2022-01-31T10:50:53.184Z"
   },
   {
    "duration": 14162,
    "start_time": "2022-01-31T10:50:53.187Z"
   },
   {
    "duration": 14158,
    "start_time": "2022-01-31T10:50:53.192Z"
   },
   {
    "duration": 14157,
    "start_time": "2022-01-31T10:50:53.195Z"
   },
   {
    "duration": 14150,
    "start_time": "2022-01-31T10:50:53.203Z"
   },
   {
    "duration": 14148,
    "start_time": "2022-01-31T10:50:53.207Z"
   },
   {
    "duration": 268,
    "start_time": "2022-01-31T10:51:56.488Z"
   },
   {
    "duration": 1047,
    "start_time": "2022-01-31T10:52:02.496Z"
   },
   {
    "duration": 52,
    "start_time": "2022-01-31T10:52:03.545Z"
   },
   {
    "duration": 83,
    "start_time": "2022-01-31T10:52:03.599Z"
   },
   {
    "duration": 4,
    "start_time": "2022-01-31T10:52:03.685Z"
   },
   {
    "duration": 17,
    "start_time": "2022-01-31T10:52:03.691Z"
   },
   {
    "duration": 26,
    "start_time": "2022-01-31T10:52:03.710Z"
   },
   {
    "duration": 40,
    "start_time": "2022-01-31T10:52:03.737Z"
   },
   {
    "duration": 11,
    "start_time": "2022-01-31T10:52:03.779Z"
   },
   {
    "duration": 6,
    "start_time": "2022-01-31T10:52:03.793Z"
   },
   {
    "duration": 17,
    "start_time": "2022-01-31T10:52:03.801Z"
   },
   {
    "duration": 48,
    "start_time": "2022-01-31T10:52:03.820Z"
   },
   {
    "duration": 436,
    "start_time": "2022-01-31T10:52:03.869Z"
   },
   {
    "duration": 398,
    "start_time": "2022-01-31T10:52:04.308Z"
   },
   {
    "duration": 19,
    "start_time": "2022-01-31T10:52:04.708Z"
   },
   {
    "duration": 4,
    "start_time": "2022-01-31T10:52:04.728Z"
   },
   {
    "duration": 7,
    "start_time": "2022-01-31T10:52:04.758Z"
   },
   {
    "duration": 10,
    "start_time": "2022-01-31T10:52:04.766Z"
   },
   {
    "duration": 425,
    "start_time": "2022-01-31T10:52:04.777Z"
   },
   {
    "duration": 434,
    "start_time": "2022-01-31T10:52:05.204Z"
   },
   {
    "duration": 5,
    "start_time": "2022-01-31T10:52:05.640Z"
   },
   {
    "duration": 653,
    "start_time": "2022-01-31T10:52:05.646Z"
   },
   {
    "duration": 14176,
    "start_time": "2022-01-31T10:51:52.125Z"
   },
   {
    "duration": 14174,
    "start_time": "2022-01-31T10:51:52.128Z"
   },
   {
    "duration": 14167,
    "start_time": "2022-01-31T10:51:52.136Z"
   },
   {
    "duration": 14164,
    "start_time": "2022-01-31T10:51:52.140Z"
   },
   {
    "duration": 14163,
    "start_time": "2022-01-31T10:51:52.143Z"
   },
   {
    "duration": 14160,
    "start_time": "2022-01-31T10:51:52.147Z"
   },
   {
    "duration": 14154,
    "start_time": "2022-01-31T10:51:52.154Z"
   },
   {
    "duration": 14151,
    "start_time": "2022-01-31T10:51:52.158Z"
   },
   {
    "duration": 14149,
    "start_time": "2022-01-31T10:51:52.161Z"
   },
   {
    "duration": 541,
    "start_time": "2022-01-31T10:52:25.206Z"
   },
   {
    "duration": 3,
    "start_time": "2022-01-31T10:52:35.936Z"
   },
   {
    "duration": 47,
    "start_time": "2022-01-31T10:52:36.872Z"
   },
   {
    "duration": 50,
    "start_time": "2022-01-31T10:52:39.146Z"
   },
   {
    "duration": 1096,
    "start_time": "2022-01-31T10:52:43.036Z"
   },
   {
    "duration": 48,
    "start_time": "2022-01-31T10:52:44.134Z"
   },
   {
    "duration": 85,
    "start_time": "2022-01-31T10:52:44.185Z"
   },
   {
    "duration": 5,
    "start_time": "2022-01-31T10:52:44.272Z"
   },
   {
    "duration": 29,
    "start_time": "2022-01-31T10:52:44.279Z"
   },
   {
    "duration": 12,
    "start_time": "2022-01-31T10:52:44.310Z"
   },
   {
    "duration": 38,
    "start_time": "2022-01-31T10:52:44.324Z"
   },
   {
    "duration": 9,
    "start_time": "2022-01-31T10:52:44.365Z"
   },
   {
    "duration": 9,
    "start_time": "2022-01-31T10:52:44.376Z"
   },
   {
    "duration": 30,
    "start_time": "2022-01-31T10:52:44.388Z"
   },
   {
    "duration": 19,
    "start_time": "2022-01-31T10:52:44.420Z"
   },
   {
    "duration": 509,
    "start_time": "2022-01-31T10:52:44.441Z"
   },
   {
    "duration": 446,
    "start_time": "2022-01-31T10:52:44.952Z"
   },
   {
    "duration": 17,
    "start_time": "2022-01-31T10:52:45.400Z"
   },
   {
    "duration": 4,
    "start_time": "2022-01-31T10:52:45.419Z"
   },
   {
    "duration": 35,
    "start_time": "2022-01-31T10:52:45.424Z"
   },
   {
    "duration": 7,
    "start_time": "2022-01-31T10:52:45.461Z"
   },
   {
    "duration": 394,
    "start_time": "2022-01-31T10:52:45.469Z"
   },
   {
    "duration": 410,
    "start_time": "2022-01-31T10:52:45.865Z"
   },
   {
    "duration": 4,
    "start_time": "2022-01-31T10:52:46.277Z"
   },
   {
    "duration": 694,
    "start_time": "2022-01-31T10:52:46.283Z"
   },
   {
    "duration": 14144,
    "start_time": "2022-01-31T10:52:32.835Z"
   },
   {
    "duration": 14140,
    "start_time": "2022-01-31T10:52:32.840Z"
   },
   {
    "duration": 14137,
    "start_time": "2022-01-31T10:52:32.844Z"
   },
   {
    "duration": 14136,
    "start_time": "2022-01-31T10:52:32.847Z"
   },
   {
    "duration": 14128,
    "start_time": "2022-01-31T10:52:32.856Z"
   },
   {
    "duration": 14125,
    "start_time": "2022-01-31T10:52:32.860Z"
   },
   {
    "duration": 14123,
    "start_time": "2022-01-31T10:52:32.863Z"
   },
   {
    "duration": 14120,
    "start_time": "2022-01-31T10:52:32.867Z"
   },
   {
    "duration": 14113,
    "start_time": "2022-01-31T10:52:32.875Z"
   },
   {
    "duration": 252,
    "start_time": "2022-01-31T10:52:57.889Z"
   },
   {
    "duration": 8,
    "start_time": "2022-01-31T10:53:12.127Z"
   },
   {
    "duration": 387,
    "start_time": "2022-01-31T10:53:15.983Z"
   },
   {
    "duration": 411,
    "start_time": "2022-01-31T10:53:20.666Z"
   },
   {
    "duration": 5,
    "start_time": "2022-01-31T10:53:26.577Z"
   },
   {
    "duration": 562,
    "start_time": "2022-01-31T10:53:28.879Z"
   },
   {
    "duration": 4,
    "start_time": "2022-01-31T10:55:40.526Z"
   },
   {
    "duration": 550,
    "start_time": "2022-01-31T10:55:42.534Z"
   },
   {
    "duration": 486,
    "start_time": "2022-01-31T10:56:02.757Z"
   },
   {
    "duration": 6,
    "start_time": "2022-01-31T10:56:13.278Z"
   },
   {
    "duration": 7,
    "start_time": "2022-01-31T10:56:15.221Z"
   },
   {
    "duration": 369,
    "start_time": "2022-01-31T10:56:17.733Z"
   },
   {
    "duration": 379,
    "start_time": "2022-01-31T10:56:22.276Z"
   },
   {
    "duration": 4,
    "start_time": "2022-01-31T10:56:25.436Z"
   },
   {
    "duration": 531,
    "start_time": "2022-01-31T10:56:28.313Z"
   },
   {
    "duration": 3,
    "start_time": "2022-01-31T10:57:07.445Z"
   },
   {
    "duration": 6,
    "start_time": "2022-01-31T10:57:09.537Z"
   },
   {
    "duration": 4,
    "start_time": "2022-01-31T10:57:12.773Z"
   },
   {
    "duration": 529,
    "start_time": "2022-01-31T10:57:14.497Z"
   },
   {
    "duration": 3,
    "start_time": "2022-01-31T10:57:42.255Z"
   },
   {
    "duration": 13,
    "start_time": "2022-01-31T10:57:44.197Z"
   },
   {
    "duration": 4,
    "start_time": "2022-01-31T10:58:12.806Z"
   },
   {
    "duration": 18,
    "start_time": "2022-01-31T10:58:14.768Z"
   },
   {
    "duration": 3,
    "start_time": "2022-01-31T10:58:22.032Z"
   },
   {
    "duration": 6,
    "start_time": "2022-01-31T10:58:23.697Z"
   },
   {
    "duration": 4,
    "start_time": "2022-01-31T10:59:42.168Z"
   },
   {
    "duration": 9,
    "start_time": "2022-01-31T10:59:44.177Z"
   },
   {
    "duration": 3,
    "start_time": "2022-01-31T11:00:38.142Z"
   },
   {
    "duration": 555,
    "start_time": "2022-01-31T11:00:40.205Z"
   },
   {
    "duration": 4,
    "start_time": "2022-01-31T11:00:56.829Z"
   },
   {
    "duration": 3,
    "start_time": "2022-01-31T11:00:59.906Z"
   },
   {
    "duration": 9,
    "start_time": "2022-01-31T11:01:01.658Z"
   },
   {
    "duration": 5,
    "start_time": "2022-01-31T11:01:33.081Z"
   },
   {
    "duration": 531,
    "start_time": "2022-01-31T11:01:36.669Z"
   },
   {
    "duration": 4,
    "start_time": "2022-01-31T11:01:51.895Z"
   },
   {
    "duration": 289,
    "start_time": "2022-01-31T11:01:53.695Z"
   },
   {
    "duration": 16,
    "start_time": "2022-01-31T11:02:31.505Z"
   },
   {
    "duration": 1054,
    "start_time": "2022-01-31T11:02:38.186Z"
   },
   {
    "duration": 46,
    "start_time": "2022-01-31T11:02:39.242Z"
   },
   {
    "duration": 82,
    "start_time": "2022-01-31T11:02:39.291Z"
   },
   {
    "duration": 6,
    "start_time": "2022-01-31T11:02:39.376Z"
   },
   {
    "duration": 12,
    "start_time": "2022-01-31T11:02:39.384Z"
   },
   {
    "duration": 9,
    "start_time": "2022-01-31T11:02:39.398Z"
   },
   {
    "duration": 10,
    "start_time": "2022-01-31T11:02:39.409Z"
   },
   {
    "duration": 11,
    "start_time": "2022-01-31T11:02:39.459Z"
   },
   {
    "duration": 15,
    "start_time": "2022-01-31T11:02:39.473Z"
   },
   {
    "duration": 19,
    "start_time": "2022-01-31T11:02:39.491Z"
   },
   {
    "duration": 15,
    "start_time": "2022-01-31T11:02:39.512Z"
   },
   {
    "duration": 467,
    "start_time": "2022-01-31T11:02:39.529Z"
   },
   {
    "duration": 419,
    "start_time": "2022-01-31T11:02:39.998Z"
   },
   {
    "duration": 17,
    "start_time": "2022-01-31T11:02:40.418Z"
   },
   {
    "duration": 25,
    "start_time": "2022-01-31T11:02:40.436Z"
   },
   {
    "duration": 19,
    "start_time": "2022-01-31T11:02:40.463Z"
   },
   {
    "duration": 10,
    "start_time": "2022-01-31T11:02:40.484Z"
   },
   {
    "duration": 407,
    "start_time": "2022-01-31T11:02:40.495Z"
   },
   {
    "duration": 433,
    "start_time": "2022-01-31T11:02:40.904Z"
   },
   {
    "duration": 4,
    "start_time": "2022-01-31T11:02:41.339Z"
   },
   {
    "duration": 639,
    "start_time": "2022-01-31T11:02:41.345Z"
   },
   {
    "duration": 6281,
    "start_time": "2022-01-31T11:02:41.987Z"
   },
   {
    "duration": 210,
    "start_time": "2022-01-31T11:02:48.270Z"
   },
   {
    "duration": 10,
    "start_time": "2022-01-31T11:02:48.482Z"
   },
   {
    "duration": 8,
    "start_time": "2022-01-31T11:02:48.494Z"
   },
   {
    "duration": 458,
    "start_time": "2022-01-31T11:02:48.503Z"
   },
   {
    "duration": 552,
    "start_time": "2022-01-31T11:02:48.964Z"
   },
   {
    "duration": 329,
    "start_time": "2022-01-31T11:02:49.518Z"
   },
   {
    "duration": 15,
    "start_time": "2022-01-31T11:02:49.850Z"
   },
   {
    "duration": 13,
    "start_time": "2022-01-31T11:02:49.867Z"
   },
   {
    "duration": 12,
    "start_time": "2022-01-31T11:04:40.079Z"
   },
   {
    "duration": 309,
    "start_time": "2022-01-31T11:04:47.139Z"
   },
   {
    "duration": 1033,
    "start_time": "2022-01-31T11:05:46.505Z"
   },
   {
    "duration": 53,
    "start_time": "2022-01-31T11:05:47.540Z"
   },
   {
    "duration": 81,
    "start_time": "2022-01-31T11:05:47.595Z"
   },
   {
    "duration": 6,
    "start_time": "2022-01-31T11:05:47.678Z"
   },
   {
    "duration": 15,
    "start_time": "2022-01-31T11:05:47.685Z"
   },
   {
    "duration": 8,
    "start_time": "2022-01-31T11:05:47.701Z"
   },
   {
    "duration": 15,
    "start_time": "2022-01-31T11:05:47.710Z"
   },
   {
    "duration": 36,
    "start_time": "2022-01-31T11:05:47.727Z"
   },
   {
    "duration": 17,
    "start_time": "2022-01-31T11:05:47.766Z"
   },
   {
    "duration": 23,
    "start_time": "2022-01-31T11:05:47.785Z"
   },
   {
    "duration": 12,
    "start_time": "2022-01-31T11:05:47.810Z"
   },
   {
    "duration": 445,
    "start_time": "2022-01-31T11:05:47.823Z"
   },
   {
    "duration": 406,
    "start_time": "2022-01-31T11:05:48.270Z"
   },
   {
    "duration": 19,
    "start_time": "2022-01-31T11:05:48.678Z"
   },
   {
    "duration": 4,
    "start_time": "2022-01-31T11:05:48.698Z"
   },
   {
    "duration": 19,
    "start_time": "2022-01-31T11:05:48.704Z"
   },
   {
    "duration": 12,
    "start_time": "2022-01-31T11:05:48.724Z"
   },
   {
    "duration": 446,
    "start_time": "2022-01-31T11:05:48.737Z"
   },
   {
    "duration": 431,
    "start_time": "2022-01-31T11:05:49.185Z"
   },
   {
    "duration": 4,
    "start_time": "2022-01-31T11:05:49.617Z"
   },
   {
    "duration": 648,
    "start_time": "2022-01-31T11:05:49.623Z"
   },
   {
    "duration": 6197,
    "start_time": "2022-01-31T11:05:50.273Z"
   },
   {
    "duration": 217,
    "start_time": "2022-01-31T11:05:56.472Z"
   },
   {
    "duration": 11,
    "start_time": "2022-01-31T11:05:56.691Z"
   },
   {
    "duration": 6,
    "start_time": "2022-01-31T11:05:56.703Z"
   },
   {
    "duration": 510,
    "start_time": "2022-01-31T11:05:56.711Z"
   },
   {
    "duration": 526,
    "start_time": "2022-01-31T11:05:57.224Z"
   },
   {
    "duration": 318,
    "start_time": "2022-01-31T11:05:57.752Z"
   },
   {
    "duration": 10,
    "start_time": "2022-01-31T11:05:58.072Z"
   },
   {
    "duration": 12,
    "start_time": "2022-01-31T11:05:58.084Z"
   },
   {
    "duration": 13,
    "start_time": "2022-01-31T11:10:26.187Z"
   },
   {
    "duration": 1094,
    "start_time": "2022-01-31T11:10:30.842Z"
   },
   {
    "duration": 52,
    "start_time": "2022-01-31T11:10:31.938Z"
   },
   {
    "duration": 79,
    "start_time": "2022-01-31T11:10:31.992Z"
   },
   {
    "duration": 5,
    "start_time": "2022-01-31T11:10:32.073Z"
   },
   {
    "duration": 19,
    "start_time": "2022-01-31T11:10:32.080Z"
   },
   {
    "duration": 17,
    "start_time": "2022-01-31T11:10:32.101Z"
   },
   {
    "duration": 12,
    "start_time": "2022-01-31T11:10:32.120Z"
   },
   {
    "duration": 29,
    "start_time": "2022-01-31T11:10:32.133Z"
   },
   {
    "duration": 19,
    "start_time": "2022-01-31T11:10:32.166Z"
   },
   {
    "duration": 26,
    "start_time": "2022-01-31T11:10:32.187Z"
   },
   {
    "duration": 13,
    "start_time": "2022-01-31T11:10:32.215Z"
   },
   {
    "duration": 425,
    "start_time": "2022-01-31T11:10:32.230Z"
   },
   {
    "duration": 394,
    "start_time": "2022-01-31T11:10:32.657Z"
   },
   {
    "duration": 24,
    "start_time": "2022-01-31T11:10:33.053Z"
   },
   {
    "duration": 6,
    "start_time": "2022-01-31T11:10:33.079Z"
   },
   {
    "duration": 8,
    "start_time": "2022-01-31T11:10:33.086Z"
   },
   {
    "duration": 7,
    "start_time": "2022-01-31T11:10:33.095Z"
   },
   {
    "duration": 430,
    "start_time": "2022-01-31T11:10:33.104Z"
   },
   {
    "duration": 436,
    "start_time": "2022-01-31T11:10:33.536Z"
   },
   {
    "duration": 6,
    "start_time": "2022-01-31T11:10:33.974Z"
   },
   {
    "duration": 584,
    "start_time": "2022-01-31T11:10:33.982Z"
   },
   {
    "duration": 6225,
    "start_time": "2022-01-31T11:10:34.568Z"
   },
   {
    "duration": 219,
    "start_time": "2022-01-31T11:10:40.795Z"
   },
   {
    "duration": 11,
    "start_time": "2022-01-31T11:10:41.015Z"
   },
   {
    "duration": 6,
    "start_time": "2022-01-31T11:10:41.028Z"
   },
   {
    "duration": 486,
    "start_time": "2022-01-31T11:10:41.036Z"
   },
   {
    "duration": 597,
    "start_time": "2022-01-31T11:10:41.525Z"
   },
   {
    "duration": 324,
    "start_time": "2022-01-31T11:10:42.123Z"
   },
   {
    "duration": 17,
    "start_time": "2022-01-31T11:10:42.448Z"
   },
   {
    "duration": 17,
    "start_time": "2022-01-31T11:10:42.467Z"
   },
   {
    "duration": 594,
    "start_time": "2022-01-31T17:14:26.849Z"
   },
   {
    "duration": 1705,
    "start_time": "2022-01-31T17:14:34.054Z"
   },
   {
    "duration": 73,
    "start_time": "2022-01-31T17:14:35.767Z"
   },
   {
    "duration": 136,
    "start_time": "2022-01-31T17:14:35.843Z"
   },
   {
    "duration": 6,
    "start_time": "2022-01-31T17:14:35.982Z"
   },
   {
    "duration": 40,
    "start_time": "2022-01-31T17:14:35.990Z"
   },
   {
    "duration": 48,
    "start_time": "2022-01-31T17:14:36.033Z"
   },
   {
    "duration": 14,
    "start_time": "2022-01-31T17:14:36.084Z"
   },
   {
    "duration": 10,
    "start_time": "2022-01-31T17:14:36.102Z"
   },
   {
    "duration": 8,
    "start_time": "2022-01-31T17:14:36.115Z"
   },
   {
    "duration": 64,
    "start_time": "2022-01-31T17:14:36.125Z"
   },
   {
    "duration": 26,
    "start_time": "2022-01-31T17:14:36.192Z"
   },
   {
    "duration": 793,
    "start_time": "2022-01-31T17:14:36.220Z"
   },
   {
    "duration": 729,
    "start_time": "2022-01-31T17:14:37.016Z"
   },
   {
    "duration": 35,
    "start_time": "2022-01-31T17:14:37.750Z"
   },
   {
    "duration": 5,
    "start_time": "2022-01-31T17:14:37.788Z"
   },
   {
    "duration": 8,
    "start_time": "2022-01-31T17:14:37.796Z"
   },
   {
    "duration": 42,
    "start_time": "2022-01-31T17:14:37.807Z"
   },
   {
    "duration": 810,
    "start_time": "2022-01-31T17:14:37.858Z"
   },
   {
    "duration": 711,
    "start_time": "2022-01-31T17:14:38.671Z"
   },
   {
    "duration": 6,
    "start_time": "2022-01-31T17:14:39.385Z"
   },
   {
    "duration": 810,
    "start_time": "2022-01-31T17:14:39.393Z"
   },
   {
    "duration": 8983,
    "start_time": "2022-01-31T17:14:40.206Z"
   },
   {
    "duration": 382,
    "start_time": "2022-01-31T17:14:49.194Z"
   },
   {
    "duration": 21,
    "start_time": "2022-01-31T17:14:49.580Z"
   },
   {
    "duration": 36,
    "start_time": "2022-01-31T17:14:49.603Z"
   },
   {
    "duration": 844,
    "start_time": "2022-01-31T17:14:49.642Z"
   },
   {
    "duration": 947,
    "start_time": "2022-01-31T17:14:50.488Z"
   },
   {
    "duration": 573,
    "start_time": "2022-01-31T17:14:51.438Z"
   },
   {
    "duration": 26,
    "start_time": "2022-01-31T17:14:52.023Z"
   },
   {
    "duration": 46,
    "start_time": "2022-01-31T17:14:52.052Z"
   },
   {
    "duration": 779,
    "start_time": "2022-01-31T17:15:14.000Z"
   },
   {
    "duration": 701,
    "start_time": "2022-01-31T17:15:28.770Z"
   },
   {
    "duration": 140,
    "start_time": "2022-01-31T17:39:09.400Z"
   },
   {
    "duration": 5,
    "start_time": "2022-02-01T19:13:02.457Z"
   },
   {
    "duration": 639,
    "start_time": "2022-02-01T19:13:05.257Z"
   },
   {
    "duration": 4,
    "start_time": "2022-02-01T19:13:17.697Z"
   },
   {
    "duration": 601,
    "start_time": "2022-02-01T19:13:20.457Z"
   },
   {
    "duration": 949,
    "start_time": "2022-02-01T19:13:30.529Z"
   },
   {
    "duration": 40,
    "start_time": "2022-02-01T19:13:31.480Z"
   },
   {
    "duration": 40,
    "start_time": "2022-02-01T19:13:31.522Z"
   },
   {
    "duration": 4,
    "start_time": "2022-02-01T19:13:31.564Z"
   },
   {
    "duration": 58,
    "start_time": "2022-02-01T19:13:31.569Z"
   },
   {
    "duration": 7,
    "start_time": "2022-02-01T19:13:31.629Z"
   },
   {
    "duration": 9,
    "start_time": "2022-02-01T19:13:31.637Z"
   },
   {
    "duration": 4,
    "start_time": "2022-02-01T19:13:31.648Z"
   },
   {
    "duration": 15,
    "start_time": "2022-02-01T19:13:31.654Z"
   },
   {
    "duration": 11,
    "start_time": "2022-02-01T19:13:31.670Z"
   },
   {
    "duration": 359,
    "start_time": "2022-02-01T19:13:31.683Z"
   },
   {
    "duration": 318,
    "start_time": "2022-02-01T19:13:32.044Z"
   },
   {
    "duration": 14,
    "start_time": "2022-02-01T19:13:32.364Z"
   },
   {
    "duration": 3,
    "start_time": "2022-02-01T19:13:32.379Z"
   },
   {
    "duration": 5,
    "start_time": "2022-02-01T19:13:32.384Z"
   },
   {
    "duration": 5,
    "start_time": "2022-02-01T19:13:32.391Z"
   },
   {
    "duration": 349,
    "start_time": "2022-02-01T19:13:32.398Z"
   },
   {
    "duration": 335,
    "start_time": "2022-02-01T19:13:32.749Z"
   },
   {
    "duration": 4,
    "start_time": "2022-02-01T19:13:33.086Z"
   },
   {
    "duration": 549,
    "start_time": "2022-02-01T19:13:33.092Z"
   },
   {
    "duration": 4387,
    "start_time": "2022-02-01T19:13:33.643Z"
   },
   {
    "duration": 2067,
    "start_time": "2022-02-01T19:13:35.965Z"
   },
   {
    "duration": 2062,
    "start_time": "2022-02-01T19:13:35.971Z"
   },
   {
    "duration": 2055,
    "start_time": "2022-02-01T19:13:35.980Z"
   },
   {
    "duration": 2050,
    "start_time": "2022-02-01T19:13:35.986Z"
   },
   {
    "duration": 2046,
    "start_time": "2022-02-01T19:13:35.991Z"
   },
   {
    "duration": 2039,
    "start_time": "2022-02-01T19:13:36.000Z"
   },
   {
    "duration": 2034,
    "start_time": "2022-02-01T19:13:36.006Z"
   },
   {
    "duration": 2027,
    "start_time": "2022-02-01T19:13:36.014Z"
   },
   {
    "duration": 4,
    "start_time": "2022-02-01T19:14:29.949Z"
   },
   {
    "duration": 4,
    "start_time": "2022-02-01T19:14:37.739Z"
   },
   {
    "duration": 587,
    "start_time": "2022-02-01T19:14:39.798Z"
   },
   {
    "duration": 334,
    "start_time": "2022-02-01T19:16:30.019Z"
   },
   {
    "duration": 166,
    "start_time": "2022-02-01T19:16:55.700Z"
   },
   {
    "duration": 333,
    "start_time": "2022-02-01T19:20:55.739Z"
   },
   {
    "duration": 342,
    "start_time": "2022-02-01T19:35:45.260Z"
   },
   {
    "duration": 461,
    "start_time": "2022-02-02T07:57:23.129Z"
   },
   {
    "duration": 300,
    "start_time": "2022-02-02T07:57:27.069Z"
   },
   {
    "duration": 1078,
    "start_time": "2022-02-02T07:57:41.008Z"
   },
   {
    "duration": 42,
    "start_time": "2022-02-02T07:57:42.087Z"
   },
   {
    "duration": 39,
    "start_time": "2022-02-02T07:57:42.131Z"
   },
   {
    "duration": 4,
    "start_time": "2022-02-02T07:57:42.171Z"
   },
   {
    "duration": 12,
    "start_time": "2022-02-02T07:57:42.177Z"
   },
   {
    "duration": 10,
    "start_time": "2022-02-02T07:57:42.190Z"
   },
   {
    "duration": 10,
    "start_time": "2022-02-02T07:57:42.201Z"
   },
   {
    "duration": 14,
    "start_time": "2022-02-02T07:57:42.213Z"
   },
   {
    "duration": 17,
    "start_time": "2022-02-02T07:57:42.229Z"
   },
   {
    "duration": 11,
    "start_time": "2022-02-02T07:57:42.248Z"
   },
   {
    "duration": 381,
    "start_time": "2022-02-02T07:57:42.261Z"
   },
   {
    "duration": 336,
    "start_time": "2022-02-02T07:57:42.644Z"
   },
   {
    "duration": 15,
    "start_time": "2022-02-02T07:57:42.982Z"
   },
   {
    "duration": 3,
    "start_time": "2022-02-02T07:57:42.998Z"
   },
   {
    "duration": 24,
    "start_time": "2022-02-02T07:57:43.002Z"
   },
   {
    "duration": 9,
    "start_time": "2022-02-02T07:57:43.028Z"
   },
   {
    "duration": 520,
    "start_time": "2022-02-02T07:57:43.039Z"
   },
   {
    "duration": 485,
    "start_time": "2022-02-02T07:57:43.561Z"
   },
   {
    "duration": 4,
    "start_time": "2022-02-02T07:57:44.048Z"
   },
   {
    "duration": 531,
    "start_time": "2022-02-02T07:57:44.053Z"
   },
   {
    "duration": 4450,
    "start_time": "2022-02-02T07:57:44.585Z"
   },
   {
    "duration": 19078,
    "start_time": "2022-02-02T07:57:29.959Z"
   },
   {
    "duration": 19065,
    "start_time": "2022-02-02T07:57:29.972Z"
   },
   {
    "duration": 19060,
    "start_time": "2022-02-02T07:57:29.978Z"
   },
   {
    "duration": 19046,
    "start_time": "2022-02-02T07:57:29.993Z"
   },
   {
    "duration": 19032,
    "start_time": "2022-02-02T07:57:30.008Z"
   },
   {
    "duration": 19028,
    "start_time": "2022-02-02T07:57:30.013Z"
   },
   {
    "duration": 19020,
    "start_time": "2022-02-02T07:57:30.021Z"
   },
   {
    "duration": 19017,
    "start_time": "2022-02-02T07:57:30.025Z"
   },
   {
    "duration": 581,
    "start_time": "2022-02-02T08:24:55.176Z"
   },
   {
    "duration": 590,
    "start_time": "2022-02-02T08:25:13.477Z"
   },
   {
    "duration": 645,
    "start_time": "2022-02-02T08:29:26.645Z"
   },
   {
    "duration": 377,
    "start_time": "2022-02-02T08:31:08.965Z"
   },
   {
    "duration": 437,
    "start_time": "2022-02-02T08:31:14.159Z"
   },
   {
    "duration": 10,
    "start_time": "2022-02-02T08:31:21.400Z"
   },
   {
    "duration": 14,
    "start_time": "2022-02-02T08:31:27.967Z"
   },
   {
    "duration": 543,
    "start_time": "2022-02-02T08:32:22.700Z"
   },
   {
    "duration": 4433,
    "start_time": "2022-02-02T08:32:26.779Z"
   },
   {
    "duration": 4,
    "start_time": "2022-02-02T08:32:42.877Z"
   },
   {
    "duration": 5014,
    "start_time": "2022-02-02T08:32:46.728Z"
   },
   {
    "duration": 4,
    "start_time": "2022-02-02T08:38:28.920Z"
   },
   {
    "duration": 1302,
    "start_time": "2022-02-02T08:38:33.331Z"
   },
   {
    "duration": 58,
    "start_time": "2022-02-02T08:38:34.635Z"
   },
   {
    "duration": 67,
    "start_time": "2022-02-02T08:38:34.695Z"
   },
   {
    "duration": 4,
    "start_time": "2022-02-02T08:38:34.764Z"
   },
   {
    "duration": 15,
    "start_time": "2022-02-02T08:38:34.770Z"
   },
   {
    "duration": 44,
    "start_time": "2022-02-02T08:38:34.787Z"
   },
   {
    "duration": 11,
    "start_time": "2022-02-02T08:38:34.833Z"
   },
   {
    "duration": 4,
    "start_time": "2022-02-02T08:38:34.847Z"
   },
   {
    "duration": 14,
    "start_time": "2022-02-02T08:38:34.853Z"
   },
   {
    "duration": 11,
    "start_time": "2022-02-02T08:38:34.869Z"
   },
   {
    "duration": 363,
    "start_time": "2022-02-02T08:38:34.882Z"
   },
   {
    "duration": 328,
    "start_time": "2022-02-02T08:38:35.247Z"
   },
   {
    "duration": 16,
    "start_time": "2022-02-02T08:38:35.576Z"
   },
   {
    "duration": 3,
    "start_time": "2022-02-02T08:38:35.594Z"
   },
   {
    "duration": 29,
    "start_time": "2022-02-02T08:38:35.598Z"
   },
   {
    "duration": 6,
    "start_time": "2022-02-02T08:38:35.629Z"
   },
   {
    "duration": 353,
    "start_time": "2022-02-02T08:38:35.636Z"
   },
   {
    "duration": 341,
    "start_time": "2022-02-02T08:38:35.990Z"
   },
   {
    "duration": 4,
    "start_time": "2022-02-02T08:38:36.333Z"
   },
   {
    "duration": 547,
    "start_time": "2022-02-02T08:38:36.339Z"
   },
   {
    "duration": 4527,
    "start_time": "2022-02-02T08:38:36.888Z"
   },
   {
    "duration": 190,
    "start_time": "2022-02-02T08:38:41.417Z"
   },
   {
    "duration": 9,
    "start_time": "2022-02-02T08:38:41.610Z"
   },
   {
    "duration": 9,
    "start_time": "2022-02-02T08:38:41.621Z"
   },
   {
    "duration": 600,
    "start_time": "2022-02-02T08:38:41.632Z"
   },
   {
    "duration": 402,
    "start_time": "2022-02-02T08:38:42.235Z"
   },
   {
    "duration": 273,
    "start_time": "2022-02-02T08:38:42.639Z"
   },
   {
    "duration": 14,
    "start_time": "2022-02-02T08:38:42.914Z"
   },
   {
    "duration": 12,
    "start_time": "2022-02-02T08:38:42.930Z"
   }
  ],
  "kernelspec": {
   "display_name": "Python 3 (ipykernel)",
   "language": "python",
   "name": "python3"
  },
  "language_info": {
   "codemirror_mode": {
    "name": "ipython",
    "version": 3
   },
   "file_extension": ".py",
   "mimetype": "text/x-python",
   "name": "python",
   "nbconvert_exporter": "python",
   "pygments_lexer": "ipython3",
   "version": "3.9.12"
  },
  "toc": {
   "base_numbering": 1,
   "nav_menu": {},
   "number_sections": false,
   "sideBar": true,
   "skip_h1_title": false,
   "title_cell": "Table of Contents",
   "title_sidebar": "Contents",
   "toc_cell": false,
   "toc_position": {
    "height": "calc(100% - 180px)",
    "left": "10px",
    "top": "150px",
    "width": "355.683px"
   },
   "toc_section_display": true,
   "toc_window_display": true
  }
 },
 "nbformat": 4,
 "nbformat_minor": 4
}
