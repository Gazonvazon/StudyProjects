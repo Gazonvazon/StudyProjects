{
 "cells": [
  {
   "cell_type": "markdown",
   "metadata": {},
   "source": [
    "# Исследование объявлений о продаже квартир"
   ]
  },
  {
   "cell_type": "markdown",
   "metadata": {},
   "source": [
    "**Название проекта**\n",
    "\n",
    "Исследование объявлений о продаже квартир\n",
    "_____\n",
    "**Описание исследования.**\n",
    "\n",
    "В нашем распоряжении данные сервиса Яндекс Недвижимость — архив объявлений о продаже квартир в Санкт-Петербурге и соседних населённых пунктах за несколько лет.\n",
    "_____\n",
    "**Цель исследования.**\n",
    "\n",
    "Научиться определять рыночную стоимость объектов недвижимости. Это позволит построить автоматизированную систему: она отследит аномалии и мошенническую деятельность. \n",
    "\n",
    "_____\n",
    "**Задача исследования.**\n",
    "\n",
    "Установить параметры для определения рыночной стоимости объектов недвижимости\n",
    "\n",
    "**Исходные данные.**\n",
    "    \n",
    "По каждой квартире на продажу доступны два вида данных. Первые вписаны пользователем, вторые — получены автоматически на основе картографических данных. Например, расстояние до центра, аэропорта, ближайшего парка и водоёма. \n",
    "\n",
    "Набор данных включает следующие поля:\n",
    "\n",
    "* airports_nearest — расстояние до ближайшего аэропорта в метрах (м)\n",
    "* balcony — число балконов\n",
    "* ceiling_height — высота потолков (м)\n",
    "* cityCenters_nearest — расстояние до центра города (м)\n",
    "* days_exposition — сколько дней было размещено объявление (от публикации до снятия)\n",
    "* first_day_exposition — дата публикации\n",
    "* floor — этаж\n",
    "* floors_total — всего этажей в доме\n",
    "* is_apartment — апартаменты (булев тип)\n",
    "* kitchen_area — площадь кухни в квадратных метрах (м²)\n",
    "* last_price — цена на момент снятия с публикации\n",
    "* living_area — жилая площадь в квадратных метрах (м²)\n",
    "* locality_name — название населённого пункта\n",
    "* open_plan — свободная планировка (булев тип)\n",
    "* parks_around3000 — число парков в радиусе 3 км\n",
    "* parks_nearest — расстояние до ближайшего парка (м)\n",
    "* ponds_around3000 — число водоёмов в радиусе 3 км\n",
    "* ponds_nearest — расстояние до ближайшего водоёма (м)\n",
    "* rooms — число комнат\n",
    "* studio — квартира-студия (булев тип)\n",
    "* total_area — площадь квартиры в квадратных метрах (м²)\n",
    "* total_images — число фотографий квартиры в объявлении\n",
    "\n"
   ]
  },
  {
   "cell_type": "markdown",
   "metadata": {},
   "source": [
    "## Изучение данных из файла"
   ]
  },
  {
   "cell_type": "code",
   "execution_count": 1,
   "metadata": {
    "scrolled": true
   },
   "outputs": [
    {
     "name": "stdout",
     "output_type": "stream",
     "text": [
      "<class 'pandas.core.frame.DataFrame'>\n",
      "RangeIndex: 23699 entries, 0 to 23698\n",
      "Data columns (total 22 columns):\n",
      " #   Column                Non-Null Count  Dtype  \n",
      "---  ------                --------------  -----  \n",
      " 0   total_images          23699 non-null  int64  \n",
      " 1   last_price            23699 non-null  float64\n",
      " 2   total_area            23699 non-null  float64\n",
      " 3   first_day_exposition  23699 non-null  object \n",
      " 4   rooms                 23699 non-null  int64  \n",
      " 5   ceiling_height        14504 non-null  float64\n",
      " 6   floors_total          23613 non-null  float64\n",
      " 7   living_area           21796 non-null  float64\n",
      " 8   floor                 23699 non-null  int64  \n",
      " 9   is_apartment          2775 non-null   object \n",
      " 10  studio                23699 non-null  bool   \n",
      " 11  open_plan             23699 non-null  bool   \n",
      " 12  kitchen_area          21421 non-null  float64\n",
      " 13  balcony               12180 non-null  float64\n",
      " 14  locality_name         23650 non-null  object \n",
      " 15  airports_nearest      18157 non-null  float64\n",
      " 16  cityCenters_nearest   18180 non-null  float64\n",
      " 17  parks_around3000      18181 non-null  float64\n",
      " 18  parks_nearest         8079 non-null   float64\n",
      " 19  ponds_around3000      18181 non-null  float64\n",
      " 20  ponds_nearest         9110 non-null   float64\n",
      " 21  days_exposition       20518 non-null  float64\n",
      "dtypes: bool(2), float64(14), int64(3), object(3)\n",
      "memory usage: 3.7+ MB\n"
     ]
    }
   ],
   "source": [
    "import pandas as pd\n",
    "import matplotlib.pyplot as plt\n",
    "\n",
    "data = pd.read_csv('real_estate_data.csv', sep='\\t')\n",
    "data.info()"
   ]
  },
  {
   "cell_type": "code",
   "execution_count": 2,
   "metadata": {
    "scrolled": true
   },
   "outputs": [
    {
     "data": {
      "text/html": [
       "<div>\n",
       "<style scoped>\n",
       "    .dataframe tbody tr th:only-of-type {\n",
       "        vertical-align: middle;\n",
       "    }\n",
       "\n",
       "    .dataframe tbody tr th {\n",
       "        vertical-align: top;\n",
       "    }\n",
       "\n",
       "    .dataframe thead th {\n",
       "        text-align: right;\n",
       "    }\n",
       "</style>\n",
       "<table border=\"1\" class=\"dataframe\">\n",
       "  <thead>\n",
       "    <tr style=\"text-align: right;\">\n",
       "      <th></th>\n",
       "      <th>total_images</th>\n",
       "      <th>last_price</th>\n",
       "      <th>total_area</th>\n",
       "      <th>first_day_exposition</th>\n",
       "      <th>rooms</th>\n",
       "      <th>ceiling_height</th>\n",
       "      <th>floors_total</th>\n",
       "      <th>living_area</th>\n",
       "      <th>floor</th>\n",
       "      <th>is_apartment</th>\n",
       "      <th>...</th>\n",
       "      <th>kitchen_area</th>\n",
       "      <th>balcony</th>\n",
       "      <th>locality_name</th>\n",
       "      <th>airports_nearest</th>\n",
       "      <th>cityCenters_nearest</th>\n",
       "      <th>parks_around3000</th>\n",
       "      <th>parks_nearest</th>\n",
       "      <th>ponds_around3000</th>\n",
       "      <th>ponds_nearest</th>\n",
       "      <th>days_exposition</th>\n",
       "    </tr>\n",
       "  </thead>\n",
       "  <tbody>\n",
       "    <tr>\n",
       "      <th>0</th>\n",
       "      <td>20</td>\n",
       "      <td>13000000.0</td>\n",
       "      <td>108.00</td>\n",
       "      <td>2019-03-07T00:00:00</td>\n",
       "      <td>3</td>\n",
       "      <td>2.70</td>\n",
       "      <td>16.0</td>\n",
       "      <td>51.00</td>\n",
       "      <td>8</td>\n",
       "      <td>NaN</td>\n",
       "      <td>...</td>\n",
       "      <td>25.00</td>\n",
       "      <td>NaN</td>\n",
       "      <td>Санкт-Петербург</td>\n",
       "      <td>18863.0</td>\n",
       "      <td>16028.0</td>\n",
       "      <td>1.0</td>\n",
       "      <td>482.0</td>\n",
       "      <td>2.0</td>\n",
       "      <td>755.0</td>\n",
       "      <td>NaN</td>\n",
       "    </tr>\n",
       "    <tr>\n",
       "      <th>1</th>\n",
       "      <td>7</td>\n",
       "      <td>3350000.0</td>\n",
       "      <td>40.40</td>\n",
       "      <td>2018-12-04T00:00:00</td>\n",
       "      <td>1</td>\n",
       "      <td>NaN</td>\n",
       "      <td>11.0</td>\n",
       "      <td>18.60</td>\n",
       "      <td>1</td>\n",
       "      <td>NaN</td>\n",
       "      <td>...</td>\n",
       "      <td>11.00</td>\n",
       "      <td>2.0</td>\n",
       "      <td>посёлок Шушары</td>\n",
       "      <td>12817.0</td>\n",
       "      <td>18603.0</td>\n",
       "      <td>0.0</td>\n",
       "      <td>NaN</td>\n",
       "      <td>0.0</td>\n",
       "      <td>NaN</td>\n",
       "      <td>81.0</td>\n",
       "    </tr>\n",
       "    <tr>\n",
       "      <th>2</th>\n",
       "      <td>10</td>\n",
       "      <td>5196000.0</td>\n",
       "      <td>56.00</td>\n",
       "      <td>2015-08-20T00:00:00</td>\n",
       "      <td>2</td>\n",
       "      <td>NaN</td>\n",
       "      <td>5.0</td>\n",
       "      <td>34.30</td>\n",
       "      <td>4</td>\n",
       "      <td>NaN</td>\n",
       "      <td>...</td>\n",
       "      <td>8.30</td>\n",
       "      <td>0.0</td>\n",
       "      <td>Санкт-Петербург</td>\n",
       "      <td>21741.0</td>\n",
       "      <td>13933.0</td>\n",
       "      <td>1.0</td>\n",
       "      <td>90.0</td>\n",
       "      <td>2.0</td>\n",
       "      <td>574.0</td>\n",
       "      <td>558.0</td>\n",
       "    </tr>\n",
       "    <tr>\n",
       "      <th>3</th>\n",
       "      <td>0</td>\n",
       "      <td>64900000.0</td>\n",
       "      <td>159.00</td>\n",
       "      <td>2015-07-24T00:00:00</td>\n",
       "      <td>3</td>\n",
       "      <td>NaN</td>\n",
       "      <td>14.0</td>\n",
       "      <td>NaN</td>\n",
       "      <td>9</td>\n",
       "      <td>NaN</td>\n",
       "      <td>...</td>\n",
       "      <td>NaN</td>\n",
       "      <td>0.0</td>\n",
       "      <td>Санкт-Петербург</td>\n",
       "      <td>28098.0</td>\n",
       "      <td>6800.0</td>\n",
       "      <td>2.0</td>\n",
       "      <td>84.0</td>\n",
       "      <td>3.0</td>\n",
       "      <td>234.0</td>\n",
       "      <td>424.0</td>\n",
       "    </tr>\n",
       "    <tr>\n",
       "      <th>4</th>\n",
       "      <td>2</td>\n",
       "      <td>10000000.0</td>\n",
       "      <td>100.00</td>\n",
       "      <td>2018-06-19T00:00:00</td>\n",
       "      <td>2</td>\n",
       "      <td>3.03</td>\n",
       "      <td>14.0</td>\n",
       "      <td>32.00</td>\n",
       "      <td>13</td>\n",
       "      <td>NaN</td>\n",
       "      <td>...</td>\n",
       "      <td>41.00</td>\n",
       "      <td>NaN</td>\n",
       "      <td>Санкт-Петербург</td>\n",
       "      <td>31856.0</td>\n",
       "      <td>8098.0</td>\n",
       "      <td>2.0</td>\n",
       "      <td>112.0</td>\n",
       "      <td>1.0</td>\n",
       "      <td>48.0</td>\n",
       "      <td>121.0</td>\n",
       "    </tr>\n",
       "    <tr>\n",
       "      <th>5</th>\n",
       "      <td>10</td>\n",
       "      <td>2890000.0</td>\n",
       "      <td>30.40</td>\n",
       "      <td>2018-09-10T00:00:00</td>\n",
       "      <td>1</td>\n",
       "      <td>NaN</td>\n",
       "      <td>12.0</td>\n",
       "      <td>14.40</td>\n",
       "      <td>5</td>\n",
       "      <td>NaN</td>\n",
       "      <td>...</td>\n",
       "      <td>9.10</td>\n",
       "      <td>NaN</td>\n",
       "      <td>городской посёлок Янино-1</td>\n",
       "      <td>NaN</td>\n",
       "      <td>NaN</td>\n",
       "      <td>NaN</td>\n",
       "      <td>NaN</td>\n",
       "      <td>NaN</td>\n",
       "      <td>NaN</td>\n",
       "      <td>55.0</td>\n",
       "    </tr>\n",
       "    <tr>\n",
       "      <th>6</th>\n",
       "      <td>6</td>\n",
       "      <td>3700000.0</td>\n",
       "      <td>37.30</td>\n",
       "      <td>2017-11-02T00:00:00</td>\n",
       "      <td>1</td>\n",
       "      <td>NaN</td>\n",
       "      <td>26.0</td>\n",
       "      <td>10.60</td>\n",
       "      <td>6</td>\n",
       "      <td>NaN</td>\n",
       "      <td>...</td>\n",
       "      <td>14.40</td>\n",
       "      <td>1.0</td>\n",
       "      <td>посёлок Парголово</td>\n",
       "      <td>52996.0</td>\n",
       "      <td>19143.0</td>\n",
       "      <td>0.0</td>\n",
       "      <td>NaN</td>\n",
       "      <td>0.0</td>\n",
       "      <td>NaN</td>\n",
       "      <td>155.0</td>\n",
       "    </tr>\n",
       "    <tr>\n",
       "      <th>7</th>\n",
       "      <td>5</td>\n",
       "      <td>7915000.0</td>\n",
       "      <td>71.60</td>\n",
       "      <td>2019-04-18T00:00:00</td>\n",
       "      <td>2</td>\n",
       "      <td>NaN</td>\n",
       "      <td>24.0</td>\n",
       "      <td>NaN</td>\n",
       "      <td>22</td>\n",
       "      <td>NaN</td>\n",
       "      <td>...</td>\n",
       "      <td>18.90</td>\n",
       "      <td>2.0</td>\n",
       "      <td>Санкт-Петербург</td>\n",
       "      <td>23982.0</td>\n",
       "      <td>11634.0</td>\n",
       "      <td>0.0</td>\n",
       "      <td>NaN</td>\n",
       "      <td>0.0</td>\n",
       "      <td>NaN</td>\n",
       "      <td>NaN</td>\n",
       "    </tr>\n",
       "    <tr>\n",
       "      <th>8</th>\n",
       "      <td>20</td>\n",
       "      <td>2900000.0</td>\n",
       "      <td>33.16</td>\n",
       "      <td>2018-05-23T00:00:00</td>\n",
       "      <td>1</td>\n",
       "      <td>NaN</td>\n",
       "      <td>27.0</td>\n",
       "      <td>15.43</td>\n",
       "      <td>26</td>\n",
       "      <td>NaN</td>\n",
       "      <td>...</td>\n",
       "      <td>8.81</td>\n",
       "      <td>NaN</td>\n",
       "      <td>посёлок Мурино</td>\n",
       "      <td>NaN</td>\n",
       "      <td>NaN</td>\n",
       "      <td>NaN</td>\n",
       "      <td>NaN</td>\n",
       "      <td>NaN</td>\n",
       "      <td>NaN</td>\n",
       "      <td>189.0</td>\n",
       "    </tr>\n",
       "    <tr>\n",
       "      <th>9</th>\n",
       "      <td>18</td>\n",
       "      <td>5400000.0</td>\n",
       "      <td>61.00</td>\n",
       "      <td>2017-02-26T00:00:00</td>\n",
       "      <td>3</td>\n",
       "      <td>2.50</td>\n",
       "      <td>9.0</td>\n",
       "      <td>43.60</td>\n",
       "      <td>7</td>\n",
       "      <td>NaN</td>\n",
       "      <td>...</td>\n",
       "      <td>6.50</td>\n",
       "      <td>2.0</td>\n",
       "      <td>Санкт-Петербург</td>\n",
       "      <td>50898.0</td>\n",
       "      <td>15008.0</td>\n",
       "      <td>0.0</td>\n",
       "      <td>NaN</td>\n",
       "      <td>0.0</td>\n",
       "      <td>NaN</td>\n",
       "      <td>289.0</td>\n",
       "    </tr>\n",
       "  </tbody>\n",
       "</table>\n",
       "<p>10 rows × 22 columns</p>\n",
       "</div>"
      ],
      "text/plain": [
       "   total_images  last_price  total_area first_day_exposition  rooms  \\\n",
       "0            20  13000000.0      108.00  2019-03-07T00:00:00      3   \n",
       "1             7   3350000.0       40.40  2018-12-04T00:00:00      1   \n",
       "2            10   5196000.0       56.00  2015-08-20T00:00:00      2   \n",
       "3             0  64900000.0      159.00  2015-07-24T00:00:00      3   \n",
       "4             2  10000000.0      100.00  2018-06-19T00:00:00      2   \n",
       "5            10   2890000.0       30.40  2018-09-10T00:00:00      1   \n",
       "6             6   3700000.0       37.30  2017-11-02T00:00:00      1   \n",
       "7             5   7915000.0       71.60  2019-04-18T00:00:00      2   \n",
       "8            20   2900000.0       33.16  2018-05-23T00:00:00      1   \n",
       "9            18   5400000.0       61.00  2017-02-26T00:00:00      3   \n",
       "\n",
       "   ceiling_height  floors_total  living_area  floor is_apartment  ...  \\\n",
       "0            2.70          16.0        51.00      8          NaN  ...   \n",
       "1             NaN          11.0        18.60      1          NaN  ...   \n",
       "2             NaN           5.0        34.30      4          NaN  ...   \n",
       "3             NaN          14.0          NaN      9          NaN  ...   \n",
       "4            3.03          14.0        32.00     13          NaN  ...   \n",
       "5             NaN          12.0        14.40      5          NaN  ...   \n",
       "6             NaN          26.0        10.60      6          NaN  ...   \n",
       "7             NaN          24.0          NaN     22          NaN  ...   \n",
       "8             NaN          27.0        15.43     26          NaN  ...   \n",
       "9            2.50           9.0        43.60      7          NaN  ...   \n",
       "\n",
       "   kitchen_area  balcony              locality_name  airports_nearest  \\\n",
       "0         25.00      NaN            Санкт-Петербург           18863.0   \n",
       "1         11.00      2.0             посёлок Шушары           12817.0   \n",
       "2          8.30      0.0            Санкт-Петербург           21741.0   \n",
       "3           NaN      0.0            Санкт-Петербург           28098.0   \n",
       "4         41.00      NaN            Санкт-Петербург           31856.0   \n",
       "5          9.10      NaN  городской посёлок Янино-1               NaN   \n",
       "6         14.40      1.0          посёлок Парголово           52996.0   \n",
       "7         18.90      2.0            Санкт-Петербург           23982.0   \n",
       "8          8.81      NaN             посёлок Мурино               NaN   \n",
       "9          6.50      2.0            Санкт-Петербург           50898.0   \n",
       "\n",
       "  cityCenters_nearest  parks_around3000  parks_nearest  ponds_around3000  \\\n",
       "0             16028.0               1.0          482.0               2.0   \n",
       "1             18603.0               0.0            NaN               0.0   \n",
       "2             13933.0               1.0           90.0               2.0   \n",
       "3              6800.0               2.0           84.0               3.0   \n",
       "4              8098.0               2.0          112.0               1.0   \n",
       "5                 NaN               NaN            NaN               NaN   \n",
       "6             19143.0               0.0            NaN               0.0   \n",
       "7             11634.0               0.0            NaN               0.0   \n",
       "8                 NaN               NaN            NaN               NaN   \n",
       "9             15008.0               0.0            NaN               0.0   \n",
       "\n",
       "   ponds_nearest  days_exposition  \n",
       "0          755.0              NaN  \n",
       "1            NaN             81.0  \n",
       "2          574.0            558.0  \n",
       "3          234.0            424.0  \n",
       "4           48.0            121.0  \n",
       "5            NaN             55.0  \n",
       "6            NaN            155.0  \n",
       "7            NaN              NaN  \n",
       "8            NaN            189.0  \n",
       "9            NaN            289.0  \n",
       "\n",
       "[10 rows x 22 columns]"
      ]
     },
     "execution_count": 2,
     "metadata": {},
     "output_type": "execute_result"
    }
   ],
   "source": [
    "data.head(10)"
   ]
  },
  {
   "cell_type": "code",
   "execution_count": 3,
   "metadata": {
    "scrolled": true
   },
   "outputs": [
    {
     "data": {
      "text/html": [
       "<div>\n",
       "<style scoped>\n",
       "    .dataframe tbody tr th:only-of-type {\n",
       "        vertical-align: middle;\n",
       "    }\n",
       "\n",
       "    .dataframe tbody tr th {\n",
       "        vertical-align: top;\n",
       "    }\n",
       "\n",
       "    .dataframe thead th {\n",
       "        text-align: right;\n",
       "    }\n",
       "</style>\n",
       "<table border=\"1\" class=\"dataframe\">\n",
       "  <thead>\n",
       "    <tr style=\"text-align: right;\">\n",
       "      <th></th>\n",
       "      <th>total_images</th>\n",
       "      <th>last_price</th>\n",
       "      <th>total_area</th>\n",
       "      <th>rooms</th>\n",
       "      <th>ceiling_height</th>\n",
       "      <th>floors_total</th>\n",
       "      <th>living_area</th>\n",
       "      <th>floor</th>\n",
       "      <th>kitchen_area</th>\n",
       "      <th>balcony</th>\n",
       "      <th>airports_nearest</th>\n",
       "      <th>cityCenters_nearest</th>\n",
       "      <th>parks_around3000</th>\n",
       "      <th>parks_nearest</th>\n",
       "      <th>ponds_around3000</th>\n",
       "      <th>ponds_nearest</th>\n",
       "      <th>days_exposition</th>\n",
       "    </tr>\n",
       "  </thead>\n",
       "  <tbody>\n",
       "    <tr>\n",
       "      <th>count</th>\n",
       "      <td>23,699.00</td>\n",
       "      <td>23,699.00</td>\n",
       "      <td>23,699.00</td>\n",
       "      <td>23,699.00</td>\n",
       "      <td>14,504.00</td>\n",
       "      <td>23,613.00</td>\n",
       "      <td>21,796.00</td>\n",
       "      <td>23,699.00</td>\n",
       "      <td>21,421.00</td>\n",
       "      <td>12,180.00</td>\n",
       "      <td>18,157.00</td>\n",
       "      <td>18,180.00</td>\n",
       "      <td>18,181.00</td>\n",
       "      <td>8,079.00</td>\n",
       "      <td>18,181.00</td>\n",
       "      <td>9,110.00</td>\n",
       "      <td>20,518.00</td>\n",
       "    </tr>\n",
       "    <tr>\n",
       "      <th>mean</th>\n",
       "      <td>9.86</td>\n",
       "      <td>6,541,548.77</td>\n",
       "      <td>60.35</td>\n",
       "      <td>2.07</td>\n",
       "      <td>2.77</td>\n",
       "      <td>10.67</td>\n",
       "      <td>34.46</td>\n",
       "      <td>5.89</td>\n",
       "      <td>10.57</td>\n",
       "      <td>1.15</td>\n",
       "      <td>28,793.67</td>\n",
       "      <td>14,191.28</td>\n",
       "      <td>0.61</td>\n",
       "      <td>490.80</td>\n",
       "      <td>0.77</td>\n",
       "      <td>517.98</td>\n",
       "      <td>180.89</td>\n",
       "    </tr>\n",
       "    <tr>\n",
       "      <th>std</th>\n",
       "      <td>5.68</td>\n",
       "      <td>10,887,013.27</td>\n",
       "      <td>35.65</td>\n",
       "      <td>1.08</td>\n",
       "      <td>1.26</td>\n",
       "      <td>6.60</td>\n",
       "      <td>22.03</td>\n",
       "      <td>4.89</td>\n",
       "      <td>5.91</td>\n",
       "      <td>1.07</td>\n",
       "      <td>12,630.88</td>\n",
       "      <td>8,608.39</td>\n",
       "      <td>0.80</td>\n",
       "      <td>342.32</td>\n",
       "      <td>0.94</td>\n",
       "      <td>277.72</td>\n",
       "      <td>219.73</td>\n",
       "    </tr>\n",
       "    <tr>\n",
       "      <th>min</th>\n",
       "      <td>0.00</td>\n",
       "      <td>12,190.00</td>\n",
       "      <td>12.00</td>\n",
       "      <td>0.00</td>\n",
       "      <td>1.00</td>\n",
       "      <td>1.00</td>\n",
       "      <td>2.00</td>\n",
       "      <td>1.00</td>\n",
       "      <td>1.30</td>\n",
       "      <td>0.00</td>\n",
       "      <td>0.00</td>\n",
       "      <td>181.00</td>\n",
       "      <td>0.00</td>\n",
       "      <td>1.00</td>\n",
       "      <td>0.00</td>\n",
       "      <td>13.00</td>\n",
       "      <td>1.00</td>\n",
       "    </tr>\n",
       "    <tr>\n",
       "      <th>25%</th>\n",
       "      <td>6.00</td>\n",
       "      <td>3,400,000.00</td>\n",
       "      <td>40.00</td>\n",
       "      <td>1.00</td>\n",
       "      <td>2.52</td>\n",
       "      <td>5.00</td>\n",
       "      <td>18.60</td>\n",
       "      <td>2.00</td>\n",
       "      <td>7.00</td>\n",
       "      <td>0.00</td>\n",
       "      <td>18,585.00</td>\n",
       "      <td>9,238.00</td>\n",
       "      <td>0.00</td>\n",
       "      <td>288.00</td>\n",
       "      <td>0.00</td>\n",
       "      <td>294.00</td>\n",
       "      <td>45.00</td>\n",
       "    </tr>\n",
       "    <tr>\n",
       "      <th>50%</th>\n",
       "      <td>9.00</td>\n",
       "      <td>4,650,000.00</td>\n",
       "      <td>52.00</td>\n",
       "      <td>2.00</td>\n",
       "      <td>2.65</td>\n",
       "      <td>9.00</td>\n",
       "      <td>30.00</td>\n",
       "      <td>4.00</td>\n",
       "      <td>9.10</td>\n",
       "      <td>1.00</td>\n",
       "      <td>26,726.00</td>\n",
       "      <td>13,098.50</td>\n",
       "      <td>0.00</td>\n",
       "      <td>455.00</td>\n",
       "      <td>1.00</td>\n",
       "      <td>502.00</td>\n",
       "      <td>95.00</td>\n",
       "    </tr>\n",
       "    <tr>\n",
       "      <th>75%</th>\n",
       "      <td>14.00</td>\n",
       "      <td>6,800,000.00</td>\n",
       "      <td>69.90</td>\n",
       "      <td>3.00</td>\n",
       "      <td>2.80</td>\n",
       "      <td>16.00</td>\n",
       "      <td>42.30</td>\n",
       "      <td>8.00</td>\n",
       "      <td>12.00</td>\n",
       "      <td>2.00</td>\n",
       "      <td>37,273.00</td>\n",
       "      <td>16,293.00</td>\n",
       "      <td>1.00</td>\n",
       "      <td>612.00</td>\n",
       "      <td>1.00</td>\n",
       "      <td>729.00</td>\n",
       "      <td>232.00</td>\n",
       "    </tr>\n",
       "    <tr>\n",
       "      <th>max</th>\n",
       "      <td>50.00</td>\n",
       "      <td>763,000,000.00</td>\n",
       "      <td>900.00</td>\n",
       "      <td>19.00</td>\n",
       "      <td>100.00</td>\n",
       "      <td>60.00</td>\n",
       "      <td>409.70</td>\n",
       "      <td>33.00</td>\n",
       "      <td>112.00</td>\n",
       "      <td>5.00</td>\n",
       "      <td>84,869.00</td>\n",
       "      <td>65,968.00</td>\n",
       "      <td>3.00</td>\n",
       "      <td>3,190.00</td>\n",
       "      <td>3.00</td>\n",
       "      <td>1,344.00</td>\n",
       "      <td>1,580.00</td>\n",
       "    </tr>\n",
       "  </tbody>\n",
       "</table>\n",
       "</div>"
      ],
      "text/plain": [
       "       total_images     last_price  total_area     rooms  ceiling_height  \\\n",
       "count     23,699.00      23,699.00   23,699.00 23,699.00       14,504.00   \n",
       "mean           9.86   6,541,548.77       60.35      2.07            2.77   \n",
       "std            5.68  10,887,013.27       35.65      1.08            1.26   \n",
       "min            0.00      12,190.00       12.00      0.00            1.00   \n",
       "25%            6.00   3,400,000.00       40.00      1.00            2.52   \n",
       "50%            9.00   4,650,000.00       52.00      2.00            2.65   \n",
       "75%           14.00   6,800,000.00       69.90      3.00            2.80   \n",
       "max           50.00 763,000,000.00      900.00     19.00          100.00   \n",
       "\n",
       "       floors_total  living_area     floor  kitchen_area   balcony  \\\n",
       "count     23,613.00    21,796.00 23,699.00     21,421.00 12,180.00   \n",
       "mean          10.67        34.46      5.89         10.57      1.15   \n",
       "std            6.60        22.03      4.89          5.91      1.07   \n",
       "min            1.00         2.00      1.00          1.30      0.00   \n",
       "25%            5.00        18.60      2.00          7.00      0.00   \n",
       "50%            9.00        30.00      4.00          9.10      1.00   \n",
       "75%           16.00        42.30      8.00         12.00      2.00   \n",
       "max           60.00       409.70     33.00        112.00      5.00   \n",
       "\n",
       "       airports_nearest  cityCenters_nearest  parks_around3000  parks_nearest  \\\n",
       "count         18,157.00            18,180.00         18,181.00       8,079.00   \n",
       "mean          28,793.67            14,191.28              0.61         490.80   \n",
       "std           12,630.88             8,608.39              0.80         342.32   \n",
       "min                0.00               181.00              0.00           1.00   \n",
       "25%           18,585.00             9,238.00              0.00         288.00   \n",
       "50%           26,726.00            13,098.50              0.00         455.00   \n",
       "75%           37,273.00            16,293.00              1.00         612.00   \n",
       "max           84,869.00            65,968.00              3.00       3,190.00   \n",
       "\n",
       "       ponds_around3000  ponds_nearest  days_exposition  \n",
       "count         18,181.00       9,110.00        20,518.00  \n",
       "mean               0.77         517.98           180.89  \n",
       "std                0.94         277.72           219.73  \n",
       "min                0.00          13.00             1.00  \n",
       "25%                0.00         294.00            45.00  \n",
       "50%                1.00         502.00            95.00  \n",
       "75%                1.00         729.00           232.00  \n",
       "max                3.00       1,344.00         1,580.00  "
      ]
     },
     "execution_count": 3,
     "metadata": {},
     "output_type": "execute_result"
    }
   ],
   "source": [
    "pd.set_option('display.float_format', '{:,.2f}'.format)\n",
    "data.describe()"
   ]
  },
  {
   "cell_type": "markdown",
   "metadata": {},
   "source": [
    "**Также выведем уникальные значения по всем столбцам - посмотрим есть ли какие-то аномалии**"
   ]
  },
  {
   "cell_type": "code",
   "execution_count": 4,
   "metadata": {
    "scrolled": true
   },
   "outputs": [
    {
     "data": {
      "text/plain": [
       "'total_images'"
      ]
     },
     "metadata": {},
     "output_type": "display_data"
    },
    {
     "data": {
      "text/plain": [
       "[0, 1, 2, 3, 4]"
      ]
     },
     "metadata": {},
     "output_type": "display_data"
    },
    {
     "data": {
      "text/plain": [
       "[35, 37, 39, 42, 50]"
      ]
     },
     "metadata": {},
     "output_type": "display_data"
    },
    {
     "data": {
      "text/plain": [
       "'last_price'"
      ]
     },
     "metadata": {},
     "output_type": "display_data"
    },
    {
     "data": {
      "text/plain": [
       "[12190.0, 430000.0, 440000.0, 450000.0, 470000.0]"
      ]
     },
     "metadata": {},
     "output_type": "display_data"
    },
    {
     "data": {
      "text/plain": [
       "[300000000.0, 330000000.0, 401300000.0, 420000000.0, 763000000.0]"
      ]
     },
     "metadata": {},
     "output_type": "display_data"
    },
    {
     "data": {
      "text/plain": [
       "'total_area'"
      ]
     },
     "metadata": {},
     "output_type": "display_data"
    },
    {
     "data": {
      "text/plain": [
       "[12.0, 13.0, 13.2, 14.0, 15.0]"
      ]
     },
     "metadata": {},
     "output_type": "display_data"
    },
    {
     "data": {
      "text/plain": [
       "[590.0, 618.0, 631.0, 631.2, 900.0]"
      ]
     },
     "metadata": {},
     "output_type": "display_data"
    },
    {
     "data": {
      "text/plain": [
       "'first_day_exposition'"
      ]
     },
     "metadata": {},
     "output_type": "display_data"
    },
    {
     "data": {
      "text/plain": [
       "['2014-11-27T00:00:00',\n",
       " '2014-11-29T00:00:00',\n",
       " '2014-12-04T00:00:00',\n",
       " '2014-12-05T00:00:00',\n",
       " '2014-12-08T00:00:00']"
      ]
     },
     "metadata": {},
     "output_type": "display_data"
    },
    {
     "data": {
      "text/plain": [
       "['2019-04-29T00:00:00',\n",
       " '2019-04-30T00:00:00',\n",
       " '2019-05-01T00:00:00',\n",
       " '2019-05-02T00:00:00',\n",
       " '2019-05-03T00:00:00']"
      ]
     },
     "metadata": {},
     "output_type": "display_data"
    },
    {
     "data": {
      "text/plain": [
       "'rooms'"
      ]
     },
     "metadata": {},
     "output_type": "display_data"
    },
    {
     "data": {
      "text/plain": [
       "[0, 1, 2, 3, 4]"
      ]
     },
     "metadata": {},
     "output_type": "display_data"
    },
    {
     "data": {
      "text/plain": [
       "[12, 14, 15, 16, 19]"
      ]
     },
     "metadata": {},
     "output_type": "display_data"
    },
    {
     "data": {
      "text/plain": [
       "'ceiling_height'"
      ]
     },
     "metadata": {},
     "output_type": "display_data"
    },
    {
     "data": {
      "text/plain": [
       "[1.0, 2.0, 2.3, 2.4, 2.45]"
      ]
     },
     "metadata": {},
     "output_type": "display_data"
    },
    {
     "data": {
      "text/plain": [
       "[26.0, 27.0, 27.5, 32.0, 100.0]"
      ]
     },
     "metadata": {},
     "output_type": "display_data"
    },
    {
     "data": {
      "text/plain": [
       "'floors_total'"
      ]
     },
     "metadata": {},
     "output_type": "display_data"
    },
    {
     "data": {
      "text/plain": [
       "[1.0, 2.0, 3.0, 4.0, 5.0]"
      ]
     },
     "metadata": {},
     "output_type": "display_data"
    },
    {
     "data": {
      "text/plain": [
       "[35.0, 36.0, 37.0, 52.0, 60.0]"
      ]
     },
     "metadata": {},
     "output_type": "display_data"
    },
    {
     "data": {
      "text/plain": [
       "'living_area'"
      ]
     },
     "metadata": {},
     "output_type": "display_data"
    },
    {
     "data": {
      "text/plain": [
       "[2.0, 3.0, 9.0, 10.0, 10.6]"
      ]
     },
     "metadata": {},
     "output_type": "display_data"
    },
    {
     "data": {
      "text/plain": [
       "[322.3, 332.0, 347.5, 409.0, 409.7]"
      ]
     },
     "metadata": {},
     "output_type": "display_data"
    },
    {
     "data": {
      "text/plain": [
       "'floor'"
      ]
     },
     "metadata": {},
     "output_type": "display_data"
    },
    {
     "data": {
      "text/plain": [
       "[1, 2, 3, 4, 5]"
      ]
     },
     "metadata": {},
     "output_type": "display_data"
    },
    {
     "data": {
      "text/plain": [
       "[29, 30, 31, 32, 33]"
      ]
     },
     "metadata": {},
     "output_type": "display_data"
    },
    {
     "data": {
      "text/plain": [
       "'is_apartment'"
      ]
     },
     "metadata": {},
     "output_type": "display_data"
    },
    {
     "data": {
      "text/plain": [
       "[nan, False, True]"
      ]
     },
     "metadata": {},
     "output_type": "display_data"
    },
    {
     "data": {
      "text/plain": [
       "'studio'"
      ]
     },
     "metadata": {},
     "output_type": "display_data"
    },
    {
     "data": {
      "text/plain": [
       "[False, True]"
      ]
     },
     "metadata": {},
     "output_type": "display_data"
    },
    {
     "data": {
      "text/plain": [
       "'open_plan'"
      ]
     },
     "metadata": {},
     "output_type": "display_data"
    },
    {
     "data": {
      "text/plain": [
       "[False, True]"
      ]
     },
     "metadata": {},
     "output_type": "display_data"
    },
    {
     "data": {
      "text/plain": [
       "'kitchen_area'"
      ]
     },
     "metadata": {},
     "output_type": "display_data"
    },
    {
     "data": {
      "text/plain": [
       "[1.3, 3.0, 4.5, 4.9, 5.0]"
      ]
     },
     "metadata": {},
     "output_type": "display_data"
    },
    {
     "data": {
      "text/plain": [
       "[93.2, 100.0, 100.7, 107.0, 112.0]"
      ]
     },
     "metadata": {},
     "output_type": "display_data"
    },
    {
     "data": {
      "text/plain": [
       "'balcony'"
      ]
     },
     "metadata": {},
     "output_type": "display_data"
    },
    {
     "data": {
      "text/plain": [
       "[nan, 0.0, 1.0, 2.0, 3.0, 4.0, 5.0]"
      ]
     },
     "metadata": {},
     "output_type": "display_data"
    },
    {
     "data": {
      "text/plain": [
       "'После except: locality_name'"
      ]
     },
     "metadata": {},
     "output_type": "display_data"
    },
    {
     "data": {
      "text/plain": [
       "array(['Санкт-Петербург', 'посёлок Шушары', 'городской посёлок Янино-1',\n",
       "       'посёлок Парголово', 'посёлок Мурино', 'Ломоносов', 'Сертолово',\n",
       "       'Петергоф', 'Пушкин', 'деревня Кудрово', 'Коммунар', 'Колпино',\n",
       "       'поселок городского типа Красный Бор', 'Гатчина', 'поселок Мурино',\n",
       "       'деревня Фёдоровское', 'Выборг', 'Кронштадт', 'Кировск',\n",
       "       'деревня Новое Девяткино', 'посёлок Металлострой',\n",
       "       'посёлок городского типа Лебяжье',\n",
       "       'посёлок городского типа Сиверский', 'поселок Молодцово',\n",
       "       'поселок городского типа Кузьмоловский',\n",
       "       'садовое товарищество Новая Ропша', 'Павловск',\n",
       "       'деревня Пикколово', 'Всеволожск', 'Волхов', 'Кингисепп',\n",
       "       'Приозерск', 'Сестрорецк', 'деревня Куттузи', 'посёлок Аннино',\n",
       "       'поселок городского типа Ефимовский', 'посёлок Плодовое',\n",
       "       'деревня Заклинье', 'поселок Торковичи', 'поселок Первомайское',\n",
       "       'Красное Село', 'посёлок Понтонный', 'Сясьстрой', 'деревня Старая',\n",
       "       'деревня Лесколово', 'посёлок Новый Свет', 'Сланцы',\n",
       "       'село Путилово', 'Ивангород', 'Мурино', 'Шлиссельбург',\n",
       "       'Никольское', 'Зеленогорск', 'Сосновый Бор', 'поселок Новый Свет',\n",
       "       'деревня Оржицы', 'деревня Кальтино', 'Кудрово',\n",
       "       'поселок Романовка', 'посёлок Бугры', 'поселок Бугры',\n",
       "       'поселок городского типа Рощино', 'Кириши', 'Луга', 'Волосово',\n",
       "       'Отрадное', 'село Павлово', 'поселок Оредеж', 'село Копорье',\n",
       "       'посёлок городского типа Красный Бор', 'посёлок Молодёжное',\n",
       "       'Тихвин', 'посёлок Победа', 'деревня Нурма',\n",
       "       'поселок городского типа Синявино', 'Тосно',\n",
       "       'посёлок городского типа Кузьмоловский', 'посёлок Стрельна',\n",
       "       'Бокситогорск', 'посёлок Александровская', 'деревня Лопухинка',\n",
       "       'Пикалёво', 'поселок Терволово',\n",
       "       'поселок городского типа Советский', 'Подпорожье',\n",
       "       'посёлок Петровское', 'посёлок городского типа Токсово',\n",
       "       'поселок Сельцо', 'посёлок городского типа Вырица',\n",
       "       'деревня Кипень', 'деревня Келози', 'деревня Вартемяги',\n",
       "       'посёлок Тельмана', 'поселок Севастьяново',\n",
       "       'городской поселок Большая Ижора', nan,\n",
       "       'городской посёлок Павлово', 'деревня Агалатово',\n",
       "       'посёлок Новогорелово', 'городской посёлок Лесогорский',\n",
       "       'деревня Лаголово', 'поселок Цвелодубово',\n",
       "       'поселок городского типа Рахья', 'поселок городского типа Вырица',\n",
       "       'деревня Белогорка', 'поселок Заводской',\n",
       "       'городской посёлок Новоселье', 'деревня Большие Колпаны',\n",
       "       'деревня Горбунки', 'деревня Батово', 'деревня Заневка',\n",
       "       'деревня Иссад', 'Приморск', 'городской посёлок Фёдоровское',\n",
       "       'деревня Мистолово', 'Новая Ладога', 'поселок Зимитицы',\n",
       "       'поселок Барышево', 'деревня Разметелево',\n",
       "       'поселок городского типа имени Свердлова', 'деревня Пеники',\n",
       "       'поселок Рябово', 'деревня Пудомяги', 'поселок станции Корнево',\n",
       "       'деревня Низино', 'деревня Бегуницы', 'посёлок Поляны',\n",
       "       'городской посёлок Мга', 'поселок Елизаветино',\n",
       "       'посёлок городского типа Кузнечное', 'деревня Колтуши',\n",
       "       'поселок Запорожское', 'посёлок городского типа Рощино',\n",
       "       'деревня Гостилицы', 'деревня Малое Карлино',\n",
       "       'посёлок Мичуринское', 'посёлок городского типа имени Морозова',\n",
       "       'посёлок Песочный', 'посёлок Сосново', 'деревня Аро',\n",
       "       'поселок Ильичёво', 'посёлок городского типа Тайцы',\n",
       "       'деревня Малое Верево', 'деревня Извара', 'поселок станции Вещево',\n",
       "       'село Паша', 'деревня Калитино',\n",
       "       'посёлок городского типа Ульяновка', 'деревня Чудской Бор',\n",
       "       'поселок городского типа Дубровка', 'деревня Мины',\n",
       "       'поселок Войсковицы', 'посёлок городского типа имени Свердлова',\n",
       "       'деревня Коркино', 'посёлок Ропша',\n",
       "       'поселок городского типа Приладожский', 'посёлок Щеглово',\n",
       "       'посёлок Гаврилово', 'Лодейное Поле', 'деревня Рабитицы',\n",
       "       'поселок городского типа Никольский', 'деревня Кузьмолово',\n",
       "       'деревня Малые Колпаны', 'поселок Тельмана',\n",
       "       'посёлок Петро-Славянка', 'городской посёлок Назия',\n",
       "       'посёлок Репино', 'посёлок Ильичёво', 'поселок Углово',\n",
       "       'поселок Старая Малукса', 'садовое товарищество Рахья',\n",
       "       'поселок Аннино', 'поселок Победа', 'деревня Меньково',\n",
       "       'деревня Старые Бегуницы', 'посёлок Сапёрный', 'поселок Семрино',\n",
       "       'поселок Гаврилово', 'поселок Глажево', 'поселок Кобринское',\n",
       "       'деревня Гарболово', 'деревня Юкки',\n",
       "       'поселок станции Приветнинское', 'деревня Мануйлово',\n",
       "       'деревня Пчева', 'поселок Поляны', 'поселок Цвылёво',\n",
       "       'поселок Мельниково', 'посёлок Пудость', 'посёлок Усть-Луга',\n",
       "       'Светогорск', 'Любань', 'поселок Селезнёво',\n",
       "       'поселок городского типа Рябово', 'Каменногорск', 'деревня Кривко',\n",
       "       'поселок Глебычево', 'деревня Парицы', 'поселок Жилпосёлок',\n",
       "       'посёлок городского типа Мга', 'городской поселок Янино-1',\n",
       "       'посёлок Войскорово', 'село Никольское', 'посёлок Терволово',\n",
       "       'поселок Стеклянный', 'посёлок городского типа Важины',\n",
       "       'посёлок Мыза-Ивановка', 'село Русско-Высоцкое',\n",
       "       'поселок городского типа Лебяжье',\n",
       "       'поселок городского типа Форносово', 'село Старая Ладога',\n",
       "       'поселок Житково', 'городской посёлок Виллози', 'деревня Лампово',\n",
       "       'деревня Шпаньково', 'деревня Лаврики', 'посёлок Сумино',\n",
       "       'посёлок Возрождение', 'деревня Старосиверская',\n",
       "       'посёлок Кикерино', 'поселок Возрождение',\n",
       "       'деревня Старое Хинколово', 'посёлок Пригородный',\n",
       "       'посёлок Торфяное', 'городской посёлок Будогощь',\n",
       "       'поселок Суходолье', 'поселок Красная Долина', 'деревня Хапо-Ое',\n",
       "       'поселок городского типа Дружная Горка', 'поселок Лисий Нос',\n",
       "       'деревня Яльгелево', 'посёлок Стеклянный', 'село Рождествено',\n",
       "       'деревня Старополье', 'посёлок Левашово', 'деревня Сяськелево',\n",
       "       'деревня Камышовка',\n",
       "       'садоводческое некоммерческое товарищество Лесная Поляна',\n",
       "       'деревня Хязельки', 'поселок Жилгородок',\n",
       "       'посёлок городского типа Павлово', 'деревня Ялгино',\n",
       "       'поселок Новый Учхоз', 'городской посёлок Рощино',\n",
       "       'поселок Гончарово', 'поселок Почап', 'посёлок Сапёрное',\n",
       "       'посёлок Платформа 69-й километр', 'поселок Каложицы',\n",
       "       'деревня Фалилеево', 'деревня Пельгора',\n",
       "       'поселок городского типа Лесогорский', 'деревня Торошковичи',\n",
       "       'посёлок Белоостров', 'посёлок Алексеевка', 'поселок Серебрянский',\n",
       "       'поселок Лукаши', 'поселок Петровское', 'деревня Щеглово',\n",
       "       'поселок Мичуринское', 'деревня Тарасово', 'поселок Кингисеппский',\n",
       "       'посёлок при железнодорожной станции Вещево', 'поселок Ушаки',\n",
       "       'деревня Котлы', 'деревня Сижно', 'деревня Торосово',\n",
       "       'посёлок Форт Красная Горка', 'поселок городского типа Токсово',\n",
       "       'деревня Новолисино', 'посёлок станции Громово', 'деревня Глинка',\n",
       "       'посёлок Мельниково', 'поселок городского типа Назия',\n",
       "       'деревня Старая Пустошь', 'поселок Коммунары', 'поселок Починок',\n",
       "       'посёлок городского типа Вознесенье', 'деревня Разбегаево',\n",
       "       'посёлок городского типа Рябово', 'поселок Гладкое',\n",
       "       'посёлок при железнодорожной станции Приветнинское',\n",
       "       'поселок Тёсово-4', 'посёлок Жилгородок', 'деревня Бор',\n",
       "       'посёлок Коробицыно', 'деревня Большая Вруда', 'деревня Курковицы',\n",
       "       'посёлок Лисий Нос', 'городской посёлок Советский',\n",
       "       'посёлок Кобралово', 'деревня Суоранда', 'поселок Кобралово',\n",
       "       'поселок городского типа Кондратьево',\n",
       "       'коттеджный поселок Счастье', 'поселок Любань', 'деревня Реброво',\n",
       "       'деревня Зимитицы', 'деревня Тойворово', 'поселок Семиозерье',\n",
       "       'поселок Лесное', 'поселок Совхозный', 'поселок Усть-Луга',\n",
       "       'посёлок Ленинское', 'посёлок Суйда',\n",
       "       'посёлок городского типа Форносово', 'деревня Нижние Осельки',\n",
       "       'посёлок станции Свирь', 'поселок Перово', 'Высоцк',\n",
       "       'поселок Гарболово', 'село Шум', 'поселок Котельский',\n",
       "       'поселок станции Лужайка', 'деревня Большая Пустомержа',\n",
       "       'поселок Красносельское', 'деревня Вахнова Кара', 'деревня Пижма',\n",
       "       'коттеджный поселок Кивеннапа Север', 'поселок Коробицыно',\n",
       "       'поселок Ромашки', 'посёлок Перово', 'деревня Каськово',\n",
       "       'деревня Куровицы', 'посёлок Плоское', 'поселок Сумино',\n",
       "       'поселок городского типа Большая Ижора', 'поселок Кирпичное',\n",
       "       'деревня Ям-Тесово', 'деревня Раздолье', 'деревня Терпилицы',\n",
       "       'посёлок Шугозеро', 'деревня Ваганово', 'поселок Пушное',\n",
       "       'садовое товарищество Садко', 'посёлок Усть-Ижора',\n",
       "       'деревня Выскатка', 'городской посёлок Свирьстрой',\n",
       "       'поселок Громово', 'деревня Кисельня', 'посёлок Старая Малукса',\n",
       "       'деревня Трубников Бор', 'поселок Калитино',\n",
       "       'посёлок Высокоключевой', 'садовое товарищество Приладожский',\n",
       "       'посёлок Пансионат Зелёный Бор', 'деревня Ненимяки',\n",
       "       'поселок Пансионат Зелёный Бор', 'деревня Снегирёвка',\n",
       "       'деревня Рапполово', 'деревня Пустынка', 'поселок Рабитицы',\n",
       "       'деревня Большой Сабск', 'деревня Русско', 'деревня Лупполово',\n",
       "       'деревня Большое Рейзино', 'деревня Малая Романовка',\n",
       "       'поселок Дружноселье', 'поселок Пчевжа', 'поселок Володарское',\n",
       "       'деревня Нижняя', 'коттеджный посёлок Лесное', 'деревня Тихковицы',\n",
       "       'деревня Борисова Грива', 'посёлок Дзержинского'], dtype=object)"
      ]
     },
     "metadata": {},
     "output_type": "display_data"
    },
    {
     "data": {
      "text/plain": [
       "'airports_nearest'"
      ]
     },
     "metadata": {},
     "output_type": "display_data"
    },
    {
     "data": {
      "text/plain": [
       "[0.0, 6450.0, 6995.0, 7019.0, 7026.0]"
      ]
     },
     "metadata": {},
     "output_type": "display_data"
    },
    {
     "data": {
      "text/plain": [
       "[83758.0, 84006.0, 84665.0, 84853.0, 84869.0]"
      ]
     },
     "metadata": {},
     "output_type": "display_data"
    },
    {
     "data": {
      "text/plain": [
       "'cityCenters_nearest'"
      ]
     },
     "metadata": {},
     "output_type": "display_data"
    },
    {
     "data": {
      "text/plain": [
       "[208.0, 287.0, 318.0, 399.0, 436.0]"
      ]
     },
     "metadata": {},
     "output_type": "display_data"
    },
    {
     "data": {
      "text/plain": [
       "[64857.0, 65105.0, 65764.0, 65952.0, 65968.0]"
      ]
     },
     "metadata": {},
     "output_type": "display_data"
    },
    {
     "data": {
      "text/plain": [
       "'parks_around3000'"
      ]
     },
     "metadata": {},
     "output_type": "display_data"
    },
    {
     "data": {
      "text/plain": [
       "[0.0, 1.0, 2.0, nan, 3.0]"
      ]
     },
     "metadata": {},
     "output_type": "display_data"
    },
    {
     "data": {
      "text/plain": [
       "'parks_nearest'"
      ]
     },
     "metadata": {},
     "output_type": "display_data"
    },
    {
     "data": {
      "text/plain": [
       "[1.0, 11.0, 13.0, 19.0, 36.0]"
      ]
     },
     "metadata": {},
     "output_type": "display_data"
    },
    {
     "data": {
      "text/plain": [
       "[2905.0, 2984.0, 3013.0, 3064.0, 3190.0]"
      ]
     },
     "metadata": {},
     "output_type": "display_data"
    },
    {
     "data": {
      "text/plain": [
       "'ponds_around3000'"
      ]
     },
     "metadata": {},
     "output_type": "display_data"
    },
    {
     "data": {
      "text/plain": [
       "[0.0, 1.0, 2.0, 3.0, nan]"
      ]
     },
     "metadata": {},
     "output_type": "display_data"
    },
    {
     "data": {
      "text/plain": [
       "'ponds_nearest'"
      ]
     },
     "metadata": {},
     "output_type": "display_data"
    },
    {
     "data": {
      "text/plain": [
       "[13.0, 19.0, 22.0, 36.0, 55.0]"
      ]
     },
     "metadata": {},
     "output_type": "display_data"
    },
    {
     "data": {
      "text/plain": [
       "[1299.0, 1313.0, 1337.0, 1341.0, 1344.0]"
      ]
     },
     "metadata": {},
     "output_type": "display_data"
    },
    {
     "data": {
      "text/plain": [
       "'days_exposition'"
      ]
     },
     "metadata": {},
     "output_type": "display_data"
    },
    {
     "data": {
      "text/plain": [
       "[nan, 1.0, 2.0, 3.0000000000000004, 4.0]"
      ]
     },
     "metadata": {},
     "output_type": "display_data"
    },
    {
     "data": {
      "text/plain": [
       "[1512.0000000000002, 1513.0000000000002, 1553.0000000000002, 1572.0, 1580.0]"
      ]
     },
     "metadata": {},
     "output_type": "display_data"
    }
   ],
   "source": [
    "for col in data.columns:    \n",
    "    try:\n",
    "        values = sorted(data[col].unique())\n",
    "        # если больше 10 значений, выведем только первые и последние 5\n",
    "        if len(values) > 10:\n",
    "            display (col, values[:5], values[-5:])\n",
    "        else: display(col, values)\n",
    "    except:\n",
    "        display(f'После except: {col}', data[col].unique())   \n",
    "        "
   ]
  },
  {
   "cell_type": "markdown",
   "metadata": {},
   "source": [
    "### Вывод\n",
    "\n"
   ]
  },
  {
   "cell_type": "markdown",
   "metadata": {},
   "source": [
    "- нужно переименовать колонку 'cityCenters_nearest'\n",
    "- столбец с датой записан в виде строки - нужно преобразовать в формат даты\n",
    "- высота потолков свыше 10м похожа на аномалию, возможно ошиблись порядком\n",
    "- в 'locality_name' буквы 'ё' нужно заменить на 'е', иначе некоторые одинаковые населенные пункты будут идентифицированы как разные\n"
   ]
  },
  {
   "cell_type": "markdown",
   "metadata": {},
   "source": [
    "## Предобработка данных"
   ]
  },
  {
   "cell_type": "markdown",
   "metadata": {},
   "source": [
    "Переименуем столбец"
   ]
  },
  {
   "cell_type": "code",
   "execution_count": 5,
   "metadata": {},
   "outputs": [],
   "source": [
    "data.rename(columns={'cityCenters_nearest': 'city_centers_nearest'}, inplace=True)"
   ]
  },
  {
   "cell_type": "markdown",
   "metadata": {},
   "source": [
    "Преобразуем ячейки с датами в формате строк в формат даты"
   ]
  },
  {
   "cell_type": "code",
   "execution_count": 6,
   "metadata": {},
   "outputs": [],
   "source": [
    "data['first_day_exposition'] = pd.to_datetime(data['first_day_exposition'], format='%Y-%m-%dT%H:%M:%S')"
   ]
  },
  {
   "cell_type": "markdown",
   "metadata": {},
   "source": [
    "Посмотрим на квартиры с потолками выше 10м"
   ]
  },
  {
   "cell_type": "code",
   "execution_count": 7,
   "metadata": {
    "scrolled": true
   },
   "outputs": [
    {
     "data": {
      "text/html": [
       "<div>\n",
       "<style scoped>\n",
       "    .dataframe tbody tr th:only-of-type {\n",
       "        vertical-align: middle;\n",
       "    }\n",
       "\n",
       "    .dataframe tbody tr th {\n",
       "        vertical-align: top;\n",
       "    }\n",
       "\n",
       "    .dataframe thead th {\n",
       "        text-align: right;\n",
       "    }\n",
       "</style>\n",
       "<table border=\"1\" class=\"dataframe\">\n",
       "  <thead>\n",
       "    <tr style=\"text-align: right;\">\n",
       "      <th></th>\n",
       "      <th>total_images</th>\n",
       "      <th>last_price</th>\n",
       "      <th>total_area</th>\n",
       "      <th>first_day_exposition</th>\n",
       "      <th>rooms</th>\n",
       "      <th>ceiling_height</th>\n",
       "      <th>floors_total</th>\n",
       "      <th>living_area</th>\n",
       "      <th>floor</th>\n",
       "      <th>is_apartment</th>\n",
       "      <th>...</th>\n",
       "      <th>kitchen_area</th>\n",
       "      <th>balcony</th>\n",
       "      <th>locality_name</th>\n",
       "      <th>airports_nearest</th>\n",
       "      <th>city_centers_nearest</th>\n",
       "      <th>parks_around3000</th>\n",
       "      <th>parks_nearest</th>\n",
       "      <th>ponds_around3000</th>\n",
       "      <th>ponds_nearest</th>\n",
       "      <th>days_exposition</th>\n",
       "    </tr>\n",
       "  </thead>\n",
       "  <tbody>\n",
       "    <tr>\n",
       "      <th>22869</th>\n",
       "      <td>0</td>\n",
       "      <td>15,000,000.00</td>\n",
       "      <td>25.00</td>\n",
       "      <td>2018-07-25</td>\n",
       "      <td>1</td>\n",
       "      <td>100.00</td>\n",
       "      <td>5.00</td>\n",
       "      <td>14.00</td>\n",
       "      <td>5</td>\n",
       "      <td>True</td>\n",
       "      <td>...</td>\n",
       "      <td>11.00</td>\n",
       "      <td>5.00</td>\n",
       "      <td>Санкт-Петербург</td>\n",
       "      <td>34,963.00</td>\n",
       "      <td>8,283.00</td>\n",
       "      <td>1.00</td>\n",
       "      <td>223.00</td>\n",
       "      <td>3.00</td>\n",
       "      <td>30.00</td>\n",
       "      <td>19.00</td>\n",
       "    </tr>\n",
       "    <tr>\n",
       "      <th>22336</th>\n",
       "      <td>19</td>\n",
       "      <td>9,999,000.00</td>\n",
       "      <td>92.40</td>\n",
       "      <td>2019-04-05</td>\n",
       "      <td>2</td>\n",
       "      <td>32.00</td>\n",
       "      <td>6.00</td>\n",
       "      <td>55.50</td>\n",
       "      <td>5</td>\n",
       "      <td>False</td>\n",
       "      <td>...</td>\n",
       "      <td>16.50</td>\n",
       "      <td>4.00</td>\n",
       "      <td>Санкт-Петербург</td>\n",
       "      <td>18,838.00</td>\n",
       "      <td>3,506.00</td>\n",
       "      <td>0.00</td>\n",
       "      <td>NaN</td>\n",
       "      <td>3.00</td>\n",
       "      <td>511.00</td>\n",
       "      <td>NaN</td>\n",
       "    </tr>\n",
       "    <tr>\n",
       "      <th>5807</th>\n",
       "      <td>17</td>\n",
       "      <td>8,150,000.00</td>\n",
       "      <td>80.00</td>\n",
       "      <td>2019-01-09</td>\n",
       "      <td>2</td>\n",
       "      <td>27.00</td>\n",
       "      <td>36.00</td>\n",
       "      <td>41.00</td>\n",
       "      <td>13</td>\n",
       "      <td>NaN</td>\n",
       "      <td>...</td>\n",
       "      <td>12.00</td>\n",
       "      <td>5.00</td>\n",
       "      <td>Санкт-Петербург</td>\n",
       "      <td>18,732.00</td>\n",
       "      <td>20,444.00</td>\n",
       "      <td>0.00</td>\n",
       "      <td>NaN</td>\n",
       "      <td>3.00</td>\n",
       "      <td>80.00</td>\n",
       "      <td>38.00</td>\n",
       "    </tr>\n",
       "    <tr>\n",
       "      <th>20478</th>\n",
       "      <td>11</td>\n",
       "      <td>8,000,000.00</td>\n",
       "      <td>45.00</td>\n",
       "      <td>2017-07-18</td>\n",
       "      <td>1</td>\n",
       "      <td>27.00</td>\n",
       "      <td>4.00</td>\n",
       "      <td>22.00</td>\n",
       "      <td>2</td>\n",
       "      <td>NaN</td>\n",
       "      <td>...</td>\n",
       "      <td>10.00</td>\n",
       "      <td>1.00</td>\n",
       "      <td>Санкт-Петербург</td>\n",
       "      <td>18,975.00</td>\n",
       "      <td>3,246.00</td>\n",
       "      <td>0.00</td>\n",
       "      <td>NaN</td>\n",
       "      <td>3.00</td>\n",
       "      <td>449.00</td>\n",
       "      <td>429.00</td>\n",
       "    </tr>\n",
       "    <tr>\n",
       "      <th>17496</th>\n",
       "      <td>15</td>\n",
       "      <td>6,700,000.00</td>\n",
       "      <td>92.90</td>\n",
       "      <td>2019-02-19</td>\n",
       "      <td>3</td>\n",
       "      <td>20.00</td>\n",
       "      <td>17.00</td>\n",
       "      <td>53.20</td>\n",
       "      <td>14</td>\n",
       "      <td>NaN</td>\n",
       "      <td>...</td>\n",
       "      <td>12.00</td>\n",
       "      <td>5.00</td>\n",
       "      <td>Санкт-Петербург</td>\n",
       "      <td>16,295.00</td>\n",
       "      <td>15,092.00</td>\n",
       "      <td>1.00</td>\n",
       "      <td>967.00</td>\n",
       "      <td>0.00</td>\n",
       "      <td>NaN</td>\n",
       "      <td>NaN</td>\n",
       "    </tr>\n",
       "    <tr>\n",
       "      <th>20507</th>\n",
       "      <td>12</td>\n",
       "      <td>5,950,000.00</td>\n",
       "      <td>60.00</td>\n",
       "      <td>2018-02-19</td>\n",
       "      <td>2</td>\n",
       "      <td>22.60</td>\n",
       "      <td>14.00</td>\n",
       "      <td>35.00</td>\n",
       "      <td>11</td>\n",
       "      <td>NaN</td>\n",
       "      <td>...</td>\n",
       "      <td>13.00</td>\n",
       "      <td>1.00</td>\n",
       "      <td>Санкт-Петербург</td>\n",
       "      <td>27,028.00</td>\n",
       "      <td>12,570.00</td>\n",
       "      <td>0.00</td>\n",
       "      <td>NaN</td>\n",
       "      <td>0.00</td>\n",
       "      <td>NaN</td>\n",
       "      <td>40.00</td>\n",
       "    </tr>\n",
       "    <tr>\n",
       "      <th>15061</th>\n",
       "      <td>19</td>\n",
       "      <td>5,600,000.00</td>\n",
       "      <td>56.40</td>\n",
       "      <td>2018-05-11</td>\n",
       "      <td>2</td>\n",
       "      <td>14.00</td>\n",
       "      <td>14.00</td>\n",
       "      <td>32.40</td>\n",
       "      <td>5</td>\n",
       "      <td>NaN</td>\n",
       "      <td>...</td>\n",
       "      <td>9.10</td>\n",
       "      <td>2.00</td>\n",
       "      <td>Санкт-Петербург</td>\n",
       "      <td>14,814.00</td>\n",
       "      <td>13,610.00</td>\n",
       "      <td>0.00</td>\n",
       "      <td>NaN</td>\n",
       "      <td>0.00</td>\n",
       "      <td>NaN</td>\n",
       "      <td>315.00</td>\n",
       "    </tr>\n",
       "    <tr>\n",
       "      <th>22309</th>\n",
       "      <td>20</td>\n",
       "      <td>5,300,000.00</td>\n",
       "      <td>45.00</td>\n",
       "      <td>2017-09-30</td>\n",
       "      <td>1</td>\n",
       "      <td>10.30</td>\n",
       "      <td>16.00</td>\n",
       "      <td>15.50</td>\n",
       "      <td>15</td>\n",
       "      <td>NaN</td>\n",
       "      <td>...</td>\n",
       "      <td>NaN</td>\n",
       "      <td>NaN</td>\n",
       "      <td>Санкт-Петербург</td>\n",
       "      <td>36,353.00</td>\n",
       "      <td>11,936.00</td>\n",
       "      <td>2.00</td>\n",
       "      <td>440.00</td>\n",
       "      <td>2.00</td>\n",
       "      <td>450.00</td>\n",
       "      <td>136.00</td>\n",
       "    </tr>\n",
       "    <tr>\n",
       "      <th>21377</th>\n",
       "      <td>19</td>\n",
       "      <td>4,900,000.00</td>\n",
       "      <td>42.00</td>\n",
       "      <td>2017-04-18</td>\n",
       "      <td>1</td>\n",
       "      <td>27.50</td>\n",
       "      <td>24.00</td>\n",
       "      <td>37.70</td>\n",
       "      <td>19</td>\n",
       "      <td>False</td>\n",
       "      <td>...</td>\n",
       "      <td>11.00</td>\n",
       "      <td>2.00</td>\n",
       "      <td>Санкт-Петербург</td>\n",
       "      <td>42,742.00</td>\n",
       "      <td>9,760.00</td>\n",
       "      <td>0.00</td>\n",
       "      <td>NaN</td>\n",
       "      <td>0.00</td>\n",
       "      <td>NaN</td>\n",
       "      <td>61.00</td>\n",
       "    </tr>\n",
       "    <tr>\n",
       "      <th>5669</th>\n",
       "      <td>4</td>\n",
       "      <td>4,400,000.00</td>\n",
       "      <td>50.00</td>\n",
       "      <td>2017-08-08</td>\n",
       "      <td>2</td>\n",
       "      <td>26.00</td>\n",
       "      <td>9.00</td>\n",
       "      <td>21.30</td>\n",
       "      <td>3</td>\n",
       "      <td>NaN</td>\n",
       "      <td>...</td>\n",
       "      <td>7.00</td>\n",
       "      <td>2.00</td>\n",
       "      <td>Санкт-Петербург</td>\n",
       "      <td>28,981.00</td>\n",
       "      <td>10,912.00</td>\n",
       "      <td>1.00</td>\n",
       "      <td>305.00</td>\n",
       "      <td>0.00</td>\n",
       "      <td>NaN</td>\n",
       "      <td>267.00</td>\n",
       "    </tr>\n",
       "    <tr>\n",
       "      <th>4643</th>\n",
       "      <td>0</td>\n",
       "      <td>4,300,000.00</td>\n",
       "      <td>45.00</td>\n",
       "      <td>2018-02-01</td>\n",
       "      <td>2</td>\n",
       "      <td>25.00</td>\n",
       "      <td>9.00</td>\n",
       "      <td>30.00</td>\n",
       "      <td>2</td>\n",
       "      <td>NaN</td>\n",
       "      <td>...</td>\n",
       "      <td>7.00</td>\n",
       "      <td>1.00</td>\n",
       "      <td>Санкт-Петербург</td>\n",
       "      <td>12,016.00</td>\n",
       "      <td>13,256.00</td>\n",
       "      <td>1.00</td>\n",
       "      <td>658.00</td>\n",
       "      <td>1.00</td>\n",
       "      <td>331.00</td>\n",
       "      <td>181.00</td>\n",
       "    </tr>\n",
       "    <tr>\n",
       "      <th>22938</th>\n",
       "      <td>14</td>\n",
       "      <td>4,000,000.00</td>\n",
       "      <td>98.00</td>\n",
       "      <td>2018-03-15</td>\n",
       "      <td>4</td>\n",
       "      <td>27.00</td>\n",
       "      <td>2.00</td>\n",
       "      <td>73.00</td>\n",
       "      <td>2</td>\n",
       "      <td>True</td>\n",
       "      <td>...</td>\n",
       "      <td>9.00</td>\n",
       "      <td>1.00</td>\n",
       "      <td>деревня Нижняя</td>\n",
       "      <td>NaN</td>\n",
       "      <td>NaN</td>\n",
       "      <td>NaN</td>\n",
       "      <td>NaN</td>\n",
       "      <td>NaN</td>\n",
       "      <td>NaN</td>\n",
       "      <td>27.00</td>\n",
       "    </tr>\n",
       "    <tr>\n",
       "      <th>9379</th>\n",
       "      <td>5</td>\n",
       "      <td>3,950,000.00</td>\n",
       "      <td>42.00</td>\n",
       "      <td>2017-03-26</td>\n",
       "      <td>3</td>\n",
       "      <td>25.00</td>\n",
       "      <td>5.00</td>\n",
       "      <td>30.00</td>\n",
       "      <td>2</td>\n",
       "      <td>NaN</td>\n",
       "      <td>...</td>\n",
       "      <td>5.20</td>\n",
       "      <td>NaN</td>\n",
       "      <td>Санкт-Петербург</td>\n",
       "      <td>11,647.00</td>\n",
       "      <td>13,581.00</td>\n",
       "      <td>0.00</td>\n",
       "      <td>NaN</td>\n",
       "      <td>0.00</td>\n",
       "      <td>NaN</td>\n",
       "      <td>NaN</td>\n",
       "    </tr>\n",
       "    <tr>\n",
       "      <th>17857</th>\n",
       "      <td>1</td>\n",
       "      <td>3,900,000.00</td>\n",
       "      <td>56.00</td>\n",
       "      <td>2017-12-22</td>\n",
       "      <td>3</td>\n",
       "      <td>27.00</td>\n",
       "      <td>5.00</td>\n",
       "      <td>33.00</td>\n",
       "      <td>4</td>\n",
       "      <td>False</td>\n",
       "      <td>...</td>\n",
       "      <td>NaN</td>\n",
       "      <td>NaN</td>\n",
       "      <td>Санкт-Петербург</td>\n",
       "      <td>41,030.00</td>\n",
       "      <td>15,543.00</td>\n",
       "      <td>0.00</td>\n",
       "      <td>NaN</td>\n",
       "      <td>0.00</td>\n",
       "      <td>NaN</td>\n",
       "      <td>73.00</td>\n",
       "    </tr>\n",
       "    <tr>\n",
       "      <th>5076</th>\n",
       "      <td>0</td>\n",
       "      <td>3,850,000.00</td>\n",
       "      <td>30.50</td>\n",
       "      <td>2018-10-03</td>\n",
       "      <td>1</td>\n",
       "      <td>24.00</td>\n",
       "      <td>5.00</td>\n",
       "      <td>19.50</td>\n",
       "      <td>1</td>\n",
       "      <td>True</td>\n",
       "      <td>...</td>\n",
       "      <td>5.50</td>\n",
       "      <td>NaN</td>\n",
       "      <td>Санкт-Петербург</td>\n",
       "      <td>29,686.00</td>\n",
       "      <td>8,389.00</td>\n",
       "      <td>3.00</td>\n",
       "      <td>397.00</td>\n",
       "      <td>1.00</td>\n",
       "      <td>578.00</td>\n",
       "      <td>7.00</td>\n",
       "    </tr>\n",
       "    <tr>\n",
       "      <th>10773</th>\n",
       "      <td>8</td>\n",
       "      <td>3,800,000.00</td>\n",
       "      <td>58.00</td>\n",
       "      <td>2017-10-13</td>\n",
       "      <td>2</td>\n",
       "      <td>27.00</td>\n",
       "      <td>10.00</td>\n",
       "      <td>30.10</td>\n",
       "      <td>3</td>\n",
       "      <td>False</td>\n",
       "      <td>...</td>\n",
       "      <td>8.10</td>\n",
       "      <td>2.00</td>\n",
       "      <td>посёлок Мурино</td>\n",
       "      <td>NaN</td>\n",
       "      <td>NaN</td>\n",
       "      <td>NaN</td>\n",
       "      <td>NaN</td>\n",
       "      <td>NaN</td>\n",
       "      <td>NaN</td>\n",
       "      <td>71.00</td>\n",
       "    </tr>\n",
       "    <tr>\n",
       "      <th>18545</th>\n",
       "      <td>6</td>\n",
       "      <td>3,750,000.00</td>\n",
       "      <td>43.00</td>\n",
       "      <td>2019-03-18</td>\n",
       "      <td>2</td>\n",
       "      <td>25.00</td>\n",
       "      <td>5.00</td>\n",
       "      <td>29.00</td>\n",
       "      <td>3</td>\n",
       "      <td>False</td>\n",
       "      <td>...</td>\n",
       "      <td>NaN</td>\n",
       "      <td>NaN</td>\n",
       "      <td>Санкт-Петербург</td>\n",
       "      <td>27,054.00</td>\n",
       "      <td>8,033.00</td>\n",
       "      <td>1.00</td>\n",
       "      <td>540.00</td>\n",
       "      <td>0.00</td>\n",
       "      <td>NaN</td>\n",
       "      <td>12.00</td>\n",
       "    </tr>\n",
       "    <tr>\n",
       "      <th>355</th>\n",
       "      <td>17</td>\n",
       "      <td>3,600,000.00</td>\n",
       "      <td>55.20</td>\n",
       "      <td>2018-07-12</td>\n",
       "      <td>2</td>\n",
       "      <td>25.00</td>\n",
       "      <td>5.00</td>\n",
       "      <td>32.00</td>\n",
       "      <td>2</td>\n",
       "      <td>False</td>\n",
       "      <td>...</td>\n",
       "      <td>NaN</td>\n",
       "      <td>2.00</td>\n",
       "      <td>Гатчина</td>\n",
       "      <td>NaN</td>\n",
       "      <td>NaN</td>\n",
       "      <td>NaN</td>\n",
       "      <td>NaN</td>\n",
       "      <td>NaN</td>\n",
       "      <td>NaN</td>\n",
       "      <td>259.00</td>\n",
       "    </tr>\n",
       "    <tr>\n",
       "      <th>6246</th>\n",
       "      <td>6</td>\n",
       "      <td>3,300,000.00</td>\n",
       "      <td>44.40</td>\n",
       "      <td>2019-03-25</td>\n",
       "      <td>2</td>\n",
       "      <td>25.00</td>\n",
       "      <td>5.00</td>\n",
       "      <td>31.30</td>\n",
       "      <td>5</td>\n",
       "      <td>NaN</td>\n",
       "      <td>...</td>\n",
       "      <td>5.70</td>\n",
       "      <td>NaN</td>\n",
       "      <td>Кронштадт</td>\n",
       "      <td>68,923.00</td>\n",
       "      <td>50,649.00</td>\n",
       "      <td>1.00</td>\n",
       "      <td>417.00</td>\n",
       "      <td>2.00</td>\n",
       "      <td>73.00</td>\n",
       "      <td>NaN</td>\n",
       "    </tr>\n",
       "    <tr>\n",
       "      <th>4876</th>\n",
       "      <td>7</td>\n",
       "      <td>3,000,000.00</td>\n",
       "      <td>25.00</td>\n",
       "      <td>2017-09-27</td>\n",
       "      <td>0</td>\n",
       "      <td>27.00</td>\n",
       "      <td>25.00</td>\n",
       "      <td>17.00</td>\n",
       "      <td>17</td>\n",
       "      <td>NaN</td>\n",
       "      <td>...</td>\n",
       "      <td>NaN</td>\n",
       "      <td>2.00</td>\n",
       "      <td>посёлок Мурино</td>\n",
       "      <td>NaN</td>\n",
       "      <td>NaN</td>\n",
       "      <td>NaN</td>\n",
       "      <td>NaN</td>\n",
       "      <td>NaN</td>\n",
       "      <td>NaN</td>\n",
       "      <td>28.00</td>\n",
       "    </tr>\n",
       "    <tr>\n",
       "      <th>3148</th>\n",
       "      <td>14</td>\n",
       "      <td>2,900,000.00</td>\n",
       "      <td>75.00</td>\n",
       "      <td>2018-11-12</td>\n",
       "      <td>3</td>\n",
       "      <td>32.00</td>\n",
       "      <td>3.00</td>\n",
       "      <td>53.00</td>\n",
       "      <td>2</td>\n",
       "      <td>NaN</td>\n",
       "      <td>...</td>\n",
       "      <td>8.00</td>\n",
       "      <td>NaN</td>\n",
       "      <td>Волхов</td>\n",
       "      <td>NaN</td>\n",
       "      <td>NaN</td>\n",
       "      <td>NaN</td>\n",
       "      <td>NaN</td>\n",
       "      <td>NaN</td>\n",
       "      <td>NaN</td>\n",
       "      <td>NaN</td>\n",
       "    </tr>\n",
       "    <tr>\n",
       "      <th>5246</th>\n",
       "      <td>0</td>\n",
       "      <td>2,500,000.00</td>\n",
       "      <td>54.00</td>\n",
       "      <td>2017-10-13</td>\n",
       "      <td>2</td>\n",
       "      <td>27.00</td>\n",
       "      <td>5.00</td>\n",
       "      <td>30.00</td>\n",
       "      <td>3</td>\n",
       "      <td>NaN</td>\n",
       "      <td>...</td>\n",
       "      <td>9.00</td>\n",
       "      <td>2.00</td>\n",
       "      <td>деревня Мины</td>\n",
       "      <td>NaN</td>\n",
       "      <td>NaN</td>\n",
       "      <td>NaN</td>\n",
       "      <td>NaN</td>\n",
       "      <td>NaN</td>\n",
       "      <td>NaN</td>\n",
       "      <td>540.00</td>\n",
       "    </tr>\n",
       "    <tr>\n",
       "      <th>21824</th>\n",
       "      <td>20</td>\n",
       "      <td>2,450,000.00</td>\n",
       "      <td>44.00</td>\n",
       "      <td>2019-02-12</td>\n",
       "      <td>2</td>\n",
       "      <td>27.00</td>\n",
       "      <td>2.00</td>\n",
       "      <td>38.00</td>\n",
       "      <td>2</td>\n",
       "      <td>False</td>\n",
       "      <td>...</td>\n",
       "      <td>8.60</td>\n",
       "      <td>2.00</td>\n",
       "      <td>городской поселок Большая Ижора</td>\n",
       "      <td>NaN</td>\n",
       "      <td>NaN</td>\n",
       "      <td>NaN</td>\n",
       "      <td>NaN</td>\n",
       "      <td>NaN</td>\n",
       "      <td>NaN</td>\n",
       "      <td>NaN</td>\n",
       "    </tr>\n",
       "    <tr>\n",
       "      <th>11285</th>\n",
       "      <td>0</td>\n",
       "      <td>1,950,000.00</td>\n",
       "      <td>37.00</td>\n",
       "      <td>2019-03-20</td>\n",
       "      <td>1</td>\n",
       "      <td>25.00</td>\n",
       "      <td>5.00</td>\n",
       "      <td>17.00</td>\n",
       "      <td>4</td>\n",
       "      <td>False</td>\n",
       "      <td>...</td>\n",
       "      <td>9.00</td>\n",
       "      <td>2.00</td>\n",
       "      <td>Луга</td>\n",
       "      <td>NaN</td>\n",
       "      <td>NaN</td>\n",
       "      <td>NaN</td>\n",
       "      <td>NaN</td>\n",
       "      <td>NaN</td>\n",
       "      <td>NaN</td>\n",
       "      <td>18.00</td>\n",
       "    </tr>\n",
       "    <tr>\n",
       "      <th>14382</th>\n",
       "      <td>9</td>\n",
       "      <td>1,700,000.00</td>\n",
       "      <td>35.00</td>\n",
       "      <td>2015-12-04</td>\n",
       "      <td>1</td>\n",
       "      <td>25.00</td>\n",
       "      <td>5.00</td>\n",
       "      <td>20.00</td>\n",
       "      <td>2</td>\n",
       "      <td>False</td>\n",
       "      <td>...</td>\n",
       "      <td>8.00</td>\n",
       "      <td>1.00</td>\n",
       "      <td>поселок Новый Свет</td>\n",
       "      <td>NaN</td>\n",
       "      <td>NaN</td>\n",
       "      <td>NaN</td>\n",
       "      <td>NaN</td>\n",
       "      <td>NaN</td>\n",
       "      <td>NaN</td>\n",
       "      <td>206.00</td>\n",
       "    </tr>\n",
       "  </tbody>\n",
       "</table>\n",
       "<p>25 rows × 22 columns</p>\n",
       "</div>"
      ],
      "text/plain": [
       "       total_images    last_price  total_area first_day_exposition  rooms  \\\n",
       "22869             0 15,000,000.00       25.00           2018-07-25      1   \n",
       "22336            19  9,999,000.00       92.40           2019-04-05      2   \n",
       "5807             17  8,150,000.00       80.00           2019-01-09      2   \n",
       "20478            11  8,000,000.00       45.00           2017-07-18      1   \n",
       "17496            15  6,700,000.00       92.90           2019-02-19      3   \n",
       "20507            12  5,950,000.00       60.00           2018-02-19      2   \n",
       "15061            19  5,600,000.00       56.40           2018-05-11      2   \n",
       "22309            20  5,300,000.00       45.00           2017-09-30      1   \n",
       "21377            19  4,900,000.00       42.00           2017-04-18      1   \n",
       "5669              4  4,400,000.00       50.00           2017-08-08      2   \n",
       "4643              0  4,300,000.00       45.00           2018-02-01      2   \n",
       "22938            14  4,000,000.00       98.00           2018-03-15      4   \n",
       "9379              5  3,950,000.00       42.00           2017-03-26      3   \n",
       "17857             1  3,900,000.00       56.00           2017-12-22      3   \n",
       "5076              0  3,850,000.00       30.50           2018-10-03      1   \n",
       "10773             8  3,800,000.00       58.00           2017-10-13      2   \n",
       "18545             6  3,750,000.00       43.00           2019-03-18      2   \n",
       "355              17  3,600,000.00       55.20           2018-07-12      2   \n",
       "6246              6  3,300,000.00       44.40           2019-03-25      2   \n",
       "4876              7  3,000,000.00       25.00           2017-09-27      0   \n",
       "3148             14  2,900,000.00       75.00           2018-11-12      3   \n",
       "5246              0  2,500,000.00       54.00           2017-10-13      2   \n",
       "21824            20  2,450,000.00       44.00           2019-02-12      2   \n",
       "11285             0  1,950,000.00       37.00           2019-03-20      1   \n",
       "14382             9  1,700,000.00       35.00           2015-12-04      1   \n",
       "\n",
       "       ceiling_height  floors_total  living_area  floor is_apartment  ...  \\\n",
       "22869          100.00          5.00        14.00      5         True  ...   \n",
       "22336           32.00          6.00        55.50      5        False  ...   \n",
       "5807            27.00         36.00        41.00     13          NaN  ...   \n",
       "20478           27.00          4.00        22.00      2          NaN  ...   \n",
       "17496           20.00         17.00        53.20     14          NaN  ...   \n",
       "20507           22.60         14.00        35.00     11          NaN  ...   \n",
       "15061           14.00         14.00        32.40      5          NaN  ...   \n",
       "22309           10.30         16.00        15.50     15          NaN  ...   \n",
       "21377           27.50         24.00        37.70     19        False  ...   \n",
       "5669            26.00          9.00        21.30      3          NaN  ...   \n",
       "4643            25.00          9.00        30.00      2          NaN  ...   \n",
       "22938           27.00          2.00        73.00      2         True  ...   \n",
       "9379            25.00          5.00        30.00      2          NaN  ...   \n",
       "17857           27.00          5.00        33.00      4        False  ...   \n",
       "5076            24.00          5.00        19.50      1         True  ...   \n",
       "10773           27.00         10.00        30.10      3        False  ...   \n",
       "18545           25.00          5.00        29.00      3        False  ...   \n",
       "355             25.00          5.00        32.00      2        False  ...   \n",
       "6246            25.00          5.00        31.30      5          NaN  ...   \n",
       "4876            27.00         25.00        17.00     17          NaN  ...   \n",
       "3148            32.00          3.00        53.00      2          NaN  ...   \n",
       "5246            27.00          5.00        30.00      3          NaN  ...   \n",
       "21824           27.00          2.00        38.00      2        False  ...   \n",
       "11285           25.00          5.00        17.00      4        False  ...   \n",
       "14382           25.00          5.00        20.00      2        False  ...   \n",
       "\n",
       "       kitchen_area  balcony                    locality_name  \\\n",
       "22869         11.00     5.00                  Санкт-Петербург   \n",
       "22336         16.50     4.00                  Санкт-Петербург   \n",
       "5807          12.00     5.00                  Санкт-Петербург   \n",
       "20478         10.00     1.00                  Санкт-Петербург   \n",
       "17496         12.00     5.00                  Санкт-Петербург   \n",
       "20507         13.00     1.00                  Санкт-Петербург   \n",
       "15061          9.10     2.00                  Санкт-Петербург   \n",
       "22309           NaN      NaN                  Санкт-Петербург   \n",
       "21377         11.00     2.00                  Санкт-Петербург   \n",
       "5669           7.00     2.00                  Санкт-Петербург   \n",
       "4643           7.00     1.00                  Санкт-Петербург   \n",
       "22938          9.00     1.00                   деревня Нижняя   \n",
       "9379           5.20      NaN                  Санкт-Петербург   \n",
       "17857           NaN      NaN                  Санкт-Петербург   \n",
       "5076           5.50      NaN                  Санкт-Петербург   \n",
       "10773          8.10     2.00                   посёлок Мурино   \n",
       "18545           NaN      NaN                  Санкт-Петербург   \n",
       "355             NaN     2.00                          Гатчина   \n",
       "6246           5.70      NaN                        Кронштадт   \n",
       "4876            NaN     2.00                   посёлок Мурино   \n",
       "3148           8.00      NaN                           Волхов   \n",
       "5246           9.00     2.00                     деревня Мины   \n",
       "21824          8.60     2.00  городской поселок Большая Ижора   \n",
       "11285          9.00     2.00                             Луга   \n",
       "14382          8.00     1.00               поселок Новый Свет   \n",
       "\n",
       "       airports_nearest city_centers_nearest  parks_around3000  parks_nearest  \\\n",
       "22869         34,963.00             8,283.00              1.00         223.00   \n",
       "22336         18,838.00             3,506.00              0.00            NaN   \n",
       "5807          18,732.00            20,444.00              0.00            NaN   \n",
       "20478         18,975.00             3,246.00              0.00            NaN   \n",
       "17496         16,295.00            15,092.00              1.00         967.00   \n",
       "20507         27,028.00            12,570.00              0.00            NaN   \n",
       "15061         14,814.00            13,610.00              0.00            NaN   \n",
       "22309         36,353.00            11,936.00              2.00         440.00   \n",
       "21377         42,742.00             9,760.00              0.00            NaN   \n",
       "5669          28,981.00            10,912.00              1.00         305.00   \n",
       "4643          12,016.00            13,256.00              1.00         658.00   \n",
       "22938               NaN                  NaN               NaN            NaN   \n",
       "9379          11,647.00            13,581.00              0.00            NaN   \n",
       "17857         41,030.00            15,543.00              0.00            NaN   \n",
       "5076          29,686.00             8,389.00              3.00         397.00   \n",
       "10773               NaN                  NaN               NaN            NaN   \n",
       "18545         27,054.00             8,033.00              1.00         540.00   \n",
       "355                 NaN                  NaN               NaN            NaN   \n",
       "6246          68,923.00            50,649.00              1.00         417.00   \n",
       "4876                NaN                  NaN               NaN            NaN   \n",
       "3148                NaN                  NaN               NaN            NaN   \n",
       "5246                NaN                  NaN               NaN            NaN   \n",
       "21824               NaN                  NaN               NaN            NaN   \n",
       "11285               NaN                  NaN               NaN            NaN   \n",
       "14382               NaN                  NaN               NaN            NaN   \n",
       "\n",
       "       ponds_around3000  ponds_nearest  days_exposition  \n",
       "22869              3.00          30.00            19.00  \n",
       "22336              3.00         511.00              NaN  \n",
       "5807               3.00          80.00            38.00  \n",
       "20478              3.00         449.00           429.00  \n",
       "17496              0.00            NaN              NaN  \n",
       "20507              0.00            NaN            40.00  \n",
       "15061              0.00            NaN           315.00  \n",
       "22309              2.00         450.00           136.00  \n",
       "21377              0.00            NaN            61.00  \n",
       "5669               0.00            NaN           267.00  \n",
       "4643               1.00         331.00           181.00  \n",
       "22938               NaN            NaN            27.00  \n",
       "9379               0.00            NaN              NaN  \n",
       "17857              0.00            NaN            73.00  \n",
       "5076               1.00         578.00             7.00  \n",
       "10773               NaN            NaN            71.00  \n",
       "18545              0.00            NaN            12.00  \n",
       "355                 NaN            NaN           259.00  \n",
       "6246               2.00          73.00              NaN  \n",
       "4876                NaN            NaN            28.00  \n",
       "3148                NaN            NaN              NaN  \n",
       "5246                NaN            NaN           540.00  \n",
       "21824               NaN            NaN              NaN  \n",
       "11285               NaN            NaN            18.00  \n",
       "14382               NaN            NaN           206.00  \n",
       "\n",
       "[25 rows x 22 columns]"
      ]
     },
     "execution_count": 7,
     "metadata": {},
     "output_type": "execute_result"
    }
   ],
   "source": [
    "data.query('ceiling_height > 10').sort_values(by='last_price', ascending=False)"
   ]
  },
  {
   "cell_type": "markdown",
   "metadata": {},
   "source": [
    "Судя по цене (от 15 млн и ниже), количеству комнат (1-4) и другим характеристикам перед нами обычные помещения, поэтому считаю возможным смело поделить выбивающиеся высоты на 10."
   ]
  },
  {
   "cell_type": "code",
   "execution_count": 8,
   "metadata": {
    "scrolled": true
   },
   "outputs": [
    {
     "data": {
      "text/html": [
       "<div>\n",
       "<style scoped>\n",
       "    .dataframe tbody tr th:only-of-type {\n",
       "        vertical-align: middle;\n",
       "    }\n",
       "\n",
       "    .dataframe tbody tr th {\n",
       "        vertical-align: top;\n",
       "    }\n",
       "\n",
       "    .dataframe thead th {\n",
       "        text-align: right;\n",
       "    }\n",
       "</style>\n",
       "<table border=\"1\" class=\"dataframe\">\n",
       "  <thead>\n",
       "    <tr style=\"text-align: right;\">\n",
       "      <th></th>\n",
       "      <th>total_images</th>\n",
       "      <th>last_price</th>\n",
       "      <th>total_area</th>\n",
       "      <th>first_day_exposition</th>\n",
       "      <th>rooms</th>\n",
       "      <th>ceiling_height</th>\n",
       "      <th>floors_total</th>\n",
       "      <th>living_area</th>\n",
       "      <th>floor</th>\n",
       "      <th>is_apartment</th>\n",
       "      <th>...</th>\n",
       "      <th>kitchen_area</th>\n",
       "      <th>balcony</th>\n",
       "      <th>locality_name</th>\n",
       "      <th>airports_nearest</th>\n",
       "      <th>city_centers_nearest</th>\n",
       "      <th>parks_around3000</th>\n",
       "      <th>parks_nearest</th>\n",
       "      <th>ponds_around3000</th>\n",
       "      <th>ponds_nearest</th>\n",
       "      <th>days_exposition</th>\n",
       "    </tr>\n",
       "  </thead>\n",
       "  <tbody>\n",
       "  </tbody>\n",
       "</table>\n",
       "<p>0 rows × 22 columns</p>\n",
       "</div>"
      ],
      "text/plain": [
       "Empty DataFrame\n",
       "Columns: [total_images, last_price, total_area, first_day_exposition, rooms, ceiling_height, floors_total, living_area, floor, is_apartment, studio, open_plan, kitchen_area, balcony, locality_name, airports_nearest, city_centers_nearest, parks_around3000, parks_nearest, ponds_around3000, ponds_nearest, days_exposition]\n",
       "Index: []\n",
       "\n",
       "[0 rows x 22 columns]"
      ]
     },
     "execution_count": 8,
     "metadata": {},
     "output_type": "execute_result"
    }
   ],
   "source": [
    "data.loc[data['ceiling_height'] > 10, 'ceiling_height'] = data['ceiling_height'] / 10\n",
    "data.query('ceiling_height > 10')"
   ]
  },
  {
   "cell_type": "markdown",
   "metadata": {},
   "source": [
    "Ок, теперь заменим буквы 'ё' на 'е'"
   ]
  },
  {
   "cell_type": "code",
   "execution_count": 9,
   "metadata": {},
   "outputs": [],
   "source": [
    "data['locality_name'] = data['locality_name'].str.replace('ё', 'е')"
   ]
  },
  {
   "cell_type": "markdown",
   "metadata": {},
   "source": [
    "От видимых аномалий избавились, теперь проверим явные дубликаты и обработаем пропуски"
   ]
  },
  {
   "cell_type": "code",
   "execution_count": 10,
   "metadata": {
    "scrolled": true
   },
   "outputs": [
    {
     "data": {
      "text/plain": [
       "total_images                0\n",
       "last_price                  0\n",
       "total_area                  0\n",
       "first_day_exposition        0\n",
       "rooms                       0\n",
       "ceiling_height           9195\n",
       "floors_total               86\n",
       "living_area              1903\n",
       "floor                       0\n",
       "is_apartment            20924\n",
       "studio                      0\n",
       "open_plan                   0\n",
       "kitchen_area             2278\n",
       "balcony                 11519\n",
       "locality_name              49\n",
       "airports_nearest         5542\n",
       "city_centers_nearest     5519\n",
       "parks_around3000         5518\n",
       "parks_nearest           15620\n",
       "ponds_around3000         5518\n",
       "ponds_nearest           14589\n",
       "days_exposition          3181\n",
       "dtype: int64"
      ]
     },
     "execution_count": 10,
     "metadata": {},
     "output_type": "execute_result"
    }
   ],
   "source": [
    "# колиество пропусков (NaN или None) в каждом столбце\n",
    "data.isna().sum()"
   ]
  },
  {
   "cell_type": "code",
   "execution_count": 11,
   "metadata": {
    "scrolled": true
   },
   "outputs": [
    {
     "data": {
      "text/plain": [
       "0"
      ]
     },
     "execution_count": 11,
     "metadata": {},
     "output_type": "execute_result"
    }
   ],
   "source": [
    "data.duplicated().sum()"
   ]
  },
  {
   "cell_type": "raw",
   "metadata": {},
   "source": [
    "Как будем обрабатывать пропуски:\n",
    "\n",
    "total_images                0\n",
    "last_price                  0\n",
    "total_area                  0\n",
    "first_day_exposition        0\n",
    "rooms                       0\n",
    "ceiling_height           9195 - возьмем медиану.\n",
    "floors_total               86 - заменим на медиану по высоте, но не меньше чем сам этаж у квартиры\n",
    "living_area              1903 - поскольку площадь взять как среднее по совпадению наиболее влияющих факторов\n",
    "floor                       0\n",
    "is_apartment            20924 - ставим False, так как апартаменты скорее всего будут явно указаны\n",
    "studio                      0\n",
    "open_plan                   0\n",
    "kitchen_area             2278 - опишу непосредствеенно перед кодом\n",
    "balcony                 11519 - нулями\n",
    "locality_name              49 - таких строк мало, поэтому просто удалим эти строчки\n",
    "airports_nearest         5542 - скорей всего не задано, если нет поблизости аэропорта, поэтому напишем '0' или наоборот очень большое расстояние\n",
    "cityCenters_nearest      5519 - то же самое тут\n",
    "parks_around3000         5518 - если есть parks_nearest, то укажем 1, иначе, вероятно, их нет, поэтому заполним нулями\n",
    "parks_nearest           15620 - принцыпиально, если очень близко, остальные можно заполнить нулями\n",
    "ponds_around3000         5518 - поступим аналогично паркам\n",
    "ponds_nearest           14589 - аналогично паркам\n",
    "days_exposition          3181 - заменим на медиану\n",
    "dtype: int64"
   ]
  },
  {
   "cell_type": "markdown",
   "metadata": {},
   "source": [
    "Теперь заполним пропуски, как описали выше\n"
   ]
  },
  {
   "cell_type": "code",
   "execution_count": 12,
   "metadata": {},
   "outputs": [],
   "source": [
    "data['ceiling_height'] = data['ceiling_height'].fillna(data['ceiling_height'].median())\n",
    "data['floors_total'] = data['floors_total'].fillna(data['floors_total'].median())\n",
    "\n",
    "data['floors_total'] = data['floors_total'].where(data['floor'] <= data['floors_total']\n",
    "                                                  , other=(data['floors_total'].max() + data['floor']) / 2)\n",
    "\n",
    "data['is_apartment'] = data['is_apartment'].fillna(False)\n",
    "\n",
    "data['airports_nearest'] = data['airports_nearest'].fillna(0)\n",
    "data['balcony'] = data['balcony'].fillna(0)\n",
    "#data['city_centers_nearest'] = data['city_centers_nearest'].fillna(0)\n",
    "\n"
   ]
  },
  {
   "cell_type": "markdown",
   "metadata": {},
   "source": [
    "Прверим, можем ли взять информацию о парках: есть ли данные в 'parks_nearest', там где 'parks_around3000' и наоборот. То же самое по водоемам в полях 'ponds_around3000' и 'ponds_nearest'"
   ]
  },
  {
   "cell_type": "code",
   "execution_count": 13,
   "metadata": {
    "scrolled": true
   },
   "outputs": [
    {
     "name": "stdout",
     "output_type": "stream",
     "text": [
      "Series([], Name: parks_nearest, dtype: int64)\n",
      "0.00    10102\n",
      "Name: parks_around3000, dtype: int64\n",
      "Series([], Name: ponds_nearest, dtype: int64)\n",
      "0.00    9071\n",
      "Name: ponds_around3000, dtype: int64\n"
     ]
    }
   ],
   "source": [
    "print(data[data['parks_around3000'].isna()]['parks_nearest'].value_counts())\n",
    "print(data[data['parks_nearest'].isna()]['parks_around3000'].value_counts())\n",
    "\n",
    "print(data[data['ponds_around3000'].isna()]['ponds_nearest'].value_counts())\n",
    "print(data[data['ponds_nearest'].isna()]['ponds_around3000'].value_counts())"
   ]
  },
  {
   "cell_type": "markdown",
   "metadata": {},
   "source": [
    "Как видим, информацию из соседних полей выудить не удастся, поэтому придется заполнить нулями."
   ]
  },
  {
   "cell_type": "code",
   "execution_count": 14,
   "metadata": {
    "scrolled": true
   },
   "outputs": [],
   "source": [
    "data['parks_around3000'] = data['parks_around3000'].fillna(0)\n",
    "data['parks_nearest'] = data['parks_nearest'].fillna(0)\n",
    "\n",
    "data['ponds_around3000'] = data['ponds_around3000'].fillna(0)\n",
    "data['ponds_nearest'] = data['ponds_nearest'].fillna(0)\n",
    "\n",
    "#data['days_exposition'] = data['days_exposition'].fillna(data['days_exposition'].median())"
   ]
  },
  {
   "cell_type": "markdown",
   "metadata": {},
   "source": [
    "Также заполним пропуски в 'living_area' и 'kitchen_area'. Воспользуемся средними значениями этих полей по группам с такой же общей площадью и этажностью в доме. Оставшиеся незаполненные заполним только по средним значениям с похожей площадью, а остальные незаполненные строки удалим.\n",
    "После удалим оставшиеся незаполненные остатки - все строки с NaN в выбранных столбцах."
   ]
  },
  {
   "cell_type": "code",
   "execution_count": 15,
   "metadata": {},
   "outputs": [
    {
     "data": {
      "text/plain": [
       "total_images               0\n",
       "last_price                 0\n",
       "total_area                 0\n",
       "first_day_exposition       0\n",
       "rooms                      0\n",
       "ceiling_height             0\n",
       "floors_total               0\n",
       "living_area                0\n",
       "floor                      0\n",
       "is_apartment               0\n",
       "studio                     0\n",
       "open_plan                  0\n",
       "kitchen_area               0\n",
       "balcony                    0\n",
       "locality_name              0\n",
       "airports_nearest           0\n",
       "city_centers_nearest    5407\n",
       "parks_around3000           0\n",
       "parks_nearest              0\n",
       "ponds_around3000           0\n",
       "ponds_nearest              0\n",
       "days_exposition         3156\n",
       "dtype: int64"
      ]
     },
     "execution_count": 15,
     "metadata": {},
     "output_type": "execute_result"
    }
   ],
   "source": [
    "data['living_area'] = data['living_area'].fillna(data.groupby(['total_area', 'floors_total'])['living_area'].transform('median'))\n",
    "data['kitchen_area'] = data['kitchen_area'].fillna(data.groupby(['total_area', 'floors_total'])['kitchen_area'].transform('median'))\n",
    "data['living_area'] = data['living_area'].fillna(data.groupby(['total_area'])['living_area'].transform('median'))\n",
    "data['kitchen_area'] = data['kitchen_area'].fillna(data.groupby(['total_area'])['kitchen_area'].transform('median'))\n",
    "\n",
    "data = data.dropna(subset=['kitchen_area', 'living_area', 'locality_name'])\n",
    "\n",
    "data.isna().sum()"
   ]
  },
  {
   "cell_type": "markdown",
   "metadata": {},
   "source": [
    "**Вывод**\n",
    "\n",
    "От пропусков избавились."
   ]
  },
  {
   "cell_type": "markdown",
   "metadata": {},
   "source": [
    "## Расчёты и добавление результатов в таблицу"
   ]
  },
  {
   "cell_type": "markdown",
   "metadata": {},
   "source": [
    "Добавим в таблицу\n",
    "- цену квадратного метра\n",
    "- недели, месяц и год публикации объявления;\n",
    "- этаж квартиры; варианты — первый, последний, другой;\n",
    "- соотношение жилой и общей площади, а также отношение площади кухни к общей.\n"
   ]
  },
  {
   "cell_type": "code",
   "execution_count": 16,
   "metadata": {},
   "outputs": [
    {
     "data": {
      "text/html": [
       "<div>\n",
       "<style scoped>\n",
       "    .dataframe tbody tr th:only-of-type {\n",
       "        vertical-align: middle;\n",
       "    }\n",
       "\n",
       "    .dataframe tbody tr th {\n",
       "        vertical-align: top;\n",
       "    }\n",
       "\n",
       "    .dataframe thead th {\n",
       "        text-align: right;\n",
       "    }\n",
       "</style>\n",
       "<table border=\"1\" class=\"dataframe\">\n",
       "  <thead>\n",
       "    <tr style=\"text-align: right;\">\n",
       "      <th></th>\n",
       "      <th>total_images</th>\n",
       "      <th>last_price</th>\n",
       "      <th>total_area</th>\n",
       "      <th>first_day_exposition</th>\n",
       "      <th>rooms</th>\n",
       "      <th>ceiling_height</th>\n",
       "      <th>floors_total</th>\n",
       "      <th>living_area</th>\n",
       "      <th>floor</th>\n",
       "      <th>is_apartment</th>\n",
       "      <th>...</th>\n",
       "      <th>ponds_around3000</th>\n",
       "      <th>ponds_nearest</th>\n",
       "      <th>days_exposition</th>\n",
       "      <th>price_m2</th>\n",
       "      <th>day_of_week</th>\n",
       "      <th>month</th>\n",
       "      <th>year</th>\n",
       "      <th>floor_type</th>\n",
       "      <th>ratio_total_to_living</th>\n",
       "      <th>ratio_kitchen_to_total</th>\n",
       "    </tr>\n",
       "  </thead>\n",
       "  <tbody>\n",
       "    <tr>\n",
       "      <th>0</th>\n",
       "      <td>20</td>\n",
       "      <td>13,000,000.00</td>\n",
       "      <td>108.00</td>\n",
       "      <td>2019-03-07</td>\n",
       "      <td>3</td>\n",
       "      <td>2.70</td>\n",
       "      <td>16.00</td>\n",
       "      <td>51.00</td>\n",
       "      <td>8</td>\n",
       "      <td>False</td>\n",
       "      <td>...</td>\n",
       "      <td>2.00</td>\n",
       "      <td>755.00</td>\n",
       "      <td>NaN</td>\n",
       "      <td>120,370.37</td>\n",
       "      <td>3</td>\n",
       "      <td>3</td>\n",
       "      <td>2019</td>\n",
       "      <td>другой</td>\n",
       "      <td>2.12</td>\n",
       "      <td>0.23</td>\n",
       "    </tr>\n",
       "    <tr>\n",
       "      <th>1</th>\n",
       "      <td>7</td>\n",
       "      <td>3,350,000.00</td>\n",
       "      <td>40.40</td>\n",
       "      <td>2018-12-04</td>\n",
       "      <td>1</td>\n",
       "      <td>2.65</td>\n",
       "      <td>11.00</td>\n",
       "      <td>18.60</td>\n",
       "      <td>1</td>\n",
       "      <td>False</td>\n",
       "      <td>...</td>\n",
       "      <td>0.00</td>\n",
       "      <td>0.00</td>\n",
       "      <td>81.00</td>\n",
       "      <td>82,920.79</td>\n",
       "      <td>1</td>\n",
       "      <td>12</td>\n",
       "      <td>2018</td>\n",
       "      <td>первый</td>\n",
       "      <td>2.17</td>\n",
       "      <td>0.27</td>\n",
       "    </tr>\n",
       "    <tr>\n",
       "      <th>2</th>\n",
       "      <td>10</td>\n",
       "      <td>5,196,000.00</td>\n",
       "      <td>56.00</td>\n",
       "      <td>2015-08-20</td>\n",
       "      <td>2</td>\n",
       "      <td>2.65</td>\n",
       "      <td>5.00</td>\n",
       "      <td>34.30</td>\n",
       "      <td>4</td>\n",
       "      <td>False</td>\n",
       "      <td>...</td>\n",
       "      <td>2.00</td>\n",
       "      <td>574.00</td>\n",
       "      <td>558.00</td>\n",
       "      <td>92,785.71</td>\n",
       "      <td>3</td>\n",
       "      <td>8</td>\n",
       "      <td>2015</td>\n",
       "      <td>другой</td>\n",
       "      <td>1.63</td>\n",
       "      <td>0.15</td>\n",
       "    </tr>\n",
       "    <tr>\n",
       "      <th>3</th>\n",
       "      <td>0</td>\n",
       "      <td>64,900,000.00</td>\n",
       "      <td>159.00</td>\n",
       "      <td>2015-07-24</td>\n",
       "      <td>3</td>\n",
       "      <td>2.65</td>\n",
       "      <td>14.00</td>\n",
       "      <td>95.00</td>\n",
       "      <td>9</td>\n",
       "      <td>False</td>\n",
       "      <td>...</td>\n",
       "      <td>3.00</td>\n",
       "      <td>234.00</td>\n",
       "      <td>424.00</td>\n",
       "      <td>408,176.10</td>\n",
       "      <td>4</td>\n",
       "      <td>7</td>\n",
       "      <td>2015</td>\n",
       "      <td>другой</td>\n",
       "      <td>1.67</td>\n",
       "      <td>0.09</td>\n",
       "    </tr>\n",
       "    <tr>\n",
       "      <th>4</th>\n",
       "      <td>2</td>\n",
       "      <td>10,000,000.00</td>\n",
       "      <td>100.00</td>\n",
       "      <td>2018-06-19</td>\n",
       "      <td>2</td>\n",
       "      <td>3.03</td>\n",
       "      <td>14.00</td>\n",
       "      <td>32.00</td>\n",
       "      <td>13</td>\n",
       "      <td>False</td>\n",
       "      <td>...</td>\n",
       "      <td>1.00</td>\n",
       "      <td>48.00</td>\n",
       "      <td>121.00</td>\n",
       "      <td>100,000.00</td>\n",
       "      <td>1</td>\n",
       "      <td>6</td>\n",
       "      <td>2018</td>\n",
       "      <td>другой</td>\n",
       "      <td>3.12</td>\n",
       "      <td>0.41</td>\n",
       "    </tr>\n",
       "  </tbody>\n",
       "</table>\n",
       "<p>5 rows × 29 columns</p>\n",
       "</div>"
      ],
      "text/plain": [
       "   total_images    last_price  total_area first_day_exposition  rooms  \\\n",
       "0            20 13,000,000.00      108.00           2019-03-07      3   \n",
       "1             7  3,350,000.00       40.40           2018-12-04      1   \n",
       "2            10  5,196,000.00       56.00           2015-08-20      2   \n",
       "3             0 64,900,000.00      159.00           2015-07-24      3   \n",
       "4             2 10,000,000.00      100.00           2018-06-19      2   \n",
       "\n",
       "   ceiling_height  floors_total  living_area  floor  is_apartment  ...  \\\n",
       "0            2.70         16.00        51.00      8         False  ...   \n",
       "1            2.65         11.00        18.60      1         False  ...   \n",
       "2            2.65          5.00        34.30      4         False  ...   \n",
       "3            2.65         14.00        95.00      9         False  ...   \n",
       "4            3.03         14.00        32.00     13         False  ...   \n",
       "\n",
       "   ponds_around3000  ponds_nearest  days_exposition   price_m2 day_of_week  \\\n",
       "0              2.00         755.00              NaN 120,370.37           3   \n",
       "1              0.00           0.00            81.00  82,920.79           1   \n",
       "2              2.00         574.00           558.00  92,785.71           3   \n",
       "3              3.00         234.00           424.00 408,176.10           4   \n",
       "4              1.00          48.00           121.00 100,000.00           1   \n",
       "\n",
       "   month  year  floor_type  ratio_total_to_living  ratio_kitchen_to_total  \n",
       "0      3  2019      другой                   2.12                    0.23  \n",
       "1     12  2018      первый                   2.17                    0.27  \n",
       "2      8  2015      другой                   1.63                    0.15  \n",
       "3      7  2015      другой                   1.67                    0.09  \n",
       "4      6  2018      другой                   3.12                    0.41  \n",
       "\n",
       "[5 rows x 29 columns]"
      ]
     },
     "execution_count": 16,
     "metadata": {},
     "output_type": "execute_result"
    }
   ],
   "source": [
    "data['price_m2'] = data['last_price'] / data['total_area']\n",
    "data['day_of_week'] = data['first_day_exposition'].dt.weekday\n",
    "data['month'] = data['first_day_exposition'].dt.month\n",
    "data['year'] = data['first_day_exposition'].dt.year\n",
    "\n",
    "# этаж квартиры; варианты — первый, последний, другой\n",
    "data.loc[data['floor'] == 1, 'floor_type'] = 'первый'\n",
    "data.loc[data['floor'] == data['floors_total'] , 'floor_type'] = 'последний'\n",
    "data['floor_type'] = data['floor_type'].fillna('другой')\n",
    "\n",
    "data['ratio_total_to_living'] = data['total_area'] / data['living_area']\n",
    "data['ratio_kitchen_to_total'] = data['kitchen_area'] / data['total_area']\n",
    "data.head()"
   ]
  },
  {
   "cell_type": "markdown",
   "metadata": {},
   "source": [
    "Оставим только те поля, с которыми будем работать"
   ]
  },
  {
   "cell_type": "code",
   "execution_count": 17,
   "metadata": {},
   "outputs": [],
   "source": [
    "data = data[['last_price', 'total_area', 'first_day_exposition',\n",
    "       'rooms', 'ceiling_height', 'floors_total', 'living_area', 'floor',\n",
    "       'kitchen_area', 'balcony','locality_name', 'city_centers_nearest', 'days_exposition', 'price_m2', 'day_of_week', 'month',\n",
    "       'year', 'floor_type', 'ratio_total_to_living']]"
   ]
  },
  {
   "cell_type": "markdown",
   "metadata": {},
   "source": [
    "**Вывод**\n",
    "\n",
    "Дополнительные поля для расчетов добавили, от лишних избавились"
   ]
  },
  {
   "cell_type": "markdown",
   "metadata": {},
   "source": [
    "## Исследовательский анализ данных"
   ]
  },
  {
   "cell_type": "code",
   "execution_count": 18,
   "metadata": {
    "scrolled": true
   },
   "outputs": [],
   "source": [
    "main_labels = ('Полный список квартир', 'Центр СПБ')\n",
    "\n",
    "# показывает гистограмму, а также минимум и максимум\n",
    "def show_hist(column, bins, rang, label='', ed_izm = '', is_center_only=False, data=data):\n",
    "    #print('Минимум: ', data[column].min(), ed_izm)\n",
    "    #print('Максимум: ', data[column].max(), ed_izm)    \n",
    "    #data[column].hist(bins=bins, range=rang)\n",
    "    print(data[column].describe())\n",
    "    \n",
    "    data.plot(\n",
    "    kind='hist',\n",
    "    range=rang,\n",
    "    y=column,\n",
    "    histtype='step',    \n",
    "    bins=bins,\n",
    "    linewidth=5,\n",
    "    alpha=0.7,\n",
    "    title=f'{label} ({ed_izm})',\n",
    "    label=main_labels[is_center_only],\n",
    "    grid=True)\n",
    "\n",
    "\n",
    "    \n",
    "    "
   ]
  },
  {
   "cell_type": "markdown",
   "metadata": {},
   "source": [
    "**Изучим некоторые отдельные показатели**"
   ]
  },
  {
   "cell_type": "markdown",
   "metadata": {},
   "source": [
    "Площади квартир"
   ]
  },
  {
   "cell_type": "code",
   "execution_count": 19,
   "metadata": {},
   "outputs": [
    {
     "name": "stdout",
     "output_type": "stream",
     "text": [
      "count   23,355.00\n",
      "mean        60.18\n",
      "std         34.35\n",
      "min         14.00\n",
      "25%         40.00\n",
      "50%         52.00\n",
      "75%         69.72\n",
      "max        900.00\n",
      "Name: total_area, dtype: float64\n",
      "Квартир от 200 кв.м.:  206 шт\n"
     ]
    },
    {
     "data": {
      "image/png": "[encoded data removed]",
      "text/plain": [
       "<Figure size 432x288 with 1 Axes>"
      ]
     },
     "metadata": {
      "needs_background": "light"
     },
     "output_type": "display_data"
    }
   ],
   "source": [
    "show_hist('total_area', 20, (0, 250), 'площадь квартиры', 'кв.м.')\n",
    "print('Квартир от 200 кв.м.: ', len(data.query('total_area > 200')), 'шт')"
   ]
  },
  {
   "cell_type": "markdown",
   "metadata": {},
   "source": [
    "***Вывод***:\n",
    "Из графика видим, что квартиры площадью более 200 кв.м. встречаются крайне редко, но бывают и 'дворцы' до 900 кв.м."
   ]
  },
  {
   "cell_type": "markdown",
   "metadata": {},
   "source": [
    "Отношение общей плошади к жилой "
   ]
  },
  {
   "cell_type": "code",
   "execution_count": 20,
   "metadata": {
    "scrolled": true
   },
   "outputs": [
    {
     "name": "stdout",
     "output_type": "stream",
     "text": [
      "count   23,355.00\n",
      "mean         1.84\n",
      "std          0.54\n",
      "min          1.00\n",
      "25%          1.57\n",
      "50%          1.76\n",
      "75%          2.01\n",
      "max         46.33\n",
      "Name: ratio_total_to_living, dtype: float64\n",
      "Квартир с Соотношением свыше 4х:  50 шт\n"
     ]
    },
    {
     "data": {
      "image/png": "[encoded data removed]",
      "text/plain": [
       "<Figure size 432x288 with 1 Axes>"
      ]
     },
     "metadata": {
      "needs_background": "light"
     },
     "output_type": "display_data"
    }
   ],
   "source": [
    "show_hist('ratio_total_to_living', 20, (0, 4), 'Отношение общей\\nплошади к жилой' )\n",
    "print('Квартир с Соотношением свыше 4х: ', len(data.query('ratio_total_to_living > 4.0')), 'шт')"
   ]
  },
  {
   "cell_type": "markdown",
   "metadata": {},
   "source": [
    "***Вывод***: в большинстве случаев отношение общей плошади к жилой составляет от 1,2 до 2,5. Больше 3,5 очень большая редкость, но есть и с огромным соотношением - 46.3."
   ]
  },
  {
   "cell_type": "markdown",
   "metadata": {},
   "source": [
    "Количество комнат"
   ]
  },
  {
   "cell_type": "code",
   "execution_count": 21,
   "metadata": {},
   "outputs": [
    {
     "name": "stdout",
     "output_type": "stream",
     "text": [
      "count   23,355.00\n",
      "mean         2.08\n",
      "std          1.07\n",
      "min          0.00\n",
      "25%          1.00\n",
      "50%          2.00\n",
      "75%          3.00\n",
      "max         19.00\n",
      "Name: rooms, dtype: float64\n",
      "Квартир с кол-вом комнат свыше 8:  19 шт\n"
     ]
    },
    {
     "data": {
      "image/png": "[encoded data removed]",
      "text/plain": [
       "<Figure size 432x288 with 1 Axes>"
      ]
     },
     "metadata": {
      "needs_background": "light"
     },
     "output_type": "display_data"
    }
   ],
   "source": [
    "show_hist('rooms', 10, (0, 10), 'Количество комнат', 'шт')\n",
    "print('Квартир с кол-вом комнат свыше 8: ', len(data.query('rooms > 8.0')), 'шт')"
   ]
  },
  {
   "cell_type": "markdown",
   "metadata": {},
   "source": [
    "***Вывод***: Самая большая масса квартир имеют от 1 до 4-5 комнат. А вот свыше 8 это редчайший случай, у нас их всего 19.\n"
   ]
  },
  {
   "cell_type": "markdown",
   "metadata": {},
   "source": [
    "Высота потолков"
   ]
  },
  {
   "cell_type": "code",
   "execution_count": 22,
   "metadata": {
    "scrolled": true
   },
   "outputs": [
    {
     "name": "stdout",
     "output_type": "stream",
     "text": [
      "count   23,355.00\n",
      "mean         2.70\n",
      "std          0.24\n",
      "min          1.00\n",
      "25%          2.60\n",
      "50%          2.65\n",
      "75%          2.70\n",
      "max         10.00\n",
      "Name: ceiling_height, dtype: float64\n",
      "Квартир с высотой потолков свыше 4м:  50 шт\n"
     ]
    },
    {
     "data": {
      "image/png": "[encoded data removed]",
      "text/plain": [
       "<Figure size 432x288 with 1 Axes>"
      ]
     },
     "metadata": {
      "needs_background": "light"
     },
     "output_type": "display_data"
    }
   ],
   "source": [
    "show_hist('ceiling_height', 10, (2, 5), 'Высота потолков', 'м')\n",
    "print('Квартир с высотой потолков свыше 4м: ', len(data.query('ceiling_height > 4.0')), 'шт')"
   ]
  },
  {
   "cell_type": "markdown",
   "metadata": {},
   "source": [
    "***Вывод***: Большинство потолков квартир находится в диапазоне от 2.3 до 3.5м, свыше 4х редкость - всего 74 квартиры."
   ]
  },
  {
   "cell_type": "markdown",
   "metadata": {},
   "source": [
    "Время продажи квартир. Как обычно, выведем диапазон, который можно наглядно оценить"
   ]
  },
  {
   "cell_type": "code",
   "execution_count": 23,
   "metadata": {},
   "outputs": [
    {
     "name": "stdout",
     "output_type": "stream",
     "text": [
      "count   20,199.00\n",
      "mean       181.33\n",
      "std        219.97\n",
      "min          1.00\n",
      "25%         45.00\n",
      "50%         96.00\n",
      "75%        232.00\n",
      "max      1,580.00\n",
      "Name: days_exposition, dtype: float64\n",
      "181.32600623793257\n",
      "96.0\n"
     ]
    },
    {
     "data": {
      "image/png": "[encoded data removed]",
      "text/plain": [
       "<Figure size 432x288 with 1 Axes>"
      ]
     },
     "metadata": {
      "needs_background": "light"
     },
     "output_type": "display_data"
    }
   ],
   "source": [
    "#data['days_exposition'].hist(bins=100, , legend=True, range=(100,1000))\n",
    "show_hist('days_exposition', 100, (100, 1000), 'Время продажи', 'дней')\n",
    "\n",
    "print(data['days_exposition'].mean())\n",
    "print(data['days_exposition'].median())"
   ]
  },
  {
   "cell_type": "markdown",
   "metadata": {},
   "source": [
    "***Вывод***: В среднем продажа квартир занимает 169 дней, медиана - 95 дней. А вот примерно после 220 мы видим, что график становится значительно более пологим "
   ]
  },
  {
   "cell_type": "markdown",
   "metadata": {},
   "source": [
    "**Какие факторы больше всего влияют на стоимость квартиры**"
   ]
  },
  {
   "cell_type": "code",
   "execution_count": 24,
   "metadata": {
    "scrolled": true
   },
   "outputs": [],
   "source": [
    "# сделать медианы\n",
    "def show_corr(df, col1, col2):\n",
    "    df.plot(x=col1, y=col2, kind='scatter')\n",
    "    print(f\"Зависимость {col1} и {col2}:\", df[col1].corr(df[col2]))\n",
    "\n",
    "def show_corr_plot(df, col1, col2, title='', label = ''):\n",
    "    selection = df.groupby(col1)[col2].median()\n",
    "    selection.plot(kind='bar', title=title, label='')\n",
    "    print('Отношение минимума к максимуму:', selection.min() / selection.max())"
   ]
  },
  {
   "cell_type": "markdown",
   "metadata": {},
   "source": [
    "Влияние на цену площади квартир"
   ]
  },
  {
   "cell_type": "code",
   "execution_count": 25,
   "metadata": {},
   "outputs": [
    {
     "name": "stdout",
     "output_type": "stream",
     "text": [
      "Квартир с площадью более 200 кв.м.: 206\n"
     ]
    },
    {
     "data": {
      "image/png": "[encoded data removed]",
      "text/plain": [
       "<Figure size 432x288 with 1 Axes>"
      ]
     },
     "metadata": {
      "needs_background": "light"
     },
     "output_type": "display_data"
    }
   ],
   "source": [
    "total_area = data.query('last_price < 3e8').plot(x='total_area', y='last_price', kind='scatter', title='Влияние на цену площади квартир', label=main_labels[0])\n",
    "\n",
    "print ('Квартир с площадью более 200 кв.м.:', len(data.query('total_area > 200')))"
   ]
  },
  {
   "cell_type": "markdown",
   "metadata": {},
   "source": [
    "***Вывод***: Из графика видим, что нижняя граница прогрессирует вверх от 150 кв.м., и более менее равномерно идет пости до 400кв.м. А вот верхняя относительно равномерно растет до 200 кв.м., а далее резко устремляется вверх, но таких квартир вообще мало (всего 206)."
   ]
  },
  {
   "cell_type": "markdown",
   "metadata": {},
   "source": [
    "Влияние на цену количества комнат"
   ]
  },
  {
   "cell_type": "code",
   "execution_count": 26,
   "metadata": {
    "scrolled": true
   },
   "outputs": [
    {
     "data": {
      "text/plain": [
       "<AxesSubplot:title={'center':'Влияние на цену количества комнат'}, xlabel='rooms', ylabel='last_price'>"
      ]
     },
     "execution_count": 26,
     "metadata": {},
     "output_type": "execute_result"
    },
    {
     "data": {
      "image/png": "[encoded data removed]",
      "text/plain": [
       "<Figure size 432x288 with 1 Axes>"
      ]
     },
     "metadata": {
      "needs_background": "light"
     },
     "output_type": "display_data"
    }
   ],
   "source": [
    "data.query('last_price < 3e8').plot(x='rooms', y='last_price', kind='scatter', title='Влияние на цену количества комнат', label=main_labels[1])"
   ]
  },
  {
   "cell_type": "markdown",
   "metadata": {},
   "source": [
    "***Вывод***: По графику видна такая зависимость: до 5 комнат довольно четко прослживаются верхние цееники на квартиры, не считая выбросов, до 7 комнат граница чуть менее четкая, далее совсем размывается. Также свыше 5 комнат видим, что нижний ценник ощутимо повышается."
   ]
  },
  {
   "cell_type": "markdown",
   "metadata": {},
   "source": [
    "Влияние на цену расстояния от центра"
   ]
  },
  {
   "cell_type": "code",
   "execution_count": 27,
   "metadata": {},
   "outputs": [
    {
     "data": {
      "text/plain": [
       "<AxesSubplot:title={'center':'Влияние на цену расстояния от центра'}, xlabel='city_centers_nearest', ylabel='last_price'>"
      ]
     },
     "execution_count": 27,
     "metadata": {},
     "output_type": "execute_result"
    },
    {
     "data": {
      "image/png": "[encoded data removed]",
      "text/plain": [
       "<Figure size 432x288 with 1 Axes>"
      ]
     },
     "metadata": {
      "needs_background": "light"
     },
     "output_type": "display_data"
    }
   ],
   "source": [
    "data.query('last_price < 3e8').plot(x='city_centers_nearest', y='last_price', kind='scatter', title='Влияние на цену расстояния от центра', label=main_labels[0])"
   ]
  },
  {
   "cell_type": "markdown",
   "metadata": {},
   "source": [
    "***Вывод***: Тут опять же, хоть и коэффициент корреляции нулевой, по графику видим что максимальная стоимость квартир лежит ближе к центру (примерно до 8000м)"
   ]
  },
  {
   "cell_type": "markdown",
   "metadata": {},
   "source": [
    "Влияние на цену типа этажа"
   ]
  },
  {
   "cell_type": "code",
   "execution_count": 28,
   "metadata": {
    "scrolled": true
   },
   "outputs": [
    {
     "data": {
      "text/plain": [
       "<AxesSubplot:title={'center':'Влияние на максимальную цену типа этажа'}, xlabel='floor_type'>"
      ]
     },
     "execution_count": 28,
     "metadata": {},
     "output_type": "execute_result"
    },
    {
     "data": {
      "image/png": "[encoded data removed]",
      "text/plain": [
       "<Figure size 432x288 with 1 Axes>"
      ]
     },
     "metadata": {
      "needs_background": "light"
     },
     "output_type": "display_data"
    }
   ],
   "source": [
    "data.groupby('floor_type')['last_price'].max().plot(title='Влияние на максимальную цену типа этажа')"
   ]
  },
  {
   "cell_type": "code",
   "execution_count": 29,
   "metadata": {},
   "outputs": [
    {
     "data": {
      "text/plain": [
       "<AxesSubplot:title={'center':'Влияние на среднюю цену типа этажа'}, xlabel='floor_type'>"
      ]
     },
     "execution_count": 29,
     "metadata": {},
     "output_type": "execute_result"
    },
    {
     "data": {
      "image/png": "[encoded data removed]",
      "text/plain": [
       "<Figure size 432x288 with 1 Axes>"
      ]
     },
     "metadata": {
      "needs_background": "light"
     },
     "output_type": "display_data"
    }
   ],
   "source": [
    "data.groupby('floor_type')['last_price'].mean().plot(title='Влияние на среднюю цену типа этажа')"
   ]
  },
  {
   "cell_type": "markdown",
   "metadata": {},
   "source": [
    "***Вывод***: Как средняя так и максимальная стоимость на первых этажах самая маленькая, а вот на последних наоборот самая высокая."
   ]
  },
  {
   "cell_type": "markdown",
   "metadata": {},
   "source": [
    "**Теперь посмотрим влияние даты размещения объявления**"
   ]
  },
  {
   "cell_type": "markdown",
   "metadata": {},
   "source": [
    "Влияние на цену дня недели"
   ]
  },
  {
   "cell_type": "code",
   "execution_count": 30,
   "metadata": {
    "scrolled": true
   },
   "outputs": [
    {
     "name": "stdout",
     "output_type": "stream",
     "text": [
      "Отношение минимума к максимуму: 0.9578947368421052\n"
     ]
    },
    {
     "data": {
      "image/png": "[encoded data removed]",
      "text/plain": [
       "<Figure size 432x288 with 1 Axes>"
      ]
     },
     "metadata": {
      "needs_background": "light"
     },
     "output_type": "display_data"
    }
   ],
   "source": [
    "show_corr_plot(data, 'day_of_week', 'last_price', 'Влияние на цену дня недели')"
   ]
  },
  {
   "cell_type": "markdown",
   "metadata": {},
   "source": [
    "***Вывод***: Во вторник - наибольшая цена, в воскресенье - наименьшая, но между соседними днями перепады незначительные."
   ]
  },
  {
   "cell_type": "markdown",
   "metadata": {},
   "source": [
    "Влияние на цену месяца"
   ]
  },
  {
   "cell_type": "code",
   "execution_count": 31,
   "metadata": {
    "scrolled": true
   },
   "outputs": [
    {
     "name": "stdout",
     "output_type": "stream",
     "text": [
      "Отношение минимума к максимуму: 0.9166666666666666\n"
     ]
    },
    {
     "data": {
      "image/png": "[encoded data removed]",
      "text/plain": [
       "<Figure size 432x288 with 1 Axes>"
      ]
     },
     "metadata": {
      "needs_background": "light"
     },
     "output_type": "display_data"
    }
   ],
   "source": [
    "show_corr_plot(data, 'month', 'last_price', 'Влияние на цену месяца')"
   ]
  },
  {
   "cell_type": "markdown",
   "metadata": {},
   "source": [
    "***Вывод***: получается что стоимость квартир по медиане самая высокая в апреле и самая низкая в июне."
   ]
  },
  {
   "cell_type": "markdown",
   "metadata": {},
   "source": [
    "Влияние на цену года"
   ]
  },
  {
   "cell_type": "code",
   "execution_count": 32,
   "metadata": {},
   "outputs": [
    {
     "name": "stdout",
     "output_type": "stream",
     "text": [
      "Отношение минимума к максимуму: 0.5844155844155844\n"
     ]
    },
    {
     "data": {
      "image/png": "[encoded data removed]",
      "text/plain": [
       "<Figure size 432x288 with 1 Axes>"
      ]
     },
     "metadata": {
      "needs_background": "light"
     },
     "output_type": "display_data"
    }
   ],
   "source": [
    "show_corr_plot(data, 'year', 'last_price', 'Влияние на цену года')"
   ]
  },
  {
   "cell_type": "markdown",
   "metadata": {},
   "source": [
    "***Вывод***: тут мы видим, что в разные года цена значительно отличается. Разница более 41%, так что, год очень важный фактор при определении цены."
   ]
  },
  {
   "cell_type": "markdown",
   "metadata": {},
   "source": [
    "Выберем 10 населённых пунктов с наибольшим числом объявлений"
   ]
  },
  {
   "cell_type": "code",
   "execution_count": 33,
   "metadata": {},
   "outputs": [
    {
     "data": {
      "text/html": [
       "<div>\n",
       "<style scoped>\n",
       "    .dataframe tbody tr th:only-of-type {\n",
       "        vertical-align: middle;\n",
       "    }\n",
       "\n",
       "    .dataframe tbody tr th {\n",
       "        vertical-align: top;\n",
       "    }\n",
       "\n",
       "    .dataframe thead th {\n",
       "        text-align: right;\n",
       "    }\n",
       "</style>\n",
       "<table border=\"1\" class=\"dataframe\">\n",
       "  <thead>\n",
       "    <tr style=\"text-align: right;\">\n",
       "      <th></th>\n",
       "      <th>locality_name</th>\n",
       "      <th>count</th>\n",
       "    </tr>\n",
       "  </thead>\n",
       "  <tbody>\n",
       "    <tr>\n",
       "      <th>0</th>\n",
       "      <td>Санкт-Петербург</td>\n",
       "      <td>15535</td>\n",
       "    </tr>\n",
       "    <tr>\n",
       "      <th>1</th>\n",
       "      <td>поселок Мурино</td>\n",
       "      <td>511</td>\n",
       "    </tr>\n",
       "    <tr>\n",
       "      <th>2</th>\n",
       "      <td>поселок Шушары</td>\n",
       "      <td>440</td>\n",
       "    </tr>\n",
       "    <tr>\n",
       "      <th>3</th>\n",
       "      <td>Всеволожск</td>\n",
       "      <td>396</td>\n",
       "    </tr>\n",
       "    <tr>\n",
       "      <th>4</th>\n",
       "      <td>Пушкин</td>\n",
       "      <td>366</td>\n",
       "    </tr>\n",
       "    <tr>\n",
       "      <th>5</th>\n",
       "      <td>Колпино</td>\n",
       "      <td>337</td>\n",
       "    </tr>\n",
       "    <tr>\n",
       "      <th>6</th>\n",
       "      <td>поселок Парголово</td>\n",
       "      <td>326</td>\n",
       "    </tr>\n",
       "    <tr>\n",
       "      <th>7</th>\n",
       "      <td>Гатчина</td>\n",
       "      <td>307</td>\n",
       "    </tr>\n",
       "    <tr>\n",
       "      <th>8</th>\n",
       "      <td>деревня Кудрово</td>\n",
       "      <td>286</td>\n",
       "    </tr>\n",
       "    <tr>\n",
       "      <th>9</th>\n",
       "      <td>Выборг</td>\n",
       "      <td>237</td>\n",
       "    </tr>\n",
       "  </tbody>\n",
       "</table>\n",
       "</div>"
      ],
      "text/plain": [
       "       locality_name  count\n",
       "0    Санкт-Петербург  15535\n",
       "1     поселок Мурино    511\n",
       "2     поселок Шушары    440\n",
       "3         Всеволожск    396\n",
       "4             Пушкин    366\n",
       "5            Колпино    337\n",
       "6  поселок Парголово    326\n",
       "7            Гатчина    307\n",
       "8    деревня Кудрово    286\n",
       "9             Выборг    237"
      ]
     },
     "execution_count": 33,
     "metadata": {},
     "output_type": "execute_result"
    }
   ],
   "source": [
    "locality_top_10 = data['locality_name'].value_counts()[:10]\n",
    "locality_top_10 = pd.DataFrame({'locality_name':locality_top_10.index, 'count':locality_top_10.values})\n",
    "locality_top_10.merge(data.groupby('locality_name')['price_m2'].mean(), on='locality_name').sort_values('price_m2', ascending=False)\n",
    "locality_top_10"
   ]
  },
  {
   "cell_type": "markdown",
   "metadata": {},
   "source": [
    "***Вывод***: Из десятки лидеров по частоте объявлений самое дорогое жилье в Санкт-Петербурге и в Пушкине, самые же дешевые в Выборге"
   ]
  },
  {
   "cell_type": "markdown",
   "metadata": {},
   "source": [
    "Теперь определим цены для Санкт-Петербурга в зависимости от удаленности от центра. И построим график средних цен для каждого километра."
   ]
  },
  {
   "cell_type": "code",
   "execution_count": 34,
   "metadata": {},
   "outputs": [
    {
     "data": {
      "text/plain": [
       "<AxesSubplot:title={'center':'Цены для Санкт-Петербурга в зависимости\\nот удаленности от центра'}, xlabel='distance_to_center_km'>"
      ]
     },
     "execution_count": 34,
     "metadata": {},
     "output_type": "execute_result"
    },
    {
     "data": {
      "image/png": "[encoded data removed]",
      "text/plain": [
       "<Figure size 432x288 with 1 Axes>"
      ]
     },
     "metadata": {
      "needs_background": "light"
     },
     "output_type": "display_data"
    }
   ],
   "source": [
    "data['distance_to_center_km'] = round(data['city_centers_nearest'] / 1000, 0)\n",
    "spb_localities = data.query('locality_name == \"Санкт-Петербург\"')\n",
    "\n",
    "spb_localities.groupby('distance_to_center_km')['last_price'].mean().plot(kind='bar', title='Цены для Санкт-Петербурга в зависимости\\nот удаленности от центра')"
   ]
  },
  {
   "cell_type": "markdown",
   "metadata": {},
   "source": [
    "***Вывод***: Судя по графику, граница центра находится где-то около 8го километра."
   ]
  },
  {
   "cell_type": "raw",
   "metadata": {},
   "source": [
    "Выделим квартиры в центре"
   ]
  },
  {
   "cell_type": "code",
   "execution_count": 35,
   "metadata": {},
   "outputs": [
    {
     "name": "stdout",
     "output_type": "stream",
     "text": [
      "count         3,661.00\n",
      "mean     14,443,434.12\n",
      "std      24,120,050.03\n",
      "min       1,600,000.00\n",
      "25%       6,590,000.00\n",
      "50%       9,000,000.00\n",
      "75%      14,000,000.00\n",
      "max     763,000,000.00\n",
      "Name: last_price, dtype: float64\n"
     ]
    },
    {
     "data": {
      "image/png": "[encoded data removed]",
      "text/plain": [
       "<Figure size 432x288 with 1 Axes>"
      ]
     },
     "metadata": {
      "needs_background": "light"
     },
     "output_type": "display_data"
    }
   ],
   "source": [
    "spb_center = spb_localities.query('city_centers_nearest < 8000')\n",
    "show_hist('last_price', 50, (0, 5e7), 'Время продажи', 'дней', True, spb_center)\n",
    "\n",
    "#pb_center['last_price'].hist(bins=50, range=(0, 5e7))"
   ]
  },
  {
   "cell_type": "markdown",
   "metadata": {},
   "source": [
    "***Вывод***: Основная масса квартир в центре получается от 5млн до 15 млн."
   ]
  },
  {
   "cell_type": "markdown",
   "metadata": {},
   "source": [
    "**Также рассмотрим аналогичные параметры для центральной части**"
   ]
  },
  {
   "cell_type": "markdown",
   "metadata": {},
   "source": [
    "Количество комнат"
   ]
  },
  {
   "cell_type": "code",
   "execution_count": 36,
   "metadata": {
    "collapsed": true,
    "jupyter": {
     "outputs_hidden": true
    },
    "scrolled": true,
    "tags": []
   },
   "outputs": [
    {
     "name": "stdout",
     "output_type": "stream",
     "text": [
      "count   3,661.00\n",
      "mean        2.81\n",
      "std         1.45\n",
      "min         0.00\n",
      "25%         2.00\n",
      "50%         3.00\n",
      "75%         3.00\n",
      "max        19.00\n",
      "Name: rooms, dtype: float64\n"
     ]
    },
    {
     "data": {
      "image/png": "[encoded data removed]",
      "text/plain": [
       "<Figure size 432x288 with 1 Axes>"
      ]
     },
     "metadata": {
      "needs_background": "light"
     },
     "output_type": "display_data"
    }
   ],
   "source": [
    "show_hist('rooms', 10, (0, 10), 'Количество комнат', 'шт', True, spb_center)"
   ]
  },
  {
   "cell_type": "markdown",
   "metadata": {},
   "source": [
    "***Вывод***: Основаная масса квартир в центре от 1 до 5 комнат."
   ]
  },
  {
   "cell_type": "markdown",
   "metadata": {},
   "source": [
    "Высота потолков"
   ]
  },
  {
   "cell_type": "code",
   "execution_count": 45,
   "metadata": {
    "scrolled": true,
    "tags": []
   },
   "outputs": [
    {
     "name": "stdout",
     "output_type": "stream",
     "text": [
      "count   3,661.00\n",
      "mean        2.93\n",
      "std         0.37\n",
      "min         2.00\n",
      "25%         2.65\n",
      "50%         2.80\n",
      "75%         3.11\n",
      "max         6.00\n",
      "Name: ceiling_height, dtype: float64\n"
     ]
    },
    {
     "data": {
      "image/png": "[encoded data removed]",
      "text/plain": [
       "<Figure size 432x288 with 1 Axes>"
      ]
     },
     "metadata": {
      "needs_background": "light"
     },
     "output_type": "display_data"
    }
   ],
   "source": [
    "#spb_center['ceiling_height'].hist(bins=10, range=(2, 5))\n",
    "\n",
    "show_hist('ceiling_height', 10, (2, 5), 'Высота потолков', 'м', True, spb_center)"
   ]
  },
  {
   "cell_type": "markdown",
   "metadata": {},
   "source": [
    "***Вывод***: Основаная высота потолков в центре от 2,5 до 3,7 м."
   ]
  },
  {
   "cell_type": "markdown",
   "metadata": {},
   "source": [
    "**Также рассмотрим какие факторы больше всего влияют на стоимость квартиры в центральной части**"
   ]
  },
  {
   "cell_type": "markdown",
   "metadata": {},
   "source": [
    "Влияние на цену площади квартир"
   ]
  },
  {
   "cell_type": "code",
   "execution_count": 38,
   "metadata": {},
   "outputs": [
    {
     "data": {
      "text/plain": [
       "<AxesSubplot:title={'center':'Влияние на цену площади квартир'}, xlabel='total_area', ylabel='last_price'>"
      ]
     },
     "execution_count": 38,
     "metadata": {},
     "output_type": "execute_result"
    },
    {
     "data": {
      "image/png": "[encoded data removed]",
      "text/plain": [
       "<Figure size 432x288 with 1 Axes>"
      ]
     },
     "metadata": {
      "needs_background": "light"
     },
     "output_type": "display_data"
    }
   ],
   "source": [
    "spb_center.query('last_price < 3e8').plot(x='total_area', y='last_price', kind='scatter', title='Влияние на цену площади квартир', label=main_labels[1])"
   ]
  },
  {
   "cell_type": "markdown",
   "metadata": {},
   "source": [
    "***Вывод***: Нижняя граница цен отрывается вверх от 100 кв.м., и более менее равномерно идет почти до 400кв.м. А вот верхняя относительно равномерно растет до 200 кв.м., а далее более резко устремляется вверх"
   ]
  },
  {
   "cell_type": "markdown",
   "metadata": {},
   "source": [
    "Влияние на цену количества комнат"
   ]
  },
  {
   "cell_type": "code",
   "execution_count": 39,
   "metadata": {},
   "outputs": [
    {
     "data": {
      "text/plain": [
       "<AxesSubplot:title={'center':'Влияние на цену количества комнат'}, xlabel='rooms', ylabel='last_price'>"
      ]
     },
     "execution_count": 39,
     "metadata": {},
     "output_type": "execute_result"
    },
    {
     "data": {
      "image/png": "[encoded data removed]",
      "text/plain": [
       "<Figure size 432x288 with 1 Axes>"
      ]
     },
     "metadata": {
      "needs_background": "light"
     },
     "output_type": "display_data"
    }
   ],
   "source": [
    "spb_center.query('last_price < 3e8').plot(x='rooms', y='last_price', kind='scatter', title='Влияние на цену количества комнат', label=main_labels[1])"
   ]
  },
  {
   "cell_type": "markdown",
   "metadata": {},
   "source": [
    "***Вывод***: Зависимость по центру аналогична зависимости по всей базе: до 5 комнат довольно четко прослеживаются верхние ценники на квартиры, не считая выбросов, до 7 комнат граница чуть менее четкая, далее совсем размывается. Также свыше 5 комнат видим, что нижний ценник ощутимо повышается."
   ]
  },
  {
   "cell_type": "markdown",
   "metadata": {},
   "source": [
    "Влияние на цену типа этажа"
   ]
  },
  {
   "cell_type": "code",
   "execution_count": 40,
   "metadata": {
    "scrolled": true
   },
   "outputs": [
    {
     "data": {
      "text/plain": [
       "<AxesSubplot:title={'center':'Влияние на максимальную цену типа этажа'}, xlabel='floor_type'>"
      ]
     },
     "execution_count": 40,
     "metadata": {},
     "output_type": "execute_result"
    },
    {
     "data": {
      "image/png": "[encoded data removed]",
      "text/plain": [
       "<Figure size 432x288 with 1 Axes>"
      ]
     },
     "metadata": {
      "needs_background": "light"
     },
     "output_type": "display_data"
    }
   ],
   "source": [
    "spb_center.groupby('floor_type')['last_price'].max().plot(title='Влияние на максимальную цену типа этажа')"
   ]
  },
  {
   "cell_type": "code",
   "execution_count": 41,
   "metadata": {},
   "outputs": [
    {
     "data": {
      "text/plain": [
       "<AxesSubplot:title={'center':'Влияние на среднюю цену типа этажа'}, xlabel='floor_type'>"
      ]
     },
     "execution_count": 41,
     "metadata": {},
     "output_type": "execute_result"
    },
    {
     "data": {
      "image/png": "[encoded data removed]",
      "text/plain": [
       "<Figure size 432x288 with 1 Axes>"
      ]
     },
     "metadata": {
      "needs_background": "light"
     },
     "output_type": "display_data"
    }
   ],
   "source": [
    "spb_center.groupby('floor_type')['last_price'].mean().plot(title='Влияние на среднюю цену типа этажа')"
   ]
  },
  {
   "cell_type": "markdown",
   "metadata": {},
   "source": [
    "***Вывод***: Как средняя так и максимальная стоимость на первых этажах самая маленькая, а на последних наоборот самая высокая."
   ]
  },
  {
   "cell_type": "markdown",
   "metadata": {},
   "source": [
    "Влияние на цену дня недели"
   ]
  },
  {
   "cell_type": "code",
   "execution_count": 42,
   "metadata": {},
   "outputs": [
    {
     "name": "stdout",
     "output_type": "stream",
     "text": [
      "Отношение минимума к максимуму: 0.9073441502988898\n"
     ]
    },
    {
     "data": {
      "image/png": "[encoded data removed]",
      "text/plain": [
       "<Figure size 432x288 with 1 Axes>"
      ]
     },
     "metadata": {
      "needs_background": "light"
     },
     "output_type": "display_data"
    }
   ],
   "source": [
    "show_corr_plot(spb_center, 'day_of_week', 'last_price', 'Влияние на цену дня недели')"
   ]
  },
  {
   "cell_type": "markdown",
   "metadata": {},
   "source": [
    "***Вывод***: В понедельник - наибольшая цена, в субботу - наименьшая, есть значительные перепады между соседними днями. То есть тут ситуация явно отличается от общей картины."
   ]
  },
  {
   "cell_type": "markdown",
   "metadata": {},
   "source": [
    "Влияние на цену месяца"
   ]
  },
  {
   "cell_type": "code",
   "execution_count": 43,
   "metadata": {},
   "outputs": [
    {
     "name": "stdout",
     "output_type": "stream",
     "text": [
      "Отношение минимума к максимуму: 0.8696096987058162\n"
     ]
    },
    {
     "data": {
      "image/png": "[encoded data removed]",
      "text/plain": [
       "<Figure size 432x288 with 1 Axes>"
      ]
     },
     "metadata": {
      "needs_background": "light"
     },
     "output_type": "display_data"
    }
   ],
   "source": [
    "show_corr_plot(spb_center, 'month', 'last_price','Влияние на цену месяца')"
   ]
  },
  {
   "cell_type": "markdown",
   "metadata": {},
   "source": [
    "***Вывод***: получается что стоимость квартир по медиане самая высокая в январе и самая низкая в октябре и декабре."
   ]
  },
  {
   "cell_type": "markdown",
   "metadata": {},
   "source": [
    "Влияние на цену года"
   ]
  },
  {
   "cell_type": "code",
   "execution_count": 44,
   "metadata": {},
   "outputs": [
    {
     "name": "stdout",
     "output_type": "stream",
     "text": [
      "Отношение минимума к максимуму: 0.43994141414141413\n"
     ]
    },
    {
     "data": {
      "image/png": "[encoded data removed]",
      "text/plain": [
       "<Figure size 432x288 with 1 Axes>"
      ]
     },
     "metadata": {
      "needs_background": "light"
     },
     "output_type": "display_data"
    }
   ],
   "source": [
    "show_corr_plot(spb_center, 'year', 'last_price','Влияние на цену года')"
   ]
  },
  {
   "cell_type": "markdown",
   "metadata": {},
   "source": [
    "***Вывод***: Аналогично общей картине: год и тут очень важный фактор."
   ]
  },
  {
   "cell_type": "markdown",
   "metadata": {},
   "source": [
    "### Теперь еще раз выпишем все сделанные выводы."
   ]
  },
  {
   "cell_type": "markdown",
   "metadata": {},
   "source": [
    "**Выводы по всем имеющимся квартирам:**\n",
    "-  квартиры площадью более 200 кв.м. встречаются крайне редко, но бывают и 'дворцы' до 900 кв.м.\n",
    "-  в большинстве случаев отношение общей плошади к жилой составляет от 1,2 до 2,5. Больше 3,5 очень большая редкость, но есть и с огромным соотношением - 46.3.\n",
    "-  Самая большая масса квартир имеют от 1 до 4-5 комнат. А вот свыше 8 это редчайший случай, у нас их всего 19.\n",
    "-  Большинство потолков квартир находится в диапазоне от 2.3 до 3.5м, свыше 4х редкость - всего 74 квартиры.\n",
    "-  В среднем продажа квартир занимает 169 дней, медиана - 95 дней. А вот примерно после 220 мы видим, что график становится значительно более пологим\n",
    "-  по площади нижняя граница цен прогрессирует вверх от 150 кв.м., и более менее равномерно идет пости до 400кв.м. А вот верхняя относительно равномерно растет до 200 кв.м., а далее резко устремляется вверх, но таких квартир вообще мало (всего 206).\n",
    "-  до 5 комнат довольно четко прослживаются верхние ценники на квартиры, не считая выбросов, до 7 комнат граница чуть менее четкая, далее совсем размывается. Также свыше 5 комнат видим, что нижний ценник ощутимо повышается.\n",
    "- максимальная стоимость квартир лежит ближе к центру (примерно до 8000м)\n",
    "-  Как средняя так и максимальная стоимость на первых этажах самая маленькая, а вот на последних наоборот самая высокая.\n",
    "-  Во вторник - наибольшая цена, в воскретсень - наименьшая, но между соседними днями перепады незначительные.\n",
    "- по медиане самая высокая в апреле и самая низкая в июне.\n",
    "- в разные года цена значительно отличается. Год - очень важный фактор при определении цены.\n",
    "- самое дорогое жилье в Санкт-Петербурге и в Пушкине, самые же дешевые в Выборге\n"
   ]
  },
  {
   "cell_type": "markdown",
   "metadata": {},
   "source": [
    "**Выводы по центральной части Санкт-Петербурга, отличающиеся от выводов по всем квартирам:**\n",
    "- граница центра находится где-то около 8го километра.\n",
    "- основная масса квартир в центре получается от 5млн до 15 млн.\n",
    "- основаная масса квартир в центре от 1 до 5 комнат.\n",
    "- основаная высота потолков в центре от 2,5 до 3,7 м.\n",
    "- нижняя граница цен отрывается вверх от 100 кв.м., и более менее равномерно идет почти до 400кв.м. А вот верхняя относительно равномерно растет до 200 кв.м., а далее более резко устремляется вверх\n",
    "- в понедельник - наибольшая цена, в субботу - наименьшая, есть значительные перепады между соседними днями.\n",
    "- стоимость квартир по медиане самая высокая в январе и самая низкая в октябре и декабре."
   ]
  },
  {
   "cell_type": "markdown",
   "metadata": {},
   "source": [
    "**Вывод**\n",
    "\n",
    "Центральная часть Санкт-Петербурга имеет некоторые свои обособленные значения показателей и поэтому должна рассматриваться отдельно."
   ]
  },
  {
   "cell_type": "markdown",
   "metadata": {},
   "source": [
    "## Общий вывод"
   ]
  },
  {
   "cell_type": "markdown",
   "metadata": {},
   "source": [
    "Из проведенного анализа можно сказать, что для создания автоматизированной системы необходимо воспользоваться параметрами, указанными в выводах по всем имеющимся квартирам, а также создать отдельные условия для квартир, находящихся в центральной части Санкт-Петербурга. Для отслеживания аномалий и мошеннических действий, нужно чтобы система оповещала пользователя для более детального рассмотрения квартир, которые будут иметь большое отклонение от вычисленной цены. А также система должна оповещать о всех квартирах, которые выходят за пределы показателей, определенных как средние, по любым параметрам."
   ]
  }
 ],
 "metadata": {
  "ExecuteTimeLog": [
   {
    "duration": 306,
    "start_time": "2021-12-07T07:43:41.561Z"
   },
   {
    "duration": 650,
    "start_time": "2021-12-07T07:43:48.592Z"
   },
   {
    "duration": 14,
    "start_time": "2021-12-07T07:45:47.023Z"
   },
   {
    "duration": 76,
    "start_time": "2021-12-07T07:46:07.180Z"
   },
   {
    "duration": 25,
    "start_time": "2021-12-07T07:46:24.572Z"
   },
   {
    "duration": 332,
    "start_time": "2021-12-07T07:53:06.423Z"
   },
   {
    "duration": 9,
    "start_time": "2021-12-07T10:34:18.632Z"
   },
   {
    "duration": 322,
    "start_time": "2021-12-07T11:04:23.288Z"
   },
   {
    "duration": 340,
    "start_time": "2021-12-07T11:07:53.868Z"
   },
   {
    "duration": 359,
    "start_time": "2021-12-07T11:08:11.626Z"
   },
   {
    "duration": 435,
    "start_time": "2021-12-07T11:08:55.056Z"
   },
   {
    "duration": 363,
    "start_time": "2021-12-07T11:09:04.767Z"
   },
   {
    "duration": 432,
    "start_time": "2021-12-07T11:10:40.198Z"
   },
   {
    "duration": 309,
    "start_time": "2021-12-07T11:10:46.935Z"
   },
   {
    "duration": 340,
    "start_time": "2021-12-07T11:11:20.400Z"
   },
   {
    "duration": 4,
    "start_time": "2021-12-07T11:12:10.880Z"
   },
   {
    "duration": 6,
    "start_time": "2021-12-07T11:12:19.448Z"
   },
   {
    "duration": 6,
    "start_time": "2021-12-07T11:12:31.827Z"
   },
   {
    "duration": 375,
    "start_time": "2021-12-07T11:13:08.548Z"
   },
   {
    "duration": 353,
    "start_time": "2021-12-07T11:13:34.726Z"
   },
   {
    "duration": 55,
    "start_time": "2021-12-07T11:13:42.575Z"
   },
   {
    "duration": 297,
    "start_time": "2021-12-07T11:14:43.667Z"
   },
   {
    "duration": 115,
    "start_time": "2021-12-07T11:15:10.367Z"
   },
   {
    "duration": 97,
    "start_time": "2021-12-07T11:20:16.487Z"
   },
   {
    "duration": 405,
    "start_time": "2021-12-07T11:20:43.908Z"
   },
   {
    "duration": 91,
    "start_time": "2021-12-07T11:21:20.189Z"
   },
   {
    "duration": 136,
    "start_time": "2021-12-07T11:21:52.539Z"
   },
   {
    "duration": 124,
    "start_time": "2021-12-07T11:25:25.345Z"
   },
   {
    "duration": 80,
    "start_time": "2021-12-07T11:26:00.386Z"
   },
   {
    "duration": 5,
    "start_time": "2021-12-07T11:27:26.974Z"
   },
   {
    "duration": 5,
    "start_time": "2021-12-07T11:27:34.045Z"
   },
   {
    "duration": 7,
    "start_time": "2021-12-07T11:27:45.785Z"
   },
   {
    "duration": 836,
    "start_time": "2021-12-07T11:28:01.681Z"
   },
   {
    "duration": 45,
    "start_time": "2021-12-07T11:28:08.145Z"
   },
   {
    "duration": 255,
    "start_time": "2021-12-07T12:23:29.906Z"
   },
   {
    "duration": 171,
    "start_time": "2021-12-07T12:23:37.403Z"
   },
   {
    "duration": 176,
    "start_time": "2021-12-07T12:23:57.007Z"
   },
   {
    "duration": 676,
    "start_time": "2021-12-07T12:24:25.025Z"
   },
   {
    "duration": 215,
    "start_time": "2021-12-07T12:24:40.332Z"
   },
   {
    "duration": 167,
    "start_time": "2021-12-07T12:24:43.884Z"
   },
   {
    "duration": 170,
    "start_time": "2021-12-07T12:24:47.803Z"
   },
   {
    "duration": 176,
    "start_time": "2021-12-07T12:25:03.935Z"
   },
   {
    "duration": 741,
    "start_time": "2021-12-07T12:25:41.624Z"
   },
   {
    "duration": 173,
    "start_time": "2021-12-07T12:25:59.043Z"
   },
   {
    "duration": 7,
    "start_time": "2021-12-07T12:26:17.262Z"
   },
   {
    "duration": 5,
    "start_time": "2021-12-07T12:26:23.663Z"
   },
   {
    "duration": 6,
    "start_time": "2021-12-07T12:26:27.094Z"
   },
   {
    "duration": 5,
    "start_time": "2021-12-07T12:26:33.062Z"
   },
   {
    "duration": 6,
    "start_time": "2021-12-07T12:26:36.562Z"
   },
   {
    "duration": 6,
    "start_time": "2021-12-07T12:26:40.783Z"
   },
   {
    "duration": 6,
    "start_time": "2021-12-07T12:26:46.671Z"
   },
   {
    "duration": 7,
    "start_time": "2021-12-07T12:26:49.425Z"
   },
   {
    "duration": 176,
    "start_time": "2021-12-07T12:28:20.864Z"
   },
   {
    "duration": 175,
    "start_time": "2021-12-07T12:28:28.864Z"
   },
   {
    "duration": 165,
    "start_time": "2021-12-07T12:28:34.303Z"
   },
   {
    "duration": 225,
    "start_time": "2021-12-07T12:28:42.943Z"
   },
   {
    "duration": 179,
    "start_time": "2021-12-07T12:28:46.971Z"
   },
   {
    "duration": 176,
    "start_time": "2021-12-07T12:28:57.902Z"
   },
   {
    "duration": 177,
    "start_time": "2021-12-07T12:29:02.782Z"
   },
   {
    "duration": 315,
    "start_time": "2021-12-07T12:29:59.494Z"
   },
   {
    "duration": 249,
    "start_time": "2021-12-07T12:30:06.522Z"
   },
   {
    "duration": 177,
    "start_time": "2021-12-07T12:30:11.402Z"
   },
   {
    "duration": 175,
    "start_time": "2021-12-07T12:30:19.141Z"
   },
   {
    "duration": 189,
    "start_time": "2021-12-07T12:30:31.083Z"
   },
   {
    "duration": 174,
    "start_time": "2021-12-07T12:30:39.461Z"
   },
   {
    "duration": 342,
    "start_time": "2021-12-08T07:31:18.146Z"
   },
   {
    "duration": 869,
    "start_time": "2021-12-08T07:32:15.916Z"
   },
   {
    "duration": 64,
    "start_time": "2021-12-08T07:32:16.788Z"
   },
   {
    "duration": 275,
    "start_time": "2021-12-08T07:32:16.855Z"
   },
   {
    "duration": 11,
    "start_time": "2021-12-08T07:32:17.132Z"
   },
   {
    "duration": 124,
    "start_time": "2021-12-08T07:32:17.146Z"
   },
   {
    "duration": 7,
    "start_time": "2021-12-08T07:32:17.272Z"
   },
   {
    "duration": 460,
    "start_time": "2021-12-08T07:32:17.281Z"
   },
   {
    "duration": 17,
    "start_time": "2021-12-08T07:32:50.485Z"
   },
   {
    "duration": 302,
    "start_time": "2021-12-08T07:33:31.313Z"
   },
   {
    "duration": 269,
    "start_time": "2021-12-08T07:33:51.883Z"
   },
   {
    "duration": 562,
    "start_time": "2021-12-08T07:34:27.861Z"
   },
   {
    "duration": 387,
    "start_time": "2021-12-08T07:34:59.516Z"
   },
   {
    "duration": 191,
    "start_time": "2021-12-08T07:35:35.948Z"
   },
   {
    "duration": 22,
    "start_time": "2021-12-08T07:53:35.315Z"
   },
   {
    "duration": 960,
    "start_time": "2021-12-08T07:53:48.985Z"
   },
   {
    "duration": 68,
    "start_time": "2021-12-08T07:53:49.948Z"
   },
   {
    "duration": 299,
    "start_time": "2021-12-08T07:53:50.021Z"
   },
   {
    "duration": 13,
    "start_time": "2021-12-08T07:53:50.322Z"
   },
   {
    "duration": 105,
    "start_time": "2021-12-08T07:53:50.337Z"
   },
   {
    "duration": 19,
    "start_time": "2021-12-08T07:53:50.444Z"
   },
   {
    "duration": 547,
    "start_time": "2021-12-08T07:53:50.465Z"
   },
   {
    "duration": 55,
    "start_time": "2021-12-08T07:55:06.551Z"
   },
   {
    "duration": 51,
    "start_time": "2021-12-08T07:55:17.006Z"
   },
   {
    "duration": 96,
    "start_time": "2021-12-08T07:55:30.191Z"
   },
   {
    "duration": 25,
    "start_time": "2021-12-08T07:55:33.597Z"
   },
   {
    "duration": 26,
    "start_time": "2021-12-08T07:55:46.471Z"
   },
   {
    "duration": 25,
    "start_time": "2021-12-08T07:57:18.947Z"
   },
   {
    "duration": 24,
    "start_time": "2021-12-08T07:57:35.912Z"
   },
   {
    "duration": 924,
    "start_time": "2021-12-08T07:57:47.855Z"
   },
   {
    "duration": 51,
    "start_time": "2021-12-08T07:57:48.781Z"
   },
   {
    "duration": 284,
    "start_time": "2021-12-08T07:57:48.835Z"
   },
   {
    "duration": 12,
    "start_time": "2021-12-08T07:57:49.122Z"
   },
   {
    "duration": 117,
    "start_time": "2021-12-08T07:57:49.136Z"
   },
   {
    "duration": 24,
    "start_time": "2021-12-08T07:57:49.256Z"
   },
   {
    "duration": 542,
    "start_time": "2021-12-08T07:57:49.283Z"
   },
   {
    "duration": 22,
    "start_time": "2021-12-08T07:58:21.710Z"
   },
   {
    "duration": 21,
    "start_time": "2021-12-08T07:58:25.728Z"
   },
   {
    "duration": 32,
    "start_time": "2021-12-08T07:58:29.712Z"
   },
   {
    "duration": 24,
    "start_time": "2021-12-08T07:58:45.521Z"
   },
   {
    "duration": 23,
    "start_time": "2021-12-08T07:59:03.634Z"
   },
   {
    "duration": 929,
    "start_time": "2021-12-08T07:59:08.753Z"
   },
   {
    "duration": 47,
    "start_time": "2021-12-08T07:59:09.685Z"
   },
   {
    "duration": 290,
    "start_time": "2021-12-08T07:59:09.736Z"
   },
   {
    "duration": 12,
    "start_time": "2021-12-08T07:59:10.028Z"
   },
   {
    "duration": 117,
    "start_time": "2021-12-08T07:59:10.042Z"
   },
   {
    "duration": 29,
    "start_time": "2021-12-08T07:59:10.163Z"
   },
   {
    "duration": 555,
    "start_time": "2021-12-08T07:59:10.194Z"
   },
   {
    "duration": 25,
    "start_time": "2021-12-08T07:59:20.222Z"
   },
   {
    "duration": 25,
    "start_time": "2021-12-08T08:00:35.277Z"
   },
   {
    "duration": 974,
    "start_time": "2021-12-08T08:00:46.039Z"
   },
   {
    "duration": 46,
    "start_time": "2021-12-08T08:00:47.015Z"
   },
   {
    "duration": 277,
    "start_time": "2021-12-08T08:00:47.065Z"
   },
   {
    "duration": 12,
    "start_time": "2021-12-08T08:00:47.344Z"
   },
   {
    "duration": 122,
    "start_time": "2021-12-08T08:00:47.358Z"
   },
   {
    "duration": 34,
    "start_time": "2021-12-08T08:00:47.517Z"
   },
   {
    "duration": 553,
    "start_time": "2021-12-08T08:00:47.554Z"
   },
   {
    "duration": 27,
    "start_time": "2021-12-08T08:01:23.539Z"
   },
   {
    "duration": 25,
    "start_time": "2021-12-08T08:03:01.874Z"
   },
   {
    "duration": 24,
    "start_time": "2021-12-08T08:05:53.271Z"
   },
   {
    "duration": 26,
    "start_time": "2021-12-08T08:06:00.154Z"
   },
   {
    "duration": 27,
    "start_time": "2021-12-08T08:06:14.874Z"
   },
   {
    "duration": 27,
    "start_time": "2021-12-08T08:06:58.499Z"
   },
   {
    "duration": 23,
    "start_time": "2021-12-08T08:14:14.737Z"
   },
   {
    "duration": 706,
    "start_time": "2021-12-09T12:27:29.369Z"
   },
   {
    "duration": 26,
    "start_time": "2021-12-09T12:27:30.076Z"
   },
   {
    "duration": 122,
    "start_time": "2021-12-09T12:27:30.103Z"
   },
   {
    "duration": 8,
    "start_time": "2021-12-09T12:27:30.227Z"
   },
   {
    "duration": 74,
    "start_time": "2021-12-09T12:27:30.236Z"
   },
   {
    "duration": 22,
    "start_time": "2021-12-09T12:27:30.312Z"
   },
   {
    "duration": 296,
    "start_time": "2021-12-09T12:27:30.336Z"
   },
   {
    "duration": 20,
    "start_time": "2021-12-09T12:27:44.748Z"
   },
   {
    "duration": 21,
    "start_time": "2021-12-09T12:36:28.068Z"
   },
   {
    "duration": 31,
    "start_time": "2021-12-09T12:36:48.967Z"
   },
   {
    "duration": 23,
    "start_time": "2021-12-09T12:39:18.028Z"
   },
   {
    "duration": 25,
    "start_time": "2021-12-09T12:43:03.308Z"
   },
   {
    "duration": 25,
    "start_time": "2021-12-09T12:43:14.179Z"
   },
   {
    "duration": 29,
    "start_time": "2021-12-09T12:43:31.747Z"
   },
   {
    "duration": 29,
    "start_time": "2021-12-09T12:44:20.927Z"
   },
   {
    "duration": 25,
    "start_time": "2021-12-09T12:44:25.119Z"
   },
   {
    "duration": 22,
    "start_time": "2021-12-09T12:44:29.068Z"
   },
   {
    "duration": 26,
    "start_time": "2021-12-09T12:44:31.925Z"
   },
   {
    "duration": 27,
    "start_time": "2021-12-09T12:44:42.066Z"
   },
   {
    "duration": 27,
    "start_time": "2021-12-09T12:45:07.105Z"
   },
   {
    "duration": 29,
    "start_time": "2021-12-09T12:45:14.786Z"
   },
   {
    "duration": 33,
    "start_time": "2021-12-09T12:45:40.469Z"
   },
   {
    "duration": 32,
    "start_time": "2021-12-09T12:46:57.272Z"
   },
   {
    "duration": 30,
    "start_time": "2021-12-09T12:48:28.343Z"
   },
   {
    "duration": 35,
    "start_time": "2021-12-09T12:49:15.343Z"
   },
   {
    "duration": 35,
    "start_time": "2021-12-09T12:50:20.182Z"
   },
   {
    "duration": 73,
    "start_time": "2021-12-09T12:51:36.071Z"
   },
   {
    "duration": 40,
    "start_time": "2021-12-09T12:51:45.274Z"
   },
   {
    "duration": 39,
    "start_time": "2021-12-09T12:51:46.179Z"
   },
   {
    "duration": 39,
    "start_time": "2021-12-09T12:51:46.834Z"
   },
   {
    "duration": 40,
    "start_time": "2021-12-09T12:51:47.420Z"
   },
   {
    "duration": 43,
    "start_time": "2021-12-09T12:51:48.030Z"
   },
   {
    "duration": 40,
    "start_time": "2021-12-09T12:51:48.631Z"
   },
   {
    "duration": 39,
    "start_time": "2021-12-09T12:51:49.229Z"
   },
   {
    "duration": 39,
    "start_time": "2021-12-09T12:51:49.789Z"
   },
   {
    "duration": 39,
    "start_time": "2021-12-09T12:51:50.295Z"
   },
   {
    "duration": 48,
    "start_time": "2021-12-09T12:54:47.377Z"
   },
   {
    "duration": 45,
    "start_time": "2021-12-09T12:54:53.084Z"
   },
   {
    "duration": 55,
    "start_time": "2021-12-09T12:55:31.594Z"
   },
   {
    "duration": 475,
    "start_time": "2021-12-09T12:55:40.384Z"
   },
   {
    "duration": 62,
    "start_time": "2021-12-09T12:55:44.477Z"
   },
   {
    "duration": 62,
    "start_time": "2021-12-09T12:56:40.117Z"
   },
   {
    "duration": 85,
    "start_time": "2021-12-09T12:58:56.396Z"
   },
   {
    "duration": 68,
    "start_time": "2021-12-09T12:59:07.281Z"
   },
   {
    "duration": 69,
    "start_time": "2021-12-09T12:59:15.873Z"
   },
   {
    "duration": 289,
    "start_time": "2021-12-09T12:59:59.186Z"
   },
   {
    "duration": 55,
    "start_time": "2021-12-09T13:00:06.606Z"
   },
   {
    "duration": 23,
    "start_time": "2021-12-09T13:01:49.780Z"
   },
   {
    "duration": 766,
    "start_time": "2021-12-09T13:01:56.872Z"
   },
   {
    "duration": 21,
    "start_time": "2021-12-09T13:01:57.639Z"
   },
   {
    "duration": 136,
    "start_time": "2021-12-09T13:01:57.662Z"
   },
   {
    "duration": 8,
    "start_time": "2021-12-09T13:01:57.800Z"
   },
   {
    "duration": 23,
    "start_time": "2021-12-09T13:01:57.809Z"
   },
   {
    "duration": 96,
    "start_time": "2021-12-09T13:01:57.834Z"
   },
   {
    "duration": 288,
    "start_time": "2021-12-09T13:01:57.932Z"
   },
   {
    "duration": 453,
    "start_time": "2021-12-10T08:18:32.795Z"
   },
   {
    "duration": 230,
    "start_time": "2021-12-10T08:18:37.615Z"
   },
   {
    "duration": 447,
    "start_time": "2021-12-10T08:19:12.934Z"
   },
   {
    "duration": 708,
    "start_time": "2021-12-10T08:19:19.109Z"
   },
   {
    "duration": 22,
    "start_time": "2021-12-10T08:19:19.819Z"
   },
   {
    "duration": 184,
    "start_time": "2021-12-10T08:19:19.843Z"
   },
   {
    "duration": 60,
    "start_time": "2021-12-10T08:19:20.029Z"
   },
   {
    "duration": 34,
    "start_time": "2021-12-10T08:19:20.091Z"
   },
   {
    "duration": 112,
    "start_time": "2021-12-10T08:19:20.127Z"
   },
   {
    "duration": 315,
    "start_time": "2021-12-10T08:19:20.241Z"
   },
   {
    "duration": 297,
    "start_time": "2021-12-10T08:35:41.567Z"
   },
   {
    "duration": 8,
    "start_time": "2021-12-10T08:35:50.146Z"
   },
   {
    "duration": 7,
    "start_time": "2021-12-10T08:35:54.258Z"
   },
   {
    "duration": 4,
    "start_time": "2021-12-10T08:36:00.709Z"
   },
   {
    "duration": 4,
    "start_time": "2021-12-10T08:36:30.429Z"
   },
   {
    "duration": 78939,
    "start_time": "2021-12-10T08:38:17.056Z"
   },
   {
    "duration": 78965,
    "start_time": "2021-12-10T08:38:25.184Z"
   },
   {
    "duration": 718,
    "start_time": "2021-12-10T08:39:49.967Z"
   },
   {
    "duration": 28,
    "start_time": "2021-12-10T08:39:50.688Z"
   },
   {
    "duration": 190,
    "start_time": "2021-12-10T08:39:50.718Z"
   },
   {
    "duration": 11,
    "start_time": "2021-12-10T08:39:50.910Z"
   },
   {
    "duration": 84,
    "start_time": "2021-12-10T08:39:50.923Z"
   },
   {
    "duration": 65,
    "start_time": "2021-12-10T08:39:51.008Z"
   },
   {
    "duration": 316,
    "start_time": "2021-12-10T08:39:51.075Z"
   },
   {
    "duration": 13,
    "start_time": "2021-12-10T08:39:51.393Z"
   },
   {
    "duration": 5937,
    "start_time": "2021-12-10T08:39:51.408Z"
   },
   {
    "duration": 6685,
    "start_time": "2021-12-10T08:40:06.107Z"
   },
   {
    "duration": 6,
    "start_time": "2021-12-10T08:40:22.766Z"
   },
   {
    "duration": 7,
    "start_time": "2021-12-10T08:42:32.900Z"
   },
   {
    "duration": 12,
    "start_time": "2021-12-10T08:42:36.787Z"
   },
   {
    "duration": 13,
    "start_time": "2021-12-10T08:52:37.459Z"
   },
   {
    "duration": 46,
    "start_time": "2021-12-10T08:52:42.228Z"
   },
   {
    "duration": 703,
    "start_time": "2021-12-10T10:33:52.417Z"
   },
   {
    "duration": 22,
    "start_time": "2021-12-10T10:33:53.122Z"
   },
   {
    "duration": 171,
    "start_time": "2021-12-10T10:33:53.146Z"
   },
   {
    "duration": 8,
    "start_time": "2021-12-10T10:33:53.319Z"
   },
   {
    "duration": 86,
    "start_time": "2021-12-10T10:33:53.329Z"
   },
   {
    "duration": 72,
    "start_time": "2021-12-10T10:33:53.417Z"
   },
   {
    "duration": 317,
    "start_time": "2021-12-10T10:33:53.491Z"
   },
   {
    "duration": 8,
    "start_time": "2021-12-10T10:33:53.810Z"
   },
   {
    "duration": 7054,
    "start_time": "2021-12-10T10:33:53.820Z"
   },
   {
    "duration": 7773,
    "start_time": "2021-12-10T10:35:08.284Z"
   },
   {
    "duration": 40,
    "start_time": "2021-12-10T10:35:29.764Z"
   },
   {
    "duration": 50,
    "start_time": "2021-12-10T10:35:44.276Z"
   },
   {
    "duration": 44,
    "start_time": "2021-12-10T10:36:13.225Z"
   },
   {
    "duration": 20,
    "start_time": "2021-12-10T10:53:59.265Z"
   },
   {
    "duration": 29,
    "start_time": "2021-12-10T10:54:04.931Z"
   },
   {
    "duration": 27,
    "start_time": "2021-12-10T10:59:07.785Z"
   },
   {
    "duration": 26,
    "start_time": "2021-12-10T10:59:14.025Z"
   },
   {
    "duration": 58,
    "start_time": "2021-12-10T11:03:02.298Z"
   },
   {
    "duration": 297,
    "start_time": "2021-12-11T12:55:13.229Z"
   },
   {
    "duration": 734,
    "start_time": "2021-12-11T12:55:36.036Z"
   },
   {
    "duration": 22,
    "start_time": "2021-12-11T12:55:36.772Z"
   },
   {
    "duration": 188,
    "start_time": "2021-12-11T12:55:36.796Z"
   },
   {
    "duration": 8,
    "start_time": "2021-12-11T12:55:36.986Z"
   },
   {
    "duration": 74,
    "start_time": "2021-12-11T12:55:36.995Z"
   },
   {
    "duration": 62,
    "start_time": "2021-12-11T12:55:37.071Z"
   },
   {
    "duration": 312,
    "start_time": "2021-12-11T12:55:37.135Z"
   },
   {
    "duration": 14,
    "start_time": "2021-12-11T12:55:37.449Z"
   },
   {
    "duration": 74,
    "start_time": "2021-12-11T12:55:37.464Z"
   },
   {
    "duration": 381,
    "start_time": "2021-12-11T12:55:37.539Z"
   },
   {
    "duration": 331,
    "start_time": "2021-12-11T12:56:01.751Z"
   },
   {
    "duration": 295,
    "start_time": "2021-12-11T12:56:11.870Z"
   },
   {
    "duration": 305,
    "start_time": "2021-12-11T12:56:26.471Z"
   },
   {
    "duration": 306,
    "start_time": "2021-12-11T12:56:32.790Z"
   },
   {
    "duration": 311,
    "start_time": "2021-12-11T12:57:15.710Z"
   },
   {
    "duration": 395,
    "start_time": "2021-12-11T12:57:29.070Z"
   },
   {
    "duration": 150,
    "start_time": "2021-12-11T12:57:55.779Z"
   },
   {
    "duration": 157,
    "start_time": "2021-12-11T12:58:00.271Z"
   },
   {
    "duration": 182,
    "start_time": "2021-12-11T12:58:09.640Z"
   },
   {
    "duration": 184,
    "start_time": "2021-12-11T13:03:30.500Z"
   },
   {
    "duration": 177,
    "start_time": "2021-12-11T13:03:47.912Z"
   },
   {
    "duration": 171,
    "start_time": "2021-12-11T13:03:51.838Z"
   },
   {
    "duration": 203,
    "start_time": "2021-12-11T13:16:46.297Z"
   },
   {
    "duration": 173,
    "start_time": "2021-12-11T13:16:57.998Z"
   },
   {
    "duration": 149,
    "start_time": "2021-12-11T13:17:20.357Z"
   },
   {
    "duration": 325,
    "start_time": "2021-12-11T13:17:27.318Z"
   },
   {
    "duration": 901,
    "start_time": "2021-12-11T13:17:30.542Z"
   },
   {
    "duration": 942,
    "start_time": "2021-12-11T13:17:44.037Z"
   },
   {
    "duration": 1028,
    "start_time": "2021-12-11T13:17:48.358Z"
   },
   {
    "duration": 1039,
    "start_time": "2021-12-11T13:17:54.077Z"
   },
   {
    "duration": 3,
    "start_time": "2021-12-11T13:18:34.106Z"
   },
   {
    "duration": 176,
    "start_time": "2021-12-11T13:18:36.181Z"
   },
   {
    "duration": 172,
    "start_time": "2021-12-11T13:20:04.347Z"
   },
   {
    "duration": 188,
    "start_time": "2021-12-11T13:20:10.917Z"
   },
   {
    "duration": 167,
    "start_time": "2021-12-11T13:20:15.637Z"
   },
   {
    "duration": 178,
    "start_time": "2021-12-11T13:20:46.908Z"
   },
   {
    "duration": 198,
    "start_time": "2021-12-11T13:20:55.238Z"
   },
   {
    "duration": 197,
    "start_time": "2021-12-11T13:21:01.078Z"
   },
   {
    "duration": 194,
    "start_time": "2021-12-11T13:21:06.558Z"
   },
   {
    "duration": 166,
    "start_time": "2021-12-11T13:21:10.598Z"
   },
   {
    "duration": 175,
    "start_time": "2021-12-11T13:21:16.438Z"
   },
   {
    "duration": 293,
    "start_time": "2021-12-11T13:21:24.038Z"
   },
   {
    "duration": 306,
    "start_time": "2021-12-11T13:21:33.278Z"
   },
   {
    "duration": 300,
    "start_time": "2021-12-11T13:21:41.397Z"
   },
   {
    "duration": 222,
    "start_time": "2021-12-11T13:21:45.038Z"
   },
   {
    "duration": 392,
    "start_time": "2021-12-11T13:21:51.837Z"
   },
   {
    "duration": 191,
    "start_time": "2021-12-11T13:21:57.958Z"
   },
   {
    "duration": 175,
    "start_time": "2021-12-11T13:22:07.158Z"
   },
   {
    "duration": 907,
    "start_time": "2021-12-11T13:22:43.078Z"
   },
   {
    "duration": 178,
    "start_time": "2021-12-11T13:22:45.278Z"
   },
   {
    "duration": 218,
    "start_time": "2021-12-11T13:49:42.443Z"
   },
   {
    "duration": 180,
    "start_time": "2021-12-11T13:49:49.310Z"
   },
   {
    "duration": 203,
    "start_time": "2021-12-11T13:50:03.064Z"
   },
   {
    "duration": 167,
    "start_time": "2021-12-11T13:50:12.709Z"
   },
   {
    "duration": 184,
    "start_time": "2021-12-11T13:50:17.489Z"
   },
   {
    "duration": 183,
    "start_time": "2021-12-11T13:50:42.100Z"
   },
   {
    "duration": 194,
    "start_time": "2021-12-11T13:50:46.069Z"
   },
   {
    "duration": 182,
    "start_time": "2021-12-11T13:51:18.019Z"
   },
   {
    "duration": 426,
    "start_time": "2021-12-11T13:51:28.040Z"
   },
   {
    "duration": 165,
    "start_time": "2021-12-11T13:51:32.040Z"
   },
   {
    "duration": 182,
    "start_time": "2021-12-11T14:02:35.597Z"
   },
   {
    "duration": 300,
    "start_time": "2021-12-11T14:02:40.418Z"
   },
   {
    "duration": 343,
    "start_time": "2021-12-11T14:03:25.998Z"
   },
   {
    "duration": 295,
    "start_time": "2021-12-11T14:03:37.738Z"
   },
   {
    "duration": 298,
    "start_time": "2021-12-11T14:04:16.258Z"
   },
   {
    "duration": 307,
    "start_time": "2021-12-11T14:05:16.199Z"
   },
   {
    "duration": 317,
    "start_time": "2021-12-11T14:05:24.978Z"
   },
   {
    "duration": 287,
    "start_time": "2021-12-11T14:05:35.638Z"
   },
   {
    "duration": 307,
    "start_time": "2021-12-11T14:05:57.578Z"
   },
   {
    "duration": 301,
    "start_time": "2021-12-11T14:06:05.047Z"
   },
   {
    "duration": 305,
    "start_time": "2021-12-11T14:06:29.350Z"
   },
   {
    "duration": 588,
    "start_time": "2021-12-11T14:06:45.890Z"
   },
   {
    "duration": 312,
    "start_time": "2021-12-11T14:07:07.299Z"
   },
   {
    "duration": 302,
    "start_time": "2021-12-11T14:07:37.870Z"
   },
   {
    "duration": 315,
    "start_time": "2021-12-11T14:10:08.569Z"
   },
   {
    "duration": 315,
    "start_time": "2021-12-11T14:10:12.150Z"
   },
   {
    "duration": 383,
    "start_time": "2021-12-12T08:02:28.148Z"
   },
   {
    "duration": 957,
    "start_time": "2021-12-12T08:02:34.156Z"
   },
   {
    "duration": 43,
    "start_time": "2021-12-12T08:02:35.116Z"
   },
   {
    "duration": 280,
    "start_time": "2021-12-12T08:02:35.165Z"
   },
   {
    "duration": 14,
    "start_time": "2021-12-12T08:02:35.449Z"
   },
   {
    "duration": 89,
    "start_time": "2021-12-12T08:02:35.466Z"
   },
   {
    "duration": 110,
    "start_time": "2021-12-12T08:02:35.559Z"
   },
   {
    "duration": 13,
    "start_time": "2021-12-12T08:02:35.672Z"
   },
   {
    "duration": 135,
    "start_time": "2021-12-12T08:02:35.688Z"
   },
   {
    "duration": 437,
    "start_time": "2021-12-12T08:02:35.825Z"
   },
   {
    "duration": 316,
    "start_time": "2021-12-12T08:02:36.265Z"
   },
   {
    "duration": 286,
    "start_time": "2021-12-12T08:02:36.584Z"
   },
   {
    "duration": 343,
    "start_time": "2021-12-12T08:02:36.873Z"
   },
   {
    "duration": 515,
    "start_time": "2021-12-12T08:02:37.219Z"
   },
   {
    "duration": 1472,
    "start_time": "2021-12-12T08:02:37.737Z"
   },
   {
    "duration": 397,
    "start_time": "2021-12-12T08:03:03.201Z"
   },
   {
    "duration": 282,
    "start_time": "2021-12-12T08:03:30.640Z"
   },
   {
    "duration": 260,
    "start_time": "2021-12-12T08:04:15.841Z"
   },
   {
    "duration": 339,
    "start_time": "2021-12-12T08:04:52.120Z"
   },
   {
    "duration": 1446,
    "start_time": "2021-12-12T08:04:56.001Z"
   },
   {
    "duration": 273,
    "start_time": "2021-12-12T08:12:28.260Z"
   },
   {
    "duration": 7,
    "start_time": "2021-12-12T08:12:32.200Z"
   },
   {
    "duration": 261,
    "start_time": "2021-12-12T08:12:50.801Z"
   },
   {
    "duration": 232,
    "start_time": "2021-12-12T08:13:06.450Z"
   },
   {
    "duration": 320,
    "start_time": "2021-12-12T08:13:25.641Z"
   },
   {
    "duration": 256,
    "start_time": "2021-12-12T08:13:48.752Z"
   },
   {
    "duration": 81444,
    "start_time": "2021-12-12T08:13:56.700Z"
   },
   {
    "duration": 188,
    "start_time": "2021-12-12T08:45:46.589Z"
   },
   {
    "duration": 260,
    "start_time": "2021-12-12T08:46:04.849Z"
   },
   {
    "duration": -458,
    "start_time": "2021-12-12T08:46:26.712Z"
   },
   {
    "duration": -451,
    "start_time": "2021-12-12T08:46:52.110Z"
   },
   {
    "duration": 1103,
    "start_time": "2021-12-12T08:49:58.286Z"
   },
   {
    "duration": 50,
    "start_time": "2021-12-12T08:49:59.392Z"
   },
   {
    "duration": 284,
    "start_time": "2021-12-12T08:49:59.446Z"
   },
   {
    "duration": 15,
    "start_time": "2021-12-12T08:49:59.733Z"
   },
   {
    "duration": 39,
    "start_time": "2021-12-12T08:49:59.750Z"
   },
   {
    "duration": 132,
    "start_time": "2021-12-12T08:49:59.791Z"
   },
   {
    "duration": 10,
    "start_time": "2021-12-12T08:49:59.926Z"
   },
   {
    "duration": 111,
    "start_time": "2021-12-12T08:49:59.940Z"
   },
   {
    "duration": 410,
    "start_time": "2021-12-12T08:50:00.054Z"
   },
   {
    "duration": 338,
    "start_time": "2021-12-12T08:50:00.467Z"
   },
   {
    "duration": 309,
    "start_time": "2021-12-12T08:50:00.808Z"
   },
   {
    "duration": 357,
    "start_time": "2021-12-12T08:50:01.123Z"
   },
   {
    "duration": 553,
    "start_time": "2021-12-12T08:50:01.483Z"
   },
   {
    "duration": -474,
    "start_time": "2021-12-12T08:50:14.677Z"
   },
   {
    "duration": 723,
    "start_time": "2021-12-12T08:50:19.716Z"
   },
   {
    "duration": 697,
    "start_time": "2021-12-12T08:51:17.028Z"
   },
   {
    "duration": 669,
    "start_time": "2021-12-12T08:52:17.967Z"
   },
   {
    "duration": 647,
    "start_time": "2021-12-12T08:52:40.787Z"
   },
   {
    "duration": 657,
    "start_time": "2021-12-12T08:52:55.968Z"
   },
   {
    "duration": 700,
    "start_time": "2021-12-12T08:53:13.348Z"
   },
   {
    "duration": 672,
    "start_time": "2021-12-12T08:53:44.453Z"
   },
   {
    "duration": 748,
    "start_time": "2021-12-12T08:54:30.307Z"
   },
   {
    "duration": 761,
    "start_time": "2021-12-12T08:54:46.347Z"
   },
   {
    "duration": 714,
    "start_time": "2021-12-12T08:54:49.047Z"
   },
   {
    "duration": 673,
    "start_time": "2021-12-12T08:54:52.187Z"
   },
   {
    "duration": 827,
    "start_time": "2021-12-12T09:00:33.127Z"
   },
   {
    "duration": 756,
    "start_time": "2021-12-12T09:00:41.407Z"
   },
   {
    "duration": 626,
    "start_time": "2021-12-12T09:01:01.607Z"
   },
   {
    "duration": 604,
    "start_time": "2021-12-12T09:01:05.208Z"
   },
   {
    "duration": 687,
    "start_time": "2021-12-12T09:01:10.227Z"
   },
   {
    "duration": 626,
    "start_time": "2021-12-12T09:01:29.122Z"
   },
   {
    "duration": 609,
    "start_time": "2021-12-12T09:01:32.675Z"
   },
   {
    "duration": 628,
    "start_time": "2021-12-12T09:01:36.023Z"
   },
   {
    "duration": 774,
    "start_time": "2021-12-12T09:01:41.727Z"
   },
   {
    "duration": 717,
    "start_time": "2021-12-12T09:05:03.608Z"
   },
   {
    "duration": 650,
    "start_time": "2021-12-12T09:09:44.688Z"
   },
   {
    "duration": 323,
    "start_time": "2021-12-12T09:11:14.748Z"
   },
   {
    "duration": 788,
    "start_time": "2021-12-12T09:11:23.248Z"
   },
   {
    "duration": 698,
    "start_time": "2021-12-12T09:11:27.843Z"
   },
   {
    "duration": 680,
    "start_time": "2021-12-12T09:11:36.143Z"
   },
   {
    "duration": 562,
    "start_time": "2021-12-12T09:13:01.149Z"
   },
   {
    "duration": 711,
    "start_time": "2021-12-12T09:13:21.328Z"
   },
   {
    "duration": 558,
    "start_time": "2021-12-12T09:15:07.876Z"
   },
   {
    "duration": 512,
    "start_time": "2021-12-12T09:15:36.528Z"
   },
   {
    "duration": 4721,
    "start_time": "2021-12-12T09:15:55.030Z"
   },
   {
    "duration": 1203,
    "start_time": "2021-12-12T09:16:35.227Z"
   },
   {
    "duration": 1371,
    "start_time": "2021-12-12T09:17:11.628Z"
   },
   {
    "duration": 815,
    "start_time": "2021-12-12T09:17:16.028Z"
   },
   {
    "duration": 797,
    "start_time": "2021-12-12T09:17:25.788Z"
   },
   {
    "duration": 754,
    "start_time": "2021-12-12T09:17:45.009Z"
   },
   {
    "duration": 802,
    "start_time": "2021-12-12T09:18:03.304Z"
   },
   {
    "duration": 791,
    "start_time": "2021-12-12T09:18:42.110Z"
   },
   {
    "duration": 1408,
    "start_time": "2021-12-12T09:19:36.562Z"
   },
   {
    "duration": 537,
    "start_time": "2021-12-12T09:20:06.042Z"
   },
   {
    "duration": 372,
    "start_time": "2021-12-12T09:20:13.022Z"
   },
   {
    "duration": 577,
    "start_time": "2021-12-12T09:20:30.962Z"
   },
   {
    "duration": 316,
    "start_time": "2021-12-12T09:34:16.921Z"
   },
   {
    "duration": 404,
    "start_time": "2021-12-12T09:34:21.242Z"
   },
   {
    "duration": 264,
    "start_time": "2021-12-12T09:34:56.282Z"
   },
   {
    "duration": 281,
    "start_time": "2021-12-12T09:35:19.221Z"
   },
   {
    "duration": 565,
    "start_time": "2021-12-12T09:36:11.522Z"
   },
   {
    "duration": 725,
    "start_time": "2021-12-12T09:36:36.444Z"
   },
   {
    "duration": 555,
    "start_time": "2021-12-12T09:36:48.165Z"
   },
   {
    "duration": 9,
    "start_time": "2021-12-12T09:37:27.225Z"
   },
   {
    "duration": 219,
    "start_time": "2021-12-12T09:37:31.865Z"
   },
   {
    "duration": 287,
    "start_time": "2021-12-12T09:57:18.159Z"
   },
   {
    "duration": 217,
    "start_time": "2021-12-12T09:57:28.639Z"
   },
   {
    "duration": 567,
    "start_time": "2021-12-12T09:58:14.206Z"
   },
   {
    "duration": 377,
    "start_time": "2021-12-12T09:59:04.837Z"
   },
   {
    "duration": 292,
    "start_time": "2021-12-12T09:59:13.886Z"
   },
   {
    "duration": 7,
    "start_time": "2021-12-12T09:59:25.906Z"
   },
   {
    "duration": 220,
    "start_time": "2021-12-12T10:00:25.176Z"
   },
   {
    "duration": 268,
    "start_time": "2021-12-12T10:00:28.754Z"
   },
   {
    "duration": 217,
    "start_time": "2021-12-12T10:00:32.277Z"
   },
   {
    "duration": 220,
    "start_time": "2021-12-12T10:00:42.506Z"
   },
   {
    "duration": 236,
    "start_time": "2021-12-12T10:01:21.476Z"
   },
   {
    "duration": 487,
    "start_time": "2021-12-12T10:02:03.586Z"
   },
   {
    "duration": 494,
    "start_time": "2021-12-12T10:02:12.687Z"
   },
   {
    "duration": 358,
    "start_time": "2021-12-12T10:02:30.596Z"
   },
   {
    "duration": 254,
    "start_time": "2021-12-12T10:02:31.376Z"
   },
   {
    "duration": 222,
    "start_time": "2021-12-12T10:02:42.886Z"
   },
   {
    "duration": 315,
    "start_time": "2021-12-12T10:04:36.166Z"
   },
   {
    "duration": 315,
    "start_time": "2021-12-12T10:06:02.646Z"
   },
   {
    "duration": 861,
    "start_time": "2021-12-12T10:06:08.068Z"
   },
   {
    "duration": 37,
    "start_time": "2021-12-12T10:06:08.931Z"
   },
   {
    "duration": 260,
    "start_time": "2021-12-12T10:06:08.971Z"
   },
   {
    "duration": 13,
    "start_time": "2021-12-12T10:06:09.233Z"
   },
   {
    "duration": 36,
    "start_time": "2021-12-12T10:06:09.249Z"
   },
   {
    "duration": 148,
    "start_time": "2021-12-12T10:06:09.287Z"
   },
   {
    "duration": 12,
    "start_time": "2021-12-12T10:06:09.437Z"
   },
   {
    "duration": 120,
    "start_time": "2021-12-12T10:06:09.452Z"
   },
   {
    "duration": 438,
    "start_time": "2021-12-12T10:06:09.574Z"
   },
   {
    "duration": 343,
    "start_time": "2021-12-12T10:06:10.014Z"
   },
   {
    "duration": 306,
    "start_time": "2021-12-12T10:06:10.359Z"
   },
   {
    "duration": 360,
    "start_time": "2021-12-12T10:06:10.668Z"
   },
   {
    "duration": 559,
    "start_time": "2021-12-12T10:06:11.031Z"
   },
   {
    "duration": 774,
    "start_time": "2021-12-12T10:06:11.592Z"
   },
   {
    "duration": 696,
    "start_time": "2021-12-12T10:06:12.368Z"
   },
   {
    "duration": 740,
    "start_time": "2021-12-12T10:06:13.067Z"
   },
   {
    "duration": 928,
    "start_time": "2021-12-12T10:06:46.892Z"
   },
   {
    "duration": 39,
    "start_time": "2021-12-12T10:06:47.822Z"
   },
   {
    "duration": 276,
    "start_time": "2021-12-12T10:06:47.864Z"
   },
   {
    "duration": 13,
    "start_time": "2021-12-12T10:06:48.142Z"
   },
   {
    "duration": 76,
    "start_time": "2021-12-12T10:06:48.157Z"
   },
   {
    "duration": 101,
    "start_time": "2021-12-12T10:06:48.235Z"
   },
   {
    "duration": 11,
    "start_time": "2021-12-12T10:06:48.339Z"
   },
   {
    "duration": 131,
    "start_time": "2021-12-12T10:06:48.352Z"
   },
   {
    "duration": 442,
    "start_time": "2021-12-12T10:06:48.488Z"
   },
   {
    "duration": 451,
    "start_time": "2021-12-12T10:06:48.933Z"
   },
   {
    "duration": 361,
    "start_time": "2021-12-12T10:06:49.386Z"
   },
   {
    "duration": 393,
    "start_time": "2021-12-12T10:06:49.750Z"
   },
   {
    "duration": 633,
    "start_time": "2021-12-12T10:06:50.146Z"
   },
   {
    "duration": 719,
    "start_time": "2021-12-12T10:06:50.781Z"
   },
   {
    "duration": 706,
    "start_time": "2021-12-12T10:06:51.502Z"
   },
   {
    "duration": 723,
    "start_time": "2021-12-12T10:06:52.210Z"
   },
   {
    "duration": 971,
    "start_time": "2021-12-12T10:08:45.696Z"
   },
   {
    "duration": 56,
    "start_time": "2021-12-12T10:08:46.670Z"
   },
   {
    "duration": 294,
    "start_time": "2021-12-12T10:08:46.729Z"
   },
   {
    "duration": 13,
    "start_time": "2021-12-12T10:08:47.027Z"
   },
   {
    "duration": 58,
    "start_time": "2021-12-12T10:08:47.044Z"
   },
   {
    "duration": 149,
    "start_time": "2021-12-12T10:08:47.125Z"
   },
   {
    "duration": 12,
    "start_time": "2021-12-12T10:08:47.277Z"
   },
   {
    "duration": 127,
    "start_time": "2021-12-12T10:08:47.292Z"
   },
   {
    "duration": 458,
    "start_time": "2021-12-12T10:08:47.422Z"
   },
   {
    "duration": 349,
    "start_time": "2021-12-12T10:08:47.883Z"
   },
   {
    "duration": 304,
    "start_time": "2021-12-12T10:08:48.234Z"
   },
   {
    "duration": 376,
    "start_time": "2021-12-12T10:08:48.541Z"
   },
   {
    "duration": 592,
    "start_time": "2021-12-12T10:08:48.919Z"
   },
   {
    "duration": 835,
    "start_time": "2021-12-12T10:08:49.514Z"
   },
   {
    "duration": 738,
    "start_time": "2021-12-12T10:08:50.352Z"
   },
   {
    "duration": 799,
    "start_time": "2021-12-12T10:08:51.093Z"
   },
   {
    "duration": 3,
    "start_time": "2021-12-12T10:08:51.895Z"
   },
   {
    "duration": 741,
    "start_time": "2021-12-12T10:08:53.551Z"
   },
   {
    "duration": 359,
    "start_time": "2021-12-12T10:08:57.885Z"
   },
   {
    "duration": 282,
    "start_time": "2021-12-12T10:09:56.101Z"
   },
   {
    "duration": 1166,
    "start_time": "2021-12-12T10:12:43.229Z"
   },
   {
    "duration": 73,
    "start_time": "2021-12-12T10:12:44.399Z"
   },
   {
    "duration": 287,
    "start_time": "2021-12-12T10:12:44.476Z"
   },
   {
    "duration": 67,
    "start_time": "2021-12-12T10:12:44.766Z"
   },
   {
    "duration": 62,
    "start_time": "2021-12-12T10:12:44.835Z"
   },
   {
    "duration": 113,
    "start_time": "2021-12-12T10:12:44.900Z"
   },
   {
    "duration": 13,
    "start_time": "2021-12-12T10:12:45.024Z"
   },
   {
    "duration": 151,
    "start_time": "2021-12-12T10:12:45.040Z"
   },
   {
    "duration": 549,
    "start_time": "2021-12-12T10:12:45.196Z"
   },
   {
    "duration": 394,
    "start_time": "2021-12-12T10:12:45.748Z"
   },
   {
    "duration": 364,
    "start_time": "2021-12-12T10:12:46.145Z"
   },
   {
    "duration": 415,
    "start_time": "2021-12-12T10:12:46.512Z"
   },
   {
    "duration": 694,
    "start_time": "2021-12-12T10:12:46.931Z"
   },
   {
    "duration": 801,
    "start_time": "2021-12-12T10:12:47.628Z"
   },
   {
    "duration": 756,
    "start_time": "2021-12-12T10:12:48.432Z"
   },
   {
    "duration": 751,
    "start_time": "2021-12-12T10:12:49.190Z"
   },
   {
    "duration": 231,
    "start_time": "2021-12-12T10:12:50.210Z"
   },
   {
    "duration": 226,
    "start_time": "2021-12-12T10:13:16.784Z"
   },
   {
    "duration": 253,
    "start_time": "2021-12-12T10:13:36.944Z"
   },
   {
    "duration": 259,
    "start_time": "2021-12-12T10:13:49.514Z"
   },
   {
    "duration": 293,
    "start_time": "2021-12-12T10:14:01.675Z"
   },
   {
    "duration": 237,
    "start_time": "2021-12-12T10:14:05.774Z"
   },
   {
    "duration": 225,
    "start_time": "2021-12-12T10:14:14.224Z"
   },
   {
    "duration": 221,
    "start_time": "2021-12-12T10:14:59.704Z"
   },
   {
    "duration": 225,
    "start_time": "2021-12-12T10:15:18.636Z"
   },
   {
    "duration": 231,
    "start_time": "2021-12-12T10:15:59.594Z"
   },
   {
    "duration": 344,
    "start_time": "2021-12-12T10:34:33.044Z"
   },
   {
    "duration": 927,
    "start_time": "2021-12-12T10:35:32.645Z"
   },
   {
    "duration": 659,
    "start_time": "2021-12-12T10:36:08.644Z"
   },
   {
    "duration": 614,
    "start_time": "2021-12-12T10:36:20.484Z"
   },
   {
    "duration": 657,
    "start_time": "2021-12-12T10:36:25.444Z"
   },
   {
    "duration": 690,
    "start_time": "2021-12-12T10:38:54.253Z"
   },
   {
    "duration": 271,
    "start_time": "2021-12-12T10:39:38.965Z"
   },
   {
    "duration": 783,
    "start_time": "2021-12-12T10:39:59.365Z"
   },
   {
    "duration": 271,
    "start_time": "2021-12-12T10:41:03.084Z"
   },
   {
    "duration": 263,
    "start_time": "2021-12-12T10:41:16.484Z"
   },
   {
    "duration": 259,
    "start_time": "2021-12-12T10:41:38.293Z"
   },
   {
    "duration": 212,
    "start_time": "2021-12-12T10:41:59.164Z"
   },
   {
    "duration": 340,
    "start_time": "2021-12-12T10:42:24.005Z"
   },
   {
    "duration": 223,
    "start_time": "2021-12-12T10:42:26.884Z"
   },
   {
    "duration": 223,
    "start_time": "2021-12-12T10:42:31.804Z"
   },
   {
    "duration": 220,
    "start_time": "2021-12-12T10:42:38.773Z"
   },
   {
    "duration": 217,
    "start_time": "2021-12-12T10:42:56.244Z"
   },
   {
    "duration": 263,
    "start_time": "2021-12-12T10:43:20.164Z"
   },
   {
    "duration": 279,
    "start_time": "2021-12-12T10:45:30.373Z"
   },
   {
    "duration": 84,
    "start_time": "2021-12-12T10:45:33.644Z"
   },
   {
    "duration": 265,
    "start_time": "2021-12-12T10:45:35.684Z"
   },
   {
    "duration": 278,
    "start_time": "2021-12-12T10:45:43.964Z"
   },
   {
    "duration": 276,
    "start_time": "2021-12-12T10:45:46.885Z"
   },
   {
    "duration": 274,
    "start_time": "2021-12-12T10:46:37.724Z"
   },
   {
    "duration": 265,
    "start_time": "2021-12-12T10:47:32.627Z"
   },
   {
    "duration": 342,
    "start_time": "2021-12-12T10:51:37.148Z"
   },
   {
    "duration": 260,
    "start_time": "2021-12-12T10:51:55.507Z"
   },
   {
    "duration": 276,
    "start_time": "2021-12-12T10:53:04.868Z"
   },
   {
    "duration": 1473,
    "start_time": "2021-12-12T10:55:31.010Z"
   },
   {
    "duration": 91,
    "start_time": "2021-12-12T10:55:40.947Z"
   },
   {
    "duration": 261,
    "start_time": "2021-12-12T10:55:44.147Z"
   },
   {
    "duration": 89,
    "start_time": "2021-12-12T10:55:59.087Z"
   },
   {
    "duration": 763,
    "start_time": "2021-12-12T10:56:10.507Z"
   },
   {
    "duration": 414,
    "start_time": "2021-12-12T10:56:15.288Z"
   },
   {
    "duration": 283,
    "start_time": "2021-12-12T10:56:30.555Z"
   },
   {
    "duration": 266,
    "start_time": "2021-12-12T10:57:55.307Z"
   },
   {
    "duration": 281,
    "start_time": "2021-12-12T10:58:11.908Z"
   },
   {
    "duration": 690,
    "start_time": "2021-12-12T10:58:25.247Z"
   },
   {
    "duration": 284,
    "start_time": "2021-12-12T10:58:45.709Z"
   },
   {
    "duration": 807,
    "start_time": "2021-12-12T10:58:54.747Z"
   },
   {
    "duration": 238,
    "start_time": "2021-12-12T10:59:08.928Z"
   },
   {
    "duration": 280,
    "start_time": "2021-12-12T10:59:13.667Z"
   },
   {
    "duration": 262,
    "start_time": "2021-12-12T10:59:17.267Z"
   },
   {
    "duration": 287,
    "start_time": "2021-12-12T10:59:24.968Z"
   },
   {
    "duration": 707,
    "start_time": "2021-12-12T11:02:51.088Z"
   },
   {
    "duration": 279,
    "start_time": "2021-12-12T11:02:55.947Z"
   },
   {
    "duration": 338,
    "start_time": "2021-12-12T11:03:04.117Z"
   },
   {
    "duration": 251,
    "start_time": "2021-12-12T11:04:25.308Z"
   },
   {
    "duration": 417,
    "start_time": "2021-12-13T08:13:22.148Z"
   },
   {
    "duration": 941,
    "start_time": "2021-12-13T08:13:32.982Z"
   },
   {
    "duration": 46,
    "start_time": "2021-12-13T08:13:33.926Z"
   },
   {
    "duration": 220,
    "start_time": "2021-12-13T08:13:33.975Z"
   },
   {
    "duration": 63,
    "start_time": "2021-12-13T08:13:34.198Z"
   },
   {
    "duration": 36,
    "start_time": "2021-12-13T08:13:34.264Z"
   },
   {
    "duration": 124,
    "start_time": "2021-12-13T08:13:34.303Z"
   },
   {
    "duration": 28,
    "start_time": "2021-12-13T08:13:34.432Z"
   },
   {
    "duration": 104,
    "start_time": "2021-12-13T08:13:34.463Z"
   },
   {
    "duration": 433,
    "start_time": "2021-12-13T08:13:34.569Z"
   },
   {
    "duration": 361,
    "start_time": "2021-12-13T08:13:35.005Z"
   },
   {
    "duration": 303,
    "start_time": "2021-12-13T08:13:35.369Z"
   },
   {
    "duration": 369,
    "start_time": "2021-12-13T08:13:35.675Z"
   },
   {
    "duration": 525,
    "start_time": "2021-12-13T08:13:36.048Z"
   },
   {
    "duration": 892,
    "start_time": "2021-12-13T08:13:36.575Z"
   },
   {
    "duration": 730,
    "start_time": "2021-12-13T08:13:37.470Z"
   },
   {
    "duration": 706,
    "start_time": "2021-12-13T08:13:38.202Z"
   },
   {
    "duration": 234,
    "start_time": "2021-12-13T08:13:38.911Z"
   },
   {
    "duration": 223,
    "start_time": "2021-12-13T08:13:39.147Z"
   },
   {
    "duration": 235,
    "start_time": "2021-12-13T08:13:39.372Z"
   },
   {
    "duration": 293,
    "start_time": "2021-12-13T08:13:39.609Z"
   },
   {
    "duration": 262,
    "start_time": "2021-12-13T08:13:39.904Z"
   },
   {
    "duration": 26,
    "start_time": "2021-12-13T08:13:40.169Z"
   },
   {
    "duration": 23,
    "start_time": "2021-12-13T08:13:46.628Z"
   },
   {
    "duration": 28,
    "start_time": "2021-12-13T08:13:55.900Z"
   },
   {
    "duration": 24,
    "start_time": "2021-12-13T08:16:45.740Z"
   },
   {
    "duration": 26,
    "start_time": "2021-12-13T08:16:48.812Z"
   },
   {
    "duration": 25,
    "start_time": "2021-12-13T08:16:58.882Z"
   },
   {
    "duration": 27,
    "start_time": "2021-12-13T08:17:07.553Z"
   },
   {
    "duration": 338,
    "start_time": "2021-12-13T10:32:21.651Z"
   },
   {
    "duration": 1581,
    "start_time": "2021-12-13T10:32:29.713Z"
   },
   {
    "duration": 41,
    "start_time": "2021-12-13T10:32:31.296Z"
   },
   {
    "duration": 265,
    "start_time": "2021-12-13T10:32:31.340Z"
   },
   {
    "duration": 60,
    "start_time": "2021-12-13T10:32:31.608Z"
   },
   {
    "duration": 38,
    "start_time": "2021-12-13T10:32:31.671Z"
   },
   {
    "duration": 141,
    "start_time": "2021-12-13T10:32:31.711Z"
   },
   {
    "duration": 21,
    "start_time": "2021-12-13T10:32:31.854Z"
   },
   {
    "duration": 133,
    "start_time": "2021-12-13T10:32:31.879Z"
   },
   {
    "duration": 463,
    "start_time": "2021-12-13T10:32:32.015Z"
   },
   {
    "duration": 376,
    "start_time": "2021-12-13T10:32:32.480Z"
   },
   {
    "duration": 327,
    "start_time": "2021-12-13T10:32:32.867Z"
   },
   {
    "duration": 373,
    "start_time": "2021-12-13T10:32:33.196Z"
   },
   {
    "duration": 558,
    "start_time": "2021-12-13T10:32:33.572Z"
   },
   {
    "duration": 801,
    "start_time": "2021-12-13T10:32:34.132Z"
   },
   {
    "duration": 770,
    "start_time": "2021-12-13T10:32:34.936Z"
   },
   {
    "duration": 754,
    "start_time": "2021-12-13T10:32:35.708Z"
   },
   {
    "duration": 261,
    "start_time": "2021-12-13T10:32:36.467Z"
   },
   {
    "duration": 258,
    "start_time": "2021-12-13T10:32:36.730Z"
   },
   {
    "duration": 289,
    "start_time": "2021-12-13T10:32:36.990Z"
   },
   {
    "duration": 311,
    "start_time": "2021-12-13T10:32:37.282Z"
   },
   {
    "duration": 397,
    "start_time": "2021-12-13T10:32:37.596Z"
   },
   {
    "duration": 920,
    "start_time": "2021-12-13T10:32:37.996Z"
   },
   {
    "duration": 33,
    "start_time": "2021-12-13T10:32:57.283Z"
   },
   {
    "duration": 130,
    "start_time": "2021-12-13T10:38:13.327Z"
   },
   {
    "duration": 84642,
    "start_time": "2021-12-13T10:37:03.218Z"
   },
   {
    "duration": 7041,
    "start_time": "2021-12-13T10:38:29.267Z"
   },
   {
    "duration": 35,
    "start_time": "2021-12-13T10:38:48.495Z"
   },
   {
    "duration": 50,
    "start_time": "2021-12-13T10:39:14.917Z"
   },
   {
    "duration": 46,
    "start_time": "2021-12-13T10:40:41.746Z"
   },
   {
    "duration": 32,
    "start_time": "2021-12-13T10:40:44.592Z"
   },
   {
    "duration": 1184,
    "start_time": "2021-12-13T10:41:22.355Z"
   },
   {
    "duration": 308,
    "start_time": "2021-12-13T10:42:24.952Z"
   },
   {
    "duration": 43,
    "start_time": "2021-12-13T10:42:58.796Z"
   },
   {
    "duration": 41,
    "start_time": "2021-12-13T10:45:04.131Z"
   },
   {
    "duration": 40,
    "start_time": "2021-12-13T10:45:38.053Z"
   },
   {
    "duration": 69,
    "start_time": "2021-12-13T10:45:52.303Z"
   },
   {
    "duration": 45,
    "start_time": "2021-12-13T10:46:49.655Z"
   },
   {
    "duration": 47,
    "start_time": "2021-12-13T10:47:05.688Z"
   },
   {
    "duration": 360,
    "start_time": "2021-12-13T10:47:21.993Z"
   },
   {
    "duration": 55,
    "start_time": "2021-12-13T10:47:25.465Z"
   },
   {
    "duration": 46,
    "start_time": "2021-12-13T10:47:57.225Z"
   },
   {
    "duration": 355,
    "start_time": "2021-12-13T10:48:06.729Z"
   },
   {
    "duration": 318,
    "start_time": "2021-12-13T10:48:15.855Z"
   },
   {
    "duration": 366,
    "start_time": "2021-12-13T10:48:22.387Z"
   },
   {
    "duration": 84473,
    "start_time": "2021-12-13T10:47:17.839Z"
   },
   {
    "duration": 44,
    "start_time": "2021-12-13T10:48:46.455Z"
   },
   {
    "duration": 44,
    "start_time": "2021-12-13T10:49:06.632Z"
   },
   {
    "duration": 45,
    "start_time": "2021-12-13T10:49:20.509Z"
   },
   {
    "duration": 94,
    "start_time": "2021-12-13T10:49:42.742Z"
   },
   {
    "duration": 125,
    "start_time": "2021-12-13T10:49:50.106Z"
   },
   {
    "duration": 39,
    "start_time": "2021-12-13T10:50:12.786Z"
   },
   {
    "duration": 65,
    "start_time": "2021-12-13T10:59:13.166Z"
   },
   {
    "duration": 45,
    "start_time": "2021-12-13T10:59:27.073Z"
   },
   {
    "duration": 40,
    "start_time": "2021-12-13T11:01:45.894Z"
   },
   {
    "duration": 42,
    "start_time": "2021-12-13T11:01:53.715Z"
   },
   {
    "duration": 12,
    "start_time": "2021-12-13T11:04:52.755Z"
   },
   {
    "duration": 58,
    "start_time": "2021-12-13T11:04:56.225Z"
   },
   {
    "duration": 14,
    "start_time": "2021-12-13T11:05:09.595Z"
   },
   {
    "duration": 60,
    "start_time": "2021-12-13T11:05:13.393Z"
   },
   {
    "duration": 63,
    "start_time": "2021-12-13T11:05:47.045Z"
   },
   {
    "duration": 40,
    "start_time": "2021-12-13T11:06:01.303Z"
   },
   {
    "duration": 62,
    "start_time": "2021-12-13T11:06:20.935Z"
   },
   {
    "duration": 17,
    "start_time": "2021-12-13T11:10:05.434Z"
   },
   {
    "duration": 363,
    "start_time": "2021-12-13T11:10:20.095Z"
   },
   {
    "duration": 714,
    "start_time": "2021-12-13T11:10:32.422Z"
   },
   {
    "duration": 312,
    "start_time": "2021-12-13T11:21:41.045Z"
   },
   {
    "duration": 20,
    "start_time": "2021-12-13T11:22:24.355Z"
   },
   {
    "duration": 16,
    "start_time": "2021-12-13T11:22:30.554Z"
   },
   {
    "duration": 12,
    "start_time": "2021-12-13T11:23:02.898Z"
   },
   {
    "duration": 953,
    "start_time": "2021-12-13T11:23:18.612Z"
   },
   {
    "duration": 50,
    "start_time": "2021-12-13T11:23:19.568Z"
   },
   {
    "duration": 286,
    "start_time": "2021-12-13T11:23:19.622Z"
   },
   {
    "duration": 61,
    "start_time": "2021-12-13T11:23:19.911Z"
   },
   {
    "duration": 49,
    "start_time": "2021-12-13T11:23:19.974Z"
   },
   {
    "duration": 126,
    "start_time": "2021-12-13T11:23:20.025Z"
   },
   {
    "duration": 22,
    "start_time": "2021-12-13T11:23:20.154Z"
   },
   {
    "duration": 142,
    "start_time": "2021-12-13T11:23:20.179Z"
   },
   {
    "duration": 464,
    "start_time": "2021-12-13T11:23:20.327Z"
   },
   {
    "duration": 363,
    "start_time": "2021-12-13T11:23:20.794Z"
   },
   {
    "duration": 325,
    "start_time": "2021-12-13T11:23:21.167Z"
   },
   {
    "duration": 491,
    "start_time": "2021-12-13T11:23:21.494Z"
   },
   {
    "duration": 592,
    "start_time": "2021-12-13T11:23:21.988Z"
   },
   {
    "duration": 758,
    "start_time": "2021-12-13T11:23:22.583Z"
   },
   {
    "duration": 805,
    "start_time": "2021-12-13T11:23:23.345Z"
   },
   {
    "duration": 780,
    "start_time": "2021-12-13T11:23:24.153Z"
   },
   {
    "duration": 285,
    "start_time": "2021-12-13T11:23:24.936Z"
   },
   {
    "duration": 331,
    "start_time": "2021-12-13T11:23:25.223Z"
   },
   {
    "duration": 376,
    "start_time": "2021-12-13T11:23:25.557Z"
   },
   {
    "duration": 442,
    "start_time": "2021-12-13T11:23:25.936Z"
   },
   {
    "duration": 290,
    "start_time": "2021-12-13T11:23:26.381Z"
   },
   {
    "duration": 44,
    "start_time": "2021-12-13T11:23:26.674Z"
   },
   {
    "duration": 121,
    "start_time": "2021-12-13T11:23:26.722Z"
   },
   {
    "duration": 24,
    "start_time": "2021-12-13T11:23:32.254Z"
   },
   {
    "duration": 14,
    "start_time": "2021-12-13T11:25:25.355Z"
   },
   {
    "duration": 14,
    "start_time": "2021-12-13T11:25:28.255Z"
   },
   {
    "duration": 763,
    "start_time": "2021-12-13T11:26:12.795Z"
   },
   {
    "duration": 111,
    "start_time": "2021-12-13T11:26:19.105Z"
   },
   {
    "duration": 12,
    "start_time": "2021-12-13T11:31:33.114Z"
   },
   {
    "duration": 64,
    "start_time": "2021-12-13T11:31:37.474Z"
   },
   {
    "duration": 68,
    "start_time": "2021-12-13T11:31:59.023Z"
   },
   {
    "duration": 244,
    "start_time": "2021-12-13T12:32:44.634Z"
   },
   {
    "duration": 675,
    "start_time": "2021-12-13T12:34:30.707Z"
   },
   {
    "duration": 403,
    "start_time": "2021-12-13T12:36:28.595Z"
   },
   {
    "duration": 645,
    "start_time": "2021-12-13T12:36:48.314Z"
   },
   {
    "duration": 188,
    "start_time": "2021-12-13T12:38:59.735Z"
   },
   {
    "duration": 129,
    "start_time": "2021-12-13T12:45:12.514Z"
   },
   {
    "duration": 91,
    "start_time": "2021-12-13T12:45:52.924Z"
   },
   {
    "duration": 711,
    "start_time": "2021-12-13T12:46:02.742Z"
   },
   {
    "duration": 781,
    "start_time": "2021-12-13T12:46:14.622Z"
   },
   {
    "duration": 11,
    "start_time": "2021-12-13T12:51:43.695Z"
   },
   {
    "duration": 73,
    "start_time": "2021-12-13T12:51:47.244Z"
   },
   {
    "duration": 479,
    "start_time": "2021-12-13T12:55:09.152Z"
   },
   {
    "duration": 1397,
    "start_time": "2021-12-13T12:57:00.707Z"
   },
   {
    "duration": 1719,
    "start_time": "2021-12-13T12:57:12.830Z"
   },
   {
    "duration": 1441,
    "start_time": "2021-12-13T13:06:50.964Z"
   },
   {
    "duration": 1915,
    "start_time": "2021-12-13T13:06:57.364Z"
   },
   {
    "duration": 2175,
    "start_time": "2021-12-13T13:07:07.803Z"
   },
   {
    "duration": 1563,
    "start_time": "2021-12-13T13:07:19.884Z"
   },
   {
    "duration": 297,
    "start_time": "2021-12-13T13:13:25.575Z"
   },
   {
    "duration": 530,
    "start_time": "2021-12-13T13:13:30.394Z"
   },
   {
    "duration": 273,
    "start_time": "2021-12-13T13:13:35.134Z"
   },
   {
    "duration": 687,
    "start_time": "2021-12-13T13:13:39.419Z"
   },
   {
    "duration": 741,
    "start_time": "2021-12-13T13:13:46.452Z"
   },
   {
    "duration": 8283,
    "start_time": "2021-12-13T13:14:03.495Z"
   },
   {
    "duration": 285,
    "start_time": "2021-12-13T13:14:15.374Z"
   },
   {
    "duration": 422,
    "start_time": "2021-12-13T13:14:24.974Z"
   },
   {
    "duration": 778,
    "start_time": "2021-12-13T13:14:34.642Z"
   },
   {
    "duration": 42,
    "start_time": "2021-12-13T13:14:57.175Z"
   },
   {
    "duration": 360,
    "start_time": "2021-12-13T13:15:36.493Z"
   },
   {
    "duration": 681,
    "start_time": "2021-12-13T13:15:48.694Z"
   },
   {
    "duration": 418,
    "start_time": "2021-12-13T13:15:53.954Z"
   },
   {
    "duration": 476,
    "start_time": "2021-12-13T13:16:05.544Z"
   },
   {
    "duration": 552,
    "start_time": "2021-12-13T13:19:14.775Z"
   },
   {
    "duration": 816,
    "start_time": "2021-12-13T13:23:24.374Z"
   },
   {
    "duration": 738,
    "start_time": "2021-12-13T13:23:36.204Z"
   },
   {
    "duration": 513,
    "start_time": "2021-12-13T13:23:45.934Z"
   },
   {
    "duration": 1007,
    "start_time": "2021-12-13T13:23:52.574Z"
   },
   {
    "duration": 509,
    "start_time": "2021-12-13T13:24:00.094Z"
   },
   {
    "duration": 273,
    "start_time": "2021-12-13T13:24:23.144Z"
   },
   {
    "duration": 778,
    "start_time": "2021-12-13T13:25:15.114Z"
   },
   {
    "duration": 6,
    "start_time": "2021-12-13T13:25:51.122Z"
   },
   {
    "duration": 782,
    "start_time": "2021-12-13T13:26:00.994Z"
   },
   {
    "duration": 413,
    "start_time": "2021-12-13T16:35:22.293Z"
   },
   {
    "duration": 407,
    "start_time": "2021-12-13T16:35:30.462Z"
   },
   {
    "duration": 824,
    "start_time": "2021-12-13T16:35:41.637Z"
   },
   {
    "duration": 43,
    "start_time": "2021-12-13T16:35:42.463Z"
   },
   {
    "duration": 207,
    "start_time": "2021-12-13T16:35:42.509Z"
   },
   {
    "duration": 13,
    "start_time": "2021-12-13T16:35:42.719Z"
   },
   {
    "duration": 39,
    "start_time": "2021-12-13T16:35:42.735Z"
   },
   {
    "duration": 138,
    "start_time": "2021-12-13T16:35:42.777Z"
   },
   {
    "duration": 13,
    "start_time": "2021-12-13T16:35:42.918Z"
   },
   {
    "duration": 128,
    "start_time": "2021-12-13T16:35:42.934Z"
   },
   {
    "duration": 293,
    "start_time": "2021-12-13T16:35:43.065Z"
   },
   {
    "duration": 225,
    "start_time": "2021-12-13T16:35:43.360Z"
   },
   {
    "duration": 206,
    "start_time": "2021-12-13T16:35:43.586Z"
   },
   {
    "duration": 246,
    "start_time": "2021-12-13T16:35:43.794Z"
   },
   {
    "duration": 339,
    "start_time": "2021-12-13T16:35:44.041Z"
   },
   {
    "duration": 3,
    "start_time": "2021-12-13T16:35:44.382Z"
   },
   {
    "duration": 552,
    "start_time": "2021-12-13T16:35:44.387Z"
   },
   {
    "duration": 574,
    "start_time": "2021-12-13T16:35:44.941Z"
   },
   {
    "duration": 528,
    "start_time": "2021-12-13T16:35:45.517Z"
   },
   {
    "duration": 159,
    "start_time": "2021-12-13T16:35:46.047Z"
   },
   {
    "duration": 161,
    "start_time": "2021-12-13T16:35:46.208Z"
   },
   {
    "duration": 161,
    "start_time": "2021-12-13T16:35:46.371Z"
   },
   {
    "duration": 204,
    "start_time": "2021-12-13T16:35:46.534Z"
   },
   {
    "duration": 169,
    "start_time": "2021-12-13T16:35:46.746Z"
   },
   {
    "duration": 33,
    "start_time": "2021-12-13T16:35:46.917Z"
   },
   {
    "duration": 392,
    "start_time": "2021-12-13T16:35:46.951Z"
   },
   {
    "duration": 905,
    "start_time": "2021-12-13T16:35:48.293Z"
   },
   {
    "duration": 1130,
    "start_time": "2021-12-13T16:36:05.988Z"
   },
   {
    "duration": 520,
    "start_time": "2021-12-13T16:47:22.377Z"
   },
   {
    "duration": 841,
    "start_time": "2021-12-13T16:50:31.218Z"
   },
   {
    "duration": 447,
    "start_time": "2021-12-13T17:01:41.273Z"
   },
   {
    "duration": 404,
    "start_time": "2021-12-13T17:01:45.012Z"
   },
   {
    "duration": 353,
    "start_time": "2021-12-13T17:01:48.560Z"
   },
   {
    "duration": 583,
    "start_time": "2021-12-13T17:01:53.360Z"
   },
   {
    "duration": 721,
    "start_time": "2021-12-13T17:02:19.092Z"
   },
   {
    "duration": 1057,
    "start_time": "2021-12-13T17:05:00.402Z"
   },
   {
    "duration": 325,
    "start_time": "2021-12-13T17:06:47.940Z"
   },
   {
    "duration": 824,
    "start_time": "2021-12-13T17:06:54.983Z"
   },
   {
    "duration": 29,
    "start_time": "2021-12-13T17:06:55.810Z"
   },
   {
    "duration": 184,
    "start_time": "2021-12-13T17:06:55.841Z"
   },
   {
    "duration": 9,
    "start_time": "2021-12-13T17:06:56.028Z"
   },
   {
    "duration": 39,
    "start_time": "2021-12-13T17:06:56.039Z"
   },
   {
    "duration": 87,
    "start_time": "2021-12-13T17:06:56.112Z"
   },
   {
    "duration": 12,
    "start_time": "2021-12-13T17:06:56.201Z"
   },
   {
    "duration": 93,
    "start_time": "2021-12-13T17:06:56.216Z"
   },
   {
    "duration": 311,
    "start_time": "2021-12-13T17:06:56.314Z"
   },
   {
    "duration": 215,
    "start_time": "2021-12-13T17:06:56.627Z"
   },
   {
    "duration": 197,
    "start_time": "2021-12-13T17:06:56.844Z"
   },
   {
    "duration": 239,
    "start_time": "2021-12-13T17:06:57.042Z"
   },
   {
    "duration": 356,
    "start_time": "2021-12-13T17:06:57.283Z"
   },
   {
    "duration": 4,
    "start_time": "2021-12-13T17:06:57.641Z"
   },
   {
    "duration": 111,
    "start_time": "2021-12-13T17:06:57.647Z"
   },
   {
    "duration": 1419,
    "start_time": "2021-12-13T17:06:56.341Z"
   },
   {
    "duration": 1416,
    "start_time": "2021-12-13T17:06:56.345Z"
   },
   {
    "duration": 1413,
    "start_time": "2021-12-13T17:06:56.349Z"
   },
   {
    "duration": 1407,
    "start_time": "2021-12-13T17:06:56.356Z"
   },
   {
    "duration": 1404,
    "start_time": "2021-12-13T17:06:56.360Z"
   },
   {
    "duration": 1402,
    "start_time": "2021-12-13T17:06:56.363Z"
   },
   {
    "duration": 1399,
    "start_time": "2021-12-13T17:06:56.366Z"
   },
   {
    "duration": 1393,
    "start_time": "2021-12-13T17:06:56.373Z"
   },
   {
    "duration": 1390,
    "start_time": "2021-12-13T17:06:56.377Z"
   },
   {
    "duration": 1388,
    "start_time": "2021-12-13T17:06:56.380Z"
   },
   {
    "duration": 422,
    "start_time": "2021-12-13T17:07:02.623Z"
   },
   {
    "duration": 360,
    "start_time": "2021-12-13T17:07:10.704Z"
   },
   {
    "duration": 310,
    "start_time": "2021-12-13T17:07:33.929Z"
   },
   {
    "duration": 952,
    "start_time": "2021-12-13T17:07:37.403Z"
   },
   {
    "duration": 360,
    "start_time": "2021-12-13T17:07:44.343Z"
   },
   {
    "duration": 793,
    "start_time": "2021-12-13T17:08:05.258Z"
   },
   {
    "duration": 28,
    "start_time": "2021-12-13T17:08:06.053Z"
   },
   {
    "duration": 171,
    "start_time": "2021-12-13T17:08:06.085Z"
   },
   {
    "duration": 61,
    "start_time": "2021-12-13T17:08:06.258Z"
   },
   {
    "duration": 27,
    "start_time": "2021-12-13T17:08:06.321Z"
   },
   {
    "duration": 98,
    "start_time": "2021-12-13T17:08:06.350Z"
   },
   {
    "duration": 8,
    "start_time": "2021-12-13T17:08:06.450Z"
   },
   {
    "duration": 94,
    "start_time": "2021-12-13T17:08:06.461Z"
   },
   {
    "duration": 293,
    "start_time": "2021-12-13T17:08:06.557Z"
   },
   {
    "duration": 228,
    "start_time": "2021-12-13T17:08:06.852Z"
   },
   {
    "duration": 210,
    "start_time": "2021-12-13T17:08:07.082Z"
   },
   {
    "duration": 264,
    "start_time": "2021-12-13T17:08:07.293Z"
   },
   {
    "duration": 339,
    "start_time": "2021-12-13T17:08:07.558Z"
   },
   {
    "duration": 6,
    "start_time": "2021-12-13T17:08:07.906Z"
   },
   {
    "duration": 108,
    "start_time": "2021-12-13T17:08:07.914Z"
   },
   {
    "duration": 1445,
    "start_time": "2021-12-13T17:08:06.579Z"
   },
   {
    "duration": 1444,
    "start_time": "2021-12-13T17:08:06.581Z"
   },
   {
    "duration": 1440,
    "start_time": "2021-12-13T17:08:06.586Z"
   },
   {
    "duration": 1433,
    "start_time": "2021-12-13T17:08:06.594Z"
   },
   {
    "duration": 1431,
    "start_time": "2021-12-13T17:08:06.597Z"
   },
   {
    "duration": 1430,
    "start_time": "2021-12-13T17:08:06.599Z"
   },
   {
    "duration": 1427,
    "start_time": "2021-12-13T17:08:06.603Z"
   },
   {
    "duration": 1421,
    "start_time": "2021-12-13T17:08:06.610Z"
   },
   {
    "duration": 1417,
    "start_time": "2021-12-13T17:08:06.614Z"
   },
   {
    "duration": 1415,
    "start_time": "2021-12-13T17:08:06.617Z"
   },
   {
    "duration": 400,
    "start_time": "2021-12-13T17:08:26.875Z"
   },
   {
    "duration": 587,
    "start_time": "2021-12-13T17:08:30.916Z"
   },
   {
    "duration": 849,
    "start_time": "2021-12-13T17:08:36.389Z"
   },
   {
    "duration": 24,
    "start_time": "2021-12-13T17:08:37.240Z"
   },
   {
    "duration": 185,
    "start_time": "2021-12-13T17:08:37.266Z"
   },
   {
    "duration": 8,
    "start_time": "2021-12-13T17:08:37.453Z"
   },
   {
    "duration": 32,
    "start_time": "2021-12-13T17:08:37.507Z"
   },
   {
    "duration": 91,
    "start_time": "2021-12-13T17:08:37.541Z"
   },
   {
    "duration": 8,
    "start_time": "2021-12-13T17:08:37.633Z"
   },
   {
    "duration": 87,
    "start_time": "2021-12-13T17:08:37.642Z"
   },
   {
    "duration": 280,
    "start_time": "2021-12-13T17:08:37.732Z"
   },
   {
    "duration": 240,
    "start_time": "2021-12-13T17:08:38.016Z"
   },
   {
    "duration": 212,
    "start_time": "2021-12-13T17:08:38.257Z"
   },
   {
    "duration": 265,
    "start_time": "2021-12-13T17:08:38.471Z"
   },
   {
    "duration": 435,
    "start_time": "2021-12-13T17:08:38.738Z"
   },
   {
    "duration": 5,
    "start_time": "2021-12-13T17:08:39.175Z"
   },
   {
    "duration": 742,
    "start_time": "2021-12-13T17:08:39.182Z"
   },
   {
    "duration": 540,
    "start_time": "2021-12-13T17:08:39.926Z"
   },
   {
    "duration": 562,
    "start_time": "2021-12-13T17:08:40.468Z"
   },
   {
    "duration": 192,
    "start_time": "2021-12-13T17:08:41.031Z"
   },
   {
    "duration": 160,
    "start_time": "2021-12-13T17:08:41.227Z"
   },
   {
    "duration": 179,
    "start_time": "2021-12-13T17:08:41.389Z"
   },
   {
    "duration": 209,
    "start_time": "2021-12-13T17:08:41.570Z"
   },
   {
    "duration": 190,
    "start_time": "2021-12-13T17:08:41.780Z"
   },
   {
    "duration": 49,
    "start_time": "2021-12-13T17:08:41.972Z"
   },
   {
    "duration": 396,
    "start_time": "2021-12-13T17:08:42.024Z"
   },
   {
    "duration": 1028,
    "start_time": "2021-12-13T17:08:42.423Z"
   },
   {
    "duration": 994,
    "start_time": "2021-12-13T17:08:51.161Z"
   },
   {
    "duration": 663,
    "start_time": "2021-12-13T17:09:16.841Z"
   },
   {
    "duration": 1520,
    "start_time": "2021-12-13T17:10:14.315Z"
   },
   {
    "duration": 2371,
    "start_time": "2021-12-13T17:10:39.587Z"
   },
   {
    "duration": 2667,
    "start_time": "2021-12-13T17:10:51.227Z"
   },
   {
    "duration": 2797,
    "start_time": "2021-12-13T17:29:13.027Z"
   },
   {
    "duration": 2787,
    "start_time": "2021-12-13T17:29:32.187Z"
   },
   {
    "duration": 2697,
    "start_time": "2021-12-13T17:39:26.669Z"
   },
   {
    "duration": 3025,
    "start_time": "2021-12-13T17:43:14.108Z"
   },
   {
    "duration": 2912,
    "start_time": "2021-12-13T17:43:19.229Z"
   },
   {
    "duration": 2488,
    "start_time": "2021-12-13T17:43:32.115Z"
   },
   {
    "duration": 171,
    "start_time": "2021-12-13T17:43:34.606Z"
   },
   {
    "duration": 229,
    "start_time": "2021-12-13T17:44:10.267Z"
   },
   {
    "duration": 270,
    "start_time": "2021-12-13T17:44:35.360Z"
   },
   {
    "duration": 172,
    "start_time": "2021-12-13T17:44:38.746Z"
   },
   {
    "duration": 315,
    "start_time": "2021-12-13T17:44:49.787Z"
   },
   {
    "duration": 338,
    "start_time": "2021-12-13T17:45:12.786Z"
   },
   {
    "duration": 739,
    "start_time": "2021-12-13T17:45:31.867Z"
   },
   {
    "duration": 661,
    "start_time": "2021-12-13T17:45:53.066Z"
   },
   {
    "duration": 851,
    "start_time": "2021-12-13T17:46:27.555Z"
   },
   {
    "duration": 520,
    "start_time": "2021-12-13T17:46:39.426Z"
   },
   {
    "duration": 198,
    "start_time": "2021-12-13T17:46:43.027Z"
   },
   {
    "duration": 204,
    "start_time": "2021-12-13T17:46:48.834Z"
   },
   {
    "duration": 9,
    "start_time": "2021-12-13T17:47:21.468Z"
   },
   {
    "duration": 10,
    "start_time": "2021-12-13T17:47:36.145Z"
   },
   {
    "duration": 344,
    "start_time": "2021-12-13T17:48:42.147Z"
   },
   {
    "duration": 178,
    "start_time": "2021-12-13T17:48:51.747Z"
   },
   {
    "duration": 199,
    "start_time": "2021-12-13T17:49:03.787Z"
   },
   {
    "duration": 222,
    "start_time": "2021-12-13T17:50:04.905Z"
   },
   {
    "duration": 713,
    "start_time": "2021-12-13T17:51:32.377Z"
   },
   {
    "duration": 349,
    "start_time": "2021-12-13T17:51:42.266Z"
   },
   {
    "duration": 429,
    "start_time": "2021-12-13T17:51:56.666Z"
   },
   {
    "duration": 341,
    "start_time": "2021-12-13T17:52:01.905Z"
   },
   {
    "duration": 302,
    "start_time": "2021-12-13T17:52:05.745Z"
   },
   {
    "duration": 337,
    "start_time": "2021-12-13T17:52:09.594Z"
   },
   {
    "duration": 349,
    "start_time": "2021-12-13T17:52:13.106Z"
   },
   {
    "duration": 187,
    "start_time": "2021-12-13T17:52:36.353Z"
   },
   {
    "duration": 198,
    "start_time": "2021-12-13T17:52:44.186Z"
   },
   {
    "duration": 182,
    "start_time": "2021-12-13T17:52:47.076Z"
   },
   {
    "duration": 355,
    "start_time": "2021-12-13T17:52:50.267Z"
   },
   {
    "duration": 194,
    "start_time": "2021-12-13T17:52:55.145Z"
   },
   {
    "duration": 196,
    "start_time": "2021-12-13T17:52:59.114Z"
   },
   {
    "duration": 203,
    "start_time": "2021-12-13T17:53:02.506Z"
   },
   {
    "duration": 213,
    "start_time": "2021-12-13T17:53:07.826Z"
   },
   {
    "duration": 190,
    "start_time": "2021-12-13T17:53:14.026Z"
   },
   {
    "duration": 380,
    "start_time": "2021-12-13T17:53:20.713Z"
   },
   {
    "duration": 268,
    "start_time": "2021-12-13T18:05:41.505Z"
   },
   {
    "duration": 537,
    "start_time": "2021-12-13T18:05:46.746Z"
   },
   {
    "duration": 203,
    "start_time": "2021-12-13T18:05:50.705Z"
   },
   {
    "duration": 121,
    "start_time": "2021-12-13T18:15:43.229Z"
   },
   {
    "duration": 205,
    "start_time": "2021-12-13T18:15:49.985Z"
   },
   {
    "duration": 197,
    "start_time": "2021-12-13T18:15:54.225Z"
   },
   {
    "duration": 357,
    "start_time": "2021-12-13T18:16:01.667Z"
   },
   {
    "duration": 258,
    "start_time": "2021-12-13T18:16:11.044Z"
   },
   {
    "duration": 229,
    "start_time": "2021-12-13T18:17:13.905Z"
   },
   {
    "duration": 237,
    "start_time": "2021-12-13T18:17:18.465Z"
   },
   {
    "duration": 215,
    "start_time": "2021-12-13T18:17:22.185Z"
   },
   {
    "duration": 221,
    "start_time": "2021-12-13T18:17:27.073Z"
   },
   {
    "duration": 244,
    "start_time": "2021-12-13T18:18:00.914Z"
   },
   {
    "duration": 211,
    "start_time": "2021-12-13T18:18:38.385Z"
   },
   {
    "duration": 187,
    "start_time": "2021-12-13T18:32:52.489Z"
   },
   {
    "duration": 280,
    "start_time": "2021-12-13T18:33:07.329Z"
   },
   {
    "duration": 2310,
    "start_time": "2021-12-13T18:33:31.790Z"
   },
   {
    "duration": 255,
    "start_time": "2021-12-13T18:35:52.290Z"
   },
   {
    "duration": 177,
    "start_time": "2021-12-13T18:36:00.270Z"
   },
   {
    "duration": 182,
    "start_time": "2021-12-13T18:36:03.030Z"
   },
   {
    "duration": 3346,
    "start_time": "2021-12-13T18:36:10.915Z"
   },
   {
    "duration": 988,
    "start_time": "2021-12-13T18:37:09.674Z"
   },
   {
    "duration": 337,
    "start_time": "2021-12-13T18:37:21.170Z"
   },
   {
    "duration": 3,
    "start_time": "2021-12-13T18:37:57.442Z"
   },
   {
    "duration": 4,
    "start_time": "2021-12-13T18:43:01.470Z"
   },
   {
    "duration": 154,
    "start_time": "2021-12-13T18:43:15.050Z"
   },
   {
    "duration": 159,
    "start_time": "2021-12-13T18:43:44.930Z"
   },
   {
    "duration": 295,
    "start_time": "2021-12-13T18:44:36.373Z"
   },
   {
    "duration": 260,
    "start_time": "2021-12-13T18:44:41.850Z"
   },
   {
    "duration": 65,
    "start_time": "2021-12-13T18:47:57.390Z"
   },
   {
    "duration": 797,
    "start_time": "2021-12-13T18:48:16.706Z"
   },
   {
    "duration": 27,
    "start_time": "2021-12-13T18:48:17.505Z"
   },
   {
    "duration": 189,
    "start_time": "2021-12-13T18:48:17.534Z"
   },
   {
    "duration": 9,
    "start_time": "2021-12-13T18:48:17.726Z"
   },
   {
    "duration": 28,
    "start_time": "2021-12-13T18:48:17.737Z"
   },
   {
    "duration": 105,
    "start_time": "2021-12-13T18:48:17.767Z"
   },
   {
    "duration": 32,
    "start_time": "2021-12-13T18:48:17.874Z"
   },
   {
    "duration": 117,
    "start_time": "2021-12-13T18:48:17.909Z"
   },
   {
    "duration": 293,
    "start_time": "2021-12-13T18:48:18.029Z"
   },
   {
    "duration": 237,
    "start_time": "2021-12-13T18:48:18.325Z"
   },
   {
    "duration": 207,
    "start_time": "2021-12-13T18:48:18.564Z"
   },
   {
    "duration": 267,
    "start_time": "2021-12-13T18:48:18.773Z"
   },
   {
    "duration": 341,
    "start_time": "2021-12-13T18:48:19.042Z"
   },
   {
    "duration": 4,
    "start_time": "2021-12-13T18:48:19.385Z"
   },
   {
    "duration": 531,
    "start_time": "2021-12-13T18:48:19.406Z"
   },
   {
    "duration": 549,
    "start_time": "2021-12-13T18:48:19.939Z"
   },
   {
    "duration": 523,
    "start_time": "2021-12-13T18:48:20.490Z"
   },
   {
    "duration": 204,
    "start_time": "2021-12-13T18:48:21.016Z"
   },
   {
    "duration": 175,
    "start_time": "2021-12-13T18:48:21.222Z"
   },
   {
    "duration": 151,
    "start_time": "2021-12-13T18:48:21.406Z"
   },
   {
    "duration": 203,
    "start_time": "2021-12-13T18:48:21.559Z"
   },
   {
    "duration": 186,
    "start_time": "2021-12-13T18:48:21.764Z"
   },
   {
    "duration": 28,
    "start_time": "2021-12-13T18:48:21.952Z"
   },
   {
    "duration": 380,
    "start_time": "2021-12-13T18:48:21.982Z"
   },
   {
    "duration": 286,
    "start_time": "2021-12-13T18:48:22.364Z"
   },
   {
    "duration": 245,
    "start_time": "2021-12-13T18:48:22.652Z"
   },
   {
    "duration": 263,
    "start_time": "2021-12-13T18:48:22.901Z"
   },
   {
    "duration": 3150,
    "start_time": "2021-12-13T18:48:23.167Z"
   },
   {
    "duration": 807,
    "start_time": "2021-12-13T18:49:18.887Z"
   },
   {
    "duration": 34,
    "start_time": "2021-12-13T18:49:19.696Z"
   },
   {
    "duration": 189,
    "start_time": "2021-12-13T18:49:19.732Z"
   },
   {
    "duration": 10,
    "start_time": "2021-12-13T18:49:19.924Z"
   },
   {
    "duration": 27,
    "start_time": "2021-12-13T18:49:19.936Z"
   },
   {
    "duration": 101,
    "start_time": "2021-12-13T18:49:19.965Z"
   },
   {
    "duration": 9,
    "start_time": "2021-12-13T18:49:20.068Z"
   },
   {
    "duration": 96,
    "start_time": "2021-12-13T18:49:20.079Z"
   },
   {
    "duration": 280,
    "start_time": "2021-12-13T18:49:20.179Z"
   },
   {
    "duration": 213,
    "start_time": "2021-12-13T18:49:20.462Z"
   },
   {
    "duration": 205,
    "start_time": "2021-12-13T18:49:20.677Z"
   },
   {
    "duration": 247,
    "start_time": "2021-12-13T18:49:20.885Z"
   },
   {
    "duration": 574,
    "start_time": "2021-12-13T18:49:21.135Z"
   },
   {
    "duration": 5,
    "start_time": "2021-12-13T18:49:21.712Z"
   },
   {
    "duration": 708,
    "start_time": "2021-12-13T18:49:21.719Z"
   },
   {
    "duration": 752,
    "start_time": "2021-12-13T18:49:22.429Z"
   },
   {
    "duration": 503,
    "start_time": "2021-12-13T18:49:23.184Z"
   },
   {
    "duration": 167,
    "start_time": "2021-12-13T18:49:23.689Z"
   },
   {
    "duration": 176,
    "start_time": "2021-12-13T18:49:23.859Z"
   },
   {
    "duration": 157,
    "start_time": "2021-12-13T18:49:24.037Z"
   },
   {
    "duration": 195,
    "start_time": "2021-12-13T18:49:24.196Z"
   },
   {
    "duration": 176,
    "start_time": "2021-12-13T18:49:24.393Z"
   },
   {
    "duration": 36,
    "start_time": "2021-12-13T18:49:24.571Z"
   },
   {
    "duration": 381,
    "start_time": "2021-12-13T18:49:24.609Z"
   },
   {
    "duration": 271,
    "start_time": "2021-12-13T18:49:24.992Z"
   },
   {
    "duration": 188,
    "start_time": "2021-12-13T18:49:25.264Z"
   },
   {
    "duration": 193,
    "start_time": "2021-12-13T18:49:25.456Z"
   },
   {
    "duration": 2626,
    "start_time": "2021-12-13T18:49:25.651Z"
   },
   {
    "duration": 840,
    "start_time": "2021-12-13T18:49:36.859Z"
   },
   {
    "duration": 30,
    "start_time": "2021-12-13T18:49:37.702Z"
   },
   {
    "duration": 213,
    "start_time": "2021-12-13T18:49:37.735Z"
   },
   {
    "duration": 10,
    "start_time": "2021-12-13T18:49:37.951Z"
   },
   {
    "duration": 30,
    "start_time": "2021-12-13T18:49:38.007Z"
   },
   {
    "duration": 91,
    "start_time": "2021-12-13T18:49:38.039Z"
   },
   {
    "duration": 13,
    "start_time": "2021-12-13T18:49:38.133Z"
   },
   {
    "duration": 105,
    "start_time": "2021-12-13T18:49:38.148Z"
   },
   {
    "duration": 324,
    "start_time": "2021-12-13T18:49:38.257Z"
   },
   {
    "duration": 241,
    "start_time": "2021-12-13T18:49:38.584Z"
   },
   {
    "duration": 205,
    "start_time": "2021-12-13T18:49:38.827Z"
   },
   {
    "duration": 246,
    "start_time": "2021-12-13T18:49:39.035Z"
   },
   {
    "duration": 385,
    "start_time": "2021-12-13T18:49:39.283Z"
   },
   {
    "duration": 5,
    "start_time": "2021-12-13T18:49:39.670Z"
   },
   {
    "duration": 560,
    "start_time": "2021-12-13T18:49:39.677Z"
   },
   {
    "duration": 586,
    "start_time": "2021-12-13T18:49:40.239Z"
   },
   {
    "duration": 632,
    "start_time": "2021-12-13T18:49:40.827Z"
   },
   {
    "duration": 155,
    "start_time": "2021-12-13T18:49:41.461Z"
   },
   {
    "duration": 160,
    "start_time": "2021-12-13T18:49:41.618Z"
   },
   {
    "duration": 155,
    "start_time": "2021-12-13T18:49:41.779Z"
   },
   {
    "duration": 207,
    "start_time": "2021-12-13T18:49:41.936Z"
   },
   {
    "duration": 175,
    "start_time": "2021-12-13T18:49:42.145Z"
   },
   {
    "duration": 30,
    "start_time": "2021-12-13T18:49:42.322Z"
   },
   {
    "duration": 373,
    "start_time": "2021-12-13T18:49:42.354Z"
   },
   {
    "duration": 291,
    "start_time": "2021-12-13T18:49:42.728Z"
   },
   {
    "duration": 198,
    "start_time": "2021-12-13T18:49:43.022Z"
   },
   {
    "duration": 212,
    "start_time": "2021-12-13T18:49:43.224Z"
   },
   {
    "duration": 2572,
    "start_time": "2021-12-13T18:49:43.438Z"
   },
   {
    "duration": 77,
    "start_time": "2021-12-13T18:50:49.125Z"
   },
   {
    "duration": 855,
    "start_time": "2021-12-13T18:50:57.791Z"
   },
   {
    "duration": 29,
    "start_time": "2021-12-13T18:50:58.648Z"
   },
   {
    "duration": 167,
    "start_time": "2021-12-13T18:50:58.679Z"
   },
   {
    "duration": 13,
    "start_time": "2021-12-13T18:50:58.849Z"
   },
   {
    "duration": 68,
    "start_time": "2021-12-13T18:50:58.864Z"
   },
   {
    "duration": 84,
    "start_time": "2021-12-13T18:50:58.934Z"
   },
   {
    "duration": 8,
    "start_time": "2021-12-13T18:50:59.020Z"
   },
   {
    "duration": 90,
    "start_time": "2021-12-13T18:50:59.031Z"
   },
   {
    "duration": 289,
    "start_time": "2021-12-13T18:50:59.123Z"
   },
   {
    "duration": 216,
    "start_time": "2021-12-13T18:50:59.414Z"
   },
   {
    "duration": 202,
    "start_time": "2021-12-13T18:50:59.631Z"
   },
   {
    "duration": 242,
    "start_time": "2021-12-13T18:50:59.835Z"
   },
   {
    "duration": 493,
    "start_time": "2021-12-13T18:51:00.079Z"
   },
   {
    "duration": 5,
    "start_time": "2021-12-13T18:51:00.574Z"
   },
   {
    "duration": 538,
    "start_time": "2021-12-13T18:51:00.581Z"
   },
   {
    "duration": 543,
    "start_time": "2021-12-13T18:51:01.122Z"
   },
   {
    "duration": 527,
    "start_time": "2021-12-13T18:51:01.667Z"
   },
   {
    "duration": 165,
    "start_time": "2021-12-13T18:51:02.196Z"
   },
   {
    "duration": 170,
    "start_time": "2021-12-13T18:51:02.363Z"
   },
   {
    "duration": 183,
    "start_time": "2021-12-13T18:51:02.535Z"
   },
   {
    "duration": 192,
    "start_time": "2021-12-13T18:51:02.720Z"
   },
   {
    "duration": 168,
    "start_time": "2021-12-13T18:51:02.914Z"
   },
   {
    "duration": 37,
    "start_time": "2021-12-13T18:51:03.085Z"
   },
   {
    "duration": 368,
    "start_time": "2021-12-13T18:51:03.124Z"
   },
   {
    "duration": 264,
    "start_time": "2021-12-13T18:51:03.494Z"
   },
   {
    "duration": 186,
    "start_time": "2021-12-13T18:51:03.760Z"
   },
   {
    "duration": 191,
    "start_time": "2021-12-13T18:51:03.948Z"
   },
   {
    "duration": 2694,
    "start_time": "2021-12-13T18:51:04.141Z"
   },
   {
    "duration": 68,
    "start_time": "2021-12-13T18:51:47.665Z"
   },
   {
    "duration": 1043,
    "start_time": "2021-12-13T18:52:57.598Z"
   },
   {
    "duration": 38,
    "start_time": "2021-12-13T18:52:58.644Z"
   },
   {
    "duration": 163,
    "start_time": "2021-12-13T18:52:58.684Z"
   },
   {
    "duration": 8,
    "start_time": "2021-12-13T18:52:58.849Z"
   },
   {
    "duration": 67,
    "start_time": "2021-12-13T18:52:58.858Z"
   },
   {
    "duration": 91,
    "start_time": "2021-12-13T18:52:58.927Z"
   },
   {
    "duration": 8,
    "start_time": "2021-12-13T18:52:59.020Z"
   },
   {
    "duration": 90,
    "start_time": "2021-12-13T18:52:59.030Z"
   },
   {
    "duration": 365,
    "start_time": "2021-12-13T18:52:59.122Z"
   },
   {
    "duration": 333,
    "start_time": "2021-12-13T18:52:59.489Z"
   },
   {
    "duration": 296,
    "start_time": "2021-12-13T18:52:59.824Z"
   },
   {
    "duration": 344,
    "start_time": "2021-12-13T18:53:00.122Z"
   },
   {
    "duration": 548,
    "start_time": "2021-12-13T18:53:00.468Z"
   },
   {
    "duration": 6,
    "start_time": "2021-12-13T18:53:01.018Z"
   },
   {
    "duration": 725,
    "start_time": "2021-12-13T18:53:01.026Z"
   },
   {
    "duration": 695,
    "start_time": "2021-12-13T18:53:01.753Z"
   },
   {
    "duration": 756,
    "start_time": "2021-12-13T18:53:02.450Z"
   },
   {
    "duration": 229,
    "start_time": "2021-12-13T18:53:03.208Z"
   },
   {
    "duration": 229,
    "start_time": "2021-12-13T18:53:03.439Z"
   },
   {
    "duration": 225,
    "start_time": "2021-12-13T18:53:03.670Z"
   },
   {
    "duration": 238,
    "start_time": "2021-12-13T18:53:03.897Z"
   },
   {
    "duration": 164,
    "start_time": "2021-12-13T18:53:04.136Z"
   },
   {
    "duration": 34,
    "start_time": "2021-12-13T18:53:04.308Z"
   },
   {
    "duration": 367,
    "start_time": "2021-12-13T18:53:04.344Z"
   },
   {
    "duration": 262,
    "start_time": "2021-12-13T18:53:04.714Z"
   },
   {
    "duration": 189,
    "start_time": "2021-12-13T18:53:04.978Z"
   },
   {
    "duration": 195,
    "start_time": "2021-12-13T18:53:05.169Z"
   },
   {
    "duration": 2607,
    "start_time": "2021-12-13T18:53:05.367Z"
   },
   {
    "duration": 774,
    "start_time": "2021-12-13T18:53:34.812Z"
   },
   {
    "duration": 30,
    "start_time": "2021-12-13T18:53:35.587Z"
   },
   {
    "duration": 130,
    "start_time": "2021-12-13T18:53:35.619Z"
   },
   {
    "duration": 9,
    "start_time": "2021-12-13T18:53:35.751Z"
   },
   {
    "duration": 68,
    "start_time": "2021-12-13T18:53:35.762Z"
   },
   {
    "duration": 82,
    "start_time": "2021-12-13T18:53:35.832Z"
   },
   {
    "duration": 9,
    "start_time": "2021-12-13T18:53:35.916Z"
   },
   {
    "duration": 91,
    "start_time": "2021-12-13T18:53:35.927Z"
   },
   {
    "duration": 270,
    "start_time": "2021-12-13T18:53:36.021Z"
   },
   {
    "duration": 205,
    "start_time": "2021-12-13T18:53:36.293Z"
   },
   {
    "duration": 184,
    "start_time": "2021-12-13T18:53:36.500Z"
   },
   {
    "duration": 247,
    "start_time": "2021-12-13T18:53:36.686Z"
   },
   {
    "duration": 322,
    "start_time": "2021-12-13T18:53:36.935Z"
   },
   {
    "duration": 3,
    "start_time": "2021-12-13T18:53:37.259Z"
   },
   {
    "duration": 509,
    "start_time": "2021-12-13T18:53:37.264Z"
   },
   {
    "duration": 508,
    "start_time": "2021-12-13T18:53:37.775Z"
   },
   {
    "duration": 498,
    "start_time": "2021-12-13T18:53:38.285Z"
   },
   {
    "duration": 144,
    "start_time": "2021-12-13T18:53:38.785Z"
   },
   {
    "duration": 147,
    "start_time": "2021-12-13T18:53:38.931Z"
   },
   {
    "duration": 143,
    "start_time": "2021-12-13T18:53:39.080Z"
   },
   {
    "duration": 171,
    "start_time": "2021-12-13T18:53:39.225Z"
   },
   {
    "duration": 163,
    "start_time": "2021-12-13T18:53:39.398Z"
   },
   {
    "duration": 27,
    "start_time": "2021-12-13T18:53:39.562Z"
   },
   {
    "duration": 362,
    "start_time": "2021-12-13T18:53:39.590Z"
   },
   {
    "duration": 255,
    "start_time": "2021-12-13T18:53:39.954Z"
   },
   {
    "duration": 181,
    "start_time": "2021-12-13T18:53:40.211Z"
   },
   {
    "duration": 187,
    "start_time": "2021-12-13T18:53:40.396Z"
   },
   {
    "duration": 2369,
    "start_time": "2021-12-13T18:53:40.585Z"
   },
   {
    "duration": 67,
    "start_time": "2021-12-13T18:54:46.949Z"
   },
   {
    "duration": 65,
    "start_time": "2021-12-13T18:54:51.159Z"
   },
   {
    "duration": 345,
    "start_time": "2021-12-14T07:41:51.308Z"
   },
   {
    "duration": 938,
    "start_time": "2021-12-14T07:41:58.527Z"
   },
   {
    "duration": 57,
    "start_time": "2021-12-14T07:41:59.468Z"
   },
   {
    "duration": 315,
    "start_time": "2021-12-14T07:41:59.528Z"
   },
   {
    "duration": 17,
    "start_time": "2021-12-14T07:41:59.847Z"
   },
   {
    "duration": 102,
    "start_time": "2021-12-14T07:41:59.867Z"
   },
   {
    "duration": 154,
    "start_time": "2021-12-14T07:41:59.973Z"
   },
   {
    "duration": 12,
    "start_time": "2021-12-14T07:42:00.130Z"
   },
   {
    "duration": 135,
    "start_time": "2021-12-14T07:42:00.148Z"
   },
   {
    "duration": 436,
    "start_time": "2021-12-14T07:42:00.287Z"
   },
   {
    "duration": 343,
    "start_time": "2021-12-14T07:42:00.726Z"
   },
   {
    "duration": 300,
    "start_time": "2021-12-14T07:42:01.072Z"
   },
   {
    "duration": 383,
    "start_time": "2021-12-14T07:42:01.375Z"
   },
   {
    "duration": 521,
    "start_time": "2021-12-14T07:42:01.761Z"
   },
   {
    "duration": 5,
    "start_time": "2021-12-14T07:42:02.284Z"
   },
   {
    "duration": 699,
    "start_time": "2021-12-14T07:42:02.292Z"
   },
   {
    "duration": 693,
    "start_time": "2021-12-14T07:42:02.993Z"
   },
   {
    "duration": 691,
    "start_time": "2021-12-14T07:42:03.688Z"
   },
   {
    "duration": 222,
    "start_time": "2021-12-14T07:42:04.382Z"
   },
   {
    "duration": 219,
    "start_time": "2021-12-14T07:42:04.606Z"
   },
   {
    "duration": 231,
    "start_time": "2021-12-14T07:42:04.828Z"
   },
   {
    "duration": 273,
    "start_time": "2021-12-14T07:42:05.061Z"
   },
   {
    "duration": 265,
    "start_time": "2021-12-14T07:42:05.337Z"
   },
   {
    "duration": 51,
    "start_time": "2021-12-14T07:42:05.607Z"
   },
   {
    "duration": 511,
    "start_time": "2021-12-14T07:42:05.661Z"
   },
   {
    "duration": 405,
    "start_time": "2021-12-14T07:42:06.174Z"
   },
   {
    "duration": 279,
    "start_time": "2021-12-14T07:42:06.581Z"
   },
   {
    "duration": 295,
    "start_time": "2021-12-14T07:42:06.862Z"
   },
   {
    "duration": 3392,
    "start_time": "2021-12-14T07:42:07.159Z"
   },
   {
    "duration": 299,
    "start_time": "2021-12-14T07:43:16.001Z"
   },
   {
    "duration": 309,
    "start_time": "2021-12-14T07:43:43.721Z"
   },
   {
    "duration": 367,
    "start_time": "2021-12-14T07:43:56.039Z"
   },
   {
    "duration": 294,
    "start_time": "2021-12-14T07:44:07.951Z"
   },
   {
    "duration": 287,
    "start_time": "2021-12-14T07:44:21.461Z"
   },
   {
    "duration": 312,
    "start_time": "2021-12-14T07:44:24.721Z"
   },
   {
    "duration": 316,
    "start_time": "2021-12-14T07:46:04.842Z"
   },
   {
    "duration": 671,
    "start_time": "2021-12-14T07:46:13.261Z"
   },
   {
    "duration": 591,
    "start_time": "2021-12-14T07:46:16.061Z"
   },
   {
    "duration": 316,
    "start_time": "2021-12-14T07:46:24.688Z"
   },
   {
    "duration": 313,
    "start_time": "2021-12-14T07:49:23.091Z"
   },
   {
    "duration": 296,
    "start_time": "2021-12-14T07:49:35.541Z"
   },
   {
    "duration": 327,
    "start_time": "2021-12-14T07:50:51.222Z"
   },
   {
    "duration": 378,
    "start_time": "2021-12-14T07:51:40.691Z"
   },
   {
    "duration": 290,
    "start_time": "2021-12-14T07:51:51.299Z"
   },
   {
    "duration": 300,
    "start_time": "2021-12-14T07:52:52.852Z"
   },
   {
    "duration": 297,
    "start_time": "2021-12-14T07:53:12.191Z"
   },
   {
    "duration": 305,
    "start_time": "2021-12-14T07:53:17.722Z"
   },
   {
    "duration": 339,
    "start_time": "2021-12-14T07:56:51.722Z"
   },
   {
    "duration": 346,
    "start_time": "2021-12-14T07:57:05.141Z"
   },
   {
    "duration": 18,
    "start_time": "2021-12-14T08:11:39.252Z"
   },
   {
    "duration": 1037,
    "start_time": "2021-12-14T08:11:53.559Z"
   },
   {
    "duration": 65,
    "start_time": "2021-12-14T08:11:54.599Z"
   },
   {
    "duration": 300,
    "start_time": "2021-12-14T08:11:54.667Z"
   },
   {
    "duration": 65,
    "start_time": "2021-12-14T08:11:54.970Z"
   },
   {
    "duration": 43,
    "start_time": "2021-12-14T08:11:55.040Z"
   },
   {
    "duration": 58,
    "start_time": "2021-12-14T08:11:55.085Z"
   },
   {
    "duration": 28,
    "start_time": "2021-12-14T08:11:55.146Z"
   },
   {
    "duration": 99,
    "start_time": "2021-12-14T08:11:55.177Z"
   },
   {
    "duration": 13,
    "start_time": "2021-12-14T08:11:55.282Z"
   },
   {
    "duration": 140,
    "start_time": "2021-12-14T08:11:55.299Z"
   },
   {
    "duration": 488,
    "start_time": "2021-12-14T08:11:55.445Z"
   },
   {
    "duration": 373,
    "start_time": "2021-12-14T08:11:55.936Z"
   },
   {
    "duration": 355,
    "start_time": "2021-12-14T08:11:56.312Z"
   },
   {
    "duration": 400,
    "start_time": "2021-12-14T08:11:56.669Z"
   },
   {
    "duration": 660,
    "start_time": "2021-12-14T08:11:57.071Z"
   },
   {
    "duration": 9,
    "start_time": "2021-12-14T08:11:57.734Z"
   },
   {
    "duration": 766,
    "start_time": "2021-12-14T08:11:57.746Z"
   },
   {
    "duration": 774,
    "start_time": "2021-12-14T08:11:58.514Z"
   },
   {
    "duration": 900,
    "start_time": "2021-12-14T08:11:59.290Z"
   },
   {
    "duration": 286,
    "start_time": "2021-12-14T08:12:00.193Z"
   },
   {
    "duration": 278,
    "start_time": "2021-12-14T08:12:00.482Z"
   },
   {
    "duration": 277,
    "start_time": "2021-12-14T08:12:00.762Z"
   },
   {
    "duration": 332,
    "start_time": "2021-12-14T08:12:01.042Z"
   },
   {
    "duration": 295,
    "start_time": "2021-12-14T08:12:01.377Z"
   },
   {
    "duration": 76,
    "start_time": "2021-12-14T08:12:01.674Z"
   },
   {
    "duration": 625,
    "start_time": "2021-12-14T08:12:01.753Z"
   },
   {
    "duration": 493,
    "start_time": "2021-12-14T08:12:02.383Z"
   },
   {
    "duration": 334,
    "start_time": "2021-12-14T08:12:02.878Z"
   },
   {
    "duration": 368,
    "start_time": "2021-12-14T08:12:03.214Z"
   },
   {
    "duration": 3920,
    "start_time": "2021-12-14T08:12:03.584Z"
   },
   {
    "duration": 21,
    "start_time": "2021-12-14T08:19:08.677Z"
   },
   {
    "duration": 66,
    "start_time": "2021-12-14T08:20:23.218Z"
   },
   {
    "duration": 60,
    "start_time": "2021-12-14T08:41:23.407Z"
   },
   {
    "duration": 838,
    "start_time": "2021-12-14T10:46:09.714Z"
   },
   {
    "duration": 100,
    "start_time": "2021-12-14T10:46:44.576Z"
   },
   {
    "duration": 685,
    "start_time": "2021-12-14T10:46:48.038Z"
   },
   {
    "duration": 2351,
    "start_time": "2021-12-14T10:46:57.439Z"
   },
   {
    "duration": 796,
    "start_time": "2021-12-14T10:47:00.039Z"
   },
   {
    "duration": 710,
    "start_time": "2021-12-14T10:47:12.359Z"
   },
   {
    "duration": 929,
    "start_time": "2021-12-14T10:47:21.477Z"
   },
   {
    "duration": 54,
    "start_time": "2021-12-14T10:47:22.409Z"
   },
   {
    "duration": 286,
    "start_time": "2021-12-14T10:47:22.466Z"
   },
   {
    "duration": 11,
    "start_time": "2021-12-14T10:47:22.755Z"
   },
   {
    "duration": 90,
    "start_time": "2021-12-14T10:47:22.769Z"
   },
   {
    "duration": 24,
    "start_time": "2021-12-14T10:47:22.862Z"
   },
   {
    "duration": 46,
    "start_time": "2021-12-14T10:47:22.888Z"
   },
   {
    "duration": 10,
    "start_time": "2021-12-14T10:47:22.937Z"
   },
   {
    "duration": 51,
    "start_time": "2021-12-14T10:47:22.952Z"
   },
   {
    "duration": 16,
    "start_time": "2021-12-14T10:47:23.026Z"
   },
   {
    "duration": 125,
    "start_time": "2021-12-14T10:47:23.044Z"
   },
   {
    "duration": 728,
    "start_time": "2021-12-14T10:47:23.172Z"
   },
   {
    "duration": 87002,
    "start_time": "2021-12-14T10:45:56.900Z"
   },
   {
    "duration": 87001,
    "start_time": "2021-12-14T10:45:56.902Z"
   },
   {
    "duration": 87000,
    "start_time": "2021-12-14T10:45:56.905Z"
   },
   {
    "duration": 86998,
    "start_time": "2021-12-14T10:45:56.908Z"
   },
   {
    "duration": 86967,
    "start_time": "2021-12-14T10:45:56.940Z"
   },
   {
    "duration": 86961,
    "start_time": "2021-12-14T10:45:56.948Z"
   },
   {
    "duration": 86959,
    "start_time": "2021-12-14T10:45:56.951Z"
   },
   {
    "duration": 86958,
    "start_time": "2021-12-14T10:45:56.953Z"
   },
   {
    "duration": 86958,
    "start_time": "2021-12-14T10:45:56.955Z"
   },
   {
    "duration": 86956,
    "start_time": "2021-12-14T10:45:56.958Z"
   },
   {
    "duration": 86951,
    "start_time": "2021-12-14T10:45:56.965Z"
   },
   {
    "duration": 86950,
    "start_time": "2021-12-14T10:45:56.967Z"
   },
   {
    "duration": 86948,
    "start_time": "2021-12-14T10:45:56.970Z"
   },
   {
    "duration": 86947,
    "start_time": "2021-12-14T10:45:56.973Z"
   },
   {
    "duration": 86946,
    "start_time": "2021-12-14T10:45:56.975Z"
   },
   {
    "duration": 86940,
    "start_time": "2021-12-14T10:45:56.982Z"
   },
   {
    "duration": 86940,
    "start_time": "2021-12-14T10:45:56.984Z"
   },
   {
    "duration": 86938,
    "start_time": "2021-12-14T10:45:56.987Z"
   },
   {
    "duration": 86928,
    "start_time": "2021-12-14T10:45:57.000Z"
   },
   {
    "duration": 852,
    "start_time": "2021-12-14T10:47:48.919Z"
   },
   {
    "duration": 742,
    "start_time": "2021-12-14T10:48:06.378Z"
   },
   {
    "duration": 25,
    "start_time": "2021-12-14T10:48:34.527Z"
   },
   {
    "duration": 129,
    "start_time": "2021-12-14T10:48:44.014Z"
   },
   {
    "duration": 1802,
    "start_time": "2021-12-14T10:48:46.108Z"
   },
   {
    "duration": 447,
    "start_time": "2021-12-14T10:48:54.556Z"
   },
   {
    "duration": 351,
    "start_time": "2021-12-14T10:49:04.549Z"
   },
   {
    "duration": 309,
    "start_time": "2021-12-14T10:49:51.868Z"
   },
   {
    "duration": 385,
    "start_time": "2021-12-14T10:50:27.938Z"
   },
   {
    "duration": 320,
    "start_time": "2021-12-14T10:50:30.333Z"
   },
   {
    "duration": 361,
    "start_time": "2021-12-14T10:50:34.719Z"
   },
   {
    "duration": 91,
    "start_time": "2021-12-14T10:51:05.069Z"
   },
   {
    "duration": 342,
    "start_time": "2021-12-14T10:51:11.730Z"
   },
   {
    "duration": 347,
    "start_time": "2021-12-14T10:51:14.108Z"
   },
   {
    "duration": 354,
    "start_time": "2021-12-14T10:51:22.848Z"
   },
   {
    "duration": 359,
    "start_time": "2021-12-14T10:52:35.369Z"
   },
   {
    "duration": 343,
    "start_time": "2021-12-14T10:54:09.198Z"
   },
   {
    "duration": 86916,
    "start_time": "2021-12-14T10:53:05.394Z"
   },
   {
    "duration": 447,
    "start_time": "2021-12-14T10:54:38.516Z"
   },
   {
    "duration": 315,
    "start_time": "2021-12-14T10:58:40.770Z"
   },
   {
    "duration": 488,
    "start_time": "2021-12-14T10:59:11.441Z"
   },
   {
    "duration": 309,
    "start_time": "2021-12-14T10:59:40.256Z"
   },
   {
    "duration": 303,
    "start_time": "2021-12-14T10:59:45.809Z"
   },
   {
    "duration": 311,
    "start_time": "2021-12-14T10:59:52.849Z"
   },
   {
    "duration": 326,
    "start_time": "2021-12-14T11:00:00.318Z"
   },
   {
    "duration": 302,
    "start_time": "2021-12-14T11:00:08.488Z"
   },
   {
    "duration": 372,
    "start_time": "2021-12-14T11:00:26.207Z"
   },
   {
    "duration": 92,
    "start_time": "2021-12-14T11:00:31.039Z"
   },
   {
    "duration": 356,
    "start_time": "2021-12-14T11:01:01.389Z"
   },
   {
    "duration": 317,
    "start_time": "2021-12-14T11:02:32.288Z"
   },
   {
    "duration": 320,
    "start_time": "2021-12-14T11:02:54.316Z"
   },
   {
    "duration": 311,
    "start_time": "2021-12-14T11:03:06.218Z"
   },
   {
    "duration": 325,
    "start_time": "2021-12-14T11:03:16.198Z"
   },
   {
    "duration": 370,
    "start_time": "2021-12-14T11:04:38.233Z"
   },
   {
    "duration": 320,
    "start_time": "2021-12-14T11:05:11.108Z"
   },
   {
    "duration": 309,
    "start_time": "2021-12-14T11:05:18.976Z"
   },
   {
    "duration": 327,
    "start_time": "2021-12-14T11:05:25.456Z"
   },
   {
    "duration": 318,
    "start_time": "2021-12-14T11:05:32.721Z"
   },
   {
    "duration": 130,
    "start_time": "2021-12-14T11:12:31.704Z"
   },
   {
    "duration": 111,
    "start_time": "2021-12-14T11:12:35.231Z"
   },
   {
    "duration": 113,
    "start_time": "2021-12-14T11:12:47.816Z"
   },
   {
    "duration": 46,
    "start_time": "2021-12-14T11:12:50.037Z"
   },
   {
    "duration": 244,
    "start_time": "2021-12-14T11:13:24.517Z"
   },
   {
    "duration": 185,
    "start_time": "2021-12-14T11:15:02.970Z"
   },
   {
    "duration": 353,
    "start_time": "2021-12-14T11:30:44.448Z"
   },
   {
    "duration": 7,
    "start_time": "2021-12-14T11:30:49.588Z"
   },
   {
    "duration": 13,
    "start_time": "2021-12-14T11:31:07.868Z"
   },
   {
    "duration": 56,
    "start_time": "2021-12-14T11:35:25.640Z"
   },
   {
    "duration": 9,
    "start_time": "2021-12-14T11:35:38.599Z"
   },
   {
    "duration": 59,
    "start_time": "2021-12-14T11:35:44.118Z"
   },
   {
    "duration": 286,
    "start_time": "2021-12-14T11:36:09.936Z"
   },
   {
    "duration": 64,
    "start_time": "2021-12-14T11:36:21.036Z"
   },
   {
    "duration": 58,
    "start_time": "2021-12-14T11:36:32.318Z"
   },
   {
    "duration": 58,
    "start_time": "2021-12-14T11:39:07.489Z"
   },
   {
    "duration": 629,
    "start_time": "2021-12-14T11:42:45.499Z"
   },
   {
    "duration": 296,
    "start_time": "2021-12-14T11:43:20.188Z"
   },
   {
    "duration": 20,
    "start_time": "2021-12-14T11:43:41.078Z"
   },
   {
    "duration": 31,
    "start_time": "2021-12-14T11:43:52.768Z"
   },
   {
    "duration": 35,
    "start_time": "2021-12-14T11:43:59.498Z"
   },
   {
    "duration": 12399,
    "start_time": "2021-12-14T11:44:26.288Z"
   },
   {
    "duration": 86791,
    "start_time": "2021-12-14T11:43:11.899Z"
   },
   {
    "duration": 25,
    "start_time": "2021-12-14T11:44:56.559Z"
   },
   {
    "duration": 17,
    "start_time": "2021-12-14T11:45:55.039Z"
   },
   {
    "duration": 680,
    "start_time": "2021-12-14T18:22:45.630Z"
   },
   {
    "duration": 30,
    "start_time": "2021-12-14T18:22:46.312Z"
   },
   {
    "duration": 77,
    "start_time": "2021-12-14T18:22:46.345Z"
   },
   {
    "duration": 176,
    "start_time": "2021-12-14T18:22:46.425Z"
   },
   {
    "duration": 7,
    "start_time": "2021-12-14T18:22:46.603Z"
   },
   {
    "duration": 15,
    "start_time": "2021-12-14T18:22:46.611Z"
   },
   {
    "duration": 72,
    "start_time": "2021-12-14T18:22:46.628Z"
   },
   {
    "duration": 19,
    "start_time": "2021-12-14T18:22:46.703Z"
   },
   {
    "duration": 10,
    "start_time": "2021-12-14T18:22:46.725Z"
   },
   {
    "duration": 31,
    "start_time": "2021-12-14T18:22:46.737Z"
   },
   {
    "duration": 40,
    "start_time": "2021-12-14T18:22:46.770Z"
   },
   {
    "duration": 13,
    "start_time": "2021-12-14T18:22:46.812Z"
   },
   {
    "duration": 45,
    "start_time": "2021-12-14T18:22:46.827Z"
   },
   {
    "duration": 9,
    "start_time": "2021-12-14T18:22:46.874Z"
   },
   {
    "duration": 38,
    "start_time": "2021-12-14T18:22:46.884Z"
   },
   {
    "duration": 98,
    "start_time": "2021-12-14T18:22:46.924Z"
   },
   {
    "duration": 358,
    "start_time": "2021-12-14T18:22:47.024Z"
   },
   {
    "duration": 213,
    "start_time": "2021-12-14T18:22:47.384Z"
   },
   {
    "duration": 301,
    "start_time": "2021-12-14T18:22:47.599Z"
   },
   {
    "duration": 406,
    "start_time": "2021-12-14T18:22:47.902Z"
   },
   {
    "duration": 380,
    "start_time": "2021-12-14T18:22:48.310Z"
   },
   {
    "duration": 3,
    "start_time": "2021-12-14T18:22:48.692Z"
   },
   {
    "duration": 661,
    "start_time": "2021-12-14T18:22:48.699Z"
   },
   {
    "duration": 675,
    "start_time": "2021-12-14T18:28:07.272Z"
   },
   {
    "duration": 29,
    "start_time": "2021-12-14T18:28:10.231Z"
   },
   {
    "duration": 68,
    "start_time": "2021-12-14T18:28:10.262Z"
   },
   {
    "duration": 146,
    "start_time": "2021-12-14T18:28:10.332Z"
   },
   {
    "duration": 595,
    "start_time": "2021-12-15T07:52:42.144Z"
   },
   {
    "duration": 27,
    "start_time": "2021-12-15T07:52:42.741Z"
   },
   {
    "duration": 76,
    "start_time": "2021-12-15T07:52:42.770Z"
   },
   {
    "duration": 146,
    "start_time": "2021-12-15T07:52:42.848Z"
   },
   {
    "duration": 5,
    "start_time": "2021-12-15T07:52:42.995Z"
   },
   {
    "duration": 9,
    "start_time": "2021-12-15T07:52:43.001Z"
   },
   {
    "duration": 37,
    "start_time": "2021-12-15T07:52:43.011Z"
   },
   {
    "duration": 48,
    "start_time": "2021-12-15T07:52:43.050Z"
   },
   {
    "duration": 11,
    "start_time": "2021-12-15T07:52:43.101Z"
   },
   {
    "duration": 9,
    "start_time": "2021-12-15T07:52:43.114Z"
   },
   {
    "duration": 25,
    "start_time": "2021-12-15T07:52:43.125Z"
   },
   {
    "duration": 37,
    "start_time": "2021-12-15T07:52:43.152Z"
   },
   {
    "duration": 15,
    "start_time": "2021-12-15T07:52:43.191Z"
   },
   {
    "duration": 5,
    "start_time": "2021-12-15T07:52:43.208Z"
   },
   {
    "duration": 32,
    "start_time": "2021-12-15T07:52:43.215Z"
   },
   {
    "duration": 83,
    "start_time": "2021-12-15T07:52:43.249Z"
   },
   {
    "duration": 240,
    "start_time": "2021-12-15T07:52:43.334Z"
   },
   {
    "duration": 197,
    "start_time": "2021-12-15T07:52:43.576Z"
   },
   {
    "duration": 167,
    "start_time": "2021-12-15T07:52:43.775Z"
   },
   {
    "duration": 214,
    "start_time": "2021-12-15T07:52:43.944Z"
   },
   {
    "duration": 279,
    "start_time": "2021-12-15T07:52:44.159Z"
   },
   {
    "duration": 4,
    "start_time": "2021-12-15T07:52:44.440Z"
   },
   {
    "duration": 478,
    "start_time": "2021-12-15T07:52:44.446Z"
   },
   {
    "duration": 482,
    "start_time": "2021-12-15T07:52:44.926Z"
   },
   {
    "duration": 453,
    "start_time": "2021-12-15T07:52:45.409Z"
   },
   {
    "duration": 136,
    "start_time": "2021-12-15T07:52:45.863Z"
   },
   {
    "duration": 133,
    "start_time": "2021-12-15T07:52:46.002Z"
   },
   {
    "duration": 131,
    "start_time": "2021-12-15T07:52:46.137Z"
   },
   {
    "duration": 155,
    "start_time": "2021-12-15T07:52:46.269Z"
   },
   {
    "duration": 143,
    "start_time": "2021-12-15T07:52:46.425Z"
   },
   {
    "duration": 23,
    "start_time": "2021-12-15T07:52:46.570Z"
   },
   {
    "duration": 304,
    "start_time": "2021-12-15T07:52:46.594Z"
   },
   {
    "duration": 225,
    "start_time": "2021-12-15T07:52:46.900Z"
   },
   {
    "duration": 162,
    "start_time": "2021-12-15T07:52:47.127Z"
   },
   {
    "duration": 163,
    "start_time": "2021-12-15T07:52:47.291Z"
   },
   {
    "duration": 2334,
    "start_time": "2021-12-15T07:52:47.455Z"
   },
   {
    "duration": 36,
    "start_time": "2021-12-15T08:06:53.604Z"
   },
   {
    "duration": 50,
    "start_time": "2021-12-15T08:07:11.553Z"
   },
   {
    "duration": 37,
    "start_time": "2021-12-15T08:07:20.294Z"
   },
   {
    "duration": 37,
    "start_time": "2021-12-15T08:07:32.514Z"
   },
   {
    "duration": 197,
    "start_time": "2021-12-15T08:37:58.808Z"
   },
   {
    "duration": 646,
    "start_time": "2021-12-15T08:38:05.856Z"
   },
   {
    "duration": 27,
    "start_time": "2021-12-15T08:38:06.504Z"
   },
   {
    "duration": 74,
    "start_time": "2021-12-15T08:38:06.533Z"
   },
   {
    "duration": 137,
    "start_time": "2021-12-15T08:38:06.608Z"
   },
   {
    "duration": 41,
    "start_time": "2021-12-15T08:38:06.747Z"
   },
   {
    "duration": 21,
    "start_time": "2021-12-15T08:38:06.790Z"
   },
   {
    "duration": 35,
    "start_time": "2021-12-15T08:38:06.813Z"
   },
   {
    "duration": 17,
    "start_time": "2021-12-15T08:38:06.850Z"
   },
   {
    "duration": 23,
    "start_time": "2021-12-15T08:38:06.870Z"
   },
   {
    "duration": 19,
    "start_time": "2021-12-15T08:38:06.895Z"
   },
   {
    "duration": 32,
    "start_time": "2021-12-15T08:38:06.916Z"
   },
   {
    "duration": 13,
    "start_time": "2021-12-15T08:38:06.949Z"
   },
   {
    "duration": 28,
    "start_time": "2021-12-15T08:38:06.964Z"
   },
   {
    "duration": 7,
    "start_time": "2021-12-15T08:38:06.994Z"
   },
   {
    "duration": 74,
    "start_time": "2021-12-15T08:38:07.003Z"
   },
   {
    "duration": 50,
    "start_time": "2021-12-15T08:38:07.078Z"
   },
   {
    "duration": 3,
    "start_time": "2021-12-15T08:38:07.130Z"
   },
   {
    "duration": 278,
    "start_time": "2021-12-15T08:38:07.135Z"
   },
   {
    "duration": 191,
    "start_time": "2021-12-15T08:38:07.415Z"
   },
   {
    "duration": 171,
    "start_time": "2021-12-15T08:38:07.608Z"
   },
   {
    "duration": 216,
    "start_time": "2021-12-15T08:38:07.787Z"
   },
   {
    "duration": 287,
    "start_time": "2021-12-15T08:38:08.004Z"
   },
   {
    "duration": 4,
    "start_time": "2021-12-15T08:38:08.293Z"
   },
   {
    "duration": 495,
    "start_time": "2021-12-15T08:38:08.298Z"
   },
   {
    "duration": 666,
    "start_time": "2021-12-15T08:38:08.795Z"
   },
   {
    "duration": 676,
    "start_time": "2021-12-15T08:38:09.463Z"
   },
   {
    "duration": 201,
    "start_time": "2021-12-15T08:38:10.143Z"
   },
   {
    "duration": 189,
    "start_time": "2021-12-15T08:38:10.346Z"
   },
   {
    "duration": 203,
    "start_time": "2021-12-15T08:38:10.537Z"
   },
   {
    "duration": 246,
    "start_time": "2021-12-15T08:38:10.742Z"
   },
   {
    "duration": 217,
    "start_time": "2021-12-15T08:38:10.991Z"
   },
   {
    "duration": 22,
    "start_time": "2021-12-15T08:38:11.210Z"
   },
   {
    "duration": 494,
    "start_time": "2021-12-15T08:38:11.234Z"
   },
   {
    "duration": 358,
    "start_time": "2021-12-15T08:38:11.730Z"
   },
   {
    "duration": 248,
    "start_time": "2021-12-15T08:38:12.089Z"
   },
   {
    "duration": 168,
    "start_time": "2021-12-15T08:38:12.339Z"
   },
   {
    "duration": 2451,
    "start_time": "2021-12-15T08:38:12.508Z"
   },
   {
    "duration": 901,
    "start_time": "2021-12-15T10:27:03.594Z"
   },
   {
    "duration": 50,
    "start_time": "2021-12-15T10:27:04.498Z"
   },
   {
    "duration": 126,
    "start_time": "2021-12-15T10:27:04.550Z"
   },
   {
    "duration": 261,
    "start_time": "2021-12-15T10:27:04.679Z"
   },
   {
    "duration": 6,
    "start_time": "2021-12-15T10:27:04.942Z"
   },
   {
    "duration": 16,
    "start_time": "2021-12-15T10:27:04.950Z"
   },
   {
    "duration": 80,
    "start_time": "2021-12-15T10:27:04.968Z"
   },
   {
    "duration": 27,
    "start_time": "2021-12-15T10:27:05.050Z"
   },
   {
    "duration": 17,
    "start_time": "2021-12-15T10:27:05.081Z"
   },
   {
    "duration": 33,
    "start_time": "2021-12-15T10:27:05.101Z"
   },
   {
    "duration": 40,
    "start_time": "2021-12-15T10:27:05.136Z"
   },
   {
    "duration": 57,
    "start_time": "2021-12-15T10:27:05.178Z"
   },
   {
    "duration": 26,
    "start_time": "2021-12-15T10:27:05.237Z"
   },
   {
    "duration": 14,
    "start_time": "2021-12-15T10:27:05.265Z"
   },
   {
    "duration": 76,
    "start_time": "2021-12-15T10:27:05.281Z"
   },
   {
    "duration": 81,
    "start_time": "2021-12-15T10:27:05.359Z"
   },
   {
    "duration": 4,
    "start_time": "2021-12-15T10:27:05.443Z"
   },
   {
    "duration": 483,
    "start_time": "2021-12-15T10:27:05.449Z"
   },
   {
    "duration": 351,
    "start_time": "2021-12-15T10:27:05.934Z"
   },
   {
    "duration": 329,
    "start_time": "2021-12-15T10:27:06.288Z"
   },
   {
    "duration": 381,
    "start_time": "2021-12-15T10:27:06.619Z"
   },
   {
    "duration": 544,
    "start_time": "2021-12-15T10:27:07.003Z"
   },
   {
    "duration": 6,
    "start_time": "2021-12-15T10:27:07.550Z"
   },
   {
    "duration": 744,
    "start_time": "2021-12-15T10:27:07.559Z"
   },
   {
    "duration": 791,
    "start_time": "2021-12-15T10:27:08.307Z"
   },
   {
    "duration": 796,
    "start_time": "2021-12-15T10:27:09.110Z"
   },
   {
    "duration": 254,
    "start_time": "2021-12-15T10:27:09.910Z"
   },
   {
    "duration": 263,
    "start_time": "2021-12-15T10:27:10.166Z"
   },
   {
    "duration": 237,
    "start_time": "2021-12-15T10:27:10.432Z"
   },
   {
    "duration": 295,
    "start_time": "2021-12-15T10:27:10.672Z"
   },
   {
    "duration": 265,
    "start_time": "2021-12-15T10:27:10.969Z"
   },
   {
    "duration": 25,
    "start_time": "2021-12-15T10:27:11.237Z"
   },
   {
    "duration": 569,
    "start_time": "2021-12-15T10:27:11.264Z"
   },
   {
    "duration": 433,
    "start_time": "2021-12-15T10:27:11.835Z"
   },
   {
    "duration": 298,
    "start_time": "2021-12-15T10:27:12.270Z"
   },
   {
    "duration": 323,
    "start_time": "2021-12-15T10:27:12.571Z"
   },
   {
    "duration": 4084,
    "start_time": "2021-12-15T10:27:12.896Z"
   },
   {
    "duration": 744,
    "start_time": "2021-12-15T10:28:25.354Z"
   },
   {
    "duration": 787,
    "start_time": "2021-12-15T10:28:43.694Z"
   },
   {
    "duration": 835,
    "start_time": "2021-12-15T10:29:02.754Z"
   },
   {
    "duration": 758,
    "start_time": "2021-12-15T10:36:26.905Z"
   },
   {
    "duration": 730,
    "start_time": "2021-12-15T10:36:47.667Z"
   },
   {
    "duration": 735,
    "start_time": "2021-12-15T10:37:00.057Z"
   },
   {
    "duration": 825,
    "start_time": "2021-12-15T10:38:19.754Z"
   },
   {
    "duration": 1110,
    "start_time": "2021-12-15T10:45:17.974Z"
   },
   {
    "duration": 104,
    "start_time": "2021-12-15T10:46:26.596Z"
   },
   {
    "duration": 78,
    "start_time": "2021-12-15T10:46:29.694Z"
   },
   {
    "duration": 756,
    "start_time": "2021-12-15T10:46:40.136Z"
   },
   {
    "duration": 637,
    "start_time": "2021-12-15T10:48:51.003Z"
   },
   {
    "duration": 236,
    "start_time": "2021-12-15T10:48:57.235Z"
   },
   {
    "duration": 251,
    "start_time": "2021-12-15T10:49:34.604Z"
   },
   {
    "duration": 7,
    "start_time": "2021-12-15T10:53:23.674Z"
   },
   {
    "duration": 607,
    "start_time": "2021-12-15T10:53:27.814Z"
   },
   {
    "duration": 522,
    "start_time": "2021-12-15T10:53:33.936Z"
   },
   {
    "duration": 519,
    "start_time": "2021-12-15T10:53:36.915Z"
   },
   {
    "duration": 429,
    "start_time": "2021-12-15T10:56:31.375Z"
   },
   {
    "duration": 403,
    "start_time": "2021-12-15T10:56:36.964Z"
   },
   {
    "duration": 438,
    "start_time": "2021-12-15T12:03:07.613Z"
   },
   {
    "duration": 54,
    "start_time": "2021-12-15T12:03:15.514Z"
   },
   {
    "duration": 413,
    "start_time": "2021-12-15T12:03:26.935Z"
   },
   {
    "duration": 415,
    "start_time": "2021-12-15T12:03:35.054Z"
   },
   {
    "duration": 402,
    "start_time": "2021-12-15T12:06:59.783Z"
   },
   {
    "duration": 293,
    "start_time": "2021-12-15T12:07:13.353Z"
   },
   {
    "duration": 1514,
    "start_time": "2021-12-15T12:10:51.469Z"
   },
   {
    "duration": 490,
    "start_time": "2021-12-15T12:11:14.575Z"
   },
   {
    "duration": 480,
    "start_time": "2021-12-15T12:11:16.684Z"
   },
   {
    "duration": 468,
    "start_time": "2021-12-15T12:11:28.502Z"
   },
   {
    "duration": 489,
    "start_time": "2021-12-15T12:11:45.310Z"
   },
   {
    "duration": 447,
    "start_time": "2021-12-15T12:12:56.714Z"
   },
   {
    "duration": 501,
    "start_time": "2021-12-15T12:13:08.756Z"
   },
   {
    "duration": 473,
    "start_time": "2021-12-15T12:13:12.555Z"
   },
   {
    "duration": 467,
    "start_time": "2021-12-15T12:13:19.252Z"
   },
   {
    "duration": 477,
    "start_time": "2021-12-15T12:22:55.733Z"
   },
   {
    "duration": 251,
    "start_time": "2021-12-15T12:44:14.784Z"
   },
   {
    "duration": 226,
    "start_time": "2021-12-15T12:45:22.585Z"
   },
   {
    "duration": 403,
    "start_time": "2021-12-15T12:45:55.752Z"
   },
   {
    "duration": 268,
    "start_time": "2021-12-15T12:46:03.512Z"
   },
   {
    "duration": 280,
    "start_time": "2021-12-15T12:46:36.785Z"
   },
   {
    "duration": 301,
    "start_time": "2021-12-15T12:46:43.656Z"
   },
   {
    "duration": 259,
    "start_time": "2021-12-15T12:46:54.760Z"
   },
   {
    "duration": 248,
    "start_time": "2021-12-15T12:47:03.465Z"
   },
   {
    "duration": 261,
    "start_time": "2021-12-15T12:47:10.105Z"
   },
   {
    "duration": 249,
    "start_time": "2021-12-15T12:47:44.144Z"
   },
   {
    "duration": 250,
    "start_time": "2021-12-15T12:49:31.073Z"
   },
   {
    "duration": 921,
    "start_time": "2021-12-15T12:49:39.298Z"
   },
   {
    "duration": 50,
    "start_time": "2021-12-15T12:49:40.222Z"
   },
   {
    "duration": 155,
    "start_time": "2021-12-15T12:49:40.275Z"
   },
   {
    "duration": 230,
    "start_time": "2021-12-15T12:49:40.432Z"
   },
   {
    "duration": 55,
    "start_time": "2021-12-15T12:49:40.664Z"
   },
   {
    "duration": 15,
    "start_time": "2021-12-15T12:49:40.722Z"
   },
   {
    "duration": 106,
    "start_time": "2021-12-15T12:49:40.740Z"
   },
   {
    "duration": 37,
    "start_time": "2021-12-15T12:49:40.851Z"
   },
   {
    "duration": 46,
    "start_time": "2021-12-15T12:49:40.891Z"
   },
   {
    "duration": 16,
    "start_time": "2021-12-15T12:49:40.941Z"
   },
   {
    "duration": 89,
    "start_time": "2021-12-15T12:49:40.960Z"
   },
   {
    "duration": 25,
    "start_time": "2021-12-15T12:49:41.052Z"
   },
   {
    "duration": 62,
    "start_time": "2021-12-15T12:49:41.080Z"
   },
   {
    "duration": 15,
    "start_time": "2021-12-15T12:49:41.145Z"
   },
   {
    "duration": 99,
    "start_time": "2021-12-15T12:49:41.163Z"
   },
   {
    "duration": 128,
    "start_time": "2021-12-15T12:49:41.265Z"
   },
   {
    "duration": 6,
    "start_time": "2021-12-15T12:49:41.396Z"
   },
   {
    "duration": 712,
    "start_time": "2021-12-15T12:49:41.405Z"
   },
   {
    "duration": 547,
    "start_time": "2021-12-15T12:49:42.120Z"
   },
   {
    "duration": 313,
    "start_time": "2021-12-15T12:49:42.669Z"
   },
   {
    "duration": 420,
    "start_time": "2021-12-15T12:49:42.985Z"
   },
   {
    "duration": 609,
    "start_time": "2021-12-15T12:49:43.408Z"
   },
   {
    "duration": 5,
    "start_time": "2021-12-15T12:49:44.020Z"
   },
   {
    "duration": 746,
    "start_time": "2021-12-15T12:49:44.028Z"
   },
   {
    "duration": 802,
    "start_time": "2021-12-15T12:49:44.777Z"
   },
   {
    "duration": 1099,
    "start_time": "2021-12-15T12:49:45.587Z"
   },
   {
    "duration": 250,
    "start_time": "2021-12-15T12:49:46.689Z"
   },
   {
    "duration": 247,
    "start_time": "2021-12-15T12:49:46.942Z"
   },
   {
    "duration": 251,
    "start_time": "2021-12-15T12:49:47.192Z"
   },
   {
    "duration": 297,
    "start_time": "2021-12-15T12:49:47.445Z"
   },
   {
    "duration": 275,
    "start_time": "2021-12-15T12:49:47.745Z"
   },
   {
    "duration": 26,
    "start_time": "2021-12-15T12:49:48.023Z"
   },
   {
    "duration": 580,
    "start_time": "2021-12-15T12:49:48.052Z"
   },
   {
    "duration": 435,
    "start_time": "2021-12-15T12:49:48.636Z"
   },
   {
    "duration": 306,
    "start_time": "2021-12-15T12:49:49.074Z"
   },
   {
    "duration": 483,
    "start_time": "2021-12-15T12:49:49.382Z"
   },
   {
    "duration": 620,
    "start_time": "2021-12-15T12:49:49.868Z"
   },
   {
    "duration": 627,
    "start_time": "2021-12-15T12:49:50.490Z"
   },
   {
    "duration": 482,
    "start_time": "2021-12-15T12:49:51.120Z"
   },
   {
    "duration": 255,
    "start_time": "2021-12-15T12:49:51.605Z"
   },
   {
    "duration": 302,
    "start_time": "2021-12-15T12:49:51.863Z"
   },
   {
    "duration": 283,
    "start_time": "2021-12-15T12:49:52.168Z"
   },
   {
    "duration": 299,
    "start_time": "2021-12-15T12:55:21.980Z"
   },
   {
    "duration": 240,
    "start_time": "2021-12-15T12:55:31.307Z"
   },
   {
    "duration": 240,
    "start_time": "2021-12-15T12:55:45.199Z"
   },
   {
    "duration": 240,
    "start_time": "2021-12-15T12:55:47.508Z"
   },
   {
    "duration": 330,
    "start_time": "2021-12-15T17:03:35.414Z"
   },
   {
    "duration": 890,
    "start_time": "2021-12-15T17:03:50.401Z"
   },
   {
    "duration": 55,
    "start_time": "2021-12-15T17:03:51.293Z"
   },
   {
    "duration": 121,
    "start_time": "2021-12-15T17:03:51.367Z"
   },
   {
    "duration": 233,
    "start_time": "2021-12-15T17:03:51.491Z"
   },
   {
    "duration": 10,
    "start_time": "2021-12-15T17:03:51.767Z"
   },
   {
    "duration": 32,
    "start_time": "2021-12-15T17:03:51.780Z"
   },
   {
    "duration": 79,
    "start_time": "2021-12-15T17:03:51.815Z"
   },
   {
    "duration": 29,
    "start_time": "2021-12-15T17:03:51.898Z"
   },
   {
    "duration": 48,
    "start_time": "2021-12-15T17:03:51.930Z"
   },
   {
    "duration": 28,
    "start_time": "2021-12-15T17:03:51.980Z"
   },
   {
    "duration": 63,
    "start_time": "2021-12-15T17:03:52.011Z"
   },
   {
    "duration": 21,
    "start_time": "2021-12-15T17:03:52.076Z"
   },
   {
    "duration": 25,
    "start_time": "2021-12-15T17:03:52.100Z"
   },
   {
    "duration": 20,
    "start_time": "2021-12-15T17:03:52.128Z"
   },
   {
    "duration": 58,
    "start_time": "2021-12-15T17:03:52.166Z"
   },
   {
    "duration": 105,
    "start_time": "2021-12-15T17:03:52.227Z"
   },
   {
    "duration": 4,
    "start_time": "2021-12-15T17:03:52.335Z"
   },
   {
    "duration": 478,
    "start_time": "2021-12-15T17:03:52.342Z"
   },
   {
    "duration": 375,
    "start_time": "2021-12-15T17:03:52.822Z"
   },
   {
    "duration": 345,
    "start_time": "2021-12-15T17:03:53.200Z"
   },
   {
    "duration": 378,
    "start_time": "2021-12-15T17:03:53.547Z"
   },
   {
    "duration": 559,
    "start_time": "2021-12-15T17:03:53.927Z"
   },
   {
    "duration": 5,
    "start_time": "2021-12-15T17:03:54.491Z"
   },
   {
    "duration": 790,
    "start_time": "2021-12-15T17:03:54.499Z"
   },
   {
    "duration": 745,
    "start_time": "2021-12-15T17:03:55.292Z"
   },
   {
    "duration": 810,
    "start_time": "2021-12-15T17:03:56.040Z"
   },
   {
    "duration": 253,
    "start_time": "2021-12-15T17:03:56.852Z"
   },
   {
    "duration": 263,
    "start_time": "2021-12-15T17:03:57.107Z"
   },
   {
    "duration": 260,
    "start_time": "2021-12-15T17:03:57.373Z"
   },
   {
    "duration": 312,
    "start_time": "2021-12-15T17:03:57.635Z"
   },
   {
    "duration": 281,
    "start_time": "2021-12-15T17:03:57.949Z"
   },
   {
    "duration": 52,
    "start_time": "2021-12-15T17:03:58.232Z"
   },
   {
    "duration": 564,
    "start_time": "2021-12-15T17:03:58.286Z"
   },
   {
    "duration": 665,
    "start_time": "2021-12-15T17:03:58.854Z"
   },
   {
    "duration": 320,
    "start_time": "2021-12-15T17:03:59.522Z"
   },
   {
    "duration": 337,
    "start_time": "2021-12-15T17:03:59.845Z"
   },
   {
    "duration": 489,
    "start_time": "2021-12-15T17:04:00.185Z"
   },
   {
    "duration": 474,
    "start_time": "2021-12-15T17:04:00.677Z"
   },
   {
    "duration": 508,
    "start_time": "2021-12-15T17:04:01.153Z"
   },
   {
    "duration": 268,
    "start_time": "2021-12-15T17:04:01.664Z"
   },
   {
    "duration": 259,
    "start_time": "2021-12-15T17:04:01.934Z"
   },
   {
    "duration": 266,
    "start_time": "2021-12-15T17:04:02.196Z"
   },
   {
    "duration": 381,
    "start_time": "2021-12-15T17:04:02.468Z"
   },
   {
    "duration": 262,
    "start_time": "2021-12-15T17:04:03.133Z"
   },
   {
    "duration": 278,
    "start_time": "2021-12-15T17:04:21.896Z"
   },
   {
    "duration": 781,
    "start_time": "2021-12-15T17:29:50.997Z"
   },
   {
    "duration": 241,
    "start_time": "2021-12-15T17:30:04.397Z"
   },
   {
    "duration": 68,
    "start_time": "2021-12-15T17:44:43.816Z"
   },
   {
    "duration": 1466,
    "start_time": "2021-12-15T17:48:34.681Z"
   },
   {
    "duration": 1494,
    "start_time": "2021-12-15T17:48:44.176Z"
   },
   {
    "duration": 1074,
    "start_time": "2021-12-15T17:49:04.818Z"
   },
   {
    "duration": 6,
    "start_time": "2021-12-15T17:52:29.036Z"
   },
   {
    "duration": 12,
    "start_time": "2021-12-15T18:14:52.899Z"
   },
   {
    "duration": 923,
    "start_time": "2021-12-15T18:58:29.757Z"
   },
   {
    "duration": 8,
    "start_time": "2021-12-15T19:09:16.577Z"
   },
   {
    "duration": 248,
    "start_time": "2021-12-15T19:09:29.468Z"
   },
   {
    "duration": 297,
    "start_time": "2021-12-16T07:28:54.676Z"
   },
   {
    "duration": 332,
    "start_time": "2021-12-16T07:29:23.906Z"
   },
   {
    "duration": 678,
    "start_time": "2021-12-16T07:29:32.016Z"
   },
   {
    "duration": 28,
    "start_time": "2021-12-16T07:29:32.696Z"
   },
   {
    "duration": 75,
    "start_time": "2021-12-16T07:29:32.726Z"
   },
   {
    "duration": 124,
    "start_time": "2021-12-16T07:29:32.803Z"
   },
   {
    "duration": 4,
    "start_time": "2021-12-16T07:29:32.929Z"
   },
   {
    "duration": 57,
    "start_time": "2021-12-16T07:29:32.934Z"
   },
   {
    "duration": 33,
    "start_time": "2021-12-16T07:29:32.992Z"
   },
   {
    "duration": 16,
    "start_time": "2021-12-16T07:29:33.026Z"
   },
   {
    "duration": 11,
    "start_time": "2021-12-16T07:29:33.044Z"
   },
   {
    "duration": 32,
    "start_time": "2021-12-16T07:29:33.056Z"
   },
   {
    "duration": 24,
    "start_time": "2021-12-16T07:29:33.090Z"
   },
   {
    "duration": 11,
    "start_time": "2021-12-16T07:29:33.116Z"
   },
   {
    "duration": 17,
    "start_time": "2021-12-16T07:29:33.129Z"
   },
   {
    "duration": 6,
    "start_time": "2021-12-16T07:29:33.147Z"
   },
   {
    "duration": 62,
    "start_time": "2021-12-16T07:29:33.155Z"
   },
   {
    "duration": 46,
    "start_time": "2021-12-16T07:29:33.219Z"
   },
   {
    "duration": 299,
    "start_time": "2021-12-16T07:29:33.267Z"
   },
   {
    "duration": 91827,
    "start_time": "2021-12-16T07:28:01.742Z"
   },
   {
    "duration": 91819,
    "start_time": "2021-12-16T07:28:01.751Z"
   },
   {
    "duration": 91805,
    "start_time": "2021-12-16T07:28:01.766Z"
   },
   {
    "duration": 91799,
    "start_time": "2021-12-16T07:28:01.773Z"
   },
   {
    "duration": 91791,
    "start_time": "2021-12-16T07:28:01.782Z"
   },
   {
    "duration": 91786,
    "start_time": "2021-12-16T07:28:01.788Z"
   },
   {
    "duration": 91779,
    "start_time": "2021-12-16T07:28:01.796Z"
   },
   {
    "duration": 91775,
    "start_time": "2021-12-16T07:28:01.801Z"
   },
   {
    "duration": 91768,
    "start_time": "2021-12-16T07:28:01.809Z"
   },
   {
    "duration": 91765,
    "start_time": "2021-12-16T07:28:01.813Z"
   },
   {
    "duration": 91747,
    "start_time": "2021-12-16T07:28:01.832Z"
   },
   {
    "duration": 91743,
    "start_time": "2021-12-16T07:28:01.837Z"
   },
   {
    "duration": 91734,
    "start_time": "2021-12-16T07:28:01.847Z"
   },
   {
    "duration": 91730,
    "start_time": "2021-12-16T07:28:01.852Z"
   },
   {
    "duration": 91723,
    "start_time": "2021-12-16T07:28:01.859Z"
   },
   {
    "duration": 91718,
    "start_time": "2021-12-16T07:28:01.865Z"
   },
   {
    "duration": 91715,
    "start_time": "2021-12-16T07:28:01.869Z"
   },
   {
    "duration": 91709,
    "start_time": "2021-12-16T07:28:01.876Z"
   },
   {
    "duration": 91704,
    "start_time": "2021-12-16T07:28:01.882Z"
   },
   {
    "duration": 91701,
    "start_time": "2021-12-16T07:28:01.886Z"
   },
   {
    "duration": 91694,
    "start_time": "2021-12-16T07:28:01.894Z"
   },
   {
    "duration": 91689,
    "start_time": "2021-12-16T07:28:01.900Z"
   },
   {
    "duration": 91686,
    "start_time": "2021-12-16T07:28:01.904Z"
   },
   {
    "duration": 91679,
    "start_time": "2021-12-16T07:28:01.911Z"
   },
   {
    "duration": 91674,
    "start_time": "2021-12-16T07:28:01.917Z"
   },
   {
    "duration": 91671,
    "start_time": "2021-12-16T07:28:01.921Z"
   },
   {
    "duration": 91663,
    "start_time": "2021-12-16T07:28:01.930Z"
   },
   {
    "duration": 343,
    "start_time": "2021-12-16T07:37:05.123Z"
   },
   {
    "duration": 616,
    "start_time": "2021-12-16T07:37:12.329Z"
   },
   {
    "duration": 28,
    "start_time": "2021-12-16T07:37:12.947Z"
   },
   {
    "duration": 73,
    "start_time": "2021-12-16T07:37:12.977Z"
   },
   {
    "duration": 159,
    "start_time": "2021-12-16T07:37:13.051Z"
   },
   {
    "duration": 5,
    "start_time": "2021-12-16T07:37:13.212Z"
   },
   {
    "duration": 10,
    "start_time": "2021-12-16T07:37:13.219Z"
   },
   {
    "duration": 69,
    "start_time": "2021-12-16T07:37:13.231Z"
   },
   {
    "duration": 25,
    "start_time": "2021-12-16T07:37:13.302Z"
   },
   {
    "duration": 17,
    "start_time": "2021-12-16T07:37:13.330Z"
   },
   {
    "duration": 16,
    "start_time": "2021-12-16T07:37:13.350Z"
   },
   {
    "duration": 36,
    "start_time": "2021-12-16T07:37:13.388Z"
   },
   {
    "duration": 12,
    "start_time": "2021-12-16T07:37:13.426Z"
   },
   {
    "duration": 18,
    "start_time": "2021-12-16T07:37:13.439Z"
   },
   {
    "duration": 29,
    "start_time": "2021-12-16T07:37:13.459Z"
   },
   {
    "duration": 36,
    "start_time": "2021-12-16T07:37:13.489Z"
   },
   {
    "duration": 63,
    "start_time": "2021-12-16T07:37:13.526Z"
   },
   {
    "duration": 301,
    "start_time": "2021-12-16T07:37:13.590Z"
   },
   {
    "duration": 91802,
    "start_time": "2021-12-16T07:35:42.092Z"
   },
   {
    "duration": 91778,
    "start_time": "2021-12-16T07:35:42.117Z"
   },
   {
    "duration": 91773,
    "start_time": "2021-12-16T07:35:42.123Z"
   },
   {
    "duration": 91765,
    "start_time": "2021-12-16T07:35:42.132Z"
   },
   {
    "duration": 91760,
    "start_time": "2021-12-16T07:35:42.138Z"
   },
   {
    "duration": 91756,
    "start_time": "2021-12-16T07:35:42.143Z"
   },
   {
    "duration": 91748,
    "start_time": "2021-12-16T07:35:42.152Z"
   },
   {
    "duration": 91745,
    "start_time": "2021-12-16T07:35:42.156Z"
   },
   {
    "duration": 91737,
    "start_time": "2021-12-16T07:35:42.165Z"
   },
   {
    "duration": 91695,
    "start_time": "2021-12-16T07:35:42.208Z"
   },
   {
    "duration": 91688,
    "start_time": "2021-12-16T07:35:42.216Z"
   },
   {
    "duration": 91683,
    "start_time": "2021-12-16T07:35:42.222Z"
   },
   {
    "duration": 91678,
    "start_time": "2021-12-16T07:35:42.227Z"
   },
   {
    "duration": 91671,
    "start_time": "2021-12-16T07:35:42.235Z"
   },
   {
    "duration": 91667,
    "start_time": "2021-12-16T07:35:42.240Z"
   },
   {
    "duration": 91660,
    "start_time": "2021-12-16T07:35:42.248Z"
   },
   {
    "duration": 91655,
    "start_time": "2021-12-16T07:35:42.254Z"
   },
   {
    "duration": 91652,
    "start_time": "2021-12-16T07:35:42.258Z"
   },
   {
    "duration": 91645,
    "start_time": "2021-12-16T07:35:42.266Z"
   },
   {
    "duration": 91640,
    "start_time": "2021-12-16T07:35:42.272Z"
   },
   {
    "duration": 91637,
    "start_time": "2021-12-16T07:35:42.276Z"
   },
   {
    "duration": 91629,
    "start_time": "2021-12-16T07:35:42.285Z"
   },
   {
    "duration": 91625,
    "start_time": "2021-12-16T07:35:42.290Z"
   },
   {
    "duration": 91616,
    "start_time": "2021-12-16T07:35:42.299Z"
   },
   {
    "duration": 91612,
    "start_time": "2021-12-16T07:35:42.304Z"
   },
   {
    "duration": 91607,
    "start_time": "2021-12-16T07:35:42.310Z"
   },
   {
    "duration": 91599,
    "start_time": "2021-12-16T07:35:42.318Z"
   },
   {
    "duration": 254,
    "start_time": "2021-12-16T07:39:00.216Z"
   },
   {
    "duration": 10,
    "start_time": "2021-12-16T07:42:08.452Z"
   },
   {
    "duration": 234,
    "start_time": "2021-12-16T07:44:23.282Z"
   },
   {
    "duration": 243,
    "start_time": "2021-12-16T07:44:28.272Z"
   },
   {
    "duration": 239,
    "start_time": "2021-12-16T07:44:32.932Z"
   },
   {
    "duration": 324,
    "start_time": "2021-12-16T07:44:38.092Z"
   },
   {
    "duration": 237,
    "start_time": "2021-12-16T07:44:40.882Z"
   },
   {
    "duration": 242,
    "start_time": "2021-12-16T07:44:45.271Z"
   },
   {
    "duration": 4,
    "start_time": "2021-12-16T07:44:51.292Z"
   },
   {
    "duration": 248,
    "start_time": "2021-12-16T07:47:09.020Z"
   },
   {
    "duration": 4,
    "start_time": "2021-12-16T07:47:53.172Z"
   },
   {
    "duration": 4,
    "start_time": "2021-12-16T07:48:57.962Z"
   },
   {
    "duration": 628,
    "start_time": "2021-12-16T07:49:03.032Z"
   },
   {
    "duration": 28,
    "start_time": "2021-12-16T07:49:03.662Z"
   },
   {
    "duration": 61,
    "start_time": "2021-12-16T07:49:03.692Z"
   },
   {
    "duration": 163,
    "start_time": "2021-12-16T07:49:03.755Z"
   },
   {
    "duration": 5,
    "start_time": "2021-12-16T07:49:03.919Z"
   },
   {
    "duration": 19,
    "start_time": "2021-12-16T07:49:03.925Z"
   },
   {
    "duration": 62,
    "start_time": "2021-12-16T07:49:03.946Z"
   },
   {
    "duration": 15,
    "start_time": "2021-12-16T07:49:04.010Z"
   },
   {
    "duration": 21,
    "start_time": "2021-12-16T07:49:04.028Z"
   },
   {
    "duration": 59,
    "start_time": "2021-12-16T07:49:04.051Z"
   },
   {
    "duration": 39,
    "start_time": "2021-12-16T07:49:04.111Z"
   },
   {
    "duration": 12,
    "start_time": "2021-12-16T07:49:04.152Z"
   },
   {
    "duration": 44,
    "start_time": "2021-12-16T07:49:04.165Z"
   },
   {
    "duration": 22,
    "start_time": "2021-12-16T07:49:04.211Z"
   },
   {
    "duration": 50,
    "start_time": "2021-12-16T07:49:04.235Z"
   },
   {
    "duration": 34,
    "start_time": "2021-12-16T07:49:04.286Z"
   },
   {
    "duration": 68,
    "start_time": "2021-12-16T07:49:04.322Z"
   },
   {
    "duration": 4,
    "start_time": "2021-12-16T07:49:04.391Z"
   },
   {
    "duration": 17,
    "start_time": "2021-12-16T07:49:04.396Z"
   },
   {
    "duration": 381,
    "start_time": "2021-12-16T07:49:04.414Z"
   },
   {
    "duration": 185,
    "start_time": "2021-12-16T07:49:04.797Z"
   },
   {
    "duration": 179,
    "start_time": "2021-12-16T07:49:04.983Z"
   },
   {
    "duration": 225,
    "start_time": "2021-12-16T07:49:05.164Z"
   },
   {
    "duration": 283,
    "start_time": "2021-12-16T07:49:05.391Z"
   },
   {
    "duration": 13,
    "start_time": "2021-12-16T07:49:05.675Z"
   },
   {
    "duration": 491,
    "start_time": "2021-12-16T07:49:05.689Z"
   },
   {
    "duration": 630,
    "start_time": "2021-12-16T07:49:06.184Z"
   },
   {
    "duration": 518,
    "start_time": "2021-12-16T07:49:06.816Z"
   },
   {
    "duration": 136,
    "start_time": "2021-12-16T07:49:07.336Z"
   },
   {
    "duration": 144,
    "start_time": "2021-12-16T07:49:07.474Z"
   },
   {
    "duration": 135,
    "start_time": "2021-12-16T07:49:07.620Z"
   },
   {
    "duration": 167,
    "start_time": "2021-12-16T07:49:07.757Z"
   },
   {
    "duration": 152,
    "start_time": "2021-12-16T07:49:07.926Z"
   },
   {
    "duration": 16,
    "start_time": "2021-12-16T07:49:08.087Z"
   },
   {
    "duration": 314,
    "start_time": "2021-12-16T07:49:08.104Z"
   },
   {
    "duration": 236,
    "start_time": "2021-12-16T07:49:08.420Z"
   },
   {
    "duration": 166,
    "start_time": "2021-12-16T07:49:08.657Z"
   },
   {
    "duration": 170,
    "start_time": "2021-12-16T07:49:08.825Z"
   },
   {
    "duration": 306,
    "start_time": "2021-12-16T07:49:08.996Z"
   },
   {
    "duration": 295,
    "start_time": "2021-12-16T07:49:09.304Z"
   },
   {
    "duration": 135,
    "start_time": "2021-12-16T07:49:09.601Z"
   },
   {
    "duration": 135,
    "start_time": "2021-12-16T07:49:09.738Z"
   },
   {
    "duration": 140,
    "start_time": "2021-12-16T07:49:09.875Z"
   },
   {
    "duration": 165,
    "start_time": "2021-12-16T07:49:10.016Z"
   },
   {
    "duration": 193,
    "start_time": "2021-12-16T07:49:10.187Z"
   },
   {
    "duration": 3,
    "start_time": "2021-12-16T07:50:23.143Z"
   },
   {
    "duration": 7,
    "start_time": "2021-12-16T07:51:41.112Z"
   },
   {
    "duration": 8,
    "start_time": "2021-12-16T07:52:31.762Z"
   },
   {
    "duration": 762,
    "start_time": "2021-12-16T16:48:54.144Z"
   },
   {
    "duration": 37,
    "start_time": "2021-12-16T16:48:54.908Z"
   },
   {
    "duration": 69,
    "start_time": "2021-12-16T16:48:54.948Z"
   },
   {
    "duration": 155,
    "start_time": "2021-12-16T16:48:55.020Z"
   },
   {
    "duration": 4,
    "start_time": "2021-12-16T16:48:55.177Z"
   },
   {
    "duration": 10,
    "start_time": "2021-12-16T16:48:55.183Z"
   },
   {
    "duration": 84,
    "start_time": "2021-12-16T16:48:55.195Z"
   },
   {
    "duration": 23,
    "start_time": "2021-12-16T16:48:55.281Z"
   },
   {
    "duration": 19,
    "start_time": "2021-12-16T16:48:55.307Z"
   },
   {
    "duration": 32,
    "start_time": "2021-12-16T16:48:55.329Z"
   },
   {
    "duration": 27,
    "start_time": "2021-12-16T16:48:55.362Z"
   },
   {
    "duration": 14,
    "start_time": "2021-12-16T16:48:55.391Z"
   },
   {
    "duration": 41,
    "start_time": "2021-12-16T16:48:55.406Z"
   },
   {
    "duration": 7,
    "start_time": "2021-12-16T16:48:55.448Z"
   },
   {
    "duration": 36,
    "start_time": "2021-12-16T16:48:55.457Z"
   },
   {
    "duration": 73,
    "start_time": "2021-12-16T16:48:55.494Z"
   },
   {
    "duration": 11,
    "start_time": "2021-12-16T16:48:55.569Z"
   },
   {
    "duration": 3,
    "start_time": "2021-12-16T16:48:55.581Z"
   },
   {
    "duration": 288,
    "start_time": "2021-12-16T16:48:55.586Z"
   },
   {
    "duration": 216,
    "start_time": "2021-12-16T16:48:55.876Z"
   },
   {
    "duration": 191,
    "start_time": "2021-12-16T16:48:56.094Z"
   },
   {
    "duration": 247,
    "start_time": "2021-12-16T16:48:56.286Z"
   },
   {
    "duration": 331,
    "start_time": "2021-12-16T16:48:56.534Z"
   },
   {
    "duration": 4,
    "start_time": "2021-12-16T16:48:56.867Z"
   },
   {
    "duration": 728,
    "start_time": "2021-12-16T16:48:56.873Z"
   },
   {
    "duration": 708,
    "start_time": "2021-12-16T16:48:57.603Z"
   },
   {
    "duration": 516,
    "start_time": "2021-12-16T16:48:58.314Z"
   },
   {
    "duration": 144,
    "start_time": "2021-12-16T16:48:58.832Z"
   },
   {
    "duration": 153,
    "start_time": "2021-12-16T16:48:58.977Z"
   },
   {
    "duration": 147,
    "start_time": "2021-12-16T16:48:59.131Z"
   },
   {
    "duration": 208,
    "start_time": "2021-12-16T16:48:59.280Z"
   },
   {
    "duration": 168,
    "start_time": "2021-12-16T16:48:59.490Z"
   },
   {
    "duration": 17,
    "start_time": "2021-12-16T16:48:59.659Z"
   },
   {
    "duration": 409,
    "start_time": "2021-12-16T16:48:59.678Z"
   },
   {
    "duration": 480,
    "start_time": "2021-12-16T16:49:00.088Z"
   },
   {
    "duration": 507,
    "start_time": "2021-12-16T16:49:00.570Z"
   },
   {
    "duration": 206,
    "start_time": "2021-12-16T16:49:01.079Z"
   },
   {
    "duration": 431,
    "start_time": "2021-12-16T16:49:01.286Z"
   },
   {
    "duration": 386,
    "start_time": "2021-12-16T16:49:01.719Z"
   },
   {
    "duration": 148,
    "start_time": "2021-12-16T16:49:02.106Z"
   },
   {
    "duration": 145,
    "start_time": "2021-12-16T16:49:02.255Z"
   },
   {
    "duration": 147,
    "start_time": "2021-12-16T16:49:02.402Z"
   },
   {
    "duration": 309,
    "start_time": "2021-12-16T16:49:02.551Z"
   },
   {
    "duration": 323,
    "start_time": "2021-12-16T16:49:02.862Z"
   },
   {
    "duration": 288,
    "start_time": "2021-12-16T17:07:02.542Z"
   },
   {
    "duration": 242,
    "start_time": "2021-12-16T17:07:10.743Z"
   },
   {
    "duration": 644,
    "start_time": "2021-12-16T17:07:18.462Z"
   },
   {
    "duration": 68,
    "start_time": "2021-12-16T17:07:23.260Z"
   },
   {
    "duration": 1071,
    "start_time": "2021-12-18T09:56:25.843Z"
   },
   {
    "duration": 816,
    "start_time": "2021-12-18T09:56:37.923Z"
   },
   {
    "duration": 289,
    "start_time": "2021-12-18T09:56:40.862Z"
   },
   {
    "duration": 5,
    "start_time": "2021-12-18T09:56:56.741Z"
   },
   {
    "duration": 611,
    "start_time": "2021-12-18T09:56:58.622Z"
   },
   {
    "duration": 959,
    "start_time": "2021-12-18T09:57:12.043Z"
   },
   {
    "duration": 52,
    "start_time": "2021-12-18T09:57:13.006Z"
   },
   {
    "duration": 137,
    "start_time": "2021-12-18T09:57:13.067Z"
   },
   {
    "duration": 306,
    "start_time": "2021-12-18T09:57:13.207Z"
   },
   {
    "duration": 6,
    "start_time": "2021-12-18T09:57:13.515Z"
   },
   {
    "duration": 61,
    "start_time": "2021-12-18T09:57:13.524Z"
   },
   {
    "duration": 52,
    "start_time": "2021-12-18T09:57:13.588Z"
   },
   {
    "duration": 48,
    "start_time": "2021-12-18T09:57:13.642Z"
   },
   {
    "duration": 23,
    "start_time": "2021-12-18T09:57:13.696Z"
   },
   {
    "duration": 13,
    "start_time": "2021-12-18T09:57:13.723Z"
   },
   {
    "duration": 75,
    "start_time": "2021-12-18T09:57:13.739Z"
   },
   {
    "duration": 21,
    "start_time": "2021-12-18T09:57:13.817Z"
   },
   {
    "duration": 64,
    "start_time": "2021-12-18T09:57:13.840Z"
   },
   {
    "duration": 14,
    "start_time": "2021-12-18T09:57:13.907Z"
   },
   {
    "duration": 110,
    "start_time": "2021-12-18T09:57:13.925Z"
   },
   {
    "duration": 85,
    "start_time": "2021-12-18T09:57:14.037Z"
   },
   {
    "duration": 14,
    "start_time": "2021-12-18T09:57:14.124Z"
   },
   {
    "duration": 8,
    "start_time": "2021-12-18T09:57:14.141Z"
   },
   {
    "duration": 758,
    "start_time": "2021-12-18T09:57:14.172Z"
   },
   {
    "duration": 2327,
    "start_time": "2021-12-18T09:57:12.608Z"
   },
   {
    "duration": 2318,
    "start_time": "2021-12-18T09:57:12.619Z"
   },
   {
    "duration": 2313,
    "start_time": "2021-12-18T09:57:12.626Z"
   },
   {
    "duration": 2309,
    "start_time": "2021-12-18T09:57:12.632Z"
   },
   {
    "duration": 2301,
    "start_time": "2021-12-18T09:57:12.642Z"
   },
   {
    "duration": 2293,
    "start_time": "2021-12-18T09:57:12.653Z"
   },
   {
    "duration": 2289,
    "start_time": "2021-12-18T09:57:12.659Z"
   },
   {
    "duration": 2285,
    "start_time": "2021-12-18T09:57:12.666Z"
   },
   {
    "duration": 2276,
    "start_time": "2021-12-18T09:57:12.677Z"
   },
   {
    "duration": 2268,
    "start_time": "2021-12-18T09:57:12.687Z"
   },
   {
    "duration": 2263,
    "start_time": "2021-12-18T09:57:12.694Z"
   },
   {
    "duration": 2255,
    "start_time": "2021-12-18T09:57:12.704Z"
   },
   {
    "duration": 2251,
    "start_time": "2021-12-18T09:57:12.710Z"
   },
   {
    "duration": 2244,
    "start_time": "2021-12-18T09:57:12.720Z"
   },
   {
    "duration": 2243,
    "start_time": "2021-12-18T09:57:12.725Z"
   },
   {
    "duration": 2238,
    "start_time": "2021-12-18T09:57:12.732Z"
   },
   {
    "duration": 2232,
    "start_time": "2021-12-18T09:57:12.742Z"
   },
   {
    "duration": 2222,
    "start_time": "2021-12-18T09:57:12.754Z"
   },
   {
    "duration": 2218,
    "start_time": "2021-12-18T09:57:12.760Z"
   },
   {
    "duration": 2211,
    "start_time": "2021-12-18T09:57:12.770Z"
   },
   {
    "duration": 2206,
    "start_time": "2021-12-18T09:57:12.777Z"
   },
   {
    "duration": 2198,
    "start_time": "2021-12-18T09:57:12.787Z"
   },
   {
    "duration": 2194,
    "start_time": "2021-12-18T09:57:12.793Z"
   },
   {
    "duration": 2187,
    "start_time": "2021-12-18T09:57:12.803Z"
   },
   {
    "duration": 2183,
    "start_time": "2021-12-18T09:57:12.809Z"
   },
   {
    "duration": 10,
    "start_time": "2021-12-18T09:57:40.474Z"
   },
   {
    "duration": 603,
    "start_time": "2021-12-18T09:57:42.447Z"
   },
   {
    "duration": 722,
    "start_time": "2021-12-18T09:58:08.223Z"
   },
   {
    "duration": 7,
    "start_time": "2021-12-18T09:58:27.644Z"
   },
   {
    "duration": 9151,
    "start_time": "2021-12-18T09:58:29.544Z"
   },
   {
    "duration": 8,
    "start_time": "2021-12-18T09:58:43.843Z"
   },
   {
    "duration": 8473,
    "start_time": "2021-12-18T09:58:46.643Z"
   },
   {
    "duration": 7,
    "start_time": "2021-12-18T11:05:31.359Z"
   },
   {
    "duration": 495,
    "start_time": "2021-12-18T11:05:32.998Z"
   },
   {
    "duration": 5,
    "start_time": "2021-12-18T11:06:03.518Z"
   },
   {
    "duration": 356,
    "start_time": "2021-12-18T11:06:05.677Z"
   },
   {
    "duration": 5,
    "start_time": "2021-12-18T11:06:33.592Z"
   },
   {
    "duration": 313,
    "start_time": "2021-12-18T11:06:35.877Z"
   },
   {
    "duration": 377,
    "start_time": "2021-12-18T11:07:33.757Z"
   },
   {
    "duration": 6,
    "start_time": "2021-12-18T11:08:27.457Z"
   },
   {
    "duration": 305,
    "start_time": "2021-12-18T11:08:29.837Z"
   },
   {
    "duration": 5,
    "start_time": "2021-12-18T11:09:41.350Z"
   },
   {
    "duration": 330,
    "start_time": "2021-12-18T11:09:42.797Z"
   },
   {
    "duration": 337,
    "start_time": "2021-12-18T11:09:47.578Z"
   },
   {
    "duration": 971,
    "start_time": "2021-12-18T14:53:35.153Z"
   },
   {
    "duration": 68,
    "start_time": "2021-12-18T14:53:36.127Z"
   },
   {
    "duration": 120,
    "start_time": "2021-12-18T14:53:36.199Z"
   },
   {
    "duration": 282,
    "start_time": "2021-12-18T14:53:36.322Z"
   },
   {
    "duration": 7,
    "start_time": "2021-12-18T14:53:36.606Z"
   },
   {
    "duration": 60,
    "start_time": "2021-12-18T14:53:36.616Z"
   },
   {
    "duration": 54,
    "start_time": "2021-12-18T14:53:36.679Z"
   },
   {
    "duration": 60,
    "start_time": "2021-12-18T14:53:36.735Z"
   },
   {
    "duration": 17,
    "start_time": "2021-12-18T14:53:36.799Z"
   },
   {
    "duration": 11,
    "start_time": "2021-12-18T14:53:36.820Z"
   },
   {
    "duration": 76,
    "start_time": "2021-12-18T14:53:36.834Z"
   },
   {
    "duration": 20,
    "start_time": "2021-12-18T14:53:36.913Z"
   },
   {
    "duration": 59,
    "start_time": "2021-12-18T14:53:36.935Z"
   },
   {
    "duration": 10,
    "start_time": "2021-12-18T14:53:36.997Z"
   },
   {
    "duration": 91,
    "start_time": "2021-12-18T14:53:37.010Z"
   },
   {
    "duration": 95,
    "start_time": "2021-12-18T14:53:37.104Z"
   },
   {
    "duration": 14,
    "start_time": "2021-12-18T14:53:37.201Z"
   },
   {
    "duration": 6,
    "start_time": "2021-12-18T14:53:37.217Z"
   },
   {
    "duration": 470,
    "start_time": "2021-12-18T14:53:37.225Z"
   },
   {
    "duration": 364,
    "start_time": "2021-12-18T14:53:37.698Z"
   },
   {
    "duration": 350,
    "start_time": "2021-12-18T14:53:38.069Z"
   },
   {
    "duration": 418,
    "start_time": "2021-12-18T14:53:38.421Z"
   },
   {
    "duration": 602,
    "start_time": "2021-12-18T14:53:38.841Z"
   },
   {
    "duration": 7,
    "start_time": "2021-12-18T14:53:39.446Z"
   },
   {
    "duration": 820,
    "start_time": "2021-12-18T14:53:39.471Z"
   },
   {
    "duration": 782,
    "start_time": "2021-12-18T14:53:40.294Z"
   },
   {
    "duration": 836,
    "start_time": "2021-12-18T14:53:41.084Z"
   },
   {
    "duration": 280,
    "start_time": "2021-12-18T14:53:41.923Z"
   },
   {
    "duration": 264,
    "start_time": "2021-12-18T14:53:42.206Z"
   },
   {
    "duration": 273,
    "start_time": "2021-12-18T14:53:42.473Z"
   },
   {
    "duration": 332,
    "start_time": "2021-12-18T14:53:42.749Z"
   },
   {
    "duration": 294,
    "start_time": "2021-12-18T14:53:43.084Z"
   },
   {
    "duration": 33,
    "start_time": "2021-12-18T14:53:43.380Z"
   },
   {
    "duration": 597,
    "start_time": "2021-12-18T14:53:43.416Z"
   },
   {
    "duration": 476,
    "start_time": "2021-12-18T14:53:44.015Z"
   },
   {
    "duration": 333,
    "start_time": "2021-12-18T14:53:44.493Z"
   },
   {
    "duration": 371,
    "start_time": "2021-12-18T14:53:44.828Z"
   },
   {
    "duration": 541,
    "start_time": "2021-12-18T14:53:45.201Z"
   },
   {
    "duration": 498,
    "start_time": "2021-12-18T14:53:45.744Z"
   },
   {
    "duration": 282,
    "start_time": "2021-12-18T14:53:46.244Z"
   },
   {
    "duration": 277,
    "start_time": "2021-12-18T14:53:46.529Z"
   },
   {
    "duration": 283,
    "start_time": "2021-12-18T14:53:46.809Z"
   },
   {
    "duration": 343,
    "start_time": "2021-12-18T14:53:47.095Z"
   },
   {
    "duration": 364,
    "start_time": "2021-12-18T14:53:47.441Z"
   },
   {
    "duration": 348,
    "start_time": "2021-12-18T14:56:15.804Z"
   },
   {
    "duration": 134,
    "start_time": "2021-12-18T14:57:38.524Z"
   },
   {
    "duration": 854,
    "start_time": "2021-12-18T14:57:46.565Z"
   },
   {
    "duration": 339,
    "start_time": "2021-12-18T14:58:00.886Z"
   },
   {
    "duration": 345,
    "start_time": "2021-12-18T14:58:26.805Z"
   },
   {
    "duration": 356,
    "start_time": "2021-12-18T14:58:33.852Z"
   },
   {
    "duration": 343,
    "start_time": "2021-12-18T14:58:43.325Z"
   },
   {
    "duration": 357,
    "start_time": "2021-12-18T14:59:02.414Z"
   },
   {
    "duration": 356,
    "start_time": "2021-12-18T14:59:09.533Z"
   },
   {
    "duration": 825,
    "start_time": "2021-12-18T15:00:31.766Z"
   },
   {
    "duration": 344,
    "start_time": "2021-12-18T15:00:37.164Z"
   },
   {
    "duration": 835,
    "start_time": "2021-12-18T15:01:32.565Z"
   },
   {
    "duration": 6,
    "start_time": "2021-12-18T15:01:40.004Z"
   },
   {
    "duration": 6,
    "start_time": "2021-12-18T15:01:48.845Z"
   },
   {
    "duration": 6,
    "start_time": "2021-12-18T15:01:51.006Z"
   },
   {
    "duration": 316,
    "start_time": "2021-12-18T15:01:53.532Z"
   },
   {
    "duration": 352,
    "start_time": "2021-12-18T15:01:59.405Z"
   },
   {
    "duration": 340,
    "start_time": "2021-12-18T15:02:39.005Z"
   },
   {
    "duration": 454,
    "start_time": "2021-12-18T15:03:00.964Z"
   },
   {
    "duration": 788,
    "start_time": "2021-12-18T15:03:48.805Z"
   },
   {
    "duration": 596,
    "start_time": "2021-12-18T15:05:11.787Z"
   },
   {
    "duration": 999,
    "start_time": "2021-12-18T15:05:17.989Z"
   },
   {
    "duration": 880,
    "start_time": "2021-12-18T15:05:23.686Z"
   },
   {
    "duration": 311,
    "start_time": "2021-12-18T15:06:19.846Z"
   },
   {
    "duration": 346,
    "start_time": "2021-12-18T15:06:25.066Z"
   },
   {
    "duration": 399,
    "start_time": "2021-12-18T15:06:35.607Z"
   },
   {
    "duration": 781,
    "start_time": "2021-12-18T15:08:08.815Z"
   },
   {
    "duration": 968,
    "start_time": "2021-12-18T15:08:13.307Z"
   },
   {
    "duration": 906,
    "start_time": "2021-12-18T15:08:18.588Z"
   },
   {
    "duration": 884,
    "start_time": "2021-12-18T15:08:24.127Z"
   },
   {
    "duration": 1026,
    "start_time": "2021-12-18T15:08:51.608Z"
   },
   {
    "duration": 106,
    "start_time": "2021-12-18T15:09:00.248Z"
   },
   {
    "duration": 106,
    "start_time": "2021-12-18T15:09:14.647Z"
   },
   {
    "duration": 461,
    "start_time": "2021-12-18T15:09:26.128Z"
   },
   {
    "duration": 10,
    "start_time": "2021-12-18T15:09:52.017Z"
   },
   {
    "duration": 357,
    "start_time": "2021-12-18T15:09:56.374Z"
   },
   {
    "duration": 374,
    "start_time": "2021-12-18T15:10:06.187Z"
   },
   {
    "duration": 529,
    "start_time": "2021-12-18T15:10:19.407Z"
   },
   {
    "duration": 488,
    "start_time": "2021-12-18T15:10:31.427Z"
   },
   {
    "duration": 325,
    "start_time": "2021-12-18T15:10:35.247Z"
   },
   {
    "duration": 116,
    "start_time": "2021-12-18T15:11:23.385Z"
   },
   {
    "duration": 840,
    "start_time": "2021-12-18T15:11:32.247Z"
   },
   {
    "duration": 809,
    "start_time": "2021-12-18T15:11:50.796Z"
   },
   {
    "duration": 310,
    "start_time": "2021-12-18T15:16:25.226Z"
   },
   {
    "duration": 821,
    "start_time": "2021-12-18T15:16:52.586Z"
   },
   {
    "duration": 321,
    "start_time": "2021-12-18T15:18:54.327Z"
   },
   {
    "duration": 111,
    "start_time": "2021-12-18T15:19:25.845Z"
   },
   {
    "duration": 260,
    "start_time": "2021-12-18T15:19:35.386Z"
   },
   {
    "duration": 285,
    "start_time": "2021-12-18T15:19:49.527Z"
   },
   {
    "duration": 614,
    "start_time": "2021-12-18T15:20:15.111Z"
   },
   {
    "duration": 294,
    "start_time": "2021-12-18T15:20:44.076Z"
   },
   {
    "duration": 434,
    "start_time": "2021-12-18T15:20:46.706Z"
   },
   {
    "duration": 363,
    "start_time": "2021-12-18T15:21:04.194Z"
   },
   {
    "duration": 389,
    "start_time": "2021-12-18T15:22:00.755Z"
   },
   {
    "duration": 1125,
    "start_time": "2021-12-18T15:22:07.506Z"
   },
   {
    "duration": 876,
    "start_time": "2021-12-18T15:22:18.265Z"
   },
   {
    "duration": 1102,
    "start_time": "2021-12-18T15:23:04.686Z"
   },
   {
    "duration": 815,
    "start_time": "2021-12-18T15:23:23.306Z"
   },
   {
    "duration": 1064,
    "start_time": "2021-12-18T15:24:02.986Z"
   },
   {
    "duration": 7,
    "start_time": "2021-12-18T15:32:28.506Z"
   },
   {
    "duration": 340,
    "start_time": "2021-12-18T15:33:12.293Z"
   },
   {
    "duration": 339,
    "start_time": "2021-12-18T15:33:34.228Z"
   },
   {
    "duration": 98,
    "start_time": "2021-12-18T15:34:36.947Z"
   },
   {
    "duration": 816,
    "start_time": "2021-12-18T15:37:16.607Z"
   },
   {
    "duration": -155,
    "start_time": "2021-12-18T15:37:31.086Z"
   },
   {
    "duration": 318,
    "start_time": "2021-12-18T15:37:45.922Z"
   },
   {
    "duration": 866,
    "start_time": "2021-12-18T15:38:15.361Z"
   },
   {
    "duration": 444,
    "start_time": "2021-12-18T15:38:18.643Z"
   },
   {
    "duration": 841,
    "start_time": "2021-12-18T15:39:00.363Z"
   },
   {
    "duration": 357,
    "start_time": "2021-12-18T15:39:04.642Z"
   },
   {
    "duration": 7,
    "start_time": "2021-12-18T15:39:15.202Z"
   },
   {
    "duration": 603,
    "start_time": "2021-12-18T15:39:19.602Z"
   },
   {
    "duration": 16,
    "start_time": "2021-12-18T15:39:28.763Z"
   },
   {
    "duration": 402,
    "start_time": "2021-12-18T15:39:43.741Z"
   },
   {
    "duration": 8723,
    "start_time": "2021-12-18T15:39:46.403Z"
   },
   {
    "duration": -192,
    "start_time": "2021-12-18T15:39:55.320Z"
   },
   {
    "duration": 345,
    "start_time": "2021-12-18T15:39:55.279Z"
   },
   {
    "duration": 8101,
    "start_time": "2021-12-18T15:39:59.651Z"
   },
   {
    "duration": 9200,
    "start_time": "2021-12-18T15:40:08.639Z"
   },
   {
    "duration": 8040,
    "start_time": "2021-12-18T15:40:45.997Z"
   },
   {
    "duration": 1117,
    "start_time": "2021-12-18T15:41:20.527Z"
   },
   {
    "duration": 62,
    "start_time": "2021-12-18T15:41:21.647Z"
   },
   {
    "duration": 135,
    "start_time": "2021-12-18T15:41:21.712Z"
   },
   {
    "duration": 318,
    "start_time": "2021-12-18T15:41:21.849Z"
   },
   {
    "duration": 12,
    "start_time": "2021-12-18T15:41:22.171Z"
   },
   {
    "duration": 13,
    "start_time": "2021-12-18T15:41:22.186Z"
   },
   {
    "duration": 97,
    "start_time": "2021-12-18T15:41:22.202Z"
   },
   {
    "duration": 26,
    "start_time": "2021-12-18T15:41:22.302Z"
   },
   {
    "duration": 18,
    "start_time": "2021-12-18T15:41:22.331Z"
   },
   {
    "duration": 22,
    "start_time": "2021-12-18T15:41:22.369Z"
   },
   {
    "duration": 45,
    "start_time": "2021-12-18T15:41:22.394Z"
   },
   {
    "duration": 53,
    "start_time": "2021-12-18T15:41:22.441Z"
   },
   {
    "duration": 27,
    "start_time": "2021-12-18T15:41:22.497Z"
   },
   {
    "duration": 46,
    "start_time": "2021-12-18T15:41:22.527Z"
   },
   {
    "duration": 59,
    "start_time": "2021-12-18T15:41:22.580Z"
   },
   {
    "duration": 94,
    "start_time": "2021-12-18T15:41:22.641Z"
   },
   {
    "duration": 31,
    "start_time": "2021-12-18T15:41:22.738Z"
   },
   {
    "duration": 11,
    "start_time": "2021-12-18T15:41:22.773Z"
   },
   {
    "duration": 363,
    "start_time": "2021-12-18T15:41:22.787Z"
   },
   {
    "duration": 377,
    "start_time": "2021-12-18T15:41:23.153Z"
   },
   {
    "duration": 359,
    "start_time": "2021-12-18T15:41:23.532Z"
   },
   {
    "duration": 444,
    "start_time": "2021-12-18T15:41:23.894Z"
   },
   {
    "duration": 349,
    "start_time": "2021-12-18T15:41:24.344Z"
   },
   {
    "duration": 5,
    "start_time": "2021-12-18T15:41:24.696Z"
   },
   {
    "duration": 809,
    "start_time": "2021-12-18T15:41:24.704Z"
   },
   {
    "duration": 973,
    "start_time": "2021-12-18T15:41:25.515Z"
   },
   {
    "duration": 768,
    "start_time": "2021-12-18T15:41:26.490Z"
   },
   {
    "duration": 273,
    "start_time": "2021-12-18T15:41:27.267Z"
   },
   {
    "duration": 273,
    "start_time": "2021-12-18T15:41:27.543Z"
   },
   {
    "duration": 280,
    "start_time": "2021-12-18T15:41:27.819Z"
   },
   {
    "duration": 330,
    "start_time": "2021-12-18T15:41:28.101Z"
   },
   {
    "duration": 321,
    "start_time": "2021-12-18T15:41:28.434Z"
   },
   {
    "duration": 37,
    "start_time": "2021-12-18T15:41:28.758Z"
   },
   {
    "duration": 552,
    "start_time": "2021-12-18T15:41:28.798Z"
   },
   {
    "duration": 661,
    "start_time": "2021-12-18T15:41:29.352Z"
   },
   {
    "duration": 340,
    "start_time": "2021-12-18T15:41:30.016Z"
   },
   {
    "duration": 357,
    "start_time": "2021-12-18T15:41:30.358Z"
   },
   {
    "duration": 523,
    "start_time": "2021-12-18T15:41:30.718Z"
   },
   {
    "duration": 509,
    "start_time": "2021-12-18T15:41:31.243Z"
   },
   {
    "duration": 273,
    "start_time": "2021-12-18T15:41:31.755Z"
   },
   {
    "duration": 273,
    "start_time": "2021-12-18T15:41:32.030Z"
   },
   {
    "duration": 281,
    "start_time": "2021-12-18T15:41:32.305Z"
   },
   {
    "duration": 324,
    "start_time": "2021-12-18T15:41:32.589Z"
   },
   {
    "duration": 304,
    "start_time": "2021-12-18T15:41:32.916Z"
   },
   {
    "duration": 6,
    "start_time": "2021-12-18T15:42:11.939Z"
   },
   {
    "duration": 346,
    "start_time": "2021-12-18T15:42:14.250Z"
   },
   {
    "duration": 445,
    "start_time": "2021-12-18T15:42:34.708Z"
   },
   {
    "duration": 7,
    "start_time": "2021-12-18T15:44:21.022Z"
   },
   {
    "duration": 7,
    "start_time": "2021-12-18T15:44:23.612Z"
   },
   {
    "duration": 6,
    "start_time": "2021-12-18T15:44:26.397Z"
   },
   {
    "duration": 6,
    "start_time": "2021-12-18T15:44:28.129Z"
   },
   {
    "duration": 11,
    "start_time": "2021-12-18T15:44:29.170Z"
   },
   {
    "duration": 6,
    "start_time": "2021-12-18T15:44:29.493Z"
   },
   {
    "duration": 6,
    "start_time": "2021-12-18T15:44:29.909Z"
   },
   {
    "duration": 357,
    "start_time": "2021-12-18T15:44:33.090Z"
   },
   {
    "duration": 362,
    "start_time": "2021-12-18T15:44:38.690Z"
   },
   {
    "duration": 347,
    "start_time": "2021-12-18T15:44:47.509Z"
   },
   {
    "duration": 391,
    "start_time": "2021-12-18T15:45:11.430Z"
   },
   {
    "duration": 348,
    "start_time": "2021-12-18T15:45:16.810Z"
   },
   {
    "duration": 967,
    "start_time": "2021-12-18T15:45:26.320Z"
   },
   {
    "duration": 944,
    "start_time": "2021-12-18T15:45:43.351Z"
   },
   {
    "duration": 963,
    "start_time": "2021-12-18T15:45:53.673Z"
   },
   {
    "duration": 107,
    "start_time": "2021-12-18T15:46:17.831Z"
   },
   {
    "duration": 1014,
    "start_time": "2021-12-18T15:46:35.192Z"
   },
   {
    "duration": 257,
    "start_time": "2021-12-18T15:47:15.432Z"
   },
   {
    "duration": 262,
    "start_time": "2021-12-18T15:47:34.933Z"
   },
   {
    "duration": 275,
    "start_time": "2021-12-18T15:48:02.560Z"
   },
   {
    "duration": 347,
    "start_time": "2021-12-18T15:48:16.151Z"
   },
   {
    "duration": 276,
    "start_time": "2021-12-18T15:48:37.474Z"
   },
   {
    "duration": 409,
    "start_time": "2021-12-18T15:48:58.793Z"
   },
   {
    "duration": 390,
    "start_time": "2021-12-18T15:49:12.772Z"
   },
   {
    "duration": 8,
    "start_time": "2021-12-18T15:49:58.331Z"
   },
   {
    "duration": 276,
    "start_time": "2021-12-18T15:50:02.907Z"
   },
   {
    "duration": 327,
    "start_time": "2021-12-18T15:51:19.398Z"
   },
   {
    "duration": 6,
    "start_time": "2021-12-18T15:51:29.948Z"
   },
   {
    "duration": 262,
    "start_time": "2021-12-18T15:51:37.898Z"
   },
   {
    "duration": 274,
    "start_time": "2021-12-18T15:51:45.740Z"
   },
   {
    "duration": 324,
    "start_time": "2021-12-18T15:51:55.457Z"
   },
   {
    "duration": 285,
    "start_time": "2021-12-18T15:52:03.859Z"
   },
   {
    "duration": 530,
    "start_time": "2021-12-18T15:52:38.585Z"
   },
   {
    "duration": 541,
    "start_time": "2021-12-18T15:52:52.500Z"
   },
   {
    "duration": 772,
    "start_time": "2021-12-18T15:53:07.265Z"
   },
   {
    "duration": 557,
    "start_time": "2021-12-18T15:53:12.999Z"
   },
   {
    "duration": 574,
    "start_time": "2021-12-18T15:54:40.059Z"
   },
   {
    "duration": 342,
    "start_time": "2021-12-18T15:55:45.697Z"
   },
   {
    "duration": -138,
    "start_time": "2021-12-18T15:56:07.052Z"
   },
   {
    "duration": -140,
    "start_time": "2021-12-18T15:56:20.436Z"
   },
   {
    "duration": 1075,
    "start_time": "2021-12-18T15:56:24.341Z"
   },
   {
    "duration": 67,
    "start_time": "2021-12-18T15:56:25.418Z"
   },
   {
    "duration": 116,
    "start_time": "2021-12-18T15:56:25.488Z"
   },
   {
    "duration": 282,
    "start_time": "2021-12-18T15:56:25.607Z"
   },
   {
    "duration": 8,
    "start_time": "2021-12-18T15:56:25.892Z"
   },
   {
    "duration": 15,
    "start_time": "2021-12-18T15:56:25.903Z"
   },
   {
    "duration": 52,
    "start_time": "2021-12-18T15:56:25.967Z"
   },
   {
    "duration": 64,
    "start_time": "2021-12-18T15:56:26.022Z"
   },
   {
    "duration": 18,
    "start_time": "2021-12-18T15:56:26.092Z"
   },
   {
    "duration": 15,
    "start_time": "2021-12-18T15:56:26.114Z"
   },
   {
    "duration": 82,
    "start_time": "2021-12-18T15:56:26.132Z"
   },
   {
    "duration": 20,
    "start_time": "2021-12-18T15:56:26.217Z"
   },
   {
    "duration": 54,
    "start_time": "2021-12-18T15:56:26.240Z"
   },
   {
    "duration": 10,
    "start_time": "2021-12-18T15:56:26.297Z"
   },
   {
    "duration": 89,
    "start_time": "2021-12-18T15:56:26.310Z"
   },
   {
    "duration": 98,
    "start_time": "2021-12-18T15:56:26.401Z"
   },
   {
    "duration": 14,
    "start_time": "2021-12-18T15:56:26.502Z"
   },
   {
    "duration": 6,
    "start_time": "2021-12-18T15:56:26.519Z"
   },
   {
    "duration": 370,
    "start_time": "2021-12-18T15:56:26.528Z"
   },
   {
    "duration": 393,
    "start_time": "2021-12-18T15:56:26.902Z"
   },
   {
    "duration": 460,
    "start_time": "2021-12-18T15:56:27.297Z"
   },
   {
    "duration": 440,
    "start_time": "2021-12-18T15:56:27.759Z"
   },
   {
    "duration": 326,
    "start_time": "2021-12-18T15:56:28.202Z"
   },
   {
    "duration": 7,
    "start_time": "2021-12-18T15:56:28.530Z"
   },
   {
    "duration": 1020,
    "start_time": "2021-12-18T15:56:28.539Z"
   },
   {
    "duration": 987,
    "start_time": "2021-12-18T15:56:29.561Z"
   },
   {
    "duration": 1006,
    "start_time": "2021-12-18T15:56:30.554Z"
   },
   {
    "duration": 295,
    "start_time": "2021-12-18T15:56:31.562Z"
   },
   {
    "duration": 278,
    "start_time": "2021-12-18T15:56:31.859Z"
   },
   {
    "duration": 285,
    "start_time": "2021-12-18T15:56:32.139Z"
   },
   {
    "duration": 330,
    "start_time": "2021-12-18T15:56:32.427Z"
   },
   {
    "duration": 292,
    "start_time": "2021-12-18T15:56:32.767Z"
   },
   {
    "duration": 32,
    "start_time": "2021-12-18T15:56:33.067Z"
   },
   {
    "duration": 544,
    "start_time": "2021-12-18T15:56:33.102Z"
   },
   {
    "duration": 8736,
    "start_time": "2021-12-18T15:56:33.648Z"
   },
   {
    "duration": -104,
    "start_time": "2021-12-18T15:56:42.492Z"
   },
   {
    "duration": -111,
    "start_time": "2021-12-18T15:56:42.500Z"
   },
   {
    "duration": -118,
    "start_time": "2021-12-18T15:56:42.509Z"
   },
   {
    "duration": -125,
    "start_time": "2021-12-18T15:56:42.517Z"
   },
   {
    "duration": -133,
    "start_time": "2021-12-18T15:56:42.527Z"
   },
   {
    "duration": -142,
    "start_time": "2021-12-18T15:56:42.537Z"
   },
   {
    "duration": -148,
    "start_time": "2021-12-18T15:56:42.545Z"
   },
   {
    "duration": -157,
    "start_time": "2021-12-18T15:56:42.555Z"
   },
   {
    "duration": -163,
    "start_time": "2021-12-18T15:56:42.563Z"
   },
   {
    "duration": 396,
    "start_time": "2021-12-18T15:56:53.521Z"
   },
   {
    "duration": 317,
    "start_time": "2021-12-18T15:57:00.742Z"
   },
   {
    "duration": 338,
    "start_time": "2021-12-18T15:57:14.809Z"
   },
   {
    "duration": 315,
    "start_time": "2021-12-18T15:58:55.557Z"
   },
   {
    "duration": 17,
    "start_time": "2021-12-18T15:59:21.273Z"
   },
   {
    "duration": 335,
    "start_time": "2021-12-18T15:59:29.153Z"
   },
   {
    "duration": 347,
    "start_time": "2021-12-18T15:59:37.586Z"
   },
   {
    "duration": 666,
    "start_time": "2021-12-18T16:00:14.389Z"
   },
   {
    "duration": 318,
    "start_time": "2021-12-18T16:00:22.102Z"
   },
   {
    "duration": 350,
    "start_time": "2021-12-18T16:01:05.061Z"
   },
   {
    "duration": 343,
    "start_time": "2021-12-18T16:01:32.761Z"
   },
   {
    "duration": 817,
    "start_time": "2021-12-18T16:01:38.442Z"
   },
   {
    "duration": 340,
    "start_time": "2021-12-18T16:01:49.142Z"
   },
   {
    "duration": 399,
    "start_time": "2021-12-18T16:01:58.145Z"
   },
   {
    "duration": 502,
    "start_time": "2021-12-18T16:02:10.501Z"
   },
   {
    "duration": 606,
    "start_time": "2021-12-18T16:02:37.768Z"
   },
   {
    "duration": 588,
    "start_time": "2021-12-18T16:02:51.111Z"
   },
   {
    "duration": 532,
    "start_time": "2021-12-18T16:02:54.562Z"
   },
   {
    "duration": 552,
    "start_time": "2021-12-18T16:03:18.442Z"
   },
   {
    "duration": 253,
    "start_time": "2021-12-18T16:03:25.522Z"
   },
   {
    "duration": 276,
    "start_time": "2021-12-18T16:03:43.962Z"
   },
   {
    "duration": 266,
    "start_time": "2021-12-18T16:04:02.761Z"
   },
   {
    "duration": 260,
    "start_time": "2021-12-18T16:04:09.782Z"
   },
   {
    "duration": 270,
    "start_time": "2021-12-18T16:04:21.850Z"
   },
   {
    "duration": 370,
    "start_time": "2021-12-18T16:04:47.923Z"
   },
   {
    "duration": 333,
    "start_time": "2021-12-18T16:04:49.904Z"
   },
   {
    "duration": 343,
    "start_time": "2021-12-18T16:09:06.788Z"
   },
   {
    "duration": 270,
    "start_time": "2021-12-18T16:16:30.901Z"
   },
   {
    "duration": 9214,
    "start_time": "2021-12-18T16:18:09.042Z"
   },
   {
    "duration": -144,
    "start_time": "2021-12-18T16:19:29.372Z"
   },
   {
    "duration": 12,
    "start_time": "2021-12-18T16:47:03.656Z"
   },
   {
    "duration": 6,
    "start_time": "2021-12-18T16:49:11.555Z"
   },
   {
    "duration": 373,
    "start_time": "2021-12-18T16:49:14.966Z"
   },
   {
    "duration": 6,
    "start_time": "2021-12-18T16:49:25.958Z"
   },
   {
    "duration": 457,
    "start_time": "2021-12-18T16:49:27.971Z"
   },
   {
    "duration": 1008,
    "start_time": "2021-12-18T16:50:00.211Z"
   },
   {
    "duration": 59,
    "start_time": "2021-12-18T16:50:01.221Z"
   },
   {
    "duration": 127,
    "start_time": "2021-12-18T16:50:01.285Z"
   },
   {
    "duration": 281,
    "start_time": "2021-12-18T16:50:01.416Z"
   },
   {
    "duration": 7,
    "start_time": "2021-12-18T16:50:01.699Z"
   },
   {
    "duration": 24,
    "start_time": "2021-12-18T16:50:01.708Z"
   },
   {
    "duration": 85,
    "start_time": "2021-12-18T16:50:01.734Z"
   },
   {
    "duration": 27,
    "start_time": "2021-12-18T16:50:01.821Z"
   },
   {
    "duration": 40,
    "start_time": "2021-12-18T16:50:01.852Z"
   },
   {
    "duration": 14,
    "start_time": "2021-12-18T16:50:01.896Z"
   },
   {
    "duration": 78,
    "start_time": "2021-12-18T16:50:01.913Z"
   },
   {
    "duration": 21,
    "start_time": "2021-12-18T16:50:01.994Z"
   },
   {
    "duration": 61,
    "start_time": "2021-12-18T16:50:02.018Z"
   },
   {
    "duration": 10,
    "start_time": "2021-12-18T16:50:02.083Z"
   },
   {
    "duration": 73,
    "start_time": "2021-12-18T16:50:02.096Z"
   },
   {
    "duration": 113,
    "start_time": "2021-12-18T16:50:02.172Z"
   },
   {
    "duration": 15,
    "start_time": "2021-12-18T16:50:02.288Z"
   },
   {
    "duration": 8,
    "start_time": "2021-12-18T16:50:02.306Z"
   },
   {
    "duration": 380,
    "start_time": "2021-12-18T16:50:02.317Z"
   },
   {
    "duration": 379,
    "start_time": "2021-12-18T16:50:02.701Z"
   },
   {
    "duration": 363,
    "start_time": "2021-12-18T16:50:03.083Z"
   },
   {
    "duration": 421,
    "start_time": "2021-12-18T16:50:03.448Z"
   },
   {
    "duration": 350,
    "start_time": "2021-12-18T16:50:03.872Z"
   },
   {
    "duration": 11,
    "start_time": "2021-12-18T16:50:04.225Z"
   },
   {
    "duration": 7,
    "start_time": "2021-12-18T16:50:04.238Z"
   },
   {
    "duration": 1037,
    "start_time": "2021-12-18T16:50:04.247Z"
   },
   {
    "duration": 1098,
    "start_time": "2021-12-18T16:50:05.290Z"
   },
   {
    "duration": 997,
    "start_time": "2021-12-18T16:50:06.393Z"
   },
   {
    "duration": 283,
    "start_time": "2021-12-18T16:50:07.394Z"
   },
   {
    "duration": 271,
    "start_time": "2021-12-18T16:50:07.681Z"
   },
   {
    "duration": 284,
    "start_time": "2021-12-18T16:50:07.954Z"
   },
   {
    "duration": 331,
    "start_time": "2021-12-18T16:50:08.240Z"
   },
   {
    "duration": 309,
    "start_time": "2021-12-18T16:50:08.573Z"
   },
   {
    "duration": 26,
    "start_time": "2021-12-18T16:50:08.885Z"
   },
   {
    "duration": 568,
    "start_time": "2021-12-18T16:50:08.913Z"
   },
   {
    "duration": 432,
    "start_time": "2021-12-18T16:50:09.484Z"
   },
   {
    "duration": 360,
    "start_time": "2021-12-18T16:50:09.919Z"
   },
   {
    "duration": 352,
    "start_time": "2021-12-18T16:50:10.283Z"
   },
   {
    "duration": 596,
    "start_time": "2021-12-18T16:50:10.639Z"
   },
   {
    "duration": 575,
    "start_time": "2021-12-18T16:50:11.238Z"
   },
   {
    "duration": 273,
    "start_time": "2021-12-18T16:50:11.816Z"
   },
   {
    "duration": 269,
    "start_time": "2021-12-18T16:50:12.091Z"
   },
   {
    "duration": 282,
    "start_time": "2021-12-18T16:50:12.363Z"
   },
   {
    "duration": 336,
    "start_time": "2021-12-18T16:50:12.648Z"
   },
   {
    "duration": 304,
    "start_time": "2021-12-18T16:50:12.987Z"
   },
   {
    "duration": 356,
    "start_time": "2021-12-18T16:50:42.395Z"
   },
   {
    "duration": 442,
    "start_time": "2021-12-18T16:51:05.115Z"
   },
   {
    "duration": 387,
    "start_time": "2021-12-18T16:51:17.319Z"
   },
   {
    "duration": 1069,
    "start_time": "2021-12-18T16:53:35.517Z"
   },
   {
    "duration": 45,
    "start_time": "2021-12-18T16:53:36.588Z"
   },
   {
    "duration": 124,
    "start_time": "2021-12-18T16:53:36.636Z"
   },
   {
    "duration": 253,
    "start_time": "2021-12-18T16:53:36.763Z"
   },
   {
    "duration": 52,
    "start_time": "2021-12-18T16:53:37.019Z"
   },
   {
    "duration": 14,
    "start_time": "2021-12-18T16:53:37.073Z"
   },
   {
    "duration": 79,
    "start_time": "2021-12-18T16:53:37.091Z"
   },
   {
    "duration": 31,
    "start_time": "2021-12-18T16:53:37.173Z"
   },
   {
    "duration": 18,
    "start_time": "2021-12-18T16:53:37.210Z"
   },
   {
    "duration": 45,
    "start_time": "2021-12-18T16:53:37.233Z"
   },
   {
    "duration": 47,
    "start_time": "2021-12-18T16:53:37.281Z"
   },
   {
    "duration": 54,
    "start_time": "2021-12-18T16:53:37.330Z"
   },
   {
    "duration": 25,
    "start_time": "2021-12-18T16:53:37.387Z"
   },
   {
    "duration": 8,
    "start_time": "2021-12-18T16:53:37.415Z"
   },
   {
    "duration": 92,
    "start_time": "2021-12-18T16:53:37.425Z"
   },
   {
    "duration": 85,
    "start_time": "2021-12-18T16:53:37.520Z"
   },
   {
    "duration": 14,
    "start_time": "2021-12-18T16:53:37.607Z"
   },
   {
    "duration": 6,
    "start_time": "2021-12-18T16:53:37.624Z"
   },
   {
    "duration": 385,
    "start_time": "2021-12-18T16:53:37.632Z"
   },
   {
    "duration": 377,
    "start_time": "2021-12-18T16:53:38.020Z"
   },
   {
    "duration": 370,
    "start_time": "2021-12-18T16:53:38.400Z"
   },
   {
    "duration": 444,
    "start_time": "2021-12-18T16:53:38.774Z"
   },
   {
    "duration": 366,
    "start_time": "2021-12-18T16:53:39.220Z"
   },
   {
    "duration": 375,
    "start_time": "2021-12-18T16:53:39.589Z"
   },
   {
    "duration": 11,
    "start_time": "2021-12-18T16:53:39.970Z"
   },
   {
    "duration": 1034,
    "start_time": "2021-12-18T16:53:39.984Z"
   },
   {
    "duration": 984,
    "start_time": "2021-12-18T16:53:41.024Z"
   },
   {
    "duration": 968,
    "start_time": "2021-12-18T16:53:42.011Z"
   },
   {
    "duration": 269,
    "start_time": "2021-12-18T16:53:42.983Z"
   },
   {
    "duration": 281,
    "start_time": "2021-12-18T16:53:43.254Z"
   },
   {
    "duration": 283,
    "start_time": "2021-12-18T16:53:43.538Z"
   },
   {
    "duration": 371,
    "start_time": "2021-12-18T16:53:43.823Z"
   },
   {
    "duration": 311,
    "start_time": "2021-12-18T16:53:44.196Z"
   },
   {
    "duration": 26,
    "start_time": "2021-12-18T16:53:44.510Z"
   },
   {
    "duration": 644,
    "start_time": "2021-12-18T16:53:44.539Z"
   },
   {
    "duration": 365,
    "start_time": "2021-12-18T16:53:45.186Z"
   },
   {
    "duration": 351,
    "start_time": "2021-12-18T16:53:45.554Z"
   },
   {
    "duration": 368,
    "start_time": "2021-12-18T16:53:45.908Z"
   },
   {
    "duration": 535,
    "start_time": "2021-12-18T16:53:46.279Z"
   },
   {
    "duration": 562,
    "start_time": "2021-12-18T16:53:46.817Z"
   },
   {
    "duration": 285,
    "start_time": "2021-12-18T16:53:47.382Z"
   },
   {
    "duration": 265,
    "start_time": "2021-12-18T16:53:47.671Z"
   },
   {
    "duration": 295,
    "start_time": "2021-12-18T16:53:47.939Z"
   },
   {
    "duration": 348,
    "start_time": "2021-12-18T16:53:48.236Z"
   },
   {
    "duration": 310,
    "start_time": "2021-12-18T16:53:48.588Z"
   },
   {
    "duration": 407,
    "start_time": "2021-12-18T16:54:06.379Z"
   },
   {
    "duration": 347,
    "start_time": "2021-12-18T16:54:18.399Z"
   },
   {
    "duration": 388,
    "start_time": "2021-12-18T16:57:47.805Z"
   },
   {
    "duration": 445,
    "start_time": "2021-12-18T16:59:29.938Z"
   },
   {
    "duration": 416,
    "start_time": "2021-12-18T16:59:49.958Z"
   },
   {
    "duration": 358,
    "start_time": "2021-12-18T17:01:08.477Z"
   },
   {
    "duration": 371,
    "start_time": "2021-12-18T17:02:07.198Z"
   },
   {
    "duration": 386,
    "start_time": "2021-12-18T17:03:00.618Z"
   },
   {
    "duration": 412,
    "start_time": "2021-12-18T17:03:24.487Z"
   }
  ],
  "kernelspec": {
   "display_name": "Python 3 (ipykernel)",
   "language": "python",
   "name": "python3"
  },
  "language_info": {
   "codemirror_mode": {
    "name": "ipython",
    "version": 3
   },
   "file_extension": ".py",
   "mimetype": "text/x-python",
   "name": "python",
   "nbconvert_exporter": "python",
   "pygments_lexer": "ipython3",
   "version": "3.9.12"
  },
  "toc": {
   "base_numbering": 1,
   "nav_menu": {
    "height": "199.233px",
    "width": "398.867px"
   },
   "number_sections": true,
   "sideBar": true,
   "skip_h1_title": true,
   "title_cell": "Содержание",
   "title_sidebar": "Contents",
   "toc_cell": true,
   "toc_position": {
    "height": "calc(100% - 180px)",
    "left": "10px",
    "top": "150px",
    "width": "199.167px"
   },
   "toc_section_display": true,
   "toc_window_display": false
  }
 },
 "nbformat": 4,
 "nbformat_minor": 4
}
