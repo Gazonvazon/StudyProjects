{
 "cells": [
  {
   "cell_type": "markdown",
   "metadata": {},
   "source": [
    "# Определение перспективного тарифа для телеком-компании"
   ]
  },
  {
   "cell_type": "markdown",
   "metadata": {
    "tags": [],
    "toc": true
   },
   "source": [
    "**Название проекта**\n",
    "\n",
    "Определение перспективного тарифа для телеком-компании\n",
    "_____\n",
    "**Описание исследования.**\n",
    "\n",
    "Клиентам компании «Мегалайн» (федерального оператора сотовой связи) предлагают два тарифных плана: «Смарт» и «Ультра».\n",
    "_____\n",
    "**Цель исследования.**\n",
    "\n",
    "Чтобы скорректировать рекламный бюджет, коммерческий департамент хочет понять, какой тариф приносит больше денег.\n",
    "\n",
    "_____\n",
    "**Задача исследования.**\n",
    "\n",
    "* Сделать предварительный анализ тарифов на небольшой выборке клиентов\n",
    "* Проанализировать поведение клиентов и сделать вывод — какой тариф лучше.\n",
    "\n",
    "**Исходные данные.**\n",
    "    \n",
    "В нашем распоряжении данные 500 пользователей «Мегалайна»: кто они, откуда, каким тарифом пользуются, сколько звонков и сообщений каждый отправил за 2018 год. \n",
    "\n",
    "*Описание тарифов*\n",
    "\n",
    "Тариф «Смарт»\n",
    "\n",
    "    Ежемесячная плата: 550 рублей\n",
    "    Включено 500 минут разговора, 50 сообщений и 15 Гб интернет-трафика\n",
    "    Стоимость услуг сверх тарифного пакета:\n",
    "        минута разговора: 3 рубля\n",
    "        сообщение: 3 рубля\n",
    "        1 Гб интернет-трафика: 200 рублей\n",
    "\n",
    "Тариф «Ультра»\n",
    "\n",
    "    Ежемесячная плата: 1950 рублей\n",
    "    Включено 3000 минут разговора, 1000 сообщений и 30 Гб интернет-трафика\n",
    "    Стоимость услуг сверх тарифного пакета:\n",
    "        минута разговора: 1 рубль\n",
    "        сообщение: 1 рубль\n",
    "        1 Гб интернет-трафика: 150 рублей\n",
    "        \n",
    "*Описание таблиц*\n",
    "\n",
    "Таблица users (информация о пользователях):\n",
    "\n",
    "    user_id — уникальный идентификатор пользователя\n",
    "    first_name — имя пользователя\n",
    "    last_name — фамилия пользователя\n",
    "    age — возраст пользователя (годы)\n",
    "    reg_date — дата подключения тарифа (день, месяц, год)\n",
    "    churn_date — дата прекращения пользования тарифом (если значение пропущено, то тариф ещё действовал на момент выгрузки данных)\n",
    "    city — город проживания пользователя\n",
    "    tariff — название тарифного плана\n",
    "\n",
    "Таблица calls (информация о звонках):\n",
    "\n",
    "    id — уникальный номер звонка\n",
    "    call_date — дата звонка\n",
    "    duration — длительность звонка в минутах\n",
    "    user_id — идентификатор пользователя, сделавшего звонок\n",
    "\n",
    "Таблица messages (информация о сообщениях):\n",
    "\n",
    "    id — уникальный номер сообщения\n",
    "    message_date — дата сообщения\n",
    "    user_id — идентификатор пользователя, отправившего сообщение\n",
    "\n",
    "Таблица internet (информация об интернет-сессиях):\n",
    "\n",
    "    id — уникальный номер сессии\n",
    "    mb_used — объём потраченного за сессию интернет-трафика (в мегабайтах)\n",
    "    session_date — дата интернет-сессии\n",
    "    user_id — идентификатор пользователя\n",
    "\n",
    "Таблица tariffs (информация о тарифах):\n",
    "\n",
    "    tariff_name — название тарифа\n",
    "    rub_monthly_fee — ежемесячная абонентская плата в рублях\n",
    "    minutes_included — количество минут разговора в месяц, включённых в абонентскую плату\n",
    "    messages_included — количество сообщений в месяц, включённых в абонентскую плату\n",
    "    mb_per_month_included — объём интернет-трафика, включённого в абонентскую плату (в мегабайтах)\n",
    "    rub_per_minute — стоимость минуты разговора сверх тарифного пакета (например, если в тарифе 100 минут разговора в месяц, то со 101 минуты будет взиматься плата)\n",
    "    rub_per_message — стоимость отправки сообщения сверх тарифного пакета\n",
    "    rub_per_gb — стоимость дополнительного гигабайта интернет-трафика сверх тарифного пакета (1 гигабайт = 1024 мегабайта)\n",
    "\n",
    "        \n",
    "\n",
    "\n"
   ]
  },
  {
   "cell_type": "markdown",
   "metadata": {},
   "source": [
    "## 1. Изучение данных из файлов"
   ]
  },
  {
   "cell_type": "markdown",
   "metadata": {},
   "source": [
    "Подключим необходимые библиотеки "
   ]
  },
  {
   "cell_type": "code",
   "execution_count": 1,
   "metadata": {},
   "outputs": [],
   "source": [
    "# imports и глобальные настройки\n",
    "import pandas as pd\n",
    "import numpy as np\n",
    "import matplotlib.pyplot as plt\n",
    "from scipy import stats as st \n",
    "\n",
    "pd.set_option('display.float_format', '{:,.2f}'.format)"
   ]
  },
  {
   "cell_type": "markdown",
   "metadata": {},
   "source": [
    "Посмотрим содержимое таблиц"
   ]
  },
  {
   "cell_type": "code",
   "execution_count": 2,
   "metadata": {},
   "outputs": [
    {
     "data": {
      "text/html": [
       "<div>\n",
       "<style scoped>\n",
       "    .dataframe tbody tr th:only-of-type {\n",
       "        vertical-align: middle;\n",
       "    }\n",
       "\n",
       "    .dataframe tbody tr th {\n",
       "        vertical-align: top;\n",
       "    }\n",
       "\n",
       "    .dataframe thead th {\n",
       "        text-align: right;\n",
       "    }\n",
       "</style>\n",
       "<table border=\"1\" class=\"dataframe\">\n",
       "  <thead>\n",
       "    <tr style=\"text-align: right;\">\n",
       "      <th></th>\n",
       "      <th>id</th>\n",
       "      <th>call_date</th>\n",
       "      <th>duration</th>\n",
       "      <th>user_id</th>\n",
       "    </tr>\n",
       "  </thead>\n",
       "  <tbody>\n",
       "    <tr>\n",
       "      <th>0</th>\n",
       "      <td>1000_0</td>\n",
       "      <td>2018-07-25</td>\n",
       "      <td>0.00</td>\n",
       "      <td>1000</td>\n",
       "    </tr>\n",
       "    <tr>\n",
       "      <th>1</th>\n",
       "      <td>1000_1</td>\n",
       "      <td>2018-08-17</td>\n",
       "      <td>0.00</td>\n",
       "      <td>1000</td>\n",
       "    </tr>\n",
       "    <tr>\n",
       "      <th>2</th>\n",
       "      <td>1000_2</td>\n",
       "      <td>2018-06-11</td>\n",
       "      <td>2.85</td>\n",
       "      <td>1000</td>\n",
       "    </tr>\n",
       "    <tr>\n",
       "      <th>3</th>\n",
       "      <td>1000_3</td>\n",
       "      <td>2018-09-21</td>\n",
       "      <td>13.80</td>\n",
       "      <td>1000</td>\n",
       "    </tr>\n",
       "    <tr>\n",
       "      <th>4</th>\n",
       "      <td>1000_4</td>\n",
       "      <td>2018-12-15</td>\n",
       "      <td>5.18</td>\n",
       "      <td>1000</td>\n",
       "    </tr>\n",
       "    <tr>\n",
       "      <th>...</th>\n",
       "      <td>...</td>\n",
       "      <td>...</td>\n",
       "      <td>...</td>\n",
       "      <td>...</td>\n",
       "    </tr>\n",
       "    <tr>\n",
       "      <th>202602</th>\n",
       "      <td>1499_215</td>\n",
       "      <td>2018-12-26</td>\n",
       "      <td>0.76</td>\n",
       "      <td>1499</td>\n",
       "    </tr>\n",
       "    <tr>\n",
       "      <th>202603</th>\n",
       "      <td>1499_216</td>\n",
       "      <td>2018-10-18</td>\n",
       "      <td>18.83</td>\n",
       "      <td>1499</td>\n",
       "    </tr>\n",
       "    <tr>\n",
       "      <th>202604</th>\n",
       "      <td>1499_217</td>\n",
       "      <td>2018-11-10</td>\n",
       "      <td>10.81</td>\n",
       "      <td>1499</td>\n",
       "    </tr>\n",
       "    <tr>\n",
       "      <th>202605</th>\n",
       "      <td>1499_218</td>\n",
       "      <td>2018-10-06</td>\n",
       "      <td>4.27</td>\n",
       "      <td>1499</td>\n",
       "    </tr>\n",
       "    <tr>\n",
       "      <th>202606</th>\n",
       "      <td>1499_219</td>\n",
       "      <td>2018-12-14</td>\n",
       "      <td>19.62</td>\n",
       "      <td>1499</td>\n",
       "    </tr>\n",
       "  </tbody>\n",
       "</table>\n",
       "<p>202607 rows × 4 columns</p>\n",
       "</div>"
      ],
      "text/plain": [
       "              id   call_date  duration  user_id\n",
       "0         1000_0  2018-07-25      0.00     1000\n",
       "1         1000_1  2018-08-17      0.00     1000\n",
       "2         1000_2  2018-06-11      2.85     1000\n",
       "3         1000_3  2018-09-21     13.80     1000\n",
       "4         1000_4  2018-12-15      5.18     1000\n",
       "...          ...         ...       ...      ...\n",
       "202602  1499_215  2018-12-26      0.76     1499\n",
       "202603  1499_216  2018-10-18     18.83     1499\n",
       "202604  1499_217  2018-11-10     10.81     1499\n",
       "202605  1499_218  2018-10-06      4.27     1499\n",
       "202606  1499_219  2018-12-14     19.62     1499\n",
       "\n",
       "[202607 rows x 4 columns]"
      ]
     },
     "metadata": {},
     "output_type": "display_data"
    },
    {
     "data": {
      "text/html": [
       "<div>\n",
       "<style scoped>\n",
       "    .dataframe tbody tr th:only-of-type {\n",
       "        vertical-align: middle;\n",
       "    }\n",
       "\n",
       "    .dataframe tbody tr th {\n",
       "        vertical-align: top;\n",
       "    }\n",
       "\n",
       "    .dataframe thead th {\n",
       "        text-align: right;\n",
       "    }\n",
       "</style>\n",
       "<table border=\"1\" class=\"dataframe\">\n",
       "  <thead>\n",
       "    <tr style=\"text-align: right;\">\n",
       "      <th></th>\n",
       "      <th>Unnamed: 0</th>\n",
       "      <th>id</th>\n",
       "      <th>mb_used</th>\n",
       "      <th>session_date</th>\n",
       "      <th>user_id</th>\n",
       "    </tr>\n",
       "  </thead>\n",
       "  <tbody>\n",
       "    <tr>\n",
       "      <th>0</th>\n",
       "      <td>0</td>\n",
       "      <td>1000_0</td>\n",
       "      <td>112.95</td>\n",
       "      <td>2018-11-25</td>\n",
       "      <td>1000</td>\n",
       "    </tr>\n",
       "    <tr>\n",
       "      <th>1</th>\n",
       "      <td>1</td>\n",
       "      <td>1000_1</td>\n",
       "      <td>1,052.81</td>\n",
       "      <td>2018-09-07</td>\n",
       "      <td>1000</td>\n",
       "    </tr>\n",
       "    <tr>\n",
       "      <th>2</th>\n",
       "      <td>2</td>\n",
       "      <td>1000_2</td>\n",
       "      <td>1,197.26</td>\n",
       "      <td>2018-06-25</td>\n",
       "      <td>1000</td>\n",
       "    </tr>\n",
       "    <tr>\n",
       "      <th>3</th>\n",
       "      <td>3</td>\n",
       "      <td>1000_3</td>\n",
       "      <td>550.27</td>\n",
       "      <td>2018-08-22</td>\n",
       "      <td>1000</td>\n",
       "    </tr>\n",
       "    <tr>\n",
       "      <th>4</th>\n",
       "      <td>4</td>\n",
       "      <td>1000_4</td>\n",
       "      <td>302.56</td>\n",
       "      <td>2018-09-24</td>\n",
       "      <td>1000</td>\n",
       "    </tr>\n",
       "    <tr>\n",
       "      <th>...</th>\n",
       "      <td>...</td>\n",
       "      <td>...</td>\n",
       "      <td>...</td>\n",
       "      <td>...</td>\n",
       "      <td>...</td>\n",
       "    </tr>\n",
       "    <tr>\n",
       "      <th>149391</th>\n",
       "      <td>149391</td>\n",
       "      <td>1499_152</td>\n",
       "      <td>318.90</td>\n",
       "      <td>2018-10-03</td>\n",
       "      <td>1499</td>\n",
       "    </tr>\n",
       "    <tr>\n",
       "      <th>149392</th>\n",
       "      <td>149392</td>\n",
       "      <td>1499_153</td>\n",
       "      <td>490.13</td>\n",
       "      <td>2018-12-14</td>\n",
       "      <td>1499</td>\n",
       "    </tr>\n",
       "    <tr>\n",
       "      <th>149393</th>\n",
       "      <td>149393</td>\n",
       "      <td>1499_154</td>\n",
       "      <td>0.00</td>\n",
       "      <td>2018-10-27</td>\n",
       "      <td>1499</td>\n",
       "    </tr>\n",
       "    <tr>\n",
       "      <th>149394</th>\n",
       "      <td>149394</td>\n",
       "      <td>1499_155</td>\n",
       "      <td>1,246.32</td>\n",
       "      <td>2018-11-26</td>\n",
       "      <td>1499</td>\n",
       "    </tr>\n",
       "    <tr>\n",
       "      <th>149395</th>\n",
       "      <td>149395</td>\n",
       "      <td>1499_156</td>\n",
       "      <td>544.37</td>\n",
       "      <td>2018-10-26</td>\n",
       "      <td>1499</td>\n",
       "    </tr>\n",
       "  </tbody>\n",
       "</table>\n",
       "<p>149396 rows × 5 columns</p>\n",
       "</div>"
      ],
      "text/plain": [
       "        Unnamed: 0        id  mb_used session_date  user_id\n",
       "0                0    1000_0   112.95   2018-11-25     1000\n",
       "1                1    1000_1 1,052.81   2018-09-07     1000\n",
       "2                2    1000_2 1,197.26   2018-06-25     1000\n",
       "3                3    1000_3   550.27   2018-08-22     1000\n",
       "4                4    1000_4   302.56   2018-09-24     1000\n",
       "...            ...       ...      ...          ...      ...\n",
       "149391      149391  1499_152   318.90   2018-10-03     1499\n",
       "149392      149392  1499_153   490.13   2018-12-14     1499\n",
       "149393      149393  1499_154     0.00   2018-10-27     1499\n",
       "149394      149394  1499_155 1,246.32   2018-11-26     1499\n",
       "149395      149395  1499_156   544.37   2018-10-26     1499\n",
       "\n",
       "[149396 rows x 5 columns]"
      ]
     },
     "metadata": {},
     "output_type": "display_data"
    },
    {
     "data": {
      "text/html": [
       "<div>\n",
       "<style scoped>\n",
       "    .dataframe tbody tr th:only-of-type {\n",
       "        vertical-align: middle;\n",
       "    }\n",
       "\n",
       "    .dataframe tbody tr th {\n",
       "        vertical-align: top;\n",
       "    }\n",
       "\n",
       "    .dataframe thead th {\n",
       "        text-align: right;\n",
       "    }\n",
       "</style>\n",
       "<table border=\"1\" class=\"dataframe\">\n",
       "  <thead>\n",
       "    <tr style=\"text-align: right;\">\n",
       "      <th></th>\n",
       "      <th>id</th>\n",
       "      <th>message_date</th>\n",
       "      <th>user_id</th>\n",
       "    </tr>\n",
       "  </thead>\n",
       "  <tbody>\n",
       "    <tr>\n",
       "      <th>0</th>\n",
       "      <td>1000_0</td>\n",
       "      <td>2018-06-27</td>\n",
       "      <td>1000</td>\n",
       "    </tr>\n",
       "    <tr>\n",
       "      <th>1</th>\n",
       "      <td>1000_1</td>\n",
       "      <td>2018-10-08</td>\n",
       "      <td>1000</td>\n",
       "    </tr>\n",
       "    <tr>\n",
       "      <th>2</th>\n",
       "      <td>1000_2</td>\n",
       "      <td>2018-08-04</td>\n",
       "      <td>1000</td>\n",
       "    </tr>\n",
       "    <tr>\n",
       "      <th>3</th>\n",
       "      <td>1000_3</td>\n",
       "      <td>2018-06-16</td>\n",
       "      <td>1000</td>\n",
       "    </tr>\n",
       "    <tr>\n",
       "      <th>4</th>\n",
       "      <td>1000_4</td>\n",
       "      <td>2018-12-05</td>\n",
       "      <td>1000</td>\n",
       "    </tr>\n",
       "    <tr>\n",
       "      <th>...</th>\n",
       "      <td>...</td>\n",
       "      <td>...</td>\n",
       "      <td>...</td>\n",
       "    </tr>\n",
       "    <tr>\n",
       "      <th>123031</th>\n",
       "      <td>1499_179</td>\n",
       "      <td>2018-12-12</td>\n",
       "      <td>1499</td>\n",
       "    </tr>\n",
       "    <tr>\n",
       "      <th>123032</th>\n",
       "      <td>1499_180</td>\n",
       "      <td>2018-09-28</td>\n",
       "      <td>1499</td>\n",
       "    </tr>\n",
       "    <tr>\n",
       "      <th>123033</th>\n",
       "      <td>1499_181</td>\n",
       "      <td>2018-09-27</td>\n",
       "      <td>1499</td>\n",
       "    </tr>\n",
       "    <tr>\n",
       "      <th>123034</th>\n",
       "      <td>1499_182</td>\n",
       "      <td>2018-11-15</td>\n",
       "      <td>1499</td>\n",
       "    </tr>\n",
       "    <tr>\n",
       "      <th>123035</th>\n",
       "      <td>1499_183</td>\n",
       "      <td>2018-11-16</td>\n",
       "      <td>1499</td>\n",
       "    </tr>\n",
       "  </tbody>\n",
       "</table>\n",
       "<p>123036 rows × 3 columns</p>\n",
       "</div>"
      ],
      "text/plain": [
       "              id message_date  user_id\n",
       "0         1000_0   2018-06-27     1000\n",
       "1         1000_1   2018-10-08     1000\n",
       "2         1000_2   2018-08-04     1000\n",
       "3         1000_3   2018-06-16     1000\n",
       "4         1000_4   2018-12-05     1000\n",
       "...          ...          ...      ...\n",
       "123031  1499_179   2018-12-12     1499\n",
       "123032  1499_180   2018-09-28     1499\n",
       "123033  1499_181   2018-09-27     1499\n",
       "123034  1499_182   2018-11-15     1499\n",
       "123035  1499_183   2018-11-16     1499\n",
       "\n",
       "[123036 rows x 3 columns]"
      ]
     },
     "metadata": {},
     "output_type": "display_data"
    },
    {
     "data": {
      "text/html": [
       "<div>\n",
       "<style scoped>\n",
       "    .dataframe tbody tr th:only-of-type {\n",
       "        vertical-align: middle;\n",
       "    }\n",
       "\n",
       "    .dataframe tbody tr th {\n",
       "        vertical-align: top;\n",
       "    }\n",
       "\n",
       "    .dataframe thead th {\n",
       "        text-align: right;\n",
       "    }\n",
       "</style>\n",
       "<table border=\"1\" class=\"dataframe\">\n",
       "  <thead>\n",
       "    <tr style=\"text-align: right;\">\n",
       "      <th></th>\n",
       "      <th>messages_included</th>\n",
       "      <th>mb_per_month_included</th>\n",
       "      <th>minutes_included</th>\n",
       "      <th>rub_monthly_fee</th>\n",
       "      <th>rub_per_gb</th>\n",
       "      <th>rub_per_message</th>\n",
       "      <th>rub_per_minute</th>\n",
       "      <th>tariff_name</th>\n",
       "    </tr>\n",
       "  </thead>\n",
       "  <tbody>\n",
       "    <tr>\n",
       "      <th>0</th>\n",
       "      <td>50</td>\n",
       "      <td>15360</td>\n",
       "      <td>500</td>\n",
       "      <td>550</td>\n",
       "      <td>200</td>\n",
       "      <td>3</td>\n",
       "      <td>3</td>\n",
       "      <td>smart</td>\n",
       "    </tr>\n",
       "    <tr>\n",
       "      <th>1</th>\n",
       "      <td>1000</td>\n",
       "      <td>30720</td>\n",
       "      <td>3000</td>\n",
       "      <td>1950</td>\n",
       "      <td>150</td>\n",
       "      <td>1</td>\n",
       "      <td>1</td>\n",
       "      <td>ultra</td>\n",
       "    </tr>\n",
       "  </tbody>\n",
       "</table>\n",
       "</div>"
      ],
      "text/plain": [
       "   messages_included  mb_per_month_included  minutes_included  \\\n",
       "0                 50                  15360               500   \n",
       "1               1000                  30720              3000   \n",
       "\n",
       "   rub_monthly_fee  rub_per_gb  rub_per_message  rub_per_minute tariff_name  \n",
       "0              550         200                3               3       smart  \n",
       "1             1950         150                1               1       ultra  "
      ]
     },
     "metadata": {},
     "output_type": "display_data"
    },
    {
     "data": {
      "text/html": [
       "<div>\n",
       "<style scoped>\n",
       "    .dataframe tbody tr th:only-of-type {\n",
       "        vertical-align: middle;\n",
       "    }\n",
       "\n",
       "    .dataframe tbody tr th {\n",
       "        vertical-align: top;\n",
       "    }\n",
       "\n",
       "    .dataframe thead th {\n",
       "        text-align: right;\n",
       "    }\n",
       "</style>\n",
       "<table border=\"1\" class=\"dataframe\">\n",
       "  <thead>\n",
       "    <tr style=\"text-align: right;\">\n",
       "      <th></th>\n",
       "      <th>user_id</th>\n",
       "      <th>age</th>\n",
       "      <th>churn_date</th>\n",
       "      <th>city</th>\n",
       "      <th>first_name</th>\n",
       "      <th>last_name</th>\n",
       "      <th>reg_date</th>\n",
       "      <th>tariff</th>\n",
       "    </tr>\n",
       "  </thead>\n",
       "  <tbody>\n",
       "    <tr>\n",
       "      <th>0</th>\n",
       "      <td>1000</td>\n",
       "      <td>52</td>\n",
       "      <td>NaN</td>\n",
       "      <td>Краснодар</td>\n",
       "      <td>Рафаил</td>\n",
       "      <td>Верещагин</td>\n",
       "      <td>2018-05-25</td>\n",
       "      <td>ultra</td>\n",
       "    </tr>\n",
       "    <tr>\n",
       "      <th>1</th>\n",
       "      <td>1001</td>\n",
       "      <td>41</td>\n",
       "      <td>NaN</td>\n",
       "      <td>Москва</td>\n",
       "      <td>Иван</td>\n",
       "      <td>Ежов</td>\n",
       "      <td>2018-11-01</td>\n",
       "      <td>smart</td>\n",
       "    </tr>\n",
       "    <tr>\n",
       "      <th>2</th>\n",
       "      <td>1002</td>\n",
       "      <td>59</td>\n",
       "      <td>NaN</td>\n",
       "      <td>Стерлитамак</td>\n",
       "      <td>Евгений</td>\n",
       "      <td>Абрамович</td>\n",
       "      <td>2018-06-17</td>\n",
       "      <td>smart</td>\n",
       "    </tr>\n",
       "    <tr>\n",
       "      <th>3</th>\n",
       "      <td>1003</td>\n",
       "      <td>23</td>\n",
       "      <td>NaN</td>\n",
       "      <td>Москва</td>\n",
       "      <td>Белла</td>\n",
       "      <td>Белякова</td>\n",
       "      <td>2018-08-17</td>\n",
       "      <td>ultra</td>\n",
       "    </tr>\n",
       "    <tr>\n",
       "      <th>4</th>\n",
       "      <td>1004</td>\n",
       "      <td>68</td>\n",
       "      <td>NaN</td>\n",
       "      <td>Новокузнецк</td>\n",
       "      <td>Татьяна</td>\n",
       "      <td>Авдеенко</td>\n",
       "      <td>2018-05-14</td>\n",
       "      <td>ultra</td>\n",
       "    </tr>\n",
       "    <tr>\n",
       "      <th>...</th>\n",
       "      <td>...</td>\n",
       "      <td>...</td>\n",
       "      <td>...</td>\n",
       "      <td>...</td>\n",
       "      <td>...</td>\n",
       "      <td>...</td>\n",
       "      <td>...</td>\n",
       "      <td>...</td>\n",
       "    </tr>\n",
       "    <tr>\n",
       "      <th>495</th>\n",
       "      <td>1495</td>\n",
       "      <td>65</td>\n",
       "      <td>NaN</td>\n",
       "      <td>Иркутск</td>\n",
       "      <td>Авксентий</td>\n",
       "      <td>Фокин</td>\n",
       "      <td>2018-08-28</td>\n",
       "      <td>ultra</td>\n",
       "    </tr>\n",
       "    <tr>\n",
       "      <th>496</th>\n",
       "      <td>1496</td>\n",
       "      <td>36</td>\n",
       "      <td>NaN</td>\n",
       "      <td>Вологда</td>\n",
       "      <td>Трифон</td>\n",
       "      <td>Блохин</td>\n",
       "      <td>2018-01-27</td>\n",
       "      <td>smart</td>\n",
       "    </tr>\n",
       "    <tr>\n",
       "      <th>497</th>\n",
       "      <td>1497</td>\n",
       "      <td>32</td>\n",
       "      <td>NaN</td>\n",
       "      <td>Челябинск</td>\n",
       "      <td>Каролина</td>\n",
       "      <td>Агеева</td>\n",
       "      <td>2018-10-09</td>\n",
       "      <td>smart</td>\n",
       "    </tr>\n",
       "    <tr>\n",
       "      <th>498</th>\n",
       "      <td>1498</td>\n",
       "      <td>68</td>\n",
       "      <td>2018-10-25</td>\n",
       "      <td>Владикавказ</td>\n",
       "      <td>Всеволод</td>\n",
       "      <td>Акимчин</td>\n",
       "      <td>2018-07-19</td>\n",
       "      <td>smart</td>\n",
       "    </tr>\n",
       "    <tr>\n",
       "      <th>499</th>\n",
       "      <td>1499</td>\n",
       "      <td>35</td>\n",
       "      <td>NaN</td>\n",
       "      <td>Пермь</td>\n",
       "      <td>Гектор</td>\n",
       "      <td>Корнилов</td>\n",
       "      <td>2018-09-27</td>\n",
       "      <td>smart</td>\n",
       "    </tr>\n",
       "  </tbody>\n",
       "</table>\n",
       "<p>500 rows × 8 columns</p>\n",
       "</div>"
      ],
      "text/plain": [
       "     user_id  age  churn_date         city first_name  last_name    reg_date  \\\n",
       "0       1000   52         NaN    Краснодар     Рафаил  Верещагин  2018-05-25   \n",
       "1       1001   41         NaN       Москва       Иван       Ежов  2018-11-01   \n",
       "2       1002   59         NaN  Стерлитамак    Евгений  Абрамович  2018-06-17   \n",
       "3       1003   23         NaN       Москва      Белла   Белякова  2018-08-17   \n",
       "4       1004   68         NaN  Новокузнецк    Татьяна   Авдеенко  2018-05-14   \n",
       "..       ...  ...         ...          ...        ...        ...         ...   \n",
       "495     1495   65         NaN      Иркутск  Авксентий      Фокин  2018-08-28   \n",
       "496     1496   36         NaN      Вологда     Трифон     Блохин  2018-01-27   \n",
       "497     1497   32         NaN    Челябинск   Каролина     Агеева  2018-10-09   \n",
       "498     1498   68  2018-10-25  Владикавказ   Всеволод    Акимчин  2018-07-19   \n",
       "499     1499   35         NaN        Пермь     Гектор   Корнилов  2018-09-27   \n",
       "\n",
       "    tariff  \n",
       "0    ultra  \n",
       "1    smart  \n",
       "2    smart  \n",
       "3    ultra  \n",
       "4    ultra  \n",
       "..     ...  \n",
       "495  ultra  \n",
       "496  smart  \n",
       "497  smart  \n",
       "498  smart  \n",
       "499  smart  \n",
       "\n",
       "[500 rows x 8 columns]"
      ]
     },
     "metadata": {},
     "output_type": "display_data"
    }
   ],
   "source": [
    "calls = pd.read_csv('datasets/calls.csv')\n",
    "internet = pd.read_csv('datasets/internet.csv')\n",
    "messages = pd.read_csv('datasets/messages.csv')\n",
    "tariffs = pd.read_csv('datasets/tariffs.csv')\n",
    "users = pd.read_csv('datasets/users.csv')\n",
    "\n",
    "display(calls)\n",
    "display(internet)\n",
    "display(messages)\n",
    "display(tariffs)\n",
    "display(users)\n"
   ]
  },
  {
   "cell_type": "markdown",
   "metadata": {},
   "source": [
    "**Вывод** Библиотеки подключены, файлы пс данными прочитаны"
   ]
  },
  {
   "cell_type": "markdown",
   "metadata": {},
   "source": [
    "## 2. Подготовка и предобработка данных"
   ]
  },
  {
   "cell_type": "markdown",
   "metadata": {},
   "source": [
    "Сделаем следующие действия:\n",
    "* Удалим лишний столбец\n",
    "* Переименуем столбцы с датой\n",
    "* Приведем столбцы с датами из строкового типа в тип даты\n",
    "* Проверим и исправим аномалии\n",
    "* Проверим пропуски\n",
    "* Объединим таблицы"
   ]
  },
  {
   "cell_type": "markdown",
   "metadata": {},
   "source": [
    "Удалим лишний столбец"
   ]
  },
  {
   "cell_type": "code",
   "execution_count": 3,
   "metadata": {},
   "outputs": [],
   "source": [
    "internet.drop('Unnamed: 0', axis=1, inplace=True)"
   ]
  },
  {
   "cell_type": "markdown",
   "metadata": {},
   "source": [
    "Переименуем столбцы с датой"
   ]
  },
  {
   "cell_type": "code",
   "execution_count": 4,
   "metadata": {},
   "outputs": [],
   "source": [
    "calls.rename(columns={'call_date': 'date'}, inplace=True)\n",
    "messages.rename(columns={'message_date': 'date'}, inplace=True)\n",
    "internet.rename(columns={'session_date': 'date'}, inplace=True)\n",
    "tariffs.rename(columns={'tariff_name': 'tariff'}, inplace=True)"
   ]
  },
  {
   "cell_type": "markdown",
   "metadata": {},
   "source": [
    "Приведем стольбцы с дадтами из строкового типа в тип даты"
   ]
  },
  {
   "cell_type": "code",
   "execution_count": 5,
   "metadata": {},
   "outputs": [],
   "source": [
    "calls['date'] = pd.to_datetime(calls['date'], format='%Y-%m-%d')\n",
    "messages['date'] = pd.to_datetime(messages['date'], format='%Y-%m-%d')\n",
    "internet['date'] = pd.to_datetime(internet['date'], format='%Y-%m-%d')\n",
    "users['churn_date'] = pd.to_datetime(users['churn_date'], format='%Y-%m-%d')"
   ]
  },
  {
   "cell_type": "markdown",
   "metadata": {},
   "source": [
    "Проверим аномалии.\n",
    "\n",
    "Посмотрим распределение количественных переменных: построим гистограммы для длительностей звонка, количества смс в день и длительности интернет-сессии."
   ]
  },
  {
   "cell_type": "code",
   "execution_count": 6,
   "metadata": {
    "scrolled": true
   },
   "outputs": [
    {
     "name": "stdout",
     "output_type": "stream",
     "text": [
      "Звонков с нулевой длительностью: 39613\n"
     ]
    },
    {
     "data": {
      "image/png": "[encoded data removed]",
      "text/plain": [
       "<Figure size 432x288 with 1 Axes>"
      ]
     },
     "metadata": {
      "needs_background": "light"
     },
     "output_type": "display_data"
    }
   ],
   "source": [
    "calls['duration'].hist(bins=50)\n",
    "print('Звонков с нулевой длительностью:', len(calls.query('duration == 0')))"
   ]
  },
  {
   "cell_type": "markdown",
   "metadata": {},
   "source": [
    "***Вывод:*** Есть множество звонков с нулевой длительностью. Очевидно это пропущенные звонки, не будем их удалять"
   ]
  },
  {
   "cell_type": "code",
   "execution_count": 7,
   "metadata": {},
   "outputs": [
    {
     "data": {
      "text/plain": [
       "<AxesSubplot:>"
      ]
     },
     "execution_count": 7,
     "metadata": {},
     "output_type": "execute_result"
    },
    {
     "data": {
      "image/png": "[encoded data removed]",
      "text/plain": [
       "<Figure size 432x288 with 1 Axes>"
      ]
     },
     "metadata": {
      "needs_background": "light"
     },
     "output_type": "display_data"
    }
   ],
   "source": [
    "messages.groupby('date')['id'].count().hist(bins=50)"
   ]
  },
  {
   "cell_type": "markdown",
   "metadata": {},
   "source": [
    "***Вывод:*** Очевидных анамалий по смс не выявлено"
   ]
  },
  {
   "cell_type": "code",
   "execution_count": 8,
   "metadata": {
    "scrolled": true
   },
   "outputs": [
    {
     "name": "stdout",
     "output_type": "stream",
     "text": [
      "Интернет сессий с 0 мб: 19598\n"
     ]
    },
    {
     "data": {
      "image/png": "[encoded data removed]",
      "text/plain": [
       "<Figure size 432x288 with 1 Axes>"
      ]
     },
     "metadata": {
      "needs_background": "light"
     },
     "output_type": "display_data"
    }
   ],
   "source": [
    "internet['mb_used'].hist(bins=50)\n",
    "print('Интернет сессий с 0 мб:', len(internet.query('mb_used == 0')))"
   ]
  },
  {
   "cell_type": "markdown",
   "metadata": {},
   "source": [
    "***Вывод:*** Есть множество интернет-сессий с нулевым траффиком. Можем их не использовать"
   ]
  },
  {
   "cell_type": "code",
   "execution_count": 9,
   "metadata": {},
   "outputs": [],
   "source": [
    "internet = internet.query('mb_used > 0')"
   ]
  },
  {
   "cell_type": "markdown",
   "metadata": {},
   "source": [
    "<a id='skips'></a>Проверим пропуски"
   ]
  },
  {
   "cell_type": "code",
   "execution_count": 10,
   "metadata": {
    "scrolled": true
   },
   "outputs": [
    {
     "data": {
      "text/plain": [
       "id          0\n",
       "date        0\n",
       "duration    0\n",
       "user_id     0\n",
       "dtype: int64"
      ]
     },
     "metadata": {},
     "output_type": "display_data"
    },
    {
     "data": {
      "text/plain": [
       "id         0\n",
       "date       0\n",
       "user_id    0\n",
       "dtype: int64"
      ]
     },
     "metadata": {},
     "output_type": "display_data"
    },
    {
     "data": {
      "text/plain": [
       "user_id         0\n",
       "age             0\n",
       "churn_date    462\n",
       "city            0\n",
       "first_name      0\n",
       "last_name       0\n",
       "reg_date        0\n",
       "tariff          0\n",
       "dtype: int64"
      ]
     },
     "metadata": {},
     "output_type": "display_data"
    },
    {
     "data": {
      "text/plain": [
       "id         0\n",
       "mb_used    0\n",
       "date       0\n",
       "user_id    0\n",
       "dtype: int64"
      ]
     },
     "execution_count": 10,
     "metadata": {},
     "output_type": "execute_result"
    }
   ],
   "source": [
    "display(calls.isna().sum())\n",
    "display(messages.isna().sum())\n",
    "display(users.isna().sum())\n",
    "internet.isna().sum() "
   ]
  },
  {
   "cell_type": "markdown",
   "metadata": {},
   "source": [
    "***Вывод:*** В таблице 'users' пропуски только в 'churn_date'. Это так задумано. Больше нигде пропусков нет"
   ]
  },
  {
   "cell_type": "markdown",
   "metadata": {},
   "source": [
    "**Объединим  таблицы**"
   ]
  },
  {
   "cell_type": "markdown",
   "metadata": {},
   "source": [
    "Добавим столбец с типом для каждой таблицы"
   ]
  },
  {
   "cell_type": "code",
   "execution_count": 11,
   "metadata": {},
   "outputs": [],
   "source": [
    "calls['type'] = 'call'\n",
    "messages['type'] = 'sms'\n",
    "internet['type'] = 'inet'"
   ]
  },
  {
   "cell_type": "code",
   "execution_count": 12,
   "metadata": {
    "scrolled": true
   },
   "outputs": [
    {
     "data": {
      "text/html": [
       "<div>\n",
       "<style scoped>\n",
       "    .dataframe tbody tr th:only-of-type {\n",
       "        vertical-align: middle;\n",
       "    }\n",
       "\n",
       "    .dataframe tbody tr th {\n",
       "        vertical-align: top;\n",
       "    }\n",
       "\n",
       "    .dataframe thead th {\n",
       "        text-align: right;\n",
       "    }\n",
       "</style>\n",
       "<table border=\"1\" class=\"dataframe\">\n",
       "  <thead>\n",
       "    <tr style=\"text-align: right;\">\n",
       "      <th></th>\n",
       "      <th>id</th>\n",
       "      <th>date</th>\n",
       "      <th>duration</th>\n",
       "      <th>user_id</th>\n",
       "      <th>type</th>\n",
       "      <th>mb_used</th>\n",
       "      <th>age</th>\n",
       "      <th>churn_date</th>\n",
       "      <th>city</th>\n",
       "      <th>first_name</th>\n",
       "      <th>last_name</th>\n",
       "      <th>reg_date</th>\n",
       "      <th>tariff</th>\n",
       "      <th>month</th>\n",
       "    </tr>\n",
       "  </thead>\n",
       "  <tbody>\n",
       "    <tr>\n",
       "      <th>76907</th>\n",
       "      <td>1193_169</td>\n",
       "      <td>2018-01-01</td>\n",
       "      <td>13.29</td>\n",
       "      <td>1193</td>\n",
       "      <td>call</td>\n",
       "      <td>NaN</td>\n",
       "      <td>55</td>\n",
       "      <td>NaT</td>\n",
       "      <td>Тамбов</td>\n",
       "      <td>Арсен</td>\n",
       "      <td>Безруков</td>\n",
       "      <td>2018-01-01</td>\n",
       "      <td>smart</td>\n",
       "      <td>1</td>\n",
       "    </tr>\n",
       "    <tr>\n",
       "      <th>181903</th>\n",
       "      <td>1453_1095</td>\n",
       "      <td>2018-01-01</td>\n",
       "      <td>5.63</td>\n",
       "      <td>1453</td>\n",
       "      <td>call</td>\n",
       "      <td>NaN</td>\n",
       "      <td>50</td>\n",
       "      <td>NaT</td>\n",
       "      <td>Москва</td>\n",
       "      <td>Кузьма</td>\n",
       "      <td>Акуленко</td>\n",
       "      <td>2018-01-01</td>\n",
       "      <td>ultra</td>\n",
       "      <td>1</td>\n",
       "    </tr>\n",
       "    <tr>\n",
       "      <th>443164</th>\n",
       "      <td>1453_498</td>\n",
       "      <td>2018-01-01</td>\n",
       "      <td>NaN</td>\n",
       "      <td>1453</td>\n",
       "      <td>inet</td>\n",
       "      <td>209.31</td>\n",
       "      <td>50</td>\n",
       "      <td>NaT</td>\n",
       "      <td>Москва</td>\n",
       "      <td>Кузьма</td>\n",
       "      <td>Акуленко</td>\n",
       "      <td>2018-01-01</td>\n",
       "      <td>ultra</td>\n",
       "      <td>1</td>\n",
       "    </tr>\n",
       "    <tr>\n",
       "      <th>442978</th>\n",
       "      <td>1453_302</td>\n",
       "      <td>2018-01-01</td>\n",
       "      <td>NaN</td>\n",
       "      <td>1453</td>\n",
       "      <td>inet</td>\n",
       "      <td>794.96</td>\n",
       "      <td>50</td>\n",
       "      <td>NaT</td>\n",
       "      <td>Москва</td>\n",
       "      <td>Кузьма</td>\n",
       "      <td>Акуленко</td>\n",
       "      <td>2018-01-01</td>\n",
       "      <td>ultra</td>\n",
       "      <td>1</td>\n",
       "    </tr>\n",
       "    <tr>\n",
       "      <th>181239</th>\n",
       "      <td>1453_431</td>\n",
       "      <td>2018-01-01</td>\n",
       "      <td>19.92</td>\n",
       "      <td>1453</td>\n",
       "      <td>call</td>\n",
       "      <td>NaN</td>\n",
       "      <td>50</td>\n",
       "      <td>NaT</td>\n",
       "      <td>Москва</td>\n",
       "      <td>Кузьма</td>\n",
       "      <td>Акуленко</td>\n",
       "      <td>2018-01-01</td>\n",
       "      <td>ultra</td>\n",
       "      <td>1</td>\n",
       "    </tr>\n",
       "    <tr>\n",
       "      <th>...</th>\n",
       "      <td>...</td>\n",
       "      <td>...</td>\n",
       "      <td>...</td>\n",
       "      <td>...</td>\n",
       "      <td>...</td>\n",
       "      <td>...</td>\n",
       "      <td>...</td>\n",
       "      <td>...</td>\n",
       "      <td>...</td>\n",
       "      <td>...</td>\n",
       "      <td>...</td>\n",
       "      <td>...</td>\n",
       "      <td>...</td>\n",
       "      <td>...</td>\n",
       "    </tr>\n",
       "    <tr>\n",
       "      <th>23727</th>\n",
       "      <td>1060_37</td>\n",
       "      <td>2018-12-31</td>\n",
       "      <td>7.71</td>\n",
       "      <td>1060</td>\n",
       "      <td>call</td>\n",
       "      <td>NaN</td>\n",
       "      <td>46</td>\n",
       "      <td>NaT</td>\n",
       "      <td>Калуга</td>\n",
       "      <td>Яков</td>\n",
       "      <td>Рудаков</td>\n",
       "      <td>2018-11-24</td>\n",
       "      <td>ultra</td>\n",
       "      <td>12</td>\n",
       "    </tr>\n",
       "    <tr>\n",
       "      <th>442647</th>\n",
       "      <td>1452_280</td>\n",
       "      <td>2018-12-31</td>\n",
       "      <td>NaN</td>\n",
       "      <td>1452</td>\n",
       "      <td>inet</td>\n",
       "      <td>670.70</td>\n",
       "      <td>74</td>\n",
       "      <td>NaT</td>\n",
       "      <td>Москва</td>\n",
       "      <td>Эмилия</td>\n",
       "      <td>Абалдуева</td>\n",
       "      <td>2018-06-19</td>\n",
       "      <td>ultra</td>\n",
       "      <td>12</td>\n",
       "    </tr>\n",
       "    <tr>\n",
       "      <th>230563</th>\n",
       "      <td>1121_83</td>\n",
       "      <td>2018-12-31</td>\n",
       "      <td>NaN</td>\n",
       "      <td>1121</td>\n",
       "      <td>sms</td>\n",
       "      <td>NaN</td>\n",
       "      <td>62</td>\n",
       "      <td>NaT</td>\n",
       "      <td>Белгород</td>\n",
       "      <td>Марта</td>\n",
       "      <td>Афанасова</td>\n",
       "      <td>2018-05-04</td>\n",
       "      <td>smart</td>\n",
       "      <td>12</td>\n",
       "    </tr>\n",
       "    <tr>\n",
       "      <th>230398</th>\n",
       "      <td>1119_314</td>\n",
       "      <td>2018-12-31</td>\n",
       "      <td>NaN</td>\n",
       "      <td>1119</td>\n",
       "      <td>sms</td>\n",
       "      <td>NaN</td>\n",
       "      <td>53</td>\n",
       "      <td>NaT</td>\n",
       "      <td>Петрозаводск</td>\n",
       "      <td>Олег</td>\n",
       "      <td>Сухарев</td>\n",
       "      <td>2018-04-22</td>\n",
       "      <td>smart</td>\n",
       "      <td>12</td>\n",
       "    </tr>\n",
       "    <tr>\n",
       "      <th>147548</th>\n",
       "      <td>1375_379</td>\n",
       "      <td>2018-12-31</td>\n",
       "      <td>15.00</td>\n",
       "      <td>1375</td>\n",
       "      <td>call</td>\n",
       "      <td>NaN</td>\n",
       "      <td>53</td>\n",
       "      <td>NaT</td>\n",
       "      <td>Пенза</td>\n",
       "      <td>Мария</td>\n",
       "      <td>Акимычева</td>\n",
       "      <td>2018-01-04</td>\n",
       "      <td>ultra</td>\n",
       "      <td>12</td>\n",
       "    </tr>\n",
       "  </tbody>\n",
       "</table>\n",
       "<p>455441 rows × 14 columns</p>\n",
       "</div>"
      ],
      "text/plain": [
       "               id       date  duration  user_id  type  mb_used  age  \\\n",
       "76907    1193_169 2018-01-01     13.29     1193  call      NaN   55   \n",
       "181903  1453_1095 2018-01-01      5.63     1453  call      NaN   50   \n",
       "443164   1453_498 2018-01-01       NaN     1453  inet   209.31   50   \n",
       "442978   1453_302 2018-01-01       NaN     1453  inet   794.96   50   \n",
       "181239   1453_431 2018-01-01     19.92     1453  call      NaN   50   \n",
       "...           ...        ...       ...      ...   ...      ...  ...   \n",
       "23727     1060_37 2018-12-31      7.71     1060  call      NaN   46   \n",
       "442647   1452_280 2018-12-31       NaN     1452  inet   670.70   74   \n",
       "230563    1121_83 2018-12-31       NaN     1121   sms      NaN   62   \n",
       "230398   1119_314 2018-12-31       NaN     1119   sms      NaN   53   \n",
       "147548   1375_379 2018-12-31     15.00     1375  call      NaN   53   \n",
       "\n",
       "       churn_date          city first_name  last_name    reg_date tariff  \\\n",
       "76907         NaT        Тамбов      Арсен   Безруков  2018-01-01  smart   \n",
       "181903        NaT        Москва     Кузьма   Акуленко  2018-01-01  ultra   \n",
       "443164        NaT        Москва     Кузьма   Акуленко  2018-01-01  ultra   \n",
       "442978        NaT        Москва     Кузьма   Акуленко  2018-01-01  ultra   \n",
       "181239        NaT        Москва     Кузьма   Акуленко  2018-01-01  ultra   \n",
       "...           ...           ...        ...        ...         ...    ...   \n",
       "23727         NaT        Калуга       Яков    Рудаков  2018-11-24  ultra   \n",
       "442647        NaT        Москва     Эмилия  Абалдуева  2018-06-19  ultra   \n",
       "230563        NaT      Белгород      Марта  Афанасова  2018-05-04  smart   \n",
       "230398        NaT  Петрозаводск       Олег    Сухарев  2018-04-22  smart   \n",
       "147548        NaT         Пенза      Мария  Акимычева  2018-01-04  ultra   \n",
       "\n",
       "        month  \n",
       "76907       1  \n",
       "181903      1  \n",
       "443164      1  \n",
       "442978      1  \n",
       "181239      1  \n",
       "...       ...  \n",
       "23727      12  \n",
       "442647     12  \n",
       "230563     12  \n",
       "230398     12  \n",
       "147548     12  \n",
       "\n",
       "[455441 rows x 14 columns]"
      ]
     },
     "execution_count": 12,
     "metadata": {},
     "output_type": "execute_result"
    }
   ],
   "source": [
    "data = pd.concat([calls, messages, internet], ignore_index=True, sort=False)\n",
    "data = data.merge(users, on='user_id', how='left')\n",
    "data['month'] = data['date'].dt.month\n",
    "data.sort_values(by='date')"
   ]
  },
  {
   "cell_type": "markdown",
   "metadata": {},
   "source": [
    "***Вывод***: лишние столбцы убрали, дату преобразовали, пропуски разобрали, таблицы объединили"
   ]
  },
  {
   "cell_type": "markdown",
   "metadata": {},
   "source": [
    "**Расчёты и добавление результатов в таблицу**"
   ]
  },
  {
   "cell_type": "markdown",
   "metadata": {},
   "source": [
    "Посмотрим на количество сделанных звонков и израсходованных минут разговора по месяцам"
   ]
  },
  {
   "cell_type": "code",
   "execution_count": 13,
   "metadata": {
    "scrolled": true
   },
   "outputs": [
    {
     "data": {
      "text/html": [
       "<div>\n",
       "<style scoped>\n",
       "    .dataframe tbody tr th:only-of-type {\n",
       "        vertical-align: middle;\n",
       "    }\n",
       "\n",
       "    .dataframe tbody tr th {\n",
       "        vertical-align: top;\n",
       "    }\n",
       "\n",
       "    .dataframe thead th {\n",
       "        text-align: right;\n",
       "    }\n",
       "</style>\n",
       "<table border=\"1\" class=\"dataframe\">\n",
       "  <thead>\n",
       "    <tr style=\"text-align: right;\">\n",
       "      <th></th>\n",
       "      <th>id</th>\n",
       "      <th>date</th>\n",
       "      <th>duration</th>\n",
       "      <th>user_id</th>\n",
       "      <th>type</th>\n",
       "      <th>mb_used</th>\n",
       "      <th>age</th>\n",
       "      <th>churn_date</th>\n",
       "      <th>city</th>\n",
       "      <th>first_name</th>\n",
       "      <th>last_name</th>\n",
       "      <th>reg_date</th>\n",
       "      <th>tariff</th>\n",
       "      <th>month</th>\n",
       "      <th>calls_in_month</th>\n",
       "      <th>calls_dur_in_month</th>\n",
       "      <th>sms_count_in_month</th>\n",
       "      <th>mb_in_month</th>\n",
       "    </tr>\n",
       "  </thead>\n",
       "  <tbody>\n",
       "    <tr>\n",
       "      <th>0</th>\n",
       "      <td>1000_0</td>\n",
       "      <td>2018-07-25</td>\n",
       "      <td>0.00</td>\n",
       "      <td>1000</td>\n",
       "      <td>call</td>\n",
       "      <td>NaN</td>\n",
       "      <td>52</td>\n",
       "      <td>NaT</td>\n",
       "      <td>Краснодар</td>\n",
       "      <td>Рафаил</td>\n",
       "      <td>Верещагин</td>\n",
       "      <td>2018-05-25</td>\n",
       "      <td>ultra</td>\n",
       "      <td>7</td>\n",
       "      <td>47.00</td>\n",
       "      <td>318.80</td>\n",
       "      <td>NaN</td>\n",
       "      <td>NaN</td>\n",
       "    </tr>\n",
       "    <tr>\n",
       "      <th>1</th>\n",
       "      <td>1000_1</td>\n",
       "      <td>2018-08-17</td>\n",
       "      <td>0.00</td>\n",
       "      <td>1000</td>\n",
       "      <td>call</td>\n",
       "      <td>NaN</td>\n",
       "      <td>52</td>\n",
       "      <td>NaT</td>\n",
       "      <td>Краснодар</td>\n",
       "      <td>Рафаил</td>\n",
       "      <td>Верещагин</td>\n",
       "      <td>2018-05-25</td>\n",
       "      <td>ultra</td>\n",
       "      <td>8</td>\n",
       "      <td>52.00</td>\n",
       "      <td>389.87</td>\n",
       "      <td>NaN</td>\n",
       "      <td>NaN</td>\n",
       "    </tr>\n",
       "    <tr>\n",
       "      <th>2</th>\n",
       "      <td>1000_2</td>\n",
       "      <td>2018-06-11</td>\n",
       "      <td>2.85</td>\n",
       "      <td>1000</td>\n",
       "      <td>call</td>\n",
       "      <td>NaN</td>\n",
       "      <td>52</td>\n",
       "      <td>NaT</td>\n",
       "      <td>Краснодар</td>\n",
       "      <td>Рафаил</td>\n",
       "      <td>Верещагин</td>\n",
       "      <td>2018-05-25</td>\n",
       "      <td>ultra</td>\n",
       "      <td>6</td>\n",
       "      <td>43.00</td>\n",
       "      <td>158.90</td>\n",
       "      <td>NaN</td>\n",
       "      <td>NaN</td>\n",
       "    </tr>\n",
       "    <tr>\n",
       "      <th>3</th>\n",
       "      <td>1000_3</td>\n",
       "      <td>2018-09-21</td>\n",
       "      <td>13.80</td>\n",
       "      <td>1000</td>\n",
       "      <td>call</td>\n",
       "      <td>NaN</td>\n",
       "      <td>52</td>\n",
       "      <td>NaT</td>\n",
       "      <td>Краснодар</td>\n",
       "      <td>Рафаил</td>\n",
       "      <td>Верещагин</td>\n",
       "      <td>2018-05-25</td>\n",
       "      <td>ultra</td>\n",
       "      <td>9</td>\n",
       "      <td>58.00</td>\n",
       "      <td>440.14</td>\n",
       "      <td>NaN</td>\n",
       "      <td>NaN</td>\n",
       "    </tr>\n",
       "    <tr>\n",
       "      <th>4</th>\n",
       "      <td>1000_4</td>\n",
       "      <td>2018-12-15</td>\n",
       "      <td>5.18</td>\n",
       "      <td>1000</td>\n",
       "      <td>call</td>\n",
       "      <td>NaN</td>\n",
       "      <td>52</td>\n",
       "      <td>NaT</td>\n",
       "      <td>Краснодар</td>\n",
       "      <td>Рафаил</td>\n",
       "      <td>Верещагин</td>\n",
       "      <td>2018-05-25</td>\n",
       "      <td>ultra</td>\n",
       "      <td>12</td>\n",
       "      <td>46.00</td>\n",
       "      <td>312.98</td>\n",
       "      <td>NaN</td>\n",
       "      <td>NaN</td>\n",
       "    </tr>\n",
       "    <tr>\n",
       "      <th>...</th>\n",
       "      <td>...</td>\n",
       "      <td>...</td>\n",
       "      <td>...</td>\n",
       "      <td>...</td>\n",
       "      <td>...</td>\n",
       "      <td>...</td>\n",
       "      <td>...</td>\n",
       "      <td>...</td>\n",
       "      <td>...</td>\n",
       "      <td>...</td>\n",
       "      <td>...</td>\n",
       "      <td>...</td>\n",
       "      <td>...</td>\n",
       "      <td>...</td>\n",
       "      <td>...</td>\n",
       "      <td>...</td>\n",
       "      <td>...</td>\n",
       "      <td>...</td>\n",
       "    </tr>\n",
       "    <tr>\n",
       "      <th>455436</th>\n",
       "      <td>1499_151</td>\n",
       "      <td>2018-10-11</td>\n",
       "      <td>NaN</td>\n",
       "      <td>1499</td>\n",
       "      <td>inet</td>\n",
       "      <td>752.72</td>\n",
       "      <td>35</td>\n",
       "      <td>NaT</td>\n",
       "      <td>Пермь</td>\n",
       "      <td>Гектор</td>\n",
       "      <td>Корнилов</td>\n",
       "      <td>2018-09-27</td>\n",
       "      <td>smart</td>\n",
       "      <td>10</td>\n",
       "      <td>NaN</td>\n",
       "      <td>NaN</td>\n",
       "      <td>NaN</td>\n",
       "      <td>17,788.51</td>\n",
       "    </tr>\n",
       "    <tr>\n",
       "      <th>455437</th>\n",
       "      <td>1499_152</td>\n",
       "      <td>2018-10-03</td>\n",
       "      <td>NaN</td>\n",
       "      <td>1499</td>\n",
       "      <td>inet</td>\n",
       "      <td>318.90</td>\n",
       "      <td>35</td>\n",
       "      <td>NaT</td>\n",
       "      <td>Пермь</td>\n",
       "      <td>Гектор</td>\n",
       "      <td>Корнилов</td>\n",
       "      <td>2018-09-27</td>\n",
       "      <td>smart</td>\n",
       "      <td>10</td>\n",
       "      <td>NaN</td>\n",
       "      <td>NaN</td>\n",
       "      <td>NaN</td>\n",
       "      <td>17,788.51</td>\n",
       "    </tr>\n",
       "    <tr>\n",
       "      <th>455438</th>\n",
       "      <td>1499_153</td>\n",
       "      <td>2018-12-14</td>\n",
       "      <td>NaN</td>\n",
       "      <td>1499</td>\n",
       "      <td>inet</td>\n",
       "      <td>490.13</td>\n",
       "      <td>35</td>\n",
       "      <td>NaT</td>\n",
       "      <td>Пермь</td>\n",
       "      <td>Гектор</td>\n",
       "      <td>Корнилов</td>\n",
       "      <td>2018-09-27</td>\n",
       "      <td>smart</td>\n",
       "      <td>12</td>\n",
       "      <td>NaN</td>\n",
       "      <td>NaN</td>\n",
       "      <td>NaN</td>\n",
       "      <td>13,055.58</td>\n",
       "    </tr>\n",
       "    <tr>\n",
       "      <th>455439</th>\n",
       "      <td>1499_155</td>\n",
       "      <td>2018-11-26</td>\n",
       "      <td>NaN</td>\n",
       "      <td>1499</td>\n",
       "      <td>inet</td>\n",
       "      <td>1,246.32</td>\n",
       "      <td>35</td>\n",
       "      <td>NaT</td>\n",
       "      <td>Пермь</td>\n",
       "      <td>Гектор</td>\n",
       "      <td>Корнилов</td>\n",
       "      <td>2018-09-27</td>\n",
       "      <td>smart</td>\n",
       "      <td>11</td>\n",
       "      <td>NaN</td>\n",
       "      <td>NaN</td>\n",
       "      <td>NaN</td>\n",
       "      <td>17,963.31</td>\n",
       "    </tr>\n",
       "    <tr>\n",
       "      <th>455440</th>\n",
       "      <td>1499_156</td>\n",
       "      <td>2018-10-26</td>\n",
       "      <td>NaN</td>\n",
       "      <td>1499</td>\n",
       "      <td>inet</td>\n",
       "      <td>544.37</td>\n",
       "      <td>35</td>\n",
       "      <td>NaT</td>\n",
       "      <td>Пермь</td>\n",
       "      <td>Гектор</td>\n",
       "      <td>Корнилов</td>\n",
       "      <td>2018-09-27</td>\n",
       "      <td>smart</td>\n",
       "      <td>10</td>\n",
       "      <td>NaN</td>\n",
       "      <td>NaN</td>\n",
       "      <td>NaN</td>\n",
       "      <td>17,788.51</td>\n",
       "    </tr>\n",
       "  </tbody>\n",
       "</table>\n",
       "<p>455441 rows × 18 columns</p>\n",
       "</div>"
      ],
      "text/plain": [
       "              id       date  duration  user_id  type  mb_used  age churn_date  \\\n",
       "0         1000_0 2018-07-25      0.00     1000  call      NaN   52        NaT   \n",
       "1         1000_1 2018-08-17      0.00     1000  call      NaN   52        NaT   \n",
       "2         1000_2 2018-06-11      2.85     1000  call      NaN   52        NaT   \n",
       "3         1000_3 2018-09-21     13.80     1000  call      NaN   52        NaT   \n",
       "4         1000_4 2018-12-15      5.18     1000  call      NaN   52        NaT   \n",
       "...          ...        ...       ...      ...   ...      ...  ...        ...   \n",
       "455436  1499_151 2018-10-11       NaN     1499  inet   752.72   35        NaT   \n",
       "455437  1499_152 2018-10-03       NaN     1499  inet   318.90   35        NaT   \n",
       "455438  1499_153 2018-12-14       NaN     1499  inet   490.13   35        NaT   \n",
       "455439  1499_155 2018-11-26       NaN     1499  inet 1,246.32   35        NaT   \n",
       "455440  1499_156 2018-10-26       NaN     1499  inet   544.37   35        NaT   \n",
       "\n",
       "             city first_name  last_name    reg_date tariff  month  \\\n",
       "0       Краснодар     Рафаил  Верещагин  2018-05-25  ultra      7   \n",
       "1       Краснодар     Рафаил  Верещагин  2018-05-25  ultra      8   \n",
       "2       Краснодар     Рафаил  Верещагин  2018-05-25  ultra      6   \n",
       "3       Краснодар     Рафаил  Верещагин  2018-05-25  ultra      9   \n",
       "4       Краснодар     Рафаил  Верещагин  2018-05-25  ultra     12   \n",
       "...           ...        ...        ...         ...    ...    ...   \n",
       "455436      Пермь     Гектор   Корнилов  2018-09-27  smart     10   \n",
       "455437      Пермь     Гектор   Корнилов  2018-09-27  smart     10   \n",
       "455438      Пермь     Гектор   Корнилов  2018-09-27  smart     12   \n",
       "455439      Пермь     Гектор   Корнилов  2018-09-27  smart     11   \n",
       "455440      Пермь     Гектор   Корнилов  2018-09-27  smart     10   \n",
       "\n",
       "        calls_in_month  calls_dur_in_month  sms_count_in_month  mb_in_month  \n",
       "0                47.00              318.80                 NaN          NaN  \n",
       "1                52.00              389.87                 NaN          NaN  \n",
       "2                43.00              158.90                 NaN          NaN  \n",
       "3                58.00              440.14                 NaN          NaN  \n",
       "4                46.00              312.98                 NaN          NaN  \n",
       "...                ...                 ...                 ...          ...  \n",
       "455436             NaN                 NaN                 NaN    17,788.51  \n",
       "455437             NaN                 NaN                 NaN    17,788.51  \n",
       "455438             NaN                 NaN                 NaN    13,055.58  \n",
       "455439             NaN                 NaN                 NaN    17,963.31  \n",
       "455440             NaN                 NaN                 NaN    17,788.51  \n",
       "\n",
       "[455441 rows x 18 columns]"
      ]
     },
     "execution_count": 13,
     "metadata": {},
     "output_type": "execute_result"
    }
   ],
   "source": [
    "data['calls_in_month'] = data.query('type == \"call\"').groupby(['user_id', 'month'])['duration'].transform('count')\n",
    "data['calls_dur_in_month'] = data.query('type == \"call\"').groupby(['user_id', 'month'])['duration'].transform('sum')\n",
    "data['sms_count_in_month'] = data.query('type == \"sms\"').groupby(['user_id', 'month'])['user_id'].transform('count')\n",
    "data['mb_in_month'] = data.query('type == \"inet\"').groupby(['user_id', 'month'])['mb_used'].transform('sum')\n",
    "\n",
    "data"
   ]
  },
  {
   "cell_type": "markdown",
   "metadata": {},
   "source": [
    "Теперь сформируем таблицу, где будут только пользователи и их данные по каждому месяцу. В конце добавим в таблицу данные о тарифах для будущих расчетов"
   ]
  },
  {
   "cell_type": "code",
   "execution_count": 14,
   "metadata": {},
   "outputs": [
    {
     "data": {
      "text/html": [
       "<div>\n",
       "<style scoped>\n",
       "    .dataframe tbody tr th:only-of-type {\n",
       "        vertical-align: middle;\n",
       "    }\n",
       "\n",
       "    .dataframe tbody tr th {\n",
       "        vertical-align: top;\n",
       "    }\n",
       "\n",
       "    .dataframe thead th {\n",
       "        text-align: right;\n",
       "    }\n",
       "</style>\n",
       "<table border=\"1\" class=\"dataframe\">\n",
       "  <thead>\n",
       "    <tr style=\"text-align: right;\">\n",
       "      <th></th>\n",
       "      <th>user_id</th>\n",
       "      <th>month</th>\n",
       "      <th>age</th>\n",
       "      <th>churn_date</th>\n",
       "      <th>city</th>\n",
       "      <th>first_name</th>\n",
       "      <th>last_name</th>\n",
       "      <th>reg_date</th>\n",
       "      <th>tariff</th>\n",
       "      <th>calls_in_month</th>\n",
       "      <th>calls_dur_in_month</th>\n",
       "      <th>sms_count_in_month</th>\n",
       "      <th>mb_in_month</th>\n",
       "      <th>messages_included</th>\n",
       "      <th>mb_per_month_included</th>\n",
       "      <th>minutes_included</th>\n",
       "      <th>rub_monthly_fee</th>\n",
       "      <th>rub_per_gb</th>\n",
       "      <th>rub_per_message</th>\n",
       "      <th>rub_per_minute</th>\n",
       "    </tr>\n",
       "  </thead>\n",
       "  <tbody>\n",
       "    <tr>\n",
       "      <th>0</th>\n",
       "      <td>1000</td>\n",
       "      <td>5</td>\n",
       "      <td>52</td>\n",
       "      <td>NaT</td>\n",
       "      <td>Краснодар</td>\n",
       "      <td>Рафаил</td>\n",
       "      <td>Верещагин</td>\n",
       "      <td>2018-05-25</td>\n",
       "      <td>ultra</td>\n",
       "      <td>22.00</td>\n",
       "      <td>150.06</td>\n",
       "      <td>22.00</td>\n",
       "      <td>2,253.49</td>\n",
       "      <td>1000</td>\n",
       "      <td>30720</td>\n",
       "      <td>3000</td>\n",
       "      <td>1950</td>\n",
       "      <td>150</td>\n",
       "      <td>1</td>\n",
       "      <td>1</td>\n",
       "    </tr>\n",
       "    <tr>\n",
       "      <th>1</th>\n",
       "      <td>1000</td>\n",
       "      <td>6</td>\n",
       "      <td>52</td>\n",
       "      <td>NaT</td>\n",
       "      <td>Краснодар</td>\n",
       "      <td>Рафаил</td>\n",
       "      <td>Верещагин</td>\n",
       "      <td>2018-05-25</td>\n",
       "      <td>ultra</td>\n",
       "      <td>43.00</td>\n",
       "      <td>158.90</td>\n",
       "      <td>60.00</td>\n",
       "      <td>23,233.77</td>\n",
       "      <td>1000</td>\n",
       "      <td>30720</td>\n",
       "      <td>3000</td>\n",
       "      <td>1950</td>\n",
       "      <td>150</td>\n",
       "      <td>1</td>\n",
       "      <td>1</td>\n",
       "    </tr>\n",
       "    <tr>\n",
       "      <th>2</th>\n",
       "      <td>1000</td>\n",
       "      <td>7</td>\n",
       "      <td>52</td>\n",
       "      <td>NaT</td>\n",
       "      <td>Краснодар</td>\n",
       "      <td>Рафаил</td>\n",
       "      <td>Верещагин</td>\n",
       "      <td>2018-05-25</td>\n",
       "      <td>ultra</td>\n",
       "      <td>47.00</td>\n",
       "      <td>318.80</td>\n",
       "      <td>75.00</td>\n",
       "      <td>14,003.64</td>\n",
       "      <td>1000</td>\n",
       "      <td>30720</td>\n",
       "      <td>3000</td>\n",
       "      <td>1950</td>\n",
       "      <td>150</td>\n",
       "      <td>1</td>\n",
       "      <td>1</td>\n",
       "    </tr>\n",
       "    <tr>\n",
       "      <th>3</th>\n",
       "      <td>1000</td>\n",
       "      <td>8</td>\n",
       "      <td>52</td>\n",
       "      <td>NaT</td>\n",
       "      <td>Краснодар</td>\n",
       "      <td>Рафаил</td>\n",
       "      <td>Верещагин</td>\n",
       "      <td>2018-05-25</td>\n",
       "      <td>ultra</td>\n",
       "      <td>52.00</td>\n",
       "      <td>389.87</td>\n",
       "      <td>81.00</td>\n",
       "      <td>14,055.93</td>\n",
       "      <td>1000</td>\n",
       "      <td>30720</td>\n",
       "      <td>3000</td>\n",
       "      <td>1950</td>\n",
       "      <td>150</td>\n",
       "      <td>1</td>\n",
       "      <td>1</td>\n",
       "    </tr>\n",
       "    <tr>\n",
       "      <th>4</th>\n",
       "      <td>1000</td>\n",
       "      <td>9</td>\n",
       "      <td>52</td>\n",
       "      <td>NaT</td>\n",
       "      <td>Краснодар</td>\n",
       "      <td>Рафаил</td>\n",
       "      <td>Верещагин</td>\n",
       "      <td>2018-05-25</td>\n",
       "      <td>ultra</td>\n",
       "      <td>58.00</td>\n",
       "      <td>440.14</td>\n",
       "      <td>57.00</td>\n",
       "      <td>14,568.91</td>\n",
       "      <td>1000</td>\n",
       "      <td>30720</td>\n",
       "      <td>3000</td>\n",
       "      <td>1950</td>\n",
       "      <td>150</td>\n",
       "      <td>1</td>\n",
       "      <td>1</td>\n",
       "    </tr>\n",
       "    <tr>\n",
       "      <th>5</th>\n",
       "      <td>1000</td>\n",
       "      <td>10</td>\n",
       "      <td>52</td>\n",
       "      <td>NaT</td>\n",
       "      <td>Краснодар</td>\n",
       "      <td>Рафаил</td>\n",
       "      <td>Верещагин</td>\n",
       "      <td>2018-05-25</td>\n",
       "      <td>ultra</td>\n",
       "      <td>57.00</td>\n",
       "      <td>328.45</td>\n",
       "      <td>73.00</td>\n",
       "      <td>14,702.49</td>\n",
       "      <td>1000</td>\n",
       "      <td>30720</td>\n",
       "      <td>3000</td>\n",
       "      <td>1950</td>\n",
       "      <td>150</td>\n",
       "      <td>1</td>\n",
       "      <td>1</td>\n",
       "    </tr>\n",
       "    <tr>\n",
       "      <th>6</th>\n",
       "      <td>1000</td>\n",
       "      <td>11</td>\n",
       "      <td>52</td>\n",
       "      <td>NaT</td>\n",
       "      <td>Краснодар</td>\n",
       "      <td>Рафаил</td>\n",
       "      <td>Верещагин</td>\n",
       "      <td>2018-05-25</td>\n",
       "      <td>ultra</td>\n",
       "      <td>43.00</td>\n",
       "      <td>319.04</td>\n",
       "      <td>58.00</td>\n",
       "      <td>14,756.47</td>\n",
       "      <td>1000</td>\n",
       "      <td>30720</td>\n",
       "      <td>3000</td>\n",
       "      <td>1950</td>\n",
       "      <td>150</td>\n",
       "      <td>1</td>\n",
       "      <td>1</td>\n",
       "    </tr>\n",
       "    <tr>\n",
       "      <th>7</th>\n",
       "      <td>1000</td>\n",
       "      <td>12</td>\n",
       "      <td>52</td>\n",
       "      <td>NaT</td>\n",
       "      <td>Краснодар</td>\n",
       "      <td>Рафаил</td>\n",
       "      <td>Верещагин</td>\n",
       "      <td>2018-05-25</td>\n",
       "      <td>ultra</td>\n",
       "      <td>46.00</td>\n",
       "      <td>312.98</td>\n",
       "      <td>70.00</td>\n",
       "      <td>9,817.61</td>\n",
       "      <td>1000</td>\n",
       "      <td>30720</td>\n",
       "      <td>3000</td>\n",
       "      <td>1950</td>\n",
       "      <td>150</td>\n",
       "      <td>1</td>\n",
       "      <td>1</td>\n",
       "    </tr>\n",
       "    <tr>\n",
       "      <th>8</th>\n",
       "      <td>1003</td>\n",
       "      <td>8</td>\n",
       "      <td>23</td>\n",
       "      <td>NaT</td>\n",
       "      <td>Москва</td>\n",
       "      <td>Белла</td>\n",
       "      <td>Белякова</td>\n",
       "      <td>2018-08-17</td>\n",
       "      <td>ultra</td>\n",
       "      <td>55.00</td>\n",
       "      <td>355.67</td>\n",
       "      <td>37.00</td>\n",
       "      <td>8,565.21</td>\n",
       "      <td>1000</td>\n",
       "      <td>30720</td>\n",
       "      <td>3000</td>\n",
       "      <td>1950</td>\n",
       "      <td>150</td>\n",
       "      <td>1</td>\n",
       "      <td>1</td>\n",
       "    </tr>\n",
       "    <tr>\n",
       "      <th>9</th>\n",
       "      <td>1003</td>\n",
       "      <td>9</td>\n",
       "      <td>23</td>\n",
       "      <td>NaT</td>\n",
       "      <td>Москва</td>\n",
       "      <td>Белла</td>\n",
       "      <td>Белякова</td>\n",
       "      <td>2018-08-17</td>\n",
       "      <td>ultra</td>\n",
       "      <td>134.00</td>\n",
       "      <td>904.89</td>\n",
       "      <td>91.00</td>\n",
       "      <td>12,468.87</td>\n",
       "      <td>1000</td>\n",
       "      <td>30720</td>\n",
       "      <td>3000</td>\n",
       "      <td>1950</td>\n",
       "      <td>150</td>\n",
       "      <td>1</td>\n",
       "      <td>1</td>\n",
       "    </tr>\n",
       "  </tbody>\n",
       "</table>\n",
       "</div>"
      ],
      "text/plain": [
       "   user_id  month  age churn_date       city first_name  last_name  \\\n",
       "0     1000      5   52        NaT  Краснодар     Рафаил  Верещагин   \n",
       "1     1000      6   52        NaT  Краснодар     Рафаил  Верещагин   \n",
       "2     1000      7   52        NaT  Краснодар     Рафаил  Верещагин   \n",
       "3     1000      8   52        NaT  Краснодар     Рафаил  Верещагин   \n",
       "4     1000      9   52        NaT  Краснодар     Рафаил  Верещагин   \n",
       "5     1000     10   52        NaT  Краснодар     Рафаил  Верещагин   \n",
       "6     1000     11   52        NaT  Краснодар     Рафаил  Верещагин   \n",
       "7     1000     12   52        NaT  Краснодар     Рафаил  Верещагин   \n",
       "8     1003      8   23        NaT     Москва      Белла   Белякова   \n",
       "9     1003      9   23        NaT     Москва      Белла   Белякова   \n",
       "\n",
       "     reg_date tariff  calls_in_month  calls_dur_in_month  sms_count_in_month  \\\n",
       "0  2018-05-25  ultra           22.00              150.06               22.00   \n",
       "1  2018-05-25  ultra           43.00              158.90               60.00   \n",
       "2  2018-05-25  ultra           47.00              318.80               75.00   \n",
       "3  2018-05-25  ultra           52.00              389.87               81.00   \n",
       "4  2018-05-25  ultra           58.00              440.14               57.00   \n",
       "5  2018-05-25  ultra           57.00              328.45               73.00   \n",
       "6  2018-05-25  ultra           43.00              319.04               58.00   \n",
       "7  2018-05-25  ultra           46.00              312.98               70.00   \n",
       "8  2018-08-17  ultra           55.00              355.67               37.00   \n",
       "9  2018-08-17  ultra          134.00              904.89               91.00   \n",
       "\n",
       "   mb_in_month  messages_included  mb_per_month_included  minutes_included  \\\n",
       "0     2,253.49               1000                  30720              3000   \n",
       "1    23,233.77               1000                  30720              3000   \n",
       "2    14,003.64               1000                  30720              3000   \n",
       "3    14,055.93               1000                  30720              3000   \n",
       "4    14,568.91               1000                  30720              3000   \n",
       "5    14,702.49               1000                  30720              3000   \n",
       "6    14,756.47               1000                  30720              3000   \n",
       "7     9,817.61               1000                  30720              3000   \n",
       "8     8,565.21               1000                  30720              3000   \n",
       "9    12,468.87               1000                  30720              3000   \n",
       "\n",
       "   rub_monthly_fee  rub_per_gb  rub_per_message  rub_per_minute  \n",
       "0             1950         150                1               1  \n",
       "1             1950         150                1               1  \n",
       "2             1950         150                1               1  \n",
       "3             1950         150                1               1  \n",
       "4             1950         150                1               1  \n",
       "5             1950         150                1               1  \n",
       "6             1950         150                1               1  \n",
       "7             1950         150                1               1  \n",
       "8             1950         150                1               1  \n",
       "9             1950         150                1               1  "
      ]
     },
     "execution_count": 14,
     "metadata": {},
     "output_type": "execute_result"
    }
   ],
   "source": [
    "users_months = data.groupby(['user_id', 'month']).first().reset_index()\n",
    "\n",
    "# уберем неактуальные столбцы\n",
    "users_months.drop(['type','duration', 'id', 'mb_used', 'date'], axis=1, inplace=True)\n",
    "users_months = users_months.merge(tariffs, on='tariff', how='outer')\n",
    "users_months.head(10)\n"
   ]
  },
  {
   "cell_type": "code",
   "execution_count": 15,
   "metadata": {},
   "outputs": [
    {
     "data": {
      "text/html": [
       "<div>\n",
       "<style scoped>\n",
       "    .dataframe tbody tr th:only-of-type {\n",
       "        vertical-align: middle;\n",
       "    }\n",
       "\n",
       "    .dataframe tbody tr th {\n",
       "        vertical-align: top;\n",
       "    }\n",
       "\n",
       "    .dataframe thead th {\n",
       "        text-align: right;\n",
       "    }\n",
       "</style>\n",
       "<table border=\"1\" class=\"dataframe\">\n",
       "  <thead>\n",
       "    <tr style=\"text-align: right;\">\n",
       "      <th></th>\n",
       "      <th>user_id</th>\n",
       "      <th>month</th>\n",
       "      <th>age</th>\n",
       "      <th>churn_date</th>\n",
       "      <th>city</th>\n",
       "      <th>first_name</th>\n",
       "      <th>last_name</th>\n",
       "      <th>reg_date</th>\n",
       "      <th>tariff</th>\n",
       "      <th>calls_in_month</th>\n",
       "      <th>calls_dur_in_month</th>\n",
       "      <th>sms_count_in_month</th>\n",
       "      <th>mb_in_month</th>\n",
       "      <th>messages_included</th>\n",
       "      <th>mb_per_month_included</th>\n",
       "      <th>minutes_included</th>\n",
       "      <th>rub_monthly_fee</th>\n",
       "      <th>rub_per_gb</th>\n",
       "      <th>rub_per_message</th>\n",
       "      <th>rub_per_minute</th>\n",
       "    </tr>\n",
       "  </thead>\n",
       "  <tbody>\n",
       "    <tr>\n",
       "      <th>151</th>\n",
       "      <td>1091</td>\n",
       "      <td>5</td>\n",
       "      <td>36</td>\n",
       "      <td>NaT</td>\n",
       "      <td>Набережные Челны</td>\n",
       "      <td>Вера</td>\n",
       "      <td>Суслова</td>\n",
       "      <td>2018-05-08</td>\n",
       "      <td>ultra</td>\n",
       "      <td>NaN</td>\n",
       "      <td>NaN</td>\n",
       "      <td>30.00</td>\n",
       "      <td>10,703.37</td>\n",
       "      <td>1000</td>\n",
       "      <td>30720</td>\n",
       "      <td>3000</td>\n",
       "      <td>1950</td>\n",
       "      <td>150</td>\n",
       "      <td>1</td>\n",
       "      <td>1</td>\n",
       "    </tr>\n",
       "    <tr>\n",
       "      <th>152</th>\n",
       "      <td>1091</td>\n",
       "      <td>6</td>\n",
       "      <td>36</td>\n",
       "      <td>NaT</td>\n",
       "      <td>Набережные Челны</td>\n",
       "      <td>Вера</td>\n",
       "      <td>Суслова</td>\n",
       "      <td>2018-05-08</td>\n",
       "      <td>ultra</td>\n",
       "      <td>NaN</td>\n",
       "      <td>NaN</td>\n",
       "      <td>30.00</td>\n",
       "      <td>10,236.19</td>\n",
       "      <td>1000</td>\n",
       "      <td>30720</td>\n",
       "      <td>3000</td>\n",
       "      <td>1950</td>\n",
       "      <td>150</td>\n",
       "      <td>1</td>\n",
       "      <td>1</td>\n",
       "    </tr>\n",
       "    <tr>\n",
       "      <th>153</th>\n",
       "      <td>1091</td>\n",
       "      <td>7</td>\n",
       "      <td>36</td>\n",
       "      <td>NaT</td>\n",
       "      <td>Набережные Челны</td>\n",
       "      <td>Вера</td>\n",
       "      <td>Суслова</td>\n",
       "      <td>2018-05-08</td>\n",
       "      <td>ultra</td>\n",
       "      <td>NaN</td>\n",
       "      <td>NaN</td>\n",
       "      <td>35.00</td>\n",
       "      <td>16,444.98</td>\n",
       "      <td>1000</td>\n",
       "      <td>30720</td>\n",
       "      <td>3000</td>\n",
       "      <td>1950</td>\n",
       "      <td>150</td>\n",
       "      <td>1</td>\n",
       "      <td>1</td>\n",
       "    </tr>\n",
       "    <tr>\n",
       "      <th>154</th>\n",
       "      <td>1091</td>\n",
       "      <td>8</td>\n",
       "      <td>36</td>\n",
       "      <td>NaT</td>\n",
       "      <td>Набережные Челны</td>\n",
       "      <td>Вера</td>\n",
       "      <td>Суслова</td>\n",
       "      <td>2018-05-08</td>\n",
       "      <td>ultra</td>\n",
       "      <td>NaN</td>\n",
       "      <td>NaN</td>\n",
       "      <td>31.00</td>\n",
       "      <td>12,633.88</td>\n",
       "      <td>1000</td>\n",
       "      <td>30720</td>\n",
       "      <td>3000</td>\n",
       "      <td>1950</td>\n",
       "      <td>150</td>\n",
       "      <td>1</td>\n",
       "      <td>1</td>\n",
       "    </tr>\n",
       "    <tr>\n",
       "      <th>155</th>\n",
       "      <td>1091</td>\n",
       "      <td>9</td>\n",
       "      <td>36</td>\n",
       "      <td>NaT</td>\n",
       "      <td>Набережные Челны</td>\n",
       "      <td>Вера</td>\n",
       "      <td>Суслова</td>\n",
       "      <td>2018-05-08</td>\n",
       "      <td>ultra</td>\n",
       "      <td>NaN</td>\n",
       "      <td>NaN</td>\n",
       "      <td>32.00</td>\n",
       "      <td>16,597.11</td>\n",
       "      <td>1000</td>\n",
       "      <td>30720</td>\n",
       "      <td>3000</td>\n",
       "      <td>1950</td>\n",
       "      <td>150</td>\n",
       "      <td>1</td>\n",
       "      <td>1</td>\n",
       "    </tr>\n",
       "    <tr>\n",
       "      <th>156</th>\n",
       "      <td>1091</td>\n",
       "      <td>10</td>\n",
       "      <td>36</td>\n",
       "      <td>NaT</td>\n",
       "      <td>Набережные Челны</td>\n",
       "      <td>Вера</td>\n",
       "      <td>Суслова</td>\n",
       "      <td>2018-05-08</td>\n",
       "      <td>ultra</td>\n",
       "      <td>NaN</td>\n",
       "      <td>NaN</td>\n",
       "      <td>44.00</td>\n",
       "      <td>15,644.73</td>\n",
       "      <td>1000</td>\n",
       "      <td>30720</td>\n",
       "      <td>3000</td>\n",
       "      <td>1950</td>\n",
       "      <td>150</td>\n",
       "      <td>1</td>\n",
       "      <td>1</td>\n",
       "    </tr>\n",
       "    <tr>\n",
       "      <th>157</th>\n",
       "      <td>1091</td>\n",
       "      <td>11</td>\n",
       "      <td>36</td>\n",
       "      <td>NaT</td>\n",
       "      <td>Набережные Челны</td>\n",
       "      <td>Вера</td>\n",
       "      <td>Суслова</td>\n",
       "      <td>2018-05-08</td>\n",
       "      <td>ultra</td>\n",
       "      <td>NaN</td>\n",
       "      <td>NaN</td>\n",
       "      <td>28.00</td>\n",
       "      <td>11,864.25</td>\n",
       "      <td>1000</td>\n",
       "      <td>30720</td>\n",
       "      <td>3000</td>\n",
       "      <td>1950</td>\n",
       "      <td>150</td>\n",
       "      <td>1</td>\n",
       "      <td>1</td>\n",
       "    </tr>\n",
       "    <tr>\n",
       "      <th>158</th>\n",
       "      <td>1091</td>\n",
       "      <td>12</td>\n",
       "      <td>36</td>\n",
       "      <td>NaT</td>\n",
       "      <td>Набережные Челны</td>\n",
       "      <td>Вера</td>\n",
       "      <td>Суслова</td>\n",
       "      <td>2018-05-08</td>\n",
       "      <td>ultra</td>\n",
       "      <td>NaN</td>\n",
       "      <td>NaN</td>\n",
       "      <td>42.00</td>\n",
       "      <td>13,280.45</td>\n",
       "      <td>1000</td>\n",
       "      <td>30720</td>\n",
       "      <td>3000</td>\n",
       "      <td>1950</td>\n",
       "      <td>150</td>\n",
       "      <td>1</td>\n",
       "      <td>1</td>\n",
       "    </tr>\n",
       "    <tr>\n",
       "      <th>204</th>\n",
       "      <td>1106</td>\n",
       "      <td>4</td>\n",
       "      <td>67</td>\n",
       "      <td>NaT</td>\n",
       "      <td>Калуга</td>\n",
       "      <td>Исаак</td>\n",
       "      <td>Костин</td>\n",
       "      <td>2018-04-26</td>\n",
       "      <td>ultra</td>\n",
       "      <td>NaN</td>\n",
       "      <td>NaN</td>\n",
       "      <td>9.00</td>\n",
       "      <td>2,923.49</td>\n",
       "      <td>1000</td>\n",
       "      <td>30720</td>\n",
       "      <td>3000</td>\n",
       "      <td>1950</td>\n",
       "      <td>150</td>\n",
       "      <td>1</td>\n",
       "      <td>1</td>\n",
       "    </tr>\n",
       "    <tr>\n",
       "      <th>205</th>\n",
       "      <td>1106</td>\n",
       "      <td>5</td>\n",
       "      <td>67</td>\n",
       "      <td>NaT</td>\n",
       "      <td>Калуга</td>\n",
       "      <td>Исаак</td>\n",
       "      <td>Костин</td>\n",
       "      <td>2018-04-26</td>\n",
       "      <td>ultra</td>\n",
       "      <td>NaN</td>\n",
       "      <td>NaN</td>\n",
       "      <td>28.00</td>\n",
       "      <td>16,573.01</td>\n",
       "      <td>1000</td>\n",
       "      <td>30720</td>\n",
       "      <td>3000</td>\n",
       "      <td>1950</td>\n",
       "      <td>150</td>\n",
       "      <td>1</td>\n",
       "      <td>1</td>\n",
       "    </tr>\n",
       "    <tr>\n",
       "      <th>206</th>\n",
       "      <td>1106</td>\n",
       "      <td>6</td>\n",
       "      <td>67</td>\n",
       "      <td>NaT</td>\n",
       "      <td>Калуга</td>\n",
       "      <td>Исаак</td>\n",
       "      <td>Костин</td>\n",
       "      <td>2018-04-26</td>\n",
       "      <td>ultra</td>\n",
       "      <td>NaN</td>\n",
       "      <td>NaN</td>\n",
       "      <td>30.00</td>\n",
       "      <td>20,016.74</td>\n",
       "      <td>1000</td>\n",
       "      <td>30720</td>\n",
       "      <td>3000</td>\n",
       "      <td>1950</td>\n",
       "      <td>150</td>\n",
       "      <td>1</td>\n",
       "      <td>1</td>\n",
       "    </tr>\n",
       "    <tr>\n",
       "      <th>207</th>\n",
       "      <td>1106</td>\n",
       "      <td>7</td>\n",
       "      <td>67</td>\n",
       "      <td>NaT</td>\n",
       "      <td>Калуга</td>\n",
       "      <td>Исаак</td>\n",
       "      <td>Костин</td>\n",
       "      <td>2018-04-26</td>\n",
       "      <td>ultra</td>\n",
       "      <td>NaN</td>\n",
       "      <td>NaN</td>\n",
       "      <td>24.00</td>\n",
       "      <td>21,626.86</td>\n",
       "      <td>1000</td>\n",
       "      <td>30720</td>\n",
       "      <td>3000</td>\n",
       "      <td>1950</td>\n",
       "      <td>150</td>\n",
       "      <td>1</td>\n",
       "      <td>1</td>\n",
       "    </tr>\n",
       "    <tr>\n",
       "      <th>208</th>\n",
       "      <td>1106</td>\n",
       "      <td>8</td>\n",
       "      <td>67</td>\n",
       "      <td>NaT</td>\n",
       "      <td>Калуга</td>\n",
       "      <td>Исаак</td>\n",
       "      <td>Костин</td>\n",
       "      <td>2018-04-26</td>\n",
       "      <td>ultra</td>\n",
       "      <td>NaN</td>\n",
       "      <td>NaN</td>\n",
       "      <td>25.00</td>\n",
       "      <td>19,088.67</td>\n",
       "      <td>1000</td>\n",
       "      <td>30720</td>\n",
       "      <td>3000</td>\n",
       "      <td>1950</td>\n",
       "      <td>150</td>\n",
       "      <td>1</td>\n",
       "      <td>1</td>\n",
       "    </tr>\n",
       "    <tr>\n",
       "      <th>209</th>\n",
       "      <td>1106</td>\n",
       "      <td>9</td>\n",
       "      <td>67</td>\n",
       "      <td>NaT</td>\n",
       "      <td>Калуга</td>\n",
       "      <td>Исаак</td>\n",
       "      <td>Костин</td>\n",
       "      <td>2018-04-26</td>\n",
       "      <td>ultra</td>\n",
       "      <td>NaN</td>\n",
       "      <td>NaN</td>\n",
       "      <td>23.00</td>\n",
       "      <td>21,934.03</td>\n",
       "      <td>1000</td>\n",
       "      <td>30720</td>\n",
       "      <td>3000</td>\n",
       "      <td>1950</td>\n",
       "      <td>150</td>\n",
       "      <td>1</td>\n",
       "      <td>1</td>\n",
       "    </tr>\n",
       "    <tr>\n",
       "      <th>210</th>\n",
       "      <td>1106</td>\n",
       "      <td>10</td>\n",
       "      <td>67</td>\n",
       "      <td>NaT</td>\n",
       "      <td>Калуга</td>\n",
       "      <td>Исаак</td>\n",
       "      <td>Костин</td>\n",
       "      <td>2018-04-26</td>\n",
       "      <td>ultra</td>\n",
       "      <td>NaN</td>\n",
       "      <td>NaN</td>\n",
       "      <td>33.00</td>\n",
       "      <td>14,010.32</td>\n",
       "      <td>1000</td>\n",
       "      <td>30720</td>\n",
       "      <td>3000</td>\n",
       "      <td>1950</td>\n",
       "      <td>150</td>\n",
       "      <td>1</td>\n",
       "      <td>1</td>\n",
       "    </tr>\n",
       "    <tr>\n",
       "      <th>211</th>\n",
       "      <td>1106</td>\n",
       "      <td>11</td>\n",
       "      <td>67</td>\n",
       "      <td>NaT</td>\n",
       "      <td>Калуга</td>\n",
       "      <td>Исаак</td>\n",
       "      <td>Костин</td>\n",
       "      <td>2018-04-26</td>\n",
       "      <td>ultra</td>\n",
       "      <td>NaN</td>\n",
       "      <td>NaN</td>\n",
       "      <td>29.00</td>\n",
       "      <td>21,289.27</td>\n",
       "      <td>1000</td>\n",
       "      <td>30720</td>\n",
       "      <td>3000</td>\n",
       "      <td>1950</td>\n",
       "      <td>150</td>\n",
       "      <td>1</td>\n",
       "      <td>1</td>\n",
       "    </tr>\n",
       "    <tr>\n",
       "      <th>212</th>\n",
       "      <td>1106</td>\n",
       "      <td>12</td>\n",
       "      <td>67</td>\n",
       "      <td>NaT</td>\n",
       "      <td>Калуга</td>\n",
       "      <td>Исаак</td>\n",
       "      <td>Костин</td>\n",
       "      <td>2018-04-26</td>\n",
       "      <td>ultra</td>\n",
       "      <td>NaN</td>\n",
       "      <td>NaN</td>\n",
       "      <td>24.00</td>\n",
       "      <td>18,701.51</td>\n",
       "      <td>1000</td>\n",
       "      <td>30720</td>\n",
       "      <td>3000</td>\n",
       "      <td>1950</td>\n",
       "      <td>150</td>\n",
       "      <td>1</td>\n",
       "      <td>1</td>\n",
       "    </tr>\n",
       "    <tr>\n",
       "      <th>394</th>\n",
       "      <td>1231</td>\n",
       "      <td>5</td>\n",
       "      <td>63</td>\n",
       "      <td>NaT</td>\n",
       "      <td>Чебоксары</td>\n",
       "      <td>Касьян</td>\n",
       "      <td>Авдюков</td>\n",
       "      <td>2018-05-23</td>\n",
       "      <td>ultra</td>\n",
       "      <td>NaN</td>\n",
       "      <td>NaN</td>\n",
       "      <td>55.00</td>\n",
       "      <td>10,858.89</td>\n",
       "      <td>1000</td>\n",
       "      <td>30720</td>\n",
       "      <td>3000</td>\n",
       "      <td>1950</td>\n",
       "      <td>150</td>\n",
       "      <td>1</td>\n",
       "      <td>1</td>\n",
       "    </tr>\n",
       "    <tr>\n",
       "      <th>395</th>\n",
       "      <td>1231</td>\n",
       "      <td>6</td>\n",
       "      <td>63</td>\n",
       "      <td>NaT</td>\n",
       "      <td>Чебоксары</td>\n",
       "      <td>Касьян</td>\n",
       "      <td>Авдюков</td>\n",
       "      <td>2018-05-23</td>\n",
       "      <td>ultra</td>\n",
       "      <td>NaN</td>\n",
       "      <td>NaN</td>\n",
       "      <td>201.00</td>\n",
       "      <td>27,825.92</td>\n",
       "      <td>1000</td>\n",
       "      <td>30720</td>\n",
       "      <td>3000</td>\n",
       "      <td>1950</td>\n",
       "      <td>150</td>\n",
       "      <td>1</td>\n",
       "      <td>1</td>\n",
       "    </tr>\n",
       "    <tr>\n",
       "      <th>396</th>\n",
       "      <td>1231</td>\n",
       "      <td>7</td>\n",
       "      <td>63</td>\n",
       "      <td>NaT</td>\n",
       "      <td>Чебоксары</td>\n",
       "      <td>Касьян</td>\n",
       "      <td>Авдюков</td>\n",
       "      <td>2018-05-23</td>\n",
       "      <td>ultra</td>\n",
       "      <td>NaN</td>\n",
       "      <td>NaN</td>\n",
       "      <td>211.00</td>\n",
       "      <td>27,695.83</td>\n",
       "      <td>1000</td>\n",
       "      <td>30720</td>\n",
       "      <td>3000</td>\n",
       "      <td>1950</td>\n",
       "      <td>150</td>\n",
       "      <td>1</td>\n",
       "      <td>1</td>\n",
       "    </tr>\n",
       "    <tr>\n",
       "      <th>397</th>\n",
       "      <td>1231</td>\n",
       "      <td>8</td>\n",
       "      <td>63</td>\n",
       "      <td>NaT</td>\n",
       "      <td>Чебоксары</td>\n",
       "      <td>Касьян</td>\n",
       "      <td>Авдюков</td>\n",
       "      <td>2018-05-23</td>\n",
       "      <td>ultra</td>\n",
       "      <td>NaN</td>\n",
       "      <td>NaN</td>\n",
       "      <td>180.00</td>\n",
       "      <td>32,045.70</td>\n",
       "      <td>1000</td>\n",
       "      <td>30720</td>\n",
       "      <td>3000</td>\n",
       "      <td>1950</td>\n",
       "      <td>150</td>\n",
       "      <td>1</td>\n",
       "      <td>1</td>\n",
       "    </tr>\n",
       "    <tr>\n",
       "      <th>398</th>\n",
       "      <td>1231</td>\n",
       "      <td>9</td>\n",
       "      <td>63</td>\n",
       "      <td>NaT</td>\n",
       "      <td>Чебоксары</td>\n",
       "      <td>Касьян</td>\n",
       "      <td>Авдюков</td>\n",
       "      <td>2018-05-23</td>\n",
       "      <td>ultra</td>\n",
       "      <td>NaN</td>\n",
       "      <td>NaN</td>\n",
       "      <td>188.00</td>\n",
       "      <td>33,189.47</td>\n",
       "      <td>1000</td>\n",
       "      <td>30720</td>\n",
       "      <td>3000</td>\n",
       "      <td>1950</td>\n",
       "      <td>150</td>\n",
       "      <td>1</td>\n",
       "      <td>1</td>\n",
       "    </tr>\n",
       "    <tr>\n",
       "      <th>399</th>\n",
       "      <td>1231</td>\n",
       "      <td>10</td>\n",
       "      <td>63</td>\n",
       "      <td>NaT</td>\n",
       "      <td>Чебоксары</td>\n",
       "      <td>Касьян</td>\n",
       "      <td>Авдюков</td>\n",
       "      <td>2018-05-23</td>\n",
       "      <td>ultra</td>\n",
       "      <td>NaN</td>\n",
       "      <td>NaN</td>\n",
       "      <td>185.00</td>\n",
       "      <td>31,032.93</td>\n",
       "      <td>1000</td>\n",
       "      <td>30720</td>\n",
       "      <td>3000</td>\n",
       "      <td>1950</td>\n",
       "      <td>150</td>\n",
       "      <td>1</td>\n",
       "      <td>1</td>\n",
       "    </tr>\n",
       "    <tr>\n",
       "      <th>400</th>\n",
       "      <td>1231</td>\n",
       "      <td>11</td>\n",
       "      <td>63</td>\n",
       "      <td>NaT</td>\n",
       "      <td>Чебоксары</td>\n",
       "      <td>Касьян</td>\n",
       "      <td>Авдюков</td>\n",
       "      <td>2018-05-23</td>\n",
       "      <td>ultra</td>\n",
       "      <td>NaN</td>\n",
       "      <td>NaN</td>\n",
       "      <td>173.00</td>\n",
       "      <td>27,431.63</td>\n",
       "      <td>1000</td>\n",
       "      <td>30720</td>\n",
       "      <td>3000</td>\n",
       "      <td>1950</td>\n",
       "      <td>150</td>\n",
       "      <td>1</td>\n",
       "      <td>1</td>\n",
       "    </tr>\n",
       "    <tr>\n",
       "      <th>401</th>\n",
       "      <td>1231</td>\n",
       "      <td>12</td>\n",
       "      <td>63</td>\n",
       "      <td>NaT</td>\n",
       "      <td>Чебоксары</td>\n",
       "      <td>Касьян</td>\n",
       "      <td>Авдюков</td>\n",
       "      <td>2018-05-23</td>\n",
       "      <td>ultra</td>\n",
       "      <td>NaN</td>\n",
       "      <td>NaN</td>\n",
       "      <td>191.00</td>\n",
       "      <td>32,448.00</td>\n",
       "      <td>1000</td>\n",
       "      <td>30720</td>\n",
       "      <td>3000</td>\n",
       "      <td>1950</td>\n",
       "      <td>150</td>\n",
       "      <td>1</td>\n",
       "      <td>1</td>\n",
       "    </tr>\n",
       "    <tr>\n",
       "      <th>575</th>\n",
       "      <td>1328</td>\n",
       "      <td>10</td>\n",
       "      <td>44</td>\n",
       "      <td>NaT</td>\n",
       "      <td>Мурманск</td>\n",
       "      <td>Рауль</td>\n",
       "      <td>Аркадьев</td>\n",
       "      <td>2018-10-16</td>\n",
       "      <td>ultra</td>\n",
       "      <td>NaN</td>\n",
       "      <td>NaN</td>\n",
       "      <td>6.00</td>\n",
       "      <td>22,427.98</td>\n",
       "      <td>1000</td>\n",
       "      <td>30720</td>\n",
       "      <td>3000</td>\n",
       "      <td>1950</td>\n",
       "      <td>150</td>\n",
       "      <td>1</td>\n",
       "      <td>1</td>\n",
       "    </tr>\n",
       "    <tr>\n",
       "      <th>576</th>\n",
       "      <td>1328</td>\n",
       "      <td>11</td>\n",
       "      <td>44</td>\n",
       "      <td>NaT</td>\n",
       "      <td>Мурманск</td>\n",
       "      <td>Рауль</td>\n",
       "      <td>Аркадьев</td>\n",
       "      <td>2018-10-16</td>\n",
       "      <td>ultra</td>\n",
       "      <td>NaN</td>\n",
       "      <td>NaN</td>\n",
       "      <td>8.00</td>\n",
       "      <td>35,525.58</td>\n",
       "      <td>1000</td>\n",
       "      <td>30720</td>\n",
       "      <td>3000</td>\n",
       "      <td>1950</td>\n",
       "      <td>150</td>\n",
       "      <td>1</td>\n",
       "      <td>1</td>\n",
       "    </tr>\n",
       "    <tr>\n",
       "      <th>577</th>\n",
       "      <td>1328</td>\n",
       "      <td>12</td>\n",
       "      <td>44</td>\n",
       "      <td>NaT</td>\n",
       "      <td>Мурманск</td>\n",
       "      <td>Рауль</td>\n",
       "      <td>Аркадьев</td>\n",
       "      <td>2018-10-16</td>\n",
       "      <td>ultra</td>\n",
       "      <td>NaN</td>\n",
       "      <td>NaN</td>\n",
       "      <td>7.00</td>\n",
       "      <td>39,419.73</td>\n",
       "      <td>1000</td>\n",
       "      <td>30720</td>\n",
       "      <td>3000</td>\n",
       "      <td>1950</td>\n",
       "      <td>150</td>\n",
       "      <td>1</td>\n",
       "      <td>1</td>\n",
       "    </tr>\n",
       "    <tr>\n",
       "      <th>952</th>\n",
       "      <td>1473</td>\n",
       "      <td>8</td>\n",
       "      <td>18</td>\n",
       "      <td>NaT</td>\n",
       "      <td>Красноярск</td>\n",
       "      <td>Николай</td>\n",
       "      <td>Лебедев</td>\n",
       "      <td>2018-08-05</td>\n",
       "      <td>ultra</td>\n",
       "      <td>NaN</td>\n",
       "      <td>NaN</td>\n",
       "      <td>17.00</td>\n",
       "      <td>12,905.40</td>\n",
       "      <td>1000</td>\n",
       "      <td>30720</td>\n",
       "      <td>3000</td>\n",
       "      <td>1950</td>\n",
       "      <td>150</td>\n",
       "      <td>1</td>\n",
       "      <td>1</td>\n",
       "    </tr>\n",
       "    <tr>\n",
       "      <th>953</th>\n",
       "      <td>1473</td>\n",
       "      <td>9</td>\n",
       "      <td>18</td>\n",
       "      <td>NaT</td>\n",
       "      <td>Красноярск</td>\n",
       "      <td>Николай</td>\n",
       "      <td>Лебедев</td>\n",
       "      <td>2018-08-05</td>\n",
       "      <td>ultra</td>\n",
       "      <td>NaN</td>\n",
       "      <td>NaN</td>\n",
       "      <td>19.00</td>\n",
       "      <td>17,289.85</td>\n",
       "      <td>1000</td>\n",
       "      <td>30720</td>\n",
       "      <td>3000</td>\n",
       "      <td>1950</td>\n",
       "      <td>150</td>\n",
       "      <td>1</td>\n",
       "      <td>1</td>\n",
       "    </tr>\n",
       "    <tr>\n",
       "      <th>954</th>\n",
       "      <td>1473</td>\n",
       "      <td>10</td>\n",
       "      <td>18</td>\n",
       "      <td>NaT</td>\n",
       "      <td>Красноярск</td>\n",
       "      <td>Николай</td>\n",
       "      <td>Лебедев</td>\n",
       "      <td>2018-08-05</td>\n",
       "      <td>ultra</td>\n",
       "      <td>NaN</td>\n",
       "      <td>NaN</td>\n",
       "      <td>20.00</td>\n",
       "      <td>13,688.65</td>\n",
       "      <td>1000</td>\n",
       "      <td>30720</td>\n",
       "      <td>3000</td>\n",
       "      <td>1950</td>\n",
       "      <td>150</td>\n",
       "      <td>1</td>\n",
       "      <td>1</td>\n",
       "    </tr>\n",
       "    <tr>\n",
       "      <th>955</th>\n",
       "      <td>1473</td>\n",
       "      <td>11</td>\n",
       "      <td>18</td>\n",
       "      <td>NaT</td>\n",
       "      <td>Красноярск</td>\n",
       "      <td>Николай</td>\n",
       "      <td>Лебедев</td>\n",
       "      <td>2018-08-05</td>\n",
       "      <td>ultra</td>\n",
       "      <td>NaN</td>\n",
       "      <td>NaN</td>\n",
       "      <td>14.00</td>\n",
       "      <td>21,673.80</td>\n",
       "      <td>1000</td>\n",
       "      <td>30720</td>\n",
       "      <td>3000</td>\n",
       "      <td>1950</td>\n",
       "      <td>150</td>\n",
       "      <td>1</td>\n",
       "      <td>1</td>\n",
       "    </tr>\n",
       "    <tr>\n",
       "      <th>956</th>\n",
       "      <td>1473</td>\n",
       "      <td>12</td>\n",
       "      <td>18</td>\n",
       "      <td>NaT</td>\n",
       "      <td>Красноярск</td>\n",
       "      <td>Николай</td>\n",
       "      <td>Лебедев</td>\n",
       "      <td>2018-08-05</td>\n",
       "      <td>ultra</td>\n",
       "      <td>NaN</td>\n",
       "      <td>NaN</td>\n",
       "      <td>20.00</td>\n",
       "      <td>18,418.26</td>\n",
       "      <td>1000</td>\n",
       "      <td>30720</td>\n",
       "      <td>3000</td>\n",
       "      <td>1950</td>\n",
       "      <td>150</td>\n",
       "      <td>1</td>\n",
       "      <td>1</td>\n",
       "    </tr>\n",
       "    <tr>\n",
       "      <th>959</th>\n",
       "      <td>1476</td>\n",
       "      <td>4</td>\n",
       "      <td>50</td>\n",
       "      <td>NaT</td>\n",
       "      <td>Москва</td>\n",
       "      <td>Валентина</td>\n",
       "      <td>Семенова</td>\n",
       "      <td>2018-04-30</td>\n",
       "      <td>ultra</td>\n",
       "      <td>NaN</td>\n",
       "      <td>NaN</td>\n",
       "      <td>NaN</td>\n",
       "      <td>530.78</td>\n",
       "      <td>1000</td>\n",
       "      <td>30720</td>\n",
       "      <td>3000</td>\n",
       "      <td>1950</td>\n",
       "      <td>150</td>\n",
       "      <td>1</td>\n",
       "      <td>1</td>\n",
       "    </tr>\n",
       "    <tr>\n",
       "      <th>2635</th>\n",
       "      <td>1373</td>\n",
       "      <td>6</td>\n",
       "      <td>34</td>\n",
       "      <td>NaT</td>\n",
       "      <td>Улан-Удэ</td>\n",
       "      <td>Нелли</td>\n",
       "      <td>Афанасенко</td>\n",
       "      <td>2018-01-17</td>\n",
       "      <td>smart</td>\n",
       "      <td>NaN</td>\n",
       "      <td>NaN</td>\n",
       "      <td>48.00</td>\n",
       "      <td>12,442.88</td>\n",
       "      <td>50</td>\n",
       "      <td>15360</td>\n",
       "      <td>500</td>\n",
       "      <td>550</td>\n",
       "      <td>200</td>\n",
       "      <td>3</td>\n",
       "      <td>3</td>\n",
       "    </tr>\n",
       "    <tr>\n",
       "      <th>3165</th>\n",
       "      <td>1489</td>\n",
       "      <td>8</td>\n",
       "      <td>35</td>\n",
       "      <td>NaT</td>\n",
       "      <td>Санкт-Петербург</td>\n",
       "      <td>Павел</td>\n",
       "      <td>Гончаров</td>\n",
       "      <td>2018-08-15</td>\n",
       "      <td>smart</td>\n",
       "      <td>NaN</td>\n",
       "      <td>NaN</td>\n",
       "      <td>17.00</td>\n",
       "      <td>11,050.56</td>\n",
       "      <td>50</td>\n",
       "      <td>15360</td>\n",
       "      <td>500</td>\n",
       "      <td>550</td>\n",
       "      <td>200</td>\n",
       "      <td>3</td>\n",
       "      <td>3</td>\n",
       "    </tr>\n",
       "    <tr>\n",
       "      <th>3166</th>\n",
       "      <td>1489</td>\n",
       "      <td>9</td>\n",
       "      <td>35</td>\n",
       "      <td>NaT</td>\n",
       "      <td>Санкт-Петербург</td>\n",
       "      <td>Павел</td>\n",
       "      <td>Гончаров</td>\n",
       "      <td>2018-08-15</td>\n",
       "      <td>smart</td>\n",
       "      <td>NaN</td>\n",
       "      <td>NaN</td>\n",
       "      <td>32.00</td>\n",
       "      <td>17,206.30</td>\n",
       "      <td>50</td>\n",
       "      <td>15360</td>\n",
       "      <td>500</td>\n",
       "      <td>550</td>\n",
       "      <td>200</td>\n",
       "      <td>3</td>\n",
       "      <td>3</td>\n",
       "    </tr>\n",
       "    <tr>\n",
       "      <th>3167</th>\n",
       "      <td>1489</td>\n",
       "      <td>10</td>\n",
       "      <td>35</td>\n",
       "      <td>NaT</td>\n",
       "      <td>Санкт-Петербург</td>\n",
       "      <td>Павел</td>\n",
       "      <td>Гончаров</td>\n",
       "      <td>2018-08-15</td>\n",
       "      <td>smart</td>\n",
       "      <td>NaN</td>\n",
       "      <td>NaN</td>\n",
       "      <td>21.00</td>\n",
       "      <td>19,559.44</td>\n",
       "      <td>50</td>\n",
       "      <td>15360</td>\n",
       "      <td>500</td>\n",
       "      <td>550</td>\n",
       "      <td>200</td>\n",
       "      <td>3</td>\n",
       "      <td>3</td>\n",
       "    </tr>\n",
       "    <tr>\n",
       "      <th>3168</th>\n",
       "      <td>1489</td>\n",
       "      <td>11</td>\n",
       "      <td>35</td>\n",
       "      <td>NaT</td>\n",
       "      <td>Санкт-Петербург</td>\n",
       "      <td>Павел</td>\n",
       "      <td>Гончаров</td>\n",
       "      <td>2018-08-15</td>\n",
       "      <td>smart</td>\n",
       "      <td>NaN</td>\n",
       "      <td>NaN</td>\n",
       "      <td>20.00</td>\n",
       "      <td>17,491.56</td>\n",
       "      <td>50</td>\n",
       "      <td>15360</td>\n",
       "      <td>500</td>\n",
       "      <td>550</td>\n",
       "      <td>200</td>\n",
       "      <td>3</td>\n",
       "      <td>3</td>\n",
       "    </tr>\n",
       "    <tr>\n",
       "      <th>3169</th>\n",
       "      <td>1489</td>\n",
       "      <td>12</td>\n",
       "      <td>35</td>\n",
       "      <td>NaT</td>\n",
       "      <td>Санкт-Петербург</td>\n",
       "      <td>Павел</td>\n",
       "      <td>Гончаров</td>\n",
       "      <td>2018-08-15</td>\n",
       "      <td>smart</td>\n",
       "      <td>NaN</td>\n",
       "      <td>NaN</td>\n",
       "      <td>35.00</td>\n",
       "      <td>17,322.51</td>\n",
       "      <td>50</td>\n",
       "      <td>15360</td>\n",
       "      <td>500</td>\n",
       "      <td>550</td>\n",
       "      <td>200</td>\n",
       "      <td>3</td>\n",
       "      <td>3</td>\n",
       "    </tr>\n",
       "  </tbody>\n",
       "</table>\n",
       "</div>"
      ],
      "text/plain": [
       "      user_id  month  age churn_date              city first_name   last_name  \\\n",
       "151      1091      5   36        NaT  Набережные Челны       Вера     Суслова   \n",
       "152      1091      6   36        NaT  Набережные Челны       Вера     Суслова   \n",
       "153      1091      7   36        NaT  Набережные Челны       Вера     Суслова   \n",
       "154      1091      8   36        NaT  Набережные Челны       Вера     Суслова   \n",
       "155      1091      9   36        NaT  Набережные Челны       Вера     Суслова   \n",
       "156      1091     10   36        NaT  Набережные Челны       Вера     Суслова   \n",
       "157      1091     11   36        NaT  Набережные Челны       Вера     Суслова   \n",
       "158      1091     12   36        NaT  Набережные Челны       Вера     Суслова   \n",
       "204      1106      4   67        NaT            Калуга      Исаак      Костин   \n",
       "205      1106      5   67        NaT            Калуга      Исаак      Костин   \n",
       "206      1106      6   67        NaT            Калуга      Исаак      Костин   \n",
       "207      1106      7   67        NaT            Калуга      Исаак      Костин   \n",
       "208      1106      8   67        NaT            Калуга      Исаак      Костин   \n",
       "209      1106      9   67        NaT            Калуга      Исаак      Костин   \n",
       "210      1106     10   67        NaT            Калуга      Исаак      Костин   \n",
       "211      1106     11   67        NaT            Калуга      Исаак      Костин   \n",
       "212      1106     12   67        NaT            Калуга      Исаак      Костин   \n",
       "394      1231      5   63        NaT         Чебоксары     Касьян     Авдюков   \n",
       "395      1231      6   63        NaT         Чебоксары     Касьян     Авдюков   \n",
       "396      1231      7   63        NaT         Чебоксары     Касьян     Авдюков   \n",
       "397      1231      8   63        NaT         Чебоксары     Касьян     Авдюков   \n",
       "398      1231      9   63        NaT         Чебоксары     Касьян     Авдюков   \n",
       "399      1231     10   63        NaT         Чебоксары     Касьян     Авдюков   \n",
       "400      1231     11   63        NaT         Чебоксары     Касьян     Авдюков   \n",
       "401      1231     12   63        NaT         Чебоксары     Касьян     Авдюков   \n",
       "575      1328     10   44        NaT          Мурманск      Рауль    Аркадьев   \n",
       "576      1328     11   44        NaT          Мурманск      Рауль    Аркадьев   \n",
       "577      1328     12   44        NaT          Мурманск      Рауль    Аркадьев   \n",
       "952      1473      8   18        NaT        Красноярск    Николай     Лебедев   \n",
       "953      1473      9   18        NaT        Красноярск    Николай     Лебедев   \n",
       "954      1473     10   18        NaT        Красноярск    Николай     Лебедев   \n",
       "955      1473     11   18        NaT        Красноярск    Николай     Лебедев   \n",
       "956      1473     12   18        NaT        Красноярск    Николай     Лебедев   \n",
       "959      1476      4   50        NaT            Москва  Валентина    Семенова   \n",
       "2635     1373      6   34        NaT          Улан-Удэ      Нелли  Афанасенко   \n",
       "3165     1489      8   35        NaT   Санкт-Петербург      Павел    Гончаров   \n",
       "3166     1489      9   35        NaT   Санкт-Петербург      Павел    Гончаров   \n",
       "3167     1489     10   35        NaT   Санкт-Петербург      Павел    Гончаров   \n",
       "3168     1489     11   35        NaT   Санкт-Петербург      Павел    Гончаров   \n",
       "3169     1489     12   35        NaT   Санкт-Петербург      Павел    Гончаров   \n",
       "\n",
       "        reg_date tariff  calls_in_month  calls_dur_in_month  \\\n",
       "151   2018-05-08  ultra             NaN                 NaN   \n",
       "152   2018-05-08  ultra             NaN                 NaN   \n",
       "153   2018-05-08  ultra             NaN                 NaN   \n",
       "154   2018-05-08  ultra             NaN                 NaN   \n",
       "155   2018-05-08  ultra             NaN                 NaN   \n",
       "156   2018-05-08  ultra             NaN                 NaN   \n",
       "157   2018-05-08  ultra             NaN                 NaN   \n",
       "158   2018-05-08  ultra             NaN                 NaN   \n",
       "204   2018-04-26  ultra             NaN                 NaN   \n",
       "205   2018-04-26  ultra             NaN                 NaN   \n",
       "206   2018-04-26  ultra             NaN                 NaN   \n",
       "207   2018-04-26  ultra             NaN                 NaN   \n",
       "208   2018-04-26  ultra             NaN                 NaN   \n",
       "209   2018-04-26  ultra             NaN                 NaN   \n",
       "210   2018-04-26  ultra             NaN                 NaN   \n",
       "211   2018-04-26  ultra             NaN                 NaN   \n",
       "212   2018-04-26  ultra             NaN                 NaN   \n",
       "394   2018-05-23  ultra             NaN                 NaN   \n",
       "395   2018-05-23  ultra             NaN                 NaN   \n",
       "396   2018-05-23  ultra             NaN                 NaN   \n",
       "397   2018-05-23  ultra             NaN                 NaN   \n",
       "398   2018-05-23  ultra             NaN                 NaN   \n",
       "399   2018-05-23  ultra             NaN                 NaN   \n",
       "400   2018-05-23  ultra             NaN                 NaN   \n",
       "401   2018-05-23  ultra             NaN                 NaN   \n",
       "575   2018-10-16  ultra             NaN                 NaN   \n",
       "576   2018-10-16  ultra             NaN                 NaN   \n",
       "577   2018-10-16  ultra             NaN                 NaN   \n",
       "952   2018-08-05  ultra             NaN                 NaN   \n",
       "953   2018-08-05  ultra             NaN                 NaN   \n",
       "954   2018-08-05  ultra             NaN                 NaN   \n",
       "955   2018-08-05  ultra             NaN                 NaN   \n",
       "956   2018-08-05  ultra             NaN                 NaN   \n",
       "959   2018-04-30  ultra             NaN                 NaN   \n",
       "2635  2018-01-17  smart             NaN                 NaN   \n",
       "3165  2018-08-15  smart             NaN                 NaN   \n",
       "3166  2018-08-15  smart             NaN                 NaN   \n",
       "3167  2018-08-15  smart             NaN                 NaN   \n",
       "3168  2018-08-15  smart             NaN                 NaN   \n",
       "3169  2018-08-15  smart             NaN                 NaN   \n",
       "\n",
       "      sms_count_in_month  mb_in_month  messages_included  \\\n",
       "151                30.00    10,703.37               1000   \n",
       "152                30.00    10,236.19               1000   \n",
       "153                35.00    16,444.98               1000   \n",
       "154                31.00    12,633.88               1000   \n",
       "155                32.00    16,597.11               1000   \n",
       "156                44.00    15,644.73               1000   \n",
       "157                28.00    11,864.25               1000   \n",
       "158                42.00    13,280.45               1000   \n",
       "204                 9.00     2,923.49               1000   \n",
       "205                28.00    16,573.01               1000   \n",
       "206                30.00    20,016.74               1000   \n",
       "207                24.00    21,626.86               1000   \n",
       "208                25.00    19,088.67               1000   \n",
       "209                23.00    21,934.03               1000   \n",
       "210                33.00    14,010.32               1000   \n",
       "211                29.00    21,289.27               1000   \n",
       "212                24.00    18,701.51               1000   \n",
       "394                55.00    10,858.89               1000   \n",
       "395               201.00    27,825.92               1000   \n",
       "396               211.00    27,695.83               1000   \n",
       "397               180.00    32,045.70               1000   \n",
       "398               188.00    33,189.47               1000   \n",
       "399               185.00    31,032.93               1000   \n",
       "400               173.00    27,431.63               1000   \n",
       "401               191.00    32,448.00               1000   \n",
       "575                 6.00    22,427.98               1000   \n",
       "576                 8.00    35,525.58               1000   \n",
       "577                 7.00    39,419.73               1000   \n",
       "952                17.00    12,905.40               1000   \n",
       "953                19.00    17,289.85               1000   \n",
       "954                20.00    13,688.65               1000   \n",
       "955                14.00    21,673.80               1000   \n",
       "956                20.00    18,418.26               1000   \n",
       "959                  NaN       530.78               1000   \n",
       "2635               48.00    12,442.88                 50   \n",
       "3165               17.00    11,050.56                 50   \n",
       "3166               32.00    17,206.30                 50   \n",
       "3167               21.00    19,559.44                 50   \n",
       "3168               20.00    17,491.56                 50   \n",
       "3169               35.00    17,322.51                 50   \n",
       "\n",
       "      mb_per_month_included  minutes_included  rub_monthly_fee  rub_per_gb  \\\n",
       "151                   30720              3000             1950         150   \n",
       "152                   30720              3000             1950         150   \n",
       "153                   30720              3000             1950         150   \n",
       "154                   30720              3000             1950         150   \n",
       "155                   30720              3000             1950         150   \n",
       "156                   30720              3000             1950         150   \n",
       "157                   30720              3000             1950         150   \n",
       "158                   30720              3000             1950         150   \n",
       "204                   30720              3000             1950         150   \n",
       "205                   30720              3000             1950         150   \n",
       "206                   30720              3000             1950         150   \n",
       "207                   30720              3000             1950         150   \n",
       "208                   30720              3000             1950         150   \n",
       "209                   30720              3000             1950         150   \n",
       "210                   30720              3000             1950         150   \n",
       "211                   30720              3000             1950         150   \n",
       "212                   30720              3000             1950         150   \n",
       "394                   30720              3000             1950         150   \n",
       "395                   30720              3000             1950         150   \n",
       "396                   30720              3000             1950         150   \n",
       "397                   30720              3000             1950         150   \n",
       "398                   30720              3000             1950         150   \n",
       "399                   30720              3000             1950         150   \n",
       "400                   30720              3000             1950         150   \n",
       "401                   30720              3000             1950         150   \n",
       "575                   30720              3000             1950         150   \n",
       "576                   30720              3000             1950         150   \n",
       "577                   30720              3000             1950         150   \n",
       "952                   30720              3000             1950         150   \n",
       "953                   30720              3000             1950         150   \n",
       "954                   30720              3000             1950         150   \n",
       "955                   30720              3000             1950         150   \n",
       "956                   30720              3000             1950         150   \n",
       "959                   30720              3000             1950         150   \n",
       "2635                  15360               500              550         200   \n",
       "3165                  15360               500              550         200   \n",
       "3166                  15360               500              550         200   \n",
       "3167                  15360               500              550         200   \n",
       "3168                  15360               500              550         200   \n",
       "3169                  15360               500              550         200   \n",
       "\n",
       "      rub_per_message  rub_per_minute  \n",
       "151                 1               1  \n",
       "152                 1               1  \n",
       "153                 1               1  \n",
       "154                 1               1  \n",
       "155                 1               1  \n",
       "156                 1               1  \n",
       "157                 1               1  \n",
       "158                 1               1  \n",
       "204                 1               1  \n",
       "205                 1               1  \n",
       "206                 1               1  \n",
       "207                 1               1  \n",
       "208                 1               1  \n",
       "209                 1               1  \n",
       "210                 1               1  \n",
       "211                 1               1  \n",
       "212                 1               1  \n",
       "394                 1               1  \n",
       "395                 1               1  \n",
       "396                 1               1  \n",
       "397                 1               1  \n",
       "398                 1               1  \n",
       "399                 1               1  \n",
       "400                 1               1  \n",
       "401                 1               1  \n",
       "575                 1               1  \n",
       "576                 1               1  \n",
       "577                 1               1  \n",
       "952                 1               1  \n",
       "953                 1               1  \n",
       "954                 1               1  \n",
       "955                 1               1  \n",
       "956                 1               1  \n",
       "959                 1               1  \n",
       "2635                3               3  \n",
       "3165                3               3  \n",
       "3166                3               3  \n",
       "3167                3               3  \n",
       "3168                3               3  \n",
       "3169                3               3  "
      ]
     },
     "execution_count": 15,
     "metadata": {},
     "output_type": "execute_result"
    }
   ],
   "source": [
    "users_months[users_months['calls_in_month'].isna()]"
   ]
  },
  {
   "cell_type": "markdown",
   "metadata": {},
   "source": [
    "<a id='skips_2'></a>Обработаем пропуски после объединения. Тут появляются пропущенные значения так как не во всех таблицах одинаковые столбцы"
   ]
  },
  {
   "cell_type": "code",
   "execution_count": 16,
   "metadata": {
    "scrolled": true
   },
   "outputs": [
    {
     "data": {
      "text/plain": [
       "user_id                     0\n",
       "month                       0\n",
       "age                         0\n",
       "churn_date               3027\n",
       "city                        0\n",
       "first_name                  0\n",
       "last_name                   0\n",
       "reg_date                    0\n",
       "tariff                      0\n",
       "calls_in_month             40\n",
       "calls_dur_in_month         40\n",
       "sms_count_in_month        497\n",
       "mb_in_month                13\n",
       "messages_included           0\n",
       "mb_per_month_included       0\n",
       "minutes_included            0\n",
       "rub_monthly_fee             0\n",
       "rub_per_gb                  0\n",
       "rub_per_message             0\n",
       "rub_per_minute              0\n",
       "dtype: int64"
      ]
     },
     "execution_count": 16,
     "metadata": {},
     "output_type": "execute_result"
    }
   ],
   "source": [
    "users_months.isna().sum()"
   ]
  },
  {
   "cell_type": "code",
   "execution_count": 17,
   "metadata": {
    "scrolled": true
   },
   "outputs": [
    {
     "data": {
      "text/plain": [
       "user_id                     0\n",
       "month                       0\n",
       "age                         0\n",
       "churn_date               3027\n",
       "city                        0\n",
       "first_name                  0\n",
       "last_name                   0\n",
       "reg_date                    0\n",
       "tariff                      0\n",
       "calls_in_month              0\n",
       "calls_dur_in_month          0\n",
       "sms_count_in_month          0\n",
       "mb_in_month                 0\n",
       "messages_included           0\n",
       "mb_per_month_included       0\n",
       "minutes_included            0\n",
       "rub_monthly_fee             0\n",
       "rub_per_gb                  0\n",
       "rub_per_message             0\n",
       "rub_per_minute              0\n",
       "dtype: int64"
      ]
     },
     "execution_count": 17,
     "metadata": {},
     "output_type": "execute_result"
    }
   ],
   "source": [
    "users_months['calls_in_month'] = users_months['calls_in_month'].fillna(0)\n",
    "users_months['calls_dur_in_month'] = users_months['calls_dur_in_month'].fillna(0)\n",
    "users_months['sms_count_in_month'] = users_months['sms_count_in_month'].fillna(0)\n",
    "users_months['mb_in_month'] = users_months['mb_in_month'].fillna(0)\n",
    "users_months.isna().sum()"
   ]
  },
  {
   "cell_type": "markdown",
   "metadata": {},
   "source": [
    "Посчитаем помесячную выручку с каждого пользователя"
   ]
  },
  {
   "cell_type": "code",
   "execution_count": 18,
   "metadata": {},
   "outputs": [],
   "source": [
    "# Методы для расчетов\n",
    "\n",
    "# цена за перерасход трафика минут/смс\n",
    "def price_overdraft(used, included, price_one):\n",
    "    if np.isnan(used) or used <= included: return 0\n",
    "    return (used - included) * price_one\n",
    "\n",
    "# цена за перерасход интернета\n",
    "def price_overdraft_mb(used, included, price_gb):\n",
    "    if np.isnan(used) or used <= included: return 0\n",
    "    return ((used - included) // 1024 + 1) * price_gb\n",
    "\n",
    "# вычисляет выручку для переданой строки\n",
    "def calc_revenue(row):   \n",
    "    return (price_overdraft(row['calls_in_month'], row['minutes_included'], row['rub_per_minute'])\n",
    "    + price_overdraft(row['sms_count_in_month'], row['messages_included'], row['rub_per_message'])\n",
    "    + price_overdraft_mb(row['mb_in_month'], row['mb_per_month_included'], row['rub_per_gb'])\n",
    "    + row['rub_monthly_fee']) "
   ]
  },
  {
   "cell_type": "code",
   "execution_count": 19,
   "metadata": {
    "scrolled": true
   },
   "outputs": [
    {
     "data": {
      "text/html": [
       "<div>\n",
       "<style scoped>\n",
       "    .dataframe tbody tr th:only-of-type {\n",
       "        vertical-align: middle;\n",
       "    }\n",
       "\n",
       "    .dataframe tbody tr th {\n",
       "        vertical-align: top;\n",
       "    }\n",
       "\n",
       "    .dataframe thead th {\n",
       "        text-align: right;\n",
       "    }\n",
       "</style>\n",
       "<table border=\"1\" class=\"dataframe\">\n",
       "  <thead>\n",
       "    <tr style=\"text-align: right;\">\n",
       "      <th></th>\n",
       "      <th>user_id</th>\n",
       "      <th>month</th>\n",
       "      <th>age</th>\n",
       "      <th>churn_date</th>\n",
       "      <th>city</th>\n",
       "      <th>first_name</th>\n",
       "      <th>last_name</th>\n",
       "      <th>reg_date</th>\n",
       "      <th>tariff</th>\n",
       "      <th>calls_in_month</th>\n",
       "      <th>...</th>\n",
       "      <th>sms_count_in_month</th>\n",
       "      <th>mb_in_month</th>\n",
       "      <th>messages_included</th>\n",
       "      <th>mb_per_month_included</th>\n",
       "      <th>minutes_included</th>\n",
       "      <th>rub_monthly_fee</th>\n",
       "      <th>rub_per_gb</th>\n",
       "      <th>rub_per_message</th>\n",
       "      <th>rub_per_minute</th>\n",
       "      <th>revenue_month</th>\n",
       "    </tr>\n",
       "  </thead>\n",
       "  <tbody>\n",
       "    <tr>\n",
       "      <th>2122</th>\n",
       "      <td>1247</td>\n",
       "      <td>5</td>\n",
       "      <td>19</td>\n",
       "      <td>NaT</td>\n",
       "      <td>Москва</td>\n",
       "      <td>Адам</td>\n",
       "      <td>Тарасов</td>\n",
       "      <td>2018-05-23</td>\n",
       "      <td>smart</td>\n",
       "      <td>27.00</td>\n",
       "      <td>...</td>\n",
       "      <td>8.00</td>\n",
       "      <td>6,974.12</td>\n",
       "      <td>50</td>\n",
       "      <td>15360</td>\n",
       "      <td>500</td>\n",
       "      <td>550</td>\n",
       "      <td>200</td>\n",
       "      <td>3</td>\n",
       "      <td>3</td>\n",
       "      <td>550.00</td>\n",
       "    </tr>\n",
       "    <tr>\n",
       "      <th>2395</th>\n",
       "      <td>1308</td>\n",
       "      <td>8</td>\n",
       "      <td>52</td>\n",
       "      <td>NaT</td>\n",
       "      <td>Москва</td>\n",
       "      <td>Инесса</td>\n",
       "      <td>Корнилова</td>\n",
       "      <td>2018-01-04</td>\n",
       "      <td>smart</td>\n",
       "      <td>40.00</td>\n",
       "      <td>...</td>\n",
       "      <td>23.00</td>\n",
       "      <td>13,138.54</td>\n",
       "      <td>50</td>\n",
       "      <td>15360</td>\n",
       "      <td>500</td>\n",
       "      <td>550</td>\n",
       "      <td>200</td>\n",
       "      <td>3</td>\n",
       "      <td>3</td>\n",
       "      <td>550.00</td>\n",
       "    </tr>\n",
       "    <tr>\n",
       "      <th>1634</th>\n",
       "      <td>1144</td>\n",
       "      <td>4</td>\n",
       "      <td>65</td>\n",
       "      <td>NaT</td>\n",
       "      <td>Улан-Удэ</td>\n",
       "      <td>Ефим</td>\n",
       "      <td>Ефремов</td>\n",
       "      <td>2018-04-29</td>\n",
       "      <td>smart</td>\n",
       "      <td>6.00</td>\n",
       "      <td>...</td>\n",
       "      <td>3.00</td>\n",
       "      <td>690.00</td>\n",
       "      <td>50</td>\n",
       "      <td>15360</td>\n",
       "      <td>500</td>\n",
       "      <td>550</td>\n",
       "      <td>200</td>\n",
       "      <td>3</td>\n",
       "      <td>3</td>\n",
       "      <td>550.00</td>\n",
       "    </tr>\n",
       "    <tr>\n",
       "      <th>2393</th>\n",
       "      <td>1308</td>\n",
       "      <td>6</td>\n",
       "      <td>52</td>\n",
       "      <td>NaT</td>\n",
       "      <td>Москва</td>\n",
       "      <td>Инесса</td>\n",
       "      <td>Корнилова</td>\n",
       "      <td>2018-01-04</td>\n",
       "      <td>smart</td>\n",
       "      <td>27.00</td>\n",
       "      <td>...</td>\n",
       "      <td>22.00</td>\n",
       "      <td>14,762.87</td>\n",
       "      <td>50</td>\n",
       "      <td>15360</td>\n",
       "      <td>500</td>\n",
       "      <td>550</td>\n",
       "      <td>200</td>\n",
       "      <td>3</td>\n",
       "      <td>3</td>\n",
       "      <td>550.00</td>\n",
       "    </tr>\n",
       "    <tr>\n",
       "      <th>1019</th>\n",
       "      <td>1007</td>\n",
       "      <td>6</td>\n",
       "      <td>65</td>\n",
       "      <td>NaT</td>\n",
       "      <td>Москва</td>\n",
       "      <td>Юна</td>\n",
       "      <td>Березина</td>\n",
       "      <td>2018-04-19</td>\n",
       "      <td>smart</td>\n",
       "      <td>68.00</td>\n",
       "      <td>...</td>\n",
       "      <td>26.00</td>\n",
       "      <td>13,654.52</td>\n",
       "      <td>50</td>\n",
       "      <td>15360</td>\n",
       "      <td>500</td>\n",
       "      <td>550</td>\n",
       "      <td>200</td>\n",
       "      <td>3</td>\n",
       "      <td>3</td>\n",
       "      <td>550.00</td>\n",
       "    </tr>\n",
       "    <tr>\n",
       "      <th>...</th>\n",
       "      <td>...</td>\n",
       "      <td>...</td>\n",
       "      <td>...</td>\n",
       "      <td>...</td>\n",
       "      <td>...</td>\n",
       "      <td>...</td>\n",
       "      <td>...</td>\n",
       "      <td>...</td>\n",
       "      <td>...</td>\n",
       "      <td>...</td>\n",
       "      <td>...</td>\n",
       "      <td>...</td>\n",
       "      <td>...</td>\n",
       "      <td>...</td>\n",
       "      <td>...</td>\n",
       "      <td>...</td>\n",
       "      <td>...</td>\n",
       "      <td>...</td>\n",
       "      <td>...</td>\n",
       "      <td>...</td>\n",
       "      <td>...</td>\n",
       "    </tr>\n",
       "    <tr>\n",
       "      <th>1425</th>\n",
       "      <td>1098</td>\n",
       "      <td>12</td>\n",
       "      <td>39</td>\n",
       "      <td>NaT</td>\n",
       "      <td>Челябинск</td>\n",
       "      <td>Элеонора</td>\n",
       "      <td>Озерова</td>\n",
       "      <td>2018-06-23</td>\n",
       "      <td>smart</td>\n",
       "      <td>80.00</td>\n",
       "      <td>...</td>\n",
       "      <td>14.00</td>\n",
       "      <td>36,523.90</td>\n",
       "      <td>50</td>\n",
       "      <td>15360</td>\n",
       "      <td>500</td>\n",
       "      <td>550</td>\n",
       "      <td>200</td>\n",
       "      <td>3</td>\n",
       "      <td>3</td>\n",
       "      <td>4,750.00</td>\n",
       "    </tr>\n",
       "    <tr>\n",
       "      <th>228</th>\n",
       "      <td>1124</td>\n",
       "      <td>10</td>\n",
       "      <td>54</td>\n",
       "      <td>NaT</td>\n",
       "      <td>Махачкала</td>\n",
       "      <td>Альбин</td>\n",
       "      <td>Андрианов</td>\n",
       "      <td>2018-09-24</td>\n",
       "      <td>ultra</td>\n",
       "      <td>152.00</td>\n",
       "      <td>...</td>\n",
       "      <td>121.00</td>\n",
       "      <td>49,745.69</td>\n",
       "      <td>1000</td>\n",
       "      <td>30720</td>\n",
       "      <td>3000</td>\n",
       "      <td>1950</td>\n",
       "      <td>150</td>\n",
       "      <td>1</td>\n",
       "      <td>1</td>\n",
       "      <td>4,800.00</td>\n",
       "    </tr>\n",
       "    <tr>\n",
       "      <th>3156</th>\n",
       "      <td>1486</td>\n",
       "      <td>11</td>\n",
       "      <td>35</td>\n",
       "      <td>NaT</td>\n",
       "      <td>Нижний Новгород</td>\n",
       "      <td>Матвей</td>\n",
       "      <td>Моргунов</td>\n",
       "      <td>2018-10-31</td>\n",
       "      <td>smart</td>\n",
       "      <td>108.00</td>\n",
       "      <td>...</td>\n",
       "      <td>96.00</td>\n",
       "      <td>36,266.11</td>\n",
       "      <td>50</td>\n",
       "      <td>15360</td>\n",
       "      <td>500</td>\n",
       "      <td>550</td>\n",
       "      <td>200</td>\n",
       "      <td>3</td>\n",
       "      <td>3</td>\n",
       "      <td>4,888.00</td>\n",
       "    </tr>\n",
       "    <tr>\n",
       "      <th>1183</th>\n",
       "      <td>1042</td>\n",
       "      <td>12</td>\n",
       "      <td>42</td>\n",
       "      <td>NaT</td>\n",
       "      <td>Хабаровск</td>\n",
       "      <td>Константин</td>\n",
       "      <td>Добрынин</td>\n",
       "      <td>2018-11-25</td>\n",
       "      <td>smart</td>\n",
       "      <td>121.00</td>\n",
       "      <td>...</td>\n",
       "      <td>75.00</td>\n",
       "      <td>37,165.69</td>\n",
       "      <td>50</td>\n",
       "      <td>15360</td>\n",
       "      <td>500</td>\n",
       "      <td>550</td>\n",
       "      <td>200</td>\n",
       "      <td>3</td>\n",
       "      <td>3</td>\n",
       "      <td>5,025.00</td>\n",
       "    </tr>\n",
       "    <tr>\n",
       "      <th>3157</th>\n",
       "      <td>1486</td>\n",
       "      <td>12</td>\n",
       "      <td>35</td>\n",
       "      <td>NaT</td>\n",
       "      <td>Нижний Новгород</td>\n",
       "      <td>Матвей</td>\n",
       "      <td>Моргунов</td>\n",
       "      <td>2018-10-31</td>\n",
       "      <td>smart</td>\n",
       "      <td>133.00</td>\n",
       "      <td>...</td>\n",
       "      <td>83.00</td>\n",
       "      <td>38,552.45</td>\n",
       "      <td>50</td>\n",
       "      <td>15360</td>\n",
       "      <td>500</td>\n",
       "      <td>550</td>\n",
       "      <td>200</td>\n",
       "      <td>3</td>\n",
       "      <td>3</td>\n",
       "      <td>5,249.00</td>\n",
       "    </tr>\n",
       "  </tbody>\n",
       "</table>\n",
       "<p>3214 rows × 21 columns</p>\n",
       "</div>"
      ],
      "text/plain": [
       "      user_id  month  age churn_date             city  first_name  last_name  \\\n",
       "2122     1247      5   19        NaT           Москва        Адам    Тарасов   \n",
       "2395     1308      8   52        NaT           Москва      Инесса  Корнилова   \n",
       "1634     1144      4   65        NaT         Улан-Удэ        Ефим    Ефремов   \n",
       "2393     1308      6   52        NaT           Москва      Инесса  Корнилова   \n",
       "1019     1007      6   65        NaT           Москва         Юна   Березина   \n",
       "...       ...    ...  ...        ...              ...         ...        ...   \n",
       "1425     1098     12   39        NaT        Челябинск    Элеонора    Озерова   \n",
       "228      1124     10   54        NaT        Махачкала      Альбин  Андрианов   \n",
       "3156     1486     11   35        NaT  Нижний Новгород      Матвей   Моргунов   \n",
       "1183     1042     12   42        NaT        Хабаровск  Константин   Добрынин   \n",
       "3157     1486     12   35        NaT  Нижний Новгород      Матвей   Моргунов   \n",
       "\n",
       "        reg_date tariff  calls_in_month  ...  sms_count_in_month  mb_in_month  \\\n",
       "2122  2018-05-23  smart           27.00  ...                8.00     6,974.12   \n",
       "2395  2018-01-04  smart           40.00  ...               23.00    13,138.54   \n",
       "1634  2018-04-29  smart            6.00  ...                3.00       690.00   \n",
       "2393  2018-01-04  smart           27.00  ...               22.00    14,762.87   \n",
       "1019  2018-04-19  smart           68.00  ...               26.00    13,654.52   \n",
       "...          ...    ...             ...  ...                 ...          ...   \n",
       "1425  2018-06-23  smart           80.00  ...               14.00    36,523.90   \n",
       "228   2018-09-24  ultra          152.00  ...              121.00    49,745.69   \n",
       "3156  2018-10-31  smart          108.00  ...               96.00    36,266.11   \n",
       "1183  2018-11-25  smart          121.00  ...               75.00    37,165.69   \n",
       "3157  2018-10-31  smart          133.00  ...               83.00    38,552.45   \n",
       "\n",
       "      messages_included  mb_per_month_included  minutes_included  \\\n",
       "2122                 50                  15360               500   \n",
       "2395                 50                  15360               500   \n",
       "1634                 50                  15360               500   \n",
       "2393                 50                  15360               500   \n",
       "1019                 50                  15360               500   \n",
       "...                 ...                    ...               ...   \n",
       "1425                 50                  15360               500   \n",
       "228                1000                  30720              3000   \n",
       "3156                 50                  15360               500   \n",
       "1183                 50                  15360               500   \n",
       "3157                 50                  15360               500   \n",
       "\n",
       "      rub_monthly_fee  rub_per_gb  rub_per_message  rub_per_minute  \\\n",
       "2122              550         200                3               3   \n",
       "2395              550         200                3               3   \n",
       "1634              550         200                3               3   \n",
       "2393              550         200                3               3   \n",
       "1019              550         200                3               3   \n",
       "...               ...         ...              ...             ...   \n",
       "1425              550         200                3               3   \n",
       "228              1950         150                1               1   \n",
       "3156              550         200                3               3   \n",
       "1183              550         200                3               3   \n",
       "3157              550         200                3               3   \n",
       "\n",
       "      revenue_month  \n",
       "2122         550.00  \n",
       "2395         550.00  \n",
       "1634         550.00  \n",
       "2393         550.00  \n",
       "1019         550.00  \n",
       "...             ...  \n",
       "1425       4,750.00  \n",
       "228        4,800.00  \n",
       "3156       4,888.00  \n",
       "1183       5,025.00  \n",
       "3157       5,249.00  \n",
       "\n",
       "[3214 rows x 21 columns]"
      ]
     },
     "execution_count": 19,
     "metadata": {},
     "output_type": "execute_result"
    }
   ],
   "source": [
    "users_months['revenue_month'] = users_months.apply(calc_revenue, axis=1)\n",
    "users_months.sort_values(by='revenue_month', ascending=True)"
   ]
  },
  {
   "cell_type": "markdown",
   "metadata": {},
   "source": [
    "***Вывод по подготовке данных***\n",
    "* лишние столбцы убрали, дату преобразовали, пропуски разобрали, таблицы объединили\n",
    "\n",
    "Посчитали для каждого пользователя:\n",
    "* количество сделанных звонков и израсходованных минут разговора по месяцам;\n",
    "* количество отправленных сообщений по месяцам;\n",
    "* объем израсходованного интернет-трафика по месяцам;\n",
    "* помесячную выручку с каждого пользователя"
   ]
  },
  {
   "cell_type": "markdown",
   "metadata": {},
   "source": [
    "## 3. Исследовательский анализ данных"
   ]
  },
  {
   "cell_type": "markdown",
   "metadata": {},
   "source": [
    "* Посчитаем среднее количество, дисперсию и стандартное отклонение. \n",
    "* Построим гистограммы. Опишем распределения.\n",
    "* Опишем поведение клиентов"
   ]
  },
  {
   "cell_type": "markdown",
   "metadata": {},
   "source": [
    "Посмотрим для каждого тарифа по выбранным показателям среднее количество, стандартное отклоненние, дисперсию"
   ]
  },
  {
   "cell_type": "code",
   "execution_count": 20,
   "metadata": {
    "scrolled": true
   },
   "outputs": [
    {
     "data": {
      "text/plain": [
       "'Смарт среднее количество'"
      ]
     },
     "metadata": {},
     "output_type": "display_data"
    },
    {
     "data": {
      "text/plain": [
       "user_id               1,246.51\n",
       "calls_in_month           58.46\n",
       "calls_dur_in_month      394.43\n",
       "sms_count_in_month       33.38\n",
       "mb_in_month          16,208.39\n",
       "dtype: float64"
      ]
     },
     "metadata": {},
     "output_type": "display_data"
    },
    {
     "data": {
      "text/plain": [
       "'Ультра среднее количество'"
      ]
     },
     "metadata": {},
     "output_type": "display_data"
    },
    {
     "data": {
      "text/plain": [
       "user_id               1,263.09\n",
       "calls_in_month           73.39\n",
       "calls_dur_in_month      497.07\n",
       "sms_count_in_month       49.36\n",
       "mb_in_month          19,468.81\n",
       "dtype: float64"
      ]
     },
     "metadata": {},
     "output_type": "display_data"
    },
    {
     "data": {
      "text/plain": [
       "'Отношение'"
      ]
     },
     "metadata": {},
     "output_type": "display_data"
    },
    {
     "data": {
      "text/plain": [
       "user_id              0.99\n",
       "calls_in_month       0.80\n",
       "calls_dur_in_month   0.79\n",
       "sms_count_in_month   0.68\n",
       "mb_in_month          0.83\n",
       "dtype: float64"
      ]
     },
     "metadata": {},
     "output_type": "display_data"
    },
    {
     "data": {
      "text/plain": [
       "'Стандартное отклонение'"
      ]
     },
     "metadata": {},
     "output_type": "display_data"
    },
    {
     "data": {
      "text/html": [
       "<div>\n",
       "<style scoped>\n",
       "    .dataframe tbody tr th:only-of-type {\n",
       "        vertical-align: middle;\n",
       "    }\n",
       "\n",
       "    .dataframe tbody tr th {\n",
       "        vertical-align: top;\n",
       "    }\n",
       "\n",
       "    .dataframe thead th {\n",
       "        text-align: right;\n",
       "    }\n",
       "</style>\n",
       "<table border=\"1\" class=\"dataframe\">\n",
       "  <thead>\n",
       "    <tr style=\"text-align: right;\">\n",
       "      <th></th>\n",
       "      <th>calls_in_month</th>\n",
       "      <th>calls_dur_in_month</th>\n",
       "      <th>sms_count_in_month</th>\n",
       "      <th>mb_in_month</th>\n",
       "    </tr>\n",
       "  </thead>\n",
       "  <tbody>\n",
       "    <tr>\n",
       "      <th>ultra</th>\n",
       "      <td>43.89</td>\n",
       "      <td>299.75</td>\n",
       "      <td>47.78</td>\n",
       "      <td>10,082.05</td>\n",
       "    </tr>\n",
       "    <tr>\n",
       "      <th>smart</th>\n",
       "      <td>25.93</td>\n",
       "      <td>179.92</td>\n",
       "      <td>28.22</td>\n",
       "      <td>5,869.16</td>\n",
       "    </tr>\n",
       "  </tbody>\n",
       "</table>\n",
       "</div>"
      ],
      "text/plain": [
       "       calls_in_month  calls_dur_in_month  sms_count_in_month  mb_in_month\n",
       "ultra           43.89              299.75               47.78    10,082.05\n",
       "smart           25.93              179.92               28.22     5,869.16"
      ]
     },
     "metadata": {},
     "output_type": "display_data"
    },
    {
     "data": {
      "text/plain": [
       "'Дисперсия'"
      ]
     },
     "metadata": {},
     "output_type": "display_data"
    },
    {
     "data": {
      "text/html": [
       "<div>\n",
       "<style scoped>\n",
       "    .dataframe tbody tr th:only-of-type {\n",
       "        vertical-align: middle;\n",
       "    }\n",
       "\n",
       "    .dataframe tbody tr th {\n",
       "        vertical-align: top;\n",
       "    }\n",
       "\n",
       "    .dataframe thead th {\n",
       "        text-align: right;\n",
       "    }\n",
       "</style>\n",
       "<table border=\"1\" class=\"dataframe\">\n",
       "  <thead>\n",
       "    <tr style=\"text-align: right;\">\n",
       "      <th></th>\n",
       "      <th>calls_in_month</th>\n",
       "      <th>calls_dur_in_month</th>\n",
       "      <th>sms_count_in_month</th>\n",
       "      <th>mb_in_month</th>\n",
       "    </tr>\n",
       "  </thead>\n",
       "  <tbody>\n",
       "    <tr>\n",
       "      <th>ultra</th>\n",
       "      <td>1,926.73</td>\n",
       "      <td>89,851.19</td>\n",
       "      <td>2,282.95</td>\n",
       "      <td>101,647,713.26</td>\n",
       "    </tr>\n",
       "    <tr>\n",
       "      <th>smart</th>\n",
       "      <td>672.57</td>\n",
       "      <td>32,371.87</td>\n",
       "      <td>796.46</td>\n",
       "      <td>34,447,035.50</td>\n",
       "    </tr>\n",
       "  </tbody>\n",
       "</table>\n",
       "</div>"
      ],
      "text/plain": [
       "       calls_in_month  calls_dur_in_month  sms_count_in_month    mb_in_month\n",
       "ultra        1,926.73           89,851.19            2,282.95 101,647,713.26\n",
       "smart          672.57           32,371.87              796.46  34,447,035.50"
      ]
     },
     "metadata": {},
     "output_type": "display_data"
    }
   ],
   "source": [
    "# выделим части таблицы с тарифами в отдельные переменные\n",
    "ultra = users_months.query(f'tariff == \"ultra\"')[['user_id', 'calls_in_month', 'calls_dur_in_month', 'sms_count_in_month', 'mb_in_month']]\n",
    "smart = users_months.query(f'tariff == \"smart\"')[['user_id', 'calls_in_month', 'calls_dur_in_month', 'sms_count_in_month', 'mb_in_month']]\n",
    "\n",
    "display('Смарт среднее количество', smart.mean())\n",
    "display('Ультра среднее количество', ultra.mean())\n",
    "display('Отношение', smart.mean()/ultra.mean())\n",
    "\n",
    "df = pd.DataFrame({'calls_in_month': [np.std(ultra['calls_in_month']), np.std(smart['calls_in_month'])],\n",
    "                  'calls_dur_in_month': [np.std(ultra['calls_dur_in_month']), np.std(smart['calls_dur_in_month'])],\n",
    "                  'sms_count_in_month': [np.std(ultra['sms_count_in_month']), np.std(smart['sms_count_in_month'])],\n",
    "                  'mb_in_month': [np.std(ultra['mb_in_month']), np.std(smart['mb_in_month'])]}, index=['ultra', 'smart'])\n",
    "display('Стандартное отклонение', df)\n",
    "\n",
    "df = pd.DataFrame({'calls_in_month': [np.var(ultra['calls_in_month']), np.var(smart['calls_in_month'])],\n",
    "                  'calls_dur_in_month': [np.var(ultra['calls_dur_in_month']), np.var(smart['calls_dur_in_month'])],\n",
    "                  'sms_count_in_month': [np.var(ultra['sms_count_in_month']), np.var(smart['sms_count_in_month'])],\n",
    "                  'mb_in_month': [np.var(ultra['mb_in_month']), np.var(smart['mb_in_month'])]}, index=['ultra', 'smart'])\n",
    "display('Дисперсия', df)"
   ]
  },
  {
   "cell_type": "markdown",
   "metadata": {},
   "source": [
    "***Вывод***:\n",
    "\n",
    "Пользовательи тарифа 'Ультра' в среднем тратят значительно больше единиц по всем видам трафика (от 63% и выше)\n",
    "\n",
    "Стандартное отклонение по всем показателям у Ультра также значительно больше чем по тарифу 'Смарт'."
   ]
  },
  {
   "cell_type": "markdown",
   "metadata": {},
   "source": [
    "**Построим гистограммы по каждому виду трафика**"
   ]
  },
  {
   "cell_type": "code",
   "execution_count": 21,
   "metadata": {
    "scrolled": true
   },
   "outputs": [
    {
     "name": "stdout",
     "output_type": "stream",
     "text": [
      "Гистограммы количества звонков в месяц\n"
     ]
    },
    {
     "data": {
      "text/plain": [
       "<AxesSubplot:>"
      ]
     },
     "execution_count": 21,
     "metadata": {},
     "output_type": "execute_result"
    },
    {
     "data": {
      "image/png": "[encoded data removed]",
      "text/plain": [
       "<Figure size 432x288 with 1 Axes>"
      ]
     },
     "metadata": {
      "needs_background": "light"
     },
     "output_type": "display_data"
    }
   ],
   "source": [
    "print('Гистограммы количества звонков в месяц')\n",
    "smart['calls_in_month'].hist(bins=25)\n",
    "ultra['calls_in_month'].hist(bins=25, alpha=0.7)"
   ]
  },
  {
   "cell_type": "markdown",
   "metadata": {},
   "source": [
    "***Вывод***  \n",
    "Тут, похоже, распределение Пуассона на обоих графиках. Судя по ним пользователи тарифа смарт чаще всего делают звонки от 50 до 80 раз в месяц. А по тарифу 'Ультра' больше всего пользователей делают от 40 до 120 звонков в месяц, но есть и те кто более 200 раз звонит. В Смарте же больше 120 уже большая редкость."
   ]
  },
  {
   "cell_type": "code",
   "execution_count": 22,
   "metadata": {},
   "outputs": [
    {
     "name": "stdout",
     "output_type": "stream",
     "text": [
      "Гистограммы длительностей звонков в месяц\n"
     ]
    },
    {
     "data": {
      "text/plain": [
       "<AxesSubplot:>"
      ]
     },
     "execution_count": 22,
     "metadata": {},
     "output_type": "execute_result"
    },
    {
     "data": {
      "image/png": "[encoded data removed]",
      "text/plain": [
       "<Figure size 432x288 with 1 Axes>"
      ]
     },
     "metadata": {
      "needs_background": "light"
     },
     "output_type": "display_data"
    }
   ],
   "source": [
    "print('Гистограммы длительностей звонков в месяц')\n",
    "smart['calls_dur_in_month'].hist(bins=30)\n",
    "ultra['calls_dur_in_month'].hist(bins=25, alpha=0.7)"
   ]
  },
  {
   "cell_type": "markdown",
   "metadata": {},
   "source": [
    "***Вывод***: Тут также распределение Пуассона. В смарте чаще всего разговаривают от 220 до 550 мин в месяц, а в ультре график очень пологий в и разброс от 0 до 800 мин в месяц, больше уже редкость.\n"
   ]
  },
  {
   "cell_type": "code",
   "execution_count": 23,
   "metadata": {},
   "outputs": [
    {
     "name": "stdout",
     "output_type": "stream",
     "text": [
      "Гистограммы количества звонков в месяц\n"
     ]
    },
    {
     "data": {
      "text/plain": [
       "<AxesSubplot:>"
      ]
     },
     "execution_count": 23,
     "metadata": {},
     "output_type": "execute_result"
    },
    {
     "data": {
      "image/png": "[encoded data removed]",
      "text/plain": [
       "<Figure size 432x288 with 1 Axes>"
      ]
     },
     "metadata": {
      "needs_background": "light"
     },
     "output_type": "display_data"
    }
   ],
   "source": [
    "print('Гистограммы количества звонков в месяц')\n",
    "smart['sms_count_in_month'].hist(bins=20)\n",
    "ultra['sms_count_in_month'].hist(bins=20, alpha=0.7)"
   ]
  },
  {
   "cell_type": "markdown",
   "metadata": {},
   "source": [
    "***Вывод***: Тут также распределение Пуассона. Судя по рафикам большое количество людей вообще не использует смс или использует очень мало. В смарте основная часть пишет до 50 смс. а в ультре - до 80-100 смс. В смарте почти никогда больше 110 смс не пишут, а в ультре могут и больше 200."
   ]
  },
  {
   "cell_type": "code",
   "execution_count": 24,
   "metadata": {},
   "outputs": [
    {
     "data": {
      "text/plain": [
       "<AxesSubplot:>"
      ]
     },
     "execution_count": 24,
     "metadata": {},
     "output_type": "execute_result"
    },
    {
     "data": {
      "image/png": "[encoded data removed]",
      "text/plain": [
       "<Figure size 432x288 with 1 Axes>"
      ]
     },
     "metadata": {
      "needs_background": "light"
     },
     "output_type": "display_data"
    }
   ],
   "source": [
    "smart['mb_in_month'].hist(bins=25, grid=True)\n",
    "ultra['mb_in_month'].hist(bins=25, grid=True, alpha=0.7)"
   ]
  },
  {
   "cell_type": "markdown",
   "metadata": {},
   "source": [
    "***Вывод***: Графики имеют распределение похожее на нормальное. Интересно, что бОльшая часть пользователей смарта потребляют немного более 15Гб, включенных в тариф, очень многие до 22Гб, а некоторые более 30Гб. В ультре большинство использкет около 20Гб, а вот потребителей более включенных в тариф резко падает после отметки в 30Гб."
   ]
  },
  {
   "cell_type": "markdown",
   "metadata": {},
   "source": [
    "## Проверим гипотезы"
   ]
  },
  {
   "cell_type": "markdown",
   "metadata": {},
   "source": [
    "Гипотезы:\n",
    "* средняя выручка пользователей тарифов «Ультра» и «Смарт» различаются;\n",
    "* средняя выручка пользователей из Москвы отличается от выручки пользователей из других регионов.\n"
   ]
  },
  {
   "cell_type": "markdown",
   "metadata": {},
   "source": [
    "Нулевые гипотезы сформулируем так, что в каждом рассматриваемом случае выручки равны.\n",
    "Проверим нулевые гипотезы и сравним полученный уровень значимости (p-значение) с общепринятым alpha=0.05"
   ]
  },
  {
   "cell_type": "markdown",
   "metadata": {},
   "source": [
    "***Нулевая гипотеза 1***: средняя выручка пользователей тарифов «Ультра» и «Смарт» одинакова\n",
    "\n",
    "***Альтернативаная гипотеза 1***: средняя выручка пользователей тарифов «Ультра» и «Смарт» различается"
   ]
  },
  {
   "cell_type": "code",
   "execution_count": 25,
   "metadata": {},
   "outputs": [
    {
     "name": "stdout",
     "output_type": "stream",
     "text": [
      "p-значение:  1.7908299298705238e-242\n"
     ]
    }
   ],
   "source": [
    "results = st.ttest_ind(users_months.query('tariff == \"smart\"')['revenue_month'], users_months.query('tariff == \"ultra\"')['revenue_month'])\n",
    "print('p-значение: ', results.pvalue)"
   ]
  },
  {
   "cell_type": "markdown",
   "metadata": {},
   "source": [
    "***Вывод***: p-значение имеет значение сильно меньше 0.05, значит велика вероятность что нулевая гипотеза не верна. Склоняемся в пользу альтернативной гипотезы: средняя выручка пользователей тарифов «Ультра» и «Смарт» различяется"
   ]
  },
  {
   "cell_type": "markdown",
   "metadata": {},
   "source": [
    "***Нулевая гипотеза 2***: средняя выручка пользователей из Москвы такая же как выручка пользователей из других регионов.\n",
    "\n",
    "***Альтернативная гипотеза 2***: средняя выручка пользователей из Москвы и пользователей из других регионов различается"
   ]
  },
  {
   "cell_type": "code",
   "execution_count": 26,
   "metadata": {},
   "outputs": [
    {
     "name": "stdout",
     "output_type": "stream",
     "text": [
      "p-значение:  0.2959013162901811\n"
     ]
    }
   ],
   "source": [
    "results = st.ttest_ind(users_months.query('city == \"Москва\"')['revenue_month'], users_months.query('city != \"Москва\"')['revenue_month'])\n",
    "print('p-значение: ', results.pvalue)"
   ]
  },
  {
   "cell_type": "markdown",
   "metadata": {},
   "source": [
    "***Вывод***: p-значение значительно больше 0.05, значит нет оснований отвергать нулевую гипотезу."
   ]
  },
  {
   "cell_type": "markdown",
   "metadata": {},
   "source": [
    "**Общий вывод**\n",
    "\n",
    "Вероятно:\n",
    "* средняя выручка пользователей тарифов «Ультра» и «Смарт» различаются;\n",
    "* средняя выручка пользователей из Москвы такая же как выручка пользователей из других регионов"
   ]
  },
  {
   "cell_type": "markdown",
   "metadata": {},
   "source": [
    "## Общий вывод"
   ]
  },
  {
   "cell_type": "markdown",
   "metadata": {},
   "source": [
    "Повторим выводы, сделанные выше:\n",
    "* Пользовательи тарифа 'Ультра' в среднем тратят значительно больше единиц по всем видам трафика (от 63% и выше).\n",
    "* Стандартное отклонение по всем показателям у Ультра также значительно больше чем по тарифу 'Смарт'.\n",
    "* в смарте чаще всего делают звонки от 50 до 80 раз в месяц. А по тарифу 'Ультра' больше всего пользователей делают от 40 до 120 звонков в месяц, но есть и те кто более 200 раз звонит. В Смарте же больше 120 уже большая редкость.\n",
    "* в смарте чаще всего разговаривают от 220 до 550 мин в месяц, а в ультре график очень пологий в и разброс от 0 до 800 мин в месяц, больше уже редкость.\n",
    "* большое количество людей в обоих тарифах вообще не использует смс или использует очень мало. В смарте основная часть пишет до 50 смс. а в ультре - до 80-100 смс. В смарте почти никогда больше 110 смс не пишут, а в ультре могут и больше 200.\n",
    "* бОльшая часть пользователей смарта потребляют немного более 15Гб, включенных в тариф, очень многие до 22Гб, а некоторые более 30Гб. В ультре большинство использкет около 20Гб, а вот потребителей более включенных в тариф резко падает после отметки в 30Гб.\n",
    "* вероятно: средняя выручка пользователей тарифов «Ультра» и «Смарт» различаются;\n",
    "* вероятно: средняя выручка пользователей из Москвы такая же как выручка пользователей из других регионов\n",
    "\n"
   ]
  },
  {
   "cell_type": "markdown",
   "metadata": {},
   "source": [
    "**Вывод**\n",
    "\n",
    "Из вышеприведенных выводов получается что пользователи тарифа Ультра редко превышают потребление по всем видам трафика больше чем в 2 раза по сравнению с тарифом Смарт. А по скольку стоимость тарифа Ультра выше аж в 3,5 раз, то для компании он выгоднее."
   ]
  }
 ],
 "metadata": {
  "ExecuteTimeLog": [
   {
    "duration": 513,
    "start_time": "2021-12-25T09:55:50.762Z"
   },
   {
    "duration": 773,
    "start_time": "2021-12-25T09:55:55.282Z"
   },
   {
    "duration": 460,
    "start_time": "2021-12-25T09:57:34.474Z"
   },
   {
    "duration": 3,
    "start_time": "2021-12-25T10:04:52.002Z"
   },
   {
    "duration": 3,
    "start_time": "2021-12-25T10:04:56.841Z"
   },
   {
    "duration": 3,
    "start_time": "2021-12-25T10:05:02.050Z"
   },
   {
    "duration": 480,
    "start_time": "2021-12-25T10:05:04.202Z"
   },
   {
    "duration": 79,
    "start_time": "2021-12-25T10:06:12.805Z"
   },
   {
    "duration": 3,
    "start_time": "2021-12-25T10:13:03.747Z"
   },
   {
    "duration": 506,
    "start_time": "2021-12-25T10:13:30.490Z"
   },
   {
    "duration": 235,
    "start_time": "2021-12-25T10:34:18.002Z"
   },
   {
    "duration": 4,
    "start_time": "2021-12-25T10:35:11.442Z"
   },
   {
    "duration": 135,
    "start_time": "2021-12-25T10:35:26.562Z"
   },
   {
    "duration": 1135,
    "start_time": "2021-12-25T10:36:42.242Z"
   },
   {
    "duration": 5,
    "start_time": "2021-12-25T10:37:38.283Z"
   },
   {
    "duration": 489,
    "start_time": "2021-12-25T10:37:40.402Z"
   },
   {
    "duration": 5,
    "start_time": "2021-12-25T10:52:18.442Z"
   },
   {
    "duration": 27,
    "start_time": "2021-12-25T10:52:24.759Z"
   },
   {
    "duration": 22,
    "start_time": "2021-12-25T10:52:43.602Z"
   },
   {
    "duration": 379,
    "start_time": "2021-12-25T10:55:25.921Z"
   },
   {
    "duration": 46,
    "start_time": "2021-12-25T10:55:42.242Z"
   },
   {
    "duration": 63,
    "start_time": "2021-12-25T10:55:46.242Z"
   },
   {
    "duration": 48,
    "start_time": "2021-12-25T10:56:24.202Z"
   },
   {
    "duration": 51,
    "start_time": "2021-12-25T10:56:39.762Z"
   },
   {
    "duration": 58,
    "start_time": "2021-12-25T10:56:46.804Z"
   },
   {
    "duration": 50,
    "start_time": "2021-12-25T10:56:57.682Z"
   },
   {
    "duration": 56,
    "start_time": "2021-12-25T10:57:12.290Z"
   },
   {
    "duration": 62,
    "start_time": "2021-12-25T10:58:22.364Z"
   },
   {
    "duration": 84,
    "start_time": "2021-12-25T10:58:26.762Z"
   },
   {
    "duration": 72,
    "start_time": "2021-12-25T10:58:39.717Z"
   },
   {
    "duration": 109,
    "start_time": "2021-12-25T11:00:42.328Z"
   },
   {
    "duration": 106,
    "start_time": "2021-12-25T11:01:41.831Z"
   },
   {
    "duration": 122,
    "start_time": "2021-12-25T12:30:38.537Z"
   },
   {
    "duration": 2844,
    "start_time": "2021-12-25T12:45:47.060Z"
   },
   {
    "duration": 19,
    "start_time": "2021-12-25T12:46:01.340Z"
   },
   {
    "duration": 21,
    "start_time": "2021-12-25T12:46:08.860Z"
   },
   {
    "duration": 245,
    "start_time": "2021-12-25T12:46:35.140Z"
   },
   {
    "duration": 664,
    "start_time": "2021-12-25T12:46:46.307Z"
   },
   {
    "duration": 21,
    "start_time": "2021-12-25T12:47:55.461Z"
   },
   {
    "duration": 21,
    "start_time": "2021-12-25T12:48:03.274Z"
   },
   {
    "duration": 7,
    "start_time": "2021-12-25T12:48:08.020Z"
   },
   {
    "duration": 5931,
    "start_time": "2021-12-25T12:48:28.220Z"
   },
   {
    "duration": 5068,
    "start_time": "2021-12-25T12:49:25.504Z"
   },
   {
    "duration": 650,
    "start_time": "2021-12-25T12:49:42.014Z"
   },
   {
    "duration": 31,
    "start_time": "2021-12-25T12:49:55.066Z"
   },
   {
    "duration": 114,
    "start_time": "2021-12-25T12:50:10.066Z"
   },
   {
    "duration": 65,
    "start_time": "2021-12-25T12:53:01.485Z"
   },
   {
    "duration": 74,
    "start_time": "2021-12-25T12:53:07.186Z"
   },
   {
    "duration": 204,
    "start_time": "2021-12-25T12:53:11.144Z"
   },
   {
    "duration": 8,
    "start_time": "2021-12-25T12:53:30.688Z"
   },
   {
    "duration": 205,
    "start_time": "2021-12-25T12:54:00.653Z"
   },
   {
    "duration": 221,
    "start_time": "2021-12-25T12:54:48.525Z"
   },
   {
    "duration": 206,
    "start_time": "2021-12-25T12:54:52.943Z"
   },
   {
    "duration": 218,
    "start_time": "2021-12-25T12:54:59.893Z"
   },
   {
    "duration": 213,
    "start_time": "2021-12-25T12:55:02.833Z"
   },
   {
    "duration": 250,
    "start_time": "2021-12-25T12:55:42.153Z"
   },
   {
    "duration": 618,
    "start_time": "2021-12-25T12:55:55.321Z"
   },
   {
    "duration": 444,
    "start_time": "2021-12-25T12:55:55.941Z"
   },
   {
    "duration": 3,
    "start_time": "2021-12-25T12:55:56.387Z"
   },
   {
    "duration": 472,
    "start_time": "2021-12-25T12:55:56.392Z"
   },
   {
    "duration": 10,
    "start_time": "2021-12-25T12:55:56.865Z"
   },
   {
    "duration": 5618,
    "start_time": "2021-12-25T12:55:56.877Z"
   },
   {
    "duration": 629,
    "start_time": "2021-12-25T12:56:01.868Z"
   },
   {
    "duration": 22,
    "start_time": "2021-12-25T12:56:08.135Z"
   },
   {
    "duration": 34,
    "start_time": "2021-12-25T12:56:13.525Z"
   },
   {
    "duration": 63,
    "start_time": "2021-12-25T12:56:43.355Z"
   },
   {
    "duration": 18,
    "start_time": "2021-12-25T12:56:47.666Z"
   },
   {
    "duration": 4,
    "start_time": "2021-12-25T12:58:50.456Z"
   },
   {
    "duration": 8,
    "start_time": "2021-12-25T12:59:19.086Z"
   },
   {
    "duration": 230,
    "start_time": "2021-12-25T13:01:01.936Z"
   },
   {
    "duration": 181,
    "start_time": "2021-12-25T13:01:49.321Z"
   },
   {
    "duration": 138,
    "start_time": "2021-12-25T13:02:27.425Z"
   },
   {
    "duration": 134,
    "start_time": "2021-12-25T13:04:44.125Z"
   },
   {
    "duration": 656,
    "start_time": "2021-12-25T13:04:50.248Z"
   },
   {
    "duration": 442,
    "start_time": "2021-12-25T13:04:50.905Z"
   },
   {
    "duration": 3,
    "start_time": "2021-12-25T13:04:51.349Z"
   },
   {
    "duration": 348,
    "start_time": "2021-12-25T13:04:51.354Z"
   },
   {
    "duration": 73,
    "start_time": "2021-12-25T13:04:51.703Z"
   },
   {
    "duration": 94,
    "start_time": "2021-12-25T13:04:51.778Z"
   },
   {
    "duration": 7,
    "start_time": "2021-12-25T13:04:51.874Z"
   },
   {
    "duration": 186,
    "start_time": "2021-12-25T13:04:51.883Z"
   },
   {
    "duration": 30,
    "start_time": "2021-12-25T13:05:02.626Z"
   },
   {
    "duration": 513,
    "start_time": "2021-12-25T13:05:12.456Z"
   },
   {
    "duration": 39,
    "start_time": "2021-12-25T13:05:16.215Z"
   },
   {
    "duration": 68,
    "start_time": "2021-12-25T13:05:41.485Z"
   },
   {
    "duration": 10,
    "start_time": "2021-12-25T13:11:34.040Z"
   },
   {
    "duration": 770,
    "start_time": "2021-12-25T13:11:39.845Z"
   },
   {
    "duration": 486,
    "start_time": "2021-12-25T13:11:40.617Z"
   },
   {
    "duration": 5,
    "start_time": "2021-12-25T13:11:41.106Z"
   },
   {
    "duration": 461,
    "start_time": "2021-12-25T13:11:41.114Z"
   },
   {
    "duration": 9,
    "start_time": "2021-12-25T13:11:41.576Z"
   },
   {
    "duration": 34,
    "start_time": "2021-12-25T13:11:41.587Z"
   },
   {
    "duration": 123,
    "start_time": "2021-12-25T13:11:41.623Z"
   },
   {
    "duration": 16,
    "start_time": "2021-12-25T13:11:41.749Z"
   },
   {
    "duration": 96,
    "start_time": "2021-12-25T13:11:41.767Z"
   },
   {
    "duration": 231,
    "start_time": "2021-12-25T13:12:37.322Z"
   },
   {
    "duration": 572,
    "start_time": "2021-12-25T13:17:08.522Z"
   },
   {
    "duration": 454,
    "start_time": "2021-12-25T13:17:25.658Z"
   },
   {
    "duration": 409,
    "start_time": "2021-12-25T13:17:34.374Z"
   },
   {
    "duration": 745,
    "start_time": "2021-12-25T13:33:28.269Z"
   },
   {
    "duration": 67,
    "start_time": "2021-12-25T13:33:45.750Z"
   },
   {
    "duration": 78,
    "start_time": "2021-12-25T13:34:16.620Z"
   },
   {
    "duration": 63,
    "start_time": "2021-12-25T13:34:25.500Z"
   },
   {
    "duration": 65,
    "start_time": "2021-12-25T13:34:32.340Z"
   },
   {
    "duration": 255,
    "start_time": "2021-12-25T13:36:50.940Z"
   },
   {
    "duration": 555,
    "start_time": "2021-12-25T13:36:55.100Z"
   },
   {
    "duration": 101,
    "start_time": "2021-12-25T13:36:58.778Z"
   },
   {
    "duration": 81,
    "start_time": "2021-12-25T13:37:12.179Z"
   },
   {
    "duration": 93,
    "start_time": "2021-12-25T13:37:18.902Z"
   },
   {
    "duration": 574,
    "start_time": "2021-12-25T13:41:38.269Z"
   },
   {
    "duration": 82,
    "start_time": "2021-12-25T13:41:41.629Z"
   },
   {
    "duration": 214,
    "start_time": "2021-12-25T13:42:54.909Z"
   },
   {
    "duration": 15,
    "start_time": "2021-12-25T13:43:15.257Z"
   },
   {
    "duration": 205,
    "start_time": "2021-12-25T13:44:22.879Z"
   },
   {
    "duration": 84,
    "start_time": "2021-12-25T13:45:20.350Z"
   },
   {
    "duration": 69,
    "start_time": "2021-12-25T13:45:29.440Z"
   },
   {
    "duration": 25,
    "start_time": "2021-12-25T13:45:50.557Z"
   },
   {
    "duration": 69,
    "start_time": "2021-12-25T13:46:24.819Z"
   },
   {
    "duration": 84,
    "start_time": "2021-12-25T13:46:33.799Z"
   },
   {
    "duration": 104,
    "start_time": "2021-12-25T13:47:00.569Z"
   },
   {
    "duration": 104,
    "start_time": "2021-12-25T13:47:08.222Z"
   },
   {
    "duration": 84,
    "start_time": "2021-12-25T13:47:17.904Z"
   },
   {
    "duration": 67,
    "start_time": "2021-12-25T13:47:25.832Z"
   },
   {
    "duration": 70,
    "start_time": "2021-12-25T13:47:31.320Z"
   },
   {
    "duration": 33,
    "start_time": "2021-12-25T13:47:48.439Z"
   },
   {
    "duration": 22,
    "start_time": "2021-12-25T13:47:52.889Z"
   },
   {
    "duration": 17,
    "start_time": "2021-12-25T13:48:02.937Z"
   },
   {
    "duration": 18,
    "start_time": "2021-12-25T13:48:14.679Z"
   },
   {
    "duration": 21,
    "start_time": "2021-12-25T13:48:19.810Z"
   },
   {
    "duration": 570,
    "start_time": "2021-12-25T13:49:16.318Z"
   },
   {
    "duration": 5244,
    "start_time": "2021-12-25T13:49:22.520Z"
   },
   {
    "duration": 22,
    "start_time": "2021-12-25T13:49:34.919Z"
   },
   {
    "duration": 1482,
    "start_time": "2021-12-25T13:50:37.229Z"
   },
   {
    "duration": 70,
    "start_time": "2021-12-25T13:50:43.290Z"
   },
   {
    "duration": 27,
    "start_time": "2021-12-25T13:52:09.200Z"
   },
   {
    "duration": 1012,
    "start_time": "2021-12-25T13:54:31.560Z"
   },
   {
    "duration": 153,
    "start_time": "2021-12-25T13:56:20.188Z"
   },
   {
    "duration": 689,
    "start_time": "2021-12-25T13:56:34.881Z"
   },
   {
    "duration": 463,
    "start_time": "2021-12-25T13:56:35.572Z"
   },
   {
    "duration": 4,
    "start_time": "2021-12-25T13:56:36.038Z"
   },
   {
    "duration": 441,
    "start_time": "2021-12-25T13:56:36.045Z"
   },
   {
    "duration": 9,
    "start_time": "2021-12-25T13:56:36.488Z"
   },
   {
    "duration": 62,
    "start_time": "2021-12-25T13:56:36.499Z"
   },
   {
    "duration": 70,
    "start_time": "2021-12-25T13:56:36.563Z"
   },
   {
    "duration": 6,
    "start_time": "2021-12-25T13:56:36.636Z"
   },
   {
    "duration": 295,
    "start_time": "2021-12-25T13:56:36.644Z"
   },
   {
    "duration": 660,
    "start_time": "2021-12-25T13:56:36.282Z"
   },
   {
    "duration": 634,
    "start_time": "2021-12-25T13:56:36.310Z"
   },
   {
    "duration": 677,
    "start_time": "2021-12-25T13:57:26.913Z"
   },
   {
    "duration": 86,
    "start_time": "2021-12-25T13:57:31.463Z"
   },
   {
    "duration": 157,
    "start_time": "2021-12-25T13:57:33.923Z"
   },
   {
    "duration": 133,
    "start_time": "2021-12-25T13:58:06.762Z"
   },
   {
    "duration": 69,
    "start_time": "2021-12-25T13:58:09.873Z"
   },
   {
    "duration": 75,
    "start_time": "2021-12-25T13:59:18.247Z"
   },
   {
    "duration": 65,
    "start_time": "2021-12-25T13:59:33.104Z"
   },
   {
    "duration": 66,
    "start_time": "2021-12-25T13:59:49.623Z"
   },
   {
    "duration": 237,
    "start_time": "2021-12-25T13:59:52.860Z"
   },
   {
    "duration": 36,
    "start_time": "2021-12-25T13:59:58.004Z"
   },
   {
    "duration": 49,
    "start_time": "2021-12-25T14:00:01.652Z"
   },
   {
    "duration": 28,
    "start_time": "2021-12-25T14:07:26.230Z"
   },
   {
    "duration": 22,
    "start_time": "2021-12-25T14:07:43.090Z"
   },
   {
    "duration": 25,
    "start_time": "2021-12-25T14:08:27.889Z"
   },
   {
    "duration": 945,
    "start_time": "2021-12-25T14:14:57.892Z"
   },
   {
    "duration": 41,
    "start_time": "2021-12-25T14:16:46.693Z"
   },
   {
    "duration": 20,
    "start_time": "2021-12-25T14:16:59.740Z"
   },
   {
    "duration": 19,
    "start_time": "2021-12-25T14:17:12.150Z"
   },
   {
    "duration": 228,
    "start_time": "2021-12-25T14:17:21.201Z"
   },
   {
    "duration": 17,
    "start_time": "2021-12-25T14:17:29.160Z"
   },
   {
    "duration": 31,
    "start_time": "2021-12-25T14:17:51.441Z"
   },
   {
    "duration": 33,
    "start_time": "2021-12-25T14:18:37.581Z"
   },
   {
    "duration": 55,
    "start_time": "2021-12-25T14:19:12.058Z"
   },
   {
    "duration": 51,
    "start_time": "2021-12-25T14:19:30.558Z"
   },
   {
    "duration": 48,
    "start_time": "2021-12-25T14:20:06.630Z"
   },
   {
    "duration": 48,
    "start_time": "2021-12-25T14:20:11.338Z"
   },
   {
    "duration": 8,
    "start_time": "2021-12-25T14:22:33.290Z"
   },
   {
    "duration": 27,
    "start_time": "2021-12-25T14:23:44.110Z"
   },
   {
    "duration": 38,
    "start_time": "2021-12-25T14:24:57.210Z"
   },
   {
    "duration": 231,
    "start_time": "2021-12-25T14:25:57.640Z"
   },
   {
    "duration": 639,
    "start_time": "2021-12-25T14:26:04.921Z"
   },
   {
    "duration": 467,
    "start_time": "2021-12-25T14:26:05.562Z"
   },
   {
    "duration": 4,
    "start_time": "2021-12-25T14:26:06.032Z"
   },
   {
    "duration": 441,
    "start_time": "2021-12-25T14:26:06.038Z"
   },
   {
    "duration": 9,
    "start_time": "2021-12-25T14:26:06.480Z"
   },
   {
    "duration": 36,
    "start_time": "2021-12-25T14:26:06.491Z"
   },
   {
    "duration": 98,
    "start_time": "2021-12-25T14:26:06.529Z"
   },
   {
    "duration": 6,
    "start_time": "2021-12-25T14:26:06.630Z"
   },
   {
    "duration": 767,
    "start_time": "2021-12-25T14:26:06.638Z"
   },
   {
    "duration": 89,
    "start_time": "2021-12-25T14:26:07.407Z"
   },
   {
    "duration": 383,
    "start_time": "2021-12-25T14:26:07.498Z"
   },
   {
    "duration": 127,
    "start_time": "2021-12-25T14:26:16.510Z"
   },
   {
    "duration": 113,
    "start_time": "2021-12-25T14:26:39.992Z"
   },
   {
    "duration": 154,
    "start_time": "2021-12-25T14:27:00.512Z"
   },
   {
    "duration": 179,
    "start_time": "2021-12-25T14:27:39.523Z"
   },
   {
    "duration": 189,
    "start_time": "2021-12-25T14:27:59.232Z"
   },
   {
    "duration": 192,
    "start_time": "2021-12-25T14:28:13.940Z"
   },
   {
    "duration": 74,
    "start_time": "2021-12-25T14:28:27.660Z"
   },
   {
    "duration": 229,
    "start_time": "2021-12-25T14:28:31.414Z"
   },
   {
    "duration": 275,
    "start_time": "2021-12-25T14:29:24.570Z"
   },
   {
    "duration": 216,
    "start_time": "2021-12-26T14:48:48.966Z"
   },
   {
    "duration": 663,
    "start_time": "2021-12-26T14:49:05.877Z"
   },
   {
    "duration": 461,
    "start_time": "2021-12-26T14:49:06.541Z"
   },
   {
    "duration": 5,
    "start_time": "2021-12-26T14:49:07.004Z"
   },
   {
    "duration": 429,
    "start_time": "2021-12-26T14:49:07.011Z"
   },
   {
    "duration": 54,
    "start_time": "2021-12-26T14:49:07.442Z"
   },
   {
    "duration": 27,
    "start_time": "2021-12-26T14:49:07.497Z"
   },
   {
    "duration": 93,
    "start_time": "2021-12-26T14:49:07.526Z"
   },
   {
    "duration": 7,
    "start_time": "2021-12-26T14:49:07.621Z"
   },
   {
    "duration": 720,
    "start_time": "2021-12-26T14:49:07.630Z"
   },
   {
    "duration": 98,
    "start_time": "2021-12-26T14:49:08.352Z"
   },
   {
    "duration": 353,
    "start_time": "2021-12-26T14:49:08.452Z"
   },
   {
    "duration": 37,
    "start_time": "2021-12-26T14:49:08.808Z"
   },
   {
    "duration": 17,
    "start_time": "2021-12-26T14:49:09.070Z"
   },
   {
    "duration": 30,
    "start_time": "2021-12-26T14:49:12.927Z"
   },
   {
    "duration": 52,
    "start_time": "2021-12-26T14:49:30.057Z"
   },
   {
    "duration": 75,
    "start_time": "2021-12-26T14:50:00.460Z"
   },
   {
    "duration": 55,
    "start_time": "2021-12-26T14:50:06.380Z"
   },
   {
    "duration": 86,
    "start_time": "2021-12-26T14:50:25.260Z"
   },
   {
    "duration": 71,
    "start_time": "2021-12-26T14:50:29.979Z"
   },
   {
    "duration": 230,
    "start_time": "2021-12-26T14:51:49.499Z"
   },
   {
    "duration": 186,
    "start_time": "2021-12-26T14:51:59.261Z"
   },
   {
    "duration": 167,
    "start_time": "2021-12-26T14:52:28.469Z"
   },
   {
    "duration": 141,
    "start_time": "2021-12-26T14:52:40.435Z"
   },
   {
    "duration": 585,
    "start_time": "2021-12-26T14:52:55.851Z"
   },
   {
    "duration": 429,
    "start_time": "2021-12-26T14:52:56.438Z"
   },
   {
    "duration": 4,
    "start_time": "2021-12-26T14:52:56.869Z"
   },
   {
    "duration": 362,
    "start_time": "2021-12-26T14:52:56.876Z"
   },
   {
    "duration": 13,
    "start_time": "2021-12-26T14:52:57.291Z"
   },
   {
    "duration": 21,
    "start_time": "2021-12-26T14:52:57.306Z"
   },
   {
    "duration": 88,
    "start_time": "2021-12-26T14:52:57.329Z"
   },
   {
    "duration": 7,
    "start_time": "2021-12-26T14:52:57.420Z"
   },
   {
    "duration": 654,
    "start_time": "2021-12-26T14:52:57.429Z"
   },
   {
    "duration": 84,
    "start_time": "2021-12-26T14:52:58.085Z"
   },
   {
    "duration": 321,
    "start_time": "2021-12-26T14:52:58.171Z"
   },
   {
    "duration": 185,
    "start_time": "2021-12-26T14:54:20.534Z"
   },
   {
    "duration": 628,
    "start_time": "2021-12-26T14:54:26.420Z"
   },
   {
    "duration": 472,
    "start_time": "2021-12-26T14:54:27.049Z"
   },
   {
    "duration": 5,
    "start_time": "2021-12-26T14:54:27.522Z"
   },
   {
    "duration": 470,
    "start_time": "2021-12-26T14:54:27.529Z"
   },
   {
    "duration": 9,
    "start_time": "2021-12-26T14:54:28.002Z"
   },
   {
    "duration": 32,
    "start_time": "2021-12-26T14:54:28.013Z"
   },
   {
    "duration": 78,
    "start_time": "2021-12-26T14:54:28.046Z"
   },
   {
    "duration": 6,
    "start_time": "2021-12-26T14:54:28.127Z"
   },
   {
    "duration": 668,
    "start_time": "2021-12-26T14:54:28.134Z"
   },
   {
    "duration": 92,
    "start_time": "2021-12-26T14:54:28.806Z"
   },
   {
    "duration": 316,
    "start_time": "2021-12-26T14:54:28.900Z"
   },
   {
    "duration": 178,
    "start_time": "2021-12-26T14:54:44.987Z"
   },
   {
    "duration": 666,
    "start_time": "2021-12-26T14:54:50.338Z"
   },
   {
    "duration": 500,
    "start_time": "2021-12-26T14:54:51.006Z"
   },
   {
    "duration": 4,
    "start_time": "2021-12-26T14:54:51.508Z"
   },
   {
    "duration": 413,
    "start_time": "2021-12-26T14:54:51.514Z"
   },
   {
    "duration": 9,
    "start_time": "2021-12-26T14:54:51.928Z"
   },
   {
    "duration": 69,
    "start_time": "2021-12-26T14:54:51.938Z"
   },
   {
    "duration": 60,
    "start_time": "2021-12-26T14:54:52.009Z"
   },
   {
    "duration": 6,
    "start_time": "2021-12-26T14:54:52.072Z"
   },
   {
    "duration": 730,
    "start_time": "2021-12-26T14:54:52.091Z"
   },
   {
    "duration": 92,
    "start_time": "2021-12-26T14:54:52.823Z"
   },
   {
    "duration": 349,
    "start_time": "2021-12-26T14:54:52.917Z"
   },
   {
    "duration": 142,
    "start_time": "2021-12-26T14:54:53.268Z"
   },
   {
    "duration": 353,
    "start_time": "2021-12-26T15:05:11.309Z"
   },
   {
    "duration": 605,
    "start_time": "2021-12-26T15:05:18.748Z"
   },
   {
    "duration": 480,
    "start_time": "2021-12-26T15:05:19.356Z"
   },
   {
    "duration": 4,
    "start_time": "2021-12-26T15:05:19.838Z"
   },
   {
    "duration": 387,
    "start_time": "2021-12-26T15:05:19.844Z"
   },
   {
    "duration": 67,
    "start_time": "2021-12-26T15:05:20.233Z"
   },
   {
    "duration": 23,
    "start_time": "2021-12-26T15:05:20.302Z"
   },
   {
    "duration": 79,
    "start_time": "2021-12-26T15:05:20.327Z"
   },
   {
    "duration": 7,
    "start_time": "2021-12-26T15:05:20.408Z"
   },
   {
    "duration": 691,
    "start_time": "2021-12-26T15:05:20.417Z"
   },
   {
    "duration": 95,
    "start_time": "2021-12-26T15:05:21.109Z"
   },
   {
    "duration": 335,
    "start_time": "2021-12-26T15:05:21.206Z"
   },
   {
    "duration": 702,
    "start_time": "2021-12-26T15:06:00.784Z"
   },
   {
    "duration": 515,
    "start_time": "2021-12-26T15:06:01.488Z"
   },
   {
    "duration": 4,
    "start_time": "2021-12-26T15:06:02.006Z"
   },
   {
    "duration": 489,
    "start_time": "2021-12-26T15:06:02.012Z"
   },
   {
    "duration": 11,
    "start_time": "2021-12-26T15:06:02.503Z"
   },
   {
    "duration": 23,
    "start_time": "2021-12-26T15:06:02.516Z"
   },
   {
    "duration": 105,
    "start_time": "2021-12-26T15:06:02.541Z"
   },
   {
    "duration": 7,
    "start_time": "2021-12-26T15:06:02.648Z"
   },
   {
    "duration": 753,
    "start_time": "2021-12-26T15:06:02.657Z"
   },
   {
    "duration": 104,
    "start_time": "2021-12-26T15:06:03.413Z"
   },
   {
    "duration": 376,
    "start_time": "2021-12-26T15:06:03.519Z"
   },
   {
    "duration": 361,
    "start_time": "2021-12-26T15:06:03.897Z"
   },
   {
    "duration": 79,
    "start_time": "2021-12-26T15:06:42.187Z"
   },
   {
    "duration": 50,
    "start_time": "2021-12-26T15:07:20.125Z"
   },
   {
    "duration": 69,
    "start_time": "2021-12-26T15:07:24.076Z"
   },
   {
    "duration": 48,
    "start_time": "2021-12-26T15:07:34.075Z"
   },
   {
    "duration": 55,
    "start_time": "2021-12-26T15:07:43.346Z"
   },
   {
    "duration": 72,
    "start_time": "2021-12-26T15:08:02.124Z"
   },
   {
    "duration": 75,
    "start_time": "2021-12-26T15:08:11.025Z"
   },
   {
    "duration": 51,
    "start_time": "2021-12-26T15:08:21.935Z"
   },
   {
    "duration": 75,
    "start_time": "2021-12-26T15:08:37.795Z"
   },
   {
    "duration": 243,
    "start_time": "2021-12-26T15:08:45.403Z"
   },
   {
    "duration": 324,
    "start_time": "2021-12-26T15:09:08.946Z"
   },
   {
    "duration": 414,
    "start_time": "2021-12-26T15:10:17.076Z"
   },
   {
    "duration": 327,
    "start_time": "2021-12-26T15:10:33.494Z"
   },
   {
    "duration": 346,
    "start_time": "2021-12-26T15:16:11.106Z"
   },
   {
    "duration": 349,
    "start_time": "2021-12-26T15:17:16.905Z"
   },
   {
    "duration": 337,
    "start_time": "2021-12-26T15:17:58.244Z"
   },
   {
    "duration": 338,
    "start_time": "2021-12-26T15:18:11.015Z"
   },
   {
    "duration": 468,
    "start_time": "2021-12-26T15:21:58.896Z"
   },
   {
    "duration": 383,
    "start_time": "2021-12-26T15:22:22.806Z"
   },
   {
    "duration": 672,
    "start_time": "2021-12-26T15:23:20.900Z"
   },
   {
    "duration": 478,
    "start_time": "2021-12-26T15:23:21.574Z"
   },
   {
    "duration": 4,
    "start_time": "2021-12-26T15:23:22.054Z"
   },
   {
    "duration": 435,
    "start_time": "2021-12-26T15:23:22.060Z"
   },
   {
    "duration": 13,
    "start_time": "2021-12-26T15:23:22.499Z"
   },
   {
    "duration": 41,
    "start_time": "2021-12-26T15:23:22.515Z"
   },
   {
    "duration": 96,
    "start_time": "2021-12-26T15:23:22.558Z"
   },
   {
    "duration": 5,
    "start_time": "2021-12-26T15:23:22.657Z"
   },
   {
    "duration": 720,
    "start_time": "2021-12-26T15:23:22.664Z"
   },
   {
    "duration": 93,
    "start_time": "2021-12-26T15:23:23.386Z"
   },
   {
    "duration": 277,
    "start_time": "2021-12-26T15:23:23.480Z"
   },
   {
    "duration": 410,
    "start_time": "2021-12-26T15:23:23.759Z"
   },
   {
    "duration": 338,
    "start_time": "2021-12-26T15:23:29.579Z"
   },
   {
    "duration": 318,
    "start_time": "2021-12-26T15:24:00.439Z"
   },
   {
    "duration": 299,
    "start_time": "2021-12-26T15:24:27.550Z"
   },
   {
    "duration": 292,
    "start_time": "2021-12-26T15:24:32.420Z"
   },
   {
    "duration": 305,
    "start_time": "2021-12-26T15:24:49.951Z"
   },
   {
    "duration": 285,
    "start_time": "2021-12-26T15:25:07.729Z"
   },
   {
    "duration": 284,
    "start_time": "2021-12-26T15:25:26.920Z"
   },
   {
    "duration": 4909,
    "start_time": "2021-12-26T15:27:59.630Z"
   },
   {
    "duration": 269,
    "start_time": "2021-12-26T15:31:28.050Z"
   },
   {
    "duration": 269,
    "start_time": "2021-12-26T15:31:35.360Z"
   },
   {
    "duration": 276,
    "start_time": "2021-12-26T15:31:38.610Z"
   },
   {
    "duration": 298,
    "start_time": "2021-12-26T15:31:49.229Z"
   },
   {
    "duration": 297,
    "start_time": "2021-12-26T15:31:52.560Z"
   },
   {
    "duration": 310,
    "start_time": "2021-12-26T15:32:02.490Z"
   },
   {
    "duration": 178,
    "start_time": "2021-12-26T15:32:23.348Z"
   },
   {
    "duration": 293,
    "start_time": "2021-12-26T15:32:27.380Z"
   },
   {
    "duration": 325,
    "start_time": "2021-12-26T15:34:27.152Z"
   },
   {
    "duration": 261,
    "start_time": "2021-12-26T15:34:39.861Z"
   },
   {
    "duration": 263,
    "start_time": "2021-12-26T15:35:20.177Z"
   },
   {
    "duration": 254,
    "start_time": "2021-12-26T15:35:28.039Z"
   },
   {
    "duration": 251,
    "start_time": "2021-12-26T15:35:41.949Z"
   },
   {
    "duration": 253,
    "start_time": "2021-12-26T15:35:47.560Z"
   },
   {
    "duration": 258,
    "start_time": "2021-12-26T15:35:57.109Z"
   },
   {
    "duration": 266,
    "start_time": "2021-12-26T15:36:29.708Z"
   },
   {
    "duration": 260,
    "start_time": "2021-12-26T15:38:22.616Z"
   },
   {
    "duration": 52,
    "start_time": "2021-12-26T15:38:30.369Z"
   },
   {
    "duration": 254,
    "start_time": "2021-12-26T15:38:32.620Z"
   },
   {
    "duration": 255,
    "start_time": "2021-12-26T15:38:36.920Z"
   },
   {
    "duration": 602,
    "start_time": "2021-12-26T15:40:24.428Z"
   },
   {
    "duration": 441,
    "start_time": "2021-12-26T15:40:25.032Z"
   },
   {
    "duration": 3,
    "start_time": "2021-12-26T15:40:25.475Z"
   },
   {
    "duration": 353,
    "start_time": "2021-12-26T15:40:25.481Z"
   },
   {
    "duration": 63,
    "start_time": "2021-12-26T15:40:25.835Z"
   },
   {
    "duration": 24,
    "start_time": "2021-12-26T15:40:25.900Z"
   },
   {
    "duration": 86,
    "start_time": "2021-12-26T15:40:25.925Z"
   },
   {
    "duration": 6,
    "start_time": "2021-12-26T15:40:26.012Z"
   },
   {
    "duration": 673,
    "start_time": "2021-12-26T15:40:26.020Z"
   },
   {
    "duration": 82,
    "start_time": "2021-12-26T15:40:26.695Z"
   },
   {
    "duration": 257,
    "start_time": "2021-12-26T15:40:26.778Z"
   },
   {
    "duration": 494,
    "start_time": "2021-12-26T15:40:27.037Z"
   },
   {
    "duration": 678,
    "start_time": "2021-12-26T15:40:26.854Z"
   },
   {
    "duration": 251,
    "start_time": "2021-12-26T15:40:47.188Z"
   },
   {
    "duration": 49,
    "start_time": "2021-12-26T15:46:13.697Z"
   },
   {
    "duration": 42,
    "start_time": "2021-12-26T15:46:22.624Z"
   },
   {
    "duration": 28,
    "start_time": "2021-12-26T15:46:58.227Z"
   },
   {
    "duration": 29,
    "start_time": "2021-12-26T15:47:14.727Z"
   },
   {
    "duration": 27,
    "start_time": "2021-12-26T15:47:18.837Z"
   },
   {
    "duration": 31,
    "start_time": "2021-12-26T15:47:29.397Z"
   },
   {
    "duration": 4,
    "start_time": "2021-12-26T15:47:52.099Z"
   },
   {
    "duration": 3,
    "start_time": "2021-12-26T15:47:58.049Z"
   },
   {
    "duration": 10,
    "start_time": "2021-12-26T15:48:01.607Z"
   },
   {
    "duration": 50,
    "start_time": "2021-12-26T15:48:06.787Z"
   },
   {
    "duration": 4,
    "start_time": "2021-12-26T15:48:09.387Z"
   },
   {
    "duration": 46,
    "start_time": "2021-12-26T15:51:15.267Z"
   },
   {
    "duration": 4,
    "start_time": "2021-12-26T15:58:37.323Z"
   },
   {
    "duration": 4,
    "start_time": "2021-12-26T15:58:42.823Z"
   },
   {
    "duration": 5,
    "start_time": "2021-12-26T15:58:48.307Z"
   },
   {
    "duration": 4,
    "start_time": "2021-12-26T15:58:51.523Z"
   },
   {
    "duration": 4,
    "start_time": "2021-12-26T15:58:54.843Z"
   },
   {
    "duration": 4,
    "start_time": "2021-12-26T15:58:59.812Z"
   },
   {
    "duration": 4,
    "start_time": "2021-12-26T15:59:02.770Z"
   },
   {
    "duration": 391,
    "start_time": "2021-12-26T15:59:33.043Z"
   },
   {
    "duration": 134,
    "start_time": "2021-12-26T15:59:38.273Z"
   },
   {
    "duration": 3,
    "start_time": "2021-12-26T15:59:47.211Z"
   },
   {
    "duration": 137,
    "start_time": "2021-12-26T15:59:50.693Z"
   },
   {
    "duration": 4,
    "start_time": "2021-12-26T16:00:56.423Z"
   },
   {
    "duration": 5,
    "start_time": "2021-12-26T16:01:04.253Z"
   },
   {
    "duration": 56,
    "start_time": "2021-12-26T16:23:45.640Z"
   },
   {
    "duration": 48,
    "start_time": "2021-12-26T16:24:11.153Z"
   },
   {
    "duration": 276,
    "start_time": "2021-12-26T16:24:21.112Z"
   },
   {
    "duration": 44,
    "start_time": "2021-12-26T16:24:24.720Z"
   },
   {
    "duration": 43,
    "start_time": "2021-12-26T16:25:16.480Z"
   },
   {
    "duration": 134,
    "start_time": "2021-12-26T16:28:32.252Z"
   },
   {
    "duration": 2,
    "start_time": "2021-12-26T16:28:35.932Z"
   },
   {
    "duration": 6,
    "start_time": "2021-12-26T16:28:37.693Z"
   },
   {
    "duration": 4,
    "start_time": "2021-12-26T16:28:45.932Z"
   },
   {
    "duration": 3,
    "start_time": "2021-12-26T16:28:57.932Z"
   },
   {
    "duration": 4,
    "start_time": "2021-12-26T16:29:00.753Z"
   },
   {
    "duration": 3,
    "start_time": "2021-12-26T16:29:14.811Z"
   },
   {
    "duration": 4,
    "start_time": "2021-12-26T16:29:19.311Z"
   },
   {
    "duration": 273,
    "start_time": "2021-12-26T16:29:38.432Z"
   },
   {
    "duration": 6,
    "start_time": "2021-12-26T16:29:43.152Z"
   },
   {
    "duration": 6,
    "start_time": "2021-12-26T16:29:45.693Z"
   },
   {
    "duration": 4,
    "start_time": "2021-12-26T16:29:50.432Z"
   },
   {
    "duration": 286,
    "start_time": "2021-12-26T16:30:27.458Z"
   },
   {
    "duration": 277,
    "start_time": "2021-12-26T16:32:01.373Z"
   },
   {
    "duration": 29,
    "start_time": "2021-12-26T16:32:13.872Z"
   },
   {
    "duration": 28,
    "start_time": "2021-12-26T16:32:26.453Z"
   },
   {
    "duration": 254,
    "start_time": "2021-12-26T16:32:42.452Z"
   },
   {
    "duration": 240,
    "start_time": "2021-12-26T16:33:33.107Z"
   },
   {
    "duration": 246,
    "start_time": "2021-12-26T16:33:44.660Z"
   },
   {
    "duration": 47,
    "start_time": "2021-12-26T16:37:04.592Z"
   },
   {
    "duration": 3,
    "start_time": "2021-12-26T16:37:17.953Z"
   },
   {
    "duration": 247,
    "start_time": "2021-12-26T16:37:25.852Z"
   },
   {
    "duration": 267,
    "start_time": "2021-12-26T16:37:33.012Z"
   },
   {
    "duration": 277,
    "start_time": "2021-12-26T16:37:49.232Z"
   },
   {
    "duration": 4,
    "start_time": "2021-12-26T16:37:56.632Z"
   },
   {
    "duration": 5,
    "start_time": "2021-12-26T16:38:06.692Z"
   },
   {
    "duration": 4,
    "start_time": "2021-12-26T16:39:17.572Z"
   },
   {
    "duration": 4,
    "start_time": "2021-12-26T16:39:30.413Z"
   },
   {
    "duration": 4,
    "start_time": "2021-12-26T16:39:37.472Z"
   },
   {
    "duration": 105,
    "start_time": "2021-12-26T16:39:44.554Z"
   },
   {
    "duration": 4,
    "start_time": "2021-12-26T16:40:37.760Z"
   },
   {
    "duration": 103,
    "start_time": "2021-12-26T16:40:39.452Z"
   },
   {
    "duration": 3,
    "start_time": "2021-12-26T16:41:27.560Z"
   },
   {
    "duration": 106,
    "start_time": "2021-12-26T16:42:00.213Z"
   },
   {
    "duration": 101,
    "start_time": "2021-12-26T16:42:36.152Z"
   },
   {
    "duration": 105,
    "start_time": "2021-12-26T16:42:47.133Z"
   },
   {
    "duration": 4,
    "start_time": "2021-12-26T16:43:08.973Z"
   },
   {
    "duration": 237,
    "start_time": "2021-12-26T16:43:11.273Z"
   },
   {
    "duration": 240,
    "start_time": "2021-12-26T16:43:19.252Z"
   },
   {
    "duration": 2065,
    "start_time": "2021-12-26T16:44:19.187Z"
   },
   {
    "duration": 396,
    "start_time": "2021-12-26T16:44:30.761Z"
   },
   {
    "duration": 137,
    "start_time": "2021-12-26T16:46:16.332Z"
   },
   {
    "duration": 528,
    "start_time": "2021-12-26T16:46:21.852Z"
   },
   {
    "duration": 140,
    "start_time": "2021-12-26T16:46:34.852Z"
   },
   {
    "duration": 134,
    "start_time": "2021-12-26T16:46:42.473Z"
   },
   {
    "duration": 5,
    "start_time": "2021-12-26T16:47:55.871Z"
   },
   {
    "duration": 3,
    "start_time": "2021-12-26T16:48:18.361Z"
   },
   {
    "duration": 4,
    "start_time": "2021-12-26T16:48:20.880Z"
   },
   {
    "duration": 3,
    "start_time": "2021-12-26T16:48:54.891Z"
   },
   {
    "duration": 4,
    "start_time": "2021-12-26T16:48:57.360Z"
   },
   {
    "duration": 3,
    "start_time": "2021-12-26T16:49:10.621Z"
   },
   {
    "duration": 4,
    "start_time": "2021-12-26T16:49:12.390Z"
   },
   {
    "duration": 4,
    "start_time": "2021-12-26T16:49:17.660Z"
   },
   {
    "duration": 4,
    "start_time": "2021-12-26T16:49:21.512Z"
   },
   {
    "duration": 249,
    "start_time": "2021-12-26T16:49:29.189Z"
   },
   {
    "duration": 245,
    "start_time": "2021-12-26T16:49:43.031Z"
   },
   {
    "duration": 4,
    "start_time": "2021-12-26T16:49:58.160Z"
   },
   {
    "duration": 3,
    "start_time": "2021-12-26T16:50:00.621Z"
   },
   {
    "duration": 236,
    "start_time": "2021-12-26T16:50:03.020Z"
   },
   {
    "duration": 4,
    "start_time": "2021-12-26T16:51:44.951Z"
   },
   {
    "duration": 4,
    "start_time": "2021-12-26T16:51:58.810Z"
   },
   {
    "duration": 4,
    "start_time": "2021-12-26T16:52:34.600Z"
   },
   {
    "duration": 4,
    "start_time": "2021-12-26T16:52:43.351Z"
   },
   {
    "duration": 4,
    "start_time": "2021-12-26T16:53:05.319Z"
   },
   {
    "duration": 4,
    "start_time": "2021-12-26T16:53:55.002Z"
   },
   {
    "duration": 46,
    "start_time": "2021-12-26T16:57:23.224Z"
   },
   {
    "duration": 3,
    "start_time": "2021-12-26T16:57:25.233Z"
   },
   {
    "duration": 41,
    "start_time": "2021-12-26T16:57:28.655Z"
   },
   {
    "duration": 3,
    "start_time": "2021-12-26T16:57:35.025Z"
   },
   {
    "duration": 250,
    "start_time": "2021-12-26T16:57:39.195Z"
   },
   {
    "duration": 3,
    "start_time": "2021-12-26T16:57:49.194Z"
   },
   {
    "duration": 3,
    "start_time": "2021-12-26T16:57:51.375Z"
   },
   {
    "duration": 3,
    "start_time": "2021-12-26T17:00:08.495Z"
   },
   {
    "duration": 3,
    "start_time": "2021-12-26T17:00:15.735Z"
   },
   {
    "duration": 3,
    "start_time": "2021-12-26T17:00:17.577Z"
   },
   {
    "duration": 4,
    "start_time": "2021-12-26T17:00:21.786Z"
   },
   {
    "duration": 4,
    "start_time": "2021-12-26T17:00:28.655Z"
   },
   {
    "duration": 4,
    "start_time": "2021-12-26T17:00:33.076Z"
   },
   {
    "duration": 4,
    "start_time": "2021-12-26T17:00:36.155Z"
   },
   {
    "duration": 4,
    "start_time": "2021-12-26T17:00:38.835Z"
   },
   {
    "duration": 4,
    "start_time": "2021-12-26T17:00:43.206Z"
   },
   {
    "duration": 4,
    "start_time": "2021-12-26T17:00:45.665Z"
   },
   {
    "duration": 4,
    "start_time": "2021-12-26T17:00:49.843Z"
   },
   {
    "duration": 6,
    "start_time": "2021-12-26T17:08:53.466Z"
   },
   {
    "duration": 599,
    "start_time": "2021-12-26T17:08:57.814Z"
   },
   {
    "duration": 6,
    "start_time": "2021-12-26T17:09:53.812Z"
   },
   {
    "duration": 865,
    "start_time": "2021-12-26T17:09:56.115Z"
   },
   {
    "duration": 6,
    "start_time": "2021-12-26T17:10:18.124Z"
   },
   {
    "duration": 262,
    "start_time": "2021-12-26T17:10:19.784Z"
   },
   {
    "duration": 6,
    "start_time": "2021-12-26T17:10:59.271Z"
   },
   {
    "duration": 7,
    "start_time": "2021-12-26T17:11:09.624Z"
   },
   {
    "duration": 269,
    "start_time": "2021-12-26T17:11:11.324Z"
   },
   {
    "duration": 5,
    "start_time": "2021-12-26T17:11:40.590Z"
   },
   {
    "duration": 246,
    "start_time": "2021-12-26T17:11:42.033Z"
   },
   {
    "duration": 6,
    "start_time": "2021-12-26T17:12:21.549Z"
   },
   {
    "duration": 250,
    "start_time": "2021-12-26T17:12:23.031Z"
   },
   {
    "duration": 6,
    "start_time": "2021-12-26T17:12:36.615Z"
   },
   {
    "duration": 264,
    "start_time": "2021-12-26T17:12:39.673Z"
   },
   {
    "duration": 5,
    "start_time": "2021-12-26T17:12:48.573Z"
   },
   {
    "duration": 259,
    "start_time": "2021-12-26T17:12:51.722Z"
   },
   {
    "duration": 241,
    "start_time": "2021-12-26T17:12:58.204Z"
   },
   {
    "duration": 234,
    "start_time": "2021-12-26T17:14:13.862Z"
   },
   {
    "duration": 6,
    "start_time": "2021-12-26T17:14:50.723Z"
   },
   {
    "duration": 435,
    "start_time": "2021-12-26T17:25:32.190Z"
   },
   {
    "duration": 596,
    "start_time": "2021-12-26T17:25:41.131Z"
   },
   {
    "duration": 1664,
    "start_time": "2021-12-26T17:25:41.729Z"
   },
   {
    "duration": 4,
    "start_time": "2021-12-26T17:25:43.395Z"
   },
   {
    "duration": 433,
    "start_time": "2021-12-26T17:25:43.401Z"
   },
   {
    "duration": 62,
    "start_time": "2021-12-26T17:25:43.836Z"
   },
   {
    "duration": 23,
    "start_time": "2021-12-26T17:25:43.900Z"
   },
   {
    "duration": 85,
    "start_time": "2021-12-26T17:25:43.925Z"
   },
   {
    "duration": 6,
    "start_time": "2021-12-26T17:25:44.012Z"
   },
   {
    "duration": 684,
    "start_time": "2021-12-26T17:25:44.019Z"
   },
   {
    "duration": 98,
    "start_time": "2021-12-26T17:25:44.705Z"
   },
   {
    "duration": 253,
    "start_time": "2021-12-26T17:25:44.804Z"
   },
   {
    "duration": 517,
    "start_time": "2021-12-26T17:25:45.059Z"
   },
   {
    "duration": 439,
    "start_time": "2021-12-26T17:25:45.139Z"
   },
   {
    "duration": 432,
    "start_time": "2021-12-26T17:25:45.147Z"
   },
   {
    "duration": 92,
    "start_time": "2021-12-26T17:27:21.642Z"
   },
   {
    "duration": 17,
    "start_time": "2021-12-26T17:27:23.639Z"
   },
   {
    "duration": 264,
    "start_time": "2021-12-26T17:27:37.309Z"
   },
   {
    "duration": 648,
    "start_time": "2021-12-26T17:27:43.287Z"
   },
   {
    "duration": 447,
    "start_time": "2021-12-26T17:27:43.937Z"
   },
   {
    "duration": 4,
    "start_time": "2021-12-26T17:27:44.386Z"
   },
   {
    "duration": 410,
    "start_time": "2021-12-26T17:27:44.392Z"
   },
   {
    "duration": 9,
    "start_time": "2021-12-26T17:27:44.804Z"
   },
   {
    "duration": 28,
    "start_time": "2021-12-26T17:27:44.815Z"
   },
   {
    "duration": 99,
    "start_time": "2021-12-26T17:27:44.845Z"
   },
   {
    "duration": 7,
    "start_time": "2021-12-26T17:27:44.947Z"
   },
   {
    "duration": 694,
    "start_time": "2021-12-26T17:27:44.956Z"
   },
   {
    "duration": 96,
    "start_time": "2021-12-26T17:27:45.652Z"
   },
   {
    "duration": 253,
    "start_time": "2021-12-26T17:27:45.750Z"
   },
   {
    "duration": 309,
    "start_time": "2021-12-26T17:27:46.006Z"
   },
   {
    "duration": 5,
    "start_time": "2021-12-26T17:27:46.316Z"
   },
   {
    "duration": 257,
    "start_time": "2021-12-26T17:27:46.322Z"
   },
   {
    "duration": 6,
    "start_time": "2021-12-26T17:28:34.427Z"
   },
   {
    "duration": 10,
    "start_time": "2021-12-26T17:29:16.116Z"
   },
   {
    "duration": 7,
    "start_time": "2021-12-26T17:29:53.026Z"
   },
   {
    "duration": 7,
    "start_time": "2021-12-26T17:29:55.681Z"
   },
   {
    "duration": 6,
    "start_time": "2021-12-26T17:30:41.226Z"
   },
   {
    "duration": 242,
    "start_time": "2021-12-26T17:30:45.656Z"
   },
   {
    "duration": 242,
    "start_time": "2021-12-27T17:58:47.116Z"
   },
   {
    "duration": 602,
    "start_time": "2021-12-27T17:58:52.052Z"
   },
   {
    "duration": 425,
    "start_time": "2021-12-27T17:58:52.656Z"
   },
   {
    "duration": 4,
    "start_time": "2021-12-27T17:58:53.083Z"
   },
   {
    "duration": 405,
    "start_time": "2021-12-27T17:58:53.089Z"
   },
   {
    "duration": 9,
    "start_time": "2021-12-27T17:58:53.496Z"
   },
   {
    "duration": 24,
    "start_time": "2021-12-27T17:58:53.507Z"
   },
   {
    "duration": 83,
    "start_time": "2021-12-27T17:58:53.533Z"
   },
   {
    "duration": 7,
    "start_time": "2021-12-27T17:58:53.618Z"
   },
   {
    "duration": 658,
    "start_time": "2021-12-27T17:58:53.627Z"
   },
   {
    "duration": 85,
    "start_time": "2021-12-27T17:58:54.287Z"
   },
   {
    "duration": 253,
    "start_time": "2021-12-27T17:58:54.374Z"
   },
   {
    "duration": 296,
    "start_time": "2021-12-27T17:58:54.629Z"
   },
   {
    "duration": 4,
    "start_time": "2021-12-27T17:58:54.926Z"
   },
   {
    "duration": 260,
    "start_time": "2021-12-27T17:58:54.932Z"
   },
   {
    "duration": 6,
    "start_time": "2021-12-27T17:58:55.194Z"
   },
   {
    "duration": 48,
    "start_time": "2021-12-27T17:58:55.201Z"
   },
   {
    "duration": 32,
    "start_time": "2021-12-27T17:59:57.853Z"
   },
   {
    "duration": 44,
    "start_time": "2021-12-27T18:00:35.013Z"
   },
   {
    "duration": 15,
    "start_time": "2021-12-27T18:01:25.312Z"
   },
   {
    "duration": 52,
    "start_time": "2021-12-27T18:01:31.912Z"
   },
   {
    "duration": 30,
    "start_time": "2021-12-27T18:02:07.620Z"
   },
   {
    "duration": 21,
    "start_time": "2021-12-27T18:12:03.765Z"
   },
   {
    "duration": 25,
    "start_time": "2021-12-27T18:12:19.285Z"
   },
   {
    "duration": 28,
    "start_time": "2021-12-27T18:12:40.103Z"
   },
   {
    "duration": 22,
    "start_time": "2021-12-27T18:13:38.465Z"
   },
   {
    "duration": 193,
    "start_time": "2021-12-27T18:17:50.065Z"
   },
   {
    "duration": 139,
    "start_time": "2021-12-27T18:18:06.069Z"
   },
   {
    "duration": 146,
    "start_time": "2021-12-27T18:18:09.584Z"
   },
   {
    "duration": 3261,
    "start_time": "2021-12-27T18:18:17.124Z"
   },
   {
    "duration": 200,
    "start_time": "2021-12-27T18:18:49.464Z"
   },
   {
    "duration": 191,
    "start_time": "2021-12-27T18:18:57.825Z"
   },
   {
    "duration": 194,
    "start_time": "2021-12-27T18:19:07.025Z"
   },
   {
    "duration": -297,
    "start_time": "2021-12-27T18:19:20.790Z"
   },
   {
    "duration": 24,
    "start_time": "2021-12-27T18:19:23.606Z"
   },
   {
    "duration": 228,
    "start_time": "2021-12-27T18:19:39.785Z"
   },
   {
    "duration": 185,
    "start_time": "2021-12-27T18:19:53.405Z"
   },
   {
    "duration": 184,
    "start_time": "2021-12-27T18:20:01.305Z"
   },
   {
    "duration": 177,
    "start_time": "2021-12-27T18:20:06.025Z"
   },
   {
    "duration": 197,
    "start_time": "2021-12-27T18:20:13.325Z"
   },
   {
    "duration": 184,
    "start_time": "2021-12-27T18:20:18.185Z"
   },
   {
    "duration": 179,
    "start_time": "2021-12-27T18:20:23.740Z"
   },
   {
    "duration": 41,
    "start_time": "2021-12-27T18:20:28.961Z"
   },
   {
    "duration": 176,
    "start_time": "2021-12-27T18:20:33.684Z"
   },
   {
    "duration": 180,
    "start_time": "2021-12-27T18:21:20.525Z"
   },
   {
    "duration": 177,
    "start_time": "2021-12-27T18:22:38.765Z"
   },
   {
    "duration": 196,
    "start_time": "2021-12-27T18:22:45.585Z"
   },
   {
    "duration": 261,
    "start_time": "2021-12-27T18:22:53.904Z"
   },
   {
    "duration": 207,
    "start_time": "2021-12-27T18:23:48.425Z"
   },
   {
    "duration": 190,
    "start_time": "2021-12-27T18:23:53.585Z"
   },
   {
    "duration": 185,
    "start_time": "2021-12-27T18:24:05.645Z"
   },
   {
    "duration": 192,
    "start_time": "2021-12-27T18:24:23.465Z"
   },
   {
    "duration": 182,
    "start_time": "2021-12-27T18:25:08.504Z"
   },
   {
    "duration": 369,
    "start_time": "2021-12-28T07:02:11.258Z"
   },
   {
    "duration": 873,
    "start_time": "2021-12-28T07:02:15.252Z"
   },
   {
    "duration": 596,
    "start_time": "2021-12-28T07:02:16.128Z"
   },
   {
    "duration": 5,
    "start_time": "2021-12-28T07:02:16.727Z"
   },
   {
    "duration": 557,
    "start_time": "2021-12-28T07:02:16.734Z"
   },
   {
    "duration": 12,
    "start_time": "2021-12-28T07:02:17.293Z"
   },
   {
    "duration": 81,
    "start_time": "2021-12-28T07:02:17.307Z"
   },
   {
    "duration": 111,
    "start_time": "2021-12-28T07:02:17.390Z"
   },
   {
    "duration": 8,
    "start_time": "2021-12-28T07:02:17.504Z"
   },
   {
    "duration": 968,
    "start_time": "2021-12-28T07:02:17.515Z"
   },
   {
    "duration": 123,
    "start_time": "2021-12-28T07:02:18.485Z"
   },
   {
    "duration": 409,
    "start_time": "2021-12-28T07:02:18.610Z"
   },
   {
    "duration": 481,
    "start_time": "2021-12-28T07:02:19.022Z"
   },
   {
    "duration": 6,
    "start_time": "2021-12-28T07:02:19.506Z"
   },
   {
    "duration": 453,
    "start_time": "2021-12-28T07:02:19.515Z"
   },
   {
    "duration": 8,
    "start_time": "2021-12-28T07:02:19.970Z"
   },
   {
    "duration": 35,
    "start_time": "2021-12-28T07:02:19.980Z"
   },
   {
    "duration": 304,
    "start_time": "2021-12-28T07:02:20.017Z"
   },
   {
    "duration": 331,
    "start_time": "2021-12-28T07:02:20.324Z"
   },
   {
    "duration": 316,
    "start_time": "2021-12-28T07:02:20.661Z"
   },
   {
    "duration": 366,
    "start_time": "2021-12-28T07:02:20.979Z"
   },
   {
    "duration": 276,
    "start_time": "2021-12-28T07:02:40.900Z"
   },
   {
    "duration": 279,
    "start_time": "2021-12-28T07:02:43.908Z"
   },
   {
    "duration": 285,
    "start_time": "2021-12-28T07:26:35.660Z"
   },
   {
    "duration": 283,
    "start_time": "2021-12-28T07:48:53.668Z"
   },
   {
    "duration": 303,
    "start_time": "2021-12-28T07:48:57.620Z"
   },
   {
    "duration": 306,
    "start_time": "2021-12-28T07:51:18.059Z"
   },
   {
    "duration": 293,
    "start_time": "2021-12-28T07:51:24.660Z"
   },
   {
    "duration": 311,
    "start_time": "2021-12-28T07:51:29.440Z"
   },
   {
    "duration": 291,
    "start_time": "2021-12-28T07:51:37.252Z"
   },
   {
    "duration": 301,
    "start_time": "2021-12-28T07:51:40.880Z"
   },
   {
    "duration": 506,
    "start_time": "2021-12-28T07:57:57.691Z"
   },
   {
    "duration": 351,
    "start_time": "2021-12-28T07:58:25.859Z"
   },
   {
    "duration": 663,
    "start_time": "2021-12-28T07:58:49.299Z"
   },
   {
    "duration": 336,
    "start_time": "2021-12-28T07:59:44.819Z"
   },
   {
    "duration": 360,
    "start_time": "2021-12-28T08:00:10.151Z"
   },
   {
    "duration": 356,
    "start_time": "2021-12-28T08:00:15.160Z"
   },
   {
    "duration": 84,
    "start_time": "2021-12-28T08:00:26.451Z"
   },
   {
    "duration": 264,
    "start_time": "2021-12-28T08:00:29.732Z"
   },
   {
    "duration": 347,
    "start_time": "2021-12-28T08:00:35.059Z"
   },
   {
    "duration": 334,
    "start_time": "2021-12-28T08:00:40.478Z"
   },
   {
    "duration": 436,
    "start_time": "2021-12-28T08:00:44.972Z"
   },
   {
    "duration": 630,
    "start_time": "2021-12-28T08:00:50.619Z"
   },
   {
    "duration": 815,
    "start_time": "2021-12-28T08:00:58.779Z"
   },
   {
    "duration": 289,
    "start_time": "2021-12-28T08:01:07.859Z"
   },
   {
    "duration": 286,
    "start_time": "2021-12-28T08:01:14.579Z"
   },
   {
    "duration": 304,
    "start_time": "2021-12-28T08:01:21.651Z"
   },
   {
    "duration": 335,
    "start_time": "2021-12-28T08:01:29.650Z"
   },
   {
    "duration": 290,
    "start_time": "2021-12-28T08:01:37.979Z"
   },
   {
    "duration": 355,
    "start_time": "2021-12-28T08:01:47.552Z"
   },
   {
    "duration": 334,
    "start_time": "2021-12-28T08:02:01.531Z"
   },
   {
    "duration": 484,
    "start_time": "2021-12-28T08:02:48.539Z"
   },
   {
    "duration": 322,
    "start_time": "2021-12-28T08:04:09.232Z"
   },
   {
    "duration": 716,
    "start_time": "2022-01-11T08:19:27.213Z"
   },
   {
    "duration": 490,
    "start_time": "2022-01-11T08:19:27.931Z"
   },
   {
    "duration": 4,
    "start_time": "2022-01-11T08:19:28.423Z"
   },
   {
    "duration": 437,
    "start_time": "2022-01-11T08:19:28.429Z"
   },
   {
    "duration": 9,
    "start_time": "2022-01-11T08:19:28.868Z"
   },
   {
    "duration": 74,
    "start_time": "2022-01-11T08:19:28.879Z"
   },
   {
    "duration": 62,
    "start_time": "2022-01-11T08:19:28.955Z"
   },
   {
    "duration": 21,
    "start_time": "2022-01-11T08:19:29.020Z"
   },
   {
    "duration": 683,
    "start_time": "2022-01-11T08:19:29.043Z"
   },
   {
    "duration": 95,
    "start_time": "2022-01-11T08:19:29.728Z"
   },
   {
    "duration": 260,
    "start_time": "2022-01-11T08:19:29.826Z"
   },
   {
    "duration": 295,
    "start_time": "2022-01-11T08:19:30.088Z"
   },
   {
    "duration": 5,
    "start_time": "2022-01-11T08:19:30.384Z"
   },
   {
    "duration": 352,
    "start_time": "2022-01-11T08:19:30.390Z"
   },
   {
    "duration": 7,
    "start_time": "2022-01-11T08:19:30.744Z"
   },
   {
    "duration": 690,
    "start_time": "2022-01-11T08:19:30.753Z"
   },
   {
    "duration": 144054,
    "start_time": "2022-01-11T08:17:07.390Z"
   },
   {
    "duration": 144051,
    "start_time": "2022-01-11T08:17:07.395Z"
   },
   {
    "duration": 144043,
    "start_time": "2022-01-11T08:17:07.404Z"
   },
   {
    "duration": 144042,
    "start_time": "2022-01-11T08:17:07.406Z"
   },
   {
    "duration": 610,
    "start_time": "2022-01-11T08:41:53.777Z"
   },
   {
    "duration": 464,
    "start_time": "2022-01-11T08:41:54.389Z"
   },
   {
    "duration": 5,
    "start_time": "2022-01-11T08:41:54.856Z"
   },
   {
    "duration": 485,
    "start_time": "2022-01-11T08:41:54.863Z"
   },
   {
    "duration": 9,
    "start_time": "2022-01-11T08:41:55.349Z"
   },
   {
    "duration": 29,
    "start_time": "2022-01-11T08:41:55.360Z"
   },
   {
    "duration": 86,
    "start_time": "2022-01-11T08:41:55.391Z"
   },
   {
    "duration": 6,
    "start_time": "2022-01-11T08:41:55.479Z"
   },
   {
    "duration": 704,
    "start_time": "2022-01-11T08:41:55.487Z"
   },
   {
    "duration": 342,
    "start_time": "2022-01-11T08:41:56.193Z"
   },
   {
    "duration": 143900,
    "start_time": "2022-01-11T08:39:32.637Z"
   },
   {
    "duration": 143888,
    "start_time": "2022-01-11T08:39:32.650Z"
   },
   {
    "duration": 143886,
    "start_time": "2022-01-11T08:39:32.653Z"
   },
   {
    "duration": 143879,
    "start_time": "2022-01-11T08:39:32.661Z"
   },
   {
    "duration": 143876,
    "start_time": "2022-01-11T08:39:32.664Z"
   },
   {
    "duration": 143875,
    "start_time": "2022-01-11T08:39:32.666Z"
   },
   {
    "duration": 143875,
    "start_time": "2022-01-11T08:39:32.667Z"
   },
   {
    "duration": 143875,
    "start_time": "2022-01-11T08:39:32.668Z"
   },
   {
    "duration": 143872,
    "start_time": "2022-01-11T08:39:32.671Z"
   },
   {
    "duration": 143868,
    "start_time": "2022-01-11T08:39:32.676Z"
   },
   {
    "duration": 84,
    "start_time": "2022-01-11T08:42:31.408Z"
   },
   {
    "duration": 278,
    "start_time": "2022-01-11T08:42:42.320Z"
   },
   {
    "duration": 327,
    "start_time": "2022-01-11T08:45:48.619Z"
   },
   {
    "duration": 288,
    "start_time": "2022-01-11T08:46:03.380Z"
   },
   {
    "duration": 76,
    "start_time": "2022-01-11T08:46:12.465Z"
   },
   {
    "duration": 78,
    "start_time": "2022-01-11T08:46:17.635Z"
   },
   {
    "duration": 143892,
    "start_time": "2022-01-11T08:45:55.988Z"
   },
   {
    "duration": 143917,
    "start_time": "2022-01-11T08:46:10.634Z"
   },
   {
    "duration": 351,
    "start_time": "2022-01-11T08:48:39.873Z"
   },
   {
    "duration": 314,
    "start_time": "2022-01-11T08:48:43.664Z"
   },
   {
    "duration": 455,
    "start_time": "2022-01-11T08:49:03.750Z"
   },
   {
    "duration": 278,
    "start_time": "2022-01-11T08:49:45.970Z"
   },
   {
    "duration": 80,
    "start_time": "2022-01-11T08:49:51.648Z"
   },
   {
    "duration": 82,
    "start_time": "2022-01-11T08:50:06.489Z"
   },
   {
    "duration": 85,
    "start_time": "2022-01-11T08:50:15.930Z"
   },
   {
    "duration": 80,
    "start_time": "2022-01-11T08:50:24.069Z"
   },
   {
    "duration": 352,
    "start_time": "2022-01-11T08:50:30.178Z"
   },
   {
    "duration": 81,
    "start_time": "2022-01-11T08:50:37.302Z"
   },
   {
    "duration": 266,
    "start_time": "2022-01-11T08:51:49.009Z"
   },
   {
    "duration": 75,
    "start_time": "2022-01-11T08:51:52.680Z"
   },
   {
    "duration": 81,
    "start_time": "2022-01-11T08:53:04.778Z"
   },
   {
    "duration": 82,
    "start_time": "2022-01-11T08:53:19.614Z"
   },
   {
    "duration": 78,
    "start_time": "2022-01-11T08:53:25.099Z"
   },
   {
    "duration": 85,
    "start_time": "2022-01-11T08:56:58.069Z"
   },
   {
    "duration": 87,
    "start_time": "2022-01-11T08:57:07.518Z"
   },
   {
    "duration": 80,
    "start_time": "2022-01-11T08:57:19.954Z"
   },
   {
    "duration": 85,
    "start_time": "2022-01-11T08:57:25.606Z"
   },
   {
    "duration": 90,
    "start_time": "2022-01-11T08:57:37.630Z"
   },
   {
    "duration": 85,
    "start_time": "2022-01-11T08:57:42.909Z"
   },
   {
    "duration": 63,
    "start_time": "2022-01-11T08:57:49.280Z"
   },
   {
    "duration": 85,
    "start_time": "2022-01-11T08:57:55.710Z"
   },
   {
    "duration": 82,
    "start_time": "2022-01-11T08:58:43.303Z"
   },
   {
    "duration": 261,
    "start_time": "2022-01-12T07:59:22.208Z"
   },
   {
    "duration": 651,
    "start_time": "2022-01-12T07:59:33.268Z"
   },
   {
    "duration": 429,
    "start_time": "2022-01-12T07:59:33.921Z"
   },
   {
    "duration": 3,
    "start_time": "2022-01-12T07:59:34.352Z"
   },
   {
    "duration": 336,
    "start_time": "2022-01-12T07:59:34.357Z"
   },
   {
    "duration": 8,
    "start_time": "2022-01-12T07:59:34.695Z"
   },
   {
    "duration": 74,
    "start_time": "2022-01-12T07:59:34.704Z"
   },
   {
    "duration": 64,
    "start_time": "2022-01-12T07:59:34.780Z"
   },
   {
    "duration": 14,
    "start_time": "2022-01-12T07:59:34.846Z"
   },
   {
    "duration": 656,
    "start_time": "2022-01-12T07:59:34.862Z"
   },
   {
    "duration": 95,
    "start_time": "2022-01-12T07:59:35.520Z"
   },
   {
    "duration": 250,
    "start_time": "2022-01-12T07:59:35.617Z"
   },
   {
    "duration": 302,
    "start_time": "2022-01-12T07:59:35.869Z"
   },
   {
    "duration": 4,
    "start_time": "2022-01-12T07:59:36.173Z"
   },
   {
    "duration": 262,
    "start_time": "2022-01-12T07:59:36.178Z"
   },
   {
    "duration": 6,
    "start_time": "2022-01-12T07:59:36.442Z"
   },
   {
    "duration": 88,
    "start_time": "2022-01-12T07:59:36.450Z"
   },
   {
    "duration": 140965,
    "start_time": "2022-01-12T07:57:15.575Z"
   },
   {
    "duration": 140963,
    "start_time": "2022-01-12T07:57:15.578Z"
   },
   {
    "duration": 140962,
    "start_time": "2022-01-12T07:57:15.580Z"
   },
   {
    "duration": 140961,
    "start_time": "2022-01-12T07:57:15.583Z"
   },
   {
    "duration": 106,
    "start_time": "2022-01-12T08:03:04.768Z"
   },
   {
    "duration": 23,
    "start_time": "2022-01-12T08:05:31.250Z"
   },
   {
    "duration": 25,
    "start_time": "2022-01-12T08:06:03.801Z"
   },
   {
    "duration": 22,
    "start_time": "2022-01-12T08:11:44.308Z"
   },
   {
    "duration": 11,
    "start_time": "2022-01-12T08:12:18.318Z"
   },
   {
    "duration": 12,
    "start_time": "2022-01-12T08:12:24.478Z"
   },
   {
    "duration": 12,
    "start_time": "2022-01-12T08:13:30.756Z"
   },
   {
    "duration": 271,
    "start_time": "2022-01-12T08:14:36.428Z"
   },
   {
    "duration": 233,
    "start_time": "2022-01-12T08:14:51.780Z"
   },
   {
    "duration": 213,
    "start_time": "2022-01-12T08:14:55.899Z"
   },
   {
    "duration": 228,
    "start_time": "2022-01-12T08:15:09.618Z"
   },
   {
    "duration": 212,
    "start_time": "2022-01-12T08:15:12.720Z"
   },
   {
    "duration": 6,
    "start_time": "2022-01-12T08:15:25.159Z"
   },
   {
    "duration": 7,
    "start_time": "2022-01-12T08:16:18.870Z"
   },
   {
    "duration": 6,
    "start_time": "2022-01-12T08:16:29.005Z"
   },
   {
    "duration": 6,
    "start_time": "2022-01-12T08:16:58.917Z"
   },
   {
    "duration": 183,
    "start_time": "2022-01-12T08:34:13.810Z"
   },
   {
    "duration": 210,
    "start_time": "2022-01-12T08:34:17.338Z"
   },
   {
    "duration": 256,
    "start_time": "2022-01-12T08:36:30.661Z"
   },
   {
    "duration": 296,
    "start_time": "2022-01-12T08:36:50.523Z"
   },
   {
    "duration": 13,
    "start_time": "2022-01-12T08:37:08.051Z"
   },
   {
    "duration": 202,
    "start_time": "2022-01-12T08:37:13.086Z"
   },
   {
    "duration": 13,
    "start_time": "2022-01-12T08:37:15.668Z"
   },
   {
    "duration": 12,
    "start_time": "2022-01-12T08:38:22.898Z"
   },
   {
    "duration": 13,
    "start_time": "2022-01-12T08:38:32.160Z"
   },
   {
    "duration": 13,
    "start_time": "2022-01-12T08:38:39.299Z"
   },
   {
    "duration": 13,
    "start_time": "2022-01-12T08:39:32.471Z"
   },
   {
    "duration": 19,
    "start_time": "2022-01-12T08:39:46.455Z"
   },
   {
    "duration": 14,
    "start_time": "2022-01-12T08:39:59.564Z"
   },
   {
    "duration": 13,
    "start_time": "2022-01-12T08:39:59.850Z"
   },
   {
    "duration": 13,
    "start_time": "2022-01-12T08:40:24.623Z"
   },
   {
    "duration": 623,
    "start_time": "2022-01-12T10:47:16.902Z"
   },
   {
    "duration": 430,
    "start_time": "2022-01-12T10:47:17.527Z"
   },
   {
    "duration": 4,
    "start_time": "2022-01-12T10:47:17.959Z"
   },
   {
    "duration": 417,
    "start_time": "2022-01-12T10:47:17.965Z"
   },
   {
    "duration": 10,
    "start_time": "2022-01-12T10:47:18.384Z"
   },
   {
    "duration": 26,
    "start_time": "2022-01-12T10:47:18.396Z"
   },
   {
    "duration": 67,
    "start_time": "2022-01-12T10:47:18.460Z"
   },
   {
    "duration": 7,
    "start_time": "2022-01-12T10:47:18.530Z"
   },
   {
    "duration": 695,
    "start_time": "2022-01-12T10:47:18.539Z"
   },
   {
    "duration": 269,
    "start_time": "2022-01-12T10:47:19.236Z"
   },
   {
    "duration": 310,
    "start_time": "2022-01-12T10:47:19.507Z"
   },
   {
    "duration": 4,
    "start_time": "2022-01-12T10:47:19.819Z"
   },
   {
    "duration": 294,
    "start_time": "2022-01-12T10:47:19.824Z"
   },
   {
    "duration": 6,
    "start_time": "2022-01-12T10:47:20.119Z"
   },
   {
    "duration": 38,
    "start_time": "2022-01-12T10:47:20.126Z"
   },
   {
    "duration": 12,
    "start_time": "2022-01-12T10:47:20.166Z"
   },
   {
    "duration": 210,
    "start_time": "2022-01-12T10:47:20.179Z"
   },
   {
    "duration": 223,
    "start_time": "2022-01-12T10:47:20.391Z"
   },
   {
    "duration": 209,
    "start_time": "2022-01-12T10:47:20.616Z"
   },
   {
    "duration": 262,
    "start_time": "2022-01-12T10:47:20.827Z"
   },
   {
    "duration": 14,
    "start_time": "2022-01-12T10:52:07.406Z"
   },
   {
    "duration": 14,
    "start_time": "2022-01-12T10:52:22.407Z"
   },
   {
    "duration": 20,
    "start_time": "2022-01-12T10:52:39.776Z"
   },
   {
    "duration": 314,
    "start_time": "2022-01-12T11:17:09.412Z"
   },
   {
    "duration": 678,
    "start_time": "2022-01-12T11:17:15.091Z"
   },
   {
    "duration": 218,
    "start_time": "2022-01-12T11:17:47.843Z"
   },
   {
    "duration": 243,
    "start_time": "2022-01-12T11:17:55.425Z"
   },
   {
    "duration": 227,
    "start_time": "2022-01-12T11:18:34.314Z"
   },
   {
    "duration": 354,
    "start_time": "2022-01-12T11:18:53.295Z"
   },
   {
    "duration": 211,
    "start_time": "2022-01-12T11:19:35.874Z"
   },
   {
    "duration": 209,
    "start_time": "2022-01-12T11:20:25.654Z"
   },
   {
    "duration": 215,
    "start_time": "2022-01-12T11:20:32.174Z"
   },
   {
    "duration": 222,
    "start_time": "2022-01-12T11:20:47.892Z"
   },
   {
    "duration": 214,
    "start_time": "2022-01-12T11:20:50.114Z"
   },
   {
    "duration": 335,
    "start_time": "2022-01-12T11:22:13.674Z"
   },
   {
    "duration": 339,
    "start_time": "2022-01-12T11:22:22.534Z"
   },
   {
    "duration": 207,
    "start_time": "2022-01-12T11:22:26.854Z"
   },
   {
    "duration": 413,
    "start_time": "2022-01-12T11:22:29.952Z"
   },
   {
    "duration": 327,
    "start_time": "2022-01-12T11:22:38.274Z"
   },
   {
    "duration": 214,
    "start_time": "2022-01-12T11:25:39.093Z"
   },
   {
    "duration": 201,
    "start_time": "2022-01-12T11:25:45.503Z"
   },
   {
    "duration": 216,
    "start_time": "2022-01-12T11:25:50.244Z"
   },
   {
    "duration": 218,
    "start_time": "2022-01-12T11:26:07.294Z"
   },
   {
    "duration": 349,
    "start_time": "2022-01-12T11:26:13.914Z"
   },
   {
    "duration": 371,
    "start_time": "2022-01-12T11:26:30.594Z"
   },
   {
    "duration": 326,
    "start_time": "2022-01-12T11:26:46.514Z"
   },
   {
    "duration": 218,
    "start_time": "2022-01-12T11:26:56.046Z"
   },
   {
    "duration": 450,
    "start_time": "2022-01-12T11:27:36.446Z"
   },
   {
    "duration": 210,
    "start_time": "2022-01-12T11:27:41.534Z"
   },
   {
    "duration": 327,
    "start_time": "2022-01-12T11:27:45.733Z"
   },
   {
    "duration": 372,
    "start_time": "2022-01-12T11:27:53.693Z"
   },
   {
    "duration": 220,
    "start_time": "2022-01-12T11:28:27.994Z"
   },
   {
    "duration": 244,
    "start_time": "2022-01-12T12:44:40.493Z"
   },
   {
    "duration": 251,
    "start_time": "2022-01-12T12:44:55.653Z"
   },
   {
    "duration": 283,
    "start_time": "2022-01-12T12:45:02.242Z"
   },
   {
    "duration": 263,
    "start_time": "2022-01-12T12:45:33.053Z"
   },
   {
    "duration": 250,
    "start_time": "2022-01-12T12:46:39.113Z"
   },
   {
    "duration": 251,
    "start_time": "2022-01-12T12:46:49.576Z"
   },
   {
    "duration": 363,
    "start_time": "2022-01-12T12:47:13.045Z"
   },
   {
    "duration": 424,
    "start_time": "2022-01-12T12:47:20.675Z"
   },
   {
    "duration": 257,
    "start_time": "2022-01-15T08:55:58.039Z"
   },
   {
    "duration": 224,
    "start_time": "2022-01-15T08:56:06.475Z"
   },
   {
    "duration": 545,
    "start_time": "2022-01-15T08:56:17.373Z"
   },
   {
    "duration": 361,
    "start_time": "2022-01-15T08:56:17.920Z"
   },
   {
    "duration": 3,
    "start_time": "2022-01-15T08:56:18.283Z"
   },
   {
    "duration": 271,
    "start_time": "2022-01-15T08:56:18.288Z"
   },
   {
    "duration": 8,
    "start_time": "2022-01-15T08:56:18.612Z"
   },
   {
    "duration": 22,
    "start_time": "2022-01-15T08:56:18.621Z"
   },
   {
    "duration": 68,
    "start_time": "2022-01-15T08:56:18.644Z"
   },
   {
    "duration": 5,
    "start_time": "2022-01-15T08:56:18.714Z"
   },
   {
    "duration": 584,
    "start_time": "2022-01-15T08:56:18.720Z"
   },
   {
    "duration": 255,
    "start_time": "2022-01-15T08:56:19.306Z"
   },
   {
    "duration": 342,
    "start_time": "2022-01-15T08:56:19.563Z"
   },
   {
    "duration": 5,
    "start_time": "2022-01-15T08:56:19.907Z"
   },
   {
    "duration": 255,
    "start_time": "2022-01-15T08:56:19.913Z"
   },
   {
    "duration": 5,
    "start_time": "2022-01-15T08:56:20.169Z"
   },
   {
    "duration": 24,
    "start_time": "2022-01-15T08:56:20.176Z"
   },
   {
    "duration": 310,
    "start_time": "2022-01-15T08:56:20.202Z"
   },
   {
    "duration": 331,
    "start_time": "2022-01-15T08:56:20.514Z"
   },
   {
    "duration": 265,
    "start_time": "2022-01-15T08:56:20.847Z"
   },
   {
    "duration": 298,
    "start_time": "2022-01-15T08:56:21.114Z"
   },
   {
    "duration": 4,
    "start_time": "2022-01-15T08:56:21.414Z"
   },
   {
    "duration": 4,
    "start_time": "2022-01-15T08:56:26.880Z"
   },
   {
    "duration": 3,
    "start_time": "2022-01-15T08:56:30.409Z"
   },
   {
    "duration": 5853,
    "start_time": "2022-01-15T08:57:05.781Z"
   },
   {
    "duration": 1262,
    "start_time": "2022-01-15T08:57:24.663Z"
   },
   {
    "duration": 4,
    "start_time": "2022-01-15T08:57:33.222Z"
   },
   {
    "duration": 4,
    "start_time": "2022-01-15T08:57:42.620Z"
   },
   {
    "duration": 1265,
    "start_time": "2022-01-15T08:58:20.076Z"
   },
   {
    "duration": 5,
    "start_time": "2022-01-15T08:58:22.740Z"
   },
   {
    "duration": 24,
    "start_time": "2022-01-15T08:59:55.463Z"
   },
   {
    "duration": 24,
    "start_time": "2022-01-15T09:00:01.902Z"
   },
   {
    "duration": 643,
    "start_time": "2022-01-15T09:00:07.919Z"
   },
   {
    "duration": 376,
    "start_time": "2022-01-15T09:00:08.563Z"
   },
   {
    "duration": 3,
    "start_time": "2022-01-15T09:00:08.941Z"
   },
   {
    "duration": 367,
    "start_time": "2022-01-15T09:00:08.946Z"
   },
   {
    "duration": 8,
    "start_time": "2022-01-15T09:00:09.315Z"
   },
   {
    "duration": 21,
    "start_time": "2022-01-15T09:00:09.325Z"
   },
   {
    "duration": 75,
    "start_time": "2022-01-15T09:00:09.348Z"
   },
   {
    "duration": 5,
    "start_time": "2022-01-15T09:00:09.425Z"
   },
   {
    "duration": 600,
    "start_time": "2022-01-15T09:00:09.431Z"
   },
   {
    "duration": 225,
    "start_time": "2022-01-15T09:00:10.033Z"
   },
   {
    "duration": 275,
    "start_time": "2022-01-15T09:00:10.260Z"
   },
   {
    "duration": 4,
    "start_time": "2022-01-15T09:00:10.536Z"
   },
   {
    "duration": 233,
    "start_time": "2022-01-15T09:00:10.541Z"
   },
   {
    "duration": 5,
    "start_time": "2022-01-15T09:00:10.775Z"
   },
   {
    "duration": 34,
    "start_time": "2022-01-15T09:00:10.782Z"
   },
   {
    "duration": 232,
    "start_time": "2022-01-15T09:00:10.818Z"
   },
   {
    "duration": 244,
    "start_time": "2022-01-15T09:00:11.052Z"
   },
   {
    "duration": 240,
    "start_time": "2022-01-15T09:00:11.297Z"
   },
   {
    "duration": 274,
    "start_time": "2022-01-15T09:00:11.539Z"
   },
   {
    "duration": 3,
    "start_time": "2022-01-15T09:00:11.815Z"
   },
   {
    "duration": 299,
    "start_time": "2022-01-15T09:00:21.710Z"
   },
   {
    "duration": 22,
    "start_time": "2022-01-15T09:00:26.202Z"
   },
   {
    "duration": 301,
    "start_time": "2022-01-15T09:00:30.003Z"
   },
   {
    "duration": 23,
    "start_time": "2022-01-15T09:00:41.683Z"
   },
   {
    "duration": 23,
    "start_time": "2022-01-15T09:00:52.923Z"
   },
   {
    "duration": 221,
    "start_time": "2022-01-15T09:12:52.665Z"
   },
   {
    "duration": 231,
    "start_time": "2022-01-15T09:13:17.544Z"
   },
   {
    "duration": 234,
    "start_time": "2022-01-15T09:14:05.964Z"
   },
   {
    "duration": 583,
    "start_time": "2022-01-15T09:14:26.824Z"
   },
   {
    "duration": 328,
    "start_time": "2022-01-15T09:14:39.364Z"
   },
   {
    "duration": 10,
    "start_time": "2022-01-15T09:15:13.224Z"
   },
   {
    "duration": 2,
    "start_time": "2022-01-15T09:15:51.525Z"
   },
   {
    "duration": 8,
    "start_time": "2022-01-15T09:16:01.381Z"
   },
   {
    "duration": 9,
    "start_time": "2022-01-15T09:17:02.445Z"
   },
   {
    "duration": 9,
    "start_time": "2022-01-15T09:17:12.024Z"
   },
   {
    "duration": 3,
    "start_time": "2022-01-15T09:17:37.264Z"
   },
   {
    "duration": 5,
    "start_time": "2022-01-15T09:17:43.345Z"
   },
   {
    "duration": 4,
    "start_time": "2022-01-15T09:18:19.265Z"
   },
   {
    "duration": 7,
    "start_time": "2022-01-15T09:18:27.044Z"
   },
   {
    "duration": 12,
    "start_time": "2022-01-15T09:18:34.828Z"
   },
   {
    "duration": 14,
    "start_time": "2022-01-15T09:18:42.164Z"
   },
   {
    "duration": 13,
    "start_time": "2022-01-15T09:19:08.704Z"
   },
   {
    "duration": 10,
    "start_time": "2022-01-15T09:22:34.525Z"
   },
   {
    "duration": 9,
    "start_time": "2022-01-15T09:22:47.084Z"
   },
   {
    "duration": 10,
    "start_time": "2022-01-15T09:29:46.664Z"
   },
   {
    "duration": 10,
    "start_time": "2022-01-15T09:32:55.411Z"
   },
   {
    "duration": 10,
    "start_time": "2022-01-15T09:35:31.003Z"
   },
   {
    "duration": 9,
    "start_time": "2022-01-15T09:35:34.245Z"
   },
   {
    "duration": 8,
    "start_time": "2022-01-15T09:35:40.804Z"
   },
   {
    "duration": 10,
    "start_time": "2022-01-15T09:37:46.484Z"
   },
   {
    "duration": 8,
    "start_time": "2022-01-15T09:37:59.904Z"
   },
   {
    "duration": 81,
    "start_time": "2022-01-15T10:19:37.480Z"
   },
   {
    "duration": 5,
    "start_time": "2022-01-15T10:41:08.561Z"
   },
   {
    "duration": 6,
    "start_time": "2022-01-15T10:41:23.541Z"
   },
   {
    "duration": 5,
    "start_time": "2022-01-15T10:41:31.481Z"
   },
   {
    "duration": 6,
    "start_time": "2022-01-15T10:41:38.400Z"
   },
   {
    "duration": 7,
    "start_time": "2022-01-15T10:42:08.302Z"
   },
   {
    "duration": 6,
    "start_time": "2022-01-15T10:42:22.141Z"
   },
   {
    "duration": 4,
    "start_time": "2022-01-15T10:42:29.046Z"
   },
   {
    "duration": 4,
    "start_time": "2022-01-15T10:42:32.182Z"
   },
   {
    "duration": 7,
    "start_time": "2022-01-15T10:42:48.662Z"
   },
   {
    "duration": 7,
    "start_time": "2022-01-15T10:43:13.382Z"
   },
   {
    "duration": 7,
    "start_time": "2022-01-15T10:43:28.041Z"
   },
   {
    "duration": 8,
    "start_time": "2022-01-15T10:43:38.442Z"
   },
   {
    "duration": 7,
    "start_time": "2022-01-15T10:43:46.021Z"
   },
   {
    "duration": 7,
    "start_time": "2022-01-15T10:44:36.660Z"
   },
   {
    "duration": 119,
    "start_time": "2022-01-15T10:46:32.842Z"
   },
   {
    "duration": 81,
    "start_time": "2022-01-15T10:46:37.341Z"
   },
   {
    "duration": 5,
    "start_time": "2022-01-15T10:47:22.323Z"
   },
   {
    "duration": 413,
    "start_time": "2022-01-15T10:47:30.621Z"
   },
   {
    "duration": 68,
    "start_time": "2022-01-15T10:47:48.624Z"
   },
   {
    "duration": 425,
    "start_time": "2022-01-15T10:47:51.261Z"
   },
   {
    "duration": 23,
    "start_time": "2022-01-15T10:48:41.922Z"
   },
   {
    "duration": 46,
    "start_time": "2022-01-15T10:48:53.901Z"
   },
   {
    "duration": 44,
    "start_time": "2022-01-15T10:49:30.761Z"
   },
   {
    "duration": 46,
    "start_time": "2022-01-15T10:49:51.002Z"
   },
   {
    "duration": 1325,
    "start_time": "2022-01-16T11:05:38.783Z"
   },
   {
    "duration": 654,
    "start_time": "2022-01-16T11:05:40.111Z"
   },
   {
    "duration": 6,
    "start_time": "2022-01-16T11:05:40.768Z"
   },
   {
    "duration": 607,
    "start_time": "2022-01-16T11:05:40.776Z"
   },
   {
    "duration": 14,
    "start_time": "2022-01-16T11:05:41.386Z"
   },
   {
    "duration": 77,
    "start_time": "2022-01-16T11:05:41.402Z"
   },
   {
    "duration": 109,
    "start_time": "2022-01-16T11:05:41.482Z"
   },
   {
    "duration": 10,
    "start_time": "2022-01-16T11:05:41.595Z"
   },
   {
    "duration": 1015,
    "start_time": "2022-01-16T11:05:41.611Z"
   },
   {
    "duration": 395,
    "start_time": "2022-01-16T11:05:42.630Z"
   },
   {
    "duration": 448,
    "start_time": "2022-01-16T11:05:43.028Z"
   },
   {
    "duration": 6,
    "start_time": "2022-01-16T11:05:43.479Z"
   },
   {
    "duration": 427,
    "start_time": "2022-01-16T11:05:43.488Z"
   },
   {
    "duration": 9,
    "start_time": "2022-01-16T11:05:43.918Z"
   },
   {
    "duration": 96,
    "start_time": "2022-01-16T11:05:43.929Z"
   },
   {
    "duration": 419,
    "start_time": "2022-01-16T11:05:44.028Z"
   },
   {
    "duration": 1884,
    "start_time": "2022-01-16T11:05:42.566Z"
   },
   {
    "duration": 1880,
    "start_time": "2022-01-16T11:05:42.571Z"
   },
   {
    "duration": 1874,
    "start_time": "2022-01-16T11:05:42.579Z"
   },
   {
    "duration": 1872,
    "start_time": "2022-01-16T11:05:42.582Z"
   },
   {
    "duration": 1870,
    "start_time": "2022-01-16T11:05:42.586Z"
   },
   {
    "duration": 1863,
    "start_time": "2022-01-16T11:05:42.594Z"
   },
   {
    "duration": 19,
    "start_time": "2022-01-16T11:06:37.155Z"
   },
   {
    "duration": 481,
    "start_time": "2022-01-16T11:08:36.541Z"
   },
   {
    "duration": 10,
    "start_time": "2022-01-16T11:09:12.049Z"
   },
   {
    "duration": 15,
    "start_time": "2022-01-16T11:09:17.039Z"
   },
   {
    "duration": 15,
    "start_time": "2022-01-16T11:09:24.280Z"
   },
   {
    "duration": 16,
    "start_time": "2022-01-16T11:09:37.229Z"
   },
   {
    "duration": 123,
    "start_time": "2022-01-16T11:10:23.710Z"
   },
   {
    "duration": 201,
    "start_time": "2022-01-16T11:10:47.871Z"
   },
   {
    "duration": 21,
    "start_time": "2022-01-16T11:11:00.770Z"
   },
   {
    "duration": 326,
    "start_time": "2022-01-16T11:17:34.919Z"
   },
   {
    "duration": 607,
    "start_time": "2022-01-16T11:20:34.421Z"
   },
   {
    "duration": 109,
    "start_time": "2022-01-16T11:23:03.240Z"
   },
   {
    "duration": 112,
    "start_time": "2022-01-16T11:23:48.457Z"
   },
   {
    "duration": 112,
    "start_time": "2022-01-16T11:23:51.770Z"
   },
   {
    "duration": 28,
    "start_time": "2022-01-16T11:24:41.370Z"
   },
   {
    "duration": 28,
    "start_time": "2022-01-16T11:25:20.879Z"
   },
   {
    "duration": 28,
    "start_time": "2022-01-16T11:29:35.301Z"
   },
   {
    "duration": 35,
    "start_time": "2022-01-16T11:31:49.796Z"
   },
   {
    "duration": 450,
    "start_time": "2022-01-16T11:32:18.759Z"
   },
   {
    "duration": 346,
    "start_time": "2022-01-16T11:32:22.581Z"
   },
   {
    "duration": 50,
    "start_time": "2022-01-16T11:32:41.319Z"
   },
   {
    "duration": 378,
    "start_time": "2022-01-16T11:33:50.069Z"
   },
   {
    "duration": 402,
    "start_time": "2022-01-16T11:34:12.459Z"
   },
   {
    "duration": 396,
    "start_time": "2022-01-16T11:34:18.609Z"
   },
   {
    "duration": 112,
    "start_time": "2022-01-16T11:34:42.719Z"
   },
   {
    "duration": 402,
    "start_time": "2022-01-16T11:34:46.279Z"
   },
   {
    "duration": 37,
    "start_time": "2022-01-16T11:35:04.209Z"
   },
   {
    "duration": 63,
    "start_time": "2022-01-16T11:35:10.959Z"
   },
   {
    "duration": 52,
    "start_time": "2022-01-16T11:35:40.458Z"
   },
   {
    "duration": 930,
    "start_time": "2022-01-16T11:35:56.909Z"
   },
   {
    "duration": 45,
    "start_time": "2022-01-16T11:36:27.969Z"
   },
   {
    "duration": 37,
    "start_time": "2022-01-16T11:36:33.498Z"
   },
   {
    "duration": 37,
    "start_time": "2022-01-16T11:37:11.110Z"
   },
   {
    "duration": 54,
    "start_time": "2022-01-16T11:37:16.522Z"
   },
   {
    "duration": 32,
    "start_time": "2022-01-16T11:37:23.819Z"
   },
   {
    "duration": 30,
    "start_time": "2022-01-16T11:38:22.509Z"
   },
   {
    "duration": 46,
    "start_time": "2022-01-16T11:39:54.650Z"
   },
   {
    "duration": 56,
    "start_time": "2022-01-16T11:40:28.060Z"
   },
   {
    "duration": 41,
    "start_time": "2022-01-16T11:40:40.289Z"
   },
   {
    "duration": 115,
    "start_time": "2022-01-16T12:50:37.598Z"
   },
   {
    "duration": 1287,
    "start_time": "2022-01-16T12:50:43.029Z"
   },
   {
    "duration": 595,
    "start_time": "2022-01-16T12:50:44.318Z"
   },
   {
    "duration": 6,
    "start_time": "2022-01-16T12:50:44.916Z"
   },
   {
    "duration": 578,
    "start_time": "2022-01-16T12:50:44.924Z"
   },
   {
    "duration": 12,
    "start_time": "2022-01-16T12:50:45.504Z"
   },
   {
    "duration": 30,
    "start_time": "2022-01-16T12:50:45.562Z"
   },
   {
    "duration": 128,
    "start_time": "2022-01-16T12:50:45.594Z"
   },
   {
    "duration": 12,
    "start_time": "2022-01-16T12:50:45.724Z"
   },
   {
    "duration": 965,
    "start_time": "2022-01-16T12:50:45.741Z"
   },
   {
    "duration": 417,
    "start_time": "2022-01-16T12:50:46.708Z"
   },
   {
    "duration": 476,
    "start_time": "2022-01-16T12:50:47.129Z"
   },
   {
    "duration": 7,
    "start_time": "2022-01-16T12:50:47.608Z"
   },
   {
    "duration": 512,
    "start_time": "2022-01-16T12:50:47.618Z"
   },
   {
    "duration": 9,
    "start_time": "2022-01-16T12:50:48.133Z"
   },
   {
    "duration": 81,
    "start_time": "2022-01-16T12:50:48.159Z"
   },
   {
    "duration": 135,
    "start_time": "2022-01-16T12:50:48.242Z"
   },
   {
    "duration": 1687,
    "start_time": "2022-01-16T12:50:46.693Z"
   },
   {
    "duration": 1682,
    "start_time": "2022-01-16T12:50:46.700Z"
   },
   {
    "duration": 1680,
    "start_time": "2022-01-16T12:50:46.704Z"
   },
   {
    "duration": 1681,
    "start_time": "2022-01-16T12:50:46.706Z"
   },
   {
    "duration": 1680,
    "start_time": "2022-01-16T12:50:46.709Z"
   },
   {
    "duration": 1679,
    "start_time": "2022-01-16T12:50:46.712Z"
   },
   {
    "duration": 41,
    "start_time": "2022-01-16T12:51:31.711Z"
   },
   {
    "duration": 47,
    "start_time": "2022-01-16T12:51:36.630Z"
   },
   {
    "duration": 63,
    "start_time": "2022-01-16T12:51:44.751Z"
   },
   {
    "duration": 56,
    "start_time": "2022-01-16T12:51:50.759Z"
   },
   {
    "duration": 51,
    "start_time": "2022-01-16T12:51:59.673Z"
   },
   {
    "duration": 52,
    "start_time": "2022-01-16T12:53:18.159Z"
   },
   {
    "duration": 113,
    "start_time": "2022-01-16T13:00:04.322Z"
   },
   {
    "duration": 122,
    "start_time": "2022-01-16T13:00:12.136Z"
   },
   {
    "duration": 69,
    "start_time": "2022-01-16T13:00:21.236Z"
   },
   {
    "duration": 520,
    "start_time": "2022-01-16T13:01:21.803Z"
   },
   {
    "duration": 405,
    "start_time": "2022-01-16T13:07:22.446Z"
   },
   {
    "duration": 352,
    "start_time": "2022-01-16T13:07:32.636Z"
   },
   {
    "duration": 51,
    "start_time": "2022-01-16T13:07:59.153Z"
   },
   {
    "duration": 52,
    "start_time": "2022-01-16T13:08:54.502Z"
   },
   {
    "duration": 55,
    "start_time": "2022-01-16T13:09:06.547Z"
   },
   {
    "duration": 447,
    "start_time": "2022-01-16T13:15:21.764Z"
   },
   {
    "duration": 419,
    "start_time": "2022-01-16T13:15:26.564Z"
   },
   {
    "duration": 54,
    "start_time": "2022-01-16T13:15:40.487Z"
   },
   {
    "duration": 66,
    "start_time": "2022-01-16T13:18:27.417Z"
   },
   {
    "duration": 125,
    "start_time": "2022-01-16T13:22:25.860Z"
   },
   {
    "duration": 55,
    "start_time": "2022-01-16T13:22:39.545Z"
   },
   {
    "duration": 60,
    "start_time": "2022-01-16T13:23:51.795Z"
   },
   {
    "duration": 60,
    "start_time": "2022-01-16T13:24:16.654Z"
   },
   {
    "duration": 349,
    "start_time": "2022-01-16T13:31:28.872Z"
   },
   {
    "duration": 344,
    "start_time": "2022-01-16T13:31:42.815Z"
   },
   {
    "duration": 357,
    "start_time": "2022-01-16T13:31:59.504Z"
   },
   {
    "duration": 49,
    "start_time": "2022-01-16T13:32:13.271Z"
   },
   {
    "duration": 350,
    "start_time": "2022-01-16T13:32:58.546Z"
   },
   {
    "duration": 370,
    "start_time": "2022-01-16T13:33:05.725Z"
   },
   {
    "duration": 56,
    "start_time": "2022-01-16T13:33:33.584Z"
   },
   {
    "duration": 51,
    "start_time": "2022-01-16T13:34:30.176Z"
   },
   {
    "duration": 57,
    "start_time": "2022-01-16T13:34:38.178Z"
   },
   {
    "duration": 454,
    "start_time": "2022-01-16T13:36:47.717Z"
   },
   {
    "duration": 61,
    "start_time": "2022-01-16T13:41:21.341Z"
   },
   {
    "duration": 68,
    "start_time": "2022-01-16T13:41:35.835Z"
   },
   {
    "duration": 562,
    "start_time": "2022-01-16T13:48:15.864Z"
   },
   {
    "duration": 396,
    "start_time": "2022-01-16T13:48:21.296Z"
   },
   {
    "duration": 408,
    "start_time": "2022-01-16T13:48:27.686Z"
   },
   {
    "duration": 413,
    "start_time": "2022-01-16T13:48:32.516Z"
   },
   {
    "duration": 409,
    "start_time": "2022-01-16T13:48:52.546Z"
   },
   {
    "duration": 436,
    "start_time": "2022-01-16T13:48:54.437Z"
   },
   {
    "duration": 780,
    "start_time": "2022-01-16T13:49:04.745Z"
   },
   {
    "duration": 838,
    "start_time": "2022-01-16T13:49:13.505Z"
   },
   {
    "duration": 387,
    "start_time": "2022-01-16T13:49:19.215Z"
   },
   {
    "duration": 626,
    "start_time": "2022-01-16T13:49:30.876Z"
   },
   {
    "duration": 372,
    "start_time": "2022-01-16T13:49:41.854Z"
   },
   {
    "duration": 387,
    "start_time": "2022-01-16T13:49:56.724Z"
   },
   {
    "duration": 55,
    "start_time": "2022-01-16T14:08:36.943Z"
   },
   {
    "duration": 54,
    "start_time": "2022-01-16T14:08:41.385Z"
   },
   {
    "duration": 366,
    "start_time": "2022-01-16T14:10:19.374Z"
   },
   {
    "duration": 273,
    "start_time": "2022-01-16T14:10:28.576Z"
   },
   {
    "duration": 697,
    "start_time": "2022-01-16T14:10:31.516Z"
   },
   {
    "duration": 142,
    "start_time": "2022-01-16T14:10:45.316Z"
   },
   {
    "duration": 290,
    "start_time": "2022-01-16T14:10:53.836Z"
   },
   {
    "duration": 63,
    "start_time": "2022-01-16T14:11:47.425Z"
   },
   {
    "duration": 343,
    "start_time": "2022-01-16T14:54:09.221Z"
   },
   {
    "duration": 442,
    "start_time": "2022-01-16T14:54:18.556Z"
   },
   {
    "duration": 385,
    "start_time": "2022-01-16T14:55:37.461Z"
   },
   {
    "duration": 412,
    "start_time": "2022-01-16T14:55:57.038Z"
   },
   {
    "duration": 519,
    "start_time": "2022-01-16T14:56:06.420Z"
   },
   {
    "duration": 387,
    "start_time": "2022-01-16T14:56:09.139Z"
   },
   {
    "duration": 658,
    "start_time": "2022-01-16T15:04:54.041Z"
   },
   {
    "duration": 421,
    "start_time": "2022-01-16T15:05:12.319Z"
   },
   {
    "duration": 389,
    "start_time": "2022-01-16T15:05:52.100Z"
   },
   {
    "duration": 468,
    "start_time": "2022-01-16T15:06:55.681Z"
   },
   {
    "duration": 502,
    "start_time": "2022-01-16T15:07:06.740Z"
   },
   {
    "duration": 745,
    "start_time": "2022-01-16T15:07:12.760Z"
   },
   {
    "duration": 355,
    "start_time": "2022-01-16T15:07:21.708Z"
   },
   {
    "duration": 587,
    "start_time": "2022-01-16T15:07:32.062Z"
   },
   {
    "duration": 403,
    "start_time": "2022-01-16T15:07:42.679Z"
   },
   {
    "duration": 424,
    "start_time": "2022-01-16T15:11:41.054Z"
   },
   {
    "duration": 108,
    "start_time": "2022-01-16T15:15:48.162Z"
   },
   {
    "duration": 119,
    "start_time": "2022-01-16T15:15:50.544Z"
   },
   {
    "duration": 112,
    "start_time": "2022-01-16T15:16:12.276Z"
   },
   {
    "duration": 390,
    "start_time": "2022-01-16T15:20:44.813Z"
   },
   {
    "duration": 2069,
    "start_time": "2022-01-16T16:04:58.232Z"
   },
   {
    "duration": 1087,
    "start_time": "2022-01-16T16:05:49.592Z"
   },
   {
    "duration": 1339,
    "start_time": "2022-01-16T16:06:01.274Z"
   },
   {
    "duration": 579,
    "start_time": "2022-01-16T16:06:02.621Z"
   },
   {
    "duration": 5,
    "start_time": "2022-01-16T16:06:03.203Z"
   },
   {
    "duration": 579,
    "start_time": "2022-01-16T16:06:03.210Z"
   },
   {
    "duration": 12,
    "start_time": "2022-01-16T16:06:03.792Z"
   },
   {
    "duration": 58,
    "start_time": "2022-01-16T16:06:03.807Z"
   },
   {
    "duration": 101,
    "start_time": "2022-01-16T16:06:03.869Z"
   },
   {
    "duration": 9,
    "start_time": "2022-01-16T16:06:03.973Z"
   },
   {
    "duration": 702,
    "start_time": "2022-01-16T16:06:03.984Z"
   },
   {
    "duration": 1274,
    "start_time": "2022-01-16T16:06:03.414Z"
   },
   {
    "duration": 1270,
    "start_time": "2022-01-16T16:06:03.420Z"
   },
   {
    "duration": 1266,
    "start_time": "2022-01-16T16:06:03.425Z"
   },
   {
    "duration": 1259,
    "start_time": "2022-01-16T16:06:03.433Z"
   },
   {
    "duration": 1257,
    "start_time": "2022-01-16T16:06:03.437Z"
   },
   {
    "duration": 1254,
    "start_time": "2022-01-16T16:06:03.441Z"
   },
   {
    "duration": 1248,
    "start_time": "2022-01-16T16:06:03.449Z"
   },
   {
    "duration": 1247,
    "start_time": "2022-01-16T16:06:03.452Z"
   },
   {
    "duration": 1244,
    "start_time": "2022-01-16T16:06:03.456Z"
   },
   {
    "duration": 1238,
    "start_time": "2022-01-16T16:06:03.464Z"
   },
   {
    "duration": 1235,
    "start_time": "2022-01-16T16:06:03.468Z"
   },
   {
    "duration": 1233,
    "start_time": "2022-01-16T16:06:03.471Z"
   },
   {
    "duration": 1229,
    "start_time": "2022-01-16T16:06:03.476Z"
   },
   {
    "duration": 846,
    "start_time": "2022-01-16T16:06:36.956Z"
   },
   {
    "duration": 1312,
    "start_time": "2022-01-16T16:06:43.918Z"
   },
   {
    "duration": 576,
    "start_time": "2022-01-16T16:06:45.232Z"
   },
   {
    "duration": 5,
    "start_time": "2022-01-16T16:06:45.811Z"
   },
   {
    "duration": 665,
    "start_time": "2022-01-16T16:06:45.819Z"
   },
   {
    "duration": 14,
    "start_time": "2022-01-16T16:06:46.487Z"
   },
   {
    "duration": 74,
    "start_time": "2022-01-16T16:06:46.504Z"
   },
   {
    "duration": 113,
    "start_time": "2022-01-16T16:06:46.581Z"
   },
   {
    "duration": 8,
    "start_time": "2022-01-16T16:06:46.697Z"
   },
   {
    "duration": 914,
    "start_time": "2022-01-16T16:06:46.708Z"
   },
   {
    "duration": 385,
    "start_time": "2022-01-16T16:06:47.624Z"
   },
   {
    "duration": 453,
    "start_time": "2022-01-16T16:06:48.013Z"
   },
   {
    "duration": 7,
    "start_time": "2022-01-16T16:06:48.468Z"
   },
   {
    "duration": 538,
    "start_time": "2022-01-16T16:06:48.477Z"
   },
   {
    "duration": 13,
    "start_time": "2022-01-16T16:06:49.017Z"
   },
   {
    "duration": 98,
    "start_time": "2022-01-16T16:06:49.033Z"
   },
   {
    "duration": 70,
    "start_time": "2022-01-16T16:06:49.133Z"
   },
   {
    "duration": 458,
    "start_time": "2022-01-16T16:06:49.206Z"
   },
   {
    "duration": 443,
    "start_time": "2022-01-16T16:06:49.666Z"
   },
   {
    "duration": 399,
    "start_time": "2022-01-16T16:06:50.112Z"
   },
   {
    "duration": 412,
    "start_time": "2022-01-16T16:06:50.514Z"
   },
   {
    "duration": 31,
    "start_time": "2022-01-16T16:06:50.928Z"
   },
   {
    "duration": 12,
    "start_time": "2022-01-16T16:06:50.962Z"
   },
   {
    "duration": 8,
    "start_time": "2022-01-16T16:07:26.914Z"
   },
   {
    "duration": 10,
    "start_time": "2022-01-16T16:08:31.395Z"
   },
   {
    "duration": 11,
    "start_time": "2022-01-16T16:09:53.115Z"
   },
   {
    "duration": 11,
    "start_time": "2022-01-16T16:10:06.448Z"
   },
   {
    "duration": 413,
    "start_time": "2022-01-16T16:13:28.297Z"
   },
   {
    "duration": 1631,
    "start_time": "2022-01-16T16:19:00.658Z"
   },
   {
    "duration": 1053,
    "start_time": "2022-01-16T16:19:23.648Z"
   },
   {
    "duration": 7,
    "start_time": "2022-01-16T16:20:49.097Z"
   },
   {
    "duration": 13,
    "start_time": "2022-01-16T16:21:06.017Z"
   },
   {
    "duration": 1068,
    "start_time": "2022-01-19T14:00:57.774Z"
   },
   {
    "duration": 462,
    "start_time": "2022-01-19T14:00:58.844Z"
   },
   {
    "duration": 10,
    "start_time": "2022-01-19T14:00:59.309Z"
   },
   {
    "duration": 35,
    "start_time": "2022-01-19T14:00:59.321Z"
   },
   {
    "duration": 79,
    "start_time": "2022-01-19T14:00:59.357Z"
   },
   {
    "duration": 6,
    "start_time": "2022-01-19T14:00:59.438Z"
   },
   {
    "duration": 590,
    "start_time": "2022-01-19T14:00:59.446Z"
   },
   {
    "duration": 422,
    "start_time": "2022-01-19T14:01:00.039Z"
   },
   {
    "duration": 350,
    "start_time": "2022-01-19T14:01:00.463Z"
   },
   {
    "duration": 5,
    "start_time": "2022-01-19T14:01:00.815Z"
   },
   {
    "duration": 349,
    "start_time": "2022-01-19T14:01:00.821Z"
   },
   {
    "duration": 10,
    "start_time": "2022-01-19T14:01:01.172Z"
   },
   {
    "duration": 83,
    "start_time": "2022-01-19T14:01:01.184Z"
   },
   {
    "duration": 401,
    "start_time": "2022-01-19T14:01:01.269Z"
   },
   {
    "duration": 342,
    "start_time": "2022-01-19T14:01:01.672Z"
   },
   {
    "duration": 291,
    "start_time": "2022-01-19T14:01:02.016Z"
   },
   {
    "duration": 319,
    "start_time": "2022-01-19T14:01:02.309Z"
   },
   {
    "duration": 13,
    "start_time": "2022-01-19T14:01:02.631Z"
   },
   {
    "duration": 64,
    "start_time": "2022-01-19T14:01:02.646Z"
   },
   {
    "duration": 43,
    "start_time": "2022-01-19T14:09:55.324Z"
   },
   {
    "duration": 144,
    "start_time": "2022-01-19T14:12:43.823Z"
   },
   {
    "duration": 12,
    "start_time": "2022-01-19T14:13:00.694Z"
   },
   {
    "duration": 8,
    "start_time": "2022-01-19T19:03:55.933Z"
   },
   {
    "duration": 1426,
    "start_time": "2022-01-20T07:58:14.200Z"
   },
   {
    "duration": 441,
    "start_time": "2022-01-20T07:58:15.629Z"
   },
   {
    "duration": 10,
    "start_time": "2022-01-20T07:58:16.072Z"
   },
   {
    "duration": 34,
    "start_time": "2022-01-20T07:58:16.084Z"
   },
   {
    "duration": 75,
    "start_time": "2022-01-20T07:58:16.119Z"
   },
   {
    "duration": 6,
    "start_time": "2022-01-20T07:58:16.196Z"
   },
   {
    "duration": 591,
    "start_time": "2022-01-20T07:58:16.203Z"
   },
   {
    "duration": 277,
    "start_time": "2022-01-20T07:58:16.797Z"
   },
   {
    "duration": 306,
    "start_time": "2022-01-20T07:58:17.076Z"
   },
   {
    "duration": 6,
    "start_time": "2022-01-20T07:58:17.383Z"
   },
   {
    "duration": 457,
    "start_time": "2022-01-20T07:58:17.391Z"
   },
   {
    "duration": 18,
    "start_time": "2022-01-20T07:58:17.850Z"
   },
   {
    "duration": 60,
    "start_time": "2022-01-20T07:58:17.870Z"
   },
   {
    "duration": 262,
    "start_time": "2022-01-20T07:58:17.932Z"
   },
   {
    "duration": 277,
    "start_time": "2022-01-20T07:58:18.197Z"
   },
   {
    "duration": 246,
    "start_time": "2022-01-20T07:58:18.477Z"
   },
   {
    "duration": 249,
    "start_time": "2022-01-20T07:58:18.725Z"
   },
   {
    "duration": 10,
    "start_time": "2022-01-20T07:58:18.976Z"
   },
   {
    "duration": 17,
    "start_time": "2022-01-20T07:58:18.988Z"
   },
   {
    "duration": 10,
    "start_time": "2022-01-20T07:58:55.521Z"
   },
   {
    "duration": 5970,
    "start_time": "2022-01-20T07:59:03.580Z"
   },
   {
    "duration": 10,
    "start_time": "2022-01-20T07:59:12.560Z"
   },
   {
    "duration": 207,
    "start_time": "2022-01-20T08:23:40.319Z"
   },
   {
    "duration": 243,
    "start_time": "2022-01-20T08:24:06.771Z"
   },
   {
    "duration": 217,
    "start_time": "2022-01-20T08:25:58.022Z"
   },
   {
    "duration": 5,
    "start_time": "2022-01-20T08:26:26.910Z"
   },
   {
    "duration": 1104,
    "start_time": "2022-01-20T08:27:08.803Z"
   },
   {
    "duration": 451,
    "start_time": "2022-01-20T08:27:09.909Z"
   },
   {
    "duration": 11,
    "start_time": "2022-01-20T08:27:10.363Z"
   },
   {
    "duration": 75,
    "start_time": "2022-01-20T08:27:10.376Z"
   },
   {
    "duration": 80,
    "start_time": "2022-01-20T08:27:10.453Z"
   },
   {
    "duration": 6,
    "start_time": "2022-01-20T08:27:10.534Z"
   },
   {
    "duration": 220,
    "start_time": "2022-01-20T08:27:10.542Z"
   },
   {
    "duration": 280,
    "start_time": "2022-01-20T08:31:44.937Z"
   },
   {
    "duration": 1540,
    "start_time": "2022-01-20T08:32:01.924Z"
   },
   {
    "duration": 449,
    "start_time": "2022-01-20T08:32:03.466Z"
   },
   {
    "duration": 10,
    "start_time": "2022-01-20T08:32:03.917Z"
   },
   {
    "duration": 54,
    "start_time": "2022-01-20T08:32:03.929Z"
   },
   {
    "duration": 79,
    "start_time": "2022-01-20T08:32:03.985Z"
   },
   {
    "duration": 7,
    "start_time": "2022-01-20T08:32:04.066Z"
   },
   {
    "duration": 236,
    "start_time": "2022-01-20T08:32:04.074Z"
   },
   {
    "duration": 3,
    "start_time": "2022-01-20T08:32:04.312Z"
   },
   {
    "duration": 601,
    "start_time": "2022-01-20T08:32:04.318Z"
   },
   {
    "duration": 276,
    "start_time": "2022-01-20T08:32:04.922Z"
   },
   {
    "duration": 310,
    "start_time": "2022-01-20T08:32:05.200Z"
   },
   {
    "duration": 5,
    "start_time": "2022-01-20T08:32:05.512Z"
   },
   {
    "duration": 280,
    "start_time": "2022-01-20T08:32:05.518Z"
   },
   {
    "duration": 8,
    "start_time": "2022-01-20T08:32:05.800Z"
   },
   {
    "duration": 66,
    "start_time": "2022-01-20T08:32:05.810Z"
   },
   {
    "duration": 262,
    "start_time": "2022-01-20T08:32:05.878Z"
   },
   {
    "duration": 379,
    "start_time": "2022-01-20T08:32:06.142Z"
   },
   {
    "duration": 261,
    "start_time": "2022-01-20T08:32:06.523Z"
   },
   {
    "duration": 269,
    "start_time": "2022-01-20T08:32:06.786Z"
   },
   {
    "duration": 11,
    "start_time": "2022-01-20T08:32:07.060Z"
   },
   {
    "duration": 20,
    "start_time": "2022-01-20T08:32:07.073Z"
   },
   {
    "duration": 12,
    "start_time": "2022-01-20T08:32:26.578Z"
   },
   {
    "duration": 8,
    "start_time": "2022-01-20T08:32:41.552Z"
   },
   {
    "duration": 392,
    "start_time": "2022-01-20T08:32:50.395Z"
   },
   {
    "duration": 7,
    "start_time": "2022-01-20T08:33:00.804Z"
   },
   {
    "duration": 8,
    "start_time": "2022-01-20T08:33:05.184Z"
   },
   {
    "duration": 7,
    "start_time": "2022-01-20T08:33:35.246Z"
   },
   {
    "duration": 268,
    "start_time": "2022-01-20T08:33:38.986Z"
   },
   {
    "duration": 7,
    "start_time": "2022-01-20T08:33:47.885Z"
   },
   {
    "duration": 14,
    "start_time": "2022-01-20T08:33:50.520Z"
   },
   {
    "duration": 176,
    "start_time": "2022-01-20T08:33:57.344Z"
   },
   {
    "duration": 339,
    "start_time": "2022-01-20T08:34:03.358Z"
   },
   {
    "duration": 308,
    "start_time": "2022-01-20T08:34:14.647Z"
   },
   {
    "duration": 6,
    "start_time": "2022-01-20T08:36:02.916Z"
   },
   {
    "duration": 235,
    "start_time": "2022-01-20T08:36:10.044Z"
   },
   {
    "duration": 257,
    "start_time": "2022-01-20T08:36:20.864Z"
   },
   {
    "duration": 239,
    "start_time": "2022-01-20T08:36:57.087Z"
   },
   {
    "duration": 244,
    "start_time": "2022-01-20T08:41:35.816Z"
   },
   {
    "duration": 259,
    "start_time": "2022-01-20T08:42:50.857Z"
   },
   {
    "duration": 255,
    "start_time": "2022-01-20T08:43:00.117Z"
   },
   {
    "duration": 252,
    "start_time": "2022-01-20T08:43:11.576Z"
   },
   {
    "duration": 254,
    "start_time": "2022-01-20T08:43:16.109Z"
   },
   {
    "duration": 245,
    "start_time": "2022-01-20T08:43:47.096Z"
   },
   {
    "duration": 253,
    "start_time": "2022-01-20T08:44:46.316Z"
   },
   {
    "duration": 368,
    "start_time": "2022-01-20T08:45:21.896Z"
   },
   {
    "duration": 263,
    "start_time": "2022-01-20T08:45:28.976Z"
   },
   {
    "duration": 243,
    "start_time": "2022-01-20T08:46:21.557Z"
   },
   {
    "duration": 263,
    "start_time": "2022-01-20T08:48:07.129Z"
   },
   {
    "duration": 27,
    "start_time": "2022-01-20T08:48:35.403Z"
   },
   {
    "duration": 255,
    "start_time": "2022-01-20T08:48:43.632Z"
   },
   {
    "duration": 18,
    "start_time": "2022-01-20T08:48:48.856Z"
   },
   {
    "duration": 16,
    "start_time": "2022-01-20T08:51:17.456Z"
   },
   {
    "duration": 25,
    "start_time": "2022-01-20T08:52:08.176Z"
   },
   {
    "duration": 33,
    "start_time": "2022-01-20T08:52:18.937Z"
   },
   {
    "duration": 212,
    "start_time": "2022-01-20T08:52:38.015Z"
   },
   {
    "duration": 266,
    "start_time": "2022-01-20T08:52:43.126Z"
   },
   {
    "duration": 26,
    "start_time": "2022-01-20T08:52:49.316Z"
   },
   {
    "duration": 247,
    "start_time": "2022-01-20T08:53:18.235Z"
   },
   {
    "duration": 1097,
    "start_time": "2022-01-20T08:55:15.064Z"
   },
   {
    "duration": 459,
    "start_time": "2022-01-20T08:55:16.163Z"
   },
   {
    "duration": 10,
    "start_time": "2022-01-20T08:55:16.625Z"
   },
   {
    "duration": 29,
    "start_time": "2022-01-20T08:55:16.637Z"
   },
   {
    "duration": 73,
    "start_time": "2022-01-20T08:55:16.668Z"
   },
   {
    "duration": 272,
    "start_time": "2022-01-20T08:55:16.743Z"
   },
   {
    "duration": 267,
    "start_time": "2022-01-20T08:55:17.017Z"
   },
   {
    "duration": 255,
    "start_time": "2022-01-20T08:55:17.286Z"
   },
   {
    "duration": 34,
    "start_time": "2022-01-20T08:55:17.543Z"
   },
   {
    "duration": 6,
    "start_time": "2022-01-20T08:55:17.580Z"
   },
   {
    "duration": 499,
    "start_time": "2022-01-20T08:55:17.588Z"
   },
   {
    "duration": 246,
    "start_time": "2022-01-20T08:55:18.088Z"
   },
   {
    "duration": 272,
    "start_time": "2022-01-20T08:55:18.336Z"
   },
   {
    "duration": 5,
    "start_time": "2022-01-20T08:55:18.610Z"
   },
   {
    "duration": 264,
    "start_time": "2022-01-20T08:55:18.617Z"
   },
   {
    "duration": 7,
    "start_time": "2022-01-20T08:55:18.883Z"
   },
   {
    "duration": 37,
    "start_time": "2022-01-20T08:55:18.891Z"
   },
   {
    "duration": 290,
    "start_time": "2022-01-20T08:55:18.929Z"
   },
   {
    "duration": 262,
    "start_time": "2022-01-20T08:55:19.221Z"
   },
   {
    "duration": 242,
    "start_time": "2022-01-20T08:55:19.485Z"
   },
   {
    "duration": 246,
    "start_time": "2022-01-20T08:55:19.730Z"
   },
   {
    "duration": 10,
    "start_time": "2022-01-20T08:55:19.979Z"
   },
   {
    "duration": 35,
    "start_time": "2022-01-20T08:55:19.991Z"
   },
   {
    "duration": 5,
    "start_time": "2022-01-20T09:56:47.567Z"
   },
   {
    "duration": 9,
    "start_time": "2022-01-20T09:56:58.327Z"
   },
   {
    "duration": 1080,
    "start_time": "2022-01-20T09:57:07.374Z"
   },
   {
    "duration": 439,
    "start_time": "2022-01-20T09:57:08.456Z"
   },
   {
    "duration": 9,
    "start_time": "2022-01-20T09:57:08.900Z"
   },
   {
    "duration": 28,
    "start_time": "2022-01-20T09:57:08.910Z"
   },
   {
    "duration": 86,
    "start_time": "2022-01-20T09:57:08.940Z"
   },
   {
    "duration": 271,
    "start_time": "2022-01-20T09:57:09.028Z"
   },
   {
    "duration": 253,
    "start_time": "2022-01-20T09:57:09.301Z"
   },
   {
    "duration": 259,
    "start_time": "2022-01-20T09:57:09.557Z"
   },
   {
    "duration": 42,
    "start_time": "2022-01-20T09:57:09.819Z"
   },
   {
    "duration": 7,
    "start_time": "2022-01-20T09:57:09.862Z"
   },
   {
    "duration": 500,
    "start_time": "2022-01-20T09:57:09.871Z"
   },
   {
    "duration": 232,
    "start_time": "2022-01-20T09:57:10.373Z"
   },
   {
    "duration": 296,
    "start_time": "2022-01-20T09:57:10.607Z"
   },
   {
    "duration": 5,
    "start_time": "2022-01-20T09:57:10.905Z"
   },
   {
    "duration": 277,
    "start_time": "2022-01-20T09:57:10.912Z"
   },
   {
    "duration": 8,
    "start_time": "2022-01-20T09:57:11.191Z"
   },
   {
    "duration": 75,
    "start_time": "2022-01-20T09:57:11.201Z"
   },
   {
    "duration": 266,
    "start_time": "2022-01-20T09:57:11.278Z"
   },
   {
    "duration": 355,
    "start_time": "2022-01-20T09:57:11.546Z"
   },
   {
    "duration": 254,
    "start_time": "2022-01-20T09:57:11.903Z"
   },
   {
    "duration": 263,
    "start_time": "2022-01-20T09:57:12.160Z"
   },
   {
    "duration": 11,
    "start_time": "2022-01-20T09:57:12.425Z"
   },
   {
    "duration": 27,
    "start_time": "2022-01-20T09:57:12.438Z"
   },
   {
    "duration": 5,
    "start_time": "2022-01-20T09:57:29.370Z"
   },
   {
    "duration": 277,
    "start_time": "2022-01-20T10:04:26.023Z"
   },
   {
    "duration": 240,
    "start_time": "2022-01-20T10:04:29.323Z"
   },
   {
    "duration": 14,
    "start_time": "2022-01-20T10:11:55.182Z"
   },
   {
    "duration": 19,
    "start_time": "2022-01-20T10:12:30.203Z"
   },
   {
    "duration": 29,
    "start_time": "2022-01-20T10:12:40.982Z"
   },
   {
    "duration": 39,
    "start_time": "2022-01-20T10:12:50.442Z"
   },
   {
    "duration": 40,
    "start_time": "2022-01-20T10:18:47.082Z"
   },
   {
    "duration": 46,
    "start_time": "2022-01-20T10:18:57.522Z"
   },
   {
    "duration": 46,
    "start_time": "2022-01-20T10:21:16.965Z"
   },
   {
    "duration": 45,
    "start_time": "2022-01-20T10:25:22.708Z"
   },
   {
    "duration": 46,
    "start_time": "2022-01-20T10:25:39.542Z"
   },
   {
    "duration": 46,
    "start_time": "2022-01-20T10:36:09.621Z"
   },
   {
    "duration": 7,
    "start_time": "2022-01-20T11:32:59.429Z"
   },
   {
    "duration": 6,
    "start_time": "2022-01-20T11:45:05.764Z"
   },
   {
    "duration": 9,
    "start_time": "2022-01-20T11:45:24.746Z"
   },
   {
    "duration": 8,
    "start_time": "2022-01-20T11:45:29.592Z"
   },
   {
    "duration": 7,
    "start_time": "2022-01-20T11:45:37.065Z"
   },
   {
    "duration": 7,
    "start_time": "2022-01-20T11:45:46.008Z"
   },
   {
    "duration": 11,
    "start_time": "2022-01-20T11:45:58.636Z"
   },
   {
    "duration": 9,
    "start_time": "2022-01-20T11:46:18.204Z"
   },
   {
    "duration": 15,
    "start_time": "2022-01-20T11:50:02.764Z"
   },
   {
    "duration": 1136,
    "start_time": "2022-01-20T11:50:13.526Z"
   },
   {
    "duration": 455,
    "start_time": "2022-01-20T11:50:14.665Z"
   },
   {
    "duration": 11,
    "start_time": "2022-01-20T11:50:15.122Z"
   },
   {
    "duration": 35,
    "start_time": "2022-01-20T11:50:15.135Z"
   },
   {
    "duration": 78,
    "start_time": "2022-01-20T11:50:15.172Z"
   },
   {
    "duration": 271,
    "start_time": "2022-01-20T11:50:15.252Z"
   },
   {
    "duration": 275,
    "start_time": "2022-01-20T11:50:15.526Z"
   },
   {
    "duration": 263,
    "start_time": "2022-01-20T11:50:15.803Z"
   },
   {
    "duration": 14,
    "start_time": "2022-01-20T11:50:16.068Z"
   },
   {
    "duration": 53,
    "start_time": "2022-01-20T11:50:16.084Z"
   },
   {
    "duration": 23,
    "start_time": "2022-01-20T11:50:16.139Z"
   },
   {
    "duration": 597,
    "start_time": "2022-01-20T11:50:16.164Z"
   },
   {
    "duration": 256,
    "start_time": "2022-01-20T11:50:16.763Z"
   },
   {
    "duration": 297,
    "start_time": "2022-01-20T11:50:17.021Z"
   },
   {
    "duration": 26,
    "start_time": "2022-01-20T11:50:17.320Z"
   },
   {
    "duration": 70,
    "start_time": "2022-01-20T11:50:17.347Z"
   },
   {
    "duration": 79,
    "start_time": "2022-01-20T11:50:17.418Z"
   },
   {
    "duration": 47,
    "start_time": "2022-01-20T11:50:17.499Z"
   },
   {
    "duration": 318,
    "start_time": "2022-01-20T11:50:17.547Z"
   },
   {
    "duration": 38,
    "start_time": "2022-01-20T11:50:17.866Z"
   },
   {
    "duration": 294,
    "start_time": "2022-01-20T11:50:17.906Z"
   },
   {
    "duration": 277,
    "start_time": "2022-01-20T11:50:18.202Z"
   },
   {
    "duration": 238,
    "start_time": "2022-01-20T11:50:18.482Z"
   },
   {
    "duration": 255,
    "start_time": "2022-01-20T11:50:18.722Z"
   },
   {
    "duration": 9,
    "start_time": "2022-01-20T11:50:18.979Z"
   },
   {
    "duration": 47,
    "start_time": "2022-01-20T11:50:18.990Z"
   },
   {
    "duration": 7,
    "start_time": "2022-01-20T12:02:22.069Z"
   },
   {
    "duration": 1100,
    "start_time": "2022-01-20T12:11:39.868Z"
   },
   {
    "duration": 453,
    "start_time": "2022-01-20T12:11:40.970Z"
   },
   {
    "duration": 9,
    "start_time": "2022-01-20T12:11:41.426Z"
   },
   {
    "duration": 60,
    "start_time": "2022-01-20T12:11:41.437Z"
   },
   {
    "duration": 108,
    "start_time": "2022-01-20T12:11:41.499Z"
   },
   {
    "duration": 287,
    "start_time": "2022-01-20T12:11:41.609Z"
   },
   {
    "duration": 265,
    "start_time": "2022-01-20T12:11:41.898Z"
   },
   {
    "duration": 419,
    "start_time": "2022-01-20T12:11:42.165Z"
   },
   {
    "duration": 17,
    "start_time": "2022-01-20T12:11:42.588Z"
   },
   {
    "duration": 58,
    "start_time": "2022-01-20T12:11:42.608Z"
   },
   {
    "duration": 7,
    "start_time": "2022-01-20T12:11:42.669Z"
   },
   {
    "duration": 556,
    "start_time": "2022-01-20T12:11:42.678Z"
   },
   {
    "duration": 257,
    "start_time": "2022-01-20T12:11:43.236Z"
   },
   {
    "duration": 314,
    "start_time": "2022-01-20T12:11:43.495Z"
   },
   {
    "duration": 24,
    "start_time": "2022-01-20T12:11:43.811Z"
   },
   {
    "duration": 6,
    "start_time": "2022-01-20T12:11:43.836Z"
   },
   {
    "duration": 13,
    "start_time": "2022-01-20T12:11:43.861Z"
   },
   {
    "duration": 9,
    "start_time": "2022-01-20T12:11:43.876Z"
   },
   {
    "duration": 327,
    "start_time": "2022-01-20T12:11:43.887Z"
   },
   {
    "duration": 70,
    "start_time": "2022-01-20T12:11:44.216Z"
   },
   {
    "duration": 283,
    "start_time": "2022-01-20T12:11:44.288Z"
   },
   {
    "duration": 275,
    "start_time": "2022-01-20T12:11:44.573Z"
   },
   {
    "duration": 253,
    "start_time": "2022-01-20T12:11:44.850Z"
   },
   {
    "duration": 256,
    "start_time": "2022-01-20T12:11:45.105Z"
   },
   {
    "duration": 10,
    "start_time": "2022-01-20T12:11:45.363Z"
   },
   {
    "duration": 11,
    "start_time": "2022-01-20T12:11:45.375Z"
   },
   {
    "duration": 402,
    "start_time": "2022-01-22T12:53:16.254Z"
   },
   {
    "duration": 1353,
    "start_time": "2022-05-15T13:36:34.422Z"
   },
   {
    "duration": 521,
    "start_time": "2022-05-15T13:36:35.778Z"
   },
   {
    "duration": 13,
    "start_time": "2022-05-15T13:36:36.301Z"
   },
   {
    "duration": 7,
    "start_time": "2022-05-15T13:36:36.316Z"
   },
   {
    "duration": 145,
    "start_time": "2022-05-15T13:36:36.325Z"
   },
   {
    "duration": 298,
    "start_time": "2022-05-15T13:36:36.473Z"
   },
   {
    "duration": 286,
    "start_time": "2022-05-15T13:36:36.773Z"
   },
   {
    "duration": 283,
    "start_time": "2022-05-15T13:36:37.061Z"
   },
   {
    "duration": 21,
    "start_time": "2022-05-15T13:36:37.346Z"
   },
   {
    "duration": 44,
    "start_time": "2022-05-15T13:36:37.371Z"
   },
   {
    "duration": 39,
    "start_time": "2022-05-15T13:36:37.417Z"
   },
   {
    "duration": 672,
    "start_time": "2022-05-15T13:36:37.458Z"
   },
   {
    "duration": 358,
    "start_time": "2022-05-15T13:36:38.132Z"
   },
   {
    "duration": 303,
    "start_time": "2022-05-15T13:36:38.492Z"
   },
   {
    "duration": 38,
    "start_time": "2022-05-15T13:36:38.797Z"
   },
   {
    "duration": 24,
    "start_time": "2022-05-15T13:36:38.837Z"
   },
   {
    "duration": 12,
    "start_time": "2022-05-15T13:36:38.863Z"
   },
   {
    "duration": 8,
    "start_time": "2022-05-15T13:36:38.878Z"
   },
   {
    "duration": 269,
    "start_time": "2022-05-15T13:36:38.888Z"
   },
   {
    "duration": 98,
    "start_time": "2022-05-15T13:36:39.160Z"
   },
   {
    "duration": 289,
    "start_time": "2022-05-15T13:36:39.260Z"
   },
   {
    "duration": 293,
    "start_time": "2022-05-15T13:36:39.556Z"
   },
   {
    "duration": 278,
    "start_time": "2022-05-15T13:36:39.851Z"
   },
   {
    "duration": 293,
    "start_time": "2022-05-15T13:36:40.130Z"
   },
   {
    "duration": 12,
    "start_time": "2022-05-15T13:36:40.425Z"
   },
   {
    "duration": 14,
    "start_time": "2022-05-15T13:36:40.455Z"
   }
  ],
  "kernelspec": {
   "display_name": "Python 3 (ipykernel)",
   "language": "python",
   "name": "python3"
  },
  "language_info": {
   "codemirror_mode": {
    "name": "ipython",
    "version": 3
   },
   "file_extension": ".py",
   "mimetype": "text/x-python",
   "name": "python",
   "nbconvert_exporter": "python",
   "pygments_lexer": "ipython3",
   "version": "3.9.12"
  },
  "toc": {
   "base_numbering": 1,
   "nav_menu": {
    "height": "434.233px",
    "width": "589.233px"
   },
   "number_sections": false,
   "sideBar": true,
   "skip_h1_title": false,
   "title_cell": "Table of Contents",
   "title_sidebar": "Contents",
   "toc_cell": false,
   "toc_position": {},
   "toc_section_display": true,
   "toc_window_display": true
  }
 },
 "nbformat": 4,
 "nbformat_minor": 4
}
