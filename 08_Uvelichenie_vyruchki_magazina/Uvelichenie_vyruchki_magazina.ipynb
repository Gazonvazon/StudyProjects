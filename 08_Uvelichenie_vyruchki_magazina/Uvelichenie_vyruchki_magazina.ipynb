{
 "cells": [
  {
   "cell_type": "markdown",
   "metadata": {},
   "source": [
    "# Проверка гипотез по увеличению выручки в интернет-магазине — оценить результаты A/B теста"
   ]
  },
  {
   "cell_type": "markdown",
   "metadata": {},
   "source": [
    "**Описание исследования.**\n",
    "\n",
    "В крупном интернет-магазине мной вместе с отделом маркетинга подготовлен список гипотез для увеличения выручки\n",
    "_____\n",
    "**Цель исследования.**\n",
    "\n",
    "Провести анализ гипотез, которые приведут к увеличению выручки\n",
    "\n",
    "_____\n",
    "**Задачи исследования.**\n",
    "* Приоритизировать подготовленные гипотезы\n",
    "* Запустить A/B тест и проанализировать результаты\n",
    "_____\n",
    "**Исходные данные.**\n",
    "    \n",
    "Файл /datasets/hypothesis.csv - гипотезы\n",
    "* Hypothesis — краткое описание гипотезы;\n",
    "* Reach — охват пользователей по 10-балльной шкале;\n",
    "* Impact — влияние на пользователей по 10-балльной шкале;\n",
    "* Confidence — уверенность в гипотезе по 10-балльной шкале;\n",
    "* Efforts — затраты ресурсов на проверку гипотезы по 10-балльной шкале. Чем больше значение Efforts, тем дороже проверка гипотезы.\n",
    "\n",
    "Файл /datasets/orders.csv - заказы\n",
    "* transactionId — идентификатор заказа;\n",
    "* visitorId — идентификатор пользователя, совершившего заказ;\n",
    "* date — дата, когда был совершён заказ;\n",
    "* revenue — выручка заказа;\n",
    "* group — группа A/B-теста, в которую попал заказ.\n",
    "\n",
    "Файл /datasets/visitors.csv - посетители\n",
    "* date — дата;\n",
    "* group — группа A/B-теста;\n",
    "* visitors — количество пользователей в указанную дату в указанной группе A/B-теста\n",
    "\n",
    "______\n",
    "\n",
    "**Данное исследование разделим на несколько частей:**\n",
    "\n",
    "* [Изучение общей информации](#section_1)\n",
    "* [Подготовка данных](#section_2)\n",
    "* [Приоритизация гипотез](#section_3)\n",
    "* [Анализ A/B-теста](#section_4)"
   ]
  },
  {
   "cell_type": "markdown",
   "metadata": {},
   "source": [
    "<a id='section_1'></a>\n",
    "## Изучение общей информации"
   ]
  },
  {
   "cell_type": "markdown",
   "metadata": {},
   "source": [
    "**В этом шаге:**\n",
    "* подключим библиотеки\n",
    "* откроем и изучим файлы, необходимые для работы"
   ]
  },
  {
   "cell_type": "code",
   "execution_count": 3,
   "metadata": {},
   "outputs": [],
   "source": [
    "import pandas as pd\n",
    "import matplotlib.pyplot as plt\n",
    "from importlib import reload\n",
    "plt=reload(plt)\n",
    "from scipy import stats\n",
    "import numpy as np\n",
    "from datetime import datetime, timedelta\n",
    "\n",
    "pd.set_option('display.float_format', '{:,.2f}'.format)\n",
    "pd.set_option('display.max_colwidth', 0)"
   ]
  },
  {
   "cell_type": "code",
   "execution_count": 4,
   "metadata": {},
   "outputs": [
    {
     "name": "stdout",
     "output_type": "stream",
     "text": [
      "<class 'pandas.core.frame.DataFrame'>\n",
      "RangeIndex: 9 entries, 0 to 8\n",
      "Data columns (total 5 columns):\n",
      " #   Column      Non-Null Count  Dtype \n",
      "---  ------      --------------  ----- \n",
      " 0   Hypothesis  9 non-null      object\n",
      " 1   Reach       9 non-null      int64 \n",
      " 2   Impact      9 non-null      int64 \n",
      " 3   Confidence  9 non-null      int64 \n",
      " 4   Efforts     9 non-null      int64 \n",
      "dtypes: int64(4), object(1)\n",
      "memory usage: 488.0+ bytes\n"
     ]
    },
    {
     "data": {
      "text/html": [
       "<div>\n",
       "<style scoped>\n",
       "    .dataframe tbody tr th:only-of-type {\n",
       "        vertical-align: middle;\n",
       "    }\n",
       "\n",
       "    .dataframe tbody tr th {\n",
       "        vertical-align: top;\n",
       "    }\n",
       "\n",
       "    .dataframe thead th {\n",
       "        text-align: right;\n",
       "    }\n",
       "</style>\n",
       "<table border=\"1\" class=\"dataframe\">\n",
       "  <thead>\n",
       "    <tr style=\"text-align: right;\">\n",
       "      <th></th>\n",
       "      <th>Hypothesis</th>\n",
       "      <th>Reach</th>\n",
       "      <th>Impact</th>\n",
       "      <th>Confidence</th>\n",
       "      <th>Efforts</th>\n",
       "    </tr>\n",
       "  </thead>\n",
       "  <tbody>\n",
       "    <tr>\n",
       "      <th>0</th>\n",
       "      <td>Добавить два новых канала привлечения трафика, что позволит привлекать на 30% больше пользователей</td>\n",
       "      <td>3</td>\n",
       "      <td>10</td>\n",
       "      <td>8</td>\n",
       "      <td>6</td>\n",
       "    </tr>\n",
       "    <tr>\n",
       "      <th>1</th>\n",
       "      <td>Запустить собственную службу доставки, что сократит срок доставки заказов</td>\n",
       "      <td>2</td>\n",
       "      <td>5</td>\n",
       "      <td>4</td>\n",
       "      <td>10</td>\n",
       "    </tr>\n",
       "    <tr>\n",
       "      <th>2</th>\n",
       "      <td>Добавить блоки рекомендаций товаров на сайт интернет магазина, чтобы повысить конверсию и средний чек заказа</td>\n",
       "      <td>8</td>\n",
       "      <td>3</td>\n",
       "      <td>7</td>\n",
       "      <td>3</td>\n",
       "    </tr>\n",
       "    <tr>\n",
       "      <th>3</th>\n",
       "      <td>Изменить структура категорий, что увеличит конверсию, т.к. пользователи быстрее найдут нужный товар</td>\n",
       "      <td>8</td>\n",
       "      <td>3</td>\n",
       "      <td>3</td>\n",
       "      <td>8</td>\n",
       "    </tr>\n",
       "    <tr>\n",
       "      <th>4</th>\n",
       "      <td>Изменить цвет фона главной страницы, чтобы увеличить вовлеченность пользователей</td>\n",
       "      <td>3</td>\n",
       "      <td>1</td>\n",
       "      <td>1</td>\n",
       "      <td>1</td>\n",
       "    </tr>\n",
       "    <tr>\n",
       "      <th>5</th>\n",
       "      <td>Добавить страницу отзывов клиентов о магазине, что позволит увеличить количество заказов</td>\n",
       "      <td>3</td>\n",
       "      <td>2</td>\n",
       "      <td>2</td>\n",
       "      <td>3</td>\n",
       "    </tr>\n",
       "    <tr>\n",
       "      <th>6</th>\n",
       "      <td>Показать на главной странице баннеры с актуальными акциями и распродажами, чтобы увеличить конверсию</td>\n",
       "      <td>5</td>\n",
       "      <td>3</td>\n",
       "      <td>8</td>\n",
       "      <td>3</td>\n",
       "    </tr>\n",
       "    <tr>\n",
       "      <th>7</th>\n",
       "      <td>Добавить форму подписки на все основные страницы, чтобы собрать базу клиентов для email-рассылок</td>\n",
       "      <td>10</td>\n",
       "      <td>7</td>\n",
       "      <td>8</td>\n",
       "      <td>5</td>\n",
       "    </tr>\n",
       "    <tr>\n",
       "      <th>8</th>\n",
       "      <td>Запустить акцию, дающую скидку на товар в день рождения</td>\n",
       "      <td>1</td>\n",
       "      <td>9</td>\n",
       "      <td>9</td>\n",
       "      <td>5</td>\n",
       "    </tr>\n",
       "  </tbody>\n",
       "</table>\n",
       "</div>"
      ],
      "text/plain": [
       "                                                                                                     Hypothesis  \\\n",
       "0  Добавить два новых канала привлечения трафика, что позволит привлекать на 30% больше пользователей             \n",
       "1  Запустить собственную службу доставки, что сократит срок доставки заказов                                      \n",
       "2  Добавить блоки рекомендаций товаров на сайт интернет магазина, чтобы повысить конверсию и средний чек заказа   \n",
       "3  Изменить структура категорий, что увеличит конверсию, т.к. пользователи быстрее найдут нужный товар            \n",
       "4  Изменить цвет фона главной страницы, чтобы увеличить вовлеченность пользователей                               \n",
       "5  Добавить страницу отзывов клиентов о магазине, что позволит увеличить количество заказов                       \n",
       "6  Показать на главной странице баннеры с актуальными акциями и распродажами, чтобы увеличить конверсию           \n",
       "7  Добавить форму подписки на все основные страницы, чтобы собрать базу клиентов для email-рассылок               \n",
       "8  Запустить акцию, дающую скидку на товар в день рождения                                                        \n",
       "\n",
       "   Reach  Impact  Confidence  Efforts  \n",
       "0  3      10      8           6        \n",
       "1  2      5       4           10       \n",
       "2  8      3       7           3        \n",
       "3  8      3       3           8        \n",
       "4  3      1       1           1        \n",
       "5  3      2       2           3        \n",
       "6  5      3       8           3        \n",
       "7  10     7       8           5        \n",
       "8  1      9       9           5        "
      ]
     },
     "execution_count": 4,
     "metadata": {},
     "output_type": "execute_result"
    }
   ],
   "source": [
    "data = pd.read_csv('datasets/hypothesis.csv') # гипотезы\n",
    "visitors = pd.read_csv('datasets/visitors.csv') # посетители\n",
    "orders = pd.read_csv('datasets/orders.csv') # покупки\n",
    "\n",
    "data.info()\n",
    "data"
   ]
  },
  {
   "cell_type": "code",
   "execution_count": 3,
   "metadata": {},
   "outputs": [
    {
     "name": "stdout",
     "output_type": "stream",
     "text": [
      "Таблица orders\n",
      "\n",
      "<class 'pandas.core.frame.DataFrame'>\n",
      "RangeIndex: 1197 entries, 0 to 1196\n",
      "Data columns (total 5 columns):\n",
      " #   Column         Non-Null Count  Dtype \n",
      "---  ------         --------------  ----- \n",
      " 0   transactionId  1197 non-null   int64 \n",
      " 1   visitorId      1197 non-null   int64 \n",
      " 2   date           1197 non-null   object\n",
      " 3   revenue        1197 non-null   int64 \n",
      " 4   group          1197 non-null   object\n",
      "dtypes: int64(3), object(2)\n",
      "memory usage: 46.9+ KB\n"
     ]
    },
    {
     "data": {
      "text/html": [
       "<div>\n",
       "<style scoped>\n",
       "    .dataframe tbody tr th:only-of-type {\n",
       "        vertical-align: middle;\n",
       "    }\n",
       "\n",
       "    .dataframe tbody tr th {\n",
       "        vertical-align: top;\n",
       "    }\n",
       "\n",
       "    .dataframe thead th {\n",
       "        text-align: right;\n",
       "    }\n",
       "</style>\n",
       "<table border=\"1\" class=\"dataframe\">\n",
       "  <thead>\n",
       "    <tr style=\"text-align: right;\">\n",
       "      <th></th>\n",
       "      <th>transactionId</th>\n",
       "      <th>visitorId</th>\n",
       "      <th>date</th>\n",
       "      <th>revenue</th>\n",
       "      <th>group</th>\n",
       "    </tr>\n",
       "  </thead>\n",
       "  <tbody>\n",
       "    <tr>\n",
       "      <th>0</th>\n",
       "      <td>3667963787</td>\n",
       "      <td>3312258926</td>\n",
       "      <td>2019-08-15</td>\n",
       "      <td>1650</td>\n",
       "      <td>B</td>\n",
       "    </tr>\n",
       "    <tr>\n",
       "      <th>1</th>\n",
       "      <td>2804400009</td>\n",
       "      <td>3642806036</td>\n",
       "      <td>2019-08-15</td>\n",
       "      <td>730</td>\n",
       "      <td>B</td>\n",
       "    </tr>\n",
       "    <tr>\n",
       "      <th>2</th>\n",
       "      <td>2961555356</td>\n",
       "      <td>4069496402</td>\n",
       "      <td>2019-08-15</td>\n",
       "      <td>400</td>\n",
       "      <td>A</td>\n",
       "    </tr>\n",
       "    <tr>\n",
       "      <th>3</th>\n",
       "      <td>3797467345</td>\n",
       "      <td>1196621759</td>\n",
       "      <td>2019-08-15</td>\n",
       "      <td>9759</td>\n",
       "      <td>B</td>\n",
       "    </tr>\n",
       "    <tr>\n",
       "      <th>4</th>\n",
       "      <td>2282983706</td>\n",
       "      <td>2322279887</td>\n",
       "      <td>2019-08-15</td>\n",
       "      <td>2308</td>\n",
       "      <td>B</td>\n",
       "    </tr>\n",
       "  </tbody>\n",
       "</table>\n",
       "</div>"
      ],
      "text/plain": [
       "   transactionId   visitorId        date  revenue group\n",
       "0  3667963787     3312258926  2019-08-15  1650     B   \n",
       "1  2804400009     3642806036  2019-08-15  730      B   \n",
       "2  2961555356     4069496402  2019-08-15  400      A   \n",
       "3  3797467345     1196621759  2019-08-15  9759     B   \n",
       "4  2282983706     2322279887  2019-08-15  2308     B   "
      ]
     },
     "execution_count": 3,
     "metadata": {},
     "output_type": "execute_result"
    }
   ],
   "source": [
    "print('Таблица orders\\n')\n",
    "orders.info()\n",
    "\n",
    "orders.head()"
   ]
  },
  {
   "cell_type": "code",
   "execution_count": 4,
   "metadata": {},
   "outputs": [
    {
     "name": "stdout",
     "output_type": "stream",
     "text": [
      "Таблица visitors\n",
      "\n",
      "<class 'pandas.core.frame.DataFrame'>\n",
      "RangeIndex: 62 entries, 0 to 61\n",
      "Data columns (total 3 columns):\n",
      " #   Column    Non-Null Count  Dtype \n",
      "---  ------    --------------  ----- \n",
      " 0   date      62 non-null     object\n",
      " 1   group     62 non-null     object\n",
      " 2   visitors  62 non-null     int64 \n",
      "dtypes: int64(1), object(2)\n",
      "memory usage: 1.6+ KB\n"
     ]
    },
    {
     "data": {
      "text/html": [
       "<div>\n",
       "<style scoped>\n",
       "    .dataframe tbody tr th:only-of-type {\n",
       "        vertical-align: middle;\n",
       "    }\n",
       "\n",
       "    .dataframe tbody tr th {\n",
       "        vertical-align: top;\n",
       "    }\n",
       "\n",
       "    .dataframe thead th {\n",
       "        text-align: right;\n",
       "    }\n",
       "</style>\n",
       "<table border=\"1\" class=\"dataframe\">\n",
       "  <thead>\n",
       "    <tr style=\"text-align: right;\">\n",
       "      <th></th>\n",
       "      <th>date</th>\n",
       "      <th>group</th>\n",
       "      <th>visitors</th>\n",
       "    </tr>\n",
       "  </thead>\n",
       "  <tbody>\n",
       "    <tr>\n",
       "      <th>0</th>\n",
       "      <td>2019-08-01</td>\n",
       "      <td>A</td>\n",
       "      <td>719</td>\n",
       "    </tr>\n",
       "    <tr>\n",
       "      <th>1</th>\n",
       "      <td>2019-08-02</td>\n",
       "      <td>A</td>\n",
       "      <td>619</td>\n",
       "    </tr>\n",
       "    <tr>\n",
       "      <th>2</th>\n",
       "      <td>2019-08-03</td>\n",
       "      <td>A</td>\n",
       "      <td>507</td>\n",
       "    </tr>\n",
       "    <tr>\n",
       "      <th>3</th>\n",
       "      <td>2019-08-04</td>\n",
       "      <td>A</td>\n",
       "      <td>717</td>\n",
       "    </tr>\n",
       "    <tr>\n",
       "      <th>4</th>\n",
       "      <td>2019-08-05</td>\n",
       "      <td>A</td>\n",
       "      <td>756</td>\n",
       "    </tr>\n",
       "  </tbody>\n",
       "</table>\n",
       "</div>"
      ],
      "text/plain": [
       "         date group  visitors\n",
       "0  2019-08-01  A     719     \n",
       "1  2019-08-02  A     619     \n",
       "2  2019-08-03  A     507     \n",
       "3  2019-08-04  A     717     \n",
       "4  2019-08-05  A     756     "
      ]
     },
     "execution_count": 4,
     "metadata": {},
     "output_type": "execute_result"
    }
   ],
   "source": [
    "print('Таблица visitors\\n')\n",
    "visitors.info()\n",
    "visitors.head()"
   ]
  },
  {
   "cell_type": "markdown",
   "metadata": {},
   "source": [
    "<a id='section_2'></a>\n",
    "## Подготовка данных"
   ]
  },
  {
   "cell_type": "markdown",
   "metadata": {},
   "source": [
    "**В этом шаге**\n",
    "* Приведем данные к нужным типам, переименуем столбцы\n",
    "* Проверим и справим дубликаты, приопуски в данных"
   ]
  },
  {
   "cell_type": "markdown",
   "metadata": {},
   "source": [
    "Приведем даты к нужным типам, переименуем столбцы для более удобной работы с имеющимися методами "
   ]
  },
  {
   "cell_type": "code",
   "execution_count": 5,
   "metadata": {},
   "outputs": [],
   "source": [
    "data.columns = data.columns.str.lower()\n",
    "orders['date'] = pd.to_datetime(orders['date'])\n",
    "visitors['date'] = pd.to_datetime(visitors['date'])\n",
    "orders.rename(columns={'transactionId': 'orderId', 'visitorId' : 'userId'}, inplace=True)"
   ]
  },
  {
   "cell_type": "markdown",
   "metadata": {},
   "source": [
    "Проверим дубликаты в таблицах"
   ]
  },
  {
   "cell_type": "code",
   "execution_count": 6,
   "metadata": {
    "scrolled": true
   },
   "outputs": [
    {
     "name": "stdout",
     "output_type": "stream",
     "text": [
      "Дубликатов в таблице \"orders\": 0\n",
      "Дубликатов в таблице \"visitors\": 0\n"
     ]
    }
   ],
   "source": [
    "print('Дубликатов в таблице \"orders\":', orders.duplicated().sum())\n",
    "print('Дубликатов в таблице \"visitors\":', visitors.duplicated().sum())"
   ]
  },
  {
   "cell_type": "markdown",
   "metadata": {},
   "source": [
    "Проверим пропуски в таблицах"
   ]
  },
  {
   "cell_type": "code",
   "execution_count": 30,
   "metadata": {
    "scrolled": true
   },
   "outputs": [
    {
     "name": "stdout",
     "output_type": "stream",
     "text": [
      "Пропуски в таблице \"orders\":\n",
      " orderId    0\n",
      "userId     0\n",
      "date       0\n",
      "revenue    0\n",
      "group      0\n",
      "dtype: int64\n",
      "\n",
      "Пропуски в таблице \"visitors\":\n",
      " date        0\n",
      "group       0\n",
      "visitors    0\n",
      "dtype: int64\n"
     ]
    }
   ],
   "source": [
    "print('Пропуски в таблице \"orders\":\\n', orders.isna().sum())\n",
    "print('\\nПропуски в таблице \"visitors\":\\n', visitors.isna().sum())"
   ]
  },
  {
   "cell_type": "markdown",
   "metadata": {},
   "source": [
    "<a id='section_3'></a>\n",
    "## Приоритизация гипотез"
   ]
  },
  {
   "cell_type": "markdown",
   "metadata": {},
   "source": [
    "**В этом шаге:**\n",
    "* Посчитаем ICE для гипотез\n",
    "* Посчитаем RICE для гипотез\n",
    "* Отсортируем гипотезы по среднему рангу из обоих методов"
   ]
  },
  {
   "cell_type": "markdown",
   "metadata": {},
   "source": [
    "### Посчитаем ICE для гипотез"
   ]
  },
  {
   "cell_type": "code",
   "execution_count": 8,
   "metadata": {},
   "outputs": [
    {
     "name": "stdout",
     "output_type": "stream",
     "text": [
      "Приоритет гипотез по методу ICE\n"
     ]
    },
    {
     "data": {
      "text/html": [
       "<div>\n",
       "<style scoped>\n",
       "    .dataframe tbody tr th:only-of-type {\n",
       "        vertical-align: middle;\n",
       "    }\n",
       "\n",
       "    .dataframe tbody tr th {\n",
       "        vertical-align: top;\n",
       "    }\n",
       "\n",
       "    .dataframe thead th {\n",
       "        text-align: right;\n",
       "    }\n",
       "</style>\n",
       "<table border=\"1\" class=\"dataframe\">\n",
       "  <thead>\n",
       "    <tr style=\"text-align: right;\">\n",
       "      <th></th>\n",
       "      <th>hypothesis</th>\n",
       "      <th>ice</th>\n",
       "    </tr>\n",
       "  </thead>\n",
       "  <tbody>\n",
       "    <tr>\n",
       "      <th>8</th>\n",
       "      <td>Запустить акцию, дающую скидку на товар в день рождения</td>\n",
       "      <td>16.20</td>\n",
       "    </tr>\n",
       "    <tr>\n",
       "      <th>0</th>\n",
       "      <td>Добавить два новых канала привлечения трафика, что позволит привлекать на 30% больше пользователей</td>\n",
       "      <td>13.33</td>\n",
       "    </tr>\n",
       "    <tr>\n",
       "      <th>7</th>\n",
       "      <td>Добавить форму подписки на все основные страницы, чтобы собрать базу клиентов для email-рассылок</td>\n",
       "      <td>11.20</td>\n",
       "    </tr>\n",
       "    <tr>\n",
       "      <th>6</th>\n",
       "      <td>Показать на главной странице баннеры с актуальными акциями и распродажами, чтобы увеличить конверсию</td>\n",
       "      <td>8.00</td>\n",
       "    </tr>\n",
       "    <tr>\n",
       "      <th>2</th>\n",
       "      <td>Добавить блоки рекомендаций товаров на сайт интернет магазина, чтобы повысить конверсию и средний чек заказа</td>\n",
       "      <td>7.00</td>\n",
       "    </tr>\n",
       "    <tr>\n",
       "      <th>1</th>\n",
       "      <td>Запустить собственную службу доставки, что сократит срок доставки заказов</td>\n",
       "      <td>2.00</td>\n",
       "    </tr>\n",
       "    <tr>\n",
       "      <th>5</th>\n",
       "      <td>Добавить страницу отзывов клиентов о магазине, что позволит увеличить количество заказов</td>\n",
       "      <td>1.33</td>\n",
       "    </tr>\n",
       "    <tr>\n",
       "      <th>3</th>\n",
       "      <td>Изменить структура категорий, что увеличит конверсию, т.к. пользователи быстрее найдут нужный товар</td>\n",
       "      <td>1.12</td>\n",
       "    </tr>\n",
       "    <tr>\n",
       "      <th>4</th>\n",
       "      <td>Изменить цвет фона главной страницы, чтобы увеличить вовлеченность пользователей</td>\n",
       "      <td>1.00</td>\n",
       "    </tr>\n",
       "  </tbody>\n",
       "</table>\n",
       "</div>"
      ],
      "text/plain": [
       "                                                                                                     hypothesis  \\\n",
       "8  Запустить акцию, дающую скидку на товар в день рождения                                                        \n",
       "0  Добавить два новых канала привлечения трафика, что позволит привлекать на 30% больше пользователей             \n",
       "7  Добавить форму подписки на все основные страницы, чтобы собрать базу клиентов для email-рассылок               \n",
       "6  Показать на главной странице баннеры с актуальными акциями и распродажами, чтобы увеличить конверсию           \n",
       "2  Добавить блоки рекомендаций товаров на сайт интернет магазина, чтобы повысить конверсию и средний чек заказа   \n",
       "1  Запустить собственную службу доставки, что сократит срок доставки заказов                                      \n",
       "5  Добавить страницу отзывов клиентов о магазине, что позволит увеличить количество заказов                       \n",
       "3  Изменить структура категорий, что увеличит конверсию, т.к. пользователи быстрее найдут нужный товар            \n",
       "4  Изменить цвет фона главной страницы, чтобы увеличить вовлеченность пользователей                               \n",
       "\n",
       "    ice  \n",
       "8 16.20  \n",
       "0 13.33  \n",
       "7 11.20  \n",
       "6 8.00   \n",
       "2 7.00   \n",
       "1 2.00   \n",
       "5 1.33   \n",
       "3 1.12   \n",
       "4 1.00   "
      ]
     },
     "execution_count": 8,
     "metadata": {},
     "output_type": "execute_result"
    }
   ],
   "source": [
    "data['ice'] = (data['impact'] * data['confidence']) /  data['efforts']\n",
    "\n",
    "print('Приоритет гипотез по методу ICE')\n",
    "data[['hypothesis', 'ice']].sort_values(by='ice', ascending=False)"
   ]
  },
  {
   "cell_type": "markdown",
   "metadata": {},
   "source": [
    "***Вывод:*** Самые перспективные гипотезы по методу ICE получились: 8,0,7,6,2"
   ]
  },
  {
   "cell_type": "markdown",
   "metadata": {},
   "source": [
    "### Посчитаем RICE для гипотез"
   ]
  },
  {
   "cell_type": "code",
   "execution_count": 9,
   "metadata": {
    "scrolled": true
   },
   "outputs": [
    {
     "name": "stdout",
     "output_type": "stream",
     "text": [
      "Приоритет гипотез по методу RICE\n"
     ]
    },
    {
     "data": {
      "text/html": [
       "<div>\n",
       "<style scoped>\n",
       "    .dataframe tbody tr th:only-of-type {\n",
       "        vertical-align: middle;\n",
       "    }\n",
       "\n",
       "    .dataframe tbody tr th {\n",
       "        vertical-align: top;\n",
       "    }\n",
       "\n",
       "    .dataframe thead th {\n",
       "        text-align: right;\n",
       "    }\n",
       "</style>\n",
       "<table border=\"1\" class=\"dataframe\">\n",
       "  <thead>\n",
       "    <tr style=\"text-align: right;\">\n",
       "      <th></th>\n",
       "      <th>hypothesis</th>\n",
       "      <th>rice</th>\n",
       "    </tr>\n",
       "  </thead>\n",
       "  <tbody>\n",
       "    <tr>\n",
       "      <th>7</th>\n",
       "      <td>Добавить форму подписки на все основные страницы, чтобы собрать базу клиентов для email-рассылок</td>\n",
       "      <td>112.00</td>\n",
       "    </tr>\n",
       "    <tr>\n",
       "      <th>2</th>\n",
       "      <td>Добавить блоки рекомендаций товаров на сайт интернет магазина, чтобы повысить конверсию и средний чек заказа</td>\n",
       "      <td>56.00</td>\n",
       "    </tr>\n",
       "    <tr>\n",
       "      <th>0</th>\n",
       "      <td>Добавить два новых канала привлечения трафика, что позволит привлекать на 30% больше пользователей</td>\n",
       "      <td>40.00</td>\n",
       "    </tr>\n",
       "    <tr>\n",
       "      <th>6</th>\n",
       "      <td>Показать на главной странице баннеры с актуальными акциями и распродажами, чтобы увеличить конверсию</td>\n",
       "      <td>40.00</td>\n",
       "    </tr>\n",
       "    <tr>\n",
       "      <th>8</th>\n",
       "      <td>Запустить акцию, дающую скидку на товар в день рождения</td>\n",
       "      <td>16.20</td>\n",
       "    </tr>\n",
       "    <tr>\n",
       "      <th>3</th>\n",
       "      <td>Изменить структура категорий, что увеличит конверсию, т.к. пользователи быстрее найдут нужный товар</td>\n",
       "      <td>9.00</td>\n",
       "    </tr>\n",
       "    <tr>\n",
       "      <th>1</th>\n",
       "      <td>Запустить собственную службу доставки, что сократит срок доставки заказов</td>\n",
       "      <td>4.00</td>\n",
       "    </tr>\n",
       "    <tr>\n",
       "      <th>5</th>\n",
       "      <td>Добавить страницу отзывов клиентов о магазине, что позволит увеличить количество заказов</td>\n",
       "      <td>4.00</td>\n",
       "    </tr>\n",
       "    <tr>\n",
       "      <th>4</th>\n",
       "      <td>Изменить цвет фона главной страницы, чтобы увеличить вовлеченность пользователей</td>\n",
       "      <td>3.00</td>\n",
       "    </tr>\n",
       "  </tbody>\n",
       "</table>\n",
       "</div>"
      ],
      "text/plain": [
       "                                                                                                     hypothesis  \\\n",
       "7  Добавить форму подписки на все основные страницы, чтобы собрать базу клиентов для email-рассылок               \n",
       "2  Добавить блоки рекомендаций товаров на сайт интернет магазина, чтобы повысить конверсию и средний чек заказа   \n",
       "0  Добавить два новых канала привлечения трафика, что позволит привлекать на 30% больше пользователей             \n",
       "6  Показать на главной странице баннеры с актуальными акциями и распродажами, чтобы увеличить конверсию           \n",
       "8  Запустить акцию, дающую скидку на товар в день рождения                                                        \n",
       "3  Изменить структура категорий, что увеличит конверсию, т.к. пользователи быстрее найдут нужный товар            \n",
       "1  Запустить собственную службу доставки, что сократит срок доставки заказов                                      \n",
       "5  Добавить страницу отзывов клиентов о магазине, что позволит увеличить количество заказов                       \n",
       "4  Изменить цвет фона главной страницы, чтобы увеличить вовлеченность пользователей                               \n",
       "\n",
       "    rice  \n",
       "7 112.00  \n",
       "2 56.00   \n",
       "0 40.00   \n",
       "6 40.00   \n",
       "8 16.20   \n",
       "3 9.00    \n",
       "1 4.00    \n",
       "5 4.00    \n",
       "4 3.00    "
      ]
     },
     "execution_count": 9,
     "metadata": {},
     "output_type": "execute_result"
    }
   ],
   "source": [
    "data['rice'] = (data['reach'] * data['impact'] * data['confidence']) / data['efforts']\n",
    "\n",
    "print('Приоритет гипотез по методу RICE')\n",
    "data[['hypothesis', 'rice']].sort_values(by='rice', ascending=False)"
   ]
  },
  {
   "cell_type": "markdown",
   "metadata": {},
   "source": [
    "***Вывод:*** Самые перспективные гипотезы по методу RICE получились: 7,2,0,6,8. Приоритезация изменилась, так как стала учитываться еще и оценка количества затрагиваемых пользователей\n",
    "\n",
    "В обоих методах в пятерке лидеров оказались гипотезы 8,0,7,6,2 хоть и в разном порядке. Можно для наглядности рейтинга отсортировать гипотезы по среднему рангу из обоих методов"
   ]
  },
  {
   "cell_type": "markdown",
   "metadata": {},
   "source": [
    "### Отсортируем гипотезы по среднему рангу из обоих методов"
   ]
  },
  {
   "cell_type": "code",
   "execution_count": 10,
   "metadata": {
    "scrolled": true
   },
   "outputs": [
    {
     "name": "stdout",
     "output_type": "stream",
     "text": [
      "Гипотезы, отсортированные по среднему рангу из обоих методов\n"
     ]
    },
    {
     "data": {
      "text/html": [
       "<div>\n",
       "<style scoped>\n",
       "    .dataframe tbody tr th:only-of-type {\n",
       "        vertical-align: middle;\n",
       "    }\n",
       "\n",
       "    .dataframe tbody tr th {\n",
       "        vertical-align: top;\n",
       "    }\n",
       "\n",
       "    .dataframe thead th {\n",
       "        text-align: right;\n",
       "    }\n",
       "</style>\n",
       "<table border=\"1\" class=\"dataframe\">\n",
       "  <thead>\n",
       "    <tr style=\"text-align: right;\">\n",
       "      <th></th>\n",
       "      <th>hypothesis</th>\n",
       "      <th>mean_rank</th>\n",
       "    </tr>\n",
       "  </thead>\n",
       "  <tbody>\n",
       "    <tr>\n",
       "      <th>7</th>\n",
       "      <td>Добавить форму подписки на все основные страницы, чтобы собрать базу клиентов для email-рассылок</td>\n",
       "      <td>2.00</td>\n",
       "    </tr>\n",
       "    <tr>\n",
       "      <th>0</th>\n",
       "      <td>Добавить два новых канала привлечения трафика, что позволит привлекать на 30% больше пользователей</td>\n",
       "      <td>2.75</td>\n",
       "    </tr>\n",
       "    <tr>\n",
       "      <th>8</th>\n",
       "      <td>Запустить акцию, дающую скидку на товар в день рождения</td>\n",
       "      <td>3.00</td>\n",
       "    </tr>\n",
       "    <tr>\n",
       "      <th>2</th>\n",
       "      <td>Добавить блоки рекомендаций товаров на сайт интернет магазина, чтобы повысить конверсию и средний чек заказа</td>\n",
       "      <td>3.50</td>\n",
       "    </tr>\n",
       "    <tr>\n",
       "      <th>6</th>\n",
       "      <td>Показать на главной странице баннеры с актуальными акциями и распродажами, чтобы увеличить конверсию</td>\n",
       "      <td>3.75</td>\n",
       "    </tr>\n",
       "    <tr>\n",
       "      <th>1</th>\n",
       "      <td>Запустить собственную службу доставки, что сократит срок доставки заказов</td>\n",
       "      <td>6.75</td>\n",
       "    </tr>\n",
       "    <tr>\n",
       "      <th>3</th>\n",
       "      <td>Изменить структура категорий, что увеличит конверсию, т.к. пользователи быстрее найдут нужный товар</td>\n",
       "      <td>7.00</td>\n",
       "    </tr>\n",
       "    <tr>\n",
       "      <th>5</th>\n",
       "      <td>Добавить страницу отзывов клиентов о магазине, что позволит увеличить количество заказов</td>\n",
       "      <td>7.25</td>\n",
       "    </tr>\n",
       "    <tr>\n",
       "      <th>4</th>\n",
       "      <td>Изменить цвет фона главной страницы, чтобы увеличить вовлеченность пользователей</td>\n",
       "      <td>9.00</td>\n",
       "    </tr>\n",
       "  </tbody>\n",
       "</table>\n",
       "</div>"
      ],
      "text/plain": [
       "                                                                                                     hypothesis  \\\n",
       "7  Добавить форму подписки на все основные страницы, чтобы собрать базу клиентов для email-рассылок               \n",
       "0  Добавить два новых канала привлечения трафика, что позволит привлекать на 30% больше пользователей             \n",
       "8  Запустить акцию, дающую скидку на товар в день рождения                                                        \n",
       "2  Добавить блоки рекомендаций товаров на сайт интернет магазина, чтобы повысить конверсию и средний чек заказа   \n",
       "6  Показать на главной странице баннеры с актуальными акциями и распродажами, чтобы увеличить конверсию           \n",
       "1  Запустить собственную службу доставки, что сократит срок доставки заказов                                      \n",
       "3  Изменить структура категорий, что увеличит конверсию, т.к. пользователи быстрее найдут нужный товар            \n",
       "5  Добавить страницу отзывов клиентов о магазине, что позволит увеличить количество заказов                       \n",
       "4  Изменить цвет фона главной страницы, чтобы увеличить вовлеченность пользователей                               \n",
       "\n",
       "   mean_rank  \n",
       "7 2.00        \n",
       "0 2.75        \n",
       "8 3.00        \n",
       "2 3.50        \n",
       "6 3.75        \n",
       "1 6.75        \n",
       "3 7.00        \n",
       "5 7.25        \n",
       "4 9.00        "
      ]
     },
     "execution_count": 10,
     "metadata": {},
     "output_type": "execute_result"
    }
   ],
   "source": [
    "data['ice_rank'] = data['ice'].rank(ascending=False)\n",
    "data['rice_rank'] = data['rice'].rank(ascending=False)\n",
    "data['mean_rank'] = (data['ice_rank'] + data['rice_rank']) / 2\n",
    "\n",
    "print('Гипотезы, отсортированные по среднему рангу из обоих методов')\n",
    "data[['hypothesis', 'mean_rank']].sort_values(by='mean_rank')"
   ]
  },
  {
   "cell_type": "markdown",
   "metadata": {},
   "source": [
    "***Вывод:*** Из двух методов порядок приоритов гипотез такой: 7,0,8,2,6"
   ]
  },
  {
   "cell_type": "markdown",
   "metadata": {},
   "source": [
    "***Вывод по шагу:*** С помощью двух методов (ICE и RICE) удалось увидеть как распределяются приоритеты гипотез в зависимости от метода их оценки. Также определили, что гипотезы 7,0,8,2,6 наиболее приоритетны исходя из обоих методов."
   ]
  },
  {
   "cell_type": "markdown",
   "metadata": {},
   "source": [
    "<a id='section_4'></a>\n",
    "## Анализ A/B-теста"
   ]
  },
  {
   "cell_type": "markdown",
   "metadata": {},
   "source": [
    "**В этом шаге:**\n",
    "* Построим график кумулятивной выручки по группам\n",
    "* Построим график кумулятивного среднего чека по группам по дням\n",
    "* Построим график относительного изменения кумулятивного среднего чека группы B к группе A\n",
    "* Построим график кумулятивной конверсии по группам\n",
    "* Построим график относительного изменения кумулятивной конверсии группы B к группе A\n",
    "* Построим точечный график количества заказов по пользователям\n",
    "* Посчитаем 95-й и 99-й перцентили количества заказов на пользователя\n",
    "* Построим точечный график стоимостей заказов\n",
    "* Посчитаем 95-й и 99-й перцентили стоимости заказов\n",
    "* Посчитаем статистическую значимость различий в конверсии между группами по «сырым» данным\n",
    "* Посчитаем статистическую значимость различий в среднем чеке заказа между группами по «сырым» данным\n",
    "* Посчитаем статистическую значимость различий в конверсии между группами по «очищенным» данным.\n",
    "* Посчитаем статистическую значимость различий в среднем чеке заказа между группами по «очищенным» данным\n",
    "* Примем решение по результатам тестов"
   ]
  },
  {
   "cell_type": "markdown",
   "metadata": {},
   "source": [
    "### Построим график кумулятивной выручки по группам"
   ]
  },
  {
   "cell_type": "code",
   "execution_count": 11,
   "metadata": {},
   "outputs": [
    {
     "name": "stdout",
     "output_type": "stream",
     "text": [
      "График кумулятивной выручки по группам\n"
     ]
    },
    {
     "data": {
      "image/png": "[encoded data removed]",
      "text/plain": [
       "<Figure size 864x432 with 1 Axes>"
      ]
     },
     "metadata": {
      "needs_background": "light"
     },
     "output_type": "display_data"
    }
   ],
   "source": [
    "\n",
    "\n",
    "print('График кумулятивной выручки по группам')\n",
    "\n",
    "# создаем массив уникальных пар значений дат и групп теста\n",
    "datesGroups = orders[['date','group']].drop_duplicates() \n",
    "\n",
    "ordersAggregated = datesGroups\\\n",
    "    .apply(lambda x: orders[np.logical_and(orders['date'] <= x['date'], orders['group'] == x['group'])]\\\n",
    "    .agg({'date' : 'max', 'group' : 'max', 'orderId' : 'nunique', 'userId' : 'nunique', 'revenue' : 'sum'}), axis=1)\\\n",
    "    .sort_values(by=['date','group'])\n",
    "\n",
    "visitorsAggregated = datesGroups.apply(\n",
    "    lambda x: visitors[np.logical_and(visitors['date'] <= x['date'], visitors['group'] == x['group'])]\n",
    "    .agg({'date': 'max', 'group': 'max', 'visitors': 'sum'}),\n",
    "    axis=1,\n",
    ").sort_values(by=['date', 'group'])\n",
    "\n",
    "cumulativeData = ordersAggregated.merge(visitorsAggregated, left_on=['date', 'group'], right_on=['date', 'group'])\n",
    "\n",
    "cumulativeData.columns = ['date','group','orders','buyers','revenue','visitors']\n",
    "\n",
    "cumulativeRevenueA = cumulativeData[cumulativeData['group']=='A'][['date','revenue', 'orders']]\n",
    "cumulativeRevenueB = cumulativeData[cumulativeData['group']=='B'][['date','revenue', 'orders']]\n",
    "\n",
    "plt.figure(figsize=(12,6))\n",
    "\n",
    "# Строим график выручки группы А\n",
    "plt.plot( cumulativeRevenueA['date'], cumulativeRevenueA['revenue'], label='A' )\n",
    "\n",
    "# Строим график выручки группы B\n",
    "plt.plot(cumulativeRevenueB['date'], cumulativeRevenueB['revenue'], label='B')\n",
    "plt.xlabel('Дата')\n",
    "plt.ylabel('Выручка')\n",
    "\n",
    "plt.legend();\n"
   ]
  },
  {
   "cell_type": "markdown",
   "metadata": {},
   "source": [
    "***Вывод:*** До середины сегмент B имеет совсем небольшое лидерство, но в какой-то момент произошел резкий скачек и отрыв сохранился до самого конца графика. Похоже что на скачек повлияли аномальные данные."
   ]
  },
  {
   "cell_type": "markdown",
   "metadata": {},
   "source": [
    "### Построим график кумулятивного среднего чека по группам по дням"
   ]
  },
  {
   "cell_type": "code",
   "execution_count": 12,
   "metadata": {},
   "outputs": [
    {
     "name": "stdout",
     "output_type": "stream",
     "text": [
      "График кумулятивного среднего чека по группам\n"
     ]
    },
    {
     "data": {
      "image/png": "[encoded data removed]",
      "text/plain": [
       "<Figure size 864x432 with 1 Axes>"
      ]
     },
     "metadata": {
      "needs_background": "light"
     },
     "output_type": "display_data"
    }
   ],
   "source": [
    "print('График кумулятивного среднего чека по группам')\n",
    "\n",
    "plt.figure(figsize=(12,6))\n",
    "\n",
    "cumulativeRevenueA = cumulativeData[cumulativeData['group'] == 'A'][\n",
    "    ['date', 'revenue', 'orders']\n",
    "]\n",
    "cumulativeRevenueB = cumulativeData[cumulativeData['group'] == 'B'][\n",
    "    ['date', 'revenue', 'orders']\n",
    "]\n",
    "plt.plot(cumulativeRevenueA['date'], cumulativeRevenueA['revenue']/cumulativeRevenueA['orders'], label='A')\n",
    "plt.plot(cumulativeRevenueB['date'], cumulativeRevenueB['revenue']/cumulativeRevenueB['orders'], label='B')\n",
    "plt.xlabel('Дата')\n",
    "plt.ylabel('Средний чек')\n",
    "plt.legend();"
   ]
  },
  {
   "cell_type": "markdown",
   "metadata": {},
   "source": [
    "***Вывод:*** Оба графика кумулятивного среднего чека по группам имеют колебания и периодически пересекаются,однако опять видим резкий скачек графика B после чего он сильно вырвался вверх. Похоже и тут аномальные значения сильно искажают картину."
   ]
  },
  {
   "cell_type": "markdown",
   "metadata": {},
   "source": [
    "### Построим график относительного изменения кумулятивного среднего чека группы B к группе A"
   ]
  },
  {
   "cell_type": "code",
   "execution_count": 13,
   "metadata": {},
   "outputs": [
    {
     "name": "stdout",
     "output_type": "stream",
     "text": [
      "График относительного изменения кумулятивного среднего чека группы B к группе A\n"
     ]
    },
    {
     "data": {
      "image/png": "[encoded data removed]",
      "text/plain": [
       "<Figure size 864x432 with 1 Axes>"
      ]
     },
     "metadata": {
      "needs_background": "light"
     },
     "output_type": "display_data"
    }
   ],
   "source": [
    "print('График относительного изменения кумулятивного среднего чека группы B к группе A')\n",
    "plt.figure(figsize=(12,6))\n",
    "\n",
    "\n",
    "# собираем данные в одном датафрейме\n",
    "mergedCumulativeRevenue = cumulativeRevenueA.merge(cumulativeRevenueB,\\\n",
    "        left_on='date', right_on='date', how='left', suffixes=['A', 'B'])\n",
    "\n",
    "# cтроим отношение средних чеков\n",
    "plt.plot(mergedCumulativeRevenue['date'],(mergedCumulativeRevenue['revenueB']/mergedCumulativeRevenue['ordersB'])/(mergedCumulativeRevenue['revenueA']/mergedCumulativeRevenue['ordersA'])-1)\n",
    "\n",
    "# добавляем ось X\n",
    "plt.axhline(y=0, color='black', linestyle='--'); \n",
    "\n",
    "plt.xlabel('Дата')\n",
    "plt.ylabel('Относительное изменение');"
   ]
  },
  {
   "cell_type": "markdown",
   "metadata": {},
   "source": [
    "***Вывод:*** Видно, что неоднократно были резкие скачки, которые вероятно опять же возникли из-за анамальных выбросов."
   ]
  },
  {
   "cell_type": "markdown",
   "metadata": {},
   "source": [
    "### Построим график кумулятивной конверсии по группам"
   ]
  },
  {
   "cell_type": "code",
   "execution_count": 14,
   "metadata": {},
   "outputs": [
    {
     "name": "stdout",
     "output_type": "stream",
     "text": [
      "График кумулятивной конверсии по группам\n"
     ]
    },
    {
     "data": {
      "image/png": "[encoded data removed]",
      "text/plain": [
       "<Figure size 864x432 with 1 Axes>"
      ]
     },
     "metadata": {
      "needs_background": "light"
     },
     "output_type": "display_data"
    }
   ],
   "source": [
    "print('График кумулятивной конверсии по группам')\n",
    "plt.figure(figsize=(12,6))\n",
    "\n",
    "# считаем кумулятивную конверсию\n",
    "cumulativeData['conversion'] = cumulativeData['orders']/cumulativeData['visitors']\n",
    "\n",
    "# отделяем данные по группе A\n",
    "cumulativeDataA = cumulativeData[cumulativeData['group']=='A']\n",
    "\n",
    "# отделяем данные по группе B\n",
    "cumulativeDataB = cumulativeData[cumulativeData['group']=='B']\n",
    "\n",
    "# строим графики\n",
    "plt.plot(cumulativeDataA['date'], cumulativeDataA['conversion'], label='A')\n",
    "plt.plot(cumulativeDataB['date'], cumulativeDataB['conversion'], label='B') \n",
    "\n",
    "plt.xlabel('Дата')\n",
    "plt.ylabel('Кумулятивная конверсия')\n",
    "plt.legend();"
   ]
  },
  {
   "cell_type": "markdown",
   "metadata": {},
   "source": [
    "***Вывод:*** В начале были сильные колебания и каждый график периодически оказывался сверху. Однако в определенный момент оба графика зафиксировались каждый на своей отметке. При этом график 'B' занял верхнюю позицию относительно 'A' и его установившаяся отметка примерно на 10% выше."
   ]
  },
  {
   "cell_type": "markdown",
   "metadata": {},
   "source": [
    "### Построим график относительного изменения кумулятивной конверсии группы B к группе A"
   ]
  },
  {
   "cell_type": "code",
   "execution_count": 15,
   "metadata": {},
   "outputs": [
    {
     "name": "stdout",
     "output_type": "stream",
     "text": [
      "График относительного изменения кумулятивной конверсии группы B к группе A\n"
     ]
    },
    {
     "data": {
      "image/png": "[encoded data removed]",
      "text/plain": [
       "<Figure size 864x432 with 1 Axes>"
      ]
     },
     "metadata": {
      "needs_background": "light"
     },
     "output_type": "display_data"
    }
   ],
   "source": [
    "print('График относительного изменения кумулятивной конверсии группы B к группе A')\n",
    "plt.figure(figsize=(12,6))\n",
    "\n",
    "mergedCumulativeConversions = cumulativeDataA[['date','conversion']].merge(cumulativeDataB[['date','conversion']],\\\n",
    "         left_on='date', right_on='date', how='left', suffixes=['A', 'B'])\n",
    "\n",
    "plt.plot(mergedCumulativeConversions['date'],\\\n",
    "         mergedCumulativeConversions['conversionB']/mergedCumulativeConversions['conversionA']-1,\\\n",
    "         label=\"Относительный прирост конверсии группы B относительно группы A\")\n",
    "\n",
    "plt.xlabel('Дата')\n",
    "plt.ylabel('Относительный прирост')\n",
    "plt.legend()\n",
    "\n",
    "plt.axhline(y=0, color='black', linestyle='--')\n",
    "plt.axhline(y=0.15, color='grey', linestyle='--');"
   ]
  },
  {
   "cell_type": "markdown",
   "metadata": {},
   "source": [
    "***Вывод:*** В самом начале нет очевидного лидерства, но вскоре группа 'B' вырывается вверх и начинает варьировать вокруг отметки в 15% относительно группы 'A'"
   ]
  },
  {
   "cell_type": "markdown",
   "metadata": {},
   "source": [
    "### Построим точечный график количества заказов по пользователям"
   ]
  },
  {
   "cell_type": "code",
   "execution_count": 16,
   "metadata": {},
   "outputs": [
    {
     "name": "stdout",
     "output_type": "stream",
     "text": [
      "График количества заказов по пользователям\n"
     ]
    },
    {
     "data": {
      "image/png": "[encoded data removed]",
      "text/plain": [
       "<Figure size 432x288 with 1 Axes>"
      ]
     },
     "metadata": {
      "needs_background": "light"
     },
     "output_type": "display_data"
    }
   ],
   "source": [
    "orders_counts=orders.groupby('userId', as_index=False).agg({'orderId': 'nunique', 'group' : 'first'})\n",
    "orders_counts.rename(columns={'orderId': 'orders_count'}, inplace=True)\n",
    "\n",
    "print('График количества заказов по пользователям')\n",
    "plt.xlabel('userId')\n",
    "plt.ylabel('Количество заказов')\n",
    "plt.scatter(orders_counts['userId'], orders_counts['orders_count']);"
   ]
  },
  {
   "cell_type": "markdown",
   "metadata": {},
   "source": [
    "***Вывод:*** Видно огромную плотность пользователей с 1 заказом, большую плотность с 2мя, а вот начиная от 3х плотность очень небольшая. Пользователей редко привлекает больше 2х раз делать заказ. Возможно пользователи не часто видят новые и актуальные для них товары, и довольны быстро удовлетворяют потребности - за 1-2 заказа. Либо им трудно ориентироваться в большом каталоге без понятных категорий и ,поэтому, также они не могут видеть актуальные для них товары или трудно находят нужные."
   ]
  },
  {
   "cell_type": "markdown",
   "metadata": {},
   "source": [
    "### Посчитаем 95-й и 99-й перцентили количества заказов на пользователя"
   ]
  },
  {
   "cell_type": "code",
   "execution_count": 17,
   "metadata": {
    "scrolled": true
   },
   "outputs": [
    {
     "name": "stdout",
     "output_type": "stream",
     "text": [
      "95-й и 99-й перцентили количества заказов на пользователя: [2. 4.]\n"
     ]
    }
   ],
   "source": [
    "print('95-й и 99-й перцентили количества заказов на пользователя:',\\\n",
    "      np.percentile(orders_counts['orders_count'], [95, 99]))"
   ]
  },
  {
   "cell_type": "markdown",
   "metadata": {},
   "source": [
    "Определим пользователей, сделавших больше 2х заказов как аномальных, так как таких не более 5%."
   ]
  },
  {
   "cell_type": "code",
   "execution_count": 18,
   "metadata": {},
   "outputs": [],
   "source": [
    "orders_limit = 2"
   ]
  },
  {
   "cell_type": "markdown",
   "metadata": {},
   "source": [
    "### Построим точечный график стоимостей заказов"
   ]
  },
  {
   "cell_type": "code",
   "execution_count": 19,
   "metadata": {
    "scrolled": true
   },
   "outputs": [
    {
     "name": "stdout",
     "output_type": "stream",
     "text": [
      "График стоимостей заказов\n"
     ]
    },
    {
     "data": {
      "image/png": "[encoded data removed]",
      "text/plain": [
       "<Figure size 432x288 with 1 Axes>"
      ]
     },
     "metadata": {
      "needs_background": "light"
     },
     "output_type": "display_data"
    }
   ],
   "source": [
    "print('График стоимостей заказов')\n",
    "plt.xlabel('userId')\n",
    "plt.ylabel('Выручка')\n",
    "plt.scatter(orders['orderId'], orders['revenue']);"
   ]
  },
  {
   "cell_type": "markdown",
   "metadata": {},
   "source": [
    "Из-за двух явно выбивающихся значений график сложно рассмотреть, построим график без них"
   ]
  },
  {
   "cell_type": "code",
   "execution_count": 20,
   "metadata": {
    "scrolled": true
   },
   "outputs": [
    {
     "name": "stdout",
     "output_type": "stream",
     "text": [
      "График стоимостей заказов < 200000\n"
     ]
    },
    {
     "data": {
      "image/png": "[encoded data removed]",
      "text/plain": [
       "<Figure size 432x288 with 1 Axes>"
      ]
     },
     "metadata": {
      "needs_background": "light"
     },
     "output_type": "display_data"
    }
   ],
   "source": [
    "print('График стоимостей заказов < 200000')\n",
    "orders_less200000 = orders.query('revenue < 200000')\n",
    "plt.xlabel('userId')\n",
    "plt.ylabel('Выручка')\n",
    "plt.scatter(orders_less200000['orderId'], orders_less200000['revenue']);"
   ]
  },
  {
   "cell_type": "markdown",
   "metadata": {},
   "source": [
    "***Вывод:*** Визуально плотность стоимостей заказов более менее равномерно уменьшается при увеличении рассматриваемой цены. Для большого интеренет магазина это нормально: очень много товаров на разную сумму и чем дороже сумма заказа, тем реже их делают. На какой-то отметке выше 20 000 график становится очень разреженным, таких заказов не так много, можно считать такие заказы аномальными. Точную границу определим далее."
   ]
  },
  {
   "cell_type": "markdown",
   "metadata": {},
   "source": [
    "### Посчитаем 95-й и 99-й перцентили стоимости заказов"
   ]
  },
  {
   "cell_type": "code",
   "execution_count": 21,
   "metadata": {},
   "outputs": [
    {
     "name": "stdout",
     "output_type": "stream",
     "text": [
      "[28000.  58233.2]\n"
     ]
    }
   ],
   "source": [
    "print(np.percentile(orders['revenue'], [95, 99]))"
   ]
  },
  {
   "cell_type": "markdown",
   "metadata": {},
   "source": [
    "Выберем границу аномальных заказов больше 28000"
   ]
  },
  {
   "cell_type": "code",
   "execution_count": 22,
   "metadata": {},
   "outputs": [],
   "source": [
    "too_expensive_price = 28000"
   ]
  },
  {
   "cell_type": "markdown",
   "metadata": {},
   "source": [
    "***Вывод:*** Граница цены аномальных заказов выбрана"
   ]
  },
  {
   "cell_type": "markdown",
   "metadata": {},
   "source": [
    "### Посчитаем статистическую значимость различий в конверсии между группами по «сырым» данным"
   ]
  },
  {
   "cell_type": "markdown",
   "metadata": {},
   "source": [
    "Сначала подготовим данные"
   ]
  },
  {
   "cell_type": "code",
   "execution_count": 23,
   "metadata": {},
   "outputs": [],
   "source": [
    "\n",
    "visitorsADaily = visitors[visitors['group'] == 'A'][['date', 'visitors']]\n",
    "visitorsADaily.columns = ['date', 'visitorsPerDateA']\n",
    "\n",
    "visitorsACummulative = visitorsADaily.apply(\n",
    "    lambda x: visitorsADaily[visitorsADaily['date'] <= x['date']].agg(\n",
    "        {'date': 'max', 'visitorsPerDateA': 'sum'}\n",
    "    ),\n",
    "    axis=1,\n",
    ")\n",
    "visitorsACummulative.columns = ['date', 'visitorsCummulativeA']\n",
    "\n",
    "visitorsBDaily = visitors[visitors['group'] == 'B'][['date', 'visitors']]\n",
    "visitorsBDaily.columns = ['date', 'visitorsPerDateB']\n",
    "\n",
    "visitorsBCummulative = visitorsBDaily.apply(\n",
    "    lambda x: visitorsBDaily[visitorsBDaily['date'] <= x['date']].agg(\n",
    "        {'date': 'max', 'visitorsPerDateB': 'sum'}\n",
    "    ),\n",
    "    axis=1,\n",
    ")\n",
    "visitorsBCummulative.columns = ['date', 'visitorsCummulativeB']\n",
    "\n",
    "ordersADaily = (\n",
    "    orders[orders['group'] == 'A'][['date', 'orderId', 'userId', 'revenue']]\n",
    "    .groupby('date', as_index=False)\n",
    "    .agg({'orderId': pd.Series.nunique, 'revenue': 'sum'})\n",
    ")\n",
    "ordersADaily.columns = ['date', 'ordersPerDateA', 'revenuePerDateA']\n",
    "\n",
    "ordersACummulative = ordersADaily.apply(\n",
    "    lambda x: ordersADaily[ordersADaily['date'] <= x['date']].agg(\n",
    "        {'date': 'max', 'ordersPerDateA': 'sum', 'revenuePerDateA': 'sum'}\n",
    "    ),\n",
    "    axis=1,\n",
    ").sort_values(by=['date'])\n",
    "ordersACummulative.columns = [\n",
    "    'date',\n",
    "    'ordersCummulativeA',\n",
    "    'revenueCummulativeA',\n",
    "]\n",
    "\n",
    "ordersBDaily = (\n",
    "    orders[orders['group'] == 'B'][['date', 'orderId', 'userId', 'revenue']]\n",
    "    .groupby('date', as_index=False)\n",
    "    .agg({'orderId': pd.Series.nunique, 'revenue': 'sum'})\n",
    ")\n",
    "ordersBDaily.columns = ['date', 'ordersPerDateB', 'revenuePerDateB']\n",
    "\n",
    "ordersBCummulative = ordersBDaily.apply(\n",
    "    lambda x: ordersBDaily[ordersBDaily['date'] <= x['date']].agg(\n",
    "        {'date': 'max', 'ordersPerDateB': 'sum', 'revenuePerDateB': 'sum'}\n",
    "    ),\n",
    "    axis=1,\n",
    ").sort_values(by=['date'])\n",
    "ordersBCummulative.columns = [\n",
    "    'date',\n",
    "    'ordersCummulativeB',\n",
    "    'revenueCummulativeB',\n",
    "]\n",
    "\n",
    "data = (\n",
    "    ordersADaily.merge(\n",
    "        ordersBDaily, left_on='date', right_on='date', how='left'\n",
    "    )\n",
    "    .merge(ordersACummulative, left_on='date', right_on='date', how='left')\n",
    "    .merge(ordersBCummulative, left_on='date', right_on='date', how='left')\n",
    "    .merge(visitorsADaily, left_on='date', right_on='date', how='left')\n",
    "    .merge(visitorsBDaily, left_on='date', right_on='date', how='left')\n",
    "    .merge(visitorsACummulative, left_on='date', right_on='date', how='left')\n",
    "    .merge(visitorsBCummulative, left_on='date', right_on='date', how='left')\n",
    ")\n",
    "\n",
    "\n",
    "ordersByUsersA = (\n",
    "    orders[orders['group'] == 'A']\n",
    "    .groupby('userId', as_index=False)\n",
    "    .agg({'orderId': pd.Series.nunique})\n",
    ")\n",
    "ordersByUsersA.columns = ['userId', 'orders']\n",
    "\n",
    "ordersByUsersB = (\n",
    "    orders[orders['group'] == 'B']\n",
    "    .groupby('userId', as_index=False)\n",
    "    .agg({'orderId': pd.Series.nunique})\n",
    ")\n",
    "ordersByUsersB.columns = ['userId', 'orders']\n"
   ]
  },
  {
   "cell_type": "code",
   "execution_count": 24,
   "metadata": {
    "scrolled": true
   },
   "outputs": [
    {
     "data": {
      "text/html": [
       "<div>\n",
       "<style scoped>\n",
       "    .dataframe tbody tr th:only-of-type {\n",
       "        vertical-align: middle;\n",
       "    }\n",
       "\n",
       "    .dataframe tbody tr th {\n",
       "        vertical-align: top;\n",
       "    }\n",
       "\n",
       "    .dataframe thead th {\n",
       "        text-align: right;\n",
       "    }\n",
       "</style>\n",
       "<table border=\"1\" class=\"dataframe\">\n",
       "  <thead>\n",
       "    <tr style=\"text-align: right;\">\n",
       "      <th></th>\n",
       "      <th>date</th>\n",
       "      <th>ordersPerDateA</th>\n",
       "      <th>revenuePerDateA</th>\n",
       "      <th>ordersPerDateB</th>\n",
       "      <th>revenuePerDateB</th>\n",
       "      <th>ordersCummulativeA</th>\n",
       "      <th>revenueCummulativeA</th>\n",
       "      <th>ordersCummulativeB</th>\n",
       "      <th>revenueCummulativeB</th>\n",
       "      <th>visitorsPerDateA</th>\n",
       "      <th>visitorsPerDateB</th>\n",
       "      <th>visitorsCummulativeA</th>\n",
       "      <th>visitorsCummulativeB</th>\n",
       "    </tr>\n",
       "  </thead>\n",
       "  <tbody>\n",
       "    <tr>\n",
       "      <th>0</th>\n",
       "      <td>2019-08-01</td>\n",
       "      <td>24</td>\n",
       "      <td>148579</td>\n",
       "      <td>21</td>\n",
       "      <td>101217</td>\n",
       "      <td>24</td>\n",
       "      <td>148579</td>\n",
       "      <td>21</td>\n",
       "      <td>101217</td>\n",
       "      <td>719</td>\n",
       "      <td>713</td>\n",
       "      <td>719</td>\n",
       "      <td>713</td>\n",
       "    </tr>\n",
       "    <tr>\n",
       "      <th>1</th>\n",
       "      <td>2019-08-02</td>\n",
       "      <td>20</td>\n",
       "      <td>93822</td>\n",
       "      <td>24</td>\n",
       "      <td>165531</td>\n",
       "      <td>44</td>\n",
       "      <td>242401</td>\n",
       "      <td>45</td>\n",
       "      <td>266748</td>\n",
       "      <td>619</td>\n",
       "      <td>581</td>\n",
       "      <td>1338</td>\n",
       "      <td>1294</td>\n",
       "    </tr>\n",
       "    <tr>\n",
       "      <th>2</th>\n",
       "      <td>2019-08-03</td>\n",
       "      <td>24</td>\n",
       "      <td>112473</td>\n",
       "      <td>16</td>\n",
       "      <td>114248</td>\n",
       "      <td>68</td>\n",
       "      <td>354874</td>\n",
       "      <td>61</td>\n",
       "      <td>380996</td>\n",
       "      <td>507</td>\n",
       "      <td>509</td>\n",
       "      <td>1845</td>\n",
       "      <td>1803</td>\n",
       "    </tr>\n",
       "    <tr>\n",
       "      <th>3</th>\n",
       "      <td>2019-08-04</td>\n",
       "      <td>16</td>\n",
       "      <td>70825</td>\n",
       "      <td>17</td>\n",
       "      <td>108571</td>\n",
       "      <td>84</td>\n",
       "      <td>425699</td>\n",
       "      <td>78</td>\n",
       "      <td>489567</td>\n",
       "      <td>717</td>\n",
       "      <td>770</td>\n",
       "      <td>2562</td>\n",
       "      <td>2573</td>\n",
       "    </tr>\n",
       "    <tr>\n",
       "      <th>4</th>\n",
       "      <td>2019-08-05</td>\n",
       "      <td>25</td>\n",
       "      <td>124218</td>\n",
       "      <td>23</td>\n",
       "      <td>92428</td>\n",
       "      <td>109</td>\n",
       "      <td>549917</td>\n",
       "      <td>101</td>\n",
       "      <td>581995</td>\n",
       "      <td>756</td>\n",
       "      <td>707</td>\n",
       "      <td>3318</td>\n",
       "      <td>3280</td>\n",
       "    </tr>\n",
       "  </tbody>\n",
       "</table>\n",
       "</div>"
      ],
      "text/plain": [
       "        date  ordersPerDateA  revenuePerDateA  ordersPerDateB  \\\n",
       "0 2019-08-01  24              148579           21               \n",
       "1 2019-08-02  20              93822            24               \n",
       "2 2019-08-03  24              112473           16               \n",
       "3 2019-08-04  16              70825            17               \n",
       "4 2019-08-05  25              124218           23               \n",
       "\n",
       "   revenuePerDateB  ordersCummulativeA  revenueCummulativeA  \\\n",
       "0  101217           24                  148579                \n",
       "1  165531           44                  242401                \n",
       "2  114248           68                  354874                \n",
       "3  108571           84                  425699                \n",
       "4  92428            109                 549917                \n",
       "\n",
       "   ordersCummulativeB  revenueCummulativeB  visitorsPerDateA  \\\n",
       "0  21                  101217               719                \n",
       "1  45                  266748               619                \n",
       "2  61                  380996               507                \n",
       "3  78                  489567               717                \n",
       "4  101                 581995               756                \n",
       "\n",
       "   visitorsPerDateB  visitorsCummulativeA  visitorsCummulativeB  \n",
       "0  713               719                   713                   \n",
       "1  581               1338                  1294                  \n",
       "2  509               1845                  1803                  \n",
       "3  770               2562                  2573                  \n",
       "4  707               3318                  3280                  "
      ]
     },
     "execution_count": 24,
     "metadata": {},
     "output_type": "execute_result"
    }
   ],
   "source": [
    "data.head()"
   ]
  },
  {
   "cell_type": "markdown",
   "metadata": {},
   "source": [
    "Названия столбцов полученных данных:\n",
    "\n",
    "    date — дата;\n",
    "    ordersPerDateA — количество заказов в выбранную дату в группе A;\n",
    "    revenuePerDateA — суммарная выручка в выбранную дату в группе A;\n",
    "    ordersPerDateB — количество заказов в выбранную дату в группе B;\n",
    "    revenuePerDateB — суммарная выручка в выбранную дату в группе B;\n",
    "    ordersCummulativeA — суммарное число заказов до выбранной даты включительно в группе A;\n",
    "    revenueCummulativeA — суммарная выручка до выбранной даты включительно в группе A;\n",
    "    ordersCummulativeB — суммарное количество заказов до выбранной даты включительно в группе B;\n",
    "    revenueCummulativeB — суммарная выручка до выбранной даты включительно в группе B;\n",
    "    visitorsPerDateA — количество пользователей в выбранную дату в группе A;\n",
    "    visitorsPerDateB — количество пользователей в выбранную дату в группе B;\n",
    "    visitorsCummulativeA — количество пользователей до выбранной даты включительно в группе A;\n",
    "    visitorsCummulativeB — количество пользователей до выбранной даты включительно в группе B."
   ]
  },
  {
   "cell_type": "code",
   "execution_count": 25,
   "metadata": {},
   "outputs": [],
   "source": [
    "# функция считает статистическую значимость различий в конверсии между группами \n",
    "# с отсеиванием аномальных пользователей (abnormalUsers)\n",
    "def stat_conversion_between_groups(abnormalUsers):\n",
    "    sampleAFiltered = pd.concat(\n",
    "        [\n",
    "            ordersByUsersA[\n",
    "                np.logical_not(ordersByUsersA['userId'].isin(abnormalUsers))\n",
    "            ]['orders'],\n",
    "            pd.Series(\n",
    "                0,\n",
    "                index=np.arange(\n",
    "                    data['visitorsPerDateA'].sum() - len(ordersByUsersA['orders'])\n",
    "                ),\n",
    "                name='orders',\n",
    "            ),\n",
    "        ],\n",
    "        axis=0,\n",
    "    )\n",
    "\n",
    "    sampleBFiltered = pd.concat(\n",
    "        [\n",
    "            ordersByUsersB[\n",
    "                np.logical_not(ordersByUsersB['userId'].isin(abnormalUsers))\n",
    "            ]['orders'],\n",
    "            pd.Series(\n",
    "                0,\n",
    "                index=np.arange(\n",
    "                    data['visitorsPerDateB'].sum() - len(ordersByUsersB['orders'])\n",
    "                ),\n",
    "                name='orders',\n",
    "            ),\n",
    "        ],\n",
    "        axis=0,\n",
    "    )\n",
    "    \n",
    "    print('p-value =', '{0:.3f}'.format(stats.mannwhitneyu(sampleAFiltered, sampleBFiltered)[1]))\n",
    "    print('Относительный прирост конверсии в группе B:', '{0:.3f}'.format(sampleBFiltered.mean()/sampleAFiltered.mean()-1)) "
   ]
  },
  {
   "cell_type": "markdown",
   "metadata": {},
   "source": [
    "Сформулируем гипотезы:\n",
    "* **Нулевая гипотеза**: Конверсии в группах А и В одинаковые\n",
    "* **Альтернативная гипотеза**: Конверсии в группах А и В отличаются"
   ]
  },
  {
   "cell_type": "code",
   "execution_count": 26,
   "metadata": {
    "scrolled": true
   },
   "outputs": [
    {
     "data": {
      "text/plain": [
       "'Статистическая значимость различий в конверсии между группами по «сырым» данным:'"
      ]
     },
     "metadata": {},
     "output_type": "display_data"
    },
    {
     "name": "stdout",
     "output_type": "stream",
     "text": [
      "p-value = 0.017\n",
      "Относительный прирост конверсии в группе B: 0.138\n"
     ]
    }
   ],
   "source": [
    "# чтобы получить результат по сырым данным передадим в нашу функцию пустой список аномальных пользователей\n",
    "display('Статистическая значимость различий в конверсии между группами по «сырым» данным:')\n",
    "stat_conversion_between_groups([])"
   ]
  },
  {
   "cell_type": "markdown",
   "metadata": {},
   "source": [
    "***Вывод:*** **Склоняемся к альтернативной гипотезе: конверсии в группах А и В отличаются**, так как p-value меньше 0,05 и относительный прирост конверсии в группе 'B' более 13%."
   ]
  },
  {
   "cell_type": "markdown",
   "metadata": {},
   "source": [
    "### Посчитаем статистическую значимость различий в среднем чеке заказа между группами по «сырым» данным"
   ]
  },
  {
   "cell_type": "markdown",
   "metadata": {},
   "source": [
    "Сформулируем гипотезы:\n",
    "* **Нулевая гипотеза**: средний чек заказов у групп А и В одинаковый\n",
    "* **Альтернативная гипотеза**: средний чек заказов у групп А и В различается"
   ]
  },
  {
   "cell_type": "code",
   "execution_count": 27,
   "metadata": {
    "scrolled": true
   },
   "outputs": [
    {
     "data": {
      "text/plain": [
       "'Статистическая значимость различий в среднем чеке заказа между группами по «сырым» данным:'"
      ]
     },
     "metadata": {},
     "output_type": "display_data"
    },
    {
     "name": "stdout",
     "output_type": "stream",
     "text": [
      "p-value = 0.729\n",
      "Относительное различие среднего чека между сегментами 0.259\n"
     ]
    }
   ],
   "source": [
    "display('Статистическая значимость различий в среднем чеке заказа между группами по «сырым» данным:')\n",
    "\n",
    "print('p-value =','{0:.3f}'.format(stats.mannwhitneyu(orders[orders['group']=='A']['revenue'],\\\n",
    "                                          orders[orders['group']=='B']['revenue'])[1]))\n",
    "print('Относительное различие среднего чека между сегментами', '{0:.3f}'.format(orders[orders['group']=='B']['revenue'].mean()/orders[orders['group']=='A']['revenue'].mean()-1)) "
   ]
  },
  {
   "cell_type": "markdown",
   "metadata": {},
   "source": [
    "***Вывод:*** P-value больше 0.05 — статистически значимых отличий в среднем чеке между группами нет, **нулевую гипотезу не отвергаем**. А вот относительное различие среднего чека между сегментами целых 25,9%. Похоже выбросы очень сильно влияют на результат."
   ]
  },
  {
   "cell_type": "markdown",
   "metadata": {},
   "source": [
    "### Посчитаем статистическую значимость различий в конверсии между группами по «очищенным» данным. Для этого определим аномальных пользователей и передадим их в нашу функцию."
   ]
  },
  {
   "cell_type": "markdown",
   "metadata": {},
   "source": [
    "Гипотезы:\n",
    "* **Нулевая гипотеза**: Конверсии в группах А и В одинаковые\n",
    "* **Альтернативная гипотеза**: Конверсии в группах А и В отличаются"
   ]
  },
  {
   "cell_type": "code",
   "execution_count": 28,
   "metadata": {},
   "outputs": [
    {
     "data": {
      "text/plain": [
       "'Статистическая значимость различий в конверсии между группами по «очищенным» данным:'"
      ]
     },
     "metadata": {},
     "output_type": "display_data"
    },
    {
     "name": "stdout",
     "output_type": "stream",
     "text": [
      "p-value = 0.013\n",
      "Относительный прирост конверсии в группе B: 0.173\n"
     ]
    }
   ],
   "source": [
    "usersWithManyOrders = pd.concat(\n",
    "    [\n",
    "        ordersByUsersA[ordersByUsersA['orders'] > orders_limit]['userId'],\n",
    "        ordersByUsersB[ordersByUsersB['orders'] > orders_limit]['userId'],\n",
    "    ],\n",
    "    axis=0,\n",
    ")\n",
    "\n",
    "usersWithExpensiveOrders = orders[orders['revenue'] > too_expensive_price]['userId']\n",
    "\n",
    "abnormalUsers = (\n",
    "    pd.concat([usersWithManyOrders, usersWithExpensiveOrders], axis=0)\n",
    "    .drop_duplicates()\n",
    "    .sort_values()\n",
    ")\n",
    "\n",
    "display('Статистическая значимость различий в конверсии между группами по «очищенным» данным:')\n",
    "stat_conversion_between_groups(abnormalUsers)"
   ]
  },
  {
   "cell_type": "markdown",
   "metadata": {},
   "source": [
    "***Вывод:*** p-value < 0.05, поэтому **склоняемся в сторону альтернативной гипотезы: конверсии в группах А и В отличаются**.\n",
    "Относительный прирост конверсии в группе B довольно большой - 17,3%. "
   ]
  },
  {
   "cell_type": "markdown",
   "metadata": {},
   "source": [
    "### Посчитаем статистическую значимость различий в среднем чеке заказа между группами по «очищенным» данным"
   ]
  },
  {
   "cell_type": "markdown",
   "metadata": {},
   "source": [
    "Сформулируем гипотезы:\n",
    "* **Нулевая гипотеза**: средний чек заказов у групп А и В одинаковый\n",
    "* **Альтернативная гипотеза**: средний чек заказов у групп А и В различается"
   ]
  },
  {
   "cell_type": "code",
   "execution_count": 29,
   "metadata": {},
   "outputs": [
    {
     "data": {
      "text/plain": [
       "'Статистическая значимость различий в среднем чеке заказа между группами по «очищенным» данным:'"
      ]
     },
     "metadata": {},
     "output_type": "display_data"
    },
    {
     "name": "stdout",
     "output_type": "stream",
     "text": [
      "p-value = 0.738\n",
      "Относительное различие среднего чека между сегментами -0.020\n"
     ]
    }
   ],
   "source": [
    "display('Статистическая значимость различий в среднем чеке заказа между группами по «очищенным» данным:')\n",
    "\n",
    "print('p-value =',\n",
    "    '{0:.3f}'.format(\n",
    "        stats.mannwhitneyu(\n",
    "            orders[\n",
    "                np.logical_and(\n",
    "                    orders['group'] == 'A',\n",
    "                    np.logical_not(orders['userId'].isin(abnormalUsers)),\n",
    "                )\n",
    "            ]['revenue'],\n",
    "            orders[\n",
    "                np.logical_and(\n",
    "                    orders['group'] == 'B',\n",
    "                    np.logical_not(orders['userId'].isin(abnormalUsers)),\n",
    "                )\n",
    "            ]['revenue'],\n",
    "        )[1]\n",
    "    )\n",
    ")\n",
    "\n",
    "print('Относительное различие среднего чека между сегментами', \n",
    "    \"{0:.3f}\".format(\n",
    "        orders[\n",
    "            np.logical_and(\n",
    "                orders['group'] == 'B',\n",
    "                np.logical_not(orders['userId'].isin(abnormalUsers)),\n",
    "            )\n",
    "        ]['revenue'].mean()\n",
    "        / orders[\n",
    "            np.logical_and(\n",
    "                orders['group'] == 'A',\n",
    "                np.logical_not(orders['userId'].isin(abnormalUsers)),\n",
    "            )\n",
    "        ]['revenue'].mean() - 1\n",
    "    )\n",
    ")"
   ]
  },
  {
   "cell_type": "markdown",
   "metadata": {},
   "source": [
    "***Вывод:*** P-value больше 0.05 — **не отвергаем нулевую гипотезу: средний чек заказов у групп А и В одинаковый**. И относительное различие среднего чека между сегментами всего 2%. Как и предполагали выше выбросы оказывали сильное влияние на результат."
   ]
  },
  {
   "cell_type": "markdown",
   "metadata": {},
   "source": [
    "### **Примем решение по результатам тестов**"
   ]
  },
  {
   "cell_type": "markdown",
   "metadata": {},
   "source": [
    "#### **Выпишем все выводы сделанные в данной части:**\n",
    "\n",
    "***Выводы из графиков***\n",
    "* *График кумулятивной выручки по группам*: до середины графика сегмент B имеет совсем небольшое лидерство, но в какой-то момент произошел резкий скачек и отрыв сохранился до самого конца графика. Похоже что на скачек повлияли аномальные данные.\n",
    "* *График кумулятивного среднего чека по группам по дням*: Оба графика кумулятивного среднего чека по группам имеют колебания и периодически пересекаются,однако опять видим резкий скачек графика B после чего он сильно вырвался вверх. Похоже и тут аномальные значения сильно искажают картину.\n",
    "* *График относительного изменения кумулятивного среднего чека группы B к группе A*: Видно, что неоднократно были резкие скачки, которые вероятно опять же возникли из-за анамальных выбросов.\n",
    "* *График кумулятивной конверсии по группам*: В начале были сильные колебания и каждый график периодически оказывался сверху. Однако в определенный момент оба графика зафиксировались каждый на своей отметке. При этом график 'B' занял верхнюю позицию относительно 'A' и его установившаяся отметка примерно на 10% выше.\n",
    "* *График относительного изменения кумулятивной конверсии группы B к группе A*:  В самом начале нет очевидного лидерства, но вскоре группа 'B' вырывается вверх и начинает варьировать вокруг отметки в 15% относительно группы 'A'\n",
    "* *График количества заказов по пользователям*: Видно огромную плотность пользователей с 1 заказом, большую плотность с 2мя, а вот начиная от 3х плотность очень небольшая.\n",
    "* *График стоимостей заказов*: Визуально плотность стоимостей заказов более менее равномерно уменьшается при увеличении рассматриваемой цены.\n",
    "\n",
    "***Выводы из статистических тестов:***\n",
    "\n",
    "По сырым данным:\n",
    "* склоняемся к альтернативной гипотезе: конверсии в группах А и В отличаются, относительный прирост конверсии в группе 'B' более 13%.\n",
    "* нулевую гипотезу не отвергаем: средний чек заказов у групп А и В одинаковый. А вот относительное различие среднего чека между сегментами целых 25,9%. Похоже выбросы очень сильно влияют на результат.\n",
    "\n",
    "По очищенным данным:\n",
    "* склоняемся в сторону альтернативной гипотезы: конверсии в группах А и В отличаются. Относительный прирост конверсии в группе B довольно большой - 17,3%.\n",
    "* не отвергаем нулевую гипотезу: средний чек заказов у групп А и В одинаковый. И относительное различие среднего чека между сегментами всего 2%."
   ]
  },
  {
   "cell_type": "markdown",
   "metadata": {},
   "source": [
    "#### **Обобщим выводы**\n",
    "\n",
    "*По графикам*:\n",
    "группа 'B' практически везде имеет лидирующее положение относительно 'A', хотя мы принимаем во внимание, что есть влияние выбросов на каких-то графиках больше, на каких-то меньше.\n",
    "\n",
    "*По статистическим тестам*:\n",
    "* по конверсии уверенно лидирует группа 'B': в обоих случаях склоняемся к гипотезе, что конверсии в группах А и В отличаются, а также прирост в группе 'B' 13% и 17,3%. \n",
    "* По среднему чеку больше подтверждается гипотеза: средний чек заказов у групп А и В одинаковый. Если же брать сырые данные, то за счет выбросов возможен больший средний чек у группы 'B'.\n",
    "\n",
    "***Вывод:*** **Принимаем решение: Остановить тест, зафиксировать победу группы 'B'.**"
   ]
  }
 ],
 "metadata": {
  "ExecuteTimeLog": [
   {
    "duration": 1322,
    "start_time": "2022-03-12T11:25:39.394Z"
   },
   {
    "duration": 4,
    "start_time": "2022-03-12T11:25:44.664Z"
   },
   {
    "duration": 126,
    "start_time": "2022-03-12T11:26:26.157Z"
   },
   {
    "duration": 71,
    "start_time": "2022-03-12T11:35:25.131Z"
   },
   {
    "duration": 19,
    "start_time": "2022-03-12T11:35:32.111Z"
   },
   {
    "duration": 24,
    "start_time": "2022-03-12T11:35:52.810Z"
   },
   {
    "duration": 25,
    "start_time": "2022-03-12T11:35:57.531Z"
   },
   {
    "duration": 36,
    "start_time": "2022-03-12T11:36:08.722Z"
   },
   {
    "duration": 30,
    "start_time": "2022-03-12T11:44:47.738Z"
   },
   {
    "duration": 27,
    "start_time": "2022-03-12T11:45:45.838Z"
   },
   {
    "duration": 26,
    "start_time": "2022-03-12T11:46:43.590Z"
   },
   {
    "duration": 27,
    "start_time": "2022-03-12T11:46:52.218Z"
   },
   {
    "duration": 25,
    "start_time": "2022-03-12T11:49:10.090Z"
   },
   {
    "duration": 469,
    "start_time": "2022-03-12T11:49:42.343Z"
   },
   {
    "duration": 7271,
    "start_time": "2022-03-12T11:53:30.578Z"
   },
   {
    "duration": 450,
    "start_time": "2022-03-12T11:53:37.402Z"
   },
   {
    "duration": 31,
    "start_time": "2022-03-12T11:54:24.833Z"
   },
   {
    "duration": 19,
    "start_time": "2022-03-12T11:54:35.957Z"
   },
   {
    "duration": 4,
    "start_time": "2022-03-12T11:55:34.572Z"
   },
   {
    "duration": 15,
    "start_time": "2022-03-12T11:56:54.383Z"
   },
   {
    "duration": 18,
    "start_time": "2022-03-12T11:57:16.165Z"
   },
   {
    "duration": 13,
    "start_time": "2022-03-12T12:03:40.950Z"
   },
   {
    "duration": 15,
    "start_time": "2022-03-12T12:04:25.348Z"
   },
   {
    "duration": 18,
    "start_time": "2022-03-12T12:06:27.138Z"
   },
   {
    "duration": 18,
    "start_time": "2022-03-12T12:06:42.153Z"
   },
   {
    "duration": 19,
    "start_time": "2022-03-12T12:07:18.270Z"
   },
   {
    "duration": 20,
    "start_time": "2022-03-12T12:07:57.110Z"
   },
   {
    "duration": 18,
    "start_time": "2022-03-12T12:08:45.942Z"
   },
   {
    "duration": 113,
    "start_time": "2022-03-12T12:09:19.950Z"
   },
   {
    "duration": 26,
    "start_time": "2022-03-12T12:09:22.999Z"
   },
   {
    "duration": 19,
    "start_time": "2022-03-12T12:09:43.691Z"
   },
   {
    "duration": 19,
    "start_time": "2022-03-12T12:12:45.431Z"
   },
   {
    "duration": 19,
    "start_time": "2022-03-12T12:12:52.638Z"
   },
   {
    "duration": 19,
    "start_time": "2022-03-12T12:13:37.106Z"
   },
   {
    "duration": 21,
    "start_time": "2022-03-12T12:19:10.471Z"
   },
   {
    "duration": 22,
    "start_time": "2022-03-12T12:19:19.039Z"
   },
   {
    "duration": 20,
    "start_time": "2022-03-12T12:20:38.483Z"
   },
   {
    "duration": 20,
    "start_time": "2022-03-12T16:55:53.380Z"
   },
   {
    "duration": 57,
    "start_time": "2022-03-12T17:02:43.680Z"
   },
   {
    "duration": 29,
    "start_time": "2022-03-12T17:03:13.753Z"
   },
   {
    "duration": 118,
    "start_time": "2022-03-12T17:03:48.764Z"
   },
   {
    "duration": 82,
    "start_time": "2022-03-12T17:04:52.400Z"
   },
   {
    "duration": 4,
    "start_time": "2022-03-13T08:36:43.111Z"
   },
   {
    "duration": 308,
    "start_time": "2022-03-13T08:37:01.636Z"
   },
   {
    "duration": 256,
    "start_time": "2022-03-13T08:37:04.448Z"
   },
   {
    "duration": 1037,
    "start_time": "2022-03-13T08:37:08.835Z"
   },
   {
    "duration": 30,
    "start_time": "2022-03-13T08:37:09.874Z"
   },
   {
    "duration": 3,
    "start_time": "2022-03-13T08:37:09.905Z"
   },
   {
    "duration": 16,
    "start_time": "2022-03-13T08:37:09.910Z"
   },
   {
    "duration": 62,
    "start_time": "2022-03-13T08:37:09.928Z"
   },
   {
    "duration": 4,
    "start_time": "2022-03-13T08:37:09.992Z"
   },
   {
    "duration": 27,
    "start_time": "2022-03-13T08:37:09.997Z"
   },
   {
    "duration": 10,
    "start_time": "2022-03-13T08:37:18.540Z"
   },
   {
    "duration": 18,
    "start_time": "2022-03-13T08:37:22.143Z"
   },
   {
    "duration": 73,
    "start_time": "2022-03-13T08:51:54.871Z"
   },
   {
    "duration": 69,
    "start_time": "2022-03-13T08:52:05.285Z"
   },
   {
    "duration": 7,
    "start_time": "2022-03-13T08:54:45.960Z"
   },
   {
    "duration": 9,
    "start_time": "2022-03-13T08:55:02.092Z"
   },
   {
    "duration": 7,
    "start_time": "2022-03-13T08:55:04.255Z"
   },
   {
    "duration": 8,
    "start_time": "2022-03-13T08:55:08.101Z"
   },
   {
    "duration": 893,
    "start_time": "2022-03-13T09:02:44.237Z"
   },
   {
    "duration": 97,
    "start_time": "2022-03-13T09:02:55.516Z"
   },
   {
    "duration": 396,
    "start_time": "2022-03-13T16:54:55.370Z"
   },
   {
    "duration": 1757,
    "start_time": "2022-03-13T16:55:05.931Z"
   },
   {
    "duration": 55,
    "start_time": "2022-03-13T16:55:07.691Z"
   },
   {
    "duration": 11,
    "start_time": "2022-03-13T16:55:07.750Z"
   },
   {
    "duration": 21,
    "start_time": "2022-03-13T16:55:07.764Z"
   },
   {
    "duration": 95,
    "start_time": "2022-03-13T16:55:07.788Z"
   },
   {
    "duration": 7,
    "start_time": "2022-03-13T16:55:07.886Z"
   },
   {
    "duration": 44,
    "start_time": "2022-03-13T16:55:07.896Z"
   },
   {
    "duration": 31,
    "start_time": "2022-03-13T16:55:07.943Z"
   },
   {
    "duration": 7845,
    "start_time": "2022-03-13T16:55:15.800Z"
   },
   {
    "duration": 76,
    "start_time": "2022-03-13T16:59:16.177Z"
   },
   {
    "duration": 980,
    "start_time": "2022-03-13T16:59:30.076Z"
   },
   {
    "duration": 1239,
    "start_time": "2022-03-13T17:00:08.245Z"
   },
   {
    "duration": 1214,
    "start_time": "2022-03-13T17:00:21.011Z"
   },
   {
    "duration": 1011,
    "start_time": "2022-03-13T17:01:00.930Z"
   },
   {
    "duration": 700,
    "start_time": "2022-03-13T17:01:23.909Z"
   },
   {
    "duration": 824,
    "start_time": "2022-03-13T17:01:53.271Z"
   },
   {
    "duration": 100,
    "start_time": "2022-03-13T17:02:14.016Z"
   },
   {
    "duration": 1194,
    "start_time": "2022-03-13T17:02:17.587Z"
   },
   {
    "duration": 1225,
    "start_time": "2022-03-13T17:03:39.766Z"
   },
   {
    "duration": 98,
    "start_time": "2022-03-13T17:03:55.417Z"
   },
   {
    "duration": 1722,
    "start_time": "2022-03-13T17:04:09.620Z"
   },
   {
    "duration": 1365,
    "start_time": "2022-03-13T17:04:19.931Z"
   },
   {
    "duration": 1071,
    "start_time": "2022-03-13T17:04:34.819Z"
   },
   {
    "duration": 951,
    "start_time": "2022-03-13T17:04:44.449Z"
   },
   {
    "duration": 1028,
    "start_time": "2022-03-13T17:05:13.121Z"
   },
   {
    "duration": 978,
    "start_time": "2022-03-13T17:05:24.914Z"
   },
   {
    "duration": 1352,
    "start_time": "2022-03-13T17:05:38.989Z"
   },
   {
    "duration": 1030,
    "start_time": "2022-03-13T17:05:56.250Z"
   },
   {
    "duration": 926,
    "start_time": "2022-03-13T17:06:05.546Z"
   },
   {
    "duration": 950,
    "start_time": "2022-03-13T17:07:57.428Z"
   },
   {
    "duration": 434,
    "start_time": "2022-03-13T17:09:23.710Z"
   },
   {
    "duration": 563,
    "start_time": "2022-03-13T17:09:38.822Z"
   },
   {
    "duration": 385,
    "start_time": "2022-03-13T17:13:24.472Z"
   },
   {
    "duration": 410,
    "start_time": "2022-03-13T17:13:50.118Z"
   },
   {
    "duration": 444,
    "start_time": "2022-03-13T17:15:59.947Z"
   },
   {
    "duration": 523,
    "start_time": "2022-03-13T17:16:28.409Z"
   },
   {
    "duration": 274,
    "start_time": "2022-03-13T17:24:28.912Z"
   },
   {
    "duration": 318,
    "start_time": "2022-03-13T17:24:55.214Z"
   },
   {
    "duration": 405,
    "start_time": "2022-03-13T17:25:03.584Z"
   },
   {
    "duration": 458,
    "start_time": "2022-03-13T17:25:26.486Z"
   },
   {
    "duration": 504,
    "start_time": "2022-03-13T17:26:01.010Z"
   },
   {
    "duration": 426,
    "start_time": "2022-03-13T17:27:40.538Z"
   },
   {
    "duration": 998,
    "start_time": "2022-03-13T17:36:01.411Z"
   },
   {
    "duration": 1006,
    "start_time": "2022-03-13T17:37:13.216Z"
   },
   {
    "duration": 981,
    "start_time": "2022-03-13T17:37:18.093Z"
   },
   {
    "duration": 1016,
    "start_time": "2022-03-13T17:37:22.760Z"
   },
   {
    "duration": 428,
    "start_time": "2022-03-13T17:37:38.805Z"
   },
   {
    "duration": 530,
    "start_time": "2022-03-13T17:37:47.896Z"
   },
   {
    "duration": 406,
    "start_time": "2022-03-13T17:37:51.070Z"
   },
   {
    "duration": 416,
    "start_time": "2022-03-13T17:37:53.432Z"
   },
   {
    "duration": 398,
    "start_time": "2022-03-13T17:37:55.700Z"
   },
   {
    "duration": 619,
    "start_time": "2022-03-13T17:42:33.267Z"
   },
   {
    "duration": 516,
    "start_time": "2022-03-13T17:42:42.019Z"
   },
   {
    "duration": 500,
    "start_time": "2022-03-13T17:42:45.020Z"
   },
   {
    "duration": 537,
    "start_time": "2022-03-13T17:42:54.322Z"
   },
   {
    "duration": 538,
    "start_time": "2022-03-13T17:43:06.891Z"
   },
   {
    "duration": 557,
    "start_time": "2022-03-13T17:43:11.167Z"
   },
   {
    "duration": 506,
    "start_time": "2022-03-13T17:43:18.139Z"
   },
   {
    "duration": 588,
    "start_time": "2022-03-13T17:49:06.214Z"
   },
   {
    "duration": 670,
    "start_time": "2022-03-13T17:49:15.462Z"
   },
   {
    "duration": 313,
    "start_time": "2022-03-13T17:57:20.701Z"
   },
   {
    "duration": 407,
    "start_time": "2022-03-13T17:58:18.707Z"
   },
   {
    "duration": 609,
    "start_time": "2022-03-13T17:58:27.050Z"
   },
   {
    "duration": 801,
    "start_time": "2022-03-13T17:59:27.810Z"
   },
   {
    "duration": 901,
    "start_time": "2022-03-13T17:59:34.994Z"
   },
   {
    "duration": 663,
    "start_time": "2022-03-13T18:00:01.636Z"
   },
   {
    "duration": 296,
    "start_time": "2022-03-13T18:00:08.585Z"
   },
   {
    "duration": 713,
    "start_time": "2022-03-13T18:00:26.093Z"
   },
   {
    "duration": 202,
    "start_time": "2022-03-13T18:00:34.797Z"
   },
   {
    "duration": 255,
    "start_time": "2022-03-13T18:01:02.456Z"
   },
   {
    "duration": 219,
    "start_time": "2022-03-13T18:01:11.200Z"
   },
   {
    "duration": 122,
    "start_time": "2022-03-13T18:01:30.269Z"
   },
   {
    "duration": 253,
    "start_time": "2022-03-13T18:01:35.108Z"
   },
   {
    "duration": 27,
    "start_time": "2022-03-13T18:01:50.365Z"
   },
   {
    "duration": 281,
    "start_time": "2022-03-13T18:02:11.099Z"
   },
   {
    "duration": 27,
    "start_time": "2022-03-13T18:02:15.721Z"
   },
   {
    "duration": 21,
    "start_time": "2022-03-13T18:02:23.618Z"
   },
   {
    "duration": 305,
    "start_time": "2022-03-13T18:02:52.619Z"
   },
   {
    "duration": 272,
    "start_time": "2022-03-13T18:03:02.729Z"
   },
   {
    "duration": 274,
    "start_time": "2022-03-13T18:03:13.975Z"
   },
   {
    "duration": 21,
    "start_time": "2022-03-13T18:03:37.259Z"
   },
   {
    "duration": 20,
    "start_time": "2022-03-13T18:04:55.098Z"
   },
   {
    "duration": 278,
    "start_time": "2022-03-13T18:04:57.675Z"
   },
   {
    "duration": 491,
    "start_time": "2022-03-13T18:05:09.128Z"
   },
   {
    "duration": 332,
    "start_time": "2022-03-13T18:05:25.429Z"
   },
   {
    "duration": 492,
    "start_time": "2022-03-13T18:05:41.201Z"
   },
   {
    "duration": 401,
    "start_time": "2022-03-13T18:06:43.318Z"
   },
   {
    "duration": 363,
    "start_time": "2022-03-13T18:06:59.586Z"
   },
   {
    "duration": 498,
    "start_time": "2022-03-13T18:07:03.222Z"
   },
   {
    "duration": 6684,
    "start_time": "2022-03-13T18:09:03.495Z"
   },
   {
    "duration": 6,
    "start_time": "2022-03-13T18:09:21.071Z"
   },
   {
    "duration": 6,
    "start_time": "2022-03-13T18:09:29.920Z"
   },
   {
    "duration": 7,
    "start_time": "2022-03-13T18:09:32.845Z"
   },
   {
    "duration": 7,
    "start_time": "2022-03-13T18:09:36.539Z"
   },
   {
    "duration": 7,
    "start_time": "2022-03-13T18:09:41.797Z"
   },
   {
    "duration": 7,
    "start_time": "2022-03-13T18:09:49.689Z"
   },
   {
    "duration": 951,
    "start_time": "2022-03-13T18:12:36.614Z"
   },
   {
    "duration": 6,
    "start_time": "2022-03-13T18:12:51.144Z"
   },
   {
    "duration": 282,
    "start_time": "2022-03-13T18:14:14.575Z"
   },
   {
    "duration": 6484,
    "start_time": "2022-03-13T18:15:08.633Z"
   },
   {
    "duration": 471,
    "start_time": "2022-03-13T18:15:17.631Z"
   },
   {
    "duration": 7,
    "start_time": "2022-03-13T18:15:20.688Z"
   },
   {
    "duration": 7,
    "start_time": "2022-03-13T18:15:50.043Z"
   },
   {
    "duration": 128,
    "start_time": "2022-03-14T08:13:17.601Z"
   },
   {
    "duration": 2186,
    "start_time": "2022-03-14T08:13:23.780Z"
   },
   {
    "duration": 2983,
    "start_time": "2022-03-14T08:13:31.813Z"
   },
   {
    "duration": 675,
    "start_time": "2022-03-14T08:13:34.799Z"
   },
   {
    "duration": 28,
    "start_time": "2022-03-14T08:13:35.477Z"
   },
   {
    "duration": 45,
    "start_time": "2022-03-14T08:13:35.508Z"
   },
   {
    "duration": 120,
    "start_time": "2022-03-14T08:13:35.555Z"
   },
   {
    "duration": 6,
    "start_time": "2022-03-14T08:13:35.677Z"
   },
   {
    "duration": 76,
    "start_time": "2022-03-14T08:13:35.685Z"
   },
   {
    "duration": 34,
    "start_time": "2022-03-14T08:13:35.764Z"
   },
   {
    "duration": 966,
    "start_time": "2022-03-14T08:13:35.853Z"
   },
   {
    "duration": 400,
    "start_time": "2022-03-14T08:13:36.822Z"
   },
   {
    "duration": 486,
    "start_time": "2022-03-14T08:13:37.225Z"
   },
   {
    "duration": 438,
    "start_time": "2022-03-14T08:13:37.713Z"
   },
   {
    "duration": 655,
    "start_time": "2022-03-14T08:13:38.154Z"
   },
   {
    "duration": 443,
    "start_time": "2022-03-14T08:13:38.812Z"
   },
   {
    "duration": 6,
    "start_time": "2022-03-14T08:13:39.258Z"
   },
   {
    "duration": 6,
    "start_time": "2022-03-14T08:13:44.084Z"
   },
   {
    "duration": 6,
    "start_time": "2022-03-14T08:13:49.224Z"
   },
   {
    "duration": 671,
    "start_time": "2022-03-14T08:15:09.363Z"
   },
   {
    "duration": 458,
    "start_time": "2022-03-14T08:15:19.083Z"
   },
   {
    "duration": 935,
    "start_time": "2022-03-14T08:16:23.513Z"
   },
   {
    "duration": 1169,
    "start_time": "2022-03-14T08:16:42.563Z"
   },
   {
    "duration": 8184,
    "start_time": "2022-03-14T10:54:48.365Z"
   },
   {
    "duration": 6,
    "start_time": "2022-03-14T10:54:58.963Z"
   },
   {
    "duration": 481,
    "start_time": "2022-03-14T10:57:57.205Z"
   },
   {
    "duration": 25,
    "start_time": "2022-03-14T10:58:17.802Z"
   },
   {
    "duration": 513,
    "start_time": "2022-03-14T10:59:36.242Z"
   },
   {
    "duration": 413,
    "start_time": "2022-03-14T11:00:09.023Z"
   },
   {
    "duration": 426,
    "start_time": "2022-03-14T11:00:45.222Z"
   },
   {
    "duration": 375,
    "start_time": "2022-03-14T11:00:54.292Z"
   },
   {
    "duration": 392,
    "start_time": "2022-03-14T11:04:19.045Z"
   },
   {
    "duration": 391,
    "start_time": "2022-03-14T11:04:53.162Z"
   },
   {
    "duration": 3,
    "start_time": "2022-03-14T11:04:59.463Z"
   },
   {
    "duration": 382,
    "start_time": "2022-03-14T11:05:40.522Z"
   },
   {
    "duration": 342,
    "start_time": "2022-03-14T11:08:17.084Z"
   },
   {
    "duration": 5,
    "start_time": "2022-03-14T11:08:33.603Z"
   },
   {
    "duration": 6,
    "start_time": "2022-03-14T11:08:41.204Z"
   },
   {
    "duration": 74,
    "start_time": "2022-03-17T12:02:54.782Z"
   },
   {
    "duration": 1679,
    "start_time": "2022-03-17T12:03:30.296Z"
   },
   {
    "duration": 39,
    "start_time": "2022-03-17T12:03:31.979Z"
   },
   {
    "duration": 5,
    "start_time": "2022-03-17T12:03:32.020Z"
   },
   {
    "duration": 25,
    "start_time": "2022-03-17T12:03:32.027Z"
   },
   {
    "duration": 66,
    "start_time": "2022-03-17T12:03:32.075Z"
   },
   {
    "duration": 7,
    "start_time": "2022-03-17T12:03:32.143Z"
   },
   {
    "duration": 38,
    "start_time": "2022-03-17T12:03:32.153Z"
   },
   {
    "duration": 92,
    "start_time": "2022-03-17T12:03:32.193Z"
   },
   {
    "duration": 1021,
    "start_time": "2022-03-17T12:03:32.288Z"
   },
   {
    "duration": 345,
    "start_time": "2022-03-17T12:03:33.311Z"
   },
   {
    "duration": 525,
    "start_time": "2022-03-17T12:03:33.658Z"
   },
   {
    "duration": 364,
    "start_time": "2022-03-17T12:03:34.185Z"
   },
   {
    "duration": 498,
    "start_time": "2022-03-17T12:03:34.552Z"
   },
   {
    "duration": 24,
    "start_time": "2022-03-17T12:03:35.055Z"
   },
   {
    "duration": 6,
    "start_time": "2022-03-17T12:03:35.082Z"
   },
   {
    "duration": 44,
    "start_time": "2022-03-17T12:03:35.090Z"
   },
   {
    "duration": 208,
    "start_time": "2022-03-17T12:03:35.136Z"
   },
   {
    "duration": 204,
    "start_time": "2022-03-17T12:03:35.347Z"
   },
   {
    "duration": 6,
    "start_time": "2022-03-17T12:03:35.553Z"
   },
   {
    "duration": 23,
    "start_time": "2022-03-17T12:03:35.573Z"
   },
   {
    "duration": 208,
    "start_time": "2022-03-17T12:03:54.556Z"
   },
   {
    "duration": 145,
    "start_time": "2022-03-17T12:10:16.112Z"
   },
   {
    "duration": 209,
    "start_time": "2022-03-17T12:15:43.758Z"
   },
   {
    "duration": 127,
    "start_time": "2022-03-17T12:21:55.468Z"
   },
   {
    "duration": 292,
    "start_time": "2022-03-17T12:22:08.073Z"
   },
   {
    "duration": 127,
    "start_time": "2022-03-17T12:22:41.253Z"
   },
   {
    "duration": 12,
    "start_time": "2022-03-17T12:22:47.568Z"
   },
   {
    "duration": 5,
    "start_time": "2022-03-17T12:23:12.374Z"
   },
   {
    "duration": 110,
    "start_time": "2022-03-17T12:23:16.026Z"
   },
   {
    "duration": 25,
    "start_time": "2022-03-17T12:24:12.692Z"
   },
   {
    "duration": 29,
    "start_time": "2022-03-17T12:24:25.819Z"
   },
   {
    "duration": 12,
    "start_time": "2022-03-17T12:24:29.021Z"
   },
   {
    "duration": 23,
    "start_time": "2022-03-17T12:24:31.475Z"
   },
   {
    "duration": 22,
    "start_time": "2022-03-17T12:28:00.130Z"
   },
   {
    "duration": 15,
    "start_time": "2022-03-17T12:28:57.367Z"
   },
   {
    "duration": 15,
    "start_time": "2022-03-17T12:29:06.639Z"
   },
   {
    "duration": 13,
    "start_time": "2022-03-17T12:29:10.890Z"
   },
   {
    "duration": 19,
    "start_time": "2022-03-17T12:30:10.197Z"
   },
   {
    "duration": 162,
    "start_time": "2022-03-17T12:30:13.958Z"
   },
   {
    "duration": 23,
    "start_time": "2022-03-17T12:30:16.920Z"
   },
   {
    "duration": 138,
    "start_time": "2022-03-17T12:30:33.850Z"
   },
   {
    "duration": 180,
    "start_time": "2022-03-17T12:30:46.210Z"
   },
   {
    "duration": 12,
    "start_time": "2022-03-17T12:30:51.650Z"
   },
   {
    "duration": 21,
    "start_time": "2022-03-17T12:30:56.190Z"
   },
   {
    "duration": 14,
    "start_time": "2022-03-17T12:31:05.978Z"
   },
   {
    "duration": 14,
    "start_time": "2022-03-17T12:34:06.332Z"
   },
   {
    "duration": 16,
    "start_time": "2022-03-17T12:39:43.536Z"
   },
   {
    "duration": 15,
    "start_time": "2022-03-17T13:11:57.749Z"
   },
   {
    "duration": 23,
    "start_time": "2022-03-17T13:12:03.069Z"
   },
   {
    "duration": 6,
    "start_time": "2022-03-17T13:12:38.628Z"
   },
   {
    "duration": 16,
    "start_time": "2022-03-17T13:12:52.854Z"
   },
   {
    "duration": 14,
    "start_time": "2022-03-17T13:13:14.128Z"
   },
   {
    "duration": 206,
    "start_time": "2022-03-17T13:16:00.868Z"
   },
   {
    "duration": 27,
    "start_time": "2022-03-17T13:16:22.915Z"
   },
   {
    "duration": 5,
    "start_time": "2022-03-17T13:19:41.332Z"
   },
   {
    "duration": 14,
    "start_time": "2022-03-17T13:19:43.288Z"
   },
   {
    "duration": 20,
    "start_time": "2022-03-17T13:19:55.248Z"
   },
   {
    "duration": 6,
    "start_time": "2022-03-17T13:22:15.773Z"
   },
   {
    "duration": 5,
    "start_time": "2022-03-17T13:22:45.610Z"
   },
   {
    "duration": 13,
    "start_time": "2022-03-17T13:22:47.798Z"
   },
   {
    "duration": 195,
    "start_time": "2022-03-17T13:24:25.110Z"
   },
   {
    "duration": 15,
    "start_time": "2022-03-17T13:24:32.462Z"
   },
   {
    "duration": 5,
    "start_time": "2022-03-17T13:25:11.673Z"
   },
   {
    "duration": 8,
    "start_time": "2022-03-17T13:29:41.935Z"
   },
   {
    "duration": 6,
    "start_time": "2022-03-17T13:29:45.029Z"
   },
   {
    "duration": 6,
    "start_time": "2022-03-17T13:29:48.387Z"
   },
   {
    "duration": 6,
    "start_time": "2022-03-17T13:30:02.088Z"
   },
   {
    "duration": 7,
    "start_time": "2022-03-17T13:30:06.083Z"
   },
   {
    "duration": 7,
    "start_time": "2022-03-17T13:30:10.509Z"
   },
   {
    "duration": 2747,
    "start_time": "2022-03-17T13:36:44.086Z"
   },
   {
    "duration": 230,
    "start_time": "2022-03-17T13:37:14.634Z"
   },
   {
    "duration": 191,
    "start_time": "2022-03-17T13:37:56.167Z"
   },
   {
    "duration": 190,
    "start_time": "2022-03-17T13:38:11.418Z"
   },
   {
    "duration": 15,
    "start_time": "2022-03-17T13:42:48.054Z"
   },
   {
    "duration": 5,
    "start_time": "2022-03-17T13:43:21.009Z"
   },
   {
    "duration": 16,
    "start_time": "2022-03-17T13:43:25.608Z"
   },
   {
    "duration": 184,
    "start_time": "2022-03-17T13:43:41.192Z"
   },
   {
    "duration": 197,
    "start_time": "2022-03-17T13:43:54.776Z"
   },
   {
    "duration": 191,
    "start_time": "2022-03-17T13:44:55.056Z"
   },
   {
    "duration": 183,
    "start_time": "2022-03-17T13:45:03.299Z"
   },
   {
    "duration": 6,
    "start_time": "2022-03-17T13:45:12.055Z"
   },
   {
    "duration": 7,
    "start_time": "2022-03-17T13:45:41.794Z"
   },
   {
    "duration": 17,
    "start_time": "2022-03-17T13:45:45.287Z"
   },
   {
    "duration": 6,
    "start_time": "2022-03-17T13:45:49.860Z"
   },
   {
    "duration": 195,
    "start_time": "2022-03-17T17:07:18.996Z"
   },
   {
    "duration": 198,
    "start_time": "2022-03-17T17:07:52.330Z"
   },
   {
    "duration": 201,
    "start_time": "2022-03-17T17:08:00.258Z"
   },
   {
    "duration": 292,
    "start_time": "2022-03-17T17:08:06.215Z"
   },
   {
    "duration": 192,
    "start_time": "2022-03-17T17:08:18.790Z"
   },
   {
    "duration": 344,
    "start_time": "2022-03-17T17:28:25.598Z"
   },
   {
    "duration": 298,
    "start_time": "2022-03-17T17:28:35.957Z"
   },
   {
    "duration": 313,
    "start_time": "2022-03-17T17:29:22.718Z"
   },
   {
    "duration": 15,
    "start_time": "2022-03-17T17:30:02.350Z"
   },
   {
    "duration": 694,
    "start_time": "2022-03-17T17:33:41.237Z"
   },
   {
    "duration": 682,
    "start_time": "2022-03-17T17:33:49.167Z"
   },
   {
    "duration": 399,
    "start_time": "2022-03-17T17:35:29.858Z"
   },
   {
    "duration": 13,
    "start_time": "2022-03-17T17:36:49.245Z"
   },
   {
    "duration": 519,
    "start_time": "2022-03-17T17:37:38.141Z"
   },
   {
    "duration": 325,
    "start_time": "2022-03-17T17:37:43.032Z"
   },
   {
    "duration": 30,
    "start_time": "2022-03-17T17:44:39.450Z"
   },
   {
    "duration": 15,
    "start_time": "2022-03-17T17:45:04.349Z"
   },
   {
    "duration": 331,
    "start_time": "2022-03-17T17:45:13.127Z"
   },
   {
    "duration": 15,
    "start_time": "2022-03-17T17:45:15.189Z"
   },
   {
    "duration": 14,
    "start_time": "2022-03-17T17:45:51.071Z"
   },
   {
    "duration": 30,
    "start_time": "2022-03-17T17:45:55.110Z"
   },
   {
    "duration": 11,
    "start_time": "2022-03-17T17:46:02.430Z"
   },
   {
    "duration": 8,
    "start_time": "2022-03-17T17:46:08.530Z"
   },
   {
    "duration": 12,
    "start_time": "2022-03-17T17:46:19.109Z"
   },
   {
    "duration": 7,
    "start_time": "2022-03-17T17:46:30.450Z"
   },
   {
    "duration": 8,
    "start_time": "2022-03-17T17:46:45.379Z"
   },
   {
    "duration": 299,
    "start_time": "2022-03-17T17:48:30.560Z"
   },
   {
    "duration": 45,
    "start_time": "2022-03-17T17:48:58.426Z"
   },
   {
    "duration": 28,
    "start_time": "2022-03-17T17:49:05.450Z"
   },
   {
    "duration": 28,
    "start_time": "2022-03-17T17:49:14.879Z"
   },
   {
    "duration": 28,
    "start_time": "2022-03-17T17:49:18.569Z"
   },
   {
    "duration": 7,
    "start_time": "2022-03-17T17:49:21.928Z"
   },
   {
    "duration": 10,
    "start_time": "2022-03-17T17:49:30.170Z"
   },
   {
    "duration": 295,
    "start_time": "2022-03-17T17:50:39.790Z"
   },
   {
    "duration": 29,
    "start_time": "2022-03-17T17:50:44.330Z"
   },
   {
    "duration": 30,
    "start_time": "2022-03-17T17:50:51.949Z"
   },
   {
    "duration": 7,
    "start_time": "2022-03-17T17:50:55.749Z"
   },
   {
    "duration": 7,
    "start_time": "2022-03-17T17:51:02.498Z"
   },
   {
    "duration": 12,
    "start_time": "2022-03-17T17:51:35.709Z"
   },
   {
    "duration": 523,
    "start_time": "2022-03-17T17:52:01.351Z"
   },
   {
    "duration": 526,
    "start_time": "2022-03-17T17:52:43.413Z"
   },
   {
    "duration": 49,
    "start_time": "2022-03-17T17:52:47.950Z"
   },
   {
    "duration": 313,
    "start_time": "2022-03-17T17:53:13.798Z"
   },
   {
    "duration": 312,
    "start_time": "2022-03-17T17:53:50.980Z"
   },
   {
    "duration": 28,
    "start_time": "2022-03-17T17:53:55.470Z"
   },
   {
    "duration": 34,
    "start_time": "2022-03-17T18:01:37.218Z"
   },
   {
    "duration": 283,
    "start_time": "2022-03-17T18:01:47.490Z"
   },
   {
    "duration": 4,
    "start_time": "2022-03-17T18:01:55.621Z"
   },
   {
    "duration": 3,
    "start_time": "2022-03-17T18:01:59.110Z"
   },
   {
    "duration": 37,
    "start_time": "2022-03-17T18:02:06.082Z"
   },
   {
    "duration": 300,
    "start_time": "2022-03-17T18:02:11.369Z"
   },
   {
    "duration": 60,
    "start_time": "2022-03-17T18:02:23.291Z"
   },
   {
    "duration": 27,
    "start_time": "2022-03-17T18:02:42.870Z"
   },
   {
    "duration": 57,
    "start_time": "2022-03-17T18:02:48.357Z"
   },
   {
    "duration": 39,
    "start_time": "2022-03-17T18:02:55.098Z"
   },
   {
    "duration": 36,
    "start_time": "2022-03-17T18:03:18.429Z"
   },
   {
    "duration": 37,
    "start_time": "2022-03-17T18:03:26.129Z"
   },
   {
    "duration": 46,
    "start_time": "2022-03-17T18:03:33.821Z"
   },
   {
    "duration": 55,
    "start_time": "2022-03-17T18:04:10.740Z"
   },
   {
    "duration": 34,
    "start_time": "2022-03-17T18:04:18.671Z"
   },
   {
    "duration": 15,
    "start_time": "2022-03-17T18:07:05.289Z"
   },
   {
    "duration": 8,
    "start_time": "2022-03-17T18:07:08.455Z"
   },
   {
    "duration": 55,
    "start_time": "2022-03-17T18:07:10.470Z"
   },
   {
    "duration": 51,
    "start_time": "2022-03-17T18:07:22.538Z"
   },
   {
    "duration": 345,
    "start_time": "2022-03-17T18:07:37.920Z"
   },
   {
    "duration": 7,
    "start_time": "2022-03-17T18:07:40.138Z"
   },
   {
    "duration": 34,
    "start_time": "2022-03-17T18:07:43.170Z"
   },
   {
    "duration": 35,
    "start_time": "2022-03-17T18:07:45.250Z"
   },
   {
    "duration": 37,
    "start_time": "2022-03-17T18:08:18.979Z"
   },
   {
    "duration": 351,
    "start_time": "2022-03-17T18:08:54.378Z"
   },
   {
    "duration": 37,
    "start_time": "2022-03-17T18:09:18.737Z"
   },
   {
    "duration": 8,
    "start_time": "2022-03-17T18:09:32.478Z"
   },
   {
    "duration": 36,
    "start_time": "2022-03-17T18:09:47.468Z"
   },
   {
    "duration": 33,
    "start_time": "2022-03-17T18:09:57.169Z"
   },
   {
    "duration": 298,
    "start_time": "2022-03-17T18:10:12.890Z"
   },
   {
    "duration": 13,
    "start_time": "2022-03-17T18:18:39.953Z"
   },
   {
    "duration": 14,
    "start_time": "2022-03-17T18:18:49.638Z"
   },
   {
    "duration": 4,
    "start_time": "2022-03-17T18:19:30.691Z"
   },
   {
    "duration": 7,
    "start_time": "2022-03-17T18:21:07.392Z"
   },
   {
    "duration": 13,
    "start_time": "2022-03-17T18:21:37.411Z"
   },
   {
    "duration": 6,
    "start_time": "2022-03-17T18:22:03.151Z"
   },
   {
    "duration": 12,
    "start_time": "2022-03-17T18:22:05.615Z"
   },
   {
    "duration": 14,
    "start_time": "2022-03-17T18:22:08.069Z"
   },
   {
    "duration": 6,
    "start_time": "2022-03-17T18:22:16.011Z"
   },
   {
    "duration": 14,
    "start_time": "2022-03-17T18:22:17.891Z"
   },
   {
    "duration": 14,
    "start_time": "2022-03-17T18:22:19.870Z"
   },
   {
    "duration": 6,
    "start_time": "2022-03-17T18:22:52.850Z"
   },
   {
    "duration": 12,
    "start_time": "2022-03-17T18:22:54.571Z"
   },
   {
    "duration": 13,
    "start_time": "2022-03-17T18:22:59.150Z"
   },
   {
    "duration": 7,
    "start_time": "2022-03-17T18:23:14.698Z"
   },
   {
    "duration": 15,
    "start_time": "2022-03-17T18:23:16.999Z"
   },
   {
    "duration": 14,
    "start_time": "2022-03-17T18:23:18.731Z"
   },
   {
    "duration": 17,
    "start_time": "2022-03-17T18:26:13.130Z"
   },
   {
    "duration": 7,
    "start_time": "2022-03-17T18:27:52.969Z"
   },
   {
    "duration": 5,
    "start_time": "2022-03-17T18:27:58.491Z"
   },
   {
    "duration": 200,
    "start_time": "2022-03-17T18:28:04.030Z"
   },
   {
    "duration": 236,
    "start_time": "2022-03-17T18:28:07.550Z"
   },
   {
    "duration": 8,
    "start_time": "2022-03-17T18:31:35.839Z"
   },
   {
    "duration": 14,
    "start_time": "2022-03-17T18:33:36.011Z"
   },
   {
    "duration": 16,
    "start_time": "2022-03-17T18:33:44.136Z"
   },
   {
    "duration": 3,
    "start_time": "2022-03-17T18:33:58.051Z"
   },
   {
    "duration": 16,
    "start_time": "2022-03-17T18:34:03.819Z"
   },
   {
    "duration": 19,
    "start_time": "2022-03-17T18:34:23.238Z"
   },
   {
    "duration": 20,
    "start_time": "2022-03-17T18:34:30.430Z"
   },
   {
    "duration": 284,
    "start_time": "2022-03-17T18:36:56.670Z"
   },
   {
    "duration": 42,
    "start_time": "2022-03-17T18:37:04.958Z"
   },
   {
    "duration": 43,
    "start_time": "2022-03-17T18:38:55.071Z"
   },
   {
    "duration": 11,
    "start_time": "2022-03-18T09:06:38.424Z"
   },
   {
    "duration": 48,
    "start_time": "2022-03-18T09:06:42.157Z"
   },
   {
    "duration": 1382,
    "start_time": "2022-03-18T09:06:46.984Z"
   },
   {
    "duration": 34,
    "start_time": "2022-03-18T09:06:48.369Z"
   },
   {
    "duration": 3,
    "start_time": "2022-03-18T09:06:48.405Z"
   },
   {
    "duration": 35,
    "start_time": "2022-03-18T09:06:48.410Z"
   },
   {
    "duration": 53,
    "start_time": "2022-03-18T09:06:48.446Z"
   },
   {
    "duration": 5,
    "start_time": "2022-03-18T09:06:48.500Z"
   },
   {
    "duration": 30,
    "start_time": "2022-03-18T09:06:48.507Z"
   },
   {
    "duration": 29,
    "start_time": "2022-03-18T09:06:48.539Z"
   },
   {
    "duration": 631,
    "start_time": "2022-03-18T09:06:48.570Z"
   },
   {
    "duration": 223,
    "start_time": "2022-03-18T09:06:49.204Z"
   },
   {
    "duration": 396,
    "start_time": "2022-03-18T09:06:49.430Z"
   },
   {
    "duration": 232,
    "start_time": "2022-03-18T09:06:49.827Z"
   },
   {
    "duration": 370,
    "start_time": "2022-03-18T09:06:50.060Z"
   },
   {
    "duration": 136,
    "start_time": "2022-03-18T09:06:50.432Z"
   },
   {
    "duration": 4,
    "start_time": "2022-03-18T09:06:50.570Z"
   },
   {
    "duration": 17,
    "start_time": "2022-03-18T09:06:50.577Z"
   },
   {
    "duration": 32,
    "start_time": "2022-03-18T09:06:50.597Z"
   },
   {
    "duration": 130,
    "start_time": "2022-03-18T09:06:50.631Z"
   },
   {
    "duration": 129,
    "start_time": "2022-03-18T09:06:50.763Z"
   },
   {
    "duration": 9,
    "start_time": "2022-03-18T09:06:50.894Z"
   },
   {
    "duration": 12,
    "start_time": "2022-03-18T09:06:50.906Z"
   },
   {
    "duration": 162,
    "start_time": "2022-03-18T09:06:50.920Z"
   },
   {
    "duration": 6,
    "start_time": "2022-03-18T09:06:51.084Z"
   },
   {
    "duration": 6,
    "start_time": "2022-03-18T09:06:51.100Z"
   },
   {
    "duration": 2345,
    "start_time": "2022-03-18T09:06:51.108Z"
   },
   {
    "duration": 0,
    "start_time": "2022-03-18T09:06:53.456Z"
   },
   {
    "duration": 0,
    "start_time": "2022-03-18T09:06:53.457Z"
   },
   {
    "duration": 0,
    "start_time": "2022-03-18T09:06:53.459Z"
   },
   {
    "duration": 2213,
    "start_time": "2022-03-18T09:07:18.566Z"
   },
   {
    "duration": 378,
    "start_time": "2022-03-18T09:10:39.346Z"
   },
   {
    "duration": 1139,
    "start_time": "2022-03-18T09:10:43.417Z"
   },
   {
    "duration": 31,
    "start_time": "2022-03-18T09:10:44.558Z"
   },
   {
    "duration": 12,
    "start_time": "2022-03-18T09:10:44.591Z"
   },
   {
    "duration": 21,
    "start_time": "2022-03-18T09:10:44.605Z"
   },
   {
    "duration": 51,
    "start_time": "2022-03-18T09:10:44.628Z"
   },
   {
    "duration": 4,
    "start_time": "2022-03-18T09:10:44.681Z"
   },
   {
    "duration": 27,
    "start_time": "2022-03-18T09:10:44.687Z"
   },
   {
    "duration": 21,
    "start_time": "2022-03-18T09:10:44.717Z"
   },
   {
    "duration": 624,
    "start_time": "2022-03-18T09:10:44.740Z"
   },
   {
    "duration": 204,
    "start_time": "2022-03-18T09:10:45.366Z"
   },
   {
    "duration": 338,
    "start_time": "2022-03-18T09:10:45.573Z"
   },
   {
    "duration": 230,
    "start_time": "2022-03-18T09:10:45.913Z"
   },
   {
    "duration": 325,
    "start_time": "2022-03-18T09:10:46.145Z"
   },
   {
    "duration": 139,
    "start_time": "2022-03-18T09:10:46.474Z"
   },
   {
    "duration": 5,
    "start_time": "2022-03-18T09:10:46.614Z"
   },
   {
    "duration": 12,
    "start_time": "2022-03-18T09:10:46.620Z"
   },
   {
    "duration": 18,
    "start_time": "2022-03-18T09:10:46.634Z"
   },
   {
    "duration": 150,
    "start_time": "2022-03-18T09:10:46.653Z"
   },
   {
    "duration": 136,
    "start_time": "2022-03-18T09:10:46.805Z"
   },
   {
    "duration": 5,
    "start_time": "2022-03-18T09:10:46.943Z"
   },
   {
    "duration": 7,
    "start_time": "2022-03-18T09:10:46.949Z"
   },
   {
    "duration": 407,
    "start_time": "2022-03-18T09:10:46.958Z"
   },
   {
    "duration": 7,
    "start_time": "2022-03-18T09:10:47.366Z"
   },
   {
    "duration": 13,
    "start_time": "2022-03-18T09:10:47.374Z"
   },
   {
    "duration": 37,
    "start_time": "2022-03-18T09:10:47.389Z"
   },
   {
    "duration": 11,
    "start_time": "2022-03-18T09:10:47.427Z"
   },
   {
    "duration": 42,
    "start_time": "2022-03-18T09:10:47.441Z"
   },
   {
    "duration": 13,
    "start_time": "2022-03-18T09:10:47.501Z"
   },
   {
    "duration": 16,
    "start_time": "2022-03-18T09:18:03.738Z"
   },
   {
    "duration": 12,
    "start_time": "2022-03-18T09:18:15.624Z"
   },
   {
    "duration": 28,
    "start_time": "2022-03-18T09:23:04.899Z"
   },
   {
    "duration": 27,
    "start_time": "2022-03-18T09:23:15.272Z"
   },
   {
    "duration": 27,
    "start_time": "2022-03-18T09:23:24.296Z"
   },
   {
    "duration": 25,
    "start_time": "2022-03-18T09:23:36.434Z"
   },
   {
    "duration": 26,
    "start_time": "2022-03-18T09:23:45.501Z"
   },
   {
    "duration": 12,
    "start_time": "2022-03-18T09:27:37.039Z"
   },
   {
    "duration": 12,
    "start_time": "2022-03-18T09:27:43.980Z"
   },
   {
    "duration": 16,
    "start_time": "2022-03-18T09:35:01.013Z"
   },
   {
    "duration": 13,
    "start_time": "2022-03-18T09:35:04.192Z"
   },
   {
    "duration": 12,
    "start_time": "2022-03-18T09:35:07.560Z"
   },
   {
    "duration": 117,
    "start_time": "2022-03-18T09:35:29.820Z"
   },
   {
    "duration": 147,
    "start_time": "2022-03-18T09:35:33.423Z"
   },
   {
    "duration": 14,
    "start_time": "2022-03-18T09:35:35.739Z"
   },
   {
    "duration": 12,
    "start_time": "2022-03-18T09:35:40.739Z"
   },
   {
    "duration": 15,
    "start_time": "2022-03-18T09:37:06.271Z"
   },
   {
    "duration": 19,
    "start_time": "2022-03-18T09:37:15.691Z"
   },
   {
    "duration": 16,
    "start_time": "2022-03-18T09:37:21.532Z"
   },
   {
    "duration": 11,
    "start_time": "2022-03-18T09:45:12.195Z"
   },
   {
    "duration": 26,
    "start_time": "2022-03-18T09:55:11.242Z"
   },
   {
    "duration": 23,
    "start_time": "2022-03-18T09:56:02.302Z"
   },
   {
    "duration": 15,
    "start_time": "2022-03-18T09:56:08.182Z"
   },
   {
    "duration": 15,
    "start_time": "2022-03-18T09:57:54.602Z"
   },
   {
    "duration": 107,
    "start_time": "2022-03-18T09:57:58.223Z"
   },
   {
    "duration": 16,
    "start_time": "2022-03-18T09:58:00.810Z"
   },
   {
    "duration": 17,
    "start_time": "2022-03-18T09:58:11.203Z"
   },
   {
    "duration": 16,
    "start_time": "2022-03-18T09:58:31.338Z"
   },
   {
    "duration": 6,
    "start_time": "2022-03-18T13:36:32.864Z"
   },
   {
    "duration": 6,
    "start_time": "2022-03-18T13:36:35.270Z"
   },
   {
    "duration": 9,
    "start_time": "2022-03-18T13:37:35.250Z"
   },
   {
    "duration": 6,
    "start_time": "2022-03-18T13:37:43.488Z"
   },
   {
    "duration": 29,
    "start_time": "2022-03-18T13:37:49.298Z"
   },
   {
    "duration": 6,
    "start_time": "2022-03-18T13:37:56.628Z"
   },
   {
    "duration": 29,
    "start_time": "2022-03-18T13:37:58.463Z"
   },
   {
    "duration": 6,
    "start_time": "2022-03-18T13:38:04.791Z"
   },
   {
    "duration": 29,
    "start_time": "2022-03-18T13:38:07.359Z"
   },
   {
    "duration": 5,
    "start_time": "2022-03-18T13:38:53.493Z"
   },
   {
    "duration": 31,
    "start_time": "2022-03-18T13:38:55.694Z"
   },
   {
    "duration": 32,
    "start_time": "2022-03-18T13:50:58.610Z"
   },
   {
    "duration": 33,
    "start_time": "2022-03-18T13:53:03.402Z"
   },
   {
    "duration": 32,
    "start_time": "2022-03-18T13:53:07.684Z"
   },
   {
    "duration": 13,
    "start_time": "2022-03-18T13:53:58.393Z"
   },
   {
    "duration": 14,
    "start_time": "2022-03-18T13:54:01.764Z"
   },
   {
    "duration": 12,
    "start_time": "2022-03-18T13:54:04.602Z"
   },
   {
    "duration": 29,
    "start_time": "2022-03-18T13:55:01.783Z"
   },
   {
    "duration": 15,
    "start_time": "2022-03-18T13:57:18.351Z"
   },
   {
    "duration": 93,
    "start_time": "2022-03-18T17:09:59.371Z"
   },
   {
    "duration": 1785,
    "start_time": "2022-03-18T17:10:06.135Z"
   },
   {
    "duration": 51,
    "start_time": "2022-03-18T17:10:07.923Z"
   },
   {
    "duration": 6,
    "start_time": "2022-03-18T17:10:07.976Z"
   },
   {
    "duration": 22,
    "start_time": "2022-03-18T17:10:07.984Z"
   },
   {
    "duration": 99,
    "start_time": "2022-03-18T17:10:08.008Z"
   },
   {
    "duration": 7,
    "start_time": "2022-03-18T17:10:08.110Z"
   },
   {
    "duration": 40,
    "start_time": "2022-03-18T17:10:08.119Z"
   },
   {
    "duration": 42,
    "start_time": "2022-03-18T17:10:08.160Z"
   },
   {
    "duration": 1038,
    "start_time": "2022-03-18T17:10:08.248Z"
   },
   {
    "duration": 385,
    "start_time": "2022-03-18T17:10:09.291Z"
   },
   {
    "duration": 455,
    "start_time": "2022-03-18T17:10:09.678Z"
   },
   {
    "duration": 367,
    "start_time": "2022-03-18T17:10:10.145Z"
   },
   {
    "duration": 490,
    "start_time": "2022-03-18T17:10:10.515Z"
   },
   {
    "duration": 225,
    "start_time": "2022-03-18T17:10:11.008Z"
   },
   {
    "duration": 16,
    "start_time": "2022-03-18T17:10:11.236Z"
   },
   {
    "duration": 17,
    "start_time": "2022-03-18T17:10:11.255Z"
   },
   {
    "duration": 30,
    "start_time": "2022-03-18T17:10:11.275Z"
   },
   {
    "duration": 228,
    "start_time": "2022-03-18T17:10:11.307Z"
   },
   {
    "duration": 215,
    "start_time": "2022-03-18T17:10:11.542Z"
   },
   {
    "duration": 7,
    "start_time": "2022-03-18T17:10:11.761Z"
   },
   {
    "duration": 17,
    "start_time": "2022-03-18T17:10:11.772Z"
   },
   {
    "duration": 824,
    "start_time": "2022-03-18T17:10:11.792Z"
   },
   {
    "duration": 16,
    "start_time": "2022-03-18T17:10:12.618Z"
   },
   {
    "duration": 12,
    "start_time": "2022-03-18T17:10:12.646Z"
   },
   {
    "duration": 59,
    "start_time": "2022-03-18T17:10:12.660Z"
   },
   {
    "duration": 24,
    "start_time": "2022-03-18T17:10:12.721Z"
   },
   {
    "duration": 64,
    "start_time": "2022-03-18T17:10:12.750Z"
   },
   {
    "duration": 25,
    "start_time": "2022-03-18T17:10:12.818Z"
   },
   {
    "duration": 191,
    "start_time": "2022-03-18T17:12:07.302Z"
   },
   {
    "duration": 30,
    "start_time": "2022-03-18T17:27:05.581Z"
   },
   {
    "duration": 29,
    "start_time": "2022-03-18T17:27:20.199Z"
   },
   {
    "duration": 29,
    "start_time": "2022-03-18T17:27:28.870Z"
   },
   {
    "duration": 37,
    "start_time": "2022-03-18T17:27:39.925Z"
   },
   {
    "duration": 30,
    "start_time": "2022-03-18T17:36:18.185Z"
   },
   {
    "duration": 55,
    "start_time": "2022-03-18T17:36:34.649Z"
   },
   {
    "duration": 50,
    "start_time": "2022-03-18T17:37:05.405Z"
   },
   {
    "duration": 38,
    "start_time": "2022-03-18T17:37:12.892Z"
   },
   {
    "duration": 17,
    "start_time": "2022-03-18T17:37:40.505Z"
   },
   {
    "duration": 7,
    "start_time": "2022-03-18T17:37:45.440Z"
   },
   {
    "duration": 22,
    "start_time": "2022-03-18T17:37:53.005Z"
   },
   {
    "duration": 5,
    "start_time": "2022-03-18T17:38:47.925Z"
   },
   {
    "duration": 37,
    "start_time": "2022-03-18T17:38:52.684Z"
   },
   {
    "duration": 0,
    "start_time": "2022-03-18T17:39:13.713Z"
   },
   {
    "duration": 5,
    "start_time": "2022-03-18T17:39:16.366Z"
   },
   {
    "duration": 36,
    "start_time": "2022-03-18T17:39:18.035Z"
   },
   {
    "duration": 190,
    "start_time": "2022-03-18T17:39:31.725Z"
   },
   {
    "duration": 6,
    "start_time": "2022-03-18T17:39:36.292Z"
   },
   {
    "duration": 367,
    "start_time": "2022-03-18T18:43:52.235Z"
   },
   {
    "duration": 390,
    "start_time": "2022-03-18T18:43:59.412Z"
   },
   {
    "duration": 388,
    "start_time": "2022-03-18T18:44:14.713Z"
   },
   {
    "duration": 364,
    "start_time": "2022-03-18T18:44:20.292Z"
   },
   {
    "duration": 379,
    "start_time": "2022-03-18T18:45:21.885Z"
   },
   {
    "duration": 14,
    "start_time": "2022-03-18T19:07:38.584Z"
   },
   {
    "duration": 16,
    "start_time": "2022-03-18T19:07:48.975Z"
   },
   {
    "duration": 18,
    "start_time": "2022-03-18T19:08:15.668Z"
   },
   {
    "duration": 207,
    "start_time": "2022-03-18T19:12:59.166Z"
   },
   {
    "duration": 193,
    "start_time": "2022-03-18T19:14:22.214Z"
   },
   {
    "duration": 13,
    "start_time": "2022-03-18T19:15:23.474Z"
   },
   {
    "duration": 19,
    "start_time": "2022-03-18T19:16:32.269Z"
   },
   {
    "duration": 19,
    "start_time": "2022-03-18T19:17:15.726Z"
   },
   {
    "duration": 20,
    "start_time": "2022-03-18T19:17:54.768Z"
   },
   {
    "duration": 193,
    "start_time": "2022-03-18T19:46:34.331Z"
   },
   {
    "duration": 18,
    "start_time": "2022-03-18T19:49:13.858Z"
   },
   {
    "duration": 3138,
    "start_time": "2022-03-18T19:49:22.185Z"
   },
   {
    "duration": 1580,
    "start_time": "2022-03-18T19:49:34.225Z"
   },
   {
    "duration": 50,
    "start_time": "2022-03-18T19:49:35.809Z"
   },
   {
    "duration": 3,
    "start_time": "2022-03-18T19:49:35.864Z"
   },
   {
    "duration": 22,
    "start_time": "2022-03-18T19:49:35.869Z"
   },
   {
    "duration": 15,
    "start_time": "2022-03-18T19:49:35.895Z"
   },
   {
    "duration": 3573,
    "start_time": "2022-03-18T19:49:35.912Z"
   },
   {
    "duration": 0,
    "start_time": "2022-03-18T19:49:39.488Z"
   },
   {
    "duration": 0,
    "start_time": "2022-03-18T19:49:39.490Z"
   },
   {
    "duration": 0,
    "start_time": "2022-03-18T19:49:39.491Z"
   },
   {
    "duration": 0,
    "start_time": "2022-03-18T19:49:39.492Z"
   },
   {
    "duration": 0,
    "start_time": "2022-03-18T19:49:39.493Z"
   },
   {
    "duration": 0,
    "start_time": "2022-03-18T19:49:39.495Z"
   },
   {
    "duration": 0,
    "start_time": "2022-03-18T19:49:39.496Z"
   },
   {
    "duration": 0,
    "start_time": "2022-03-18T19:49:39.498Z"
   },
   {
    "duration": 0,
    "start_time": "2022-03-18T19:49:39.499Z"
   },
   {
    "duration": 0,
    "start_time": "2022-03-18T19:49:39.500Z"
   },
   {
    "duration": 0,
    "start_time": "2022-03-18T19:49:39.502Z"
   },
   {
    "duration": 0,
    "start_time": "2022-03-18T19:49:39.504Z"
   },
   {
    "duration": 0,
    "start_time": "2022-03-18T19:49:39.506Z"
   },
   {
    "duration": 0,
    "start_time": "2022-03-18T19:49:39.508Z"
   },
   {
    "duration": 0,
    "start_time": "2022-03-18T19:49:39.510Z"
   },
   {
    "duration": 0,
    "start_time": "2022-03-18T19:49:39.512Z"
   },
   {
    "duration": 0,
    "start_time": "2022-03-18T19:49:39.514Z"
   },
   {
    "duration": 0,
    "start_time": "2022-03-18T19:49:39.516Z"
   },
   {
    "duration": 0,
    "start_time": "2022-03-18T19:49:39.518Z"
   },
   {
    "duration": 0,
    "start_time": "2022-03-18T19:49:39.520Z"
   },
   {
    "duration": 0,
    "start_time": "2022-03-18T19:49:39.521Z"
   },
   {
    "duration": 0,
    "start_time": "2022-03-18T19:49:39.523Z"
   },
   {
    "duration": 0,
    "start_time": "2022-03-18T19:49:39.526Z"
   },
   {
    "duration": 16,
    "start_time": "2022-03-18T19:49:51.011Z"
   },
   {
    "duration": 17,
    "start_time": "2022-03-18T19:50:11.558Z"
   },
   {
    "duration": 16,
    "start_time": "2022-03-18T19:50:18.865Z"
   },
   {
    "duration": 17,
    "start_time": "2022-03-18T19:50:28.353Z"
   },
   {
    "duration": 1500,
    "start_time": "2022-03-18T19:50:33.349Z"
   },
   {
    "duration": 47,
    "start_time": "2022-03-18T19:50:34.852Z"
   },
   {
    "duration": 6,
    "start_time": "2022-03-18T19:50:34.902Z"
   },
   {
    "duration": 41,
    "start_time": "2022-03-18T19:50:34.913Z"
   },
   {
    "duration": 17,
    "start_time": "2022-03-18T19:50:34.956Z"
   },
   {
    "duration": 18,
    "start_time": "2022-03-18T19:50:34.975Z"
   },
   {
    "duration": 89,
    "start_time": "2022-03-18T19:50:34.995Z"
   },
   {
    "duration": 6,
    "start_time": "2022-03-18T19:50:35.087Z"
   },
   {
    "duration": 57,
    "start_time": "2022-03-18T19:50:35.095Z"
   },
   {
    "duration": 32,
    "start_time": "2022-03-18T19:50:35.157Z"
   },
   {
    "duration": 1177,
    "start_time": "2022-03-18T19:50:35.191Z"
   },
   {
    "duration": 343,
    "start_time": "2022-03-18T19:50:36.370Z"
   },
   {
    "duration": 495,
    "start_time": "2022-03-18T19:50:36.715Z"
   },
   {
    "duration": 383,
    "start_time": "2022-03-18T19:50:37.213Z"
   },
   {
    "duration": 490,
    "start_time": "2022-03-18T19:50:37.598Z"
   },
   {
    "duration": 223,
    "start_time": "2022-03-18T19:50:38.090Z"
   },
   {
    "duration": 7,
    "start_time": "2022-03-18T19:50:38.315Z"
   },
   {
    "duration": 4,
    "start_time": "2022-03-18T19:50:38.346Z"
   },
   {
    "duration": 228,
    "start_time": "2022-03-18T19:50:38.351Z"
   },
   {
    "duration": 227,
    "start_time": "2022-03-18T19:50:38.582Z"
   },
   {
    "duration": 5,
    "start_time": "2022-03-18T19:50:38.812Z"
   },
   {
    "duration": 7,
    "start_time": "2022-03-18T19:50:38.820Z"
   },
   {
    "duration": 718,
    "start_time": "2022-03-18T19:50:38.830Z"
   },
   {
    "duration": 18,
    "start_time": "2022-03-18T19:50:39.552Z"
   },
   {
    "duration": 21,
    "start_time": "2022-03-18T19:50:39.572Z"
   },
   {
    "duration": 68,
    "start_time": "2022-03-18T19:50:39.596Z"
   },
   {
    "duration": 19,
    "start_time": "2022-03-18T19:50:39.667Z"
   },
   {
    "duration": 79,
    "start_time": "2022-03-18T19:50:39.692Z"
   },
   {
    "duration": 21,
    "start_time": "2022-03-18T19:50:39.774Z"
   },
   {
    "duration": 51,
    "start_time": "2022-03-18T19:51:07.020Z"
   },
   {
    "duration": 24,
    "start_time": "2022-03-18T19:51:13.558Z"
   },
   {
    "duration": 96,
    "start_time": "2022-03-18T20:09:32.528Z"
   },
   {
    "duration": 71,
    "start_time": "2022-03-18T20:09:39.378Z"
   },
   {
    "duration": 83,
    "start_time": "2022-03-18T20:09:42.598Z"
   },
   {
    "duration": 17,
    "start_time": "2022-03-18T20:09:46.257Z"
   },
   {
    "duration": 76,
    "start_time": "2022-03-18T20:10:05.865Z"
   },
   {
    "duration": 17,
    "start_time": "2022-03-18T20:10:21.882Z"
   },
   {
    "duration": 78,
    "start_time": "2022-03-18T20:10:26.912Z"
   },
   {
    "duration": 87,
    "start_time": "2022-03-18T20:11:11.943Z"
   },
   {
    "duration": 76,
    "start_time": "2022-03-18T20:11:23.833Z"
   },
   {
    "duration": 4,
    "start_time": "2022-03-18T20:13:17.741Z"
   },
   {
    "duration": 0,
    "start_time": "2022-03-18T20:14:42.376Z"
   },
   {
    "duration": 3284,
    "start_time": "2022-03-18T20:14:44.102Z"
   },
   {
    "duration": 0,
    "start_time": "2022-03-18T20:14:47.388Z"
   },
   {
    "duration": 1708,
    "start_time": "2022-03-18T20:14:57.275Z"
   },
   {
    "duration": 42,
    "start_time": "2022-03-18T20:14:58.985Z"
   },
   {
    "duration": 21,
    "start_time": "2022-03-18T20:14:59.029Z"
   },
   {
    "duration": 32,
    "start_time": "2022-03-18T20:14:59.054Z"
   },
   {
    "duration": 21,
    "start_time": "2022-03-18T20:14:59.089Z"
   },
   {
    "duration": 37,
    "start_time": "2022-03-18T20:14:59.112Z"
   },
   {
    "duration": 95,
    "start_time": "2022-03-18T20:14:59.152Z"
   },
   {
    "duration": 21,
    "start_time": "2022-03-18T20:14:59.250Z"
   },
   {
    "duration": 1000,
    "start_time": "2022-03-18T20:14:59.274Z"
   },
   {
    "duration": 519,
    "start_time": "2022-03-18T20:15:00.278Z"
   },
   {
    "duration": 468,
    "start_time": "2022-03-18T20:15:00.800Z"
   },
   {
    "duration": 483,
    "start_time": "2022-03-18T20:15:01.271Z"
   },
   {
    "duration": 567,
    "start_time": "2022-03-18T20:15:01.756Z"
   },
   {
    "duration": 205,
    "start_time": "2022-03-18T20:15:02.326Z"
   },
   {
    "duration": 15,
    "start_time": "2022-03-18T20:15:02.535Z"
   },
   {
    "duration": 17,
    "start_time": "2022-03-18T20:15:02.559Z"
   },
   {
    "duration": 302,
    "start_time": "2022-03-18T20:15:02.578Z"
   },
   {
    "duration": 216,
    "start_time": "2022-03-18T20:15:02.883Z"
   },
   {
    "duration": 6,
    "start_time": "2022-03-18T20:15:03.102Z"
   },
   {
    "duration": 8,
    "start_time": "2022-03-18T20:15:03.110Z"
   },
   {
    "duration": 659,
    "start_time": "2022-03-18T20:15:03.142Z"
   },
   {
    "duration": 15,
    "start_time": "2022-03-18T20:15:03.804Z"
   },
   {
    "duration": 24,
    "start_time": "2022-03-18T20:15:03.821Z"
   },
   {
    "duration": 49,
    "start_time": "2022-03-18T20:15:03.850Z"
   },
   {
    "duration": 56,
    "start_time": "2022-03-18T20:15:03.901Z"
   },
   {
    "duration": 48,
    "start_time": "2022-03-18T20:15:03.962Z"
   },
   {
    "duration": 53,
    "start_time": "2022-03-18T20:15:04.012Z"
   },
   {
    "duration": 3468,
    "start_time": "2022-03-18T20:15:22.735Z"
   },
   {
    "duration": 3631,
    "start_time": "2022-03-18T20:15:37.297Z"
   },
   {
    "duration": 1474,
    "start_time": "2022-03-18T20:15:43.544Z"
   },
   {
    "duration": 56,
    "start_time": "2022-03-18T20:15:45.022Z"
   },
   {
    "duration": 4,
    "start_time": "2022-03-18T20:15:45.081Z"
   },
   {
    "duration": 25,
    "start_time": "2022-03-18T20:15:45.088Z"
   },
   {
    "duration": 47,
    "start_time": "2022-03-18T20:15:45.116Z"
   },
   {
    "duration": 21,
    "start_time": "2022-03-18T20:15:45.166Z"
   },
   {
    "duration": 85,
    "start_time": "2022-03-18T20:15:45.190Z"
   },
   {
    "duration": 16,
    "start_time": "2022-03-18T20:15:45.278Z"
   },
   {
    "duration": 1031,
    "start_time": "2022-03-18T20:15:45.296Z"
   },
   {
    "duration": 395,
    "start_time": "2022-03-18T20:15:46.342Z"
   },
   {
    "duration": 418,
    "start_time": "2022-03-18T20:15:46.743Z"
   },
   {
    "duration": 364,
    "start_time": "2022-03-18T20:15:47.163Z"
   },
   {
    "duration": 462,
    "start_time": "2022-03-18T20:15:47.530Z"
   },
   {
    "duration": 201,
    "start_time": "2022-03-18T20:15:47.994Z"
   },
   {
    "duration": 7,
    "start_time": "2022-03-18T20:15:48.197Z"
   },
   {
    "duration": 10,
    "start_time": "2022-03-18T20:15:48.207Z"
   },
   {
    "duration": 304,
    "start_time": "2022-03-18T20:15:48.244Z"
   },
   {
    "duration": 200,
    "start_time": "2022-03-18T20:15:48.550Z"
   },
   {
    "duration": 6,
    "start_time": "2022-03-18T20:15:48.752Z"
   },
   {
    "duration": 15,
    "start_time": "2022-03-18T20:15:48.760Z"
   },
   {
    "duration": 783,
    "start_time": "2022-03-18T20:15:48.778Z"
   },
   {
    "duration": 22,
    "start_time": "2022-03-18T20:15:49.564Z"
   },
   {
    "duration": 8,
    "start_time": "2022-03-18T20:15:49.588Z"
   },
   {
    "duration": 85,
    "start_time": "2022-03-18T20:15:49.600Z"
   },
   {
    "duration": 19,
    "start_time": "2022-03-18T20:15:49.687Z"
   },
   {
    "duration": 87,
    "start_time": "2022-03-18T20:15:49.708Z"
   },
   {
    "duration": 49,
    "start_time": "2022-03-18T20:15:49.798Z"
   },
   {
    "duration": 3469,
    "start_time": "2022-03-18T20:16:48.396Z"
   },
   {
    "duration": 1733,
    "start_time": "2022-03-18T20:16:53.885Z"
   },
   {
    "duration": 47,
    "start_time": "2022-03-18T20:16:55.621Z"
   },
   {
    "duration": 4,
    "start_time": "2022-03-18T20:16:55.671Z"
   },
   {
    "duration": 24,
    "start_time": "2022-03-18T20:16:55.678Z"
   },
   {
    "duration": 47,
    "start_time": "2022-03-18T20:16:55.707Z"
   },
   {
    "duration": 174,
    "start_time": "2022-03-18T20:16:55.757Z"
   },
   {
    "duration": 0,
    "start_time": "2022-03-18T20:16:55.943Z"
   },
   {
    "duration": 0,
    "start_time": "2022-03-18T20:16:55.944Z"
   },
   {
    "duration": 1,
    "start_time": "2022-03-18T20:16:55.946Z"
   },
   {
    "duration": 0,
    "start_time": "2022-03-18T20:16:55.948Z"
   },
   {
    "duration": 0,
    "start_time": "2022-03-18T20:16:55.949Z"
   },
   {
    "duration": 0,
    "start_time": "2022-03-18T20:16:55.950Z"
   },
   {
    "duration": 0,
    "start_time": "2022-03-18T20:16:55.951Z"
   },
   {
    "duration": 0,
    "start_time": "2022-03-18T20:16:55.953Z"
   },
   {
    "duration": 0,
    "start_time": "2022-03-18T20:16:55.956Z"
   },
   {
    "duration": 0,
    "start_time": "2022-03-18T20:16:55.960Z"
   },
   {
    "duration": 0,
    "start_time": "2022-03-18T20:16:55.962Z"
   },
   {
    "duration": 0,
    "start_time": "2022-03-18T20:16:55.963Z"
   },
   {
    "duration": 0,
    "start_time": "2022-03-18T20:16:55.965Z"
   },
   {
    "duration": 0,
    "start_time": "2022-03-18T20:16:55.967Z"
   },
   {
    "duration": 0,
    "start_time": "2022-03-18T20:16:55.969Z"
   },
   {
    "duration": 0,
    "start_time": "2022-03-18T20:16:55.971Z"
   },
   {
    "duration": 0,
    "start_time": "2022-03-18T20:16:55.973Z"
   },
   {
    "duration": 0,
    "start_time": "2022-03-18T20:16:55.975Z"
   },
   {
    "duration": 0,
    "start_time": "2022-03-18T20:16:55.977Z"
   },
   {
    "duration": 0,
    "start_time": "2022-03-18T20:16:55.979Z"
   },
   {
    "duration": 0,
    "start_time": "2022-03-18T20:16:55.982Z"
   },
   {
    "duration": 19,
    "start_time": "2022-03-18T20:17:10.813Z"
   },
   {
    "duration": 18,
    "start_time": "2022-03-18T20:17:17.834Z"
   },
   {
    "duration": 91,
    "start_time": "2022-03-18T20:18:15.379Z"
   },
   {
    "duration": 23,
    "start_time": "2022-03-18T20:18:18.025Z"
   },
   {
    "duration": 214,
    "start_time": "2022-03-18T20:24:32.342Z"
   },
   {
    "duration": 5,
    "start_time": "2022-03-18T20:27:10.239Z"
   },
   {
    "duration": 68,
    "start_time": "2022-03-18T20:27:35.256Z"
   },
   {
    "duration": 11,
    "start_time": "2022-03-18T20:28:43.745Z"
   },
   {
    "duration": 10,
    "start_time": "2022-03-18T20:30:58.865Z"
   },
   {
    "duration": 1050,
    "start_time": "2022-03-19T12:20:40.153Z"
   },
   {
    "duration": 30,
    "start_time": "2022-03-19T12:20:41.205Z"
   },
   {
    "duration": 3,
    "start_time": "2022-03-19T12:20:41.236Z"
   },
   {
    "duration": 15,
    "start_time": "2022-03-19T12:20:41.241Z"
   },
   {
    "duration": 9,
    "start_time": "2022-03-19T12:20:41.257Z"
   },
   {
    "duration": 15,
    "start_time": "2022-03-19T12:20:41.268Z"
   },
   {
    "duration": 63,
    "start_time": "2022-03-19T12:20:41.284Z"
   },
   {
    "duration": 9,
    "start_time": "2022-03-19T12:20:41.348Z"
   },
   {
    "duration": 8,
    "start_time": "2022-03-19T12:20:41.358Z"
   },
   {
    "duration": 509,
    "start_time": "2022-03-19T12:20:41.368Z"
   },
   {
    "duration": 178,
    "start_time": "2022-03-19T12:20:41.879Z"
   },
   {
    "duration": 271,
    "start_time": "2022-03-19T12:20:42.058Z"
   },
   {
    "duration": 188,
    "start_time": "2022-03-19T12:20:42.330Z"
   },
   {
    "duration": 287,
    "start_time": "2022-03-19T12:20:42.520Z"
   },
   {
    "duration": 99,
    "start_time": "2022-03-19T12:20:42.809Z"
   },
   {
    "duration": 4,
    "start_time": "2022-03-19T12:20:42.909Z"
   },
   {
    "duration": 4,
    "start_time": "2022-03-19T12:20:42.915Z"
   },
   {
    "duration": 116,
    "start_time": "2022-03-19T12:20:42.921Z"
   },
   {
    "duration": 110,
    "start_time": "2022-03-19T12:20:43.039Z"
   },
   {
    "duration": 4,
    "start_time": "2022-03-19T12:20:43.150Z"
   },
   {
    "duration": 4,
    "start_time": "2022-03-19T12:20:43.155Z"
   },
   {
    "duration": 340,
    "start_time": "2022-03-19T12:20:43.161Z"
   },
   {
    "duration": 9,
    "start_time": "2022-03-19T12:20:43.502Z"
   },
   {
    "duration": 5,
    "start_time": "2022-03-19T12:20:43.512Z"
   },
   {
    "duration": 28,
    "start_time": "2022-03-19T12:20:43.518Z"
   },
   {
    "duration": 10,
    "start_time": "2022-03-19T12:20:43.547Z"
   },
   {
    "duration": 52,
    "start_time": "2022-03-19T12:20:43.558Z"
   },
   {
    "duration": 12,
    "start_time": "2022-03-19T12:20:43.613Z"
   },
   {
    "duration": 1133,
    "start_time": "2022-03-19T12:40:00.384Z"
   },
   {
    "duration": 31,
    "start_time": "2022-03-19T12:40:01.519Z"
   },
   {
    "duration": 3,
    "start_time": "2022-03-19T12:40:01.552Z"
   },
   {
    "duration": 16,
    "start_time": "2022-03-19T12:40:01.556Z"
   },
   {
    "duration": 9,
    "start_time": "2022-03-19T12:40:01.574Z"
   },
   {
    "duration": 28,
    "start_time": "2022-03-19T12:40:01.585Z"
   },
   {
    "duration": 62,
    "start_time": "2022-03-19T12:40:01.615Z"
   },
   {
    "duration": 8,
    "start_time": "2022-03-19T12:40:01.679Z"
   },
   {
    "duration": 18,
    "start_time": "2022-03-19T12:40:01.689Z"
   },
   {
    "duration": 489,
    "start_time": "2022-03-19T12:40:01.708Z"
   },
   {
    "duration": 182,
    "start_time": "2022-03-19T12:40:02.202Z"
   },
   {
    "duration": 280,
    "start_time": "2022-03-19T12:40:02.386Z"
   },
   {
    "duration": 186,
    "start_time": "2022-03-19T12:40:02.667Z"
   },
   {
    "duration": 284,
    "start_time": "2022-03-19T12:40:02.855Z"
   },
   {
    "duration": 101,
    "start_time": "2022-03-19T12:40:03.140Z"
   },
   {
    "duration": 4,
    "start_time": "2022-03-19T12:40:03.243Z"
   },
   {
    "duration": 4,
    "start_time": "2022-03-19T12:40:03.248Z"
   },
   {
    "duration": 116,
    "start_time": "2022-03-19T12:40:03.253Z"
   },
   {
    "duration": 108,
    "start_time": "2022-03-19T12:40:03.371Z"
   },
   {
    "duration": 4,
    "start_time": "2022-03-19T12:40:03.481Z"
   },
   {
    "duration": 14,
    "start_time": "2022-03-19T12:40:03.487Z"
   },
   {
    "duration": 312,
    "start_time": "2022-03-19T12:40:03.503Z"
   },
   {
    "duration": 10,
    "start_time": "2022-03-19T12:40:03.816Z"
   },
   {
    "duration": 6,
    "start_time": "2022-03-19T12:40:03.827Z"
   },
   {
    "duration": 27,
    "start_time": "2022-03-19T12:40:03.834Z"
   },
   {
    "duration": 11,
    "start_time": "2022-03-19T12:40:03.863Z"
   },
   {
    "duration": 27,
    "start_time": "2022-03-19T12:40:03.900Z"
   },
   {
    "duration": 14,
    "start_time": "2022-03-19T12:40:03.928Z"
   },
   {
    "duration": 119,
    "start_time": "2022-03-19T13:25:01.589Z"
   },
   {
    "duration": 1764,
    "start_time": "2022-03-19T13:25:07.383Z"
   },
   {
    "duration": 44,
    "start_time": "2022-03-19T13:25:09.151Z"
   },
   {
    "duration": 5,
    "start_time": "2022-03-19T13:25:09.197Z"
   },
   {
    "duration": 23,
    "start_time": "2022-03-19T13:25:09.204Z"
   },
   {
    "duration": 17,
    "start_time": "2022-03-19T13:25:09.231Z"
   },
   {
    "duration": 53,
    "start_time": "2022-03-19T13:25:09.250Z"
   },
   {
    "duration": 63,
    "start_time": "2022-03-19T13:25:09.305Z"
   },
   {
    "duration": 16,
    "start_time": "2022-03-19T13:25:09.371Z"
   },
   {
    "duration": 12,
    "start_time": "2022-03-19T13:25:09.390Z"
   },
   {
    "duration": 956,
    "start_time": "2022-03-19T13:25:09.405Z"
   },
   {
    "duration": 327,
    "start_time": "2022-03-19T13:25:10.363Z"
   },
   {
    "duration": 484,
    "start_time": "2022-03-19T13:25:10.693Z"
   },
   {
    "duration": 354,
    "start_time": "2022-03-19T13:25:11.180Z"
   },
   {
    "duration": 480,
    "start_time": "2022-03-19T13:25:11.538Z"
   },
   {
    "duration": 281,
    "start_time": "2022-03-19T13:25:12.021Z"
   },
   {
    "duration": 9,
    "start_time": "2022-03-19T13:25:12.304Z"
   },
   {
    "duration": 6,
    "start_time": "2022-03-19T13:25:12.315Z"
   },
   {
    "duration": 216,
    "start_time": "2022-03-19T13:25:12.323Z"
   },
   {
    "duration": 203,
    "start_time": "2022-03-19T13:25:12.541Z"
   },
   {
    "duration": 5,
    "start_time": "2022-03-19T13:25:12.746Z"
   },
   {
    "duration": 12,
    "start_time": "2022-03-19T13:25:12.753Z"
   },
   {
    "duration": 635,
    "start_time": "2022-03-19T13:25:12.784Z"
   },
   {
    "duration": 16,
    "start_time": "2022-03-19T13:25:13.421Z"
   },
   {
    "duration": 8,
    "start_time": "2022-03-19T13:25:13.439Z"
   },
   {
    "duration": 68,
    "start_time": "2022-03-19T13:25:13.449Z"
   },
   {
    "duration": 17,
    "start_time": "2022-03-19T13:25:13.520Z"
   },
   {
    "duration": 75,
    "start_time": "2022-03-19T13:25:13.540Z"
   },
   {
    "duration": 22,
    "start_time": "2022-03-19T13:25:13.617Z"
   },
   {
    "duration": 33,
    "start_time": "2022-03-19T13:25:18.388Z"
   },
   {
    "duration": 32,
    "start_time": "2022-03-19T13:25:22.568Z"
   },
   {
    "duration": 21,
    "start_time": "2022-03-19T13:59:36.802Z"
   },
   {
    "duration": 13,
    "start_time": "2022-03-19T13:59:45.188Z"
   },
   {
    "duration": 12,
    "start_time": "2022-03-19T13:59:50.904Z"
   },
   {
    "duration": 25,
    "start_time": "2022-03-19T14:00:14.783Z"
   },
   {
    "duration": 26,
    "start_time": "2022-03-19T14:00:21.186Z"
   },
   {
    "duration": 24,
    "start_time": "2022-03-19T14:00:26.167Z"
   },
   {
    "duration": 24,
    "start_time": "2022-03-19T14:00:31.969Z"
   },
   {
    "duration": 24,
    "start_time": "2022-03-19T14:00:41.467Z"
   },
   {
    "duration": 23,
    "start_time": "2022-03-19T14:01:05.465Z"
   },
   {
    "duration": 9,
    "start_time": "2022-03-19T14:02:13.570Z"
   },
   {
    "duration": 7,
    "start_time": "2022-03-19T14:02:17.816Z"
   },
   {
    "duration": 11,
    "start_time": "2022-03-19T14:02:29.675Z"
   },
   {
    "duration": 10,
    "start_time": "2022-03-19T14:02:37.484Z"
   },
   {
    "duration": 150,
    "start_time": "2022-03-19T14:03:03.466Z"
   },
   {
    "duration": 11,
    "start_time": "2022-03-19T14:03:08.470Z"
   },
   {
    "duration": 9,
    "start_time": "2022-03-19T14:03:21.389Z"
   },
   {
    "duration": 14,
    "start_time": "2022-03-19T14:03:49.163Z"
   },
   {
    "duration": 145,
    "start_time": "2022-03-19T14:04:57.967Z"
   },
   {
    "duration": 11,
    "start_time": "2022-03-19T14:05:01.220Z"
   },
   {
    "duration": 10,
    "start_time": "2022-03-19T14:05:06.237Z"
   },
   {
    "duration": 11,
    "start_time": "2022-03-19T14:05:31.927Z"
   },
   {
    "duration": 11,
    "start_time": "2022-03-19T14:05:36.975Z"
   },
   {
    "duration": 10,
    "start_time": "2022-03-19T14:05:40.376Z"
   },
   {
    "duration": 10,
    "start_time": "2022-03-19T14:06:00.949Z"
   },
   {
    "duration": 9,
    "start_time": "2022-03-19T14:06:13.587Z"
   },
   {
    "duration": 10,
    "start_time": "2022-03-19T14:06:29.147Z"
   },
   {
    "duration": 294,
    "start_time": "2022-03-19T14:07:41.587Z"
   },
   {
    "duration": 13,
    "start_time": "2022-03-19T14:07:44.788Z"
   },
   {
    "duration": 10,
    "start_time": "2022-03-19T14:07:52.908Z"
   },
   {
    "duration": 1650,
    "start_time": "2022-03-19T14:17:03.482Z"
   },
   {
    "duration": 103,
    "start_time": "2022-03-19T14:17:05.136Z"
   },
   {
    "duration": 31,
    "start_time": "2022-03-19T14:17:05.242Z"
   },
   {
    "duration": 23,
    "start_time": "2022-03-19T14:17:05.284Z"
   },
   {
    "duration": 23,
    "start_time": "2022-03-19T14:17:05.311Z"
   },
   {
    "duration": 23,
    "start_time": "2022-03-19T14:17:05.337Z"
   },
   {
    "duration": 26,
    "start_time": "2022-03-19T14:17:05.363Z"
   },
   {
    "duration": 22,
    "start_time": "2022-03-19T14:17:05.392Z"
   },
   {
    "duration": 24,
    "start_time": "2022-03-19T14:17:05.416Z"
   },
   {
    "duration": 56,
    "start_time": "2022-03-19T14:17:05.442Z"
   },
   {
    "duration": 1135,
    "start_time": "2022-03-19T14:17:05.502Z"
   },
   {
    "duration": 368,
    "start_time": "2022-03-19T14:17:06.640Z"
   },
   {
    "duration": 462,
    "start_time": "2022-03-19T14:17:07.011Z"
   },
   {
    "duration": 353,
    "start_time": "2022-03-19T14:17:07.483Z"
   },
   {
    "duration": 566,
    "start_time": "2022-03-19T14:17:07.838Z"
   },
   {
    "duration": 197,
    "start_time": "2022-03-19T14:17:08.407Z"
   },
   {
    "duration": 5,
    "start_time": "2022-03-19T14:17:08.607Z"
   },
   {
    "duration": 16,
    "start_time": "2022-03-19T14:17:08.614Z"
   },
   {
    "duration": 321,
    "start_time": "2022-03-19T14:17:08.633Z"
   },
   {
    "duration": 227,
    "start_time": "2022-03-19T14:17:08.957Z"
   },
   {
    "duration": 7,
    "start_time": "2022-03-19T14:17:09.186Z"
   },
   {
    "duration": 13,
    "start_time": "2022-03-19T14:17:09.196Z"
   },
   {
    "duration": 672,
    "start_time": "2022-03-19T14:17:09.213Z"
   },
   {
    "duration": 16,
    "start_time": "2022-03-19T14:17:09.887Z"
   },
   {
    "duration": 25,
    "start_time": "2022-03-19T14:17:09.906Z"
   },
   {
    "duration": 59,
    "start_time": "2022-03-19T14:17:09.934Z"
   },
   {
    "duration": 18,
    "start_time": "2022-03-19T14:17:09.995Z"
   },
   {
    "duration": 74,
    "start_time": "2022-03-19T14:17:10.016Z"
   },
   {
    "duration": 23,
    "start_time": "2022-03-19T14:17:10.093Z"
   },
   {
    "duration": 11,
    "start_time": "2022-03-19T14:17:57.889Z"
   },
   {
    "duration": 10,
    "start_time": "2022-03-19T14:20:39.400Z"
   },
   {
    "duration": 24,
    "start_time": "2022-03-19T14:43:04.928Z"
   },
   {
    "duration": 123,
    "start_time": "2022-03-19T14:46:41.528Z"
   },
   {
    "duration": 894,
    "start_time": "2022-03-19T15:57:56.693Z"
   },
   {
    "duration": 935,
    "start_time": "2022-03-19T15:58:20.841Z"
   },
   {
    "duration": 885,
    "start_time": "2022-03-19T15:58:36.724Z"
   },
   {
    "duration": 807,
    "start_time": "2022-03-19T15:58:46.974Z"
   },
   {
    "duration": 145,
    "start_time": "2022-03-19T15:59:00.234Z"
   },
   {
    "duration": 501,
    "start_time": "2022-03-19T15:59:22.736Z"
   },
   {
    "duration": 534,
    "start_time": "2022-03-19T16:01:01.815Z"
   },
   {
    "duration": 817,
    "start_time": "2022-03-19T16:01:06.422Z"
   },
   {
    "duration": 795,
    "start_time": "2022-03-19T16:01:19.922Z"
   },
   {
    "duration": 789,
    "start_time": "2022-03-19T16:01:32.062Z"
   },
   {
    "duration": 646,
    "start_time": "2022-03-19T16:03:26.861Z"
   },
   {
    "duration": 787,
    "start_time": "2022-03-19T16:03:34.813Z"
   },
   {
    "duration": 926,
    "start_time": "2022-03-19T16:03:55.416Z"
   },
   {
    "duration": 150,
    "start_time": "2022-03-19T16:04:02.366Z"
   },
   {
    "duration": 788,
    "start_time": "2022-03-19T16:04:04.494Z"
   },
   {
    "duration": 791,
    "start_time": "2022-03-19T16:04:48.862Z"
   },
   {
    "duration": 513,
    "start_time": "2022-03-19T16:05:04.675Z"
   },
   {
    "duration": 615,
    "start_time": "2022-03-19T16:05:13.335Z"
   },
   {
    "duration": 930,
    "start_time": "2022-03-19T16:05:30.195Z"
   },
   {
    "duration": 905,
    "start_time": "2022-03-19T16:05:34.617Z"
   },
   {
    "duration": 192,
    "start_time": "2022-03-19T16:06:17.455Z"
   },
   {
    "duration": 785,
    "start_time": "2022-03-19T16:08:14.461Z"
   },
   {
    "duration": 788,
    "start_time": "2022-03-19T16:08:20.014Z"
   },
   {
    "duration": 946,
    "start_time": "2022-03-19T16:08:28.014Z"
   },
   {
    "duration": 1436,
    "start_time": "2022-03-19T16:08:35.384Z"
   },
   {
    "duration": 64,
    "start_time": "2022-03-19T16:08:36.822Z"
   },
   {
    "duration": 24,
    "start_time": "2022-03-19T16:08:36.889Z"
   },
   {
    "duration": 33,
    "start_time": "2022-03-19T16:08:36.917Z"
   },
   {
    "duration": 34,
    "start_time": "2022-03-19T16:08:36.953Z"
   },
   {
    "duration": 18,
    "start_time": "2022-03-19T16:08:36.989Z"
   },
   {
    "duration": 13,
    "start_time": "2022-03-19T16:08:37.010Z"
   },
   {
    "duration": 25,
    "start_time": "2022-03-19T16:08:37.025Z"
   },
   {
    "duration": 46,
    "start_time": "2022-03-19T16:08:37.053Z"
   },
   {
    "duration": 23,
    "start_time": "2022-03-19T16:08:37.104Z"
   },
   {
    "duration": 988,
    "start_time": "2022-03-19T16:08:37.129Z"
   },
   {
    "duration": 339,
    "start_time": "2022-03-19T16:08:38.119Z"
   },
   {
    "duration": 425,
    "start_time": "2022-03-19T16:08:38.461Z"
   },
   {
    "duration": 352,
    "start_time": "2022-03-19T16:08:38.888Z"
   },
   {
    "duration": 560,
    "start_time": "2022-03-19T16:08:39.243Z"
   },
   {
    "duration": 186,
    "start_time": "2022-03-19T16:08:39.806Z"
   },
   {
    "duration": 7,
    "start_time": "2022-03-19T16:08:39.994Z"
   },
   {
    "duration": 19,
    "start_time": "2022-03-19T16:08:40.003Z"
   },
   {
    "duration": 219,
    "start_time": "2022-03-19T16:08:40.025Z"
   },
   {
    "duration": 201,
    "start_time": "2022-03-19T16:08:40.247Z"
   },
   {
    "duration": 6,
    "start_time": "2022-03-19T16:08:40.450Z"
   },
   {
    "duration": 8,
    "start_time": "2022-03-19T16:08:40.458Z"
   },
   {
    "duration": 642,
    "start_time": "2022-03-19T16:08:40.468Z"
   },
   {
    "duration": 16,
    "start_time": "2022-03-19T16:08:41.112Z"
   },
   {
    "duration": 9,
    "start_time": "2022-03-19T16:08:41.130Z"
   },
   {
    "duration": 64,
    "start_time": "2022-03-19T16:08:41.141Z"
   },
   {
    "duration": 16,
    "start_time": "2022-03-19T16:08:41.208Z"
   },
   {
    "duration": 73,
    "start_time": "2022-03-19T16:08:41.229Z"
   },
   {
    "duration": 21,
    "start_time": "2022-03-19T16:08:41.304Z"
   },
   {
    "duration": 896,
    "start_time": "2022-03-19T16:08:55.298Z"
   },
   {
    "duration": 1114,
    "start_time": "2022-03-19T16:10:01.665Z"
   },
   {
    "duration": 145,
    "start_time": "2022-03-19T16:10:10.720Z"
   },
   {
    "duration": 972,
    "start_time": "2022-03-19T16:10:13.044Z"
   },
   {
    "duration": 1031,
    "start_time": "2022-03-19T16:10:33.153Z"
   },
   {
    "duration": 960,
    "start_time": "2022-03-19T16:10:48.725Z"
   },
   {
    "duration": 955,
    "start_time": "2022-03-19T16:29:24.465Z"
   },
   {
    "duration": 894,
    "start_time": "2022-03-19T16:29:30.277Z"
   },
   {
    "duration": 893,
    "start_time": "2022-03-19T16:30:18.407Z"
   },
   {
    "duration": 856,
    "start_time": "2022-03-19T16:31:15.445Z"
   },
   {
    "duration": 126,
    "start_time": "2022-03-19T16:31:30.857Z"
   },
   {
    "duration": 130,
    "start_time": "2022-03-19T16:31:37.758Z"
   },
   {
    "duration": 854,
    "start_time": "2022-03-19T16:31:48.334Z"
   },
   {
    "duration": 233,
    "start_time": "2022-03-19T16:32:48.727Z"
   },
   {
    "duration": 503,
    "start_time": "2022-03-19T16:39:53.106Z"
   },
   {
    "duration": 530,
    "start_time": "2022-03-19T16:41:32.744Z"
   },
   {
    "duration": 506,
    "start_time": "2022-03-19T16:41:36.868Z"
   },
   {
    "duration": 2514,
    "start_time": "2022-03-19T16:41:54.327Z"
   },
   {
    "duration": 682,
    "start_time": "2022-03-19T16:42:11.391Z"
   },
   {
    "duration": 1122,
    "start_time": "2022-03-19T16:42:19.265Z"
   },
   {
    "duration": 122,
    "start_time": "2022-03-19T16:45:47.180Z"
   },
   {
    "duration": 1243,
    "start_time": "2022-03-19T16:45:56.118Z"
   },
   {
    "duration": 807,
    "start_time": "2022-03-19T16:46:03.582Z"
   },
   {
    "duration": 8,
    "start_time": "2022-03-19T16:47:09.556Z"
   },
   {
    "duration": 9,
    "start_time": "2022-03-19T16:47:13.718Z"
   },
   {
    "duration": 4,
    "start_time": "2022-03-19T16:48:14.336Z"
   },
   {
    "duration": 187,
    "start_time": "2022-03-19T16:48:20.964Z"
   },
   {
    "duration": 361,
    "start_time": "2022-03-19T16:48:59.924Z"
   },
   {
    "duration": 810,
    "start_time": "2022-03-19T16:50:13.137Z"
   },
   {
    "duration": 803,
    "start_time": "2022-03-19T16:50:19.340Z"
   },
   {
    "duration": 817,
    "start_time": "2022-03-19T16:50:25.878Z"
   },
   {
    "duration": 835,
    "start_time": "2022-03-19T16:50:32.938Z"
   },
   {
    "duration": 811,
    "start_time": "2022-03-19T16:50:45.019Z"
   },
   {
    "duration": 830,
    "start_time": "2022-03-19T16:51:32.079Z"
   },
   {
    "duration": 899,
    "start_time": "2022-03-19T16:51:36.599Z"
   },
   {
    "duration": 1098,
    "start_time": "2022-03-19T16:52:18.200Z"
   },
   {
    "duration": 961,
    "start_time": "2022-03-19T16:52:36.978Z"
   },
   {
    "duration": 765,
    "start_time": "2022-03-19T16:53:07.697Z"
   },
   {
    "duration": 929,
    "start_time": "2022-03-19T16:53:20.344Z"
   },
   {
    "duration": 737,
    "start_time": "2022-03-19T16:53:44.620Z"
   },
   {
    "duration": 783,
    "start_time": "2022-03-19T16:53:52.481Z"
   },
   {
    "duration": 683,
    "start_time": "2022-03-19T16:54:03.276Z"
   },
   {
    "duration": 657,
    "start_time": "2022-03-19T16:54:13.548Z"
   },
   {
    "duration": 763,
    "start_time": "2022-03-19T16:54:22.905Z"
   },
   {
    "duration": 916,
    "start_time": "2022-03-19T16:54:59.246Z"
   },
   {
    "duration": 733,
    "start_time": "2022-03-19T16:56:37.417Z"
   },
   {
    "duration": 882,
    "start_time": "2022-03-19T16:56:44.080Z"
   },
   {
    "duration": 149,
    "start_time": "2022-03-19T16:56:51.678Z"
   },
   {
    "duration": 830,
    "start_time": "2022-03-19T17:00:00.617Z"
   },
   {
    "duration": 825,
    "start_time": "2022-03-19T17:02:04.632Z"
   },
   {
    "duration": 775,
    "start_time": "2022-03-19T17:03:14.238Z"
   },
   {
    "duration": 772,
    "start_time": "2022-03-19T17:03:20.798Z"
   },
   {
    "duration": 83,
    "start_time": "2022-03-19T17:03:41.495Z"
   },
   {
    "duration": 1428,
    "start_time": "2022-03-19T17:03:57.820Z"
   },
   {
    "duration": 87,
    "start_time": "2022-03-19T17:04:03.386Z"
   },
   {
    "duration": 19,
    "start_time": "2022-03-19T17:04:09.853Z"
   },
   {
    "duration": 1441,
    "start_time": "2022-03-19T17:04:16.577Z"
   },
   {
    "duration": 65,
    "start_time": "2022-03-19T17:04:18.021Z"
   },
   {
    "duration": 24,
    "start_time": "2022-03-19T17:04:18.089Z"
   },
   {
    "duration": 23,
    "start_time": "2022-03-19T17:04:18.115Z"
   },
   {
    "duration": 46,
    "start_time": "2022-03-19T17:04:18.141Z"
   },
   {
    "duration": 11,
    "start_time": "2022-03-19T17:04:18.189Z"
   },
   {
    "duration": 11,
    "start_time": "2022-03-19T17:04:18.202Z"
   },
   {
    "duration": 20,
    "start_time": "2022-03-19T17:04:18.215Z"
   },
   {
    "duration": 49,
    "start_time": "2022-03-19T17:04:18.237Z"
   },
   {
    "duration": 19,
    "start_time": "2022-03-19T17:04:18.290Z"
   },
   {
    "duration": 852,
    "start_time": "2022-03-19T17:04:18.311Z"
   },
   {
    "duration": 457,
    "start_time": "2022-03-19T17:04:19.165Z"
   },
   {
    "duration": 407,
    "start_time": "2022-03-19T17:04:19.625Z"
   },
   {
    "duration": 362,
    "start_time": "2022-03-19T17:04:20.034Z"
   },
   {
    "duration": 451,
    "start_time": "2022-03-19T17:04:20.399Z"
   },
   {
    "duration": 200,
    "start_time": "2022-03-19T17:04:20.853Z"
   },
   {
    "duration": 5,
    "start_time": "2022-03-19T17:04:21.056Z"
   },
   {
    "duration": 26,
    "start_time": "2022-03-19T17:04:21.064Z"
   },
   {
    "duration": 207,
    "start_time": "2022-03-19T17:04:21.092Z"
   },
   {
    "duration": 287,
    "start_time": "2022-03-19T17:04:21.301Z"
   },
   {
    "duration": 6,
    "start_time": "2022-03-19T17:04:21.591Z"
   },
   {
    "duration": 27,
    "start_time": "2022-03-19T17:04:21.599Z"
   },
   {
    "duration": 633,
    "start_time": "2022-03-19T17:04:21.628Z"
   },
   {
    "duration": 21,
    "start_time": "2022-03-19T17:04:22.264Z"
   },
   {
    "duration": 12,
    "start_time": "2022-03-19T17:04:22.288Z"
   },
   {
    "duration": 49,
    "start_time": "2022-03-19T17:04:22.303Z"
   },
   {
    "duration": 38,
    "start_time": "2022-03-19T17:04:22.355Z"
   },
   {
    "duration": 41,
    "start_time": "2022-03-19T17:04:22.399Z"
   },
   {
    "duration": 52,
    "start_time": "2022-03-19T17:04:22.443Z"
   },
   {
    "duration": 792,
    "start_time": "2022-03-19T17:04:26.342Z"
   },
   {
    "duration": 850,
    "start_time": "2022-03-19T17:04:58.718Z"
   },
   {
    "duration": 347,
    "start_time": "2022-03-19T17:05:27.183Z"
   },
   {
    "duration": 427,
    "start_time": "2022-03-19T17:06:16.700Z"
   },
   {
    "duration": 358,
    "start_time": "2022-03-19T17:07:10.562Z"
   },
   {
    "duration": 474,
    "start_time": "2022-03-19T17:07:32.581Z"
   },
   {
    "duration": 474,
    "start_time": "2022-03-19T17:07:58.480Z"
   },
   {
    "duration": 471,
    "start_time": "2022-03-19T17:08:23.463Z"
   },
   {
    "duration": 7,
    "start_time": "2022-03-19T17:08:40.520Z"
   },
   {
    "duration": 454,
    "start_time": "2022-03-19T17:08:44.168Z"
   },
   {
    "duration": 564,
    "start_time": "2022-03-19T17:08:55.940Z"
   },
   {
    "duration": 197,
    "start_time": "2022-03-19T17:09:59.713Z"
   },
   {
    "duration": 205,
    "start_time": "2022-03-19T17:10:21.400Z"
   },
   {
    "duration": 195,
    "start_time": "2022-03-19T17:10:29.841Z"
   },
   {
    "duration": 119,
    "start_time": "2022-03-19T17:12:41.319Z"
   },
   {
    "duration": 151,
    "start_time": "2022-03-19T17:12:48.939Z"
   },
   {
    "duration": 121,
    "start_time": "2022-03-19T17:12:51.607Z"
   },
   {
    "duration": 857,
    "start_time": "2022-03-19T17:17:58.924Z"
   },
   {
    "duration": 801,
    "start_time": "2022-03-19T17:19:23.306Z"
   },
   {
    "duration": 1477,
    "start_time": "2022-03-19T17:19:30.555Z"
   },
   {
    "duration": 68,
    "start_time": "2022-03-19T17:19:32.035Z"
   },
   {
    "duration": 25,
    "start_time": "2022-03-19T17:19:32.105Z"
   },
   {
    "duration": 51,
    "start_time": "2022-03-19T17:19:32.133Z"
   },
   {
    "duration": 11,
    "start_time": "2022-03-19T17:19:32.188Z"
   },
   {
    "duration": 14,
    "start_time": "2022-03-19T17:19:32.201Z"
   },
   {
    "duration": 10,
    "start_time": "2022-03-19T17:19:32.217Z"
   },
   {
    "duration": 57,
    "start_time": "2022-03-19T17:19:32.229Z"
   },
   {
    "duration": 19,
    "start_time": "2022-03-19T17:19:32.288Z"
   },
   {
    "duration": 26,
    "start_time": "2022-03-19T17:19:32.310Z"
   },
   {
    "duration": 1014,
    "start_time": "2022-03-19T17:19:32.339Z"
   },
   {
    "duration": 380,
    "start_time": "2022-03-19T17:19:33.356Z"
   },
   {
    "duration": 483,
    "start_time": "2022-03-19T17:19:33.740Z"
   },
   {
    "duration": 404,
    "start_time": "2022-03-19T17:19:34.228Z"
   },
   {
    "duration": 540,
    "start_time": "2022-03-19T17:19:34.634Z"
   },
   {
    "duration": 204,
    "start_time": "2022-03-19T17:19:35.185Z"
   },
   {
    "duration": 7,
    "start_time": "2022-03-19T17:19:35.391Z"
   },
   {
    "duration": 14,
    "start_time": "2022-03-19T17:19:35.400Z"
   },
   {
    "duration": 230,
    "start_time": "2022-03-19T17:19:35.416Z"
   },
   {
    "duration": 221,
    "start_time": "2022-03-19T17:19:35.648Z"
   },
   {
    "duration": 15,
    "start_time": "2022-03-19T17:19:35.872Z"
   },
   {
    "duration": 13,
    "start_time": "2022-03-19T17:19:35.890Z"
   },
   {
    "duration": 828,
    "start_time": "2022-03-19T17:19:35.906Z"
   },
   {
    "duration": 15,
    "start_time": "2022-03-19T17:19:36.737Z"
   },
   {
    "duration": 30,
    "start_time": "2022-03-19T17:19:36.754Z"
   },
   {
    "duration": 46,
    "start_time": "2022-03-19T17:19:36.786Z"
   },
   {
    "duration": 16,
    "start_time": "2022-03-19T17:19:36.834Z"
   },
   {
    "duration": 61,
    "start_time": "2022-03-19T17:19:36.852Z"
   },
   {
    "duration": 24,
    "start_time": "2022-03-19T17:19:36.916Z"
   },
   {
    "duration": 1187,
    "start_time": "2022-03-20T05:03:43.319Z"
   },
   {
    "duration": 92,
    "start_time": "2022-03-20T05:03:44.508Z"
   },
   {
    "duration": 14,
    "start_time": "2022-03-20T05:03:44.602Z"
   },
   {
    "duration": 14,
    "start_time": "2022-03-20T05:03:44.618Z"
   },
   {
    "duration": 7,
    "start_time": "2022-03-20T05:03:44.634Z"
   },
   {
    "duration": 7,
    "start_time": "2022-03-20T05:03:44.643Z"
   },
   {
    "duration": 7,
    "start_time": "2022-03-20T05:03:44.652Z"
   },
   {
    "duration": 46,
    "start_time": "2022-03-20T05:03:44.661Z"
   },
   {
    "duration": 11,
    "start_time": "2022-03-20T05:03:44.709Z"
   },
   {
    "duration": 14,
    "start_time": "2022-03-20T05:03:44.722Z"
   },
   {
    "duration": 529,
    "start_time": "2022-03-20T05:03:44.738Z"
   },
   {
    "duration": 179,
    "start_time": "2022-03-20T05:03:45.269Z"
   },
   {
    "duration": 335,
    "start_time": "2022-03-20T05:03:45.450Z"
   },
   {
    "duration": 190,
    "start_time": "2022-03-20T05:03:45.788Z"
   },
   {
    "duration": 321,
    "start_time": "2022-03-20T05:03:45.980Z"
   },
   {
    "duration": 103,
    "start_time": "2022-03-20T05:03:46.302Z"
   },
   {
    "duration": 4,
    "start_time": "2022-03-20T05:03:46.406Z"
   },
   {
    "duration": 7,
    "start_time": "2022-03-20T05:03:46.411Z"
   },
   {
    "duration": 114,
    "start_time": "2022-03-20T05:03:46.419Z"
   },
   {
    "duration": 115,
    "start_time": "2022-03-20T05:03:46.535Z"
   },
   {
    "duration": 4,
    "start_time": "2022-03-20T05:03:46.652Z"
   },
   {
    "duration": 4,
    "start_time": "2022-03-20T05:03:46.658Z"
   },
   {
    "duration": 327,
    "start_time": "2022-03-20T05:03:46.664Z"
   },
   {
    "duration": 15,
    "start_time": "2022-03-20T05:03:46.993Z"
   },
   {
    "duration": 6,
    "start_time": "2022-03-20T05:03:47.010Z"
   },
   {
    "duration": 29,
    "start_time": "2022-03-20T05:03:47.017Z"
   },
   {
    "duration": 11,
    "start_time": "2022-03-20T05:03:47.048Z"
   },
   {
    "duration": 56,
    "start_time": "2022-03-20T05:03:47.061Z"
   },
   {
    "duration": 15,
    "start_time": "2022-03-20T05:03:47.120Z"
   },
   {
    "duration": 1084,
    "start_time": "2022-03-20T05:09:59.737Z"
   },
   {
    "duration": 95,
    "start_time": "2022-03-20T05:10:00.823Z"
   },
   {
    "duration": 16,
    "start_time": "2022-03-20T05:10:00.920Z"
   },
   {
    "duration": 20,
    "start_time": "2022-03-20T05:10:00.938Z"
   },
   {
    "duration": 17,
    "start_time": "2022-03-20T05:10:00.960Z"
   },
   {
    "duration": 23,
    "start_time": "2022-03-20T05:10:00.979Z"
   },
   {
    "duration": 20,
    "start_time": "2022-03-20T05:10:01.004Z"
   },
   {
    "duration": 23,
    "start_time": "2022-03-20T05:10:01.026Z"
   },
   {
    "duration": 12,
    "start_time": "2022-03-20T05:10:01.052Z"
   },
   {
    "duration": 30,
    "start_time": "2022-03-20T05:10:01.068Z"
   },
   {
    "duration": 528,
    "start_time": "2022-03-20T05:10:01.100Z"
   },
   {
    "duration": 185,
    "start_time": "2022-03-20T05:10:01.630Z"
   },
   {
    "duration": 307,
    "start_time": "2022-03-20T05:10:01.817Z"
   },
   {
    "duration": 195,
    "start_time": "2022-03-20T05:10:02.126Z"
   },
   {
    "duration": 297,
    "start_time": "2022-03-20T05:10:02.322Z"
   },
   {
    "duration": 114,
    "start_time": "2022-03-20T05:10:02.620Z"
   },
   {
    "duration": 3,
    "start_time": "2022-03-20T05:10:02.736Z"
   },
   {
    "duration": 10,
    "start_time": "2022-03-20T05:10:02.741Z"
   },
   {
    "duration": 117,
    "start_time": "2022-03-20T05:10:02.752Z"
   },
   {
    "duration": 121,
    "start_time": "2022-03-20T05:10:02.870Z"
   },
   {
    "duration": 4,
    "start_time": "2022-03-20T05:10:03.000Z"
   },
   {
    "duration": 3,
    "start_time": "2022-03-20T05:10:03.006Z"
   },
   {
    "duration": 403,
    "start_time": "2022-03-20T05:10:03.011Z"
   },
   {
    "duration": 9,
    "start_time": "2022-03-20T05:10:03.415Z"
   },
   {
    "duration": 5,
    "start_time": "2022-03-20T05:10:03.426Z"
   },
   {
    "duration": 26,
    "start_time": "2022-03-20T05:10:03.432Z"
   },
   {
    "duration": 9,
    "start_time": "2022-03-20T05:10:03.460Z"
   },
   {
    "duration": 54,
    "start_time": "2022-03-20T05:10:03.472Z"
   },
   {
    "duration": 14,
    "start_time": "2022-03-20T05:10:03.527Z"
   },
   {
    "duration": 51,
    "start_time": "2022-03-20T07:56:17.636Z"
   },
   {
    "duration": 1237,
    "start_time": "2022-03-20T07:56:25.292Z"
   },
   {
    "duration": 58,
    "start_time": "2022-03-20T07:56:26.531Z"
   },
   {
    "duration": 15,
    "start_time": "2022-03-20T07:56:26.591Z"
   },
   {
    "duration": 15,
    "start_time": "2022-03-20T07:56:26.608Z"
   },
   {
    "duration": 7,
    "start_time": "2022-03-20T07:56:26.624Z"
   },
   {
    "duration": 33,
    "start_time": "2022-03-20T07:56:26.633Z"
   },
   {
    "duration": 11,
    "start_time": "2022-03-20T07:56:26.668Z"
   },
   {
    "duration": 15,
    "start_time": "2022-03-20T07:56:26.680Z"
   },
   {
    "duration": 10,
    "start_time": "2022-03-20T07:56:26.697Z"
   },
   {
    "duration": 12,
    "start_time": "2022-03-20T07:56:26.710Z"
   },
   {
    "duration": 611,
    "start_time": "2022-03-20T07:56:26.724Z"
   },
   {
    "duration": 268,
    "start_time": "2022-03-20T07:56:27.337Z"
   },
   {
    "duration": 345,
    "start_time": "2022-03-20T07:56:27.607Z"
   },
   {
    "duration": 209,
    "start_time": "2022-03-20T07:56:27.954Z"
   },
   {
    "duration": 331,
    "start_time": "2022-03-20T07:56:28.164Z"
   },
   {
    "duration": 128,
    "start_time": "2022-03-20T07:56:28.497Z"
   },
   {
    "duration": 4,
    "start_time": "2022-03-20T07:56:28.626Z"
   },
   {
    "duration": 12,
    "start_time": "2022-03-20T07:56:28.631Z"
   },
   {
    "duration": 137,
    "start_time": "2022-03-20T07:56:28.644Z"
   },
   {
    "duration": 126,
    "start_time": "2022-03-20T07:56:28.783Z"
   },
   {
    "duration": 5,
    "start_time": "2022-03-20T07:56:28.911Z"
   },
   {
    "duration": 5,
    "start_time": "2022-03-20T07:56:28.917Z"
   },
   {
    "duration": 449,
    "start_time": "2022-03-20T07:56:28.924Z"
   },
   {
    "duration": 12,
    "start_time": "2022-03-20T07:56:29.375Z"
   },
   {
    "duration": 7,
    "start_time": "2022-03-20T07:56:29.389Z"
   },
   {
    "duration": 32,
    "start_time": "2022-03-20T07:56:29.397Z"
   },
   {
    "duration": 34,
    "start_time": "2022-03-20T07:56:29.431Z"
   },
   {
    "duration": 36,
    "start_time": "2022-03-20T07:56:29.468Z"
   },
   {
    "duration": 14,
    "start_time": "2022-03-20T07:56:29.506Z"
   },
   {
    "duration": 8,
    "start_time": "2022-03-20T07:57:21.453Z"
   },
   {
    "duration": 1278,
    "start_time": "2022-03-21T14:59:37.670Z"
   },
   {
    "duration": 7,
    "start_time": "2022-03-21T15:03:23.917Z"
   },
   {
    "duration": 86,
    "start_time": "2022-03-21T15:07:14.805Z"
   },
   {
    "duration": 1101,
    "start_time": "2022-03-26T14:47:39.578Z"
   }
  ],
  "kernelspec": {
   "display_name": "Python 3 (ipykernel)",
   "language": "python",
   "name": "python3"
  },
  "language_info": {
   "codemirror_mode": {
    "name": "ipython",
    "version": 3
   },
   "file_extension": ".py",
   "mimetype": "text/x-python",
   "name": "python",
   "nbconvert_exporter": "python",
   "pygments_lexer": "ipython3",
   "version": "3.9.12"
  },
  "toc": {
   "base_numbering": 1,
   "nav_menu": {},
   "number_sections": true,
   "sideBar": true,
   "skip_h1_title": true,
   "title_cell": "Table of Contents",
   "title_sidebar": "Contents",
   "toc_cell": false,
   "toc_position": {},
   "toc_section_display": true,
   "toc_window_display": false
  }
 },
 "nbformat": 4,
 "nbformat_minor": 4
}
