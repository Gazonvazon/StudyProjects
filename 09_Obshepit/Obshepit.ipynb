{
 "cells": [
  {
   "cell_type": "markdown",
   "metadata": {},
   "source": [
    "# Исследования рынка общепита в Москве для принятия решения об открытии нового заведения"
   ]
  },
  {
   "cell_type": "markdown",
   "metadata": {},
   "source": [
    "**Описание исследования.**\n",
    "\n",
    "Мы решили открыть небольшое кафе в Москве. Гостей в нем должны обслуживать роботы. Проект многообещающий, но дорогой. Вместе с партнёрами было решено обратиться к инвесторам. Их интересует текущее положение дел на рынке — сохранится ли популярность кафе на долгое время, когда все зеваки насмотрятся на роботов-официантов?\n",
    "Партнёры просят подготовить исследование рынка. У нас есть открытые данные о заведениях общественного питания в Москве.\n",
    "_____\n",
    "**Цель исследования.**\n",
    "\n",
    "Определить характеристики и расположение наиболее успешных заведений общественного питания.\n",
    "_____\n",
    "**Задачи исследования.**\n",
    "* исследовать виды общественного питания\n",
    "* исследовать сетевые и несетевые заведения\n",
    "* исследовать характерное число посадочных мест для заведений\n",
    "* исследовать расположения заведений, выявить закономерности\n",
    "* подготовить презентацию\n",
    "_____\n",
    "**Исходные данные.**\n",
    " \n",
    "Файл rest_data.csv:\n",
    "* id — идентификатор объекта;\n",
    "* object_name — название объекта общественного питания;\n",
    "* chain — сетевой ресторан;\n",
    "* object_type — тип объекта общественного питания;\n",
    "* address — адрес;\n",
    "* number — количество посадочных мест.\n",
    "\n",
    "Файл mosgaz-streets.csv:\n",
    "* streetname - названия улиц\n",
    "* areaid - идентификатор района\n",
    "* okrug - аббревиатура округа\n",
    "* area - название района\n",
    "\n",
    "______\n",
    "\n",
    "**Данное исследование разделим на несколько частей:**\n",
    "\n",
    "* [Изучение общей информации и предобработка данных](#main_info)\n",
    "* [Предобработка данных](#prep)\n",
    "* [Анализ данных](#analyzing)\n",
    "* [Вывод](#summary)"
   ]
  },
  {
   "cell_type": "markdown",
   "metadata": {},
   "source": [
    "<a id='main_info'></a>\n",
    "# 1. Изучение общей информации и предобработка данных"
   ]
  },
  {
   "cell_type": "markdown",
   "metadata": {},
   "source": [
    "В данном шаге\n",
    "* подключим библиотеки и параметры отображения данных \n",
    "* откроем и изучим файлы, необходимые для работы\n",
    "* приведем данные к нужным типам, проверим и исправим дубликаты, приопуски в данных"
   ]
  },
  {
   "cell_type": "markdown",
   "metadata": {},
   "source": [
    "### Подключим библиотеки и параметры отображения данных "
   ]
  },
  {
   "cell_type": "code",
   "execution_count": 3,
   "metadata": {},
   "outputs": [],
   "source": [
    "import pandas as pd\n",
    "import matplotlib.pyplot as plt\n",
    "import seaborn as sb\n",
    "import numpy as np\n",
    "\n",
    "pd.set_option('display.float_format', '{:,.2f}'.format)\n",
    "pd.set_option('display.max_colwidth', 0)"
   ]
  },
  {
   "cell_type": "markdown",
   "metadata": {},
   "source": [
    "### Откроем и изучим файлы, необходимые для работы"
   ]
  },
  {
   "cell_type": "code",
   "execution_count": 4,
   "metadata": {
    "scrolled": true
   },
   "outputs": [
    {
     "name": "stdout",
     "output_type": "stream",
     "text": [
      "<class 'pandas.core.frame.DataFrame'>\n",
      "RangeIndex: 15366 entries, 0 to 15365\n",
      "Data columns (total 6 columns):\n",
      " #   Column       Non-Null Count  Dtype \n",
      "---  ------       --------------  ----- \n",
      " 0   id           15366 non-null  int64 \n",
      " 1   object_name  15366 non-null  object\n",
      " 2   chain        15366 non-null  object\n",
      " 3   object_type  15366 non-null  object\n",
      " 4   address      15366 non-null  object\n",
      " 5   number       15366 non-null  int64 \n",
      "dtypes: int64(2), object(4)\n",
      "memory usage: 720.4+ KB\n"
     ]
    }
   ],
   "source": [
    "data = pd.read_csv('rest_data.csv') # данные о заведениях\n",
    "streets_areas_url='https://drive.google.com/file/d/1ys6pP_0hGIXGYRJMppE0zr8TSJ7zL6qb/view?usp=sharing'\n",
    "streets_areas = pd.read_csv('https://drive.google.com/uc?id=' + streets_areas_url.split('/')[-2])\n",
    "data.info()"
   ]
  },
  {
   "cell_type": "code",
   "execution_count": 3,
   "metadata": {
    "scrolled": true
   },
   "outputs": [
    {
     "name": "stdout",
     "output_type": "stream",
     "text": [
      "<class 'pandas.core.frame.DataFrame'>\n",
      "RangeIndex: 4398 entries, 0 to 4397\n",
      "Data columns (total 4 columns):\n",
      " #   Column      Non-Null Count  Dtype \n",
      "---  ------      --------------  ----- \n",
      " 0   streetname  4398 non-null   object\n",
      " 1   areaid      4398 non-null   int64 \n",
      " 2   okrug       4398 non-null   object\n",
      " 3   area        4398 non-null   object\n",
      "dtypes: int64(1), object(3)\n",
      "memory usage: 137.6+ KB\n"
     ]
    }
   ],
   "source": [
    "streets_areas.info()"
   ]
  },
  {
   "cell_type": "code",
   "execution_count": 4,
   "metadata": {
    "scrolled": true
   },
   "outputs": [
    {
     "data": {
      "text/plain": [
       "'Данные о заведениях'"
      ]
     },
     "metadata": {},
     "output_type": "display_data"
    },
    {
     "data": {
      "text/html": [
       "<div>\n",
       "<style scoped>\n",
       "    .dataframe tbody tr th:only-of-type {\n",
       "        vertical-align: middle;\n",
       "    }\n",
       "\n",
       "    .dataframe tbody tr th {\n",
       "        vertical-align: top;\n",
       "    }\n",
       "\n",
       "    .dataframe thead th {\n",
       "        text-align: right;\n",
       "    }\n",
       "</style>\n",
       "<table border=\"1\" class=\"dataframe\">\n",
       "  <thead>\n",
       "    <tr style=\"text-align: right;\">\n",
       "      <th></th>\n",
       "      <th>id</th>\n",
       "      <th>object_name</th>\n",
       "      <th>chain</th>\n",
       "      <th>object_type</th>\n",
       "      <th>address</th>\n",
       "      <th>number</th>\n",
       "    </tr>\n",
       "  </thead>\n",
       "  <tbody>\n",
       "    <tr>\n",
       "      <th>0</th>\n",
       "      <td>151635</td>\n",
       "      <td>СМЕТАНА</td>\n",
       "      <td>нет</td>\n",
       "      <td>кафе</td>\n",
       "      <td>город Москва, улица Егора Абакумова, дом 9</td>\n",
       "      <td>48</td>\n",
       "    </tr>\n",
       "    <tr>\n",
       "      <th>1</th>\n",
       "      <td>77874</td>\n",
       "      <td>Родник</td>\n",
       "      <td>нет</td>\n",
       "      <td>кафе</td>\n",
       "      <td>город Москва, улица Талалихина, дом 2/1, корпус 1</td>\n",
       "      <td>35</td>\n",
       "    </tr>\n",
       "    <tr>\n",
       "      <th>2</th>\n",
       "      <td>24309</td>\n",
       "      <td>Кафе «Академия»</td>\n",
       "      <td>нет</td>\n",
       "      <td>кафе</td>\n",
       "      <td>город Москва, Абельмановская улица, дом 6</td>\n",
       "      <td>95</td>\n",
       "    </tr>\n",
       "    <tr>\n",
       "      <th>3</th>\n",
       "      <td>21894</td>\n",
       "      <td>ПИЦЦЕТОРИЯ</td>\n",
       "      <td>да</td>\n",
       "      <td>кафе</td>\n",
       "      <td>город Москва, Абрамцевская улица, дом 1</td>\n",
       "      <td>40</td>\n",
       "    </tr>\n",
       "    <tr>\n",
       "      <th>4</th>\n",
       "      <td>119365</td>\n",
       "      <td>Кафе «Вишневая метель»</td>\n",
       "      <td>нет</td>\n",
       "      <td>кафе</td>\n",
       "      <td>город Москва, Абрамцевская улица, дом 9, корпус 1</td>\n",
       "      <td>50</td>\n",
       "    </tr>\n",
       "  </tbody>\n",
       "</table>\n",
       "</div>"
      ],
      "text/plain": [
       "       id             object_name chain object_type  \\\n",
       "0  151635  СМЕТАНА                 нет   кафе         \n",
       "1  77874   Родник                  нет   кафе         \n",
       "2  24309   Кафе «Академия»         нет   кафе         \n",
       "3  21894   ПИЦЦЕТОРИЯ              да    кафе         \n",
       "4  119365  Кафе «Вишневая метель»  нет   кафе         \n",
       "\n",
       "                                             address  number  \n",
       "0  город Москва, улица Егора Абакумова, дом 9         48      \n",
       "1  город Москва, улица Талалихина, дом 2/1, корпус 1  35      \n",
       "2  город Москва, Абельмановская улица, дом 6          95      \n",
       "3  город Москва, Абрамцевская улица, дом 1            40      \n",
       "4  город Москва, Абрамцевская улица, дом 9, корпус 1  50      "
      ]
     },
     "metadata": {},
     "output_type": "display_data"
    }
   ],
   "source": [
    "display('Данные о заведениях', data.head())"
   ]
  },
  {
   "cell_type": "code",
   "execution_count": 5,
   "metadata": {},
   "outputs": [
    {
     "data": {
      "text/plain": [
       "'Данные об улицах по районам'"
      ]
     },
     "metadata": {},
     "output_type": "display_data"
    },
    {
     "data": {
      "text/html": [
       "<div>\n",
       "<style scoped>\n",
       "    .dataframe tbody tr th:only-of-type {\n",
       "        vertical-align: middle;\n",
       "    }\n",
       "\n",
       "    .dataframe tbody tr th {\n",
       "        vertical-align: top;\n",
       "    }\n",
       "\n",
       "    .dataframe thead th {\n",
       "        text-align: right;\n",
       "    }\n",
       "</style>\n",
       "<table border=\"1\" class=\"dataframe\">\n",
       "  <thead>\n",
       "    <tr style=\"text-align: right;\">\n",
       "      <th></th>\n",
       "      <th>streetname</th>\n",
       "      <th>areaid</th>\n",
       "      <th>okrug</th>\n",
       "      <th>area</th>\n",
       "    </tr>\n",
       "  </thead>\n",
       "  <tbody>\n",
       "    <tr>\n",
       "      <th>0</th>\n",
       "      <td>Выставочный переулок</td>\n",
       "      <td>17</td>\n",
       "      <td>ЦАО</td>\n",
       "      <td>Пресненский район</td>\n",
       "    </tr>\n",
       "    <tr>\n",
       "      <th>1</th>\n",
       "      <td>улица Гашека</td>\n",
       "      <td>17</td>\n",
       "      <td>ЦАО</td>\n",
       "      <td>Пресненский район</td>\n",
       "    </tr>\n",
       "    <tr>\n",
       "      <th>2</th>\n",
       "      <td>Большая Никитская улица</td>\n",
       "      <td>17</td>\n",
       "      <td>ЦАО</td>\n",
       "      <td>Пресненский район</td>\n",
       "    </tr>\n",
       "    <tr>\n",
       "      <th>3</th>\n",
       "      <td>Глубокий переулок</td>\n",
       "      <td>17</td>\n",
       "      <td>ЦАО</td>\n",
       "      <td>Пресненский район</td>\n",
       "    </tr>\n",
       "    <tr>\n",
       "      <th>4</th>\n",
       "      <td>Большой Гнездниковский переулок</td>\n",
       "      <td>17</td>\n",
       "      <td>ЦАО</td>\n",
       "      <td>Пресненский район</td>\n",
       "    </tr>\n",
       "  </tbody>\n",
       "</table>\n",
       "</div>"
      ],
      "text/plain": [
       "                        streetname  areaid okrug               area\n",
       "0  Выставочный переулок             17      ЦАО   Пресненский район\n",
       "1  улица Гашека                     17      ЦАО   Пресненский район\n",
       "2  Большая Никитская улица          17      ЦАО   Пресненский район\n",
       "3  Глубокий переулок                17      ЦАО   Пресненский район\n",
       "4  Большой Гнездниковский переулок  17      ЦАО   Пресненский район"
      ]
     },
     "metadata": {},
     "output_type": "display_data"
    }
   ],
   "source": [
    "display('Данные об улицах по районам', streets_areas.head())"
   ]
  },
  {
   "cell_type": "markdown",
   "metadata": {},
   "source": [
    "Ознакомимся с данными немного поближе: выведем уникальные значения по всем столбцам, посмотрим есть ли очевидные аномалии"
   ]
  },
  {
   "cell_type": "code",
   "execution_count": 6,
   "metadata": {},
   "outputs": [
    {
     "data": {
      "text/plain": [
       "'id'"
      ]
     },
     "metadata": {},
     "output_type": "display_data"
    },
    {
     "data": {
      "text/plain": [
       "[838, 5882, 19613, 19618, 19619]"
      ]
     },
     "metadata": {},
     "output_type": "display_data"
    },
    {
     "data": {
      "text/plain": [
       "[223435, 223436, 223437, 223438, 223439]"
      ]
     },
     "metadata": {},
     "output_type": "display_data"
    },
    {
     "data": {
      "text/plain": [
       "'object_name'"
      ]
     },
     "metadata": {},
     "output_type": "display_data"
    },
    {
     "data": {
      "text/plain": [
       "['1-ЫЙ МОСКОВСКИЙ КАДЕТСКИЙ КОРПУС',\n",
       " '1-й МОК',\n",
       " '100 личная столовая',\n",
       " '100 личное кафе',\n",
       " '1001 ночь']"
      ]
     },
     "metadata": {},
     "output_type": "display_data"
    },
    {
     "data": {
      "text/plain": [
       "['школа 476', 'школа 772', 'школа 775', 'школа 913', 'школа 919']"
      ]
     },
     "metadata": {},
     "output_type": "display_data"
    },
    {
     "data": {
      "text/plain": [
       "'chain'"
      ]
     },
     "metadata": {},
     "output_type": "display_data"
    },
    {
     "data": {
      "text/plain": [
       "['да', 'нет']"
      ]
     },
     "metadata": {},
     "output_type": "display_data"
    },
    {
     "data": {
      "text/plain": [
       "'object_type'"
      ]
     },
     "metadata": {},
     "output_type": "display_data"
    },
    {
     "data": {
      "text/plain": [
       "['бар',\n",
       " 'буфет',\n",
       " 'закусочная',\n",
       " 'кафе',\n",
       " 'кафетерий',\n",
       " 'магазин (отдел кулинарии)',\n",
       " 'предприятие быстрого обслуживания',\n",
       " 'ресторан',\n",
       " 'столовая']"
      ]
     },
     "metadata": {},
     "output_type": "display_data"
    },
    {
     "data": {
      "text/plain": [
       "'address'"
      ]
     },
     "metadata": {},
     "output_type": "display_data"
    },
    {
     "data": {
      "text/plain": [
       "['1-й Нагатинский проезд, дом 10',\n",
       " '1-я Тверская-Ямская улица, дом 29/66, корпус 1',\n",
       " '2-я Брестская улица, дом 1, строение 1',\n",
       " '2-я Брестская улица, дом 5, строение 1',\n",
       " '5-й Котельнический переулок, дом 11']"
      ]
     },
     "metadata": {},
     "output_type": "display_data"
    },
    {
     "data": {
      "text/plain": [
       "['улица Ленинская Слобода, дом 26, строение 5',\n",
       " 'улица Льва Толстого, дом 18',\n",
       " 'улица Миклухо-Маклая, дом 18',\n",
       " 'улица Обручева, дом 23, строение 1',\n",
       " 'улица Сергея Макеева, дом 9, строение 2']"
      ]
     },
     "metadata": {},
     "output_type": "display_data"
    },
    {
     "data": {
      "text/plain": [
       "'number'"
      ]
     },
     "metadata": {},
     "output_type": "display_data"
    },
    {
     "data": {
      "text/plain": [
       "[0, 1, 2, 3, 4]"
      ]
     },
     "metadata": {},
     "output_type": "display_data"
    },
    {
     "data": {
      "text/plain": [
       "[1200, 1288, 1400, 1500, 1700]"
      ]
     },
     "metadata": {},
     "output_type": "display_data"
    }
   ],
   "source": [
    "# выведем уникальные значения по всем столбцам - посмотрим есть ли очевидные аномалии\n",
    "def show_data_values(data):\n",
    "    for col in data.columns:    \n",
    "        try:\n",
    "            values = sorted(data[col].unique())\n",
    "            # если больше 10 значений, выведем только первые и последние 5\n",
    "            if len(values) > 10:\n",
    "                display (col, values[:5], values[-5:])\n",
    "            else: display(col, values)\n",
    "        except:\n",
    "            display(f'После except: {col}', data[col].unique()) \n",
    "            \n",
    "            \n",
    "show_data_values(data)"
   ]
  },
  {
   "cell_type": "markdown",
   "metadata": {},
   "source": [
    "***Вывод:*** \n",
    "* В колонке chain всего два вида значений, тип нужно поменять на bool.\n",
    "* В колонке 'number' есть нулевые значения\n",
    "\n",
    "Остальные данные при беглом осмотре в порядке.\n"
   ]
  },
  {
   "cell_type": "markdown",
   "metadata": {},
   "source": [
    "<a id='prep'></a>\n",
    "# 2. Предобработка данных"
   ]
  },
  {
   "cell_type": "markdown",
   "metadata": {},
   "source": [
    "### Приведем данные к нужным типам, проверим и исправим дубликаты, приопуски в данных"
   ]
  },
  {
   "cell_type": "markdown",
   "metadata": {},
   "source": [
    "Заменим тип колонки 'chain' на bool"
   ]
  },
  {
   "cell_type": "code",
   "execution_count": 7,
   "metadata": {
    "scrolled": true
   },
   "outputs": [],
   "source": [
    "data.loc[data['chain'] == \"нет\",'chain'] = ''\n",
    "data['chain'] = data['chain'].astype('bool')"
   ]
  },
  {
   "cell_type": "markdown",
   "metadata": {},
   "source": [
    "Теперь посмотрим дубликаты. Проверим записи на идентичность без столбеца 'id'."
   ]
  },
  {
   "cell_type": "code",
   "execution_count": 8,
   "metadata": {
    "scrolled": true
   },
   "outputs": [
    {
     "name": "stdout",
     "output_type": "stream",
     "text": [
      "Дубликатов в таблице: 82\n"
     ]
    }
   ],
   "source": [
    "print('Дубликатов в таблице:', data.duplicated(subset=['object_name', 'address', 'chain', 'object_type', 'number']).sum())"
   ]
  },
  {
   "cell_type": "markdown",
   "metadata": {},
   "source": [
    "Такие дубликаты есть, уберем их"
   ]
  },
  {
   "cell_type": "code",
   "execution_count": 9,
   "metadata": {},
   "outputs": [],
   "source": [
    "data = data[data.duplicated(subset=['object_name', 'address', 'chain', 'object_type', 'number']) == False]"
   ]
  },
  {
   "cell_type": "markdown",
   "metadata": {},
   "source": [
    "Проверим явные пропуски"
   ]
  },
  {
   "cell_type": "code",
   "execution_count": 10,
   "metadata": {
    "scrolled": true
   },
   "outputs": [
    {
     "name": "stdout",
     "output_type": "stream",
     "text": [
      "Явные пропуски в таблице:\n",
      " id             0\n",
      "object_name    0\n",
      "chain          0\n",
      "object_type    0\n",
      "address        0\n",
      "number         0\n",
      "dtype: int64\n"
     ]
    }
   ],
   "source": [
    "print('Явные пропуски в таблице:\\n', data.isna().sum())"
   ]
  },
  {
   "cell_type": "markdown",
   "metadata": {},
   "source": [
    "***Вывод по шагу:***\n",
    "Библиотеки подключили, данные прочитали, с информацией ознакомились, типы данных исправили, дубликаты удалили, пропуски проверили"
   ]
  },
  {
   "cell_type": "markdown",
   "metadata": {},
   "source": [
    "<a id='analyzing'></a>\n",
    "## 3. Анализ данных"
   ]
  },
  {
   "cell_type": "markdown",
   "metadata": {},
   "source": [
    "На этом шаге:\n",
    " * Исследуем соотношение видов объектов общественного питания по количеству. Построим график.\n",
    " * Исследуем соотношение сетевых и несетевых заведений по количеству. Построим график.\n",
    " * Узнаем что характерно для сетевых заведений: много заведений с небольшим числом посадочных мест в каждом или мало заведений с большим количеством посадочных мест\n",
    " * Опишем среднее количество посадочных мест для каждого вида общественного питания\n",
    " * Построим график топ-10 улиц по количеству объектов общественного питания. Посмотрим в каких районах Москвы находятся эти улицы\n",
    " *  Найдем число улиц с одним объектом общественного питания. Посмотрим в каких районах Москвы находятся эти улицы\n",
    " * Посмотрим на распределение количества посадочных мест для улиц с большим количеством объектов общественного питания\n"
   ]
  },
  {
   "cell_type": "markdown",
   "metadata": {},
   "source": [
    "### Исследуем соотношение видов объектов общественного питания по количеству. Построим график."
   ]
  },
  {
   "cell_type": "code",
   "execution_count": 11,
   "metadata": {},
   "outputs": [
    {
     "data": {
      "image/png": "[encoded data removed]",
      "text/plain": [
       "<Figure size 432x288 with 1 Axes>"
      ]
     },
     "metadata": {
      "needs_background": "light"
     },
     "output_type": "display_data"
    }
   ],
   "source": [
    "ax = data['object_type'].value_counts().plot\\\n",
    "    .barh(title=\"Количество видов объектов общественного питания\")\n",
    "ax.set_ylabel('object_type');"
   ]
  },
  {
   "cell_type": "markdown",
   "metadata": {},
   "source": [
    "***Вывод:*** Больше всего распространены кафе, более чем в 2 раза реже - столовые, сразу за ней идут рестораны и предприятия быстрого обслуживания. Самую меньшую часть занимают магазины с отделом кулинарии, закусочные и кафетерии"
   ]
  },
  {
   "cell_type": "markdown",
   "metadata": {},
   "source": [
    "### Исследуем соотношение сетевых и несетевых заведений по количеству. Построим график."
   ]
  },
  {
   "cell_type": "code",
   "execution_count": 12,
   "metadata": {},
   "outputs": [
    {
     "data": {
      "image/png": "[encoded data removed]",
      "text/plain": [
       "<Figure size 504x360 with 1 Axes>"
      ]
     },
     "metadata": {
      "needs_background": "light"
     },
     "output_type": "display_data"
    }
   ],
   "source": [
    "plt.figure(figsize=(7,5))\n",
    "ratio_chain_to_nonchain = data.query('chain == True').groupby('object_type')['id'].count() /\\\n",
    "                         data.query('chain == False').groupby('object_type')['id'].count()\n",
    "\n",
    "ratio_chain_to_nonchain.sort_values(ascending=False).plot\\\n",
    "                        .barh(title=\"Соотношение сетевых и несетевых заведений по количеству\");"
   ]
  },
  {
   "cell_type": "markdown",
   "metadata": {},
   "source": [
    "***Вывод:***\n",
    "* сетевых заведений любых типов определенно меньше чем сетевых, так как соотношение везде меньше 1\n",
    "* столовые, буфеты и бары практически не бывают сетевыми\n",
    "* чаще всего сетевыми бывают предприятия быстрого обслуживания и магазины с отделом кулинарии\n",
    "* кафе в этом рейтинге примерно по середине с соотношением в 30%"
   ]
  },
  {
   "cell_type": "markdown",
   "metadata": {},
   "source": [
    "### Узнаем что характерно для сетевых заведений: много заведений с небольшим числом посадочных мест в каждом или мало заведений с большим количеством посадочных мест"
   ]
  },
  {
   "cell_type": "code",
   "execution_count": 13,
   "metadata": {},
   "outputs": [
    {
     "data": {
      "image/png": "[encoded data removed]",
      "text/plain": [
       "<Figure size 1080x576 with 1 Axes>"
      ]
     },
     "metadata": {
      "needs_background": "light"
     },
     "output_type": "display_data"
    }
   ],
   "source": [
    "data['count_objects'] = data.groupby('object_name')[\"id\"].transform('count')\n",
    "#data['median_number'] = data.groupby('object_name')[\"number\"].transform('median')\n",
    "data.query('chain == True').plot(x='count_objects', y = 'number', kind='scatter',\\\n",
    "     figsize=(15,8), title=\"Зависимость числа сетевых заведений и количества посадочных мест\");\n",
    "plt.axhline(y=100, color='black', linestyle='--');"
   ]
  },
  {
   "cell_type": "markdown",
   "metadata": {},
   "source": [
    "***Вывод:*** Похоже, что наибольше распространение получили заведения с количеством объектов в сети до 17 и с количеством посадочных мест не больше 100. Делаем вывод, что для сетевых заведений характерно много заведений с небольшим числом посадочных мест в каждом."
   ]
  },
  {
   "cell_type": "markdown",
   "metadata": {},
   "source": [
    "### Опишем среднее количество посадочных мест для каждого вида общественного питания"
   ]
  },
  {
   "cell_type": "code",
   "execution_count": 14,
   "metadata": {
    "scrolled": true
   },
   "outputs": [
    {
     "data": {
      "image/png": "[encoded data removed]",
      "text/plain": [
       "<Figure size 432x288 with 1 Axes>"
      ]
     },
     "metadata": {
      "needs_background": "light"
     },
     "output_type": "display_data"
    }
   ],
   "source": [
    "ax = data.groupby('object_type')[\"number\"].mean()\\\n",
    "                .sort_values(ascending=False)\\\n",
    "                .plot(kind='barh', title= \"среднее количество посадочных мест\");\n",
    "ax.set_xlabel('count')\n",
    "ax.set_ylabel('object_type');"
   ]
  },
  {
   "cell_type": "markdown",
   "metadata": {},
   "source": [
    "***Вывод:*** Больше всего посадочных мест в столовых и ресторанах, далее с небеольшой разницей между собой идут буфет, бар и кафе. Меньше всего магазины с отделом кулинарии, закусочные и кафетерии. Картина очень похожа на распространенность видов общественного питания, если не учитывать кафе. Тут кафе на средней позиции."
   ]
  },
  {
   "cell_type": "markdown",
   "metadata": {},
   "source": [
    "### Построим график топ-10 улиц по количеству объектов общественного питания. Посмотрим в каких районах Москвы находятся эти улицы"
   ]
  },
  {
   "cell_type": "markdown",
   "metadata": {},
   "source": [
    "Выделим в отдельный столбец информацию об улице из столбца address. "
   ]
  },
  {
   "cell_type": "code",
   "execution_count": 15,
   "metadata": {},
   "outputs": [],
   "source": [
    "# функция для выделения улицы из целого адреса\n",
    "def get_street_from_address(address):\n",
    "    # делим адрес на части, выделяем часть с улицей по ключевым словам\n",
    "    addr_parts = address.split(',') \n",
    "    for addr_part in addr_parts:\n",
    "        for key_word in ['улица', 'проспект', 'бульвар', 'переулок', 'ул.']:\n",
    "            if key_word in addr_part:\n",
    "                return addr_part.strip()\n",
    "    # если нет совпадений по ключевым словам возвращаем если есть 2-ю часть из адреса, либо весь адрес\n",
    "    if len(addr_parts) > 1: return addr_parts[1].strip()\n",
    "    return address            "
   ]
  },
  {
   "cell_type": "code",
   "execution_count": 16,
   "metadata": {},
   "outputs": [
    {
     "data": {
      "text/plain": [
       "0    улица Егора Абакумова\n",
       "1    улица Талалихина     \n",
       "2    Абельмановская улица \n",
       "3    Абрамцевская улица   \n",
       "4    Абрамцевская улица   \n",
       "Name: streetname, dtype: object"
      ]
     },
     "execution_count": 16,
     "metadata": {},
     "output_type": "execute_result"
    }
   ],
   "source": [
    "data['streetname'] = data['address'].apply(get_street_from_address)\n",
    "data['streetname'].head()"
   ]
  },
  {
   "cell_type": "markdown",
   "metadata": {},
   "source": [
    "Теперь совместим основную таблицу и таблицу с данными об улицах и районах"
   ]
  },
  {
   "cell_type": "code",
   "execution_count": 17,
   "metadata": {},
   "outputs": [
    {
     "data": {
      "text/html": [
       "<div>\n",
       "<style scoped>\n",
       "    .dataframe tbody tr th:only-of-type {\n",
       "        vertical-align: middle;\n",
       "    }\n",
       "\n",
       "    .dataframe tbody tr th {\n",
       "        vertical-align: top;\n",
       "    }\n",
       "\n",
       "    .dataframe thead th {\n",
       "        text-align: right;\n",
       "    }\n",
       "</style>\n",
       "<table border=\"1\" class=\"dataframe\">\n",
       "  <thead>\n",
       "    <tr style=\"text-align: right;\">\n",
       "      <th></th>\n",
       "      <th>id</th>\n",
       "      <th>object_name</th>\n",
       "      <th>chain</th>\n",
       "      <th>object_type</th>\n",
       "      <th>address</th>\n",
       "      <th>number</th>\n",
       "      <th>count_objects</th>\n",
       "      <th>streetname</th>\n",
       "      <th>areaid</th>\n",
       "      <th>okrug</th>\n",
       "      <th>area</th>\n",
       "    </tr>\n",
       "  </thead>\n",
       "  <tbody>\n",
       "    <tr>\n",
       "      <th>0</th>\n",
       "      <td>151635</td>\n",
       "      <td>СМЕТАНА</td>\n",
       "      <td>False</td>\n",
       "      <td>кафе</td>\n",
       "      <td>город Москва, улица Егора Абакумова, дом 9</td>\n",
       "      <td>48</td>\n",
       "      <td>1</td>\n",
       "      <td>улица Егора Абакумова</td>\n",
       "      <td>86.00</td>\n",
       "      <td>СВАО</td>\n",
       "      <td>Ярославский Район</td>\n",
       "    </tr>\n",
       "    <tr>\n",
       "      <th>1</th>\n",
       "      <td>77874</td>\n",
       "      <td>Родник</td>\n",
       "      <td>False</td>\n",
       "      <td>кафе</td>\n",
       "      <td>город Москва, улица Талалихина, дом 2/1, корпус 1</td>\n",
       "      <td>35</td>\n",
       "      <td>1</td>\n",
       "      <td>улица Талалихина</td>\n",
       "      <td>18.00</td>\n",
       "      <td>ЦАО</td>\n",
       "      <td>Таганский район</td>\n",
       "    </tr>\n",
       "    <tr>\n",
       "      <th>2</th>\n",
       "      <td>24309</td>\n",
       "      <td>Кафе «Академия»</td>\n",
       "      <td>False</td>\n",
       "      <td>кафе</td>\n",
       "      <td>город Москва, Абельмановская улица, дом 6</td>\n",
       "      <td>95</td>\n",
       "      <td>1</td>\n",
       "      <td>Абельмановская улица</td>\n",
       "      <td>18.00</td>\n",
       "      <td>ЦАО</td>\n",
       "      <td>Таганский район</td>\n",
       "    </tr>\n",
       "  </tbody>\n",
       "</table>\n",
       "</div>"
      ],
      "text/plain": [
       "       id      object_name  chain object_type  \\\n",
       "0  151635  СМЕТАНА          False  кафе         \n",
       "1  77874   Родник           False  кафе         \n",
       "2  24309   Кафе «Академия»  False  кафе         \n",
       "\n",
       "                                             address  number  count_objects  \\\n",
       "0  город Москва, улица Егора Абакумова, дом 9         48      1               \n",
       "1  город Москва, улица Талалихина, дом 2/1, корпус 1  35      1               \n",
       "2  город Москва, Абельмановская улица, дом 6          95      1               \n",
       "\n",
       "              streetname  areaid okrug               area  \n",
       "0  улица Егора Абакумова 86.00    СВАО  Ярославский Район  \n",
       "1  улица Талалихина      18.00    ЦАО   Таганский район    \n",
       "2  Абельмановская улица  18.00    ЦАО   Таганский район    "
      ]
     },
     "execution_count": 17,
     "metadata": {},
     "output_type": "execute_result"
    }
   ],
   "source": [
    "streets_areas = streets_areas.groupby('streetname').first()\n",
    "data = data.merge(streets_areas, on=\"streetname\", how='left')\n",
    "data.head(3)"
   ]
  },
  {
   "cell_type": "markdown",
   "metadata": {},
   "source": [
    "Построим график топ-10 улиц по количеству объектов общественного питания"
   ]
  },
  {
   "cell_type": "code",
   "execution_count": 18,
   "metadata": {},
   "outputs": [
    {
     "name": "stdout",
     "output_type": "stream",
     "text": [
      "Топ-10 улиц по количеству объектов общественного питания\n",
      " streetname\n",
      "проспект Мира             204\n",
      "город Зеленоград          194\n",
      "Профсоюзная улица         182\n",
      "Ленинградский проспект    172\n",
      "Пресненская набережная    167\n",
      "Варшавское шоссе          161\n",
      "Ленинский проспект        148\n",
      "проспект Вернадского      128\n",
      "Кутузовский проспект      114\n",
      "Каширское шоссе           111\n",
      "Name: object_name, dtype: int64\n"
     ]
    },
    {
     "data": {
      "image/png": "[encoded data removed]",
      "text/plain": [
       "<Figure size 432x288 with 1 Axes>"
      ]
     },
     "metadata": {
      "needs_background": "light"
     },
     "output_type": "display_data"
    }
   ],
   "source": [
    "top10_street = data.groupby('streetname')['object_name'].count()\\\n",
    "        .sort_values(ascending=False).head(10)\n",
    "\n",
    "print(\"Топ-10 улиц по количеству объектов общественного питания\\n\", top10_street)\n",
    "ax = top10_street.plot(kind='barh', title=\"Топ-10 улиц по количеству объектов общественного питания\")\n",
    "ax.set_xlabel('Количество объектов') \n",
    "ax.set_ylabel('Улица');\n"
   ]
  },
  {
   "cell_type": "markdown",
   "metadata": {},
   "source": [
    "Районы в которых находятся топ 10 улиц, у которых больше всего заведений"
   ]
  },
  {
   "cell_type": "code",
   "execution_count": 19,
   "metadata": {},
   "outputs": [
    {
     "data": {
      "text/plain": [
       "'Районы в которых находятся топ 10 улиц, у которых больше всего заведений'"
      ]
     },
     "metadata": {},
     "output_type": "display_data"
    },
    {
     "data": {
      "text/html": [
       "<div>\n",
       "<style scoped>\n",
       "    .dataframe tbody tr th:only-of-type {\n",
       "        vertical-align: middle;\n",
       "    }\n",
       "\n",
       "    .dataframe tbody tr th {\n",
       "        vertical-align: top;\n",
       "    }\n",
       "\n",
       "    .dataframe thead tr th {\n",
       "        text-align: left;\n",
       "    }\n",
       "\n",
       "    .dataframe thead tr:last-of-type th {\n",
       "        text-align: right;\n",
       "    }\n",
       "</style>\n",
       "<table border=\"1\" class=\"dataframe\">\n",
       "  <thead>\n",
       "    <tr>\n",
       "      <th></th>\n",
       "      <th colspan=\"2\" halign=\"left\">streetname</th>\n",
       "    </tr>\n",
       "    <tr>\n",
       "      <th></th>\n",
       "      <th>first</th>\n",
       "      <th>count</th>\n",
       "    </tr>\n",
       "    <tr>\n",
       "      <th>area</th>\n",
       "      <th></th>\n",
       "      <th></th>\n",
       "    </tr>\n",
       "  </thead>\n",
       "  <tbody>\n",
       "    <tr>\n",
       "      <th>Академический район</th>\n",
       "      <td>Профсоюзная улица</td>\n",
       "      <td>182</td>\n",
       "    </tr>\n",
       "    <tr>\n",
       "      <th>Алексеевский район</th>\n",
       "      <td>проспект Мира</td>\n",
       "      <td>204</td>\n",
       "    </tr>\n",
       "    <tr>\n",
       "      <th>Пресненский район</th>\n",
       "      <td>Пресненская набережная</td>\n",
       "      <td>167</td>\n",
       "    </tr>\n",
       "    <tr>\n",
       "      <th>Район Аэропорт</th>\n",
       "      <td>Ленинградский проспект</td>\n",
       "      <td>172</td>\n",
       "    </tr>\n",
       "    <tr>\n",
       "      <th>Район Дорогомилово</th>\n",
       "      <td>Кутузовский проспект</td>\n",
       "      <td>114</td>\n",
       "    </tr>\n",
       "    <tr>\n",
       "      <th>Район Крюково</th>\n",
       "      <td>город Зеленоград</td>\n",
       "      <td>194</td>\n",
       "    </tr>\n",
       "    <tr>\n",
       "      <th>Район Москворечье-Сабурово</th>\n",
       "      <td>Каширское шоссе</td>\n",
       "      <td>111</td>\n",
       "    </tr>\n",
       "    <tr>\n",
       "      <th>Район Проспект Вернадского</th>\n",
       "      <td>проспект Вернадского</td>\n",
       "      <td>276</td>\n",
       "    </tr>\n",
       "    <tr>\n",
       "      <th>Район Чертаново Центральное</th>\n",
       "      <td>Варшавское шоссе</td>\n",
       "      <td>161</td>\n",
       "    </tr>\n",
       "  </tbody>\n",
       "</table>\n",
       "</div>"
      ],
      "text/plain": [
       "                                         streetname      \n",
       "                                              first count\n",
       "area                                                     \n",
       "Академический район          Профсоюзная улица       182 \n",
       "Алексеевский район           проспект Мира           204 \n",
       "Пресненский район            Пресненская набережная  167 \n",
       "Район Аэропорт               Ленинградский проспект  172 \n",
       "Район Дорогомилово           Кутузовский проспект    114 \n",
       "Район Крюково                город Зеленоград        194 \n",
       "Район Москворечье-Сабурово   Каширское шоссе         111 \n",
       "Район Проспект Вернадского   проспект Вернадского    276 \n",
       "Район Чертаново Центральное  Варшавское шоссе        161 "
      ]
     },
     "execution_count": 19,
     "metadata": {},
     "output_type": "execute_result"
    }
   ],
   "source": [
    "display('Районы в которых находятся топ 10 улиц, у которых больше всего заведений')\n",
    "\n",
    "data[data['streetname'].isin(top10_street.index)]\\\n",
    "    .groupby('area').agg({'streetname':['first', 'count']})"
   ]
  },
  {
   "cell_type": "markdown",
   "metadata": {},
   "source": [
    "Посмотрим теперь визуально, в где находятся эти улицы, отметим их на карте"
   ]
  },
  {
   "attachments": {
    "%D0%B8%D0%B7%D0%BE%D0%B1%D1%80%D0%B0%D0%B6%D0%B5%D0%BD%D0%B8%D0%B5.png": {
     "image/png": "[encoded data removed]"
    }
   },
   "cell_type": "markdown",
   "metadata": {},
   "source": [
    "![%D0%B8%D0%B7%D0%BE%D0%B1%D1%80%D0%B0%D0%B6%D0%B5%D0%BD%D0%B8%D0%B5.png](attachment:%D0%B8%D0%B7%D0%BE%D0%B1%D1%80%D0%B0%D0%B6%D0%B5%D0%BD%D0%B8%D0%B5.png)"
   ]
  },
  {
   "cell_type": "markdown",
   "metadata": {},
   "source": [
    "***Вывод:*** Как видим основная часть густых на заведения улиц находится в западных и юго-западных районах внутри МКАДа, а также в Зеленограде. Топовые районы у которых больше всего заведений: Проспект Вернадского, Алексеевский, Крюково, Академический, Аэропорт, Пресненский, Чертаново Центральное, Дорогомилово, Москворечье-Сабурово"
   ]
  },
  {
   "cell_type": "markdown",
   "metadata": {},
   "source": [
    "### Найдем число улиц с одним объектом общественного питания. Посмотрим в каких районах Москвы находятся эти улицы"
   ]
  },
  {
   "cell_type": "code",
   "execution_count": 20,
   "metadata": {},
   "outputs": [
    {
     "data": {
      "text/plain": [
       "'Топ 10 районов с улицами, имеющими всего один объект общественного питания'"
      ]
     },
     "metadata": {},
     "output_type": "display_data"
    },
    {
     "data": {
      "text/html": [
       "<div>\n",
       "<style scoped>\n",
       "    .dataframe tbody tr th:only-of-type {\n",
       "        vertical-align: middle;\n",
       "    }\n",
       "\n",
       "    .dataframe tbody tr th {\n",
       "        vertical-align: top;\n",
       "    }\n",
       "\n",
       "    .dataframe thead th {\n",
       "        text-align: right;\n",
       "    }\n",
       "</style>\n",
       "<table border=\"1\" class=\"dataframe\">\n",
       "  <thead>\n",
       "    <tr style=\"text-align: right;\">\n",
       "      <th></th>\n",
       "      <th>okrug</th>\n",
       "      <th>streets_count</th>\n",
       "    </tr>\n",
       "    <tr>\n",
       "      <th>area</th>\n",
       "      <th></th>\n",
       "      <th></th>\n",
       "    </tr>\n",
       "  </thead>\n",
       "  <tbody>\n",
       "    <tr>\n",
       "      <th>Таганский район</th>\n",
       "      <td>ЦАО</td>\n",
       "      <td>26</td>\n",
       "    </tr>\n",
       "    <tr>\n",
       "      <th>Басманный район</th>\n",
       "      <td>ЦАО</td>\n",
       "      <td>24</td>\n",
       "    </tr>\n",
       "    <tr>\n",
       "      <th>Район Хамовники</th>\n",
       "      <td>ЦАО</td>\n",
       "      <td>22</td>\n",
       "    </tr>\n",
       "    <tr>\n",
       "      <th>Тверской район</th>\n",
       "      <td>ЦАО</td>\n",
       "      <td>20</td>\n",
       "    </tr>\n",
       "    <tr>\n",
       "      <th>Пресненский район</th>\n",
       "      <td>ЦАО</td>\n",
       "      <td>20</td>\n",
       "    </tr>\n",
       "    <tr>\n",
       "      <th>Район Марьина роща</th>\n",
       "      <td>СВАО</td>\n",
       "      <td>17</td>\n",
       "    </tr>\n",
       "    <tr>\n",
       "      <th>Район Сокольники</th>\n",
       "      <td>ВАО</td>\n",
       "      <td>15</td>\n",
       "    </tr>\n",
       "    <tr>\n",
       "      <th>Район Арбат</th>\n",
       "      <td>ЦАО</td>\n",
       "      <td>14</td>\n",
       "    </tr>\n",
       "    <tr>\n",
       "      <th>Район Замоскворечье</th>\n",
       "      <td>ЦАО</td>\n",
       "      <td>14</td>\n",
       "    </tr>\n",
       "    <tr>\n",
       "      <th>Мещанский район</th>\n",
       "      <td>ЦАО</td>\n",
       "      <td>13</td>\n",
       "    </tr>\n",
       "  </tbody>\n",
       "</table>\n",
       "</div>"
      ],
      "text/plain": [
       "                    okrug  streets_count\n",
       "area                                    \n",
       "Таганский район      ЦАО   26           \n",
       "Басманный район      ЦАО   24           \n",
       "Район Хамовники      ЦАО   22           \n",
       "Тверской район       ЦАО   20           \n",
       "Пресненский район    ЦАО   20           \n",
       "Район Марьина роща   СВАО  17           \n",
       "Район Сокольники     ВАО   15           \n",
       "Район Арбат          ЦАО   14           \n",
       "Район Замоскворечье  ЦАО   14           \n",
       "Мещанский район      ЦАО   13           "
      ]
     },
     "metadata": {},
     "output_type": "display_data"
    }
   ],
   "source": [
    "#table = data.groupby('streetname').agg({'object_name':['count'], 'area_x' : ['first']}).reset_index()  \n",
    "#table[table['object_name'] == 1]\n",
    "\n",
    "streets_with_one_obj = data.groupby('streetname')['object_name'].count()\n",
    "\n",
    "streets_with_one_obj = data[data['streetname']\\\n",
    "    .isin(streets_with_one_obj[streets_with_one_obj == 1].index)].reset_index(drop=True)\n",
    "\n",
    "top_areas_of_one_obj_streets = streets_with_one_obj\\\n",
    "    .pivot_table(values=['streetname','okrug'], index='area',\\\n",
    "    aggfunc={'streetname':'count',  'okrug':'first'})\\\n",
    "    .sort_values(by='streetname', ascending=False).head(10)\n",
    "\n",
    "top_areas_of_one_obj_streets.columns = {'okrug', 'streets_count'}\n",
    "\n",
    "display('Топ 10 районов с улицами, имеющими всего один объект общественного питания',\\\n",
    "        top_areas_of_one_obj_streets )"
   ]
  },
  {
   "cell_type": "markdown",
   "metadata": {},
   "source": [
    "Посмотрим как они расположены на карте"
   ]
  },
  {
   "attachments": {
    "%D0%B8%D0%B7%D0%BE%D0%B1%D1%80%D0%B0%D0%B6%D0%B5%D0%BD%D0%B8%D0%B5.png": {
     "image/png": "[encoded data removed]"
    }
   },
   "cell_type": "markdown",
   "metadata": {},
   "source": [
    "![%D0%B8%D0%B7%D0%BE%D0%B1%D1%80%D0%B0%D0%B6%D0%B5%D0%BD%D0%B8%D0%B5.png](attachment:%D0%B8%D0%B7%D0%BE%D0%B1%D1%80%D0%B0%D0%B6%D0%B5%D0%BD%D0%B8%D0%B5.png)"
   ]
  },
  {
   "cell_type": "markdown",
   "metadata": {},
   "source": [
    "***Вывод:*** Основные районы, имеющие всего один объект общественного питания: Таганский, Басманный, Хамовники, Тверской, Пресненский, Марьина роща, Сокольники, Арбат, Замоскворечье, Мещанский район. Отобранные районы располагаются в основном в северном, восточном и совсем немного в западном направлениях.\n",
    "В сравнении с улицами богатыми на количество заведений, видим, что тут в основном занимается другая часть Москвы."
   ]
  },
  {
   "cell_type": "markdown",
   "metadata": {},
   "source": [
    "### Посмотрим на распределение количества посадочных мест для улиц с большим количеством объектов общественного питания"
   ]
  },
  {
   "cell_type": "code",
   "execution_count": 21,
   "metadata": {},
   "outputs": [
    {
     "data": {
      "text/plain": [
       "'Распределение количества посадочных мест для улиц с большим количеством объектов общественного питания'"
      ]
     },
     "metadata": {},
     "output_type": "display_data"
    },
    {
     "data": {
      "image/png": "[encoded data removed]",
      "text/plain": [
       "<Figure size 1080x360 with 1 Axes>"
      ]
     },
     "metadata": {
      "needs_background": "light"
     },
     "output_type": "display_data"
    }
   ],
   "source": [
    "plt.figure(figsize=(15,5))\n",
    "plt.xticks(rotation=90)\n",
    "plt.axis([\"1\", \"2\",0, 300]) \n",
    "plt.axhline(y=20, color='black', linestyle='--'); \n",
    "plt.axhline(y=7, color='black', linestyle='--'); \n",
    "plt.axhline(y=80, color='black', linestyle='--'); \n",
    "\n",
    "display('Распределение количества посадочных мест для улиц с большим количеством объектов общественного питания')\n",
    "sb.boxplot(x='streetname', y='number',\\\n",
    "           data=data[data['streetname'].isin(top10_street.index)]);"
   ]
  },
  {
   "cell_type": "markdown",
   "metadata": {},
   "source": [
    "***Вывод:*** Обнаруживаются следующие закономерности:\n",
    "* на проспектах: Вернадского, Кутузовском Ленинском, Мира и Зеленограде минимальное число в основной массе посадочных мест начинается от 20 и выше.\n",
    "* на Варшавском и Каширском шоссе, и Пресненской набережной нижний порог основной массы от 7 мест. Возможно, по данному параметру для нас эти районы приоритетны, так как планируется небольшое кафе.\n",
    "* самый большой диапазон посадочных мест в Зеленограде, Кутузовском проспекте. Каширском шоссе, Проспекте Мира\n",
    "* количество от 35 до 45 посадочных мест везде актуально\n"
   ]
  },
  {
   "cell_type": "markdown",
   "metadata": {},
   "source": [
    "***Вывод по шагу:*** Были проанализированы разные виды заведений видов общественного питания: соотношение видов объектов общественного питания по количеству, сетевые/несетевые заведения, посадочные места в них, распространение заведений по районам Москвы"
   ]
  },
  {
   "cell_type": "markdown",
   "metadata": {},
   "source": [
    "<a id='summary'></a>\n",
    "## 4. Вывод"
   ]
  },
  {
   "cell_type": "markdown",
   "metadata": {},
   "source": [
    "Выпишем промежуточные выводы, сделанные на предыдущих шагах:\n",
    "* больше всего распространены кафе, более чем в 2 раза реже - столовые, сразу за ними идут рестораны и предприятия быстрого обслуживания. Самую меньшую часть занимают магазины с отделом кулинарии, закусочные и кафетерии\n",
    "* соотношение сетевых и несетевых заведений по количеству:\n",
    "    * сетевых заведений любых типов определенно меньше чем сетевых, так как соотношение везде меньше 1\n",
    "    * столовые, буфеты и бары практически не бывают сетевыми\n",
    "    * чаще всего сетевыми бывают предприятия быстрого обслуживания и магазины с отделом кулинарии\n",
    "    * кафе в этом рейтинге примерно по середине с соотношением в 30%\n",
    "* Похоже, что наибольше распространение получили заведения с количеством объектов в сети до 17 и с количеством посадочных мест не больше 100. Делаем вывод, что для сетевых заведений характерно много заведений с небольшим числом посадочных мест в каждом.\n",
    "* больше всего посадочных мест в столовых и ресторанах, далее с небольшой разницей между собой идут буфет, бар и кафе. Меньше всего магазины с отделом кулинарии, закусочные и кафетерии. Картина очень похожа на распространенность видов общественного питания, если не учитывать кафе. Тут кафе на средней позиции.\n",
    "* основная чась густых на заведения улиц находится в западных и юго-западных районах внутри МКАДа, а также в Зеленограде. Топовые районы у которых больше всего заведений: Проспект Вернадского, Алексеевский, Крюково, Академический, Аэропорт, Пресненский, Чертаново Центральное, Дорогомилово, Москворечье-Сабурово\n",
    "* Основные районы, имеющие всего один объект общественного питания: Таганский, Басманный, Хамовники, Тверской, Пресненский, Марьина роща, Сокольники, Арбат, Замоскворечье, Мещанский район. Отобранные районы располагаются в основном в северном, восточном и совсем немного в западном направлениях. В сравнении с улицами богатыми на количество заведений, видим, что тут в основном занимается другая часть Москвы.\n",
    "* распределение количества посадочных мест для улиц с большим количеством объектов общественного питания:\n",
    "    * на проспекте Вернадского, Кутузовском, Ленинском, Мира и в Зеленограде минимальное число в основной массе посадочных мест начинается от 20 и выше\n",
    "    * на Варшавском и Каширском шоссе, и Пресненской набережной нижний порог основной массы от 7 мест. Возможно, по данному параметру для нас эти районы приоритетны, так как планируется небольшое кафе.\n",
    "    * самый большой диапазон посадочных мест в Зеленограде, Кутузовском просепекте. Каширском шоссе, Проспекте Мира\n",
    "    * количество от 35 до 45 посадочных мест везде актуально"
   ]
  },
  {
   "cell_type": "markdown",
   "metadata": {},
   "source": [
    "**Подытожим выводы:**\n",
    "- несетевых заведений общественного питания любых типов определенно больше чем сетевых. Поэтому очень желательно заложиться на сетевое распространение.\n",
    "- количество посадочных мест сделать от 7 до 45. Нам интересен нижний порог, поэтому особенно стоит присмотреться к местам на Варшавском шоссе, Каширском шоссе, и Пресненской набережной\n",
    "- кафе распространены больше всего, значит будет большая конкуренция и нужно искать районы, где она наименьшая. А это в основном правое полушарие Москвы или такие районы как Таганский, Басманный, Хамовники, Тверской, Пресненский, Марьина роща, Сокольники, Арбат, Замоскворечье, Мещанский район."
   ]
  },
  {
   "cell_type": "markdown",
   "metadata": {},
   "source": [
    "**Презентация:** https://drive.google.com/file/d/1JV3xWR6NGqOazWwhW8h4Qlm6C5OmQ_zr/view?usp=sharing\n"
   ]
  }
 ],
 "metadata": {
  "ExecuteTimeLog": [
   {
    "duration": 1079,
    "start_time": "2022-03-21T15:00:06.832Z"
   },
   {
    "duration": 60,
    "start_time": "2022-03-21T15:03:35.657Z"
   },
   {
    "duration": 89,
    "start_time": "2022-03-21T15:05:54.949Z"
   },
   {
    "duration": 68,
    "start_time": "2022-03-21T15:07:35.731Z"
   },
   {
    "duration": 17,
    "start_time": "2022-03-21T15:08:47.090Z"
   },
   {
    "duration": 15,
    "start_time": "2022-03-21T15:08:58.552Z"
   },
   {
    "duration": 85,
    "start_time": "2022-03-21T15:09:14.434Z"
   },
   {
    "duration": 8,
    "start_time": "2022-03-21T15:09:19.050Z"
   },
   {
    "duration": 63,
    "start_time": "2022-03-21T15:09:44.889Z"
   },
   {
    "duration": 8,
    "start_time": "2022-03-21T15:09:49.150Z"
   },
   {
    "duration": 16,
    "start_time": "2022-03-21T15:10:02.930Z"
   },
   {
    "duration": 17,
    "start_time": "2022-03-21T15:10:06.581Z"
   },
   {
    "duration": 7,
    "start_time": "2022-03-21T15:11:42.779Z"
   },
   {
    "duration": 8,
    "start_time": "2022-03-21T15:11:52.051Z"
   },
   {
    "duration": 9,
    "start_time": "2022-03-21T15:11:58.155Z"
   },
   {
    "duration": 6,
    "start_time": "2022-03-21T15:12:02.894Z"
   },
   {
    "duration": 8,
    "start_time": "2022-03-21T15:12:07.770Z"
   },
   {
    "duration": 5,
    "start_time": "2022-03-21T15:12:11.368Z"
   },
   {
    "duration": 10,
    "start_time": "2022-03-21T15:12:17.036Z"
   },
   {
    "duration": 11,
    "start_time": "2022-03-21T15:12:19.929Z"
   },
   {
    "duration": 9,
    "start_time": "2022-03-21T15:13:20.789Z"
   },
   {
    "duration": 5,
    "start_time": "2022-03-21T15:14:42.496Z"
   },
   {
    "duration": 4,
    "start_time": "2022-03-21T15:14:48.690Z"
   },
   {
    "duration": 9,
    "start_time": "2022-03-21T15:25:53.627Z"
   },
   {
    "duration": 6,
    "start_time": "2022-03-21T15:26:00.577Z"
   },
   {
    "duration": 6,
    "start_time": "2022-03-21T15:26:10.790Z"
   },
   {
    "duration": 4,
    "start_time": "2022-03-21T15:26:15.778Z"
   },
   {
    "duration": 5,
    "start_time": "2022-03-21T15:26:18.454Z"
   },
   {
    "duration": 5,
    "start_time": "2022-03-21T15:27:41.529Z"
   },
   {
    "duration": 274,
    "start_time": "2022-03-21T15:37:43.018Z"
   },
   {
    "duration": 42,
    "start_time": "2022-03-21T15:39:35.797Z"
   },
   {
    "duration": 41,
    "start_time": "2022-03-21T15:41:27.711Z"
   },
   {
    "duration": 44,
    "start_time": "2022-03-21T15:48:36.168Z"
   },
   {
    "duration": 44,
    "start_time": "2022-03-21T15:49:00.989Z"
   },
   {
    "duration": 8,
    "start_time": "2022-03-21T15:55:03.536Z"
   },
   {
    "duration": 7,
    "start_time": "2022-03-21T15:55:08.149Z"
   },
   {
    "duration": 7,
    "start_time": "2022-03-21T15:55:10.769Z"
   },
   {
    "duration": 14,
    "start_time": "2022-03-21T15:55:14.889Z"
   },
   {
    "duration": 4,
    "start_time": "2022-03-21T15:55:17.809Z"
   },
   {
    "duration": 10,
    "start_time": "2022-03-21T15:55:20.307Z"
   },
   {
    "duration": 5,
    "start_time": "2022-03-21T15:55:26.884Z"
   },
   {
    "duration": 16,
    "start_time": "2022-03-21T15:55:36.149Z"
   },
   {
    "duration": 18,
    "start_time": "2022-03-21T16:09:58.449Z"
   },
   {
    "duration": 15,
    "start_time": "2022-03-21T16:10:49.536Z"
   },
   {
    "duration": 14,
    "start_time": "2022-03-21T16:14:11.250Z"
   },
   {
    "duration": 21,
    "start_time": "2022-03-21T16:15:04.310Z"
   },
   {
    "duration": 23,
    "start_time": "2022-03-21T16:15:27.871Z"
   },
   {
    "duration": 14,
    "start_time": "2022-03-21T16:16:32.169Z"
   },
   {
    "duration": 16,
    "start_time": "2022-03-21T16:16:38.162Z"
   },
   {
    "duration": 1145,
    "start_time": "2022-03-21T16:16:53.419Z"
   },
   {
    "duration": 66,
    "start_time": "2022-03-21T16:16:54.567Z"
   },
   {
    "duration": 11,
    "start_time": "2022-03-21T16:16:54.634Z"
   },
   {
    "duration": 69,
    "start_time": "2022-03-21T16:16:54.647Z"
   },
   {
    "duration": 4,
    "start_time": "2022-03-21T16:16:54.718Z"
   },
   {
    "duration": 19,
    "start_time": "2022-03-21T16:16:54.724Z"
   },
   {
    "duration": 17,
    "start_time": "2022-03-21T16:16:54.745Z"
   },
   {
    "duration": 43,
    "start_time": "2022-03-21T16:16:54.764Z"
   },
   {
    "duration": 14,
    "start_time": "2022-03-21T16:16:54.808Z"
   },
   {
    "duration": 14,
    "start_time": "2022-03-21T16:19:11.538Z"
   },
   {
    "duration": 8,
    "start_time": "2022-03-21T16:19:24.690Z"
   },
   {
    "duration": 1839,
    "start_time": "2022-03-22T07:58:42.888Z"
   },
   {
    "duration": 1674,
    "start_time": "2022-03-22T07:58:47.624Z"
   },
   {
    "duration": 121,
    "start_time": "2022-03-22T07:58:49.312Z"
   },
   {
    "duration": 32,
    "start_time": "2022-03-22T07:58:49.437Z"
   },
   {
    "duration": 106,
    "start_time": "2022-03-22T07:58:49.472Z"
   },
   {
    "duration": 5,
    "start_time": "2022-03-22T07:58:49.580Z"
   },
   {
    "duration": 25,
    "start_time": "2022-03-22T07:58:49.588Z"
   },
   {
    "duration": 58,
    "start_time": "2022-03-22T07:58:49.615Z"
   },
   {
    "duration": 9,
    "start_time": "2022-03-22T07:58:49.676Z"
   },
   {
    "duration": 10,
    "start_time": "2022-03-22T08:04:25.401Z"
   },
   {
    "duration": 137,
    "start_time": "2022-03-22T08:04:38.353Z"
   },
   {
    "duration": 171,
    "start_time": "2022-03-22T08:04:40.482Z"
   },
   {
    "duration": 1344,
    "start_time": "2022-03-22T08:05:13.974Z"
   },
   {
    "duration": 25,
    "start_time": "2022-03-22T08:06:04.832Z"
   },
   {
    "duration": 897,
    "start_time": "2022-03-22T08:06:10.940Z"
   },
   {
    "duration": 13,
    "start_time": "2022-03-22T08:06:23.013Z"
   },
   {
    "duration": 13,
    "start_time": "2022-03-22T08:06:31.213Z"
   },
   {
    "duration": 24,
    "start_time": "2022-03-22T08:06:37.812Z"
   },
   {
    "duration": 294,
    "start_time": "2022-03-22T08:09:24.733Z"
   },
   {
    "duration": 349,
    "start_time": "2022-03-22T08:12:46.162Z"
   },
   {
    "duration": 284,
    "start_time": "2022-03-22T08:12:53.513Z"
   },
   {
    "duration": 20,
    "start_time": "2022-03-22T08:17:32.391Z"
   },
   {
    "duration": 21,
    "start_time": "2022-03-22T08:17:47.743Z"
   },
   {
    "duration": 17,
    "start_time": "2022-03-22T08:17:54.683Z"
   },
   {
    "duration": 497,
    "start_time": "2022-03-22T08:18:01.561Z"
   },
   {
    "duration": 429,
    "start_time": "2022-03-22T08:19:04.085Z"
   },
   {
    "duration": 509,
    "start_time": "2022-03-22T08:19:14.301Z"
   },
   {
    "duration": 185,
    "start_time": "2022-03-22T08:20:24.290Z"
   },
   {
    "duration": 8,
    "start_time": "2022-03-22T08:20:38.750Z"
   },
   {
    "duration": 20,
    "start_time": "2022-03-22T08:20:51.452Z"
   },
   {
    "duration": 7,
    "start_time": "2022-03-22T08:21:07.215Z"
   },
   {
    "duration": 14,
    "start_time": "2022-03-22T08:21:14.213Z"
   },
   {
    "duration": 14,
    "start_time": "2022-03-22T08:21:21.614Z"
   },
   {
    "duration": 14,
    "start_time": "2022-03-22T08:21:27.904Z"
   },
   {
    "duration": 6,
    "start_time": "2022-03-22T08:21:35.186Z"
   },
   {
    "duration": 21,
    "start_time": "2022-03-22T08:21:40.391Z"
   },
   {
    "duration": 13,
    "start_time": "2022-03-22T08:21:51.115Z"
   },
   {
    "duration": 17,
    "start_time": "2022-03-22T08:21:59.933Z"
   },
   {
    "duration": 13,
    "start_time": "2022-03-22T08:22:06.833Z"
   },
   {
    "duration": 1716,
    "start_time": "2022-03-22T08:22:24.974Z"
   },
   {
    "duration": 89,
    "start_time": "2022-03-22T08:22:26.693Z"
   },
   {
    "duration": 18,
    "start_time": "2022-03-22T08:22:26.785Z"
   },
   {
    "duration": 99,
    "start_time": "2022-03-22T08:22:26.807Z"
   },
   {
    "duration": 6,
    "start_time": "2022-03-22T08:22:26.908Z"
   },
   {
    "duration": 60,
    "start_time": "2022-03-22T08:22:26.916Z"
   },
   {
    "duration": 25,
    "start_time": "2022-03-22T08:22:26.979Z"
   },
   {
    "duration": 11,
    "start_time": "2022-03-22T08:22:27.006Z"
   },
   {
    "duration": 335,
    "start_time": "2022-03-22T08:22:27.019Z"
   },
   {
    "duration": 12,
    "start_time": "2022-03-22T08:22:27.357Z"
   },
   {
    "duration": 11,
    "start_time": "2022-03-22T08:22:27.372Z"
   },
   {
    "duration": 11,
    "start_time": "2022-03-22T08:22:34.053Z"
   },
   {
    "duration": 172,
    "start_time": "2022-03-22T08:22:53.656Z"
   },
   {
    "duration": 190,
    "start_time": "2022-03-22T08:22:59.213Z"
   },
   {
    "duration": 29,
    "start_time": "2022-03-22T08:23:15.781Z"
   },
   {
    "duration": 9,
    "start_time": "2022-03-22T08:23:54.585Z"
   },
   {
    "duration": 387,
    "start_time": "2022-03-22T08:25:13.113Z"
   },
   {
    "duration": 387,
    "start_time": "2022-03-22T08:25:21.807Z"
   },
   {
    "duration": 343,
    "start_time": "2022-03-22T08:25:42.774Z"
   },
   {
    "duration": 334,
    "start_time": "2022-03-22T08:27:24.475Z"
   },
   {
    "duration": 402,
    "start_time": "2022-03-22T08:27:35.182Z"
   },
   {
    "duration": 325,
    "start_time": "2022-03-22T08:27:41.914Z"
   },
   {
    "duration": 265,
    "start_time": "2022-03-22T08:28:09.002Z"
   },
   {
    "duration": 361,
    "start_time": "2022-03-22T08:28:46.970Z"
   },
   {
    "duration": 437,
    "start_time": "2022-03-22T08:28:57.761Z"
   },
   {
    "duration": 154,
    "start_time": "2022-03-22T08:29:11.984Z"
   },
   {
    "duration": 413,
    "start_time": "2022-03-22T08:31:34.023Z"
   },
   {
    "duration": 516,
    "start_time": "2022-03-22T08:31:54.562Z"
   },
   {
    "duration": 473,
    "start_time": "2022-03-22T08:32:01.036Z"
   },
   {
    "duration": 461,
    "start_time": "2022-03-22T08:32:31.804Z"
   },
   {
    "duration": 364,
    "start_time": "2022-03-22T08:32:35.873Z"
   },
   {
    "duration": 317,
    "start_time": "2022-03-22T08:33:25.584Z"
   },
   {
    "duration": 438,
    "start_time": "2022-03-22T08:33:48.758Z"
   },
   {
    "duration": 319,
    "start_time": "2022-03-22T08:34:01.005Z"
   },
   {
    "duration": 379,
    "start_time": "2022-03-22T08:34:23.014Z"
   },
   {
    "duration": 337,
    "start_time": "2022-03-22T08:34:30.382Z"
   },
   {
    "duration": 326,
    "start_time": "2022-03-22T08:34:35.612Z"
   },
   {
    "duration": 316,
    "start_time": "2022-03-22T08:34:40.213Z"
   },
   {
    "duration": 323,
    "start_time": "2022-03-22T08:34:45.235Z"
   },
   {
    "duration": 9,
    "start_time": "2022-03-22T08:35:31.453Z"
   },
   {
    "duration": 17,
    "start_time": "2022-03-22T08:35:38.040Z"
   },
   {
    "duration": 11,
    "start_time": "2022-03-22T08:35:43.074Z"
   },
   {
    "duration": 345,
    "start_time": "2022-03-22T08:35:56.368Z"
   },
   {
    "duration": 311,
    "start_time": "2022-03-22T08:36:00.292Z"
   },
   {
    "duration": 388,
    "start_time": "2022-03-22T08:42:28.645Z"
   },
   {
    "duration": 436,
    "start_time": "2022-03-22T08:42:37.500Z"
   },
   {
    "duration": 319,
    "start_time": "2022-03-22T08:42:50.853Z"
   },
   {
    "duration": 387,
    "start_time": "2022-03-22T08:43:06.117Z"
   },
   {
    "duration": 115,
    "start_time": "2022-03-22T08:44:28.047Z"
   },
   {
    "duration": 1669,
    "start_time": "2022-03-22T08:44:33.555Z"
   },
   {
    "duration": 86,
    "start_time": "2022-03-22T08:44:35.227Z"
   },
   {
    "duration": 20,
    "start_time": "2022-03-22T08:44:35.315Z"
   },
   {
    "duration": 147,
    "start_time": "2022-03-22T08:44:35.337Z"
   },
   {
    "duration": 6,
    "start_time": "2022-03-22T08:44:35.489Z"
   },
   {
    "duration": 23,
    "start_time": "2022-03-22T08:44:35.498Z"
   },
   {
    "duration": 73,
    "start_time": "2022-03-22T08:44:35.524Z"
   },
   {
    "duration": 10,
    "start_time": "2022-03-22T08:44:35.599Z"
   },
   {
    "duration": 312,
    "start_time": "2022-03-22T08:44:35.611Z"
   },
   {
    "duration": 151,
    "start_time": "2022-03-22T08:45:02.071Z"
   },
   {
    "duration": 272,
    "start_time": "2022-03-22T08:45:08.910Z"
   },
   {
    "duration": 294,
    "start_time": "2022-03-22T08:45:38.469Z"
   },
   {
    "duration": 402,
    "start_time": "2022-03-22T08:45:43.110Z"
   },
   {
    "duration": 275,
    "start_time": "2022-03-22T08:45:52.484Z"
   },
   {
    "duration": 24,
    "start_time": "2022-03-22T08:46:22.969Z"
   },
   {
    "duration": 1587,
    "start_time": "2022-03-22T08:46:41.372Z"
   },
   {
    "duration": 83,
    "start_time": "2022-03-22T08:46:42.963Z"
   },
   {
    "duration": 28,
    "start_time": "2022-03-22T08:46:43.049Z"
   },
   {
    "duration": 112,
    "start_time": "2022-03-22T08:46:43.081Z"
   },
   {
    "duration": 8,
    "start_time": "2022-03-22T08:46:43.195Z"
   },
   {
    "duration": 22,
    "start_time": "2022-03-22T08:46:43.206Z"
   },
   {
    "duration": 26,
    "start_time": "2022-03-22T08:46:43.269Z"
   },
   {
    "duration": 10,
    "start_time": "2022-03-22T08:46:43.298Z"
   },
   {
    "duration": 349,
    "start_time": "2022-03-22T08:46:43.310Z"
   },
   {
    "duration": 6,
    "start_time": "2022-03-22T08:47:03.393Z"
   },
   {
    "duration": 1986,
    "start_time": "2022-03-22T08:47:16.030Z"
   },
   {
    "duration": 115,
    "start_time": "2022-03-22T08:47:18.019Z"
   },
   {
    "duration": 31,
    "start_time": "2022-03-22T08:47:18.136Z"
   },
   {
    "duration": 101,
    "start_time": "2022-03-22T08:47:18.170Z"
   },
   {
    "duration": 8,
    "start_time": "2022-03-22T08:47:18.274Z"
   },
   {
    "duration": 22,
    "start_time": "2022-03-22T08:47:18.284Z"
   },
   {
    "duration": 60,
    "start_time": "2022-03-22T08:47:18.309Z"
   },
   {
    "duration": 14,
    "start_time": "2022-03-22T08:47:18.372Z"
   },
   {
    "duration": 463,
    "start_time": "2022-03-22T08:47:18.389Z"
   },
   {
    "duration": 222,
    "start_time": "2022-03-22T08:48:36.530Z"
   },
   {
    "duration": 12,
    "start_time": "2022-03-22T08:49:04.409Z"
   },
   {
    "duration": 2042,
    "start_time": "2022-03-22T08:49:15.349Z"
   },
   {
    "duration": 115,
    "start_time": "2022-03-22T08:49:17.394Z"
   },
   {
    "duration": 21,
    "start_time": "2022-03-22T08:49:17.512Z"
   },
   {
    "duration": 133,
    "start_time": "2022-03-22T08:49:17.536Z"
   },
   {
    "duration": 14,
    "start_time": "2022-03-22T08:49:17.672Z"
   },
   {
    "duration": 20,
    "start_time": "2022-03-22T08:49:17.688Z"
   },
   {
    "duration": 62,
    "start_time": "2022-03-22T08:49:17.710Z"
   },
   {
    "duration": 10,
    "start_time": "2022-03-22T08:49:17.775Z"
   },
   {
    "duration": 329,
    "start_time": "2022-03-22T08:49:17.787Z"
   },
   {
    "duration": 151,
    "start_time": "2022-03-22T08:50:47.125Z"
   },
   {
    "duration": 7,
    "start_time": "2022-03-22T08:50:59.367Z"
   },
   {
    "duration": 1705,
    "start_time": "2022-03-22T08:51:05.123Z"
   },
   {
    "duration": 100,
    "start_time": "2022-03-22T08:51:06.830Z"
   },
   {
    "duration": 18,
    "start_time": "2022-03-22T08:51:06.932Z"
   },
   {
    "duration": 105,
    "start_time": "2022-03-22T08:51:06.967Z"
   },
   {
    "duration": 9,
    "start_time": "2022-03-22T08:51:07.075Z"
   },
   {
    "duration": 21,
    "start_time": "2022-03-22T08:51:07.086Z"
   },
   {
    "duration": 61,
    "start_time": "2022-03-22T08:51:07.109Z"
   },
   {
    "duration": 11,
    "start_time": "2022-03-22T08:51:07.173Z"
   },
   {
    "duration": 354,
    "start_time": "2022-03-22T08:51:07.186Z"
   },
   {
    "duration": 156,
    "start_time": "2022-03-22T08:52:42.931Z"
   },
   {
    "duration": 25,
    "start_time": "2022-03-22T08:54:37.847Z"
   },
   {
    "duration": 20,
    "start_time": "2022-03-22T08:54:42.499Z"
   },
   {
    "duration": 53,
    "start_time": "2022-03-22T08:55:12.527Z"
   },
   {
    "duration": 280,
    "start_time": "2022-03-22T08:55:26.292Z"
   },
   {
    "duration": 304,
    "start_time": "2022-03-22T08:55:38.311Z"
   },
   {
    "duration": 27,
    "start_time": "2022-03-22T08:56:19.075Z"
   },
   {
    "duration": 186,
    "start_time": "2022-03-22T08:56:26.302Z"
   },
   {
    "duration": 179,
    "start_time": "2022-03-22T08:56:32.935Z"
   },
   {
    "duration": 462,
    "start_time": "2022-03-22T08:56:39.719Z"
   },
   {
    "duration": 292,
    "start_time": "2022-03-22T08:56:51.293Z"
   },
   {
    "duration": 22,
    "start_time": "2022-03-22T08:56:58.148Z"
   },
   {
    "duration": 273,
    "start_time": "2022-03-22T08:57:07.833Z"
   },
   {
    "duration": 22,
    "start_time": "2022-03-22T08:57:15.012Z"
   },
   {
    "duration": 31,
    "start_time": "2022-03-22T09:00:12.275Z"
   },
   {
    "duration": 190,
    "start_time": "2022-03-22T09:00:16.648Z"
   },
   {
    "duration": 289,
    "start_time": "2022-03-22T09:00:28.551Z"
   },
   {
    "duration": 306,
    "start_time": "2022-03-22T09:00:33.764Z"
   },
   {
    "duration": 294,
    "start_time": "2022-03-22T09:00:37.350Z"
   },
   {
    "duration": 245,
    "start_time": "2022-03-22T09:00:49.974Z"
   },
   {
    "duration": 203,
    "start_time": "2022-03-22T09:01:13.152Z"
   },
   {
    "duration": 248,
    "start_time": "2022-03-22T09:01:19.398Z"
   },
   {
    "duration": 337,
    "start_time": "2022-03-22T11:03:08.300Z"
   },
   {
    "duration": 241,
    "start_time": "2022-03-22T11:03:30.039Z"
   },
   {
    "duration": 287,
    "start_time": "2022-03-22T11:03:33.811Z"
   },
   {
    "duration": 269,
    "start_time": "2022-03-22T11:03:38.572Z"
   },
   {
    "duration": 348,
    "start_time": "2022-03-22T11:03:46.624Z"
   },
   {
    "duration": 454,
    "start_time": "2022-03-22T11:07:13.520Z"
   },
   {
    "duration": 217,
    "start_time": "2022-03-22T11:08:30.953Z"
   },
   {
    "duration": 213,
    "start_time": "2022-03-22T11:08:46.011Z"
   },
   {
    "duration": 306,
    "start_time": "2022-03-22T11:09:48.371Z"
   },
   {
    "duration": 338,
    "start_time": "2022-03-22T11:10:02.251Z"
   },
   {
    "duration": 312,
    "start_time": "2022-03-22T11:10:06.273Z"
   },
   {
    "duration": 316,
    "start_time": "2022-03-22T11:10:11.532Z"
   },
   {
    "duration": 252,
    "start_time": "2022-03-22T11:11:11.641Z"
   },
   {
    "duration": 302,
    "start_time": "2022-03-22T11:11:20.832Z"
   },
   {
    "duration": 243,
    "start_time": "2022-03-22T11:11:28.657Z"
   },
   {
    "duration": 264,
    "start_time": "2022-03-22T11:11:34.142Z"
   },
   {
    "duration": 274,
    "start_time": "2022-03-22T11:11:38.296Z"
   },
   {
    "duration": 18,
    "start_time": "2022-03-22T11:11:48.367Z"
   },
   {
    "duration": 380,
    "start_time": "2022-03-22T11:11:58.093Z"
   },
   {
    "duration": 244,
    "start_time": "2022-03-22T11:12:01.616Z"
   },
   {
    "duration": 285,
    "start_time": "2022-03-22T11:12:10.886Z"
   },
   {
    "duration": 38,
    "start_time": "2022-03-22T11:14:00.161Z"
   },
   {
    "duration": 152,
    "start_time": "2022-03-22T11:14:21.511Z"
   },
   {
    "duration": 351,
    "start_time": "2022-03-22T11:15:00.805Z"
   },
   {
    "duration": 363,
    "start_time": "2022-03-22T11:15:26.910Z"
   },
   {
    "duration": 16,
    "start_time": "2022-03-22T11:16:01.402Z"
   },
   {
    "duration": 185,
    "start_time": "2022-03-22T11:19:59.750Z"
   },
   {
    "duration": 436,
    "start_time": "2022-03-22T11:20:07.851Z"
   },
   {
    "duration": 307,
    "start_time": "2022-03-22T11:21:05.631Z"
   },
   {
    "duration": 293,
    "start_time": "2022-03-22T11:21:12.904Z"
   },
   {
    "duration": 385,
    "start_time": "2022-03-22T11:21:40.819Z"
   },
   {
    "duration": 411,
    "start_time": "2022-03-22T11:22:20.653Z"
   },
   {
    "duration": 310,
    "start_time": "2022-03-22T11:22:57.239Z"
   },
   {
    "duration": 336,
    "start_time": "2022-03-22T11:23:27.692Z"
   },
   {
    "duration": 367,
    "start_time": "2022-03-22T11:23:44.388Z"
   },
   {
    "duration": 342,
    "start_time": "2022-03-22T11:25:43.050Z"
   },
   {
    "duration": 436,
    "start_time": "2022-03-22T11:25:57.499Z"
   },
   {
    "duration": 343,
    "start_time": "2022-03-22T11:26:11.700Z"
   },
   {
    "duration": 343,
    "start_time": "2022-03-22T11:26:34.331Z"
   },
   {
    "duration": 339,
    "start_time": "2022-03-22T11:26:40.352Z"
   },
   {
    "duration": 388,
    "start_time": "2022-03-22T11:26:49.220Z"
   },
   {
    "duration": 293,
    "start_time": "2022-03-22T11:26:56.396Z"
   },
   {
    "duration": 444,
    "start_time": "2022-03-22T11:27:40.272Z"
   },
   {
    "duration": 412,
    "start_time": "2022-03-22T11:27:47.193Z"
   },
   {
    "duration": 292,
    "start_time": "2022-03-22T11:27:50.589Z"
   },
   {
    "duration": 526,
    "start_time": "2022-03-22T11:27:55.576Z"
   },
   {
    "duration": 390,
    "start_time": "2022-03-22T11:30:25.594Z"
   },
   {
    "duration": 292,
    "start_time": "2022-03-22T11:30:30.212Z"
   },
   {
    "duration": 394,
    "start_time": "2022-03-22T11:39:08.012Z"
   },
   {
    "duration": 386,
    "start_time": "2022-03-22T11:40:55.952Z"
   },
   {
    "duration": 197,
    "start_time": "2022-03-22T11:41:47.447Z"
   },
   {
    "duration": 357,
    "start_time": "2022-03-22T11:41:52.312Z"
   },
   {
    "duration": 12,
    "start_time": "2022-03-22T11:42:00.792Z"
   },
   {
    "duration": 18,
    "start_time": "2022-03-22T11:42:49.576Z"
   },
   {
    "duration": 210,
    "start_time": "2022-03-22T11:42:55.532Z"
   },
   {
    "duration": 188,
    "start_time": "2022-03-22T11:43:08.786Z"
   },
   {
    "duration": 216,
    "start_time": "2022-03-22T11:43:13.805Z"
   },
   {
    "duration": 178,
    "start_time": "2022-03-22T11:43:21.511Z"
   },
   {
    "duration": 201,
    "start_time": "2022-03-22T11:43:28.039Z"
   },
   {
    "duration": 217,
    "start_time": "2022-03-22T11:43:31.640Z"
   },
   {
    "duration": 215,
    "start_time": "2022-03-22T11:43:35.871Z"
   },
   {
    "duration": 198,
    "start_time": "2022-03-22T11:43:39.694Z"
   },
   {
    "duration": 210,
    "start_time": "2022-03-22T11:43:45.063Z"
   },
   {
    "duration": 243,
    "start_time": "2022-03-22T11:43:57.579Z"
   },
   {
    "duration": 193,
    "start_time": "2022-03-22T11:44:04.551Z"
   },
   {
    "duration": 185,
    "start_time": "2022-03-22T11:44:11.991Z"
   },
   {
    "duration": 211,
    "start_time": "2022-03-22T11:44:16.951Z"
   },
   {
    "duration": 196,
    "start_time": "2022-03-22T11:44:31.034Z"
   },
   {
    "duration": 210,
    "start_time": "2022-03-22T11:44:40.811Z"
   },
   {
    "duration": 255,
    "start_time": "2022-03-22T11:44:56.795Z"
   },
   {
    "duration": 209,
    "start_time": "2022-03-22T11:45:01.332Z"
   },
   {
    "duration": 193,
    "start_time": "2022-03-22T11:45:07.572Z"
   },
   {
    "duration": 208,
    "start_time": "2022-03-22T11:45:32.157Z"
   },
   {
    "duration": 254,
    "start_time": "2022-03-22T11:45:36.253Z"
   },
   {
    "duration": 271,
    "start_time": "2022-03-22T11:45:54.740Z"
   },
   {
    "duration": 190,
    "start_time": "2022-03-22T11:46:00.536Z"
   },
   {
    "duration": 384,
    "start_time": "2022-03-22T11:46:22.391Z"
   },
   {
    "duration": 214,
    "start_time": "2022-03-22T11:46:32.277Z"
   },
   {
    "duration": 203,
    "start_time": "2022-03-22T11:46:50.275Z"
   },
   {
    "duration": 200,
    "start_time": "2022-03-22T11:46:59.413Z"
   },
   {
    "duration": 207,
    "start_time": "2022-03-22T11:47:14.371Z"
   },
   {
    "duration": 211,
    "start_time": "2022-03-22T11:47:22.973Z"
   },
   {
    "duration": 223,
    "start_time": "2022-03-22T11:47:48.419Z"
   },
   {
    "duration": 212,
    "start_time": "2022-03-22T11:48:09.419Z"
   },
   {
    "duration": 216,
    "start_time": "2022-03-22T11:49:01.420Z"
   },
   {
    "duration": 212,
    "start_time": "2022-03-22T11:49:04.632Z"
   },
   {
    "duration": 215,
    "start_time": "2022-03-22T11:49:14.932Z"
   },
   {
    "duration": 270,
    "start_time": "2022-03-22T11:49:26.691Z"
   },
   {
    "duration": 223,
    "start_time": "2022-03-22T11:49:47.407Z"
   },
   {
    "duration": 213,
    "start_time": "2022-03-22T11:50:32.474Z"
   },
   {
    "duration": 191,
    "start_time": "2022-03-22T11:50:45.451Z"
   },
   {
    "duration": 203,
    "start_time": "2022-03-22T11:50:53.474Z"
   },
   {
    "duration": 194,
    "start_time": "2022-03-22T11:50:58.800Z"
   },
   {
    "duration": 210,
    "start_time": "2022-03-22T11:51:07.133Z"
   },
   {
    "duration": 199,
    "start_time": "2022-03-22T11:51:12.592Z"
   },
   {
    "duration": 203,
    "start_time": "2022-03-22T11:51:26.011Z"
   },
   {
    "duration": 215,
    "start_time": "2022-03-22T11:51:45.912Z"
   },
   {
    "duration": 207,
    "start_time": "2022-03-22T11:53:34.089Z"
   },
   {
    "duration": 2421,
    "start_time": "2022-03-22T11:57:15.193Z"
   },
   {
    "duration": 41,
    "start_time": "2022-03-22T11:57:29.843Z"
   },
   {
    "duration": 18,
    "start_time": "2022-03-22T11:58:12.635Z"
   },
   {
    "duration": 35,
    "start_time": "2022-03-22T11:58:15.592Z"
   },
   {
    "duration": 62,
    "start_time": "2022-03-22T11:58:47.391Z"
   },
   {
    "duration": 16,
    "start_time": "2022-03-22T11:59:47.139Z"
   },
   {
    "duration": 15,
    "start_time": "2022-03-22T12:00:14.750Z"
   },
   {
    "duration": 15,
    "start_time": "2022-03-22T12:00:18.192Z"
   },
   {
    "duration": 17,
    "start_time": "2022-03-22T12:00:27.135Z"
   },
   {
    "duration": 24,
    "start_time": "2022-03-22T12:00:35.659Z"
   },
   {
    "duration": 54,
    "start_time": "2022-03-22T12:00:51.275Z"
   },
   {
    "duration": 25,
    "start_time": "2022-03-22T12:01:17.457Z"
   },
   {
    "duration": 18,
    "start_time": "2022-03-22T12:01:34.708Z"
   },
   {
    "duration": 43,
    "start_time": "2022-03-22T12:01:38.772Z"
   },
   {
    "duration": 33,
    "start_time": "2022-03-22T12:01:46.975Z"
   },
   {
    "duration": 36,
    "start_time": "2022-03-22T12:01:57.458Z"
   },
   {
    "duration": 37,
    "start_time": "2022-03-22T12:02:14.553Z"
   },
   {
    "duration": 33,
    "start_time": "2022-03-22T12:02:24.231Z"
   },
   {
    "duration": 20,
    "start_time": "2022-03-22T12:02:38.533Z"
   },
   {
    "duration": 35,
    "start_time": "2022-03-22T12:02:46.416Z"
   },
   {
    "duration": 32,
    "start_time": "2022-03-22T12:02:51.113Z"
   },
   {
    "duration": 51,
    "start_time": "2022-03-22T12:03:08.713Z"
   },
   {
    "duration": 54,
    "start_time": "2022-03-22T12:03:13.132Z"
   },
   {
    "duration": 51,
    "start_time": "2022-03-22T12:03:21.213Z"
   },
   {
    "duration": 48,
    "start_time": "2022-03-22T12:03:24.875Z"
   },
   {
    "duration": 47,
    "start_time": "2022-03-22T12:03:30.558Z"
   },
   {
    "duration": 30,
    "start_time": "2022-03-22T12:04:31.171Z"
   },
   {
    "duration": 34,
    "start_time": "2022-03-22T12:04:36.385Z"
   },
   {
    "duration": 26,
    "start_time": "2022-03-22T12:05:02.431Z"
   },
   {
    "duration": 33,
    "start_time": "2022-03-22T12:05:29.697Z"
   },
   {
    "duration": 34,
    "start_time": "2022-03-22T12:05:41.240Z"
   },
   {
    "duration": 379,
    "start_time": "2022-03-22T12:07:09.041Z"
   },
   {
    "duration": 550,
    "start_time": "2022-03-22T12:07:15.054Z"
   },
   {
    "duration": 873,
    "start_time": "2022-03-22T12:07:20.178Z"
   },
   {
    "duration": 376,
    "start_time": "2022-03-22T12:07:26.331Z"
   },
   {
    "duration": 129,
    "start_time": "2022-03-22T12:11:03.064Z"
   },
   {
    "duration": 27,
    "start_time": "2022-03-22T12:11:09.266Z"
   },
   {
    "duration": 260,
    "start_time": "2022-03-22T12:11:47.892Z"
   },
   {
    "duration": 271,
    "start_time": "2022-03-22T12:12:03.671Z"
   },
   {
    "duration": 306,
    "start_time": "2022-03-22T12:14:55.591Z"
   },
   {
    "duration": 469,
    "start_time": "2022-03-22T12:15:45.176Z"
   },
   {
    "duration": 520,
    "start_time": "2022-03-22T12:16:03.128Z"
   },
   {
    "duration": 281,
    "start_time": "2022-03-22T12:16:11.714Z"
   },
   {
    "duration": 511,
    "start_time": "2022-03-22T12:16:14.880Z"
   },
   {
    "duration": 634,
    "start_time": "2022-03-22T12:17:13.374Z"
   },
   {
    "duration": 354,
    "start_time": "2022-03-22T12:17:17.631Z"
   },
   {
    "duration": 282,
    "start_time": "2022-03-22T12:17:32.471Z"
   },
   {
    "duration": 270,
    "start_time": "2022-03-22T12:17:48.316Z"
   },
   {
    "duration": 275,
    "start_time": "2022-03-22T12:17:54.471Z"
   },
   {
    "duration": 1667,
    "start_time": "2022-03-22T12:18:03.497Z"
   },
   {
    "duration": 84,
    "start_time": "2022-03-22T12:18:05.169Z"
   },
   {
    "duration": 36,
    "start_time": "2022-03-22T12:18:05.255Z"
   },
   {
    "duration": 103,
    "start_time": "2022-03-22T12:18:05.294Z"
   },
   {
    "duration": 10,
    "start_time": "2022-03-22T12:18:05.400Z"
   },
   {
    "duration": 20,
    "start_time": "2022-03-22T12:18:05.412Z"
   },
   {
    "duration": 37,
    "start_time": "2022-03-22T12:18:05.475Z"
   },
   {
    "duration": 14,
    "start_time": "2022-03-22T12:18:05.515Z"
   },
   {
    "duration": 345,
    "start_time": "2022-03-22T12:18:05.532Z"
   },
   {
    "duration": 398,
    "start_time": "2022-03-22T12:18:05.880Z"
   },
   {
    "duration": 277,
    "start_time": "2022-03-22T12:18:06.280Z"
   },
   {
    "duration": 384,
    "start_time": "2022-03-22T12:18:17.988Z"
   },
   {
    "duration": 395,
    "start_time": "2022-03-22T12:19:15.988Z"
   },
   {
    "duration": 322,
    "start_time": "2022-03-22T12:20:21.189Z"
   },
   {
    "duration": 350,
    "start_time": "2022-03-22T12:20:25.882Z"
   },
   {
    "duration": 452,
    "start_time": "2022-03-22T12:20:30.329Z"
   },
   {
    "duration": 364,
    "start_time": "2022-03-22T12:20:43.590Z"
   },
   {
    "duration": 358,
    "start_time": "2022-03-22T12:20:49.150Z"
   },
   {
    "duration": 350,
    "start_time": "2022-03-22T12:21:02.397Z"
   },
   {
    "duration": 343,
    "start_time": "2022-03-22T12:21:06.036Z"
   },
   {
    "duration": 352,
    "start_time": "2022-03-22T12:21:15.328Z"
   },
   {
    "duration": 368,
    "start_time": "2022-03-22T12:22:01.789Z"
   },
   {
    "duration": 380,
    "start_time": "2022-03-22T12:22:08.353Z"
   },
   {
    "duration": 489,
    "start_time": "2022-03-22T12:23:46.516Z"
   },
   {
    "duration": 510,
    "start_time": "2022-03-22T12:23:54.567Z"
   },
   {
    "duration": 484,
    "start_time": "2022-03-22T12:24:08.459Z"
   },
   {
    "duration": 486,
    "start_time": "2022-03-22T12:24:25.709Z"
   },
   {
    "duration": 591,
    "start_time": "2022-03-22T12:24:32.010Z"
   },
   {
    "duration": 497,
    "start_time": "2022-03-22T12:24:41.504Z"
   },
   {
    "duration": 495,
    "start_time": "2022-03-22T12:24:47.316Z"
   },
   {
    "duration": 742,
    "start_time": "2022-03-22T12:25:02.038Z"
   },
   {
    "duration": 756,
    "start_time": "2022-03-22T12:25:06.488Z"
   },
   {
    "duration": 539,
    "start_time": "2022-03-22T12:25:16.055Z"
   },
   {
    "duration": 616,
    "start_time": "2022-03-22T12:26:25.187Z"
   },
   {
    "duration": 484,
    "start_time": "2022-03-22T12:26:42.630Z"
   },
   {
    "duration": 497,
    "start_time": "2022-03-22T12:27:38.229Z"
   },
   {
    "duration": 880,
    "start_time": "2022-03-22T12:28:48.733Z"
   },
   {
    "duration": 489,
    "start_time": "2022-03-22T12:29:50.709Z"
   },
   {
    "duration": 848,
    "start_time": "2022-03-22T12:31:46.966Z"
   },
   {
    "duration": 502,
    "start_time": "2022-03-22T12:34:21.288Z"
   },
   {
    "duration": 345,
    "start_time": "2022-03-22T12:34:33.829Z"
   },
   {
    "duration": 376,
    "start_time": "2022-03-22T12:34:43.541Z"
   },
   {
    "duration": 441,
    "start_time": "2022-03-22T12:35:05.097Z"
   },
   {
    "duration": 888,
    "start_time": "2022-03-22T12:36:28.529Z"
   },
   {
    "duration": 991,
    "start_time": "2022-03-22T12:36:52.132Z"
   },
   {
    "duration": 873,
    "start_time": "2022-03-22T12:37:06.549Z"
   },
   {
    "duration": 1163,
    "start_time": "2022-03-22T12:38:04.179Z"
   },
   {
    "duration": 907,
    "start_time": "2022-03-22T12:38:08.431Z"
   },
   {
    "duration": 858,
    "start_time": "2022-03-22T12:38:22.579Z"
   },
   {
    "duration": 574,
    "start_time": "2022-03-22T12:41:23.377Z"
   },
   {
    "duration": 345,
    "start_time": "2022-03-22T12:41:30.727Z"
   },
   {
    "duration": 81,
    "start_time": "2022-03-22T12:43:03.860Z"
   },
   {
    "duration": 2128,
    "start_time": "2022-03-22T12:43:12.204Z"
   },
   {
    "duration": 96,
    "start_time": "2022-03-22T12:43:14.336Z"
   },
   {
    "duration": 18,
    "start_time": "2022-03-22T12:43:14.435Z"
   },
   {
    "duration": 135,
    "start_time": "2022-03-22T12:43:14.468Z"
   },
   {
    "duration": 10,
    "start_time": "2022-03-22T12:43:14.605Z"
   },
   {
    "duration": 68,
    "start_time": "2022-03-22T12:43:14.617Z"
   },
   {
    "duration": 33,
    "start_time": "2022-03-22T12:43:14.688Z"
   },
   {
    "duration": 10,
    "start_time": "2022-03-22T12:43:14.724Z"
   },
   {
    "duration": 387,
    "start_time": "2022-03-22T12:43:14.737Z"
   },
   {
    "duration": 427,
    "start_time": "2022-03-22T12:43:15.129Z"
   },
   {
    "duration": 873,
    "start_time": "2022-03-22T12:43:15.569Z"
   },
   {
    "duration": 30,
    "start_time": "2022-03-22T12:43:16.498Z"
   },
   {
    "duration": 11,
    "start_time": "2022-03-22T12:44:12.989Z"
   },
   {
    "duration": 161,
    "start_time": "2022-03-22T12:44:19.449Z"
   },
   {
    "duration": 17,
    "start_time": "2022-03-22T12:44:24.407Z"
   },
   {
    "duration": 244,
    "start_time": "2022-03-22T12:44:28.985Z"
   },
   {
    "duration": 285,
    "start_time": "2022-03-22T12:44:36.427Z"
   },
   {
    "duration": 239,
    "start_time": "2022-03-22T12:45:09.307Z"
   },
   {
    "duration": 331,
    "start_time": "2022-03-22T12:45:29.475Z"
   },
   {
    "duration": 230,
    "start_time": "2022-03-22T12:45:46.587Z"
   },
   {
    "duration": 237,
    "start_time": "2022-03-22T12:46:02.539Z"
   },
   {
    "duration": 262,
    "start_time": "2022-03-22T12:46:11.094Z"
   },
   {
    "duration": 260,
    "start_time": "2022-03-22T12:46:35.335Z"
   },
   {
    "duration": 259,
    "start_time": "2022-03-22T12:46:58.767Z"
   },
   {
    "duration": 259,
    "start_time": "2022-03-22T12:47:09.369Z"
   },
   {
    "duration": 271,
    "start_time": "2022-03-22T12:47:17.668Z"
   },
   {
    "duration": 806,
    "start_time": "2022-03-22T12:49:25.771Z"
   },
   {
    "duration": 813,
    "start_time": "2022-03-22T12:51:20.474Z"
   },
   {
    "duration": 2712,
    "start_time": "2022-03-22T15:22:08.740Z"
   },
   {
    "duration": 1650,
    "start_time": "2022-03-22T15:22:14.818Z"
   },
   {
    "duration": 117,
    "start_time": "2022-03-22T15:22:16.473Z"
   },
   {
    "duration": 23,
    "start_time": "2022-03-22T15:22:16.594Z"
   },
   {
    "duration": 106,
    "start_time": "2022-03-22T15:22:16.620Z"
   },
   {
    "duration": 41,
    "start_time": "2022-03-22T15:22:16.730Z"
   },
   {
    "duration": 27,
    "start_time": "2022-03-22T15:22:16.774Z"
   },
   {
    "duration": 26,
    "start_time": "2022-03-22T15:22:16.803Z"
   },
   {
    "duration": 39,
    "start_time": "2022-03-22T15:22:16.831Z"
   },
   {
    "duration": 321,
    "start_time": "2022-03-22T15:22:16.873Z"
   },
   {
    "duration": 413,
    "start_time": "2022-03-22T15:22:17.198Z"
   },
   {
    "duration": 902,
    "start_time": "2022-03-22T15:22:17.614Z"
   },
   {
    "duration": 279,
    "start_time": "2022-03-22T15:22:18.519Z"
   },
   {
    "duration": 2824,
    "start_time": "2022-03-22T15:22:18.800Z"
   },
   {
    "duration": 13,
    "start_time": "2022-03-22T15:22:22.380Z"
   },
   {
    "duration": 13,
    "start_time": "2022-03-22T15:32:03.030Z"
   },
   {
    "duration": 5,
    "start_time": "2022-03-22T15:32:29.854Z"
   },
   {
    "duration": 39,
    "start_time": "2022-03-22T15:32:31.853Z"
   },
   {
    "duration": 35,
    "start_time": "2022-03-22T15:32:35.683Z"
   },
   {
    "duration": 5,
    "start_time": "2022-03-22T15:34:36.503Z"
   },
   {
    "duration": 40,
    "start_time": "2022-03-22T15:34:38.892Z"
   },
   {
    "duration": 6,
    "start_time": "2022-03-22T15:34:59.031Z"
   },
   {
    "duration": 43,
    "start_time": "2022-03-22T15:35:02.567Z"
   },
   {
    "duration": 51,
    "start_time": "2022-03-22T15:35:18.960Z"
   },
   {
    "duration": 49,
    "start_time": "2022-03-22T15:35:27.585Z"
   },
   {
    "duration": 5,
    "start_time": "2022-03-22T15:35:43.717Z"
   },
   {
    "duration": 7,
    "start_time": "2022-03-22T15:36:28.749Z"
   },
   {
    "duration": 497,
    "start_time": "2022-03-22T15:37:28.629Z"
   },
   {
    "duration": 411,
    "start_time": "2022-03-22T15:37:29.129Z"
   },
   {
    "duration": 5,
    "start_time": "2022-03-22T16:05:06.302Z"
   },
   {
    "duration": 564,
    "start_time": "2022-03-22T16:05:08.012Z"
   },
   {
    "duration": 1762,
    "start_time": "2022-03-22T16:05:21.125Z"
   },
   {
    "duration": 85,
    "start_time": "2022-03-22T16:05:22.890Z"
   },
   {
    "duration": 22,
    "start_time": "2022-03-22T16:05:22.979Z"
   },
   {
    "duration": 112,
    "start_time": "2022-03-22T16:05:23.005Z"
   },
   {
    "duration": 8,
    "start_time": "2022-03-22T16:05:23.119Z"
   },
   {
    "duration": 54,
    "start_time": "2022-03-22T16:05:23.129Z"
   },
   {
    "duration": 26,
    "start_time": "2022-03-22T16:05:23.185Z"
   },
   {
    "duration": 11,
    "start_time": "2022-03-22T16:05:23.213Z"
   },
   {
    "duration": 347,
    "start_time": "2022-03-22T16:05:23.227Z"
   },
   {
    "duration": 422,
    "start_time": "2022-03-22T16:05:23.578Z"
   },
   {
    "duration": 829,
    "start_time": "2022-03-22T16:05:24.002Z"
   },
   {
    "duration": 285,
    "start_time": "2022-03-22T16:05:24.834Z"
   },
   {
    "duration": 6,
    "start_time": "2022-03-22T16:05:25.121Z"
   },
   {
    "duration": 805,
    "start_time": "2022-03-22T16:05:25.130Z"
   },
   {
    "duration": 4,
    "start_time": "2022-03-22T16:05:40.328Z"
   },
   {
    "duration": 556,
    "start_time": "2022-03-22T16:05:41.910Z"
   },
   {
    "duration": 5,
    "start_time": "2022-03-22T16:05:56.054Z"
   },
   {
    "duration": 11,
    "start_time": "2022-03-22T16:05:59.793Z"
   },
   {
    "duration": 37,
    "start_time": "2022-03-22T16:06:01.481Z"
   },
   {
    "duration": 6,
    "start_time": "2022-03-22T16:06:20.023Z"
   },
   {
    "duration": 37,
    "start_time": "2022-03-22T16:06:21.814Z"
   },
   {
    "duration": 46,
    "start_time": "2022-03-23T07:48:32.944Z"
   },
   {
    "duration": 1399,
    "start_time": "2022-03-23T07:48:38.281Z"
   },
   {
    "duration": 65,
    "start_time": "2022-03-23T07:48:39.682Z"
   },
   {
    "duration": 11,
    "start_time": "2022-03-23T07:48:39.748Z"
   },
   {
    "duration": 62,
    "start_time": "2022-03-23T07:48:39.761Z"
   },
   {
    "duration": 6,
    "start_time": "2022-03-23T07:48:39.824Z"
   },
   {
    "duration": 41,
    "start_time": "2022-03-23T07:48:39.831Z"
   },
   {
    "duration": 21,
    "start_time": "2022-03-23T07:48:39.873Z"
   },
   {
    "duration": 11,
    "start_time": "2022-03-23T07:48:39.896Z"
   },
   {
    "duration": 200,
    "start_time": "2022-03-23T07:48:39.909Z"
   },
   {
    "duration": 218,
    "start_time": "2022-03-23T07:48:40.111Z"
   },
   {
    "duration": 568,
    "start_time": "2022-03-23T07:48:40.331Z"
   },
   {
    "duration": 148,
    "start_time": "2022-03-23T07:48:40.900Z"
   },
   {
    "duration": 4,
    "start_time": "2022-03-23T07:48:41.050Z"
   },
   {
    "duration": 28,
    "start_time": "2022-03-23T07:48:41.055Z"
   },
   {
    "duration": 11,
    "start_time": "2022-03-23T07:50:41.357Z"
   },
   {
    "duration": 10,
    "start_time": "2022-03-23T07:51:09.943Z"
   },
   {
    "duration": 96,
    "start_time": "2022-03-23T07:51:40.696Z"
   },
   {
    "duration": 9,
    "start_time": "2022-03-23T07:51:44.373Z"
   },
   {
    "duration": 144,
    "start_time": "2022-03-23T07:52:54.863Z"
   },
   {
    "duration": 215,
    "start_time": "2022-03-23T07:53:44.750Z"
   },
   {
    "duration": 173,
    "start_time": "2022-03-23T07:53:51.596Z"
   },
   {
    "duration": 159,
    "start_time": "2022-03-23T07:54:03.675Z"
   },
   {
    "duration": 164,
    "start_time": "2022-03-23T07:54:30.784Z"
   },
   {
    "duration": 147,
    "start_time": "2022-03-23T07:54:54.576Z"
   },
   {
    "duration": 156,
    "start_time": "2022-03-23T07:55:26.423Z"
   },
   {
    "duration": 189,
    "start_time": "2022-03-23T07:55:32.405Z"
   },
   {
    "duration": 158,
    "start_time": "2022-03-23T07:55:37.155Z"
   },
   {
    "duration": 158,
    "start_time": "2022-03-23T07:55:42.763Z"
   },
   {
    "duration": 165,
    "start_time": "2022-03-23T07:56:10.636Z"
   },
   {
    "duration": 164,
    "start_time": "2022-03-23T07:57:20.225Z"
   },
   {
    "duration": 230,
    "start_time": "2022-03-23T07:57:26.686Z"
   },
   {
    "duration": 1725,
    "start_time": "2022-03-23T08:04:57.977Z"
   },
   {
    "duration": 176,
    "start_time": "2022-03-23T08:05:10.502Z"
   },
   {
    "duration": 169,
    "start_time": "2022-03-23T08:05:23.602Z"
   },
   {
    "duration": 233,
    "start_time": "2022-03-23T08:05:27.826Z"
   },
   {
    "duration": 182,
    "start_time": "2022-03-23T08:10:16.168Z"
   },
   {
    "duration": 8,
    "start_time": "2022-03-23T08:25:55.194Z"
   },
   {
    "duration": 8,
    "start_time": "2022-03-23T08:26:10.939Z"
   },
   {
    "duration": 16,
    "start_time": "2022-03-23T08:26:47.976Z"
   },
   {
    "duration": 9,
    "start_time": "2022-03-23T08:26:52.503Z"
   },
   {
    "duration": 9,
    "start_time": "2022-03-23T08:27:03.289Z"
   },
   {
    "duration": 8,
    "start_time": "2022-03-23T08:27:06.850Z"
   },
   {
    "duration": 9,
    "start_time": "2022-03-23T08:27:10.490Z"
   },
   {
    "duration": 4338,
    "start_time": "2022-03-23T08:31:29.590Z"
   },
   {
    "duration": 10,
    "start_time": "2022-03-23T08:31:39.813Z"
   },
   {
    "duration": 12,
    "start_time": "2022-03-23T08:32:08.795Z"
   },
   {
    "duration": 12,
    "start_time": "2022-03-23T08:32:27.029Z"
   },
   {
    "duration": 46,
    "start_time": "2022-03-23T08:43:53.086Z"
   },
   {
    "duration": 13,
    "start_time": "2022-03-23T08:43:59.738Z"
   },
   {
    "duration": 138,
    "start_time": "2022-03-23T08:44:08.695Z"
   },
   {
    "duration": 99,
    "start_time": "2022-03-23T08:46:05.575Z"
   },
   {
    "duration": 180,
    "start_time": "2022-03-23T10:07:39.535Z"
   },
   {
    "duration": 105,
    "start_time": "2022-03-23T10:08:01.051Z"
   },
   {
    "duration": 147,
    "start_time": "2022-03-23T10:08:05.346Z"
   },
   {
    "duration": 1221,
    "start_time": "2022-03-23T10:08:35.259Z"
   },
   {
    "duration": 80,
    "start_time": "2022-03-23T10:08:36.482Z"
   },
   {
    "duration": 15,
    "start_time": "2022-03-23T10:08:36.564Z"
   },
   {
    "duration": 53,
    "start_time": "2022-03-23T10:08:36.581Z"
   },
   {
    "duration": 6,
    "start_time": "2022-03-23T10:08:36.637Z"
   },
   {
    "duration": 17,
    "start_time": "2022-03-23T10:08:36.645Z"
   },
   {
    "duration": 52,
    "start_time": "2022-03-23T10:08:36.663Z"
   },
   {
    "duration": 7,
    "start_time": "2022-03-23T10:08:36.717Z"
   },
   {
    "duration": 193,
    "start_time": "2022-03-23T10:08:36.725Z"
   },
   {
    "duration": 218,
    "start_time": "2022-03-23T10:08:36.919Z"
   },
   {
    "duration": 524,
    "start_time": "2022-03-23T10:08:37.139Z"
   },
   {
    "duration": 146,
    "start_time": "2022-03-23T10:08:37.665Z"
   },
   {
    "duration": 4,
    "start_time": "2022-03-23T10:08:37.813Z"
   },
   {
    "duration": 28,
    "start_time": "2022-03-23T10:08:37.819Z"
   },
   {
    "duration": 200,
    "start_time": "2022-03-23T10:08:37.850Z"
   },
   {
    "duration": 133,
    "start_time": "2022-03-23T10:08:38.052Z"
   },
   {
    "duration": 14,
    "start_time": "2022-03-23T10:08:38.186Z"
   },
   {
    "duration": 1246,
    "start_time": "2022-03-23T10:10:00.508Z"
   },
   {
    "duration": 64,
    "start_time": "2022-03-23T10:10:01.756Z"
   },
   {
    "duration": 12,
    "start_time": "2022-03-23T10:10:01.822Z"
   },
   {
    "duration": 72,
    "start_time": "2022-03-23T10:10:01.835Z"
   },
   {
    "duration": 6,
    "start_time": "2022-03-23T10:10:01.909Z"
   },
   {
    "duration": 25,
    "start_time": "2022-03-23T10:10:01.917Z"
   },
   {
    "duration": 18,
    "start_time": "2022-03-23T10:10:01.944Z"
   },
   {
    "duration": 7,
    "start_time": "2022-03-23T10:10:01.964Z"
   },
   {
    "duration": 192,
    "start_time": "2022-03-23T10:10:01.972Z"
   },
   {
    "duration": 220,
    "start_time": "2022-03-23T10:10:02.166Z"
   },
   {
    "duration": 487,
    "start_time": "2022-03-23T10:10:02.389Z"
   },
   {
    "duration": 151,
    "start_time": "2022-03-23T10:10:02.878Z"
   },
   {
    "duration": 3,
    "start_time": "2022-03-23T10:10:03.031Z"
   },
   {
    "duration": 26,
    "start_time": "2022-03-23T10:10:03.037Z"
   },
   {
    "duration": 181,
    "start_time": "2022-03-23T10:10:03.064Z"
   },
   {
    "duration": 125,
    "start_time": "2022-03-23T10:10:03.247Z"
   },
   {
    "duration": 101,
    "start_time": "2022-03-23T10:10:03.373Z"
   },
   {
    "duration": 2691,
    "start_time": "2022-03-23T10:10:44.793Z"
   },
   {
    "duration": 1260,
    "start_time": "2022-03-23T10:10:50.492Z"
   },
   {
    "duration": 64,
    "start_time": "2022-03-23T10:10:51.754Z"
   },
   {
    "duration": 12,
    "start_time": "2022-03-23T10:10:51.820Z"
   },
   {
    "duration": 72,
    "start_time": "2022-03-23T10:10:51.833Z"
   },
   {
    "duration": 6,
    "start_time": "2022-03-23T10:10:51.907Z"
   },
   {
    "duration": 13,
    "start_time": "2022-03-23T10:10:51.915Z"
   },
   {
    "duration": 18,
    "start_time": "2022-03-23T10:10:51.930Z"
   },
   {
    "duration": 7,
    "start_time": "2022-03-23T10:10:51.949Z"
   },
   {
    "duration": 196,
    "start_time": "2022-03-23T10:10:51.957Z"
   },
   {
    "duration": 210,
    "start_time": "2022-03-23T10:10:52.155Z"
   },
   {
    "duration": 473,
    "start_time": "2022-03-23T10:10:52.367Z"
   },
   {
    "duration": 159,
    "start_time": "2022-03-23T10:10:52.842Z"
   },
   {
    "duration": 4,
    "start_time": "2022-03-23T10:10:53.003Z"
   },
   {
    "duration": 24,
    "start_time": "2022-03-23T10:10:53.009Z"
   },
   {
    "duration": 180,
    "start_time": "2022-03-23T10:10:53.034Z"
   },
   {
    "duration": 2687,
    "start_time": "2022-03-23T10:10:53.216Z"
   },
   {
    "duration": 0,
    "start_time": "2022-03-23T10:10:55.905Z"
   },
   {
    "duration": 127,
    "start_time": "2022-03-23T10:11:02.516Z"
   },
   {
    "duration": 152,
    "start_time": "2022-03-23T10:11:13.448Z"
   },
   {
    "duration": 1254,
    "start_time": "2022-03-23T10:11:40.694Z"
   },
   {
    "duration": 63,
    "start_time": "2022-03-23T10:11:41.950Z"
   },
   {
    "duration": 11,
    "start_time": "2022-03-23T10:11:42.015Z"
   },
   {
    "duration": 76,
    "start_time": "2022-03-23T10:11:42.028Z"
   },
   {
    "duration": 7,
    "start_time": "2022-03-23T10:11:42.106Z"
   },
   {
    "duration": 15,
    "start_time": "2022-03-23T10:11:42.114Z"
   },
   {
    "duration": 14,
    "start_time": "2022-03-23T10:11:42.130Z"
   },
   {
    "duration": 6,
    "start_time": "2022-03-23T10:11:42.146Z"
   },
   {
    "duration": 195,
    "start_time": "2022-03-23T10:11:42.153Z"
   },
   {
    "duration": 205,
    "start_time": "2022-03-23T10:11:42.349Z"
   },
   {
    "duration": 513,
    "start_time": "2022-03-23T10:11:42.556Z"
   },
   {
    "duration": 155,
    "start_time": "2022-03-23T10:11:43.071Z"
   },
   {
    "duration": 5,
    "start_time": "2022-03-23T10:11:43.229Z"
   },
   {
    "duration": 38,
    "start_time": "2022-03-23T10:11:43.237Z"
   },
   {
    "duration": 276,
    "start_time": "2022-03-23T10:11:43.277Z"
   },
   {
    "duration": 178,
    "start_time": "2022-03-23T10:11:43.556Z"
   },
   {
    "duration": 105,
    "start_time": "2022-03-23T10:11:43.735Z"
   },
   {
    "duration": 122,
    "start_time": "2022-03-23T10:12:52.062Z"
   },
   {
    "duration": 1272,
    "start_time": "2022-03-23T10:12:59.198Z"
   },
   {
    "duration": 68,
    "start_time": "2022-03-23T10:13:00.472Z"
   },
   {
    "duration": 10,
    "start_time": "2022-03-23T10:13:00.542Z"
   },
   {
    "duration": 75,
    "start_time": "2022-03-23T10:13:00.554Z"
   },
   {
    "duration": 6,
    "start_time": "2022-03-23T10:13:00.631Z"
   },
   {
    "duration": 41,
    "start_time": "2022-03-23T10:13:00.639Z"
   },
   {
    "duration": 26,
    "start_time": "2022-03-23T10:13:00.682Z"
   },
   {
    "duration": 17,
    "start_time": "2022-03-23T10:13:00.710Z"
   },
   {
    "duration": 178,
    "start_time": "2022-03-23T10:13:00.729Z"
   },
   {
    "duration": 236,
    "start_time": "2022-03-23T10:13:00.908Z"
   },
   {
    "duration": 502,
    "start_time": "2022-03-23T10:13:01.146Z"
   },
   {
    "duration": 170,
    "start_time": "2022-03-23T10:13:01.650Z"
   },
   {
    "duration": 4,
    "start_time": "2022-03-23T10:13:01.822Z"
   },
   {
    "duration": 47,
    "start_time": "2022-03-23T10:13:01.828Z"
   },
   {
    "duration": 174,
    "start_time": "2022-03-23T10:13:01.877Z"
   },
   {
    "duration": 127,
    "start_time": "2022-03-23T10:13:02.053Z"
   },
   {
    "duration": 105,
    "start_time": "2022-03-23T10:13:02.181Z"
   },
   {
    "duration": 156,
    "start_time": "2022-03-23T10:13:13.536Z"
   },
   {
    "duration": 26,
    "start_time": "2022-03-23T10:13:57.029Z"
   },
   {
    "duration": 23,
    "start_time": "2022-03-23T10:14:23.856Z"
   },
   {
    "duration": 5,
    "start_time": "2022-03-23T10:18:02.077Z"
   },
   {
    "duration": 58,
    "start_time": "2022-03-23T10:18:22.753Z"
   },
   {
    "duration": 39,
    "start_time": "2022-03-23T10:20:34.339Z"
   },
   {
    "duration": 24,
    "start_time": "2022-03-23T10:20:39.271Z"
   },
   {
    "duration": 33,
    "start_time": "2022-03-23T10:21:00.144Z"
   },
   {
    "duration": 197,
    "start_time": "2022-03-23T10:21:14.337Z"
   },
   {
    "duration": 74,
    "start_time": "2022-03-23T10:21:25.861Z"
   },
   {
    "duration": 29,
    "start_time": "2022-03-23T10:23:25.077Z"
   },
   {
    "duration": 143,
    "start_time": "2022-03-23T10:23:38.632Z"
   },
   {
    "duration": 68,
    "start_time": "2022-03-23T10:24:36.305Z"
   },
   {
    "duration": 33,
    "start_time": "2022-03-23T10:25:46.829Z"
   },
   {
    "duration": 81,
    "start_time": "2022-03-23T10:26:05.110Z"
   },
   {
    "duration": 166,
    "start_time": "2022-03-23T10:26:16.445Z"
   },
   {
    "duration": 322,
    "start_time": "2022-03-23T10:26:25.807Z"
   },
   {
    "duration": 154,
    "start_time": "2022-03-23T10:26:35.586Z"
   },
   {
    "duration": 146,
    "start_time": "2022-03-23T10:27:11.836Z"
   },
   {
    "duration": 49,
    "start_time": "2022-03-23T10:29:23.671Z"
   },
   {
    "duration": 65,
    "start_time": "2022-03-23T10:29:49.398Z"
   },
   {
    "duration": 66,
    "start_time": "2022-03-23T10:30:02.639Z"
   },
   {
    "duration": 49,
    "start_time": "2022-03-23T10:30:11.061Z"
   },
   {
    "duration": 64,
    "start_time": "2022-03-23T10:30:28.906Z"
   },
   {
    "duration": 66,
    "start_time": "2022-03-23T10:30:51.922Z"
   },
   {
    "duration": 60,
    "start_time": "2022-03-23T10:31:00.056Z"
   },
   {
    "duration": 2715,
    "start_time": "2022-03-23T10:31:14.570Z"
   },
   {
    "duration": 47,
    "start_time": "2022-03-23T10:31:38.864Z"
   },
   {
    "duration": 156,
    "start_time": "2022-03-23T10:31:46.648Z"
   },
   {
    "duration": 2693,
    "start_time": "2022-03-23T10:31:52.583Z"
   },
   {
    "duration": 48,
    "start_time": "2022-03-23T10:32:11.137Z"
   },
   {
    "duration": 2843,
    "start_time": "2022-03-23T10:32:57.559Z"
   },
   {
    "duration": 2641,
    "start_time": "2022-03-23T10:33:11.078Z"
   },
   {
    "duration": 2636,
    "start_time": "2022-03-23T10:37:26.926Z"
   },
   {
    "duration": 51,
    "start_time": "2022-03-23T10:37:33.318Z"
   },
   {
    "duration": 4,
    "start_time": "2022-03-23T10:37:50.086Z"
   },
   {
    "duration": 2616,
    "start_time": "2022-03-23T10:37:52.559Z"
   },
   {
    "duration": 2582,
    "start_time": "2022-03-23T10:38:01.776Z"
   },
   {
    "duration": 51,
    "start_time": "2022-03-23T10:38:11.071Z"
   },
   {
    "duration": 2634,
    "start_time": "2022-03-23T10:38:25.221Z"
   },
   {
    "duration": 51,
    "start_time": "2022-03-23T10:38:29.717Z"
   },
   {
    "duration": 2777,
    "start_time": "2022-03-23T10:38:33.797Z"
   },
   {
    "duration": 47,
    "start_time": "2022-03-23T10:38:38.144Z"
   },
   {
    "duration": 61,
    "start_time": "2022-03-23T10:39:06.685Z"
   },
   {
    "duration": 163,
    "start_time": "2022-03-23T10:39:33.697Z"
   },
   {
    "duration": 57,
    "start_time": "2022-03-23T10:39:38.642Z"
   },
   {
    "duration": 76,
    "start_time": "2022-03-23T10:40:00.399Z"
   },
   {
    "duration": 53,
    "start_time": "2022-03-23T10:40:20.537Z"
   },
   {
    "duration": 89,
    "start_time": "2022-03-23T10:41:10.586Z"
   },
   {
    "duration": 31,
    "start_time": "2022-03-23T10:42:13.029Z"
   },
   {
    "duration": 36,
    "start_time": "2022-03-23T10:42:29.391Z"
   },
   {
    "duration": 1220,
    "start_time": "2022-03-23T10:42:38.127Z"
   },
   {
    "duration": 74,
    "start_time": "2022-03-23T10:42:39.349Z"
   },
   {
    "duration": 12,
    "start_time": "2022-03-23T10:42:39.425Z"
   },
   {
    "duration": 69,
    "start_time": "2022-03-23T10:42:39.438Z"
   },
   {
    "duration": 6,
    "start_time": "2022-03-23T10:42:39.509Z"
   },
   {
    "duration": 15,
    "start_time": "2022-03-23T10:42:39.517Z"
   },
   {
    "duration": 15,
    "start_time": "2022-03-23T10:42:39.534Z"
   },
   {
    "duration": 6,
    "start_time": "2022-03-23T10:42:39.551Z"
   },
   {
    "duration": 193,
    "start_time": "2022-03-23T10:42:39.559Z"
   },
   {
    "duration": 201,
    "start_time": "2022-03-23T10:42:39.753Z"
   },
   {
    "duration": 476,
    "start_time": "2022-03-23T10:42:39.955Z"
   },
   {
    "duration": 158,
    "start_time": "2022-03-23T10:42:40.432Z"
   },
   {
    "duration": 4,
    "start_time": "2022-03-23T10:42:40.591Z"
   },
   {
    "duration": 22,
    "start_time": "2022-03-23T10:42:40.601Z"
   },
   {
    "duration": 174,
    "start_time": "2022-03-23T10:42:40.625Z"
   },
   {
    "duration": 132,
    "start_time": "2022-03-23T10:42:40.801Z"
   },
   {
    "duration": 31,
    "start_time": "2022-03-23T10:42:40.935Z"
   },
   {
    "duration": 20,
    "start_time": "2022-03-23T10:43:05.453Z"
   },
   {
    "duration": 2749,
    "start_time": "2022-03-23T10:43:14.032Z"
   },
   {
    "duration": 20,
    "start_time": "2022-03-23T10:43:21.432Z"
   },
   {
    "duration": 23,
    "start_time": "2022-03-23T10:43:29.677Z"
   },
   {
    "duration": 24,
    "start_time": "2022-03-23T10:44:07.038Z"
   },
   {
    "duration": 3,
    "start_time": "2022-03-23T10:44:47.699Z"
   },
   {
    "duration": 273,
    "start_time": "2022-03-23T10:44:50.726Z"
   },
   {
    "duration": 22,
    "start_time": "2022-03-23T10:45:03.538Z"
   },
   {
    "duration": 15,
    "start_time": "2022-03-23T10:45:13.703Z"
   },
   {
    "duration": 21,
    "start_time": "2022-03-23T10:45:27.061Z"
   },
   {
    "duration": 83,
    "start_time": "2022-03-23T10:45:56.937Z"
   },
   {
    "duration": 23,
    "start_time": "2022-03-23T10:46:09.033Z"
   },
   {
    "duration": 23,
    "start_time": "2022-03-23T10:46:15.968Z"
   },
   {
    "duration": 144,
    "start_time": "2022-03-23T10:46:35.086Z"
   },
   {
    "duration": 106,
    "start_time": "2022-03-23T10:46:57.098Z"
   },
   {
    "duration": 99,
    "start_time": "2022-03-23T10:47:01.617Z"
   },
   {
    "duration": 672,
    "start_time": "2022-03-23T10:47:34.510Z"
   },
   {
    "duration": 1277,
    "start_time": "2022-03-23T10:47:43.196Z"
   },
   {
    "duration": 73,
    "start_time": "2022-03-23T10:47:44.475Z"
   },
   {
    "duration": 12,
    "start_time": "2022-03-23T10:47:44.549Z"
   },
   {
    "duration": 63,
    "start_time": "2022-03-23T10:47:44.563Z"
   },
   {
    "duration": 7,
    "start_time": "2022-03-23T10:47:44.628Z"
   },
   {
    "duration": 15,
    "start_time": "2022-03-23T10:47:44.636Z"
   },
   {
    "duration": 56,
    "start_time": "2022-03-23T10:47:44.653Z"
   },
   {
    "duration": 7,
    "start_time": "2022-03-23T10:47:44.711Z"
   },
   {
    "duration": 187,
    "start_time": "2022-03-23T10:47:44.719Z"
   },
   {
    "duration": 215,
    "start_time": "2022-03-23T10:47:44.909Z"
   },
   {
    "duration": 523,
    "start_time": "2022-03-23T10:47:45.125Z"
   },
   {
    "duration": 152,
    "start_time": "2022-03-23T10:47:45.649Z"
   },
   {
    "duration": 4,
    "start_time": "2022-03-23T10:47:45.802Z"
   },
   {
    "duration": 39,
    "start_time": "2022-03-23T10:47:45.807Z"
   },
   {
    "duration": 173,
    "start_time": "2022-03-23T10:47:45.847Z"
   },
   {
    "duration": 114,
    "start_time": "2022-03-23T10:47:46.021Z"
   },
   {
    "duration": 27,
    "start_time": "2022-03-23T10:47:46.137Z"
   },
   {
    "duration": 23,
    "start_time": "2022-03-23T10:47:46.165Z"
   },
   {
    "duration": 25,
    "start_time": "2022-03-23T10:49:00.915Z"
   },
   {
    "duration": 116,
    "start_time": "2022-03-23T10:49:13.876Z"
   },
   {
    "duration": 22,
    "start_time": "2022-03-23T10:49:31.176Z"
   },
   {
    "duration": 23,
    "start_time": "2022-03-23T10:50:27.999Z"
   },
   {
    "duration": 24,
    "start_time": "2022-03-23T10:51:14.548Z"
   },
   {
    "duration": 21,
    "start_time": "2022-03-23T10:51:23.863Z"
   },
   {
    "duration": 17,
    "start_time": "2022-03-23T10:52:27.624Z"
   },
   {
    "duration": 4,
    "start_time": "2022-03-23T10:52:33.244Z"
   },
   {
    "duration": 23,
    "start_time": "2022-03-23T10:52:45.997Z"
   },
   {
    "duration": 101,
    "start_time": "2022-03-23T10:53:21.524Z"
   },
   {
    "duration": 18,
    "start_time": "2022-03-23T10:53:51.940Z"
   },
   {
    "duration": 23,
    "start_time": "2022-03-23T10:54:14.956Z"
   },
   {
    "duration": 197,
    "start_time": "2022-03-23T10:54:43.253Z"
   },
   {
    "duration": 24,
    "start_time": "2022-03-23T10:54:49.216Z"
   },
   {
    "duration": 5,
    "start_time": "2022-03-23T10:55:16.036Z"
   },
   {
    "duration": 12,
    "start_time": "2022-03-23T10:55:33.504Z"
   },
   {
    "duration": 7,
    "start_time": "2022-03-23T10:55:47.196Z"
   },
   {
    "duration": 13,
    "start_time": "2022-03-23T10:55:55.464Z"
   },
   {
    "duration": 6,
    "start_time": "2022-03-23T10:56:00.571Z"
   },
   {
    "duration": 16,
    "start_time": "2022-03-23T11:01:14.873Z"
   },
   {
    "duration": 15,
    "start_time": "2022-03-23T11:01:30.055Z"
   },
   {
    "duration": 18,
    "start_time": "2022-03-23T11:02:09.113Z"
   },
   {
    "duration": 17,
    "start_time": "2022-03-23T11:02:15.763Z"
   },
   {
    "duration": 17,
    "start_time": "2022-03-23T11:02:54.053Z"
   },
   {
    "duration": 16,
    "start_time": "2022-03-23T11:03:15.455Z"
   },
   {
    "duration": 14,
    "start_time": "2022-03-23T11:03:33.619Z"
   },
   {
    "duration": 2639,
    "start_time": "2022-03-23T11:03:38.075Z"
   },
   {
    "duration": 23,
    "start_time": "2022-03-23T11:03:49.449Z"
   },
   {
    "duration": 16,
    "start_time": "2022-03-23T11:04:00.910Z"
   },
   {
    "duration": 22,
    "start_time": "2022-03-23T11:04:56.863Z"
   },
   {
    "duration": 14,
    "start_time": "2022-03-23T11:05:02.618Z"
   },
   {
    "duration": 16,
    "start_time": "2022-03-23T11:05:19.692Z"
   },
   {
    "duration": 15,
    "start_time": "2022-03-23T11:05:29.559Z"
   },
   {
    "duration": 12,
    "start_time": "2022-03-23T11:06:53.703Z"
   },
   {
    "duration": 14,
    "start_time": "2022-03-23T11:07:15.785Z"
   },
   {
    "duration": 14,
    "start_time": "2022-03-23T11:07:25.957Z"
   },
   {
    "duration": 13,
    "start_time": "2022-03-23T11:07:37.564Z"
   },
   {
    "duration": 18,
    "start_time": "2022-03-23T11:10:01.253Z"
   },
   {
    "duration": 14,
    "start_time": "2022-03-23T11:10:10.955Z"
   },
   {
    "duration": 15,
    "start_time": "2022-03-23T11:10:21.216Z"
   },
   {
    "duration": 21,
    "start_time": "2022-03-23T11:10:33.375Z"
   },
   {
    "duration": 18,
    "start_time": "2022-03-23T11:10:48.215Z"
   },
   {
    "duration": 22,
    "start_time": "2022-03-23T11:11:10.731Z"
   },
   {
    "duration": 17,
    "start_time": "2022-03-23T11:11:37.262Z"
   },
   {
    "duration": 17,
    "start_time": "2022-03-23T11:11:54.982Z"
   },
   {
    "duration": 16,
    "start_time": "2022-03-23T11:12:06.358Z"
   },
   {
    "duration": 20,
    "start_time": "2022-03-23T11:13:04.451Z"
   },
   {
    "duration": 17,
    "start_time": "2022-03-23T11:13:31.602Z"
   },
   {
    "duration": 18,
    "start_time": "2022-03-23T12:14:40.299Z"
   },
   {
    "duration": 17,
    "start_time": "2022-03-23T12:14:50.592Z"
   },
   {
    "duration": 4,
    "start_time": "2022-03-23T12:16:50.242Z"
   },
   {
    "duration": 9,
    "start_time": "2022-03-23T12:17:49.392Z"
   },
   {
    "duration": 5,
    "start_time": "2022-03-23T12:17:58.772Z"
   },
   {
    "duration": 4,
    "start_time": "2022-03-23T12:18:59.945Z"
   },
   {
    "duration": 5,
    "start_time": "2022-03-23T12:19:05.851Z"
   },
   {
    "duration": 3523,
    "start_time": "2022-03-23T12:19:11.392Z"
   },
   {
    "duration": 4,
    "start_time": "2022-03-23T12:19:16.609Z"
   },
   {
    "duration": 4,
    "start_time": "2022-03-23T12:19:24.533Z"
   },
   {
    "duration": 12,
    "start_time": "2022-03-23T12:19:37.907Z"
   },
   {
    "duration": 8,
    "start_time": "2022-03-23T12:20:00.592Z"
   },
   {
    "duration": 10,
    "start_time": "2022-03-23T12:20:07.859Z"
   },
   {
    "duration": 10,
    "start_time": "2022-03-23T12:20:10.791Z"
   },
   {
    "duration": 10,
    "start_time": "2022-03-23T12:20:20.393Z"
   },
   {
    "duration": 4,
    "start_time": "2022-03-23T12:20:43.651Z"
   },
   {
    "duration": 21,
    "start_time": "2022-03-23T12:20:56.011Z"
   },
   {
    "duration": 16,
    "start_time": "2022-03-23T12:21:20.851Z"
   },
   {
    "duration": 664,
    "start_time": "2022-03-23T12:24:20.093Z"
   },
   {
    "duration": 33,
    "start_time": "2022-03-23T12:25:09.002Z"
   },
   {
    "duration": 2872,
    "start_time": "2022-03-23T12:25:29.968Z"
   },
   {
    "duration": 176,
    "start_time": "2022-03-23T12:25:51.711Z"
   },
   {
    "duration": 14,
    "start_time": "2022-03-23T12:25:57.901Z"
   },
   {
    "duration": 14,
    "start_time": "2022-03-23T12:26:09.744Z"
   },
   {
    "duration": 2642,
    "start_time": "2022-03-23T12:26:31.779Z"
   },
   {
    "duration": 25,
    "start_time": "2022-03-23T12:27:01.648Z"
   },
   {
    "duration": 22,
    "start_time": "2022-03-23T12:27:10.801Z"
   },
   {
    "duration": 21,
    "start_time": "2022-03-23T12:27:44.487Z"
   },
   {
    "duration": 20,
    "start_time": "2022-03-23T12:27:49.726Z"
   },
   {
    "duration": 18,
    "start_time": "2022-03-23T12:27:57.201Z"
   },
   {
    "duration": 20,
    "start_time": "2022-03-23T12:28:16.400Z"
   },
   {
    "duration": 16,
    "start_time": "2022-03-23T12:28:58.341Z"
   },
   {
    "duration": 187,
    "start_time": "2022-03-23T12:29:22.054Z"
   },
   {
    "duration": 15,
    "start_time": "2022-03-23T12:29:27.301Z"
   },
   {
    "duration": 15,
    "start_time": "2022-03-23T12:32:02.181Z"
   },
   {
    "duration": 15,
    "start_time": "2022-03-23T12:35:26.137Z"
   },
   {
    "duration": 17,
    "start_time": "2022-03-23T12:35:42.502Z"
   },
   {
    "duration": 25,
    "start_time": "2022-03-23T12:36:12.416Z"
   },
   {
    "duration": 278,
    "start_time": "2022-03-23T12:36:23.967Z"
   },
   {
    "duration": 189,
    "start_time": "2022-03-23T12:36:28.078Z"
   },
   {
    "duration": 14,
    "start_time": "2022-03-23T12:36:42.736Z"
   },
   {
    "duration": 734,
    "start_time": "2022-03-23T12:37:45.678Z"
   },
   {
    "duration": 16,
    "start_time": "2022-03-23T12:37:51.462Z"
   },
   {
    "duration": 17,
    "start_time": "2022-03-23T12:38:19.630Z"
   },
   {
    "duration": 17,
    "start_time": "2022-03-23T12:38:31.206Z"
   },
   {
    "duration": 16,
    "start_time": "2022-03-23T12:38:41.776Z"
   },
   {
    "duration": 17,
    "start_time": "2022-03-23T12:38:50.123Z"
   },
   {
    "duration": 7,
    "start_time": "2022-03-23T12:39:28.761Z"
   },
   {
    "duration": 10,
    "start_time": "2022-03-23T12:40:08.796Z"
   },
   {
    "duration": 18,
    "start_time": "2022-03-23T12:41:09.654Z"
   },
   {
    "duration": 20,
    "start_time": "2022-03-23T12:41:15.309Z"
   },
   {
    "duration": 17,
    "start_time": "2022-03-23T12:41:42.855Z"
   },
   {
    "duration": 176,
    "start_time": "2022-03-23T12:42:11.600Z"
   },
   {
    "duration": 159,
    "start_time": "2022-03-23T12:42:51.342Z"
   },
   {
    "duration": 171,
    "start_time": "2022-03-23T12:44:21.050Z"
   },
   {
    "duration": 12,
    "start_time": "2022-03-23T12:44:24.221Z"
   },
   {
    "duration": 1073,
    "start_time": "2022-03-23T12:44:29.238Z"
   },
   {
    "duration": 1050,
    "start_time": "2022-03-23T13:07:27.730Z"
   },
   {
    "duration": 242,
    "start_time": "2022-03-23T13:11:01.027Z"
   },
   {
    "duration": 252,
    "start_time": "2022-03-23T13:11:05.070Z"
   },
   {
    "duration": 266,
    "start_time": "2022-03-23T13:11:11.717Z"
   },
   {
    "duration": 303,
    "start_time": "2022-03-23T13:11:18.775Z"
   },
   {
    "duration": 339,
    "start_time": "2022-03-23T13:11:40.043Z"
   },
   {
    "duration": 226,
    "start_time": "2022-03-23T13:12:06.734Z"
   },
   {
    "duration": 215,
    "start_time": "2022-03-23T13:12:19.289Z"
   },
   {
    "duration": 241,
    "start_time": "2022-03-23T13:12:24.330Z"
   },
   {
    "duration": 258,
    "start_time": "2022-03-23T13:12:32.202Z"
   },
   {
    "duration": 235,
    "start_time": "2022-03-23T13:12:42.166Z"
   },
   {
    "duration": 115,
    "start_time": "2022-03-23T13:14:45.142Z"
   },
   {
    "duration": 183,
    "start_time": "2022-03-23T13:14:52.144Z"
   },
   {
    "duration": 367,
    "start_time": "2022-03-23T13:15:01.122Z"
   },
   {
    "duration": 228,
    "start_time": "2022-03-23T13:16:00.549Z"
   },
   {
    "duration": 257,
    "start_time": "2022-03-23T13:16:10.110Z"
   },
   {
    "duration": 194,
    "start_time": "2022-03-23T13:16:20.221Z"
   },
   {
    "duration": 256,
    "start_time": "2022-03-23T13:16:22.590Z"
   },
   {
    "duration": 237,
    "start_time": "2022-03-23T13:16:37.670Z"
   },
   {
    "duration": 227,
    "start_time": "2022-03-23T13:16:49.810Z"
   },
   {
    "duration": 229,
    "start_time": "2022-03-23T13:16:53.442Z"
   },
   {
    "duration": 364,
    "start_time": "2022-03-23T13:17:01.933Z"
   },
   {
    "duration": 239,
    "start_time": "2022-03-23T13:17:08.164Z"
   },
   {
    "duration": 244,
    "start_time": "2022-03-23T13:17:12.658Z"
   },
   {
    "duration": 257,
    "start_time": "2022-03-23T13:17:15.881Z"
   },
   {
    "duration": 133,
    "start_time": "2022-03-23T13:17:32.130Z"
   },
   {
    "duration": 116,
    "start_time": "2022-03-23T13:17:35.670Z"
   },
   {
    "duration": 137,
    "start_time": "2022-03-23T13:20:40.950Z"
   },
   {
    "duration": 247,
    "start_time": "2022-03-23T13:20:51.281Z"
   },
   {
    "duration": 274,
    "start_time": "2022-03-23T13:21:02.743Z"
   },
   {
    "duration": 247,
    "start_time": "2022-03-23T13:21:08.091Z"
   },
   {
    "duration": 262,
    "start_time": "2022-03-23T13:21:12.391Z"
   },
   {
    "duration": 539,
    "start_time": "2022-03-23T13:21:19.023Z"
   },
   {
    "duration": 236,
    "start_time": "2022-03-23T13:21:25.482Z"
   },
   {
    "duration": 241,
    "start_time": "2022-03-23T13:21:54.722Z"
   },
   {
    "duration": 242,
    "start_time": "2022-03-23T13:22:00.082Z"
   },
   {
    "duration": 261,
    "start_time": "2022-03-23T13:22:04.976Z"
   },
   {
    "duration": 245,
    "start_time": "2022-03-23T13:22:25.602Z"
   },
   {
    "duration": 14,
    "start_time": "2022-03-23T13:41:36.424Z"
   },
   {
    "duration": 34,
    "start_time": "2022-03-23T13:41:51.572Z"
   },
   {
    "duration": 27,
    "start_time": "2022-03-23T13:42:45.110Z"
   },
   {
    "duration": 27,
    "start_time": "2022-03-23T13:42:51.919Z"
   },
   {
    "duration": 27,
    "start_time": "2022-03-23T13:44:21.390Z"
   },
   {
    "duration": 26,
    "start_time": "2022-03-23T13:44:31.090Z"
   },
   {
    "duration": 9,
    "start_time": "2022-03-23T13:52:46.643Z"
   },
   {
    "duration": 2850,
    "start_time": "2022-03-23T13:53:03.760Z"
   },
   {
    "duration": 14,
    "start_time": "2022-03-23T13:53:38.441Z"
   },
   {
    "duration": 8,
    "start_time": "2022-03-23T13:54:21.625Z"
   },
   {
    "duration": 8,
    "start_time": "2022-03-23T13:54:28.513Z"
   },
   {
    "duration": 19,
    "start_time": "2022-03-23T13:54:33.733Z"
   },
   {
    "duration": 11,
    "start_time": "2022-03-23T13:55:24.050Z"
   },
   {
    "duration": 4,
    "start_time": "2022-03-23T13:55:59.022Z"
   },
   {
    "duration": 19,
    "start_time": "2022-03-23T13:56:24.041Z"
   },
   {
    "duration": 17,
    "start_time": "2022-03-23T13:57:32.302Z"
   },
   {
    "duration": 70,
    "start_time": "2022-03-23T14:04:15.062Z"
   },
   {
    "duration": 1346,
    "start_time": "2022-03-23T14:04:21.645Z"
   },
   {
    "duration": 69,
    "start_time": "2022-03-23T14:04:22.993Z"
   },
   {
    "duration": 12,
    "start_time": "2022-03-23T14:04:23.064Z"
   },
   {
    "duration": 57,
    "start_time": "2022-03-23T14:04:23.078Z"
   },
   {
    "duration": 7,
    "start_time": "2022-03-23T14:04:23.136Z"
   },
   {
    "duration": 30,
    "start_time": "2022-03-23T14:04:23.144Z"
   },
   {
    "duration": 40,
    "start_time": "2022-03-23T14:04:23.176Z"
   },
   {
    "duration": 17,
    "start_time": "2022-03-23T14:04:23.218Z"
   },
   {
    "duration": 189,
    "start_time": "2022-03-23T14:04:23.237Z"
   },
   {
    "duration": 224,
    "start_time": "2022-03-23T14:04:23.429Z"
   },
   {
    "duration": 510,
    "start_time": "2022-03-23T14:04:23.655Z"
   },
   {
    "duration": 157,
    "start_time": "2022-03-23T14:04:24.167Z"
   },
   {
    "duration": 4,
    "start_time": "2022-03-23T14:04:24.325Z"
   },
   {
    "duration": 29,
    "start_time": "2022-03-23T14:04:24.331Z"
   },
   {
    "duration": 183,
    "start_time": "2022-03-23T14:04:24.362Z"
   },
   {
    "duration": 105,
    "start_time": "2022-03-23T14:04:24.546Z"
   },
   {
    "duration": 31,
    "start_time": "2022-03-23T14:04:24.653Z"
   },
   {
    "duration": 11,
    "start_time": "2022-03-23T14:04:24.685Z"
   },
   {
    "duration": 116,
    "start_time": "2022-03-23T14:04:24.698Z"
   },
   {
    "duration": 266,
    "start_time": "2022-03-23T14:04:24.816Z"
   },
   {
    "duration": 345,
    "start_time": "2022-03-23T14:10:01.957Z"
   },
   {
    "duration": 193,
    "start_time": "2022-03-23T14:10:14.869Z"
   },
   {
    "duration": 186,
    "start_time": "2022-03-23T14:14:22.146Z"
   },
   {
    "duration": 176,
    "start_time": "2022-03-23T14:16:41.770Z"
   },
   {
    "duration": 160,
    "start_time": "2022-03-23T14:16:50.887Z"
   },
   {
    "duration": 1182,
    "start_time": "2022-03-23T14:16:57.139Z"
   },
   {
    "duration": 70,
    "start_time": "2022-03-23T14:16:58.323Z"
   },
   {
    "duration": 13,
    "start_time": "2022-03-23T14:16:58.395Z"
   },
   {
    "duration": 48,
    "start_time": "2022-03-23T14:16:58.411Z"
   },
   {
    "duration": 41,
    "start_time": "2022-03-23T14:16:58.460Z"
   },
   {
    "duration": 20,
    "start_time": "2022-03-23T14:16:58.503Z"
   },
   {
    "duration": 19,
    "start_time": "2022-03-23T14:16:58.524Z"
   },
   {
    "duration": 6,
    "start_time": "2022-03-23T14:16:58.545Z"
   },
   {
    "duration": 184,
    "start_time": "2022-03-23T14:16:58.553Z"
   },
   {
    "duration": 218,
    "start_time": "2022-03-23T14:16:58.740Z"
   },
   {
    "duration": 506,
    "start_time": "2022-03-23T14:16:58.960Z"
   },
   {
    "duration": 145,
    "start_time": "2022-03-23T14:16:59.467Z"
   },
   {
    "duration": 4,
    "start_time": "2022-03-23T14:16:59.614Z"
   },
   {
    "duration": 26,
    "start_time": "2022-03-23T14:16:59.619Z"
   },
   {
    "duration": 190,
    "start_time": "2022-03-23T14:16:59.646Z"
   },
   {
    "duration": 249,
    "start_time": "2022-03-23T14:16:59.838Z"
   },
   {
    "duration": 103,
    "start_time": "2022-03-23T14:17:00.089Z"
   },
   {
    "duration": 0,
    "start_time": "2022-03-23T14:17:00.201Z"
   },
   {
    "duration": 0,
    "start_time": "2022-03-23T14:17:00.203Z"
   },
   {
    "duration": 0,
    "start_time": "2022-03-23T14:17:00.204Z"
   },
   {
    "duration": 12,
    "start_time": "2022-03-23T14:17:24.647Z"
   },
   {
    "duration": 184,
    "start_time": "2022-03-23T14:18:18.907Z"
   },
   {
    "duration": 171,
    "start_time": "2022-03-23T14:18:22.939Z"
   },
   {
    "duration": 121,
    "start_time": "2022-03-23T14:18:56.262Z"
   },
   {
    "duration": 111,
    "start_time": "2022-03-23T14:19:02.434Z"
   },
   {
    "duration": 81,
    "start_time": "2022-03-23T14:19:11.465Z"
   },
   {
    "duration": 122,
    "start_time": "2022-03-23T14:19:14.626Z"
   },
   {
    "duration": 183,
    "start_time": "2022-03-23T14:19:30.546Z"
   },
   {
    "duration": 23,
    "start_time": "2022-03-23T14:20:20.347Z"
   },
   {
    "duration": 3849,
    "start_time": "2022-03-23T14:20:30.286Z"
   },
   {
    "duration": 5481,
    "start_time": "2022-03-23T14:20:59.614Z"
   },
   {
    "duration": 365,
    "start_time": "2022-03-23T14:25:01.871Z"
   },
   {
    "duration": 24,
    "start_time": "2022-03-23T14:25:05.933Z"
   },
   {
    "duration": 348,
    "start_time": "2022-03-23T14:25:23.066Z"
   },
   {
    "duration": 19,
    "start_time": "2022-03-23T14:25:25.166Z"
   },
   {
    "duration": 1105,
    "start_time": "2022-03-23T14:25:31.307Z"
   },
   {
    "duration": 640,
    "start_time": "2022-03-23T14:25:45.886Z"
   },
   {
    "duration": 667,
    "start_time": "2022-03-23T14:26:16.037Z"
   },
   {
    "duration": 23,
    "start_time": "2022-03-23T14:26:23.946Z"
   },
   {
    "duration": 1141,
    "start_time": "2022-03-23T14:27:04.248Z"
   },
   {
    "duration": 37,
    "start_time": "2022-03-23T14:27:08.148Z"
   },
   {
    "duration": 685,
    "start_time": "2022-03-23T14:27:19.097Z"
   },
   {
    "duration": 28,
    "start_time": "2022-03-23T14:27:22.008Z"
   },
   {
    "duration": 615,
    "start_time": "2022-03-23T14:27:36.849Z"
   },
   {
    "duration": 27,
    "start_time": "2022-03-23T14:27:39.074Z"
   },
   {
    "duration": 31,
    "start_time": "2022-03-23T14:27:40.760Z"
   },
   {
    "duration": 650,
    "start_time": "2022-03-23T14:28:59.866Z"
   },
   {
    "duration": 29,
    "start_time": "2022-03-23T14:29:03.186Z"
   },
   {
    "duration": 32,
    "start_time": "2022-03-23T14:29:04.866Z"
   },
   {
    "duration": 12,
    "start_time": "2022-03-23T14:29:22.493Z"
   },
   {
    "duration": 603,
    "start_time": "2022-03-23T14:30:31.587Z"
   },
   {
    "duration": 30,
    "start_time": "2022-03-23T14:30:40.066Z"
   },
   {
    "duration": 31,
    "start_time": "2022-03-23T14:30:41.515Z"
   },
   {
    "duration": 3370,
    "start_time": "2022-03-23T14:30:52.227Z"
   },
   {
    "duration": 0,
    "start_time": "2022-03-23T14:30:55.598Z"
   },
   {
    "duration": 11,
    "start_time": "2022-03-23T14:30:59.186Z"
   },
   {
    "duration": 12,
    "start_time": "2022-03-23T14:31:02.766Z"
   },
   {
    "duration": 11,
    "start_time": "2022-03-23T14:31:04.615Z"
   },
   {
    "duration": 16,
    "start_time": "2022-03-23T14:31:06.507Z"
   },
   {
    "duration": 12,
    "start_time": "2022-03-23T14:31:16.386Z"
   },
   {
    "duration": 13,
    "start_time": "2022-03-23T14:31:54.994Z"
   },
   {
    "duration": 3639,
    "start_time": "2022-03-23T14:32:03.946Z"
   },
   {
    "duration": 0,
    "start_time": "2022-03-23T14:32:07.587Z"
   },
   {
    "duration": 3131,
    "start_time": "2022-03-23T14:32:10.715Z"
   },
   {
    "duration": 676,
    "start_time": "2022-03-23T14:32:39.087Z"
   },
   {
    "duration": 12,
    "start_time": "2022-03-23T14:32:44.453Z"
   },
   {
    "duration": 12,
    "start_time": "2022-03-23T14:32:48.755Z"
   },
   {
    "duration": 632,
    "start_time": "2022-03-23T14:33:19.004Z"
   },
   {
    "duration": 12,
    "start_time": "2022-03-23T14:33:22.415Z"
   },
   {
    "duration": 13,
    "start_time": "2022-03-23T14:33:25.046Z"
   },
   {
    "duration": 13,
    "start_time": "2022-03-23T14:33:31.896Z"
   },
   {
    "duration": 11,
    "start_time": "2022-03-23T14:33:38.773Z"
   },
   {
    "duration": 37,
    "start_time": "2022-03-23T14:33:54.526Z"
   },
   {
    "duration": 2592,
    "start_time": "2022-03-23T14:34:10.886Z"
   },
   {
    "duration": 10,
    "start_time": "2022-03-23T14:34:24.626Z"
   },
   {
    "duration": 733,
    "start_time": "2022-03-23T14:37:15.436Z"
   },
   {
    "duration": 1137,
    "start_time": "2022-03-23T14:37:44.194Z"
   },
   {
    "duration": 123,
    "start_time": "2022-03-23T14:39:54.936Z"
   },
   {
    "duration": 190,
    "start_time": "2022-03-23T14:40:07.777Z"
   },
   {
    "duration": 714,
    "start_time": "2022-03-23T14:40:23.067Z"
   },
   {
    "duration": 645,
    "start_time": "2022-03-23T14:40:48.666Z"
   },
   {
    "duration": 1125,
    "start_time": "2022-03-23T14:40:59.869Z"
   },
   {
    "duration": 979,
    "start_time": "2022-03-23T14:41:20.707Z"
   },
   {
    "duration": 615,
    "start_time": "2022-03-23T14:41:24.668Z"
   },
   {
    "duration": 628,
    "start_time": "2022-03-23T14:41:28.829Z"
   },
   {
    "duration": 599,
    "start_time": "2022-03-23T14:41:32.851Z"
   },
   {
    "duration": 637,
    "start_time": "2022-03-23T14:41:47.926Z"
   },
   {
    "duration": 641,
    "start_time": "2022-03-23T14:41:53.890Z"
   },
   {
    "duration": 691,
    "start_time": "2022-03-23T14:42:05.250Z"
   },
   {
    "duration": 134,
    "start_time": "2022-03-23T15:15:53.850Z"
   },
   {
    "duration": 1245,
    "start_time": "2022-03-23T15:15:59.020Z"
   },
   {
    "duration": 70,
    "start_time": "2022-03-23T15:16:00.267Z"
   },
   {
    "duration": 12,
    "start_time": "2022-03-23T15:16:00.339Z"
   },
   {
    "duration": 70,
    "start_time": "2022-03-23T15:16:00.353Z"
   },
   {
    "duration": 6,
    "start_time": "2022-03-23T15:16:00.425Z"
   },
   {
    "duration": 29,
    "start_time": "2022-03-23T15:16:00.432Z"
   },
   {
    "duration": 37,
    "start_time": "2022-03-23T15:16:00.464Z"
   },
   {
    "duration": 8,
    "start_time": "2022-03-23T15:16:00.503Z"
   },
   {
    "duration": 189,
    "start_time": "2022-03-23T15:16:00.512Z"
   },
   {
    "duration": 212,
    "start_time": "2022-03-23T15:16:00.703Z"
   },
   {
    "duration": 526,
    "start_time": "2022-03-23T15:16:00.917Z"
   },
   {
    "duration": 156,
    "start_time": "2022-03-23T15:16:01.445Z"
   },
   {
    "duration": 5,
    "start_time": "2022-03-23T15:16:01.602Z"
   },
   {
    "duration": 29,
    "start_time": "2022-03-23T15:16:01.610Z"
   },
   {
    "duration": 174,
    "start_time": "2022-03-23T15:16:01.641Z"
   },
   {
    "duration": 116,
    "start_time": "2022-03-23T15:16:01.817Z"
   },
   {
    "duration": 10,
    "start_time": "2022-03-23T15:16:01.935Z"
   },
   {
    "duration": 26,
    "start_time": "2022-03-23T15:16:01.947Z"
   },
   {
    "duration": 17,
    "start_time": "2022-03-23T15:16:01.975Z"
   },
   {
    "duration": 100,
    "start_time": "2022-03-23T15:16:02.001Z"
   },
   {
    "duration": 259,
    "start_time": "2022-03-23T15:16:02.103Z"
   },
   {
    "duration": 107,
    "start_time": "2022-03-23T15:16:24.024Z"
   },
   {
    "duration": 18,
    "start_time": "2022-03-23T15:16:34.805Z"
   },
   {
    "duration": 220,
    "start_time": "2022-03-23T15:16:44.961Z"
   },
   {
    "duration": 15,
    "start_time": "2022-03-23T15:16:47.513Z"
   },
   {
    "duration": 25,
    "start_time": "2022-03-23T15:17:02.086Z"
   },
   {
    "duration": 174,
    "start_time": "2022-03-23T15:17:40.207Z"
   },
   {
    "duration": 14,
    "start_time": "2022-03-23T15:17:42.665Z"
   },
   {
    "duration": 18,
    "start_time": "2022-03-23T15:17:57.766Z"
   },
   {
    "duration": 14,
    "start_time": "2022-03-23T15:18:31.716Z"
   },
   {
    "duration": 56,
    "start_time": "2022-03-23T15:18:51.169Z"
   },
   {
    "duration": 15,
    "start_time": "2022-03-23T15:19:01.108Z"
   },
   {
    "duration": 18,
    "start_time": "2022-03-23T15:20:00.224Z"
   },
   {
    "duration": 15,
    "start_time": "2022-03-23T15:21:25.391Z"
   },
   {
    "duration": 161,
    "start_time": "2022-03-23T15:28:40.987Z"
   },
   {
    "duration": 1242,
    "start_time": "2022-03-23T15:29:20.339Z"
   },
   {
    "duration": 88,
    "start_time": "2022-03-23T15:29:21.584Z"
   },
   {
    "duration": 16,
    "start_time": "2022-03-23T15:29:21.674Z"
   },
   {
    "duration": 57,
    "start_time": "2022-03-23T15:29:21.702Z"
   },
   {
    "duration": 41,
    "start_time": "2022-03-23T15:29:21.760Z"
   },
   {
    "duration": 14,
    "start_time": "2022-03-23T15:29:21.803Z"
   },
   {
    "duration": 17,
    "start_time": "2022-03-23T15:29:21.818Z"
   },
   {
    "duration": 7,
    "start_time": "2022-03-23T15:29:21.837Z"
   },
   {
    "duration": 182,
    "start_time": "2022-03-23T15:29:21.846Z"
   },
   {
    "duration": 217,
    "start_time": "2022-03-23T15:29:22.031Z"
   },
   {
    "duration": 513,
    "start_time": "2022-03-23T15:29:22.250Z"
   },
   {
    "duration": 142,
    "start_time": "2022-03-23T15:29:22.765Z"
   },
   {
    "duration": 3,
    "start_time": "2022-03-23T15:29:22.909Z"
   },
   {
    "duration": 23,
    "start_time": "2022-03-23T15:29:22.914Z"
   },
   {
    "duration": 174,
    "start_time": "2022-03-23T15:29:22.939Z"
   },
   {
    "duration": 125,
    "start_time": "2022-03-23T15:29:23.115Z"
   },
   {
    "duration": 12,
    "start_time": "2022-03-23T15:29:23.242Z"
   },
   {
    "duration": 31,
    "start_time": "2022-03-23T15:29:23.255Z"
   },
   {
    "duration": 22,
    "start_time": "2022-03-23T15:29:23.288Z"
   },
   {
    "duration": 95,
    "start_time": "2022-03-23T15:29:23.312Z"
   },
   {
    "duration": 264,
    "start_time": "2022-03-23T15:29:23.409Z"
   },
   {
    "duration": 54,
    "start_time": "2022-03-24T09:19:43.245Z"
   },
   {
    "duration": 1545,
    "start_time": "2022-03-24T09:19:48.679Z"
   },
   {
    "duration": 66,
    "start_time": "2022-03-24T09:19:50.227Z"
   },
   {
    "duration": 20,
    "start_time": "2022-03-24T09:19:50.295Z"
   },
   {
    "duration": 93,
    "start_time": "2022-03-24T09:19:50.317Z"
   },
   {
    "duration": 9,
    "start_time": "2022-03-24T09:19:50.413Z"
   },
   {
    "duration": 19,
    "start_time": "2022-03-24T09:19:50.423Z"
   },
   {
    "duration": 29,
    "start_time": "2022-03-24T09:19:50.444Z"
   },
   {
    "duration": 10,
    "start_time": "2022-03-24T09:19:50.501Z"
   },
   {
    "duration": 210,
    "start_time": "2022-03-24T09:19:50.513Z"
   },
   {
    "duration": 245,
    "start_time": "2022-03-24T09:19:50.725Z"
   },
   {
    "duration": 624,
    "start_time": "2022-03-24T09:19:50.972Z"
   },
   {
    "duration": 172,
    "start_time": "2022-03-24T09:19:51.598Z"
   },
   {
    "duration": 4,
    "start_time": "2022-03-24T09:19:51.771Z"
   },
   {
    "duration": 54,
    "start_time": "2022-03-24T09:19:51.778Z"
   },
   {
    "duration": 186,
    "start_time": "2022-03-24T09:19:51.834Z"
   },
   {
    "duration": 160,
    "start_time": "2022-03-24T09:19:52.021Z"
   },
   {
    "duration": 13,
    "start_time": "2022-03-24T09:19:52.183Z"
   },
   {
    "duration": 37,
    "start_time": "2022-03-24T09:19:52.198Z"
   },
   {
    "duration": 24,
    "start_time": "2022-03-24T09:19:52.238Z"
   },
   {
    "duration": 123,
    "start_time": "2022-03-24T09:19:52.264Z"
   },
   {
    "duration": 293,
    "start_time": "2022-03-24T09:19:52.390Z"
   },
   {
    "duration": 29,
    "start_time": "2022-03-24T09:21:29.123Z"
   },
   {
    "duration": 676,
    "start_time": "2022-03-24T09:21:51.545Z"
   },
   {
    "duration": 29,
    "start_time": "2022-03-24T09:22:09.797Z"
   },
   {
    "duration": 39,
    "start_time": "2022-03-24T09:23:44.717Z"
   },
   {
    "duration": 40,
    "start_time": "2022-03-24T09:23:49.217Z"
   },
   {
    "duration": 38,
    "start_time": "2022-03-24T09:24:04.195Z"
   },
   {
    "duration": 61,
    "start_time": "2022-03-24T09:24:14.678Z"
   },
   {
    "duration": 46,
    "start_time": "2022-03-24T09:24:36.164Z"
   },
   {
    "duration": 63,
    "start_time": "2022-03-24T09:24:40.191Z"
   },
   {
    "duration": 36,
    "start_time": "2022-03-24T10:41:03.197Z"
   },
   {
    "duration": 232,
    "start_time": "2022-03-24T10:47:59.252Z"
   },
   {
    "duration": 13,
    "start_time": "2022-03-24T10:48:13.469Z"
   },
   {
    "duration": 144,
    "start_time": "2022-03-24T10:48:17.537Z"
   },
   {
    "duration": 28,
    "start_time": "2022-03-24T10:49:36.028Z"
   },
   {
    "duration": 9,
    "start_time": "2022-03-24T10:50:13.879Z"
   },
   {
    "duration": 10,
    "start_time": "2022-03-24T10:51:00.046Z"
   },
   {
    "duration": 13,
    "start_time": "2022-03-24T10:51:05.317Z"
   },
   {
    "duration": 14,
    "start_time": "2022-03-24T10:51:35.318Z"
   },
   {
    "duration": 16,
    "start_time": "2022-03-24T10:53:46.258Z"
   },
   {
    "duration": 14,
    "start_time": "2022-03-24T10:54:37.067Z"
   },
   {
    "duration": 1432,
    "start_time": "2022-03-24T10:54:43.509Z"
   },
   {
    "duration": 138,
    "start_time": "2022-03-24T10:54:44.944Z"
   },
   {
    "duration": 13,
    "start_time": "2022-03-24T10:54:45.084Z"
   },
   {
    "duration": 59,
    "start_time": "2022-03-24T10:54:45.099Z"
   },
   {
    "duration": 129,
    "start_time": "2022-03-24T10:54:45.160Z"
   },
   {
    "duration": 0,
    "start_time": "2022-03-24T10:54:45.292Z"
   },
   {
    "duration": 0,
    "start_time": "2022-03-24T10:54:45.302Z"
   },
   {
    "duration": 0,
    "start_time": "2022-03-24T10:54:45.304Z"
   },
   {
    "duration": 0,
    "start_time": "2022-03-24T10:54:45.305Z"
   },
   {
    "duration": 0,
    "start_time": "2022-03-24T10:54:45.306Z"
   },
   {
    "duration": 0,
    "start_time": "2022-03-24T10:54:45.308Z"
   },
   {
    "duration": 0,
    "start_time": "2022-03-24T10:54:45.310Z"
   },
   {
    "duration": 0,
    "start_time": "2022-03-24T10:54:45.311Z"
   },
   {
    "duration": 0,
    "start_time": "2022-03-24T10:54:45.312Z"
   },
   {
    "duration": 0,
    "start_time": "2022-03-24T10:54:45.313Z"
   },
   {
    "duration": 1,
    "start_time": "2022-03-24T10:54:45.314Z"
   },
   {
    "duration": 0,
    "start_time": "2022-03-24T10:54:45.316Z"
   },
   {
    "duration": 0,
    "start_time": "2022-03-24T10:54:45.316Z"
   },
   {
    "duration": 0,
    "start_time": "2022-03-24T10:54:45.317Z"
   },
   {
    "duration": 0,
    "start_time": "2022-03-24T10:54:45.318Z"
   },
   {
    "duration": 0,
    "start_time": "2022-03-24T10:54:45.324Z"
   },
   {
    "duration": 0,
    "start_time": "2022-03-24T10:54:45.325Z"
   },
   {
    "duration": 0,
    "start_time": "2022-03-24T10:54:45.326Z"
   },
   {
    "duration": 0,
    "start_time": "2022-03-24T10:54:45.329Z"
   },
   {
    "duration": 11,
    "start_time": "2022-03-24T10:55:51.512Z"
   },
   {
    "duration": 11,
    "start_time": "2022-03-24T10:55:54.246Z"
   },
   {
    "duration": 13,
    "start_time": "2022-03-24T10:56:30.843Z"
   },
   {
    "duration": 1341,
    "start_time": "2022-03-24T10:56:45.351Z"
   },
   {
    "duration": 170,
    "start_time": "2022-03-24T10:56:46.694Z"
   },
   {
    "duration": 12,
    "start_time": "2022-03-24T10:56:46.867Z"
   },
   {
    "duration": 17,
    "start_time": "2022-03-24T10:56:46.882Z"
   },
   {
    "duration": 14,
    "start_time": "2022-03-24T10:56:46.901Z"
   },
   {
    "duration": 28,
    "start_time": "2022-03-24T10:56:46.917Z"
   },
   {
    "duration": 89,
    "start_time": "2022-03-24T10:56:46.948Z"
   },
   {
    "duration": 23,
    "start_time": "2022-03-24T10:56:47.039Z"
   },
   {
    "duration": 57,
    "start_time": "2022-03-24T10:56:47.064Z"
   },
   {
    "duration": 25,
    "start_time": "2022-03-24T10:56:47.125Z"
   },
   {
    "duration": 30,
    "start_time": "2022-03-24T10:56:47.152Z"
   },
   {
    "duration": 12,
    "start_time": "2022-03-24T10:56:47.208Z"
   },
   {
    "duration": 133,
    "start_time": "2022-03-24T10:56:47.224Z"
   },
   {
    "duration": 0,
    "start_time": "2022-03-24T10:56:47.359Z"
   },
   {
    "duration": 0,
    "start_time": "2022-03-24T10:56:47.361Z"
   },
   {
    "duration": 0,
    "start_time": "2022-03-24T10:56:47.362Z"
   },
   {
    "duration": 0,
    "start_time": "2022-03-24T10:56:47.363Z"
   },
   {
    "duration": 1,
    "start_time": "2022-03-24T10:56:47.363Z"
   },
   {
    "duration": 0,
    "start_time": "2022-03-24T10:56:47.365Z"
   },
   {
    "duration": 0,
    "start_time": "2022-03-24T10:56:47.365Z"
   },
   {
    "duration": 0,
    "start_time": "2022-03-24T10:56:47.366Z"
   },
   {
    "duration": 0,
    "start_time": "2022-03-24T10:56:47.367Z"
   },
   {
    "duration": 0,
    "start_time": "2022-03-24T10:56:47.368Z"
   },
   {
    "duration": 0,
    "start_time": "2022-03-24T10:56:47.370Z"
   },
   {
    "duration": 15,
    "start_time": "2022-03-24T10:56:57.584Z"
   },
   {
    "duration": 9,
    "start_time": "2022-03-24T10:56:59.989Z"
   },
   {
    "duration": 1432,
    "start_time": "2022-03-24T10:57:14.846Z"
   },
   {
    "duration": 182,
    "start_time": "2022-03-24T10:57:16.281Z"
   },
   {
    "duration": 15,
    "start_time": "2022-03-24T10:57:16.465Z"
   },
   {
    "duration": 42,
    "start_time": "2022-03-24T10:57:16.482Z"
   },
   {
    "duration": 25,
    "start_time": "2022-03-24T10:57:16.526Z"
   },
   {
    "duration": 36,
    "start_time": "2022-03-24T10:57:16.553Z"
   },
   {
    "duration": 84,
    "start_time": "2022-03-24T10:57:16.591Z"
   },
   {
    "duration": 32,
    "start_time": "2022-03-24T10:57:16.709Z"
   },
   {
    "duration": 13,
    "start_time": "2022-03-24T10:57:16.743Z"
   },
   {
    "duration": 48,
    "start_time": "2022-03-24T10:57:16.759Z"
   },
   {
    "duration": 29,
    "start_time": "2022-03-24T10:57:16.811Z"
   },
   {
    "duration": 10,
    "start_time": "2022-03-24T10:57:16.842Z"
   },
   {
    "duration": 255,
    "start_time": "2022-03-24T10:57:16.854Z"
   },
   {
    "duration": 288,
    "start_time": "2022-03-24T10:57:17.111Z"
   },
   {
    "duration": 773,
    "start_time": "2022-03-24T10:57:17.404Z"
   },
   {
    "duration": 191,
    "start_time": "2022-03-24T10:57:18.179Z"
   },
   {
    "duration": 4,
    "start_time": "2022-03-24T10:57:18.372Z"
   },
   {
    "duration": 48,
    "start_time": "2022-03-24T10:57:18.378Z"
   },
   {
    "duration": 33,
    "start_time": "2022-03-24T10:57:18.428Z"
   },
   {
    "duration": 211,
    "start_time": "2022-03-24T10:57:18.463Z"
   },
   {
    "duration": 46,
    "start_time": "2022-03-24T10:57:18.675Z"
   },
   {
    "duration": 32,
    "start_time": "2022-03-24T10:57:18.724Z"
   },
   {
    "duration": 463,
    "start_time": "2022-03-24T10:57:18.758Z"
   },
   {
    "duration": 67,
    "start_time": "2022-03-24T10:57:48.070Z"
   },
   {
    "duration": 1356,
    "start_time": "2022-03-24T11:02:37.272Z"
   },
   {
    "duration": 155,
    "start_time": "2022-03-24T11:02:38.631Z"
   },
   {
    "duration": 13,
    "start_time": "2022-03-24T11:02:38.788Z"
   },
   {
    "duration": 25,
    "start_time": "2022-03-24T11:02:38.803Z"
   },
   {
    "duration": 12,
    "start_time": "2022-03-24T11:02:38.831Z"
   },
   {
    "duration": 25,
    "start_time": "2022-03-24T11:02:38.844Z"
   },
   {
    "duration": 71,
    "start_time": "2022-03-24T11:02:38.871Z"
   },
   {
    "duration": 61,
    "start_time": "2022-03-24T11:02:38.944Z"
   },
   {
    "duration": 8,
    "start_time": "2022-03-24T11:02:39.007Z"
   },
   {
    "duration": 38,
    "start_time": "2022-03-24T11:02:39.017Z"
   },
   {
    "duration": 63,
    "start_time": "2022-03-24T11:02:39.056Z"
   },
   {
    "duration": 10,
    "start_time": "2022-03-24T11:02:39.121Z"
   },
   {
    "duration": 213,
    "start_time": "2022-03-24T11:02:39.133Z"
   },
   {
    "duration": 256,
    "start_time": "2022-03-24T11:02:39.349Z"
   },
   {
    "duration": 650,
    "start_time": "2022-03-24T11:02:39.607Z"
   },
   {
    "duration": 188,
    "start_time": "2022-03-24T11:02:40.259Z"
   },
   {
    "duration": 4,
    "start_time": "2022-03-24T11:02:40.449Z"
   },
   {
    "duration": 35,
    "start_time": "2022-03-24T11:02:40.455Z"
   },
   {
    "duration": 28,
    "start_time": "2022-03-24T11:02:40.500Z"
   },
   {
    "duration": 214,
    "start_time": "2022-03-24T11:02:40.530Z"
   },
   {
    "duration": 26,
    "start_time": "2022-03-24T11:02:40.746Z"
   },
   {
    "duration": 48,
    "start_time": "2022-03-24T11:02:40.774Z"
   },
   {
    "duration": 395,
    "start_time": "2022-03-24T11:02:40.824Z"
   },
   {
    "duration": 192,
    "start_time": "2022-03-24T11:03:27.299Z"
   },
   {
    "duration": 184,
    "start_time": "2022-03-24T11:03:41.387Z"
   },
   {
    "duration": 1349,
    "start_time": "2022-03-24T11:03:47.575Z"
   },
   {
    "duration": 151,
    "start_time": "2022-03-24T11:03:48.926Z"
   },
   {
    "duration": 13,
    "start_time": "2022-03-24T11:03:49.079Z"
   },
   {
    "duration": 27,
    "start_time": "2022-03-24T11:03:49.094Z"
   },
   {
    "duration": 11,
    "start_time": "2022-03-24T11:03:49.123Z"
   },
   {
    "duration": 10,
    "start_time": "2022-03-24T11:03:49.136Z"
   },
   {
    "duration": 78,
    "start_time": "2022-03-24T11:03:49.148Z"
   },
   {
    "duration": 19,
    "start_time": "2022-03-24T11:03:49.228Z"
   },
   {
    "duration": 52,
    "start_time": "2022-03-24T11:03:49.249Z"
   },
   {
    "duration": 15,
    "start_time": "2022-03-24T11:03:49.305Z"
   },
   {
    "duration": 37,
    "start_time": "2022-03-24T11:03:49.322Z"
   },
   {
    "duration": 8,
    "start_time": "2022-03-24T11:03:49.361Z"
   },
   {
    "duration": 206,
    "start_time": "2022-03-24T11:03:49.371Z"
   },
   {
    "duration": 262,
    "start_time": "2022-03-24T11:03:49.579Z"
   },
   {
    "duration": 551,
    "start_time": "2022-03-24T11:03:49.842Z"
   },
   {
    "duration": 169,
    "start_time": "2022-03-24T11:03:50.394Z"
   },
   {
    "duration": 5,
    "start_time": "2022-03-24T11:03:50.565Z"
   },
   {
    "duration": 43,
    "start_time": "2022-03-24T11:03:50.572Z"
   },
   {
    "duration": 50,
    "start_time": "2022-03-24T11:03:50.617Z"
   },
   {
    "duration": 190,
    "start_time": "2022-03-24T11:03:50.669Z"
   },
   {
    "duration": 24,
    "start_time": "2022-03-24T11:03:50.861Z"
   },
   {
    "duration": 30,
    "start_time": "2022-03-24T11:03:50.901Z"
   },
   {
    "duration": 385,
    "start_time": "2022-03-24T11:03:50.932Z"
   },
   {
    "duration": 1353,
    "start_time": "2022-03-24T11:04:21.560Z"
   },
   {
    "duration": 145,
    "start_time": "2022-03-24T11:04:22.915Z"
   },
   {
    "duration": 13,
    "start_time": "2022-03-24T11:04:23.063Z"
   },
   {
    "duration": 31,
    "start_time": "2022-03-24T11:04:23.079Z"
   },
   {
    "duration": 12,
    "start_time": "2022-03-24T11:04:23.113Z"
   },
   {
    "duration": 10,
    "start_time": "2022-03-24T11:04:23.128Z"
   },
   {
    "duration": 84,
    "start_time": "2022-03-24T11:04:23.140Z"
   },
   {
    "duration": 19,
    "start_time": "2022-03-24T11:04:23.226Z"
   },
   {
    "duration": 8,
    "start_time": "2022-03-24T11:04:23.247Z"
   },
   {
    "duration": 22,
    "start_time": "2022-03-24T11:04:23.303Z"
   },
   {
    "duration": 23,
    "start_time": "2022-03-24T11:04:23.327Z"
   },
   {
    "duration": 8,
    "start_time": "2022-03-24T11:04:23.352Z"
   },
   {
    "duration": 221,
    "start_time": "2022-03-24T11:04:23.362Z"
   },
   {
    "duration": 250,
    "start_time": "2022-03-24T11:04:23.585Z"
   },
   {
    "duration": 557,
    "start_time": "2022-03-24T11:04:23.838Z"
   },
   {
    "duration": 174,
    "start_time": "2022-03-24T11:04:24.401Z"
   },
   {
    "duration": 4,
    "start_time": "2022-03-24T11:04:24.577Z"
   },
   {
    "duration": 52,
    "start_time": "2022-03-24T11:04:24.583Z"
   },
   {
    "duration": 39,
    "start_time": "2022-03-24T11:04:24.637Z"
   },
   {
    "duration": 195,
    "start_time": "2022-03-24T11:04:24.678Z"
   },
   {
    "duration": 38,
    "start_time": "2022-03-24T11:04:24.875Z"
   },
   {
    "duration": 36,
    "start_time": "2022-03-24T11:04:24.915Z"
   },
   {
    "duration": 411,
    "start_time": "2022-03-24T11:04:24.952Z"
   },
   {
    "duration": 13,
    "start_time": "2022-03-24T11:05:29.911Z"
   },
   {
    "duration": 2,
    "start_time": "2022-03-24T11:06:51.701Z"
   },
   {
    "duration": 1399,
    "start_time": "2022-03-24T11:07:01.413Z"
   },
   {
    "duration": 161,
    "start_time": "2022-03-24T11:07:02.814Z"
   },
   {
    "duration": 15,
    "start_time": "2022-03-24T11:07:02.977Z"
   },
   {
    "duration": 10,
    "start_time": "2022-03-24T11:07:02.994Z"
   },
   {
    "duration": 27,
    "start_time": "2022-03-24T11:07:03.006Z"
   },
   {
    "duration": 15,
    "start_time": "2022-03-24T11:07:03.034Z"
   },
   {
    "duration": 81,
    "start_time": "2022-03-24T11:07:03.052Z"
   },
   {
    "duration": 8,
    "start_time": "2022-03-24T11:07:03.134Z"
   },
   {
    "duration": 23,
    "start_time": "2022-03-24T11:07:03.144Z"
   },
   {
    "duration": 50,
    "start_time": "2022-03-24T11:07:03.169Z"
   },
   {
    "duration": 25,
    "start_time": "2022-03-24T11:07:03.221Z"
   },
   {
    "duration": 214,
    "start_time": "2022-03-24T11:07:03.249Z"
   },
   {
    "duration": 270,
    "start_time": "2022-03-24T11:07:03.466Z"
   },
   {
    "duration": 572,
    "start_time": "2022-03-24T11:07:03.739Z"
   },
   {
    "duration": 188,
    "start_time": "2022-03-24T11:07:04.313Z"
   },
   {
    "duration": 5,
    "start_time": "2022-03-24T11:07:04.503Z"
   },
   {
    "duration": 39,
    "start_time": "2022-03-24T11:07:04.510Z"
   },
   {
    "duration": 28,
    "start_time": "2022-03-24T11:07:04.551Z"
   },
   {
    "duration": 34,
    "start_time": "2022-03-24T11:07:04.581Z"
   },
   {
    "duration": 26,
    "start_time": "2022-03-24T11:07:04.618Z"
   },
   {
    "duration": 64,
    "start_time": "2022-03-24T11:07:04.647Z"
   },
   {
    "duration": 398,
    "start_time": "2022-03-24T11:07:04.713Z"
   },
   {
    "duration": 15,
    "start_time": "2022-03-24T11:10:12.610Z"
   },
   {
    "duration": 16,
    "start_time": "2022-03-24T11:10:25.004Z"
   },
   {
    "duration": 217,
    "start_time": "2022-03-24T11:10:31.186Z"
   },
   {
    "duration": 124,
    "start_time": "2022-03-24T11:10:39.296Z"
   },
   {
    "duration": 25,
    "start_time": "2022-03-24T11:10:41.897Z"
   },
   {
    "duration": 26,
    "start_time": "2022-03-24T11:10:54.685Z"
   },
   {
    "duration": 15,
    "start_time": "2022-03-24T11:11:12.437Z"
   },
   {
    "duration": 5,
    "start_time": "2022-03-24T11:12:31.505Z"
   },
   {
    "duration": 1327,
    "start_time": "2022-03-24T11:12:35.782Z"
   },
   {
    "duration": 188,
    "start_time": "2022-03-24T11:12:37.111Z"
   },
   {
    "duration": 13,
    "start_time": "2022-03-24T11:12:37.301Z"
   },
   {
    "duration": 30,
    "start_time": "2022-03-24T11:12:37.315Z"
   },
   {
    "duration": 83,
    "start_time": "2022-03-24T11:12:37.348Z"
   },
   {
    "duration": 37,
    "start_time": "2022-03-24T11:12:37.434Z"
   },
   {
    "duration": 78,
    "start_time": "2022-03-24T11:12:37.474Z"
   },
   {
    "duration": 8,
    "start_time": "2022-03-24T11:12:37.554Z"
   },
   {
    "duration": 51,
    "start_time": "2022-03-24T11:12:37.564Z"
   },
   {
    "duration": 34,
    "start_time": "2022-03-24T11:12:37.616Z"
   },
   {
    "duration": 16,
    "start_time": "2022-03-24T11:12:37.652Z"
   },
   {
    "duration": 219,
    "start_time": "2022-03-24T11:12:37.670Z"
   },
   {
    "duration": 252,
    "start_time": "2022-03-24T11:12:37.891Z"
   },
   {
    "duration": 536,
    "start_time": "2022-03-24T11:12:38.147Z"
   },
   {
    "duration": 171,
    "start_time": "2022-03-24T11:12:38.685Z"
   },
   {
    "duration": 5,
    "start_time": "2022-03-24T11:12:38.857Z"
   },
   {
    "duration": 60,
    "start_time": "2022-03-24T11:12:38.864Z"
   },
   {
    "duration": 47,
    "start_time": "2022-03-24T11:12:38.925Z"
   },
   {
    "duration": 35,
    "start_time": "2022-03-24T11:12:38.974Z"
   },
   {
    "duration": 15,
    "start_time": "2022-03-24T11:12:39.012Z"
   },
   {
    "duration": 53,
    "start_time": "2022-03-24T11:12:39.029Z"
   },
   {
    "duration": 49,
    "start_time": "2022-03-24T11:12:39.084Z"
   },
   {
    "duration": 368,
    "start_time": "2022-03-24T11:12:39.134Z"
   },
   {
    "duration": 82,
    "start_time": "2022-03-24T11:13:04.971Z"
   },
   {
    "duration": 26,
    "start_time": "2022-03-24T11:13:07.858Z"
   },
   {
    "duration": 151,
    "start_time": "2022-03-24T11:13:32.784Z"
   },
   {
    "duration": 78,
    "start_time": "2022-03-24T11:13:35.425Z"
   },
   {
    "duration": 4,
    "start_time": "2022-03-24T11:20:13.924Z"
   },
   {
    "duration": 840,
    "start_time": "2022-03-24T11:20:27.497Z"
   },
   {
    "duration": 1471,
    "start_time": "2022-03-24T11:20:32.835Z"
   },
   {
    "duration": 161,
    "start_time": "2022-03-24T11:20:34.308Z"
   },
   {
    "duration": 13,
    "start_time": "2022-03-24T11:20:34.471Z"
   },
   {
    "duration": 6,
    "start_time": "2022-03-24T11:20:34.487Z"
   },
   {
    "duration": 32,
    "start_time": "2022-03-24T11:20:34.495Z"
   },
   {
    "duration": 11,
    "start_time": "2022-03-24T11:20:34.529Z"
   },
   {
    "duration": 77,
    "start_time": "2022-03-24T11:20:34.542Z"
   },
   {
    "duration": 9,
    "start_time": "2022-03-24T11:20:34.621Z"
   },
   {
    "duration": 22,
    "start_time": "2022-03-24T11:20:34.632Z"
   },
   {
    "duration": 61,
    "start_time": "2022-03-24T11:20:34.660Z"
   },
   {
    "duration": 13,
    "start_time": "2022-03-24T11:20:34.723Z"
   },
   {
    "duration": 232,
    "start_time": "2022-03-24T11:20:34.738Z"
   },
   {
    "duration": 257,
    "start_time": "2022-03-24T11:20:34.973Z"
   },
   {
    "duration": 581,
    "start_time": "2022-03-24T11:20:35.233Z"
   },
   {
    "duration": 178,
    "start_time": "2022-03-24T11:20:35.816Z"
   },
   {
    "duration": 6,
    "start_time": "2022-03-24T11:20:35.996Z"
   },
   {
    "duration": 41,
    "start_time": "2022-03-24T11:20:36.004Z"
   },
   {
    "duration": 28,
    "start_time": "2022-03-24T11:20:36.048Z"
   },
   {
    "duration": 32,
    "start_time": "2022-03-24T11:20:36.078Z"
   },
   {
    "duration": 140,
    "start_time": "2022-03-24T11:20:36.113Z"
   },
   {
    "duration": 0,
    "start_time": "2022-03-24T11:20:36.255Z"
   },
   {
    "duration": 0,
    "start_time": "2022-03-24T11:20:36.257Z"
   },
   {
    "duration": 18,
    "start_time": "2022-03-24T11:21:46.075Z"
   },
   {
    "duration": 41,
    "start_time": "2022-03-24T11:22:04.077Z"
   },
   {
    "duration": 24,
    "start_time": "2022-03-24T11:22:51.134Z"
   },
   {
    "duration": 22,
    "start_time": "2022-03-24T11:22:56.001Z"
   },
   {
    "duration": 36,
    "start_time": "2022-03-24T11:23:17.159Z"
   },
   {
    "duration": 137,
    "start_time": "2022-03-24T11:23:21.428Z"
   },
   {
    "duration": 1382,
    "start_time": "2022-03-24T11:24:36.140Z"
   },
   {
    "duration": 144,
    "start_time": "2022-03-24T11:24:37.524Z"
   },
   {
    "duration": 14,
    "start_time": "2022-03-24T11:24:37.670Z"
   },
   {
    "duration": 8,
    "start_time": "2022-03-24T11:24:37.686Z"
   },
   {
    "duration": 18,
    "start_time": "2022-03-24T11:24:37.696Z"
   },
   {
    "duration": 11,
    "start_time": "2022-03-24T11:24:37.716Z"
   },
   {
    "duration": 90,
    "start_time": "2022-03-24T11:24:37.729Z"
   },
   {
    "duration": 8,
    "start_time": "2022-03-24T11:24:37.821Z"
   },
   {
    "duration": 17,
    "start_time": "2022-03-24T11:24:37.831Z"
   },
   {
    "duration": 54,
    "start_time": "2022-03-24T11:24:37.851Z"
   },
   {
    "duration": 9,
    "start_time": "2022-03-24T11:24:37.907Z"
   },
   {
    "duration": 221,
    "start_time": "2022-03-24T11:24:37.917Z"
   },
   {
    "duration": 249,
    "start_time": "2022-03-24T11:24:38.140Z"
   },
   {
    "duration": 581,
    "start_time": "2022-03-24T11:24:38.391Z"
   },
   {
    "duration": 182,
    "start_time": "2022-03-24T11:24:38.975Z"
   },
   {
    "duration": 5,
    "start_time": "2022-03-24T11:24:39.159Z"
   },
   {
    "duration": 43,
    "start_time": "2022-03-24T11:24:39.165Z"
   },
   {
    "duration": 196,
    "start_time": "2022-03-24T11:24:39.210Z"
   },
   {
    "duration": 0,
    "start_time": "2022-03-24T11:24:39.408Z"
   },
   {
    "duration": 0,
    "start_time": "2022-03-24T11:24:39.410Z"
   },
   {
    "duration": 0,
    "start_time": "2022-03-24T11:24:39.411Z"
   },
   {
    "duration": 0,
    "start_time": "2022-03-24T11:24:39.415Z"
   },
   {
    "duration": 21,
    "start_time": "2022-03-24T11:25:53.366Z"
   },
   {
    "duration": 22,
    "start_time": "2022-03-24T11:25:57.545Z"
   },
   {
    "duration": 1547,
    "start_time": "2022-03-24T11:26:03.308Z"
   },
   {
    "duration": 171,
    "start_time": "2022-03-24T11:26:04.857Z"
   },
   {
    "duration": 13,
    "start_time": "2022-03-24T11:26:05.030Z"
   },
   {
    "duration": 9,
    "start_time": "2022-03-24T11:26:05.045Z"
   },
   {
    "duration": 19,
    "start_time": "2022-03-24T11:26:05.057Z"
   },
   {
    "duration": 30,
    "start_time": "2022-03-24T11:26:05.078Z"
   },
   {
    "duration": 103,
    "start_time": "2022-03-24T11:26:05.110Z"
   },
   {
    "duration": 11,
    "start_time": "2022-03-24T11:26:05.216Z"
   },
   {
    "duration": 26,
    "start_time": "2022-03-24T11:26:05.230Z"
   },
   {
    "duration": 67,
    "start_time": "2022-03-24T11:26:05.259Z"
   },
   {
    "duration": 14,
    "start_time": "2022-03-24T11:26:05.328Z"
   },
   {
    "duration": 211,
    "start_time": "2022-03-24T11:26:05.344Z"
   },
   {
    "duration": 268,
    "start_time": "2022-03-24T11:26:05.557Z"
   },
   {
    "duration": 557,
    "start_time": "2022-03-24T11:26:05.828Z"
   },
   {
    "duration": 171,
    "start_time": "2022-03-24T11:26:06.387Z"
   },
   {
    "duration": 4,
    "start_time": "2022-03-24T11:26:06.561Z"
   },
   {
    "duration": 38,
    "start_time": "2022-03-24T11:26:06.567Z"
   },
   {
    "duration": 29,
    "start_time": "2022-03-24T11:26:06.607Z"
   },
   {
    "duration": 13,
    "start_time": "2022-03-24T11:26:06.638Z"
   },
   {
    "duration": 133,
    "start_time": "2022-03-24T11:26:06.653Z"
   },
   {
    "duration": 0,
    "start_time": "2022-03-24T11:26:06.788Z"
   },
   {
    "duration": 0,
    "start_time": "2022-03-24T11:26:06.790Z"
   },
   {
    "duration": 21,
    "start_time": "2022-03-24T11:27:10.144Z"
   },
   {
    "duration": 16,
    "start_time": "2022-03-24T11:27:13.887Z"
   },
   {
    "duration": 1394,
    "start_time": "2022-03-24T11:27:42.233Z"
   },
   {
    "duration": 144,
    "start_time": "2022-03-24T11:27:43.630Z"
   },
   {
    "duration": 13,
    "start_time": "2022-03-24T11:27:43.777Z"
   },
   {
    "duration": 11,
    "start_time": "2022-03-24T11:27:43.793Z"
   },
   {
    "duration": 27,
    "start_time": "2022-03-24T11:27:43.807Z"
   },
   {
    "duration": 17,
    "start_time": "2022-03-24T11:27:43.836Z"
   },
   {
    "duration": 79,
    "start_time": "2022-03-24T11:27:43.855Z"
   },
   {
    "duration": 8,
    "start_time": "2022-03-24T11:27:43.936Z"
   },
   {
    "duration": 19,
    "start_time": "2022-03-24T11:27:43.946Z"
   },
   {
    "duration": 23,
    "start_time": "2022-03-24T11:27:44.001Z"
   },
   {
    "duration": 12,
    "start_time": "2022-03-24T11:27:44.026Z"
   },
   {
    "duration": 226,
    "start_time": "2022-03-24T11:27:44.040Z"
   },
   {
    "duration": 257,
    "start_time": "2022-03-24T11:27:44.268Z"
   },
   {
    "duration": 563,
    "start_time": "2022-03-24T11:27:44.528Z"
   },
   {
    "duration": 182,
    "start_time": "2022-03-24T11:27:45.093Z"
   },
   {
    "duration": 4,
    "start_time": "2022-03-24T11:27:45.278Z"
   },
   {
    "duration": 38,
    "start_time": "2022-03-24T11:27:45.284Z"
   },
   {
    "duration": 128,
    "start_time": "2022-03-24T11:27:45.325Z"
   },
   {
    "duration": 0,
    "start_time": "2022-03-24T11:27:45.456Z"
   },
   {
    "duration": 0,
    "start_time": "2022-03-24T11:27:45.457Z"
   },
   {
    "duration": 0,
    "start_time": "2022-03-24T11:27:45.459Z"
   },
   {
    "duration": 0,
    "start_time": "2022-03-24T11:27:45.461Z"
   },
   {
    "duration": 24,
    "start_time": "2022-03-24T11:28:06.384Z"
   },
   {
    "duration": 44,
    "start_time": "2022-03-24T11:29:15.893Z"
   },
   {
    "duration": 36,
    "start_time": "2022-03-24T11:29:28.085Z"
   },
   {
    "duration": 1427,
    "start_time": "2022-03-24T11:29:36.540Z"
   },
   {
    "duration": 151,
    "start_time": "2022-03-24T11:29:37.970Z"
   },
   {
    "duration": 12,
    "start_time": "2022-03-24T11:29:38.122Z"
   },
   {
    "duration": 23,
    "start_time": "2022-03-24T11:29:38.136Z"
   },
   {
    "duration": 21,
    "start_time": "2022-03-24T11:29:38.162Z"
   },
   {
    "duration": 21,
    "start_time": "2022-03-24T11:29:38.185Z"
   },
   {
    "duration": 93,
    "start_time": "2022-03-24T11:29:38.208Z"
   },
   {
    "duration": 9,
    "start_time": "2022-03-24T11:29:38.303Z"
   },
   {
    "duration": 42,
    "start_time": "2022-03-24T11:29:38.314Z"
   },
   {
    "duration": 21,
    "start_time": "2022-03-24T11:29:38.358Z"
   },
   {
    "duration": 23,
    "start_time": "2022-03-24T11:29:38.381Z"
   },
   {
    "duration": 216,
    "start_time": "2022-03-24T11:29:38.406Z"
   },
   {
    "duration": 256,
    "start_time": "2022-03-24T11:29:38.624Z"
   },
   {
    "duration": 599,
    "start_time": "2022-03-24T11:29:38.884Z"
   },
   {
    "duration": 182,
    "start_time": "2022-03-24T11:29:39.486Z"
   },
   {
    "duration": 5,
    "start_time": "2022-03-24T11:29:39.671Z"
   },
   {
    "duration": 45,
    "start_time": "2022-03-24T11:29:39.678Z"
   },
   {
    "duration": 21,
    "start_time": "2022-03-24T11:29:39.726Z"
   },
   {
    "duration": 31,
    "start_time": "2022-03-24T11:29:39.750Z"
   },
   {
    "duration": 37,
    "start_time": "2022-03-24T11:29:39.784Z"
   },
   {
    "duration": 33,
    "start_time": "2022-03-24T11:29:39.824Z"
   },
   {
    "duration": 652,
    "start_time": "2022-03-24T11:29:39.859Z"
   },
   {
    "duration": 122,
    "start_time": "2022-03-24T11:30:52.016Z"
   },
   {
    "duration": 78,
    "start_time": "2022-03-24T11:31:10.330Z"
   },
   {
    "duration": 87,
    "start_time": "2022-03-24T11:37:51.744Z"
   },
   {
    "duration": 99,
    "start_time": "2022-03-24T11:37:55.446Z"
   },
   {
    "duration": 289,
    "start_time": "2022-03-24T11:38:18.738Z"
   },
   {
    "duration": 1419,
    "start_time": "2022-03-24T11:38:23.171Z"
   },
   {
    "duration": 300,
    "start_time": "2022-03-24T11:38:24.593Z"
   },
   {
    "duration": 18,
    "start_time": "2022-03-24T11:38:24.896Z"
   },
   {
    "duration": 3,
    "start_time": "2022-03-24T11:38:24.917Z"
   },
   {
    "duration": 27,
    "start_time": "2022-03-24T11:38:24.923Z"
   },
   {
    "duration": 10,
    "start_time": "2022-03-24T11:38:24.952Z"
   },
   {
    "duration": 101,
    "start_time": "2022-03-24T11:38:24.965Z"
   },
   {
    "duration": 9,
    "start_time": "2022-03-24T11:38:25.101Z"
   },
   {
    "duration": 23,
    "start_time": "2022-03-24T11:38:25.112Z"
   },
   {
    "duration": 23,
    "start_time": "2022-03-24T11:38:25.137Z"
   },
   {
    "duration": 8,
    "start_time": "2022-03-24T11:38:25.164Z"
   },
   {
    "duration": 217,
    "start_time": "2022-03-24T11:38:25.202Z"
   },
   {
    "duration": 258,
    "start_time": "2022-03-24T11:38:25.422Z"
   },
   {
    "duration": 622,
    "start_time": "2022-03-24T11:38:25.683Z"
   },
   {
    "duration": 173,
    "start_time": "2022-03-24T11:38:26.307Z"
   },
   {
    "duration": 5,
    "start_time": "2022-03-24T11:38:26.481Z"
   },
   {
    "duration": 41,
    "start_time": "2022-03-24T11:38:26.488Z"
   },
   {
    "duration": 46,
    "start_time": "2022-03-24T11:38:26.530Z"
   },
   {
    "duration": 13,
    "start_time": "2022-03-24T11:38:26.578Z"
   },
   {
    "duration": 43,
    "start_time": "2022-03-24T11:38:26.593Z"
   },
   {
    "duration": 29,
    "start_time": "2022-03-24T11:38:26.637Z"
   },
   {
    "duration": 376,
    "start_time": "2022-03-24T11:38:26.668Z"
   },
   {
    "duration": 26,
    "start_time": "2022-03-24T11:38:32.505Z"
   },
   {
    "duration": 22,
    "start_time": "2022-03-24T11:38:33.749Z"
   },
   {
    "duration": 42,
    "start_time": "2022-03-24T11:39:06.258Z"
   },
   {
    "duration": 60,
    "start_time": "2022-03-24T11:39:09.125Z"
   },
   {
    "duration": 1379,
    "start_time": "2022-03-24T11:39:16.358Z"
   },
   {
    "duration": 177,
    "start_time": "2022-03-24T11:39:17.739Z"
   },
   {
    "duration": 14,
    "start_time": "2022-03-24T11:39:17.918Z"
   },
   {
    "duration": 6,
    "start_time": "2022-03-24T11:39:17.934Z"
   },
   {
    "duration": 21,
    "start_time": "2022-03-24T11:39:17.943Z"
   },
   {
    "duration": 36,
    "start_time": "2022-03-24T11:39:17.967Z"
   },
   {
    "duration": 115,
    "start_time": "2022-03-24T11:39:18.006Z"
   },
   {
    "duration": 9,
    "start_time": "2022-03-24T11:39:18.122Z"
   },
   {
    "duration": 38,
    "start_time": "2022-03-24T11:39:18.133Z"
   },
   {
    "duration": 40,
    "start_time": "2022-03-24T11:39:18.174Z"
   },
   {
    "duration": 10,
    "start_time": "2022-03-24T11:39:18.217Z"
   },
   {
    "duration": 221,
    "start_time": "2022-03-24T11:39:18.229Z"
   },
   {
    "duration": 262,
    "start_time": "2022-03-24T11:39:18.452Z"
   },
   {
    "duration": 565,
    "start_time": "2022-03-24T11:39:18.716Z"
   },
   {
    "duration": 187,
    "start_time": "2022-03-24T11:39:19.282Z"
   },
   {
    "duration": 4,
    "start_time": "2022-03-24T11:39:19.471Z"
   },
   {
    "duration": 43,
    "start_time": "2022-03-24T11:39:19.478Z"
   },
   {
    "duration": 32,
    "start_time": "2022-03-24T11:39:19.523Z"
   },
   {
    "duration": 12,
    "start_time": "2022-03-24T11:39:19.557Z"
   },
   {
    "duration": 43,
    "start_time": "2022-03-24T11:39:19.571Z"
   },
   {
    "duration": 40,
    "start_time": "2022-03-24T11:39:19.617Z"
   },
   {
    "duration": 377,
    "start_time": "2022-03-24T11:39:19.658Z"
   },
   {
    "duration": 16,
    "start_time": "2022-03-24T11:48:38.376Z"
   },
   {
    "duration": 21,
    "start_time": "2022-03-24T11:48:46.827Z"
   },
   {
    "duration": 17,
    "start_time": "2022-03-24T11:49:10.551Z"
   },
   {
    "duration": 15,
    "start_time": "2022-03-24T11:49:40.240Z"
   },
   {
    "duration": 16,
    "start_time": "2022-03-24T11:49:55.879Z"
   },
   {
    "duration": 11,
    "start_time": "2022-03-24T11:50:33.656Z"
   },
   {
    "duration": 12,
    "start_time": "2022-03-24T11:50:48.244Z"
   },
   {
    "duration": 12,
    "start_time": "2022-03-24T11:50:58.777Z"
   },
   {
    "duration": 11,
    "start_time": "2022-03-24T11:51:02.673Z"
   },
   {
    "duration": 11,
    "start_time": "2022-03-24T11:51:15.582Z"
   },
   {
    "duration": 15,
    "start_time": "2022-03-24T11:51:19.032Z"
   },
   {
    "duration": 297,
    "start_time": "2022-03-24T11:56:46.100Z"
   },
   {
    "duration": 292,
    "start_time": "2022-03-24T11:57:06.987Z"
   },
   {
    "duration": 319,
    "start_time": "2022-03-24T11:57:13.339Z"
   },
   {
    "duration": 381,
    "start_time": "2022-03-24T12:14:43.641Z"
   },
   {
    "duration": 427,
    "start_time": "2022-03-24T12:15:27.089Z"
   },
   {
    "duration": 55,
    "start_time": "2022-03-24T16:35:54.439Z"
   },
   {
    "duration": 1598,
    "start_time": "2022-03-24T16:36:01.477Z"
   },
   {
    "duration": 361,
    "start_time": "2022-03-24T16:36:03.078Z"
   },
   {
    "duration": 9,
    "start_time": "2022-03-24T16:36:03.442Z"
   },
   {
    "duration": 5,
    "start_time": "2022-03-24T16:36:03.452Z"
   },
   {
    "duration": 15,
    "start_time": "2022-03-24T16:36:03.460Z"
   },
   {
    "duration": 15,
    "start_time": "2022-03-24T16:36:03.476Z"
   },
   {
    "duration": 54,
    "start_time": "2022-03-24T16:36:03.492Z"
   },
   {
    "duration": 34,
    "start_time": "2022-03-24T16:36:03.547Z"
   },
   {
    "duration": 19,
    "start_time": "2022-03-24T16:36:03.587Z"
   },
   {
    "duration": 28,
    "start_time": "2022-03-24T16:36:03.608Z"
   },
   {
    "duration": 8,
    "start_time": "2022-03-24T16:36:03.638Z"
   },
   {
    "duration": 270,
    "start_time": "2022-03-24T16:36:03.648Z"
   },
   {
    "duration": 229,
    "start_time": "2022-03-24T16:36:03.919Z"
   },
   {
    "duration": 688,
    "start_time": "2022-03-24T16:36:04.150Z"
   },
   {
    "duration": 166,
    "start_time": "2022-03-24T16:36:04.840Z"
   },
   {
    "duration": 4,
    "start_time": "2022-03-24T16:36:05.007Z"
   },
   {
    "duration": 28,
    "start_time": "2022-03-24T16:36:05.013Z"
   },
   {
    "duration": 47,
    "start_time": "2022-03-24T16:36:05.043Z"
   },
   {
    "duration": 12,
    "start_time": "2022-03-24T16:36:05.092Z"
   },
   {
    "duration": 16,
    "start_time": "2022-03-24T16:36:05.105Z"
   },
   {
    "duration": 22,
    "start_time": "2022-03-24T16:36:05.123Z"
   },
   {
    "duration": 487,
    "start_time": "2022-03-24T16:36:05.146Z"
   },
   {
    "duration": 391,
    "start_time": "2022-03-24T16:36:12.755Z"
   },
   {
    "duration": 355,
    "start_time": "2022-03-24T16:36:49.209Z"
   },
   {
    "duration": 365,
    "start_time": "2022-03-24T16:36:57.942Z"
   },
   {
    "duration": 355,
    "start_time": "2022-03-24T16:39:31.217Z"
   },
   {
    "duration": 359,
    "start_time": "2022-03-24T16:39:37.016Z"
   },
   {
    "duration": 465,
    "start_time": "2022-03-24T16:39:45.309Z"
   },
   {
    "duration": 399,
    "start_time": "2022-03-24T16:39:51.951Z"
   },
   {
    "duration": 13,
    "start_time": "2022-03-24T16:44:40.600Z"
   },
   {
    "duration": 9,
    "start_time": "2022-03-24T16:44:49.297Z"
   },
   {
    "duration": 10,
    "start_time": "2022-03-24T16:44:53.367Z"
   },
   {
    "duration": 9,
    "start_time": "2022-03-24T16:44:56.220Z"
   },
   {
    "duration": 11,
    "start_time": "2022-03-24T16:45:01.301Z"
   },
   {
    "duration": 10,
    "start_time": "2022-03-24T16:45:04.302Z"
   },
   {
    "duration": 20,
    "start_time": "2022-03-24T16:48:38.510Z"
   },
   {
    "duration": 6,
    "start_time": "2022-03-24T16:48:46.977Z"
   },
   {
    "duration": 6,
    "start_time": "2022-03-24T16:49:33.849Z"
   },
   {
    "duration": 14,
    "start_time": "2022-03-24T16:50:20.798Z"
   },
   {
    "duration": 146,
    "start_time": "2022-03-24T16:54:17.044Z"
   },
   {
    "duration": 143,
    "start_time": "2022-03-24T16:54:21.349Z"
   },
   {
    "duration": 227,
    "start_time": "2022-03-24T16:54:26.428Z"
   },
   {
    "duration": 136,
    "start_time": "2022-03-24T16:54:37.659Z"
   },
   {
    "duration": 360,
    "start_time": "2022-03-24T16:56:04.949Z"
   },
   {
    "duration": 336,
    "start_time": "2022-03-24T16:56:10.189Z"
   },
   {
    "duration": 208,
    "start_time": "2022-03-24T16:56:41.148Z"
   },
   {
    "duration": 287,
    "start_time": "2022-03-24T16:56:51.371Z"
   },
   {
    "duration": 5,
    "start_time": "2022-03-24T16:56:58.989Z"
   },
   {
    "duration": 339,
    "start_time": "2022-03-24T16:57:07.156Z"
   },
   {
    "duration": 3,
    "start_time": "2022-03-24T16:59:25.829Z"
   },
   {
    "duration": 1279,
    "start_time": "2022-03-24T17:00:17.594Z"
   },
   {
    "duration": 189,
    "start_time": "2022-03-24T17:00:18.875Z"
   },
   {
    "duration": 11,
    "start_time": "2022-03-24T17:00:19.066Z"
   },
   {
    "duration": 19,
    "start_time": "2022-03-24T17:00:19.078Z"
   },
   {
    "duration": 9,
    "start_time": "2022-03-24T17:00:19.098Z"
   },
   {
    "duration": 85,
    "start_time": "2022-03-24T17:00:19.109Z"
   },
   {
    "duration": 7,
    "start_time": "2022-03-24T17:00:19.196Z"
   },
   {
    "duration": 15,
    "start_time": "2022-03-24T17:00:19.205Z"
   },
   {
    "duration": 14,
    "start_time": "2022-03-24T17:00:19.222Z"
   },
   {
    "duration": 8,
    "start_time": "2022-03-24T17:00:19.239Z"
   },
   {
    "duration": 291,
    "start_time": "2022-03-24T17:00:19.248Z"
   },
   {
    "duration": 364,
    "start_time": "2022-03-24T17:00:19.541Z"
   },
   {
    "duration": 90,
    "start_time": "2022-03-24T17:00:19.907Z"
   },
   {
    "duration": 745,
    "start_time": "2022-03-24T17:00:19.999Z"
   },
   {
    "duration": 215,
    "start_time": "2022-03-24T17:00:20.746Z"
   },
   {
    "duration": 4,
    "start_time": "2022-03-24T17:00:20.963Z"
   },
   {
    "duration": 46,
    "start_time": "2022-03-24T17:00:20.981Z"
   },
   {
    "duration": 48,
    "start_time": "2022-03-24T17:00:21.030Z"
   },
   {
    "duration": 12,
    "start_time": "2022-03-24T17:00:21.082Z"
   },
   {
    "duration": 33,
    "start_time": "2022-03-24T17:00:21.096Z"
   },
   {
    "duration": 29,
    "start_time": "2022-03-24T17:00:21.131Z"
   },
   {
    "duration": 493,
    "start_time": "2022-03-24T17:00:21.162Z"
   },
   {
    "duration": 1648,
    "start_time": "2022-03-24T17:01:22.502Z"
   },
   {
    "duration": 180,
    "start_time": "2022-03-24T17:01:24.152Z"
   },
   {
    "duration": 10,
    "start_time": "2022-03-24T17:01:24.333Z"
   },
   {
    "duration": 14,
    "start_time": "2022-03-24T17:01:24.345Z"
   },
   {
    "duration": 8,
    "start_time": "2022-03-24T17:01:24.360Z"
   },
   {
    "duration": 44,
    "start_time": "2022-03-24T17:01:24.369Z"
   },
   {
    "duration": 7,
    "start_time": "2022-03-24T17:01:24.414Z"
   },
   {
    "duration": 17,
    "start_time": "2022-03-24T17:01:24.422Z"
   },
   {
    "duration": 51,
    "start_time": "2022-03-24T17:01:24.441Z"
   },
   {
    "duration": 8,
    "start_time": "2022-03-24T17:01:24.494Z"
   },
   {
    "duration": 167,
    "start_time": "2022-03-24T17:01:24.503Z"
   },
   {
    "duration": 215,
    "start_time": "2022-03-24T17:01:24.672Z"
   },
   {
    "duration": 229,
    "start_time": "2022-03-24T17:01:24.889Z"
   },
   {
    "duration": 492,
    "start_time": "2022-03-24T17:01:25.120Z"
   },
   {
    "duration": 141,
    "start_time": "2022-03-24T17:01:25.613Z"
   },
   {
    "duration": 3,
    "start_time": "2022-03-24T17:01:25.756Z"
   },
   {
    "duration": 33,
    "start_time": "2022-03-24T17:01:25.760Z"
   },
   {
    "duration": 25,
    "start_time": "2022-03-24T17:01:25.794Z"
   },
   {
    "duration": 10,
    "start_time": "2022-03-24T17:01:25.820Z"
   },
   {
    "duration": 11,
    "start_time": "2022-03-24T17:01:25.831Z"
   },
   {
    "duration": 46,
    "start_time": "2022-03-24T17:01:25.843Z"
   },
   {
    "duration": 532,
    "start_time": "2022-03-24T17:01:25.891Z"
   },
   {
    "duration": 371,
    "start_time": "2022-03-24T17:01:35.306Z"
   },
   {
    "duration": 367,
    "start_time": "2022-03-24T17:02:14.985Z"
   },
   {
    "duration": 1242,
    "start_time": "2022-03-24T17:02:36.098Z"
   },
   {
    "duration": 162,
    "start_time": "2022-03-24T17:02:37.343Z"
   },
   {
    "duration": 11,
    "start_time": "2022-03-24T17:02:37.507Z"
   },
   {
    "duration": 16,
    "start_time": "2022-03-24T17:02:37.521Z"
   },
   {
    "duration": 8,
    "start_time": "2022-03-24T17:02:37.539Z"
   },
   {
    "duration": 67,
    "start_time": "2022-03-24T17:02:37.549Z"
   },
   {
    "duration": 6,
    "start_time": "2022-03-24T17:02:37.618Z"
   },
   {
    "duration": 17,
    "start_time": "2022-03-24T17:02:37.626Z"
   },
   {
    "duration": 47,
    "start_time": "2022-03-24T17:02:37.645Z"
   },
   {
    "duration": 7,
    "start_time": "2022-03-24T17:02:37.694Z"
   },
   {
    "duration": 162,
    "start_time": "2022-03-24T17:02:37.703Z"
   },
   {
    "duration": 214,
    "start_time": "2022-03-24T17:02:37.867Z"
   },
   {
    "duration": 247,
    "start_time": "2022-03-24T17:02:38.082Z"
   },
   {
    "duration": 487,
    "start_time": "2022-03-24T17:02:38.331Z"
   },
   {
    "duration": 151,
    "start_time": "2022-03-24T17:02:38.820Z"
   },
   {
    "duration": 9,
    "start_time": "2022-03-24T17:02:38.972Z"
   },
   {
    "duration": 36,
    "start_time": "2022-03-24T17:02:38.982Z"
   },
   {
    "duration": 43,
    "start_time": "2022-03-24T17:02:39.020Z"
   },
   {
    "duration": 32,
    "start_time": "2022-03-24T17:02:39.066Z"
   },
   {
    "duration": 16,
    "start_time": "2022-03-24T17:02:39.101Z"
   },
   {
    "duration": 36,
    "start_time": "2022-03-24T17:02:39.120Z"
   },
   {
    "duration": 399,
    "start_time": "2022-03-24T17:02:39.180Z"
   },
   {
    "duration": 221,
    "start_time": "2022-03-24T17:03:10.790Z"
   },
   {
    "duration": 203,
    "start_time": "2022-03-24T17:03:17.540Z"
   },
   {
    "duration": 416,
    "start_time": "2022-03-24T17:08:49.966Z"
   },
   {
    "duration": 130,
    "start_time": "2022-03-24T17:09:06.342Z"
   },
   {
    "duration": 137,
    "start_time": "2022-03-24T17:09:56.145Z"
   },
   {
    "duration": 19,
    "start_time": "2022-03-24T17:19:24.713Z"
   },
   {
    "duration": 10,
    "start_time": "2022-03-24T17:19:29.922Z"
   },
   {
    "duration": 9,
    "start_time": "2022-03-24T17:19:44.830Z"
   },
   {
    "duration": 18,
    "start_time": "2022-03-24T17:20:00.934Z"
   },
   {
    "duration": 14,
    "start_time": "2022-03-24T17:20:04.062Z"
   },
   {
    "duration": 19,
    "start_time": "2022-03-24T17:20:08.361Z"
   },
   {
    "duration": 10,
    "start_time": "2022-03-24T17:20:10.201Z"
   },
   {
    "duration": 13,
    "start_time": "2022-03-24T17:20:16.932Z"
   },
   {
    "duration": 13,
    "start_time": "2022-03-24T17:20:19.762Z"
   },
   {
    "duration": 16,
    "start_time": "2022-03-24T17:20:33.482Z"
   },
   {
    "duration": 13,
    "start_time": "2022-03-24T17:20:40.117Z"
   },
   {
    "duration": 12,
    "start_time": "2022-03-24T17:27:30.464Z"
   },
   {
    "duration": 9,
    "start_time": "2022-03-24T17:43:47.562Z"
   },
   {
    "duration": 11,
    "start_time": "2022-03-24T17:44:13.071Z"
   },
   {
    "duration": 11,
    "start_time": "2022-03-24T17:44:15.262Z"
   },
   {
    "duration": 12,
    "start_time": "2022-03-24T17:44:22.043Z"
   },
   {
    "duration": 9,
    "start_time": "2022-03-24T18:15:47.762Z"
   },
   {
    "duration": 9,
    "start_time": "2022-03-24T18:15:59.505Z"
   },
   {
    "duration": 10,
    "start_time": "2022-03-24T18:16:12.296Z"
   },
   {
    "duration": 9,
    "start_time": "2022-03-24T18:16:20.311Z"
   },
   {
    "duration": 11,
    "start_time": "2022-03-24T18:16:24.787Z"
   },
   {
    "duration": 9,
    "start_time": "2022-03-24T18:16:44.461Z"
   },
   {
    "duration": 11,
    "start_time": "2022-03-24T18:16:46.449Z"
   },
   {
    "duration": 377,
    "start_time": "2022-03-24T18:26:16.744Z"
   },
   {
    "duration": 376,
    "start_time": "2022-03-24T18:26:25.991Z"
   },
   {
    "duration": 341,
    "start_time": "2022-03-24T18:27:11.025Z"
   },
   {
    "duration": 321,
    "start_time": "2022-03-24T18:38:44.342Z"
   },
   {
    "duration": 266,
    "start_time": "2022-03-24T18:38:52.789Z"
   },
   {
    "duration": 402,
    "start_time": "2022-03-24T18:39:23.565Z"
   },
   {
    "duration": 328,
    "start_time": "2022-03-24T18:39:44.442Z"
   },
   {
    "duration": 336,
    "start_time": "2022-03-24T18:39:49.003Z"
   },
   {
    "duration": 338,
    "start_time": "2022-03-24T18:52:44.622Z"
   },
   {
    "duration": 481,
    "start_time": "2022-03-24T18:53:24.824Z"
   },
   {
    "duration": 2907,
    "start_time": "2022-03-24T18:55:08.089Z"
   },
   {
    "duration": 4399,
    "start_time": "2022-03-24T18:55:43.902Z"
   },
   {
    "duration": 2417,
    "start_time": "2022-03-24T18:56:11.289Z"
   },
   {
    "duration": 2593,
    "start_time": "2022-03-24T18:58:11.392Z"
   },
   {
    "duration": 3329,
    "start_time": "2022-03-24T18:58:31.029Z"
   },
   {
    "duration": 3177,
    "start_time": "2022-03-24T19:00:21.248Z"
   },
   {
    "duration": 3309,
    "start_time": "2022-03-24T19:00:34.901Z"
   },
   {
    "duration": 344,
    "start_time": "2022-03-24T19:01:57.550Z"
   },
   {
    "duration": 229,
    "start_time": "2022-03-24T19:02:21.185Z"
   },
   {
    "duration": 148,
    "start_time": "2022-03-24T19:02:24.743Z"
   },
   {
    "duration": 317,
    "start_time": "2022-03-24T19:02:40.381Z"
   },
   {
    "duration": 1277,
    "start_time": "2022-03-24T19:02:50.078Z"
   },
   {
    "duration": 194,
    "start_time": "2022-03-24T19:02:51.357Z"
   },
   {
    "duration": 10,
    "start_time": "2022-03-24T19:02:51.553Z"
   },
   {
    "duration": 19,
    "start_time": "2022-03-24T19:02:51.565Z"
   },
   {
    "duration": 8,
    "start_time": "2022-03-24T19:02:51.585Z"
   },
   {
    "duration": 43,
    "start_time": "2022-03-24T19:02:51.595Z"
   },
   {
    "duration": 46,
    "start_time": "2022-03-24T19:02:51.639Z"
   },
   {
    "duration": 25,
    "start_time": "2022-03-24T19:02:51.687Z"
   },
   {
    "duration": 21,
    "start_time": "2022-03-24T19:02:51.713Z"
   },
   {
    "duration": 7,
    "start_time": "2022-03-24T19:02:51.736Z"
   },
   {
    "duration": 161,
    "start_time": "2022-03-24T19:02:51.744Z"
   },
   {
    "duration": 270,
    "start_time": "2022-03-24T19:02:51.906Z"
   },
   {
    "duration": 278,
    "start_time": "2022-03-24T19:02:52.180Z"
   },
   {
    "duration": 142,
    "start_time": "2022-03-24T19:02:52.460Z"
   },
   {
    "duration": 4,
    "start_time": "2022-03-24T19:02:52.604Z"
   },
   {
    "duration": 29,
    "start_time": "2022-03-24T19:02:52.609Z"
   },
   {
    "duration": 25,
    "start_time": "2022-03-24T19:02:52.640Z"
   },
   {
    "duration": 10,
    "start_time": "2022-03-24T19:02:52.681Z"
   },
   {
    "duration": 14,
    "start_time": "2022-03-24T19:02:52.692Z"
   },
   {
    "duration": 32,
    "start_time": "2022-03-24T19:02:52.707Z"
   },
   {
    "duration": 477,
    "start_time": "2022-03-24T19:02:52.740Z"
   },
   {
    "duration": 385,
    "start_time": "2022-03-24T19:03:05.768Z"
   },
   {
    "duration": 2730,
    "start_time": "2022-03-24T19:08:07.805Z"
   },
   {
    "duration": 3258,
    "start_time": "2022-03-24T19:08:31.435Z"
   },
   {
    "duration": 3101,
    "start_time": "2022-03-24T19:09:54.658Z"
   },
   {
    "duration": 296,
    "start_time": "2022-03-24T19:11:11.475Z"
   },
   {
    "duration": 52,
    "start_time": "2022-03-25T08:31:09.923Z"
   },
   {
    "duration": 1933,
    "start_time": "2022-03-25T08:31:15.410Z"
   },
   {
    "duration": 243,
    "start_time": "2022-03-25T08:31:17.346Z"
   },
   {
    "duration": 13,
    "start_time": "2022-03-25T08:31:17.591Z"
   },
   {
    "duration": 17,
    "start_time": "2022-03-25T08:31:17.606Z"
   },
   {
    "duration": 11,
    "start_time": "2022-03-25T08:31:17.625Z"
   },
   {
    "duration": 88,
    "start_time": "2022-03-25T08:31:17.639Z"
   },
   {
    "duration": 9,
    "start_time": "2022-03-25T08:31:17.729Z"
   },
   {
    "duration": 16,
    "start_time": "2022-03-25T08:31:17.740Z"
   },
   {
    "duration": 61,
    "start_time": "2022-03-25T08:31:17.758Z"
   },
   {
    "duration": 10,
    "start_time": "2022-03-25T08:31:17.820Z"
   },
   {
    "duration": 192,
    "start_time": "2022-03-25T08:31:17.832Z"
   },
   {
    "duration": 234,
    "start_time": "2022-03-25T08:31:18.026Z"
   },
   {
    "duration": 391,
    "start_time": "2022-03-25T08:31:18.262Z"
   },
   {
    "duration": 166,
    "start_time": "2022-03-25T08:31:18.657Z"
   },
   {
    "duration": 4,
    "start_time": "2022-03-25T08:31:18.826Z"
   },
   {
    "duration": 28,
    "start_time": "2022-03-25T08:31:18.832Z"
   },
   {
    "duration": 52,
    "start_time": "2022-03-25T08:31:18.862Z"
   },
   {
    "duration": 13,
    "start_time": "2022-03-25T08:31:18.916Z"
   },
   {
    "duration": 17,
    "start_time": "2022-03-25T08:31:18.931Z"
   },
   {
    "duration": 58,
    "start_time": "2022-03-25T08:31:18.951Z"
   },
   {
    "duration": 415,
    "start_time": "2022-03-25T08:31:19.011Z"
   },
   {
    "duration": 441,
    "start_time": "2022-03-25T08:34:10.463Z"
   },
   {
    "duration": 340,
    "start_time": "2022-03-25T08:34:33.335Z"
   },
   {
    "duration": 362,
    "start_time": "2022-03-25T08:35:25.122Z"
   },
   {
    "duration": 116,
    "start_time": "2022-03-25T08:44:10.634Z"
   },
   {
    "duration": 17,
    "start_time": "2022-03-25T08:44:24.824Z"
   },
   {
    "duration": 191,
    "start_time": "2022-03-25T08:45:07.401Z"
   },
   {
    "duration": 18,
    "start_time": "2022-03-25T08:46:46.734Z"
   },
   {
    "duration": 383,
    "start_time": "2022-03-25T10:07:03.110Z"
   },
   {
    "duration": 8416,
    "start_time": "2022-03-25T10:11:13.471Z"
   },
   {
    "duration": 19417,
    "start_time": "2022-03-25T10:11:33.277Z"
   },
   {
    "duration": 3367,
    "start_time": "2022-03-25T10:12:53.280Z"
   },
   {
    "duration": 3118,
    "start_time": "2022-03-25T10:13:17.484Z"
   },
   {
    "duration": 323,
    "start_time": "2022-03-25T10:13:50.304Z"
   },
   {
    "duration": 4817,
    "start_time": "2022-03-25T19:28:50.994Z"
   },
   {
    "duration": 819,
    "start_time": "2022-03-25T19:28:55.886Z"
   },
   {
    "duration": 0,
    "start_time": "2022-03-25T19:28:56.708Z"
   },
   {
    "duration": 0,
    "start_time": "2022-03-25T19:28:56.709Z"
   },
   {
    "duration": 0,
    "start_time": "2022-03-25T19:28:56.710Z"
   },
   {
    "duration": 0,
    "start_time": "2022-03-25T19:28:56.785Z"
   },
   {
    "duration": 0,
    "start_time": "2022-03-25T19:28:56.786Z"
   },
   {
    "duration": 0,
    "start_time": "2022-03-25T19:28:56.787Z"
   },
   {
    "duration": 0,
    "start_time": "2022-03-25T19:28:56.788Z"
   },
   {
    "duration": 0,
    "start_time": "2022-03-25T19:28:56.789Z"
   },
   {
    "duration": 0,
    "start_time": "2022-03-25T19:28:56.791Z"
   },
   {
    "duration": 0,
    "start_time": "2022-03-25T19:28:56.792Z"
   },
   {
    "duration": 0,
    "start_time": "2022-03-25T19:28:56.794Z"
   },
   {
    "duration": 0,
    "start_time": "2022-03-25T19:28:56.795Z"
   },
   {
    "duration": 0,
    "start_time": "2022-03-25T19:28:56.797Z"
   },
   {
    "duration": 0,
    "start_time": "2022-03-25T19:28:56.799Z"
   },
   {
    "duration": 0,
    "start_time": "2022-03-25T19:28:56.800Z"
   },
   {
    "duration": 0,
    "start_time": "2022-03-25T19:28:56.885Z"
   },
   {
    "duration": 0,
    "start_time": "2022-03-25T19:28:56.887Z"
   },
   {
    "duration": 0,
    "start_time": "2022-03-25T19:28:56.890Z"
   },
   {
    "duration": 0,
    "start_time": "2022-03-25T19:28:56.892Z"
   },
   {
    "duration": 76,
    "start_time": "2022-03-26T09:47:24.228Z"
   },
   {
    "duration": 2050,
    "start_time": "2022-03-26T09:47:33.211Z"
   },
   {
    "duration": 352,
    "start_time": "2022-03-26T09:47:35.264Z"
   },
   {
    "duration": 18,
    "start_time": "2022-03-26T09:47:35.624Z"
   },
   {
    "duration": 47,
    "start_time": "2022-03-26T09:47:35.645Z"
   },
   {
    "duration": 14,
    "start_time": "2022-03-26T09:47:35.695Z"
   },
   {
    "duration": 107,
    "start_time": "2022-03-26T09:47:35.711Z"
   },
   {
    "duration": 10,
    "start_time": "2022-03-26T09:47:35.820Z"
   },
   {
    "duration": 59,
    "start_time": "2022-03-26T09:47:35.833Z"
   },
   {
    "duration": 25,
    "start_time": "2022-03-26T09:47:35.896Z"
   },
   {
    "duration": 11,
    "start_time": "2022-03-26T09:47:35.924Z"
   },
   {
    "duration": 310,
    "start_time": "2022-03-26T09:47:35.938Z"
   },
   {
    "duration": 375,
    "start_time": "2022-03-26T09:47:36.251Z"
   },
   {
    "duration": 532,
    "start_time": "2022-03-26T09:47:36.628Z"
   },
   {
    "duration": 262,
    "start_time": "2022-03-26T09:47:37.162Z"
   },
   {
    "duration": 5,
    "start_time": "2022-03-26T09:47:37.426Z"
   },
   {
    "duration": 57,
    "start_time": "2022-03-26T09:47:37.433Z"
   },
   {
    "duration": 41,
    "start_time": "2022-03-26T09:47:37.492Z"
   },
   {
    "duration": 321,
    "start_time": "2022-03-26T09:47:37.536Z"
   },
   {
    "duration": 39,
    "start_time": "2022-03-26T09:47:37.859Z"
   },
   {
    "duration": 38,
    "start_time": "2022-03-26T09:47:37.900Z"
   },
   {
    "duration": 695,
    "start_time": "2022-03-26T09:47:37.941Z"
   },
   {
    "duration": 231,
    "start_time": "2022-03-26T09:48:13.148Z"
   },
   {
    "duration": 151,
    "start_time": "2022-03-26T09:49:08.345Z"
   },
   {
    "duration": 12,
    "start_time": "2022-03-26T09:51:10.506Z"
   },
   {
    "duration": 11,
    "start_time": "2022-03-26T09:51:14.027Z"
   },
   {
    "duration": 1521,
    "start_time": "2022-03-26T09:51:38.405Z"
   },
   {
    "duration": 157,
    "start_time": "2022-03-26T09:51:39.928Z"
   },
   {
    "duration": 16,
    "start_time": "2022-03-26T09:51:40.088Z"
   },
   {
    "duration": 22,
    "start_time": "2022-03-26T09:51:40.108Z"
   },
   {
    "duration": 13,
    "start_time": "2022-03-26T09:51:40.133Z"
   },
   {
    "duration": 139,
    "start_time": "2022-03-26T09:51:40.148Z"
   },
   {
    "duration": 10,
    "start_time": "2022-03-26T09:51:40.289Z"
   },
   {
    "duration": 25,
    "start_time": "2022-03-26T09:51:40.301Z"
   },
   {
    "duration": 21,
    "start_time": "2022-03-26T09:51:40.329Z"
   },
   {
    "duration": 12,
    "start_time": "2022-03-26T09:51:40.383Z"
   },
   {
    "duration": 297,
    "start_time": "2022-03-26T09:51:40.398Z"
   },
   {
    "duration": 486,
    "start_time": "2022-03-26T09:51:40.698Z"
   },
   {
    "duration": 515,
    "start_time": "2022-03-26T09:51:41.186Z"
   },
   {
    "duration": 270,
    "start_time": "2022-03-26T09:51:41.703Z"
   },
   {
    "duration": 11,
    "start_time": "2022-03-26T09:51:41.975Z"
   },
   {
    "duration": 60,
    "start_time": "2022-03-26T09:51:41.988Z"
   },
   {
    "duration": 50,
    "start_time": "2022-03-26T09:51:42.050Z"
   },
   {
    "duration": 332,
    "start_time": "2022-03-26T09:51:42.103Z"
   },
   {
    "duration": 28,
    "start_time": "2022-03-26T09:51:42.437Z"
   },
   {
    "duration": 36,
    "start_time": "2022-03-26T09:51:42.483Z"
   },
   {
    "duration": 670,
    "start_time": "2022-03-26T09:51:42.522Z"
   },
   {
    "duration": 665,
    "start_time": "2022-03-26T09:51:58.791Z"
   },
   {
    "duration": 843,
    "start_time": "2022-03-26T09:53:14.949Z"
   },
   {
    "duration": 332,
    "start_time": "2022-03-26T09:53:21.720Z"
   },
   {
    "duration": 738,
    "start_time": "2022-03-26T09:53:25.089Z"
   },
   {
    "duration": 1617,
    "start_time": "2022-03-26T10:12:51.063Z"
   },
   {
    "duration": 3825,
    "start_time": "2022-03-26T10:12:52.685Z"
   },
   {
    "duration": 0,
    "start_time": "2022-03-26T10:12:56.513Z"
   },
   {
    "duration": 0,
    "start_time": "2022-03-26T10:12:56.515Z"
   },
   {
    "duration": 0,
    "start_time": "2022-03-26T10:12:56.518Z"
   },
   {
    "duration": 0,
    "start_time": "2022-03-26T10:12:56.520Z"
   },
   {
    "duration": 0,
    "start_time": "2022-03-26T10:12:56.524Z"
   },
   {
    "duration": 0,
    "start_time": "2022-03-26T10:12:56.526Z"
   },
   {
    "duration": 0,
    "start_time": "2022-03-26T10:12:56.527Z"
   },
   {
    "duration": 0,
    "start_time": "2022-03-26T10:12:56.529Z"
   },
   {
    "duration": 0,
    "start_time": "2022-03-26T10:12:56.531Z"
   },
   {
    "duration": 0,
    "start_time": "2022-03-26T10:12:56.532Z"
   },
   {
    "duration": 0,
    "start_time": "2022-03-26T10:12:56.535Z"
   },
   {
    "duration": 0,
    "start_time": "2022-03-26T10:12:56.537Z"
   },
   {
    "duration": 0,
    "start_time": "2022-03-26T10:12:56.539Z"
   },
   {
    "duration": 0,
    "start_time": "2022-03-26T10:12:56.540Z"
   },
   {
    "duration": 0,
    "start_time": "2022-03-26T10:12:56.541Z"
   },
   {
    "duration": 0,
    "start_time": "2022-03-26T10:12:56.543Z"
   },
   {
    "duration": 0,
    "start_time": "2022-03-26T10:12:56.544Z"
   },
   {
    "duration": 0,
    "start_time": "2022-03-26T10:12:56.545Z"
   },
   {
    "duration": 0,
    "start_time": "2022-03-26T10:12:56.547Z"
   },
   {
    "duration": 85,
    "start_time": "2022-03-26T10:13:44.422Z"
   },
   {
    "duration": 3598,
    "start_time": "2022-03-26T10:13:48.312Z"
   },
   {
    "duration": 10,
    "start_time": "2022-03-26T10:14:05.338Z"
   },
   {
    "duration": 3354,
    "start_time": "2022-03-26T10:14:07.417Z"
   },
   {
    "duration": 789,
    "start_time": "2022-03-26T10:14:37.814Z"
   },
   {
    "duration": 3691,
    "start_time": "2022-03-26T10:14:45.597Z"
   },
   {
    "duration": 760,
    "start_time": "2022-03-26T10:15:24.258Z"
   },
   {
    "duration": 862,
    "start_time": "2022-03-26T10:19:00.279Z"
   },
   {
    "duration": 879,
    "start_time": "2022-03-26T10:20:00.609Z"
   },
   {
    "duration": 1676,
    "start_time": "2022-03-26T10:20:20.140Z"
   },
   {
    "duration": 842,
    "start_time": "2022-03-26T10:20:21.818Z"
   },
   {
    "duration": 15,
    "start_time": "2022-03-26T10:20:22.662Z"
   },
   {
    "duration": 25,
    "start_time": "2022-03-26T10:20:22.680Z"
   },
   {
    "duration": 13,
    "start_time": "2022-03-26T10:20:22.707Z"
   },
   {
    "duration": 104,
    "start_time": "2022-03-26T10:20:22.723Z"
   },
   {
    "duration": 10,
    "start_time": "2022-03-26T10:20:22.829Z"
   },
   {
    "duration": 61,
    "start_time": "2022-03-26T10:20:22.841Z"
   },
   {
    "duration": 25,
    "start_time": "2022-03-26T10:20:22.904Z"
   },
   {
    "duration": 10,
    "start_time": "2022-03-26T10:20:22.932Z"
   },
   {
    "duration": 309,
    "start_time": "2022-03-26T10:20:22.944Z"
   },
   {
    "duration": 361,
    "start_time": "2022-03-26T10:20:23.255Z"
   },
   {
    "duration": 508,
    "start_time": "2022-03-26T10:20:23.619Z"
   },
   {
    "duration": 260,
    "start_time": "2022-03-26T10:20:24.129Z"
   },
   {
    "duration": 6,
    "start_time": "2022-03-26T10:20:24.391Z"
   },
   {
    "duration": 49,
    "start_time": "2022-03-26T10:20:24.399Z"
   },
   {
    "duration": 58,
    "start_time": "2022-03-26T10:20:24.450Z"
   },
   {
    "duration": 317,
    "start_time": "2022-03-26T10:20:24.511Z"
   },
   {
    "duration": 27,
    "start_time": "2022-03-26T10:20:24.831Z"
   },
   {
    "duration": 57,
    "start_time": "2022-03-26T10:20:24.860Z"
   },
   {
    "duration": 655,
    "start_time": "2022-03-26T10:20:24.920Z"
   },
   {
    "duration": 883,
    "start_time": "2022-03-26T10:21:18.566Z"
   },
   {
    "duration": 900,
    "start_time": "2022-03-26T10:23:12.809Z"
   },
   {
    "duration": 1571,
    "start_time": "2022-03-26T10:24:24.034Z"
   },
   {
    "duration": 847,
    "start_time": "2022-03-26T10:24:25.607Z"
   },
   {
    "duration": 15,
    "start_time": "2022-03-26T10:24:26.457Z"
   },
   {
    "duration": 22,
    "start_time": "2022-03-26T10:24:26.474Z"
   },
   {
    "duration": 12,
    "start_time": "2022-03-26T10:24:26.500Z"
   },
   {
    "duration": 104,
    "start_time": "2022-03-26T10:24:26.514Z"
   },
   {
    "duration": 8,
    "start_time": "2022-03-26T10:24:26.620Z"
   },
   {
    "duration": 62,
    "start_time": "2022-03-26T10:24:26.631Z"
   },
   {
    "duration": 26,
    "start_time": "2022-03-26T10:24:26.695Z"
   },
   {
    "duration": 12,
    "start_time": "2022-03-26T10:24:26.723Z"
   },
   {
    "duration": 302,
    "start_time": "2022-03-26T10:24:26.737Z"
   },
   {
    "duration": 375,
    "start_time": "2022-03-26T10:24:27.042Z"
   },
   {
    "duration": 490,
    "start_time": "2022-03-26T10:24:27.420Z"
   },
   {
    "duration": 261,
    "start_time": "2022-03-26T10:24:27.914Z"
   },
   {
    "duration": 9,
    "start_time": "2022-03-26T10:24:28.177Z"
   },
   {
    "duration": 52,
    "start_time": "2022-03-26T10:24:28.188Z"
   },
   {
    "duration": 51,
    "start_time": "2022-03-26T10:24:28.242Z"
   },
   {
    "duration": 304,
    "start_time": "2022-03-26T10:24:28.295Z"
   },
   {
    "duration": 27,
    "start_time": "2022-03-26T10:24:28.601Z"
   },
   {
    "duration": 57,
    "start_time": "2022-03-26T10:24:28.631Z"
   },
   {
    "duration": 686,
    "start_time": "2022-03-26T10:24:28.691Z"
   },
   {
    "duration": 6,
    "start_time": "2022-03-26T10:25:23.285Z"
   },
   {
    "duration": 456,
    "start_time": "2022-03-26T10:26:02.795Z"
   },
   {
    "duration": 288,
    "start_time": "2022-03-26T10:26:06.790Z"
   },
   {
    "duration": 81,
    "start_time": "2022-03-26T10:26:16.247Z"
   },
   {
    "duration": 81,
    "start_time": "2022-03-26T10:26:22.702Z"
   },
   {
    "duration": 808,
    "start_time": "2022-03-26T10:26:42.323Z"
   },
   {
    "duration": 6,
    "start_time": "2022-03-26T10:26:54.570Z"
   },
   {
    "duration": 6,
    "start_time": "2022-03-26T10:27:19.115Z"
   },
   {
    "duration": 6,
    "start_time": "2022-03-26T10:27:22.859Z"
   },
   {
    "duration": 924,
    "start_time": "2022-03-26T10:28:28.076Z"
   },
   {
    "duration": 1570,
    "start_time": "2022-03-26T10:28:56.373Z"
   },
   {
    "duration": 896,
    "start_time": "2022-03-26T10:28:57.945Z"
   },
   {
    "duration": 19,
    "start_time": "2022-03-26T10:28:58.844Z"
   },
   {
    "duration": 32,
    "start_time": "2022-03-26T10:28:58.868Z"
   },
   {
    "duration": 27,
    "start_time": "2022-03-26T10:28:58.903Z"
   },
   {
    "duration": 150,
    "start_time": "2022-03-26T10:28:58.933Z"
   },
   {
    "duration": 10,
    "start_time": "2022-03-26T10:28:59.085Z"
   },
   {
    "duration": 32,
    "start_time": "2022-03-26T10:28:59.098Z"
   },
   {
    "duration": 54,
    "start_time": "2022-03-26T10:28:59.133Z"
   },
   {
    "duration": 11,
    "start_time": "2022-03-26T10:28:59.192Z"
   },
   {
    "duration": 304,
    "start_time": "2022-03-26T10:28:59.205Z"
   },
   {
    "duration": 389,
    "start_time": "2022-03-26T10:28:59.511Z"
   },
   {
    "duration": 522,
    "start_time": "2022-03-26T10:28:59.902Z"
   },
   {
    "duration": 271,
    "start_time": "2022-03-26T10:29:00.426Z"
   },
   {
    "duration": 5,
    "start_time": "2022-03-26T10:29:00.700Z"
   },
   {
    "duration": 41,
    "start_time": "2022-03-26T10:29:00.707Z"
   },
   {
    "duration": 66,
    "start_time": "2022-03-26T10:29:00.750Z"
   },
   {
    "duration": 418,
    "start_time": "2022-03-26T10:29:00.819Z"
   },
   {
    "duration": 26,
    "start_time": "2022-03-26T10:29:01.240Z"
   },
   {
    "duration": 48,
    "start_time": "2022-03-26T10:29:01.268Z"
   },
   {
    "duration": 635,
    "start_time": "2022-03-26T10:29:01.318Z"
   },
   {
    "duration": 1952,
    "start_time": "2022-03-26T18:12:17.984Z"
   },
   {
    "duration": 1037,
    "start_time": "2022-03-26T18:12:19.939Z"
   },
   {
    "duration": 17,
    "start_time": "2022-03-26T18:12:20.978Z"
   },
   {
    "duration": 44,
    "start_time": "2022-03-26T18:12:20.997Z"
   },
   {
    "duration": 13,
    "start_time": "2022-03-26T18:12:21.044Z"
   },
   {
    "duration": 81,
    "start_time": "2022-03-26T18:12:21.059Z"
   },
   {
    "duration": 47,
    "start_time": "2022-03-26T18:12:21.142Z"
   },
   {
    "duration": 37,
    "start_time": "2022-03-26T18:12:21.191Z"
   },
   {
    "duration": 24,
    "start_time": "2022-03-26T18:12:21.230Z"
   },
   {
    "duration": 30,
    "start_time": "2022-03-26T18:12:21.257Z"
   },
   {
    "duration": 283,
    "start_time": "2022-03-26T18:12:21.290Z"
   },
   {
    "duration": 358,
    "start_time": "2022-03-26T18:12:21.578Z"
   },
   {
    "duration": 483,
    "start_time": "2022-03-26T18:12:21.937Z"
   },
   {
    "duration": 282,
    "start_time": "2022-03-26T18:12:22.424Z"
   },
   {
    "duration": 7,
    "start_time": "2022-03-26T18:12:22.709Z"
   },
   {
    "duration": 167,
    "start_time": "2022-03-26T18:12:22.719Z"
   },
   {
    "duration": 46,
    "start_time": "2022-03-26T18:12:22.889Z"
   },
   {
    "duration": 320,
    "start_time": "2022-03-26T18:12:22.937Z"
   },
   {
    "duration": 34,
    "start_time": "2022-03-26T18:12:23.259Z"
   },
   {
    "duration": 36,
    "start_time": "2022-03-26T18:12:23.295Z"
   },
   {
    "duration": 651,
    "start_time": "2022-03-26T18:12:23.333Z"
   },
   {
    "duration": 109,
    "start_time": "2022-03-27T09:09:49.154Z"
   },
   {
    "duration": 2061,
    "start_time": "2022-03-27T09:09:54.630Z"
   },
   {
    "duration": 1247,
    "start_time": "2022-03-27T09:09:56.694Z"
   },
   {
    "duration": 16,
    "start_time": "2022-03-27T09:09:57.944Z"
   },
   {
    "duration": 23,
    "start_time": "2022-03-27T09:09:57.963Z"
   },
   {
    "duration": 16,
    "start_time": "2022-03-27T09:09:57.988Z"
   },
   {
    "duration": 124,
    "start_time": "2022-03-27T09:09:58.007Z"
   },
   {
    "duration": 12,
    "start_time": "2022-03-27T09:09:58.134Z"
   },
   {
    "duration": 27,
    "start_time": "2022-03-27T09:09:58.184Z"
   },
   {
    "duration": 30,
    "start_time": "2022-03-27T09:09:58.214Z"
   },
   {
    "duration": 36,
    "start_time": "2022-03-27T09:09:58.248Z"
   },
   {
    "duration": 387,
    "start_time": "2022-03-27T09:09:58.287Z"
   },
   {
    "duration": 451,
    "start_time": "2022-03-27T09:09:58.687Z"
   },
   {
    "duration": 543,
    "start_time": "2022-03-27T09:09:59.140Z"
   },
   {
    "duration": 343,
    "start_time": "2022-03-27T09:09:59.685Z"
   },
   {
    "duration": 7,
    "start_time": "2022-03-27T09:10:00.030Z"
   },
   {
    "duration": 51,
    "start_time": "2022-03-27T09:10:00.039Z"
   },
   {
    "duration": 41,
    "start_time": "2022-03-27T09:10:00.093Z"
   },
   {
    "duration": 318,
    "start_time": "2022-03-27T09:10:00.137Z"
   },
   {
    "duration": 43,
    "start_time": "2022-03-27T09:10:00.458Z"
   },
   {
    "duration": 38,
    "start_time": "2022-03-27T09:10:00.503Z"
   },
   {
    "duration": 762,
    "start_time": "2022-03-27T09:10:00.543Z"
   },
   {
    "duration": 784,
    "start_time": "2022-03-27T09:10:01.308Z"
   },
   {
    "duration": 303,
    "start_time": "2022-03-27T09:10:17.013Z"
   },
   {
    "duration": 263,
    "start_time": "2022-03-27T09:10:23.694Z"
   },
   {
    "duration": 371,
    "start_time": "2022-03-27T09:10:28.732Z"
   },
   {
    "duration": 153,
    "start_time": "2022-03-27T09:10:51.286Z"
   },
   {
    "duration": 366,
    "start_time": "2022-03-27T09:11:02.736Z"
   },
   {
    "duration": 127,
    "start_time": "2022-03-27T09:11:08.371Z"
   },
   {
    "duration": 17,
    "start_time": "2022-03-27T09:11:12.690Z"
   },
   {
    "duration": 360,
    "start_time": "2022-03-27T09:11:17.410Z"
   },
   {
    "duration": 464,
    "start_time": "2022-03-27T09:11:23.431Z"
   },
   {
    "duration": 353,
    "start_time": "2022-03-27T09:13:25.751Z"
   },
   {
    "duration": 343,
    "start_time": "2022-03-27T09:13:34.912Z"
   },
   {
    "duration": 366,
    "start_time": "2022-03-27T09:13:45.571Z"
   },
   {
    "duration": 333,
    "start_time": "2022-03-27T09:13:52.627Z"
   },
   {
    "duration": 210,
    "start_time": "2022-03-27T09:13:57.350Z"
   },
   {
    "duration": 234,
    "start_time": "2022-03-27T09:14:20.111Z"
   },
   {
    "duration": 268,
    "start_time": "2022-03-27T09:14:36.199Z"
   },
   {
    "duration": 370,
    "start_time": "2022-03-27T09:14:40.640Z"
   },
   {
    "duration": 280,
    "start_time": "2022-03-27T09:14:48.451Z"
   },
   {
    "duration": 257,
    "start_time": "2022-03-27T09:14:55.812Z"
   },
   {
    "duration": 280,
    "start_time": "2022-03-27T09:15:02.731Z"
   },
   {
    "duration": 256,
    "start_time": "2022-03-27T09:15:06.052Z"
   },
   {
    "duration": 243,
    "start_time": "2022-03-27T09:15:09.351Z"
   },
   {
    "duration": 239,
    "start_time": "2022-03-27T09:15:20.752Z"
   },
   {
    "duration": 254,
    "start_time": "2022-03-27T09:15:25.771Z"
   },
   {
    "duration": 228,
    "start_time": "2022-03-27T09:15:30.810Z"
   },
   {
    "duration": 1971,
    "start_time": "2022-03-27T09:36:50.858Z"
   },
   {
    "duration": 347,
    "start_time": "2022-03-27T09:37:16.547Z"
   },
   {
    "duration": 2183,
    "start_time": "2022-03-27T09:37:34.472Z"
   },
   {
    "duration": 506,
    "start_time": "2022-03-27T09:37:57.412Z"
   },
   {
    "duration": 35,
    "start_time": "2022-03-27T09:38:10.100Z"
   },
   {
    "duration": 39,
    "start_time": "2022-03-27T09:38:53.130Z"
   },
   {
    "duration": 23,
    "start_time": "2022-03-27T09:39:00.072Z"
   },
   {
    "duration": 24,
    "start_time": "2022-03-27T09:39:17.930Z"
   },
   {
    "duration": 22,
    "start_time": "2022-03-27T09:39:26.831Z"
   },
   {
    "duration": 29,
    "start_time": "2022-03-27T09:39:41.970Z"
   },
   {
    "duration": 125,
    "start_time": "2022-03-27T09:40:48.074Z"
   },
   {
    "duration": 19,
    "start_time": "2022-03-27T09:40:50.474Z"
   },
   {
    "duration": 24,
    "start_time": "2022-03-27T09:40:59.518Z"
   },
   {
    "duration": 248,
    "start_time": "2022-03-27T09:41:53.052Z"
   },
   {
    "duration": 259,
    "start_time": "2022-03-27T09:42:13.997Z"
   },
   {
    "duration": 1575,
    "start_time": "2022-03-27T09:42:39.344Z"
   },
   {
    "duration": 950,
    "start_time": "2022-03-27T09:42:40.922Z"
   },
   {
    "duration": 15,
    "start_time": "2022-03-27T09:42:41.875Z"
   },
   {
    "duration": 39,
    "start_time": "2022-03-27T09:42:41.892Z"
   },
   {
    "duration": 17,
    "start_time": "2022-03-27T09:42:41.934Z"
   },
   {
    "duration": 81,
    "start_time": "2022-03-27T09:42:41.953Z"
   },
   {
    "duration": 48,
    "start_time": "2022-03-27T09:42:42.036Z"
   },
   {
    "duration": 34,
    "start_time": "2022-03-27T09:42:42.087Z"
   },
   {
    "duration": 24,
    "start_time": "2022-03-27T09:42:42.124Z"
   },
   {
    "duration": 11,
    "start_time": "2022-03-27T09:42:42.151Z"
   },
   {
    "duration": 288,
    "start_time": "2022-03-27T09:42:42.164Z"
   },
   {
    "duration": 42,
    "start_time": "2022-03-27T09:42:42.454Z"
   },
   {
    "duration": 600,
    "start_time": "2022-03-27T09:42:42.498Z"
   },
   {
    "duration": 251,
    "start_time": "2022-03-27T09:42:43.102Z"
   },
   {
    "duration": 5,
    "start_time": "2022-03-27T09:42:43.355Z"
   },
   {
    "duration": 70,
    "start_time": "2022-03-27T09:42:43.362Z"
   },
   {
    "duration": 48,
    "start_time": "2022-03-27T09:42:43.434Z"
   },
   {
    "duration": 309,
    "start_time": "2022-03-27T09:42:43.485Z"
   },
   {
    "duration": 31,
    "start_time": "2022-03-27T09:42:43.797Z"
   },
   {
    "duration": 64,
    "start_time": "2022-03-27T09:42:43.831Z"
   },
   {
    "duration": 568,
    "start_time": "2022-03-27T09:42:43.898Z"
   },
   {
    "duration": 31,
    "start_time": "2022-03-27T09:42:54.675Z"
   },
   {
    "duration": 26,
    "start_time": "2022-03-27T09:43:22.505Z"
   },
   {
    "duration": 28,
    "start_time": "2022-03-27T09:43:29.951Z"
   },
   {
    "duration": 22,
    "start_time": "2022-03-27T09:43:51.771Z"
   },
   {
    "duration": 25,
    "start_time": "2022-03-27T09:43:55.952Z"
   },
   {
    "duration": 351,
    "start_time": "2022-03-27T09:44:23.415Z"
   },
   {
    "duration": 285,
    "start_time": "2022-03-27T09:44:40.799Z"
   },
   {
    "duration": 287,
    "start_time": "2022-03-27T09:44:51.955Z"
   },
   {
    "duration": 303,
    "start_time": "2022-03-27T09:45:02.196Z"
   },
   {
    "duration": 291,
    "start_time": "2022-03-27T09:45:29.193Z"
   },
   {
    "duration": 278,
    "start_time": "2022-03-27T09:45:42.943Z"
   },
   {
    "duration": 278,
    "start_time": "2022-03-27T09:45:46.034Z"
   },
   {
    "duration": 165,
    "start_time": "2022-03-27T09:45:57.635Z"
   },
   {
    "duration": 138,
    "start_time": "2022-03-27T09:45:59.557Z"
   },
   {
    "duration": 287,
    "start_time": "2022-03-27T09:46:05.036Z"
   },
   {
    "duration": 282,
    "start_time": "2022-03-27T09:46:16.532Z"
   },
   {
    "duration": 287,
    "start_time": "2022-03-27T09:52:18.631Z"
   },
   {
    "duration": 285,
    "start_time": "2022-03-27T09:52:31.130Z"
   },
   {
    "duration": 126,
    "start_time": "2022-03-27T09:53:56.751Z"
   },
   {
    "duration": 513,
    "start_time": "2022-03-27T09:54:33.412Z"
   },
   {
    "duration": 27,
    "start_time": "2022-03-27T09:54:52.099Z"
   },
   {
    "duration": 286,
    "start_time": "2022-03-27T09:54:56.001Z"
   },
   {
    "duration": 282,
    "start_time": "2022-03-27T09:54:59.231Z"
   },
   {
    "duration": 296,
    "start_time": "2022-03-27T09:55:07.770Z"
   },
   {
    "duration": 150,
    "start_time": "2022-03-27T10:02:21.599Z"
   },
   {
    "duration": 71,
    "start_time": "2022-03-27T10:10:53.737Z"
   },
   {
    "duration": 1581,
    "start_time": "2022-03-27T10:11:02.147Z"
   },
   {
    "duration": 1091,
    "start_time": "2022-03-27T10:11:03.731Z"
   },
   {
    "duration": 15,
    "start_time": "2022-03-27T10:11:04.825Z"
   },
   {
    "duration": 39,
    "start_time": "2022-03-27T10:11:04.844Z"
   },
   {
    "duration": 13,
    "start_time": "2022-03-27T10:11:04.886Z"
   },
   {
    "duration": 108,
    "start_time": "2022-03-27T10:11:04.901Z"
   },
   {
    "duration": 9,
    "start_time": "2022-03-27T10:11:05.012Z"
   },
   {
    "duration": 61,
    "start_time": "2022-03-27T10:11:05.024Z"
   },
   {
    "duration": 23,
    "start_time": "2022-03-27T10:11:05.087Z"
   },
   {
    "duration": 10,
    "start_time": "2022-03-27T10:11:05.114Z"
   },
   {
    "duration": 284,
    "start_time": "2022-03-27T10:11:05.126Z"
   },
   {
    "duration": 294,
    "start_time": "2022-03-27T10:11:05.412Z"
   },
   {
    "duration": 486,
    "start_time": "2022-03-27T10:11:05.708Z"
   },
   {
    "duration": 259,
    "start_time": "2022-03-27T10:11:06.196Z"
   },
   {
    "duration": 5,
    "start_time": "2022-03-27T10:11:06.458Z"
   },
   {
    "duration": 51,
    "start_time": "2022-03-27T10:11:06.465Z"
   },
   {
    "duration": 38,
    "start_time": "2022-03-27T10:11:06.518Z"
   },
   {
    "duration": 98,
    "start_time": "2022-03-27T10:11:06.558Z"
   },
   {
    "duration": 0,
    "start_time": "2022-03-27T10:11:06.658Z"
   },
   {
    "duration": 0,
    "start_time": "2022-03-27T10:11:06.661Z"
   },
   {
    "duration": 0,
    "start_time": "2022-03-27T10:11:06.663Z"
   },
   {
    "duration": 305,
    "start_time": "2022-03-27T10:11:14.930Z"
   },
   {
    "duration": 70,
    "start_time": "2022-03-27T10:11:18.738Z"
   },
   {
    "duration": 294,
    "start_time": "2022-03-27T10:11:21.591Z"
   },
   {
    "duration": 294,
    "start_time": "2022-03-27T10:11:41.670Z"
   },
   {
    "duration": 277,
    "start_time": "2022-03-27T10:13:03.215Z"
   },
   {
    "duration": 1532,
    "start_time": "2022-03-27T10:17:39.493Z"
   },
   {
    "duration": 857,
    "start_time": "2022-03-27T10:17:41.028Z"
   },
   {
    "duration": 16,
    "start_time": "2022-03-27T10:17:41.887Z"
   },
   {
    "duration": 37,
    "start_time": "2022-03-27T10:17:41.906Z"
   },
   {
    "duration": 13,
    "start_time": "2022-03-27T10:17:41.945Z"
   },
   {
    "duration": 103,
    "start_time": "2022-03-27T10:17:41.984Z"
   },
   {
    "duration": 11,
    "start_time": "2022-03-27T10:17:42.089Z"
   },
   {
    "duration": 40,
    "start_time": "2022-03-27T10:17:42.102Z"
   },
   {
    "duration": 59,
    "start_time": "2022-03-27T10:17:42.144Z"
   },
   {
    "duration": 22,
    "start_time": "2022-03-27T10:17:42.207Z"
   },
   {
    "duration": 270,
    "start_time": "2022-03-27T10:17:42.231Z"
   },
   {
    "duration": 288,
    "start_time": "2022-03-27T10:17:42.503Z"
   },
   {
    "duration": 458,
    "start_time": "2022-03-27T10:17:42.793Z"
   },
   {
    "duration": 267,
    "start_time": "2022-03-27T10:17:43.254Z"
   },
   {
    "duration": 6,
    "start_time": "2022-03-27T10:17:43.525Z"
   },
   {
    "duration": 61,
    "start_time": "2022-03-27T10:17:43.533Z"
   },
   {
    "duration": 42,
    "start_time": "2022-03-27T10:17:43.596Z"
   },
   {
    "duration": 331,
    "start_time": "2022-03-27T10:17:43.641Z"
   },
   {
    "duration": 31,
    "start_time": "2022-03-27T10:17:43.974Z"
   },
   {
    "duration": 38,
    "start_time": "2022-03-27T10:17:44.008Z"
   },
   {
    "duration": 610,
    "start_time": "2022-03-27T10:17:44.048Z"
   }
  ],
  "kernelspec": {
   "display_name": "Python 3 (ipykernel)",
   "language": "python",
   "name": "python3"
  },
  "language_info": {
   "codemirror_mode": {
    "name": "ipython",
    "version": 3
   },
   "file_extension": ".py",
   "mimetype": "text/x-python",
   "name": "python",
   "nbconvert_exporter": "python",
   "pygments_lexer": "ipython3",
   "version": "3.9.12"
  },
  "toc": {
   "base_numbering": 1,
   "nav_menu": {},
   "number_sections": true,
   "sideBar": true,
   "skip_h1_title": true,
   "title_cell": "Table of Contents",
   "title_sidebar": "Contents",
   "toc_cell": false,
   "toc_position": {},
   "toc_section_display": true,
   "toc_window_display": false
  }
 },
 "nbformat": 4,
 "nbformat_minor": 4
}
