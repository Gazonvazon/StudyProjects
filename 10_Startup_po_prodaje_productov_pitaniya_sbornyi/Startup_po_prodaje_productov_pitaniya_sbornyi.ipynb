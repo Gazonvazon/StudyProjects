{
 "cells": [
  {
   "cell_type": "markdown",
   "metadata": {},
   "source": [
    "# Анализ пользовательского поведения в мобильном приложении"
   ]
  },
  {
   "cell_type": "markdown",
   "metadata": {},
   "source": [
    "**Описание исследования**\n",
    "Я работаю в стартапе, который продаёт продукты питания\n",
    "\n",
    "\n",
    "_____\n",
    "**Цель исследования**\n",
    "\n",
    "Нужно разобраться, как ведут себя пользователи мобильного приложения\n",
    "\n",
    "_____\n",
    "**Задачи исследования**\n",
    "* унать как пользователи доходят до покупки. Сколько пользователей доходит до покупки, а сколько — «застревает» на предыдущих шагах? На каких именно?\n",
    "* исследовать результаты A/A/B-эксперимента\n",
    "_____\n",
    "**Исходные данные**\n",
    "    \n",
    "Каждая запись в логе — это действие пользователя, или событие.\n",
    "* EventName — название события;\n",
    "* DeviceIDHash — уникальный идентификатор пользователя;\n",
    "* EventTimestamp — время события;\n",
    "* ExpId — номер эксперимента: 246 и 247 — контрольные группы, а 248 — экспериментальная.\n",
    "\n",
    "\n",
    "\n",
    "______\n",
    "\n",
    "**Данное исследование разделим на несколько частей:**\n",
    "\n",
    "* [Изучение общей информации](#main_info)\n",
    "* [Предобработка данных](#preparing)\n",
    "* [Изучение и проверка данных](#explore_data)\n",
    "* [Изучение воронки событий](#event_funnel)\n",
    "* [Изучение результатов эксперимента](#experiment_results)\n",
    "* [Вывод](#summary)"
   ]
  },
  {
   "cell_type": "markdown",
   "metadata": {},
   "source": [
    "<a id='main_info'></a>\n",
    "## Изучение общей информации"
   ]
  },
  {
   "cell_type": "markdown",
   "metadata": {},
   "source": [
    "**В этом шаге:**\n",
    "* подключим библиотеки\n",
    "* откроем и изучим файлы, необходимые для работы"
   ]
  },
  {
   "cell_type": "code",
   "execution_count": 2,
   "metadata": {},
   "outputs": [],
   "source": [
    "import pandas as pd\n",
    "import matplotlib.pyplot as plt\n",
    "from scipy import stats\n",
    "from plotly import graph_objects as go\n",
    "import math\n",
    "import numpy as np \n",
    "\n",
    "pd.set_option('display.float_format', '{:,.2f}'.format)\n",
    "pd.set_option('display.max_colwidth', 0)"
   ]
  },
  {
   "cell_type": "code",
   "execution_count": 3,
   "metadata": {},
   "outputs": [
    {
     "name": "stdout",
     "output_type": "stream",
     "text": [
      "<class 'pandas.core.frame.DataFrame'>\n",
      "RangeIndex: 244126 entries, 0 to 244125\n",
      "Data columns (total 4 columns):\n",
      " #   Column          Non-Null Count   Dtype \n",
      "---  ------          --------------   ----- \n",
      " 0   EventName       244126 non-null  object\n",
      " 1   DeviceIDHash    244126 non-null  int64 \n",
      " 2   EventTimestamp  244126 non-null  int64 \n",
      " 3   ExpId           244126 non-null  int64 \n",
      "dtypes: int64(3), object(1)\n",
      "memory usage: 7.5+ MB\n"
     ]
    }
   ],
   "source": [
    "data = pd.read_csv('logs_exp.csv', sep='\\t')\n",
    "data.info()"
   ]
  },
  {
   "cell_type": "code",
   "execution_count": 3,
   "metadata": {},
   "outputs": [
    {
     "data": {
      "text/html": [
       "<div>\n",
       "<style scoped>\n",
       "    .dataframe tbody tr th:only-of-type {\n",
       "        vertical-align: middle;\n",
       "    }\n",
       "\n",
       "    .dataframe tbody tr th {\n",
       "        vertical-align: top;\n",
       "    }\n",
       "\n",
       "    .dataframe thead th {\n",
       "        text-align: right;\n",
       "    }\n",
       "</style>\n",
       "<table border=\"1\" class=\"dataframe\">\n",
       "  <thead>\n",
       "    <tr style=\"text-align: right;\">\n",
       "      <th></th>\n",
       "      <th>EventName</th>\n",
       "      <th>DeviceIDHash</th>\n",
       "      <th>EventTimestamp</th>\n",
       "      <th>ExpId</th>\n",
       "    </tr>\n",
       "  </thead>\n",
       "  <tbody>\n",
       "    <tr>\n",
       "      <th>0</th>\n",
       "      <td>MainScreenAppear</td>\n",
       "      <td>4575588528974610257</td>\n",
       "      <td>1564029816</td>\n",
       "      <td>246</td>\n",
       "    </tr>\n",
       "    <tr>\n",
       "      <th>1</th>\n",
       "      <td>MainScreenAppear</td>\n",
       "      <td>7416695313311560658</td>\n",
       "      <td>1564053102</td>\n",
       "      <td>246</td>\n",
       "    </tr>\n",
       "    <tr>\n",
       "      <th>2</th>\n",
       "      <td>PaymentScreenSuccessful</td>\n",
       "      <td>3518123091307005509</td>\n",
       "      <td>1564054127</td>\n",
       "      <td>248</td>\n",
       "    </tr>\n",
       "    <tr>\n",
       "      <th>3</th>\n",
       "      <td>CartScreenAppear</td>\n",
       "      <td>3518123091307005509</td>\n",
       "      <td>1564054127</td>\n",
       "      <td>248</td>\n",
       "    </tr>\n",
       "    <tr>\n",
       "      <th>4</th>\n",
       "      <td>PaymentScreenSuccessful</td>\n",
       "      <td>6217807653094995999</td>\n",
       "      <td>1564055322</td>\n",
       "      <td>248</td>\n",
       "    </tr>\n",
       "  </tbody>\n",
       "</table>\n",
       "</div>"
      ],
      "text/plain": [
       "                 EventName         DeviceIDHash  EventTimestamp  ExpId\n",
       "0  MainScreenAppear         4575588528974610257  1564029816      246  \n",
       "1  MainScreenAppear         7416695313311560658  1564053102      246  \n",
       "2  PaymentScreenSuccessful  3518123091307005509  1564054127      248  \n",
       "3  CartScreenAppear         3518123091307005509  1564054127      248  \n",
       "4  PaymentScreenSuccessful  6217807653094995999  1564055322      248  "
      ]
     },
     "execution_count": 3,
     "metadata": {},
     "output_type": "execute_result"
    }
   ],
   "source": [
    "data.head()"
   ]
  },
  {
   "cell_type": "code",
   "execution_count": 4,
   "metadata": {},
   "outputs": [],
   "source": [
    "# выведем уникальные значения по всем столбцам - посмотрим есть ли на первый взгляд явные аномалии\n",
    "def show_data_values(data):\n",
    "    for col in data.columns:    \n",
    "        try:\n",
    "            values = sorted(data[col].unique())\n",
    "            # если больше 10 значений, выведем только первые и последние 5\n",
    "            if len(values) > 10:\n",
    "                display (col, values[:5], values[-5:])\n",
    "            else: display(col, values)\n",
    "        except:\n",
    "            display(f'После except: {col}', data[col].unique()) "
   ]
  },
  {
   "cell_type": "code",
   "execution_count": 5,
   "metadata": {},
   "outputs": [
    {
     "data": {
      "text/plain": [
       "'EventName'"
      ]
     },
     "metadata": {},
     "output_type": "display_data"
    },
    {
     "data": {
      "text/plain": [
       "['CartScreenAppear',\n",
       " 'MainScreenAppear',\n",
       " 'OffersScreenAppear',\n",
       " 'PaymentScreenSuccessful',\n",
       " 'Tutorial']"
      ]
     },
     "metadata": {},
     "output_type": "display_data"
    },
    {
     "data": {
      "text/plain": [
       "'DeviceIDHash'"
      ]
     },
     "metadata": {},
     "output_type": "display_data"
    },
    {
     "data": {
      "text/plain": [
       "[6888746892508752,\n",
       " 6909561520679493,\n",
       " 6922444491712477,\n",
       " 7435777799948366,\n",
       " 7702139951469979]"
      ]
     },
     "metadata": {},
     "output_type": "display_data"
    },
    {
     "data": {
      "text/plain": [
       "[9217594193087726423,\n",
       " 9219463515465815368,\n",
       " 9220879493065341500,\n",
       " 9221926045299980007,\n",
       " 9222603179720523844]"
      ]
     },
     "metadata": {},
     "output_type": "display_data"
    },
    {
     "data": {
      "text/plain": [
       "'EventTimestamp'"
      ]
     },
     "metadata": {},
     "output_type": "display_data"
    },
    {
     "data": {
      "text/plain": [
       "[1564029816, 1564053102, 1564054127, 1564055322, 1564055323]"
      ]
     },
     "metadata": {},
     "output_type": "display_data"
    },
    {
     "data": {
      "text/plain": [
       "[1565212345, 1565212439, 1565212483, 1565212498, 1565212517]"
      ]
     },
     "metadata": {},
     "output_type": "display_data"
    },
    {
     "data": {
      "text/plain": [
       "'ExpId'"
      ]
     },
     "metadata": {},
     "output_type": "display_data"
    },
    {
     "data": {
      "text/plain": [
       "[246, 247, 248]"
      ]
     },
     "metadata": {},
     "output_type": "display_data"
    }
   ],
   "source": [
    "show_data_values(data)"
   ]
  },
  {
   "cell_type": "markdown",
   "metadata": {},
   "source": [
    "<a id='preparing'></a>\n",
    "## Предобработка данных"
   ]
  },
  {
   "cell_type": "markdown",
   "metadata": {},
   "source": [
    "***На этом шаге:***\n",
    "* Заменим названия столбцов на более удобные, зададим правильный тип столбцу со временем\n",
    "* Проверим пропуски и дубликаты\n",
    "* Добавим отдельный столбец дат"
   ]
  },
  {
   "cell_type": "markdown",
   "metadata": {},
   "source": [
    "Заменим названия столбцов на более удобные, зададим правильный тип столбцу со временем"
   ]
  },
  {
   "cell_type": "code",
   "execution_count": null,
   "metadata": {},
   "outputs": [],
   "source": [
    "data.columns = ['event_name', 'user_id', 'event_dt', 'exp_id']\n",
    "data['event_dt'] = data['event_dt'].astype('datetime64[s]')\n",
    "data.head()"
   ]
  },
  {
   "cell_type": "markdown",
   "metadata": {},
   "source": [
    "Проверим пропуски"
   ]
  },
  {
   "cell_type": "code",
   "execution_count": null,
   "metadata": {},
   "outputs": [],
   "source": [
    "data.isna().sum()"
   ]
  },
  {
   "cell_type": "markdown",
   "metadata": {},
   "source": [
    "Проверим явные дубликаты"
   ]
  },
  {
   "cell_type": "code",
   "execution_count": null,
   "metadata": {},
   "outputs": [],
   "source": [
    "data.duplicated().sum()"
   ]
  },
  {
   "cell_type": "markdown",
   "metadata": {},
   "source": [
    "Удалим явные дубликаты"
   ]
  },
  {
   "cell_type": "code",
   "execution_count": 9,
   "metadata": {},
   "outputs": [],
   "source": [
    "data = data[data.duplicated() == False]"
   ]
  },
  {
   "cell_type": "markdown",
   "metadata": {},
   "source": [
    "Добавим отдельный столбец с датами событий"
   ]
  },
  {
   "cell_type": "code",
   "execution_count": 10,
   "metadata": {},
   "outputs": [],
   "source": [
    "data['event_date'] = data['event_dt'].dt.date"
   ]
  },
  {
   "cell_type": "markdown",
   "metadata": {},
   "source": [
    "***Вывод по шагу:***\n",
    "\n",
    "Столбцы переименовали, тип столбца 'event_timestamp' исправлен, пропуски проверены, дубликаты удалены, отдельный столбец с датами событий добавлен"
   ]
  },
  {
   "cell_type": "markdown",
   "metadata": {},
   "source": [
    "<a id='explore_data'></a>\n",
    "## Изучение и проверка данных"
   ]
  },
  {
   "cell_type": "markdown",
   "metadata": {},
   "source": [
    "***В этом шаге:***\n",
    "* Узнаем сколько всего событий, пользователей и сколько в среднем событий приходится на пользователя\n",
    "* Найдём максимальную и минимальную дату. Построим гистограмму по дате и времени. Определите, с какого момента данные полные и отбросим более старые. Узнаем данными за какой период времени мы располагаем на самом деле.\n",
    "* Много ли событий и пользователей мы потеряли, отбросив старые данные? Проверим, что у нас есть пользователи из всех трёх экспериментальных групп\n"
   ]
  },
  {
   "cell_type": "markdown",
   "metadata": {},
   "source": [
    "### Узнаем сколько всего событий, пользователей и сколько в среднем событий приходится на пользователя"
   ]
  },
  {
   "cell_type": "code",
   "execution_count": 11,
   "metadata": {},
   "outputs": [
    {
     "name": "stdout",
     "output_type": "stream",
     "text": [
      "Всего событий: 243713\n"
     ]
    }
   ],
   "source": [
    "events_count = len(data['event_name'])\n",
    "print('Всего событий:', events_count)"
   ]
  },
  {
   "cell_type": "code",
   "execution_count": 12,
   "metadata": {
    "scrolled": true
   },
   "outputs": [
    {
     "name": "stdout",
     "output_type": "stream",
     "text": [
      "Пользователей в логе: 7551\n"
     ]
    }
   ],
   "source": [
    "users_count = data['user_id'].nunique()\n",
    "print('Пользователей в логе:', users_count)"
   ]
  },
  {
   "cell_type": "code",
   "execution_count": 13,
   "metadata": {
    "scrolled": true
   },
   "outputs": [
    {
     "name": "stdout",
     "output_type": "stream",
     "text": [
      "В среднем событий приходится на пользователя: 32\n"
     ]
    }
   ],
   "source": [
    "print('В среднем событий приходится на пользователя:', round(events_count/users_count))"
   ]
  },
  {
   "cell_type": "markdown",
   "metadata": {},
   "source": [
    "### Найдём максимальную и минимальную дату. Построим гистограмму по дате и времени. Определите, с какого момента данные полные и отбросим более старые. Узнаем данными за какой период времени мы располагаем на самом деле."
   ]
  },
  {
   "cell_type": "markdown",
   "metadata": {},
   "source": [
    "Найдём максимальную и минимальную дату"
   ]
  },
  {
   "cell_type": "code",
   "execution_count": 14,
   "metadata": {},
   "outputs": [
    {
     "name": "stdout",
     "output_type": "stream",
     "text": [
      "Минимальная дата: 2019-07-25 04:43:36\n",
      "Максимальная дата: 2019-08-07 21:15:17\n",
      "Доступный период: 13 days 16:31:41\n"
     ]
    }
   ],
   "source": [
    "print('Минимальная дата:', data['event_dt'].min())\n",
    "print('Максимальная дата:', data['event_dt'].max())\n",
    "print('Доступный период:', data['event_dt'].max() - data['event_dt'].min())"
   ]
  },
  {
   "cell_type": "code",
   "execution_count": 15,
   "metadata": {},
   "outputs": [
    {
     "data": {
      "image/png": "[encoded data removed]",
      "text/plain": [
       "<Figure size 1224x360 with 1 Axes>"
      ]
     },
     "metadata": {
      "needs_background": "light"
     },
     "output_type": "display_data"
    }
   ],
   "source": [
    "fig, ax = plt.subplots()\n",
    "fig.set_figheight(5)\n",
    "fig.set_figwidth(17)\n",
    "ax.set_title('Гистограмма событий в логе по дата-времени') \n",
    "ax.set_xlabel('Время события')\n",
    "ax.set_ylabel('Количество событий')\n",
    "\n",
    "data['event_dt'].hist(bins=100);\n"
   ]
  },
  {
   "cell_type": "markdown",
   "metadata": {},
   "source": [
    "***Вывод:*** Судя по гистограмме полные данные появляются только начиная с 2019-08-01"
   ]
  },
  {
   "cell_type": "markdown",
   "metadata": {},
   "source": [
    "Отбросим начальный период с малым количеством данных. Определим доступный период после этого"
   ]
  },
  {
   "cell_type": "code",
   "execution_count": 16,
   "metadata": {},
   "outputs": [
    {
     "name": "stdout",
     "output_type": "stream",
     "text": [
      "Доступный период: 6 days 21:07:49\n"
     ]
    }
   ],
   "source": [
    "data = data[data['event_dt'] >= '2019-08-01']\n",
    "print('Доступный период:', data['event_dt'].max() - data['event_dt'].min())"
   ]
  },
  {
   "cell_type": "markdown",
   "metadata": {},
   "source": [
    "### Много ли событий и пользователей мы потеряли, отбросив старые данные? Проверим, что у вас есть пользователи из всех трёх экспериментальных групп"
   ]
  },
  {
   "cell_type": "markdown",
   "metadata": {},
   "source": [
    "Узнаем сколько событий и пользователей мы потеряли, отбросив старые данные. Проверим, что у нас достаточно пользователей из всех трёх экспериментальных групп"
   ]
  },
  {
   "cell_type": "code",
   "execution_count": 17,
   "metadata": {},
   "outputs": [
    {
     "name": "stdout",
     "output_type": "stream",
     "text": [
      "Утраченных событий: 2826\n",
      "Утраченных пользователей: 17\n",
      "Количество пользователей в каждой группе:\n",
      " exp_id\n",
      "246    2484\n",
      "247    2513\n",
      "248    2537\n",
      "Name: user_id, dtype: int64\n"
     ]
    }
   ],
   "source": [
    "print('Утраченных событий:', events_count - len(data['event_name']))\n",
    "print('Утраченных пользователей:', users_count - data['user_id'].nunique())\n",
    "\n",
    "print('Количество пользователей в каждой группе:\\n', data.groupby('exp_id')['user_id'].nunique())"
   ]
  },
  {
   "cell_type": "markdown",
   "metadata": {},
   "source": [
    "***Вывод:*** Утраченных пользователей немного, их осталось достаточно в каждой группе, можем продолжать анализ."
   ]
  },
  {
   "cell_type": "markdown",
   "metadata": {},
   "source": [
    "**Вывод по шагу:** Определили доступный период с полными данными, отбросили период с неполными, определили, что утраченно данных немного и необходимых для теста осталось достаточно."
   ]
  },
  {
   "cell_type": "markdown",
   "metadata": {},
   "source": [
    "<a id='event_funnel'></a>\n",
    "## Изучение воронки событий"
   ]
  },
  {
   "cell_type": "markdown",
   "metadata": {},
   "source": [
    "***В этом шаге:***\n",
    "* Посмотрим, какие события есть в логах, как часто они встречаются.\n",
    "* Посчитаем, сколько пользователей совершали каждое из этих событий. Посчитаем долю пользователей, которые хоть раз совершали событие.\n",
    "* Предположим, в каком порядке происходят события. Все ли они выстраиваются в последовательную цепочку?\n",
    "* По воронке событий посчитаем, какая доля пользователей проходит на следующий шаг воронки (от числа пользователей на предыдущем). \n",
    "* На каком шаге теряется больше всего пользователей?\n",
    "* Какая доля пользователей доходит от первого события до оплаты?\n",
    "\n"
   ]
  },
  {
   "cell_type": "markdown",
   "metadata": {},
   "source": [
    "Посмотрим, какие события есть в логах, как часто они встречаются."
   ]
  },
  {
   "cell_type": "code",
   "execution_count": 18,
   "metadata": {},
   "outputs": [
    {
     "data": {
      "text/plain": [
       "'Виды событий и их количество'"
      ]
     },
     "metadata": {},
     "output_type": "display_data"
    },
    {
     "data": {
      "text/plain": [
       "MainScreenAppear           117328\n",
       "OffersScreenAppear         46333 \n",
       "CartScreenAppear           42303 \n",
       "PaymentScreenSuccessful    33918 \n",
       "Tutorial                   1005  \n",
       "Name: event_name, dtype: int64"
      ]
     },
     "metadata": {},
     "output_type": "display_data"
    }
   ],
   "source": [
    "display('Виды событий и их количество', data['event_name'].value_counts())"
   ]
  },
  {
   "cell_type": "markdown",
   "metadata": {},
   "source": [
    "Уточним значения событий:\n",
    "\n",
    "* MainScreenAppear - просмотр главной страницы - 117 328 раз\n",
    "* OffersScreenAppear - переход на страницу предложений - 46 333 раза\n",
    "* CartScreenAppear - переход на страницу \"Корзина\" - 42 303 раза\n",
    "* PaymentScreenSuccessful - переход на страницу \"Оплата произведена успешно\" - 33 918 раз\n",
    "* Tutorial - просмотр учебных шагов, которые показываются новым пользователям - 1 005 раз\n"
   ]
  },
  {
   "cell_type": "markdown",
   "metadata": {},
   "source": [
    "Посчитаем, сколько пользователей совершали каждое из этих событий. А также посчитаем долю пользователей, хоть раз совершавших событие"
   ]
  },
  {
   "cell_type": "code",
   "execution_count": 19,
   "metadata": {},
   "outputs": [],
   "source": [
    "# функция выводит таблицу с событиями, кол-вом пользователей,\n",
    "# которые его вызвли, доля пользователей от общего числа пользователей\n",
    "def users_counts_and_percents_of_event(in_data, title):   \n",
    "    print(title)\n",
    "    user_counts = in_data.groupby('event_name')['user_id'].nunique().sort_values(ascending=False)\n",
    "\n",
    "    user_counts_and_percents = pd.DataFrame({'Событие':user_counts.index, 'Количество пользователей':user_counts.values,\\\n",
    "                       'Доля от общего числа пользователей': user_counts.values/ in_data['user_id'].nunique()})\n",
    "    display(user_counts_and_percents)\n",
    "    return user_counts_and_percents"
   ]
  },
  {
   "cell_type": "code",
   "execution_count": 20,
   "metadata": {},
   "outputs": [
    {
     "name": "stdout",
     "output_type": "stream",
     "text": [
      "Количество пользователей, совершивших каждое из событий\n"
     ]
    },
    {
     "data": {
      "text/html": [
       "<div>\n",
       "<style scoped>\n",
       "    .dataframe tbody tr th:only-of-type {\n",
       "        vertical-align: middle;\n",
       "    }\n",
       "\n",
       "    .dataframe tbody tr th {\n",
       "        vertical-align: top;\n",
       "    }\n",
       "\n",
       "    .dataframe thead th {\n",
       "        text-align: right;\n",
       "    }\n",
       "</style>\n",
       "<table border=\"1\" class=\"dataframe\">\n",
       "  <thead>\n",
       "    <tr style=\"text-align: right;\">\n",
       "      <th></th>\n",
       "      <th>Событие</th>\n",
       "      <th>Количество пользователей</th>\n",
       "      <th>Доля от общего числа пользователей</th>\n",
       "    </tr>\n",
       "  </thead>\n",
       "  <tbody>\n",
       "    <tr>\n",
       "      <th>0</th>\n",
       "      <td>MainScreenAppear</td>\n",
       "      <td>7419</td>\n",
       "      <td>0.98</td>\n",
       "    </tr>\n",
       "    <tr>\n",
       "      <th>1</th>\n",
       "      <td>OffersScreenAppear</td>\n",
       "      <td>4593</td>\n",
       "      <td>0.61</td>\n",
       "    </tr>\n",
       "    <tr>\n",
       "      <th>2</th>\n",
       "      <td>CartScreenAppear</td>\n",
       "      <td>3734</td>\n",
       "      <td>0.50</td>\n",
       "    </tr>\n",
       "    <tr>\n",
       "      <th>3</th>\n",
       "      <td>PaymentScreenSuccessful</td>\n",
       "      <td>3539</td>\n",
       "      <td>0.47</td>\n",
       "    </tr>\n",
       "    <tr>\n",
       "      <th>4</th>\n",
       "      <td>Tutorial</td>\n",
       "      <td>840</td>\n",
       "      <td>0.11</td>\n",
       "    </tr>\n",
       "  </tbody>\n",
       "</table>\n",
       "</div>"
      ],
      "text/plain": [
       "                   Событие  Количество пользователей  \\\n",
       "0  MainScreenAppear         7419                       \n",
       "1  OffersScreenAppear       4593                       \n",
       "2  CartScreenAppear         3734                       \n",
       "3  PaymentScreenSuccessful  3539                       \n",
       "4  Tutorial                 840                        \n",
       "\n",
       "   Доля от общего числа пользователей  \n",
       "0 0.98                                 \n",
       "1 0.61                                 \n",
       "2 0.50                                 \n",
       "3 0.47                                 \n",
       "4 0.11                                 "
      ]
     },
     "metadata": {},
     "output_type": "display_data"
    }
   ],
   "source": [
    "user_counts_and_percents = users_counts_and_percents_of_event(data, 'Количество пользователей, совершивших каждое из событий')"
   ]
  },
  {
   "cell_type": "markdown",
   "metadata": {},
   "source": [
    "***Вывод:*** Как видим, даже основное событие выполнили не все пользователи, вероятно это из-за ошибок записи логов, либо из-за отсеянных нами частичных данных.\n",
    "Можно предположить, что порядок событий такой же как в выыеденой таблице, за исключением 'Tutorial'. 'Tutorial' скорее всего идет сразу после главной, причем по желанию пользователя, поэтому при анализе воронки не будем его учитывать."
   ]
  },
  {
   "cell_type": "markdown",
   "metadata": {},
   "source": [
    "Построим воронку событий, посчитаем какая доля пользователей проходит на следующий шаг воронки (от числа пользователей на предыдущем)"
   ]
  },
  {
   "cell_type": "code",
   "execution_count": 1,
   "metadata": {},
   "outputs": [
    {
     "data": {
      "text/plain": [
       "'Воронка событий'"
      ]
     },
     "metadata": {},
     "output_type": "display_data"
    },
    {
     "ename": "NameError",
     "evalue": "name 'go' is not defined",
     "output_type": "error",
     "traceback": [
      "\u001b[0;31m---------------------------------------------------------------------------\u001b[0m",
      "\u001b[0;31mNameError\u001b[0m                                 Traceback (most recent call last)",
      "\u001b[0;32m/tmp/ipykernel_258/1557758055.py\u001b[0m in \u001b[0;36m<module>\u001b[0;34m\u001b[0m\n\u001b[1;32m      1\u001b[0m \u001b[0mdisplay\u001b[0m\u001b[0;34m(\u001b[0m\u001b[0;34m'Воронка событий'\u001b[0m\u001b[0;34m)\u001b[0m\u001b[0;34m\u001b[0m\u001b[0;34m\u001b[0m\u001b[0m\n\u001b[0;32m----> 2\u001b[0;31m fig = go.Figure(go.Funnel(\n\u001b[0m\u001b[1;32m      3\u001b[0m     \u001b[0my\u001b[0m \u001b[0;34m=\u001b[0m \u001b[0;34m[\u001b[0m\u001b[0;34m\"Просмотр главной страницы\"\u001b[0m\u001b[0;34m,\u001b[0m \u001b[0;34m\"Переход на страницу предложений\"\u001b[0m\u001b[0;34m,\u001b[0m \u001b[0;34m\"Переход в Корзину\"\u001b[0m\u001b[0;34m,\u001b[0m \u001b[0;34m\"Успешное завершение оплаты\"\u001b[0m\u001b[0;34m]\u001b[0m\u001b[0;34m,\u001b[0m\u001b[0;34m\u001b[0m\u001b[0;34m\u001b[0m\u001b[0m\n\u001b[1;32m      4\u001b[0m     \u001b[0mx\u001b[0m \u001b[0;34m=\u001b[0m \u001b[0muser_counts_and_percents\u001b[0m\u001b[0;34m.\u001b[0m\u001b[0miloc\u001b[0m\u001b[0;34m[\u001b[0m\u001b[0;34m:\u001b[0m\u001b[0;34m,\u001b[0m\u001b[0;36m1\u001b[0m\u001b[0;34m]\u001b[0m\u001b[0;34m,\u001b[0m\u001b[0;31m#['Количество пользователей']\u001b[0m\u001b[0;34m\u001b[0m\u001b[0;34m\u001b[0m\u001b[0m\n\u001b[1;32m      5\u001b[0m     \u001b[0mtextposition\u001b[0m \u001b[0;34m=\u001b[0m \u001b[0;34m\"inside\"\u001b[0m\u001b[0;34m,\u001b[0m\u001b[0;34m\u001b[0m\u001b[0;34m\u001b[0m\u001b[0m\n",
      "\u001b[0;31mNameError\u001b[0m: name 'go' is not defined"
     ]
    }
   ],
   "source": [
    "display('Воронка событий')\n",
    "fig = go.Figure(go.Funnel(\n",
    "    y = [\"Просмотр главной страницы\", \"Переход на страницу предложений\", \"Переход в Корзину\", \"Успешное завершение оплаты\"],\n",
    "    x = user_counts_and_percents.iloc[:,1],#['Количество пользователей']\n",
    "    textposition = \"inside\",\n",
    "    textinfo = \"value+percent previous\",\n",
    "    opacity = 1, marker = {\"color\": [\"deepskyblue\", \"lightsalmon\", \"tan\", \"teal\", \"silver\"]}))\n",
    "\n",
    "fig.show()"
   ]
  },
  {
   "cell_type": "markdown",
   "metadata": {},
   "source": [
    "***Вывод:*** Самые большие потери при переходе с главной на страницу предложений. Возможно проблемы чисто технические.\n",
    "Также, наведя мышь на нижнюю ступень, видим, что 47,7% пользователей доходит от первого события до оплаты.\n"
   ]
  },
  {
   "cell_type": "markdown",
   "metadata": {},
   "source": [
    "***Вывод по шагу:*** Определены виды событий в логах, посчитано количество пользователей на каждое событие, и их доля от всех пользователей, определен порядок событий, построена воронка событий, найдено самое узкое место в воронке "
   ]
  },
  {
   "cell_type": "markdown",
   "metadata": {},
   "source": [
    "<a id='experiment_results'></a>\n",
    "## Изучение результатов эксперимента"
   ]
  },
  {
   "cell_type": "markdown",
   "metadata": {},
   "source": [
    "***В этом шаге:***\n",
    "* Узнаем сколько пользователей в каждой экспериментальной группе?\n",
    "* Проверим, находят ли статистические критерии разницу между выборками 246 и 247.\n",
    "* Выберем самое популярное событие. Посчитаем число пользователей, совершивших это событие в каждой из контрольных групп. Посчитаем долю пользователей, совершивших это событие. Проверим, будет ли отличие между группами статистически достоверным. Проделаем то же самое для всех других событий.\n",
    "* Аналогично поступим с группой с изменённым шрифтом. Сравним результаты с каждой из контрольных групп в отдельности по каждому событию. Сравним результаты с объединённой контрольной группой.\n",
    "* Посчитаем, сколько проверок статистических гипотез вы сделали. При уровне значимости 0.1 каждый десятый раз можно получать ложный результат."
   ]
  },
  {
   "cell_type": "markdown",
   "metadata": {},
   "source": [
    "Узнаем сколько пользователей в каждой экспериментальной группе"
   ]
  },
  {
   "cell_type": "code",
   "execution_count": 22,
   "metadata": {},
   "outputs": [
    {
     "data": {
      "text/plain": [
       "'Количество пользователей в каждой экспериментальной группе:'"
      ]
     },
     "metadata": {},
     "output_type": "display_data"
    },
    {
     "data": {
      "text/plain": [
       "exp_id\n",
       "246    2484\n",
       "247    2513\n",
       "248    2537\n",
       "Name: user_id, dtype: int64"
      ]
     },
     "metadata": {},
     "output_type": "display_data"
    }
   ],
   "source": [
    "trials = data.groupby('exp_id')['user_id'].nunique()\n",
    "display('Количество пользователей в каждой экспериментальной группе:', trials)"
   ]
  },
  {
   "cell_type": "code",
   "execution_count": 23,
   "metadata": {},
   "outputs": [
    {
     "data": {
      "text/plain": [
       "MainScreenAppear           37676\n",
       "OffersScreenAppear         14767\n",
       "CartScreenAppear           14690\n",
       "PaymentScreenSuccessful    11852\n",
       "Tutorial                   317  \n",
       "Name: event_name, dtype: int64"
      ]
     },
     "metadata": {},
     "output_type": "display_data"
    },
    {
     "data": {
      "text/plain": [
       "MainScreenAppear           39090\n",
       "OffersScreenAppear         15179\n",
       "CartScreenAppear           12434\n",
       "PaymentScreenSuccessful    9981 \n",
       "Tutorial                   338  \n",
       "Name: event_name, dtype: int64"
      ]
     },
     "metadata": {},
     "output_type": "display_data"
    },
    {
     "name": "stdout",
     "output_type": "stream",
     "text": [
      "0.9601232817394973\n"
     ]
    }
   ],
   "source": [
    "exp1 = data.query('exp_id == 246')\n",
    "exp2 = data.query('exp_id == 247')\n",
    "exp3 = data.query('exp_id == 248')\n",
    "\n",
    "event_counts1 = exp1['event_name'].value_counts()\n",
    "event_counts2 = exp2['event_name'].value_counts()\n",
    "\n",
    "display(event_counts1)\n",
    "display(event_counts2)\n",
    "\n",
    "print(stats.ttest_ind(event_counts1, event_counts2, equal_var=False)[1])"
   ]
  },
  {
   "cell_type": "markdown",
   "metadata": {},
   "source": [
    "Выведем по каждой группе количество пользователей совершивших каждое событие и их долю от общего числа пользователей"
   ]
  },
  {
   "cell_type": "code",
   "execution_count": 24,
   "metadata": {},
   "outputs": [
    {
     "name": "stdout",
     "output_type": "stream",
     "text": [
      "Количество пользователей на каждое событие в группе 1\n"
     ]
    },
    {
     "data": {
      "text/html": [
       "<div>\n",
       "<style scoped>\n",
       "    .dataframe tbody tr th:only-of-type {\n",
       "        vertical-align: middle;\n",
       "    }\n",
       "\n",
       "    .dataframe tbody tr th {\n",
       "        vertical-align: top;\n",
       "    }\n",
       "\n",
       "    .dataframe thead th {\n",
       "        text-align: right;\n",
       "    }\n",
       "</style>\n",
       "<table border=\"1\" class=\"dataframe\">\n",
       "  <thead>\n",
       "    <tr style=\"text-align: right;\">\n",
       "      <th></th>\n",
       "      <th>Событие</th>\n",
       "      <th>Количество пользователей</th>\n",
       "      <th>Доля от общего числа пользователей</th>\n",
       "    </tr>\n",
       "  </thead>\n",
       "  <tbody>\n",
       "    <tr>\n",
       "      <th>0</th>\n",
       "      <td>MainScreenAppear</td>\n",
       "      <td>2450</td>\n",
       "      <td>0.99</td>\n",
       "    </tr>\n",
       "    <tr>\n",
       "      <th>1</th>\n",
       "      <td>OffersScreenAppear</td>\n",
       "      <td>1542</td>\n",
       "      <td>0.62</td>\n",
       "    </tr>\n",
       "    <tr>\n",
       "      <th>2</th>\n",
       "      <td>CartScreenAppear</td>\n",
       "      <td>1266</td>\n",
       "      <td>0.51</td>\n",
       "    </tr>\n",
       "    <tr>\n",
       "      <th>3</th>\n",
       "      <td>PaymentScreenSuccessful</td>\n",
       "      <td>1200</td>\n",
       "      <td>0.48</td>\n",
       "    </tr>\n",
       "    <tr>\n",
       "      <th>4</th>\n",
       "      <td>Tutorial</td>\n",
       "      <td>278</td>\n",
       "      <td>0.11</td>\n",
       "    </tr>\n",
       "  </tbody>\n",
       "</table>\n",
       "</div>"
      ],
      "text/plain": [
       "                   Событие  Количество пользователей  \\\n",
       "0  MainScreenAppear         2450                       \n",
       "1  OffersScreenAppear       1542                       \n",
       "2  CartScreenAppear         1266                       \n",
       "3  PaymentScreenSuccessful  1200                       \n",
       "4  Tutorial                 278                        \n",
       "\n",
       "   Доля от общего числа пользователей  \n",
       "0 0.99                                 \n",
       "1 0.62                                 \n",
       "2 0.51                                 \n",
       "3 0.48                                 \n",
       "4 0.11                                 "
      ]
     },
     "metadata": {},
     "output_type": "display_data"
    },
    {
     "name": "stdout",
     "output_type": "stream",
     "text": [
      "Количество пользователей на каждое событие в группе 2\n"
     ]
    },
    {
     "data": {
      "text/html": [
       "<div>\n",
       "<style scoped>\n",
       "    .dataframe tbody tr th:only-of-type {\n",
       "        vertical-align: middle;\n",
       "    }\n",
       "\n",
       "    .dataframe tbody tr th {\n",
       "        vertical-align: top;\n",
       "    }\n",
       "\n",
       "    .dataframe thead th {\n",
       "        text-align: right;\n",
       "    }\n",
       "</style>\n",
       "<table border=\"1\" class=\"dataframe\">\n",
       "  <thead>\n",
       "    <tr style=\"text-align: right;\">\n",
       "      <th></th>\n",
       "      <th>Событие</th>\n",
       "      <th>Количество пользователей</th>\n",
       "      <th>Доля от общего числа пользователей</th>\n",
       "    </tr>\n",
       "  </thead>\n",
       "  <tbody>\n",
       "    <tr>\n",
       "      <th>0</th>\n",
       "      <td>MainScreenAppear</td>\n",
       "      <td>2476</td>\n",
       "      <td>0.99</td>\n",
       "    </tr>\n",
       "    <tr>\n",
       "      <th>1</th>\n",
       "      <td>OffersScreenAppear</td>\n",
       "      <td>1520</td>\n",
       "      <td>0.60</td>\n",
       "    </tr>\n",
       "    <tr>\n",
       "      <th>2</th>\n",
       "      <td>CartScreenAppear</td>\n",
       "      <td>1238</td>\n",
       "      <td>0.49</td>\n",
       "    </tr>\n",
       "    <tr>\n",
       "      <th>3</th>\n",
       "      <td>PaymentScreenSuccessful</td>\n",
       "      <td>1158</td>\n",
       "      <td>0.46</td>\n",
       "    </tr>\n",
       "    <tr>\n",
       "      <th>4</th>\n",
       "      <td>Tutorial</td>\n",
       "      <td>283</td>\n",
       "      <td>0.11</td>\n",
       "    </tr>\n",
       "  </tbody>\n",
       "</table>\n",
       "</div>"
      ],
      "text/plain": [
       "                   Событие  Количество пользователей  \\\n",
       "0  MainScreenAppear         2476                       \n",
       "1  OffersScreenAppear       1520                       \n",
       "2  CartScreenAppear         1238                       \n",
       "3  PaymentScreenSuccessful  1158                       \n",
       "4  Tutorial                 283                        \n",
       "\n",
       "   Доля от общего числа пользователей  \n",
       "0 0.99                                 \n",
       "1 0.60                                 \n",
       "2 0.49                                 \n",
       "3 0.46                                 \n",
       "4 0.11                                 "
      ]
     },
     "metadata": {},
     "output_type": "display_data"
    },
    {
     "name": "stdout",
     "output_type": "stream",
     "text": [
      "Количество пользователей на каждое событие в группе 3\n"
     ]
    },
    {
     "data": {
      "text/html": [
       "<div>\n",
       "<style scoped>\n",
       "    .dataframe tbody tr th:only-of-type {\n",
       "        vertical-align: middle;\n",
       "    }\n",
       "\n",
       "    .dataframe tbody tr th {\n",
       "        vertical-align: top;\n",
       "    }\n",
       "\n",
       "    .dataframe thead th {\n",
       "        text-align: right;\n",
       "    }\n",
       "</style>\n",
       "<table border=\"1\" class=\"dataframe\">\n",
       "  <thead>\n",
       "    <tr style=\"text-align: right;\">\n",
       "      <th></th>\n",
       "      <th>Событие</th>\n",
       "      <th>Количество пользователей</th>\n",
       "      <th>Доля от общего числа пользователей</th>\n",
       "    </tr>\n",
       "  </thead>\n",
       "  <tbody>\n",
       "    <tr>\n",
       "      <th>0</th>\n",
       "      <td>MainScreenAppear</td>\n",
       "      <td>2493</td>\n",
       "      <td>0.98</td>\n",
       "    </tr>\n",
       "    <tr>\n",
       "      <th>1</th>\n",
       "      <td>OffersScreenAppear</td>\n",
       "      <td>1531</td>\n",
       "      <td>0.60</td>\n",
       "    </tr>\n",
       "    <tr>\n",
       "      <th>2</th>\n",
       "      <td>CartScreenAppear</td>\n",
       "      <td>1230</td>\n",
       "      <td>0.48</td>\n",
       "    </tr>\n",
       "    <tr>\n",
       "      <th>3</th>\n",
       "      <td>PaymentScreenSuccessful</td>\n",
       "      <td>1181</td>\n",
       "      <td>0.47</td>\n",
       "    </tr>\n",
       "    <tr>\n",
       "      <th>4</th>\n",
       "      <td>Tutorial</td>\n",
       "      <td>279</td>\n",
       "      <td>0.11</td>\n",
       "    </tr>\n",
       "  </tbody>\n",
       "</table>\n",
       "</div>"
      ],
      "text/plain": [
       "                   Событие  Количество пользователей  \\\n",
       "0  MainScreenAppear         2493                       \n",
       "1  OffersScreenAppear       1531                       \n",
       "2  CartScreenAppear         1230                       \n",
       "3  PaymentScreenSuccessful  1181                       \n",
       "4  Tutorial                 279                        \n",
       "\n",
       "   Доля от общего числа пользователей  \n",
       "0 0.98                                 \n",
       "1 0.60                                 \n",
       "2 0.48                                 \n",
       "3 0.47                                 \n",
       "4 0.11                                 "
      ]
     },
     "metadata": {},
     "output_type": "display_data"
    }
   ],
   "source": [
    "t1 = users_counts_and_percents_of_event(exp1, 'Количество пользователей на каждое событие в группе 1')\n",
    "t2 = users_counts_and_percents_of_event(exp2, 'Количество пользователей на каждое событие в группе 2')\n",
    "t3 = users_counts_and_percents_of_event(exp3, 'Количество пользователей на каждое событие в группе 3')"
   ]
  },
  {
   "cell_type": "markdown",
   "metadata": {},
   "source": [
    "Проведем z-test для конверсий в группах 1 и 2"
   ]
  },
  {
   "cell_type": "markdown",
   "metadata": {},
   "source": [
    "Напишем гипотезы:\n",
    "* **Нулевая гипотеза 1:** в группах 1 и 2 конверсия пользователей на каждом шаге воронки ***одинакова***\n",
    "* **Альтернативная гипотеза 1:**  в группах 1 и 2 конверсия пользователей на каждом шаге воронки ***различается***"
   ]
  },
  {
   "cell_type": "markdown",
   "metadata": {},
   "source": [
    "Сделаем групповую таблицу 'Кол-во пользователей по событиям в каждой группе'. Также еще раз выведем 'Количество пользователей в каждой экспериментальной группе'"
   ]
  },
  {
   "cell_type": "code",
   "execution_count": 25,
   "metadata": {},
   "outputs": [
    {
     "data": {
      "text/plain": [
       "'Колчество пользователей по событиям в каждой группе (воронка событий по группам) (funnel)'"
      ]
     },
     "metadata": {},
     "output_type": "display_data"
    },
    {
     "data": {
      "text/html": [
       "<div>\n",
       "<style scoped>\n",
       "    .dataframe tbody tr th:only-of-type {\n",
       "        vertical-align: middle;\n",
       "    }\n",
       "\n",
       "    .dataframe tbody tr th {\n",
       "        vertical-align: top;\n",
       "    }\n",
       "\n",
       "    .dataframe thead th {\n",
       "        text-align: right;\n",
       "    }\n",
       "</style>\n",
       "<table border=\"1\" class=\"dataframe\">\n",
       "  <thead>\n",
       "    <tr style=\"text-align: right;\">\n",
       "      <th></th>\n",
       "      <th>event_name</th>\n",
       "      <th>246</th>\n",
       "      <th>247</th>\n",
       "      <th>248</th>\n",
       "    </tr>\n",
       "  </thead>\n",
       "  <tbody>\n",
       "    <tr>\n",
       "      <th>1</th>\n",
       "      <td>MainScreenAppear</td>\n",
       "      <td>2450</td>\n",
       "      <td>2476</td>\n",
       "      <td>2493</td>\n",
       "    </tr>\n",
       "    <tr>\n",
       "      <th>2</th>\n",
       "      <td>OffersScreenAppear</td>\n",
       "      <td>1542</td>\n",
       "      <td>1520</td>\n",
       "      <td>1531</td>\n",
       "    </tr>\n",
       "    <tr>\n",
       "      <th>0</th>\n",
       "      <td>CartScreenAppear</td>\n",
       "      <td>1266</td>\n",
       "      <td>1238</td>\n",
       "      <td>1230</td>\n",
       "    </tr>\n",
       "    <tr>\n",
       "      <th>3</th>\n",
       "      <td>PaymentScreenSuccessful</td>\n",
       "      <td>1200</td>\n",
       "      <td>1158</td>\n",
       "      <td>1181</td>\n",
       "    </tr>\n",
       "    <tr>\n",
       "      <th>4</th>\n",
       "      <td>Tutorial</td>\n",
       "      <td>278</td>\n",
       "      <td>283</td>\n",
       "      <td>279</td>\n",
       "    </tr>\n",
       "  </tbody>\n",
       "</table>\n",
       "</div>"
      ],
      "text/plain": [
       "                event_name   246   247   248\n",
       "1  MainScreenAppear         2450  2476  2493\n",
       "2  OffersScreenAppear       1542  1520  1531\n",
       "0  CartScreenAppear         1266  1238  1230\n",
       "3  PaymentScreenSuccessful  1200  1158  1181\n",
       "4  Tutorial                 278   283   279 "
      ]
     },
     "metadata": {},
     "output_type": "display_data"
    },
    {
     "data": {
      "text/plain": [
       "'Количество пользователей в каждой экспериментальной группе (trials):'"
      ]
     },
     "metadata": {},
     "output_type": "display_data"
    },
    {
     "data": {
      "text/plain": [
       "exp_id\n",
       "246    2484\n",
       "247    2513\n",
       "248    2537\n",
       "Name: user_id, dtype: int64"
      ]
     },
     "metadata": {},
     "output_type": "display_data"
    }
   ],
   "source": [
    "funnel = data.pivot_table(index='event_name', columns='exp_id', aggfunc={'user_id' : 'nunique'}).reset_index() \n",
    "funnel.columns = ['event_name', '246', '247', '248']\n",
    "funnel = funnel.sort_values(by=funnel.columns[1], ascending=False)\n",
    "display('Колчество пользователей по событиям в каждой группе (воронка событий по группам) (funnel)', funnel)\n",
    "display('Количество пользователей в каждой экспериментальной группе (trials):', trials)"
   ]
  },
  {
   "cell_type": "code",
   "execution_count": 26,
   "metadata": {},
   "outputs": [],
   "source": [
    "def check_hypothesis(successes1, successes2, trials1, trials2):\n",
    "    # пропорция успехов в первой группе:\n",
    "    p1 = successes1/trials1\n",
    "    # пропорция успехов во второй группе:\n",
    "    p2 = successes2/trials2\n",
    "\n",
    "    # пропорция успехов в комбинированном датасете:\n",
    "    p_combined = (successes1 + successes2) / (trials1 + trials2)\n",
    "\n",
    "    # разница пропорций в датасетах\n",
    "    difference = p1 - p2 \n",
    "    z_value = difference / math.sqrt(p_combined * (1 - p_combined) * (1/trials1 + 1/trials2))\n",
    "    distr = stats.norm(0, 1)\n",
    "    p_value = (1 - distr.cdf(abs(z_value))) * 2\n",
    "    return p_value"
   ]
  },
  {
   "cell_type": "code",
   "execution_count": null,
   "metadata": {},
   "outputs": [],
   "source": [
    "print('Результат z-теста уровня конверсии пользователей на каждом шаге групп 1 и 2')\n",
    "\n",
    "for i, row in funnel.iterrows():    \n",
    "    print(row[0],\"p-value =\",   check_hypothesis(row[1], row[2], trials.values[0], trials.values[1]))"
   ]
  },
  {
   "cell_type": "markdown",
   "metadata": {},
   "source": [
    "***Вывод:*** Конверсия в группах 1 и 2 вероятно одинакова, так как p-value двух выборок значительно выше 0,05 (от 0,25 до 0,94). Склоняемся к нулевой гипотезе. Похоже, что контрольные группы не имеют искаженных результатов и выбранный период достаточен для наших тестов."
   ]
  },
  {
   "cell_type": "markdown",
   "metadata": {},
   "source": [
    "Теперь можем провести z-test для конверсий в группах 1 и 3, а также 2 и 3"
   ]
  },
  {
   "cell_type": "markdown",
   "metadata": {},
   "source": [
    "* **Нулевая гипотеза 2:** в группах 1 и 3 средний уровень конверсии пользователей на каждом шаге воронки ***одинаковый***\n",
    "* **Альтернативная гипотеза 2:**  в группах 1 и 3 средний уровень конверсии пользователей на каждом шаге воронки ***различается***"
   ]
  },
  {
   "cell_type": "code",
   "execution_count": 28,
   "metadata": {},
   "outputs": [
    {
     "name": "stdout",
     "output_type": "stream",
     "text": [
      "Результат z-теста уровня конверсии пользователей на каждом шаге групп 1 и 3\n",
      "MainScreenAppear p-value = 0.2949721933554552\n",
      "OffersScreenAppear p-value = 0.20836205402738917\n",
      "CartScreenAppear p-value = 0.07842923237520116\n",
      "PaymentScreenSuccessful p-value = 0.2122553275697796\n",
      "Tutorial p-value = 0.8264294010087645\n"
     ]
    }
   ],
   "source": [
    "print('Результат z-теста уровня конверсии пользователей на каждом шаге групп 1 и 3')\n",
    "\n",
    "for i, row in funnel.iterrows():    \n",
    "    print(row[0],\"p-value =\",   check_hypothesis(row[1], row[3], trials.values[0], trials.values[2]))"
   ]
  },
  {
   "cell_type": "markdown",
   "metadata": {},
   "source": [
    "* **Нулевая гипотеза 3:** в группах 2 и 3 конверсии пользователей на каждом шаге воронки ***одинаковы***\n",
    "* **Альтернативная гипотеза 3:**  в группах 2 и 3 конверсии пользователей на каждом шаге воронки ***различаются***"
   ]
  },
  {
   "cell_type": "code",
   "execution_count": 29,
   "metadata": {},
   "outputs": [
    {
     "data": {
      "text/plain": [
       "'Результат z-теста уровня конверсии пользователей на каждом шаге групп 2 и 3'"
      ]
     },
     "metadata": {},
     "output_type": "display_data"
    },
    {
     "name": "stdout",
     "output_type": "stream",
     "text": [
      "MainScreenAppear p-value = 0.4587053616621515\n",
      "OffersScreenAppear p-value = 0.9197817830592261\n",
      "CartScreenAppear p-value = 0.5786197879539783\n",
      "PaymentScreenSuccessful p-value = 0.7373415053803964\n",
      "Tutorial p-value = 0.765323922474501\n"
     ]
    }
   ],
   "source": [
    "display('Результат z-теста уровня конверсии пользователей на каждом шаге групп 2 и 3')\n",
    "\n",
    "for i, row in funnel.iterrows():    \n",
    "    print(row[0],\"p-value =\",   check_hypothesis(row[2], row[3], trials.values[1], trials.values[2]))  "
   ]
  },
  {
   "cell_type": "markdown",
   "metadata": {},
   "source": [
    "***Вывод:*** Конверсии пользователей в группах 1 и 3, а также группах 2 и 3 вероятно одинаковы, так как по z-тесту p-value в обоих случаях очень высокий (от 0.21 и выше). Склоняемся к нулевым гипотезам"
   ]
  },
  {
   "cell_type": "markdown",
   "metadata": {},
   "source": [
    "Теперь проведем сравнение 3й группы с объединенными группами 1 и 2"
   ]
  },
  {
   "cell_type": "markdown",
   "metadata": {},
   "source": [
    "* **Нулевая гипотеза 4:** в группах 2 и 3 средний уровень конверсии пользователей на каждом шаге воронки ***одинаковый***\n",
    "* **Альтернативная гипотеза 4:**  в группах 2 и 3 средний уровень конверсии пользователей на каждом шаге воронки ***различается***"
   ]
  },
  {
   "cell_type": "markdown",
   "metadata": {},
   "source": [
    "Выведем еще раз таблицы для удобства наглядности написания кода"
   ]
  },
  {
   "cell_type": "code",
   "execution_count": 30,
   "metadata": {},
   "outputs": [
    {
     "name": "stdout",
     "output_type": "stream",
     "text": [
      "Количество пользователей на каждое событие в совмещенной группе 1+2  event_name\n",
      "MainScreenAppear           4926\n",
      "OffersScreenAppear         3062\n",
      "CartScreenAppear           2504\n",
      "PaymentScreenSuccessful    2358\n",
      "Tutorial                   561 \n",
      "Name: user_id, dtype: int64\n"
     ]
    },
    {
     "data": {
      "text/plain": [
       "'Колчество пользователей по событиям в каждой группе (воронка событий по группам)'"
      ]
     },
     "metadata": {},
     "output_type": "display_data"
    },
    {
     "data": {
      "text/html": [
       "<div>\n",
       "<style scoped>\n",
       "    .dataframe tbody tr th:only-of-type {\n",
       "        vertical-align: middle;\n",
       "    }\n",
       "\n",
       "    .dataframe tbody tr th {\n",
       "        vertical-align: top;\n",
       "    }\n",
       "\n",
       "    .dataframe thead th {\n",
       "        text-align: right;\n",
       "    }\n",
       "</style>\n",
       "<table border=\"1\" class=\"dataframe\">\n",
       "  <thead>\n",
       "    <tr style=\"text-align: right;\">\n",
       "      <th></th>\n",
       "      <th>event_name</th>\n",
       "      <th>246</th>\n",
       "      <th>247</th>\n",
       "      <th>248</th>\n",
       "    </tr>\n",
       "  </thead>\n",
       "  <tbody>\n",
       "    <tr>\n",
       "      <th>1</th>\n",
       "      <td>MainScreenAppear</td>\n",
       "      <td>2450</td>\n",
       "      <td>2476</td>\n",
       "      <td>2493</td>\n",
       "    </tr>\n",
       "    <tr>\n",
       "      <th>2</th>\n",
       "      <td>OffersScreenAppear</td>\n",
       "      <td>1542</td>\n",
       "      <td>1520</td>\n",
       "      <td>1531</td>\n",
       "    </tr>\n",
       "    <tr>\n",
       "      <th>0</th>\n",
       "      <td>CartScreenAppear</td>\n",
       "      <td>1266</td>\n",
       "      <td>1238</td>\n",
       "      <td>1230</td>\n",
       "    </tr>\n",
       "    <tr>\n",
       "      <th>3</th>\n",
       "      <td>PaymentScreenSuccessful</td>\n",
       "      <td>1200</td>\n",
       "      <td>1158</td>\n",
       "      <td>1181</td>\n",
       "    </tr>\n",
       "    <tr>\n",
       "      <th>4</th>\n",
       "      <td>Tutorial</td>\n",
       "      <td>278</td>\n",
       "      <td>283</td>\n",
       "      <td>279</td>\n",
       "    </tr>\n",
       "  </tbody>\n",
       "</table>\n",
       "</div>"
      ],
      "text/plain": [
       "                event_name   246   247   248\n",
       "1  MainScreenAppear         2450  2476  2493\n",
       "2  OffersScreenAppear       1542  1520  1531\n",
       "0  CartScreenAppear         1266  1238  1230\n",
       "3  PaymentScreenSuccessful  1200  1158  1181\n",
       "4  Tutorial                 278   283   279 "
      ]
     },
     "metadata": {},
     "output_type": "display_data"
    },
    {
     "name": "stdout",
     "output_type": "stream",
     "text": [
      "Общее пользователей в каждой группе\n",
      " exp_id\n",
      "246    2484\n",
      "247    2513\n",
      "248    2537\n",
      "Name: user_id, dtype: int64\n"
     ]
    }
   ],
   "source": [
    "exp12 = data.query('exp_id == 246 or exp_id == 247')\n",
    "trials_gr12 = exp12['user_id'].nunique()\n",
    "\n",
    "users_by_exp12 = exp12.groupby('event_name')['user_id'].nunique().sort_values(ascending=False)\n",
    "\n",
    "print('Количество пользователей на каждое событие в совмещенной группе 1+2 ',users_by_exp12)\n",
    "\n",
    "display('Колчество пользователей по событиям в каждой группе (воронка событий по группам)', funnel)\n",
    "print('Общее пользователей в каждой группе\\n', trials)"
   ]
  },
  {
   "cell_type": "code",
   "execution_count": null,
   "metadata": {},
   "outputs": [],
   "source": [
    "print('Результат z-теста конверсий пользователей на каждом шаге совмезенной группы А1+А2 и группы B')\n",
    "\n",
    "for i, row in funnel.iterrows():    \n",
    "    print(row[0],\"p-value =\", check_hypothesis(users_by_exp12[row[0]], row[3], trials_gr12, trials.values[2]))\n"
   ]
  },
  {
   "cell_type": "markdown",
   "metadata": {},
   "source": [
    "***Вывод:*** Конверсии по пользователей в совмещенной группе (А+А) и группе B вероятно одинаковы, так как p-value в обоих очень высокий (>0.62). Склоняемся к нулевым гипотезам"
   ]
  },
  {
   "cell_type": "markdown",
   "metadata": {},
   "source": [
    "**Вывод по шагу:** Статистическое сравнение между выборками по трём группам произведено."
   ]
  },
  {
   "cell_type": "markdown",
   "metadata": {},
   "source": [
    "<a id='summary'></a>\n",
    "## Вывод"
   ]
  },
  {
   "cell_type": "markdown",
   "metadata": {},
   "source": [
    "**Выпишем выводы с предыдущих шагов**\n",
    "\n",
    "* Доступный период для анализа с полными данными: с 2019-08-01 по 2019-08-07 (6 дней 21:07:49)\n",
    "* Самые большие потери при переходе с главной на страницу предложений. Возможно проблемы чисто технические. 47,7% пользователей доходит от первого события до оплаты.\n",
    "\n",
    "* Конверсия в группах 1 и 2 вероятно одинакова, так как p-value двух выборок значительно выше 0,05 (от 0,25 до 0,94). Склоняемся к нулевой гипотезе. Похоже, что контрольные группы не имеют искаженных результатов и выбранный период достаточен для наших тестов.\n",
    "\n",
    "* Конверсии пользователей в группах 1 и 3, а также группах 2 и 3 вероятно одинаковы, так как по z-тесту p-value в обоих случаях очень высокий (от 0.21 и выше). Склоняемся к нулевым гипотезам\n",
    "\n",
    "* Конверсии по пользователей в совмещенной группе (А+А) и группе B вероятно одинаковы, так как p-value в обоих очень высокий (>0.62). Склоняемся к нулевым гипотезам\n"
   ]
  },
  {
   "cell_type": "markdown",
   "metadata": {},
   "source": [
    "**Общие выводы**\n",
    "* Из доступного нам периода с высокой вероятностью подытожим, что эксперементальняе группы статистически одинаковы. Получается, что изменение шрифтов заметно не сказалось на пользовании сайтом.\n",
    "* Также нужно детальней проверить причины потери 38% пользователей после посещения главной страницы."
   ]
  }
 ],
 "metadata": {
  "ExecuteTimeLog": [
   {
    "duration": 1566,
    "start_time": "2022-03-27T13:37:36.955Z"
   },
   {
    "duration": 197,
    "start_time": "2022-03-27T13:37:42.491Z"
   },
   {
    "duration": 15,
    "start_time": "2022-03-27T13:37:49.610Z"
   },
   {
    "duration": 6,
    "start_time": "2022-03-27T13:37:55.264Z"
   },
   {
    "duration": 104,
    "start_time": "2022-03-27T13:38:02.091Z"
   },
   {
    "duration": 134,
    "start_time": "2022-03-27T13:38:51.726Z"
   },
   {
    "duration": 39,
    "start_time": "2022-03-27T13:39:07.772Z"
   },
   {
    "duration": 20,
    "start_time": "2022-03-27T13:39:23.262Z"
   },
   {
    "duration": 84,
    "start_time": "2022-03-27T13:39:36.609Z"
   },
   {
    "duration": 99,
    "start_time": "2022-03-27T13:39:56.173Z"
   },
   {
    "duration": 95,
    "start_time": "2022-03-27T13:40:19.206Z"
   },
   {
    "duration": 6,
    "start_time": "2022-03-27T13:59:40.990Z"
   },
   {
    "duration": 2136,
    "start_time": "2022-03-27T14:00:07.694Z"
   },
   {
    "duration": 29,
    "start_time": "2022-03-27T14:00:17.134Z"
   },
   {
    "duration": 17,
    "start_time": "2022-03-27T14:01:54.734Z"
   },
   {
    "duration": 13,
    "start_time": "2022-03-27T14:01:57.676Z"
   },
   {
    "duration": 16,
    "start_time": "2022-03-27T14:01:59.713Z"
   },
   {
    "duration": 7,
    "start_time": "2022-03-27T14:02:06.094Z"
   },
   {
    "duration": 7,
    "start_time": "2022-03-27T14:02:11.514Z"
   },
   {
    "duration": 10,
    "start_time": "2022-03-27T14:02:37.550Z"
   },
   {
    "duration": 11,
    "start_time": "2022-03-27T14:02:42.510Z"
   },
   {
    "duration": 5,
    "start_time": "2022-03-27T14:02:54.014Z"
   },
   {
    "duration": 6,
    "start_time": "2022-03-27T14:03:01.202Z"
   },
   {
    "duration": 6,
    "start_time": "2022-03-27T14:03:01.715Z"
   },
   {
    "duration": 5,
    "start_time": "2022-03-27T14:04:46.735Z"
   },
   {
    "duration": 8,
    "start_time": "2022-03-27T14:04:59.174Z"
   },
   {
    "duration": 115,
    "start_time": "2022-03-27T14:05:55.885Z"
   },
   {
    "duration": 8,
    "start_time": "2022-03-27T14:06:04.166Z"
   },
   {
    "duration": 10,
    "start_time": "2022-03-27T14:07:34.534Z"
   },
   {
    "duration": 9,
    "start_time": "2022-03-27T14:10:27.013Z"
   },
   {
    "duration": 443,
    "start_time": "2022-03-27T14:11:07.914Z"
   },
   {
    "duration": 478,
    "start_time": "2022-03-27T14:11:11.053Z"
   },
   {
    "duration": 1359,
    "start_time": "2022-03-27T14:11:16.982Z"
   },
   {
    "duration": 220,
    "start_time": "2022-03-27T14:11:18.347Z"
   },
   {
    "duration": 22,
    "start_time": "2022-03-27T14:11:18.570Z"
   },
   {
    "duration": 5,
    "start_time": "2022-03-27T14:11:18.595Z"
   },
   {
    "duration": 113,
    "start_time": "2022-03-27T14:11:18.602Z"
   },
   {
    "duration": 65,
    "start_time": "2022-03-27T14:11:18.718Z"
   },
   {
    "duration": 19,
    "start_time": "2022-03-27T14:11:18.785Z"
   },
   {
    "duration": 108,
    "start_time": "2022-03-27T14:11:18.806Z"
   },
   {
    "duration": 105,
    "start_time": "2022-03-27T14:11:18.919Z"
   },
   {
    "duration": 108,
    "start_time": "2022-03-27T14:11:19.027Z"
   },
   {
    "duration": 8,
    "start_time": "2022-03-27T14:11:19.137Z"
   },
   {
    "duration": 12,
    "start_time": "2022-03-27T14:11:19.147Z"
   },
   {
    "duration": 6,
    "start_time": "2022-03-27T14:11:19.182Z"
   },
   {
    "duration": 131,
    "start_time": "2022-03-27T14:12:26.305Z"
   },
   {
    "duration": 48,
    "start_time": "2022-03-27T14:12:36.561Z"
   },
   {
    "duration": 12,
    "start_time": "2022-03-27T14:14:57.808Z"
   },
   {
    "duration": 33,
    "start_time": "2022-03-27T14:15:09.337Z"
   },
   {
    "duration": 48,
    "start_time": "2022-03-27T14:15:20.868Z"
   },
   {
    "duration": 52,
    "start_time": "2022-03-27T14:15:24.186Z"
   },
   {
    "duration": 72,
    "start_time": "2022-03-27T14:16:30.508Z"
   },
   {
    "duration": 50,
    "start_time": "2022-03-27T14:16:59.332Z"
   },
   {
    "duration": 7,
    "start_time": "2022-03-27T14:20:22.667Z"
   },
   {
    "duration": 8,
    "start_time": "2022-03-27T14:20:58.529Z"
   },
   {
    "duration": 10,
    "start_time": "2022-03-27T14:21:51.151Z"
   },
   {
    "duration": 14,
    "start_time": "2022-03-27T14:22:08.931Z"
   },
   {
    "duration": 14,
    "start_time": "2022-03-27T14:22:11.324Z"
   },
   {
    "duration": 10,
    "start_time": "2022-03-27T14:22:17.314Z"
   },
   {
    "duration": 10,
    "start_time": "2022-03-27T14:22:22.544Z"
   },
   {
    "duration": 18,
    "start_time": "2022-03-27T14:22:37.385Z"
   },
   {
    "duration": 17,
    "start_time": "2022-03-27T14:22:42.188Z"
   },
   {
    "duration": 17,
    "start_time": "2022-03-27T14:22:48.009Z"
   },
   {
    "duration": 18,
    "start_time": "2022-03-27T14:23:39.008Z"
   },
   {
    "duration": 18,
    "start_time": "2022-03-27T14:23:44.108Z"
   },
   {
    "duration": 10,
    "start_time": "2022-03-27T14:23:54.548Z"
   },
   {
    "duration": 18,
    "start_time": "2022-03-27T14:24:10.588Z"
   },
   {
    "duration": 20,
    "start_time": "2022-03-27T14:24:16.007Z"
   },
   {
    "duration": 94,
    "start_time": "2022-03-27T14:28:31.323Z"
   },
   {
    "duration": 43,
    "start_time": "2022-03-27T14:28:48.153Z"
   },
   {
    "duration": 1247,
    "start_time": "2022-03-27T14:28:53.040Z"
   },
   {
    "duration": 166,
    "start_time": "2022-03-27T14:28:54.289Z"
   },
   {
    "duration": 11,
    "start_time": "2022-03-27T14:28:54.456Z"
   },
   {
    "duration": 4,
    "start_time": "2022-03-27T14:28:54.468Z"
   },
   {
    "duration": 84,
    "start_time": "2022-03-27T14:28:54.474Z"
   },
   {
    "duration": 30,
    "start_time": "2022-03-27T14:28:54.559Z"
   },
   {
    "duration": 14,
    "start_time": "2022-03-27T14:28:54.591Z"
   },
   {
    "duration": 92,
    "start_time": "2022-03-27T14:28:54.606Z"
   },
   {
    "duration": 87,
    "start_time": "2022-03-27T14:28:54.700Z"
   },
   {
    "duration": 70,
    "start_time": "2022-03-27T14:28:54.788Z"
   },
   {
    "duration": 7,
    "start_time": "2022-03-27T14:28:54.860Z"
   },
   {
    "duration": 9,
    "start_time": "2022-03-27T14:28:54.868Z"
   },
   {
    "duration": 5,
    "start_time": "2022-03-27T14:28:54.878Z"
   },
   {
    "duration": 9,
    "start_time": "2022-03-27T14:28:54.886Z"
   },
   {
    "duration": 400,
    "start_time": "2022-03-27T14:29:36.419Z"
   },
   {
    "duration": 1114,
    "start_time": "2022-03-27T14:29:53.074Z"
   },
   {
    "duration": 165,
    "start_time": "2022-03-27T14:29:54.190Z"
   },
   {
    "duration": 11,
    "start_time": "2022-03-27T14:29:54.360Z"
   },
   {
    "duration": 5,
    "start_time": "2022-03-27T14:29:54.372Z"
   },
   {
    "duration": 90,
    "start_time": "2022-03-27T14:29:54.379Z"
   },
   {
    "duration": 1489,
    "start_time": "2022-03-27T14:29:54.470Z"
   },
   {
    "duration": 0,
    "start_time": "2022-03-27T14:29:55.962Z"
   },
   {
    "duration": 0,
    "start_time": "2022-03-27T14:29:55.963Z"
   },
   {
    "duration": 0,
    "start_time": "2022-03-27T14:29:55.964Z"
   },
   {
    "duration": 0,
    "start_time": "2022-03-27T14:29:55.965Z"
   },
   {
    "duration": 0,
    "start_time": "2022-03-27T14:29:55.966Z"
   },
   {
    "duration": 0,
    "start_time": "2022-03-27T14:29:55.967Z"
   },
   {
    "duration": 0,
    "start_time": "2022-03-27T14:29:55.969Z"
   },
   {
    "duration": 0,
    "start_time": "2022-03-27T14:29:55.970Z"
   },
   {
    "duration": 0,
    "start_time": "2022-03-27T14:29:55.971Z"
   },
   {
    "duration": 187,
    "start_time": "2022-03-27T14:30:00.313Z"
   },
   {
    "duration": 6,
    "start_time": "2022-03-27T14:30:03.473Z"
   },
   {
    "duration": 29,
    "start_time": "2022-03-27T14:30:15.563Z"
   },
   {
    "duration": 1082,
    "start_time": "2022-03-27T14:30:19.987Z"
   },
   {
    "duration": 169,
    "start_time": "2022-03-27T14:30:21.071Z"
   },
   {
    "duration": 11,
    "start_time": "2022-03-27T14:30:21.242Z"
   },
   {
    "duration": 4,
    "start_time": "2022-03-27T14:30:21.254Z"
   },
   {
    "duration": 87,
    "start_time": "2022-03-27T14:30:21.260Z"
   },
   {
    "duration": 31,
    "start_time": "2022-03-27T14:30:21.348Z"
   },
   {
    "duration": 16,
    "start_time": "2022-03-27T14:30:21.381Z"
   },
   {
    "duration": 95,
    "start_time": "2022-03-27T14:30:21.399Z"
   },
   {
    "duration": 93,
    "start_time": "2022-03-27T14:30:21.495Z"
   },
   {
    "duration": 1418,
    "start_time": "2022-03-27T14:30:21.589Z"
   },
   {
    "duration": 0,
    "start_time": "2022-03-27T14:30:23.009Z"
   },
   {
    "duration": 0,
    "start_time": "2022-03-27T14:30:23.010Z"
   },
   {
    "duration": 0,
    "start_time": "2022-03-27T14:30:23.011Z"
   },
   {
    "duration": 0,
    "start_time": "2022-03-27T14:30:23.012Z"
   },
   {
    "duration": 0,
    "start_time": "2022-03-27T14:30:23.013Z"
   },
   {
    "duration": 66,
    "start_time": "2022-03-27T14:30:29.783Z"
   },
   {
    "duration": 1157,
    "start_time": "2022-03-27T14:30:37.101Z"
   },
   {
    "duration": 175,
    "start_time": "2022-03-27T14:30:38.260Z"
   },
   {
    "duration": 10,
    "start_time": "2022-03-27T14:30:38.436Z"
   },
   {
    "duration": 7,
    "start_time": "2022-03-27T14:30:38.448Z"
   },
   {
    "duration": 86,
    "start_time": "2022-03-27T14:30:38.457Z"
   },
   {
    "duration": 30,
    "start_time": "2022-03-27T14:30:38.544Z"
   },
   {
    "duration": 18,
    "start_time": "2022-03-27T14:30:38.576Z"
   },
   {
    "duration": 86,
    "start_time": "2022-03-27T14:30:38.596Z"
   },
   {
    "duration": 174,
    "start_time": "2022-03-27T14:30:38.684Z"
   },
   {
    "duration": 107,
    "start_time": "2022-03-27T14:30:38.861Z"
   },
   {
    "duration": 7,
    "start_time": "2022-03-27T14:30:38.971Z"
   },
   {
    "duration": 9,
    "start_time": "2022-03-27T14:30:38.980Z"
   },
   {
    "duration": 7,
    "start_time": "2022-03-27T14:30:38.991Z"
   },
   {
    "duration": 45,
    "start_time": "2022-03-27T14:30:39.000Z"
   },
   {
    "duration": 383,
    "start_time": "2022-03-27T14:30:39.047Z"
   },
   {
    "duration": 106,
    "start_time": "2022-03-27T14:31:08.322Z"
   },
   {
    "duration": 182,
    "start_time": "2022-03-27T14:31:31.662Z"
   },
   {
    "duration": 184,
    "start_time": "2022-03-27T14:31:37.524Z"
   },
   {
    "duration": 180,
    "start_time": "2022-03-27T14:31:55.306Z"
   },
   {
    "duration": 184,
    "start_time": "2022-03-27T14:32:01.220Z"
   },
   {
    "duration": 176,
    "start_time": "2022-03-27T14:32:07.529Z"
   },
   {
    "duration": 48,
    "start_time": "2022-03-27T14:49:00.602Z"
   },
   {
    "duration": 1232,
    "start_time": "2022-03-27T14:49:05.961Z"
   },
   {
    "duration": 175,
    "start_time": "2022-03-27T14:49:07.195Z"
   },
   {
    "duration": 11,
    "start_time": "2022-03-27T14:49:07.372Z"
   },
   {
    "duration": 4,
    "start_time": "2022-03-27T14:49:07.385Z"
   },
   {
    "duration": 102,
    "start_time": "2022-03-27T14:49:07.391Z"
   },
   {
    "duration": 48,
    "start_time": "2022-03-27T14:49:07.495Z"
   },
   {
    "duration": 16,
    "start_time": "2022-03-27T14:49:07.544Z"
   },
   {
    "duration": 82,
    "start_time": "2022-03-27T14:49:07.562Z"
   },
   {
    "duration": 76,
    "start_time": "2022-03-27T14:49:07.646Z"
   },
   {
    "duration": 73,
    "start_time": "2022-03-27T14:49:07.724Z"
   },
   {
    "duration": 6,
    "start_time": "2022-03-27T14:49:07.799Z"
   },
   {
    "duration": 10,
    "start_time": "2022-03-27T14:49:07.807Z"
   },
   {
    "duration": 22,
    "start_time": "2022-03-27T14:49:07.819Z"
   },
   {
    "duration": 7,
    "start_time": "2022-03-27T14:49:07.844Z"
   },
   {
    "duration": 403,
    "start_time": "2022-03-27T14:49:07.853Z"
   },
   {
    "duration": 29,
    "start_time": "2022-03-27T14:55:25.189Z"
   },
   {
    "duration": 15,
    "start_time": "2022-03-27T14:55:27.664Z"
   },
   {
    "duration": 27,
    "start_time": "2022-03-27T14:55:31.383Z"
   },
   {
    "duration": 21,
    "start_time": "2022-03-27T14:55:36.374Z"
   },
   {
    "duration": 23,
    "start_time": "2022-03-27T14:55:41.663Z"
   },
   {
    "duration": 25,
    "start_time": "2022-03-27T14:55:48.003Z"
   },
   {
    "duration": 25,
    "start_time": "2022-03-27T14:55:51.874Z"
   },
   {
    "duration": 1188,
    "start_time": "2022-03-27T14:55:59.709Z"
   },
   {
    "duration": 162,
    "start_time": "2022-03-27T14:56:00.899Z"
   },
   {
    "duration": 11,
    "start_time": "2022-03-27T14:56:01.063Z"
   },
   {
    "duration": 3,
    "start_time": "2022-03-27T14:56:01.076Z"
   },
   {
    "duration": 82,
    "start_time": "2022-03-27T14:56:01.081Z"
   },
   {
    "duration": 29,
    "start_time": "2022-03-27T14:56:01.165Z"
   },
   {
    "duration": 42,
    "start_time": "2022-03-27T14:56:01.196Z"
   },
   {
    "duration": 81,
    "start_time": "2022-03-27T14:56:01.240Z"
   },
   {
    "duration": 84,
    "start_time": "2022-03-27T14:56:01.323Z"
   },
   {
    "duration": 76,
    "start_time": "2022-03-27T14:56:01.409Z"
   },
   {
    "duration": 18,
    "start_time": "2022-03-27T14:56:01.487Z"
   },
   {
    "duration": 16,
    "start_time": "2022-03-27T14:56:01.506Z"
   },
   {
    "duration": 17,
    "start_time": "2022-03-27T14:56:01.524Z"
   },
   {
    "duration": 17,
    "start_time": "2022-03-27T14:56:01.543Z"
   },
   {
    "duration": 359,
    "start_time": "2022-03-27T14:56:01.562Z"
   },
   {
    "duration": 38,
    "start_time": "2022-03-27T14:56:01.923Z"
   },
   {
    "duration": 15,
    "start_time": "2022-03-27T14:56:09.504Z"
   },
   {
    "duration": 18,
    "start_time": "2022-03-27T14:56:31.623Z"
   },
   {
    "duration": 3,
    "start_time": "2022-03-27T14:58:48.701Z"
   },
   {
    "duration": 5,
    "start_time": "2022-03-27T14:59:04.286Z"
   },
   {
    "duration": 4,
    "start_time": "2022-03-27T14:59:26.353Z"
   },
   {
    "duration": 3,
    "start_time": "2022-03-27T15:00:48.764Z"
   },
   {
    "duration": 4,
    "start_time": "2022-03-27T15:01:14.261Z"
   },
   {
    "duration": 1111,
    "start_time": "2022-03-27T15:01:19.698Z"
   },
   {
    "duration": 162,
    "start_time": "2022-03-27T15:01:20.811Z"
   },
   {
    "duration": 10,
    "start_time": "2022-03-27T15:01:20.975Z"
   },
   {
    "duration": 5,
    "start_time": "2022-03-27T15:01:20.987Z"
   },
   {
    "duration": 84,
    "start_time": "2022-03-27T15:01:20.994Z"
   },
   {
    "duration": 32,
    "start_time": "2022-03-27T15:01:21.079Z"
   },
   {
    "duration": 39,
    "start_time": "2022-03-27T15:01:21.112Z"
   },
   {
    "duration": 66,
    "start_time": "2022-03-27T15:01:21.153Z"
   },
   {
    "duration": 93,
    "start_time": "2022-03-27T15:01:21.221Z"
   },
   {
    "duration": 80,
    "start_time": "2022-03-27T15:01:21.316Z"
   },
   {
    "duration": 9,
    "start_time": "2022-03-27T15:01:21.398Z"
   },
   {
    "duration": 18,
    "start_time": "2022-03-27T15:01:21.409Z"
   },
   {
    "duration": 9,
    "start_time": "2022-03-27T15:01:21.429Z"
   },
   {
    "duration": 12,
    "start_time": "2022-03-27T15:01:21.440Z"
   },
   {
    "duration": 370,
    "start_time": "2022-03-27T15:01:21.454Z"
   },
   {
    "duration": 35,
    "start_time": "2022-03-27T15:01:21.825Z"
   },
   {
    "duration": 4,
    "start_time": "2022-03-27T15:01:21.862Z"
   },
   {
    "duration": 6,
    "start_time": "2022-03-27T15:01:45.731Z"
   },
   {
    "duration": 6,
    "start_time": "2022-03-27T15:01:49.353Z"
   },
   {
    "duration": 997,
    "start_time": "2022-03-27T15:01:53.891Z"
   },
   {
    "duration": 160,
    "start_time": "2022-03-27T15:01:54.890Z"
   },
   {
    "duration": 11,
    "start_time": "2022-03-27T15:01:55.052Z"
   },
   {
    "duration": 4,
    "start_time": "2022-03-27T15:01:55.064Z"
   },
   {
    "duration": 78,
    "start_time": "2022-03-27T15:01:55.070Z"
   },
   {
    "duration": 29,
    "start_time": "2022-03-27T15:01:55.150Z"
   },
   {
    "duration": 15,
    "start_time": "2022-03-27T15:01:55.180Z"
   },
   {
    "duration": 90,
    "start_time": "2022-03-27T15:01:55.197Z"
   },
   {
    "duration": 84,
    "start_time": "2022-03-27T15:01:55.289Z"
   },
   {
    "duration": 71,
    "start_time": "2022-03-27T15:01:55.375Z"
   },
   {
    "duration": 6,
    "start_time": "2022-03-27T15:01:55.448Z"
   },
   {
    "duration": 8,
    "start_time": "2022-03-27T15:01:55.456Z"
   },
   {
    "duration": 3,
    "start_time": "2022-03-27T15:01:55.466Z"
   },
   {
    "duration": 7,
    "start_time": "2022-03-27T15:01:55.472Z"
   },
   {
    "duration": 375,
    "start_time": "2022-03-27T15:01:55.481Z"
   },
   {
    "duration": 30,
    "start_time": "2022-03-27T15:01:55.857Z"
   },
   {
    "duration": 5,
    "start_time": "2022-03-27T15:01:55.889Z"
   },
   {
    "duration": 9,
    "start_time": "2022-03-27T15:02:33.161Z"
   },
   {
    "duration": 99,
    "start_time": "2022-03-27T15:02:38.229Z"
   },
   {
    "duration": 14,
    "start_time": "2022-03-27T15:02:45.418Z"
   },
   {
    "duration": 14,
    "start_time": "2022-03-27T15:02:47.514Z"
   },
   {
    "duration": 12,
    "start_time": "2022-03-27T15:02:50.700Z"
   },
   {
    "duration": 17,
    "start_time": "2022-03-27T15:03:53.802Z"
   },
   {
    "duration": 38,
    "start_time": "2022-03-27T15:04:10.022Z"
   },
   {
    "duration": 33,
    "start_time": "2022-03-27T15:04:58.222Z"
   },
   {
    "duration": 32,
    "start_time": "2022-03-27T15:05:04.581Z"
   },
   {
    "duration": 46,
    "start_time": "2022-03-27T15:05:40.565Z"
   },
   {
    "duration": 32,
    "start_time": "2022-03-27T15:05:45.133Z"
   },
   {
    "duration": 1403,
    "start_time": "2022-03-27T15:08:00.901Z"
   },
   {
    "duration": 284,
    "start_time": "2022-03-27T15:08:13.509Z"
   },
   {
    "duration": 80,
    "start_time": "2022-03-27T15:54:04.439Z"
   },
   {
    "duration": 12,
    "start_time": "2022-03-27T15:57:09.835Z"
   },
   {
    "duration": 1111,
    "start_time": "2022-03-27T15:57:15.384Z"
   },
   {
    "duration": 169,
    "start_time": "2022-03-27T15:57:16.497Z"
   },
   {
    "duration": 12,
    "start_time": "2022-03-27T15:57:16.668Z"
   },
   {
    "duration": 12,
    "start_time": "2022-03-27T15:57:16.682Z"
   },
   {
    "duration": 88,
    "start_time": "2022-03-27T15:57:16.696Z"
   },
   {
    "duration": 58,
    "start_time": "2022-03-27T15:57:16.785Z"
   },
   {
    "duration": 16,
    "start_time": "2022-03-27T15:57:16.844Z"
   },
   {
    "duration": 82,
    "start_time": "2022-03-27T15:57:16.861Z"
   },
   {
    "duration": 78,
    "start_time": "2022-03-27T15:57:16.945Z"
   },
   {
    "duration": 79,
    "start_time": "2022-03-27T15:57:17.025Z"
   },
   {
    "duration": 8,
    "start_time": "2022-03-27T15:57:17.106Z"
   },
   {
    "duration": 26,
    "start_time": "2022-03-27T15:57:17.116Z"
   },
   {
    "duration": 24,
    "start_time": "2022-03-27T15:57:17.144Z"
   },
   {
    "duration": 24,
    "start_time": "2022-03-27T15:57:17.171Z"
   },
   {
    "duration": 364,
    "start_time": "2022-03-27T15:57:17.198Z"
   },
   {
    "duration": 31,
    "start_time": "2022-03-27T15:57:17.564Z"
   },
   {
    "duration": 54,
    "start_time": "2022-03-27T15:57:17.597Z"
   },
   {
    "duration": 104,
    "start_time": "2022-03-27T15:57:17.653Z"
   },
   {
    "duration": 14,
    "start_time": "2022-03-27T15:57:31.657Z"
   },
   {
    "duration": 24,
    "start_time": "2022-03-27T15:57:42.106Z"
   },
   {
    "duration": 9,
    "start_time": "2022-03-27T16:04:17.178Z"
   },
   {
    "duration": 9,
    "start_time": "2022-03-27T16:04:24.788Z"
   },
   {
    "duration": 24,
    "start_time": "2022-03-27T16:04:31.793Z"
   },
   {
    "duration": 36,
    "start_time": "2022-03-27T16:05:14.651Z"
   },
   {
    "duration": 51,
    "start_time": "2022-03-27T16:05:17.957Z"
   },
   {
    "duration": 1913,
    "start_time": "2022-03-27T16:15:12.902Z"
   },
   {
    "duration": 228,
    "start_time": "2022-03-27T16:15:14.817Z"
   },
   {
    "duration": 16,
    "start_time": "2022-03-27T16:15:15.048Z"
   },
   {
    "duration": 6,
    "start_time": "2022-03-27T16:15:15.083Z"
   },
   {
    "duration": 141,
    "start_time": "2022-03-27T16:15:15.092Z"
   },
   {
    "duration": 68,
    "start_time": "2022-03-27T16:15:15.235Z"
   },
   {
    "duration": 31,
    "start_time": "2022-03-27T16:15:15.305Z"
   },
   {
    "duration": 174,
    "start_time": "2022-03-27T16:15:15.340Z"
   },
   {
    "duration": 177,
    "start_time": "2022-03-27T16:15:15.517Z"
   },
   {
    "duration": 190,
    "start_time": "2022-03-27T16:15:15.699Z"
   },
   {
    "duration": 40,
    "start_time": "2022-03-27T16:15:15.892Z"
   },
   {
    "duration": 54,
    "start_time": "2022-03-27T16:15:15.935Z"
   },
   {
    "duration": 38,
    "start_time": "2022-03-27T16:15:15.992Z"
   },
   {
    "duration": 46,
    "start_time": "2022-03-27T16:15:16.032Z"
   },
   {
    "duration": 622,
    "start_time": "2022-03-27T16:15:16.080Z"
   },
   {
    "duration": 40,
    "start_time": "2022-03-27T16:15:16.704Z"
   },
   {
    "duration": 69,
    "start_time": "2022-03-27T16:15:16.746Z"
   },
   {
    "duration": 32,
    "start_time": "2022-03-27T16:15:16.817Z"
   },
   {
    "duration": 102,
    "start_time": "2022-03-27T16:15:16.851Z"
   },
   {
    "duration": 105,
    "start_time": "2022-03-27T16:15:34.090Z"
   },
   {
    "duration": 103,
    "start_time": "2022-03-27T16:15:58.108Z"
   },
   {
    "duration": 71,
    "start_time": "2022-03-27T16:16:30.567Z"
   },
   {
    "duration": 80,
    "start_time": "2022-03-27T16:22:02.472Z"
   },
   {
    "duration": 77,
    "start_time": "2022-03-27T16:22:07.370Z"
   },
   {
    "duration": 7,
    "start_time": "2022-03-27T16:22:58.351Z"
   },
   {
    "duration": 98,
    "start_time": "2022-03-27T16:23:04.849Z"
   },
   {
    "duration": 117,
    "start_time": "2022-03-27T16:23:30.191Z"
   },
   {
    "duration": 118,
    "start_time": "2022-03-27T16:23:35.348Z"
   },
   {
    "duration": 78,
    "start_time": "2022-03-27T16:23:57.921Z"
   },
   {
    "duration": 102,
    "start_time": "2022-03-27T16:24:22.930Z"
   },
   {
    "duration": 84,
    "start_time": "2022-03-27T16:26:19.791Z"
   },
   {
    "duration": 1463,
    "start_time": "2022-03-27T16:26:23.675Z"
   },
   {
    "duration": 219,
    "start_time": "2022-03-27T16:26:25.140Z"
   },
   {
    "duration": 30,
    "start_time": "2022-03-27T16:26:25.363Z"
   },
   {
    "duration": 8,
    "start_time": "2022-03-27T16:26:25.395Z"
   },
   {
    "duration": 160,
    "start_time": "2022-03-27T16:26:25.406Z"
   },
   {
    "duration": 56,
    "start_time": "2022-03-27T16:26:25.568Z"
   },
   {
    "duration": 22,
    "start_time": "2022-03-27T16:26:25.626Z"
   },
   {
    "duration": 112,
    "start_time": "2022-03-27T16:26:25.685Z"
   },
   {
    "duration": 135,
    "start_time": "2022-03-27T16:26:25.799Z"
   },
   {
    "duration": 103,
    "start_time": "2022-03-27T16:26:25.936Z"
   },
   {
    "duration": 10,
    "start_time": "2022-03-27T16:26:26.041Z"
   },
   {
    "duration": 22,
    "start_time": "2022-03-27T16:26:26.054Z"
   },
   {
    "duration": 12,
    "start_time": "2022-03-27T16:26:26.078Z"
   },
   {
    "duration": 33,
    "start_time": "2022-03-27T16:26:26.093Z"
   },
   {
    "duration": 94,
    "start_time": "2022-03-27T16:26:26.129Z"
   },
   {
    "duration": 607,
    "start_time": "2022-03-27T16:26:26.225Z"
   },
   {
    "duration": 57,
    "start_time": "2022-03-27T16:26:26.835Z"
   },
   {
    "duration": 47,
    "start_time": "2022-03-27T16:26:26.895Z"
   },
   {
    "duration": 52,
    "start_time": "2022-03-27T16:26:26.944Z"
   },
   {
    "duration": 109,
    "start_time": "2022-03-27T16:26:26.999Z"
   },
   {
    "duration": 134,
    "start_time": "2022-03-27T16:32:59.420Z"
   },
   {
    "duration": 7,
    "start_time": "2022-03-27T16:33:20.373Z"
   },
   {
    "duration": 4,
    "start_time": "2022-03-27T16:33:25.133Z"
   },
   {
    "duration": 208,
    "start_time": "2022-03-27T16:33:32.434Z"
   },
   {
    "duration": 78,
    "start_time": "2022-03-27T16:35:03.474Z"
   },
   {
    "duration": 17,
    "start_time": "2022-03-27T16:37:07.222Z"
   },
   {
    "duration": 17,
    "start_time": "2022-03-27T16:37:29.001Z"
   },
   {
    "duration": 16,
    "start_time": "2022-03-27T16:38:10.702Z"
   },
   {
    "duration": 16,
    "start_time": "2022-03-27T16:38:18.228Z"
   },
   {
    "duration": 16,
    "start_time": "2022-03-27T16:38:23.926Z"
   },
   {
    "duration": 18,
    "start_time": "2022-03-27T16:38:32.614Z"
   },
   {
    "duration": 16,
    "start_time": "2022-03-27T16:38:42.321Z"
   },
   {
    "duration": 17,
    "start_time": "2022-03-27T16:38:49.999Z"
   },
   {
    "duration": 16,
    "start_time": "2022-03-27T16:39:01.865Z"
   },
   {
    "duration": 163,
    "start_time": "2022-03-27T16:39:07.928Z"
   },
   {
    "duration": 130,
    "start_time": "2022-03-27T16:39:12.633Z"
   },
   {
    "duration": 15,
    "start_time": "2022-03-27T16:39:21.601Z"
   },
   {
    "duration": 16,
    "start_time": "2022-03-27T16:39:29.133Z"
   },
   {
    "duration": 15,
    "start_time": "2022-03-27T16:39:32.882Z"
   },
   {
    "duration": 14,
    "start_time": "2022-03-27T16:39:36.974Z"
   },
   {
    "duration": 15,
    "start_time": "2022-03-27T16:39:49.073Z"
   },
   {
    "duration": 13,
    "start_time": "2022-03-27T16:40:08.535Z"
   },
   {
    "duration": 163,
    "start_time": "2022-03-27T16:41:09.135Z"
   },
   {
    "duration": 74,
    "start_time": "2022-03-27T16:41:15.242Z"
   },
   {
    "duration": 19,
    "start_time": "2022-03-27T16:41:21.434Z"
   },
   {
    "duration": 16,
    "start_time": "2022-03-27T16:41:30.313Z"
   },
   {
    "duration": 16,
    "start_time": "2022-03-27T16:41:39.027Z"
   },
   {
    "duration": 73,
    "start_time": "2022-03-27T16:41:45.423Z"
   },
   {
    "duration": 80,
    "start_time": "2022-03-27T16:41:50.174Z"
   },
   {
    "duration": 80,
    "start_time": "2022-03-27T16:42:20.462Z"
   },
   {
    "duration": 14,
    "start_time": "2022-03-27T16:42:23.634Z"
   },
   {
    "duration": 33,
    "start_time": "2022-03-27T16:43:13.104Z"
   },
   {
    "duration": 15,
    "start_time": "2022-03-27T16:43:17.893Z"
   },
   {
    "duration": 14,
    "start_time": "2022-03-27T16:43:25.033Z"
   },
   {
    "duration": 15,
    "start_time": "2022-03-27T16:44:11.887Z"
   },
   {
    "duration": 16,
    "start_time": "2022-03-27T16:44:17.294Z"
   },
   {
    "duration": 21,
    "start_time": "2022-03-27T16:53:37.621Z"
   },
   {
    "duration": 13,
    "start_time": "2022-03-27T16:53:59.733Z"
   },
   {
    "duration": 18,
    "start_time": "2022-03-27T16:56:39.953Z"
   },
   {
    "duration": 15,
    "start_time": "2022-03-27T16:56:48.188Z"
   },
   {
    "duration": 1674,
    "start_time": "2022-03-28T07:23:06.338Z"
   },
   {
    "duration": 205,
    "start_time": "2022-03-28T07:23:08.015Z"
   },
   {
    "duration": 15,
    "start_time": "2022-03-28T07:23:08.222Z"
   },
   {
    "duration": 5,
    "start_time": "2022-03-28T07:23:08.240Z"
   },
   {
    "duration": 137,
    "start_time": "2022-03-28T07:23:08.248Z"
   },
   {
    "duration": 41,
    "start_time": "2022-03-28T07:23:08.387Z"
   },
   {
    "duration": 18,
    "start_time": "2022-03-28T07:23:08.431Z"
   },
   {
    "duration": 149,
    "start_time": "2022-03-28T07:23:08.451Z"
   },
   {
    "duration": 118,
    "start_time": "2022-03-28T07:23:08.602Z"
   },
   {
    "duration": 116,
    "start_time": "2022-03-28T07:23:08.722Z"
   },
   {
    "duration": 6,
    "start_time": "2022-03-28T07:23:08.840Z"
   },
   {
    "duration": 12,
    "start_time": "2022-03-28T07:23:08.847Z"
   },
   {
    "duration": 24,
    "start_time": "2022-03-28T07:23:08.861Z"
   },
   {
    "duration": 11,
    "start_time": "2022-03-28T07:23:08.888Z"
   },
   {
    "duration": 617,
    "start_time": "2022-03-28T07:23:08.901Z"
   },
   {
    "duration": 40,
    "start_time": "2022-03-28T07:23:09.520Z"
   },
   {
    "duration": 41,
    "start_time": "2022-03-28T07:23:09.581Z"
   },
   {
    "duration": 31,
    "start_time": "2022-03-28T07:23:09.624Z"
   },
   {
    "duration": 75,
    "start_time": "2022-03-28T07:23:09.682Z"
   },
   {
    "duration": 240,
    "start_time": "2022-03-28T07:23:09.760Z"
   },
   {
    "duration": 144,
    "start_time": "2022-03-28T07:37:24.523Z"
   },
   {
    "duration": 11,
    "start_time": "2022-03-28T07:37:54.477Z"
   },
   {
    "duration": 36,
    "start_time": "2022-03-28T07:38:14.357Z"
   },
   {
    "duration": 25,
    "start_time": "2022-03-28T07:38:20.037Z"
   },
   {
    "duration": 38,
    "start_time": "2022-03-28T07:38:22.349Z"
   },
   {
    "duration": 36,
    "start_time": "2022-03-28T07:40:29.317Z"
   },
   {
    "duration": 37,
    "start_time": "2022-03-28T07:40:35.276Z"
   },
   {
    "duration": 0,
    "start_time": "2022-03-28T07:44:08.792Z"
   },
   {
    "duration": 37,
    "start_time": "2022-03-28T07:44:13.136Z"
   },
   {
    "duration": 0,
    "start_time": "2022-03-28T07:44:25.182Z"
   },
   {
    "duration": 32,
    "start_time": "2022-03-28T07:44:25.907Z"
   },
   {
    "duration": 10185,
    "start_time": "2022-03-28T07:44:30.076Z"
   },
   {
    "duration": 10220,
    "start_time": "2022-03-28T07:46:00.608Z"
   },
   {
    "duration": 182,
    "start_time": "2022-03-28T07:48:25.057Z"
   },
   {
    "duration": 43,
    "start_time": "2022-03-28T07:48:38.236Z"
   },
   {
    "duration": 202,
    "start_time": "2022-03-28T07:48:53.236Z"
   },
   {
    "duration": 49,
    "start_time": "2022-03-28T07:49:04.248Z"
   },
   {
    "duration": 181,
    "start_time": "2022-03-28T07:49:08.856Z"
   },
   {
    "duration": 44,
    "start_time": "2022-03-28T07:49:14.236Z"
   },
   {
    "duration": 44,
    "start_time": "2022-03-28T07:49:20.275Z"
   },
   {
    "duration": 40,
    "start_time": "2022-03-28T07:49:29.388Z"
   },
   {
    "duration": 26,
    "start_time": "2022-03-28T07:49:43.557Z"
   },
   {
    "duration": 45,
    "start_time": "2022-03-28T07:49:58.096Z"
   },
   {
    "duration": 28,
    "start_time": "2022-03-28T07:51:01.776Z"
   },
   {
    "duration": 26,
    "start_time": "2022-03-28T07:51:13.356Z"
   },
   {
    "duration": 61,
    "start_time": "2022-03-28T07:51:24.727Z"
   },
   {
    "duration": 59,
    "start_time": "2022-03-28T07:51:45.517Z"
   },
   {
    "duration": 14529,
    "start_time": "2022-03-28T07:57:05.968Z"
   },
   {
    "duration": 40,
    "start_time": "2022-03-28T07:57:33.876Z"
   },
   {
    "duration": 44,
    "start_time": "2022-03-28T07:57:57.396Z"
   },
   {
    "duration": 40,
    "start_time": "2022-03-28T07:58:59.115Z"
   },
   {
    "duration": 40,
    "start_time": "2022-03-28T07:59:04.767Z"
   },
   {
    "duration": 42,
    "start_time": "2022-03-28T08:00:31.176Z"
   },
   {
    "duration": 39,
    "start_time": "2022-03-28T08:15:53.917Z"
   },
   {
    "duration": 45,
    "start_time": "2022-03-28T08:16:00.638Z"
   },
   {
    "duration": 41,
    "start_time": "2022-03-28T08:16:03.468Z"
   },
   {
    "duration": 40,
    "start_time": "2022-03-28T08:16:06.917Z"
   },
   {
    "duration": 26,
    "start_time": "2022-03-28T08:21:19.197Z"
   },
   {
    "duration": 30,
    "start_time": "2022-03-28T08:21:23.164Z"
   },
   {
    "duration": 30,
    "start_time": "2022-03-28T08:21:30.789Z"
   },
   {
    "duration": 41,
    "start_time": "2022-03-28T08:22:11.917Z"
   },
   {
    "duration": 35,
    "start_time": "2022-03-28T08:22:19.448Z"
   },
   {
    "duration": 62,
    "start_time": "2022-03-28T08:22:25.108Z"
   },
   {
    "duration": 64,
    "start_time": "2022-03-28T08:22:30.396Z"
   },
   {
    "duration": 59,
    "start_time": "2022-03-28T08:22:38.036Z"
   },
   {
    "duration": 40,
    "start_time": "2022-03-28T08:23:35.889Z"
   },
   {
    "duration": 32,
    "start_time": "2022-03-28T08:29:29.662Z"
   },
   {
    "duration": 25,
    "start_time": "2022-03-28T08:29:49.876Z"
   },
   {
    "duration": 22,
    "start_time": "2022-03-28T08:29:57.896Z"
   },
   {
    "duration": 23,
    "start_time": "2022-03-28T08:30:01.236Z"
   },
   {
    "duration": 28,
    "start_time": "2022-03-28T08:30:25.376Z"
   },
   {
    "duration": 20,
    "start_time": "2022-03-28T08:30:27.856Z"
   },
   {
    "duration": 22,
    "start_time": "2022-03-28T08:30:29.264Z"
   },
   {
    "duration": 70,
    "start_time": "2022-03-28T13:52:49.772Z"
   },
   {
    "duration": 1792,
    "start_time": "2022-03-28T13:52:54.951Z"
   },
   {
    "duration": 845,
    "start_time": "2022-03-28T13:52:56.745Z"
   },
   {
    "duration": 16,
    "start_time": "2022-03-28T13:52:57.592Z"
   },
   {
    "duration": 6,
    "start_time": "2022-03-28T13:52:57.611Z"
   },
   {
    "duration": 113,
    "start_time": "2022-03-28T13:52:57.619Z"
   },
   {
    "duration": 75,
    "start_time": "2022-03-28T13:52:57.735Z"
   },
   {
    "duration": 22,
    "start_time": "2022-03-28T13:52:57.813Z"
   },
   {
    "duration": 132,
    "start_time": "2022-03-28T13:52:57.837Z"
   },
   {
    "duration": 131,
    "start_time": "2022-03-28T13:52:57.971Z"
   },
   {
    "duration": 103,
    "start_time": "2022-03-28T13:52:58.105Z"
   },
   {
    "duration": 5,
    "start_time": "2022-03-28T13:52:58.211Z"
   },
   {
    "duration": 15,
    "start_time": "2022-03-28T13:52:58.218Z"
   },
   {
    "duration": 33,
    "start_time": "2022-03-28T13:52:58.235Z"
   },
   {
    "duration": 9,
    "start_time": "2022-03-28T13:52:58.271Z"
   },
   {
    "duration": 698,
    "start_time": "2022-03-28T13:52:58.282Z"
   },
   {
    "duration": 40,
    "start_time": "2022-03-28T13:52:58.984Z"
   },
   {
    "duration": 82,
    "start_time": "2022-03-28T13:52:59.027Z"
   },
   {
    "duration": 31,
    "start_time": "2022-03-28T13:52:59.112Z"
   },
   {
    "duration": 97,
    "start_time": "2022-03-28T13:52:59.146Z"
   },
   {
    "duration": 246,
    "start_time": "2022-03-28T13:52:59.245Z"
   },
   {
    "duration": 168,
    "start_time": "2022-03-28T13:52:59.493Z"
   },
   {
    "duration": 0,
    "start_time": "2022-03-28T13:52:59.664Z"
   },
   {
    "duration": 0,
    "start_time": "2022-03-28T13:52:59.665Z"
   },
   {
    "duration": 0,
    "start_time": "2022-03-28T13:52:59.669Z"
   },
   {
    "duration": 0,
    "start_time": "2022-03-28T13:52:59.670Z"
   },
   {
    "duration": 1480,
    "start_time": "2022-03-28T13:53:38.435Z"
   },
   {
    "duration": 223,
    "start_time": "2022-03-28T13:53:39.917Z"
   },
   {
    "duration": 28,
    "start_time": "2022-03-28T13:53:40.142Z"
   },
   {
    "duration": 6,
    "start_time": "2022-03-28T13:53:40.172Z"
   },
   {
    "duration": 113,
    "start_time": "2022-03-28T13:53:40.181Z"
   },
   {
    "duration": 44,
    "start_time": "2022-03-28T13:53:40.296Z"
   },
   {
    "duration": 20,
    "start_time": "2022-03-28T13:53:40.367Z"
   },
   {
    "duration": 115,
    "start_time": "2022-03-28T13:53:40.389Z"
   },
   {
    "duration": 124,
    "start_time": "2022-03-28T13:53:40.506Z"
   },
   {
    "duration": 110,
    "start_time": "2022-03-28T13:53:40.632Z"
   },
   {
    "duration": 5,
    "start_time": "2022-03-28T13:53:40.744Z"
   },
   {
    "duration": 23,
    "start_time": "2022-03-28T13:53:40.751Z"
   },
   {
    "duration": 5,
    "start_time": "2022-03-28T13:53:40.776Z"
   },
   {
    "duration": 11,
    "start_time": "2022-03-28T13:53:40.785Z"
   },
   {
    "duration": 639,
    "start_time": "2022-03-28T13:53:40.799Z"
   },
   {
    "duration": 53,
    "start_time": "2022-03-28T13:53:41.441Z"
   },
   {
    "duration": 45,
    "start_time": "2022-03-28T13:53:41.496Z"
   },
   {
    "duration": 48,
    "start_time": "2022-03-28T13:53:41.543Z"
   },
   {
    "duration": 102,
    "start_time": "2022-03-28T13:53:41.594Z"
   },
   {
    "duration": 240,
    "start_time": "2022-03-28T13:53:41.699Z"
   },
   {
    "duration": 63,
    "start_time": "2022-03-28T13:53:41.941Z"
   },
   {
    "duration": 172,
    "start_time": "2022-03-28T13:53:42.007Z"
   },
   {
    "duration": 26,
    "start_time": "2022-03-28T13:53:42.182Z"
   },
   {
    "duration": 60,
    "start_time": "2022-03-28T13:53:42.210Z"
   },
   {
    "duration": 76,
    "start_time": "2022-03-28T16:55:18.522Z"
   },
   {
    "duration": 1863,
    "start_time": "2022-03-28T16:55:24.030Z"
   },
   {
    "duration": 235,
    "start_time": "2022-03-28T16:55:25.895Z"
   },
   {
    "duration": 18,
    "start_time": "2022-03-28T16:55:26.132Z"
   },
   {
    "duration": 6,
    "start_time": "2022-03-28T16:55:26.153Z"
   },
   {
    "duration": 136,
    "start_time": "2022-03-28T16:55:26.161Z"
   },
   {
    "duration": 45,
    "start_time": "2022-03-28T16:55:26.299Z"
   },
   {
    "duration": 48,
    "start_time": "2022-03-28T16:55:26.346Z"
   },
   {
    "duration": 121,
    "start_time": "2022-03-28T16:55:26.396Z"
   },
   {
    "duration": 135,
    "start_time": "2022-03-28T16:55:26.519Z"
   },
   {
    "duration": 186,
    "start_time": "2022-03-28T16:55:26.660Z"
   },
   {
    "duration": 7,
    "start_time": "2022-03-28T16:55:26.849Z"
   },
   {
    "duration": 30,
    "start_time": "2022-03-28T16:55:26.860Z"
   },
   {
    "duration": 6,
    "start_time": "2022-03-28T16:55:26.893Z"
   },
   {
    "duration": 17,
    "start_time": "2022-03-28T16:55:26.902Z"
   },
   {
    "duration": 981,
    "start_time": "2022-03-28T16:55:26.921Z"
   },
   {
    "duration": 42,
    "start_time": "2022-03-28T16:55:27.904Z"
   },
   {
    "duration": 80,
    "start_time": "2022-03-28T16:55:27.948Z"
   },
   {
    "duration": 30,
    "start_time": "2022-03-28T16:55:28.031Z"
   },
   {
    "duration": 104,
    "start_time": "2022-03-28T16:55:28.064Z"
   },
   {
    "duration": 274,
    "start_time": "2022-03-28T16:55:28.185Z"
   },
   {
    "duration": 125,
    "start_time": "2022-03-28T16:55:28.462Z"
   },
   {
    "duration": 16672,
    "start_time": "2022-03-28T16:55:28.590Z"
   },
   {
    "duration": 0,
    "start_time": "2022-03-28T16:55:45.267Z"
   },
   {
    "duration": 0,
    "start_time": "2022-03-28T16:55:45.269Z"
   },
   {
    "duration": 43,
    "start_time": "2022-03-28T16:55:51.370Z"
   },
   {
    "duration": 70,
    "start_time": "2022-03-28T16:56:15.734Z"
   },
   {
    "duration": 46,
    "start_time": "2022-03-28T16:56:28.544Z"
   },
   {
    "duration": 46,
    "start_time": "2022-03-28T16:57:05.237Z"
   },
   {
    "duration": 45,
    "start_time": "2022-03-28T16:57:46.699Z"
   },
   {
    "duration": 60,
    "start_time": "2022-03-28T16:57:50.503Z"
   },
   {
    "duration": 44,
    "start_time": "2022-03-28T16:57:56.603Z"
   },
   {
    "duration": 44,
    "start_time": "2022-03-28T16:57:59.778Z"
   },
   {
    "duration": 68,
    "start_time": "2022-03-28T16:58:03.251Z"
   },
   {
    "duration": 67,
    "start_time": "2022-03-28T16:58:10.691Z"
   },
   {
    "duration": 70,
    "start_time": "2022-03-28T16:58:25.180Z"
   },
   {
    "duration": 48,
    "start_time": "2022-03-28T16:58:28.979Z"
   },
   {
    "duration": 34,
    "start_time": "2022-03-28T16:59:15.703Z"
   },
   {
    "duration": 25,
    "start_time": "2022-03-28T16:59:25.635Z"
   },
   {
    "duration": 27,
    "start_time": "2022-03-28T17:00:22.685Z"
   },
   {
    "duration": 79,
    "start_time": "2022-03-28T17:02:06.463Z"
   },
   {
    "duration": 54,
    "start_time": "2022-03-28T17:02:19.027Z"
   },
   {
    "duration": 85,
    "start_time": "2022-03-28T17:02:46.613Z"
   },
   {
    "duration": 76,
    "start_time": "2022-03-28T17:02:50.266Z"
   },
   {
    "duration": 82,
    "start_time": "2022-03-28T17:02:53.811Z"
   },
   {
    "duration": 158,
    "start_time": "2022-03-28T17:04:02.122Z"
   },
   {
    "duration": 152,
    "start_time": "2022-03-28T17:04:21.283Z"
   },
   {
    "duration": 110,
    "start_time": "2022-03-28T17:04:33.563Z"
   },
   {
    "duration": 327,
    "start_time": "2022-03-28T17:04:39.531Z"
   },
   {
    "duration": 58,
    "start_time": "2022-03-28T17:04:55.162Z"
   },
   {
    "duration": 63,
    "start_time": "2022-03-28T17:05:01.831Z"
   },
   {
    "duration": 39,
    "start_time": "2022-03-28T17:05:29.803Z"
   },
   {
    "duration": 58,
    "start_time": "2022-03-28T17:05:43.825Z"
   },
   {
    "duration": 19,
    "start_time": "2022-03-28T17:05:59.921Z"
   },
   {
    "duration": 24,
    "start_time": "2022-03-28T17:06:03.751Z"
   },
   {
    "duration": 49,
    "start_time": "2022-03-28T17:07:51.398Z"
   },
   {
    "duration": 7,
    "start_time": "2022-03-28T17:08:08.852Z"
   },
   {
    "duration": 49,
    "start_time": "2022-03-28T17:08:11.628Z"
   },
   {
    "duration": 48,
    "start_time": "2022-03-28T17:08:49.232Z"
   },
   {
    "duration": 88,
    "start_time": "2022-03-28T17:09:04.476Z"
   },
   {
    "duration": 90,
    "start_time": "2022-03-28T17:09:12.462Z"
   },
   {
    "duration": 102,
    "start_time": "2022-03-28T17:09:24.683Z"
   },
   {
    "duration": 110,
    "start_time": "2022-03-28T17:09:29.583Z"
   },
   {
    "duration": 12,
    "start_time": "2022-03-28T17:13:51.522Z"
   },
   {
    "duration": 5,
    "start_time": "2022-03-28T17:13:58.919Z"
   },
   {
    "duration": 29,
    "start_time": "2022-03-28T17:14:00.877Z"
   },
   {
    "duration": 5,
    "start_time": "2022-03-28T17:14:10.484Z"
   },
   {
    "duration": 35,
    "start_time": "2022-03-28T17:14:12.562Z"
   },
   {
    "duration": 93,
    "start_time": "2022-03-28T17:14:25.630Z"
   },
   {
    "duration": 5,
    "start_time": "2022-03-28T17:15:55.307Z"
   },
   {
    "duration": 95,
    "start_time": "2022-03-28T17:15:57.722Z"
   },
   {
    "duration": 93,
    "start_time": "2022-03-28T17:16:06.460Z"
   },
   {
    "duration": 103,
    "start_time": "2022-03-28T17:17:13.595Z"
   },
   {
    "duration": 73,
    "start_time": "2022-03-28T17:18:17.465Z"
   },
   {
    "duration": 5,
    "start_time": "2022-03-28T17:19:31.453Z"
   },
   {
    "duration": 113,
    "start_time": "2022-03-28T17:20:12.271Z"
   },
   {
    "duration": 136,
    "start_time": "2022-03-28T17:23:01.031Z"
   },
   {
    "duration": 105,
    "start_time": "2022-03-28T17:23:14.857Z"
   },
   {
    "duration": 138,
    "start_time": "2022-03-28T17:25:25.576Z"
   },
   {
    "duration": 153,
    "start_time": "2022-03-28T17:25:30.325Z"
   },
   {
    "duration": 104,
    "start_time": "2022-03-28T17:25:45.897Z"
   },
   {
    "duration": 101,
    "start_time": "2022-03-28T17:25:54.742Z"
   },
   {
    "duration": 100,
    "start_time": "2022-03-28T17:26:06.024Z"
   },
   {
    "duration": 103,
    "start_time": "2022-03-28T17:26:11.911Z"
   },
   {
    "duration": 96,
    "start_time": "2022-03-28T17:26:19.110Z"
   },
   {
    "duration": 118,
    "start_time": "2022-03-28T17:28:33.884Z"
   },
   {
    "duration": 107,
    "start_time": "2022-03-28T17:29:00.243Z"
   },
   {
    "duration": 136,
    "start_time": "2022-03-28T17:29:22.302Z"
   },
   {
    "duration": 136,
    "start_time": "2022-03-28T17:31:29.264Z"
   },
   {
    "duration": 132,
    "start_time": "2022-03-28T17:31:56.799Z"
   },
   {
    "duration": 56,
    "start_time": "2022-03-28T17:37:07.605Z"
   },
   {
    "duration": 57,
    "start_time": "2022-03-28T17:37:23.803Z"
   },
   {
    "duration": 57,
    "start_time": "2022-03-28T17:37:40.414Z"
   },
   {
    "duration": 70,
    "start_time": "2022-03-28T17:37:52.585Z"
   },
   {
    "duration": 174,
    "start_time": "2022-03-28T17:50:59.543Z"
   },
   {
    "duration": 152,
    "start_time": "2022-03-28T17:51:12.890Z"
   },
   {
    "duration": 158,
    "start_time": "2022-03-28T17:51:35.829Z"
   },
   {
    "duration": 193,
    "start_time": "2022-03-28T17:52:06.061Z"
   },
   {
    "duration": 158,
    "start_time": "2022-03-28T17:52:18.542Z"
   },
   {
    "duration": 184,
    "start_time": "2022-03-28T17:52:39.506Z"
   },
   {
    "duration": 156,
    "start_time": "2022-03-28T17:52:50.241Z"
   },
   {
    "duration": 5,
    "start_time": "2022-03-28T17:54:46.003Z"
   },
   {
    "duration": 159,
    "start_time": "2022-03-28T17:54:50.382Z"
   },
   {
    "duration": 6,
    "start_time": "2022-03-28T17:56:09.314Z"
   },
   {
    "duration": 119,
    "start_time": "2022-03-28T17:56:19.382Z"
   },
   {
    "duration": 43,
    "start_time": "2022-03-28T17:56:22.633Z"
   },
   {
    "duration": 5,
    "start_time": "2022-03-28T17:57:30.539Z"
   },
   {
    "duration": 42,
    "start_time": "2022-03-28T17:57:32.768Z"
   },
   {
    "duration": 17,
    "start_time": "2022-03-28T18:00:17.713Z"
   },
   {
    "duration": 27,
    "start_time": "2022-03-28T18:00:21.050Z"
   },
   {
    "duration": 611,
    "start_time": "2022-03-28T18:02:32.660Z"
   },
   {
    "duration": 5,
    "start_time": "2022-03-28T18:02:36.916Z"
   },
   {
    "duration": 31,
    "start_time": "2022-03-28T18:02:38.578Z"
   },
   {
    "duration": 30,
    "start_time": "2022-03-28T18:02:47.446Z"
   },
   {
    "duration": 6,
    "start_time": "2022-03-28T18:07:45.669Z"
   },
   {
    "duration": 8,
    "start_time": "2022-03-28T18:32:10.189Z"
   },
   {
    "duration": 9,
    "start_time": "2022-03-28T18:32:22.742Z"
   },
   {
    "duration": 68,
    "start_time": "2022-03-28T18:32:47.715Z"
   },
   {
    "duration": 55,
    "start_time": "2022-03-28T18:34:10.886Z"
   },
   {
    "duration": 33,
    "start_time": "2022-03-28T18:34:20.185Z"
   },
   {
    "duration": 33,
    "start_time": "2022-03-28T18:34:24.221Z"
   },
   {
    "duration": 6,
    "start_time": "2022-03-28T18:36:02.742Z"
   },
   {
    "duration": 1816,
    "start_time": "2022-03-28T18:43:11.880Z"
   },
   {
    "duration": 236,
    "start_time": "2022-03-28T18:43:13.699Z"
   },
   {
    "duration": 17,
    "start_time": "2022-03-28T18:43:13.937Z"
   },
   {
    "duration": 6,
    "start_time": "2022-03-28T18:43:13.959Z"
   },
   {
    "duration": 148,
    "start_time": "2022-03-28T18:43:13.985Z"
   },
   {
    "duration": 67,
    "start_time": "2022-03-28T18:43:14.136Z"
   },
   {
    "duration": 21,
    "start_time": "2022-03-28T18:43:14.205Z"
   },
   {
    "duration": 128,
    "start_time": "2022-03-28T18:43:14.228Z"
   },
   {
    "duration": 128,
    "start_time": "2022-03-28T18:43:14.358Z"
   },
   {
    "duration": 109,
    "start_time": "2022-03-28T18:43:14.490Z"
   },
   {
    "duration": 6,
    "start_time": "2022-03-28T18:43:14.601Z"
   },
   {
    "duration": 25,
    "start_time": "2022-03-28T18:43:14.609Z"
   },
   {
    "duration": 5,
    "start_time": "2022-03-28T18:43:14.636Z"
   },
   {
    "duration": 14,
    "start_time": "2022-03-28T18:43:14.643Z"
   },
   {
    "duration": 637,
    "start_time": "2022-03-28T18:43:14.685Z"
   },
   {
    "duration": 60,
    "start_time": "2022-03-28T18:43:15.325Z"
   },
   {
    "duration": 50,
    "start_time": "2022-03-28T18:43:15.388Z"
   },
   {
    "duration": 58,
    "start_time": "2022-03-28T18:43:15.441Z"
   },
   {
    "duration": 7,
    "start_time": "2022-03-28T18:43:15.502Z"
   },
   {
    "duration": 121,
    "start_time": "2022-03-28T18:43:15.511Z"
   },
   {
    "duration": 180,
    "start_time": "2022-03-28T18:43:15.634Z"
   },
   {
    "duration": 0,
    "start_time": "2022-03-28T18:43:15.817Z"
   },
   {
    "duration": 0,
    "start_time": "2022-03-28T18:43:15.818Z"
   },
   {
    "duration": 1,
    "start_time": "2022-03-28T18:43:15.820Z"
   },
   {
    "duration": 0,
    "start_time": "2022-03-28T18:43:15.823Z"
   },
   {
    "duration": 1,
    "start_time": "2022-03-28T18:43:15.824Z"
   },
   {
    "duration": 0,
    "start_time": "2022-03-28T18:43:15.827Z"
   },
   {
    "duration": 14,
    "start_time": "2022-03-28T18:44:12.967Z"
   },
   {
    "duration": 1468,
    "start_time": "2022-03-28T18:44:29.980Z"
   },
   {
    "duration": 234,
    "start_time": "2022-03-28T18:44:31.450Z"
   },
   {
    "duration": 16,
    "start_time": "2022-03-28T18:44:31.686Z"
   },
   {
    "duration": 5,
    "start_time": "2022-03-28T18:44:31.704Z"
   },
   {
    "duration": 136,
    "start_time": "2022-03-28T18:44:31.714Z"
   },
   {
    "duration": 71,
    "start_time": "2022-03-28T18:44:31.852Z"
   },
   {
    "duration": 22,
    "start_time": "2022-03-28T18:44:31.925Z"
   },
   {
    "duration": 130,
    "start_time": "2022-03-28T18:44:31.949Z"
   },
   {
    "duration": 136,
    "start_time": "2022-03-28T18:44:32.083Z"
   },
   {
    "duration": 107,
    "start_time": "2022-03-28T18:44:32.221Z"
   },
   {
    "duration": 9,
    "start_time": "2022-03-28T18:44:32.330Z"
   },
   {
    "duration": 42,
    "start_time": "2022-03-28T18:44:32.341Z"
   },
   {
    "duration": 5,
    "start_time": "2022-03-28T18:44:32.386Z"
   },
   {
    "duration": 23,
    "start_time": "2022-03-28T18:44:32.396Z"
   },
   {
    "duration": 661,
    "start_time": "2022-03-28T18:44:32.422Z"
   },
   {
    "duration": 40,
    "start_time": "2022-03-28T18:44:33.086Z"
   },
   {
    "duration": 77,
    "start_time": "2022-03-28T18:44:33.129Z"
   },
   {
    "duration": 47,
    "start_time": "2022-03-28T18:44:33.208Z"
   },
   {
    "duration": 28,
    "start_time": "2022-03-28T18:44:33.257Z"
   },
   {
    "duration": 104,
    "start_time": "2022-03-28T18:44:33.288Z"
   },
   {
    "duration": 164,
    "start_time": "2022-03-28T18:44:33.395Z"
   },
   {
    "duration": 0,
    "start_time": "2022-03-28T18:44:33.561Z"
   },
   {
    "duration": 0,
    "start_time": "2022-03-28T18:44:33.563Z"
   },
   {
    "duration": 0,
    "start_time": "2022-03-28T18:44:33.565Z"
   },
   {
    "duration": 0,
    "start_time": "2022-03-28T18:44:33.567Z"
   },
   {
    "duration": 0,
    "start_time": "2022-03-28T18:44:33.584Z"
   },
   {
    "duration": 0,
    "start_time": "2022-03-28T18:44:33.586Z"
   },
   {
    "duration": 14,
    "start_time": "2022-03-28T18:44:49.563Z"
   },
   {
    "duration": 1728,
    "start_time": "2022-03-29T06:27:38.025Z"
   },
   {
    "duration": 245,
    "start_time": "2022-03-29T06:27:39.756Z"
   },
   {
    "duration": 29,
    "start_time": "2022-03-29T06:27:40.004Z"
   },
   {
    "duration": 6,
    "start_time": "2022-03-29T06:27:40.035Z"
   },
   {
    "duration": 91,
    "start_time": "2022-03-29T06:27:40.044Z"
   },
   {
    "duration": 30,
    "start_time": "2022-03-29T06:27:40.136Z"
   },
   {
    "duration": 15,
    "start_time": "2022-03-29T06:27:40.167Z"
   },
   {
    "duration": 89,
    "start_time": "2022-03-29T06:27:40.183Z"
   },
   {
    "duration": 84,
    "start_time": "2022-03-29T06:27:40.273Z"
   },
   {
    "duration": 77,
    "start_time": "2022-03-29T06:27:40.358Z"
   },
   {
    "duration": 4,
    "start_time": "2022-03-29T06:27:40.437Z"
   },
   {
    "duration": 20,
    "start_time": "2022-03-29T06:27:40.442Z"
   },
   {
    "duration": 5,
    "start_time": "2022-03-29T06:27:40.464Z"
   },
   {
    "duration": 10,
    "start_time": "2022-03-29T06:27:40.472Z"
   },
   {
    "duration": 354,
    "start_time": "2022-03-29T06:27:40.483Z"
   },
   {
    "duration": 28,
    "start_time": "2022-03-29T06:27:40.839Z"
   },
   {
    "duration": 35,
    "start_time": "2022-03-29T06:27:40.869Z"
   },
   {
    "duration": 51,
    "start_time": "2022-03-29T06:27:40.906Z"
   },
   {
    "duration": 7,
    "start_time": "2022-03-29T06:27:40.959Z"
   },
   {
    "duration": 86,
    "start_time": "2022-03-29T06:27:40.967Z"
   },
   {
    "duration": 112,
    "start_time": "2022-03-29T06:27:41.055Z"
   },
   {
    "duration": 0,
    "start_time": "2022-03-29T06:27:41.169Z"
   },
   {
    "duration": 0,
    "start_time": "2022-03-29T06:27:41.170Z"
   },
   {
    "duration": 0,
    "start_time": "2022-03-29T06:27:41.171Z"
   },
   {
    "duration": 0,
    "start_time": "2022-03-29T06:27:41.172Z"
   },
   {
    "duration": 0,
    "start_time": "2022-03-29T06:27:41.173Z"
   },
   {
    "duration": 0,
    "start_time": "2022-03-29T06:27:41.175Z"
   },
   {
    "duration": 1077,
    "start_time": "2022-03-29T06:29:43.200Z"
   },
   {
    "duration": 156,
    "start_time": "2022-03-29T06:29:44.279Z"
   },
   {
    "duration": 11,
    "start_time": "2022-03-29T06:29:44.436Z"
   },
   {
    "duration": 7,
    "start_time": "2022-03-29T06:29:44.448Z"
   },
   {
    "duration": 84,
    "start_time": "2022-03-29T06:29:44.456Z"
   },
   {
    "duration": 29,
    "start_time": "2022-03-29T06:29:44.542Z"
   },
   {
    "duration": 15,
    "start_time": "2022-03-29T06:29:44.573Z"
   },
   {
    "duration": 87,
    "start_time": "2022-03-29T06:29:44.590Z"
   },
   {
    "duration": 98,
    "start_time": "2022-03-29T06:29:44.679Z"
   },
   {
    "duration": 113,
    "start_time": "2022-03-29T06:29:44.779Z"
   },
   {
    "duration": 8,
    "start_time": "2022-03-29T06:29:44.894Z"
   },
   {
    "duration": 12,
    "start_time": "2022-03-29T06:29:44.904Z"
   },
   {
    "duration": 15,
    "start_time": "2022-03-29T06:29:44.918Z"
   },
   {
    "duration": 9,
    "start_time": "2022-03-29T06:29:44.937Z"
   },
   {
    "duration": 355,
    "start_time": "2022-03-29T06:29:44.948Z"
   },
   {
    "duration": 35,
    "start_time": "2022-03-29T06:29:45.304Z"
   },
   {
    "duration": 34,
    "start_time": "2022-03-29T06:29:45.341Z"
   },
   {
    "duration": 25,
    "start_time": "2022-03-29T06:29:45.376Z"
   },
   {
    "duration": 7,
    "start_time": "2022-03-29T06:29:45.402Z"
   },
   {
    "duration": 59,
    "start_time": "2022-03-29T06:29:45.433Z"
   },
   {
    "duration": 115,
    "start_time": "2022-03-29T06:29:45.494Z"
   },
   {
    "duration": 0,
    "start_time": "2022-03-29T06:29:45.611Z"
   },
   {
    "duration": 0,
    "start_time": "2022-03-29T06:29:45.612Z"
   },
   {
    "duration": 0,
    "start_time": "2022-03-29T06:29:45.613Z"
   },
   {
    "duration": 0,
    "start_time": "2022-03-29T06:29:45.614Z"
   },
   {
    "duration": 0,
    "start_time": "2022-03-29T06:29:45.614Z"
   },
   {
    "duration": 0,
    "start_time": "2022-03-29T06:29:45.615Z"
   },
   {
    "duration": 54,
    "start_time": "2022-03-29T06:30:15.352Z"
   },
   {
    "duration": 11,
    "start_time": "2022-03-29T06:30:18.100Z"
   },
   {
    "duration": 994,
    "start_time": "2022-03-29T06:30:32.582Z"
   },
   {
    "duration": 162,
    "start_time": "2022-03-29T06:30:33.578Z"
   },
   {
    "duration": 11,
    "start_time": "2022-03-29T06:30:33.742Z"
   },
   {
    "duration": 9,
    "start_time": "2022-03-29T06:30:33.754Z"
   },
   {
    "duration": 87,
    "start_time": "2022-03-29T06:30:33.766Z"
   },
   {
    "duration": 30,
    "start_time": "2022-03-29T06:30:33.855Z"
   },
   {
    "duration": 16,
    "start_time": "2022-03-29T06:30:33.886Z"
   },
   {
    "duration": 92,
    "start_time": "2022-03-29T06:30:33.903Z"
   },
   {
    "duration": 85,
    "start_time": "2022-03-29T06:30:33.997Z"
   },
   {
    "duration": 70,
    "start_time": "2022-03-29T06:30:34.083Z"
   },
   {
    "duration": 17,
    "start_time": "2022-03-29T06:30:34.155Z"
   },
   {
    "duration": 26,
    "start_time": "2022-03-29T06:30:34.174Z"
   },
   {
    "duration": 3,
    "start_time": "2022-03-29T06:30:34.202Z"
   },
   {
    "duration": 11,
    "start_time": "2022-03-29T06:30:34.208Z"
   },
   {
    "duration": 342,
    "start_time": "2022-03-29T06:30:34.221Z"
   },
   {
    "duration": 27,
    "start_time": "2022-03-29T06:30:34.565Z"
   },
   {
    "duration": 51,
    "start_time": "2022-03-29T06:30:34.594Z"
   },
   {
    "duration": 22,
    "start_time": "2022-03-29T06:30:34.647Z"
   },
   {
    "duration": 16,
    "start_time": "2022-03-29T06:30:34.671Z"
   },
   {
    "duration": 69,
    "start_time": "2022-03-29T06:30:34.689Z"
   },
   {
    "duration": 149,
    "start_time": "2022-03-29T06:30:34.760Z"
   },
   {
    "duration": 34,
    "start_time": "2022-03-29T06:30:34.911Z"
   },
   {
    "duration": 92,
    "start_time": "2022-03-29T06:30:34.946Z"
   },
   {
    "duration": 103,
    "start_time": "2022-03-29T06:30:35.039Z"
   },
   {
    "duration": 4,
    "start_time": "2022-03-29T06:30:35.143Z"
   },
   {
    "duration": 24,
    "start_time": "2022-03-29T06:30:35.149Z"
   },
   {
    "duration": 19,
    "start_time": "2022-03-29T06:30:35.174Z"
   },
   {
    "duration": 11,
    "start_time": "2022-03-29T06:35:19.162Z"
   },
   {
    "duration": 10,
    "start_time": "2022-03-29T06:35:35.260Z"
   },
   {
    "duration": 11,
    "start_time": "2022-03-29T06:35:40.542Z"
   },
   {
    "duration": 10,
    "start_time": "2022-03-29T06:35:44.620Z"
   },
   {
    "duration": 64,
    "start_time": "2022-03-29T06:35:54.601Z"
   },
   {
    "duration": 64,
    "start_time": "2022-03-29T06:36:03.021Z"
   },
   {
    "duration": 65,
    "start_time": "2022-03-29T06:36:08.532Z"
   },
   {
    "duration": 63,
    "start_time": "2022-03-29T06:36:19.001Z"
   },
   {
    "duration": 87,
    "start_time": "2022-03-29T06:36:24.121Z"
   },
   {
    "duration": 62,
    "start_time": "2022-03-29T06:36:26.741Z"
   },
   {
    "duration": 10,
    "start_time": "2022-03-29T06:37:04.459Z"
   },
   {
    "duration": 11,
    "start_time": "2022-03-29T06:37:23.761Z"
   },
   {
    "duration": 63,
    "start_time": "2022-03-29T07:55:07.646Z"
   },
   {
    "duration": 11,
    "start_time": "2022-03-29T07:57:30.455Z"
   },
   {
    "duration": 77,
    "start_time": "2022-03-29T08:13:16.775Z"
   },
   {
    "duration": 1431,
    "start_time": "2022-03-29T08:17:48.568Z"
   },
   {
    "duration": 164,
    "start_time": "2022-03-29T08:17:50.001Z"
   },
   {
    "duration": 10,
    "start_time": "2022-03-29T08:17:50.167Z"
   },
   {
    "duration": 4,
    "start_time": "2022-03-29T08:17:50.179Z"
   },
   {
    "duration": 87,
    "start_time": "2022-03-29T08:17:50.185Z"
   },
   {
    "duration": 30,
    "start_time": "2022-03-29T08:17:50.273Z"
   },
   {
    "duration": 15,
    "start_time": "2022-03-29T08:17:50.305Z"
   },
   {
    "duration": 88,
    "start_time": "2022-03-29T08:17:50.322Z"
   },
   {
    "duration": 89,
    "start_time": "2022-03-29T08:17:50.412Z"
   },
   {
    "duration": 71,
    "start_time": "2022-03-29T08:17:50.503Z"
   },
   {
    "duration": 6,
    "start_time": "2022-03-29T08:17:50.575Z"
   },
   {
    "duration": 19,
    "start_time": "2022-03-29T08:17:50.583Z"
   },
   {
    "duration": 3,
    "start_time": "2022-03-29T08:17:50.604Z"
   },
   {
    "duration": 19,
    "start_time": "2022-03-29T08:17:50.610Z"
   },
   {
    "duration": 353,
    "start_time": "2022-03-29T08:17:50.631Z"
   },
   {
    "duration": 30,
    "start_time": "2022-03-29T08:17:50.985Z"
   },
   {
    "duration": 54,
    "start_time": "2022-03-29T08:17:51.017Z"
   },
   {
    "duration": 25,
    "start_time": "2022-03-29T08:17:51.073Z"
   },
   {
    "duration": 6,
    "start_time": "2022-03-29T08:17:51.099Z"
   },
   {
    "duration": 77,
    "start_time": "2022-03-29T08:17:51.106Z"
   },
   {
    "duration": 172,
    "start_time": "2022-03-29T08:17:51.184Z"
   },
   {
    "duration": 31,
    "start_time": "2022-03-29T08:17:51.357Z"
   },
   {
    "duration": 92,
    "start_time": "2022-03-29T08:17:51.389Z"
   },
   {
    "duration": 102,
    "start_time": "2022-03-29T08:17:51.482Z"
   },
   {
    "duration": 4,
    "start_time": "2022-03-29T08:17:51.586Z"
   },
   {
    "duration": 16,
    "start_time": "2022-03-29T08:17:51.591Z"
   },
   {
    "duration": 18,
    "start_time": "2022-03-29T08:17:51.608Z"
   },
   {
    "duration": 25,
    "start_time": "2022-03-29T08:33:59.927Z"
   },
   {
    "duration": 4,
    "start_time": "2022-03-29T08:35:24.157Z"
   },
   {
    "duration": 835,
    "start_time": "2022-03-29T08:35:29.364Z"
   },
   {
    "duration": 163,
    "start_time": "2022-03-29T08:35:30.200Z"
   },
   {
    "duration": 13,
    "start_time": "2022-03-29T08:35:30.364Z"
   },
   {
    "duration": 7,
    "start_time": "2022-03-29T08:35:30.378Z"
   },
   {
    "duration": 92,
    "start_time": "2022-03-29T08:35:30.387Z"
   },
   {
    "duration": 29,
    "start_time": "2022-03-29T08:35:30.480Z"
   },
   {
    "duration": 15,
    "start_time": "2022-03-29T08:35:30.511Z"
   },
   {
    "duration": 97,
    "start_time": "2022-03-29T08:35:30.527Z"
   },
   {
    "duration": 99,
    "start_time": "2022-03-29T08:35:30.626Z"
   },
   {
    "duration": 70,
    "start_time": "2022-03-29T08:35:30.728Z"
   },
   {
    "duration": 21,
    "start_time": "2022-03-29T08:35:30.800Z"
   },
   {
    "duration": 40,
    "start_time": "2022-03-29T08:35:30.822Z"
   },
   {
    "duration": 15,
    "start_time": "2022-03-29T08:35:30.863Z"
   },
   {
    "duration": 38,
    "start_time": "2022-03-29T08:35:30.881Z"
   },
   {
    "duration": 95,
    "start_time": "2022-03-29T08:35:30.920Z"
   },
   {
    "duration": 0,
    "start_time": "2022-03-29T08:35:31.016Z"
   },
   {
    "duration": 0,
    "start_time": "2022-03-29T08:35:31.018Z"
   },
   {
    "duration": 0,
    "start_time": "2022-03-29T08:35:31.019Z"
   },
   {
    "duration": 0,
    "start_time": "2022-03-29T08:35:31.020Z"
   },
   {
    "duration": 0,
    "start_time": "2022-03-29T08:35:31.021Z"
   },
   {
    "duration": 0,
    "start_time": "2022-03-29T08:35:31.022Z"
   },
   {
    "duration": 0,
    "start_time": "2022-03-29T08:35:31.024Z"
   },
   {
    "duration": 0,
    "start_time": "2022-03-29T08:35:31.025Z"
   },
   {
    "duration": 0,
    "start_time": "2022-03-29T08:35:31.026Z"
   },
   {
    "duration": 0,
    "start_time": "2022-03-29T08:35:31.027Z"
   },
   {
    "duration": 0,
    "start_time": "2022-03-29T08:35:31.027Z"
   },
   {
    "duration": 0,
    "start_time": "2022-03-29T08:35:31.028Z"
   },
   {
    "duration": 215,
    "start_time": "2022-03-29T08:35:56.485Z"
   },
   {
    "duration": 1137,
    "start_time": "2022-03-29T08:36:00.992Z"
   },
   {
    "duration": 183,
    "start_time": "2022-03-29T08:36:02.132Z"
   },
   {
    "duration": 11,
    "start_time": "2022-03-29T08:36:02.317Z"
   },
   {
    "duration": 10,
    "start_time": "2022-03-29T08:36:02.330Z"
   },
   {
    "duration": 75,
    "start_time": "2022-03-29T08:36:02.342Z"
   },
   {
    "duration": 54,
    "start_time": "2022-03-29T08:36:02.418Z"
   },
   {
    "duration": 15,
    "start_time": "2022-03-29T08:36:02.474Z"
   },
   {
    "duration": 85,
    "start_time": "2022-03-29T08:36:02.491Z"
   },
   {
    "duration": 85,
    "start_time": "2022-03-29T08:36:02.578Z"
   },
   {
    "duration": 67,
    "start_time": "2022-03-29T08:36:02.665Z"
   },
   {
    "duration": 10,
    "start_time": "2022-03-29T08:36:02.734Z"
   },
   {
    "duration": 25,
    "start_time": "2022-03-29T08:36:02.745Z"
   },
   {
    "duration": 3,
    "start_time": "2022-03-29T08:36:02.772Z"
   },
   {
    "duration": 11,
    "start_time": "2022-03-29T08:36:02.778Z"
   },
   {
    "duration": 356,
    "start_time": "2022-03-29T08:36:02.791Z"
   },
   {
    "duration": 36,
    "start_time": "2022-03-29T08:36:03.149Z"
   },
   {
    "duration": 34,
    "start_time": "2022-03-29T08:36:03.187Z"
   },
   {
    "duration": 23,
    "start_time": "2022-03-29T08:36:03.222Z"
   },
   {
    "duration": 4,
    "start_time": "2022-03-29T08:36:03.263Z"
   },
   {
    "duration": 55,
    "start_time": "2022-03-29T08:36:03.269Z"
   },
   {
    "duration": 194,
    "start_time": "2022-03-29T08:36:03.326Z"
   },
   {
    "duration": 64,
    "start_time": "2022-03-29T08:36:03.523Z"
   },
   {
    "duration": 113,
    "start_time": "2022-03-29T08:36:03.589Z"
   },
   {
    "duration": 192,
    "start_time": "2022-03-29T08:36:03.704Z"
   },
   {
    "duration": 4,
    "start_time": "2022-03-29T08:36:03.898Z"
   },
   {
    "duration": 60,
    "start_time": "2022-03-29T08:36:03.903Z"
   },
   {
    "duration": 20,
    "start_time": "2022-03-29T08:36:03.965Z"
   },
   {
    "duration": 1208,
    "start_time": "2022-03-29T08:37:38.648Z"
   },
   {
    "duration": 169,
    "start_time": "2022-03-29T08:37:39.858Z"
   },
   {
    "duration": 11,
    "start_time": "2022-03-29T08:37:40.029Z"
   },
   {
    "duration": 5,
    "start_time": "2022-03-29T08:37:40.042Z"
   },
   {
    "duration": 78,
    "start_time": "2022-03-29T08:37:40.049Z"
   },
   {
    "duration": 63,
    "start_time": "2022-03-29T08:37:40.128Z"
   },
   {
    "duration": 15,
    "start_time": "2022-03-29T08:37:40.193Z"
   },
   {
    "duration": 93,
    "start_time": "2022-03-29T08:37:40.210Z"
   },
   {
    "duration": 83,
    "start_time": "2022-03-29T08:37:40.305Z"
   },
   {
    "duration": 76,
    "start_time": "2022-03-29T08:37:40.389Z"
   },
   {
    "duration": 4,
    "start_time": "2022-03-29T08:37:40.467Z"
   },
   {
    "duration": 12,
    "start_time": "2022-03-29T08:37:40.472Z"
   },
   {
    "duration": 4,
    "start_time": "2022-03-29T08:37:40.485Z"
   },
   {
    "duration": 8,
    "start_time": "2022-03-29T08:37:40.492Z"
   },
   {
    "duration": 388,
    "start_time": "2022-03-29T08:37:40.502Z"
   },
   {
    "duration": 29,
    "start_time": "2022-03-29T08:37:40.892Z"
   },
   {
    "duration": 52,
    "start_time": "2022-03-29T08:37:40.922Z"
   },
   {
    "duration": 26,
    "start_time": "2022-03-29T08:37:40.976Z"
   },
   {
    "duration": 5,
    "start_time": "2022-03-29T08:37:41.004Z"
   },
   {
    "duration": 89,
    "start_time": "2022-03-29T08:37:41.012Z"
   },
   {
    "duration": 1080,
    "start_time": "2022-03-29T11:10:50.875Z"
   },
   {
    "duration": 164,
    "start_time": "2022-03-29T11:10:51.957Z"
   },
   {
    "duration": 16,
    "start_time": "2022-03-29T11:10:52.123Z"
   },
   {
    "duration": 14,
    "start_time": "2022-03-29T11:10:52.141Z"
   },
   {
    "duration": 78,
    "start_time": "2022-03-29T11:10:52.157Z"
   },
   {
    "duration": 30,
    "start_time": "2022-03-29T11:10:52.236Z"
   },
   {
    "duration": 16,
    "start_time": "2022-03-29T11:10:52.267Z"
   },
   {
    "duration": 90,
    "start_time": "2022-03-29T11:10:52.285Z"
   },
   {
    "duration": 81,
    "start_time": "2022-03-29T11:10:52.377Z"
   },
   {
    "duration": 74,
    "start_time": "2022-03-29T11:10:52.460Z"
   },
   {
    "duration": 4,
    "start_time": "2022-03-29T11:10:52.536Z"
   },
   {
    "duration": 18,
    "start_time": "2022-03-29T11:10:52.541Z"
   },
   {
    "duration": 4,
    "start_time": "2022-03-29T11:10:52.560Z"
   },
   {
    "duration": 8,
    "start_time": "2022-03-29T11:10:52.567Z"
   },
   {
    "duration": 362,
    "start_time": "2022-03-29T11:10:52.577Z"
   },
   {
    "duration": 27,
    "start_time": "2022-03-29T11:10:52.941Z"
   },
   {
    "duration": 36,
    "start_time": "2022-03-29T11:10:52.970Z"
   },
   {
    "duration": 43,
    "start_time": "2022-03-29T11:10:53.008Z"
   },
   {
    "duration": 4,
    "start_time": "2022-03-29T11:10:53.053Z"
   },
   {
    "duration": 76,
    "start_time": "2022-03-29T11:10:53.058Z"
   },
   {
    "duration": 191,
    "start_time": "2022-03-29T11:10:53.135Z"
   },
   {
    "duration": 30,
    "start_time": "2022-03-29T11:10:53.327Z"
   },
   {
    "duration": 88,
    "start_time": "2022-03-29T11:10:53.359Z"
   },
   {
    "duration": 110,
    "start_time": "2022-03-29T11:10:53.448Z"
   },
   {
    "duration": 4,
    "start_time": "2022-03-29T11:10:53.560Z"
   },
   {
    "duration": 19,
    "start_time": "2022-03-29T11:10:53.566Z"
   },
   {
    "duration": 23,
    "start_time": "2022-03-29T11:10:53.587Z"
   },
   {
    "duration": 154,
    "start_time": "2022-03-29T11:15:13.155Z"
   },
   {
    "duration": 5,
    "start_time": "2022-03-29T11:15:15.224Z"
   },
   {
    "duration": 6,
    "start_time": "2022-03-29T11:17:09.430Z"
   },
   {
    "duration": 1331,
    "start_time": "2022-03-29T17:49:45.118Z"
   },
   {
    "duration": 164,
    "start_time": "2022-03-29T17:49:46.451Z"
   },
   {
    "duration": 10,
    "start_time": "2022-03-29T17:49:46.616Z"
   },
   {
    "duration": 3,
    "start_time": "2022-03-29T17:49:46.628Z"
   },
   {
    "duration": 74,
    "start_time": "2022-03-29T17:49:46.632Z"
   },
   {
    "duration": 25,
    "start_time": "2022-03-29T17:49:46.707Z"
   },
   {
    "duration": 13,
    "start_time": "2022-03-29T17:49:46.734Z"
   },
   {
    "duration": 82,
    "start_time": "2022-03-29T17:49:46.748Z"
   },
   {
    "duration": 78,
    "start_time": "2022-03-29T17:49:46.831Z"
   },
   {
    "duration": 69,
    "start_time": "2022-03-29T17:49:46.912Z"
   },
   {
    "duration": 5,
    "start_time": "2022-03-29T17:49:46.983Z"
   },
   {
    "duration": 20,
    "start_time": "2022-03-29T17:49:46.989Z"
   },
   {
    "duration": 3,
    "start_time": "2022-03-29T17:49:47.011Z"
   },
   {
    "duration": 8,
    "start_time": "2022-03-29T17:49:47.016Z"
   },
   {
    "duration": 430,
    "start_time": "2022-03-29T17:49:47.026Z"
   },
   {
    "duration": 0,
    "start_time": "2022-03-29T17:49:47.458Z"
   },
   {
    "duration": 0,
    "start_time": "2022-03-29T17:49:47.459Z"
   },
   {
    "duration": 0,
    "start_time": "2022-03-29T17:49:47.461Z"
   },
   {
    "duration": 0,
    "start_time": "2022-03-29T17:49:47.462Z"
   },
   {
    "duration": 1,
    "start_time": "2022-03-29T17:49:47.463Z"
   },
   {
    "duration": 0,
    "start_time": "2022-03-29T17:49:47.465Z"
   },
   {
    "duration": 0,
    "start_time": "2022-03-29T17:49:47.480Z"
   },
   {
    "duration": 0,
    "start_time": "2022-03-29T17:49:47.484Z"
   },
   {
    "duration": 0,
    "start_time": "2022-03-29T17:49:47.485Z"
   },
   {
    "duration": 0,
    "start_time": "2022-03-29T17:49:47.486Z"
   },
   {
    "duration": 0,
    "start_time": "2022-03-29T17:49:47.488Z"
   },
   {
    "duration": 0,
    "start_time": "2022-03-29T17:49:47.489Z"
   },
   {
    "duration": 264,
    "start_time": "2022-03-29T17:50:00.565Z"
   },
   {
    "duration": 350,
    "start_time": "2022-03-29T17:50:32.942Z"
   },
   {
    "duration": 324,
    "start_time": "2022-03-29T17:50:39.094Z"
   },
   {
    "duration": 410,
    "start_time": "2022-03-29T17:50:47.620Z"
   },
   {
    "duration": 90,
    "start_time": "2022-03-29T17:50:55.558Z"
   },
   {
    "duration": 231,
    "start_time": "2022-03-29T17:51:07.924Z"
   },
   {
    "duration": 93,
    "start_time": "2022-03-29T17:51:17.964Z"
   },
   {
    "duration": 253,
    "start_time": "2022-03-29T17:52:04.349Z"
   },
   {
    "duration": 430,
    "start_time": "2022-03-29T17:54:00.105Z"
   },
   {
    "duration": 253,
    "start_time": "2022-03-29T17:54:42.145Z"
   },
   {
    "duration": 324,
    "start_time": "2022-03-29T17:56:03.225Z"
   },
   {
    "duration": 244,
    "start_time": "2022-03-29T17:56:10.144Z"
   },
   {
    "duration": 269,
    "start_time": "2022-03-29T17:59:07.581Z"
   },
   {
    "duration": 8,
    "start_time": "2022-03-29T17:59:44.896Z"
   },
   {
    "duration": 1076,
    "start_time": "2022-03-29T17:59:50.414Z"
   },
   {
    "duration": 161,
    "start_time": "2022-03-29T17:59:51.492Z"
   },
   {
    "duration": 9,
    "start_time": "2022-03-29T17:59:51.655Z"
   },
   {
    "duration": 27,
    "start_time": "2022-03-29T17:59:51.665Z"
   },
   {
    "duration": 77,
    "start_time": "2022-03-29T17:59:51.694Z"
   },
   {
    "duration": 25,
    "start_time": "2022-03-29T17:59:51.772Z"
   },
   {
    "duration": 35,
    "start_time": "2022-03-29T17:59:51.799Z"
   },
   {
    "duration": 68,
    "start_time": "2022-03-29T17:59:51.835Z"
   },
   {
    "duration": 68,
    "start_time": "2022-03-29T17:59:51.905Z"
   },
   {
    "duration": 63,
    "start_time": "2022-03-29T17:59:51.981Z"
   },
   {
    "duration": 14,
    "start_time": "2022-03-29T17:59:52.046Z"
   },
   {
    "duration": 40,
    "start_time": "2022-03-29T17:59:52.061Z"
   },
   {
    "duration": 9,
    "start_time": "2022-03-29T17:59:52.102Z"
   },
   {
    "duration": 44,
    "start_time": "2022-03-29T17:59:52.114Z"
   },
   {
    "duration": 455,
    "start_time": "2022-03-29T17:59:52.160Z"
   },
   {
    "duration": 25,
    "start_time": "2022-03-29T17:59:52.616Z"
   },
   {
    "duration": 48,
    "start_time": "2022-03-29T17:59:52.642Z"
   },
   {
    "duration": 22,
    "start_time": "2022-03-29T17:59:52.691Z"
   },
   {
    "duration": 8,
    "start_time": "2022-03-29T17:59:52.715Z"
   },
   {
    "duration": 76,
    "start_time": "2022-03-29T17:59:52.724Z"
   },
   {
    "duration": 155,
    "start_time": "2022-03-29T17:59:52.801Z"
   },
   {
    "duration": 31,
    "start_time": "2022-03-29T17:59:52.957Z"
   },
   {
    "duration": 39,
    "start_time": "2022-03-29T17:59:52.989Z"
   },
   {
    "duration": 57,
    "start_time": "2022-03-29T17:59:53.082Z"
   },
   {
    "duration": 3,
    "start_time": "2022-03-29T17:59:53.141Z"
   },
   {
    "duration": 38,
    "start_time": "2022-03-29T17:59:53.146Z"
   },
   {
    "duration": 16,
    "start_time": "2022-03-29T17:59:53.185Z"
   },
   {
    "duration": 185,
    "start_time": "2022-03-29T18:04:46.766Z"
   },
   {
    "duration": 281,
    "start_time": "2022-03-29T18:05:01.058Z"
   },
   {
    "duration": 65,
    "start_time": "2022-03-29T18:34:48.090Z"
   },
   {
    "duration": 1574,
    "start_time": "2022-03-29T18:34:57.746Z"
   },
   {
    "duration": 205,
    "start_time": "2022-03-29T18:34:59.323Z"
   },
   {
    "duration": 15,
    "start_time": "2022-03-29T18:34:59.530Z"
   },
   {
    "duration": 8,
    "start_time": "2022-03-29T18:34:59.548Z"
   },
   {
    "duration": 99,
    "start_time": "2022-03-29T18:34:59.558Z"
   },
   {
    "duration": 43,
    "start_time": "2022-03-29T18:34:59.682Z"
   },
   {
    "duration": 18,
    "start_time": "2022-03-29T18:34:59.728Z"
   },
   {
    "duration": 116,
    "start_time": "2022-03-29T18:34:59.748Z"
   },
   {
    "duration": 108,
    "start_time": "2022-03-29T18:34:59.866Z"
   },
   {
    "duration": 109,
    "start_time": "2022-03-29T18:34:59.983Z"
   },
   {
    "duration": 12,
    "start_time": "2022-03-29T18:35:00.095Z"
   },
   {
    "duration": 15,
    "start_time": "2022-03-29T18:35:00.110Z"
   },
   {
    "duration": 8,
    "start_time": "2022-03-29T18:35:00.127Z"
   },
   {
    "duration": 26,
    "start_time": "2022-03-29T18:35:00.138Z"
   },
   {
    "duration": 595,
    "start_time": "2022-03-29T18:35:00.166Z"
   },
   {
    "duration": 49,
    "start_time": "2022-03-29T18:35:00.763Z"
   },
   {
    "duration": 44,
    "start_time": "2022-03-29T18:35:00.815Z"
   },
   {
    "duration": 32,
    "start_time": "2022-03-29T18:35:00.882Z"
   },
   {
    "duration": 6,
    "start_time": "2022-03-29T18:35:00.918Z"
   },
   {
    "duration": 111,
    "start_time": "2022-03-29T18:35:00.927Z"
   },
   {
    "duration": 241,
    "start_time": "2022-03-29T18:35:01.041Z"
   },
   {
    "duration": 105,
    "start_time": "2022-03-29T18:35:01.284Z"
   },
   {
    "duration": 130,
    "start_time": "2022-03-29T18:35:01.392Z"
   },
   {
    "duration": 163,
    "start_time": "2022-03-29T18:35:01.525Z"
   },
   {
    "duration": 51,
    "start_time": "2022-03-29T18:35:01.690Z"
   },
   {
    "duration": 187,
    "start_time": "2022-03-29T18:35:01.743Z"
   },
   {
    "duration": 0,
    "start_time": "2022-03-29T18:35:01.932Z"
   },
   {
    "duration": 25,
    "start_time": "2022-03-29T18:36:32.744Z"
   },
   {
    "duration": 92,
    "start_time": "2022-03-29T18:59:39.066Z"
   },
   {
    "duration": 97,
    "start_time": "2022-03-29T19:00:00.609Z"
   },
   {
    "duration": 151,
    "start_time": "2022-03-29T19:00:12.058Z"
   },
   {
    "duration": 139,
    "start_time": "2022-03-29T19:00:39.314Z"
   },
   {
    "duration": 209,
    "start_time": "2022-03-29T19:01:08.318Z"
   },
   {
    "duration": 149,
    "start_time": "2022-03-29T19:01:21.221Z"
   },
   {
    "duration": 2007,
    "start_time": "2022-03-29T19:01:38.304Z"
   },
   {
    "duration": 124,
    "start_time": "2022-03-29T19:01:59.274Z"
   },
   {
    "duration": 118,
    "start_time": "2022-03-29T19:02:26.068Z"
   },
   {
    "duration": 176,
    "start_time": "2022-03-29T19:03:21.070Z"
   },
   {
    "duration": 117,
    "start_time": "2022-03-29T19:03:26.127Z"
   },
   {
    "duration": 126,
    "start_time": "2022-03-29T19:04:13.689Z"
   },
   {
    "duration": 9,
    "start_time": "2022-03-29T19:05:33.615Z"
   },
   {
    "duration": 6,
    "start_time": "2022-03-29T19:09:53.674Z"
   },
   {
    "duration": 2217,
    "start_time": "2022-03-29T19:10:14.393Z"
   },
   {
    "duration": 25,
    "start_time": "2022-03-29T19:10:54.134Z"
   },
   {
    "duration": 24,
    "start_time": "2022-03-29T19:11:07.923Z"
   },
   {
    "duration": 24,
    "start_time": "2022-03-29T19:19:24.395Z"
   },
   {
    "duration": 1420,
    "start_time": "2022-03-30T18:21:09.468Z"
   },
   {
    "duration": 179,
    "start_time": "2022-03-30T18:21:10.891Z"
   },
   {
    "duration": 13,
    "start_time": "2022-03-30T18:21:11.071Z"
   },
   {
    "duration": 17,
    "start_time": "2022-03-30T18:21:11.087Z"
   },
   {
    "duration": 71,
    "start_time": "2022-03-30T18:21:11.106Z"
   },
   {
    "duration": 33,
    "start_time": "2022-03-30T18:21:11.202Z"
   },
   {
    "duration": 17,
    "start_time": "2022-03-30T18:21:11.237Z"
   },
   {
    "duration": 98,
    "start_time": "2022-03-30T18:21:11.256Z"
   },
   {
    "duration": 92,
    "start_time": "2022-03-30T18:21:11.356Z"
   },
   {
    "duration": 78,
    "start_time": "2022-03-30T18:21:11.451Z"
   },
   {
    "duration": 7,
    "start_time": "2022-03-30T18:21:11.530Z"
   },
   {
    "duration": 14,
    "start_time": "2022-03-30T18:21:11.538Z"
   },
   {
    "duration": 15,
    "start_time": "2022-03-30T18:21:11.554Z"
   },
   {
    "duration": 11,
    "start_time": "2022-03-30T18:21:11.571Z"
   },
   {
    "duration": 392,
    "start_time": "2022-03-30T18:21:11.601Z"
   },
   {
    "duration": 34,
    "start_time": "2022-03-30T18:21:11.995Z"
   },
   {
    "duration": 40,
    "start_time": "2022-03-30T18:21:12.031Z"
   },
   {
    "duration": 51,
    "start_time": "2022-03-30T18:21:12.073Z"
   },
   {
    "duration": 7,
    "start_time": "2022-03-30T18:21:12.126Z"
   },
   {
    "duration": 75,
    "start_time": "2022-03-30T18:21:12.135Z"
   },
   {
    "duration": 210,
    "start_time": "2022-03-30T18:21:12.211Z"
   },
   {
    "duration": 32,
    "start_time": "2022-03-30T18:21:12.423Z"
   },
   {
    "duration": 90,
    "start_time": "2022-03-30T18:21:12.458Z"
   },
   {
    "duration": 171,
    "start_time": "2022-03-30T18:21:12.550Z"
   },
   {
    "duration": 134,
    "start_time": "2022-03-30T18:21:12.724Z"
   },
   {
    "duration": 0,
    "start_time": "2022-03-30T18:21:12.861Z"
   },
   {
    "duration": 0,
    "start_time": "2022-03-30T18:21:12.863Z"
   },
   {
    "duration": 78,
    "start_time": "2022-03-30T18:21:53.936Z"
   },
   {
    "duration": 76,
    "start_time": "2022-03-30T18:22:05.237Z"
   },
   {
    "duration": 80,
    "start_time": "2022-03-30T18:22:17.657Z"
   },
   {
    "duration": 74,
    "start_time": "2022-03-30T18:30:26.498Z"
   },
   {
    "duration": 1063,
    "start_time": "2022-03-30T18:40:13.053Z"
   },
   {
    "duration": 1236,
    "start_time": "2022-03-30T18:40:16.959Z"
   },
   {
    "duration": 168,
    "start_time": "2022-03-30T18:40:18.197Z"
   },
   {
    "duration": 11,
    "start_time": "2022-03-30T18:40:18.367Z"
   },
   {
    "duration": 5,
    "start_time": "2022-03-30T18:40:18.379Z"
   },
   {
    "duration": 86,
    "start_time": "2022-03-30T18:40:18.385Z"
   },
   {
    "duration": 30,
    "start_time": "2022-03-30T18:40:18.472Z"
   },
   {
    "duration": 35,
    "start_time": "2022-03-30T18:40:18.504Z"
   },
   {
    "duration": 66,
    "start_time": "2022-03-30T18:40:18.541Z"
   },
   {
    "duration": 94,
    "start_time": "2022-03-30T18:40:18.609Z"
   },
   {
    "duration": 84,
    "start_time": "2022-03-30T18:40:18.707Z"
   },
   {
    "duration": 11,
    "start_time": "2022-03-30T18:40:18.792Z"
   },
   {
    "duration": 13,
    "start_time": "2022-03-30T18:40:18.805Z"
   },
   {
    "duration": 15,
    "start_time": "2022-03-30T18:40:18.820Z"
   },
   {
    "duration": 10,
    "start_time": "2022-03-30T18:40:18.837Z"
   },
   {
    "duration": 377,
    "start_time": "2022-03-30T18:40:18.849Z"
   },
   {
    "duration": 33,
    "start_time": "2022-03-30T18:40:19.228Z"
   },
   {
    "duration": 35,
    "start_time": "2022-03-30T18:40:19.263Z"
   },
   {
    "duration": 40,
    "start_time": "2022-03-30T18:40:19.300Z"
   },
   {
    "duration": 4,
    "start_time": "2022-03-30T18:40:19.342Z"
   },
   {
    "duration": 62,
    "start_time": "2022-03-30T18:40:19.347Z"
   },
   {
    "duration": 167,
    "start_time": "2022-03-30T18:40:19.411Z"
   },
   {
    "duration": 62,
    "start_time": "2022-03-30T18:40:19.579Z"
   },
   {
    "duration": 94,
    "start_time": "2022-03-30T18:40:19.643Z"
   },
   {
    "duration": 98,
    "start_time": "2022-03-30T18:40:19.739Z"
   },
   {
    "duration": 14,
    "start_time": "2022-03-30T18:40:19.838Z"
   },
   {
    "duration": 126,
    "start_time": "2022-03-30T18:40:19.853Z"
   },
   {
    "duration": 0,
    "start_time": "2022-03-30T18:40:19.981Z"
   },
   {
    "duration": 7,
    "start_time": "2022-03-30T18:40:31.510Z"
   },
   {
    "duration": 7,
    "start_time": "2022-03-30T18:42:04.919Z"
   },
   {
    "duration": 7,
    "start_time": "2022-03-30T18:42:10.598Z"
   },
   {
    "duration": 7,
    "start_time": "2022-03-30T18:42:16.730Z"
   },
   {
    "duration": 7,
    "start_time": "2022-03-30T18:42:20.296Z"
   },
   {
    "duration": 7,
    "start_time": "2022-03-30T18:42:22.830Z"
   },
   {
    "duration": 7,
    "start_time": "2022-03-30T18:42:26.742Z"
   },
   {
    "duration": 8,
    "start_time": "2022-03-30T18:43:00.355Z"
   },
   {
    "duration": 9,
    "start_time": "2022-03-30T18:43:09.683Z"
   },
   {
    "duration": 7,
    "start_time": "2022-03-30T18:43:18.125Z"
   },
   {
    "duration": 7,
    "start_time": "2022-03-30T18:43:25.504Z"
   },
   {
    "duration": 7,
    "start_time": "2022-03-30T18:44:18.711Z"
   },
   {
    "duration": 7,
    "start_time": "2022-03-30T18:44:26.283Z"
   },
   {
    "duration": 8,
    "start_time": "2022-03-30T18:44:44.541Z"
   },
   {
    "duration": 7,
    "start_time": "2022-03-30T18:44:48.294Z"
   },
   {
    "duration": 3,
    "start_time": "2022-03-30T18:45:24.954Z"
   },
   {
    "duration": 4,
    "start_time": "2022-03-30T18:45:33.489Z"
   },
   {
    "duration": 8,
    "start_time": "2022-03-30T18:46:24.562Z"
   },
   {
    "duration": 7,
    "start_time": "2022-03-30T18:46:32.861Z"
   },
   {
    "duration": 7,
    "start_time": "2022-03-30T18:47:46.002Z"
   },
   {
    "duration": 7,
    "start_time": "2022-03-30T18:51:16.300Z"
   },
   {
    "duration": 8,
    "start_time": "2022-03-30T18:51:29.641Z"
   },
   {
    "duration": 7,
    "start_time": "2022-03-30T18:51:38.122Z"
   },
   {
    "duration": 86,
    "start_time": "2022-03-30T18:56:00.912Z"
   },
   {
    "duration": 5,
    "start_time": "2022-03-30T18:59:36.579Z"
   },
   {
    "duration": 5,
    "start_time": "2022-03-30T18:59:42.281Z"
   },
   {
    "duration": 4,
    "start_time": "2022-03-30T18:59:50.154Z"
   },
   {
    "duration": 64,
    "start_time": "2022-03-30T19:00:28.999Z"
   },
   {
    "duration": 4,
    "start_time": "2022-03-30T19:00:38.967Z"
   },
   {
    "duration": 67,
    "start_time": "2022-03-30T19:01:18.640Z"
   },
   {
    "duration": 5,
    "start_time": "2022-03-30T19:01:22.557Z"
   },
   {
    "duration": 5,
    "start_time": "2022-03-30T19:04:49.203Z"
   },
   {
    "duration": 11,
    "start_time": "2022-03-30T19:05:59.062Z"
   },
   {
    "duration": 5,
    "start_time": "2022-03-30T19:06:05.512Z"
   },
   {
    "duration": 4,
    "start_time": "2022-03-30T19:06:07.828Z"
   },
   {
    "duration": 4,
    "start_time": "2022-03-30T19:06:53.674Z"
   },
   {
    "duration": 3,
    "start_time": "2022-03-30T19:07:17.526Z"
   },
   {
    "duration": 5,
    "start_time": "2022-03-30T19:12:14.146Z"
   },
   {
    "duration": 5,
    "start_time": "2022-03-30T19:12:22.658Z"
   },
   {
    "duration": 11,
    "start_time": "2022-03-30T19:12:29.699Z"
   },
   {
    "duration": 7,
    "start_time": "2022-03-30T19:13:28.438Z"
   },
   {
    "duration": 7,
    "start_time": "2022-03-30T19:13:50.959Z"
   },
   {
    "duration": 38,
    "start_time": "2022-03-30T19:20:22.390Z"
   },
   {
    "duration": 37,
    "start_time": "2022-03-30T19:20:32.845Z"
   },
   {
    "duration": 51,
    "start_time": "2022-03-30T19:21:00.238Z"
   },
   {
    "duration": 70,
    "start_time": "2022-03-30T19:21:27.376Z"
   },
   {
    "duration": 73,
    "start_time": "2022-03-30T19:21:38.116Z"
   },
   {
    "duration": 2,
    "start_time": "2022-03-30T19:31:39.957Z"
   },
   {
    "duration": 215,
    "start_time": "2022-03-31T12:24:32.138Z"
   },
   {
    "duration": 1634,
    "start_time": "2022-03-31T12:24:36.394Z"
   },
   {
    "duration": 217,
    "start_time": "2022-03-31T12:24:38.030Z"
   },
   {
    "duration": 15,
    "start_time": "2022-03-31T12:24:38.249Z"
   },
   {
    "duration": 8,
    "start_time": "2022-03-31T12:24:38.286Z"
   },
   {
    "duration": 123,
    "start_time": "2022-03-31T12:24:38.297Z"
   },
   {
    "duration": 39,
    "start_time": "2022-03-31T12:24:38.422Z"
   },
   {
    "duration": 26,
    "start_time": "2022-03-31T12:24:38.484Z"
   },
   {
    "duration": 115,
    "start_time": "2022-03-31T12:24:38.512Z"
   },
   {
    "duration": 119,
    "start_time": "2022-03-31T12:24:38.629Z"
   },
   {
    "duration": 106,
    "start_time": "2022-03-31T12:24:38.752Z"
   },
   {
    "duration": 16,
    "start_time": "2022-03-31T12:24:38.860Z"
   },
   {
    "duration": 32,
    "start_time": "2022-03-31T12:24:38.879Z"
   },
   {
    "duration": 5,
    "start_time": "2022-03-31T12:24:38.913Z"
   },
   {
    "duration": 11,
    "start_time": "2022-03-31T12:24:38.920Z"
   },
   {
    "duration": 661,
    "start_time": "2022-03-31T12:24:38.934Z"
   },
   {
    "duration": 37,
    "start_time": "2022-03-31T12:24:39.599Z"
   },
   {
    "duration": 83,
    "start_time": "2022-03-31T12:24:39.639Z"
   },
   {
    "duration": 31,
    "start_time": "2022-03-31T12:24:39.725Z"
   },
   {
    "duration": 24,
    "start_time": "2022-03-31T12:24:39.759Z"
   },
   {
    "duration": 97,
    "start_time": "2022-03-31T12:24:39.787Z"
   },
   {
    "duration": 289,
    "start_time": "2022-03-31T12:24:39.887Z"
   },
   {
    "duration": 107,
    "start_time": "2022-03-31T12:24:40.178Z"
   },
   {
    "duration": 126,
    "start_time": "2022-03-31T12:24:40.288Z"
   },
   {
    "duration": 139,
    "start_time": "2022-03-31T12:24:40.416Z"
   },
   {
    "duration": 26,
    "start_time": "2022-03-31T12:24:40.557Z"
   },
   {
    "duration": 11,
    "start_time": "2022-03-31T12:24:40.587Z"
   },
   {
    "duration": 7,
    "start_time": "2022-03-31T12:24:40.600Z"
   },
   {
    "duration": 6,
    "start_time": "2022-03-31T12:24:40.611Z"
   },
   {
    "duration": 113,
    "start_time": "2022-03-31T12:24:40.619Z"
   },
   {
    "duration": 8,
    "start_time": "2022-03-31T12:25:23.332Z"
   },
   {
    "duration": 6,
    "start_time": "2022-03-31T12:25:24.974Z"
   },
   {
    "duration": 42,
    "start_time": "2022-03-31T12:26:23.292Z"
   },
   {
    "duration": 41,
    "start_time": "2022-03-31T12:29:23.332Z"
   },
   {
    "duration": 143,
    "start_time": "2022-03-31T12:31:28.373Z"
   },
   {
    "duration": 113,
    "start_time": "2022-03-31T12:31:32.459Z"
   },
   {
    "duration": 186,
    "start_time": "2022-03-31T12:31:36.672Z"
   },
   {
    "duration": 213,
    "start_time": "2022-03-31T12:31:46.013Z"
   },
   {
    "duration": 205,
    "start_time": "2022-03-31T12:32:27.091Z"
   },
   {
    "duration": 116,
    "start_time": "2022-03-31T12:33:03.471Z"
   },
   {
    "duration": 129,
    "start_time": "2022-03-31T12:33:13.692Z"
   },
   {
    "duration": 2376,
    "start_time": "2022-03-31T12:36:25.812Z"
   },
   {
    "duration": 2240,
    "start_time": "2022-03-31T12:36:44.213Z"
   },
   {
    "duration": 2097,
    "start_time": "2022-03-31T12:37:24.299Z"
   },
   {
    "duration": 2041,
    "start_time": "2022-03-31T12:37:34.733Z"
   },
   {
    "duration": 155,
    "start_time": "2022-03-31T12:39:34.212Z"
   },
   {
    "duration": 7,
    "start_time": "2022-03-31T12:40:22.226Z"
   },
   {
    "duration": 176,
    "start_time": "2022-03-31T12:40:26.271Z"
   },
   {
    "duration": 8,
    "start_time": "2022-03-31T12:40:33.892Z"
   },
   {
    "duration": 151,
    "start_time": "2022-03-31T12:40:37.012Z"
   },
   {
    "duration": 6,
    "start_time": "2022-03-31T12:40:50.512Z"
   },
   {
    "duration": 151,
    "start_time": "2022-03-31T12:40:52.654Z"
   },
   {
    "duration": 145,
    "start_time": "2022-03-31T12:41:57.972Z"
   },
   {
    "duration": 6,
    "start_time": "2022-03-31T12:42:07.572Z"
   },
   {
    "duration": 150,
    "start_time": "2022-03-31T12:42:09.471Z"
   },
   {
    "duration": 7,
    "start_time": "2022-03-31T12:42:17.796Z"
   },
   {
    "duration": 156,
    "start_time": "2022-03-31T12:42:19.580Z"
   },
   {
    "duration": 2142,
    "start_time": "2022-03-31T12:44:05.612Z"
   },
   {
    "duration": 147,
    "start_time": "2022-03-31T12:44:32.225Z"
   },
   {
    "duration": 181,
    "start_time": "2022-03-31T12:44:46.140Z"
   },
   {
    "duration": 6,
    "start_time": "2022-03-31T12:52:17.264Z"
   },
   {
    "duration": 144,
    "start_time": "2022-03-31T12:52:19.503Z"
   },
   {
    "duration": 136,
    "start_time": "2022-03-31T12:55:48.931Z"
   },
   {
    "duration": 142,
    "start_time": "2022-03-31T12:59:06.050Z"
   },
   {
    "duration": 138,
    "start_time": "2022-03-31T12:59:14.302Z"
   },
   {
    "duration": 135,
    "start_time": "2022-03-31T12:59:34.610Z"
   },
   {
    "duration": 202,
    "start_time": "2022-03-31T12:59:55.563Z"
   },
   {
    "duration": 209,
    "start_time": "2022-03-31T13:00:00.842Z"
   },
   {
    "duration": 219,
    "start_time": "2022-03-31T13:00:04.583Z"
   },
   {
    "duration": 2600,
    "start_time": "2022-03-31T13:00:23.523Z"
   },
   {
    "duration": 142,
    "start_time": "2022-03-31T13:00:33.514Z"
   },
   {
    "duration": 140,
    "start_time": "2022-03-31T13:00:38.628Z"
   },
   {
    "duration": 137,
    "start_time": "2022-03-31T13:00:50.363Z"
   },
   {
    "duration": 138,
    "start_time": "2022-03-31T13:02:06.501Z"
   },
   {
    "duration": 211,
    "start_time": "2022-03-31T13:02:20.022Z"
   },
   {
    "duration": 215,
    "start_time": "2022-03-31T13:02:25.002Z"
   },
   {
    "duration": 146,
    "start_time": "2022-03-31T13:02:28.130Z"
   },
   {
    "duration": 195,
    "start_time": "2022-03-31T13:03:22.061Z"
   },
   {
    "duration": 196,
    "start_time": "2022-03-31T13:03:29.482Z"
   },
   {
    "duration": 221,
    "start_time": "2022-03-31T13:03:36.381Z"
   },
   {
    "duration": 211,
    "start_time": "2022-03-31T13:03:40.782Z"
   },
   {
    "duration": 211,
    "start_time": "2022-03-31T13:03:45.181Z"
   },
   {
    "duration": 163,
    "start_time": "2022-03-31T13:05:40.661Z"
   },
   {
    "duration": 158,
    "start_time": "2022-03-31T13:06:09.981Z"
   },
   {
    "duration": 47,
    "start_time": "2022-03-31T13:06:56.478Z"
   },
   {
    "duration": 122,
    "start_time": "2022-03-31T13:07:17.958Z"
   },
   {
    "duration": 103,
    "start_time": "2022-03-31T13:07:48.699Z"
   },
   {
    "duration": 5,
    "start_time": "2022-03-31T13:08:06.198Z"
   },
   {
    "duration": 5,
    "start_time": "2022-03-31T13:08:09.332Z"
   },
   {
    "duration": 5,
    "start_time": "2022-03-31T13:08:17.879Z"
   },
   {
    "duration": 6,
    "start_time": "2022-03-31T13:08:49.122Z"
   },
   {
    "duration": 11,
    "start_time": "2022-03-31T13:10:01.763Z"
   },
   {
    "duration": 7,
    "start_time": "2022-03-31T13:10:10.536Z"
   },
   {
    "duration": 8,
    "start_time": "2022-03-31T13:10:18.302Z"
   },
   {
    "duration": 8,
    "start_time": "2022-03-31T13:10:29.344Z"
   },
   {
    "duration": 19,
    "start_time": "2022-03-31T13:10:56.104Z"
   },
   {
    "duration": 8,
    "start_time": "2022-03-31T13:11:25.402Z"
   },
   {
    "duration": 9,
    "start_time": "2022-03-31T13:11:30.921Z"
   },
   {
    "duration": 8,
    "start_time": "2022-03-31T13:11:33.464Z"
   },
   {
    "duration": 8,
    "start_time": "2022-03-31T13:11:36.326Z"
   },
   {
    "duration": 9,
    "start_time": "2022-03-31T13:12:26.780Z"
   },
   {
    "duration": 7,
    "start_time": "2022-03-31T13:12:32.296Z"
   },
   {
    "duration": 8,
    "start_time": "2022-03-31T13:12:36.661Z"
   },
   {
    "duration": 16,
    "start_time": "2022-03-31T13:12:54.841Z"
   },
   {
    "duration": 8,
    "start_time": "2022-03-31T13:13:07.081Z"
   },
   {
    "duration": 12,
    "start_time": "2022-03-31T13:13:12.800Z"
   },
   {
    "duration": 11,
    "start_time": "2022-03-31T13:13:26.661Z"
   },
   {
    "duration": 12,
    "start_time": "2022-03-31T13:14:23.362Z"
   },
   {
    "duration": 7,
    "start_time": "2022-03-31T13:14:38.242Z"
   },
   {
    "duration": 11,
    "start_time": "2022-03-31T13:14:42.480Z"
   },
   {
    "duration": 17,
    "start_time": "2022-03-31T13:14:49.861Z"
   },
   {
    "duration": 8,
    "start_time": "2022-03-31T13:14:53.061Z"
   },
   {
    "duration": 7,
    "start_time": "2022-03-31T13:14:59.501Z"
   },
   {
    "duration": 8,
    "start_time": "2022-03-31T13:15:08.041Z"
   },
   {
    "duration": 8,
    "start_time": "2022-03-31T13:15:19.440Z"
   },
   {
    "duration": 10,
    "start_time": "2022-03-31T13:17:43.042Z"
   },
   {
    "duration": 13,
    "start_time": "2022-03-31T13:17:54.922Z"
   },
   {
    "duration": 15,
    "start_time": "2022-03-31T13:18:06.764Z"
   },
   {
    "duration": 8,
    "start_time": "2022-03-31T13:18:10.522Z"
   },
   {
    "duration": 9,
    "start_time": "2022-03-31T13:18:55.730Z"
   },
   {
    "duration": 11,
    "start_time": "2022-03-31T13:19:34.782Z"
   },
   {
    "duration": 163,
    "start_time": "2022-03-31T13:20:33.144Z"
   },
   {
    "duration": 154,
    "start_time": "2022-03-31T13:20:35.083Z"
   },
   {
    "duration": 11,
    "start_time": "2022-03-31T13:20:39.436Z"
   },
   {
    "duration": 11,
    "start_time": "2022-03-31T13:20:52.143Z"
   },
   {
    "duration": 9,
    "start_time": "2022-03-31T13:20:57.403Z"
   },
   {
    "duration": 9,
    "start_time": "2022-03-31T13:21:00.363Z"
   },
   {
    "duration": 9,
    "start_time": "2022-03-31T13:21:51.245Z"
   },
   {
    "duration": 15,
    "start_time": "2022-03-31T13:24:12.603Z"
   },
   {
    "duration": 15,
    "start_time": "2022-03-31T13:24:15.303Z"
   },
   {
    "duration": 15,
    "start_time": "2022-03-31T13:24:19.007Z"
   },
   {
    "duration": 16,
    "start_time": "2022-03-31T13:24:27.731Z"
   },
   {
    "duration": 16,
    "start_time": "2022-03-31T13:24:29.313Z"
   },
   {
    "duration": 16,
    "start_time": "2022-03-31T13:24:35.322Z"
   },
   {
    "duration": 1414,
    "start_time": "2022-03-31T13:24:46.860Z"
   },
   {
    "duration": 200,
    "start_time": "2022-03-31T13:24:48.277Z"
   },
   {
    "duration": 15,
    "start_time": "2022-03-31T13:24:48.482Z"
   },
   {
    "duration": 10,
    "start_time": "2022-03-31T13:24:48.499Z"
   },
   {
    "duration": 114,
    "start_time": "2022-03-31T13:24:48.513Z"
   },
   {
    "duration": 65,
    "start_time": "2022-03-31T13:24:48.630Z"
   },
   {
    "duration": 20,
    "start_time": "2022-03-31T13:24:48.698Z"
   },
   {
    "duration": 112,
    "start_time": "2022-03-31T13:24:48.720Z"
   },
   {
    "duration": 109,
    "start_time": "2022-03-31T13:24:48.835Z"
   },
   {
    "duration": 102,
    "start_time": "2022-03-31T13:24:48.947Z"
   },
   {
    "duration": 8,
    "start_time": "2022-03-31T13:24:49.051Z"
   },
   {
    "duration": 25,
    "start_time": "2022-03-31T13:24:49.061Z"
   },
   {
    "duration": 6,
    "start_time": "2022-03-31T13:24:49.088Z"
   },
   {
    "duration": 12,
    "start_time": "2022-03-31T13:24:49.101Z"
   },
   {
    "duration": 615,
    "start_time": "2022-03-31T13:24:49.116Z"
   },
   {
    "duration": 57,
    "start_time": "2022-03-31T13:24:49.734Z"
   },
   {
    "duration": 48,
    "start_time": "2022-03-31T13:24:49.794Z"
   },
   {
    "duration": 50,
    "start_time": "2022-03-31T13:24:49.845Z"
   },
   {
    "duration": 7,
    "start_time": "2022-03-31T13:24:49.897Z"
   },
   {
    "duration": 106,
    "start_time": "2022-03-31T13:24:49.906Z"
   },
   {
    "duration": 239,
    "start_time": "2022-03-31T13:24:50.015Z"
   },
   {
    "duration": 48,
    "start_time": "2022-03-31T13:24:50.257Z"
   },
   {
    "duration": 109,
    "start_time": "2022-03-31T13:24:50.307Z"
   },
   {
    "duration": 130,
    "start_time": "2022-03-31T13:24:50.418Z"
   },
   {
    "duration": 137,
    "start_time": "2022-03-31T13:24:50.551Z"
   },
   {
    "duration": 6,
    "start_time": "2022-03-31T13:24:50.690Z"
   },
   {
    "duration": 169,
    "start_time": "2022-03-31T13:24:50.699Z"
   },
   {
    "duration": 0,
    "start_time": "2022-03-31T13:24:50.870Z"
   },
   {
    "duration": 0,
    "start_time": "2022-03-31T13:24:50.871Z"
   },
   {
    "duration": 0,
    "start_time": "2022-03-31T13:24:50.873Z"
   },
   {
    "duration": 47,
    "start_time": "2022-03-31T13:25:03.614Z"
   },
   {
    "duration": 2290,
    "start_time": "2022-03-31T13:25:07.880Z"
   },
   {
    "duration": 1849,
    "start_time": "2022-03-31T13:25:12.198Z"
   },
   {
    "duration": 43,
    "start_time": "2022-03-31T13:25:17.478Z"
   },
   {
    "duration": 46,
    "start_time": "2022-03-31T13:25:19.630Z"
   },
   {
    "duration": 42,
    "start_time": "2022-03-31T13:25:21.859Z"
   },
   {
    "duration": 45,
    "start_time": "2022-03-31T13:25:24.418Z"
   },
   {
    "duration": 40,
    "start_time": "2022-03-31T13:25:27.407Z"
   },
   {
    "duration": 2110,
    "start_time": "2022-03-31T13:25:31.831Z"
   },
   {
    "duration": 52,
    "start_time": "2022-03-31T13:25:37.198Z"
   },
   {
    "duration": 40,
    "start_time": "2022-03-31T13:25:48.358Z"
   },
   {
    "duration": 45,
    "start_time": "2022-03-31T13:25:53.150Z"
   },
   {
    "duration": 1596,
    "start_time": "2022-03-31T13:25:55.639Z"
   },
   {
    "duration": 43,
    "start_time": "2022-03-31T13:26:00.379Z"
   },
   {
    "duration": 42,
    "start_time": "2022-03-31T13:26:05.886Z"
   },
   {
    "duration": 41,
    "start_time": "2022-03-31T13:26:08.590Z"
   },
   {
    "duration": 41,
    "start_time": "2022-03-31T13:26:12.250Z"
   },
   {
    "duration": 43,
    "start_time": "2022-03-31T13:26:18.466Z"
   },
   {
    "duration": 19,
    "start_time": "2022-03-31T13:26:42.678Z"
   },
   {
    "duration": 5,
    "start_time": "2022-03-31T13:27:02.488Z"
   },
   {
    "duration": 18,
    "start_time": "2022-03-31T13:27:05.818Z"
   },
   {
    "duration": 8,
    "start_time": "2022-03-31T13:27:20.959Z"
   },
   {
    "duration": 24,
    "start_time": "2022-03-31T13:27:25.119Z"
   },
   {
    "duration": 18,
    "start_time": "2022-03-31T13:27:46.360Z"
   },
   {
    "duration": 14,
    "start_time": "2022-03-31T13:28:02.458Z"
   },
   {
    "duration": 17,
    "start_time": "2022-03-31T13:28:05.119Z"
   },
   {
    "duration": 15,
    "start_time": "2022-03-31T13:28:17.198Z"
   },
   {
    "duration": 24,
    "start_time": "2022-03-31T13:28:44.840Z"
   },
   {
    "duration": 15,
    "start_time": "2022-03-31T13:29:07.437Z"
   },
   {
    "duration": 14,
    "start_time": "2022-03-31T13:29:14.579Z"
   },
   {
    "duration": 15,
    "start_time": "2022-03-31T13:29:24.228Z"
   },
   {
    "duration": 15,
    "start_time": "2022-03-31T13:30:57.798Z"
   },
   {
    "duration": 18,
    "start_time": "2022-03-31T13:32:30.781Z"
   },
   {
    "duration": 16,
    "start_time": "2022-03-31T13:32:53.679Z"
   },
   {
    "duration": 16,
    "start_time": "2022-03-31T13:33:17.559Z"
   },
   {
    "duration": 80,
    "start_time": "2022-03-31T13:33:37.318Z"
   },
   {
    "duration": 61,
    "start_time": "2022-03-31T13:33:51.999Z"
   },
   {
    "duration": 68,
    "start_time": "2022-03-31T13:40:31.278Z"
   },
   {
    "duration": 63,
    "start_time": "2022-03-31T13:40:48.159Z"
   },
   {
    "duration": 67,
    "start_time": "2022-03-31T13:40:54.698Z"
   },
   {
    "duration": 144,
    "start_time": "2022-03-31T13:42:14.815Z"
   },
   {
    "duration": 154,
    "start_time": "2022-03-31T13:42:18.155Z"
   },
   {
    "duration": 141,
    "start_time": "2022-03-31T13:42:27.278Z"
   },
   {
    "duration": 113,
    "start_time": "2022-03-31T13:42:36.239Z"
   },
   {
    "duration": 155,
    "start_time": "2022-03-31T13:43:13.919Z"
   },
   {
    "duration": 99,
    "start_time": "2022-03-31T13:44:13.918Z"
   },
   {
    "duration": 96,
    "start_time": "2022-03-31T13:44:26.967Z"
   },
   {
    "duration": 98,
    "start_time": "2022-03-31T13:44:51.570Z"
   },
   {
    "duration": 95,
    "start_time": "2022-03-31T13:44:57.560Z"
   },
   {
    "duration": 95,
    "start_time": "2022-03-31T13:45:38.718Z"
   },
   {
    "duration": 106,
    "start_time": "2022-03-31T13:45:59.037Z"
   },
   {
    "duration": 104,
    "start_time": "2022-03-31T13:46:06.358Z"
   },
   {
    "duration": 101,
    "start_time": "2022-03-31T13:47:07.406Z"
   },
   {
    "duration": 98,
    "start_time": "2022-03-31T13:47:18.938Z"
   },
   {
    "duration": 118,
    "start_time": "2022-03-31T13:49:29.038Z"
   },
   {
    "duration": 109,
    "start_time": "2022-03-31T13:49:38.951Z"
   },
   {
    "duration": 126,
    "start_time": "2022-03-31T13:50:31.578Z"
   },
   {
    "duration": 101,
    "start_time": "2022-03-31T13:50:42.538Z"
   },
   {
    "duration": 101,
    "start_time": "2022-03-31T13:50:56.640Z"
   },
   {
    "duration": 1336,
    "start_time": "2022-03-31T13:51:01.181Z"
   },
   {
    "duration": 202,
    "start_time": "2022-03-31T13:51:02.520Z"
   },
   {
    "duration": 17,
    "start_time": "2022-03-31T13:51:02.724Z"
   },
   {
    "duration": 28,
    "start_time": "2022-03-31T13:51:02.744Z"
   },
   {
    "duration": 113,
    "start_time": "2022-03-31T13:51:02.777Z"
   },
   {
    "duration": 41,
    "start_time": "2022-03-31T13:51:02.893Z"
   },
   {
    "duration": 52,
    "start_time": "2022-03-31T13:51:02.937Z"
   },
   {
    "duration": 104,
    "start_time": "2022-03-31T13:51:02.992Z"
   },
   {
    "duration": 111,
    "start_time": "2022-03-31T13:51:03.099Z"
   },
   {
    "duration": 105,
    "start_time": "2022-03-31T13:51:03.212Z"
   },
   {
    "duration": 33,
    "start_time": "2022-03-31T13:51:03.319Z"
   },
   {
    "duration": 41,
    "start_time": "2022-03-31T13:51:03.354Z"
   },
   {
    "duration": 11,
    "start_time": "2022-03-31T13:51:03.398Z"
   },
   {
    "duration": 30,
    "start_time": "2022-03-31T13:51:03.415Z"
   },
   {
    "duration": 585,
    "start_time": "2022-03-31T13:51:03.448Z"
   },
   {
    "duration": 53,
    "start_time": "2022-03-31T13:51:04.036Z"
   },
   {
    "duration": 43,
    "start_time": "2022-03-31T13:51:04.091Z"
   },
   {
    "duration": 51,
    "start_time": "2022-03-31T13:51:04.136Z"
   },
   {
    "duration": 6,
    "start_time": "2022-03-31T13:51:04.189Z"
   },
   {
    "duration": 105,
    "start_time": "2022-03-31T13:51:04.197Z"
   },
   {
    "duration": 204,
    "start_time": "2022-03-31T13:51:04.304Z"
   },
   {
    "duration": 73,
    "start_time": "2022-03-31T13:51:04.510Z"
   },
   {
    "duration": 113,
    "start_time": "2022-03-31T13:51:04.586Z"
   },
   {
    "duration": 112,
    "start_time": "2022-03-31T13:51:04.701Z"
   },
   {
    "duration": 126,
    "start_time": "2022-03-31T13:51:04.815Z"
   },
   {
    "duration": 5,
    "start_time": "2022-03-31T13:51:04.943Z"
   },
   {
    "duration": 49,
    "start_time": "2022-03-31T13:51:04.950Z"
   },
   {
    "duration": 53,
    "start_time": "2022-03-31T13:51:05.001Z"
   },
   {
    "duration": 45,
    "start_time": "2022-03-31T13:51:05.057Z"
   },
   {
    "duration": 131,
    "start_time": "2022-03-31T13:51:05.104Z"
   },
   {
    "duration": 108,
    "start_time": "2022-03-31T13:51:14.061Z"
   },
   {
    "duration": 79,
    "start_time": "2022-03-31T13:51:29.061Z"
   },
   {
    "duration": 246,
    "start_time": "2022-03-31T13:52:23.438Z"
   },
   {
    "duration": 69,
    "start_time": "2022-03-31T13:52:45.161Z"
   },
   {
    "duration": 61,
    "start_time": "2022-03-31T13:52:47.881Z"
   },
   {
    "duration": 59,
    "start_time": "2022-03-31T13:52:52.653Z"
   },
   {
    "duration": 65,
    "start_time": "2022-03-31T13:53:05.242Z"
   },
   {
    "duration": 67,
    "start_time": "2022-03-31T13:53:09.380Z"
   },
   {
    "duration": 62,
    "start_time": "2022-03-31T13:53:22.169Z"
   },
   {
    "duration": 58,
    "start_time": "2022-03-31T13:53:40.162Z"
   },
   {
    "duration": 61,
    "start_time": "2022-03-31T13:53:47.561Z"
   },
   {
    "duration": 58,
    "start_time": "2022-03-31T13:54:44.303Z"
   },
   {
    "duration": 59,
    "start_time": "2022-03-31T13:54:51.241Z"
   },
   {
    "duration": 59,
    "start_time": "2022-03-31T13:54:54.160Z"
   },
   {
    "duration": 2183,
    "start_time": "2022-03-31T13:56:08.841Z"
   },
   {
    "duration": 1996,
    "start_time": "2022-03-31T13:56:45.201Z"
   },
   {
    "duration": 1989,
    "start_time": "2022-03-31T13:57:04.320Z"
   },
   {
    "duration": 23,
    "start_time": "2022-03-31T13:57:16.519Z"
   },
   {
    "duration": 25,
    "start_time": "2022-03-31T13:57:21.359Z"
   },
   {
    "duration": 1212,
    "start_time": "2022-04-01T06:43:48.822Z"
   },
   {
    "duration": 169,
    "start_time": "2022-04-01T06:43:50.036Z"
   },
   {
    "duration": 10,
    "start_time": "2022-04-01T06:43:50.207Z"
   },
   {
    "duration": 9,
    "start_time": "2022-04-01T06:43:50.219Z"
   },
   {
    "duration": 88,
    "start_time": "2022-04-01T06:43:50.230Z"
   },
   {
    "duration": 52,
    "start_time": "2022-04-01T06:43:50.319Z"
   },
   {
    "duration": 20,
    "start_time": "2022-04-01T06:43:50.374Z"
   },
   {
    "duration": 86,
    "start_time": "2022-04-01T06:43:50.395Z"
   },
   {
    "duration": 74,
    "start_time": "2022-04-01T06:43:50.482Z"
   },
   {
    "duration": 69,
    "start_time": "2022-04-01T06:43:50.563Z"
   },
   {
    "duration": 26,
    "start_time": "2022-04-01T06:43:50.634Z"
   },
   {
    "duration": 35,
    "start_time": "2022-04-01T06:43:50.662Z"
   },
   {
    "duration": 23,
    "start_time": "2022-04-01T06:43:50.699Z"
   },
   {
    "duration": 20,
    "start_time": "2022-04-01T06:43:50.726Z"
   },
   {
    "duration": 386,
    "start_time": "2022-04-01T06:43:50.747Z"
   },
   {
    "duration": 40,
    "start_time": "2022-04-01T06:43:51.135Z"
   },
   {
    "duration": 36,
    "start_time": "2022-04-01T06:43:51.176Z"
   },
   {
    "duration": 22,
    "start_time": "2022-04-01T06:43:51.214Z"
   },
   {
    "duration": 29,
    "start_time": "2022-04-01T06:43:51.238Z"
   },
   {
    "duration": 73,
    "start_time": "2022-04-01T06:43:51.273Z"
   },
   {
    "duration": 175,
    "start_time": "2022-04-01T06:43:51.348Z"
   },
   {
    "duration": 39,
    "start_time": "2022-04-01T06:43:51.525Z"
   },
   {
    "duration": 95,
    "start_time": "2022-04-01T06:43:51.568Z"
   },
   {
    "duration": 66,
    "start_time": "2022-04-01T06:43:51.665Z"
   },
   {
    "duration": 104,
    "start_time": "2022-04-01T06:43:51.733Z"
   },
   {
    "duration": 4,
    "start_time": "2022-04-01T06:43:51.838Z"
   },
   {
    "duration": 31,
    "start_time": "2022-04-01T06:43:51.844Z"
   },
   {
    "duration": 16,
    "start_time": "2022-04-01T06:43:51.876Z"
   },
   {
    "duration": 10,
    "start_time": "2022-04-01T06:43:51.894Z"
   },
   {
    "duration": 65,
    "start_time": "2022-04-01T06:43:51.906Z"
   },
   {
    "duration": 13,
    "start_time": "2022-04-01T06:43:51.973Z"
   },
   {
    "duration": 185,
    "start_time": "2022-04-01T06:44:26.822Z"
   },
   {
    "duration": 65,
    "start_time": "2022-04-01T06:45:08.849Z"
   },
   {
    "duration": 5,
    "start_time": "2022-04-01T06:45:46.882Z"
   },
   {
    "duration": 169,
    "start_time": "2022-04-01T06:46:15.381Z"
   },
   {
    "duration": 50,
    "start_time": "2022-04-01T06:47:15.101Z"
   },
   {
    "duration": 50,
    "start_time": "2022-04-01T06:47:26.624Z"
   },
   {
    "duration": 5,
    "start_time": "2022-04-01T06:52:28.203Z"
   },
   {
    "duration": 4,
    "start_time": "2022-04-01T06:54:10.551Z"
   },
   {
    "duration": 10,
    "start_time": "2022-04-01T06:54:36.803Z"
   },
   {
    "duration": 14,
    "start_time": "2022-04-01T06:54:42.884Z"
   },
   {
    "duration": 11,
    "start_time": "2022-04-01T06:54:55.003Z"
   },
   {
    "duration": 73,
    "start_time": "2022-04-01T06:55:19.703Z"
   },
   {
    "duration": 69,
    "start_time": "2022-04-01T06:55:41.123Z"
   },
   {
    "duration": 66,
    "start_time": "2022-04-01T06:56:01.284Z"
   },
   {
    "duration": 4,
    "start_time": "2022-04-01T06:56:03.505Z"
   },
   {
    "duration": 12,
    "start_time": "2022-04-01T06:56:05.263Z"
   },
   {
    "duration": 11,
    "start_time": "2022-04-01T06:56:26.184Z"
   },
   {
    "duration": 10,
    "start_time": "2022-04-01T06:56:28.744Z"
   },
   {
    "duration": 52,
    "start_time": "2022-04-01T06:56:35.904Z"
   },
   {
    "duration": 5,
    "start_time": "2022-04-01T06:56:52.146Z"
   },
   {
    "duration": 16,
    "start_time": "2022-04-01T06:58:31.904Z"
   },
   {
    "duration": 13,
    "start_time": "2022-04-01T06:59:03.785Z"
   },
   {
    "duration": 18,
    "start_time": "2022-04-01T06:59:29.425Z"
   },
   {
    "duration": 10,
    "start_time": "2022-04-01T06:59:44.286Z"
   },
   {
    "duration": 52,
    "start_time": "2022-04-01T07:11:10.206Z"
   },
   {
    "duration": 52,
    "start_time": "2022-04-01T07:14:11.417Z"
   },
   {
    "duration": 49,
    "start_time": "2022-04-01T07:14:14.278Z"
   },
   {
    "duration": 79,
    "start_time": "2022-04-01T07:16:57.148Z"
   },
   {
    "duration": 70,
    "start_time": "2022-04-01T07:17:05.111Z"
   },
   {
    "duration": 71,
    "start_time": "2022-04-01T07:17:08.107Z"
   },
   {
    "duration": 59,
    "start_time": "2022-04-01T07:17:41.738Z"
   },
   {
    "duration": 58,
    "start_time": "2022-04-01T07:18:14.650Z"
   },
   {
    "duration": 56,
    "start_time": "2022-04-01T07:19:02.410Z"
   },
   {
    "duration": 51,
    "start_time": "2022-04-01T07:19:05.890Z"
   },
   {
    "duration": 58,
    "start_time": "2022-04-01T07:19:25.550Z"
   },
   {
    "duration": 53,
    "start_time": "2022-04-01T07:19:34.570Z"
   },
   {
    "duration": 71,
    "start_time": "2022-04-01T07:25:03.740Z"
   },
   {
    "duration": 13,
    "start_time": "2022-04-01T07:25:25.502Z"
   },
   {
    "duration": 14,
    "start_time": "2022-04-01T07:25:32.292Z"
   },
   {
    "duration": 10,
    "start_time": "2022-04-01T07:33:37.500Z"
   },
   {
    "duration": 12,
    "start_time": "2022-04-01T07:33:51.441Z"
   },
   {
    "duration": 50,
    "start_time": "2022-04-01T07:34:24.582Z"
   },
   {
    "duration": 4,
    "start_time": "2022-04-01T07:44:29.049Z"
   },
   {
    "duration": 30,
    "start_time": "2022-04-01T07:44:48.387Z"
   },
   {
    "duration": 77,
    "start_time": "2022-04-01T07:45:21.339Z"
   },
   {
    "duration": 91,
    "start_time": "2022-04-01T07:45:35.000Z"
   },
   {
    "duration": 78,
    "start_time": "2022-04-01T07:45:49.767Z"
   },
   {
    "duration": 69,
    "start_time": "2022-04-01T07:47:15.627Z"
   },
   {
    "duration": 14,
    "start_time": "2022-04-01T07:47:44.828Z"
   },
   {
    "duration": 10,
    "start_time": "2022-04-01T07:47:49.168Z"
   },
   {
    "duration": 992,
    "start_time": "2022-04-01T10:01:50.906Z"
   },
   {
    "duration": 160,
    "start_time": "2022-04-01T10:01:51.900Z"
   },
   {
    "duration": 10,
    "start_time": "2022-04-01T10:01:52.062Z"
   },
   {
    "duration": 3,
    "start_time": "2022-04-01T10:01:52.074Z"
   },
   {
    "duration": 86,
    "start_time": "2022-04-01T10:01:52.079Z"
   },
   {
    "duration": 30,
    "start_time": "2022-04-01T10:01:52.166Z"
   },
   {
    "duration": 16,
    "start_time": "2022-04-01T10:01:52.197Z"
   },
   {
    "duration": 86,
    "start_time": "2022-04-01T10:01:52.214Z"
   },
   {
    "duration": 85,
    "start_time": "2022-04-01T10:01:52.302Z"
   },
   {
    "duration": 64,
    "start_time": "2022-04-01T10:01:52.389Z"
   },
   {
    "duration": 15,
    "start_time": "2022-04-01T10:01:52.455Z"
   },
   {
    "duration": 25,
    "start_time": "2022-04-01T10:01:52.471Z"
   },
   {
    "duration": 5,
    "start_time": "2022-04-01T10:01:52.498Z"
   },
   {
    "duration": 23,
    "start_time": "2022-04-01T10:01:52.505Z"
   },
   {
    "duration": 345,
    "start_time": "2022-04-01T10:01:52.529Z"
   },
   {
    "duration": 26,
    "start_time": "2022-04-01T10:01:52.876Z"
   },
   {
    "duration": 40,
    "start_time": "2022-04-01T10:01:52.903Z"
   },
   {
    "duration": 36,
    "start_time": "2022-04-01T10:01:52.944Z"
   },
   {
    "duration": 3,
    "start_time": "2022-04-01T10:01:52.982Z"
   },
   {
    "duration": 76,
    "start_time": "2022-04-01T10:01:52.987Z"
   },
   {
    "duration": 316,
    "start_time": "2022-04-01T10:01:53.064Z"
   },
   {
    "duration": 30,
    "start_time": "2022-04-01T10:01:53.382Z"
   },
   {
    "duration": 79,
    "start_time": "2022-04-01T10:01:53.413Z"
   },
   {
    "duration": 103,
    "start_time": "2022-04-01T10:01:53.493Z"
   },
   {
    "duration": 92,
    "start_time": "2022-04-01T10:01:53.597Z"
   },
   {
    "duration": 4,
    "start_time": "2022-04-01T10:01:53.690Z"
   },
   {
    "duration": 16,
    "start_time": "2022-04-01T10:01:53.695Z"
   },
   {
    "duration": 10,
    "start_time": "2022-04-01T10:01:53.712Z"
   },
   {
    "duration": 12,
    "start_time": "2022-04-01T10:01:53.723Z"
   },
   {
    "duration": 81,
    "start_time": "2022-04-01T10:01:53.737Z"
   },
   {
    "duration": 10,
    "start_time": "2022-04-01T10:01:53.820Z"
   },
   {
    "duration": 1157,
    "start_time": "2022-04-01T13:44:56.745Z"
   },
   {
    "duration": 162,
    "start_time": "2022-04-01T13:44:57.904Z"
   },
   {
    "duration": 11,
    "start_time": "2022-04-01T13:44:58.067Z"
   },
   {
    "duration": 4,
    "start_time": "2022-04-01T13:44:58.080Z"
   },
   {
    "duration": 90,
    "start_time": "2022-04-01T13:44:58.085Z"
   },
   {
    "duration": 30,
    "start_time": "2022-04-01T13:44:58.177Z"
   },
   {
    "duration": 41,
    "start_time": "2022-04-01T13:44:58.208Z"
   },
   {
    "duration": 67,
    "start_time": "2022-04-01T13:44:58.252Z"
   },
   {
    "duration": 80,
    "start_time": "2022-04-01T13:44:58.337Z"
   },
   {
    "duration": 81,
    "start_time": "2022-04-01T13:44:58.421Z"
   },
   {
    "duration": 6,
    "start_time": "2022-04-01T13:44:58.504Z"
   },
   {
    "duration": 28,
    "start_time": "2022-04-01T13:44:58.512Z"
   },
   {
    "duration": 4,
    "start_time": "2022-04-01T13:44:58.542Z"
   },
   {
    "duration": 12,
    "start_time": "2022-04-01T13:44:58.548Z"
   },
   {
    "duration": 402,
    "start_time": "2022-04-01T13:44:58.561Z"
   },
   {
    "duration": 31,
    "start_time": "2022-04-01T13:44:58.965Z"
   },
   {
    "duration": 62,
    "start_time": "2022-04-01T13:44:58.998Z"
   },
   {
    "duration": 29,
    "start_time": "2022-04-01T13:44:59.062Z"
   },
   {
    "duration": 8,
    "start_time": "2022-04-01T13:44:59.094Z"
   },
   {
    "duration": 76,
    "start_time": "2022-04-01T13:44:59.103Z"
   },
   {
    "duration": 197,
    "start_time": "2022-04-01T13:44:59.180Z"
   },
   {
    "duration": 78,
    "start_time": "2022-04-01T13:44:59.379Z"
   },
   {
    "duration": 100,
    "start_time": "2022-04-01T13:44:59.459Z"
   },
   {
    "duration": 102,
    "start_time": "2022-04-01T13:44:59.560Z"
   },
   {
    "duration": 89,
    "start_time": "2022-04-01T13:44:59.664Z"
   },
   {
    "duration": 4,
    "start_time": "2022-04-01T13:44:59.754Z"
   },
   {
    "duration": 18,
    "start_time": "2022-04-01T13:44:59.759Z"
   },
   {
    "duration": 10,
    "start_time": "2022-04-01T13:44:59.780Z"
   },
   {
    "duration": 13,
    "start_time": "2022-04-01T13:44:59.791Z"
   },
   {
    "duration": 90,
    "start_time": "2022-04-01T13:44:59.806Z"
   },
   {
    "duration": 11,
    "start_time": "2022-04-01T13:44:59.898Z"
   },
   {
    "duration": 1257,
    "start_time": "2022-04-03T05:09:29.897Z"
   },
   {
    "duration": 169,
    "start_time": "2022-04-03T05:09:31.156Z"
   },
   {
    "duration": 12,
    "start_time": "2022-04-03T05:09:31.326Z"
   },
   {
    "duration": 5,
    "start_time": "2022-04-03T05:09:31.339Z"
   },
   {
    "duration": 88,
    "start_time": "2022-04-03T05:09:31.346Z"
   },
   {
    "duration": 30,
    "start_time": "2022-04-03T05:09:31.436Z"
   },
   {
    "duration": 38,
    "start_time": "2022-04-03T05:09:31.468Z"
   },
   {
    "duration": 63,
    "start_time": "2022-04-03T05:09:31.508Z"
   },
   {
    "duration": 87,
    "start_time": "2022-04-03T05:09:31.573Z"
   },
   {
    "duration": 74,
    "start_time": "2022-04-03T05:09:31.662Z"
   },
   {
    "duration": 5,
    "start_time": "2022-04-03T05:09:31.738Z"
   },
   {
    "duration": 9,
    "start_time": "2022-04-03T05:09:31.745Z"
   },
   {
    "duration": 3,
    "start_time": "2022-04-03T05:09:31.756Z"
   },
   {
    "duration": 41,
    "start_time": "2022-04-03T05:09:31.763Z"
   },
   {
    "duration": 354,
    "start_time": "2022-04-03T05:09:31.806Z"
   },
   {
    "duration": 39,
    "start_time": "2022-04-03T05:09:32.162Z"
   },
   {
    "duration": 34,
    "start_time": "2022-04-03T05:09:32.203Z"
   },
   {
    "duration": 25,
    "start_time": "2022-04-03T05:09:32.239Z"
   },
   {
    "duration": 5,
    "start_time": "2022-04-03T05:09:32.266Z"
   },
   {
    "duration": 84,
    "start_time": "2022-04-03T05:09:32.273Z"
   },
   {
    "duration": 282,
    "start_time": "2022-04-03T05:09:32.359Z"
   },
   {
    "duration": 29,
    "start_time": "2022-04-03T05:09:32.643Z"
   },
   {
    "duration": 62,
    "start_time": "2022-04-03T05:09:32.673Z"
   },
   {
    "duration": 109,
    "start_time": "2022-04-03T05:09:32.737Z"
   },
   {
    "duration": 94,
    "start_time": "2022-04-03T05:09:32.847Z"
   },
   {
    "duration": 3,
    "start_time": "2022-04-03T05:09:32.943Z"
   },
   {
    "duration": 12,
    "start_time": "2022-04-03T05:09:32.948Z"
   },
   {
    "duration": 11,
    "start_time": "2022-04-03T05:09:32.961Z"
   },
   {
    "duration": 35,
    "start_time": "2022-04-03T05:09:32.974Z"
   },
   {
    "duration": 53,
    "start_time": "2022-04-03T05:09:33.011Z"
   },
   {
    "duration": 9,
    "start_time": "2022-04-03T05:09:33.066Z"
   },
   {
    "duration": 184,
    "start_time": "2022-04-03T07:32:09.225Z"
   },
   {
    "duration": 1135,
    "start_time": "2022-04-03T07:32:25.395Z"
   },
   {
    "duration": 171,
    "start_time": "2022-04-03T07:32:26.532Z"
   },
   {
    "duration": 10,
    "start_time": "2022-04-03T07:32:26.704Z"
   },
   {
    "duration": 4,
    "start_time": "2022-04-03T07:32:26.716Z"
   },
   {
    "duration": 82,
    "start_time": "2022-04-03T07:32:26.722Z"
   },
   {
    "duration": 30,
    "start_time": "2022-04-03T07:32:26.806Z"
   },
   {
    "duration": 15,
    "start_time": "2022-04-03T07:32:26.837Z"
   },
   {
    "duration": 88,
    "start_time": "2022-04-03T07:32:26.854Z"
   },
   {
    "duration": 82,
    "start_time": "2022-04-03T07:32:26.943Z"
   },
   {
    "duration": 73,
    "start_time": "2022-04-03T07:32:27.028Z"
   },
   {
    "duration": 4,
    "start_time": "2022-04-03T07:32:27.102Z"
   },
   {
    "duration": 11,
    "start_time": "2022-04-03T07:32:27.107Z"
   },
   {
    "duration": 2,
    "start_time": "2022-04-03T07:32:27.120Z"
   },
   {
    "duration": 7,
    "start_time": "2022-04-03T07:32:27.124Z"
   },
   {
    "duration": 373,
    "start_time": "2022-04-03T07:32:27.133Z"
   },
   {
    "duration": 24,
    "start_time": "2022-04-03T07:32:27.507Z"
   },
   {
    "duration": 32,
    "start_time": "2022-04-03T07:32:27.533Z"
   },
   {
    "duration": 38,
    "start_time": "2022-04-03T07:32:27.567Z"
   },
   {
    "duration": 5,
    "start_time": "2022-04-03T07:32:27.607Z"
   },
   {
    "duration": 58,
    "start_time": "2022-04-03T07:32:27.614Z"
   },
   {
    "duration": 191,
    "start_time": "2022-04-03T07:32:27.674Z"
   },
   {
    "duration": 48,
    "start_time": "2022-04-03T07:32:27.867Z"
   },
   {
    "duration": 111,
    "start_time": "2022-04-03T07:32:27.916Z"
   },
   {
    "duration": 116,
    "start_time": "2022-04-03T07:32:28.029Z"
   },
   {
    "duration": 90,
    "start_time": "2022-04-03T07:32:28.147Z"
   },
   {
    "duration": 3,
    "start_time": "2022-04-03T07:32:28.239Z"
   },
   {
    "duration": 10,
    "start_time": "2022-04-03T07:32:28.244Z"
   },
   {
    "duration": 10,
    "start_time": "2022-04-03T07:32:28.257Z"
   },
   {
    "duration": 41,
    "start_time": "2022-04-03T07:32:28.268Z"
   },
   {
    "duration": 56,
    "start_time": "2022-04-03T07:32:28.311Z"
   },
   {
    "duration": 78359,
    "start_time": "2022-04-03T07:32:28.369Z"
   },
   {
    "duration": 0,
    "start_time": "2022-04-03T07:33:46.730Z"
   },
   {
    "duration": 0,
    "start_time": "2022-04-03T07:33:46.731Z"
   },
   {
    "duration": 4,
    "start_time": "2022-04-03T07:37:30.121Z"
   },
   {
    "duration": 5,
    "start_time": "2022-04-03T07:37:35.763Z"
   },
   {
    "duration": 5,
    "start_time": "2022-04-03T07:37:38.512Z"
   },
   {
    "duration": 5,
    "start_time": "2022-04-03T07:37:51.089Z"
   },
   {
    "duration": 0,
    "start_time": "2022-04-03T07:37:59.131Z"
   },
   {
    "duration": 5,
    "start_time": "2022-04-03T07:38:04.310Z"
   },
   {
    "duration": 10,
    "start_time": "2022-04-03T07:38:19.692Z"
   },
   {
    "duration": 3,
    "start_time": "2022-04-03T07:38:25.529Z"
   },
   {
    "duration": 3,
    "start_time": "2022-04-03T07:38:34.720Z"
   },
   {
    "duration": 4,
    "start_time": "2022-04-03T07:38:40.850Z"
   },
   {
    "duration": 4,
    "start_time": "2022-04-03T07:38:47.572Z"
   },
   {
    "duration": 5,
    "start_time": "2022-04-03T07:38:53.238Z"
   },
   {
    "duration": 5,
    "start_time": "2022-04-03T07:38:56.169Z"
   },
   {
    "duration": 4,
    "start_time": "2022-04-03T07:39:00.561Z"
   },
   {
    "duration": 5,
    "start_time": "2022-04-03T07:39:09.211Z"
   },
   {
    "duration": 5,
    "start_time": "2022-04-03T07:39:16.768Z"
   },
   {
    "duration": 4,
    "start_time": "2022-04-03T07:39:20.700Z"
   },
   {
    "duration": 5,
    "start_time": "2022-04-03T07:39:24.860Z"
   },
   {
    "duration": 5,
    "start_time": "2022-04-03T07:39:29.113Z"
   },
   {
    "duration": 5,
    "start_time": "2022-04-03T07:39:33.180Z"
   },
   {
    "duration": 14,
    "start_time": "2022-04-03T07:43:32.693Z"
   },
   {
    "duration": 6,
    "start_time": "2022-04-03T07:43:41.921Z"
   },
   {
    "duration": 6,
    "start_time": "2022-04-03T07:43:48.058Z"
   },
   {
    "duration": 5,
    "start_time": "2022-04-03T07:43:56.277Z"
   },
   {
    "duration": 6,
    "start_time": "2022-04-03T07:44:02.880Z"
   },
   {
    "duration": 6,
    "start_time": "2022-04-03T07:44:08.550Z"
   },
   {
    "duration": 6,
    "start_time": "2022-04-03T07:44:17.200Z"
   },
   {
    "duration": 6,
    "start_time": "2022-04-03T07:44:24.980Z"
   },
   {
    "duration": 5,
    "start_time": "2022-04-03T07:47:39.128Z"
   },
   {
    "duration": 5,
    "start_time": "2022-04-03T07:47:41.901Z"
   },
   {
    "duration": 26,
    "start_time": "2022-04-03T07:47:56.760Z"
   },
   {
    "duration": 4,
    "start_time": "2022-04-03T07:48:20.652Z"
   },
   {
    "duration": 9,
    "start_time": "2022-04-03T07:48:32.350Z"
   },
   {
    "duration": 5,
    "start_time": "2022-04-03T07:49:05.849Z"
   },
   {
    "duration": 6,
    "start_time": "2022-04-03T07:49:30.760Z"
   },
   {
    "duration": 5,
    "start_time": "2022-04-03T07:49:35.304Z"
   },
   {
    "duration": 6,
    "start_time": "2022-04-03T07:50:23.550Z"
   },
   {
    "duration": 6,
    "start_time": "2022-04-03T07:50:35.784Z"
   },
   {
    "duration": 5,
    "start_time": "2022-04-03T07:50:41.050Z"
   },
   {
    "duration": 6,
    "start_time": "2022-04-03T07:50:43.321Z"
   },
   {
    "duration": 4,
    "start_time": "2022-04-03T07:51:02.920Z"
   },
   {
    "duration": 87,
    "start_time": "2022-05-10T14:10:11.631Z"
   },
   {
    "duration": 84,
    "start_time": "2022-05-15T12:49:21.353Z"
   }
  ],
  "kernelspec": {
   "display_name": "Python 3 (ipykernel)",
   "language": "python",
   "name": "python3"
  },
  "language_info": {
   "codemirror_mode": {
    "name": "ipython",
    "version": 3
   },
   "file_extension": ".py",
   "mimetype": "text/x-python",
   "name": "python",
   "nbconvert_exporter": "python",
   "pygments_lexer": "ipython3",
   "version": "3.9.12"
  },
  "toc": {
   "base_numbering": 1,
   "nav_menu": {},
   "number_sections": true,
   "sideBar": true,
   "skip_h1_title": true,
   "title_cell": "Table of Contents",
   "title_sidebar": "Contents",
   "toc_cell": false,
   "toc_position": {},
   "toc_section_display": true,
   "toc_window_display": false
  }
 },
 "nbformat": 4,
 "nbformat_minor": 4
}
