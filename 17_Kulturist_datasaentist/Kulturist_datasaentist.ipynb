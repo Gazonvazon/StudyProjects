{
 "cells": [
  {
   "cell_type": "markdown",
   "metadata": {},
   "source": [
    "**Название проекта**\n",
    "\n",
    "Стратегия взаимодействия с клиентами в сети фитнес-центров \"Культурист-датасаентист\"\n",
    "_____\n",
    "**Описание исследования.**\n",
    "Сеть фитнес-центров «Культурист-датасаентист» разрабатывает стратегию взаимодействия с клиентами на основе аналитических данных. \n",
    "\n",
    "_____\n",
    "**Цель исследования.**\n",
    "Провести анализ и подготовить план действий по удержанию клиентов\n",
    "\n",
    "_____\n",
    "**Задачи исследования.**\n",
    "* научиться прогнозировать вероятность оттока (на уровне следующего месяца) для каждого клиента;\n",
    "* сформировать типичные портреты клиентов: выделить несколько наиболее ярких групп и охарактеризовать их основные свойства;\n",
    "* проанализировать основные признаки, наиболее сильно влияющие на отток;\n",
    "* сформулировать основные выводы и разработать рекомендации по повышению качества работы с клиентами: \n",
    " * 1) выделить целевые группы клиентов;\n",
    " * 2) предложить меры по снижению оттока;\n",
    " * 3) определить другие особенности взаимодействия с клиентами.\n",
    "\n",
    "**Исходные данные.**\n",
    "    \n",
    "Набор данных включает следующие поля:\n",
    "*\tДанные клиента за предыдущий до проверки факта оттока месяц: \n",
    " * 'gender' — пол;\n",
    " * 'Near_Location' — проживание или работа в районе, где находится фитнес-центр;\n",
    " * 'Partner' — сотрудник компании-партнёра клуба (сотрудничество с компаниями, чьи сотрудники могут получать скидки на абонемент — в таком случае фитнес-центр хранит информацию о работодателе клиента);\n",
    " * Promo_friends — факт первоначальной записи в рамках акции «приведи друга» (использовал промо-код от знакомого при оплате первого абонемента);\n",
    " * 'Phone' — наличие контактного телефона;\n",
    " * 'Age' — возраст;\n",
    " * 'Lifetime' — время с момента первого обращения в фитнес-центр (в месяцах).\n",
    "*\tИнформация на основе журнала посещений, покупок и информация о текущем статусе абонемента клиента: \n",
    " * 'Contract_period' — длительность текущего действующего абонемента (месяц, 6 месяцев, год);\n",
    " * 'Month_to_end_contract' — срок до окончания текущего действующего абонемента (в месяцах);\n",
    " * 'Group_visits' — факт посещения групповых занятий;\n",
    " * 'Avg_class_frequency_total' — средняя частота посещений в неделю за все время с начала действия абонемента;\n",
    " * 'Avg_class_frequency_current_month' — средняя частота посещений в неделю за предыдущий месяц;\n",
    " * 'Avg_additional_charges_total' — суммарная выручка от других услуг фитнес-центра: кафе, спорттовары, косметический и массажный салон.\n",
    "*\t'Churn' — факт оттока в текущем месяце.\n",
    "\n",
    "\n",
    "\n",
    "______\n",
    "\n",
    "**Данное исследование разделим на несколько частей:**\n",
    "\n",
    "* [Изучение общей информации](#main_info)\n",
    "* [Исследовательский анализ данных (EDA)](#eda)\n",
    "* [Построим модель прогнозирования оттока клиентов](#build_model)\n",
    "* [Сделаем кластеризацию клиентов](#clustering)\n",
    "* [Вывод](#summary)"
   ]
  },
  {
   "cell_type": "markdown",
   "metadata": {},
   "source": [
    "<a id='main_info'></a>\n",
    "## Изучение общей информации"
   ]
  },
  {
   "cell_type": "markdown",
   "metadata": {},
   "source": [
    "**В этом шаге:**\n",
    "* подключим библиотеки\n",
    "* откроем и просмотрим файлы, необходимые для работы"
   ]
  },
  {
   "cell_type": "code",
   "execution_count": 2,
   "metadata": {},
   "outputs": [],
   "source": [
    "import pandas as pd\n",
    "import matplotlib.pyplot as plt\n",
    "import seaborn as sns\n",
    "import numpy as np\n",
    "from sklearn.model_selection import train_test_split\n",
    "from sklearn.linear_model import LogisticRegression\n",
    "from sklearn.preprocessing import StandardScaler\n",
    "from sklearn.ensemble import RandomForestRegressor\n",
    "from sklearn.metrics import accuracy_score, precision_score, recall_score, f1_score\n",
    "from sklearn.metrics import roc_auc_score\n",
    "from scipy.cluster.hierarchy import dendrogram, linkage\n",
    "from sklearn.cluster import KMeans\n",
    "\n",
    "pd.set_option('display.float_format', '{:,.2f}'.format)"
   ]
  },
  {
   "cell_type": "code",
   "execution_count": 3,
   "metadata": {},
   "outputs": [
    {
     "data": {
      "text/html": [
       "<div>\n",
       "<style scoped>\n",
       "    .dataframe tbody tr th:only-of-type {\n",
       "        vertical-align: middle;\n",
       "    }\n",
       "\n",
       "    .dataframe tbody tr th {\n",
       "        vertical-align: top;\n",
       "    }\n",
       "\n",
       "    .dataframe thead th {\n",
       "        text-align: right;\n",
       "    }\n",
       "</style>\n",
       "<table border=\"1\" class=\"dataframe\">\n",
       "  <thead>\n",
       "    <tr style=\"text-align: right;\">\n",
       "      <th></th>\n",
       "      <th>gender</th>\n",
       "      <th>Near_Location</th>\n",
       "      <th>Partner</th>\n",
       "      <th>Promo_friends</th>\n",
       "      <th>Phone</th>\n",
       "      <th>Contract_period</th>\n",
       "      <th>Group_visits</th>\n",
       "      <th>Age</th>\n",
       "      <th>Avg_additional_charges_total</th>\n",
       "      <th>Month_to_end_contract</th>\n",
       "      <th>Lifetime</th>\n",
       "      <th>Avg_class_frequency_total</th>\n",
       "      <th>Avg_class_frequency_current_month</th>\n",
       "      <th>Churn</th>\n",
       "    </tr>\n",
       "  </thead>\n",
       "  <tbody>\n",
       "    <tr>\n",
       "      <th>0</th>\n",
       "      <td>1</td>\n",
       "      <td>1</td>\n",
       "      <td>1</td>\n",
       "      <td>1</td>\n",
       "      <td>0</td>\n",
       "      <td>6</td>\n",
       "      <td>1</td>\n",
       "      <td>29</td>\n",
       "      <td>14.23</td>\n",
       "      <td>5.00</td>\n",
       "      <td>3</td>\n",
       "      <td>0.02</td>\n",
       "      <td>0.00</td>\n",
       "      <td>0</td>\n",
       "    </tr>\n",
       "    <tr>\n",
       "      <th>1</th>\n",
       "      <td>0</td>\n",
       "      <td>1</td>\n",
       "      <td>0</td>\n",
       "      <td>0</td>\n",
       "      <td>1</td>\n",
       "      <td>12</td>\n",
       "      <td>1</td>\n",
       "      <td>31</td>\n",
       "      <td>113.20</td>\n",
       "      <td>12.00</td>\n",
       "      <td>7</td>\n",
       "      <td>1.92</td>\n",
       "      <td>1.91</td>\n",
       "      <td>0</td>\n",
       "    </tr>\n",
       "    <tr>\n",
       "      <th>2</th>\n",
       "      <td>0</td>\n",
       "      <td>1</td>\n",
       "      <td>1</td>\n",
       "      <td>0</td>\n",
       "      <td>1</td>\n",
       "      <td>1</td>\n",
       "      <td>0</td>\n",
       "      <td>28</td>\n",
       "      <td>129.45</td>\n",
       "      <td>1.00</td>\n",
       "      <td>2</td>\n",
       "      <td>1.86</td>\n",
       "      <td>1.74</td>\n",
       "      <td>0</td>\n",
       "    </tr>\n",
       "    <tr>\n",
       "      <th>3</th>\n",
       "      <td>0</td>\n",
       "      <td>1</td>\n",
       "      <td>1</td>\n",
       "      <td>1</td>\n",
       "      <td>1</td>\n",
       "      <td>12</td>\n",
       "      <td>1</td>\n",
       "      <td>33</td>\n",
       "      <td>62.67</td>\n",
       "      <td>12.00</td>\n",
       "      <td>2</td>\n",
       "      <td>3.21</td>\n",
       "      <td>3.36</td>\n",
       "      <td>0</td>\n",
       "    </tr>\n",
       "    <tr>\n",
       "      <th>4</th>\n",
       "      <td>1</td>\n",
       "      <td>1</td>\n",
       "      <td>1</td>\n",
       "      <td>1</td>\n",
       "      <td>1</td>\n",
       "      <td>1</td>\n",
       "      <td>0</td>\n",
       "      <td>26</td>\n",
       "      <td>198.36</td>\n",
       "      <td>1.00</td>\n",
       "      <td>3</td>\n",
       "      <td>1.11</td>\n",
       "      <td>1.12</td>\n",
       "      <td>0</td>\n",
       "    </tr>\n",
       "  </tbody>\n",
       "</table>\n",
       "</div>"
      ],
      "text/plain": [
       "   gender  Near_Location  Partner  Promo_friends  Phone  Contract_period  \\\n",
       "0       1              1        1              1      0                6   \n",
       "1       0              1        0              0      1               12   \n",
       "2       0              1        1              0      1                1   \n",
       "3       0              1        1              1      1               12   \n",
       "4       1              1        1              1      1                1   \n",
       "\n",
       "   Group_visits  Age  Avg_additional_charges_total  Month_to_end_contract  \\\n",
       "0             1   29                         14.23                   5.00   \n",
       "1             1   31                        113.20                  12.00   \n",
       "2             0   28                        129.45                   1.00   \n",
       "3             1   33                         62.67                  12.00   \n",
       "4             0   26                        198.36                   1.00   \n",
       "\n",
       "   Lifetime  Avg_class_frequency_total  Avg_class_frequency_current_month  \\\n",
       "0         3                       0.02                               0.00   \n",
       "1         7                       1.92                               1.91   \n",
       "2         2                       1.86                               1.74   \n",
       "3         2                       3.21                               3.36   \n",
       "4         3                       1.11                               1.12   \n",
       "\n",
       "   Churn  \n",
       "0      0  \n",
       "1      0  \n",
       "2      0  \n",
       "3      0  \n",
       "4      0  "
      ]
     },
     "execution_count": 3,
     "metadata": {},
     "output_type": "execute_result"
    }
   ],
   "source": [
    "data = pd.read_csv('gym_churn.csv')\n",
    "data.head()"
   ]
  },
  {
   "cell_type": "code",
   "execution_count": 3,
   "metadata": {},
   "outputs": [
    {
     "name": "stdout",
     "output_type": "stream",
     "text": [
      "<class 'pandas.core.frame.DataFrame'>\n",
      "RangeIndex: 4000 entries, 0 to 3999\n",
      "Data columns (total 14 columns):\n",
      " #   Column                             Non-Null Count  Dtype  \n",
      "---  ------                             --------------  -----  \n",
      " 0   gender                             4000 non-null   int64  \n",
      " 1   near_location                      4000 non-null   int64  \n",
      " 2   partner                            4000 non-null   int64  \n",
      " 3   promo_friends                      4000 non-null   int64  \n",
      " 4   phone                              4000 non-null   int64  \n",
      " 5   contract_period                    4000 non-null   int64  \n",
      " 6   group_visits                       4000 non-null   int64  \n",
      " 7   age                                4000 non-null   int64  \n",
      " 8   avg_additional_charges_total       4000 non-null   float64\n",
      " 9   month_to_end_contract              4000 non-null   float64\n",
      " 10  lifetime                           4000 non-null   int64  \n",
      " 11  avg_class_frequency_total          4000 non-null   float64\n",
      " 12  avg_class_frequency_current_month  4000 non-null   float64\n",
      " 13  churn                              4000 non-null   int64  \n",
      "dtypes: float64(4), int64(10)\n",
      "memory usage: 437.6 KB\n"
     ]
    }
   ],
   "source": [
    "data.columns = data.columns.str.lower()\n",
    "data.info()"
   ]
  },
  {
   "cell_type": "markdown",
   "metadata": {},
   "source": [
    "**Вывод по шагу:** Библиотеки подключены, данные получены, стобцы приведени к правильному виду"
   ]
  },
  {
   "cell_type": "markdown",
   "metadata": {},
   "source": [
    "<a id='eda'></a>\n",
    "## Исследовательский анализ данных (EDA)"
   ]
  },
  {
   "cell_type": "markdown",
   "metadata": {},
   "source": [
    "**На этолм шаге**\n",
    "* Посмотрим на датасет: есть ли в нем отсутствующие признаки, изучим средние значения и стандартные отклонения\n",
    "* Посмотрим на средние значения признаков в двух группах — тех, кто ушел в отток и тех, кто остался\n",
    "* Постройм столбчатые гистограммы и распределения признаков для тех, кто ушёл (отток) и тех, кто остался (не попали в отток);\n",
    "* Постройм матрицу корреляций и отобразим её."
   ]
  },
  {
   "cell_type": "markdown",
   "metadata": {},
   "source": [
    "Посмотрим на датасет: есть ли на первый взгляд явные аномалии, отсутствующие признаки"
   ]
  },
  {
   "cell_type": "code",
   "execution_count": 1,
   "metadata": {},
   "outputs": [],
   "source": [
    "# выведем уникальные значения по всем столбцам - посмотрим есть ли на первый взгляд явные аномалии\n",
    "def show_data_values(data):\n",
    "    for col in data.columns:    \n",
    "        try:\n",
    "            values = sorted(data[col].unique())\n",
    "            # если больше 12 значений, выведем только первые и последние 6\n",
    "            if len(values) > 12:\n",
    "                display (col, values[:6], values[-6:])\n",
    "            else: display(col, values)\n",
    "        except:\n",
    "            display(f'После except: {col}', data[col].unique())               \n",
    "    "
   ]
  },
  {
   "cell_type": "code",
   "execution_count": 5,
   "metadata": {},
   "outputs": [
    {
     "data": {
      "text/plain": [
       "'gender'"
      ]
     },
     "metadata": {},
     "output_type": "display_data"
    },
    {
     "data": {
      "text/plain": [
       "[0, 1]"
      ]
     },
     "metadata": {},
     "output_type": "display_data"
    },
    {
     "data": {
      "text/plain": [
       "'near_location'"
      ]
     },
     "metadata": {},
     "output_type": "display_data"
    },
    {
     "data": {
      "text/plain": [
       "[0, 1]"
      ]
     },
     "metadata": {},
     "output_type": "display_data"
    },
    {
     "data": {
      "text/plain": [
       "'partner'"
      ]
     },
     "metadata": {},
     "output_type": "display_data"
    },
    {
     "data": {
      "text/plain": [
       "[0, 1]"
      ]
     },
     "metadata": {},
     "output_type": "display_data"
    },
    {
     "data": {
      "text/plain": [
       "'promo_friends'"
      ]
     },
     "metadata": {},
     "output_type": "display_data"
    },
    {
     "data": {
      "text/plain": [
       "[0, 1]"
      ]
     },
     "metadata": {},
     "output_type": "display_data"
    },
    {
     "data": {
      "text/plain": [
       "'phone'"
      ]
     },
     "metadata": {},
     "output_type": "display_data"
    },
    {
     "data": {
      "text/plain": [
       "[0, 1]"
      ]
     },
     "metadata": {},
     "output_type": "display_data"
    },
    {
     "data": {
      "text/plain": [
       "'contract_period'"
      ]
     },
     "metadata": {},
     "output_type": "display_data"
    },
    {
     "data": {
      "text/plain": [
       "[1, 6, 12]"
      ]
     },
     "metadata": {},
     "output_type": "display_data"
    },
    {
     "data": {
      "text/plain": [
       "'group_visits'"
      ]
     },
     "metadata": {},
     "output_type": "display_data"
    },
    {
     "data": {
      "text/plain": [
       "[0, 1]"
      ]
     },
     "metadata": {},
     "output_type": "display_data"
    },
    {
     "data": {
      "text/plain": [
       "'age'"
      ]
     },
     "metadata": {},
     "output_type": "display_data"
    },
    {
     "data": {
      "text/plain": [
       "[18, 19, 20, 21, 22, 23]"
      ]
     },
     "metadata": {},
     "output_type": "display_data"
    },
    {
     "data": {
      "text/plain": [
       "[35, 36, 37, 38, 39, 41]"
      ]
     },
     "metadata": {},
     "output_type": "display_data"
    },
    {
     "data": {
      "text/plain": [
       "'avg_additional_charges_total'"
      ]
     },
     "metadata": {},
     "output_type": "display_data"
    },
    {
     "data": {
      "text/plain": [
       "[0.1482047884566242,\n",
       " 0.1718623034294992,\n",
       " 0.2516057215197094,\n",
       " 0.3348235683106111,\n",
       " 0.3621530981063579,\n",
       " 0.4108930359215179]"
      ]
     },
     "metadata": {},
     "output_type": "display_data"
    },
    {
     "data": {
      "text/plain": [
       "[476.4326553201213,\n",
       " 488.7081749435304,\n",
       " 496.1722220804551,\n",
       " 515.392605727715,\n",
       " 534.2561818694521,\n",
       " 552.5907403868798]"
      ]
     },
     "metadata": {},
     "output_type": "display_data"
    },
    {
     "data": {
      "text/plain": [
       "'month_to_end_contract'"
      ]
     },
     "metadata": {},
     "output_type": "display_data"
    },
    {
     "data": {
      "text/plain": [
       "[1.0, 2.0, 3.0, 4.0, 5.0, 6.0, 7.0, 8.0, 9.0, 10.0, 11.0, 12.0]"
      ]
     },
     "metadata": {},
     "output_type": "display_data"
    },
    {
     "data": {
      "text/plain": [
       "'lifetime'"
      ]
     },
     "metadata": {},
     "output_type": "display_data"
    },
    {
     "data": {
      "text/plain": [
       "[0, 1, 2, 3, 4, 5]"
      ]
     },
     "metadata": {},
     "output_type": "display_data"
    },
    {
     "data": {
      "text/plain": [
       "[23, 24, 26, 27, 29, 31]"
      ]
     },
     "metadata": {},
     "output_type": "display_data"
    },
    {
     "data": {
      "text/plain": [
       "'avg_class_frequency_total'"
      ]
     },
     "metadata": {},
     "output_type": "display_data"
    },
    {
     "data": {
      "text/plain": [
       "[0.0,\n",
       " 0.0027603929467316,\n",
       " 0.0064356961313476,\n",
       " 0.0088238849200099,\n",
       " 0.0113607681657801,\n",
       " 0.0147099999751787]"
      ]
     },
     "metadata": {},
     "output_type": "display_data"
    },
    {
     "data": {
      "text/plain": [
       "[4.953290171906938,\n",
       " 5.079241818217404,\n",
       " 5.14185240354786,\n",
       " 5.410054460060277,\n",
       " 5.4218977080804205,\n",
       " 6.02366847599591]"
      ]
     },
     "metadata": {},
     "output_type": "display_data"
    },
    {
     "data": {
      "text/plain": [
       "'avg_class_frequency_current_month'"
      ]
     },
     "metadata": {},
     "output_type": "display_data"
    },
    {
     "data": {
      "text/plain": [
       "[0.0,\n",
       " 0.0028723624189406,\n",
       " 0.0032735656800802,\n",
       " 0.0044478774945923,\n",
       " 0.0054923781012502,\n",
       " 0.0063979878928257]"
      ]
     },
     "metadata": {},
     "output_type": "display_data"
    },
    {
     "data": {
      "text/plain": [
       "[4.962539709845446,\n",
       " 4.976679932267676,\n",
       " 5.024720933352363,\n",
       " 5.3684153086386734,\n",
       " 5.4582946563023285,\n",
       " 6.146782880452392]"
      ]
     },
     "metadata": {},
     "output_type": "display_data"
    },
    {
     "data": {
      "text/plain": [
       "'churn'"
      ]
     },
     "metadata": {},
     "output_type": "display_data"
    },
    {
     "data": {
      "text/plain": [
       "[0, 1]"
      ]
     },
     "metadata": {},
     "output_type": "display_data"
    }
   ],
   "source": [
    "show_data_values(data)"
   ]
  },
  {
   "cell_type": "code",
   "execution_count": 6,
   "metadata": {
    "scrolled": true
   },
   "outputs": [
    {
     "data": {
      "text/plain": [
       "'Пропуски по полям:'"
      ]
     },
     "metadata": {},
     "output_type": "display_data"
    },
    {
     "data": {
      "text/plain": [
       "gender                               0\n",
       "near_location                        0\n",
       "partner                              0\n",
       "promo_friends                        0\n",
       "phone                                0\n",
       "contract_period                      0\n",
       "group_visits                         0\n",
       "age                                  0\n",
       "avg_additional_charges_total         0\n",
       "month_to_end_contract                0\n",
       "lifetime                             0\n",
       "avg_class_frequency_total            0\n",
       "avg_class_frequency_current_month    0\n",
       "churn                                0\n",
       "dtype: int64"
      ]
     },
     "metadata": {},
     "output_type": "display_data"
    }
   ],
   "source": [
    "display('Пропуски по полям:', data.isna().sum())"
   ]
  },
  {
   "cell_type": "code",
   "execution_count": 7,
   "metadata": {},
   "outputs": [
    {
     "name": "stdout",
     "output_type": "stream",
     "text": [
      "Явных дубликатов: 0\n"
     ]
    }
   ],
   "source": [
    "print('Явных дубликатов:', data.duplicated().sum())"
   ]
  },
  {
   "cell_type": "markdown",
   "metadata": {},
   "source": [
    "***Вывод:*** Явных аномалий не выявлено, дубликаты и пропуски отсутствуют"
   ]
  },
  {
   "cell_type": "markdown",
   "metadata": {},
   "source": [
    "Посмотрим средние значения и стандартные отклонения"
   ]
  },
  {
   "cell_type": "code",
   "execution_count": 8,
   "metadata": {},
   "outputs": [
    {
     "data": {
      "text/html": [
       "<div>\n",
       "<style scoped>\n",
       "    .dataframe tbody tr th:only-of-type {\n",
       "        vertical-align: middle;\n",
       "    }\n",
       "\n",
       "    .dataframe tbody tr th {\n",
       "        vertical-align: top;\n",
       "    }\n",
       "\n",
       "    .dataframe thead th {\n",
       "        text-align: right;\n",
       "    }\n",
       "</style>\n",
       "<table border=\"1\" class=\"dataframe\">\n",
       "  <thead>\n",
       "    <tr style=\"text-align: right;\">\n",
       "      <th></th>\n",
       "      <th>gender</th>\n",
       "      <th>near_location</th>\n",
       "      <th>partner</th>\n",
       "      <th>promo_friends</th>\n",
       "      <th>phone</th>\n",
       "      <th>contract_period</th>\n",
       "      <th>group_visits</th>\n",
       "      <th>age</th>\n",
       "      <th>avg_additional_charges_total</th>\n",
       "      <th>month_to_end_contract</th>\n",
       "      <th>lifetime</th>\n",
       "      <th>avg_class_frequency_total</th>\n",
       "      <th>avg_class_frequency_current_month</th>\n",
       "      <th>churn</th>\n",
       "    </tr>\n",
       "  </thead>\n",
       "  <tbody>\n",
       "    <tr>\n",
       "      <th>count</th>\n",
       "      <td>4,000.00</td>\n",
       "      <td>4,000.00</td>\n",
       "      <td>4,000.00</td>\n",
       "      <td>4,000.00</td>\n",
       "      <td>4,000.00</td>\n",
       "      <td>4,000.00</td>\n",
       "      <td>4,000.00</td>\n",
       "      <td>4,000.00</td>\n",
       "      <td>4,000.00</td>\n",
       "      <td>4,000.00</td>\n",
       "      <td>4,000.00</td>\n",
       "      <td>4,000.00</td>\n",
       "      <td>4,000.00</td>\n",
       "      <td>4,000.00</td>\n",
       "    </tr>\n",
       "    <tr>\n",
       "      <th>mean</th>\n",
       "      <td>0.51</td>\n",
       "      <td>0.85</td>\n",
       "      <td>0.49</td>\n",
       "      <td>0.31</td>\n",
       "      <td>0.90</td>\n",
       "      <td>4.68</td>\n",
       "      <td>0.41</td>\n",
       "      <td>29.18</td>\n",
       "      <td>146.94</td>\n",
       "      <td>4.32</td>\n",
       "      <td>3.72</td>\n",
       "      <td>1.88</td>\n",
       "      <td>1.77</td>\n",
       "      <td>0.27</td>\n",
       "    </tr>\n",
       "    <tr>\n",
       "      <th>std</th>\n",
       "      <td>0.50</td>\n",
       "      <td>0.36</td>\n",
       "      <td>0.50</td>\n",
       "      <td>0.46</td>\n",
       "      <td>0.30</td>\n",
       "      <td>4.55</td>\n",
       "      <td>0.49</td>\n",
       "      <td>3.26</td>\n",
       "      <td>96.36</td>\n",
       "      <td>4.19</td>\n",
       "      <td>3.75</td>\n",
       "      <td>0.97</td>\n",
       "      <td>1.05</td>\n",
       "      <td>0.44</td>\n",
       "    </tr>\n",
       "    <tr>\n",
       "      <th>min</th>\n",
       "      <td>0.00</td>\n",
       "      <td>0.00</td>\n",
       "      <td>0.00</td>\n",
       "      <td>0.00</td>\n",
       "      <td>0.00</td>\n",
       "      <td>1.00</td>\n",
       "      <td>0.00</td>\n",
       "      <td>18.00</td>\n",
       "      <td>0.15</td>\n",
       "      <td>1.00</td>\n",
       "      <td>0.00</td>\n",
       "      <td>0.00</td>\n",
       "      <td>0.00</td>\n",
       "      <td>0.00</td>\n",
       "    </tr>\n",
       "    <tr>\n",
       "      <th>25%</th>\n",
       "      <td>0.00</td>\n",
       "      <td>1.00</td>\n",
       "      <td>0.00</td>\n",
       "      <td>0.00</td>\n",
       "      <td>1.00</td>\n",
       "      <td>1.00</td>\n",
       "      <td>0.00</td>\n",
       "      <td>27.00</td>\n",
       "      <td>68.87</td>\n",
       "      <td>1.00</td>\n",
       "      <td>1.00</td>\n",
       "      <td>1.18</td>\n",
       "      <td>0.96</td>\n",
       "      <td>0.00</td>\n",
       "    </tr>\n",
       "    <tr>\n",
       "      <th>50%</th>\n",
       "      <td>1.00</td>\n",
       "      <td>1.00</td>\n",
       "      <td>0.00</td>\n",
       "      <td>0.00</td>\n",
       "      <td>1.00</td>\n",
       "      <td>1.00</td>\n",
       "      <td>0.00</td>\n",
       "      <td>29.00</td>\n",
       "      <td>136.22</td>\n",
       "      <td>1.00</td>\n",
       "      <td>3.00</td>\n",
       "      <td>1.83</td>\n",
       "      <td>1.72</td>\n",
       "      <td>0.00</td>\n",
       "    </tr>\n",
       "    <tr>\n",
       "      <th>75%</th>\n",
       "      <td>1.00</td>\n",
       "      <td>1.00</td>\n",
       "      <td>1.00</td>\n",
       "      <td>1.00</td>\n",
       "      <td>1.00</td>\n",
       "      <td>6.00</td>\n",
       "      <td>1.00</td>\n",
       "      <td>31.00</td>\n",
       "      <td>210.95</td>\n",
       "      <td>6.00</td>\n",
       "      <td>5.00</td>\n",
       "      <td>2.54</td>\n",
       "      <td>2.51</td>\n",
       "      <td>1.00</td>\n",
       "    </tr>\n",
       "    <tr>\n",
       "      <th>max</th>\n",
       "      <td>1.00</td>\n",
       "      <td>1.00</td>\n",
       "      <td>1.00</td>\n",
       "      <td>1.00</td>\n",
       "      <td>1.00</td>\n",
       "      <td>12.00</td>\n",
       "      <td>1.00</td>\n",
       "      <td>41.00</td>\n",
       "      <td>552.59</td>\n",
       "      <td>12.00</td>\n",
       "      <td>31.00</td>\n",
       "      <td>6.02</td>\n",
       "      <td>6.15</td>\n",
       "      <td>1.00</td>\n",
       "    </tr>\n",
       "  </tbody>\n",
       "</table>\n",
       "</div>"
      ],
      "text/plain": [
       "        gender  near_location  partner  promo_friends    phone  \\\n",
       "count 4,000.00       4,000.00 4,000.00       4,000.00 4,000.00   \n",
       "mean      0.51           0.85     0.49           0.31     0.90   \n",
       "std       0.50           0.36     0.50           0.46     0.30   \n",
       "min       0.00           0.00     0.00           0.00     0.00   \n",
       "25%       0.00           1.00     0.00           0.00     1.00   \n",
       "50%       1.00           1.00     0.00           0.00     1.00   \n",
       "75%       1.00           1.00     1.00           1.00     1.00   \n",
       "max       1.00           1.00     1.00           1.00     1.00   \n",
       "\n",
       "       contract_period  group_visits      age  avg_additional_charges_total  \\\n",
       "count         4,000.00      4,000.00 4,000.00                      4,000.00   \n",
       "mean              4.68          0.41    29.18                        146.94   \n",
       "std               4.55          0.49     3.26                         96.36   \n",
       "min               1.00          0.00    18.00                          0.15   \n",
       "25%               1.00          0.00    27.00                         68.87   \n",
       "50%               1.00          0.00    29.00                        136.22   \n",
       "75%               6.00          1.00    31.00                        210.95   \n",
       "max              12.00          1.00    41.00                        552.59   \n",
       "\n",
       "       month_to_end_contract  lifetime  avg_class_frequency_total  \\\n",
       "count               4,000.00  4,000.00                   4,000.00   \n",
       "mean                    4.32      3.72                       1.88   \n",
       "std                     4.19      3.75                       0.97   \n",
       "min                     1.00      0.00                       0.00   \n",
       "25%                     1.00      1.00                       1.18   \n",
       "50%                     1.00      3.00                       1.83   \n",
       "75%                     6.00      5.00                       2.54   \n",
       "max                    12.00     31.00                       6.02   \n",
       "\n",
       "       avg_class_frequency_current_month    churn  \n",
       "count                           4,000.00 4,000.00  \n",
       "mean                                1.77     0.27  \n",
       "std                                 1.05     0.44  \n",
       "min                                 0.00     0.00  \n",
       "25%                                 0.96     0.00  \n",
       "50%                                 1.72     0.00  \n",
       "75%                                 2.51     1.00  \n",
       "max                                 6.15     1.00  "
      ]
     },
     "execution_count": 8,
     "metadata": {},
     "output_type": "execute_result"
    }
   ],
   "source": [
    "data.describe()"
   ]
  },
  {
   "cell_type": "markdown",
   "metadata": {},
   "source": [
    "Посмотрим на средние значения признаков в двух группах — тех, кто ушел в отток и тех, кто остался"
   ]
  },
  {
   "cell_type": "code",
   "execution_count": 9,
   "metadata": {},
   "outputs": [
    {
     "data": {
      "text/plain": [
       "'Средние значения признаков в двух группах'"
      ]
     },
     "metadata": {},
     "output_type": "display_data"
    },
    {
     "data": {
      "text/html": [
       "<div>\n",
       "<style scoped>\n",
       "    .dataframe tbody tr th:only-of-type {\n",
       "        vertical-align: middle;\n",
       "    }\n",
       "\n",
       "    .dataframe tbody tr th {\n",
       "        vertical-align: top;\n",
       "    }\n",
       "\n",
       "    .dataframe thead th {\n",
       "        text-align: right;\n",
       "    }\n",
       "</style>\n",
       "<table border=\"1\" class=\"dataframe\">\n",
       "  <thead>\n",
       "    <tr style=\"text-align: right;\">\n",
       "      <th></th>\n",
       "      <th>Field_name</th>\n",
       "      <th>churn_0</th>\n",
       "      <th>churn_1</th>\n",
       "    </tr>\n",
       "  </thead>\n",
       "  <tbody>\n",
       "    <tr>\n",
       "      <th>0</th>\n",
       "      <td>gender</td>\n",
       "      <td>0.51</td>\n",
       "      <td>0.51</td>\n",
       "    </tr>\n",
       "    <tr>\n",
       "      <th>1</th>\n",
       "      <td>near_location</td>\n",
       "      <td>0.87</td>\n",
       "      <td>0.77</td>\n",
       "    </tr>\n",
       "    <tr>\n",
       "      <th>2</th>\n",
       "      <td>partner</td>\n",
       "      <td>0.53</td>\n",
       "      <td>0.36</td>\n",
       "    </tr>\n",
       "    <tr>\n",
       "      <th>3</th>\n",
       "      <td>promo_friends</td>\n",
       "      <td>0.35</td>\n",
       "      <td>0.18</td>\n",
       "    </tr>\n",
       "    <tr>\n",
       "      <th>4</th>\n",
       "      <td>phone</td>\n",
       "      <td>0.90</td>\n",
       "      <td>0.90</td>\n",
       "    </tr>\n",
       "    <tr>\n",
       "      <th>5</th>\n",
       "      <td>contract_period</td>\n",
       "      <td>5.75</td>\n",
       "      <td>1.73</td>\n",
       "    </tr>\n",
       "    <tr>\n",
       "      <th>6</th>\n",
       "      <td>group_visits</td>\n",
       "      <td>0.46</td>\n",
       "      <td>0.27</td>\n",
       "    </tr>\n",
       "    <tr>\n",
       "      <th>7</th>\n",
       "      <td>age</td>\n",
       "      <td>29.98</td>\n",
       "      <td>26.99</td>\n",
       "    </tr>\n",
       "    <tr>\n",
       "      <th>8</th>\n",
       "      <td>avg_additional_charges_total</td>\n",
       "      <td>158.45</td>\n",
       "      <td>115.08</td>\n",
       "    </tr>\n",
       "    <tr>\n",
       "      <th>9</th>\n",
       "      <td>month_to_end_contract</td>\n",
       "      <td>5.28</td>\n",
       "      <td>1.66</td>\n",
       "    </tr>\n",
       "    <tr>\n",
       "      <th>10</th>\n",
       "      <td>lifetime</td>\n",
       "      <td>4.71</td>\n",
       "      <td>0.99</td>\n",
       "    </tr>\n",
       "    <tr>\n",
       "      <th>11</th>\n",
       "      <td>avg_class_frequency_total</td>\n",
       "      <td>2.02</td>\n",
       "      <td>1.47</td>\n",
       "    </tr>\n",
       "    <tr>\n",
       "      <th>12</th>\n",
       "      <td>avg_class_frequency_current_month</td>\n",
       "      <td>2.03</td>\n",
       "      <td>1.04</td>\n",
       "    </tr>\n",
       "    <tr>\n",
       "      <th>13</th>\n",
       "      <td>churn</td>\n",
       "      <td>0.00</td>\n",
       "      <td>1.00</td>\n",
       "    </tr>\n",
       "  </tbody>\n",
       "</table>\n",
       "</div>"
      ],
      "text/plain": [
       "                           Field_name  churn_0  churn_1\n",
       "0                              gender     0.51     0.51\n",
       "1                       near_location     0.87     0.77\n",
       "2                             partner     0.53     0.36\n",
       "3                       promo_friends     0.35     0.18\n",
       "4                               phone     0.90     0.90\n",
       "5                     contract_period     5.75     1.73\n",
       "6                        group_visits     0.46     0.27\n",
       "7                                 age    29.98    26.99\n",
       "8        avg_additional_charges_total   158.45   115.08\n",
       "9               month_to_end_contract     5.28     1.66\n",
       "10                           lifetime     4.71     0.99\n",
       "11          avg_class_frequency_total     2.02     1.47\n",
       "12  avg_class_frequency_current_month     2.03     1.04\n",
       "13                              churn     0.00     1.00"
      ]
     },
     "execution_count": 9,
     "metadata": {},
     "output_type": "execute_result"
    }
   ],
   "source": [
    "display('Средние значения признаков в двух группах')\n",
    "\n",
    "churn_0 = data[data['churn'] == 0]\n",
    "churn_1 = data[data['churn'] == 1]\n",
    "\n",
    "pd.DataFrame({'Field_name' : data.columns, 'churn_0' : churn_0.mean().values,\\\n",
    "              'churn_1' : churn_1.mean().values})"
   ]
  },
  {
   "cell_type": "markdown",
   "metadata": {},
   "source": [
    "***Вывод:*** Посмотрев на средние значения уже можем выделить явно самые разнящиеся параметры у клиентов ушедших в отток и оставшихся: длительность текущего абонемента, срок до окончания текущего действующего абонемента, время с момента первого обращения в фитнес-центр, а также запись в клуб по акции «приведи друга». "
   ]
  },
  {
   "cell_type": "markdown",
   "metadata": {},
   "source": [
    "Построим столбчатые гистограммы и распределения признаков для тех, кто ушёл (отток) и тех, кто остался (не попали в отток)"
   ]
  },
  {
   "cell_type": "markdown",
   "metadata": {},
   "source": [
    "Построим столбчатые гистограммы для столбцов с дискретными величинами"
   ]
  },
  {
   "cell_type": "code",
   "execution_count": 10,
   "metadata": {},
   "outputs": [
    {
     "data": {
      "text/plain": [
       "'Столбчатые гистограммы для столбцов с дискретными величинами'"
      ]
     },
     "metadata": {},
     "output_type": "display_data"
    },
    {
     "data": {
      "image/png": "[encoded data removed]",
      "text/plain": [
       "<Figure size 432x288 with 1 Axes>"
      ]
     },
     "metadata": {
      "needs_background": "light"
     },
     "output_type": "display_data"
    },
    {
     "data": {
      "image/png": "[encoded data removed]",
      "text/plain": [
       "<Figure size 432x288 with 1 Axes>"
      ]
     },
     "metadata": {
      "needs_background": "light"
     },
     "output_type": "display_data"
    },
    {
     "data": {
      "image/png": "[encoded data removed]",
      "text/plain": [
       "<Figure size 432x288 with 1 Axes>"
      ]
     },
     "metadata": {
      "needs_background": "light"
     },
     "output_type": "display_data"
    },
    {
     "data": {
      "image/png": "[encoded data removed]",
      "text/plain": [
       "<Figure size 432x288 with 1 Axes>"
      ]
     },
     "metadata": {
      "needs_background": "light"
     },
     "output_type": "display_data"
    },
    {
     "data": {
      "image/png": "[encoded data removed]",
      "text/plain": [
       "<Figure size 432x288 with 1 Axes>"
      ]
     },
     "metadata": {
      "needs_background": "light"
     },
     "output_type": "display_data"
    },
    {
     "data": {
      "image/png": "[encoded data removed]",
      "text/plain": [
       "<Figure size 432x288 with 1 Axes>"
      ]
     },
     "metadata": {
      "needs_background": "light"
     },
     "output_type": "display_data"
    },
    {
     "data": {
      "image/png": "[encoded data removed]",
      "text/plain": [
       "<Figure size 432x288 with 1 Axes>"
      ]
     },
     "metadata": {
      "needs_background": "light"
     },
     "output_type": "display_data"
    },
    {
     "data": {
      "image/png": "[encoded data removed]",
      "text/plain": [
       "<Figure size 432x288 with 1 Axes>"
      ]
     },
     "metadata": {
      "needs_background": "light"
     },
     "output_type": "display_data"
    }
   ],
   "source": [
    "display('Столбчатые гистограммы для столбцов с дискретными величинами')\n",
    "\n",
    "discrete_cols = ['gender', 'near_location', 'partner', 'promo_friends', 'phone', \\\n",
    "                 'contract_period', 'group_visits', 'month_to_end_contract']\n",
    "\n",
    "# метод напишет проценты в переданных столбцах\n",
    "def set_bars_percent(bars_in_stack, stack_height):\n",
    "    for bar in bars_in_stack:             \n",
    "            x = bar.get_x()\n",
    "            y = bar.get_y()\n",
    "            height = bar.get_height()\n",
    "            width = bar.get_width()\n",
    "            label_x = x + width / 2\n",
    "            label_y = y + height / 2\n",
    "            label_text = \"{:0.0f}%\".format(height / stack_height * 100)\n",
    "            ax.text(label_x, label_y, label_text, ha='center',    \n",
    "                    va='center')\n",
    "\n",
    "# построим столбчатые гистограммы\n",
    "for col in discrete_cols:       \n",
    "    s0 = churn_0.groupby(col)['churn'].count()\n",
    "    s1 = churn_1.groupby(col)['churn'].count()\n",
    "    \n",
    "    \n",
    "    ax = pd.DataFrame({'name':s0.index, 'churn_0':s0.values, 'churn_1':s1.values})\\\n",
    "        .plot(kind = 'bar', x='name', stacked = True, alpha = 0.75)     \n",
    "       \n",
    "        \n",
    "    # тут пишем проценты к столбцам. Проще не придумал как)    \n",
    "    x_prev = 0\n",
    "    bars_in_stack = []\n",
    "    height_in_stack = 0    \n",
    "    # отсортируем графики, чтобы в цикле столбцы подряд шли\n",
    "    for bar in sorted(ax.patches, key=lambda x: x.get_x(), reverse=True):      \n",
    "        x = bar.get_x()        \n",
    "        \n",
    "        # если bar из новой группы, то сделать надписи в собранной\n",
    "        if x_prev != x and x_prev != 0:            \n",
    "            set_bars_percent(bars_in_stack, height_in_stack) \n",
    "            bars_in_stack = []\n",
    "            height_in_stack = 0\n",
    "            x_prev = 0\n",
    "        \n",
    "        # добавляем bar в наш список\n",
    "        if x_prev == x or x_prev == 0:\n",
    "            x_prev = x\n",
    "            bars_in_stack.append(bar)            \n",
    "            height_in_stack += bar.get_height()    \n",
    "            \n",
    "    set_bars_percent(bars_in_stack, height_in_stack)\n",
    "\n",
    "    \n",
    "    \n",
    "    plt.legend(['с нами', 'в оттоке'])\n",
    "    plt.title('Гистограмма по полю ' + col)\n",
    "    plt.ylabel('count')\n",
    "    plt.xlabel(col)    \n",
    "    plt.show();"
   ]
  },
  {
   "cell_type": "markdown",
   "metadata": {},
   "source": [
    "***Вывод:*** \n",
    "Явно выделяющиеся закономерности:\n",
    "* сотрудники компании-партнёра клуба реже уходят в отток\n",
    "* самый большой отток (почти половина) у тех кто заключил контракт только на месяц, и практически отсутствует у тех кто заключил на год.\n",
    "* по групповым занятиям отток значительно меньше у тех кто их посещает\n",
    "* когда срок до окончания текущего действующего абонемента - 1 месяц шанс отвалиться максимальный. Похоже это напрямую зависит от контракта на месяц. Проверим позже\n"
   ]
  },
  {
   "cell_type": "markdown",
   "metadata": {},
   "source": [
    "Построим гистограммы для столбцов с непрерывными величинами"
   ]
  },
  {
   "cell_type": "code",
   "execution_count": 11,
   "metadata": {},
   "outputs": [
    {
     "data": {
      "text/plain": [
       "'Гистограммы для столбцов с непрерывными величинами'"
      ]
     },
     "metadata": {},
     "output_type": "display_data"
    },
    {
     "data": {
      "image/png": "[encoded data removed]",
      "text/plain": [
       "<Figure size 432x288 with 1 Axes>"
      ]
     },
     "metadata": {
      "needs_background": "light"
     },
     "output_type": "display_data"
    },
    {
     "data": {
      "image/png": "[encoded data removed]",
      "text/plain": [
       "<Figure size 432x288 with 1 Axes>"
      ]
     },
     "metadata": {
      "needs_background": "light"
     },
     "output_type": "display_data"
    },
    {
     "data": {
      "image/png": "[encoded data removed]",
      "text/plain": [
       "<Figure size 432x288 with 1 Axes>"
      ]
     },
     "metadata": {
      "needs_background": "light"
     },
     "output_type": "display_data"
    },
    {
     "data": {
      "image/png": "[encoded data removed]",
      "text/plain": [
       "<Figure size 432x288 with 1 Axes>"
      ]
     },
     "metadata": {
      "needs_background": "light"
     },
     "output_type": "display_data"
    },
    {
     "data": {
      "image/png": "[encoded data removed]",
      "text/plain": [
       "<Figure size 432x288 with 1 Axes>"
      ]
     },
     "metadata": {
      "needs_background": "light"
     },
     "output_type": "display_data"
    }
   ],
   "source": [
    "display('Гистограммы для столбцов с непрерывными величинами')\n",
    "\n",
    "continuous_cols = ['age', 'avg_additional_charges_total', 'lifetime',\\\n",
    "                   'avg_class_frequency_total', 'avg_class_frequency_current_month']\n",
    "\n",
    "for col in continuous_cols:\n",
    "    plt.hist(churn_0[col], alpha = 0.75 )    \n",
    "    plt.hist(churn_1[col], alpha = 0.75 )  \n",
    "    plt.legend(['остались', 'ушли в отток'])\n",
    "    plt.title('Гистограмма по признаку ' + col)\n",
    "    plt.xlabel(col)\n",
    "    plt.ylabel('count')\n",
    "    \n",
    "    plt.show() "
   ]
  },
  {
   "cell_type": "markdown",
   "metadata": {},
   "source": [
    "***Вывод:***\n",
    "* при приближении к 30 летнему возрасту количество остающихся клиентов перевешивает уходящих и чем старше тем больше остающихся\n",
    "* больше всего уходят клиенты в самый 1й месяц, в 2раза меньше во 2й, а вот те кто отзанимался больше 6 месяцев почти \"не имеют шансов\" покинуть наш фитнес-центр\n",
    "* по средней частоте посещений число остающихся начинает значительно сильнее перевешивать от 2,5 и выше посещений в неделю за все время\n",
    "* по средней частоте посещений за предыдущий месяц: больше всего отваливаются те, кто посетил меньше 2х раз"
   ]
  },
  {
   "cell_type": "markdown",
   "metadata": {},
   "source": [
    "Построим матрицу корреляций"
   ]
  },
  {
   "cell_type": "code",
   "execution_count": 12,
   "metadata": {},
   "outputs": [
    {
     "data": {
      "text/plain": [
       "'Матрица корреляций признаков'"
      ]
     },
     "metadata": {},
     "output_type": "display_data"
    },
    {
     "data": {
      "image/png": "[encoded data removed]",
      "text/plain": [
       "<Figure size 1224x1224 with 2 Axes>"
      ]
     },
     "metadata": {},
     "output_type": "display_data"
    }
   ],
   "source": [
    "display('Матрица корреляций признаков')\n",
    "sns.set(rc={'figure.figsize':(17, 17)})\n",
    "sns.heatmap(data.drop('churn', axis=1).corr(), annot=True, square=True);"
   ]
  },
  {
   "cell_type": "markdown",
   "metadata": {},
   "source": [
    "***Вывод:***\n",
    "* видна почти прямая зависимость между периодом контракта и сроком до окончания текущего действующего периода.\n",
    "* такая же почти прямая зависимочть между 'avg_class_frequency_total' и\t'avg_class_frequency_current_month' \n",
    "* заметна некоторая корреляция между фактом записи в рамках акции  \"Приведи друга\" и сотрудничеством с компанией-пртнером клуба\n",
    "* также есть небольшая корреляция сотрудничества с компанией-партнером и периодом контракта и соответственно и сроком до окончания\n"
   ]
  },
  {
   "cell_type": "markdown",
   "metadata": {},
   "source": [
    "**Вывод по шагу** датасет изучили, построили столбчатые гистограммы и распределения признаков, построили матрицу корреляций\n"
   ]
  },
  {
   "cell_type": "markdown",
   "metadata": {},
   "source": [
    "<div class=\"alert bg-primary\"> <b>Комментарий студента:</b>\n",
    "    Да, действительно - не заметил почему-то). Дописал в выводе и дальше в коде учел\n",
    "</div>"
   ]
  },
  {
   "cell_type": "markdown",
   "metadata": {},
   "source": [
    "<a id='build_model'></a>\n",
    "## Построим модель прогнозирования оттока клиентов"
   ]
  },
  {
   "cell_type": "markdown",
   "metadata": {},
   "source": [
    "**В этом шаге**\n",
    "*\tРазобъем данные на обучающую и валидационную выборку\n",
    "*\tОбучим модель на train-выборке двумя способами:\n",
    " *\tлогистической регрессией\n",
    " *\tслучайным лесом\n",
    "*\tОценим метрики accuracy, precision и recall для обеих моделей на валидационной выборке. Сравним по ним модели.\n"
   ]
  },
  {
   "cell_type": "markdown",
   "metadata": {},
   "source": [
    "Разобъем данные на обучающую и валидационную выборку. Не будем   учитывать 'Month_to_end_contract' и 'Avg_class_frequency_total' , так как выше мы выяснили большую корреляцию с другими параметрами"
   ]
  },
  {
   "cell_type": "code",
   "execution_count": 13,
   "metadata": {},
   "outputs": [],
   "source": [
    "X = data.drop(['churn', 'month_to_end_contract', 'avg_class_frequency_total'], axis=1)\n",
    "y = data['churn']\n",
    "\n",
    "X_train, X_test, y_train, y_test = train_test_split(X, y, test_size=0.2, random_state=0)"
   ]
  },
  {
   "cell_type": "markdown",
   "metadata": {},
   "source": [
    "Обучим модель на train-выборке логистической регрессией"
   ]
  },
  {
   "cell_type": "code",
   "execution_count": 14,
   "metadata": {},
   "outputs": [],
   "source": [
    "lr_model = LogisticRegression(solver='liblinear', random_state = 0)\n",
    "lr_model.fit(X_train, y_train)\n",
    "\n",
    "\n",
    "# воспользуемся уже обученной моделью, чтобы сделать прогнозы\n",
    "lr_predictions = lr_model.predict(X_test)\n",
    "#lr_probabilities = lr_model.predict_proba(X_test)[:, 1]\n",
    "\n",
    "lr_accuracy = accuracy_score(y_test, lr_predictions)\n",
    "lr_precision = precision_score (y_test, lr_predictions)\n",
    "lr_recall = recall_score (y_test, lr_predictions)"
   ]
  },
  {
   "cell_type": "markdown",
   "metadata": {},
   "source": [
    "Обучим модель на train-выборке случайным лесом"
   ]
  },
  {
   "cell_type": "code",
   "execution_count": 15,
   "metadata": {},
   "outputs": [],
   "source": [
    "# зададим алгоритм для новой модели на основе алгоритма случайного леса\n",
    "rf_model =  RandomForestRegressor(n_estimators = 100, random_state = 0)\n",
    "\n",
    "# обучим модель случайного леса\n",
    "rf_model.fit(X_train, y_train)\n",
    "rf_predictions =  rf_model.predict(X_test).round()\n",
    "\n",
    "rf_accuracy = accuracy_score(y_test, rf_predictions)\n",
    "rf_precision = precision_score(y_test, rf_predictions)\n",
    "rf_recall = recall_score (y_test, rf_predictions)"
   ]
  },
  {
   "cell_type": "markdown",
   "metadata": {},
   "source": [
    "Оценим наши модели по метрикам accuracy, precision и recall "
   ]
  },
  {
   "cell_type": "code",
   "execution_count": 16,
   "metadata": {},
   "outputs": [
    {
     "data": {
      "text/html": [
       "<div>\n",
       "<style scoped>\n",
       "    .dataframe tbody tr th:only-of-type {\n",
       "        vertical-align: middle;\n",
       "    }\n",
       "\n",
       "    .dataframe tbody tr th {\n",
       "        vertical-align: top;\n",
       "    }\n",
       "\n",
       "    .dataframe thead th {\n",
       "        text-align: right;\n",
       "    }\n",
       "</style>\n",
       "<table border=\"1\" class=\"dataframe\">\n",
       "  <thead>\n",
       "    <tr style=\"text-align: right;\">\n",
       "      <th></th>\n",
       "      <th>metric</th>\n",
       "      <th>logistic_regression</th>\n",
       "      <th>random_forest</th>\n",
       "    </tr>\n",
       "  </thead>\n",
       "  <tbody>\n",
       "    <tr>\n",
       "      <th>0</th>\n",
       "      <td>accuracy</td>\n",
       "      <td>0.90</td>\n",
       "      <td>0.90</td>\n",
       "    </tr>\n",
       "    <tr>\n",
       "      <th>1</th>\n",
       "      <td>precision</td>\n",
       "      <td>0.79</td>\n",
       "      <td>0.80</td>\n",
       "    </tr>\n",
       "    <tr>\n",
       "      <th>2</th>\n",
       "      <td>recall</td>\n",
       "      <td>0.79</td>\n",
       "      <td>0.80</td>\n",
       "    </tr>\n",
       "  </tbody>\n",
       "</table>\n",
       "</div>"
      ],
      "text/plain": [
       "      metric  logistic_regression  random_forest\n",
       "0   accuracy                 0.90           0.90\n",
       "1  precision                 0.79           0.80\n",
       "2     recall                 0.79           0.80"
      ]
     },
     "execution_count": 16,
     "metadata": {},
     "output_type": "execute_result"
    }
   ],
   "source": [
    "df_metrics = pd.DataFrame({\"metric\": ['accuracy', 'precision', 'recall'],\\\n",
    "                           'logistic_regression':[lr_accuracy, lr_precision, lr_recall],\\\n",
    "                           'random_forest':[rf_accuracy, rf_precision, rf_recall]})\n",
    "df_metrics"
   ]
  },
  {
   "cell_type": "markdown",
   "metadata": {},
   "source": [
    "***Вывод:*** В целом точность прогнозирования не слишком высокая, но приемлемая. Случайный лес оказался судя по метрикам чуть лучше."
   ]
  },
  {
   "cell_type": "markdown",
   "metadata": {},
   "source": [
    "**Вывод по шагу**\n",
    "Получили обучающую и валидационную выборки, обучили модель на train-выборке   логистической регрессией и случайным лесом, оценили сравнили модели по метрикам\n"
   ]
  },
  {
   "cell_type": "markdown",
   "metadata": {},
   "source": [
    "<a id='clustering'></a>\n",
    "## Сделаем кластеризацию клиентов"
   ]
  },
  {
   "cell_type": "markdown",
   "metadata": {},
   "source": [
    "**В этом шаге**\n",
    "*\tСтандартизируем данные.\n",
    "*\tПостроим матрицу расстояний функцией и нарисуем дендрограмму.\n",
    "*\tОбучим модель кластеризации на основании алгоритма K-Means и спрогнозируем кластеры клиентов.\n",
    "*\tПосмотрим на средние значения признаков для кластеров.\n",
    "*\tПостроим распределения признаков для кластеров\n",
    "*\tДля каждого полученного кластера посчитаем долю оттока."
   ]
  },
  {
   "cell_type": "markdown",
   "metadata": {},
   "source": [
    "Стандартизируем данные"
   ]
  },
  {
   "cell_type": "code",
   "execution_count": 17,
   "metadata": {},
   "outputs": [],
   "source": [
    "scaler = StandardScaler()\n",
    "\n",
    "# обучим scaler на обучающей выборке\n",
    "scaler.fit(X_train)\n",
    "X_train_st = scaler.transform(X_train)\n",
    "X_test_st = scaler.transform(X_test)"
   ]
  },
  {
   "cell_type": "markdown",
   "metadata": {},
   "source": [
    "Построим матрицу расстояний функцией linkage() и нарисуем дендрограмму"
   ]
  },
  {
   "cell_type": "code",
   "execution_count": 18,
   "metadata": {},
   "outputs": [
    {
     "data": {
      "image/png": "[encoded data removed]",
      "text/plain": [
       "<Figure size 1224x720 with 1 Axes>"
      ]
     },
     "metadata": {},
     "output_type": "display_data"
    }
   ],
   "source": [
    "linked = linkage(X_test_st, method = 'ward') \n",
    "\n",
    "plt.figure(figsize=(17, 10))  \n",
    "dendrogram(linked, orientation='top')\n",
    "plt.title('Выделение кластеров')\n",
    "plt.show() "
   ]
  },
  {
   "cell_type": "markdown",
   "metadata": {},
   "source": [
    "***Вывод*** Получннный график исходя из цветов предлагает нам делить данные на 4 кластера, но визуально видим, что можно поделить и на 5-6 кластеров. Для дальнейшего алгоритма KMeans возьмем 5 кластеров. "
   ]
  },
  {
   "cell_type": "markdown",
   "metadata": {},
   "source": [
    "Обучим модель кластеризации на основании алгоритма K-Means и спрогнозируем кластеры клиентов. Исходя из графика выше мы выбрали число кластеров = 5."
   ]
  },
  {
   "cell_type": "code",
   "execution_count": 19,
   "metadata": {
    "scrolled": true
   },
   "outputs": [
    {
     "data": {
      "text/plain": [
       "'Количество элементов по кластерам'"
      ]
     },
     "metadata": {},
     "output_type": "display_data"
    },
    {
     "data": {
      "text/plain": [
       "2    1064\n",
       "3    1007\n",
       "0     985\n",
       "1     558\n",
       "4     386\n",
       "Name: cluster_km, dtype: int64"
      ]
     },
     "metadata": {},
     "output_type": "display_data"
    }
   ],
   "source": [
    "km = KMeans(n_clusters=5, random_state=0)\n",
    "\n",
    "x_sc = scaler.fit_transform(data.drop(['churn','month_to_end_contract',\\\n",
    "                                       'avg_class_frequency_total'], axis=1))\n",
    "\n",
    "labels = km.fit_predict(x_sc)\n",
    "data['cluster_km'] = labels\n",
    "\n",
    "display('Количество элементов по кластерам', data['cluster_km'].value_counts())"
   ]
  },
  {
   "cell_type": "markdown",
   "metadata": {},
   "source": [
    "***Вывод:*** Кластеры получены, интересно, что они разного размера, но в целом данных в кластерах должно быть достаточно: по нескольку сотен строк в каждом для анализа"
   ]
  },
  {
   "cell_type": "markdown",
   "metadata": {},
   "source": [
    "<div class=\"alert bg-primary\"> <b>Комментарий студента:</b>\n",
    "    Так и есть, дописал)\n",
    "</div>"
   ]
  },
  {
   "cell_type": "markdown",
   "metadata": {},
   "source": [
    "Посмотрим на средние значения признаков для кластеров"
   ]
  },
  {
   "cell_type": "code",
   "execution_count": 20,
   "metadata": {
    "scrolled": true
   },
   "outputs": [
    {
     "data": {
      "text/html": [
       "<div>\n",
       "<style scoped>\n",
       "    .dataframe tbody tr th:only-of-type {\n",
       "        vertical-align: middle;\n",
       "    }\n",
       "\n",
       "    .dataframe tbody tr th {\n",
       "        vertical-align: top;\n",
       "    }\n",
       "\n",
       "    .dataframe thead th {\n",
       "        text-align: right;\n",
       "    }\n",
       "</style>\n",
       "<table border=\"1\" class=\"dataframe\">\n",
       "  <thead>\n",
       "    <tr style=\"text-align: right;\">\n",
       "      <th></th>\n",
       "      <th>gender</th>\n",
       "      <th>near_location</th>\n",
       "      <th>partner</th>\n",
       "      <th>promo_friends</th>\n",
       "      <th>phone</th>\n",
       "      <th>contract_period</th>\n",
       "      <th>group_visits</th>\n",
       "      <th>age</th>\n",
       "      <th>avg_additional_charges_total</th>\n",
       "      <th>lifetime</th>\n",
       "      <th>avg_class_frequency_current_month</th>\n",
       "      <th>churn</th>\n",
       "    </tr>\n",
       "    <tr>\n",
       "      <th>cluster_km</th>\n",
       "      <th></th>\n",
       "      <th></th>\n",
       "      <th></th>\n",
       "      <th></th>\n",
       "      <th></th>\n",
       "      <th></th>\n",
       "      <th></th>\n",
       "      <th></th>\n",
       "      <th></th>\n",
       "      <th></th>\n",
       "      <th></th>\n",
       "      <th></th>\n",
       "    </tr>\n",
       "  </thead>\n",
       "  <tbody>\n",
       "    <tr>\n",
       "      <th>3</th>\n",
       "      <td>0.53</td>\n",
       "      <td>1.00</td>\n",
       "      <td>0.38</td>\n",
       "      <td>0.01</td>\n",
       "      <td>1.00</td>\n",
       "      <td>6.21</td>\n",
       "      <td>0.54</td>\n",
       "      <td>30.70</td>\n",
       "      <td>176.26</td>\n",
       "      <td>5.42</td>\n",
       "      <td>2.32</td>\n",
       "      <td>0.01</td>\n",
       "    </tr>\n",
       "    <tr>\n",
       "      <th>0</th>\n",
       "      <td>0.50</td>\n",
       "      <td>1.00</td>\n",
       "      <td>0.89</td>\n",
       "      <td>1.00</td>\n",
       "      <td>1.00</td>\n",
       "      <td>6.92</td>\n",
       "      <td>0.52</td>\n",
       "      <td>29.61</td>\n",
       "      <td>153.42</td>\n",
       "      <td>4.28</td>\n",
       "      <td>1.92</td>\n",
       "      <td>0.12</td>\n",
       "    </tr>\n",
       "    <tr>\n",
       "      <th>4</th>\n",
       "      <td>0.52</td>\n",
       "      <td>0.86</td>\n",
       "      <td>0.47</td>\n",
       "      <td>0.31</td>\n",
       "      <td>0.00</td>\n",
       "      <td>4.78</td>\n",
       "      <td>0.43</td>\n",
       "      <td>29.30</td>\n",
       "      <td>144.21</td>\n",
       "      <td>3.94</td>\n",
       "      <td>1.72</td>\n",
       "      <td>0.27</td>\n",
       "    </tr>\n",
       "    <tr>\n",
       "      <th>1</th>\n",
       "      <td>0.50</td>\n",
       "      <td>0.00</td>\n",
       "      <td>0.49</td>\n",
       "      <td>0.08</td>\n",
       "      <td>1.00</td>\n",
       "      <td>2.99</td>\n",
       "      <td>0.23</td>\n",
       "      <td>28.68</td>\n",
       "      <td>137.13</td>\n",
       "      <td>2.97</td>\n",
       "      <td>1.60</td>\n",
       "      <td>0.40</td>\n",
       "    </tr>\n",
       "    <tr>\n",
       "      <th>2</th>\n",
       "      <td>0.50</td>\n",
       "      <td>1.00</td>\n",
       "      <td>0.22</td>\n",
       "      <td>0.07</td>\n",
       "      <td>1.00</td>\n",
       "      <td>2.01</td>\n",
       "      <td>0.28</td>\n",
       "      <td>27.58</td>\n",
       "      <td>119.34</td>\n",
       "      <td>1.92</td>\n",
       "      <td>1.20</td>\n",
       "      <td>0.56</td>\n",
       "    </tr>\n",
       "  </tbody>\n",
       "</table>\n",
       "</div>"
      ],
      "text/plain": [
       "            gender  near_location  partner  promo_friends  phone  \\\n",
       "cluster_km                                                         \n",
       "3             0.53           1.00     0.38           0.01   1.00   \n",
       "0             0.50           1.00     0.89           1.00   1.00   \n",
       "4             0.52           0.86     0.47           0.31   0.00   \n",
       "1             0.50           0.00     0.49           0.08   1.00   \n",
       "2             0.50           1.00     0.22           0.07   1.00   \n",
       "\n",
       "            contract_period  group_visits   age  avg_additional_charges_total  \\\n",
       "cluster_km                                                                      \n",
       "3                      6.21          0.54 30.70                        176.26   \n",
       "0                      6.92          0.52 29.61                        153.42   \n",
       "4                      4.78          0.43 29.30                        144.21   \n",
       "1                      2.99          0.23 28.68                        137.13   \n",
       "2                      2.01          0.28 27.58                        119.34   \n",
       "\n",
       "            lifetime  avg_class_frequency_current_month  churn  \n",
       "cluster_km                                                      \n",
       "3               5.42                               2.32   0.01  \n",
       "0               4.28                               1.92   0.12  \n",
       "4               3.94                               1.72   0.27  \n",
       "1               2.97                               1.60   0.40  \n",
       "2               1.92                               1.20   0.56  "
      ]
     },
     "execution_count": 20,
     "metadata": {},
     "output_type": "execute_result"
    }
   ],
   "source": [
    "data.drop(['month_to_end_contract', 'avg_class_frequency_total'], axis=1).groupby('cluster_km')\\\n",
    "                                        .mean().sort_values(by='churn')"
   ]
  },
  {
   "cell_type": "markdown",
   "metadata": {},
   "source": [
    "***Вывод:*** Что можем заметить:\n",
    "* кластеры 0 и 3 имеют очень низкий отток\n",
    "* самую большую среднюю длительность абонемента (lifetime) имеют кластер 0 и 3\n",
    "* следующие величины сортируют кластеры в противоположном порядке в стравнении с сортировкой по оттоку: lifetime, avg_additional_charges_total, avg_class_frequency_current_month. Соответственно чем больше их значения тем меньше вероятность оттока."
   ]
  },
  {
   "cell_type": "markdown",
   "metadata": {},
   "source": [
    "Построим распределения признаков для кластеров"
   ]
  },
  {
   "cell_type": "code",
   "execution_count": 21,
   "metadata": {},
   "outputs": [
    {
     "data": {
      "text/plain": [
       "'Распределения непрерывнх признаков для кластеров'"
      ]
     },
     "metadata": {},
     "output_type": "display_data"
    },
    {
     "data": {
      "image/png": "[encoded data removed]",
      "text/plain": [
       "<Figure size 1224x864 with 1 Axes>"
      ]
     },
     "metadata": {},
     "output_type": "display_data"
    },
    {
     "data": {
      "image/png": "[encoded data removed]",
      "text/plain": [
       "<Figure size 1224x864 with 1 Axes>"
      ]
     },
     "metadata": {},
     "output_type": "display_data"
    },
    {
     "data": {
      "image/png": "[encoded data removed]",
      "text/plain": [
       "<Figure size 1224x864 with 1 Axes>"
      ]
     },
     "metadata": {},
     "output_type": "display_data"
    },
    {
     "data": {
      "image/png": "[encoded data removed]",
      "text/plain": [
       "<Figure size 1224x864 with 1 Axes>"
      ]
     },
     "metadata": {},
     "output_type": "display_data"
    },
    {
     "data": {
      "image/png": "[encoded data removed]",
      "text/plain": [
       "<Figure size 1224x864 with 1 Axes>"
      ]
     },
     "metadata": {},
     "output_type": "display_data"
    }
   ],
   "source": [
    "display('Распределения непрерывнх признаков для кластеров')\n",
    "\n",
    "for col in continuous_cols:    \n",
    "    plt.figure(figsize=(17,12))\n",
    "    sns.boxplot(data=data, x=data['cluster_km'], y=col)   \n",
    "    plt.title('Boxplot по признаку ' + col)    \n",
    "    plt.xlabel('cluster')\n",
    "    plt.ylabel('count')\n",
    "    plt.show()"
   ]
  },
  {
   "cell_type": "markdown",
   "metadata": {},
   "source": [
    "***Вывод:*** \n",
    "* У 3 и 0 кластеров по возрасту нижние и средние значения находятся выше остальных\n",
    "* у 3 и 0 кластеров o\t'Avg_additional_charges_total' межквартильный диапазон самый большой а также его границы находятся выше других кластеров. А у кластера 2 больше всех выбросов.\n",
    "* То же самое касается lifetime\n",
    "* По 'avg_class_frequency_current_month' и 'avg_class_frequency_total' в кластере 3 нижний квартиль находится даже выше верхнего квартиля всех остальных кластеров"
   ]
  },
  {
   "cell_type": "code",
   "execution_count": 22,
   "metadata": {},
   "outputs": [
    {
     "data": {
      "text/plain": [
       "'Распределения дискретных признаков для кластеров'"
      ]
     },
     "metadata": {},
     "output_type": "display_data"
    },
    {
     "data": {
      "image/png": "[encoded data removed]",
      "text/plain": [
       "<Figure size 1224x576 with 1 Axes>"
      ]
     },
     "metadata": {},
     "output_type": "display_data"
    },
    {
     "data": {
      "image/png": "[encoded data removed]",
      "text/plain": [
       "<Figure size 1224x576 with 1 Axes>"
      ]
     },
     "metadata": {},
     "output_type": "display_data"
    },
    {
     "data": {
      "image/png": "[encoded data removed]",
      "text/plain": [
       "<Figure size 1224x576 with 1 Axes>"
      ]
     },
     "metadata": {},
     "output_type": "display_data"
    },
    {
     "data": {
      "image/png": "[encoded data removed]",
      "text/plain": [
       "<Figure size 1224x576 with 1 Axes>"
      ]
     },
     "metadata": {},
     "output_type": "display_data"
    },
    {
     "data": {
      "image/png": "[encoded data removed]",
      "text/plain": [
       "<Figure size 1224x576 with 1 Axes>"
      ]
     },
     "metadata": {},
     "output_type": "display_data"
    },
    {
     "data": {
      "image/png": "[encoded data removed]",
      "text/plain": [
       "<Figure size 1224x576 with 1 Axes>"
      ]
     },
     "metadata": {},
     "output_type": "display_data"
    },
    {
     "data": {
      "image/png": "[encoded data removed]",
      "text/plain": [
       "<Figure size 1224x576 with 1 Axes>"
      ]
     },
     "metadata": {},
     "output_type": "display_data"
    },
    {
     "data": {
      "image/png": "[encoded data removed]",
      "text/plain": [
       "<Figure size 1224x576 with 1 Axes>"
      ]
     },
     "metadata": {},
     "output_type": "display_data"
    }
   ],
   "source": [
    "display('Распределения дискретных признаков для кластеров')\n",
    "\n",
    "for col in discrete_cols:\n",
    "    plt.figure(figsize=(17,8))\n",
    "    plt.title('Распределение по полю ' + col)\n",
    "    plt.legend(sorted(data[col].unique()), title = col)\n",
    "    sns.countplot(x='cluster_km', hue=col, data=data)"
   ]
  },
  {
   "cell_type": "markdown",
   "metadata": {},
   "source": [
    "***Выводы:***\n",
    "* нулевые значения 'Near_Location' почти все попали в кластер 4.\n",
    "* в кластере 0 почти все клиенты являются сотрудниками компании-партнёра клуба\n",
    "* по полю promo_friends = 1 основная масса пользователей оказалась в кластере 0. \n",
    "* все клиенты без контактного телефона оказались в кластере 2\n",
    "* абонемент на месяц сильно преобладает над другими в кластере 2, а вот в кластере 0 преобладает абонемент на год\n",
    "* групповых занятий в кластерах 2 и 4 значительно меньше чем негрупповых\n",
    "* срок до окончания везде преобладает на месяц, кроме кластера 1: в нем не сильно различается количество клиентов с оставшимся сроком 1, 6, 12\n"
   ]
  },
  {
   "cell_type": "markdown",
   "metadata": {},
   "source": [
    "Для каждого полученного кластера посчитаем долю оттока "
   ]
  },
  {
   "cell_type": "code",
   "execution_count": 23,
   "metadata": {},
   "outputs": [
    {
     "data": {
      "text/html": [
       "<div>\n",
       "<style scoped>\n",
       "    .dataframe tbody tr th:only-of-type {\n",
       "        vertical-align: middle;\n",
       "    }\n",
       "\n",
       "    .dataframe tbody tr th {\n",
       "        vertical-align: top;\n",
       "    }\n",
       "\n",
       "    .dataframe thead th {\n",
       "        text-align: right;\n",
       "    }\n",
       "</style>\n",
       "<table border=\"1\" class=\"dataframe\">\n",
       "  <thead>\n",
       "    <tr style=\"text-align: right;\">\n",
       "      <th></th>\n",
       "      <th>cluster</th>\n",
       "      <th>churn_ratio</th>\n",
       "    </tr>\n",
       "    <tr>\n",
       "      <th>cluster_km</th>\n",
       "      <th></th>\n",
       "      <th></th>\n",
       "    </tr>\n",
       "  </thead>\n",
       "  <tbody>\n",
       "    <tr>\n",
       "      <th>2</th>\n",
       "      <td>2</td>\n",
       "      <td>0.56</td>\n",
       "    </tr>\n",
       "    <tr>\n",
       "      <th>1</th>\n",
       "      <td>3</td>\n",
       "      <td>0.40</td>\n",
       "    </tr>\n",
       "    <tr>\n",
       "      <th>4</th>\n",
       "      <td>1</td>\n",
       "      <td>0.27</td>\n",
       "    </tr>\n",
       "    <tr>\n",
       "      <th>0</th>\n",
       "      <td>4</td>\n",
       "      <td>0.12</td>\n",
       "    </tr>\n",
       "    <tr>\n",
       "      <th>3</th>\n",
       "      <td>0</td>\n",
       "      <td>0.01</td>\n",
       "    </tr>\n",
       "  </tbody>\n",
       "</table>\n",
       "</div>"
      ],
      "text/plain": [
       "            cluster  churn_ratio\n",
       "cluster_km                      \n",
       "2                 2         0.56\n",
       "1                 3         0.40\n",
       "4                 1         0.27\n",
       "0                 4         0.12\n",
       "3                 0         0.01"
      ]
     },
     "execution_count": 23,
     "metadata": {},
     "output_type": "execute_result"
    }
   ],
   "source": [
    "df = pd.DataFrame({'cluster' :  data['cluster_km'].unique(), \\\n",
    "                   'churn_ratio' : data.query('churn == 1').groupby('cluster_km')['churn'].count() /\\\n",
    "                   data.groupby('cluster_km')['churn'].count()})\n",
    "\n",
    "\n",
    "df.sort_values(by='churn_ratio', ascending=False)"
   ]
  },
  {
   "cell_type": "markdown",
   "metadata": {},
   "source": [
    "***Вывод*** Вышли те же значения, что и по среднему на кластер"
   ]
  },
  {
   "cell_type": "markdown",
   "metadata": {},
   "source": [
    "**Вывод по шагу**\n",
    "Построили дендрограмму, спрогнозировали кластеры методом K-Means, изучили кластеры по среднм значениям признаков, построили и изучили  графики распределения признаков"
   ]
  },
  {
   "cell_type": "markdown",
   "metadata": {},
   "source": [
    "<a id='summary'></a>\n",
    "## Вывод"
   ]
  },
  {
   "cell_type": "markdown",
   "metadata": {},
   "source": [
    "**Заново выпишем все выводы, сделанные на предыдущих шагах:**\n"
   ]
  },
  {
   "cell_type": "markdown",
   "metadata": {},
   "source": [
    "Средние значения признаков в двух группах\n",
    "* самые разнящиеся параметры у клиентов ушедших в отток и оставшихся: длительность текущего абонемента, срок до окончания текущего действующего абонемента, время с момента первого обращения в фитнес-центр, а также запись в клуб по акции «приведи друга». \n",
    "\n",
    "Столбчатые гистограммы для столбцов с дискретными величинами:\n",
    "* сотрудники компании-партнёра клуба реже уходят в отток\n",
    "* самый большой отток (почти половина) у тех кто заключил контракт только на месяц, и практически отсутствует у тех кто заключил на год.\n",
    "* по групповым занятиям отток значительно меньше у тех кто их посещает\n",
    "* когда срок до окончания текущего действующего абонемента - 1 месяц шанс отвалиться максимальный. Похоже это напрямую зависит от контракта на месяц.\n",
    "\n",
    "Гистограммы для столбцов с непрерывными величинами\n",
    "* при приближении к 30 летнему возрасту количество остающихся клиентов перевешивает уходящих и чем старше тем больше остающихся\n",
    "* больше всего уходят клиенты в самый 1й месяц, в 2раза меньше во 2й, а вот те кто отзанимался больше 6 месяцев почти \"не имеют шансов\" покинуть наш фитнес-центр\n",
    "* по средней частоте посещений: число остающихся начинает значительно сильнее перевешивать от 2,5 посещений и выше в неделю за все время\n",
    "* по средней частоте посещений за предыдущий месяц: больше всего отваливаются те, кто посетил меньше 2х раз\n",
    "\n",
    "Средние значения признаков для кластеров\n",
    "* кластеры 0 и 3 имеют очень низкий отток\n",
    "* самую большую среднюю длительность абонемента (lifetime) имеют кластер 0 и 3\n",
    "* следующие величины сортируют кластеры в противоположном порядке в стравнении с сортировкой по оттоку: lifetime, avg_class_frequency_total, avg_class_frequency_current_month. Соответственно чем больше их значения тем меньше вероятность оттока.\n",
    "\n",
    "Распределения непрерывнх признаков для кластеров\n",
    "* У 3 и 0 кластеров по возрасту нижние и средние значения находятся выше остальных\n",
    "* у 3 и 0 кластеров o 'Avg_additional_charges_total' межквартильный диапазон самый большой а также его границы находятся выше других кластеров. А у кластера 2 больше всех выбросов.\n",
    "* То же самое касается lifetime\n",
    "* По 'avg_class_frequency_current_month' и 'avg_class_frequency_total' в кластере 3 нижний квартиль находится даже выше верхнего квартиля всех остальных кластеров\n",
    "\n",
    "Распределения дискретных признаков для кластеров\n",
    "\n",
    "* нулевые значения 'Near_Location' почти все попали в кластер 4.\n",
    "* в кластере 0 почти все клиенты являются сотрудниками компании-партнёра клуба\n",
    "* по полю promo_friends = 1 основная масса пользователей оказалась в кластере 0.\n",
    "* все клиенты без контактного телефона оказались в кластере 2\n",
    "* абонемент на месяц сильно преобладает над другими в кластере 2, а вот в кластере 0 преобладает абонемент на год\n",
    "* групповых занятий в кластерах 2 и 4 значительно меньше чем негрупповых\n",
    "* срок до окончания везде преобладает на месяц, кроме кластера 1: в нем не сильно различается количество клиентов с оставшимся сроком 1, 6, 12"
   ]
  },
  {
   "cell_type": "markdown",
   "metadata": {},
   "source": [
    "**Подытожим выводы**\n",
    "\n",
    "*Вероятней всего останутся те кто:*\n",
    "* являются сотрудниками компании-партнёра клуба\n",
    "* заключили контракт на год\n",
    "* посещают групповые занятия\n",
    "* имеют возраст от 30 лет и выше\n",
    "* занимаются больше 6 месяцев\n",
    "* имеют больше 2х посещений в неделю в среднем за последний месяц (и за все время тоже) - большое влияние\n",
    "* пришли по акции «приведи друга» \n",
    "* часто пользуются дополнительными услугами\n",
    "\n",
    "*Вероятней всего уйдут в отток те кто:*\n",
    "* заключили контракт только на месяц\n",
    "* посетили меньше 2х раз за последнюю неделю\n",
    "* не оставили контактный телефон\n",
    "* имеют возраст значительно меньше 30\n",
    "* пришли самолично, без акции \"приведи друга\" или от компании-партнёра \n",
    "* не посещают групповые занятия\n",
    "и сделают они это скорее всего в 1й месяц"
   ]
  },
  {
   "cell_type": "markdown",
   "metadata": {},
   "source": [
    "**Рекоммендации по удержанию и взаимодействию с клиентами**\n",
    "* чаще проводить групповые занятия, агитировать на их посещение\n",
    "* делать скидки при записи сразу на срок от 6 мес\n",
    "* рассылать предложения всем компаниям-партнерам\n",
    "* расширить/улучшить дополнительные услуги"
   ]
  }
 ],
 "metadata": {
  "ExecuteTimeLog": [
   {
    "duration": 1976,
    "start_time": "2022-04-26T07:05:00.485Z"
   },
   {
    "duration": 4,
    "start_time": "2022-04-26T07:05:04.444Z"
   },
   {
    "duration": 5,
    "start_time": "2022-04-26T07:06:05.965Z"
   },
   {
    "duration": 4,
    "start_time": "2022-04-26T07:06:07.936Z"
   },
   {
    "duration": 8,
    "start_time": "2022-04-26T07:06:10.504Z"
   },
   {
    "duration": 4,
    "start_time": "2022-04-26T07:06:11.204Z"
   },
   {
    "duration": 5,
    "start_time": "2022-04-26T07:06:11.983Z"
   },
   {
    "duration": 5,
    "start_time": "2022-04-26T07:06:12.364Z"
   },
   {
    "duration": 5,
    "start_time": "2022-04-26T07:06:13.244Z"
   },
   {
    "duration": 86,
    "start_time": "2022-04-26T07:06:54.083Z"
   },
   {
    "duration": 6,
    "start_time": "2022-04-26T07:07:10.452Z"
   },
   {
    "duration": 123,
    "start_time": "2022-04-26T07:07:19.264Z"
   },
   {
    "duration": 6,
    "start_time": "2022-04-26T07:07:28.743Z"
   },
   {
    "duration": 19,
    "start_time": "2022-04-26T07:07:35.245Z"
   },
   {
    "duration": 7,
    "start_time": "2022-04-26T07:07:38.583Z"
   },
   {
    "duration": 6,
    "start_time": "2022-04-26T07:07:48.926Z"
   },
   {
    "duration": 6,
    "start_time": "2022-04-26T07:08:19.315Z"
   },
   {
    "duration": 83,
    "start_time": "2022-04-26T07:08:21.124Z"
   },
   {
    "duration": 5,
    "start_time": "2022-04-26T07:08:48.971Z"
   },
   {
    "duration": 125,
    "start_time": "2022-04-26T07:08:51.484Z"
   },
   {
    "duration": 5,
    "start_time": "2022-04-26T07:09:21.181Z"
   },
   {
    "duration": 128,
    "start_time": "2022-04-26T07:09:23.375Z"
   },
   {
    "duration": 65,
    "start_time": "2022-04-26T07:15:57.360Z"
   },
   {
    "duration": 5,
    "start_time": "2022-04-26T07:16:13.621Z"
   },
   {
    "duration": 68,
    "start_time": "2022-04-26T07:16:15.251Z"
   },
   {
    "duration": 6,
    "start_time": "2022-04-26T07:16:35.260Z"
   },
   {
    "duration": 57,
    "start_time": "2022-04-26T07:16:36.931Z"
   },
   {
    "duration": 5,
    "start_time": "2022-04-26T07:17:45.100Z"
   },
   {
    "duration": 32,
    "start_time": "2022-04-26T07:24:30.229Z"
   },
   {
    "duration": 113,
    "start_time": "2022-04-26T07:24:54.889Z"
   },
   {
    "duration": 6,
    "start_time": "2022-04-26T07:24:56.408Z"
   },
   {
    "duration": 5,
    "start_time": "2022-04-26T07:27:06.389Z"
   },
   {
    "duration": 228,
    "start_time": "2022-04-26T07:27:08.550Z"
   },
   {
    "duration": 6,
    "start_time": "2022-04-26T07:27:23.770Z"
   },
   {
    "duration": 74,
    "start_time": "2022-04-26T07:27:26.930Z"
   },
   {
    "duration": 5,
    "start_time": "2022-04-26T07:27:46.249Z"
   },
   {
    "duration": 27,
    "start_time": "2022-04-26T07:28:01.169Z"
   },
   {
    "duration": 31,
    "start_time": "2022-04-26T07:28:29.390Z"
   },
   {
    "duration": 5,
    "start_time": "2022-04-26T07:28:39.089Z"
   },
   {
    "duration": 61,
    "start_time": "2022-04-26T07:28:40.769Z"
   },
   {
    "duration": 6,
    "start_time": "2022-04-26T07:28:52.848Z"
   },
   {
    "duration": 118,
    "start_time": "2022-04-26T07:28:54.269Z"
   },
   {
    "duration": 6,
    "start_time": "2022-04-26T07:29:10.811Z"
   },
   {
    "duration": 61,
    "start_time": "2022-04-26T07:29:23.049Z"
   },
   {
    "duration": 13,
    "start_time": "2022-04-26T07:29:28.290Z"
   },
   {
    "duration": 13,
    "start_time": "2022-04-26T07:29:32.929Z"
   },
   {
    "duration": 14,
    "start_time": "2022-04-26T07:29:47.309Z"
   },
   {
    "duration": 14,
    "start_time": "2022-04-26T07:29:57.724Z"
   },
   {
    "duration": 12,
    "start_time": "2022-04-26T07:30:48.449Z"
   },
   {
    "duration": 17,
    "start_time": "2022-04-26T07:30:58.850Z"
   },
   {
    "duration": 128,
    "start_time": "2022-04-26T07:31:04.881Z"
   },
   {
    "duration": 17,
    "start_time": "2022-04-26T07:31:07.689Z"
   },
   {
    "duration": 61,
    "start_time": "2022-04-26T07:31:13.009Z"
   },
   {
    "duration": 6,
    "start_time": "2022-04-26T07:31:36.069Z"
   },
   {
    "duration": 6,
    "start_time": "2022-04-26T07:31:40.128Z"
   },
   {
    "duration": 156,
    "start_time": "2022-04-26T07:31:41.689Z"
   },
   {
    "duration": 6,
    "start_time": "2022-04-26T07:31:52.548Z"
   },
   {
    "duration": 148,
    "start_time": "2022-04-26T07:31:54.950Z"
   },
   {
    "duration": 5,
    "start_time": "2022-04-26T07:32:07.949Z"
   },
   {
    "duration": 129,
    "start_time": "2022-04-26T07:32:09.088Z"
   },
   {
    "duration": 59,
    "start_time": "2022-04-26T07:32:15.129Z"
   },
   {
    "duration": 26,
    "start_time": "2022-04-26T07:36:09.289Z"
   },
   {
    "duration": 10,
    "start_time": "2022-04-26T07:36:20.548Z"
   },
   {
    "duration": 10,
    "start_time": "2022-04-26T07:36:29.930Z"
   },
   {
    "duration": 9,
    "start_time": "2022-04-26T07:43:06.990Z"
   },
   {
    "duration": 15,
    "start_time": "2022-04-26T07:43:12.869Z"
   },
   {
    "duration": 15,
    "start_time": "2022-04-26T07:43:16.909Z"
   },
   {
    "duration": 9,
    "start_time": "2022-04-26T07:43:28.129Z"
   },
   {
    "duration": 9,
    "start_time": "2022-04-26T07:43:33.971Z"
   },
   {
    "duration": 18,
    "start_time": "2022-04-26T07:45:00.890Z"
   },
   {
    "duration": 18,
    "start_time": "2022-04-26T07:45:05.983Z"
   },
   {
    "duration": 19,
    "start_time": "2022-04-26T07:45:24.169Z"
   },
   {
    "duration": 18,
    "start_time": "2022-04-26T07:45:36.089Z"
   },
   {
    "duration": 18,
    "start_time": "2022-04-26T07:45:59.101Z"
   },
   {
    "duration": 19,
    "start_time": "2022-04-26T07:50:19.592Z"
   },
   {
    "duration": 19,
    "start_time": "2022-04-26T07:50:37.993Z"
   },
   {
    "duration": 23,
    "start_time": "2022-04-26T07:50:43.570Z"
   },
   {
    "duration": 18,
    "start_time": "2022-04-26T07:51:17.130Z"
   },
   {
    "duration": 17,
    "start_time": "2022-04-26T07:53:05.752Z"
   },
   {
    "duration": 11,
    "start_time": "2022-04-26T10:07:25.427Z"
   },
   {
    "duration": 12,
    "start_time": "2022-04-26T10:07:32.148Z"
   },
   {
    "duration": 11,
    "start_time": "2022-04-26T10:07:34.768Z"
   },
   {
    "duration": 244,
    "start_time": "2022-04-26T10:08:48.879Z"
   },
   {
    "duration": 246,
    "start_time": "2022-04-26T10:08:56.995Z"
   },
   {
    "duration": 220,
    "start_time": "2022-04-26T10:09:02.907Z"
   },
   {
    "duration": 206,
    "start_time": "2022-04-26T10:09:06.895Z"
   },
   {
    "duration": 49,
    "start_time": "2022-04-26T10:11:56.307Z"
   },
   {
    "duration": 13,
    "start_time": "2022-04-26T10:12:17.495Z"
   },
   {
    "duration": 154,
    "start_time": "2022-04-26T10:13:40.868Z"
   },
   {
    "duration": 172,
    "start_time": "2022-04-26T10:13:45.367Z"
   },
   {
    "duration": 177,
    "start_time": "2022-04-26T10:14:07.068Z"
   },
   {
    "duration": 124,
    "start_time": "2022-04-26T10:14:11.109Z"
   },
   {
    "duration": 4,
    "start_time": "2022-04-26T10:14:27.942Z"
   },
   {
    "duration": 10,
    "start_time": "2022-04-26T10:14:32.295Z"
   },
   {
    "duration": 5,
    "start_time": "2022-04-26T10:14:34.862Z"
   },
   {
    "duration": 36,
    "start_time": "2022-04-26T10:14:43.128Z"
   },
   {
    "duration": 33,
    "start_time": "2022-04-26T10:14:58.442Z"
   },
   {
    "duration": 19,
    "start_time": "2022-04-26T10:16:04.748Z"
   },
   {
    "duration": 15,
    "start_time": "2022-04-26T10:16:09.176Z"
   },
   {
    "duration": 2786,
    "start_time": "2022-04-26T10:16:14.168Z"
   },
   {
    "duration": 1592,
    "start_time": "2022-04-26T10:18:50.047Z"
   },
   {
    "duration": 53,
    "start_time": "2022-04-26T10:18:51.642Z"
   },
   {
    "duration": 6,
    "start_time": "2022-04-26T10:18:51.698Z"
   },
   {
    "duration": 131,
    "start_time": "2022-04-26T10:18:51.708Z"
   },
   {
    "duration": 60,
    "start_time": "2022-04-26T10:18:51.884Z"
   },
   {
    "duration": 18,
    "start_time": "2022-04-26T10:18:51.947Z"
   },
   {
    "duration": 2762,
    "start_time": "2022-04-26T10:18:51.984Z"
   },
   {
    "duration": 177,
    "start_time": "2022-04-26T10:25:02.869Z"
   },
   {
    "duration": 12,
    "start_time": "2022-04-26T10:25:06.429Z"
   },
   {
    "duration": 2722,
    "start_time": "2022-04-26T10:25:10.130Z"
   },
   {
    "duration": 12,
    "start_time": "2022-04-26T10:25:17.569Z"
   },
   {
    "duration": 14,
    "start_time": "2022-04-26T10:25:24.009Z"
   },
   {
    "duration": 12,
    "start_time": "2022-04-26T10:25:28.295Z"
   },
   {
    "duration": 2827,
    "start_time": "2022-04-26T10:26:53.370Z"
   },
   {
    "duration": 7,
    "start_time": "2022-04-26T10:27:03.395Z"
   },
   {
    "duration": 7,
    "start_time": "2022-04-26T10:27:15.400Z"
   },
   {
    "duration": 7,
    "start_time": "2022-04-26T10:27:34.930Z"
   },
   {
    "duration": 1693,
    "start_time": "2022-04-26T10:29:46.010Z"
   },
   {
    "duration": 1052,
    "start_time": "2022-04-26T10:29:54.029Z"
   },
   {
    "duration": 5,
    "start_time": "2022-04-26T10:30:59.898Z"
   },
   {
    "duration": 941,
    "start_time": "2022-04-26T10:31:03.395Z"
   },
   {
    "duration": 1124,
    "start_time": "2022-04-26T10:53:50.561Z"
   },
   {
    "duration": 928,
    "start_time": "2022-04-26T10:54:04.200Z"
   },
   {
    "duration": 1005,
    "start_time": "2022-04-26T10:54:22.521Z"
   },
   {
    "duration": 1652,
    "start_time": "2022-04-26T10:58:28.881Z"
   },
   {
    "duration": 1970,
    "start_time": "2022-04-26T10:58:38.321Z"
   },
   {
    "duration": 1127,
    "start_time": "2022-04-26T10:58:57.452Z"
   },
   {
    "duration": 1811,
    "start_time": "2022-04-26T10:59:02.409Z"
   },
   {
    "duration": 6,
    "start_time": "2022-04-26T10:59:08.349Z"
   },
   {
    "duration": 1627,
    "start_time": "2022-04-26T10:59:15.081Z"
   },
   {
    "duration": 1577,
    "start_time": "2022-04-26T10:59:23.781Z"
   },
   {
    "duration": 58,
    "start_time": "2022-04-26T10:59:25.362Z"
   },
   {
    "duration": 8,
    "start_time": "2022-04-26T10:59:25.423Z"
   },
   {
    "duration": 167,
    "start_time": "2022-04-26T10:59:25.434Z"
   },
   {
    "duration": 60,
    "start_time": "2022-04-26T10:59:25.605Z"
   },
   {
    "duration": 36,
    "start_time": "2022-04-26T10:59:25.667Z"
   },
   {
    "duration": 7,
    "start_time": "2022-04-26T10:59:25.705Z"
   },
   {
    "duration": 1887,
    "start_time": "2022-04-26T10:59:25.714Z"
   },
   {
    "duration": 1683,
    "start_time": "2022-04-26T10:59:29.361Z"
   },
   {
    "duration": 1023,
    "start_time": "2022-04-26T10:59:36.080Z"
   },
   {
    "duration": 883,
    "start_time": "2022-04-26T11:00:03.960Z"
   },
   {
    "duration": 18,
    "start_time": "2022-04-26T11:00:32.009Z"
   },
   {
    "duration": 170,
    "start_time": "2022-04-26T11:01:19.801Z"
   },
   {
    "duration": 22,
    "start_time": "2022-04-26T11:01:25.941Z"
   },
   {
    "duration": 18,
    "start_time": "2022-04-26T11:01:40.321Z"
   },
   {
    "duration": 1013,
    "start_time": "2022-04-26T11:01:53.200Z"
   },
   {
    "duration": 932,
    "start_time": "2022-04-26T11:01:57.902Z"
   },
   {
    "duration": 1122,
    "start_time": "2022-04-26T11:02:03.442Z"
   },
   {
    "duration": 159,
    "start_time": "2022-04-26T11:02:52.301Z"
   },
   {
    "duration": 1089,
    "start_time": "2022-04-26T11:03:11.221Z"
   },
   {
    "duration": 186,
    "start_time": "2022-04-26T11:03:21.443Z"
   },
   {
    "duration": 211,
    "start_time": "2022-04-26T11:03:33.321Z"
   },
   {
    "duration": 294,
    "start_time": "2022-04-26T11:03:37.921Z"
   },
   {
    "duration": 233,
    "start_time": "2022-04-26T11:05:39.269Z"
   },
   {
    "duration": 5,
    "start_time": "2022-04-26T11:06:11.753Z"
   },
   {
    "duration": 1053,
    "start_time": "2022-04-26T11:06:59.495Z"
   },
   {
    "duration": 1132,
    "start_time": "2022-04-26T11:07:11.482Z"
   },
   {
    "duration": 1070,
    "start_time": "2022-04-26T11:07:24.434Z"
   },
   {
    "duration": 1156,
    "start_time": "2022-04-26T11:08:42.783Z"
   },
   {
    "duration": 211,
    "start_time": "2022-04-26T11:08:51.721Z"
   },
   {
    "duration": 77,
    "start_time": "2022-04-26T11:09:00.964Z"
   },
   {
    "duration": 1520,
    "start_time": "2022-04-26T11:09:06.898Z"
   },
   {
    "duration": 43,
    "start_time": "2022-04-26T11:09:08.421Z"
   },
   {
    "duration": 6,
    "start_time": "2022-04-26T11:09:08.466Z"
   },
   {
    "duration": 132,
    "start_time": "2022-04-26T11:09:08.487Z"
   },
   {
    "duration": 97,
    "start_time": "2022-04-26T11:09:08.622Z"
   },
   {
    "duration": 18,
    "start_time": "2022-04-26T11:09:08.722Z"
   },
   {
    "duration": 4,
    "start_time": "2022-04-26T11:09:08.743Z"
   },
   {
    "duration": 286,
    "start_time": "2022-04-26T11:09:08.749Z"
   },
   {
    "duration": 1118,
    "start_time": "2022-04-26T11:09:09.037Z"
   },
   {
    "duration": 1191,
    "start_time": "2022-04-26T11:09:39.718Z"
   },
   {
    "duration": 1135,
    "start_time": "2022-04-26T11:10:45.558Z"
   },
   {
    "duration": 1310,
    "start_time": "2022-04-26T11:13:38.598Z"
   },
   {
    "duration": 1189,
    "start_time": "2022-04-26T11:13:51.318Z"
   },
   {
    "duration": 1305,
    "start_time": "2022-04-26T11:14:03.838Z"
   },
   {
    "duration": 397,
    "start_time": "2022-04-26T11:14:20.688Z"
   },
   {
    "duration": 2824,
    "start_time": "2022-04-26T11:15:05.779Z"
   },
   {
    "duration": 1223,
    "start_time": "2022-04-26T11:15:22.880Z"
   },
   {
    "duration": 1352,
    "start_time": "2022-04-26T11:15:29.158Z"
   },
   {
    "duration": 1354,
    "start_time": "2022-04-26T11:15:34.958Z"
   },
   {
    "duration": 1536,
    "start_time": "2022-04-26T11:15:40.958Z"
   },
   {
    "duration": 1235,
    "start_time": "2022-04-26T11:15:49.106Z"
   },
   {
    "duration": 1262,
    "start_time": "2022-04-26T11:15:55.799Z"
   },
   {
    "duration": 1354,
    "start_time": "2022-04-26T11:16:06.359Z"
   },
   {
    "duration": 1246,
    "start_time": "2022-04-26T11:16:09.019Z"
   },
   {
    "duration": 1316,
    "start_time": "2022-04-26T11:16:21.871Z"
   },
   {
    "duration": 1359,
    "start_time": "2022-04-26T11:16:31.266Z"
   },
   {
    "duration": 1399,
    "start_time": "2022-04-26T11:16:53.518Z"
   },
   {
    "duration": 1298,
    "start_time": "2022-04-26T11:17:43.195Z"
   },
   {
    "duration": 271,
    "start_time": "2022-04-26T11:18:09.995Z"
   },
   {
    "duration": 1575,
    "start_time": "2022-04-26T11:18:17.466Z"
   },
   {
    "duration": 1348,
    "start_time": "2022-04-26T11:18:21.338Z"
   },
   {
    "duration": 2413,
    "start_time": "2022-04-26T11:19:12.738Z"
   },
   {
    "duration": 458,
    "start_time": "2022-04-26T11:19:24.359Z"
   },
   {
    "duration": 1963,
    "start_time": "2022-04-26T11:19:59.318Z"
   },
   {
    "duration": 14,
    "start_time": "2022-04-26T11:20:47.319Z"
   },
   {
    "duration": 5837,
    "start_time": "2022-04-26T11:21:04.637Z"
   },
   {
    "duration": 6179,
    "start_time": "2022-04-26T11:21:38.438Z"
   },
   {
    "duration": 6641,
    "start_time": "2022-04-26T11:21:49.077Z"
   },
   {
    "duration": 4866,
    "start_time": "2022-04-26T11:22:27.558Z"
   },
   {
    "duration": 1983,
    "start_time": "2022-04-26T11:23:04.204Z"
   },
   {
    "duration": 26,
    "start_time": "2022-04-26T11:23:47.000Z"
   },
   {
    "duration": 2060,
    "start_time": "2022-04-26T11:23:51.957Z"
   },
   {
    "duration": 1911,
    "start_time": "2022-04-26T11:24:10.966Z"
   },
   {
    "duration": 1863,
    "start_time": "2022-04-26T11:24:23.947Z"
   },
   {
    "duration": 1693,
    "start_time": "2022-04-26T11:24:36.202Z"
   },
   {
    "duration": 4194,
    "start_time": "2022-04-26T11:25:09.831Z"
   },
   {
    "duration": 1649,
    "start_time": "2022-04-26T11:25:26.818Z"
   },
   {
    "duration": 3547,
    "start_time": "2022-04-26T11:26:59.403Z"
   },
   {
    "duration": 3322,
    "start_time": "2022-04-26T11:27:11.117Z"
   },
   {
    "duration": 4,
    "start_time": "2022-04-26T11:28:58.415Z"
   },
   {
    "duration": 4,
    "start_time": "2022-04-26T11:30:06.258Z"
   },
   {
    "duration": 3171,
    "start_time": "2022-04-26T11:30:12.278Z"
   },
   {
    "duration": 3452,
    "start_time": "2022-04-26T11:30:29.238Z"
   },
   {
    "duration": 1653,
    "start_time": "2022-04-26T11:31:41.091Z"
   },
   {
    "duration": 3974,
    "start_time": "2022-04-26T11:31:58.379Z"
   },
   {
    "duration": 3242,
    "start_time": "2022-04-26T11:32:14.650Z"
   },
   {
    "duration": 179,
    "start_time": "2022-04-26T11:32:20.837Z"
   },
   {
    "duration": 507,
    "start_time": "2022-04-26T11:32:25.137Z"
   },
   {
    "duration": 1531,
    "start_time": "2022-04-26T11:32:32.806Z"
   },
   {
    "duration": 38,
    "start_time": "2022-04-26T11:32:34.340Z"
   },
   {
    "duration": 11,
    "start_time": "2022-04-26T11:32:34.382Z"
   },
   {
    "duration": 132,
    "start_time": "2022-04-26T11:32:34.395Z"
   },
   {
    "duration": 98,
    "start_time": "2022-04-26T11:32:34.530Z"
   },
   {
    "duration": 18,
    "start_time": "2022-04-26T11:32:34.631Z"
   },
   {
    "duration": 5,
    "start_time": "2022-04-26T11:32:34.651Z"
   },
   {
    "duration": 437,
    "start_time": "2022-04-26T11:32:34.684Z"
   },
   {
    "duration": 1428,
    "start_time": "2022-04-26T11:32:35.123Z"
   },
   {
    "duration": 199,
    "start_time": "2022-04-26T11:32:49.842Z"
   },
   {
    "duration": 1716,
    "start_time": "2022-04-26T11:33:31.142Z"
   },
   {
    "duration": 1678,
    "start_time": "2022-04-26T11:33:37.163Z"
   },
   {
    "duration": 1731,
    "start_time": "2022-04-26T11:34:01.608Z"
   },
   {
    "duration": 2853,
    "start_time": "2022-04-26T11:34:46.242Z"
   },
   {
    "duration": 4114,
    "start_time": "2022-04-26T11:34:54.984Z"
   },
   {
    "duration": 149,
    "start_time": "2022-04-26T11:37:03.521Z"
   },
   {
    "duration": 3969,
    "start_time": "2022-04-26T11:37:08.223Z"
   },
   {
    "duration": 180,
    "start_time": "2022-04-26T11:37:48.163Z"
   },
   {
    "duration": 1848,
    "start_time": "2022-04-26T11:37:53.762Z"
   },
   {
    "duration": 1732,
    "start_time": "2022-04-26T11:38:07.082Z"
   },
   {
    "duration": 1896,
    "start_time": "2022-04-26T11:38:36.803Z"
   },
   {
    "duration": 3711,
    "start_time": "2022-04-26T11:38:49.381Z"
   },
   {
    "duration": 23,
    "start_time": "2022-04-26T11:39:35.484Z"
   },
   {
    "duration": 26,
    "start_time": "2022-04-26T11:41:11.882Z"
   },
   {
    "duration": 26,
    "start_time": "2022-04-26T11:41:17.582Z"
   },
   {
    "duration": 12,
    "start_time": "2022-04-26T11:42:03.286Z"
   },
   {
    "duration": 7,
    "start_time": "2022-04-26T11:42:06.605Z"
   },
   {
    "duration": 13,
    "start_time": "2022-04-26T11:42:36.861Z"
   },
   {
    "duration": 15,
    "start_time": "2022-04-26T11:42:46.503Z"
   },
   {
    "duration": 18,
    "start_time": "2022-04-26T11:43:10.422Z"
   },
   {
    "duration": 18,
    "start_time": "2022-04-26T11:43:25.384Z"
   },
   {
    "duration": 336,
    "start_time": "2022-04-26T11:43:44.723Z"
   },
   {
    "duration": 301,
    "start_time": "2022-04-26T11:43:53.683Z"
   },
   {
    "duration": 286,
    "start_time": "2022-04-26T11:44:12.923Z"
   },
   {
    "duration": 2479,
    "start_time": "2022-04-26T11:44:35.275Z"
   },
   {
    "duration": 1913,
    "start_time": "2022-04-26T11:44:48.361Z"
   },
   {
    "duration": 9,
    "start_time": "2022-04-26T11:46:06.403Z"
   },
   {
    "duration": 1897,
    "start_time": "2022-04-26T11:46:30.942Z"
   },
   {
    "duration": 2051,
    "start_time": "2022-04-26T11:46:44.442Z"
   },
   {
    "duration": 1943,
    "start_time": "2022-04-26T11:47:48.722Z"
   },
   {
    "duration": 27,
    "start_time": "2022-04-26T11:48:07.062Z"
   },
   {
    "duration": 1193,
    "start_time": "2022-04-26T11:48:38.764Z"
   },
   {
    "duration": 31,
    "start_time": "2022-04-26T11:48:52.764Z"
   },
   {
    "duration": 1969,
    "start_time": "2022-04-26T11:49:45.291Z"
   },
   {
    "duration": 1962,
    "start_time": "2022-04-26T11:50:09.244Z"
   },
   {
    "duration": 1952,
    "start_time": "2022-04-26T11:58:06.762Z"
   },
   {
    "duration": 1958,
    "start_time": "2022-04-26T11:58:38.462Z"
   },
   {
    "duration": 1891,
    "start_time": "2022-04-26T11:59:16.307Z"
   },
   {
    "duration": 2031,
    "start_time": "2022-04-26T11:59:25.582Z"
   },
   {
    "duration": 1536,
    "start_time": "2022-04-26T12:01:14.370Z"
   },
   {
    "duration": 1402,
    "start_time": "2022-04-26T12:01:21.321Z"
   },
   {
    "duration": 12,
    "start_time": "2022-04-26T12:04:48.720Z"
   },
   {
    "duration": 16,
    "start_time": "2022-04-26T12:04:56.410Z"
   },
   {
    "duration": 34,
    "start_time": "2022-04-26T12:05:10.061Z"
   },
   {
    "duration": 23,
    "start_time": "2022-04-26T12:05:19.140Z"
   },
   {
    "duration": 12,
    "start_time": "2022-04-26T12:05:41.976Z"
   },
   {
    "duration": 6,
    "start_time": "2022-04-26T12:05:50.557Z"
   },
   {
    "duration": 11,
    "start_time": "2022-04-26T12:05:54.417Z"
   },
   {
    "duration": 12,
    "start_time": "2022-04-26T12:06:24.556Z"
   },
   {
    "duration": 12,
    "start_time": "2022-04-26T12:06:29.177Z"
   },
   {
    "duration": 1907,
    "start_time": "2022-04-26T12:06:32.655Z"
   },
   {
    "duration": 174,
    "start_time": "2022-04-26T12:06:47.999Z"
   },
   {
    "duration": 2147,
    "start_time": "2022-04-26T12:59:40.017Z"
   },
   {
    "duration": 1946,
    "start_time": "2022-04-26T12:59:48.899Z"
   },
   {
    "duration": 48,
    "start_time": "2022-04-27T07:49:24.706Z"
   },
   {
    "duration": 1413,
    "start_time": "2022-04-27T07:49:30.214Z"
   },
   {
    "duration": 35,
    "start_time": "2022-04-27T07:49:31.629Z"
   },
   {
    "duration": 12,
    "start_time": "2022-04-27T07:49:31.665Z"
   },
   {
    "duration": 4,
    "start_time": "2022-04-27T07:49:31.679Z"
   },
   {
    "duration": 107,
    "start_time": "2022-04-27T07:49:31.693Z"
   },
   {
    "duration": 39,
    "start_time": "2022-04-27T07:49:31.802Z"
   },
   {
    "duration": 18,
    "start_time": "2022-04-27T07:49:31.843Z"
   },
   {
    "duration": 1127,
    "start_time": "2022-04-27T07:49:31.863Z"
   },
   {
    "duration": 909,
    "start_time": "2022-04-27T07:49:32.992Z"
   },
   {
    "duration": 6,
    "start_time": "2022-04-27T07:49:33.903Z"
   },
   {
    "duration": 16,
    "start_time": "2022-04-27T07:49:33.911Z"
   },
   {
    "duration": 1324,
    "start_time": "2022-04-27T07:49:33.929Z"
   },
   {
    "duration": 15,
    "start_time": "2022-04-27T07:50:01.478Z"
   },
   {
    "duration": 32,
    "start_time": "2022-04-27T07:50:03.438Z"
   },
   {
    "duration": 33,
    "start_time": "2022-04-27T07:50:42.997Z"
   },
   {
    "duration": 4,
    "start_time": "2022-04-27T07:51:01.279Z"
   },
   {
    "duration": 23,
    "start_time": "2022-04-27T07:51:04.339Z"
   },
   {
    "duration": 99,
    "start_time": "2022-04-27T08:03:58.787Z"
   },
   {
    "duration": 10,
    "start_time": "2022-04-27T08:05:34.725Z"
   },
   {
    "duration": 9071,
    "start_time": "2022-04-27T08:05:42.186Z"
   },
   {
    "duration": 0,
    "start_time": "2022-04-27T08:06:05.634Z"
   },
   {
    "duration": 8531,
    "start_time": "2022-04-27T08:06:13.354Z"
   },
   {
    "duration": 1188,
    "start_time": "2022-04-27T08:09:34.567Z"
   },
   {
    "duration": 1281,
    "start_time": "2022-04-27T08:09:42.837Z"
   },
   {
    "duration": 2515,
    "start_time": "2022-04-27T08:09:52.057Z"
   },
   {
    "duration": 1280,
    "start_time": "2022-04-27T08:10:47.376Z"
   },
   {
    "duration": 1339,
    "start_time": "2022-04-27T08:10:55.164Z"
   },
   {
    "duration": 1546,
    "start_time": "2022-04-27T08:11:15.553Z"
   },
   {
    "duration": 1479,
    "start_time": "2022-04-27T08:11:30.452Z"
   },
   {
    "duration": 2020,
    "start_time": "2022-04-27T08:11:36.732Z"
   },
   {
    "duration": 1377,
    "start_time": "2022-04-27T08:12:01.853Z"
   },
   {
    "duration": 1300,
    "start_time": "2022-04-27T08:12:17.324Z"
   },
   {
    "duration": 1370,
    "start_time": "2022-04-27T08:12:21.201Z"
   },
   {
    "duration": 1352,
    "start_time": "2022-04-27T08:12:29.565Z"
   },
   {
    "duration": 4,
    "start_time": "2022-04-27T08:12:38.992Z"
   },
   {
    "duration": 1462,
    "start_time": "2022-04-27T08:12:46.008Z"
   },
   {
    "duration": 32,
    "start_time": "2022-04-27T08:18:59.396Z"
   },
   {
    "duration": 1342,
    "start_time": "2022-04-27T08:28:13.835Z"
   },
   {
    "duration": 1155,
    "start_time": "2022-04-27T08:29:11.426Z"
   },
   {
    "duration": 34,
    "start_time": "2022-04-27T08:29:12.584Z"
   },
   {
    "duration": 13,
    "start_time": "2022-04-27T08:29:12.620Z"
   },
   {
    "duration": 6,
    "start_time": "2022-04-27T08:29:12.635Z"
   },
   {
    "duration": 89,
    "start_time": "2022-04-27T08:29:12.644Z"
   },
   {
    "duration": 71,
    "start_time": "2022-04-27T08:29:12.735Z"
   },
   {
    "duration": 14,
    "start_time": "2022-04-27T08:29:12.808Z"
   },
   {
    "duration": 1120,
    "start_time": "2022-04-27T08:29:12.824Z"
   },
   {
    "duration": 930,
    "start_time": "2022-04-27T08:29:13.946Z"
   },
   {
    "duration": 7,
    "start_time": "2022-04-27T08:29:14.878Z"
   },
   {
    "duration": 17,
    "start_time": "2022-04-27T08:29:14.892Z"
   },
   {
    "duration": 1226,
    "start_time": "2022-04-27T08:29:14.911Z"
   },
   {
    "duration": 1540,
    "start_time": "2022-04-27T08:29:26.469Z"
   },
   {
    "duration": 1512,
    "start_time": "2022-04-27T08:32:31.874Z"
   },
   {
    "duration": 1421,
    "start_time": "2022-04-27T08:32:40.173Z"
   },
   {
    "duration": 6,
    "start_time": "2022-04-27T08:34:18.883Z"
   },
   {
    "duration": 16,
    "start_time": "2022-04-27T08:34:23.819Z"
   },
   {
    "duration": 110,
    "start_time": "2022-04-27T08:34:33.051Z"
   },
   {
    "duration": 13,
    "start_time": "2022-04-27T08:34:40.071Z"
   },
   {
    "duration": 6,
    "start_time": "2022-04-27T08:34:43.792Z"
   },
   {
    "duration": 13,
    "start_time": "2022-04-27T08:34:46.232Z"
   },
   {
    "duration": 16,
    "start_time": "2022-04-27T08:35:06.110Z"
   },
   {
    "duration": 1414,
    "start_time": "2022-04-27T10:05:31.786Z"
   },
   {
    "duration": 1710,
    "start_time": "2022-04-27T11:22:56.237Z"
   },
   {
    "duration": 152,
    "start_time": "2022-04-27T11:25:17.078Z"
   },
   {
    "duration": 10,
    "start_time": "2022-04-27T11:34:13.157Z"
   },
   {
    "duration": 613,
    "start_time": "2022-04-27T11:34:34.309Z"
   },
   {
    "duration": 24,
    "start_time": "2022-04-27T11:34:38.291Z"
   },
   {
    "duration": 20,
    "start_time": "2022-04-27T11:37:14.110Z"
   },
   {
    "duration": 15,
    "start_time": "2022-04-27T11:37:25.054Z"
   },
   {
    "duration": 16,
    "start_time": "2022-04-27T11:37:36.406Z"
   },
   {
    "duration": 10,
    "start_time": "2022-04-27T11:37:47.911Z"
   },
   {
    "duration": 24,
    "start_time": "2022-04-27T11:37:59.753Z"
   },
   {
    "duration": 19,
    "start_time": "2022-04-27T11:38:12.071Z"
   },
   {
    "duration": 8,
    "start_time": "2022-04-27T11:38:18.832Z"
   },
   {
    "duration": 11,
    "start_time": "2022-04-27T11:55:07.933Z"
   },
   {
    "duration": 24,
    "start_time": "2022-04-27T11:55:42.467Z"
   },
   {
    "duration": 11,
    "start_time": "2022-04-27T11:55:46.061Z"
   },
   {
    "duration": 10,
    "start_time": "2022-04-27T11:56:19.072Z"
   },
   {
    "duration": 10,
    "start_time": "2022-04-27T11:56:19.609Z"
   },
   {
    "duration": 9,
    "start_time": "2022-04-27T11:56:23.160Z"
   },
   {
    "duration": 14,
    "start_time": "2022-04-27T11:58:28.356Z"
   },
   {
    "duration": 22,
    "start_time": "2022-04-27T11:58:53.009Z"
   },
   {
    "duration": 9,
    "start_time": "2022-04-27T11:58:57.613Z"
   },
   {
    "duration": 4,
    "start_time": "2022-04-27T11:58:59.992Z"
   },
   {
    "duration": 3,
    "start_time": "2022-04-27T11:59:18.995Z"
   },
   {
    "duration": 3,
    "start_time": "2022-04-27T11:59:19.737Z"
   },
   {
    "duration": 2,
    "start_time": "2022-04-27T11:59:20.334Z"
   },
   {
    "duration": 2,
    "start_time": "2022-04-27T11:59:21.921Z"
   },
   {
    "duration": 3,
    "start_time": "2022-04-27T11:59:23.282Z"
   },
   {
    "duration": 478,
    "start_time": "2022-04-27T12:09:55.017Z"
   },
   {
    "duration": 249,
    "start_time": "2022-04-27T12:10:01.757Z"
   },
   {
    "duration": 35,
    "start_time": "2022-04-27T12:12:33.998Z"
   },
   {
    "duration": 11,
    "start_time": "2022-04-27T12:12:38.214Z"
   },
   {
    "duration": 244,
    "start_time": "2022-04-27T12:12:40.175Z"
   },
   {
    "duration": 201,
    "start_time": "2022-04-27T12:12:46.515Z"
   },
   {
    "duration": 123,
    "start_time": "2022-04-27T12:12:51.476Z"
   },
   {
    "duration": 267,
    "start_time": "2022-04-27T12:12:55.547Z"
   },
   {
    "duration": 495,
    "start_time": "2022-04-27T12:12:59.715Z"
   },
   {
    "duration": 48,
    "start_time": "2022-04-28T06:14:34.420Z"
   },
   {
    "duration": 1704,
    "start_time": "2022-04-28T06:14:38.511Z"
   },
   {
    "duration": 31,
    "start_time": "2022-04-28T06:14:40.218Z"
   },
   {
    "duration": 12,
    "start_time": "2022-04-28T06:14:40.251Z"
   },
   {
    "duration": 5,
    "start_time": "2022-04-28T06:14:40.265Z"
   },
   {
    "duration": 73,
    "start_time": "2022-04-28T06:14:40.272Z"
   },
   {
    "duration": 111,
    "start_time": "2022-04-28T06:14:40.347Z"
   },
   {
    "duration": 19,
    "start_time": "2022-04-28T06:14:40.460Z"
   },
   {
    "duration": 1292,
    "start_time": "2022-04-28T06:14:40.481Z"
   },
   {
    "duration": 963,
    "start_time": "2022-04-28T06:14:41.775Z"
   },
   {
    "duration": 1681,
    "start_time": "2022-04-28T06:14:42.739Z"
   },
   {
    "duration": 8,
    "start_time": "2022-04-28T06:14:44.421Z"
   },
   {
    "duration": 139,
    "start_time": "2022-04-28T06:14:44.431Z"
   },
   {
    "duration": 0,
    "start_time": "2022-04-28T06:14:44.572Z"
   },
   {
    "duration": 15,
    "start_time": "2022-04-28T06:19:03.711Z"
   },
   {
    "duration": 17,
    "start_time": "2022-04-28T06:19:11.211Z"
   },
   {
    "duration": 13,
    "start_time": "2022-04-28T06:19:37.051Z"
   },
   {
    "duration": 1783,
    "start_time": "2022-04-28T06:29:28.571Z"
   },
   {
    "duration": 16,
    "start_time": "2022-04-28T06:29:44.971Z"
   },
   {
    "duration": 375,
    "start_time": "2022-04-28T06:30:17.632Z"
   },
   {
    "duration": 291,
    "start_time": "2022-04-28T06:30:39.871Z"
   },
   {
    "duration": 340,
    "start_time": "2022-04-28T06:31:10.392Z"
   },
   {
    "duration": 385,
    "start_time": "2022-04-28T06:31:44.671Z"
   },
   {
    "duration": 14,
    "start_time": "2022-04-28T06:32:27.571Z"
   },
   {
    "duration": 20,
    "start_time": "2022-04-28T06:33:36.173Z"
   },
   {
    "duration": 13,
    "start_time": "2022-04-28T06:33:43.571Z"
   },
   {
    "duration": 1478,
    "start_time": "2022-04-28T06:37:35.571Z"
   },
   {
    "duration": 11,
    "start_time": "2022-04-28T07:16:42.779Z"
   },
   {
    "duration": 1482,
    "start_time": "2022-04-28T10:24:06.242Z"
   },
   {
    "duration": 28,
    "start_time": "2022-04-28T10:24:07.726Z"
   },
   {
    "duration": 14,
    "start_time": "2022-04-28T10:24:07.755Z"
   },
   {
    "duration": 5,
    "start_time": "2022-04-28T10:24:07.770Z"
   },
   {
    "duration": 68,
    "start_time": "2022-04-28T10:24:07.777Z"
   },
   {
    "duration": 93,
    "start_time": "2022-04-28T10:24:07.847Z"
   },
   {
    "duration": 15,
    "start_time": "2022-04-28T10:24:07.942Z"
   },
   {
    "duration": 1353,
    "start_time": "2022-04-28T10:24:07.959Z"
   },
   {
    "duration": 992,
    "start_time": "2022-04-28T10:24:09.313Z"
   },
   {
    "duration": 1657,
    "start_time": "2022-04-28T10:24:10.307Z"
   },
   {
    "duration": 8,
    "start_time": "2022-04-28T10:24:11.965Z"
   },
   {
    "duration": 128,
    "start_time": "2022-04-28T10:24:11.974Z"
   },
   {
    "duration": 0,
    "start_time": "2022-04-28T10:24:12.104Z"
   },
   {
    "duration": 7,
    "start_time": "2022-04-28T10:24:24.840Z"
   },
   {
    "duration": 10,
    "start_time": "2022-04-28T10:24:26.631Z"
   },
   {
    "duration": 915,
    "start_time": "2022-04-28T10:24:38.400Z"
   },
   {
    "duration": 908,
    "start_time": "2022-04-28T10:24:47.400Z"
   },
   {
    "duration": 971,
    "start_time": "2022-04-28T10:25:18.740Z"
   },
   {
    "duration": 1135,
    "start_time": "2022-04-28T10:27:52.879Z"
   },
   {
    "duration": 51,
    "start_time": "2022-04-28T10:28:25.674Z"
   },
   {
    "duration": 1476,
    "start_time": "2022-04-28T10:28:30.121Z"
   },
   {
    "duration": 33,
    "start_time": "2022-04-28T10:28:31.599Z"
   },
   {
    "duration": 14,
    "start_time": "2022-04-28T10:28:31.634Z"
   },
   {
    "duration": 7,
    "start_time": "2022-04-28T10:28:31.650Z"
   },
   {
    "duration": 87,
    "start_time": "2022-04-28T10:28:31.659Z"
   },
   {
    "duration": 107,
    "start_time": "2022-04-28T10:28:31.748Z"
   },
   {
    "duration": 14,
    "start_time": "2022-04-28T10:28:31.857Z"
   },
   {
    "duration": 1254,
    "start_time": "2022-04-28T10:28:31.873Z"
   },
   {
    "duration": 914,
    "start_time": "2022-04-28T10:28:33.129Z"
   },
   {
    "duration": 1533,
    "start_time": "2022-04-28T10:28:34.046Z"
   },
   {
    "duration": 7,
    "start_time": "2022-04-28T10:28:35.581Z"
   },
   {
    "duration": 1222,
    "start_time": "2022-04-28T10:28:35.590Z"
   },
   {
    "duration": 99,
    "start_time": "2022-04-28T10:28:36.814Z"
   },
   {
    "duration": 898,
    "start_time": "2022-04-28T10:28:55.710Z"
   },
   {
    "duration": 3,
    "start_time": "2022-04-28T10:29:11.419Z"
   },
   {
    "duration": 123,
    "start_time": "2022-04-28T10:29:32.718Z"
   },
   {
    "duration": 880,
    "start_time": "2022-04-28T10:29:50.631Z"
   },
   {
    "duration": 18,
    "start_time": "2022-04-28T10:29:56.451Z"
   },
   {
    "duration": 9,
    "start_time": "2022-04-28T10:30:07.739Z"
   },
   {
    "duration": 9,
    "start_time": "2022-04-28T10:30:11.579Z"
   },
   {
    "duration": 34,
    "start_time": "2022-04-28T10:37:51.740Z"
   },
   {
    "duration": 68,
    "start_time": "2022-04-28T10:38:10.038Z"
   },
   {
    "duration": 33,
    "start_time": "2022-04-28T10:38:13.273Z"
   },
   {
    "duration": 88,
    "start_time": "2022-04-28T10:39:13.919Z"
   },
   {
    "duration": 27,
    "start_time": "2022-04-28T10:39:16.629Z"
   },
   {
    "duration": 49,
    "start_time": "2022-04-28T10:39:19.759Z"
   },
   {
    "duration": 31,
    "start_time": "2022-04-28T10:39:22.122Z"
   },
   {
    "duration": 100,
    "start_time": "2022-04-28T10:39:25.921Z"
   },
   {
    "duration": 95,
    "start_time": "2022-04-28T10:39:29.520Z"
   },
   {
    "duration": 187,
    "start_time": "2022-04-28T10:39:33.121Z"
   },
   {
    "duration": 69,
    "start_time": "2022-04-28T10:39:37.639Z"
   },
   {
    "duration": 192,
    "start_time": "2022-04-28T10:40:00.619Z"
   },
   {
    "duration": 33,
    "start_time": "2022-04-28T10:40:09.479Z"
   },
   {
    "duration": 33,
    "start_time": "2022-04-28T10:41:02.478Z"
   },
   {
    "duration": 47,
    "start_time": "2022-04-28T10:41:19.688Z"
   },
   {
    "duration": 229,
    "start_time": "2022-04-28T10:41:24.278Z"
   },
   {
    "duration": 156,
    "start_time": "2022-04-28T10:41:38.759Z"
   },
   {
    "duration": 61,
    "start_time": "2022-04-28T10:44:16.947Z"
   },
   {
    "duration": 91,
    "start_time": "2022-04-28T10:44:24.418Z"
   },
   {
    "duration": 182,
    "start_time": "2022-04-28T10:44:35.726Z"
   },
   {
    "duration": 192,
    "start_time": "2022-04-28T10:44:51.818Z"
   },
   {
    "duration": 211,
    "start_time": "2022-04-28T10:45:02.798Z"
   },
   {
    "duration": 773,
    "start_time": "2022-04-28T10:46:04.727Z"
   },
   {
    "duration": 135,
    "start_time": "2022-04-28T10:50:41.774Z"
   },
   {
    "duration": 238,
    "start_time": "2022-04-28T10:50:54.278Z"
   },
   {
    "duration": 232,
    "start_time": "2022-04-28T10:51:02.478Z"
   },
   {
    "duration": 273,
    "start_time": "2022-04-28T10:51:08.838Z"
   },
   {
    "duration": 171,
    "start_time": "2022-04-28T10:51:21.838Z"
   },
   {
    "duration": 169,
    "start_time": "2022-04-28T10:51:31.638Z"
   },
   {
    "duration": 207,
    "start_time": "2022-04-28T10:51:35.400Z"
   },
   {
    "duration": 9,
    "start_time": "2022-04-28T10:52:21.627Z"
   },
   {
    "duration": 748,
    "start_time": "2022-04-28T10:52:48.475Z"
   },
   {
    "duration": 742,
    "start_time": "2022-04-28T10:52:56.166Z"
   },
   {
    "duration": 112,
    "start_time": "2022-04-28T10:53:34.898Z"
   },
   {
    "duration": 117,
    "start_time": "2022-04-28T10:53:39.498Z"
   },
   {
    "duration": 31,
    "start_time": "2022-04-28T10:53:48.766Z"
   },
   {
    "duration": 92,
    "start_time": "2022-04-28T10:55:09.517Z"
   },
   {
    "duration": 9,
    "start_time": "2022-04-28T10:56:55.966Z"
   },
   {
    "duration": 747,
    "start_time": "2022-04-28T10:56:58.399Z"
   },
   {
    "duration": 8,
    "start_time": "2022-04-28T10:57:00.251Z"
   },
   {
    "duration": 749,
    "start_time": "2022-04-28T10:57:12.126Z"
   },
   {
    "duration": 758,
    "start_time": "2022-04-28T10:57:17.998Z"
   },
   {
    "duration": 734,
    "start_time": "2022-04-28T10:57:21.478Z"
   },
   {
    "duration": 762,
    "start_time": "2022-04-28T10:57:32.266Z"
   },
   {
    "duration": 730,
    "start_time": "2022-04-28T10:57:40.118Z"
   },
   {
    "duration": 768,
    "start_time": "2022-04-28T10:57:45.598Z"
   },
   {
    "duration": 10,
    "start_time": "2022-04-28T10:57:54.807Z"
   },
   {
    "duration": 11,
    "start_time": "2022-04-28T10:57:59.219Z"
   },
   {
    "duration": 773,
    "start_time": "2022-04-28T10:58:08.897Z"
   },
   {
    "duration": 768,
    "start_time": "2022-04-28T10:58:20.418Z"
   },
   {
    "duration": 763,
    "start_time": "2022-04-28T10:59:39.217Z"
   },
   {
    "duration": 784,
    "start_time": "2022-04-28T10:59:46.720Z"
   },
   {
    "duration": 815,
    "start_time": "2022-04-28T11:01:03.378Z"
   },
   {
    "duration": 771,
    "start_time": "2022-04-28T11:02:56.478Z"
   },
   {
    "duration": 784,
    "start_time": "2022-04-28T11:03:11.177Z"
   },
   {
    "duration": 774,
    "start_time": "2022-04-28T11:03:14.878Z"
   },
   {
    "duration": 760,
    "start_time": "2022-04-28T11:03:21.437Z"
   },
   {
    "duration": 33,
    "start_time": "2022-04-28T11:03:25.414Z"
   },
   {
    "duration": 754,
    "start_time": "2022-04-28T11:03:26.992Z"
   },
   {
    "duration": 756,
    "start_time": "2022-04-28T11:03:35.317Z"
   },
   {
    "duration": 765,
    "start_time": "2022-04-28T11:03:40.078Z"
   },
   {
    "duration": 753,
    "start_time": "2022-04-28T11:03:46.134Z"
   },
   {
    "duration": 145,
    "start_time": "2022-04-28T11:03:53.766Z"
   },
   {
    "duration": 31,
    "start_time": "2022-04-28T11:03:58.198Z"
   },
   {
    "duration": 751,
    "start_time": "2022-04-28T11:04:05.779Z"
   },
   {
    "duration": 763,
    "start_time": "2022-04-28T11:04:13.817Z"
   },
   {
    "duration": 764,
    "start_time": "2022-04-28T11:06:03.430Z"
   },
   {
    "duration": 90,
    "start_time": "2022-04-28T11:07:06.038Z"
   },
   {
    "duration": 821,
    "start_time": "2022-04-28T11:07:09.365Z"
   },
   {
    "duration": 1115,
    "start_time": "2022-04-28T11:07:19.498Z"
   },
   {
    "duration": 888,
    "start_time": "2022-04-28T11:07:23.934Z"
   },
   {
    "duration": 12,
    "start_time": "2022-04-28T11:07:42.445Z"
   },
   {
    "duration": 1049,
    "start_time": "2022-04-28T11:08:40.598Z"
   },
   {
    "duration": 1652,
    "start_time": "2022-04-29T07:11:14.849Z"
   },
   {
    "duration": 31,
    "start_time": "2022-04-29T07:11:16.502Z"
   },
   {
    "duration": 13,
    "start_time": "2022-04-29T07:11:16.535Z"
   },
   {
    "duration": 5,
    "start_time": "2022-04-29T07:11:16.550Z"
   },
   {
    "duration": 103,
    "start_time": "2022-04-29T07:11:16.557Z"
   },
   {
    "duration": 37,
    "start_time": "2022-04-29T07:11:16.661Z"
   },
   {
    "duration": 13,
    "start_time": "2022-04-29T07:11:16.700Z"
   },
   {
    "duration": 1167,
    "start_time": "2022-04-29T07:11:16.715Z"
   },
   {
    "duration": 794,
    "start_time": "2022-04-29T07:11:17.884Z"
   },
   {
    "duration": 1361,
    "start_time": "2022-04-29T07:11:18.679Z"
   },
   {
    "duration": 9,
    "start_time": "2022-04-29T07:11:20.042Z"
   },
   {
    "duration": 99,
    "start_time": "2022-04-29T07:11:20.052Z"
   },
   {
    "duration": 738,
    "start_time": "2022-04-29T07:11:20.153Z"
   },
   {
    "duration": 8,
    "start_time": "2022-04-29T07:11:20.894Z"
   },
   {
    "duration": 9,
    "start_time": "2022-04-29T07:11:20.904Z"
   },
   {
    "duration": 7,
    "start_time": "2022-04-29T07:11:43.588Z"
   },
   {
    "duration": 101,
    "start_time": "2022-04-29T07:11:54.549Z"
   },
   {
    "duration": 10,
    "start_time": "2022-04-29T07:14:32.009Z"
   },
   {
    "duration": 19,
    "start_time": "2022-04-29T07:14:39.247Z"
   },
   {
    "duration": 10,
    "start_time": "2022-04-29T07:14:44.068Z"
   },
   {
    "duration": 19,
    "start_time": "2022-04-29T07:14:53.520Z"
   },
   {
    "duration": 12,
    "start_time": "2022-04-29T07:15:08.540Z"
   },
   {
    "duration": 8,
    "start_time": "2022-04-29T07:15:18.160Z"
   },
   {
    "duration": 5,
    "start_time": "2022-04-29T07:20:53.507Z"
   },
   {
    "duration": 4,
    "start_time": "2022-04-29T07:27:10.067Z"
   },
   {
    "duration": 3,
    "start_time": "2022-04-29T07:27:13.008Z"
   },
   {
    "duration": 16,
    "start_time": "2022-04-29T07:29:22.007Z"
   },
   {
    "duration": 8,
    "start_time": "2022-04-29T07:29:25.615Z"
   },
   {
    "duration": 15,
    "start_time": "2022-04-29T07:29:28.280Z"
   },
   {
    "duration": 10,
    "start_time": "2022-04-29T07:29:32.590Z"
   },
   {
    "duration": 15,
    "start_time": "2022-04-29T07:31:16.968Z"
   },
   {
    "duration": 111,
    "start_time": "2022-04-29T07:31:24.255Z"
   },
   {
    "duration": 15,
    "start_time": "2022-04-29T07:31:32.920Z"
   },
   {
    "duration": 15,
    "start_time": "2022-04-29T07:31:45.800Z"
   },
   {
    "duration": 25,
    "start_time": "2022-04-29T07:31:50.968Z"
   },
   {
    "duration": 16,
    "start_time": "2022-04-29T07:32:00.228Z"
   },
   {
    "duration": 18379,
    "start_time": "2022-04-29T07:33:56.262Z"
   },
   {
    "duration": 18364,
    "start_time": "2022-04-29T07:41:49.038Z"
   },
   {
    "duration": 22,
    "start_time": "2022-04-29T07:44:14.278Z"
   },
   {
    "duration": 18181,
    "start_time": "2022-04-29T07:44:26.159Z"
   },
   {
    "duration": 8,
    "start_time": "2022-04-29T07:52:40.842Z"
   },
   {
    "duration": 19,
    "start_time": "2022-04-29T07:58:41.663Z"
   },
   {
    "duration": 2,
    "start_time": "2022-04-29T07:58:58.148Z"
   },
   {
    "duration": 12,
    "start_time": "2022-04-29T07:59:20.636Z"
   },
   {
    "duration": 9,
    "start_time": "2022-04-29T07:59:31.403Z"
   },
   {
    "duration": 385,
    "start_time": "2022-04-29T07:59:42.071Z"
   },
   {
    "duration": 444,
    "start_time": "2022-04-29T07:59:45.905Z"
   },
   {
    "duration": 780,
    "start_time": "2022-04-29T08:00:27.672Z"
   },
   {
    "duration": 618,
    "start_time": "2022-04-29T08:00:32.432Z"
   },
   {
    "duration": 1256,
    "start_time": "2022-04-29T08:02:56.592Z"
   },
   {
    "duration": 1110,
    "start_time": "2022-04-29T08:03:00.639Z"
   },
   {
    "duration": 1153,
    "start_time": "2022-04-29T08:03:34.413Z"
   },
   {
    "duration": 1084,
    "start_time": "2022-04-29T08:03:45.471Z"
   },
   {
    "duration": 1043,
    "start_time": "2022-04-29T08:04:17.911Z"
   },
   {
    "duration": 1038,
    "start_time": "2022-04-29T08:09:22.912Z"
   },
   {
    "duration": 1080,
    "start_time": "2022-04-29T08:09:55.672Z"
   },
   {
    "duration": 1043,
    "start_time": "2022-04-29T08:10:01.112Z"
   },
   {
    "duration": 1084,
    "start_time": "2022-04-29T08:10:06.072Z"
   },
   {
    "duration": 1177,
    "start_time": "2022-04-29T08:10:11.671Z"
   },
   {
    "duration": 1077,
    "start_time": "2022-04-29T08:10:16.872Z"
   },
   {
    "duration": 1276,
    "start_time": "2022-04-29T08:10:20.072Z"
   },
   {
    "duration": 1379,
    "start_time": "2022-04-29T08:10:38.072Z"
   },
   {
    "duration": 1200,
    "start_time": "2022-04-29T08:11:43.952Z"
   },
   {
    "duration": 1184,
    "start_time": "2022-04-29T08:11:50.871Z"
   },
   {
    "duration": 1338,
    "start_time": "2022-04-29T08:12:05.312Z"
   },
   {
    "duration": 1502,
    "start_time": "2022-04-29T08:12:17.951Z"
   },
   {
    "duration": 1217,
    "start_time": "2022-04-29T08:12:24.032Z"
   },
   {
    "duration": 1198,
    "start_time": "2022-04-29T08:12:35.652Z"
   },
   {
    "duration": 1160,
    "start_time": "2022-04-29T08:12:40.091Z"
   },
   {
    "duration": 939,
    "start_time": "2022-04-29T08:12:43.911Z"
   },
   {
    "duration": 1371,
    "start_time": "2022-04-29T08:12:57.832Z"
   },
   {
    "duration": 33,
    "start_time": "2022-04-29T08:12:59.204Z"
   },
   {
    "duration": 11,
    "start_time": "2022-04-29T08:12:59.238Z"
   },
   {
    "duration": 5,
    "start_time": "2022-04-29T08:12:59.251Z"
   },
   {
    "duration": 40,
    "start_time": "2022-04-29T08:12:59.258Z"
   },
   {
    "duration": 37,
    "start_time": "2022-04-29T08:12:59.347Z"
   },
   {
    "duration": 12,
    "start_time": "2022-04-29T08:12:59.385Z"
   },
   {
    "duration": 1069,
    "start_time": "2022-04-29T08:12:59.398Z"
   },
   {
    "duration": 759,
    "start_time": "2022-04-29T08:13:00.468Z"
   },
   {
    "duration": 1311,
    "start_time": "2022-04-29T08:13:01.229Z"
   },
   {
    "duration": 8,
    "start_time": "2022-04-29T08:13:02.542Z"
   },
   {
    "duration": 31,
    "start_time": "2022-04-29T08:13:02.551Z"
   },
   {
    "duration": 744,
    "start_time": "2022-04-29T08:13:02.651Z"
   },
   {
    "duration": 8,
    "start_time": "2022-04-29T08:13:03.397Z"
   },
   {
    "duration": 11,
    "start_time": "2022-04-29T08:13:03.407Z"
   },
   {
    "duration": 18251,
    "start_time": "2022-04-29T08:13:03.420Z"
   },
   {
    "duration": 1578,
    "start_time": "2022-04-29T08:13:21.672Z"
   },
   {
    "duration": 118,
    "start_time": "2022-04-29T08:13:23.252Z"
   },
   {
    "duration": 1005,
    "start_time": "2022-04-29T08:13:30.152Z"
   },
   {
    "duration": 1180,
    "start_time": "2022-04-29T08:13:32.471Z"
   },
   {
    "duration": 13,
    "start_time": "2022-04-29T08:15:09.301Z"
   },
   {
    "duration": 928,
    "start_time": "2022-04-29T08:17:57.629Z"
   },
   {
    "duration": 1312,
    "start_time": "2022-04-29T08:19:56.343Z"
   },
   {
    "duration": 12,
    "start_time": "2022-04-29T08:20:01.110Z"
   },
   {
    "duration": 1288,
    "start_time": "2022-04-29T08:20:35.960Z"
   },
   {
    "duration": 15,
    "start_time": "2022-04-29T08:20:39.297Z"
   },
   {
    "duration": 1440,
    "start_time": "2022-04-29T08:22:37.118Z"
   },
   {
    "duration": 13,
    "start_time": "2022-04-29T08:22:40.318Z"
   },
   {
    "duration": 1155,
    "start_time": "2022-04-29T08:22:45.998Z"
   },
   {
    "duration": 12,
    "start_time": "2022-04-29T08:23:07.318Z"
   },
   {
    "duration": 8314,
    "start_time": "2022-04-29T10:30:39.716Z"
   },
   {
    "duration": 32,
    "start_time": "2022-04-29T10:35:05.876Z"
   },
   {
    "duration": 452,
    "start_time": "2022-04-29T10:35:18.997Z"
   },
   {
    "duration": 15,
    "start_time": "2022-04-29T10:41:08.037Z"
   },
   {
    "duration": 7,
    "start_time": "2022-04-29T10:41:25.557Z"
   },
   {
    "duration": 7,
    "start_time": "2022-04-29T10:41:50.957Z"
   },
   {
    "duration": 8,
    "start_time": "2022-04-29T10:45:39.677Z"
   },
   {
    "duration": 15,
    "start_time": "2022-04-29T10:45:46.577Z"
   },
   {
    "duration": 8,
    "start_time": "2022-04-29T10:46:06.837Z"
   },
   {
    "duration": 14,
    "start_time": "2022-04-29T10:46:25.897Z"
   },
   {
    "duration": 14,
    "start_time": "2022-04-29T10:48:42.676Z"
   },
   {
    "duration": 14,
    "start_time": "2022-04-29T10:51:15.745Z"
   },
   {
    "duration": 136,
    "start_time": "2022-04-29T10:52:17.276Z"
   },
   {
    "duration": 73,
    "start_time": "2022-04-29T10:52:23.955Z"
   },
   {
    "duration": 16,
    "start_time": "2022-04-29T10:54:24.816Z"
   },
   {
    "duration": 15,
    "start_time": "2022-04-29T10:54:27.354Z"
   },
   {
    "duration": 1025,
    "start_time": "2022-04-29T11:03:07.435Z"
   },
   {
    "duration": 3753,
    "start_time": "2022-04-29T11:03:18.276Z"
   },
   {
    "duration": 3845,
    "start_time": "2022-04-29T11:04:51.862Z"
   },
   {
    "duration": 75,
    "start_time": "2022-05-01T10:16:44.978Z"
   },
   {
    "duration": 8,
    "start_time": "2022-05-01T10:16:53.497Z"
   },
   {
    "duration": 7,
    "start_time": "2022-05-01T10:17:01.797Z"
   },
   {
    "duration": 1616,
    "start_time": "2022-05-01T10:17:19.218Z"
   },
   {
    "duration": 69,
    "start_time": "2022-05-01T10:17:38.400Z"
   },
   {
    "duration": 8,
    "start_time": "2022-05-01T10:17:41.513Z"
   },
   {
    "duration": 1509,
    "start_time": "2022-05-01T10:17:50.214Z"
   },
   {
    "duration": 42,
    "start_time": "2022-05-01T10:17:51.725Z"
   },
   {
    "duration": 10,
    "start_time": "2022-05-01T10:17:51.768Z"
   },
   {
    "duration": 5,
    "start_time": "2022-05-01T10:17:51.780Z"
   },
   {
    "duration": 40,
    "start_time": "2022-05-01T10:17:51.787Z"
   },
   {
    "duration": 35,
    "start_time": "2022-05-01T10:17:51.828Z"
   },
   {
    "duration": 10,
    "start_time": "2022-05-01T10:17:51.901Z"
   },
   {
    "duration": 978,
    "start_time": "2022-05-01T10:17:51.913Z"
   },
   {
    "duration": 732,
    "start_time": "2022-05-01T10:17:52.893Z"
   },
   {
    "duration": 1256,
    "start_time": "2022-05-01T10:17:53.628Z"
   },
   {
    "duration": 7,
    "start_time": "2022-05-01T10:17:54.886Z"
   },
   {
    "duration": 33,
    "start_time": "2022-05-01T10:17:54.894Z"
   },
   {
    "duration": 737,
    "start_time": "2022-05-01T10:17:55.001Z"
   },
   {
    "duration": 7,
    "start_time": "2022-05-01T10:17:55.739Z"
   },
   {
    "duration": 10,
    "start_time": "2022-05-01T10:17:55.748Z"
   },
   {
    "duration": 18050,
    "start_time": "2022-05-01T10:17:55.760Z"
   },
   {
    "duration": 1593,
    "start_time": "2022-05-01T10:18:13.812Z"
   },
   {
    "duration": 102,
    "start_time": "2022-05-01T10:18:15.407Z"
   },
   {
    "duration": 3676,
    "start_time": "2022-05-01T10:18:15.510Z"
   },
   {
    "duration": 116,
    "start_time": "2022-05-01T10:18:19.188Z"
   },
   {
    "duration": 1093,
    "start_time": "2022-05-01T10:18:21.807Z"
   },
   {
    "duration": 1291,
    "start_time": "2022-05-01T10:18:25.514Z"
   },
   {
    "duration": 1304,
    "start_time": "2022-05-01T10:22:39.181Z"
   },
   {
    "duration": 18649,
    "start_time": "2022-05-01T10:24:42.315Z"
   },
   {
    "duration": 13,
    "start_time": "2022-05-01T10:26:00.934Z"
   },
   {
    "duration": 15,
    "start_time": "2022-05-01T10:26:20.597Z"
   },
   {
    "duration": 111,
    "start_time": "2022-05-01T10:26:46.302Z"
   },
   {
    "duration": 1644,
    "start_time": "2022-05-01T10:26:55.760Z"
   },
   {
    "duration": 1108,
    "start_time": "2022-05-01T10:26:58.296Z"
   },
   {
    "duration": 1528,
    "start_time": "2022-05-01T10:27:00.875Z"
   },
   {
    "duration": 1072,
    "start_time": "2022-05-01T10:27:07.335Z"
   },
   {
    "duration": 1533,
    "start_time": "2022-05-01T10:27:25.057Z"
   },
   {
    "duration": 37,
    "start_time": "2022-05-01T10:27:26.592Z"
   },
   {
    "duration": 12,
    "start_time": "2022-05-01T10:27:26.630Z"
   },
   {
    "duration": 4,
    "start_time": "2022-05-01T10:27:26.644Z"
   },
   {
    "duration": 77,
    "start_time": "2022-05-01T10:27:26.650Z"
   },
   {
    "duration": 35,
    "start_time": "2022-05-01T10:27:26.729Z"
   },
   {
    "duration": 12,
    "start_time": "2022-05-01T10:27:26.800Z"
   },
   {
    "duration": 1033,
    "start_time": "2022-05-01T10:27:26.814Z"
   },
   {
    "duration": 744,
    "start_time": "2022-05-01T10:27:27.849Z"
   },
   {
    "duration": 1279,
    "start_time": "2022-05-01T10:27:28.594Z"
   },
   {
    "duration": 6,
    "start_time": "2022-05-01T10:27:29.875Z"
   },
   {
    "duration": 33,
    "start_time": "2022-05-01T10:27:29.882Z"
   },
   {
    "duration": 753,
    "start_time": "2022-05-01T10:27:30.000Z"
   },
   {
    "duration": 8,
    "start_time": "2022-05-01T10:27:30.755Z"
   },
   {
    "duration": 15,
    "start_time": "2022-05-01T10:27:30.764Z"
   },
   {
    "duration": 18281,
    "start_time": "2022-05-01T10:27:30.781Z"
   },
   {
    "duration": 1242,
    "start_time": "2022-05-01T10:27:49.064Z"
   },
   {
    "duration": 98,
    "start_time": "2022-05-01T10:27:50.308Z"
   },
   {
    "duration": 1808,
    "start_time": "2022-05-01T10:27:50.408Z"
   },
   {
    "duration": 130,
    "start_time": "2022-05-01T10:27:52.218Z"
   },
   {
    "duration": 1029,
    "start_time": "2022-05-01T10:30:36.721Z"
   },
   {
    "duration": 188,
    "start_time": "2022-05-01T10:33:02.543Z"
   },
   {
    "duration": 1247,
    "start_time": "2022-05-01T10:33:10.300Z"
   },
   {
    "duration": 1350,
    "start_time": "2022-05-01T10:33:33.181Z"
   },
   {
    "duration": 1245,
    "start_time": "2022-05-01T10:33:48.341Z"
   },
   {
    "duration": 1363,
    "start_time": "2022-05-01T10:34:28.801Z"
   },
   {
    "duration": 1309,
    "start_time": "2022-05-01T10:34:38.622Z"
   },
   {
    "duration": 1526,
    "start_time": "2022-05-01T10:35:08.341Z"
   },
   {
    "duration": 1322,
    "start_time": "2022-05-01T10:35:20.381Z"
   },
   {
    "duration": 1312,
    "start_time": "2022-05-01T10:36:07.071Z"
   },
   {
    "duration": 1023,
    "start_time": "2022-05-01T10:36:32.101Z"
   },
   {
    "duration": 3270,
    "start_time": "2022-05-01T10:37:17.441Z"
   },
   {
    "duration": 1135,
    "start_time": "2022-05-01T10:37:41.149Z"
   },
   {
    "duration": 163,
    "start_time": "2022-05-01T10:38:55.549Z"
   },
   {
    "duration": 198,
    "start_time": "2022-05-01T10:39:03.223Z"
   },
   {
    "duration": 238,
    "start_time": "2022-05-01T10:39:10.262Z"
   },
   {
    "duration": 91,
    "start_time": "2022-05-01T10:39:31.928Z"
   },
   {
    "duration": 879,
    "start_time": "2022-05-01T10:40:18.584Z"
   },
   {
    "duration": 554,
    "start_time": "2022-05-01T10:40:38.982Z"
   },
   {
    "duration": 366,
    "start_time": "2022-05-01T10:40:43.160Z"
   },
   {
    "duration": 805,
    "start_time": "2022-05-01T10:40:56.069Z"
   },
   {
    "duration": 839,
    "start_time": "2022-05-01T10:41:06.186Z"
   },
   {
    "duration": 715,
    "start_time": "2022-05-01T10:41:17.550Z"
   },
   {
    "duration": 0,
    "start_time": "2022-05-01T10:45:06.089Z"
   },
   {
    "duration": 2642,
    "start_time": "2022-05-01T10:45:09.861Z"
   },
   {
    "duration": 807,
    "start_time": "2022-05-01T10:45:27.007Z"
   },
   {
    "duration": 948,
    "start_time": "2022-05-01T10:45:37.000Z"
   },
   {
    "duration": 1186,
    "start_time": "2022-05-01T10:45:49.481Z"
   },
   {
    "duration": 1686,
    "start_time": "2022-05-01T10:45:57.810Z"
   },
   {
    "duration": 1154,
    "start_time": "2022-05-01T10:46:51.022Z"
   },
   {
    "duration": 871,
    "start_time": "2022-05-01T10:47:42.703Z"
   },
   {
    "duration": 981,
    "start_time": "2022-05-01T10:48:50.042Z"
   },
   {
    "duration": 835,
    "start_time": "2022-05-01T10:48:57.782Z"
   },
   {
    "duration": 1158,
    "start_time": "2022-05-01T10:49:07.680Z"
   },
   {
    "duration": 193,
    "start_time": "2022-05-01T10:49:30.149Z"
   },
   {
    "duration": 1117,
    "start_time": "2022-05-01T10:49:40.930Z"
   },
   {
    "duration": 1141,
    "start_time": "2022-05-01T10:50:00.182Z"
   },
   {
    "duration": 1128,
    "start_time": "2022-05-01T10:50:34.730Z"
   },
   {
    "duration": 1124,
    "start_time": "2022-05-01T10:51:01.321Z"
   },
   {
    "duration": 1180,
    "start_time": "2022-05-01T10:51:14.416Z"
   },
   {
    "duration": 1142,
    "start_time": "2022-05-01T10:52:50.189Z"
   },
   {
    "duration": 1143,
    "start_time": "2022-05-01T10:53:02.081Z"
   },
   {
    "duration": 1140,
    "start_time": "2022-05-01T10:53:22.508Z"
   },
   {
    "duration": 1781,
    "start_time": "2022-05-01T10:53:35.961Z"
   },
   {
    "duration": 1176,
    "start_time": "2022-05-01T10:54:00.389Z"
   },
   {
    "duration": 1032,
    "start_time": "2022-05-01T10:54:19.802Z"
   },
   {
    "duration": 175,
    "start_time": "2022-05-01T10:56:03.001Z"
   },
   {
    "duration": 284,
    "start_time": "2022-05-01T11:00:10.141Z"
   },
   {
    "duration": 1079,
    "start_time": "2022-05-01T11:00:15.241Z"
   },
   {
    "duration": 960,
    "start_time": "2022-05-01T11:00:22.782Z"
   },
   {
    "duration": 1323,
    "start_time": "2022-05-01T11:00:38.822Z"
   },
   {
    "duration": 931,
    "start_time": "2022-05-01T11:00:51.821Z"
   },
   {
    "duration": 1273,
    "start_time": "2022-05-01T11:00:55.702Z"
   },
   {
    "duration": 1335,
    "start_time": "2022-05-01T11:01:03.181Z"
   },
   {
    "duration": 1316,
    "start_time": "2022-05-01T11:01:20.101Z"
   },
   {
    "duration": 4271,
    "start_time": "2022-05-01T11:03:27.321Z"
   },
   {
    "duration": 1413,
    "start_time": "2022-05-01T11:03:44.966Z"
   },
   {
    "duration": 1758,
    "start_time": "2022-05-01T11:07:56.246Z"
   },
   {
    "duration": 15,
    "start_time": "2022-05-01T11:12:05.781Z"
   },
   {
    "duration": 14,
    "start_time": "2022-05-01T11:12:12.220Z"
   },
   {
    "duration": 14,
    "start_time": "2022-05-01T11:12:17.302Z"
   },
   {
    "duration": 977,
    "start_time": "2022-05-01T11:12:48.809Z"
   },
   {
    "duration": 16,
    "start_time": "2022-05-01T11:13:01.241Z"
   },
   {
    "duration": 1871,
    "start_time": "2022-05-01T11:13:05.716Z"
   },
   {
    "duration": 1542,
    "start_time": "2022-05-01T11:13:43.061Z"
   },
   {
    "duration": 14,
    "start_time": "2022-05-01T11:13:57.689Z"
   },
   {
    "duration": 1600,
    "start_time": "2022-05-01T11:14:25.414Z"
   },
   {
    "duration": 14,
    "start_time": "2022-05-01T11:14:37.502Z"
   },
   {
    "duration": 1700,
    "start_time": "2022-05-01T11:14:40.262Z"
   },
   {
    "duration": 1730,
    "start_time": "2022-05-01T11:15:11.681Z"
   },
   {
    "duration": 1793,
    "start_time": "2022-05-01T11:15:17.261Z"
   },
   {
    "duration": 1841,
    "start_time": "2022-05-01T11:15:24.701Z"
   },
   {
    "duration": 210,
    "start_time": "2022-05-01T11:15:33.708Z"
   },
   {
    "duration": 1622,
    "start_time": "2022-05-01T11:15:36.389Z"
   },
   {
    "duration": 1651,
    "start_time": "2022-05-01T11:15:43.556Z"
   },
   {
    "duration": 233,
    "start_time": "2022-05-01T11:15:49.487Z"
   },
   {
    "duration": 1700,
    "start_time": "2022-05-01T11:15:55.560Z"
   },
   {
    "duration": 196,
    "start_time": "2022-05-01T11:17:22.168Z"
   },
   {
    "duration": 373,
    "start_time": "2022-05-01T11:18:09.462Z"
   },
   {
    "duration": 487,
    "start_time": "2022-05-01T11:18:18.888Z"
   },
   {
    "duration": 486,
    "start_time": "2022-05-01T11:18:43.701Z"
   },
   {
    "duration": 148,
    "start_time": "2022-05-01T11:19:07.721Z"
   },
   {
    "duration": 12,
    "start_time": "2022-05-01T11:19:12.940Z"
   },
   {
    "duration": 10,
    "start_time": "2022-05-01T11:19:19.880Z"
   },
   {
    "duration": 341,
    "start_time": "2022-05-01T11:19:29.920Z"
   },
   {
    "duration": 293,
    "start_time": "2022-05-01T11:19:50.369Z"
   },
   {
    "duration": 176,
    "start_time": "2022-05-01T11:20:53.040Z"
   },
   {
    "duration": 12,
    "start_time": "2022-05-01T11:23:50.401Z"
   },
   {
    "duration": 203,
    "start_time": "2022-05-01T11:23:58.261Z"
   },
   {
    "duration": 224,
    "start_time": "2022-05-01T11:24:25.828Z"
   },
   {
    "duration": 232,
    "start_time": "2022-05-01T11:24:32.134Z"
   },
   {
    "duration": 200,
    "start_time": "2022-05-01T11:24:39.620Z"
   },
   {
    "duration": 204,
    "start_time": "2022-05-01T11:26:33.330Z"
   },
   {
    "duration": 171,
    "start_time": "2022-05-01T11:29:31.741Z"
   },
   {
    "duration": 151,
    "start_time": "2022-05-01T11:29:38.541Z"
   },
   {
    "duration": 2452,
    "start_time": "2022-05-01T11:30:11.961Z"
   },
   {
    "duration": 1911,
    "start_time": "2022-05-01T11:32:41.250Z"
   },
   {
    "duration": 959,
    "start_time": "2022-05-01T11:55:43.770Z"
   },
   {
    "duration": 1401,
    "start_time": "2022-05-01T11:57:50.436Z"
   },
   {
    "duration": 945,
    "start_time": "2022-05-01T11:59:59.608Z"
   },
   {
    "duration": 1951,
    "start_time": "2022-05-01T12:01:33.122Z"
   },
   {
    "duration": 234,
    "start_time": "2022-05-01T12:02:31.310Z"
   },
   {
    "duration": 218,
    "start_time": "2022-05-01T12:02:40.484Z"
   },
   {
    "duration": 209,
    "start_time": "2022-05-01T12:03:05.268Z"
   },
   {
    "duration": 1978,
    "start_time": "2022-05-01T12:03:16.899Z"
   },
   {
    "duration": 1945,
    "start_time": "2022-05-01T12:03:24.143Z"
   },
   {
    "duration": 215,
    "start_time": "2022-05-01T12:04:09.200Z"
   },
   {
    "duration": 209,
    "start_time": "2022-05-01T12:05:02.468Z"
   },
   {
    "duration": 226,
    "start_time": "2022-05-01T12:06:40.761Z"
   },
   {
    "duration": 218,
    "start_time": "2022-05-01T12:07:12.341Z"
   },
   {
    "duration": 213,
    "start_time": "2022-05-01T12:07:19.481Z"
   },
   {
    "duration": 221,
    "start_time": "2022-05-01T12:08:40.361Z"
   },
   {
    "duration": 1876,
    "start_time": "2022-05-01T12:08:53.583Z"
   },
   {
    "duration": 830,
    "start_time": "2022-05-01T12:10:02.689Z"
   },
   {
    "duration": 212,
    "start_time": "2022-05-01T12:10:27.721Z"
   },
   {
    "duration": 215,
    "start_time": "2022-05-01T12:11:35.841Z"
   },
   {
    "duration": 2022,
    "start_time": "2022-05-01T12:11:44.749Z"
   },
   {
    "duration": 210,
    "start_time": "2022-05-01T12:12:13.501Z"
   },
   {
    "duration": 1853,
    "start_time": "2022-05-01T12:12:16.101Z"
   },
   {
    "duration": 2061,
    "start_time": "2022-05-01T12:12:21.860Z"
   },
   {
    "duration": 1464,
    "start_time": "2022-05-01T12:15:50.660Z"
   },
   {
    "duration": 31,
    "start_time": "2022-05-01T12:15:52.125Z"
   },
   {
    "duration": 10,
    "start_time": "2022-05-01T12:15:52.158Z"
   },
   {
    "duration": 5,
    "start_time": "2022-05-01T12:15:52.169Z"
   },
   {
    "duration": 58,
    "start_time": "2022-05-01T12:15:52.176Z"
   },
   {
    "duration": 74,
    "start_time": "2022-05-01T12:15:52.235Z"
   },
   {
    "duration": 11,
    "start_time": "2022-05-01T12:15:52.311Z"
   },
   {
    "duration": 1030,
    "start_time": "2022-05-01T12:15:52.323Z"
   },
   {
    "duration": 720,
    "start_time": "2022-05-01T12:15:53.355Z"
   },
   {
    "duration": 1303,
    "start_time": "2022-05-01T12:15:54.077Z"
   },
   {
    "duration": 6,
    "start_time": "2022-05-01T12:15:55.382Z"
   },
   {
    "duration": 29,
    "start_time": "2022-05-01T12:15:55.389Z"
   },
   {
    "duration": 1004,
    "start_time": "2022-05-01T12:15:55.420Z"
   },
   {
    "duration": 7,
    "start_time": "2022-05-01T12:15:56.427Z"
   },
   {
    "duration": 10,
    "start_time": "2022-05-01T12:15:56.435Z"
   },
   {
    "duration": 17924,
    "start_time": "2022-05-01T12:15:56.447Z"
   },
   {
    "duration": 1431,
    "start_time": "2022-05-01T12:16:14.373Z"
   },
   {
    "duration": 100,
    "start_time": "2022-05-01T12:16:15.806Z"
   },
   {
    "duration": 984,
    "start_time": "2022-05-01T12:16:15.908Z"
   },
   {
    "duration": 1952,
    "start_time": "2022-05-01T12:16:16.894Z"
   },
   {
    "duration": 14,
    "start_time": "2022-05-01T12:16:18.848Z"
   },
   {
    "duration": 1892,
    "start_time": "2022-05-01T12:16:42.474Z"
   },
   {
    "duration": 1723,
    "start_time": "2022-05-01T12:17:04.881Z"
   },
   {
    "duration": 48,
    "start_time": "2022-05-01T12:17:06.606Z"
   },
   {
    "duration": 10,
    "start_time": "2022-05-01T12:17:06.656Z"
   },
   {
    "duration": 7,
    "start_time": "2022-05-01T12:17:06.667Z"
   },
   {
    "duration": 49,
    "start_time": "2022-05-01T12:17:06.676Z"
   },
   {
    "duration": 37,
    "start_time": "2022-05-01T12:17:06.726Z"
   },
   {
    "duration": 46,
    "start_time": "2022-05-01T12:17:06.765Z"
   },
   {
    "duration": 1060,
    "start_time": "2022-05-01T12:17:06.813Z"
   },
   {
    "duration": 771,
    "start_time": "2022-05-01T12:17:07.874Z"
   },
   {
    "duration": 1333,
    "start_time": "2022-05-01T12:17:08.647Z"
   },
   {
    "duration": 6,
    "start_time": "2022-05-01T12:17:09.982Z"
   },
   {
    "duration": 36,
    "start_time": "2022-05-01T12:17:09.990Z"
   },
   {
    "duration": 792,
    "start_time": "2022-05-01T12:17:10.101Z"
   },
   {
    "duration": 8,
    "start_time": "2022-05-01T12:17:10.899Z"
   },
   {
    "duration": 10,
    "start_time": "2022-05-01T12:17:10.908Z"
   },
   {
    "duration": 18685,
    "start_time": "2022-05-01T12:17:10.919Z"
   },
   {
    "duration": 1299,
    "start_time": "2022-05-01T12:17:29.605Z"
   },
   {
    "duration": 103,
    "start_time": "2022-05-01T12:17:30.906Z"
   },
   {
    "duration": 968,
    "start_time": "2022-05-01T12:17:31.011Z"
   },
   {
    "duration": 1940,
    "start_time": "2022-05-01T12:17:31.980Z"
   },
   {
    "duration": 14,
    "start_time": "2022-05-01T12:17:33.921Z"
   },
   {
    "duration": 1714,
    "start_time": "2022-05-01T12:17:50.537Z"
   },
   {
    "duration": 1755,
    "start_time": "2022-05-01T12:18:01.038Z"
   },
   {
    "duration": 1602,
    "start_time": "2022-05-01T12:18:12.085Z"
   },
   {
    "duration": 1601,
    "start_time": "2022-05-01T12:18:21.085Z"
   },
   {
    "duration": 2682,
    "start_time": "2022-05-01T12:19:05.467Z"
   },
   {
    "duration": 1751,
    "start_time": "2022-05-01T12:19:35.137Z"
   },
   {
    "duration": 1563,
    "start_time": "2022-05-01T12:19:41.541Z"
   },
   {
    "duration": 33,
    "start_time": "2022-05-01T12:19:43.105Z"
   },
   {
    "duration": 10,
    "start_time": "2022-05-01T12:19:43.140Z"
   },
   {
    "duration": 8,
    "start_time": "2022-05-01T12:19:43.151Z"
   },
   {
    "duration": 59,
    "start_time": "2022-05-01T12:19:43.161Z"
   },
   {
    "duration": 34,
    "start_time": "2022-05-01T12:19:43.221Z"
   },
   {
    "duration": 11,
    "start_time": "2022-05-01T12:19:43.256Z"
   },
   {
    "duration": 995,
    "start_time": "2022-05-01T12:19:43.299Z"
   },
   {
    "duration": 714,
    "start_time": "2022-05-01T12:19:44.295Z"
   },
   {
    "duration": 1262,
    "start_time": "2022-05-01T12:19:45.010Z"
   },
   {
    "duration": 6,
    "start_time": "2022-05-01T12:19:46.274Z"
   },
   {
    "duration": 33,
    "start_time": "2022-05-01T12:19:46.281Z"
   },
   {
    "duration": 811,
    "start_time": "2022-05-01T12:19:46.315Z"
   },
   {
    "duration": 8,
    "start_time": "2022-05-01T12:19:47.128Z"
   },
   {
    "duration": 9,
    "start_time": "2022-05-01T12:19:47.137Z"
   },
   {
    "duration": 2227,
    "start_time": "2022-05-01T12:20:01.991Z"
   },
   {
    "duration": 33,
    "start_time": "2022-05-01T12:20:04.220Z"
   },
   {
    "duration": 10,
    "start_time": "2022-05-01T12:20:04.254Z"
   },
   {
    "duration": 5,
    "start_time": "2022-05-01T12:20:04.266Z"
   },
   {
    "duration": 52,
    "start_time": "2022-05-01T12:20:04.273Z"
   },
   {
    "duration": 35,
    "start_time": "2022-05-01T12:20:04.326Z"
   },
   {
    "duration": 49,
    "start_time": "2022-05-01T12:20:04.362Z"
   },
   {
    "duration": 1029,
    "start_time": "2022-05-01T12:20:04.412Z"
   },
   {
    "duration": 713,
    "start_time": "2022-05-01T12:20:05.443Z"
   },
   {
    "duration": 1319,
    "start_time": "2022-05-01T12:20:06.158Z"
   },
   {
    "duration": 7,
    "start_time": "2022-05-01T12:20:07.478Z"
   },
   {
    "duration": 25,
    "start_time": "2022-05-01T12:20:07.486Z"
   },
   {
    "duration": 843,
    "start_time": "2022-05-01T12:20:07.514Z"
   },
   {
    "duration": 8,
    "start_time": "2022-05-01T12:20:08.359Z"
   },
   {
    "duration": 9,
    "start_time": "2022-05-01T12:20:08.368Z"
   },
   {
    "duration": 19815,
    "start_time": "2022-05-01T12:20:08.379Z"
   },
   {
    "duration": 1315,
    "start_time": "2022-05-01T12:20:28.196Z"
   },
   {
    "duration": 13,
    "start_time": "2022-05-01T12:20:29.600Z"
   },
   {
    "duration": 1022,
    "start_time": "2022-05-01T12:20:29.615Z"
   },
   {
    "duration": 2176,
    "start_time": "2022-05-01T12:20:30.639Z"
   },
   {
    "duration": 14,
    "start_time": "2022-05-01T12:20:32.816Z"
   },
   {
    "duration": 288,
    "start_time": "2022-05-01T12:27:04.978Z"
   },
   {
    "duration": 1773,
    "start_time": "2022-05-01T12:27:10.372Z"
   },
   {
    "duration": 1776,
    "start_time": "2022-05-01T12:27:55.802Z"
   },
   {
    "duration": 346,
    "start_time": "2022-05-01T12:28:36.158Z"
   },
   {
    "duration": 17,
    "start_time": "2022-05-01T12:28:48.040Z"
   },
   {
    "duration": 1770,
    "start_time": "2022-05-01T12:29:05.619Z"
   },
   {
    "duration": 294,
    "start_time": "2022-05-01T12:29:52.858Z"
   },
   {
    "duration": 1722,
    "start_time": "2022-05-01T12:53:27.567Z"
   },
   {
    "duration": 295,
    "start_time": "2022-05-01T12:57:01.037Z"
   },
   {
    "duration": 313,
    "start_time": "2022-05-01T12:57:41.126Z"
   },
   {
    "duration": 1584,
    "start_time": "2022-05-01T13:01:18.086Z"
   },
   {
    "duration": 1477,
    "start_time": "2022-05-01T13:01:23.678Z"
   },
   {
    "duration": 199,
    "start_time": "2022-05-01T13:02:14.245Z"
   },
   {
    "duration": 198,
    "start_time": "2022-05-01T13:02:22.628Z"
   },
   {
    "duration": 293,
    "start_time": "2022-05-01T13:02:34.346Z"
   },
   {
    "duration": 183,
    "start_time": "2022-05-01T13:06:44.646Z"
   },
   {
    "duration": 184,
    "start_time": "2022-05-01T13:07:38.758Z"
   },
   {
    "duration": 1726,
    "start_time": "2022-05-01T13:07:46.537Z"
   },
   {
    "duration": 1941,
    "start_time": "2022-05-01T13:07:55.745Z"
   },
   {
    "duration": 1947,
    "start_time": "2022-05-01T13:08:14.908Z"
   },
   {
    "duration": 1806,
    "start_time": "2022-05-01T13:08:27.220Z"
   },
   {
    "duration": 1617,
    "start_time": "2022-05-01T13:08:39.061Z"
   },
   {
    "duration": 42,
    "start_time": "2022-05-01T13:08:40.680Z"
   },
   {
    "duration": 12,
    "start_time": "2022-05-01T13:08:40.723Z"
   },
   {
    "duration": 6,
    "start_time": "2022-05-01T13:08:40.736Z"
   },
   {
    "duration": 70,
    "start_time": "2022-05-01T13:08:40.743Z"
   },
   {
    "duration": 35,
    "start_time": "2022-05-01T13:08:40.815Z"
   },
   {
    "duration": 12,
    "start_time": "2022-05-01T13:08:40.851Z"
   },
   {
    "duration": 1143,
    "start_time": "2022-05-01T13:08:40.864Z"
   },
   {
    "duration": 713,
    "start_time": "2022-05-01T13:08:42.008Z"
   },
   {
    "duration": 1256,
    "start_time": "2022-05-01T13:08:42.724Z"
   },
   {
    "duration": 6,
    "start_time": "2022-05-01T13:08:43.982Z"
   },
   {
    "duration": 30,
    "start_time": "2022-05-01T13:08:43.990Z"
   },
   {
    "duration": 728,
    "start_time": "2022-05-01T13:08:44.100Z"
   },
   {
    "duration": 8,
    "start_time": "2022-05-01T13:08:44.830Z"
   },
   {
    "duration": 9,
    "start_time": "2022-05-01T13:08:44.839Z"
   },
   {
    "duration": 1412,
    "start_time": "2022-05-01T13:09:02.220Z"
   },
   {
    "duration": 31,
    "start_time": "2022-05-01T13:09:03.634Z"
   },
   {
    "duration": 11,
    "start_time": "2022-05-01T13:09:03.666Z"
   },
   {
    "duration": 3,
    "start_time": "2022-05-01T13:09:03.678Z"
   },
   {
    "duration": 49,
    "start_time": "2022-05-01T13:09:03.683Z"
   },
   {
    "duration": 71,
    "start_time": "2022-05-01T13:09:03.734Z"
   },
   {
    "duration": 11,
    "start_time": "2022-05-01T13:09:03.807Z"
   },
   {
    "duration": 1119,
    "start_time": "2022-05-01T13:09:03.819Z"
   },
   {
    "duration": 722,
    "start_time": "2022-05-01T13:09:04.940Z"
   },
   {
    "duration": 1277,
    "start_time": "2022-05-01T13:09:05.664Z"
   },
   {
    "duration": 9,
    "start_time": "2022-05-01T13:09:06.942Z"
   },
   {
    "duration": 26,
    "start_time": "2022-05-01T13:09:06.952Z"
   },
   {
    "duration": 792,
    "start_time": "2022-05-01T13:09:06.979Z"
   },
   {
    "duration": 8,
    "start_time": "2022-05-01T13:09:07.773Z"
   },
   {
    "duration": 21,
    "start_time": "2022-05-01T13:09:07.783Z"
   },
   {
    "duration": 18242,
    "start_time": "2022-05-01T13:09:07.806Z"
   },
   {
    "duration": 1255,
    "start_time": "2022-05-01T13:09:26.050Z"
   },
   {
    "duration": 97,
    "start_time": "2022-05-01T13:09:27.308Z"
   },
   {
    "duration": 971,
    "start_time": "2022-05-01T13:09:27.406Z"
   },
   {
    "duration": 1979,
    "start_time": "2022-05-01T13:09:28.378Z"
   },
   {
    "duration": 14,
    "start_time": "2022-05-01T13:09:30.359Z"
   },
   {
    "duration": 1919,
    "start_time": "2022-05-01T13:09:30.375Z"
   },
   {
    "duration": 1895,
    "start_time": "2022-05-01T13:09:39.996Z"
   },
   {
    "duration": 1848,
    "start_time": "2022-05-01T13:09:52.708Z"
   },
   {
    "duration": 1970,
    "start_time": "2022-05-01T13:10:00.250Z"
   },
   {
    "duration": 1943,
    "start_time": "2022-05-01T13:10:10.049Z"
   },
   {
    "duration": 305,
    "start_time": "2022-05-01T13:10:46.563Z"
   },
   {
    "duration": 179,
    "start_time": "2022-05-01T13:10:52.703Z"
   },
   {
    "duration": 212,
    "start_time": "2022-05-01T13:10:56.549Z"
   },
   {
    "duration": 227,
    "start_time": "2022-05-01T13:12:00.081Z"
   },
   {
    "duration": 1966,
    "start_time": "2022-05-01T13:12:12.901Z"
   },
   {
    "duration": 1908,
    "start_time": "2022-05-01T13:12:24.121Z"
   },
   {
    "duration": 1947,
    "start_time": "2022-05-01T13:12:32.687Z"
   },
   {
    "duration": 1931,
    "start_time": "2022-05-01T13:12:42.061Z"
   },
   {
    "duration": 1907,
    "start_time": "2022-05-01T13:12:52.582Z"
   },
   {
    "duration": 807,
    "start_time": "2022-05-01T13:13:46.296Z"
   },
   {
    "duration": 2371,
    "start_time": "2022-05-01T13:13:50.388Z"
   },
   {
    "duration": 2284,
    "start_time": "2022-05-01T13:14:01.955Z"
   },
   {
    "duration": 1629,
    "start_time": "2022-05-01T13:14:28.750Z"
   },
   {
    "duration": 1725,
    "start_time": "2022-05-01T13:15:46.969Z"
   },
   {
    "duration": 158,
    "start_time": "2022-05-01T13:18:35.329Z"
   },
   {
    "duration": 1945,
    "start_time": "2022-05-01T13:19:34.721Z"
   },
   {
    "duration": 1776,
    "start_time": "2022-05-01T13:22:43.322Z"
   },
   {
    "duration": 1828,
    "start_time": "2022-05-01T13:23:04.722Z"
   },
   {
    "duration": 1832,
    "start_time": "2022-05-01T13:23:43.702Z"
   },
   {
    "duration": 1846,
    "start_time": "2022-05-01T13:24:12.302Z"
   },
   {
    "duration": 237,
    "start_time": "2022-05-01T13:24:32.597Z"
   },
   {
    "duration": 1799,
    "start_time": "2022-05-01T13:24:34.122Z"
   },
   {
    "duration": 214,
    "start_time": "2022-05-01T13:25:34.301Z"
   },
   {
    "duration": 1890,
    "start_time": "2022-05-01T13:26:50.544Z"
   },
   {
    "duration": 201,
    "start_time": "2022-05-01T13:27:42.349Z"
   },
   {
    "duration": 208,
    "start_time": "2022-05-01T13:28:19.002Z"
   },
   {
    "duration": 1862,
    "start_time": "2022-05-01T13:28:22.600Z"
   },
   {
    "duration": 1902,
    "start_time": "2022-05-01T14:00:53.902Z"
   },
   {
    "duration": 12,
    "start_time": "2022-05-01T14:04:58.092Z"
   },
   {
    "duration": 18,
    "start_time": "2022-05-01T14:05:01.068Z"
   },
   {
    "duration": 6,
    "start_time": "2022-05-01T14:05:09.861Z"
   },
   {
    "duration": 9,
    "start_time": "2022-05-01T14:05:32.252Z"
   },
   {
    "duration": 11,
    "start_time": "2022-05-01T14:05:39.293Z"
   },
   {
    "duration": 12,
    "start_time": "2022-05-01T14:05:43.903Z"
   },
   {
    "duration": 7,
    "start_time": "2022-05-01T14:06:16.032Z"
   },
   {
    "duration": 7,
    "start_time": "2022-05-01T14:06:26.163Z"
   },
   {
    "duration": 7,
    "start_time": "2022-05-01T14:06:46.783Z"
   },
   {
    "duration": 7,
    "start_time": "2022-05-01T14:06:59.556Z"
   },
   {
    "duration": 9,
    "start_time": "2022-05-01T14:17:19.304Z"
   },
   {
    "duration": 9,
    "start_time": "2022-05-01T14:17:25.853Z"
   },
   {
    "duration": 1846,
    "start_time": "2022-05-01T14:17:33.976Z"
   },
   {
    "duration": 32,
    "start_time": "2022-05-01T14:17:35.824Z"
   },
   {
    "duration": 10,
    "start_time": "2022-05-01T14:17:35.858Z"
   },
   {
    "duration": 6,
    "start_time": "2022-05-01T14:17:35.870Z"
   },
   {
    "duration": 59,
    "start_time": "2022-05-01T14:17:35.878Z"
   },
   {
    "duration": 6,
    "start_time": "2022-05-01T14:17:35.938Z"
   },
   {
    "duration": 9,
    "start_time": "2022-05-01T14:17:35.945Z"
   },
   {
    "duration": 77,
    "start_time": "2022-05-01T14:17:35.955Z"
   },
   {
    "duration": 11,
    "start_time": "2022-05-01T14:17:36.034Z"
   },
   {
    "duration": 1178,
    "start_time": "2022-05-01T14:17:36.046Z"
   },
   {
    "duration": 760,
    "start_time": "2022-05-01T14:17:37.225Z"
   },
   {
    "duration": 1345,
    "start_time": "2022-05-01T14:17:37.987Z"
   },
   {
    "duration": 7,
    "start_time": "2022-05-01T14:17:39.334Z"
   },
   {
    "duration": 65,
    "start_time": "2022-05-01T14:17:39.344Z"
   },
   {
    "duration": 772,
    "start_time": "2022-05-01T14:17:39.411Z"
   },
   {
    "duration": 7,
    "start_time": "2022-05-01T14:17:40.184Z"
   },
   {
    "duration": 15,
    "start_time": "2022-05-01T14:17:40.202Z"
   },
   {
    "duration": 1579,
    "start_time": "2022-05-01T14:17:59.688Z"
   },
   {
    "duration": 35,
    "start_time": "2022-05-01T14:18:01.269Z"
   },
   {
    "duration": 14,
    "start_time": "2022-05-01T14:18:01.308Z"
   },
   {
    "duration": 7,
    "start_time": "2022-05-01T14:18:01.324Z"
   },
   {
    "duration": 88,
    "start_time": "2022-05-01T14:18:01.333Z"
   },
   {
    "duration": 7,
    "start_time": "2022-05-01T14:18:01.422Z"
   },
   {
    "duration": 10,
    "start_time": "2022-05-01T14:18:01.430Z"
   },
   {
    "duration": 48,
    "start_time": "2022-05-01T14:18:01.442Z"
   },
   {
    "duration": 24,
    "start_time": "2022-05-01T14:18:01.492Z"
   },
   {
    "duration": 1176,
    "start_time": "2022-05-01T14:18:01.519Z"
   },
   {
    "duration": 752,
    "start_time": "2022-05-01T14:18:02.697Z"
   },
   {
    "duration": 1398,
    "start_time": "2022-05-01T14:18:03.451Z"
   },
   {
    "duration": 7,
    "start_time": "2022-05-01T14:18:04.850Z"
   },
   {
    "duration": 52,
    "start_time": "2022-05-01T14:18:04.858Z"
   },
   {
    "duration": 806,
    "start_time": "2022-05-01T14:18:04.912Z"
   },
   {
    "duration": 9,
    "start_time": "2022-05-01T14:18:05.721Z"
   },
   {
    "duration": 9,
    "start_time": "2022-05-01T14:18:05.731Z"
   },
   {
    "duration": 19773,
    "start_time": "2022-05-01T14:18:05.741Z"
   },
   {
    "duration": 908,
    "start_time": "2022-05-01T14:18:25.516Z"
   },
   {
    "duration": 15,
    "start_time": "2022-05-01T14:18:26.500Z"
   },
   {
    "duration": 1043,
    "start_time": "2022-05-01T14:18:26.520Z"
   },
   {
    "duration": 2198,
    "start_time": "2022-05-01T14:18:27.565Z"
   },
   {
    "duration": 13,
    "start_time": "2022-05-01T14:18:29.764Z"
   },
   {
    "duration": 1696,
    "start_time": "2022-05-01T14:19:41.984Z"
   },
   {
    "duration": 110,
    "start_time": "2022-05-01T14:20:09.253Z"
   },
   {
    "duration": 1855,
    "start_time": "2022-05-01T14:20:15.382Z"
   },
   {
    "duration": 6,
    "start_time": "2022-05-01T14:30:29.570Z"
   },
   {
    "duration": 6,
    "start_time": "2022-05-01T14:30:35.244Z"
   },
   {
    "duration": 15,
    "start_time": "2022-05-01T14:30:38.210Z"
   },
   {
    "duration": 7,
    "start_time": "2022-05-01T14:30:41.133Z"
   },
   {
    "duration": 16,
    "start_time": "2022-05-01T14:30:50.797Z"
   },
   {
    "duration": 9,
    "start_time": "2022-05-01T14:30:53.934Z"
   },
   {
    "duration": 5,
    "start_time": "2022-05-01T14:31:10.933Z"
   },
   {
    "duration": 1571,
    "start_time": "2022-05-01T14:43:11.812Z"
   },
   {
    "duration": 33,
    "start_time": "2022-05-01T14:43:13.385Z"
   },
   {
    "duration": 10,
    "start_time": "2022-05-01T14:43:13.420Z"
   },
   {
    "duration": 5,
    "start_time": "2022-05-01T14:43:13.432Z"
   },
   {
    "duration": 83,
    "start_time": "2022-05-01T14:43:13.439Z"
   },
   {
    "duration": 7,
    "start_time": "2022-05-01T14:43:13.523Z"
   },
   {
    "duration": 8,
    "start_time": "2022-05-01T14:43:13.531Z"
   },
   {
    "duration": 73,
    "start_time": "2022-05-01T14:43:13.541Z"
   },
   {
    "duration": 12,
    "start_time": "2022-05-01T14:43:13.615Z"
   },
   {
    "duration": 116,
    "start_time": "2022-05-01T14:43:13.629Z"
   },
   {
    "duration": 0,
    "start_time": "2022-05-01T14:43:13.747Z"
   },
   {
    "duration": 0,
    "start_time": "2022-05-01T14:43:13.749Z"
   },
   {
    "duration": 0,
    "start_time": "2022-05-01T14:43:13.750Z"
   },
   {
    "duration": 0,
    "start_time": "2022-05-01T14:43:13.752Z"
   },
   {
    "duration": 0,
    "start_time": "2022-05-01T14:43:13.753Z"
   },
   {
    "duration": 0,
    "start_time": "2022-05-01T14:43:13.754Z"
   },
   {
    "duration": 0,
    "start_time": "2022-05-01T14:43:13.755Z"
   },
   {
    "duration": 0,
    "start_time": "2022-05-01T14:43:13.756Z"
   },
   {
    "duration": 0,
    "start_time": "2022-05-01T14:43:13.758Z"
   },
   {
    "duration": 0,
    "start_time": "2022-05-01T14:43:13.759Z"
   },
   {
    "duration": 0,
    "start_time": "2022-05-01T14:43:13.760Z"
   },
   {
    "duration": 0,
    "start_time": "2022-05-01T14:43:13.761Z"
   },
   {
    "duration": 0,
    "start_time": "2022-05-01T14:43:13.764Z"
   },
   {
    "duration": 0,
    "start_time": "2022-05-01T14:43:13.765Z"
   },
   {
    "duration": 1596,
    "start_time": "2022-05-01T14:43:50.402Z"
   },
   {
    "duration": 43,
    "start_time": "2022-05-01T14:43:52.000Z"
   },
   {
    "duration": 13,
    "start_time": "2022-05-01T14:43:52.044Z"
   },
   {
    "duration": 5,
    "start_time": "2022-05-01T14:43:52.060Z"
   },
   {
    "duration": 66,
    "start_time": "2022-05-01T14:43:52.066Z"
   },
   {
    "duration": 7,
    "start_time": "2022-05-01T14:43:52.133Z"
   },
   {
    "duration": 7,
    "start_time": "2022-05-01T14:43:52.142Z"
   },
   {
    "duration": 70,
    "start_time": "2022-05-01T14:43:52.152Z"
   },
   {
    "duration": 11,
    "start_time": "2022-05-01T14:43:52.224Z"
   },
   {
    "duration": 119,
    "start_time": "2022-05-01T14:43:52.237Z"
   },
   {
    "duration": 0,
    "start_time": "2022-05-01T14:43:52.358Z"
   },
   {
    "duration": 0,
    "start_time": "2022-05-01T14:43:52.359Z"
   },
   {
    "duration": 0,
    "start_time": "2022-05-01T14:43:52.360Z"
   },
   {
    "duration": 0,
    "start_time": "2022-05-01T14:43:52.361Z"
   },
   {
    "duration": 0,
    "start_time": "2022-05-01T14:43:52.362Z"
   },
   {
    "duration": 0,
    "start_time": "2022-05-01T14:43:52.363Z"
   },
   {
    "duration": 0,
    "start_time": "2022-05-01T14:43:52.364Z"
   },
   {
    "duration": 0,
    "start_time": "2022-05-01T14:43:52.366Z"
   },
   {
    "duration": 0,
    "start_time": "2022-05-01T14:43:52.366Z"
   },
   {
    "duration": 0,
    "start_time": "2022-05-01T14:43:52.367Z"
   },
   {
    "duration": 0,
    "start_time": "2022-05-01T14:43:52.368Z"
   },
   {
    "duration": 0,
    "start_time": "2022-05-01T14:43:52.369Z"
   },
   {
    "duration": 0,
    "start_time": "2022-05-01T14:43:52.370Z"
   },
   {
    "duration": 0,
    "start_time": "2022-05-01T14:43:52.371Z"
   },
   {
    "duration": 1096,
    "start_time": "2022-05-01T14:44:18.248Z"
   },
   {
    "duration": 1391,
    "start_time": "2022-05-01T14:44:41.027Z"
   },
   {
    "duration": 31,
    "start_time": "2022-05-01T14:44:42.420Z"
   },
   {
    "duration": 10,
    "start_time": "2022-05-01T14:44:42.452Z"
   },
   {
    "duration": 3,
    "start_time": "2022-05-01T14:44:42.464Z"
   },
   {
    "duration": 53,
    "start_time": "2022-05-01T14:44:42.468Z"
   },
   {
    "duration": 6,
    "start_time": "2022-05-01T14:44:42.522Z"
   },
   {
    "duration": 6,
    "start_time": "2022-05-01T14:44:42.529Z"
   },
   {
    "duration": 70,
    "start_time": "2022-05-01T14:44:42.536Z"
   },
   {
    "duration": 11,
    "start_time": "2022-05-01T14:44:42.607Z"
   },
   {
    "duration": 1132,
    "start_time": "2022-05-01T14:44:42.621Z"
   },
   {
    "duration": 747,
    "start_time": "2022-05-01T14:44:43.755Z"
   },
   {
    "duration": 1329,
    "start_time": "2022-05-01T14:44:44.504Z"
   },
   {
    "duration": 8,
    "start_time": "2022-05-01T14:44:45.835Z"
   },
   {
    "duration": 28,
    "start_time": "2022-05-01T14:44:45.844Z"
   },
   {
    "duration": 756,
    "start_time": "2022-05-01T14:44:45.901Z"
   },
   {
    "duration": 7,
    "start_time": "2022-05-01T14:44:46.659Z"
   },
   {
    "duration": 10,
    "start_time": "2022-05-01T14:44:46.667Z"
   },
   {
    "duration": 17688,
    "start_time": "2022-05-01T14:44:46.678Z"
   },
   {
    "duration": 1238,
    "start_time": "2022-05-01T14:45:04.367Z"
   },
   {
    "duration": 101,
    "start_time": "2022-05-01T14:45:05.608Z"
   },
   {
    "duration": 952,
    "start_time": "2022-05-01T14:45:05.711Z"
   },
   {
    "duration": 1919,
    "start_time": "2022-05-01T14:45:06.665Z"
   },
   {
    "duration": 22,
    "start_time": "2022-05-01T14:45:08.585Z"
   },
   {
    "duration": 1381,
    "start_time": "2022-05-01T15:04:45.205Z"
   },
   {
    "duration": 1411,
    "start_time": "2022-05-01T15:04:58.447Z"
   },
   {
    "duration": 32,
    "start_time": "2022-05-01T15:04:59.861Z"
   },
   {
    "duration": 11,
    "start_time": "2022-05-01T15:04:59.894Z"
   },
   {
    "duration": 4,
    "start_time": "2022-05-01T15:04:59.907Z"
   },
   {
    "duration": 87,
    "start_time": "2022-05-01T15:04:59.914Z"
   },
   {
    "duration": 8,
    "start_time": "2022-05-01T15:05:00.003Z"
   },
   {
    "duration": 13,
    "start_time": "2022-05-01T15:05:00.012Z"
   },
   {
    "duration": 34,
    "start_time": "2022-05-01T15:05:00.027Z"
   },
   {
    "duration": 10,
    "start_time": "2022-05-01T15:05:00.063Z"
   },
   {
    "duration": 1146,
    "start_time": "2022-05-01T15:05:00.075Z"
   },
   {
    "duration": 740,
    "start_time": "2022-05-01T15:05:01.223Z"
   },
   {
    "duration": 1344,
    "start_time": "2022-05-01T15:05:01.965Z"
   },
   {
    "duration": 7,
    "start_time": "2022-05-01T15:05:03.310Z"
   },
   {
    "duration": 83,
    "start_time": "2022-05-01T15:05:03.319Z"
   },
   {
    "duration": 734,
    "start_time": "2022-05-01T15:05:03.404Z"
   },
   {
    "duration": 8,
    "start_time": "2022-05-01T15:05:04.140Z"
   },
   {
    "duration": 12,
    "start_time": "2022-05-01T15:05:04.149Z"
   },
   {
    "duration": 18012,
    "start_time": "2022-05-01T15:05:04.162Z"
   },
   {
    "duration": 1426,
    "start_time": "2022-05-01T15:05:22.175Z"
   },
   {
    "duration": 14,
    "start_time": "2022-05-01T15:05:23.603Z"
   },
   {
    "duration": 959,
    "start_time": "2022-05-01T15:05:23.618Z"
   },
   {
    "duration": 1917,
    "start_time": "2022-05-01T15:05:24.578Z"
   },
   {
    "duration": 14,
    "start_time": "2022-05-01T15:05:26.499Z"
   },
   {
    "duration": 69,
    "start_time": "2022-05-02T07:37:11.092Z"
   },
   {
    "duration": 1710,
    "start_time": "2022-05-02T07:37:15.846Z"
   },
   {
    "duration": 27,
    "start_time": "2022-05-02T07:37:17.559Z"
   },
   {
    "duration": 14,
    "start_time": "2022-05-02T07:37:17.588Z"
   },
   {
    "duration": 13,
    "start_time": "2022-05-02T07:37:17.604Z"
   },
   {
    "duration": 67,
    "start_time": "2022-05-02T07:37:17.620Z"
   },
   {
    "duration": 7,
    "start_time": "2022-05-02T07:37:17.689Z"
   },
   {
    "duration": 57,
    "start_time": "2022-05-02T07:37:17.697Z"
   },
   {
    "duration": 39,
    "start_time": "2022-05-02T07:37:17.756Z"
   },
   {
    "duration": 13,
    "start_time": "2022-05-02T07:37:17.796Z"
   },
   {
    "duration": 1540,
    "start_time": "2022-05-02T07:37:17.811Z"
   },
   {
    "duration": 957,
    "start_time": "2022-05-02T07:37:19.352Z"
   },
   {
    "duration": 1917,
    "start_time": "2022-05-02T07:37:20.310Z"
   },
   {
    "duration": 8,
    "start_time": "2022-05-02T07:37:22.229Z"
   },
   {
    "duration": 61,
    "start_time": "2022-05-02T07:37:22.241Z"
   },
   {
    "duration": 1155,
    "start_time": "2022-05-02T07:37:22.304Z"
   },
   {
    "duration": 10,
    "start_time": "2022-05-02T07:37:23.462Z"
   },
   {
    "duration": 60,
    "start_time": "2022-05-02T07:37:23.473Z"
   },
   {
    "duration": 25547,
    "start_time": "2022-05-02T07:37:23.535Z"
   },
   {
    "duration": 1376,
    "start_time": "2022-05-02T07:37:49.084Z"
   },
   {
    "duration": 18,
    "start_time": "2022-05-02T07:37:50.462Z"
   },
   {
    "duration": 1126,
    "start_time": "2022-05-02T07:37:50.482Z"
   },
   {
    "duration": 2230,
    "start_time": "2022-05-02T07:37:51.609Z"
   },
   {
    "duration": 30,
    "start_time": "2022-05-02T07:37:53.841Z"
   },
   {
    "duration": 4015,
    "start_time": "2022-05-02T07:41:18.091Z"
   },
   {
    "duration": 1666,
    "start_time": "2022-05-02T07:41:48.792Z"
   },
   {
    "duration": 1695,
    "start_time": "2022-05-02T07:42:08.360Z"
   },
   {
    "duration": 1608,
    "start_time": "2022-05-02T07:42:24.692Z"
   },
   {
    "duration": 1537,
    "start_time": "2022-05-02T07:42:33.178Z"
   },
   {
    "duration": 32,
    "start_time": "2022-05-02T07:42:34.717Z"
   },
   {
    "duration": 11,
    "start_time": "2022-05-02T07:42:34.751Z"
   },
   {
    "duration": 5,
    "start_time": "2022-05-02T07:42:34.764Z"
   },
   {
    "duration": 92,
    "start_time": "2022-05-02T07:42:34.771Z"
   },
   {
    "duration": 7,
    "start_time": "2022-05-02T07:42:34.865Z"
   },
   {
    "duration": 8,
    "start_time": "2022-05-02T07:42:34.874Z"
   },
   {
    "duration": 72,
    "start_time": "2022-05-02T07:42:34.883Z"
   },
   {
    "duration": 14,
    "start_time": "2022-05-02T07:42:34.957Z"
   },
   {
    "duration": 1254,
    "start_time": "2022-05-02T07:42:34.974Z"
   },
   {
    "duration": 841,
    "start_time": "2022-05-02T07:42:36.230Z"
   },
   {
    "duration": 1358,
    "start_time": "2022-05-02T07:42:37.073Z"
   },
   {
    "duration": 9,
    "start_time": "2022-05-02T07:42:38.433Z"
   },
   {
    "duration": 40,
    "start_time": "2022-05-02T07:42:38.444Z"
   },
   {
    "duration": 871,
    "start_time": "2022-05-02T07:42:38.486Z"
   },
   {
    "duration": 8,
    "start_time": "2022-05-02T07:42:39.359Z"
   },
   {
    "duration": 38,
    "start_time": "2022-05-02T07:42:39.369Z"
   },
   {
    "duration": 20436,
    "start_time": "2022-05-02T07:42:39.408Z"
   },
   {
    "duration": 1404,
    "start_time": "2022-05-02T07:42:59.854Z"
   },
   {
    "duration": 14,
    "start_time": "2022-05-02T07:43:01.259Z"
   },
   {
    "duration": 1042,
    "start_time": "2022-05-02T07:43:01.275Z"
   },
   {
    "duration": 2564,
    "start_time": "2022-05-02T07:43:02.319Z"
   },
   {
    "duration": 19,
    "start_time": "2022-05-02T07:43:04.885Z"
   },
   {
    "duration": 1513,
    "start_time": "2022-05-02T07:43:15.618Z"
   },
   {
    "duration": 28,
    "start_time": "2022-05-02T07:43:17.134Z"
   },
   {
    "duration": 13,
    "start_time": "2022-05-02T07:43:17.164Z"
   },
   {
    "duration": 11,
    "start_time": "2022-05-02T07:43:17.179Z"
   },
   {
    "duration": 89,
    "start_time": "2022-05-02T07:43:17.193Z"
   },
   {
    "duration": 7,
    "start_time": "2022-05-02T07:43:17.284Z"
   },
   {
    "duration": 38,
    "start_time": "2022-05-02T07:43:17.293Z"
   },
   {
    "duration": 47,
    "start_time": "2022-05-02T07:43:17.333Z"
   },
   {
    "duration": 13,
    "start_time": "2022-05-02T07:43:17.382Z"
   },
   {
    "duration": 1216,
    "start_time": "2022-05-02T07:43:17.396Z"
   },
   {
    "duration": 1133,
    "start_time": "2022-05-02T07:43:18.614Z"
   },
   {
    "duration": 1398,
    "start_time": "2022-05-02T07:43:19.749Z"
   },
   {
    "duration": 8,
    "start_time": "2022-05-02T07:43:21.149Z"
   },
   {
    "duration": 31,
    "start_time": "2022-05-02T07:43:21.160Z"
   },
   {
    "duration": 837,
    "start_time": "2022-05-02T07:43:21.194Z"
   },
   {
    "duration": 9,
    "start_time": "2022-05-02T07:43:22.033Z"
   },
   {
    "duration": 13,
    "start_time": "2022-05-02T07:43:22.055Z"
   },
   {
    "duration": 27918,
    "start_time": "2022-05-02T07:43:22.070Z"
   },
   {
    "duration": 1369,
    "start_time": "2022-05-02T07:43:49.990Z"
   },
   {
    "duration": 19,
    "start_time": "2022-05-02T07:43:51.360Z"
   },
   {
    "duration": 1301,
    "start_time": "2022-05-02T07:43:51.381Z"
   },
   {
    "duration": 1826,
    "start_time": "2022-05-02T07:43:52.684Z"
   },
   {
    "duration": 19,
    "start_time": "2022-05-02T07:43:54.511Z"
   },
   {
    "duration": 114,
    "start_time": "2022-05-02T07:56:17.046Z"
   },
   {
    "duration": 15,
    "start_time": "2022-05-02T07:56:40.782Z"
   },
   {
    "duration": 7,
    "start_time": "2022-05-02T07:56:47.760Z"
   },
   {
    "duration": 76,
    "start_time": "2022-05-02T07:56:54.282Z"
   },
   {
    "duration": 668,
    "start_time": "2022-05-02T07:56:56.119Z"
   },
   {
    "duration": 8,
    "start_time": "2022-05-02T07:56:57.334Z"
   },
   {
    "duration": 8,
    "start_time": "2022-05-02T07:57:07.381Z"
   },
   {
    "duration": 18638,
    "start_time": "2022-05-02T07:57:09.159Z"
   },
   {
    "duration": 1711,
    "start_time": "2022-05-02T07:59:21.559Z"
   },
   {
    "duration": 13,
    "start_time": "2022-05-02T07:59:28.259Z"
   },
   {
    "duration": 1098,
    "start_time": "2022-05-02T07:59:36.986Z"
   },
   {
    "duration": 2467,
    "start_time": "2022-05-02T08:01:04.197Z"
   },
   {
    "duration": 1950,
    "start_time": "2022-05-02T08:01:15.878Z"
   },
   {
    "duration": 1403,
    "start_time": "2022-05-02T08:01:32.480Z"
   },
   {
    "duration": 1069,
    "start_time": "2022-05-02T08:01:52.619Z"
   },
   {
    "duration": 1540,
    "start_time": "2022-05-02T08:03:34.896Z"
   },
   {
    "duration": 28,
    "start_time": "2022-05-02T08:03:36.439Z"
   },
   {
    "duration": 12,
    "start_time": "2022-05-02T08:03:36.468Z"
   },
   {
    "duration": 4,
    "start_time": "2022-05-02T08:03:36.482Z"
   },
   {
    "duration": 88,
    "start_time": "2022-05-02T08:03:36.488Z"
   },
   {
    "duration": 6,
    "start_time": "2022-05-02T08:03:36.578Z"
   },
   {
    "duration": 7,
    "start_time": "2022-05-02T08:03:36.587Z"
   },
   {
    "duration": 77,
    "start_time": "2022-05-02T08:03:36.595Z"
   },
   {
    "duration": 13,
    "start_time": "2022-05-02T08:03:36.674Z"
   },
   {
    "duration": 1212,
    "start_time": "2022-05-02T08:03:36.689Z"
   },
   {
    "duration": 765,
    "start_time": "2022-05-02T08:03:37.902Z"
   },
   {
    "duration": 1890,
    "start_time": "2022-05-02T08:03:38.669Z"
   },
   {
    "duration": 9,
    "start_time": "2022-05-02T08:03:40.561Z"
   },
   {
    "duration": 88,
    "start_time": "2022-05-02T08:03:40.573Z"
   },
   {
    "duration": 1070,
    "start_time": "2022-05-02T08:03:40.663Z"
   },
   {
    "duration": 10,
    "start_time": "2022-05-02T08:03:41.735Z"
   },
   {
    "duration": 14,
    "start_time": "2022-05-02T08:03:41.755Z"
   },
   {
    "duration": 25522,
    "start_time": "2022-05-02T08:03:41.771Z"
   },
   {
    "duration": 1379,
    "start_time": "2022-05-02T08:04:07.295Z"
   },
   {
    "duration": 18,
    "start_time": "2022-05-02T08:04:08.756Z"
   },
   {
    "duration": 1576,
    "start_time": "2022-05-02T08:04:08.778Z"
   },
   {
    "duration": 2002,
    "start_time": "2022-05-02T08:04:10.357Z"
   },
   {
    "duration": 15,
    "start_time": "2022-05-02T08:04:12.362Z"
   },
   {
    "duration": 695,
    "start_time": "2022-05-02T08:05:08.362Z"
   },
   {
    "duration": 1673,
    "start_time": "2022-05-02T08:05:17.576Z"
   },
   {
    "duration": 37,
    "start_time": "2022-05-02T08:05:19.251Z"
   },
   {
    "duration": 15,
    "start_time": "2022-05-02T08:05:19.290Z"
   },
   {
    "duration": 5,
    "start_time": "2022-05-02T08:05:19.307Z"
   },
   {
    "duration": 85,
    "start_time": "2022-05-02T08:05:19.313Z"
   },
   {
    "duration": 9,
    "start_time": "2022-05-02T08:05:19.399Z"
   },
   {
    "duration": 10,
    "start_time": "2022-05-02T08:05:19.455Z"
   },
   {
    "duration": 53,
    "start_time": "2022-05-02T08:05:19.467Z"
   },
   {
    "duration": 14,
    "start_time": "2022-05-02T08:05:19.522Z"
   },
   {
    "duration": 1377,
    "start_time": "2022-05-02T08:05:19.554Z"
   },
   {
    "duration": 1258,
    "start_time": "2022-05-02T08:05:20.933Z"
   },
   {
    "duration": 1446,
    "start_time": "2022-05-02T08:05:22.193Z"
   },
   {
    "duration": 7,
    "start_time": "2022-05-02T08:05:23.641Z"
   },
   {
    "duration": 53,
    "start_time": "2022-05-02T08:05:23.650Z"
   },
   {
    "duration": 770,
    "start_time": "2022-05-02T08:05:23.754Z"
   },
   {
    "duration": 8,
    "start_time": "2022-05-02T08:05:24.526Z"
   },
   {
    "duration": 22,
    "start_time": "2022-05-02T08:05:24.536Z"
   },
   {
    "duration": 28597,
    "start_time": "2022-05-02T08:05:24.560Z"
   },
   {
    "duration": 1197,
    "start_time": "2022-05-02T08:05:53.159Z"
   },
   {
    "duration": 15,
    "start_time": "2022-05-02T08:05:54.358Z"
   },
   {
    "duration": 1125,
    "start_time": "2022-05-02T08:05:54.374Z"
   },
   {
    "duration": 1921,
    "start_time": "2022-05-02T08:05:55.502Z"
   },
   {
    "duration": 31,
    "start_time": "2022-05-02T08:05:57.425Z"
   },
   {
    "duration": 125,
    "start_time": "2022-05-02T08:29:52.479Z"
   },
   {
    "duration": 13,
    "start_time": "2022-05-02T08:29:58.638Z"
   },
   {
    "duration": 20,
    "start_time": "2022-05-02T08:30:17.687Z"
   },
   {
    "duration": 1835,
    "start_time": "2022-05-02T08:31:12.414Z"
   },
   {
    "duration": 41,
    "start_time": "2022-05-02T08:31:14.251Z"
   },
   {
    "duration": 14,
    "start_time": "2022-05-02T08:31:14.294Z"
   },
   {
    "duration": 9,
    "start_time": "2022-05-02T08:31:14.310Z"
   },
   {
    "duration": 78,
    "start_time": "2022-05-02T08:31:14.321Z"
   },
   {
    "duration": 59,
    "start_time": "2022-05-02T08:31:14.400Z"
   },
   {
    "duration": 12,
    "start_time": "2022-05-02T08:31:14.461Z"
   },
   {
    "duration": 56,
    "start_time": "2022-05-02T08:31:14.474Z"
   },
   {
    "duration": 25,
    "start_time": "2022-05-02T08:31:14.532Z"
   },
   {
    "duration": 1290,
    "start_time": "2022-05-02T08:31:14.560Z"
   },
   {
    "duration": 964,
    "start_time": "2022-05-02T08:31:15.855Z"
   },
   {
    "duration": 1529,
    "start_time": "2022-05-02T08:31:16.822Z"
   },
   {
    "duration": 8,
    "start_time": "2022-05-02T08:31:18.353Z"
   },
   {
    "duration": 105,
    "start_time": "2022-05-02T08:31:18.363Z"
   },
   {
    "duration": 1079,
    "start_time": "2022-05-02T08:31:18.470Z"
   },
   {
    "duration": 9,
    "start_time": "2022-05-02T08:31:19.550Z"
   },
   {
    "duration": 15,
    "start_time": "2022-05-02T08:31:19.561Z"
   },
   {
    "duration": 24630,
    "start_time": "2022-05-02T08:31:19.578Z"
   },
   {
    "duration": 1053,
    "start_time": "2022-05-02T08:31:44.210Z"
   },
   {
    "duration": 17,
    "start_time": "2022-05-02T08:31:45.268Z"
   },
   {
    "duration": 1513,
    "start_time": "2022-05-02T08:31:45.287Z"
   },
   {
    "duration": 2707,
    "start_time": "2022-05-02T08:31:46.803Z"
   },
   {
    "duration": 20,
    "start_time": "2022-05-02T08:31:49.512Z"
   },
   {
    "duration": 125,
    "start_time": "2022-05-02T08:45:53.700Z"
   },
   {
    "duration": 7,
    "start_time": "2022-05-02T08:46:04.711Z"
   },
   {
    "duration": 18,
    "start_time": "2022-05-02T08:46:53.592Z"
   },
   {
    "duration": 19,
    "start_time": "2022-05-02T08:47:09.692Z"
   },
   {
    "duration": 1740,
    "start_time": "2022-05-02T08:47:29.219Z"
   },
   {
    "duration": 31,
    "start_time": "2022-05-02T08:47:30.962Z"
   },
   {
    "duration": 13,
    "start_time": "2022-05-02T08:47:30.997Z"
   },
   {
    "duration": 9,
    "start_time": "2022-05-02T08:47:31.012Z"
   },
   {
    "duration": 79,
    "start_time": "2022-05-02T08:47:31.023Z"
   },
   {
    "duration": 53,
    "start_time": "2022-05-02T08:47:31.104Z"
   },
   {
    "duration": 10,
    "start_time": "2022-05-02T08:47:31.159Z"
   },
   {
    "duration": 121,
    "start_time": "2022-05-02T08:47:31.171Z"
   },
   {
    "duration": 14,
    "start_time": "2022-05-02T08:47:31.294Z"
   },
   {
    "duration": 1279,
    "start_time": "2022-05-02T08:47:31.309Z"
   },
   {
    "duration": 772,
    "start_time": "2022-05-02T08:47:32.589Z"
   },
   {
    "duration": 1328,
    "start_time": "2022-05-02T08:47:33.363Z"
   },
   {
    "duration": 7,
    "start_time": "2022-05-02T08:47:34.694Z"
   },
   {
    "duration": 57,
    "start_time": "2022-05-02T08:47:34.703Z"
   },
   {
    "duration": 785,
    "start_time": "2022-05-02T08:47:34.764Z"
   },
   {
    "duration": 8,
    "start_time": "2022-05-02T08:47:35.551Z"
   },
   {
    "duration": 13,
    "start_time": "2022-05-02T08:47:35.560Z"
   },
   {
    "duration": 20768,
    "start_time": "2022-05-02T08:47:35.575Z"
   },
   {
    "duration": 1215,
    "start_time": "2022-05-02T08:47:56.344Z"
   },
   {
    "duration": 21,
    "start_time": "2022-05-02T08:47:57.561Z"
   },
   {
    "duration": 1221,
    "start_time": "2022-05-02T08:47:57.584Z"
   },
   {
    "duration": 2104,
    "start_time": "2022-05-02T08:47:58.807Z"
   },
   {
    "duration": 16,
    "start_time": "2022-05-02T08:48:00.913Z"
   },
   {
    "duration": 994,
    "start_time": "2022-05-02T12:05:30.132Z"
   },
   {
    "duration": 2479,
    "start_time": "2022-05-02T12:05:47.654Z"
   },
   {
    "duration": 17,
    "start_time": "2022-05-02T12:09:41.666Z"
   },
   {
    "duration": 20,
    "start_time": "2022-05-02T12:10:41.372Z"
   },
   {
    "duration": 15,
    "start_time": "2022-05-02T12:11:45.195Z"
   },
   {
    "duration": 16,
    "start_time": "2022-05-02T12:11:53.275Z"
   },
   {
    "duration": 1085,
    "start_time": "2022-05-02T12:28:54.469Z"
   },
   {
    "duration": 106,
    "start_time": "2022-05-02T12:59:35.342Z"
   },
   {
    "duration": 130,
    "start_time": "2022-05-02T12:59:40.434Z"
   },
   {
    "duration": 13,
    "start_time": "2022-05-02T13:00:40.455Z"
   },
   {
    "duration": 11,
    "start_time": "2022-05-02T13:01:04.471Z"
   },
   {
    "duration": 5,
    "start_time": "2022-05-02T13:01:15.830Z"
   },
   {
    "duration": 1819,
    "start_time": "2022-05-02T13:01:35.204Z"
   },
   {
    "duration": 32,
    "start_time": "2022-05-02T13:01:37.025Z"
   },
   {
    "duration": 11,
    "start_time": "2022-05-02T13:01:37.059Z"
   },
   {
    "duration": 5,
    "start_time": "2022-05-02T13:01:37.073Z"
   },
   {
    "duration": 100,
    "start_time": "2022-05-02T13:01:37.080Z"
   },
   {
    "duration": 9,
    "start_time": "2022-05-02T13:01:37.183Z"
   },
   {
    "duration": 8,
    "start_time": "2022-05-02T13:01:37.194Z"
   },
   {
    "duration": 77,
    "start_time": "2022-05-02T13:01:37.204Z"
   },
   {
    "duration": 16,
    "start_time": "2022-05-02T13:01:37.283Z"
   },
   {
    "duration": 1708,
    "start_time": "2022-05-02T13:01:37.302Z"
   },
   {
    "duration": 955,
    "start_time": "2022-05-02T13:01:39.012Z"
   },
   {
    "duration": 1478,
    "start_time": "2022-05-02T13:01:39.969Z"
   },
   {
    "duration": 9,
    "start_time": "2022-05-02T13:01:41.450Z"
   },
   {
    "duration": 109,
    "start_time": "2022-05-02T13:01:41.461Z"
   },
   {
    "duration": 827,
    "start_time": "2022-05-02T13:01:41.574Z"
   },
   {
    "duration": 8,
    "start_time": "2022-05-02T13:01:42.403Z"
   },
   {
    "duration": 37,
    "start_time": "2022-05-02T13:01:42.413Z"
   },
   {
    "duration": 21324,
    "start_time": "2022-05-02T13:01:42.452Z"
   },
   {
    "duration": 1786,
    "start_time": "2022-05-02T13:02:03.777Z"
   },
   {
    "duration": 15,
    "start_time": "2022-05-02T13:02:05.565Z"
   },
   {
    "duration": 134,
    "start_time": "2022-05-02T13:02:05.581Z"
   },
   {
    "duration": 0,
    "start_time": "2022-05-02T13:02:05.717Z"
   },
   {
    "duration": 0,
    "start_time": "2022-05-02T13:02:05.718Z"
   },
   {
    "duration": 856,
    "start_time": "2022-05-02T13:02:23.853Z"
   },
   {
    "duration": 2021,
    "start_time": "2022-05-02T13:03:39.514Z"
   },
   {
    "duration": 14,
    "start_time": "2022-05-02T13:18:57.174Z"
   },
   {
    "duration": 21,
    "start_time": "2022-05-02T13:54:51.652Z"
   },
   {
    "duration": 116,
    "start_time": "2022-05-02T14:58:21.689Z"
   },
   {
    "duration": 230,
    "start_time": "2022-05-02T14:58:30.462Z"
   },
   {
    "duration": 2758,
    "start_time": "2022-05-02T14:59:21.296Z"
   },
   {
    "duration": 2596,
    "start_time": "2022-05-02T14:59:56.700Z"
   },
   {
    "duration": 2804,
    "start_time": "2022-05-02T15:00:42.263Z"
   },
   {
    "duration": 2910,
    "start_time": "2022-05-02T15:02:51.444Z"
   },
   {
    "duration": 2075,
    "start_time": "2022-05-02T15:03:17.002Z"
   },
   {
    "duration": 2016,
    "start_time": "2022-05-02T15:03:31.212Z"
   },
   {
    "duration": 1878,
    "start_time": "2022-05-02T15:03:48.134Z"
   },
   {
    "duration": 1761,
    "start_time": "2022-05-02T15:04:31.130Z"
   },
   {
    "duration": 1940,
    "start_time": "2022-05-02T15:05:56.438Z"
   },
   {
    "duration": 217,
    "start_time": "2022-05-02T15:06:27.129Z"
   },
   {
    "duration": 1985,
    "start_time": "2022-05-02T15:06:35.016Z"
   },
   {
    "duration": 340,
    "start_time": "2022-05-02T15:08:40.655Z"
   },
   {
    "duration": 237,
    "start_time": "2022-05-02T15:08:54.756Z"
   },
   {
    "duration": 256,
    "start_time": "2022-05-02T15:09:56.415Z"
   },
   {
    "duration": 221,
    "start_time": "2022-05-02T15:10:38.594Z"
   },
   {
    "duration": 318,
    "start_time": "2022-05-02T15:12:01.883Z"
   },
   {
    "duration": 225,
    "start_time": "2022-05-02T15:13:18.315Z"
   },
   {
    "duration": 3109,
    "start_time": "2022-05-02T15:13:35.405Z"
   },
   {
    "duration": 3001,
    "start_time": "2022-05-02T15:14:31.345Z"
   },
   {
    "duration": 324,
    "start_time": "2022-05-02T15:18:04.082Z"
   },
   {
    "duration": 2627,
    "start_time": "2022-05-02T15:18:49.477Z"
   },
   {
    "duration": 1937,
    "start_time": "2022-05-02T15:19:56.177Z"
   },
   {
    "duration": 2361,
    "start_time": "2022-05-02T15:23:18.695Z"
   },
   {
    "duration": 2165,
    "start_time": "2022-05-02T15:25:40.024Z"
   },
   {
    "duration": 2975,
    "start_time": "2022-05-02T15:27:30.704Z"
   },
   {
    "duration": 2191,
    "start_time": "2022-05-02T15:27:40.090Z"
   },
   {
    "duration": 2250,
    "start_time": "2022-05-02T15:27:52.763Z"
   },
   {
    "duration": 2192,
    "start_time": "2022-05-02T15:28:00.571Z"
   },
   {
    "duration": 2404,
    "start_time": "2022-05-02T15:28:10.081Z"
   },
   {
    "duration": 2174,
    "start_time": "2022-05-02T15:28:20.335Z"
   },
   {
    "duration": 3018,
    "start_time": "2022-05-02T15:33:00.096Z"
   },
   {
    "duration": 2090,
    "start_time": "2022-05-02T15:33:58.930Z"
   },
   {
    "duration": 2236,
    "start_time": "2022-05-02T15:35:01.501Z"
   },
   {
    "duration": 1950,
    "start_time": "2022-05-02T15:35:32.867Z"
   },
   {
    "duration": 1960,
    "start_time": "2022-05-02T17:43:32.170Z"
   },
   {
    "duration": 28,
    "start_time": "2022-05-02T17:43:34.133Z"
   },
   {
    "duration": 12,
    "start_time": "2022-05-02T17:43:34.163Z"
   },
   {
    "duration": 8,
    "start_time": "2022-05-02T17:43:34.177Z"
   },
   {
    "duration": 68,
    "start_time": "2022-05-02T17:43:34.186Z"
   },
   {
    "duration": 8,
    "start_time": "2022-05-02T17:43:34.255Z"
   },
   {
    "duration": 9,
    "start_time": "2022-05-02T17:43:34.264Z"
   },
   {
    "duration": 102,
    "start_time": "2022-05-02T17:43:34.275Z"
   },
   {
    "duration": 17,
    "start_time": "2022-05-02T17:43:34.379Z"
   },
   {
    "duration": 399,
    "start_time": "2022-05-02T17:43:34.399Z"
   },
   {
    "duration": 0,
    "start_time": "2022-05-02T17:43:34.800Z"
   },
   {
    "duration": 0,
    "start_time": "2022-05-02T17:43:34.801Z"
   },
   {
    "duration": 0,
    "start_time": "2022-05-02T17:43:34.802Z"
   },
   {
    "duration": 0,
    "start_time": "2022-05-02T17:43:34.804Z"
   },
   {
    "duration": 0,
    "start_time": "2022-05-02T17:43:34.805Z"
   },
   {
    "duration": 0,
    "start_time": "2022-05-02T17:43:34.806Z"
   },
   {
    "duration": 0,
    "start_time": "2022-05-02T17:43:34.807Z"
   },
   {
    "duration": 0,
    "start_time": "2022-05-02T17:43:34.824Z"
   },
   {
    "duration": 0,
    "start_time": "2022-05-02T17:43:34.825Z"
   },
   {
    "duration": 0,
    "start_time": "2022-05-02T17:43:34.826Z"
   },
   {
    "duration": 0,
    "start_time": "2022-05-02T17:43:34.827Z"
   },
   {
    "duration": 0,
    "start_time": "2022-05-02T17:43:34.829Z"
   },
   {
    "duration": 0,
    "start_time": "2022-05-02T17:43:34.830Z"
   },
   {
    "duration": 1193,
    "start_time": "2022-05-02T17:44:02.763Z"
   },
   {
    "duration": 1720,
    "start_time": "2022-05-02T17:44:37.740Z"
   },
   {
    "duration": 26,
    "start_time": "2022-05-02T17:44:39.463Z"
   },
   {
    "duration": 11,
    "start_time": "2022-05-02T17:44:39.491Z"
   },
   {
    "duration": 4,
    "start_time": "2022-05-02T17:44:39.504Z"
   },
   {
    "duration": 53,
    "start_time": "2022-05-02T17:44:39.509Z"
   },
   {
    "duration": 6,
    "start_time": "2022-05-02T17:44:39.564Z"
   },
   {
    "duration": 53,
    "start_time": "2022-05-02T17:44:39.571Z"
   },
   {
    "duration": 47,
    "start_time": "2022-05-02T17:44:39.626Z"
   },
   {
    "duration": 18,
    "start_time": "2022-05-02T17:44:39.674Z"
   },
   {
    "duration": 1678,
    "start_time": "2022-05-02T17:44:39.695Z"
   },
   {
    "duration": 1207,
    "start_time": "2022-05-02T17:44:41.375Z"
   },
   {
    "duration": 1812,
    "start_time": "2022-05-02T17:44:42.584Z"
   },
   {
    "duration": 8,
    "start_time": "2022-05-02T17:44:44.398Z"
   },
   {
    "duration": 119,
    "start_time": "2022-05-02T17:44:44.408Z"
   },
   {
    "duration": 981,
    "start_time": "2022-05-02T17:44:44.530Z"
   },
   {
    "duration": 13,
    "start_time": "2022-05-02T17:44:45.513Z"
   },
   {
    "duration": 13,
    "start_time": "2022-05-02T17:44:45.528Z"
   },
   {
    "duration": 27427,
    "start_time": "2022-05-02T17:44:45.542Z"
   },
   {
    "duration": 1961,
    "start_time": "2022-05-02T17:45:12.971Z"
   },
   {
    "duration": 19,
    "start_time": "2022-05-02T17:45:14.934Z"
   },
   {
    "duration": 1526,
    "start_time": "2022-05-02T17:45:14.955Z"
   },
   {
    "duration": 1732,
    "start_time": "2022-05-02T17:45:16.484Z"
   },
   {
    "duration": 17,
    "start_time": "2022-05-02T17:45:18.218Z"
   },
   {
    "duration": 49,
    "start_time": "2022-05-04T08:58:44.368Z"
   },
   {
    "duration": 7,
    "start_time": "2022-05-04T08:59:05.620Z"
   },
   {
    "duration": 1588,
    "start_time": "2022-05-04T08:59:16.869Z"
   },
   {
    "duration": 27,
    "start_time": "2022-05-04T08:59:18.459Z"
   },
   {
    "duration": 12,
    "start_time": "2022-05-04T08:59:18.487Z"
   },
   {
    "duration": 4,
    "start_time": "2022-05-04T08:59:18.500Z"
   },
   {
    "duration": 58,
    "start_time": "2022-05-04T08:59:18.507Z"
   },
   {
    "duration": 62,
    "start_time": "2022-05-04T08:59:18.567Z"
   },
   {
    "duration": 9,
    "start_time": "2022-05-04T08:59:18.631Z"
   },
   {
    "duration": 39,
    "start_time": "2022-05-04T08:59:18.641Z"
   },
   {
    "duration": 42,
    "start_time": "2022-05-04T08:59:18.682Z"
   },
   {
    "duration": 1237,
    "start_time": "2022-05-04T08:59:18.726Z"
   },
   {
    "duration": 801,
    "start_time": "2022-05-04T08:59:19.965Z"
   },
   {
    "duration": 1399,
    "start_time": "2022-05-04T08:59:20.768Z"
   },
   {
    "duration": 8,
    "start_time": "2022-05-04T08:59:22.169Z"
   },
   {
    "duration": 52,
    "start_time": "2022-05-04T08:59:22.180Z"
   },
   {
    "duration": 539,
    "start_time": "2022-05-04T08:59:22.234Z"
   },
   {
    "duration": 8,
    "start_time": "2022-05-04T08:59:22.774Z"
   },
   {
    "duration": 10,
    "start_time": "2022-05-04T08:59:22.784Z"
   },
   {
    "duration": 19423,
    "start_time": "2022-05-04T08:59:22.795Z"
   },
   {
    "duration": 1201,
    "start_time": "2022-05-04T08:59:42.223Z"
   },
   {
    "duration": 16,
    "start_time": "2022-05-04T08:59:43.426Z"
   },
   {
    "duration": 1040,
    "start_time": "2022-05-04T08:59:43.443Z"
   },
   {
    "duration": 1849,
    "start_time": "2022-05-04T08:59:44.484Z"
   },
   {
    "duration": 15,
    "start_time": "2022-05-04T08:59:46.335Z"
   },
   {
    "duration": 1762,
    "start_time": "2022-05-04T09:00:48.844Z"
   },
   {
    "duration": 28,
    "start_time": "2022-05-04T09:00:50.608Z"
   },
   {
    "duration": 12,
    "start_time": "2022-05-04T09:00:50.638Z"
   },
   {
    "duration": 5,
    "start_time": "2022-05-04T09:00:50.652Z"
   },
   {
    "duration": 86,
    "start_time": "2022-05-04T09:00:50.659Z"
   },
   {
    "duration": 7,
    "start_time": "2022-05-04T09:00:50.747Z"
   },
   {
    "duration": 10,
    "start_time": "2022-05-04T09:00:50.755Z"
   },
   {
    "duration": 84,
    "start_time": "2022-05-04T09:00:50.767Z"
   },
   {
    "duration": 13,
    "start_time": "2022-05-04T09:00:50.853Z"
   },
   {
    "duration": 1314,
    "start_time": "2022-05-04T09:00:50.867Z"
   },
   {
    "duration": 831,
    "start_time": "2022-05-04T09:00:52.183Z"
   },
   {
    "duration": 1332,
    "start_time": "2022-05-04T09:00:53.015Z"
   },
   {
    "duration": 7,
    "start_time": "2022-05-04T09:00:54.349Z"
   },
   {
    "duration": 34,
    "start_time": "2022-05-04T09:00:54.360Z"
   },
   {
    "duration": 834,
    "start_time": "2022-05-04T09:00:54.397Z"
   },
   {
    "duration": 11,
    "start_time": "2022-05-04T09:00:55.233Z"
   },
   {
    "duration": 17,
    "start_time": "2022-05-04T09:00:55.245Z"
   },
   {
    "duration": 19525,
    "start_time": "2022-05-04T09:00:55.264Z"
   },
   {
    "duration": 1236,
    "start_time": "2022-05-04T09:01:14.791Z"
   },
   {
    "duration": 104,
    "start_time": "2022-05-04T09:01:16.029Z"
   },
   {
    "duration": 1096,
    "start_time": "2022-05-04T09:01:16.136Z"
   },
   {
    "duration": 1684,
    "start_time": "2022-05-04T09:01:17.234Z"
   },
   {
    "duration": 13,
    "start_time": "2022-05-04T09:01:18.920Z"
   },
   {
    "duration": 801,
    "start_time": "2022-05-04T09:03:34.624Z"
   },
   {
    "duration": 14,
    "start_time": "2022-05-04T09:03:52.924Z"
   },
   {
    "duration": 2,
    "start_time": "2022-05-04T09:06:50.524Z"
   },
   {
    "duration": 101,
    "start_time": "2022-05-04T09:06:53.943Z"
   },
   {
    "duration": 5,
    "start_time": "2022-05-04T09:06:59.303Z"
   },
   {
    "duration": 862,
    "start_time": "2022-05-04T09:07:36.624Z"
   },
   {
    "duration": 2273,
    "start_time": "2022-05-04T16:24:29.410Z"
   },
   {
    "duration": 2072,
    "start_time": "2022-05-04T16:24:54.713Z"
   },
   {
    "duration": 30,
    "start_time": "2022-05-04T16:24:56.788Z"
   },
   {
    "duration": 15,
    "start_time": "2022-05-04T16:24:56.820Z"
   },
   {
    "duration": 5,
    "start_time": "2022-05-04T16:24:56.838Z"
   },
   {
    "duration": 102,
    "start_time": "2022-05-04T16:24:56.846Z"
   },
   {
    "duration": 10,
    "start_time": "2022-05-04T16:24:56.994Z"
   },
   {
    "duration": 13,
    "start_time": "2022-05-04T16:24:57.006Z"
   },
   {
    "duration": 77,
    "start_time": "2022-05-04T16:24:57.021Z"
   },
   {
    "duration": 15,
    "start_time": "2022-05-04T16:24:57.101Z"
   },
   {
    "duration": 1508,
    "start_time": "2022-05-04T16:24:57.119Z"
   },
   {
    "duration": 1042,
    "start_time": "2022-05-04T16:24:58.630Z"
   },
   {
    "duration": 1746,
    "start_time": "2022-05-04T16:24:59.675Z"
   },
   {
    "duration": 9,
    "start_time": "2022-05-04T16:25:01.424Z"
   },
   {
    "duration": 38,
    "start_time": "2022-05-04T16:25:01.436Z"
   },
   {
    "duration": 627,
    "start_time": "2022-05-04T16:25:01.476Z"
   },
   {
    "duration": 12,
    "start_time": "2022-05-04T16:25:02.105Z"
   },
   {
    "duration": 14,
    "start_time": "2022-05-04T16:25:02.119Z"
   },
   {
    "duration": 27098,
    "start_time": "2022-05-04T16:25:02.135Z"
   },
   {
    "duration": 1663,
    "start_time": "2022-05-04T16:25:29.235Z"
   },
   {
    "duration": 18,
    "start_time": "2022-05-04T16:25:30.900Z"
   },
   {
    "duration": 1190,
    "start_time": "2022-05-04T16:25:30.920Z"
   },
   {
    "duration": 2608,
    "start_time": "2022-05-04T16:25:32.112Z"
   },
   {
    "duration": 23,
    "start_time": "2022-05-04T16:25:34.722Z"
   },
   {
    "duration": 1648,
    "start_time": "2022-05-04T16:31:05.189Z"
   },
   {
    "duration": 37,
    "start_time": "2022-05-04T16:31:06.839Z"
   },
   {
    "duration": 21,
    "start_time": "2022-05-04T16:31:06.878Z"
   },
   {
    "duration": 6,
    "start_time": "2022-05-04T16:31:06.902Z"
   },
   {
    "duration": 102,
    "start_time": "2022-05-04T16:31:06.910Z"
   },
   {
    "duration": 8,
    "start_time": "2022-05-04T16:31:07.014Z"
   },
   {
    "duration": 8,
    "start_time": "2022-05-04T16:31:07.024Z"
   },
   {
    "duration": 82,
    "start_time": "2022-05-04T16:31:07.034Z"
   },
   {
    "duration": 16,
    "start_time": "2022-05-04T16:31:07.118Z"
   },
   {
    "duration": 2098,
    "start_time": "2022-05-04T16:31:07.137Z"
   },
   {
    "duration": 943,
    "start_time": "2022-05-04T16:31:09.239Z"
   },
   {
    "duration": 1454,
    "start_time": "2022-05-04T16:31:10.183Z"
   },
   {
    "duration": 7,
    "start_time": "2022-05-04T16:31:11.639Z"
   },
   {
    "duration": 32,
    "start_time": "2022-05-04T16:31:11.648Z"
   },
   {
    "duration": 636,
    "start_time": "2022-05-04T16:31:11.682Z"
   },
   {
    "duration": 9,
    "start_time": "2022-05-04T16:31:12.320Z"
   },
   {
    "duration": 33,
    "start_time": "2022-05-04T16:31:12.331Z"
   },
   {
    "duration": 31407,
    "start_time": "2022-05-04T16:31:12.366Z"
   },
   {
    "duration": 1929,
    "start_time": "2022-05-04T16:31:43.776Z"
   },
   {
    "duration": 17,
    "start_time": "2022-05-04T16:31:45.708Z"
   },
   {
    "duration": 1421,
    "start_time": "2022-05-04T16:31:45.727Z"
   },
   {
    "duration": 2899,
    "start_time": "2022-05-04T16:31:47.150Z"
   },
   {
    "duration": 16,
    "start_time": "2022-05-04T16:31:50.051Z"
   },
   {
    "duration": 7,
    "start_time": "2022-05-04T16:40:45.752Z"
   },
   {
    "duration": 6,
    "start_time": "2022-05-04T16:41:06.475Z"
   },
   {
    "duration": 878,
    "start_time": "2022-05-04T16:47:57.646Z"
   },
   {
    "duration": 1720,
    "start_time": "2022-05-04T17:04:01.922Z"
   },
   {
    "duration": 28,
    "start_time": "2022-05-04T17:04:03.645Z"
   },
   {
    "duration": 12,
    "start_time": "2022-05-04T17:04:03.675Z"
   },
   {
    "duration": 4,
    "start_time": "2022-05-04T17:04:03.693Z"
   },
   {
    "duration": 96,
    "start_time": "2022-05-04T17:04:03.699Z"
   },
   {
    "duration": 7,
    "start_time": "2022-05-04T17:04:03.797Z"
   },
   {
    "duration": 11,
    "start_time": "2022-05-04T17:04:03.805Z"
   },
   {
    "duration": 38,
    "start_time": "2022-05-04T17:04:03.818Z"
   },
   {
    "duration": 41,
    "start_time": "2022-05-04T17:04:03.858Z"
   },
   {
    "duration": 1311,
    "start_time": "2022-05-04T17:04:03.902Z"
   },
   {
    "duration": 911,
    "start_time": "2022-05-04T17:04:05.215Z"
   },
   {
    "duration": 1505,
    "start_time": "2022-05-04T17:04:06.128Z"
   },
   {
    "duration": 9,
    "start_time": "2022-05-04T17:04:07.636Z"
   },
   {
    "duration": 53,
    "start_time": "2022-05-04T17:04:07.648Z"
   },
   {
    "duration": 600,
    "start_time": "2022-05-04T17:04:07.703Z"
   },
   {
    "duration": 8,
    "start_time": "2022-05-04T17:04:08.305Z"
   },
   {
    "duration": 36,
    "start_time": "2022-05-04T17:04:08.315Z"
   },
   {
    "duration": 22168,
    "start_time": "2022-05-04T17:04:08.352Z"
   },
   {
    "duration": 1475,
    "start_time": "2022-05-04T17:04:30.522Z"
   },
   {
    "duration": 104,
    "start_time": "2022-05-04T17:04:32.002Z"
   },
   {
    "duration": 1213,
    "start_time": "2022-05-04T17:04:32.108Z"
   },
   {
    "duration": 1872,
    "start_time": "2022-05-04T17:04:33.323Z"
   },
   {
    "duration": 14,
    "start_time": "2022-05-04T17:04:35.197Z"
   },
   {
    "duration": 14,
    "start_time": "2022-05-10T13:57:48.669Z"
   }
  ],
  "kernelspec": {
   "display_name": "Python 3 (ipykernel)",
   "language": "python",
   "name": "python3"
  },
  "language_info": {
   "codemirror_mode": {
    "name": "ipython",
    "version": 3
   },
   "file_extension": ".py",
   "mimetype": "text/x-python",
   "name": "python",
   "nbconvert_exporter": "python",
   "pygments_lexer": "ipython3",
   "version": "3.9.12"
  },
  "toc": {
   "base_numbering": 1,
   "nav_menu": {},
   "number_sections": true,
   "sideBar": true,
   "skip_h1_title": true,
   "title_cell": "Table of Contents",
   "title_sidebar": "Contents",
   "toc_cell": false,
   "toc_position": {},
   "toc_section_display": true,
   "toc_window_display": false
  }
 },
 "nbformat": 4,
 "nbformat_minor": 4
}
